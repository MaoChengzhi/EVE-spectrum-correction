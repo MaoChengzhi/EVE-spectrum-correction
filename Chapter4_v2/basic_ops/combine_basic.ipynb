{
 "cells": [
  {
   "cell_type": "code",
   "execution_count": 2,
   "metadata": {},
   "outputs": [],
   "source": [
    "from aia_ops.aia_simu import get_aia_simu\n",
    "\n",
    "\n",
    "import numpy as np\n",
    "import cupy as cp\n",
    "import cupyx.scipy.signal as signal\n",
    "import scipy\n",
    "from scipy.optimize import curve_fit\n",
    "import pandas as pd\n",
    "\n",
    "import matplotlib.pyplot as plt\n",
    "import plotly.express as px\n",
    "import plotly.graph_objs as go\n",
    "from plotly.subplots import make_subplots\n",
    "\n",
    "from astropy.modeling import models, fitting\n",
    "import astropy.units as u\n",
    "from astropy import constants as const\n",
    "from astropy.stats import gaussian_sigma_to_fwhm,gaussian_fwhm_to_sigma\n",
    "\n",
    "import datetime\n",
    "import pickle\n",
    "import importlib\n",
    "import json\n",
    "import time\n",
    "import glob"
   ]
  },
  {
   "cell_type": "code",
   "execution_count": 2,
   "metadata": {},
   "outputs": [],
   "source": [
    "with open('aia_ops\\data\\\\aia.pkl','rb' ) as f:\n",
    "    aia_data_df=pickle.load(f)\n",
    "\n",
    "with open('eve_ops/data/daily_df.pkl','rb' ) as f:\n",
    "    eve_data_df=pickle.load(f)\n",
    "\n",
    "eve_data_df.reset_index(inplace=True)"
   ]
  },
  {
   "cell_type": "code",
   "execution_count": 17,
   "metadata": {},
   "outputs": [
    {
     "data": {
      "text/plain": [
       "datetime.date(2010, 6, 1)"
      ]
     },
     "execution_count": 17,
     "metadata": {},
     "output_type": "execute_result"
    }
   ],
   "source": [
    "aia_data_df.iloc[0]['time'].date()"
   ]
  },
  {
   "cell_type": "code",
   "execution_count": 4,
   "metadata": {},
   "outputs": [
    {
     "data": {
      "text/plain": [
       "<module 'aia_ops.aia_simu' from 'D:\\\\py_repo\\\\EVE-spectrum-correction\\\\Chapter4_v2\\\\basic_ops\\\\aia_ops\\\\aia_simu.py'>"
      ]
     },
     "execution_count": 4,
     "metadata": {},
     "output_type": "execute_result"
    }
   ],
   "source": []
  },
  {
   "cell_type": "code",
   "execution_count": 14,
   "metadata": {
    "jupyter": {
     "source_hidden": true
    },
    "tags": []
   },
   "outputs": [],
   "source": [
    "t0=pd.to_datetime('2012-06-09 00:00:00')\n",
    "t1=pd.to_datetime('2013-01-25 00:00:00')\n",
    "aia_df=aia_ops.aia_simu.get_aia_simu(aia_data_df,t0,t1)\n",
    "aia_df.set_index('time',inplace=True)\n",
    "eve_df=eve_data_df[(eve_data_df['time']>=t0)&(eve_data_df['time']<=t1)].reset_index(drop=True)\n",
    "eve_df.set_index('time',inplace=True)"
   ]
  },
  {
   "cell_type": "code",
   "execution_count": 225,
   "metadata": {},
   "outputs": [],
   "source": [
    "def plot(aia_df,eve_df):\n",
    "    fig = make_subplots(rows=3, cols=1, shared_xaxes=True, vertical_spacing=.011)\n",
    "\n",
    "    valid_day=np.where(eve_df['available_data']>=np.nanmean(eve_df['available_data'])*0.2,1,np.nan)\n",
    "    x = eve_df.index\n",
    "    y_median = eve_df['median_of_mean']*valid_day\n",
    "    y_stddev = eve_df['stddev_of_mean']\n",
    "    fill_x = np.concatenate([x, x[::-1]])\n",
    "    fill_y = np.concatenate([y_median + 3 * y_stddev, (y_median - 3 * y_stddev)[::-1]])\n",
    "\n",
    "    # EVE: Plot the mean line\n",
    "    fig.add_trace(go.Scatter(x=x, y=y_median,\n",
    "                                  # showlegend=False, \n",
    "                            line=dict(color='rgb(0,128,255)', ),\n",
    "                            name='EVE') ,\n",
    "                row=3, col=1,)\n",
    "    # Plot the shaded area between mean + 3 std deviations and mean - 3 std deviations\n",
    "    fig.add_trace(go.Scatter(x=fill_x, y=fill_y, mode='lines', \n",
    "                                  fill='tozerox', \n",
    "                                  fillcolor='rgba(0,176,246,0.2)',\n",
    "                                  line=dict(color='rgba(127,255,0,0.2)'),\n",
    "                                  showlegend=False, \n",
    "                                  name='3 Std. Dev.'),\n",
    "                row=3, col=1)\n",
    "    #AIA\n",
    "    fig.add_trace(go.Scatter(x=aia_df.index, y=aia_df['mean'],\n",
    "                            # showlegend=False, \n",
    "                      line=dict(color='rgb(255,128,53)'),\n",
    "                                  name='AIA') ,\n",
    "                row=3, col=1,)\n",
    "\n",
    "    fig.update_yaxes(title_text=\"Mean (nm)\",range=[30.3705, 30.3755],row=3, col=1)\n",
    "    # Show the plot\n",
    "\n",
    "\n",
    "\n",
    "    # Create a figure for stddev\n",
    "    x = eve_df.index\n",
    "    y_median = eve_df['median_of_stddev']*valid_day\n",
    "    y_stddev = eve_df['stddev_of_stddev']\n",
    "    fill_x = np.concatenate([x, x[::-1]])\n",
    "    fill_y = np.concatenate([y_median + 3 * y_stddev, (y_median - 3 * y_stddev)[::-1]])\n",
    "\n",
    "    fig.add_trace(go.Scatter(x=x, y=y_median,\n",
    "                                  showlegend=False,\n",
    "                            line=dict(color='rgb(0,128,255)'),),\n",
    "                            row=2, col=1)\n",
    "    # Plot the shaded area between mean + 3 std deviations and mean - 3 std deviations\n",
    "    fig.add_trace(go.Scatter(x=fill_x, y=fill_y, mode='lines', \n",
    "                                  fill='tozerox', \n",
    "                                  fillcolor='rgba(0,176,246,0.2)',\n",
    "                                  line=dict(color='rgba(127,255,0,0.2)'),\n",
    "                                  showlegend=False,\n",
    "                                  name='3 Std. Dev.'),\n",
    "                      row=2, col=1)\n",
    "    #AIA\n",
    "    fig.add_trace(go.Scatter(x=aia_df.index, y=aia_df['stddev'],\n",
    "                            showlegend=False, \n",
    "                      line=dict(color='rgb(255,128,53)', )) ,\n",
    "                row=2, col=1,)\n",
    "    fig.update_yaxes(title_text=\"Stddev (nm)\",\n",
    "                     range=[0.028, 0.033],\n",
    "                     row=2, col=1)\n",
    "\n",
    "\n",
    "\n",
    "\n",
    "\n",
    "    # # Create a figure for amplitude\n",
    "    x = eve_df.index\n",
    "    y_median = eve_df['median_of_amplitude']*valid_day\n",
    "    y_stddev = eve_df['stddev_of_amplitude']\n",
    "    fill_x = np.concatenate([x, x[::-1]])\n",
    "    fill_y = np.concatenate([y_median + 3 * y_stddev, (y_median - 3 * y_stddev)[::-1]])\n",
    "\n",
    "\n",
    "    fig.add_trace(go.Scatter(x=eve_df.index, y=y_median/np.nanmean(y_median),\n",
    "                                              showlegend=False,\n",
    "                            line=dict(color='rgb(0,128,255)'),),\n",
    "                            row=1, col=1)\n",
    "    # Plot the shaded area between mean + 3 std deviations and mean - 3 std deviations\n",
    "    fig.add_trace(go.Scatter(x=fill_x, y=fill_y/np.nanmean(y_median), mode='lines', \n",
    "                                  fill='tozerox', \n",
    "                                  fillcolor='rgba(0,176,246,0.2)',\n",
    "                                  line=dict(color='rgba(127,255,0,0.2)'),\n",
    "                                  showlegend=False, \n",
    "                                  name='3 Std. Dev.'),\n",
    "                            row=1, col=1)\n",
    "    #AIA\n",
    "    fig.add_trace(go.Scatter(x=aia_df.index, y=aia_df['amplitude']/np.nanmean(aia_df['amplitude']),\n",
    "                            showlegend=False, \n",
    "                      line=dict(color='rgb(255,128,53)', )) ,\n",
    "                row=1, col=1,)\n",
    "    fig.update_yaxes(title_text='relative amplitude ',\n",
    "                      # range=[0.6, 1.4],\n",
    "                      row=1, col=1)\n",
    "\n",
    "\n",
    "\n",
    "    # total fig adjustment\n",
    "    fig.update_layout(width=1200,height=1200,\n",
    "                            title_text=f\"EVE AIA\",\n",
    "                            legend=dict(x=1, y=0.9)) \n",
    "    fig.update_xaxes(title_text=\"Time\",row=3, col=1)\n",
    "\n",
    "    fig.write_html('output/fig.html')"
   ]
  },
  {
   "cell_type": "code",
   "execution_count": 226,
   "metadata": {},
   "outputs": [],
   "source": [
    "def combine_trial(aia_data_df,eve_data_df,t0,t1):\n",
    "    aia_df=aia_ops.aia_simu.get_aia_simu(aia_data_df,t0,t1)\n",
    "    aia_df.set_index('time',inplace=True)\n",
    "    eve_df=eve_data_df[(eve_data_df['time']>=t0)&(eve_data_df['time']<=t1)].reset_index(drop=True)\n",
    "    eve_df.set_index('time',inplace=True)\n",
    "    \n",
    "    plot(aia_df,eve_df)"
   ]
  },
  {
   "cell_type": "markdown",
   "metadata": {},
   "source": [
    "## endless trial and adjustment"
   ]
  },
  {
   "cell_type": "code",
   "execution_count": 256,
   "metadata": {},
   "outputs": [
    {
     "data": {
      "text/plain": [
       "<module 'aia_ops.aia_simu' from 'D:\\\\py_repo\\\\EVE-spectrum-correction\\\\Chapter4_v2\\\\basic_ops\\\\aia_ops\\\\aia_simu.py'>"
      ]
     },
     "execution_count": 256,
     "metadata": {},
     "output_type": "execute_result"
    }
   ],
   "source": [
    "import aia_ops\n",
    "importlib.reload(aia_ops.aia_simu)"
   ]
  },
  {
   "cell_type": "code",
   "execution_count": 257,
   "metadata": {},
   "outputs": [],
   "source": [
    "t0=pd.to_datetime('2012-07-01 00:00:00')\n",
    "t1=pd.to_datetime('2013-01-01 00:00:00')\n",
    "\n",
    "\n",
    "combine_trial(aia_data_df,eve_data_df,t0,t1)"
   ]
  },
  {
   "cell_type": "code",
   "execution_count": 258,
   "metadata": {},
   "outputs": [],
   "source": [
    "t0=pd.to_datetime('2010-05-01 00:00:00')\n",
    "t1=pd.to_datetime('2014-05-01 00:00:00')\n",
    "\n",
    "combine_trial(aia_data_df,eve_data_df,t0,t1)"
   ]
  },
  {
   "cell_type": "markdown",
   "metadata": {},
   "source": [
    "# draft"
   ]
  },
  {
   "cell_type": "code",
   "execution_count": 80,
   "metadata": {},
   "outputs": [
    {
     "data": {
      "text/plain": [
       "<module 'astropy.units' from 'C:\\\\Users\\\\14902\\\\anaconda3\\\\envs\\\\sdo2022\\\\lib\\\\site-packages\\\\astropy\\\\units\\\\__init__.py'>"
      ]
     },
     "execution_count": 80,
     "metadata": {},
     "output_type": "execute_result"
    }
   ],
   "source": [
    "u"
   ]
  },
  {
   "cell_type": "code",
   "execution_count": 97,
   "metadata": {},
   "outputs": [
    {
     "data": {
      "text/latex": [
       "$0.0003039933 \\; \\mathrm{nm}$"
      ],
      "text/plain": [
       "<Quantity 0.00030399 nm>"
      ]
     },
     "execution_count": 97,
     "metadata": {},
     "output_type": "execute_result"
    }
   ],
   "source": [
    "(3000*u.m/u.s ).to(u.nm, equivalencies=u.doppler_optical(30.3783 * u.nm))-30.3783* u.nm"
   ]
  },
  {
   "cell_type": "code",
   "execution_count": 73,
   "metadata": {},
   "outputs": [
    {
     "data": {
      "text/plain": [
       "312.2738079091585"
      ]
     },
     "execution_count": 73,
     "metadata": {},
     "output_type": "execute_result"
    }
   ],
   "source": [
    "#15'   ~     0.014   Tx 前面的系数\n",
    "\n",
    "\n",
    "0.014*(1/(15*np.pi/(180*60)))**2 *gaussian_fwhm_to_sigma\n",
    "\n",
    "\n",
    "\n",
    "# 4e-3    ~    DN 1000    image 前面的系数\n"
   ]
  },
  {
   "cell_type": "code",
   "execution_count": 127,
   "metadata": {},
   "outputs": [
    {
     "data": {
      "text/plain": [
       "4.050666666666667e-12"
      ]
     },
     "execution_count": 127,
     "metadata": {},
     "output_type": "execute_result"
    }
   ],
   "source": [
    "def doppler_shift(velocity, wavelength=30.38e-9):\n",
    "\n",
    "    c = 3e8\n",
    "    \n",
    "    # Calculate Doppler shift using formula: Doppler shift = velocity / c * wavelength\n",
    "    doppler_shift = velocity / c * wavelength\n",
    "   \n",
    "    return doppler_shift\n",
    "\n",
    "doppler_shift(40e3)"
   ]
  },
  {
   "cell_type": "code",
   "execution_count": null,
   "metadata": {},
   "outputs": [],
   "source": [
    "#   \n"
   ]
  },
  {
   "cell_type": "code",
   "execution_count": 120,
   "metadata": {},
   "outputs": [
    {
     "data": {
      "text/plain": [
       "9874.917709019091"
      ]
     },
     "execution_count": 120,
     "metadata": {},
     "output_type": "execute_result"
    }
   ],
   "source": [
    "def velocity_from_doppler_shift(doppler_shift, wavelength=30.38e-9):\n",
    "\n",
    "    c = 3e8\n",
    "    \n",
    "    # Calculate velocity using formula: Velocity = Doppler shift * c / wavelength\n",
    "    velocity = doppler_shift * c / wavelength\n",
    "    \n",
    "    return velocity\n",
    "\n",
    "# Example usage:\n",
    "doppler_shift_input = 0.001e-9  # Angstroms\n",
    "calculated_velocity = velocity_from_doppler_shift(doppler_shift_input)\n",
    "calculated_velocity"
   ]
  },
  {
   "cell_type": "code",
   "execution_count": 125,
   "metadata": {},
   "outputs": [
    {
     "data": {
      "text/plain": [
       "49374.58854509545"
      ]
     },
     "execution_count": 125,
     "metadata": {},
     "output_type": "execute_result"
    }
   ],
   "source": [
    "velocity_from_doppler_shift(0.005e-9)"
   ]
  },
  {
   "cell_type": "code",
   "execution_count": 124,
   "metadata": {},
   "outputs": [
    {
     "data": {
      "text/plain": [
       "5.945252602016134"
      ]
     },
     "execution_count": 124,
     "metadata": {},
     "output_type": "execute_result"
    }
   ],
   "source": [
    "14*gaussian_fwhm_to_sigma"
   ]
  },
  {
   "cell_type": "code",
   "execution_count": null,
   "metadata": {},
   "outputs": [],
   "source": [
    "0.005"
   ]
  },
  {
   "cell_type": "code",
   "execution_count": 196,
   "metadata": {},
   "outputs": [
    {
     "data": {
      "text/plain": [
       "0.015230870989335428"
      ]
     },
     "execution_count": 196,
     "metadata": {},
     "output_type": "execute_result"
    }
   ],
   "source": [
    "8e2*(0.25*np.pi/180)**2"
   ]
  },
  {
   "cell_type": "code",
   "execution_count": 199,
   "metadata": {},
   "outputs": [
    {
     "data": {
      "text/plain": [
       "0.013089969389957472"
      ]
     },
     "execution_count": 199,
     "metadata": {},
     "output_type": "execute_result"
    }
   ],
   "source": [
    "30e-1*(0.25*np.pi/180)"
   ]
  },
  {
   "cell_type": "markdown",
   "metadata": {},
   "source": [
    "## AIA image central         VS.   Line central"
   ]
  },
  {
   "cell_type": "code",
   "execution_count": 3,
   "metadata": {},
   "outputs": [
    {
     "data": {
      "text/html": [
       "<div>\n",
       "<style scoped>\n",
       "    .dataframe tbody tr th:only-of-type {\n",
       "        vertical-align: middle;\n",
       "    }\n",
       "\n",
       "    .dataframe tbody tr th {\n",
       "        vertical-align: top;\n",
       "    }\n",
       "\n",
       "    .dataframe thead th {\n",
       "        text-align: right;\n",
       "    }\n",
       "</style>\n",
       "<table border=\"1\" class=\"dataframe\">\n",
       "  <thead>\n",
       "    <tr style=\"text-align: right;\">\n",
       "      <th></th>\n",
       "      <th>time</th>\n",
       "      <th>image</th>\n",
       "      <th>filename</th>\n",
       "    </tr>\n",
       "  </thead>\n",
       "  <tbody>\n",
       "    <tr>\n",
       "      <th>0</th>\n",
       "      <td>2010-06-01 00:00:08.120</td>\n",
       "      <td>[[0.003302, 0.0, 0.0, 0.0, 0.0, 0.0, 0.001377,...</td>\n",
       "      <td>./data/AIA_1p5\\aia_lev1_304a_2010_06_01t00_00_...</td>\n",
       "    </tr>\n",
       "    <tr>\n",
       "      <th>1</th>\n",
       "      <td>2010-06-02 00:05:38.120</td>\n",
       "      <td>[[0.0, 0.0, 0.0, 0.0, 0.0, 0.0, 0.0, 1.276e-05...</td>\n",
       "      <td>./data/AIA_1p5\\aia_lev1_304a_2010_06_02t00_05_...</td>\n",
       "    </tr>\n",
       "    <tr>\n",
       "      <th>2</th>\n",
       "      <td>2010-06-03 00:00:02.130</td>\n",
       "      <td>[[0.0, 0.0, 3.535e-05, 0.0, 0.0, 5.496e-05, 0....</td>\n",
       "      <td>./data/AIA_1p5\\aia_lev1_304a_2010_06_03t00_00_...</td>\n",
       "    </tr>\n",
       "    <tr>\n",
       "      <th>3</th>\n",
       "      <td>2010-06-04 00:00:02.130</td>\n",
       "      <td>[[0.0, 0.0, 0.0, 0.0004733, 0.0, 0.0, 0.0, 0.0...</td>\n",
       "      <td>./data/AIA_1p5\\aia_lev1_304a_2010_06_04t00_00_...</td>\n",
       "    </tr>\n",
       "    <tr>\n",
       "      <th>4</th>\n",
       "      <td>2010-06-05 00:00:05.500</td>\n",
       "      <td>[[nan, nan, nan, nan, nan, nan, nan, nan, nan,...</td>\n",
       "      <td>./data/AIA_1p5\\aia_lev1_304a_2010_06_05t00_00_...</td>\n",
       "    </tr>\n",
       "    <tr>\n",
       "      <th>...</th>\n",
       "      <td>...</td>\n",
       "      <td>...</td>\n",
       "      <td>...</td>\n",
       "    </tr>\n",
       "    <tr>\n",
       "      <th>1448</th>\n",
       "      <td>2014-05-20 00:00:07.120</td>\n",
       "      <td>[[0.0, 0.0, 0.0, 0.0, 0.0, 0.0, 0.0, 0.0, 0.0,...</td>\n",
       "      <td>./data/AIA_1p5\\aia_lev1_304a_2014_05_20t00_00_...</td>\n",
       "    </tr>\n",
       "    <tr>\n",
       "      <th>1449</th>\n",
       "      <td>2014-05-21 00:00:07.120</td>\n",
       "      <td>[[0.0, 0.0, 0.0, 0.0, 0.0, 0.0, 0.0, 0.0, 0.0,...</td>\n",
       "      <td>./data/AIA_1p5\\aia_lev1_304a_2014_05_21t00_00_...</td>\n",
       "    </tr>\n",
       "    <tr>\n",
       "      <th>1450</th>\n",
       "      <td>2014-05-22 00:00:07.120</td>\n",
       "      <td>[[0.0, 0.0, 0.0, 0.0, 0.0, 0.0, 0.0, 0.0, 0.0,...</td>\n",
       "      <td>./data/AIA_1p5\\aia_lev1_304a_2014_05_22t00_00_...</td>\n",
       "    </tr>\n",
       "    <tr>\n",
       "      <th>1451</th>\n",
       "      <td>2014-05-23 00:00:07.120</td>\n",
       "      <td>[[0.0, 0.0, 0.0, 0.0, 0.0, 0.0, 0.0, 0.0, 0.0,...</td>\n",
       "      <td>./data/AIA_1p5\\aia_lev1_304a_2014_05_23t00_00_...</td>\n",
       "    </tr>\n",
       "    <tr>\n",
       "      <th>1452</th>\n",
       "      <td>2014-05-24 00:00:07.120</td>\n",
       "      <td>[[0.0, 0.0, 0.0, 0.0, 0.0, 0.0, 0.0, 0.0, 0.0,...</td>\n",
       "      <td>./data/AIA_1p5\\aia_lev1_304a_2014_05_24t00_00_...</td>\n",
       "    </tr>\n",
       "  </tbody>\n",
       "</table>\n",
       "<p>1453 rows × 3 columns</p>\n",
       "</div>"
      ],
      "text/plain": [
       "                        time  \\\n",
       "0    2010-06-01 00:00:08.120   \n",
       "1    2010-06-02 00:05:38.120   \n",
       "2    2010-06-03 00:00:02.130   \n",
       "3    2010-06-04 00:00:02.130   \n",
       "4    2010-06-05 00:00:05.500   \n",
       "...                      ...   \n",
       "1448 2014-05-20 00:00:07.120   \n",
       "1449 2014-05-21 00:00:07.120   \n",
       "1450 2014-05-22 00:00:07.120   \n",
       "1451 2014-05-23 00:00:07.120   \n",
       "1452 2014-05-24 00:00:07.120   \n",
       "\n",
       "                                                  image  \\\n",
       "0     [[0.003302, 0.0, 0.0, 0.0, 0.0, 0.0, 0.001377,...   \n",
       "1     [[0.0, 0.0, 0.0, 0.0, 0.0, 0.0, 0.0, 1.276e-05...   \n",
       "2     [[0.0, 0.0, 3.535e-05, 0.0, 0.0, 5.496e-05, 0....   \n",
       "3     [[0.0, 0.0, 0.0, 0.0004733, 0.0, 0.0, 0.0, 0.0...   \n",
       "4     [[nan, nan, nan, nan, nan, nan, nan, nan, nan,...   \n",
       "...                                                 ...   \n",
       "1448  [[0.0, 0.0, 0.0, 0.0, 0.0, 0.0, 0.0, 0.0, 0.0,...   \n",
       "1449  [[0.0, 0.0, 0.0, 0.0, 0.0, 0.0, 0.0, 0.0, 0.0,...   \n",
       "1450  [[0.0, 0.0, 0.0, 0.0, 0.0, 0.0, 0.0, 0.0, 0.0,...   \n",
       "1451  [[0.0, 0.0, 0.0, 0.0, 0.0, 0.0, 0.0, 0.0, 0.0,...   \n",
       "1452  [[0.0, 0.0, 0.0, 0.0, 0.0, 0.0, 0.0, 0.0, 0.0,...   \n",
       "\n",
       "                                               filename  \n",
       "0     ./data/AIA_1p5\\aia_lev1_304a_2010_06_01t00_00_...  \n",
       "1     ./data/AIA_1p5\\aia_lev1_304a_2010_06_02t00_05_...  \n",
       "2     ./data/AIA_1p5\\aia_lev1_304a_2010_06_03t00_00_...  \n",
       "3     ./data/AIA_1p5\\aia_lev1_304a_2010_06_04t00_00_...  \n",
       "4     ./data/AIA_1p5\\aia_lev1_304a_2010_06_05t00_00_...  \n",
       "...                                                 ...  \n",
       "1448  ./data/AIA_1p5\\aia_lev1_304a_2014_05_20t00_00_...  \n",
       "1449  ./data/AIA_1p5\\aia_lev1_304a_2014_05_21t00_00_...  \n",
       "1450  ./data/AIA_1p5\\aia_lev1_304a_2014_05_22t00_00_...  \n",
       "1451  ./data/AIA_1p5\\aia_lev1_304a_2014_05_23t00_00_...  \n",
       "1452  ./data/AIA_1p5\\aia_lev1_304a_2014_05_24t00_00_...  \n",
       "\n",
       "[1453 rows x 3 columns]"
      ]
     },
     "execution_count": 3,
     "metadata": {},
     "output_type": "execute_result"
    }
   ],
   "source": [
    "# load aia_df from pickle file\n",
    "with open('D:\\py_repo\\EVE-spectrum-correction\\Chapter4_v2\\\\basic_ops\\\\aia_ops\\data\\\\aia.pkl','rb') as file:\n",
    "     aia_df=pickle.load(file)\n",
    "\n",
    "aia_df=aia_df[aia_df['time']<pd.to_datetime('2014-05-25')]\n",
    "aia_df"
   ]
  },
  {
   "cell_type": "code",
   "execution_count": 142,
   "metadata": {},
   "outputs": [
    {
     "data": {
      "text/plain": [
       "array([[3.3016e-03, 0.0000e+00, 0.0000e+00, ..., 0.0000e+00, 0.0000e+00,\n",
       "        0.0000e+00],\n",
       "       [0.0000e+00, 4.7241e-01, 0.0000e+00, ..., 0.0000e+00, 0.0000e+00,\n",
       "        0.0000e+00],\n",
       "       [0.0000e+00, 0.0000e+00, 1.1865e-01, ..., 9.0599e-04, 6.3658e-05,\n",
       "        4.4703e-06],\n",
       "       ...,\n",
       "       [0.0000e+00, 3.5763e-07, 4.7088e-06, ..., 0.0000e+00, 1.1921e-07,\n",
       "        3.5763e-07],\n",
       "       [0.0000e+00, 0.0000e+00, 0.0000e+00, ..., 0.0000e+00, 0.0000e+00,\n",
       "        0.0000e+00],\n",
       "       [0.0000e+00, 0.0000e+00, 0.0000e+00, ..., 0.0000e+00, 0.0000e+00,\n",
       "        0.0000e+00]], dtype=float16)"
      ]
     },
     "execution_count": 142,
     "metadata": {},
     "output_type": "execute_result"
    }
   ],
   "source": [
    "a=aia_df.loc[0]['image']\n",
    "a"
   ]
  },
  {
   "cell_type": "code",
   "execution_count": 150,
   "metadata": {},
   "outputs": [
    {
     "data": {
      "text/plain": [
       "dtype('float64')"
      ]
     },
     "execution_count": 150,
     "metadata": {},
     "output_type": "execute_result"
    }
   ],
   "source": [
    "#inspect the data type of coeff_x\n",
    "coeff_x.dtype"
   ]
  },
  {
   "cell_type": "code",
   "execution_count": 147,
   "metadata": {},
   "outputs": [
    {
     "data": {
      "text/plain": [
       "1.1443804158850592e-05"
      ]
     },
     "execution_count": 147,
     "metadata": {},
     "output_type": "execute_result"
    }
   ],
   "source": [
    "#turn a into cp float64 then do this: np.sum(a*coeff_x.get())/np.sum(a)\n",
    "\n",
    "a=cp.array(a,dtype=cp.float64)"
   ]
  },
  {
   "cell_type": "code",
   "execution_count": 141,
   "metadata": {},
   "outputs": [
    {
     "data": {
      "text/plain": [
       "<matplotlib.image.AxesImage at 0x200bb8c45e0>"
      ]
     },
     "execution_count": 141,
     "metadata": {},
     "output_type": "execute_result"
    },
    {
     "data": {
      "image/png": "[encoded data removed]",
      "text/plain": [
       "<Figure size 640x480 with 1 Axes>"
      ]
     },
     "metadata": {},
     "output_type": "display_data"
    }
   ],
   "source": [
    "plt.imshow(a)"
   ]
  },
  {
   "cell_type": "code",
   "execution_count": 4,
   "metadata": {},
   "outputs": [
    {
     "data": {
      "text/html": [
       "<div>\n",
       "<style scoped>\n",
       "    .dataframe tbody tr th:only-of-type {\n",
       "        vertical-align: middle;\n",
       "    }\n",
       "\n",
       "    .dataframe tbody tr th {\n",
       "        vertical-align: top;\n",
       "    }\n",
       "\n",
       "    .dataframe thead th {\n",
       "        text-align: right;\n",
       "    }\n",
       "</style>\n",
       "<table border=\"1\" class=\"dataframe\">\n",
       "  <thead>\n",
       "    <tr style=\"text-align: right;\">\n",
       "      <th></th>\n",
       "      <th>median_of_mean</th>\n",
       "      <th>median_of_stddev</th>\n",
       "      <th>median_of_amplitude</th>\n",
       "      <th>stddev_of_mean</th>\n",
       "      <th>stddev_of_stddev</th>\n",
       "      <th>stddev_of_amplitude</th>\n",
       "      <th>available_data</th>\n",
       "    </tr>\n",
       "    <tr>\n",
       "      <th>time</th>\n",
       "      <th></th>\n",
       "      <th></th>\n",
       "      <th></th>\n",
       "      <th></th>\n",
       "      <th></th>\n",
       "      <th></th>\n",
       "      <th></th>\n",
       "    </tr>\n",
       "  </thead>\n",
       "  <tbody>\n",
       "    <tr>\n",
       "      <th>2010-04-30</th>\n",
       "      <td>30.374138</td>\n",
       "      <td>0.028910</td>\n",
       "      <td>0.006518</td>\n",
       "      <td>0.000175</td>\n",
       "      <td>0.000076</td>\n",
       "      <td>0.000058</td>\n",
       "      <td>8570</td>\n",
       "    </tr>\n",
       "    <tr>\n",
       "      <th>2010-05-01</th>\n",
       "      <td>30.374133</td>\n",
       "      <td>0.028986</td>\n",
       "      <td>0.006556</td>\n",
       "      <td>0.000199</td>\n",
       "      <td>0.000070</td>\n",
       "      <td>0.000052</td>\n",
       "      <td>8579</td>\n",
       "    </tr>\n",
       "    <tr>\n",
       "      <th>2010-05-02</th>\n",
       "      <td>30.374000</td>\n",
       "      <td>0.029030</td>\n",
       "      <td>0.006503</td>\n",
       "      <td>0.000210</td>\n",
       "      <td>0.000070</td>\n",
       "      <td>0.000048</td>\n",
       "      <td>8579</td>\n",
       "    </tr>\n",
       "    <tr>\n",
       "      <th>2010-05-03</th>\n",
       "      <td>30.373922</td>\n",
       "      <td>0.029038</td>\n",
       "      <td>0.006513</td>\n",
       "      <td>0.000206</td>\n",
       "      <td>0.000102</td>\n",
       "      <td>0.000049</td>\n",
       "      <td>8640</td>\n",
       "    </tr>\n",
       "    <tr>\n",
       "      <th>2010-05-04</th>\n",
       "      <td>30.373876</td>\n",
       "      <td>0.029006</td>\n",
       "      <td>0.006656</td>\n",
       "      <td>0.000195</td>\n",
       "      <td>0.000092</td>\n",
       "      <td>0.000059</td>\n",
       "      <td>8578</td>\n",
       "    </tr>\n",
       "    <tr>\n",
       "      <th>...</th>\n",
       "      <td>...</td>\n",
       "      <td>...</td>\n",
       "      <td>...</td>\n",
       "      <td>...</td>\n",
       "      <td>...</td>\n",
       "      <td>...</td>\n",
       "      <td>...</td>\n",
       "    </tr>\n",
       "    <tr>\n",
       "      <th>2014-05-20</th>\n",
       "      <td>30.372114</td>\n",
       "      <td>0.031103</td>\n",
       "      <td>0.006697</td>\n",
       "      <td>0.000333</td>\n",
       "      <td>0.000145</td>\n",
       "      <td>0.000053</td>\n",
       "      <td>8583</td>\n",
       "    </tr>\n",
       "    <tr>\n",
       "      <th>2014-05-21</th>\n",
       "      <td>30.372141</td>\n",
       "      <td>0.031075</td>\n",
       "      <td>0.006630</td>\n",
       "      <td>0.000374</td>\n",
       "      <td>0.000141</td>\n",
       "      <td>0.000055</td>\n",
       "      <td>8581</td>\n",
       "    </tr>\n",
       "    <tr>\n",
       "      <th>2014-05-22</th>\n",
       "      <td>30.372299</td>\n",
       "      <td>0.030988</td>\n",
       "      <td>0.006609</td>\n",
       "      <td>0.000357</td>\n",
       "      <td>0.000127</td>\n",
       "      <td>0.000065</td>\n",
       "      <td>8582</td>\n",
       "    </tr>\n",
       "    <tr>\n",
       "      <th>2014-05-23</th>\n",
       "      <td>30.372543</td>\n",
       "      <td>0.030948</td>\n",
       "      <td>0.006646</td>\n",
       "      <td>0.000359</td>\n",
       "      <td>0.000135</td>\n",
       "      <td>0.000047</td>\n",
       "      <td>8582</td>\n",
       "    </tr>\n",
       "    <tr>\n",
       "      <th>2014-05-24</th>\n",
       "      <td>30.372740</td>\n",
       "      <td>0.030941</td>\n",
       "      <td>0.006733</td>\n",
       "      <td>0.000308</td>\n",
       "      <td>0.000146</td>\n",
       "      <td>0.000074</td>\n",
       "      <td>8582</td>\n",
       "    </tr>\n",
       "  </tbody>\n",
       "</table>\n",
       "<p>1486 rows × 7 columns</p>\n",
       "</div>"
      ],
      "text/plain": [
       "            median_of_mean  median_of_stddev  median_of_amplitude  \\\n",
       "time                                                                \n",
       "2010-04-30       30.374138          0.028910             0.006518   \n",
       "2010-05-01       30.374133          0.028986             0.006556   \n",
       "2010-05-02       30.374000          0.029030             0.006503   \n",
       "2010-05-03       30.373922          0.029038             0.006513   \n",
       "2010-05-04       30.373876          0.029006             0.006656   \n",
       "...                    ...               ...                  ...   \n",
       "2014-05-20       30.372114          0.031103             0.006697   \n",
       "2014-05-21       30.372141          0.031075             0.006630   \n",
       "2014-05-22       30.372299          0.030988             0.006609   \n",
       "2014-05-23       30.372543          0.030948             0.006646   \n",
       "2014-05-24       30.372740          0.030941             0.006733   \n",
       "\n",
       "            stddev_of_mean  stddev_of_stddev  stddev_of_amplitude  \\\n",
       "time                                                                \n",
       "2010-04-30        0.000175          0.000076             0.000058   \n",
       "2010-05-01        0.000199          0.000070             0.000052   \n",
       "2010-05-02        0.000210          0.000070             0.000048   \n",
       "2010-05-03        0.000206          0.000102             0.000049   \n",
       "2010-05-04        0.000195          0.000092             0.000059   \n",
       "...                    ...               ...                  ...   \n",
       "2014-05-20        0.000333          0.000145             0.000053   \n",
       "2014-05-21        0.000374          0.000141             0.000055   \n",
       "2014-05-22        0.000357          0.000127             0.000065   \n",
       "2014-05-23        0.000359          0.000135             0.000047   \n",
       "2014-05-24        0.000308          0.000146             0.000074   \n",
       "\n",
       "            available_data  \n",
       "time                        \n",
       "2010-04-30            8570  \n",
       "2010-05-01            8579  \n",
       "2010-05-02            8579  \n",
       "2010-05-03            8640  \n",
       "2010-05-04            8578  \n",
       "...                    ...  \n",
       "2014-05-20            8583  \n",
       "2014-05-21            8581  \n",
       "2014-05-22            8582  \n",
       "2014-05-23            8582  \n",
       "2014-05-24            8582  \n",
       "\n",
       "[1486 rows x 7 columns]"
      ]
     },
     "execution_count": 4,
     "metadata": {},
     "output_type": "execute_result"
    }
   ],
   "source": [
    "with open('D:\\py_repo\\EVE-spectrum-correction\\Chapter4_v2\\\\basic_ops\\eve_ops\\data\\daily_df.pkl', 'rb') as file:\n",
    "    eve_daily_df=pickle.load(file)\n",
    "    \n",
    "eve_daily_df=eve_daily_df[eve_daily_df.index<pd.to_datetime('2014-05-25')]\n",
    "eve_daily_df"
   ]
  },
  {
   "cell_type": "code",
   "execution_count": 5,
   "metadata": {},
   "outputs": [],
   "source": [
    "coeff=np.load('aia_ops\\\\pixel_to_world\\\\coeff.npz')"
   ]
  },
  {
   "cell_type": "code",
   "execution_count": 25,
   "metadata": {},
   "outputs": [],
   "source": [
    "coeff_x=cp.array(coeff['Tx_2048'])\n",
    "coeff_y=cp.array(coeff['Ty_2048'])"
   ]
  },
  {
   "cell_type": "code",
   "execution_count": 12,
   "metadata": {},
   "outputs": [
    {
     "data": {
      "text/plain": [
       "<matplotlib.colorbar.Colorbar at 0x1fd876a5dc0>"
      ]
     },
     "execution_count": 12,
     "metadata": {},
     "output_type": "execute_result"
    },
    {
     "data": {
      "image/png": "[encoded data removed]",
      "text/plain": [
       "<Figure size 480x480 with 2 Axes>"
      ]
     },
     "metadata": {},
     "output_type": "display_data"
    }
   ],
   "source": [
    "plt.matshow(coeff_x)\n",
    "plt.colorbar()"
   ]
  },
  {
   "cell_type": "code",
   "execution_count": 23,
   "metadata": {},
   "outputs": [
    {
     "name": "stdout",
     "output_type": "stream",
     "text": [
      "15.9 ms ± 519 µs per loop (mean ± std. dev. of 7 runs, 100 loops each)\n"
     ]
    }
   ],
   "source": [
    "%%timeit\n",
    "np.sum(aia_df.loc[0]['image']*coeff_x)"
   ]
  },
  {
   "cell_type": "code",
   "execution_count": 26,
   "metadata": {},
   "outputs": [
    {
     "name": "stdout",
     "output_type": "stream",
     "text": [
      "1.07 ms ± 27.2 µs per loop (mean ± std. dev. of 7 runs, 100 loops each)\n"
     ]
    }
   ],
   "source": [
    "%%timeit\n",
    "cp.sum(cp.array(aia_df.loc[0]['image'])*coeff_x)"
   ]
  },
  {
   "cell_type": "code",
   "execution_count": 29,
   "metadata": {},
   "outputs": [],
   "source": [
    "for i in aia_df['image']:"
   ]
  },
  {
   "cell_type": "code",
   "execution_count": 31,
   "metadata": {},
   "outputs": [
    {
     "data": {
      "text/html": [
       "<div>\n",
       "<style scoped>\n",
       "    .dataframe tbody tr th:only-of-type {\n",
       "        vertical-align: middle;\n",
       "    }\n",
       "\n",
       "    .dataframe tbody tr th {\n",
       "        vertical-align: top;\n",
       "    }\n",
       "\n",
       "    .dataframe thead th {\n",
       "        text-align: right;\n",
       "    }\n",
       "</style>\n",
       "<table border=\"1\" class=\"dataframe\">\n",
       "  <thead>\n",
       "    <tr style=\"text-align: right;\">\n",
       "      <th></th>\n",
       "      <th>time</th>\n",
       "      <th>image</th>\n",
       "      <th>filename</th>\n",
       "    </tr>\n",
       "  </thead>\n",
       "  <tbody>\n",
       "    <tr>\n",
       "      <th>0</th>\n",
       "      <td>2010-06-01 00:00:08.120</td>\n",
       "      <td>[[0.003302, 0.0, 0.0, 0.0, 0.0, 0.0, 0.001377,...</td>\n",
       "      <td>./data/AIA_1p5\\aia_lev1_304a_2010_06_01t00_00_...</td>\n",
       "    </tr>\n",
       "    <tr>\n",
       "      <th>1</th>\n",
       "      <td>2010-06-02 00:05:38.120</td>\n",
       "      <td>[[0.0, 0.0, 0.0, 0.0, 0.0, 0.0, 0.0, 1.276e-05...</td>\n",
       "      <td>./data/AIA_1p5\\aia_lev1_304a_2010_06_02t00_05_...</td>\n",
       "    </tr>\n",
       "    <tr>\n",
       "      <th>2</th>\n",
       "      <td>2010-06-03 00:00:02.130</td>\n",
       "      <td>[[0.0, 0.0, 3.535e-05, 0.0, 0.0, 5.496e-05, 0....</td>\n",
       "      <td>./data/AIA_1p5\\aia_lev1_304a_2010_06_03t00_00_...</td>\n",
       "    </tr>\n",
       "    <tr>\n",
       "      <th>3</th>\n",
       "      <td>2010-06-04 00:00:02.130</td>\n",
       "      <td>[[0.0, 0.0, 0.0, 0.0004733, 0.0, 0.0, 0.0, 0.0...</td>\n",
       "      <td>./data/AIA_1p5\\aia_lev1_304a_2010_06_04t00_00_...</td>\n",
       "    </tr>\n",
       "    <tr>\n",
       "      <th>4</th>\n",
       "      <td>2010-06-05 00:00:05.500</td>\n",
       "      <td>[[nan, nan, nan, nan, nan, nan, nan, nan, nan,...</td>\n",
       "      <td>./data/AIA_1p5\\aia_lev1_304a_2010_06_05t00_00_...</td>\n",
       "    </tr>\n",
       "    <tr>\n",
       "      <th>...</th>\n",
       "      <td>...</td>\n",
       "      <td>...</td>\n",
       "      <td>...</td>\n",
       "    </tr>\n",
       "    <tr>\n",
       "      <th>1448</th>\n",
       "      <td>2014-05-20 00:00:07.120</td>\n",
       "      <td>[[0.0, 0.0, 0.0, 0.0, 0.0, 0.0, 0.0, 0.0, 0.0,...</td>\n",
       "      <td>./data/AIA_1p5\\aia_lev1_304a_2014_05_20t00_00_...</td>\n",
       "    </tr>\n",
       "    <tr>\n",
       "      <th>1449</th>\n",
       "      <td>2014-05-21 00:00:07.120</td>\n",
       "      <td>[[0.0, 0.0, 0.0, 0.0, 0.0, 0.0, 0.0, 0.0, 0.0,...</td>\n",
       "      <td>./data/AIA_1p5\\aia_lev1_304a_2014_05_21t00_00_...</td>\n",
       "    </tr>\n",
       "    <tr>\n",
       "      <th>1450</th>\n",
       "      <td>2014-05-22 00:00:07.120</td>\n",
       "      <td>[[0.0, 0.0, 0.0, 0.0, 0.0, 0.0, 0.0, 0.0, 0.0,...</td>\n",
       "      <td>./data/AIA_1p5\\aia_lev1_304a_2014_05_22t00_00_...</td>\n",
       "    </tr>\n",
       "    <tr>\n",
       "      <th>1451</th>\n",
       "      <td>2014-05-23 00:00:07.120</td>\n",
       "      <td>[[0.0, 0.0, 0.0, 0.0, 0.0, 0.0, 0.0, 0.0, 0.0,...</td>\n",
       "      <td>./data/AIA_1p5\\aia_lev1_304a_2014_05_23t00_00_...</td>\n",
       "    </tr>\n",
       "    <tr>\n",
       "      <th>1452</th>\n",
       "      <td>2014-05-24 00:00:07.120</td>\n",
       "      <td>[[0.0, 0.0, 0.0, 0.0, 0.0, 0.0, 0.0, 0.0, 0.0,...</td>\n",
       "      <td>./data/AIA_1p5\\aia_lev1_304a_2014_05_24t00_00_...</td>\n",
       "    </tr>\n",
       "  </tbody>\n",
       "</table>\n",
       "<p>1453 rows × 3 columns</p>\n",
       "</div>"
      ],
      "text/plain": [
       "                        time  \\\n",
       "0    2010-06-01 00:00:08.120   \n",
       "1    2010-06-02 00:05:38.120   \n",
       "2    2010-06-03 00:00:02.130   \n",
       "3    2010-06-04 00:00:02.130   \n",
       "4    2010-06-05 00:00:05.500   \n",
       "...                      ...   \n",
       "1448 2014-05-20 00:00:07.120   \n",
       "1449 2014-05-21 00:00:07.120   \n",
       "1450 2014-05-22 00:00:07.120   \n",
       "1451 2014-05-23 00:00:07.120   \n",
       "1452 2014-05-24 00:00:07.120   \n",
       "\n",
       "                                                  image  \\\n",
       "0     [[0.003302, 0.0, 0.0, 0.0, 0.0, 0.0, 0.001377,...   \n",
       "1     [[0.0, 0.0, 0.0, 0.0, 0.0, 0.0, 0.0, 1.276e-05...   \n",
       "2     [[0.0, 0.0, 3.535e-05, 0.0, 0.0, 5.496e-05, 0....   \n",
       "3     [[0.0, 0.0, 0.0, 0.0004733, 0.0, 0.0, 0.0, 0.0...   \n",
       "4     [[nan, nan, nan, nan, nan, nan, nan, nan, nan,...   \n",
       "...                                                 ...   \n",
       "1448  [[0.0, 0.0, 0.0, 0.0, 0.0, 0.0, 0.0, 0.0, 0.0,...   \n",
       "1449  [[0.0, 0.0, 0.0, 0.0, 0.0, 0.0, 0.0, 0.0, 0.0,...   \n",
       "1450  [[0.0, 0.0, 0.0, 0.0, 0.0, 0.0, 0.0, 0.0, 0.0,...   \n",
       "1451  [[0.0, 0.0, 0.0, 0.0, 0.0, 0.0, 0.0, 0.0, 0.0,...   \n",
       "1452  [[0.0, 0.0, 0.0, 0.0, 0.0, 0.0, 0.0, 0.0, 0.0,...   \n",
       "\n",
       "                                               filename  \n",
       "0     ./data/AIA_1p5\\aia_lev1_304a_2010_06_01t00_00_...  \n",
       "1     ./data/AIA_1p5\\aia_lev1_304a_2010_06_02t00_05_...  \n",
       "2     ./data/AIA_1p5\\aia_lev1_304a_2010_06_03t00_00_...  \n",
       "3     ./data/AIA_1p5\\aia_lev1_304a_2010_06_04t00_00_...  \n",
       "4     ./data/AIA_1p5\\aia_lev1_304a_2010_06_05t00_00_...  \n",
       "...                                                 ...  \n",
       "1448  ./data/AIA_1p5\\aia_lev1_304a_2014_05_20t00_00_...  \n",
       "1449  ./data/AIA_1p5\\aia_lev1_304a_2014_05_21t00_00_...  \n",
       "1450  ./data/AIA_1p5\\aia_lev1_304a_2014_05_22t00_00_...  \n",
       "1451  ./data/AIA_1p5\\aia_lev1_304a_2014_05_23t00_00_...  \n",
       "1452  ./data/AIA_1p5\\aia_lev1_304a_2014_05_24t00_00_...  \n",
       "\n",
       "[1453 rows x 3 columns]"
      ]
     },
     "execution_count": 31,
     "metadata": {},
     "output_type": "execute_result"
    }
   ],
   "source": [
    "aia_df"
   ]
  },
  {
   "cell_type": "code",
   "execution_count": 151,
   "metadata": {},
   "outputs": [],
   "source": [
    "# add a new col name 'x_ave' to aia_df, for each row, ave=np.sum(image*coeff_x)\n",
    "\n",
    "# give me the code how to get the col\n",
    "aia_df['x_ave']=aia_df['image'].apply(lambda x: (cp.sum(cp.array(x,dtype=cp.float64)*coeff_x)/cp.sum(cp.array(x,dtype=cp.float64))).get() )\n",
    "aia_df['y_ave']=aia_df['image'].apply(lambda x: (cp.sum(cp.array(x,dtype=cp.float64)*coeff_y)/cp.sum(cp.array(x,dtype=cp.float64))).get())"
   ]
  },
  {
   "cell_type": "code",
   "execution_count": 89,
   "metadata": {},
   "outputs": [
    {
     "data": {
      "text/html": [
       "<div>\n",
       "<style scoped>\n",
       "    .dataframe tbody tr th:only-of-type {\n",
       "        vertical-align: middle;\n",
       "    }\n",
       "\n",
       "    .dataframe tbody tr th {\n",
       "        vertical-align: top;\n",
       "    }\n",
       "\n",
       "    .dataframe thead th {\n",
       "        text-align: right;\n",
       "    }\n",
       "</style>\n",
       "<table border=\"1\" class=\"dataframe\">\n",
       "  <thead>\n",
       "    <tr style=\"text-align: right;\">\n",
       "      <th></th>\n",
       "      <th>median_of_mean</th>\n",
       "      <th>median_of_stddev</th>\n",
       "      <th>median_of_amplitude</th>\n",
       "      <th>stddev_of_mean</th>\n",
       "      <th>stddev_of_stddev</th>\n",
       "      <th>stddev_of_amplitude</th>\n",
       "      <th>available_data</th>\n",
       "    </tr>\n",
       "    <tr>\n",
       "      <th>time</th>\n",
       "      <th></th>\n",
       "      <th></th>\n",
       "      <th></th>\n",
       "      <th></th>\n",
       "      <th></th>\n",
       "      <th></th>\n",
       "      <th></th>\n",
       "    </tr>\n",
       "  </thead>\n",
       "  <tbody>\n",
       "    <tr>\n",
       "      <th>2010-04-30</th>\n",
       "      <td>30.374138</td>\n",
       "      <td>0.028910</td>\n",
       "      <td>0.006518</td>\n",
       "      <td>0.000175</td>\n",
       "      <td>0.000076</td>\n",
       "      <td>0.000058</td>\n",
       "      <td>8570</td>\n",
       "    </tr>\n",
       "    <tr>\n",
       "      <th>2010-05-01</th>\n",
       "      <td>30.374133</td>\n",
       "      <td>0.028986</td>\n",
       "      <td>0.006556</td>\n",
       "      <td>0.000199</td>\n",
       "      <td>0.000070</td>\n",
       "      <td>0.000052</td>\n",
       "      <td>8579</td>\n",
       "    </tr>\n",
       "    <tr>\n",
       "      <th>2010-05-02</th>\n",
       "      <td>30.374000</td>\n",
       "      <td>0.029030</td>\n",
       "      <td>0.006503</td>\n",
       "      <td>0.000210</td>\n",
       "      <td>0.000070</td>\n",
       "      <td>0.000048</td>\n",
       "      <td>8579</td>\n",
       "    </tr>\n",
       "    <tr>\n",
       "      <th>2010-05-03</th>\n",
       "      <td>30.373922</td>\n",
       "      <td>0.029038</td>\n",
       "      <td>0.006513</td>\n",
       "      <td>0.000206</td>\n",
       "      <td>0.000102</td>\n",
       "      <td>0.000049</td>\n",
       "      <td>8640</td>\n",
       "    </tr>\n",
       "    <tr>\n",
       "      <th>2010-05-04</th>\n",
       "      <td>30.373876</td>\n",
       "      <td>0.029006</td>\n",
       "      <td>0.006656</td>\n",
       "      <td>0.000195</td>\n",
       "      <td>0.000092</td>\n",
       "      <td>0.000059</td>\n",
       "      <td>8578</td>\n",
       "    </tr>\n",
       "    <tr>\n",
       "      <th>...</th>\n",
       "      <td>...</td>\n",
       "      <td>...</td>\n",
       "      <td>...</td>\n",
       "      <td>...</td>\n",
       "      <td>...</td>\n",
       "      <td>...</td>\n",
       "      <td>...</td>\n",
       "    </tr>\n",
       "    <tr>\n",
       "      <th>2014-05-20</th>\n",
       "      <td>30.372114</td>\n",
       "      <td>0.031103</td>\n",
       "      <td>0.006697</td>\n",
       "      <td>0.000333</td>\n",
       "      <td>0.000145</td>\n",
       "      <td>0.000053</td>\n",
       "      <td>8583</td>\n",
       "    </tr>\n",
       "    <tr>\n",
       "      <th>2014-05-21</th>\n",
       "      <td>30.372141</td>\n",
       "      <td>0.031075</td>\n",
       "      <td>0.006630</td>\n",
       "      <td>0.000374</td>\n",
       "      <td>0.000141</td>\n",
       "      <td>0.000055</td>\n",
       "      <td>8581</td>\n",
       "    </tr>\n",
       "    <tr>\n",
       "      <th>2014-05-22</th>\n",
       "      <td>30.372299</td>\n",
       "      <td>0.030988</td>\n",
       "      <td>0.006609</td>\n",
       "      <td>0.000357</td>\n",
       "      <td>0.000127</td>\n",
       "      <td>0.000065</td>\n",
       "      <td>8582</td>\n",
       "    </tr>\n",
       "    <tr>\n",
       "      <th>2014-05-23</th>\n",
       "      <td>30.372543</td>\n",
       "      <td>0.030948</td>\n",
       "      <td>0.006646</td>\n",
       "      <td>0.000359</td>\n",
       "      <td>0.000135</td>\n",
       "      <td>0.000047</td>\n",
       "      <td>8582</td>\n",
       "    </tr>\n",
       "    <tr>\n",
       "      <th>2014-05-24</th>\n",
       "      <td>30.372740</td>\n",
       "      <td>0.030941</td>\n",
       "      <td>0.006733</td>\n",
       "      <td>0.000308</td>\n",
       "      <td>0.000146</td>\n",
       "      <td>0.000074</td>\n",
       "      <td>8582</td>\n",
       "    </tr>\n",
       "  </tbody>\n",
       "</table>\n",
       "<p>1486 rows × 7 columns</p>\n",
       "</div>"
      ],
      "text/plain": [
       "            median_of_mean  median_of_stddev  median_of_amplitude  \\\n",
       "time                                                                \n",
       "2010-04-30       30.374138          0.028910             0.006518   \n",
       "2010-05-01       30.374133          0.028986             0.006556   \n",
       "2010-05-02       30.374000          0.029030             0.006503   \n",
       "2010-05-03       30.373922          0.029038             0.006513   \n",
       "2010-05-04       30.373876          0.029006             0.006656   \n",
       "...                    ...               ...                  ...   \n",
       "2014-05-20       30.372114          0.031103             0.006697   \n",
       "2014-05-21       30.372141          0.031075             0.006630   \n",
       "2014-05-22       30.372299          0.030988             0.006609   \n",
       "2014-05-23       30.372543          0.030948             0.006646   \n",
       "2014-05-24       30.372740          0.030941             0.006733   \n",
       "\n",
       "            stddev_of_mean  stddev_of_stddev  stddev_of_amplitude  \\\n",
       "time                                                                \n",
       "2010-04-30        0.000175          0.000076             0.000058   \n",
       "2010-05-01        0.000199          0.000070             0.000052   \n",
       "2010-05-02        0.000210          0.000070             0.000048   \n",
       "2010-05-03        0.000206          0.000102             0.000049   \n",
       "2010-05-04        0.000195          0.000092             0.000059   \n",
       "...                    ...               ...                  ...   \n",
       "2014-05-20        0.000333          0.000145             0.000053   \n",
       "2014-05-21        0.000374          0.000141             0.000055   \n",
       "2014-05-22        0.000357          0.000127             0.000065   \n",
       "2014-05-23        0.000359          0.000135             0.000047   \n",
       "2014-05-24        0.000308          0.000146             0.000074   \n",
       "\n",
       "            available_data  \n",
       "time                        \n",
       "2010-04-30            8570  \n",
       "2010-05-01            8579  \n",
       "2010-05-02            8579  \n",
       "2010-05-03            8640  \n",
       "2010-05-04            8578  \n",
       "...                    ...  \n",
       "2014-05-20            8583  \n",
       "2014-05-21            8581  \n",
       "2014-05-22            8582  \n",
       "2014-05-23            8582  \n",
       "2014-05-24            8582  \n",
       "\n",
       "[1486 rows x 7 columns]"
      ]
     },
     "execution_count": 89,
     "metadata": {},
     "output_type": "execute_result"
    }
   ],
   "source": [
    "eve_daily_df"
   ]
  },
  {
   "cell_type": "code",
   "execution_count": 37,
   "metadata": {},
   "outputs": [],
   "source": [
    "# draw a scatter plot of x_ave vs eve_daily_df['median_of_mean']\n",
    "# a thing to note is: the index of aia_df and eve_daily_df are not the same, \n",
    "# aia_df index is like 2010-06-01 00:00:08.120\n",
    "# eve_daily_df index is like 2010-04-30\n",
    "\n"
   ]
  },
  {
   "cell_type": "code",
   "execution_count": 152,
   "metadata": {},
   "outputs": [
    {
     "data": {
      "text/html": [
       "<div>\n",
       "<style scoped>\n",
       "    .dataframe tbody tr th:only-of-type {\n",
       "        vertical-align: middle;\n",
       "    }\n",
       "\n",
       "    .dataframe tbody tr th {\n",
       "        vertical-align: top;\n",
       "    }\n",
       "\n",
       "    .dataframe thead th {\n",
       "        text-align: right;\n",
       "    }\n",
       "</style>\n",
       "<table border=\"1\" class=\"dataframe\">\n",
       "  <thead>\n",
       "    <tr style=\"text-align: right;\">\n",
       "      <th></th>\n",
       "      <th>image</th>\n",
       "      <th>filename</th>\n",
       "      <th>x_ave</th>\n",
       "      <th>y_ave</th>\n",
       "    </tr>\n",
       "    <tr>\n",
       "      <th>time</th>\n",
       "      <th></th>\n",
       "      <th></th>\n",
       "      <th></th>\n",
       "      <th></th>\n",
       "    </tr>\n",
       "  </thead>\n",
       "  <tbody>\n",
       "    <tr>\n",
       "      <th>2010-06-01</th>\n",
       "      <td>[[0.003302, 0.0, 0.0, 0.0, 0.0, 0.0, 0.001377,...</td>\n",
       "      <td>./data/AIA_1p5\\aia_lev1_304a_2010_06_01t00_00_...</td>\n",
       "      <td>0.000011</td>\n",
       "      <td>0.000064</td>\n",
       "    </tr>\n",
       "    <tr>\n",
       "      <th>2010-06-02</th>\n",
       "      <td>[[0.0, 0.0, 0.0, 0.0, 0.0, 0.0, 0.0, 1.276e-05...</td>\n",
       "      <td>./data/AIA_1p5\\aia_lev1_304a_2010_06_02t00_05_...</td>\n",
       "      <td>0.000039</td>\n",
       "      <td>0.000053</td>\n",
       "    </tr>\n",
       "    <tr>\n",
       "      <th>2010-06-03</th>\n",
       "      <td>[[0.0, 0.0, 3.535e-05, 0.0, 0.0, 5.496e-05, 0....</td>\n",
       "      <td>./data/AIA_1p5\\aia_lev1_304a_2010_06_03t00_00_...</td>\n",
       "      <td>0.000036</td>\n",
       "      <td>0.000065</td>\n",
       "    </tr>\n",
       "    <tr>\n",
       "      <th>2010-06-04</th>\n",
       "      <td>[[0.0, 0.0, 0.0, 0.0004733, 0.0, 0.0, 0.0, 0.0...</td>\n",
       "      <td>./data/AIA_1p5\\aia_lev1_304a_2010_06_04t00_00_...</td>\n",
       "      <td>0.000066</td>\n",
       "      <td>0.000071</td>\n",
       "    </tr>\n",
       "    <tr>\n",
       "      <th>2010-06-05</th>\n",
       "      <td>[[nan, nan, nan, nan, nan, nan, nan, nan, nan,...</td>\n",
       "      <td>./data/AIA_1p5\\aia_lev1_304a_2010_06_05t00_00_...</td>\n",
       "      <td>NaN</td>\n",
       "      <td>NaN</td>\n",
       "    </tr>\n",
       "    <tr>\n",
       "      <th>...</th>\n",
       "      <td>...</td>\n",
       "      <td>...</td>\n",
       "      <td>...</td>\n",
       "      <td>...</td>\n",
       "    </tr>\n",
       "    <tr>\n",
       "      <th>2014-05-20</th>\n",
       "      <td>[[0.0, 0.0, 0.0, 0.0, 0.0, 0.0, 0.0, 0.0, 0.0,...</td>\n",
       "      <td>./data/AIA_1p5\\aia_lev1_304a_2014_05_20t00_00_...</td>\n",
       "      <td>0.000157</td>\n",
       "      <td>-0.000151</td>\n",
       "    </tr>\n",
       "    <tr>\n",
       "      <th>2014-05-21</th>\n",
       "      <td>[[0.0, 0.0, 0.0, 0.0, 0.0, 0.0, 0.0, 0.0, 0.0,...</td>\n",
       "      <td>./data/AIA_1p5\\aia_lev1_304a_2014_05_21t00_00_...</td>\n",
       "      <td>0.000132</td>\n",
       "      <td>-0.000192</td>\n",
       "    </tr>\n",
       "    <tr>\n",
       "      <th>2014-05-22</th>\n",
       "      <td>[[0.0, 0.0, 0.0, 0.0, 0.0, 0.0, 0.0, 0.0, 0.0,...</td>\n",
       "      <td>./data/AIA_1p5\\aia_lev1_304a_2014_05_22t00_00_...</td>\n",
       "      <td>0.000116</td>\n",
       "      <td>-0.000187</td>\n",
       "    </tr>\n",
       "    <tr>\n",
       "      <th>2014-05-23</th>\n",
       "      <td>[[0.0, 0.0, 0.0, 0.0, 0.0, 0.0, 0.0, 0.0, 0.0,...</td>\n",
       "      <td>./data/AIA_1p5\\aia_lev1_304a_2014_05_23t00_00_...</td>\n",
       "      <td>0.000096</td>\n",
       "      <td>-0.000203</td>\n",
       "    </tr>\n",
       "    <tr>\n",
       "      <th>2014-05-24</th>\n",
       "      <td>[[0.0, 0.0, 0.0, 0.0, 0.0, 0.0, 0.0, 0.0, 0.0,...</td>\n",
       "      <td>./data/AIA_1p5\\aia_lev1_304a_2014_05_24t00_00_...</td>\n",
       "      <td>0.000109</td>\n",
       "      <td>-0.000232</td>\n",
       "    </tr>\n",
       "  </tbody>\n",
       "</table>\n",
       "<p>1453 rows × 4 columns</p>\n",
       "</div>"
      ],
      "text/plain": [
       "                                                        image  \\\n",
       "time                                                            \n",
       "2010-06-01  [[0.003302, 0.0, 0.0, 0.0, 0.0, 0.0, 0.001377,...   \n",
       "2010-06-02  [[0.0, 0.0, 0.0, 0.0, 0.0, 0.0, 0.0, 1.276e-05...   \n",
       "2010-06-03  [[0.0, 0.0, 3.535e-05, 0.0, 0.0, 5.496e-05, 0....   \n",
       "2010-06-04  [[0.0, 0.0, 0.0, 0.0004733, 0.0, 0.0, 0.0, 0.0...   \n",
       "2010-06-05  [[nan, nan, nan, nan, nan, nan, nan, nan, nan,...   \n",
       "...                                                       ...   \n",
       "2014-05-20  [[0.0, 0.0, 0.0, 0.0, 0.0, 0.0, 0.0, 0.0, 0.0,...   \n",
       "2014-05-21  [[0.0, 0.0, 0.0, 0.0, 0.0, 0.0, 0.0, 0.0, 0.0,...   \n",
       "2014-05-22  [[0.0, 0.0, 0.0, 0.0, 0.0, 0.0, 0.0, 0.0, 0.0,...   \n",
       "2014-05-23  [[0.0, 0.0, 0.0, 0.0, 0.0, 0.0, 0.0, 0.0, 0.0,...   \n",
       "2014-05-24  [[0.0, 0.0, 0.0, 0.0, 0.0, 0.0, 0.0, 0.0, 0.0,...   \n",
       "\n",
       "                                                     filename     x_ave  \\\n",
       "time                                                                      \n",
       "2010-06-01  ./data/AIA_1p5\\aia_lev1_304a_2010_06_01t00_00_...  0.000011   \n",
       "2010-06-02  ./data/AIA_1p5\\aia_lev1_304a_2010_06_02t00_05_...  0.000039   \n",
       "2010-06-03  ./data/AIA_1p5\\aia_lev1_304a_2010_06_03t00_00_...  0.000036   \n",
       "2010-06-04  ./data/AIA_1p5\\aia_lev1_304a_2010_06_04t00_00_...  0.000066   \n",
       "2010-06-05  ./data/AIA_1p5\\aia_lev1_304a_2010_06_05t00_00_...       NaN   \n",
       "...                                                       ...       ...   \n",
       "2014-05-20  ./data/AIA_1p5\\aia_lev1_304a_2014_05_20t00_00_...  0.000157   \n",
       "2014-05-21  ./data/AIA_1p5\\aia_lev1_304a_2014_05_21t00_00_...  0.000132   \n",
       "2014-05-22  ./data/AIA_1p5\\aia_lev1_304a_2014_05_22t00_00_...  0.000116   \n",
       "2014-05-23  ./data/AIA_1p5\\aia_lev1_304a_2014_05_23t00_00_...  0.000096   \n",
       "2014-05-24  ./data/AIA_1p5\\aia_lev1_304a_2014_05_24t00_00_...  0.000109   \n",
       "\n",
       "               y_ave  \n",
       "time                  \n",
       "2010-06-01  0.000064  \n",
       "2010-06-02  0.000053  \n",
       "2010-06-03  0.000065  \n",
       "2010-06-04  0.000071  \n",
       "2010-06-05       NaN  \n",
       "...              ...  \n",
       "2014-05-20 -0.000151  \n",
       "2014-05-21 -0.000192  \n",
       "2014-05-22 -0.000187  \n",
       "2014-05-23 -0.000203  \n",
       "2014-05-24 -0.000232  \n",
       "\n",
       "[1453 rows x 4 columns]"
      ]
     },
     "execution_count": 152,
     "metadata": {},
     "output_type": "execute_result"
    }
   ],
   "source": [
    "# turn the time col of aia_df of: 2010-06-01 00:00:08.120    into 2010-06-01\n",
    "temp_aia_df=aia_df.copy()\n",
    "temp_aia_df['time']=temp_aia_df['time'].apply(lambda x: pd.to_datetime(x.date()))\n",
    "temp_aia_df.set_index('time',inplace=True)\n",
    "temp_aia_df"
   ]
  },
  {
   "cell_type": "code",
   "execution_count": 153,
   "metadata": {},
   "outputs": [
    {
     "data": {
      "text/plain": [
       "<matplotlib.collections.PathCollection at 0x200bc19edf0>"
      ]
     },
     "execution_count": 153,
     "metadata": {},
     "output_type": "execute_result"
    },
    {
     "data": {
      "image/png": "[encoded data removed]",
      "text/plain": [
       "<Figure size 640x480 with 1 Axes>"
      ]
     },
     "metadata": {},
     "output_type": "display_data"
    }
   ],
   "source": [
    "#find the common index of temp_aia_df and eve_daily_df\n",
    "# draw a scatter plot of x_ave vs eve_daily_df['median_of_mean']\n",
    "\n",
    "common_index=temp_aia_df.index.intersection(eve_daily_df.index)\n",
    "fig, ax = plt.subplots()\n",
    "ax.scatter(temp_aia_df.loc[common_index]['x_ave'],eve_daily_df.loc[common_index]['median_of_mean'])\n"
   ]
  },
  {
   "cell_type": "code",
   "execution_count": 154,
   "metadata": {},
   "outputs": [
    {
     "data": {
      "text/plain": [
       "<matplotlib.collections.PathCollection at 0x200bc1d99a0>"
      ]
     },
     "execution_count": 154,
     "metadata": {},
     "output_type": "execute_result"
    },
    {
     "data": {
      "image/png": "[encoded data removed]",
      "text/plain": [
       "<Figure size 640x480 with 1 Axes>"
      ]
     },
     "metadata": {},
     "output_type": "display_data"
    }
   ],
   "source": [
    "fig,ax=plt.subplots()\n",
    "ax.scatter(temp_aia_df.loc[common_index]['y_ave'],eve_daily_df.loc[common_index]['median_of_mean'])"
   ]
  },
  {
   "cell_type": "code",
   "execution_count": 157,
   "metadata": {},
   "outputs": [],
   "source": [
    "timerange=pd.date_range('2012-7-22','2012-12-25',freq='D')"
   ]
  },
  {
   "cell_type": "code",
   "execution_count": 158,
   "metadata": {},
   "outputs": [
    {
     "data": {
      "text/plain": [
       "<matplotlib.collections.PathCollection at 0x200bd286fa0>"
      ]
     },
     "execution_count": 158,
     "metadata": {},
     "output_type": "execute_result"
    },
    {
     "data": {
      "image/png": "[encoded data removed]",
      "text/plain": [
       "<Figure size 640x480 with 1 Axes>"
      ]
     },
     "metadata": {},
     "output_type": "display_data"
    }
   ],
   "source": [
    "fig,ax=plt.subplots()\n",
    "ax.scatter(temp_aia_df.loc[timerange]['x_ave'],eve_daily_df.loc[timerange]['median_of_mean'])"
   ]
  },
  {
   "cell_type": "code",
   "execution_count": 163,
   "metadata": {},
   "outputs": [
    {
     "name": "stdout",
     "output_type": "stream",
     "text": [
      "slope:  -154.12338485100247\n",
      "intercept:  30.372188432225297\n",
      "r_value:  -0.005311459436664458\n",
      "p_value:  0.9473610803645816\n",
      "std_err:  2330.6802393223597\n"
     ]
    }
   ],
   "source": [
    "# do a linear regression: temp_aia_df.loc[timerange]['x_ave'] and eve_daily_df.loc[timerange]['median_of_mean']\n",
    "# give me the code instead of comment\n",
    "from scipy import stats\n",
    "slope, intercept, r_value, p_value, std_err = stats.linregress(temp_aia_df.loc[timerange]['y_ave']**2,eve_daily_df.loc[timerange]['median_of_mean'])\n",
    "# print the complete result\n",
    "print('slope: ',slope)\n",
    "print('intercept: ',intercept)\n",
    "print('r_value: ',r_value)\n",
    "print('p_value: ',p_value)\n",
    "print('std_err: ',std_err)"
   ]
  },
  {
   "cell_type": "code",
   "execution_count": 101,
   "metadata": {},
   "outputs": [
    {
     "data": {
      "text/plain": [
       "array([[nan, nan],\n",
       "       [nan, nan]])"
      ]
     },
     "execution_count": 101,
     "metadata": {},
     "output_type": "execute_result"
    }
   ],
   "source": [
    "np.corrcoef(temp_aia_df.loc[common_index]['x_ave'].values,eve_daily_df.loc[common_index]['median_of_mean'].values)\n"
   ]
  },
  {
   "cell_type": "code",
   "execution_count": 55,
   "metadata": {},
   "outputs": [
    {
     "data": {
      "text/plain": [
       "<matplotlib.collections.PathCollection at 0x1fd8d628ee0>"
      ]
     },
     "execution_count": 55,
     "metadata": {},
     "output_type": "execute_result"
    },
    {
     "data": {
      "image/png": "[encoded data removed]",
      "text/plain": [
       "<Figure size 640x480 with 1 Axes>"
      ]
     },
     "metadata": {},
     "output_type": "display_data"
    }
   ],
   "source": [
    "fig,ax=plt.subplots()\n",
    "ax.scatter(temp_aia_df.loc[timerange]['x_ave']**2,eve_daily_df.loc[timerange]['median_of_mean'])"
   ]
  },
  {
   "cell_type": "code",
   "execution_count": null,
   "metadata": {},
   "outputs": [],
   "source": []
  }
 ],
 "metadata": {
  "kernelspec": {
   "display_name": "Python 3 (ipykernel)",
   "language": "python",
   "name": "python3"
  },
  "language_info": {
   "codemirror_mode": {
    "name": "ipython",
    "version": 3
   },
   "file_extension": ".py",
   "mimetype": "text/x-python",
   "name": "python",
   "nbconvert_exporter": "python",
   "pygments_lexer": "ipython3",
   "version": "3.9.16"
  }
 },
 "nbformat": 4,
 "nbformat_minor": 4
}
