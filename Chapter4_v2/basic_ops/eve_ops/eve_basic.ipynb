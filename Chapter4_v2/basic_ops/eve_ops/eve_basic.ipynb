{
 "cells": [
  {
   "cell_type": "code",
   "execution_count": 1,
   "metadata": {},
   "outputs": [],
   "source": [
    "import numpy as np\n",
    "import cupy as cp\n",
    "import cupyx.scipy.signal as signal\n",
    "import scipy\n",
    "import pandas as pd\n",
    "\n",
    "import matplotlib.pyplot as plt\n",
    "import plotly.express as px\n",
    "import plotly.graph_objs as go\n",
    "from plotly.subplots import make_subplots\n",
    "\n",
    "from astropy.modeling import models, fitting\n",
    "import astropy.units as u\n",
    "from astropy import constants as const\n",
    "from astropy.stats import gaussian_sigma_to_fwhm\n",
    "\n",
    "import datetime\n",
    "import pickle\n",
    "import importlib\n",
    "import json\n",
    "import time\n",
    "import glob\n",
    "\n",
    "from gaussian_fit_eve import gaussian_fit_eve\n",
    "from data.eve_const import  wavelength_list_eve"
   ]
  },
  {
   "cell_type": "markdown",
   "metadata": {},
   "source": [
    "## orginal \n",
    "\n",
    "before fitting"
   ]
  },
  {
   "cell_type": "code",
   "execution_count": null,
   "metadata": {},
   "outputs": [],
   "source": [
    "with open('./data/original_data.pkl', 'wb') as file:\n",
    "    pickle.dump(original_df, file)"
   ]
  },
  {
   "cell_type": "code",
   "execution_count": 2,
   "metadata": {},
   "outputs": [],
   "source": [
    "with open('./data/original_data.pkl', 'rb') as file:\n",
    "    original_df = pickle.load(file)"
   ]
  },
  {
   "cell_type": "code",
   "execution_count": 3,
   "metadata": {},
   "outputs": [
    {
     "data": {
      "text/html": [
       "<div>\n",
       "<style scoped>\n",
       "    .dataframe tbody tr th:only-of-type {\n",
       "        vertical-align: middle;\n",
       "    }\n",
       "\n",
       "    .dataframe tbody tr th {\n",
       "        vertical-align: top;\n",
       "    }\n",
       "\n",
       "    .dataframe thead th {\n",
       "        text-align: right;\n",
       "    }\n",
       "</style>\n",
       "<table border=\"1\" class=\"dataframe\">\n",
       "  <thead>\n",
       "    <tr style=\"text-align: right;\">\n",
       "      <th></th>\n",
       "      <th>irradiance</th>\n",
       "    </tr>\n",
       "    <tr>\n",
       "      <th>time</th>\n",
       "      <th></th>\n",
       "    </tr>\n",
       "  </thead>\n",
       "  <tbody>\n",
       "    <tr>\n",
       "      <th>2010-04-30 00:00:00</th>\n",
       "      <td>[2.6092563e-05, 0.00013120413, 0.00046210643, ...</td>\n",
       "    </tr>\n",
       "    <tr>\n",
       "      <th>2010-04-30 00:00:10</th>\n",
       "      <td>[2.4313835e-05, 0.00012673343, 0.00045906374, ...</td>\n",
       "    </tr>\n",
       "    <tr>\n",
       "      <th>2010-04-30 00:00:20</th>\n",
       "      <td>[2.5151077e-05, 0.00012693906, 0.00045360095, ...</td>\n",
       "    </tr>\n",
       "    <tr>\n",
       "      <th>2010-04-30 00:00:30</th>\n",
       "      <td>[2.5799252e-05, 0.00012680102, 0.0004512957, 0...</td>\n",
       "    </tr>\n",
       "    <tr>\n",
       "      <th>2010-04-30 00:00:40</th>\n",
       "      <td>[2.7351613e-05, 0.00012936983, 0.0004534847, 0...</td>\n",
       "    </tr>\n",
       "    <tr>\n",
       "      <th>...</th>\n",
       "      <td>...</td>\n",
       "    </tr>\n",
       "    <tr>\n",
       "      <th>2014-12-31 22:59:19</th>\n",
       "      <td>[-1.0, -1.0, -1.0, -1.0, -1.0, -1.0, -1.0, -1....</td>\n",
       "    </tr>\n",
       "    <tr>\n",
       "      <th>2014-12-31 22:59:29</th>\n",
       "      <td>[-1.0, -1.0, -1.0, -1.0, -1.0, -1.0, -1.0, -1....</td>\n",
       "    </tr>\n",
       "    <tr>\n",
       "      <th>2014-12-31 22:59:39</th>\n",
       "      <td>[-1.0, -1.0, -1.0, -1.0, -1.0, -1.0, -1.0, -1....</td>\n",
       "    </tr>\n",
       "    <tr>\n",
       "      <th>2014-12-31 22:59:49</th>\n",
       "      <td>[-1.0, -1.0, -1.0, -1.0, -1.0, -1.0, -1.0, -1....</td>\n",
       "    </tr>\n",
       "    <tr>\n",
       "      <th>2014-12-31 22:59:59</th>\n",
       "      <td>[-1.0, -1.0, -1.0, -1.0, -1.0, -1.0, -1.0, -1....</td>\n",
       "    </tr>\n",
       "  </tbody>\n",
       "</table>\n",
       "<p>12996720 rows × 1 columns</p>\n",
       "</div>"
      ],
      "text/plain": [
       "                                                            irradiance\n",
       "time                                                                  \n",
       "2010-04-30 00:00:00  [2.6092563e-05, 0.00013120413, 0.00046210643, ...\n",
       "2010-04-30 00:00:10  [2.4313835e-05, 0.00012673343, 0.00045906374, ...\n",
       "2010-04-30 00:00:20  [2.5151077e-05, 0.00012693906, 0.00045360095, ...\n",
       "2010-04-30 00:00:30  [2.5799252e-05, 0.00012680102, 0.0004512957, 0...\n",
       "2010-04-30 00:00:40  [2.7351613e-05, 0.00012936983, 0.0004534847, 0...\n",
       "...                                                                ...\n",
       "2014-12-31 22:59:19  [-1.0, -1.0, -1.0, -1.0, -1.0, -1.0, -1.0, -1....\n",
       "2014-12-31 22:59:29  [-1.0, -1.0, -1.0, -1.0, -1.0, -1.0, -1.0, -1....\n",
       "2014-12-31 22:59:39  [-1.0, -1.0, -1.0, -1.0, -1.0, -1.0, -1.0, -1....\n",
       "2014-12-31 22:59:49  [-1.0, -1.0, -1.0, -1.0, -1.0, -1.0, -1.0, -1....\n",
       "2014-12-31 22:59:59  [-1.0, -1.0, -1.0, -1.0, -1.0, -1.0, -1.0, -1....\n",
       "\n",
       "[12996720 rows x 1 columns]"
      ]
     },
     "execution_count": 3,
     "metadata": {},
     "output_type": "execute_result"
    }
   ],
   "source": [
    "original_df"
   ]
  },
  {
   "cell_type": "code",
   "execution_count": null,
   "metadata": {},
   "outputs": [],
   "source": []
  },
  {
   "cell_type": "markdown",
   "metadata": {},
   "source": [
    "## 10s"
   ]
  },
  {
   "cell_type": "code",
   "execution_count": 6,
   "metadata": {},
   "outputs": [],
   "source": [
    "time_list = original_df.index.tolist()"
   ]
  },
  {
   "cell_type": "code",
   "execution_count": null,
   "metadata": {},
   "outputs": [],
   "source": [
    "mean_10s=[]\n",
    "stddev_10s=[]\n",
    "amp_10s=[]\n",
    "i=0\n",
    "for key in original_df.index:\n",
    "    amp,cen,stddev=gaussian_fit_eve(wavelength_list_eve,original_df.loc[key]['irradiance'])\n",
    "    amp_10s.append(amp)\n",
    "    stddev_10s.append(stddev)\n",
    "    cen_10s.append(cen)\n",
    "    # if not np.isnan(cen):\n",
    "    # print(key,cen)\n",
    "    i=i+1\n",
    "    if(i%8640==0):\n",
    "        print(key,cen)"
   ]
  }
 ],
 "metadata": {
  "kernelspec": {
   "display_name": "Python 3 (ipykernel)",
   "language": "python",
   "name": "python3"
  },
  "language_info": {
   "codemirror_mode": {
    "name": "ipython",
    "version": 3
   },
   "file_extension": ".py",
   "mimetype": "text/x-python",
   "name": "python",
   "nbconvert_exporter": "python",
   "pygments_lexer": "ipython3",
   "version": "3.9.16"
  }
 },
 "nbformat": 4,
 "nbformat_minor": 4
}
