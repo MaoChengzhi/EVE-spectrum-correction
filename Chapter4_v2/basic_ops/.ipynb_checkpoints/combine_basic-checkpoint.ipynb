{
 "cells": [
  {
   "cell_type": "code",
   "execution_count": 1,
   "metadata": {},
   "outputs": [],
   "source": [
    "from aia_ops.aia_simu import get_aia_simu\n",
    "\n",
    "\n",
    "import numpy as np\n",
    "import cupy as cp\n",
    "import cupyx.scipy.signal as signal\n",
    "import scipy\n",
    "from scipy.optimize import curve_fit\n",
    "import pandas as pd\n",
    "\n",
    "import matplotlib.pyplot as plt\n",
    "import plotly.express as px\n",
    "import plotly.graph_objs as go\n",
    "from plotly.subplots import make_subplots\n",
    "\n",
    "from astropy.modeling import models, fitting\n",
    "import astropy.units as u\n",
    "from astropy import constants as const\n",
    "from astropy.stats import gaussian_sigma_to_fwhm,gaussian_fwhm_to_sigma\n",
    "\n",
    "import datetime\n",
    "import pickle\n",
    "import importlib\n",
    "import json\n",
    "import time\n",
    "import glob"
   ]
  },
  {
   "cell_type": "code",
   "execution_count": 2,
   "metadata": {},
   "outputs": [],
   "source": [
    "with open('aia_ops\\data\\\\aia.pkl','rb' ) as f:\n",
    "    aia_data_df=pickle.load(f)\n",
    "\n",
    "with open('eve_ops/data/daily_df.pkl','rb' ) as f:\n",
    "    eve_data_df=pickle.load(f)\n",
    "\n",
    "eve_data_df.reset_index(inplace=True)"
   ]
  },
  {
   "cell_type": "code",
   "execution_count": 17,
   "metadata": {},
   "outputs": [
    {
     "data": {
      "text/plain": [
       "datetime.date(2010, 6, 1)"
      ]
     },
     "execution_count": 17,
     "metadata": {},
     "output_type": "execute_result"
    }
   ],
   "source": [
    "aia_data_df.iloc[0]['time'].date()"
   ]
  },
  {
   "cell_type": "code",
   "execution_count": 4,
   "metadata": {},
   "outputs": [
    {
     "data": {
      "text/plain": [
       "<module 'aia_ops.aia_simu' from 'D:\\\\py_repo\\\\EVE-spectrum-correction\\\\Chapter4_v2\\\\basic_ops\\\\aia_ops\\\\aia_simu.py'>"
      ]
     },
     "execution_count": 4,
     "metadata": {},
     "output_type": "execute_result"
    }
   ],
   "source": []
  },
  {
   "cell_type": "code",
   "execution_count": 14,
   "metadata": {
    "jupyter": {
     "source_hidden": true
    },
    "tags": []
   },
   "outputs": [],
   "source": [
    "t0=pd.to_datetime('2012-06-09 00:00:00')\n",
    "t1=pd.to_datetime('2013-01-25 00:00:00')\n",
    "aia_df=aia_ops.aia_simu.get_aia_simu(aia_data_df,t0,t1)\n",
    "aia_df.set_index('time',inplace=True)\n",
    "eve_df=eve_data_df[(eve_data_df['time']>=t0)&(eve_data_df['time']<=t1)].reset_index(drop=True)\n",
    "eve_df.set_index('time',inplace=True)"
   ]
  },
  {
   "cell_type": "code",
   "execution_count": 41,
   "metadata": {},
   "outputs": [],
   "source": [
    "def plot(aia_df,eve_df):\n",
    "    fig = make_subplots(rows=3, cols=1, shared_xaxes=True, vertical_spacing=.011)\n",
    "\n",
    "    valid_day=np.where(eve_df['available_data']>=np.nanmean(eve_df['available_data'])*0.2,1,np.nan)\n",
    "    x = eve_df.index\n",
    "    y_median = eve_df['median_of_mean']*valid_day\n",
    "    y_stddev = eve_df['stddev_of_mean']\n",
    "    fill_x = np.concatenate([x, x[::-1]])\n",
    "    fill_y = np.concatenate([y_median + 3 * y_stddev, (y_median - 3 * y_stddev)[::-1]])\n",
    "\n",
    "    # EVE: Plot the mean line\n",
    "    fig.add_trace(go.Scatter(x=x, y=y_median,\n",
    "                                  # showlegend=False, \n",
    "                            line=dict(color='rgb(0,128,255)', ),\n",
    "                            name='EVE') ,\n",
    "                row=3, col=1,)\n",
    "    # Plot the shaded area between mean + 3 std deviations and mean - 3 std deviations\n",
    "    fig.add_trace(go.Scatter(x=fill_x, y=fill_y, mode='lines', \n",
    "                                  fill='tozerox', \n",
    "                                  fillcolor='rgba(0,176,246,0.2)',\n",
    "                                  line=dict(color='rgba(127,255,0,0.2)'),\n",
    "                                  showlegend=False, \n",
    "                                  name='3 Std. Dev.'),\n",
    "                row=3, col=1)\n",
    "    #AIA\n",
    "    fig.add_trace(go.Scatter(x=aia_df.index, y=aia_df['mean'],\n",
    "                            # showlegend=False, \n",
    "                      line=dict(color='rgb(255,128,53)'),\n",
    "                                  name='AIA') ,\n",
    "                row=3, col=1,)\n",
    "\n",
    "    fig.update_yaxes(title_text=\"Mean (nm)\",range=[30.3705, 30.3755],row=3, col=1)\n",
    "    # Show the plot\n",
    "\n",
    "\n",
    "\n",
    "    # Create a figure for stddev\n",
    "    x = eve_df.index\n",
    "    y_median = eve_df['median_of_stddev']*valid_day\n",
    "    y_stddev = eve_df['stddev_of_stddev']\n",
    "    fill_x = np.concatenate([x, x[::-1]])\n",
    "    fill_y = np.concatenate([y_median + 3 * y_stddev, (y_median - 3 * y_stddev)[::-1]])\n",
    "\n",
    "    fig.add_trace(go.Scatter(x=x, y=y_median,\n",
    "                                  showlegend=False,\n",
    "                            line=dict(color='rgb(0,128,255)'),),\n",
    "                            row=2, col=1)\n",
    "    # Plot the shaded area between mean + 3 std deviations and mean - 3 std deviations\n",
    "    fig.add_trace(go.Scatter(x=fill_x, y=fill_y, mode='lines', \n",
    "                                  fill='tozerox', \n",
    "                                  fillcolor='rgba(0,176,246,0.2)',\n",
    "                                  line=dict(color='rgba(127,255,0,0.2)'),\n",
    "                                  showlegend=False,\n",
    "                                  name='3 Std. Dev.'),\n",
    "                      row=2, col=1)\n",
    "    #AIA\n",
    "    fig.add_trace(go.Scatter(x=aia_df.index, y=aia_df['stddev'],\n",
    "                            showlegend=False, \n",
    "                      line=dict(color='rgb(255,128,53)', )) ,\n",
    "                row=2, col=1,)\n",
    "    fig.update_yaxes(title_text=\"Stddev (nm)\",\n",
    "                     range=[0.029, 0.031],\n",
    "                     row=2, col=1)\n",
    "\n",
    "\n",
    "\n",
    "\n",
    "\n",
    "    # # Create a figure for amplitude\n",
    "    x = eve_df.index\n",
    "    y_median = eve_df['median_of_amplitude']*valid_day\n",
    "    y_stddev = eve_df['stddev_of_amplitude']\n",
    "    fill_x = np.concatenate([x, x[::-1]])\n",
    "    fill_y = np.concatenate([y_median + 3 * y_stddev, (y_median - 3 * y_stddev)[::-1]])\n",
    "\n",
    "\n",
    "    fig.add_trace(go.Scatter(x=eve_df.index, y=y_median/np.nanmean(y_median),\n",
    "                                              showlegend=False,\n",
    "                            line=dict(color='rgb(0,128,255)'),),\n",
    "                            row=1, col=1)\n",
    "    # Plot the shaded area between mean + 3 std deviations and mean - 3 std deviations\n",
    "    fig.add_trace(go.Scatter(x=fill_x, y=fill_y/np.nanmean(y_median), mode='lines', \n",
    "                                  fill='tozerox', \n",
    "                                  fillcolor='rgba(0,176,246,0.2)',\n",
    "                                  line=dict(color='rgba(127,255,0,0.2)'),\n",
    "                                  showlegend=False, \n",
    "                                  name='3 Std. Dev.'),\n",
    "                            row=1, col=1)\n",
    "    #AIA\n",
    "    fig.add_trace(go.Scatter(x=aia_df.index, y=aia_df['amplitude']/np.nanmean(aia_df['amplitude']),\n",
    "                            showlegend=False, \n",
    "                      line=dict(color='rgb(255,128,53)', )) ,\n",
    "                row=1, col=1,)\n",
    "    fig.update_yaxes(title_text='relative amplitude ',\n",
    "                      # range=[0.6, 1.4],\n",
    "                      row=1, col=1)\n",
    "\n",
    "\n",
    "\n",
    "    # total fig adjustment\n",
    "    fig.update_layout(width=1200,height=1200,\n",
    "                            title_text=f\"EVE AIA\",\n",
    "                            legend=dict(x=1, y=0.9)) \n",
    "    fig.update_xaxes(title_text=\"Time\",row=3, col=1)\n",
    "\n",
    "    fig.write_html('output/fig.html')"
   ]
  },
  {
   "cell_type": "code",
   "execution_count": 19,
   "metadata": {},
   "outputs": [],
   "source": [
    "def combine_trial(aia_data_df,eve_data_df,t0,t1):\n",
    "    aia_df=aia_ops.aia_simu.get_aia_simu(aia_data_df,t0,t1)\n",
    "    aia_df.set_index('time',inplace=True)\n",
    "    eve_df=eve_data_df[(eve_data_df['time']>=t0)&(eve_data_df['time']<=t1)].reset_index(drop=True)\n",
    "    eve_df.set_index('time',inplace=True)\n",
    "    \n",
    "    plot(aia_df,eve_df)"
   ]
  },
  {
   "cell_type": "markdown",
   "metadata": {},
   "source": [
    "## endless trial and adjustment"
   ]
  },
  {
   "cell_type": "code",
   "execution_count": 135,
   "metadata": {},
   "outputs": [
    {
     "data": {
      "text/plain": [
       "<module 'aia_ops.aia_simu' from 'D:\\\\py_repo\\\\EVE-spectrum-correction\\\\Chapter4_v2\\\\basic_ops\\\\aia_ops\\\\aia_simu.py'>"
      ]
     },
     "execution_count": 135,
     "metadata": {},
     "output_type": "execute_result"
    }
   ],
   "source": [
    "import aia_ops\n",
    "importlib.reload(aia_ops.aia_simu)"
   ]
  },
  {
   "cell_type": "code",
   "execution_count": 136,
   "metadata": {},
   "outputs": [],
   "source": [
    "t0=pd.to_datetime('2012-07-01 00:00:00')\n",
    "t1=pd.to_datetime('2013-01-01 00:00:00')\n",
    "\n",
    "combine_trial(aia_data_df,eve_data_df,t0,t1)"
   ]
  },
  {
   "cell_type": "markdown",
   "metadata": {},
   "source": [
    "# draft"
   ]
  },
  {
   "cell_type": "code",
   "execution_count": 80,
   "metadata": {},
   "outputs": [
    {
     "data": {
      "text/plain": [
       "<module 'astropy.units' from 'C:\\\\Users\\\\14902\\\\anaconda3\\\\envs\\\\sdo2022\\\\lib\\\\site-packages\\\\astropy\\\\units\\\\__init__.py'>"
      ]
     },
     "execution_count": 80,
     "metadata": {},
     "output_type": "execute_result"
    }
   ],
   "source": [
    "u"
   ]
  },
  {
   "cell_type": "code",
   "execution_count": 97,
   "metadata": {},
   "outputs": [
    {
     "data": {
      "text/latex": [
       "$0.0003039933 \\; \\mathrm{nm}$"
      ],
      "text/plain": [
       "<Quantity 0.00030399 nm>"
      ]
     },
     "execution_count": 97,
     "metadata": {},
     "output_type": "execute_result"
    }
   ],
   "source": [
    "(3000*u.m/u.s ).to(u.nm, equivalencies=u.doppler_optical(30.3783 * u.nm))-30.3783* u.nm"
   ]
  },
  {
   "cell_type": "code",
   "execution_count": 73,
   "metadata": {},
   "outputs": [
    {
     "data": {
      "text/plain": [
       "312.2738079091585"
      ]
     },
     "execution_count": 73,
     "metadata": {},
     "output_type": "execute_result"
    }
   ],
   "source": [
    "#15'   ~     0.014   Tx 前面的系数\n",
    "\n",
    "0.014*(1/(15*np.pi/(180*60)))**2 *gaussian_fwhm_to_sigma"
   ]
  },
  {
   "cell_type": "code",
   "execution_count": 127,
   "metadata": {},
   "outputs": [
    {
     "data": {
      "text/plain": [
       "4.050666666666667e-12"
      ]
     },
     "execution_count": 127,
     "metadata": {},
     "output_type": "execute_result"
    }
   ],
   "source": [
    "def doppler_shift(velocity, wavelength=30.38e-9):\n",
    "\n",
    "    c = 3e8\n",
    "    \n",
    "    # Calculate Doppler shift using formula: Doppler shift = velocity / c * wavelength\n",
    "    doppler_shift = velocity / c * wavelength\n",
    "   \n",
    "    return doppler_shift\n",
    "\n",
    "doppler_shift(40e3)"
   ]
  },
  {
   "cell_type": "markdown",
   "metadata": {},
   "source": [
    "4e-3    ~    DN 1000   \n"
   ]
  },
  {
   "cell_type": "code",
   "execution_count": 120,
   "metadata": {},
   "outputs": [
    {
     "data": {
      "text/plain": [
       "9874.917709019091"
      ]
     },
     "execution_count": 120,
     "metadata": {},
     "output_type": "execute_result"
    }
   ],
   "source": [
    "def velocity_from_doppler_shift(doppler_shift, wavelength=30.38e-9):\n",
    "\n",
    "    c = 3e8\n",
    "    \n",
    "    # Calculate velocity using formula: Velocity = Doppler shift * c / wavelength\n",
    "    velocity = doppler_shift * c / wavelength\n",
    "    \n",
    "    return velocity\n",
    "\n",
    "# Example usage:\n",
    "doppler_shift_input = 0.001e-9  # Angstroms\n",
    "calculated_velocity = velocity_from_doppler_shift(doppler_shift_input)\n",
    "calculated_velocity"
   ]
  },
  {
   "cell_type": "code",
   "execution_count": 125,
   "metadata": {},
   "outputs": [
    {
     "data": {
      "text/plain": [
       "49374.58854509545"
      ]
     },
     "execution_count": 125,
     "metadata": {},
     "output_type": "execute_result"
    }
   ],
   "source": [
    "velocity_from_doppler_shift(0.005e-9)"
   ]
  },
  {
   "cell_type": "code",
   "execution_count": 124,
   "metadata": {},
   "outputs": [
    {
     "data": {
      "text/plain": [
       "5.945252602016134"
      ]
     },
     "execution_count": 124,
     "metadata": {},
     "output_type": "execute_result"
    }
   ],
   "source": [
    "14*gaussian_fwhm_to_sigma"
   ]
  },
  {
   "cell_type": "code",
   "execution_count": null,
   "metadata": {},
   "outputs": [],
   "source": [
    "0.005"
   ]
  }
 ],
 "metadata": {
  "kernelspec": {
   "display_name": "Python 3 (ipykernel)",
   "language": "python",
   "name": "python3"
  },
  "language_info": {
   "codemirror_mode": {
    "name": "ipython",
    "version": 3
   },
   "file_extension": ".py",
   "mimetype": "text/x-python",
   "name": "python",
   "nbconvert_exporter": "python",
   "pygments_lexer": "ipython3",
   "version": "3.9.16"
  }
 },
 "nbformat": 4,
 "nbformat_minor": 4
}
