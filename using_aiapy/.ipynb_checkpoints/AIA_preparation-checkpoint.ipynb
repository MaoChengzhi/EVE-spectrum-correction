{
 "cells": [
  {
   "cell_type": "code",
   "execution_count": 1,
   "id": "07d3e79f-5f6d-4d6e-b81e-b60a24ba85f9",
   "metadata": {},
   "outputs": [],
   "source": [
    "import sunpy.map\n",
    "from aiapy.calibrate import normalize_exposure, register, update_pointing\n",
    "import numpy as np"
   ]
  },
  {
   "cell_type": "code",
   "execution_count": 2,
   "id": "28f294f3-d79d-43b1-854d-c5737a47e3f0",
   "metadata": {},
   "outputs": [],
   "source": [
    "AIA_filename = \"data/AIA/aia_lev1_304a_2011_01_27t22_58_56_12z_image_lev1.fits\"\n",
    "m_aia = sunpy.map.Map(AIA_filename)\n",
    "m_normalized = normalize_exposure(register(update_pointing(m_aia)))\n",
    "m_nonnormal=register(update_pointing(m_aia))"
   ]
  },
  {
   "cell_type": "code",
   "execution_count": 8,
   "id": "eca7e5c2-a4ae-492d-baae-97494888ca1b",
   "metadata": {},
   "outputs": [],
   "source": [
    "image_data=m_normalized.data"
   ]
  },
  {
   "cell_type": "code",
   "execution_count": 14,
   "id": "6b8878a9-000c-43d2-adb8-2255dd9e282b",
   "metadata": {},
   "outputs": [],
   "source": [
    "np.savez(\"data/AIA/image_data_4096_normalized.npz\", image_data=image_data)"
   ]
  },
  {
   "cell_type": "code",
   "execution_count": null,
   "id": "df6ca31b-958a-434c-b199-14c736941354",
   "metadata": {},
   "outputs": [],
   "source": [
    "np.savez(\"data/AIA/image_data_4096_nonnormal.npz\", image_data=image_data)"
   ]
  }
 ],
 "metadata": {
  "kernelspec": {
   "display_name": "Python 3 (ipykernel)",
   "language": "python",
   "name": "python3"
  },
  "language_info": {
   "codemirror_mode": {
    "name": "ipython",
    "version": 3
   },
   "file_extension": ".py",
   "mimetype": "text/x-python",
   "name": "python",
   "nbconvert_exporter": "python",
   "pygments_lexer": "ipython3",
   "version": "3.9.13"
  }
 },
 "nbformat": 4,
 "nbformat_minor": 5
}
