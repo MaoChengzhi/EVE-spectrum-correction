{
 "cells": [
  {
   "cell_type": "markdown",
   "id": "0b93afc1-06e4-4a8d-b928-9538779deed9",
   "metadata": {},
   "source": [
    "# Download the AIA image"
   ]
  },
  {
   "cell_type": "code",
   "execution_count": 20,
   "id": "c86dea3b",
   "metadata": {},
   "outputs": [],
   "source": [
    "import astropy.units as u\n",
    "from sunpy.net import Fido, attrs as a\n",
    "\n",
    "cme_start = \"2011-01-27T22:58:56\"\n",
    "cme_end = \"2011-01-27T22:58:56\"\n",
    "cme_time = a.Time(cme_start, cme_end)\n",
    "\n",
    "unifresp = Fido.search(cme_time,a.Instrument.aia,\\\n",
    "                       a.Wavelength(304*u.angstrom))"
   ]
  },
  {
   "cell_type": "code",
   "execution_count": 24,
   "id": "b5f3b98b",
   "metadata": {},
   "outputs": [
    {
     "data": {
      "application/vnd.jupyter.widget-view+json": {
       "model_id": "c0acd321e07442449e51e3d524fec38e",
       "version_major": 2,
       "version_minor": 0
      },
      "text/plain": [
       "Files Downloaded:   0%|          | 0/1 [00:00<?, ?file/s]"
      ]
     },
     "metadata": {},
     "output_type": "display_data"
    },
    {
     "data": {
      "application/vnd.jupyter.widget-view+json": {
       "model_id": "",
       "version_major": 2,
       "version_minor": 0
      },
      "text/plain": [
       "aia_lev1_304a_2011_01_27t22_58_56_12z_image_lev1.fits:   0%|          | 0.00/9.97M [00:00<?, ?B/s]"
      ]
     },
     "metadata": {},
     "output_type": "display_data"
    }
   ],
   "source": [
    "files = Fido.fetch(unifresp, path='data/{instrument}')"
   ]
  },
  {
   "cell_type": "markdown",
   "id": "5ae966d9-4c8b-4d82-98ee-ef573e7bab25",
   "metadata": {},
   "source": [
    "## Failed attempt\n",
    "### sunpy.database \n",
    "sunpy.database module is no longer actively maintained"
   ]
  },
  {
   "cell_type": "code",
   "execution_count": 6,
   "id": "bf7e895d",
   "metadata": {},
   "outputs": [
    {
     "name": "stderr",
     "output_type": "stream",
     "text": [
      "WARNING: SunpyUserWarning: VSO-C500 :soap:Server.Transport : 404 Not Found [sunpy.net.vso.vso]\n",
      "WARNING: SunpyUserWarning: Connection to http://docs.virtualsolar.org/WSDL/VSOi_rpc_literal.wsdl failed with error <urlopen error [WinError 10060] 由于连接方在一段时间后没有正确答复或连接的主机没有反应，连接尝试失败。>. Retrying with different url and port. [sunpy.net.vso.vso]\n",
      "Forcing soap:address location to HTTPS\n",
      "Forcing soap:address location to HTTPS\n"
     ]
    }
   ],
   "source": [
    "import astropy.units as u\n",
    "from sunpy.net import Fido, attrs as a\n",
    "from sunpy.database import Database\n",
    "\n",
    "db = Database()\n",
    "db.fetch(a.Time(\"2020-09-20T01:00:00\", \"2020-09-20T02:00:00\"),\n",
    "         a.Instrument.eve, a.Sample(45*u.min), path='data1/{instrument}')  "
   ]
  },
  {
   "cell_type": "markdown",
   "id": "104ec5ba-0002-4840-8331-ed3784efd790",
   "metadata": {},
   "source": [
    "## rough draft"
   ]
  },
  {
   "cell_type": "markdown",
   "id": "0d134408-86a9-4e03-875b-3c0adff8685a",
   "metadata": {},
   "source": [
    "### data of other wavelength not availabe?"
   ]
  },
  {
   "cell_type": "code",
   "execution_count": 9,
   "id": "f590a4d3",
   "metadata": {},
   "outputs": [
    {
     "data": {
      "text/html": [
       "Results from 0 Providers:</br></br>"
      ],
      "text/plain": [
       "<sunpy.net.fido_factory.UnifiedResponse object at 0x000001F62BF7A280>\n",
       "Results from 0 Providers:\n"
      ]
     },
     "execution_count": 9,
     "metadata": {},
     "output_type": "execute_result"
    }
   ],
   "source": [
    "cme_start = \"2011-01-27T22:58:56\"\n",
    "cme_end = \"2011-01-27T22:58:56\"\n",
    "cme_time = a.Time(cme_start, cme_end)\n",
    "\n",
    "unifresp = Fido.search(cme_time,a.Instrument.aia,a.Sample(20 * u.minute),\\\n",
    "                       a.Wavelength(131*u.angstrom)) \n",
    "unifresp"
   ]
  },
  {
   "cell_type": "markdown",
   "id": "c51b4e81-7a28-43ce-a07c-6cab3ab204e4",
   "metadata": {},
   "source": [
    "### EVE not available?\n",
    "WARNING: SunpyUserWarning: VSO-C500 :soap:Server.Transport : 404 Not Found [sunpy.net.vso.vso]"
   ]
  },
  {
   "cell_type": "code",
   "execution_count": 10,
   "id": "db63ab77",
   "metadata": {},
   "outputs": [
    {
     "name": "stderr",
     "output_type": "stream",
     "text": [
      "WARNING: SunpyUserWarning: VSO-C500 :soap:Server.Transport : 404 Not Found [sunpy.net.vso.vso]\n"
     ]
    }
   ],
   "source": [
    "from sunpy.net import Fido, attrs as a\n",
    "results = Fido.search(a.Time(\"2012/1/1\", \"2012/1/2\"), a.Level.two,\n",
    "                      a.Instrument.lyra | a.Instrument.eve)  \n"
   ]
  },
  {
   "cell_type": "code",
   "execution_count": 12,
   "id": "c936fee6-7155-4e34-b418-5b5de818c6a2",
   "metadata": {},
   "outputs": [
    {
     "name": "stdout",
     "output_type": "stream",
     "text": [
      "Results from 1 Provider:\n",
      "\n",
      "2 Results from the LYRAClient:\n",
      "Source: http://proba2.oma.be/lyra/data/bsd\n",
      "\n",
      "       Start Time               End Time        Instrument ... Provider Level\n",
      "----------------------- ----------------------- ---------- ... -------- -----\n",
      "2012-01-01 00:00:00.000 2012-01-01 23:59:59.999       LYRA ...      ESA     2\n",
      "2012-01-02 00:00:00.000 2012-01-02 23:59:59.999       LYRA ...      ESA     2\n",
      "\n",
      "\n"
     ]
    }
   ],
   "source": [
    "print(results)"
   ]
  },
  {
   "cell_type": "code",
   "execution_count": null,
   "id": "056a35d4-abc6-45ab-b538-6c3ea9032d61",
   "metadata": {},
   "outputs": [],
   "source": []
  }
 ],
 "metadata": {
  "kernelspec": {
   "display_name": "Python 3 (ipykernel)",
   "language": "python",
   "name": "python3"
  },
  "language_info": {
   "codemirror_mode": {
    "name": "ipython",
    "version": 3
   },
   "file_extension": ".py",
   "mimetype": "text/x-python",
   "name": "python",
   "nbconvert_exporter": "python",
   "pygments_lexer": "ipython3",
   "version": "3.9.13"
  },
  "vscode": {
   "interpreter": {
    "hash": "f1f0841cbc5f83018bbba4097385bd8e9bb7b89803473f476a9b4890403f2a9d"
   }
  }
 },
 "nbformat": 4,
 "nbformat_minor": 5
}
