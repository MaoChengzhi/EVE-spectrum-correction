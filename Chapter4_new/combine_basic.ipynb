{
 "cells": [
  {
   "cell_type": "code",
   "execution_count": 2,
   "id": "a79d2ff0-012a-4c50-b525-bf078f7a9f63",
   "metadata": {},
   "outputs": [
    {
     "name": "stdout",
     "output_type": "stream",
     "text": [
      "damn\n",
      "hell\n"
     ]
    }
   ],
   "source": [
    "from test1 import test2"
   ]
  },
  {
   "cell_type": "code",
   "execution_count": 20,
   "id": "TjHInqb5lwMP",
   "metadata": {
    "executionInfo": {
     "elapsed": 2,
     "status": "ok",
     "timestamp": 1682329076313,
     "user": {
      "displayName": "chengzhi Mao",
      "userId": "16545214922255561229"
     },
     "user_tz": -480
    },
    "id": "TjHInqb5lwMP"
   },
   "outputs": [],
   "source": [
    "import sys\n",
    "sys.path.insert(0,'/content/drive/MyDrive/Chapter4_new')\n",
    "sys.path.insert(0,'/content/drive/MyDrive/Chapter4_new/data')"
   ]
  },
  {
   "cell_type": "code",
   "execution_count": 28,
   "id": "NTwlV00KqsW8",
   "metadata": {
    "executionInfo": {
     "elapsed": 15022,
     "status": "ok",
     "timestamp": 1682329772676,
     "user": {
      "displayName": "chengzhi Mao",
      "userId": "16545214922255561229"
     },
     "user_tz": -480
    },
    "id": "NTwlV00KqsW8"
   },
   "outputs": [],
   "source": [
    "import get_aia_simu"
   ]
  },
  {
   "cell_type": "code",
   "execution_count": null,
   "id": "iMs45diJoO1i",
   "metadata": {
    "id": "iMs45diJoO1i"
   },
   "outputs": [],
   "source": [
    "aia_adjusted_files = sorted(glob.glob('/content/drive/MyDrive/Chapter4_new/data/AIA/*adjusted.fits'))\n",
    "aia_adjusted_files\n",
    "#/content/drive/MyDrive/Chapter4_new/data/AIA/aia_lev1_304a_2011_02_03t00_04_08_12z_image_lev1.fits"
   ]
  },
  {
   "cell_type": "code",
   "execution_count": 37,
   "id": "ZD8LjgrDr6PC",
   "metadata": {
    "executionInfo": {
     "elapsed": 615,
     "status": "ok",
     "timestamp": 1682330078448,
     "user": {
      "displayName": "chengzhi Mao",
      "userId": "16545214922255561229"
     },
     "user_tz": -480
    },
    "id": "ZD8LjgrDr6PC"
   },
   "outputs": [],
   "source": [
    "aia_adjusted_files = sorted(glob.glob('data/AIA/*adjusted.fits'))"
   ]
  },
  {
   "cell_type": "code",
   "execution_count": 31,
   "id": "lfYlPeuOpTjs",
   "metadata": {
    "colab": {
     "base_uri": "https://localhost:8080/"
    },
    "executionInfo": {
     "elapsed": 544,
     "status": "ok",
     "timestamp": 1682329974558,
     "user": {
      "displayName": "chengzhi Mao",
      "userId": "16545214922255561229"
     },
     "user_tz": -480
    },
    "id": "lfYlPeuOpTjs",
    "outputId": "b3bf67fe-5c18-403b-e504-7035adc195fd"
   },
   "outputs": [
    {
     "name": "stdout",
     "output_type": "stream",
     "text": [
      "/content\n"
     ]
    }
   ],
   "source": [
    "import os\n",
    "print(os.getcwd())"
   ]
  },
  {
   "cell_type": "markdown",
   "id": "oflHmzIbsFS8",
   "metadata": {
    "id": "oflHmzIbsFS8"
   },
   "source": [
    "### change directory  (using cmd)"
   ]
  },
  {
   "cell_type": "code",
   "execution_count": 1,
   "id": "U8cnswN3jBa9",
   "metadata": {
    "colab": {
     "base_uri": "https://localhost:8080/"
    },
    "executionInfo": {
     "elapsed": 13372,
     "status": "ok",
     "timestamp": 1682339057989,
     "user": {
      "displayName": "chengzhi Mao",
      "userId": "16545214922255561229"
     },
     "user_tz": -480
    },
    "id": "U8cnswN3jBa9",
    "outputId": "c2a3959c-0357-4d38-d7dd-d303a3a1bfca"
   },
   "outputs": [
    {
     "name": "stdout",
     "output_type": "stream",
     "text": [
      "Looking in indexes: https://pypi.org/simple, https://us-python.pkg.dev/colab-wheels/public/simple/\n",
      "Requirement already satisfied: sunpy in /usr/local/lib/python3.9/dist-packages (4.1.5)\n",
      "Requirement already satisfied: numpy>=1.17.0 in /usr/local/lib/python3.9/dist-packages (from sunpy) (1.22.4)\n",
      "Requirement already satisfied: parfive[ftp]>=1.2.0 in /usr/local/lib/python3.9/dist-packages (from sunpy) (2.0.2)\n",
      "Requirement already satisfied: packaging>=19.0 in /usr/local/lib/python3.9/dist-packages (from sunpy) (23.1)\n",
      "Requirement already satisfied: astropy>=4.2.1 in /usr/local/lib/python3.9/dist-packages (from sunpy) (5.2.2)\n",
      "Requirement already satisfied: pyerfa>=2.0 in /usr/local/lib/python3.9/dist-packages (from astropy>=4.2.1->sunpy) (2.0.0.3)\n",
      "Requirement already satisfied: PyYAML>=3.13 in /usr/local/lib/python3.9/dist-packages (from astropy>=4.2.1->sunpy) (6.0)\n",
      "Requirement already satisfied: aiohttp in /usr/local/lib/python3.9/dist-packages (from parfive[ftp]>=1.2.0->sunpy) (3.8.4)\n",
      "Requirement already satisfied: tqdm>=4.27.0 in /usr/local/lib/python3.9/dist-packages (from parfive[ftp]>=1.2.0->sunpy) (4.65.0)\n",
      "Requirement already satisfied: aioftp>=0.17.1 in /usr/local/lib/python3.9/dist-packages (from parfive[ftp]>=1.2.0->sunpy) (0.21.4)\n",
      "Requirement already satisfied: charset-normalizer<4.0,>=2.0 in /usr/local/lib/python3.9/dist-packages (from aiohttp->parfive[ftp]>=1.2.0->sunpy) (2.0.12)\n",
      "Requirement already satisfied: multidict<7.0,>=4.5 in /usr/local/lib/python3.9/dist-packages (from aiohttp->parfive[ftp]>=1.2.0->sunpy) (6.0.4)\n",
      "Requirement already satisfied: yarl<2.0,>=1.0 in /usr/local/lib/python3.9/dist-packages (from aiohttp->parfive[ftp]>=1.2.0->sunpy) (1.9.1)\n",
      "Requirement already satisfied: attrs>=17.3.0 in /usr/local/lib/python3.9/dist-packages (from aiohttp->parfive[ftp]>=1.2.0->sunpy) (23.1.0)\n",
      "Requirement already satisfied: async-timeout<5.0,>=4.0.0a3 in /usr/local/lib/python3.9/dist-packages (from aiohttp->parfive[ftp]>=1.2.0->sunpy) (4.0.2)\n",
      "Requirement already satisfied: frozenlist>=1.1.1 in /usr/local/lib/python3.9/dist-packages (from aiohttp->parfive[ftp]>=1.2.0->sunpy) (1.3.3)\n",
      "Requirement already satisfied: aiosignal>=1.1.2 in /usr/local/lib/python3.9/dist-packages (from aiohttp->parfive[ftp]>=1.2.0->sunpy) (1.3.1)\n",
      "Requirement already satisfied: idna>=2.0 in /usr/local/lib/python3.9/dist-packages (from yarl<2.0,>=1.0->aiohttp->parfive[ftp]>=1.2.0->sunpy) (3.4)\n",
      "Looking in indexes: https://pypi.org/simple, https://us-python.pkg.dev/colab-wheels/public/simple/\n",
      "Requirement already satisfied: astropy in /usr/local/lib/python3.9/dist-packages (5.2.2)\n",
      "Requirement already satisfied: numpy>=1.20 in /usr/local/lib/python3.9/dist-packages (from astropy) (1.22.4)\n",
      "Requirement already satisfied: packaging>=19.0 in /usr/local/lib/python3.9/dist-packages (from astropy) (23.1)\n",
      "Requirement already satisfied: PyYAML>=3.13 in /usr/local/lib/python3.9/dist-packages (from astropy) (6.0)\n",
      "Requirement already satisfied: pyerfa>=2.0 in /usr/local/lib/python3.9/dist-packages (from astropy) (2.0.0.3)\n",
      "Drive already mounted at /content/drive; to attempt to forcibly remount, call drive.mount(\"/content/drive\", force_remount=True).\n"
     ]
    }
   ],
   "source": [
    "! pip install sunpy\n",
    "! pip install astropy\n",
    "\n",
    "from google.colab import drive\n",
    "drive.mount('/content/drive')\n",
    "\n",
    "import os\n",
    "os.chdir('/content/drive/MyDrive/Chapter4_new')"
   ]
  },
  {
   "cell_type": "code",
   "execution_count": 2,
   "id": "5eef7846-7c41-4a15-b16a-7dfcae940128",
   "metadata": {
    "executionInfo": {
     "elapsed": 5282,
     "status": "ok",
     "timestamp": 1682339063269,
     "user": {
      "displayName": "chengzhi Mao",
      "userId": "16545214922255561229"
     },
     "user_tz": -480
    },
    "id": "5eef7846-7c41-4a15-b16a-7dfcae940128",
    "tags": []
   },
   "outputs": [],
   "source": [
    "import sunpy.map\n",
    "import astropy.units as u\n",
    "import scipy\n",
    "import matplotlib.pyplot as plt\n",
    "import json\n",
    "import numpy as np\n",
    "import glob\n",
    "import time\n",
    "import os\n",
    "from datetime import datetime\n",
    "import cupy as cp\n",
    "\n",
    "from pixel_to_world.my_pixel_to_world import my_pixel_to_world\n",
    "from calculate_DN import calculate_DN_4096\n",
    "from gaussian_fit_aia import gaussian_fit_aia\n",
    "from error_function import error_function\n",
    "\n",
    "from constant import wavelength_list_aia\n",
    "from math import pi"
   ]
  },
  {
   "cell_type": "markdown",
   "id": "95eeccf0-3b68-42d1-8598-bc88c6d60290",
   "metadata": {
    "id": "95eeccf0-3b68-42d1-8598-bc88c6d60290"
   },
   "source": [
    "# a first compare"
   ]
  },
  {
   "cell_type": "markdown",
   "id": "2e40ff32-4ecf-42c5-bfb6-ef2276fb30f9",
   "metadata": {
    "id": "2e40ff32-4ecf-42c5-bfb6-ef2276fb30f9"
   },
   "source": [
    "## read eve"
   ]
  },
  {
   "cell_type": "code",
   "execution_count": null,
   "id": "f595738c-08dd-471a-90a2-1a8384ea7e3a",
   "metadata": {
    "collapsed": true,
    "id": "f595738c-08dd-471a-90a2-1a8384ea7e3a",
    "jupyter": {
     "outputs_hidden": true
    },
    "outputId": "4f2652ea-3fc1-450b-f966-114daf087b43",
    "tags": []
   },
   "outputs": [
    {
     "ename": "NameError",
     "evalue": "name 'eve_data' is not defined",
     "output_type": "error",
     "traceback": [
      "\u001b[1;31m---------------------------------------------------------------------------\u001b[0m",
      "\u001b[1;31mNameError\u001b[0m                                 Traceback (most recent call last)",
      "\u001b[1;32m~\\AppData\\Local\\Temp\\ipykernel_22288\\1147646096.py\u001b[0m in \u001b[0;36m<module>\u001b[1;34m\u001b[0m\n\u001b[1;32m----> 1\u001b[1;33m \u001b[0meve_data\u001b[0m\u001b[1;33m;\u001b[0m\u001b[1;33m\u001b[0m\u001b[1;33m\u001b[0m\u001b[0m\n\u001b[0m",
      "\u001b[1;31mNameError\u001b[0m: name 'eve_data' is not defined"
     ]
    }
   ],
   "source": [
    "eve_data;"
   ]
  },
  {
   "cell_type": "code",
   "execution_count": null,
   "id": "90f179b5-0f23-4a45-b9b3-61ad3c7138f0",
   "metadata": {
    "collapsed": true,
    "id": "90f179b5-0f23-4a45-b9b3-61ad3c7138f0",
    "jupyter": {
     "outputs_hidden": true
    },
    "tags": []
   },
   "outputs": [],
   "source": [
    "with open('mean_dict.json', 'r') as f:\n",
    "    # Load the JSON data into a Python dictionary\n",
    "    eve_data = json.load(f)\n",
    "\n",
    "eve_obs={}\n",
    "for key, value in eve_data.items():\n",
    "    eve_obs[int(key)] = float(value)\n",
    "\n",
    "# # Replace the old dictionary with the new one\n",
    "eve_obs"
   ]
  },
  {
   "cell_type": "code",
   "execution_count": 9,
   "id": "e0514076-0cee-4ccd-b01d-781c163f1b47",
   "metadata": {
    "colab": {
     "base_uri": "https://localhost:8080/",
     "height": 527
    },
    "executionInfo": {
     "elapsed": 4,
     "status": "ok",
     "timestamp": 1682330732064,
     "user": {
      "displayName": "chengzhi Mao",
      "userId": "16545214922255561229"
     },
     "user_tz": -480
    },
    "id": "e0514076-0cee-4ccd-b01d-781c163f1b47",
    "outputId": "af542681-815b-4789-cb83-52083efb762f",
    "tags": []
   },
   "outputs": [
    {
     "name": "stderr",
     "output_type": "stream",
     "text": [
      "WARNING:matplotlib.legend:No artists with labels found to put in legend.  Note that artists whose label start with an underscore are ignored when legend() is called with no argument.\n"
     ]
    },
    {
     "data": {
      "text/plain": [
       "<matplotlib.legend.Legend at 0x7f1b48b90d90>"
      ]
     },
     "execution_count": 9,
     "metadata": {},
     "output_type": "execute_result"
    },
    {
     "data": {
      "image/png": "[encoded data removed]",
      "text/plain": [
       "<Figure size 640x480 with 1 Axes>"
      ]
     },
     "metadata": {},
     "output_type": "display_data"
    }
   ],
   "source": [
    "fig,ax=plt.subplots()\n",
    "ax.plot(eve_obs.keys(),eve_obs.values())\n",
    "ax.set_title('absolute central wavelength every day')\n",
    "\n",
    "ax.set_xlabel('day')\n",
    "ax.set_ylabel('central wavelength(nm)')\n",
    "ax.legend()"
   ]
  },
  {
   "cell_type": "markdown",
   "id": "fcc1f818-7941-4a38-bc01-c44f121cc497",
   "metadata": {
    "id": "fcc1f818-7941-4a38-bc01-c44f121cc497"
   },
   "source": [
    "## read aia"
   ]
  },
  {
   "cell_type": "code",
   "execution_count": 10,
   "id": "ef4ac58e-6c9d-44df-8845-a2ef57d2e87e",
   "metadata": {
    "executionInfo": {
     "elapsed": 821,
     "status": "ok",
     "timestamp": 1682330736592,
     "user": {
      "displayName": "chengzhi Mao",
      "userId": "16545214922255561229"
     },
     "user_tz": -480
    },
    "id": "ef4ac58e-6c9d-44df-8845-a2ef57d2e87e",
    "tags": []
   },
   "outputs": [],
   "source": [
    "aia_adjusted_files=sorted(glob.glob('data/AIA/*adjusted.fits'))\n",
    "aia_adjusted_maps=sunpy.map.Map(aia_adjusted_files)\n",
    "irradiance=np.zeros((len(aia_adjusted_maps),len(wavelength_list_aia)))\n",
    "correction=np.zeros(len(aia_adjusted_maps))"
   ]
  },
  {
   "cell_type": "code",
   "execution_count": 11,
   "id": "f424fc05-0322-4bfd-88b1-7a43091437df",
   "metadata": {
    "executionInfo": {
     "elapsed": 207189,
     "status": "ok",
     "timestamp": 1682330946837,
     "user": {
      "displayName": "chengzhi Mao",
      "userId": "16545214922255561229"
     },
     "user_tz": -480
    },
    "id": "f424fc05-0322-4bfd-88b1-7a43091437df",
    "tags": []
   },
   "outputs": [],
   "source": [
    "for i in range(len(aia_adjusted_maps)):\n",
    "    irradiance[i]=calculate_DN_4096(aia_adjusted_maps[i])\n",
    "    correction[i]=gaussian_fit_aia(wavelength_list_aia,irradiance[i])"
   ]
  },
  {
   "cell_type": "code",
   "execution_count": null,
   "id": "d08c1078-5d35-4aac-8eae-3f13ae9cce81",
   "metadata": {
    "id": "d08c1078-5d35-4aac-8eae-3f13ae9cce81",
    "outputId": "9ae62cfa-dade-4ce5-f64a-821693250d13",
    "tags": []
   },
   "outputs": [
    {
     "data": {
      "text/plain": [
       "[<matplotlib.lines.Line2D at 0x257f7d2c700>]"
      ]
     },
     "execution_count": 4,
     "metadata": {},
     "output_type": "execute_result"
    },
    {
     "data": {
      "image/png": "[encoded data removed]",
      "text/plain": [
       "<Figure size 640x480 with 1 Axes>"
      ]
     },
     "metadata": {},
     "output_type": "display_data"
    }
   ],
   "source": [
    "fig,ax=plt.subplots()\n",
    "ax.plot(correction)"
   ]
  },
  {
   "cell_type": "markdown",
   "id": "869a83ee-9f77-4311-95bb-34177f1bef42",
   "metadata": {
    "id": "869a83ee-9f77-4311-95bb-34177f1bef42"
   },
   "source": [
    "### extract time from map"
   ]
  },
  {
   "cell_type": "code",
   "execution_count": null,
   "id": "9eecfbeb-70f3-4618-a958-851abb56208b",
   "metadata": {
    "id": "9eecfbeb-70f3-4618-a958-851abb56208b",
    "outputId": "cc1c6838-b764-4da8-89ce-f0f80ae316ac",
    "tags": []
   },
   "outputs": [
    {
     "data": {
      "text/plain": [
       "'2011-02-03T00:04:09.57Z'"
      ]
     },
     "execution_count": 5,
     "metadata": {},
     "output_type": "execute_result"
    }
   ],
   "source": [
    "aia_adjusted_maps[0].meta['t_obs']"
   ]
  },
  {
   "cell_type": "code",
   "execution_count": null,
   "id": "dc890dea-7218-41c6-af73-8f4b73e586b7",
   "metadata": {
    "id": "dc890dea-7218-41c6-af73-8f4b73e586b7",
    "tags": []
   },
   "outputs": [],
   "source": [
    "dt = datetime.strptime(aia_adjusted_maps[0].meta['t_obs'], '%Y-%m-%dT%H:%M:%S.%fZ')\n",
    "\n",
    "# Extract the day of the year from the datetime object\n",
    "day_of_year = dt.timetuple().tm_yday"
   ]
  },
  {
   "cell_type": "code",
   "execution_count": null,
   "id": "f591c410-f8ec-41bf-b0ee-9886fa18bc5f",
   "metadata": {
    "id": "f591c410-f8ec-41bf-b0ee-9886fa18bc5f",
    "tags": []
   },
   "outputs": [],
   "source": [
    "time_list=[]"
   ]
  },
  {
   "cell_type": "code",
   "execution_count": null,
   "id": "b1368714-3d45-4963-84e7-b6b2fb414447",
   "metadata": {
    "id": "b1368714-3d45-4963-84e7-b6b2fb414447",
    "tags": []
   },
   "outputs": [],
   "source": [
    "for aia_adjusted_map in aia_adjusted_maps:\n",
    "    dt = datetime.strptime(aia_adjusted_map.meta['t_obs'], '%Y-%m-%dT%H:%M:%S.%fZ')\n",
    "\n",
    "    # Extract the day of the year from the datetime object\n",
    "    day_of_year = dt.timetuple().tm_yday\n",
    "    time_list.append(day_of_year)"
   ]
  },
  {
   "cell_type": "code",
   "execution_count": null,
   "id": "76800ab0-2e1d-4e4a-8d0d-ce525a5b3109",
   "metadata": {
    "id": "76800ab0-2e1d-4e4a-8d0d-ce525a5b3109",
    "outputId": "f4997de3-e900-4a34-e206-cf32a208d67e",
    "tags": []
   },
   "outputs": [
    {
     "data": {
      "text/plain": [
       "28"
      ]
     },
     "execution_count": 9,
     "metadata": {},
     "output_type": "execute_result"
    }
   ],
   "source": [
    "len(time_list)"
   ]
  },
  {
   "cell_type": "code",
   "execution_count": null,
   "id": "0fb7f837-2b7c-42db-aef4-0db26c3666e3",
   "metadata": {
    "id": "0fb7f837-2b7c-42db-aef4-0db26c3666e3",
    "outputId": "70b9cd99-57c7-4874-d664-6977b907024d",
    "tags": []
   },
   "outputs": [
    {
     "data": {
      "text/plain": [
       "'2011-03-02T00:04:09.58Z'"
      ]
     },
     "execution_count": 10,
     "metadata": {},
     "output_type": "execute_result"
    }
   ],
   "source": [
    "aia_adjusted_map.meta['t_obs']"
   ]
  },
  {
   "cell_type": "code",
   "execution_count": null,
   "id": "95d478a0-f39b-491d-8b90-c61d6761dd5c",
   "metadata": {
    "id": "95d478a0-f39b-491d-8b90-c61d6761dd5c",
    "outputId": "38b4863f-97c8-4788-9dd4-070f0c726b26",
    "tags": []
   },
   "outputs": [
    {
     "data": {
      "text/plain": [
       "28"
      ]
     },
     "execution_count": 11,
     "metadata": {},
     "output_type": "execute_result"
    }
   ],
   "source": [
    "len(correction)"
   ]
  },
  {
   "cell_type": "code",
   "execution_count": null,
   "id": "c9710f23-52e9-48a7-ba17-01acb699acd5",
   "metadata": {
    "id": "c9710f23-52e9-48a7-ba17-01acb699acd5",
    "tags": []
   },
   "outputs": [],
   "source": [
    "aia_simu = dict(zip(time_list, correction))\n",
    "aia_simu;"
   ]
  },
  {
   "cell_type": "markdown",
   "id": "7362356e-a9ac-45a5-9844-1363a0ed7d06",
   "metadata": {
    "id": "7362356e-a9ac-45a5-9844-1363a0ed7d06"
   },
   "source": [
    "## Calculate to distance between aia_simu and eve_obs"
   ]
  },
  {
   "cell_type": "code",
   "execution_count": null,
   "id": "db12be86-d0d2-4c06-96c5-80f445cc2909",
   "metadata": {
    "id": "db12be86-d0d2-4c06-96c5-80f445cc2909",
    "outputId": "55d3a54e-6883-49a8-8a84-f2a8a8fc5360",
    "tags": []
   },
   "outputs": [
    {
     "data": {
      "image/png": "[encoded data removed]",
      "text/plain": [
       "<Figure size 640x480 with 1 Axes>"
      ]
     },
     "metadata": {},
     "output_type": "display_data"
    }
   ],
   "source": [
    "error_func=0\n",
    "fig,ax=plt.subplots()\n",
    "\n",
    "for key in aia_simu.keys():\n",
    "    if key in eve_obs.keys():\n",
    "        error_func+=(aia_simu[key]-eve_obs[key])**2\n",
    "        ax.scatter(key,aia_simu[key])\n",
    "        ax.scatter(key,eve_obs[key])        "
   ]
  },
  {
   "cell_type": "code",
   "execution_count": null,
   "id": "c19a99ce-786f-4af1-aa98-4ef59df74606",
   "metadata": {
    "id": "c19a99ce-786f-4af1-aa98-4ef59df74606",
    "tags": []
   },
   "outputs": [],
   "source": [
    "def f(a):\n",
    "    print(a)"
   ]
  },
  {
   "cell_type": "code",
   "execution_count": null,
   "id": "4349482f-a2f0-431c-bc3a-e2459dc67e80",
   "metadata": {
    "id": "4349482f-a2f0-431c-bc3a-e2459dc67e80",
    "outputId": "000670e7-a13c-469d-b976-82a025518bea",
    "tags": []
   },
   "outputs": [
    {
     "data": {
      "text/plain": [
       "0.0019163293763551457"
      ]
     },
     "execution_count": 71,
     "metadata": {},
     "output_type": "execute_result"
    }
   ],
   "source": [
    "error = 0\n",
    "for key in aia_simu.keys():\n",
    "    if key in eve_obs.keys():\n",
    "        error += (aia_simu[key]-eve_obs[key])**2\n",
    "error"
   ]
  },
  {
   "cell_type": "markdown",
   "id": "20b275c1-8bb2-4a7a-abf7-add3016c63c8",
   "metadata": {
    "id": "20b275c1-8bb2-4a7a-abf7-add3016c63c8"
   },
   "source": [
    "# Gradient Descent Visualization"
   ]
  },
  {
   "cell_type": "code",
   "execution_count": null,
   "id": "0b9dbd0d",
   "metadata": {
    "id": "0b9dbd0d",
    "outputId": "57b87599-3091-4c70-cfc4-c5a2eaa28bc2"
   },
   "outputs": [
    {
     "data": {
      "text/plain": [
       "[<matplotlib.lines.Line2D at 0x258d94e85e0>]"
      ]
     },
     "execution_count": 21,
     "metadata": {},
     "output_type": "execute_result"
    },
    {
     "data": {
      "image/png": "[encoded data removed]",
      "text/plain": [
       "<Figure size 640x480 with 1 Axes>"
      ]
     },
     "metadata": {},
     "output_type": "display_data"
    }
   ],
   "source": [
    "# Fix values of b and c\n",
    "b = 0.91\n",
    "c = -9e-03\n",
    "\n",
    "# Define values of a to evaluate\n",
    "a_vals = np.linspace(800, 1000, 4)\n",
    "\n",
    "# Evaluate function at each value of a\n",
    "f_vals = [error_function((a, b, c)) for a in a_vals]\n",
    "\n",
    "# Plot the results\n",
    "fig,ax=plt.subplots()\n",
    "ax.plot(a_vals,f_vals)"
   ]
  },
  {
   "cell_type": "code",
   "execution_count": null,
   "id": "f37c04eb",
   "metadata": {
    "id": "f37c04eb"
   },
   "outputs": [],
   "source": []
  },
  {
   "cell_type": "markdown",
   "id": "xOJVXdJe7u0x",
   "metadata": {
    "id": "xOJVXdJe7u0x"
   },
   "source": [
    "## Time before cupy added in"
   ]
  },
  {
   "cell_type": "code",
   "execution_count": 9,
   "id": "Uqg2eqAC7wWD",
   "metadata": {
    "colab": {
     "base_uri": "https://localhost:8080/"
    },
    "executionInfo": {
     "elapsed": 242152,
     "status": "ok",
     "timestamp": 1682335046877,
     "user": {
      "displayName": "chengzhi Mao",
      "userId": "16545214922255561229"
     },
     "user_tz": -480
    },
    "id": "Uqg2eqAC7wWD",
    "outputId": "a37fdaed-af8e-49c1-8273-a77908b0a7c0"
   },
   "outputs": [
    {
     "data": {
      "text/plain": [
       "241.6275029182434"
      ]
     },
     "execution_count": 9,
     "metadata": {},
     "output_type": "execute_result"
    }
   ],
   "source": [
    "def func_evaluation():\n",
    "    error_function([ 9e+02,0,0,  9e-01, -9e-03])\n",
    "    \n",
    "\n",
    "start=time.time()\n",
    "func_evaluation()    \n",
    "end=time.time()\n",
    "end-start"
   ]
  },
  {
   "cell_type": "code",
   "execution_count": null,
   "id": "uLxCTn6Y7xZa",
   "metadata": {
    "id": "uLxCTn6Y7xZa"
   },
   "outputs": [],
   "source": []
  },
  {
   "cell_type": "markdown",
   "id": "wSccW6EL_S6R",
   "metadata": {
    "id": "wSccW6EL_S6R"
   },
   "source": [
    "### process one image"
   ]
  },
  {
   "cell_type": "code",
   "execution_count": 6,
   "id": "FF9QJ6iO_XEW",
   "metadata": {
    "executionInfo": {
     "elapsed": 570,
     "status": "ok",
     "timestamp": 1682337080895,
     "user": {
      "displayName": "chengzhi Mao",
      "userId": "16545214922255561229"
     },
     "user_tz": -480
    },
    "id": "FF9QJ6iO_XEW"
   },
   "outputs": [],
   "source": [
    "aia_adjusted_files = sorted(glob.glob('data/AIA/*adjusted.fits'))\n",
    "aia_adjusted_maps = sunpy.map.Map(aia_adjusted_files)"
   ]
  },
  {
   "cell_type": "code",
   "execution_count": 29,
   "id": "TcuAvi2B_TOw",
   "metadata": {
    "colab": {
     "base_uri": "https://localhost:8080/"
    },
    "executionInfo": {
     "elapsed": 7430,
     "status": "ok",
     "timestamp": 1682336524083,
     "user": {
      "displayName": "chengzhi Mao",
      "userId": "16545214922255561229"
     },
     "user_tz": -480
    },
    "id": "TcuAvi2B_TOw",
    "outputId": "26e82ffc-05d3-45de-c9b8-461cea889788"
   },
   "outputs": [
    {
     "data": {
      "text/plain": [
       "6.905684471130371"
      ]
     },
     "execution_count": 29,
     "metadata": {},
     "output_type": "execute_result"
    }
   ],
   "source": [
    "start=time.time()\n",
    "calculate_DN_4096(aia_adjusted_maps[0],)\n",
    "end=time.time()\n",
    "end-start"
   ]
  },
  {
   "cell_type": "markdown",
   "id": "_tO6kDl_CR67",
   "metadata": {
    "id": "_tO6kDl_CR67"
   },
   "source": [
    "## Time using cupy\n"
   ]
  },
  {
   "cell_type": "code",
   "execution_count": 3,
   "id": "cErcerQTHbQA",
   "metadata": {
    "executionInfo": {
     "elapsed": 782,
     "status": "ok",
     "timestamp": 1682339064049,
     "user": {
      "displayName": "chengzhi Mao",
      "userId": "16545214922255561229"
     },
     "user_tz": -480
    },
    "id": "cErcerQTHbQA"
   },
   "outputs": [],
   "source": [
    "aia_adjusted_files = sorted(glob.glob('data/AIA/*adjusted.fits'))\n",
    "aia_adjusted_maps = sunpy.map.Map(aia_adjusted_files)"
   ]
  },
  {
   "cell_type": "code",
   "execution_count": 8,
   "id": "2FBVtRckEQVz",
   "metadata": {
    "colab": {
     "base_uri": "https://localhost:8080/"
    },
    "executionInfo": {
     "elapsed": 11125,
     "status": "ok",
     "timestamp": 1682338931017,
     "user": {
      "displayName": "chengzhi Mao",
      "userId": "16545214922255561229"
     },
     "user_tz": -480
    },
    "id": "2FBVtRckEQVz",
    "outputId": "8dc5ca43-a976-46cb-f8ce-90f495e7c0ea"
   },
   "outputs": [
    {
     "name": "stdout",
     "output_type": "stream",
     "text": [
      "one image\n",
      "one image\n",
      "one image\n",
      "one image\n",
      "one image\n",
      "one image\n",
      "one image\n",
      "one image\n",
      "one image\n",
      "one image\n",
      "one image\n",
      "one image\n",
      "one image\n",
      "one image\n",
      "one image\n",
      "one image\n",
      "one image\n",
      "one image\n",
      "one image\n",
      "one image\n",
      "one image\n",
      "one image\n",
      "one image\n",
      "one image\n",
      "one image\n",
      "one image\n",
      "one image\n",
      "one image\n"
     ]
    },
    {
     "data": {
      "text/plain": [
       "10.977870225906372"
      ]
     },
     "execution_count": 8,
     "metadata": {},
     "output_type": "execute_result"
    }
   ],
   "source": [
    "start=time.time()\n",
    "for i in range(28):\n",
    "  calculate_DN_4096(aia_adjusted_maps[0],i*100,0,0,0.9,0)\n",
    "\n",
    "end=time.time()\n",
    "end-start"
   ]
  },
  {
   "cell_type": "code",
   "execution_count": 5,
   "id": "UpjwBBlcEFUa",
   "metadata": {
    "colab": {
     "base_uri": "https://localhost:8080/"
    },
    "executionInfo": {
     "elapsed": 503,
     "status": "ok",
     "timestamp": 1682339885200,
     "user": {
      "displayName": "chengzhi Mao",
      "userId": "16545214922255561229"
     },
     "user_tz": -480
    },
    "id": "UpjwBBlcEFUa",
    "outputId": "fefbcde1-aa11-4b18-de27-fda630e1e198"
   },
   "outputs": [
    {
     "data": {
      "text/plain": [
       "16.821963787078857"
      ]
     },
     "execution_count": 5,
     "metadata": {},
     "output_type": "execute_result"
    }
   ],
   "source": [
    "def func_evaluation():\n",
    "    error_function([ 9e+02,0,0,  9e-01, -9e-03])\n",
    "    \n",
    "\n",
    "start=time.time()\n",
    "func_evaluation()    \n",
    "end=time.time()\n",
    "end-start"
   ]
  },
  {
   "cell_type": "code",
   "execution_count": null,
   "id": "g7SoQbjRLnrz",
   "metadata": {
    "id": "g7SoQbjRLnrz"
   },
   "outputs": [],
   "source": []
  }
 ],
 "metadata": {
  "accelerator": "GPU",
  "colab": {
   "gpuType": "T4",
   "provenance": [],
   "toc_visible": true
  },
  "gpuClass": "standard",
  "kernelspec": {
   "display_name": "Python 3 (ipykernel)",
   "language": "python",
   "name": "python3"
  },
  "language_info": {
   "codemirror_mode": {
    "name": "ipython",
    "version": 3
   },
   "file_extension": ".py",
   "mimetype": "text/x-python",
   "name": "python",
   "nbconvert_exporter": "python",
   "pygments_lexer": "ipython3",
   "version": "3.9.16"
  }
 },
 "nbformat": 4,
 "nbformat_minor": 5
}
