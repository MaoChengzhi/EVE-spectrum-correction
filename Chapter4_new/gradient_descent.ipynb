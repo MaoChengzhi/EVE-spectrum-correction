{
 "cells": [
  {
   "cell_type": "code",
   "execution_count": 1,
   "id": "5f00e0e2-2a42-44ad-9820-af435874aef5",
   "metadata": {
    "tags": []
   },
   "outputs": [],
   "source": [
    "import numpy as np\n",
    "from scipy.optimize import minimize\n",
    "import time\n",
    "\n",
    "from error_function import error_function"
   ]
  },
  {
   "cell_type": "code",
   "execution_count": null,
   "id": "7c22d780-5801-421b-b9c4-5f4f9fb2fbe9",
   "metadata": {
    "scrolled": true,
    "tags": []
   },
   "outputs": [
    {
     "name": "stdout",
     "output_type": "stream",
     "text": [
      "Iteration 1: error_function([ 1.70e+03  8.19e-01 -1.30e-02]) = 1.9565008167689253e-06\n",
      "Iteration 2: error_function([ 1.70708333e+03  7.87583333e-01 -1.33430556e-02]) = 1.6613126039557828e-06\n",
      "Iteration 3: error_function([ 1.70708333e+03  7.87583333e-01 -1.33430556e-02]) = 1.6613126039557828e-06\n",
      "Iteration 4: error_function([ 1.69488426e+03  7.91856481e-01 -1.30772377e-02]) = 1.3336723773403828e-06\n",
      "Iteration 5: error_function([ 1.69403164e+03  8.06832562e-01 -1.30901106e-02]) = 1.28061451507353e-06\n",
      "Iteration 6: error_function([ 1.69403164e+03  8.06832562e-01 -1.30901106e-02]) = 1.28061451507353e-06\n",
      "Iteration 7: error_function([ 1.70754608e+03  7.91288623e-01 -1.32360690e-02]) = 1.2261456289824745e-06\n",
      "Iteration 8: error_function([ 1.70754608e+03  7.91288623e-01 -1.32360690e-02]) = 1.2261456289824745e-06\n",
      "Iteration 9: error_function([ 1.70754608e+03  7.91288623e-01 -1.32360690e-02]) = 1.2261456289824745e-06\n",
      "Iteration 10: error_function([ 1.68010501e+03  8.02664082e-01 -1.30957456e-02]) = 1.2254176052366049e-06\n",
      "Iteration 11: error_function([ 1.69353437e+03  8.01872742e-01 -1.31172171e-02]) = 1.2245978016951198e-06\n",
      "Iteration 12: error_function([ 1.69259435e+03  7.97697273e-01 -1.31254168e-02]) = 1.213846086254926e-06\n",
      "Iteration 13: error_function([ 1.69814533e+03  7.96016661e-01 -1.31744311e-02]) = 1.2138432360499547e-06\n",
      "Iteration 14: error_function([ 1.68743151e+03  8.00596487e-01 -1.31173837e-02]) = 1.2130833740699297e-06\n",
      "Iteration 15: error_function([ 1.68743151e+03  8.00596487e-01 -1.31173837e-02]) = 1.2130833740699297e-06\n",
      "Iteration 16: error_function([ 1.69274815e+03  7.98282179e-01 -1.31327021e-02]) = 1.2115744427579302e-06\n",
      "Iteration 17: error_function([ 1.69274815e+03  7.98282179e-01 -1.31327021e-02]) = 1.2115744427579302e-06\n",
      "Iteration 18: error_function([ 1.69274815e+03  7.98282179e-01 -1.31327021e-02]) = 1.2115744427579302e-06\n",
      "Iteration 19: error_function([ 1.69274815e+03  7.98282179e-01 -1.31327021e-02]) = 1.2115744427579302e-06\n",
      "Iteration 20: error_function([ 1.69179224e+03  7.99035467e-01 -1.31327843e-02]) = 1.2113289115854862e-06\n",
      "Iteration 21: error_function([ 1.69346298e+03  7.98369961e-01 -1.31411744e-02]) = 1.2112277212463435e-06\n",
      "Iteration 22: error_function([ 1.69346298e+03  7.98369961e-01 -1.31411744e-02]) = 1.2112277212463435e-06\n",
      "Iteration 23: error_function([ 1.69346298e+03  7.98369961e-01 -1.31411744e-02]) = 1.2112277212463435e-06\n",
      "Iteration 24: error_function([ 1.69346298e+03  7.98369961e-01 -1.31411744e-02]) = 1.2112277212463435e-06\n",
      "Iteration 25: error_function([ 1.69402304e+03  7.98108089e-01 -1.31412773e-02]) = 1.2112220498728998e-06\n",
      "Iteration 26: error_function([ 1.69520123e+03  7.96753952e-01 -1.31488033e-02]) = 1.2110809447838462e-06\n",
      "Iteration 27: error_function([ 1.69719721e+03  7.96587570e-01 -1.31604633e-02]) = 1.2110466629274985e-06\n",
      "Iteration 28: error_function([ 1.69949550e+03  7.94709689e-01 -1.31681951e-02]) = 1.210977804395407e-06\n",
      "Iteration 29: error_function([ 1.70384787e+03  7.91835033e-01 -1.31949071e-02]) = 1.2107885135596756e-06\n",
      "Iteration 30: error_function([ 1.71013813e+03  7.89624389e-01 -1.32259589e-02]) = 1.210471685500551e-06\n",
      "Iteration 31: error_function([ 1.71908708e+03  7.82993971e-01 -1.32681345e-02]) = 1.2101420565687186e-06\n",
      "Iteration 32: error_function([ 1.71908708e+03  7.82993971e-01 -1.32681345e-02]) = 1.2101420565687186e-06\n",
      "Iteration 33: error_function([ 1.73067108e+03  7.77638922e-01 -1.33285810e-02]) = 1.2099601897769134e-06\n",
      "Iteration 34: error_function([ 1.73067108e+03  7.77638922e-01 -1.33285810e-02]) = 1.2099601897769134e-06\n",
      "Iteration 35: error_function([ 1.73067108e+03  7.77638922e-01 -1.33285810e-02]) = 1.2099601897769134e-06\n",
      "Iteration 36: error_function([ 1.73887385e+03  7.71372725e-01 -1.33694273e-02]) = 1.2099479208240305e-06\n",
      "Iteration 37: error_function([ 1.73887385e+03  7.71372725e-01 -1.33694273e-02]) = 1.2099479208240305e-06\n",
      "Iteration 38: error_function([ 1.73887385e+03  7.71372725e-01 -1.33694273e-02]) = 1.2099479208240305e-06\n",
      "Iteration 39: error_function([ 1.73450988e+03  7.74562112e-01 -1.33462441e-02]) = 1.2099395039564077e-06\n",
      "Iteration 40: error_function([ 1.73444445e+03  7.74961316e-01 -1.33471185e-02]) = 1.209930143682758e-06\n",
      "Iteration 41: error_function([ 1.73444445e+03  7.74961316e-01 -1.33471185e-02]) = 1.209930143682758e-06\n"
     ]
    }
   ],
   "source": [
    "# define initial values of a, b, c\n",
    "x0 = np.array([ 1.7e+03,  7.8e-01, -1.3e-02])\n",
    "#([886.81, 0.91002, 0])\n",
    "\n",
    "# define a callback function to track the optimization process\n",
    "def callback(x):\n",
    "    global num_evals\n",
    "    num_evals += 1\n",
    "    print(f\"Iteration {num_evals}: error_function({x}) = {error_function(x)}\")\n",
    "\n",
    "num_evals = 0\n",
    "# minimize f using L-BFGS\n",
    "result = minimize(error_function, x0, callback=callback,options={'maxiter': 1000},\n",
    "                        method='Nelder-Mead')\n",
    "\n",
    "# print the optimal values of a, b, c\n",
    "print(f\"Optimal values: {result.x}\")"
   ]
  },
  {
   "cell_type": "code",
   "execution_count": 5,
   "id": "5824f095-2b95-4cb8-9eb3-3e350c7d13b7",
   "metadata": {
    "tags": []
   },
   "outputs": [
    {
     "data": {
      "text/plain": [
       "      fun: 1.6490678816502262e-06\n",
       " hess_inv: array([[1, 0, 0],\n",
       "       [0, 1, 0],\n",
       "       [0, 0, 1]])\n",
       "      jac: array([-1.00983755e-09,  7.79864564e-08,  2.31767640e-06])\n",
       "  message: 'Optimization terminated successfully.'\n",
       "     nfev: 4\n",
       "      nit: 0\n",
       "     njev: 1\n",
       "   status: 0\n",
       "  success: True\n",
       "        x: array([ 8.86809998e+02,  9.10021019e-01, -9.01567106e-03])"
      ]
     },
     "execution_count": 5,
     "metadata": {},
     "output_type": "execute_result"
    }
   ],
   "source": [
    "result"
   ]
  },
  {
   "cell_type": "code",
   "execution_count": 6,
   "id": "128d01c5-477e-400f-b5f6-dc597845e90d",
   "metadata": {},
   "outputs": [],
   "source": [
    "# Optimal values: [ 8.86809998e+02  9.10021019e-01 -9.01567106e-03]"
   ]
  },
  {
   "cell_type": "code",
   "execution_count": null,
   "id": "2984c86c",
   "metadata": {},
   "outputs": [],
   "source": []
  }
 ],
 "metadata": {
  "kernelspec": {
   "display_name": "py_begin_env",
   "language": "python",
   "name": "py_begin"
  },
  "language_info": {
   "codemirror_mode": {
    "name": "ipython",
    "version": 3
   },
   "file_extension": ".py",
   "mimetype": "text/x-python",
   "name": "python",
   "nbconvert_exporter": "python",
   "pygments_lexer": "ipython3",
   "version": "3.9.13"
  }
 },
 "nbformat": 4,
 "nbformat_minor": 5
}
