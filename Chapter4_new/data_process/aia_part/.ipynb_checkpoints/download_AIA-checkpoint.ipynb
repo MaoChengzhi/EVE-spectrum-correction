{
 "cells": [
  {
   "cell_type": "code",
   "execution_count": 2,
   "id": "8fef4ec6-be8a-4043-8f3a-97edff6a5c2e",
   "metadata": {},
   "outputs": [
    {
     "name": "stderr",
     "output_type": "stream",
     "text": [
      "C:\\Users\\14902\\anaconda3\\envs\\sdo2022\\lib\\site-packages\\tqdm\\auto.py:21: TqdmWarning: IProgress not found. Please update jupyter and ipywidgets. See https://ipywidgets.readthedocs.io/en/stable/user_install.html\n",
      "  from .autonotebook import tqdm as notebook_tqdm\n"
     ]
    }
   ],
   "source": [
    "from sunpy.net import Fido, attrs as a\n",
    "import astropy.units as u"
   ]
  },
  {
   "cell_type": "markdown",
   "id": "421ce60e-0404-4663-b2de-9b7066868624",
   "metadata": {
    "tags": []
   },
   "source": [
    "## download AIA 2011-02-03~ 2011-03-03"
   ]
  },
  {
   "cell_type": "code",
   "execution_count": 2,
   "id": "185f3711-6543-432c-89e3-0072439a66b6",
   "metadata": {},
   "outputs": [
    {
     "data": {
      "text/html": [
       "Results from 1 Provider:</br></br>28 Results from the VSOClient:</br><div><i>VSOQueryResponseTable length=28</i>\n",
       "<table id=\"table2213529481376\" class=\"table-striped table-bordered table-condensed\">\n",
       "<thead><tr><th>Start Time</th><th>End Time</th><th>Source</th><th>Instrument</th><th>Wavelength</th><th>Provider</th><th>Physobs</th><th>Wavetype</th><th>Extent Width</th><th>Extent Length</th><th>Extent Type</th><th>Size</th></tr></thead>\n",
       "<thead><tr><th></th><th></th><th></th><th></th><th>Angstrom</th><th></th><th></th><th></th><th></th><th></th><th></th><th>Mibyte</th></tr></thead>\n",
       "<thead><tr><th>Time</th><th>Time</th><th>str3</th><th>str3</th><th>float64[2]</th><th>str4</th><th>str9</th><th>str6</th><th>str4</th><th>str4</th><th>str8</th><th>float64</th></tr></thead>\n",
       "<tr><td>2011-02-03 00:04:08.000</td><td>2011-02-03 00:04:09.000</td><td>SDO</td><td>AIA</td><td>304.0 .. 304.0</td><td>JSOC</td><td>intensity</td><td>NARROW</td><td>4096</td><td>4096</td><td>FULLDISK</td><td>64.64844</td></tr>\n",
       "<tr><td>2011-02-04 00:04:08.000</td><td>2011-02-04 00:04:09.000</td><td>SDO</td><td>AIA</td><td>304.0 .. 304.0</td><td>JSOC</td><td>intensity</td><td>NARROW</td><td>4096</td><td>4096</td><td>FULLDISK</td><td>64.64844</td></tr>\n",
       "<tr><td>2011-02-05 00:04:08.000</td><td>2011-02-05 00:04:09.000</td><td>SDO</td><td>AIA</td><td>304.0 .. 304.0</td><td>JSOC</td><td>intensity</td><td>NARROW</td><td>4096</td><td>4096</td><td>FULLDISK</td><td>64.64844</td></tr>\n",
       "<tr><td>2011-02-06 00:04:08.000</td><td>2011-02-06 00:04:09.000</td><td>SDO</td><td>AIA</td><td>304.0 .. 304.0</td><td>JSOC</td><td>intensity</td><td>NARROW</td><td>4096</td><td>4096</td><td>FULLDISK</td><td>64.64844</td></tr>\n",
       "<tr><td>2011-02-07 00:04:08.000</td><td>2011-02-07 00:04:09.000</td><td>SDO</td><td>AIA</td><td>304.0 .. 304.0</td><td>JSOC</td><td>intensity</td><td>NARROW</td><td>4096</td><td>4096</td><td>FULLDISK</td><td>64.64844</td></tr>\n",
       "<tr><td>2011-02-08 00:04:08.000</td><td>2011-02-08 00:04:09.000</td><td>SDO</td><td>AIA</td><td>304.0 .. 304.0</td><td>JSOC</td><td>intensity</td><td>NARROW</td><td>4096</td><td>4096</td><td>FULLDISK</td><td>64.64844</td></tr>\n",
       "<tr><td>2011-02-09 00:04:08.000</td><td>2011-02-09 00:04:09.000</td><td>SDO</td><td>AIA</td><td>304.0 .. 304.0</td><td>JSOC</td><td>intensity</td><td>NARROW</td><td>4096</td><td>4096</td><td>FULLDISK</td><td>64.64844</td></tr>\n",
       "<tr><td>2011-02-10 00:04:08.000</td><td>2011-02-10 00:04:09.000</td><td>SDO</td><td>AIA</td><td>304.0 .. 304.0</td><td>JSOC</td><td>intensity</td><td>NARROW</td><td>4096</td><td>4096</td><td>FULLDISK</td><td>64.64844</td></tr>\n",
       "<tr><td>2011-02-11 00:04:08.000</td><td>2011-02-11 00:04:09.000</td><td>SDO</td><td>AIA</td><td>304.0 .. 304.0</td><td>JSOC</td><td>intensity</td><td>NARROW</td><td>4096</td><td>4096</td><td>FULLDISK</td><td>64.64844</td></tr>\n",
       "<tr><td>...</td><td>...</td><td>...</td><td>...</td><td>...</td><td>...</td><td>...</td><td>...</td><td>...</td><td>...</td><td>...</td><td>...</td></tr>\n",
       "<tr><td>2011-02-21 00:04:08.000</td><td>2011-02-21 00:04:09.000</td><td>SDO</td><td>AIA</td><td>304.0 .. 304.0</td><td>JSOC</td><td>intensity</td><td>NARROW</td><td>4096</td><td>4096</td><td>FULLDISK</td><td>64.64844</td></tr>\n",
       "<tr><td>2011-02-22 00:04:08.000</td><td>2011-02-22 00:04:09.000</td><td>SDO</td><td>AIA</td><td>304.0 .. 304.0</td><td>JSOC</td><td>intensity</td><td>NARROW</td><td>4096</td><td>4096</td><td>FULLDISK</td><td>64.64844</td></tr>\n",
       "<tr><td>2011-02-23 00:04:08.000</td><td>2011-02-23 00:04:09.000</td><td>SDO</td><td>AIA</td><td>304.0 .. 304.0</td><td>JSOC</td><td>intensity</td><td>NARROW</td><td>4096</td><td>4096</td><td>FULLDISK</td><td>64.64844</td></tr>\n",
       "<tr><td>2011-02-24 00:04:08.000</td><td>2011-02-24 00:04:09.000</td><td>SDO</td><td>AIA</td><td>304.0 .. 304.0</td><td>JSOC</td><td>intensity</td><td>NARROW</td><td>4096</td><td>4096</td><td>FULLDISK</td><td>64.64844</td></tr>\n",
       "<tr><td>2011-02-25 00:04:08.000</td><td>2011-02-25 00:04:09.000</td><td>SDO</td><td>AIA</td><td>304.0 .. 304.0</td><td>JSOC</td><td>intensity</td><td>NARROW</td><td>4096</td><td>4096</td><td>FULLDISK</td><td>64.64844</td></tr>\n",
       "<tr><td>2011-02-26 00:04:08.000</td><td>2011-02-26 00:04:09.000</td><td>SDO</td><td>AIA</td><td>304.0 .. 304.0</td><td>JSOC</td><td>intensity</td><td>NARROW</td><td>4096</td><td>4096</td><td>FULLDISK</td><td>64.64844</td></tr>\n",
       "<tr><td>2011-02-27 00:04:08.000</td><td>2011-02-27 00:04:09.000</td><td>SDO</td><td>AIA</td><td>304.0 .. 304.0</td><td>JSOC</td><td>intensity</td><td>NARROW</td><td>4096</td><td>4096</td><td>FULLDISK</td><td>64.64844</td></tr>\n",
       "<tr><td>2011-02-28 00:04:08.000</td><td>2011-02-28 00:04:09.000</td><td>SDO</td><td>AIA</td><td>304.0 .. 304.0</td><td>JSOC</td><td>intensity</td><td>NARROW</td><td>4096</td><td>4096</td><td>FULLDISK</td><td>64.64844</td></tr>\n",
       "<tr><td>2011-03-01 00:04:08.000</td><td>2011-03-01 00:04:09.000</td><td>SDO</td><td>AIA</td><td>304.0 .. 304.0</td><td>JSOC</td><td>intensity</td><td>NARROW</td><td>4096</td><td>4096</td><td>FULLDISK</td><td>64.64844</td></tr>\n",
       "<tr><td>2011-03-02 00:04:08.000</td><td>2011-03-02 00:04:09.000</td><td>SDO</td><td>AIA</td><td>304.0 .. 304.0</td><td>JSOC</td><td>intensity</td><td>NARROW</td><td>4096</td><td>4096</td><td>FULLDISK</td><td>64.64844</td></tr>\n",
       "</table></div></br>"
      ],
      "text/plain": [
       "<sunpy.net.fido_factory.UnifiedResponse object at 0x0000020360912A30>\n",
       "Results from 1 Provider:\n",
       "\n",
       "28 Results from the VSOClient:\n",
       "Source: http://vso.stanford.edu/cgi-bin/search\n",
       "Total estimated size: 1.898 Gbyte\n",
       "\n",
       "       Start Time               End Time        Source ... Extent Type   Size  \n",
       "                                                       ...              Mibyte \n",
       "----------------------- ----------------------- ------ ... ----------- --------\n",
       "2011-02-03 00:04:08.000 2011-02-03 00:04:09.000    SDO ...    FULLDISK 64.64844\n",
       "2011-02-04 00:04:08.000 2011-02-04 00:04:09.000    SDO ...    FULLDISK 64.64844\n",
       "2011-02-05 00:04:08.000 2011-02-05 00:04:09.000    SDO ...    FULLDISK 64.64844\n",
       "2011-02-06 00:04:08.000 2011-02-06 00:04:09.000    SDO ...    FULLDISK 64.64844\n",
       "2011-02-07 00:04:08.000 2011-02-07 00:04:09.000    SDO ...    FULLDISK 64.64844\n",
       "2011-02-08 00:04:08.000 2011-02-08 00:04:09.000    SDO ...    FULLDISK 64.64844\n",
       "2011-02-09 00:04:08.000 2011-02-09 00:04:09.000    SDO ...    FULLDISK 64.64844\n",
       "2011-02-10 00:04:08.000 2011-02-10 00:04:09.000    SDO ...    FULLDISK 64.64844\n",
       "2011-02-11 00:04:08.000 2011-02-11 00:04:09.000    SDO ...    FULLDISK 64.64844\n",
       "2011-02-12 00:04:08.000 2011-02-12 00:04:09.000    SDO ...    FULLDISK 64.64844\n",
       "                    ...                     ...    ... ...         ...      ...\n",
       "2011-02-21 00:04:08.000 2011-02-21 00:04:09.000    SDO ...    FULLDISK 64.64844\n",
       "2011-02-22 00:04:08.000 2011-02-22 00:04:09.000    SDO ...    FULLDISK 64.64844\n",
       "2011-02-23 00:04:08.000 2011-02-23 00:04:09.000    SDO ...    FULLDISK 64.64844\n",
       "2011-02-24 00:04:08.000 2011-02-24 00:04:09.000    SDO ...    FULLDISK 64.64844\n",
       "2011-02-25 00:04:08.000 2011-02-25 00:04:09.000    SDO ...    FULLDISK 64.64844\n",
       "2011-02-26 00:04:08.000 2011-02-26 00:04:09.000    SDO ...    FULLDISK 64.64844\n",
       "2011-02-27 00:04:08.000 2011-02-27 00:04:09.000    SDO ...    FULLDISK 64.64844\n",
       "2011-02-28 00:04:08.000 2011-02-28 00:04:09.000    SDO ...    FULLDISK 64.64844\n",
       "2011-03-01 00:04:08.000 2011-03-01 00:04:09.000    SDO ...    FULLDISK 64.64844\n",
       "2011-03-02 00:04:08.000 2011-03-02 00:04:09.000    SDO ...    FULLDISK 64.64844\n",
       "Length = 28 rows\n"
      ]
     },
     "execution_count": 2,
     "metadata": {},
     "output_type": "execute_result"
    }
   ],
   "source": [
    "obs_start = \"2011-02-03T00:04:00\"\n",
    "obs_end = \"2011-03-03T00:04:00\"\n",
    "obs_time = a.Time(obs_start, obs_end)\n",
    "\n",
    "unifresp = Fido.search(obs_time,a.Instrument.aia,a.Wavelength(304*u.angstrom),a.Sample(24*60*u.min)) \n",
    "unifresp"
   ]
  },
  {
   "cell_type": "code",
   "execution_count": 7,
   "id": "a1d00348-2811-43c5-852d-e6bbffe90e54",
   "metadata": {
    "tags": []
   },
   "outputs": [
    {
     "data": {
      "application/vnd.jupyter.widget-view+json": {
       "model_id": "2d707e77376d48068e33341e80f26c01",
       "version_major": 2,
       "version_minor": 0
      },
      "text/plain": [
       "Files Downloaded:   0%|          | 0/28 [00:00<?, ?file/s]"
      ]
     },
     "metadata": {},
     "output_type": "display_data"
    }
   ],
   "source": [
    "files = Fido.fetch(unifresp, path='data/AIA')"
   ]
  },
  {
   "cell_type": "markdown",
   "id": "6a6a999b-9886-4993-8525-949d71dd3001",
   "metadata": {},
   "source": [
    "## AIA 2011-02-03  ~ 2013 -02-03"
   ]
  },
  {
   "cell_type": "code",
   "execution_count": 3,
   "id": "cda2a537-0cac-42c9-83bd-ec4144468896",
   "metadata": {},
   "outputs": [
    {
     "data": {
      "text/html": [
       "Results from 1 Provider:</br></br>758 Results from the VSOClient:</br><div><i>VSOQueryResponseTable length=758</i>\n",
       "<table id=\"table2491746991648\" class=\"table-striped table-bordered table-condensed\">\n",
       "<thead><tr><th>Start Time</th><th>End Time</th><th>Source</th><th>Instrument</th><th>Wavelength</th><th>Provider</th><th>Physobs</th><th>Wavetype</th><th>Extent Width</th><th>Extent Length</th><th>Extent Type</th><th>Size</th></tr></thead>\n",
       "<thead><tr><th></th><th></th><th></th><th></th><th>Angstrom</th><th></th><th></th><th></th><th></th><th></th><th></th><th>Mibyte</th></tr></thead>\n",
       "<thead><tr><th>Time</th><th>Time</th><th>str3</th><th>str3</th><th>float64[2]</th><th>str4</th><th>str9</th><th>str6</th><th>str4</th><th>str4</th><th>str8</th><th>float64</th></tr></thead>\n",
       "<tr><td>2011-02-03 00:04:08.000</td><td>2011-02-03 00:04:09.000</td><td>SDO</td><td>AIA</td><td>304.0 .. 304.0</td><td>JSOC</td><td>intensity</td><td>NARROW</td><td>4096</td><td>4096</td><td>FULLDISK</td><td>64.64844</td></tr>\n",
       "<tr><td>2011-02-04 00:04:08.000</td><td>2011-02-04 00:04:09.000</td><td>SDO</td><td>AIA</td><td>304.0 .. 304.0</td><td>JSOC</td><td>intensity</td><td>NARROW</td><td>4096</td><td>4096</td><td>FULLDISK</td><td>64.64844</td></tr>\n",
       "<tr><td>2011-02-05 00:04:08.000</td><td>2011-02-05 00:04:09.000</td><td>SDO</td><td>AIA</td><td>304.0 .. 304.0</td><td>JSOC</td><td>intensity</td><td>NARROW</td><td>4096</td><td>4096</td><td>FULLDISK</td><td>64.64844</td></tr>\n",
       "<tr><td>2011-02-06 00:04:08.000</td><td>2011-02-06 00:04:09.000</td><td>SDO</td><td>AIA</td><td>304.0 .. 304.0</td><td>JSOC</td><td>intensity</td><td>NARROW</td><td>4096</td><td>4096</td><td>FULLDISK</td><td>64.64844</td></tr>\n",
       "<tr><td>2011-02-07 00:04:08.000</td><td>2011-02-07 00:04:09.000</td><td>SDO</td><td>AIA</td><td>304.0 .. 304.0</td><td>JSOC</td><td>intensity</td><td>NARROW</td><td>4096</td><td>4096</td><td>FULLDISK</td><td>64.64844</td></tr>\n",
       "<tr><td>2011-02-08 00:04:08.000</td><td>2011-02-08 00:04:09.000</td><td>SDO</td><td>AIA</td><td>304.0 .. 304.0</td><td>JSOC</td><td>intensity</td><td>NARROW</td><td>4096</td><td>4096</td><td>FULLDISK</td><td>64.64844</td></tr>\n",
       "<tr><td>2011-02-09 00:04:08.000</td><td>2011-02-09 00:04:09.000</td><td>SDO</td><td>AIA</td><td>304.0 .. 304.0</td><td>JSOC</td><td>intensity</td><td>NARROW</td><td>4096</td><td>4096</td><td>FULLDISK</td><td>64.64844</td></tr>\n",
       "<tr><td>2011-02-10 00:04:08.000</td><td>2011-02-10 00:04:09.000</td><td>SDO</td><td>AIA</td><td>304.0 .. 304.0</td><td>JSOC</td><td>intensity</td><td>NARROW</td><td>4096</td><td>4096</td><td>FULLDISK</td><td>64.64844</td></tr>\n",
       "<tr><td>2011-02-11 00:04:08.000</td><td>2011-02-11 00:04:09.000</td><td>SDO</td><td>AIA</td><td>304.0 .. 304.0</td><td>JSOC</td><td>intensity</td><td>NARROW</td><td>4096</td><td>4096</td><td>FULLDISK</td><td>64.64844</td></tr>\n",
       "<tr><td>...</td><td>...</td><td>...</td><td>...</td><td>...</td><td>...</td><td>...</td><td>...</td><td>...</td><td>...</td><td>...</td><td>...</td></tr>\n",
       "<tr><td>2013-02-21 00:04:07.000</td><td>2013-02-21 00:04:08.000</td><td>SDO</td><td>AIA</td><td>304.0 .. 304.0</td><td>JSOC</td><td>intensity</td><td>NARROW</td><td>4096</td><td>4096</td><td>FULLDISK</td><td>64.64844</td></tr>\n",
       "<tr><td>2013-02-22 00:04:07.000</td><td>2013-02-22 00:04:08.000</td><td>SDO</td><td>AIA</td><td>304.0 .. 304.0</td><td>JSOC</td><td>intensity</td><td>NARROW</td><td>4096</td><td>4096</td><td>FULLDISK</td><td>64.64844</td></tr>\n",
       "<tr><td>2013-02-23 00:04:07.000</td><td>2013-02-23 00:04:08.000</td><td>SDO</td><td>AIA</td><td>304.0 .. 304.0</td><td>JSOC</td><td>intensity</td><td>NARROW</td><td>4096</td><td>4096</td><td>FULLDISK</td><td>64.64844</td></tr>\n",
       "<tr><td>2013-02-24 00:04:07.000</td><td>2013-02-24 00:04:08.000</td><td>SDO</td><td>AIA</td><td>304.0 .. 304.0</td><td>JSOC</td><td>intensity</td><td>NARROW</td><td>4096</td><td>4096</td><td>FULLDISK</td><td>64.64844</td></tr>\n",
       "<tr><td>2013-02-25 00:04:07.000</td><td>2013-02-25 00:04:08.000</td><td>SDO</td><td>AIA</td><td>304.0 .. 304.0</td><td>JSOC</td><td>intensity</td><td>NARROW</td><td>4096</td><td>4096</td><td>FULLDISK</td><td>64.64844</td></tr>\n",
       "<tr><td>2013-02-26 00:04:07.000</td><td>2013-02-26 00:04:08.000</td><td>SDO</td><td>AIA</td><td>304.0 .. 304.0</td><td>JSOC</td><td>intensity</td><td>NARROW</td><td>4096</td><td>4096</td><td>FULLDISK</td><td>64.64844</td></tr>\n",
       "<tr><td>2013-02-27 00:04:07.000</td><td>2013-02-27 00:04:08.000</td><td>SDO</td><td>AIA</td><td>304.0 .. 304.0</td><td>JSOC</td><td>intensity</td><td>NARROW</td><td>4096</td><td>4096</td><td>FULLDISK</td><td>64.64844</td></tr>\n",
       "<tr><td>2013-02-28 00:04:07.000</td><td>2013-02-28 00:04:08.000</td><td>SDO</td><td>AIA</td><td>304.0 .. 304.0</td><td>JSOC</td><td>intensity</td><td>NARROW</td><td>4096</td><td>4096</td><td>FULLDISK</td><td>64.64844</td></tr>\n",
       "<tr><td>2013-03-01 00:04:07.000</td><td>2013-03-01 00:04:08.000</td><td>SDO</td><td>AIA</td><td>304.0 .. 304.0</td><td>JSOC</td><td>intensity</td><td>NARROW</td><td>4096</td><td>4096</td><td>FULLDISK</td><td>64.64844</td></tr>\n",
       "<tr><td>2013-03-02 00:04:07.000</td><td>2013-03-02 00:04:08.000</td><td>SDO</td><td>AIA</td><td>304.0 .. 304.0</td><td>JSOC</td><td>intensity</td><td>NARROW</td><td>4096</td><td>4096</td><td>FULLDISK</td><td>64.64844</td></tr>\n",
       "</table></div></br>"
      ],
      "text/plain": [
       "<sunpy.net.fido_factory.UnifiedResponse object at 0x0000024427049A60>\n",
       "Results from 1 Provider:\n",
       "\n",
       "758 Results from the VSOClient:\n",
       "Source: http://vso.stanford.edu/cgi-bin/search\n",
       "Total estimated size: 51.384 Gbyte\n",
       "\n",
       "       Start Time               End Time        Source ... Extent Type   Size  \n",
       "                                                       ...              Mibyte \n",
       "----------------------- ----------------------- ------ ... ----------- --------\n",
       "2011-02-03 00:04:08.000 2011-02-03 00:04:09.000    SDO ...    FULLDISK 64.64844\n",
       "2011-02-04 00:04:08.000 2011-02-04 00:04:09.000    SDO ...    FULLDISK 64.64844\n",
       "2011-02-05 00:04:08.000 2011-02-05 00:04:09.000    SDO ...    FULLDISK 64.64844\n",
       "2011-02-06 00:04:08.000 2011-02-06 00:04:09.000    SDO ...    FULLDISK 64.64844\n",
       "2011-02-07 00:04:08.000 2011-02-07 00:04:09.000    SDO ...    FULLDISK 64.64844\n",
       "2011-02-08 00:04:08.000 2011-02-08 00:04:09.000    SDO ...    FULLDISK 64.64844\n",
       "2011-02-09 00:04:08.000 2011-02-09 00:04:09.000    SDO ...    FULLDISK 64.64844\n",
       "2011-02-10 00:04:08.000 2011-02-10 00:04:09.000    SDO ...    FULLDISK 64.64844\n",
       "2011-02-11 00:04:08.000 2011-02-11 00:04:09.000    SDO ...    FULLDISK 64.64844\n",
       "2011-02-12 00:04:08.000 2011-02-12 00:04:09.000    SDO ...    FULLDISK 64.64844\n",
       "                    ...                     ...    ... ...         ...      ...\n",
       "2013-02-21 00:04:07.000 2013-02-21 00:04:08.000    SDO ...    FULLDISK 64.64844\n",
       "2013-02-22 00:04:07.000 2013-02-22 00:04:08.000    SDO ...    FULLDISK 64.64844\n",
       "2013-02-23 00:04:07.000 2013-02-23 00:04:08.000    SDO ...    FULLDISK 64.64844\n",
       "2013-02-24 00:04:07.000 2013-02-24 00:04:08.000    SDO ...    FULLDISK 64.64844\n",
       "2013-02-25 00:04:07.000 2013-02-25 00:04:08.000    SDO ...    FULLDISK 64.64844\n",
       "2013-02-26 00:04:07.000 2013-02-26 00:04:08.000    SDO ...    FULLDISK 64.64844\n",
       "2013-02-27 00:04:07.000 2013-02-27 00:04:08.000    SDO ...    FULLDISK 64.64844\n",
       "2013-02-28 00:04:07.000 2013-02-28 00:04:08.000    SDO ...    FULLDISK 64.64844\n",
       "2013-03-01 00:04:07.000 2013-03-01 00:04:08.000    SDO ...    FULLDISK 64.64844\n",
       "2013-03-02 00:04:07.000 2013-03-02 00:04:08.000    SDO ...    FULLDISK 64.64844\n",
       "Length = 758 rows\n"
      ]
     },
     "execution_count": 3,
     "metadata": {},
     "output_type": "execute_result"
    }
   ],
   "source": [
    "obs_start = \"2011-02-03T00:04:00\"\n",
    "obs_end = \"2013-03-03T00:04:00\"\n",
    "obs_time = a.Time(obs_start, obs_end)\n",
    "\n",
    "unifresp = Fido.search(obs_time,a.Instrument.aia,a.Wavelength(304*u.angstrom),a.Sample(24*60*u.min)) \n",
    "unifresp"
   ]
  },
  {
   "cell_type": "code",
   "execution_count": null,
   "id": "a7894e18-e318-4c4d-a51e-c0964bacd61b",
   "metadata": {},
   "outputs": [],
   "source": []
  }
 ],
 "metadata": {
  "kernelspec": {
   "display_name": "Python 3 (ipykernel)",
   "language": "python",
   "name": "python3"
  },
  "language_info": {
   "codemirror_mode": {
    "name": "ipython",
    "version": 3
   },
   "file_extension": ".py",
   "mimetype": "text/x-python",
   "name": "python",
   "nbconvert_exporter": "python",
   "pygments_lexer": "ipython3",
   "version": "3.9.16"
  }
 },
 "nbformat": 4,
 "nbformat_minor": 5
}
