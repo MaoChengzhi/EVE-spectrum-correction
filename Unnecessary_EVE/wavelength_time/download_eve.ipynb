{
 "cells": [
  {
   "cell_type": "code",
   "execution_count": 1,
   "id": "365dcf61-c17c-474d-8682-498385cff543",
   "metadata": {},
   "outputs": [],
   "source": [
    "import astropy.units as u\n",
    "from sunpy.net import Fido, attrs as a"
   ]
  },
  {
   "cell_type": "code",
   "execution_count": 5,
   "id": "b61f5963-3d9c-4647-8184-f50d3f08355f",
   "metadata": {},
   "outputs": [
    {
     "data": {
      "text/html": [
       "Results from 1 Provider:</br></br>6 Results from the VSOClient:</br><div><i>VSOQueryResponseTable length=6</i>\n",
       "<table id=\"table2671978094352\" class=\"table-striped table-bordered table-condensed\">\n",
       "<thead><tr><th>Start Time</th><th>End Time</th><th>Source</th><th>Instrument</th><th>Wavelength</th><th>Provider</th><th>Physobs</th><th>Extent Type</th><th>Size</th><th>Info</th></tr></thead>\n",
       "<thead><tr><th></th><th></th><th></th><th></th><th>Angstrom</th><th></th><th></th><th></th><th>Mibyte</th><th></th></tr></thead>\n",
       "<thead><tr><th>Time</th><th>Time</th><th>str3</th><th>str3</th><th>float64[2]</th><th>str4</th><th>str10</th><th>str8</th><th>float64</th><th>str16</th></tr></thead>\n",
       "<tr><td>2011-01-27 20:00:00.000</td><td>2011-01-27 21:00:00.000</td><td>SDO</td><td>EVE</td><td>93.0 .. 1033.0</td><td>LASP</td><td>irradiance</td><td>FULLDISK</td><td>-0.00098</td><td>L2Lines (merged)</td></tr>\n",
       "<tr><td>2011-01-27 20:00:00.000</td><td>2011-01-27 21:00:00.000</td><td>SDO</td><td>EVE</td><td>60.0 .. 1060.0</td><td>LASP</td><td>irradiance</td><td>FULLDISK</td><td>-0.00098</td><td>L2Spectra (MEGS)</td></tr>\n",
       "<tr><td>2011-01-27 21:00:00.000</td><td>2011-01-27 22:00:00.000</td><td>SDO</td><td>EVE</td><td>93.0 .. 1033.0</td><td>LASP</td><td>irradiance</td><td>FULLDISK</td><td>-0.00098</td><td>L2Lines (merged)</td></tr>\n",
       "<tr><td>2011-01-27 21:00:00.000</td><td>2011-01-27 22:00:00.000</td><td>SDO</td><td>EVE</td><td>60.0 .. 1060.0</td><td>LASP</td><td>irradiance</td><td>FULLDISK</td><td>-0.00098</td><td>L2Spectra (MEGS)</td></tr>\n",
       "<tr><td>2011-01-27 22:00:00.000</td><td>2011-01-27 23:00:00.000</td><td>SDO</td><td>EVE</td><td>93.0 .. 1033.0</td><td>LASP</td><td>irradiance</td><td>FULLDISK</td><td>-0.00098</td><td>L2Lines (merged)</td></tr>\n",
       "<tr><td>2011-01-27 22:00:00.000</td><td>2011-01-27 23:00:00.000</td><td>SDO</td><td>EVE</td><td>60.0 .. 1060.0</td><td>LASP</td><td>irradiance</td><td>FULLDISK</td><td>-0.00098</td><td>L2Spectra (MEGS)</td></tr>\n",
       "</table></div></br>"
      ],
      "text/plain": [
       "<sunpy.net.fido_factory.UnifiedResponse object at 0x0000026E17EEC610>\n",
       "Results from 1 Provider:\n",
       "\n",
       "6 Results from the VSOClient:\n",
       "Source: http://vso.stanford.edu/cgi-bin/search\n",
       "\n",
       "       Start Time               End Time        ...   Size         Info      \n",
       "                                                ...  Mibyte                  \n",
       "----------------------- ----------------------- ... -------- ----------------\n",
       "2011-01-27 20:00:00.000 2011-01-27 21:00:00.000 ... -0.00098 L2Lines (merged)\n",
       "2011-01-27 20:00:00.000 2011-01-27 21:00:00.000 ... -0.00098 L2Spectra (MEGS)\n",
       "2011-01-27 21:00:00.000 2011-01-27 22:00:00.000 ... -0.00098 L2Lines (merged)\n",
       "2011-01-27 21:00:00.000 2011-01-27 22:00:00.000 ... -0.00098 L2Spectra (MEGS)\n",
       "2011-01-27 22:00:00.000 2011-01-27 23:00:00.000 ... -0.00098 L2Lines (merged)\n",
       "2011-01-27 22:00:00.000 2011-01-27 23:00:00.000 ... -0.00098 L2Spectra (MEGS)\n"
      ]
     },
     "execution_count": 5,
     "metadata": {},
     "output_type": "execute_result"
    }
   ],
   "source": [
    "cme_start = \"2011-01-27T20:00:00\"\n",
    "cme_end = \"2011-01-27T22:00:00\"\n",
    "cme_time = a.Time(cme_start, cme_end)\n",
    "unifresp = Fido.search(cme_time,a.Instrument.eve,a.Level.two,)\n",
    "unifresp"
   ]
  },
  {
   "cell_type": "code",
   "execution_count": 6,
   "id": "5ad30292-ccd0-43cb-9703-fd07c0358ea5",
   "metadata": {},
   "outputs": [
    {
     "data": {
      "application/vnd.jupyter.widget-view+json": {
       "model_id": "cad7d97988a34395bc1c9b833adde662",
       "version_major": 2,
       "version_minor": 0
      },
      "text/plain": [
       "Files Downloaded:   0%|          | 0/6 [00:00<?, ?file/s]"
      ]
     },
     "metadata": {},
     "output_type": "display_data"
    },
    {
     "data": {
      "application/vnd.jupyter.widget-view+json": {
       "model_id": "",
       "version_major": 2,
       "version_minor": 0
      },
      "text/plain": [
       "eve_l2_lines_2011027_22:   0%|          | 0.00/14.6k [00:00<?, ?B/s]"
      ]
     },
     "metadata": {},
     "output_type": "display_data"
    },
    {
     "data": {
      "application/vnd.jupyter.widget-view+json": {
       "model_id": "",
       "version_major": 2,
       "version_minor": 0
      },
      "text/plain": [
       "eve_l2_lines_2011027_20:   0%|          | 0.00/18.5k [00:00<?, ?B/s]"
      ]
     },
     "metadata": {},
     "output_type": "display_data"
    },
    {
     "data": {
      "application/vnd.jupyter.widget-view+json": {
       "model_id": "",
       "version_major": 2,
       "version_minor": 0
      },
      "text/plain": [
       "eve_l2_spectra_2011027_20:   0%|          | 0.00/933k [00:00<?, ?B/s]"
      ]
     },
     "metadata": {},
     "output_type": "display_data"
    },
    {
     "data": {
      "application/vnd.jupyter.widget-view+json": {
       "model_id": "",
       "version_major": 2,
       "version_minor": 0
      },
      "text/plain": [
       "eve_l2_lines_2011027_21:   0%|          | 0.00/9.52k [00:00<?, ?B/s]"
      ]
     },
     "metadata": {},
     "output_type": "display_data"
    },
    {
     "data": {
      "application/vnd.jupyter.widget-view+json": {
       "model_id": "",
       "version_major": 2,
       "version_minor": 0
      },
      "text/plain": [
       "eve_l2_spectra_2011027_22:   0%|          | 0.00/594k [00:00<?, ?B/s]"
      ]
     },
     "metadata": {},
     "output_type": "display_data"
    },
    {
     "name": "stdout",
     "output_type": "stream",
     "text": [
      "1/0 files failed to download. Please check `.errors` for details\n"
     ]
    }
   ],
   "source": [
    "files = Fido.fetch(unifresp, path='data/EVE_Fido')"
   ]
  },
  {
   "cell_type": "code",
   "execution_count": null,
   "id": "e31e6d49-2b71-4881-8ca1-6b51b4fae7ca",
   "metadata": {},
   "outputs": [],
   "source": []
  }
 ],
 "metadata": {
  "kernelspec": {
   "display_name": "Python 3 (ipykernel)",
   "language": "python",
   "name": "python3"
  },
  "language_info": {
   "codemirror_mode": {
    "name": "ipython",
    "version": 3
   },
   "file_extension": ".py",
   "mimetype": "text/x-python",
   "name": "python",
   "nbconvert_exporter": "python",
   "pygments_lexer": "ipython3",
   "version": "3.9.13"
  }
 },
 "nbformat": 4,
 "nbformat_minor": 5
}
