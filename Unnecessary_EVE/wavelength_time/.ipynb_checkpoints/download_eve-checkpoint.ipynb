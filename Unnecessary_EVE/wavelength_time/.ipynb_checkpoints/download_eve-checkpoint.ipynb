{
 "cells": [
  {
   "cell_type": "code",
   "execution_count": 1,
   "id": "365dcf61-c17c-474d-8682-498385cff543",
   "metadata": {},
   "outputs": [],
   "source": [
    "import astropy.units as u\n",
    "from sunpy.net import Fido, attrs as a"
   ]
  },
  {
   "cell_type": "code",
   "execution_count": 14,
   "id": "b61f5963-3d9c-4647-8184-f50d3f08355f",
   "metadata": {},
   "outputs": [
    {
     "name": "stderr",
     "output_type": "stream",
     "text": [
      "C:\\Users\\asus-pc\\anaconda3\\lib\\site-packages\\astropy\\units\\quantity.py:502: VisibleDeprecationWarning: Creating an ndarray from ragged nested sequences (which is a list-or-tuple of lists-or-tuples-or ndarrays with different lengths or shapes) is deprecated. If you meant to do this, you must specify 'dtype=object' when creating the ndarray.\n",
      "  value = np.array(value, dtype=dtype, copy=copy, order=order,\n"
     ]
    }
   ],
   "source": [
    "cme_start = \"2011-01-27T20:00:00\"\n",
    "cme_end = \"2011-01-27T22:00:00\"\n",
    "cme_time = a.Time(cme_start, cme_end)\n",
    "unifresp = Fido.search(cme_time,a.Instrument.eve)"
   ]
  },
  {
   "cell_type": "code",
   "execution_count": 16,
   "id": "8c5c61f6-1178-485d-aa5f-b373e0998ef8",
   "metadata": {},
   "outputs": [
    {
     "data": {
      "text/html": [
       "Results from 2 Providers:</br></br>1 Results from the EVEClient:</br><div><i>QueryResponse length=1</i>\n",
       "<table id=\"table2317206776560\" class=\"table-striped table-bordered table-condensed\">\n",
       "<thead><tr><th>Start Time</th><th>End Time</th><th>Instrument</th><th>Physobs</th><th>Source</th><th>Provider</th><th>Level</th></tr></thead>\n",
       "<thead><tr><th>Time</th><th>Time</th><th>str3</th><th>str10</th><th>str3</th><th>str4</th><th>int32</th></tr></thead>\n",
       "<tr><td>2011-01-27 00:00:00.000</td><td>2011-01-27 23:59:59.999</td><td>EVE</td><td>irradiance</td><td>SDO</td><td>LASP</td><td>0</td></tr>\n",
       "</table></div></br>9 Results from the VSOClient:</br><div><i>VSOQueryResponseTable length=9</i>\n",
       "<table id=\"table2317206776848\" class=\"table-striped table-bordered table-condensed\">\n",
       "<thead><tr><th>Start Time</th><th>End Time</th><th>Source</th><th>Instrument</th><th>Wavelength</th><th>Provider</th><th>Physobs</th><th>Extent Type</th><th>Size</th><th>Info</th></tr></thead>\n",
       "<thead><tr><th></th><th></th><th></th><th></th><th></th><th></th><th></th><th></th><th>Mibyte</th><th></th></tr></thead>\n",
       "<thead><tr><th>Time</th><th>Time</th><th>str3</th><th>str3</th><th>object</th><th>str4</th><th>str10</th><th>str8</th><th>float64</th><th>str16</th></tr></thead>\n",
       "<tr><td>2011-01-27 00:00:00.000</td><td>2011-01-28 00:00:00.000</td><td>SDO</td><td>EVE</td><td>[  1. 304.] Angstrom</td><td>LASP</td><td>irradiance</td><td>FULLDISK</td><td>-0.00098</td><td>L1ESP (ESP)</td></tr>\n",
       "<tr><td>2011-01-27 00:00:00.000</td><td>2011-01-28 00:00:00.000</td><td>SDO</td><td>EVE</td><td>[1.00e+00 1.05e+03] Angstrom</td><td>LASP</td><td>irradiance</td><td>FULLDISK</td><td>-0.00098</td><td>L3 (merged)</td></tr>\n",
       "<tr><td>2011-01-27 00:00:00.000</td><td>2011-01-28 00:00:00.000</td><td>SDO</td><td>EVE</td><td>None</td><td>LASP</td><td>irradiance</td><td>FULLDISK</td><td>-0.00098</td><td>(merged)</td></tr>\n",
       "<tr><td>2011-01-27 20:00:00.000</td><td>2011-01-27 21:00:00.000</td><td>SDO</td><td>EVE</td><td>[  93. 1033.] Angstrom</td><td>LASP</td><td>irradiance</td><td>FULLDISK</td><td>-0.00098</td><td>L2Lines (merged)</td></tr>\n",
       "<tr><td>2011-01-27 20:00:00.000</td><td>2011-01-27 21:00:00.000</td><td>SDO</td><td>EVE</td><td>[  60. 1060.] Angstrom</td><td>LASP</td><td>irradiance</td><td>FULLDISK</td><td>-0.00098</td><td>L2Spectra (MEGS)</td></tr>\n",
       "<tr><td>2011-01-27 21:00:00.000</td><td>2011-01-27 22:00:00.000</td><td>SDO</td><td>EVE</td><td>[  93. 1033.] Angstrom</td><td>LASP</td><td>irradiance</td><td>FULLDISK</td><td>-0.00098</td><td>L2Lines (merged)</td></tr>\n",
       "<tr><td>2011-01-27 21:00:00.000</td><td>2011-01-27 22:00:00.000</td><td>SDO</td><td>EVE</td><td>[  60. 1060.] Angstrom</td><td>LASP</td><td>irradiance</td><td>FULLDISK</td><td>-0.00098</td><td>L2Spectra (MEGS)</td></tr>\n",
       "<tr><td>2011-01-27 22:00:00.000</td><td>2011-01-27 23:00:00.000</td><td>SDO</td><td>EVE</td><td>[  93. 1033.] Angstrom</td><td>LASP</td><td>irradiance</td><td>FULLDISK</td><td>-0.00098</td><td>L2Lines (merged)</td></tr>\n",
       "<tr><td>2011-01-27 22:00:00.000</td><td>2011-01-27 23:00:00.000</td><td>SDO</td><td>EVE</td><td>[  60. 1060.] Angstrom</td><td>LASP</td><td>irradiance</td><td>FULLDISK</td><td>-0.00098</td><td>L2Spectra (MEGS)</td></tr>\n",
       "</table></div></br>"
      ],
      "text/plain": [
       "<sunpy.net.fido_factory.UnifiedResponse object at 0x0000021B84761310>\n",
       "Results from 2 Providers:\n",
       "\n",
       "1 Results from the EVEClient:\n",
       "Source: https://lasp.colorado.edu/eve/data_access/evewebdata/quicklook/L0CS/SpWx/\n",
       "\n",
       "       Start Time               End Time        Instrument ... Provider Level\n",
       "----------------------- ----------------------- ---------- ... -------- -----\n",
       "2011-01-27 00:00:00.000 2011-01-27 23:59:59.999        EVE ...     LASP     0\n",
       "\n",
       "9 Results from the VSOClient:\n",
       "Source: http://vso.stanford.edu/cgi-bin/search\n",
       "\n",
       "       Start Time               End Time        ...   Size         Info      \n",
       "                                                ...  Mibyte                  \n",
       "----------------------- ----------------------- ... -------- ----------------\n",
       "2011-01-27 00:00:00.000 2011-01-28 00:00:00.000 ... -0.00098      L1ESP (ESP)\n",
       "2011-01-27 00:00:00.000 2011-01-28 00:00:00.000 ... -0.00098      L3 (merged)\n",
       "2011-01-27 00:00:00.000 2011-01-28 00:00:00.000 ... -0.00098         (merged)\n",
       "2011-01-27 20:00:00.000 2011-01-27 21:00:00.000 ... -0.00098 L2Lines (merged)\n",
       "2011-01-27 20:00:00.000 2011-01-27 21:00:00.000 ... -0.00098 L2Spectra (MEGS)\n",
       "2011-01-27 21:00:00.000 2011-01-27 22:00:00.000 ... -0.00098 L2Lines (merged)\n",
       "2011-01-27 21:00:00.000 2011-01-27 22:00:00.000 ... -0.00098 L2Spectra (MEGS)\n",
       "2011-01-27 22:00:00.000 2011-01-27 23:00:00.000 ... -0.00098 L2Lines (merged)\n",
       "2011-01-27 22:00:00.000 2011-01-27 23:00:00.000 ... -0.00098 L2Spectra (MEGS)\n"
      ]
     },
     "execution_count": 16,
     "metadata": {},
     "output_type": "execute_result"
    }
   ],
   "source": [
    "unifresp"
   ]
  },
  {
   "cell_type": "code",
   "execution_count": 17,
   "id": "5ad30292-ccd0-43cb-9703-fd07c0358ea5",
   "metadata": {},
   "outputs": [
    {
     "data": {
      "application/vnd.jupyter.widget-view+json": {
       "model_id": "37b2c9a9c0924cba96314d546c9cf749",
       "version_major": 2,
       "version_minor": 0
      },
      "text/plain": [
       "Files Downloaded:   0%|          | 0/10 [00:00<?, ?file/s]"
      ]
     },
     "metadata": {},
     "output_type": "display_data"
    },
    {
     "data": {
      "application/vnd.jupyter.widget-view+json": {
       "model_id": "",
       "version_major": 2,
       "version_minor": 0
      },
      "text/plain": [
       "eve_l1_esp_2011027_00:   0%|          | 0.00/5.51M [00:00<?, ?B/s]"
      ]
     },
     "metadata": {},
     "output_type": "display_data"
    },
    {
     "data": {
      "application/vnd.jupyter.widget-view+json": {
       "model_id": "",
       "version_major": 2,
       "version_minor": 0
      },
      "text/plain": [
       "20110127_EVE_L0CS_DIODES_1m.txt:   0%|          | 0.00/242k [00:00<?, ?B/s]"
      ]
     },
     "metadata": {},
     "output_type": "display_data"
    },
    {
     "data": {
      "application/vnd.jupyter.widget-view+json": {
       "model_id": "",
       "version_major": 2,
       "version_minor": 0
      },
      "text/plain": [
       "eve_l2_lines_2011027_21:   0%|          | 0.00/9.52k [00:00<?, ?B/s]"
      ]
     },
     "metadata": {},
     "output_type": "display_data"
    },
    {
     "data": {
      "application/vnd.jupyter.widget-view+json": {
       "model_id": "",
       "version_major": 2,
       "version_minor": 0
      },
      "text/plain": [
       "eve_l2_lines_2011027_20:   0%|          | 0.00/18.5k [00:00<?, ?B/s]"
      ]
     },
     "metadata": {},
     "output_type": "display_data"
    },
    {
     "data": {
      "application/vnd.jupyter.widget-view+json": {
       "model_id": "",
       "version_major": 2,
       "version_minor": 0
      },
      "text/plain": [
       "eve_l2_lines_2011027_22:   0%|          | 0.00/14.6k [00:00<?, ?B/s]"
      ]
     },
     "metadata": {},
     "output_type": "display_data"
    },
    {
     "data": {
      "application/vnd.jupyter.widget-view+json": {
       "model_id": "",
       "version_major": 2,
       "version_minor": 0
      },
      "text/plain": [
       "eve_l2_spectra_2011027_20:   0%|          | 0.00/933k [00:00<?, ?B/s]"
      ]
     },
     "metadata": {},
     "output_type": "display_data"
    },
    {
     "data": {
      "application/vnd.jupyter.widget-view+json": {
       "model_id": "",
       "version_major": 2,
       "version_minor": 0
      },
      "text/plain": [
       "eve_l2_spectra_2011027_22:   0%|          | 0.00/594k [00:00<?, ?B/s]"
      ]
     },
     "metadata": {},
     "output_type": "display_data"
    },
    {
     "data": {
      "application/vnd.jupyter.widget-view+json": {
       "model_id": "",
       "version_major": 2,
       "version_minor": 0
      },
      "text/plain": [
       "eve_l3_0_2011027_00:   0%|          | 0.00/158k [00:00<?, ?B/s]"
      ]
     },
     "metadata": {},
     "output_type": "display_data"
    },
    {
     "data": {
      "application/vnd.jupyter.widget-view+json": {
       "model_id": "",
       "version_major": 2,
       "version_minor": 0
      },
      "text/plain": [
       "eve_l4_0_2011027_00:   0%|          | 0.00/30.6M [00:00<?, ?B/s]"
      ]
     },
     "metadata": {},
     "output_type": "display_data"
    },
    {
     "name": "stdout",
     "output_type": "stream",
     "text": [
      "1/0 files failed to download. Please check `.errors` for details\n"
     ]
    }
   ],
   "source": [
    "files = Fido.fetch(unifresp, path='data/EVE_Fido')"
   ]
  },
  {
   "cell_type": "code",
   "execution_count": null,
   "id": "e31e6d49-2b71-4881-8ca1-6b51b4fae7ca",
   "metadata": {},
   "outputs": [],
   "source": []
  }
 ],
 "metadata": {
  "kernelspec": {
   "display_name": "Python 3 (ipykernel)",
   "language": "python",
   "name": "python3"
  },
  "language_info": {
   "codemirror_mode": {
    "name": "ipython",
    "version": 3
   },
   "file_extension": ".py",
   "mimetype": "text/x-python",
   "name": "python",
   "nbconvert_exporter": "python",
   "pygments_lexer": "ipython3",
   "version": "3.9.13"
  }
 },
 "nbformat": 4,
 "nbformat_minor": 5
}
