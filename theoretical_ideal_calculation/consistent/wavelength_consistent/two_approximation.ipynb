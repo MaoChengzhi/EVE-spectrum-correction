{
 "cells": [
  {
   "cell_type": "markdown",
   "id": "5080b9d6",
   "metadata": {},
   "source": [
    "## translation for mma"
   ]
  },
  {
   "cell_type": "code",
   "execution_count": 22,
   "id": "7a0caffd",
   "metadata": {},
   "outputs": [],
   "source": [
    "import numpy as np\n",
    "from scipy.optimize import fsolve\n",
    "import pandas as pd\n",
    "import math\n",
    "from math import sqrt \n",
    "from math import pi\n",
    "from math import e\n",
    "from scipy.optimize import root\n",
    "\n",
    "import matplotlib.pyplot as plt\n",
    "from astropy.modeling import models, fitting"
   ]
  },
  {
   "cell_type": "code",
   "execution_count": 23,
   "id": "5dda27a7",
   "metadata": {},
   "outputs": [],
   "source": [
    "eq1=A0/(sqrt(2)*sigma0)    \\\n",
    "-(math.exp(-((mu0 - mu[0])**2 / (2 * (sigma0**2 + sigma[0]**2)))) * A[0]) / math.sqrt(sigma0**2 + sigma[0]**2) \\\n",
    "- (math.exp(-((mu0 - mu[1])**2 / (2 * (sigma0**2 + sigma[1]**2)))) * A[1]) / math.sqrt(sigma0**2 + sigma[1]**2) \\\n",
    "- (math.exp(-((mu0 - mu[2])**2 / (2 * (sigma0**2 + sigma[2]**2)))) * A[2]) / math.sqrt(sigma0**2 + sigma[2]**2)"
   ]
  },
  {
   "cell_type": "code",
   "execution_count": 24,
   "id": "7b5b45b9",
   "metadata": {},
   "outputs": [],
   "source": [
    "eq2=\\\n",
    " ((math.exp((2 * mu0 * sigma0**2 * mu[0] - sigma0**2 * mu[0]**2 + mu0**2 * sigma[0]**2) / (2 * sigma0**4 + 2 * sigma0**2 * sigma[0]**2))\n",
    "   * sigma0**2 * A[0] * (mu0 - mu[0]))    \n",
    "  / (sigma0**2 + sigma[0]**2)**(3/2)      \n",
    "    +                                     \n",
    " (math.exp((2 * mu0 * sigma0**2 * mu[1] - sigma0**2 * mu[1]**2 + mu0**2 * sigma[1]**2) / (2 * sigma0**4 + 2 * sigma0**2 * sigma[1]**2))\n",
    "   * sigma0**2 * A[1] * (mu0 - mu[1]))    \n",
    "  / (sigma0**2 + sigma[1]**2)**(3/2)       \n",
    "  +                                        \n",
    " (math.exp((2 * mu0 * sigma0**2 * mu[2] - sigma0**2 * mu[2]**2 + mu0**2 * sigma[2]**2) / (2 * sigma0**4 + 2 * sigma0**2 * sigma[2]**2))\n",
    "   * sigma0**2 * A[2] * (mu0 - mu[2]))    \n",
    "  / (sigma0**2 + sigma[2]**2)**(3/2))\n",
    " "
   ]
  },
  {
   "cell_type": "code",
   "execution_count": 25,
   "id": "1d164f1c",
   "metadata": {},
   "outputs": [],
   "source": [
    "term1 = -A0 * sigma0\n",
    "\n",
    "term2 = 2 * np.sqrt(2) * sigma0**4 * (                                                   \n",
    "      np.exp(-(mu0 - mu[0])**2 / (2 * (sigma0**2 + sigma[0]**2))) * A[0] *                        \n",
    "        (-mu0**2 + sigma0**2 + 2 * mu0 * mu[0] - mu[0]**2 + sigma[0]**2) /                \n",
    "            (sigma0**2 + sigma[0]**2)**(5/2)                                           \n",
    "    + np.exp(-(mu0 - mu[1])**2 / (2 * (sigma0**2 + sigma[1]**2))) * A[1] *              \n",
    "        (-mu0**2 + sigma0**2 + 2 * mu0 * mu[1] - mu[1]**2 + sigma[1]**2) /              \n",
    "            (sigma0**2 + sigma[1]**2)**(5/2)                                            \n",
    "    + np.exp(-(mu0 - mu[2])**2 / (2 * (sigma0**2 + sigma[2]**2))) * A[2] *                \n",
    "        (-mu0**2 + sigma0**2 + 2 * mu0 * mu[2] - mu[2]**2 + sigma[2]**2) /                 \n",
    "            (sigma0**2 + sigma[2]**2)**(5/2)                                              \n",
    ")\n",
    "eq3=term1+term2"
   ]
  },
  {
   "cell_type": "code",
   "execution_count": 26,
   "id": "55081243",
   "metadata": {},
   "outputs": [],
   "source": [
    "# mma A 表示积分面积\n",
    "A=[1,2,3]\n",
    "mu=[3,2,1]\n",
    "sigma=[1,2,1]\n",
    "A0=2\n",
    "mu0=3\n",
    "sigma0=3"
   ]
  },
  {
   "cell_type": "code",
   "execution_count": 27,
   "id": "19332490",
   "metadata": {},
   "outputs": [],
   "source": [
    "def equations(p,):\n",
    "    A0, mu0 ,sigma0= p\n",
    "    \n",
    "    A=[1.,2.,0]\n",
    "    mu=[3.,2.,1]\n",
    "    sigma=[1.,2.,2]\n",
    "\n",
    "    eq1=A0/(sqrt(2)*sigma0)    \\\n",
    "    -(math.exp(-((mu0 - mu[0])**2 / (2 * (sigma0**2 + sigma[0]**2)))) * A[0]) / math.sqrt(sigma0**2 + sigma[0]**2) \\\n",
    "    - (math.exp(-((mu0 - mu[1])**2 / (2 * (sigma0**2 + sigma[1]**2)))) * A[1]) / math.sqrt(sigma0**2 + sigma[1]**2) \\\n",
    "    - (math.exp(-((mu0 - mu[2])**2 / (2 * (sigma0**2 + sigma[2]**2)))) * A[2]) / math.sqrt(sigma0**2 + sigma[2]**2)\n",
    "    \n",
    "    eq2=\\\n",
    "         ((math.exp((2 * mu0 * sigma0**2 * mu[0] - sigma0**2 * mu[0]**2 + mu0**2 * sigma[0]**2) / (2 * sigma0**4 + 2 * sigma0**2 * sigma[0]**2))\n",
    "       * sigma0**2 * A[0] * (mu0 - mu[0]))    \n",
    "      / (sigma0**2 + sigma[0]**2)**(3/2)      \n",
    "        +                                     \n",
    "     (math.exp((2 * mu0 * sigma0**2 * mu[1] - sigma0**2 * mu[1]**2 + mu0**2 * sigma[1]**2) / (2 * sigma0**4 + 2 * sigma0**2 * sigma[1]**2))\n",
    "       * sigma0**2 * A[1] * (mu0 - mu[1]))    \n",
    "      / (sigma0**2 + sigma[1]**2)**(3/2)       \n",
    "      +                                        \n",
    "     (math.exp((2 * mu0 * sigma0**2 * mu[2] - sigma0**2 * mu[2]**2 + mu0**2 * sigma[2]**2) / (2 * sigma0**4 + 2 * sigma0**2 * sigma[2]**2))\n",
    "       * sigma0**2 * A[2] * (mu0 - mu[2]))    \n",
    "      / (sigma0**2 + sigma[2]**2)**(3/2))\n",
    "    \n",
    "    term1 = -A0 * sigma0\n",
    "\n",
    "    term2 = 2 * np.sqrt(2) * sigma0**4 * (                                                   \n",
    "          np.exp(-(mu0 - mu[0])**2 / (2 * (sigma0**2 + sigma[0]**2))) * A[0] *                        \n",
    "            (-mu0**2 + sigma0**2 + 2 * mu0 * mu[0] - mu[0]**2 + sigma[0]**2) /                \n",
    "                (sigma0**2 + sigma[0]**2)**(5/2)                                           \n",
    "        + np.exp(-(mu0 - mu[1])**2 / (2 * (sigma0**2 + sigma[1]**2))) * A[1] *              \n",
    "            (-mu0**2 + sigma0**2 + 2 * mu0 * mu[1] - mu[1]**2 + sigma[1]**2) /              \n",
    "                (sigma0**2 + sigma[1]**2)**(5/2)                                            \n",
    "        + np.exp(-(mu0 - mu[2])**2 / (2 * (sigma0**2 + sigma[2]**2))) * A[2] *                \n",
    "            (-mu0**2 + sigma0**2 + 2 * mu0 * mu[2] - mu[2]**2 + sigma[2]**2) /                 \n",
    "                (sigma0**2 + sigma[2]**2)**(5/2)                                              \n",
    "        )\n",
    "    \n",
    "    eq3=term1+term2\n",
    "    \n",
    "    \n",
    "    print(eq1,eq2,eq3)\n",
    "    return [eq1, eq2, eq3]"
   ]
  },
  {
   "cell_type": "code",
   "execution_count": 28,
   "id": "1e89abe7",
   "metadata": {},
   "outputs": [
    {
     "name": "stdout",
     "output_type": "stream",
     "text": [
      "-0.12527091575039406 -0.2684192428679446 0.9759641202587375\n",
      "-0.12527091575039406 -0.2684192428679446 0.9759641202587375\n",
      "-0.12527091575039406 -0.2684192428679446 0.9759641202587375\n",
      "-0.1252708997690425 -0.2684192428679446 0.9759640467468671\n",
      "-0.1252709169875441 -0.2684191971905411 0.9759641555205922\n",
      "-0.12527092216025826 -0.2684192316950688 0.9759642509086994\n",
      "0.022285850306307364 0.13030556136796545 -0.004098197129720482\n",
      "-0.0031665514737930778 -0.06673034208912731 0.04535498259799109\n",
      "0.001015957806815182 0.007743750462332111 0.003045771992931101\n",
      "7.259760747169164e-05 -3.394022087643833e-05 0.00034031813166901514\n",
      "-1.63722450119419e-06 8.73919319516192e-05 -6.985894206490428e-05\n",
      "-4.748896975659278e-08 -5.087375576362518e-07 -7.082321804574576e-07\n",
      "-2.8934079576714566e-09 1.1695509516407299e-07 -1.0001919736879472e-07\n",
      "5.627471821867402e-10 -2.2566481683305994e-08 1.9374779114400553e-08\n",
      "9.459100169806334e-14 -3.923861235932691e-12 3.3102409702223667e-12\n"
     ]
    }
   ],
   "source": [
    "sol=fsolve(equations,x0=(2.73541282,2.34814,1.8034931))\n",
    "# sol=fsolve(equations,x0=(3,3,1))"
   ]
  },
  {
   "cell_type": "code",
   "execution_count": 29,
   "id": "657eb2bc",
   "metadata": {},
   "outputs": [
    {
     "data": {
      "text/plain": [
       "array([2.90684149, 2.55208653, 1.61610393])"
      ]
     },
     "execution_count": 29,
     "metadata": {},
     "output_type": "execute_result"
    }
   ],
   "source": [
    "A0,mu0,sigma0=sol\n",
    "sol"
   ]
  },
  {
   "cell_type": "code",
   "execution_count": 36,
   "id": "26ed0cdd",
   "metadata": {},
   "outputs": [
    {
     "name": "stdout",
     "output_type": "stream",
     "text": [
      "fit using astropy:\n",
      "Model: Gaussian1D\n",
      "Inputs: ('x',)\n",
      "Outputs: ('y',)\n",
      "Model set size: 1\n",
      "Parameters:\n",
      "        amplitude             mean             stddev      \n",
      "    ------------------ ----------------- ------------------\n",
      "    0.7175753303824255 2.552080308950905 1.6160606462454077\n",
      "my fit:\n",
      "Model: Gaussian1D\n",
      "Inputs: ('x',)\n",
      "Outputs: ('y',)\n",
      "Model set size: 1\n",
      "Parameters:\n",
      "        amplitude             mean              stddev      \n",
      "    ------------------ ------------------ ------------------\n",
      "    0.7175664571928833 2.5520865292598005 1.6161039331222982\n"
     ]
    },
    {
     "data": {
      "image/png": "[encoded data removed]",
      "text/plain": [
       "<Figure size 640x480 with 1 Axes>"
      ]
     },
     "metadata": {},
     "output_type": "display_data"
    }
   ],
   "source": [
    "num=3\n",
    "c=[]\n",
    "    \n",
    "A=[1,2,0]\n",
    "mu=[3,2,1]\n",
    "sigma=[1,2,2]\n",
    "wave_list=np.linspace(-7,8,200000)\n",
    "for i in range(num):\n",
    "    c.append(models.Gaussian1D(amplitude=A[i]/sqrt(2*pi*sigma[i]**2), mean=mu[i], stddev=sigma[i]))\n",
    "    \n",
    "total=np.zeros_like(c[0](wave_list))\n",
    "\n",
    "# for i in range(num):\n",
    "#     total+=c[i](wave_list)\n",
    "\n",
    "total=c[0](wave_list)+c[1](wave_list)+c[2](wave_list)\n",
    "c_init=models.Gaussian1D(amplitude=5, mean=1, stddev=1)\n",
    "fit_c = fitting.LevMarLSQFitter()\n",
    "c_fitted=fit_c(c_init,wave_list,total)\n",
    "c_fitted\n",
    "\n",
    "\n",
    "fig, ax = plt.subplots()\n",
    "    \n",
    "# for i in range(num):\n",
    "#     ax.plot(wave_list,c[i](wave_list),label=str(i))\n",
    "    \n",
    "ax.plot(wave_list,total,label=\"sum up\")\n",
    "ax.plot(wave_list,c_fitted(wave_list),label=\"fit\")\n",
    "ax.plot(wave_list,models.Gaussian1D(amplitude=A0/sqrt(2*pi*sigma0**2), \n",
    "                                    mean=mu0, stddev=sigma0)(wave_list),label=\"mine\")\n",
    "\n",
    "ax.legend()\n",
    "\n",
    "print(\"fit using astropy:\")\n",
    "print(c_fitted)\n",
    "\n",
    "print(\"my fit:\")\n",
    "print(models.Gaussian1D(amplitude=A0/sqrt(2*pi*sigma0**2), \n",
    "                                    mean=mu0, stddev=sigma0))"
   ]
  },
  {
   "cell_type": "code",
   "execution_count": 32,
   "id": "06c0ed8f",
   "metadata": {},
   "outputs": [
    {
     "data": {
      "text/plain": [
       "227.99074479748157"
      ]
     },
     "execution_count": 32,
     "metadata": {},
     "output_type": "execute_result"
    }
   ],
   "source": [
    "((c_fitted(wave_list)-total)**2).sum()\n",
    "# astropy fit"
   ]
  },
  {
   "cell_type": "code",
   "execution_count": 20,
   "id": "f4d4282f",
   "metadata": {},
   "outputs": [
    {
     "data": {
      "text/plain": [
       "227.99075189909115"
      ]
     },
     "execution_count": 20,
     "metadata": {},
     "output_type": "execute_result"
    }
   ],
   "source": [
    "((models.Gaussian1D(amplitude=A0/sqrt(2*pi*sigma0**2), mean=mu0, stddev=sigma0)(wave_list)-total)**2).sum()\n",
    "# my fit"
   ]
  },
  {
   "cell_type": "code",
   "execution_count": null,
   "id": "d67176de-1fba-4db1-a07f-1eabe02ee773",
   "metadata": {},
   "outputs": [],
   "source": []
  }
 ],
 "metadata": {
  "kernelspec": {
   "display_name": "Python 3 (ipykernel)",
   "language": "python",
   "name": "python3"
  },
  "language_info": {
   "codemirror_mode": {
    "name": "ipython",
    "version": 3
   },
   "file_extension": ".py",
   "mimetype": "text/x-python",
   "name": "python",
   "nbconvert_exporter": "python",
   "pygments_lexer": "ipython3",
   "version": "3.9.13"
  }
 },
 "nbformat": 4,
 "nbformat_minor": 5
}
