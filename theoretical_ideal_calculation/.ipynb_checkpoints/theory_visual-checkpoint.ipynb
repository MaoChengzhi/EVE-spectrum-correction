{
 "cells": [
  {
   "cell_type": "code",
   "execution_count": null,
   "id": "d682284d-ff16-4fa3-b0c5-5ec0ae86ecd7",
   "metadata": {},
   "outputs": [],
   "source": [
    "import numpy as np\n",
    "import matplotlib.pyplot as plt\n",
    "from astropy.modeling import models, fitting\n",
    "import math\n",
    "from calculating_DN_1000 import wavelength_point_num, wavelength_list\n",
    "from calculating_DN_1000 import angle_point_num_alpha,offaxis_angle_x_alpha, offaxis_angle_y_alpha\n",
    "from calculating_DN_1000 import angle_point_num_beta,offaxis_angle_x_beta, offaxis_angle_y_beta"
   ]
  }
 ],
 "metadata": {
  "kernelspec": {
   "display_name": "Python 3 (ipykernel)",
   "language": "python",
   "name": "python3"
  },
  "language_info": {
   "codemirror_mode": {
    "name": "ipython",
    "version": 3
   },
   "file_extension": ".py",
   "mimetype": "text/x-python",
   "name": "python",
   "nbconvert_exporter": "python",
   "pygments_lexer": "ipython3",
   "version": "3.9.13"
  }
 },
 "nbformat": 4,
 "nbformat_minor": 5
}
