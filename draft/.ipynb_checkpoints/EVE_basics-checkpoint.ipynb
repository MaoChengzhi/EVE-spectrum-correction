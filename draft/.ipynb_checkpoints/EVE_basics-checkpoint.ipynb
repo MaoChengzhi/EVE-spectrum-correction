{
 "cells": [
  {
   "cell_type": "markdown",
   "id": "03442f0a-d87c-402a-9f5a-e472ee3f6fef",
   "metadata": {},
   "source": [
    "EVE data downloaded from\n",
    "https://lasp.colorado.edu/eve/data_access/eve_data/products/level2/\n"
   ]
  },
  {
   "cell_type": "code",
   "execution_count": 122,
   "id": "7a87b26f-f788-46f9-a6da-c84ca1652b22",
   "metadata": {},
   "outputs": [],
   "source": [
    "import copy\n",
    "import glob\n",
    "\n",
    "import matplotlib\n",
    "import matplotlib.pyplot as plt\n",
    "from mpl_toolkits.axes_grid1 import make_axes_locatable\n",
    "import numpy as np\n",
    "from IPython.display import HTML\n",
    "\n",
    "import astropy.table\n",
    "from astropy.coordinates import SkyCoord\n",
    "import astropy.units as u\n",
    "from astropy.visualization import AsymmetricPercentileInterval, ImageNormalize, LogStretch\n",
    "from astropy.io import fits\n",
    "from astropy.modeling.models import Gaussian1D\n",
    "from astropy.modeling import fitting\n",
    "\n",
    "import sunpy.map\n",
    "import sunpy.timeseries as ts\n",
    "import sunpy.sun.constants\n",
    "from sunpy.coordinates import Helioprojective\n",
    "import sunpy"
   ]
  },
  {
   "cell_type": "code",
   "execution_count": 123,
   "id": "60f44734-89db-451a-8936-52b747116653",
   "metadata": {},
   "outputs": [],
   "source": [
    "EVL_filename=\"data\\EVE\\EVL_L2_2011027_16_007_02.fit.gz\"\n",
    "EVS_filename=\"data\\EVE\\EVS_L2_2011027_16_007_02.fit.gz\""
   ]
  },
  {
   "cell_type": "markdown",
   "id": "b7a9c514-0bd2-491a-b919-6804a1d664f9",
   "metadata": {
    "tags": []
   },
   "source": [
    "## Open with Sunpy"
   ]
  },
  {
   "cell_type": "code",
   "execution_count": 119,
   "id": "6448b97d-c860-435c-8d43-4cfc7aab3df2",
   "metadata": {
    "tags": []
   },
   "outputs": [
    {
     "ename": "AttributeError",
     "evalue": "type object 'EVESpWxTimeSeries' has no attribute '_parse_hdus'",
     "output_type": "error",
     "traceback": [
      "\u001b[1;31m---------------------------------------------------------------------------\u001b[0m",
      "\u001b[1;31mAttributeError\u001b[0m                            Traceback (most recent call last)",
      "\u001b[1;32m~\\AppData\\Local\\Temp\\ipykernel_5948\\1739420575.py\u001b[0m in \u001b[0;36m<module>\u001b[1;34m\u001b[0m\n\u001b[1;32m----> 1\u001b[1;33m \u001b[0mEVL_timeseries\u001b[0m \u001b[1;33m=\u001b[0m \u001b[0mts\u001b[0m\u001b[1;33m.\u001b[0m\u001b[0mTimeSeries\u001b[0m\u001b[1;33m(\u001b[0m\u001b[0mEVL_filename\u001b[0m\u001b[1;33m,\u001b[0m\u001b[0msource\u001b[0m\u001b[1;33m=\u001b[0m\u001b[1;34m'EVE'\u001b[0m\u001b[1;33m)\u001b[0m\u001b[1;33m\u001b[0m\u001b[1;33m\u001b[0m\u001b[0m\n\u001b[0m",
      "\u001b[1;32m~\\anaconda3\\envs\\Py_Begin\\lib\\site-packages\\sunpy\\timeseries\\timeseries_factory.py\u001b[0m in \u001b[0;36m__call__\u001b[1;34m(self, silence_errors, *args, **kwargs)\u001b[0m\n\u001b[0;32m    427\u001b[0m         \"\"\"\n\u001b[0;32m    428\u001b[0m         \u001b[0mself\u001b[0m\u001b[1;33m.\u001b[0m\u001b[0msilence_errors\u001b[0m \u001b[1;33m=\u001b[0m \u001b[0msilence_errors\u001b[0m\u001b[1;33m\u001b[0m\u001b[1;33m\u001b[0m\u001b[0m\n\u001b[1;32m--> 429\u001b[1;33m         \u001b[0mnew_timeseries\u001b[0m \u001b[1;33m=\u001b[0m \u001b[0mself\u001b[0m\u001b[1;33m.\u001b[0m\u001b[0m_parse_args\u001b[0m\u001b[1;33m(\u001b[0m\u001b[1;33m*\u001b[0m\u001b[0margs\u001b[0m\u001b[1;33m,\u001b[0m \u001b[1;33m**\u001b[0m\u001b[0mkwargs\u001b[0m\u001b[1;33m)\u001b[0m\u001b[1;33m\u001b[0m\u001b[1;33m\u001b[0m\u001b[0m\n\u001b[0m\u001b[0;32m    430\u001b[0m \u001b[1;33m\u001b[0m\u001b[0m\n\u001b[0;32m    431\u001b[0m         \u001b[1;31m# Concatenate the timeseries into one if specified.\u001b[0m\u001b[1;33m\u001b[0m\u001b[1;33m\u001b[0m\u001b[0m\n",
      "\u001b[1;32m~\\anaconda3\\envs\\Py_Begin\\lib\\site-packages\\sunpy\\timeseries\\timeseries_factory.py\u001b[0m in \u001b[0;36m_parse_args\u001b[1;34m(self, *args, **kwargs)\u001b[0m\n\u001b[0;32m    325\u001b[0m         \u001b[1;32mfor\u001b[0m \u001b[0marg\u001b[0m \u001b[1;32min\u001b[0m \u001b[0margs\u001b[0m\u001b[1;33m:\u001b[0m\u001b[1;33m\u001b[0m\u001b[1;33m\u001b[0m\u001b[0m\n\u001b[0;32m    326\u001b[0m             \u001b[1;32mtry\u001b[0m\u001b[1;33m:\u001b[0m\u001b[1;33m\u001b[0m\u001b[1;33m\u001b[0m\u001b[0m\n\u001b[1;32m--> 327\u001b[1;33m                 \u001b[0mall_ts\u001b[0m \u001b[1;33m+=\u001b[0m \u001b[0mself\u001b[0m\u001b[1;33m.\u001b[0m\u001b[0m_parse_arg\u001b[0m\u001b[1;33m(\u001b[0m\u001b[0marg\u001b[0m\u001b[1;33m,\u001b[0m \u001b[1;33m**\u001b[0m\u001b[0mkwargs\u001b[0m\u001b[1;33m)\u001b[0m\u001b[1;33m\u001b[0m\u001b[1;33m\u001b[0m\u001b[0m\n\u001b[0m\u001b[0;32m    328\u001b[0m             \u001b[1;32mexcept\u001b[0m \u001b[1;33m(\u001b[0m\u001b[0mNoMatchError\u001b[0m\u001b[1;33m,\u001b[0m \u001b[0mMultipleMatchError\u001b[0m\u001b[1;33m,\u001b[0m \u001b[0mValidationFunctionError\u001b[0m\u001b[1;33m)\u001b[0m\u001b[1;33m:\u001b[0m\u001b[1;33m\u001b[0m\u001b[1;33m\u001b[0m\u001b[0m\n\u001b[0;32m    329\u001b[0m                 \u001b[1;32mif\u001b[0m \u001b[0mself\u001b[0m\u001b[1;33m.\u001b[0m\u001b[0msilence_errors\u001b[0m\u001b[1;33m:\u001b[0m\u001b[1;33m\u001b[0m\u001b[1;33m\u001b[0m\u001b[0m\n",
      "\u001b[1;32m~\\anaconda3\\envs\\Py_Begin\\lib\\site-packages\\sunpy\\util\\functools.py\u001b[0m in \u001b[0;36mwrapper\u001b[1;34m(*args, **kwargs)\u001b[0m\n\u001b[0;32m     16\u001b[0m \u001b[1;33m\u001b[0m\u001b[0m\n\u001b[0;32m     17\u001b[0m     \u001b[1;32mdef\u001b[0m \u001b[0mwrapper\u001b[0m\u001b[1;33m(\u001b[0m\u001b[1;33m*\u001b[0m\u001b[0margs\u001b[0m\u001b[1;33m,\u001b[0m \u001b[1;33m**\u001b[0m\u001b[0mkwargs\u001b[0m\u001b[1;33m)\u001b[0m\u001b[1;33m:\u001b[0m\u001b[1;33m\u001b[0m\u001b[1;33m\u001b[0m\u001b[0m\n\u001b[1;32m---> 18\u001b[1;33m         \u001b[1;32mreturn\u001b[0m \u001b[0mdispatcher\u001b[0m\u001b[1;33m.\u001b[0m\u001b[0mdispatch\u001b[0m\u001b[1;33m(\u001b[0m\u001b[0margs\u001b[0m\u001b[1;33m[\u001b[0m\u001b[1;36m1\u001b[0m\u001b[1;33m]\u001b[0m\u001b[1;33m.\u001b[0m\u001b[0m__class__\u001b[0m\u001b[1;33m)\u001b[0m\u001b[1;33m(\u001b[0m\u001b[1;33m*\u001b[0m\u001b[0margs\u001b[0m\u001b[1;33m,\u001b[0m \u001b[1;33m**\u001b[0m\u001b[0mkwargs\u001b[0m\u001b[1;33m)\u001b[0m\u001b[1;33m\u001b[0m\u001b[1;33m\u001b[0m\u001b[0m\n\u001b[0m\u001b[0;32m     19\u001b[0m \u001b[1;33m\u001b[0m\u001b[0m\n\u001b[0;32m     20\u001b[0m     \u001b[0mwrapper\u001b[0m\u001b[1;33m.\u001b[0m\u001b[0mdispatch\u001b[0m \u001b[1;33m=\u001b[0m \u001b[0mdispatcher\u001b[0m\u001b[1;33m.\u001b[0m\u001b[0mdispatch\u001b[0m\u001b[1;33m\u001b[0m\u001b[1;33m\u001b[0m\u001b[0m\n",
      "\u001b[1;32m~\\anaconda3\\envs\\Py_Begin\\lib\\site-packages\\sunpy\\timeseries\\timeseries_factory.py\u001b[0m in \u001b[0;36m_parse_path\u001b[1;34m(self, path, **kwargs)\u001b[0m\n\u001b[0;32m    391\u001b[0m                 \u001b[0mcls\u001b[0m \u001b[1;33m=\u001b[0m \u001b[0mtypes\u001b[0m\u001b[1;33m[\u001b[0m\u001b[1;36m0\u001b[0m\u001b[1;33m]\u001b[0m\u001b[1;33m\u001b[0m\u001b[1;33m\u001b[0m\u001b[0m\n\u001b[0;32m    392\u001b[0m \u001b[1;33m\u001b[0m\u001b[0m\n\u001b[1;32m--> 393\u001b[1;33m                 \u001b[0mdata_header_unit_tuple\u001b[0m \u001b[1;33m=\u001b[0m \u001b[0mcls\u001b[0m\u001b[1;33m.\u001b[0m\u001b[0m_parse_hdus\u001b[0m\u001b[1;33m(\u001b[0m\u001b[0mpairs\u001b[0m\u001b[1;33m)\u001b[0m\u001b[1;33m\u001b[0m\u001b[1;33m\u001b[0m\u001b[0m\n\u001b[0m\u001b[0;32m    394\u001b[0m                 \u001b[0mall_ts\u001b[0m \u001b[1;33m+=\u001b[0m \u001b[0mself\u001b[0m\u001b[1;33m.\u001b[0m\u001b[0m_parse_arg\u001b[0m\u001b[1;33m(\u001b[0m\u001b[0mdata_header_unit_tuple\u001b[0m\u001b[1;33m)\u001b[0m\u001b[1;33m\u001b[0m\u001b[1;33m\u001b[0m\u001b[0m\n\u001b[0;32m    395\u001b[0m \u001b[1;33m\u001b[0m\u001b[0m\n",
      "\u001b[1;31mAttributeError\u001b[0m: type object 'EVESpWxTimeSeries' has no attribute '_parse_hdus'"
     ]
    }
   ],
   "source": [
    "EVL_timeseries = ts.TimeSeries(EVL_filename,source='EVE')"
   ]
  },
  {
   "cell_type": "code",
   "execution_count": 125,
   "id": "bfb673b4-1c5a-4865-8d22-8af4a0577da5",
   "metadata": {},
   "outputs": [
    {
     "ename": "AttributeError",
     "evalue": "type object 'EVESpWxTimeSeries' has no attribute '_parse_hdus'",
     "output_type": "error",
     "traceback": [
      "\u001b[1;31m---------------------------------------------------------------------------\u001b[0m",
      "\u001b[1;31mAttributeError\u001b[0m                            Traceback (most recent call last)",
      "\u001b[1;32m~\\AppData\\Local\\Temp\\ipykernel_5948\\2511969430.py\u001b[0m in \u001b[0;36m<module>\u001b[1;34m\u001b[0m\n\u001b[1;32m----> 1\u001b[1;33m \u001b[0mEVS_timeseries\u001b[0m \u001b[1;33m=\u001b[0m \u001b[0mts\u001b[0m\u001b[1;33m.\u001b[0m\u001b[0mTimeSeries\u001b[0m\u001b[1;33m(\u001b[0m\u001b[0mEVS_filename\u001b[0m\u001b[1;33m,\u001b[0m\u001b[0msource\u001b[0m\u001b[1;33m=\u001b[0m\u001b[1;34m'eve'\u001b[0m\u001b[1;33m)\u001b[0m\u001b[1;33m\u001b[0m\u001b[1;33m\u001b[0m\u001b[0m\n\u001b[0m",
      "\u001b[1;32m~\\anaconda3\\envs\\Py_Begin\\lib\\site-packages\\sunpy\\timeseries\\timeseries_factory.py\u001b[0m in \u001b[0;36m__call__\u001b[1;34m(self, silence_errors, *args, **kwargs)\u001b[0m\n\u001b[0;32m    427\u001b[0m         \"\"\"\n\u001b[0;32m    428\u001b[0m         \u001b[0mself\u001b[0m\u001b[1;33m.\u001b[0m\u001b[0msilence_errors\u001b[0m \u001b[1;33m=\u001b[0m \u001b[0msilence_errors\u001b[0m\u001b[1;33m\u001b[0m\u001b[1;33m\u001b[0m\u001b[0m\n\u001b[1;32m--> 429\u001b[1;33m         \u001b[0mnew_timeseries\u001b[0m \u001b[1;33m=\u001b[0m \u001b[0mself\u001b[0m\u001b[1;33m.\u001b[0m\u001b[0m_parse_args\u001b[0m\u001b[1;33m(\u001b[0m\u001b[1;33m*\u001b[0m\u001b[0margs\u001b[0m\u001b[1;33m,\u001b[0m \u001b[1;33m**\u001b[0m\u001b[0mkwargs\u001b[0m\u001b[1;33m)\u001b[0m\u001b[1;33m\u001b[0m\u001b[1;33m\u001b[0m\u001b[0m\n\u001b[0m\u001b[0;32m    430\u001b[0m \u001b[1;33m\u001b[0m\u001b[0m\n\u001b[0;32m    431\u001b[0m         \u001b[1;31m# Concatenate the timeseries into one if specified.\u001b[0m\u001b[1;33m\u001b[0m\u001b[1;33m\u001b[0m\u001b[0m\n",
      "\u001b[1;32m~\\anaconda3\\envs\\Py_Begin\\lib\\site-packages\\sunpy\\timeseries\\timeseries_factory.py\u001b[0m in \u001b[0;36m_parse_args\u001b[1;34m(self, *args, **kwargs)\u001b[0m\n\u001b[0;32m    325\u001b[0m         \u001b[1;32mfor\u001b[0m \u001b[0marg\u001b[0m \u001b[1;32min\u001b[0m \u001b[0margs\u001b[0m\u001b[1;33m:\u001b[0m\u001b[1;33m\u001b[0m\u001b[1;33m\u001b[0m\u001b[0m\n\u001b[0;32m    326\u001b[0m             \u001b[1;32mtry\u001b[0m\u001b[1;33m:\u001b[0m\u001b[1;33m\u001b[0m\u001b[1;33m\u001b[0m\u001b[0m\n\u001b[1;32m--> 327\u001b[1;33m                 \u001b[0mall_ts\u001b[0m \u001b[1;33m+=\u001b[0m \u001b[0mself\u001b[0m\u001b[1;33m.\u001b[0m\u001b[0m_parse_arg\u001b[0m\u001b[1;33m(\u001b[0m\u001b[0marg\u001b[0m\u001b[1;33m,\u001b[0m \u001b[1;33m**\u001b[0m\u001b[0mkwargs\u001b[0m\u001b[1;33m)\u001b[0m\u001b[1;33m\u001b[0m\u001b[1;33m\u001b[0m\u001b[0m\n\u001b[0m\u001b[0;32m    328\u001b[0m             \u001b[1;32mexcept\u001b[0m \u001b[1;33m(\u001b[0m\u001b[0mNoMatchError\u001b[0m\u001b[1;33m,\u001b[0m \u001b[0mMultipleMatchError\u001b[0m\u001b[1;33m,\u001b[0m \u001b[0mValidationFunctionError\u001b[0m\u001b[1;33m)\u001b[0m\u001b[1;33m:\u001b[0m\u001b[1;33m\u001b[0m\u001b[1;33m\u001b[0m\u001b[0m\n\u001b[0;32m    329\u001b[0m                 \u001b[1;32mif\u001b[0m \u001b[0mself\u001b[0m\u001b[1;33m.\u001b[0m\u001b[0msilence_errors\u001b[0m\u001b[1;33m:\u001b[0m\u001b[1;33m\u001b[0m\u001b[1;33m\u001b[0m\u001b[0m\n",
      "\u001b[1;32m~\\anaconda3\\envs\\Py_Begin\\lib\\site-packages\\sunpy\\util\\functools.py\u001b[0m in \u001b[0;36mwrapper\u001b[1;34m(*args, **kwargs)\u001b[0m\n\u001b[0;32m     16\u001b[0m \u001b[1;33m\u001b[0m\u001b[0m\n\u001b[0;32m     17\u001b[0m     \u001b[1;32mdef\u001b[0m \u001b[0mwrapper\u001b[0m\u001b[1;33m(\u001b[0m\u001b[1;33m*\u001b[0m\u001b[0margs\u001b[0m\u001b[1;33m,\u001b[0m \u001b[1;33m**\u001b[0m\u001b[0mkwargs\u001b[0m\u001b[1;33m)\u001b[0m\u001b[1;33m:\u001b[0m\u001b[1;33m\u001b[0m\u001b[1;33m\u001b[0m\u001b[0m\n\u001b[1;32m---> 18\u001b[1;33m         \u001b[1;32mreturn\u001b[0m \u001b[0mdispatcher\u001b[0m\u001b[1;33m.\u001b[0m\u001b[0mdispatch\u001b[0m\u001b[1;33m(\u001b[0m\u001b[0margs\u001b[0m\u001b[1;33m[\u001b[0m\u001b[1;36m1\u001b[0m\u001b[1;33m]\u001b[0m\u001b[1;33m.\u001b[0m\u001b[0m__class__\u001b[0m\u001b[1;33m)\u001b[0m\u001b[1;33m(\u001b[0m\u001b[1;33m*\u001b[0m\u001b[0margs\u001b[0m\u001b[1;33m,\u001b[0m \u001b[1;33m**\u001b[0m\u001b[0mkwargs\u001b[0m\u001b[1;33m)\u001b[0m\u001b[1;33m\u001b[0m\u001b[1;33m\u001b[0m\u001b[0m\n\u001b[0m\u001b[0;32m     19\u001b[0m \u001b[1;33m\u001b[0m\u001b[0m\n\u001b[0;32m     20\u001b[0m     \u001b[0mwrapper\u001b[0m\u001b[1;33m.\u001b[0m\u001b[0mdispatch\u001b[0m \u001b[1;33m=\u001b[0m \u001b[0mdispatcher\u001b[0m\u001b[1;33m.\u001b[0m\u001b[0mdispatch\u001b[0m\u001b[1;33m\u001b[0m\u001b[1;33m\u001b[0m\u001b[0m\n",
      "\u001b[1;32m~\\anaconda3\\envs\\Py_Begin\\lib\\site-packages\\sunpy\\timeseries\\timeseries_factory.py\u001b[0m in \u001b[0;36m_parse_path\u001b[1;34m(self, path, **kwargs)\u001b[0m\n\u001b[0;32m    391\u001b[0m                 \u001b[0mcls\u001b[0m \u001b[1;33m=\u001b[0m \u001b[0mtypes\u001b[0m\u001b[1;33m[\u001b[0m\u001b[1;36m0\u001b[0m\u001b[1;33m]\u001b[0m\u001b[1;33m\u001b[0m\u001b[1;33m\u001b[0m\u001b[0m\n\u001b[0;32m    392\u001b[0m \u001b[1;33m\u001b[0m\u001b[0m\n\u001b[1;32m--> 393\u001b[1;33m                 \u001b[0mdata_header_unit_tuple\u001b[0m \u001b[1;33m=\u001b[0m \u001b[0mcls\u001b[0m\u001b[1;33m.\u001b[0m\u001b[0m_parse_hdus\u001b[0m\u001b[1;33m(\u001b[0m\u001b[0mpairs\u001b[0m\u001b[1;33m)\u001b[0m\u001b[1;33m\u001b[0m\u001b[1;33m\u001b[0m\u001b[0m\n\u001b[0m\u001b[0;32m    394\u001b[0m                 \u001b[0mall_ts\u001b[0m \u001b[1;33m+=\u001b[0m \u001b[0mself\u001b[0m\u001b[1;33m.\u001b[0m\u001b[0m_parse_arg\u001b[0m\u001b[1;33m(\u001b[0m\u001b[0mdata_header_unit_tuple\u001b[0m\u001b[1;33m)\u001b[0m\u001b[1;33m\u001b[0m\u001b[1;33m\u001b[0m\u001b[0m\n\u001b[0;32m    395\u001b[0m \u001b[1;33m\u001b[0m\u001b[0m\n",
      "\u001b[1;31mAttributeError\u001b[0m: type object 'EVESpWxTimeSeries' has no attribute '_parse_hdus'"
     ]
    }
   ],
   "source": [
    "EVS_timeseries = ts.TimeSeries(EVS_filename,source='eve')"
   ]
  },
  {
   "cell_type": "markdown",
   "id": "15da4960-18bb-4637-a019-0c7e1c17aca9",
   "metadata": {},
   "source": [
    "## Combine Astropy & Sunpy"
   ]
  },
  {
   "cell_type": "code",
   "execution_count": 138,
   "id": "bc90582c-b257-4d7a-b441-410887d08771",
   "metadata": {},
   "outputs": [],
   "source": [
    "eve_ts=ts.TimeSeries(data=hdulist_EVS[3].data,header=hdulist_EVS[3].header)"
   ]
  },
  {
   "cell_type": "code",
   "execution_count": 139,
   "id": "94b496f7-be49-4cbf-bfe9-53bac39de37c",
   "metadata": {},
   "outputs": [
    {
     "data": {
      "text/plain": [
       "[]"
      ]
     },
     "execution_count": 139,
     "metadata": {},
     "output_type": "execute_result"
    }
   ],
   "source": [
    "eve_ts"
   ]
  },
  {
   "cell_type": "markdown",
   "id": "402a64c5-98b1-4c4c-9f51-e62b1af19b9b",
   "metadata": {
    "jp-MarkdownHeadingCollapsed": true,
    "tags": []
   },
   "source": [
    "## Open with astropy"
   ]
  },
  {
   "cell_type": "markdown",
   "id": "4434c3db-70b3-4269-a600-a8788411cfa9",
   "metadata": {},
   "source": [
    "'exception' will raise an exception if any FITS standard is violated.\n",
    "\n",
    "So this file is OK to open with astropy\n",
    "\n",
    "But with sunpy    sunpy.timeseries(filename)   raise KeyError\n",
    "\n",
    "and I suspect the white spaces of  hdulist[3].header['TELESCOP'] causes this"
   ]
  },
  {
   "cell_type": "markdown",
   "id": "d446efc7-e6fd-42ce-8885-bb292fce73f5",
   "metadata": {},
   "source": [
    "### EVS Spectrum"
   ]
  },
  {
   "cell_type": "code",
   "execution_count": 103,
   "id": "ef6a7da9-cce3-46a7-a7ba-7e0f2e3cfe7b",
   "metadata": {},
   "outputs": [
    {
     "name": "stdout",
     "output_type": "stream",
     "text": [
      "Filename: data\\EVE\\EVS_L2_2011027_16_007_02.fit.gz\n",
      "No.    Name      Ver    Type      Cards   Dimensions   Format\n",
      "  0  PRIMARY       1 PrimaryHDU       4   ()      \n",
      "  1  SpectrumMeta    1 BinTableHDU     29   5200R x 2C   [E, E]   \n",
      "  2  SpectrumUnits    1 BinTableHDU     40   1R x 10C   [87A, 68A, 65A, 55A, 87A, 39A, 149A, 61A, 122A, 53A]   \n",
      "  3  Spectrum      1 BinTableHDU     92   360R x 10C   [D, J, D, B, B, D, 5200E, 5200E, 5200E, 5200B]   \n"
     ]
    }
   ],
   "source": [
    "hdulist_EVS=fits.open(EVS_filename,output_verify='exception',mode='readonly')\n",
    "hdulist_EVS.info()"
   ]
  },
  {
   "cell_type": "code",
   "execution_count": 104,
   "id": "ec1e89d9-4789-449d-9791-db104fed2668",
   "metadata": {},
   "outputs": [
    {
     "data": {
      "text/plain": [
       "array([  3.01,   3.03,   3.05, ..., 106.95, 106.97, 106.99], dtype=float32)"
      ]
     },
     "execution_count": 104,
     "metadata": {},
     "output_type": "execute_result"
    }
   ],
   "source": [
    "hdulist_EVS[1].data['WAVELENGTH']"
   ]
  },
  {
   "cell_type": "code",
   "execution_count": 43,
   "id": "04e55558-23aa-400d-b57d-22188a936cb7",
   "metadata": {},
   "outputs": [
    {
     "data": {
      "text/plain": [
       "(5200,)"
      ]
     },
     "execution_count": 43,
     "metadata": {},
     "output_type": "execute_result"
    }
   ],
   "source": [
    "hdulist_EVS[1].data['WAVELENGTH'].shape"
   ]
  },
  {
   "cell_type": "code",
   "execution_count": 113,
   "id": "97314b8b-6889-4621-ad16-ec0cea30272f",
   "metadata": {},
   "outputs": [],
   "source": [
    "eff_list=[]\n",
    "for i in range(360):\n",
    "    a=hdulist_EVS[3].data['IRRADIANCE'][i]\n",
    "    b=a[a!=-1]   \n",
    "    if b.size:\n",
    "        eff_list.append(i)"
   ]
  },
  {
   "cell_type": "code",
   "execution_count": 114,
   "id": "48dfb882-2920-491a-b698-9ed4fa32dbed",
   "metadata": {},
   "outputs": [
    {
     "data": {
      "text/plain": [
       "[151, 152, 153, 154, 155, 156, 157, 158, 159, 160, 161, 162, 163, 164]"
      ]
     },
     "execution_count": 114,
     "metadata": {},
     "output_type": "execute_result"
    }
   ],
   "source": [
    "eff_list"
   ]
  },
  {
   "cell_type": "code",
   "execution_count": 96,
   "id": "67455644-df89-4c0b-bfe1-9d884c0ee6d8",
   "metadata": {},
   "outputs": [],
   "source": [
    "if b.size:\n",
    "    print(1)"
   ]
  },
  {
   "cell_type": "code",
   "execution_count": 116,
   "id": "aa17e7bb-0a3c-4323-bee3-164409652e52",
   "metadata": {},
   "outputs": [
    {
     "data": {
      "text/plain": [
       "[<matplotlib.lines.Line2D at 0x1c88f47f250>]"
      ]
     },
     "execution_count": 116,
     "metadata": {},
     "output_type": "execute_result"
    },
    {
     "data": {
      "image/png": "[encoded data removed]",
      "text/plain": [
       "<Figure size 640x480 with 1 Axes>"
      ]
     },
     "metadata": {},
     "output_type": "display_data"
    }
   ],
   "source": [
    "plt.plot(hdulist_EVS[1].data['WAVELENGTH'],hdulist_EVS[3].data['IRRADIANCE'][162])"
   ]
  },
  {
   "cell_type": "markdown",
   "id": "692c1421-ed32-4831-9ce0-2b8bf8a5b737",
   "metadata": {
    "jp-MarkdownHeadingCollapsed": true,
    "tags": []
   },
   "source": [
    "### EVL Line"
   ]
  },
  {
   "cell_type": "code",
   "execution_count": 41,
   "id": "43a4448f-c411-4825-b67b-75fd944580ed",
   "metadata": {},
   "outputs": [
    {
     "name": "stdout",
     "output_type": "stream",
     "text": [
      "Filename: data\\EVE\\EVL_L2_2011027_16_007_02.fit.gz\n",
      "No.    Name      Ver    Type      Cards   Dimensions   Format\n",
      "  0  PRIMARY       1 PrimaryHDU       4   ()      \n",
      "  1  LinesMeta     1 BinTableHDU     45   39R x 7C   [E, E, E, E, 8A, 5A, 13A]   \n",
      "  2  BandsMeta     1 BinTableHDU     31   20R x 4C   [13A, 4A, E, E]   \n",
      "  3  DiodeMeta     1 BinTableHDU     28   6R x 3C   [25A, 6A, 5A]   \n",
      "  4  QuadMeta      1 BinTableHDU     26   4R x 2C   [2A, 3A]   \n",
      "  5  LinesData     1 BinTableHDU    114   360R x 19C   [D, J, D, B, B, 39E, 39E, 39E, 20E, 20E, 20E, 6E, 6E, 6E, 6E, 4E, 4E, 4E, 4E]   \n",
      "  6  LinesDataUnits    1 BinTableHDU     58   1R x 19C   [87A, 62A, 65A, 49A, 81A, 171A, 18A, 17A, 242A, 18A, 17A, 59A, 72A, 18A, 66A, 135A, 72A, 49A, 75A]   \n"
     ]
    }
   ],
   "source": [
    "hdulist_EVL=fits.open(EVL_filename,output_verify='exception',mode='readonly')\n",
    "hdulist_EVL.info()"
   ]
  },
  {
   "cell_type": "code",
   "execution_count": 49,
   "id": "4f77ecf7-5551-4e86-a626-7ed24904a904",
   "metadata": {},
   "outputs": [
    {
     "data": {
      "text/plain": [
       "(1674835241.7794237, 2011027, 57607.779423713684, 0, 16, array([-1., -1., -1., -1., -1., -1., -1., -1., -1., -1., -1., -1., -1.,\n",
       "       -1., -1., -1., -1., -1., -1., -1., -1., -1., -1., -1., -1., -1.,\n",
       "       -1., -1., -1., -1., -1., -1., -1., -1., -1., -1., -1., -1., -1.],\n",
       "      dtype=float32), array([-1., -1., -1., -1., -1., -1., -1., -1., -1., -1., -1., -1., -1.,\n",
       "       -1., -1., -1., -1., -1., -1., -1., -1., -1., -1., -1., -1., -1.,\n",
       "       -1., -1., -1., -1., -1., -1., -1., -1., -1., -1., -1., -1., -1.],\n",
       "      dtype=float32), array([-1., -1., -1., -1., -1., -1., -1., -1., -1., -1., -1., -1., -1.,\n",
       "       -1., -1., -1., -1., -1., -1., -1., -1., -1., -1., -1., -1., -1.,\n",
       "       -1., -1., -1., -1., -1., -1., -1., -1., -1., -1., -1., -1., -1.],\n",
       "      dtype=float32), array([-1., -1., -1., -1., -1., -1., -1., -1., -1., -1., -1., -1., -1.,\n",
       "       -1., -1., -1., -1., -1., -1., -1.], dtype=float32), array([-1., -1., -1., -1., -1., -1., -1., -1., -1., -1., -1., -1., -1.,\n",
       "       -1., -1., -1., -1., -1., -1., -1.], dtype=float32), array([-1., -1., -1., -1., -1., -1., -1., -1., -1., -1., -1., -1., -1.,\n",
       "       -1., -1., -1., -1., -1., -1., -1.], dtype=float32), array([-1., -1., -1., -1., -1., -1.], dtype=float32), array([-1., -1., -1., -1., -1., -1.], dtype=float32), array([-1., -1., -1., -1., -1., -1.], dtype=float32), array([-1., -1., -1., -1., -1., -1.], dtype=float32), array([-1., -1., -1., -1.], dtype=float32), array([-1., -1., -1., -1.], dtype=float32), array([-1., -1., -1., -1.], dtype=float32), array([-1., -1., -1., -1.], dtype=float32))"
      ]
     },
     "execution_count": 49,
     "metadata": {},
     "output_type": "execute_result"
    }
   ],
   "source": [
    "hdulist_EVL[5].data[0]"
   ]
  },
  {
   "cell_type": "markdown",
   "id": "ae883c8a-8657-4229-8f5b-29f2e02b3293",
   "metadata": {},
   "source": [
    "## rough draft"
   ]
  },
  {
   "cell_type": "markdown",
   "id": "f1e31107-24e1-426e-b223-917afd465404",
   "metadata": {},
   "source": [
    "before I point out scource='aia'\n",
    "\n",
    "error was like: KeyError: 'telescop'"
   ]
  },
  {
   "cell_type": "code",
   "execution_count": 11,
   "id": "82f335fa-58df-49d2-80fe-94d324e0f849",
   "metadata": {},
   "outputs": [],
   "source": [
    "with fits.open(EVE_filename, mode='update') as hdulist:\n",
    "    hdulist[3].header['TELESCOP']=hdulist[3].header['TELESCOP'].strip()\n",
    "    hdulist[3].header['INSTRUME']=hdulist[3].header['INSTRUME'].strip()\n",
    "    # print(hdulist[1].header)\n",
    "    hdulist[1].header['TELESCOP']='SDO/EVE'"
   ]
  },
  {
   "cell_type": "code",
   "execution_count": 16,
   "id": "7c6d9ec0-f960-4015-aa89-3e6d62028e9f",
   "metadata": {},
   "outputs": [],
   "source": [
    "with fits.open(EVE_filename, mode='update') as hdulist:\n",
    "    hdulist[1],hdulist[3]=hdulist[3],hdulist[1]"
   ]
  },
  {
   "cell_type": "code",
   "execution_count": 48,
   "id": "40fef1d6-820b-4541-b3da-da2148a09a2c",
   "metadata": {},
   "outputs": [
    {
     "name": "stdout",
     "output_type": "stream",
     "text": [
      "Filename: data\\EVE\\EVS_L2_2011027_16_007_02.fit.gz\n",
      "No.    Name      Ver    Type      Cards   Dimensions   Format\n",
      "  0  PRIMARY       1 PrimaryHDU       4   ()      \n",
      "  1  SpectrumMeta    1 BinTableHDU     29   5200R x 2C   [E, E]   \n",
      "  2  SpectrumUnits    1 BinTableHDU     40   1R x 10C   [87A, 68A, 65A, 55A, 87A, 39A, 149A, 61A, 122A, 53A]   \n",
      "  3  Spectrum      1 BinTableHDU     92   360R x 10C   [D, J, D, B, B, D, 5200E, 5200E, 5200E, 5200B]   \n"
     ]
    }
   ],
   "source": [
    "hdulist=fits.open(EVE_filename,output_verify='exception',mode='readonly')\n",
    "hdulist_copy=fits.open(EVE_filename,output_verify='exception',mode='readonly')\n",
    "hdulist.info()"
   ]
  },
  {
   "cell_type": "code",
   "execution_count": null,
   "id": "6ce47ee9-8328-428f-b154-7966d3395890",
   "metadata": {},
   "outputs": [],
   "source": [
    "fits.writeto('output_file.fits', data, header, overwrite=True)"
   ]
  },
  {
   "cell_type": "code",
   "execution_count": 64,
   "id": "d9a8c336-7af5-4120-99cc-882adbdaae7a",
   "metadata": {},
   "outputs": [],
   "source": [
    "hdulist.close()"
   ]
  },
  {
   "cell_type": "markdown",
   "id": "b8b0d808-1e56-42aa-bbe2-3cb260571805",
   "metadata": {},
   "source": []
  }
 ],
 "metadata": {
  "kernelspec": {
   "display_name": "Python 3 (ipykernel)",
   "language": "python",
   "name": "python3"
  },
  "language_info": {
   "codemirror_mode": {
    "name": "ipython",
    "version": 3
   },
   "file_extension": ".py",
   "mimetype": "text/x-python",
   "name": "python",
   "nbconvert_exporter": "python",
   "pygments_lexer": "ipython3",
   "version": "3.9.13"
  }
 },
 "nbformat": 4,
 "nbformat_minor": 5
}
