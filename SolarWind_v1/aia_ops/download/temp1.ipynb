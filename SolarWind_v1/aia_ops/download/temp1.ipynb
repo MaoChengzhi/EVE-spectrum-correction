{
 "cells": [
  {
   "cell_type": "code",
   "execution_count": 1,
   "metadata": {},
   "outputs": [],
   "source": [
    "from sunpy.net import Fido, attrs as a\n",
    "import astropy.units as u\n",
    "## download AIA \n",
    "obs_start =\"2010-06-01T00:00:00\"\n",
    "# obs_end =  \"2014-06-01T00:00:00\"\n",
    "obs_end =  \"2010-06-10T00:00:00\"\n",
    "\n",
    "obs_time = a.Time(obs_start, obs_end)\n",
    "\n"
   ]
  },
  {
   "cell_type": "code",
   "execution_count": 12,
   "metadata": {},
   "outputs": [
    {
     "name": "stderr",
     "output_type": "stream",
     "text": [
      "WARNING: SunpyConnectionWarning: Connection to http://vso.nso.edu/cgi-bin/VSO/PROD/vsoi_wsdl.cgi failed with error timed out. Retrying with different url and port. [sunpy.net.vso.vso]\n",
      "Forcing soap:address location to HTTPS\n",
      "Forcing soap:address location to HTTPS\n"
     ]
    },
    {
     "data": {
      "text/html": [
       "Results from 1 Provider:</br></br>9 Results from the VSOClient:</br><div><i>VSOQueryResponseTable length=9</i>\n",
       "<table id=\"table1537371168144\" class=\"table-striped table-bordered table-condensed\">\n",
       "<thead><tr><th>Start Time</th><th>End Time</th><th>Source</th><th>Instrument</th><th>Wavelength</th><th>Provider</th><th>Physobs</th><th>Wavetype</th><th>Extent Width</th><th>Extent Length</th><th>Extent Type</th><th>Size</th></tr></thead>\n",
       "<thead><tr><th></th><th></th><th></th><th></th><th>Angstrom</th><th></th><th></th><th></th><th></th><th></th><th></th><th>Mibyte</th></tr></thead>\n",
       "<thead><tr><th>Time</th><th>Time</th><th>str3</th><th>str3</th><th>float64[2]</th><th>str4</th><th>str9</th><th>str6</th><th>str4</th><th>str4</th><th>str8</th><th>float64</th></tr></thead>\n",
       "<tr><td>2010-06-01 00:00:05.000</td><td>2010-06-01 00:00:06.000</td><td>SDO</td><td>AIA</td><td>171.0 .. 171.0</td><td>JSOC</td><td>intensity</td><td>NARROW</td><td>4096</td><td>4096</td><td>FULLDISK</td><td>64.64844</td></tr>\n",
       "<tr><td>2010-06-02 00:05:35.000</td><td>2010-06-02 00:05:36.000</td><td>SDO</td><td>AIA</td><td>171.0 .. 171.0</td><td>JSOC</td><td>intensity</td><td>NARROW</td><td>4096</td><td>4096</td><td>FULLDISK</td><td>64.64844</td></tr>\n",
       "<tr><td>2010-06-03 00:00:11.000</td><td>2010-06-03 00:00:12.000</td><td>SDO</td><td>AIA</td><td>171.0 .. 171.0</td><td>JSOC</td><td>intensity</td><td>NARROW</td><td>4096</td><td>4096</td><td>FULLDISK</td><td>64.64844</td></tr>\n",
       "<tr><td>2010-06-04 00:00:11.000</td><td>2010-06-04 00:00:12.000</td><td>SDO</td><td>AIA</td><td>171.0 .. 171.0</td><td>JSOC</td><td>intensity</td><td>NARROW</td><td>4096</td><td>4096</td><td>FULLDISK</td><td>64.64844</td></tr>\n",
       "<tr><td>2010-06-05 00:00:02.000</td><td>2010-06-05 00:00:03.000</td><td>SDO</td><td>AIA</td><td>171.0 .. 171.0</td><td>JSOC</td><td>intensity</td><td>NARROW</td><td>4096</td><td>4096</td><td>FULLDISK</td><td>64.64844</td></tr>\n",
       "<tr><td>2010-06-06 00:00:02.000</td><td>2010-06-06 00:00:03.000</td><td>SDO</td><td>AIA</td><td>171.0 .. 171.0</td><td>JSOC</td><td>intensity</td><td>NARROW</td><td>4096</td><td>4096</td><td>FULLDISK</td><td>64.64844</td></tr>\n",
       "<tr><td>2010-06-07 00:00:02.000</td><td>2010-06-07 00:00:03.000</td><td>SDO</td><td>AIA</td><td>171.0 .. 171.0</td><td>JSOC</td><td>intensity</td><td>NARROW</td><td>4096</td><td>4096</td><td>FULLDISK</td><td>64.64844</td></tr>\n",
       "<tr><td>2010-06-08 00:00:02.000</td><td>2010-06-08 00:00:03.000</td><td>SDO</td><td>AIA</td><td>171.0 .. 171.0</td><td>JSOC</td><td>intensity</td><td>NARROW</td><td>4096</td><td>4096</td><td>FULLDISK</td><td>64.64844</td></tr>\n",
       "<tr><td>2010-06-09 00:00:02.000</td><td>2010-06-09 00:00:03.000</td><td>SDO</td><td>AIA</td><td>171.0 .. 171.0</td><td>JSOC</td><td>intensity</td><td>NARROW</td><td>4096</td><td>4096</td><td>FULLDISK</td><td>64.64844</td></tr>\n",
       "</table></div></br>"
      ],
      "text/plain": [
       "<sunpy.net.fido_factory.UnifiedResponse object at 0x00000165F2765D60>\n",
       "Results from 1 Provider:\n",
       "\n",
       "9 Results from the VSOClient:\n",
       "Source: http://vso.stanford.edu/cgi-bin/search\n",
       "Total estimated size: 610.099 Mbyte\n",
       "\n",
       "       Start Time               End Time        Source ... Extent Type   Size  \n",
       "                                                       ...              Mibyte \n",
       "----------------------- ----------------------- ------ ... ----------- --------\n",
       "2010-06-01 00:00:05.000 2010-06-01 00:00:06.000    SDO ...    FULLDISK 64.64844\n",
       "2010-06-02 00:05:35.000 2010-06-02 00:05:36.000    SDO ...    FULLDISK 64.64844\n",
       "2010-06-03 00:00:11.000 2010-06-03 00:00:12.000    SDO ...    FULLDISK 64.64844\n",
       "2010-06-04 00:00:11.000 2010-06-04 00:00:12.000    SDO ...    FULLDISK 64.64844\n",
       "2010-06-05 00:00:02.000 2010-06-05 00:00:03.000    SDO ...    FULLDISK 64.64844\n",
       "2010-06-06 00:00:02.000 2010-06-06 00:00:03.000    SDO ...    FULLDISK 64.64844\n",
       "2010-06-07 00:00:02.000 2010-06-07 00:00:03.000    SDO ...    FULLDISK 64.64844\n",
       "2010-06-08 00:00:02.000 2010-06-08 00:00:03.000    SDO ...    FULLDISK 64.64844\n",
       "2010-06-09 00:00:02.000 2010-06-09 00:00:03.000    SDO ...    FULLDISK 64.64844\n"
      ]
     },
     "execution_count": 12,
     "metadata": {},
     "output_type": "execute_result"
    }
   ],
   "source": [
    "unifresp = Fido.search(obs_time,a.Instrument.aia,a.Wavelength(171*u.angstrom),a.Sample(24*u.hour)\n",
    "                        )  \n",
    "unifresp"
   ]
  },
  {
   "cell_type": "code",
   "execution_count": 13,
   "metadata": {},
   "outputs": [
    {
     "data": {
      "application/vnd.jupyter.widget-view+json": {
       "model_id": "819bd886c8064d3a9aad4123c9f819b8",
       "version_major": 2,
       "version_minor": 0
      },
      "text/plain": [
       "Files Downloaded:   0%|          | 0/9 [00:00<?, ?file/s]"
      ]
     },
     "metadata": {},
     "output_type": "display_data"
    },
    {
     "data": {
      "application/vnd.jupyter.widget-view+json": {
       "model_id": "24b5e359b0b84abba31c0c8b5ef914c0",
       "version_major": 2,
       "version_minor": 0
      },
      "text/plain": [
       "aia_lev1_171a_2010_06_01t00_00_05_12z_image_lev1.fits:   0%|          | 0.00/12.6M [00:00<?, ?B/s]"
      ]
     },
     "metadata": {},
     "output_type": "display_data"
    },
    {
     "data": {
      "application/vnd.jupyter.widget-view+json": {
       "model_id": "ad5aa07d4611471e9492a369e02733ae",
       "version_major": 2,
       "version_minor": 0
      },
      "text/plain": [
       "aia_lev1_171a_2010_06_03t00_00_11_10z_image_lev1.fits:   0%|          | 0.00/12.7M [00:00<?, ?B/s]"
      ]
     },
     "metadata": {},
     "output_type": "display_data"
    },
    {
     "data": {
      "application/vnd.jupyter.widget-view+json": {
       "model_id": "139976f0d4b54b0f867fd269553d1787",
       "version_major": 2,
       "version_minor": 0
      },
      "text/plain": [
       "aia_lev1_171a_2010_06_08t00_00_02_50z_image_lev1.fits:   0%|          | 0.00/6.93M [00:00<?, ?B/s]"
      ]
     },
     "metadata": {},
     "output_type": "display_data"
    },
    {
     "data": {
      "application/vnd.jupyter.widget-view+json": {
       "model_id": "eca57227dd9b42b186aad6e19d6203fd",
       "version_major": 2,
       "version_minor": 0
      },
      "text/plain": [
       "aia_lev1_171a_2010_06_06t00_00_02_50z_image_lev1.fits:   0%|          | 0.00/6.93M [00:00<?, ?B/s]"
      ]
     },
     "metadata": {},
     "output_type": "display_data"
    },
    {
     "data": {
      "application/vnd.jupyter.widget-view+json": {
       "model_id": "61606503ea9741d6a7a7985c3083ac6f",
       "version_major": 2,
       "version_minor": 0
      },
      "text/plain": [
       "aia_lev1_171a_2010_06_07t00_00_02_50z_image_lev1.fits:   0%|          | 0.00/6.93M [00:00<?, ?B/s]"
      ]
     },
     "metadata": {},
     "output_type": "display_data"
    },
    {
     "name": "stdout",
     "output_type": "stream",
     "text": [
      "4/0 files failed to download. Please check `.errors` for details\n"
     ]
    }
   ],
   "source": [
    "files = Fido.fetch(unifresp, path='F\\\\aia_data\\\\171\\\\', max_conn=64)"
   ]
  },
  {
   "cell_type": "code",
   "execution_count": 14,
   "metadata": {},
   "outputs": [
    {
     "data": {
      "text/plain": [
       "<parfive.results.Results object at 0x00000165F2663370>\n",
       "['F\\\\aia_data\\\\171\\\\aia_lev1_171a_2010_06_01t00_00_05_12z_image_lev1.fits', 'F\\\\aia_data\\\\171\\\\aia_lev1_171a_2010_06_03t00_00_11_10z_image_lev1.fits', 'F\\\\aia_data\\\\171\\\\aia_lev1_171a_2010_06_06t00_00_02_50z_image_lev1.fits', 'F\\\\aia_data\\\\171\\\\aia_lev1_171a_2010_06_07t00_00_02_50z_image_lev1.fits', 'F\\\\aia_data\\\\171\\\\aia_lev1_171a_2010_06_08t00_00_02_50z_image_lev1.fits']\n",
       "Errors:\n",
       "(<parfive.results.Error object at 0x00000165F27D4BD0>\n",
       "http://netdrms01.nispdc.nso.edu/cgi-bin/netdrms/drms_export.cgi?series=aia__lev1;compress=rice;record=171_1054512371-1054512371,\n",
       "Cannot connect to host netdrms01.nispdc.nso.edu:80 ssl:default [Connect call failed ('146.5.21.120', 80)])(<parfive.results.Error object at 0x00000165F281B540>\n",
       "http://netdrms01.nispdc.nso.edu/cgi-bin/netdrms/drms_export.cgi?series=aia__lev1;compress=rice;record=171_1054684847-1054684847,\n",
       "Cannot connect to host netdrms01.nispdc.nso.edu:80 ssl:default [Connect call failed ('146.5.21.120', 80)])(<parfive.results.Error object at 0x00000165F281B3B0>\n",
       "http://netdrms01.nispdc.nso.edu/cgi-bin/netdrms/drms_export.cgi?series=aia__lev1;compress=rice;record=171_1054771237-1054771237,\n",
       "Cannot connect to host netdrms01.nispdc.nso.edu:80 ssl:default [Connect call failed ('146.5.21.120', 80)])(<parfive.results.Error object at 0x00000165F287E180>\n",
       "http://netdrms01.nispdc.nso.edu/cgi-bin/netdrms/drms_export.cgi?series=aia__lev1;compress=rice;record=171_1055116837-1055116837,\n",
       "Cannot connect to host netdrms01.nispdc.nso.edu:80 ssl:default [Connect call failed ('146.5.21.120', 80)])"
      ]
     },
     "execution_count": 14,
     "metadata": {},
     "output_type": "execute_result"
    }
   ],
   "source": [
    "files"
   ]
  },
  {
   "cell_type": "code",
   "execution_count": 10,
   "metadata": {},
   "outputs": [
    {
     "data": {
      "text/latex": [
       "$\\mathrm{d}$"
      ],
      "text/plain": [
       "Unit(\"d\")"
      ]
     },
     "execution_count": 10,
     "metadata": {},
     "output_type": "execute_result"
    }
   ],
   "source": [
    "u.day"
   ]
  },
  {
   "cell_type": "code",
   "execution_count": 11,
   "metadata": {},
   "outputs": [
    {
     "data": {
      "text/latex": [
       "$\\mathrm{h}$"
      ],
      "text/plain": [
       "Unit(\"h\")"
      ]
     },
     "execution_count": 11,
     "metadata": {},
     "output_type": "execute_result"
    }
   ],
   "source": [
    "u.hour"
   ]
  },
  {
   "cell_type": "code",
   "execution_count": null,
   "metadata": {},
   "outputs": [],
   "source": []
  }
 ],
 "metadata": {
  "kernelspec": {
   "display_name": "sdo2022",
   "language": "python",
   "name": "python3"
  },
  "language_info": {
   "codemirror_mode": {
    "name": "ipython",
    "version": 3
   },
   "file_extension": ".py",
   "mimetype": "text/x-python",
   "name": "python",
   "nbconvert_exporter": "python",
   "pygments_lexer": "ipython3",
   "version": "3.9.16"
  }
 },
 "nbformat": 4,
 "nbformat_minor": 2
}
