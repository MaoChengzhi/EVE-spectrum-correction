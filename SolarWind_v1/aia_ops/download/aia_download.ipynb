{
 "cells": [
  {
   "cell_type": "code",
   "execution_count": 1,
   "metadata": {},
   "outputs": [],
   "source": [
    "import sunpy.map\n",
    "import sunpy.visualization.colormaps as cm\n",
    "import sunpy.sun.constants\n",
    "from sunpy.map.maputils import all_coordinates_from_map, coordinate_is_on_solar_disk\n",
    "from aiapy.calibrate import register, update_pointing,normalize_exposure,correct_degradation\n",
    "from aiapy.psf import deconvolve\n",
    "\n",
    "import astropy.units as u\n",
    "from astropy.constants import G, M_sun, R_sun, au\n",
    "from astropy.time import Time\n",
    "from astropy.coordinates import get_body_barycentric_posvel\n",
    "from astropy.units import imperial\n",
    "from astropy.stats import gaussian_fwhm_to_sigma\n",
    "\n",
    "import scipy\n",
    "from scipy import ndimage\n",
    "import matplotlib.pyplot as plt\n",
    "import plotly.tools as tls\n",
    "import plotly.express as px\n",
    "import plotly.graph_objs as go\n",
    "from plotly.subplots import make_subplots\n",
    "\n",
    "import numpy as np\n",
    "import pandas as pd\n",
    "import math\n",
    "from math import pi\n",
    "import glob\n",
    "import time\n",
    "import datetime\n",
    "import os\n",
    "import importlib\n",
    "import warnings"
   ]
  },
  {
   "cell_type": "code",
   "execution_count": null,
   "metadata": {},
   "outputs": [],
   "source": []
  }
 ],
 "metadata": {
  "kernelspec": {
   "display_name": "sdo2022",
   "language": "python",
   "name": "python3"
  },
  "language_info": {
   "codemirror_mode": {
    "name": "ipython",
    "version": 3
   },
   "file_extension": ".py",
   "mimetype": "text/x-python",
   "name": "python",
   "nbconvert_exporter": "python",
   "pygments_lexer": "ipython3",
   "version": "3.9.16"
  }
 },
 "nbformat": 4,
 "nbformat_minor": 2
}
