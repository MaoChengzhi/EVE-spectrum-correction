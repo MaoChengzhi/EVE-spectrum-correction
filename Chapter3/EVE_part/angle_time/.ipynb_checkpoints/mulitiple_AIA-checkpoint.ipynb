{
 "cells": [
  {
   "cell_type": "markdown",
   "id": "21601547",
   "metadata": {},
   "source": [
    "I need the data of angle with time"
   ]
  },
  {
   "cell_type": "code",
   "execution_count": 1,
   "id": "13facc88-e85d-4c7e-8786-91d710d60dcf",
   "metadata": {},
   "outputs": [],
   "source": [
    "import astropy.units as u\n",
    "from sunpy.net import Fido, attrs as a"
   ]
  },
  {
   "cell_type": "code",
   "execution_count": 2,
   "id": "41b66cef",
   "metadata": {},
   "outputs": [],
   "source": [
    "obs_start = \"2011-01-27T20:00:00\"\n",
    "obs_end = \"2011-01-27T21:00:00\"\n",
    "obs_time = a.Time(obs_start, obs_end)\n",
    "\n",
    "unifresp = Fido.search(obs_time,a.Instrument.aia) # aia"
   ]
  },
  {
   "cell_type": "code",
   "execution_count": 33,
   "id": "1fc0caec-cf06-4f90-b7b4-8bc7a4448c59",
   "metadata": {
    "collapsed": true,
    "jupyter": {
     "outputs_hidden": true
    },
    "tags": []
   },
   "outputs": [
    {
     "data": {
      "text/html": [
       "Results from 1 Provider:</br></br>705 Results from the VSOClient:</br><div><i>VSOQueryResponseTable length=705</i>\n",
       "<table id=\"table1962240734880\" class=\"table-striped table-bordered table-condensed\">\n",
       "<thead><tr><th>Start Time</th><th>End Time</th><th>Source</th><th>Instrument</th><th>Wavelength</th><th>Provider</th><th>Physobs</th><th>Wavetype</th><th>Extent Width</th><th>Extent Length</th><th>Extent Type</th><th>Size</th><th>Info</th></tr></thead>\n",
       "<thead><tr><th></th><th></th><th></th><th></th><th>Angstrom</th><th></th><th></th><th></th><th></th><th></th><th></th><th>Mibyte</th><th></th></tr></thead>\n",
       "<thead><tr><th>Time</th><th>Time</th><th>str3</th><th>str3</th><th>float64[2]</th><th>str4</th><th>str9</th><th>str6</th><th>str4</th><th>str4</th><th>str8</th><th>float64</th><th>str57</th></tr></thead>\n",
       "<tr><td>2011-01-27 20:30:36.000</td><td>2011-01-27 20:30:37.000</td><td>SDO</td><td>AIA</td><td>335.0 .. 335.0</td><td>JSOC</td><td>intensity</td><td>NARROW</td><td>4096</td><td>4096</td><td>FULLDISK</td><td>64.64844</td><td>AIA level 1, 4096x4096 [6.899 exposure] [100.00 percentd]</td></tr>\n",
       "<tr><td>2011-01-27 20:30:43.000</td><td>2011-01-27 20:30:44.000</td><td>SDO</td><td>AIA</td><td>211.0 .. 211.0</td><td>JSOC</td><td>intensity</td><td>NARROW</td><td>4096</td><td>4096</td><td>FULLDISK</td><td>64.64844</td><td>AIA level 1, 4096x4096 [4.998 exposure] [100.00 percentd]</td></tr>\n",
       "<tr><td>2011-01-27 20:30:43.000</td><td>2011-01-27 20:30:44.000</td><td>SDO</td><td>AIA</td><td>171.0 .. 171.0</td><td>JSOC</td><td>intensity</td><td>NARROW</td><td>4096</td><td>4096</td><td>FULLDISK</td><td>64.64844</td><td>AIA level 1, 4096x4096 [2.999 exposure] [100.00 percentd]</td></tr>\n",
       "<tr><td>2011-01-27 20:30:46.000</td><td>2011-01-27 20:30:47.000</td><td>SDO</td><td>AIA</td><td>131.0 .. 131.0</td><td>JSOC</td><td>intensity</td><td>NARROW</td><td>4096</td><td>4096</td><td>FULLDISK</td><td>64.64844</td><td>AIA level 1, 4096x4096 [6.899 exposure] [100.00 percentd]</td></tr>\n",
       "<tr><td>2011-01-27 20:30:46.000</td><td>2011-01-27 20:30:47.000</td><td>SDO</td><td>AIA</td><td>304.0 .. 304.0</td><td>JSOC</td><td>intensity</td><td>NARROW</td><td>4096</td><td>4096</td><td>FULLDISK</td><td>64.64844</td><td>AIA level 1, 4096x4096 [4.999 exposure] [100.00 percentd]</td></tr>\n",
       "<tr><td>2011-01-27 20:30:53.000</td><td>2011-01-27 20:30:54.000</td><td>SDO</td><td>AIA</td><td>94.0 .. 94.0</td><td>JSOC</td><td>intensity</td><td>NARROW</td><td>4096</td><td>4096</td><td>FULLDISK</td><td>64.64844</td><td>AIA level 1, 4096x4096 [6.899 exposure] [100.00 percentd]</td></tr>\n",
       "<tr><td>2011-01-27 20:30:53.000</td><td>2011-01-27 20:30:54.000</td><td>SDO</td><td>AIA</td><td>1600.0 .. 1600.0</td><td>JSOC</td><td>intensity</td><td>NARROW</td><td>4096</td><td>4096</td><td>FULLDISK</td><td>64.64844</td><td>AIA level 1, 4096x4096 [3.000 exposure] [100.00 percentd]</td></tr>\n",
       "<tr><td>2011-01-27 20:30:56.000</td><td>2011-01-27 20:30:57.000</td><td>SDO</td><td>AIA</td><td>335.0 .. 335.0</td><td>JSOC</td><td>intensity</td><td>NARROW</td><td>4096</td><td>4096</td><td>FULLDISK</td><td>64.64844</td><td>AIA level 1, 4096x4096 [6.899 exposure] [100.00 percentd]</td></tr>\n",
       "<tr><td>2011-01-27 20:30:56.000</td><td>2011-01-27 20:30:57.000</td><td>SDO</td><td>AIA</td><td>193.0 .. 193.0</td><td>JSOC</td><td>intensity</td><td>NARROW</td><td>4096</td><td>4096</td><td>FULLDISK</td><td>64.64844</td><td>AIA level 1, 4096x4096 [3.000 exposure] [100.00 percentd]</td></tr>\n",
       "<tr><td>...</td><td>...</td><td>...</td><td>...</td><td>...</td><td>...</td><td>...</td><td>...</td><td>...</td><td>...</td><td>...</td><td>...</td><td>...</td></tr>\n",
       "<tr><td>2011-01-27 20:59:36.000</td><td>2011-01-27 20:59:37.000</td><td>SDO</td><td>AIA</td><td>193.0 .. 193.0</td><td>JSOC</td><td>intensity</td><td>NARROW</td><td>4096</td><td>4096</td><td>FULLDISK</td><td>64.64844</td><td>AIA level 1, 4096x4096 [2.999 exposure] [100.00 percentd]</td></tr>\n",
       "<tr><td>2011-01-27 20:59:37.000</td><td>2011-01-27 20:59:38.000</td><td>SDO</td><td>AIA</td><td>4500.0 .. 4500.0</td><td>JSOC</td><td>intensity</td><td>NARROW</td><td>4096</td><td>4096</td><td>FULLDISK</td><td>64.64844</td><td>AIA level 1, 4096x4096 [0.501 exposure] [100.00 percentd]</td></tr>\n",
       "<tr><td>2011-01-27 20:59:43.000</td><td>2011-01-27 20:59:44.000</td><td>SDO</td><td>AIA</td><td>211.0 .. 211.0</td><td>JSOC</td><td>intensity</td><td>NARROW</td><td>4096</td><td>4096</td><td>FULLDISK</td><td>64.64844</td><td>AIA level 1, 4096x4096 [4.998 exposure] [100.00 percentd]</td></tr>\n",
       "<tr><td>2011-01-27 20:59:43.000</td><td>2011-01-27 20:59:44.000</td><td>SDO</td><td>AIA</td><td>171.0 .. 171.0</td><td>JSOC</td><td>intensity</td><td>NARROW</td><td>4096</td><td>4096</td><td>FULLDISK</td><td>64.64844</td><td>AIA level 1, 4096x4096 [2.999 exposure] [100.00 percentd]</td></tr>\n",
       "<tr><td>2011-01-27 20:59:46.000</td><td>2011-01-27 20:59:47.000</td><td>SDO</td><td>AIA</td><td>131.0 .. 131.0</td><td>JSOC</td><td>intensity</td><td>NARROW</td><td>4096</td><td>4096</td><td>FULLDISK</td><td>64.64844</td><td>AIA level 1, 4096x4096 [6.899 exposure] [100.00 percentd]</td></tr>\n",
       "<tr><td>2011-01-27 20:59:46.000</td><td>2011-01-27 20:59:47.000</td><td>SDO</td><td>AIA</td><td>304.0 .. 304.0</td><td>JSOC</td><td>intensity</td><td>NARROW</td><td>4096</td><td>4096</td><td>FULLDISK</td><td>64.64844</td><td>AIA level 1, 4096x4096 [4.999 exposure] [100.00 percentd]</td></tr>\n",
       "<tr><td>2011-01-27 20:59:53.000</td><td>2011-01-27 20:59:54.000</td><td>SDO</td><td>AIA</td><td>94.0 .. 94.0</td><td>JSOC</td><td>intensity</td><td>NARROW</td><td>4096</td><td>4096</td><td>FULLDISK</td><td>64.64844</td><td>AIA level 1, 4096x4096 [6.899 exposure] [100.00 percentd]</td></tr>\n",
       "<tr><td>2011-01-27 20:59:53.000</td><td>2011-01-27 20:59:54.000</td><td>SDO</td><td>AIA</td><td>1600.0 .. 1600.0</td><td>JSOC</td><td>intensity</td><td>NARROW</td><td>4096</td><td>4096</td><td>FULLDISK</td><td>64.64844</td><td>AIA level 1, 4096x4096 [3.000 exposure] [100.00 percentd]</td></tr>\n",
       "<tr><td>2011-01-27 20:59:56.000</td><td>2011-01-27 20:59:57.000</td><td>SDO</td><td>AIA</td><td>335.0 .. 335.0</td><td>JSOC</td><td>intensity</td><td>NARROW</td><td>4096</td><td>4096</td><td>FULLDISK</td><td>64.64844</td><td>AIA level 1, 4096x4096 [6.899 exposure] [100.00 percentd]</td></tr>\n",
       "<tr><td>2011-01-27 20:59:56.000</td><td>2011-01-27 20:59:57.000</td><td>SDO</td><td>AIA</td><td>193.0 .. 193.0</td><td>JSOC</td><td>intensity</td><td>NARROW</td><td>4096</td><td>4096</td><td>FULLDISK</td><td>64.64844</td><td>AIA level 1, 4096x4096 [3.000 exposure] [100.00 percentd]</td></tr>\n",
       "</table></div></br>"
      ],
      "text/plain": [
       "<sunpy.net.fido_factory.UnifiedResponse object at 0x000001C8DEA97370>\n",
       "Results from 1 Provider:\n",
       "\n",
       "705 Results from the VSOClient:\n",
       "Source: http://vso.stanford.edu/cgi-bin/search\n",
       "Total estimated size: 47.791 Gbyte\n",
       "\n",
       "       Start Time       ...\n",
       "                        ...\n",
       "----------------------- ...\n",
       "2011-01-27 20:30:36.000 ...\n",
       "2011-01-27 20:30:43.000 ...\n",
       "2011-01-27 20:30:43.000 ...\n",
       "2011-01-27 20:30:46.000 ...\n",
       "2011-01-27 20:30:46.000 ...\n",
       "2011-01-27 20:30:53.000 ...\n",
       "2011-01-27 20:30:53.000 ...\n",
       "2011-01-27 20:30:56.000 ...\n",
       "2011-01-27 20:30:56.000 ...\n",
       "2011-01-27 20:31:03.000 ...\n",
       "                    ... ...\n",
       "2011-01-27 20:59:36.000 ...\n",
       "2011-01-27 20:59:37.000 ...\n",
       "2011-01-27 20:59:43.000 ...\n",
       "2011-01-27 20:59:43.000 ...\n",
       "2011-01-27 20:59:46.000 ...\n",
       "2011-01-27 20:59:46.000 ...\n",
       "2011-01-27 20:59:53.000 ...\n",
       "2011-01-27 20:59:53.000 ...\n",
       "2011-01-27 20:59:56.000 ...\n",
       "2011-01-27 20:59:56.000 ...\n",
       "Length = 705 rows\n"
      ]
     },
     "execution_count": 33,
     "metadata": {},
     "output_type": "execute_result"
    }
   ],
   "source": [
    "unifresp"
   ]
  },
  {
   "cell_type": "code",
   "execution_count": 36,
   "id": "e5cb8b0f-7b7a-4a12-8870-c56f5978c79b",
   "metadata": {},
   "outputs": [],
   "source": [
    "obs_start = \"2011-01-27T14:15:00\"\n",
    "obs_end = \"2011-01-27T23:05:00\"\n",
    "obs_time = a.Time(obs_start, obs_end)\n",
    "\n",
    "unifresp1 = Fido.search(obs_time,a.Sample(10*u.min),a.Instrument.aia) # aia"
   ]
  },
  {
   "cell_type": "code",
   "execution_count": 37,
   "id": "3dfa5baa-bf24-4d7b-842d-4b30c7d0b414",
   "metadata": {
    "collapsed": true,
    "jupyter": {
     "outputs_hidden": true
    },
    "tags": []
   },
   "outputs": [
    {
     "data": {
      "text/html": [
       "Results from 1 Provider:</br></br>19 Results from the VSOClient:</br><div><i>VSOQueryResponseTable length=19</i>\n",
       "<table id=\"table1962264448256\" class=\"table-striped table-bordered table-condensed\">\n",
       "<thead><tr><th>Start Time</th><th>End Time</th><th>Source</th><th>Instrument</th><th>Wavelength</th><th>Provider</th><th>Physobs</th><th>Wavetype</th><th>Extent Width</th><th>Extent Length</th><th>Extent Type</th><th>Size</th><th>Info</th></tr></thead>\n",
       "<thead><tr><th></th><th></th><th></th><th></th><th>Angstrom</th><th></th><th></th><th></th><th></th><th></th><th></th><th>Mibyte</th><th></th></tr></thead>\n",
       "<thead><tr><th>Time</th><th>Time</th><th>str3</th><th>str3</th><th>float64[2]</th><th>str4</th><th>str9</th><th>str6</th><th>str4</th><th>str4</th><th>str8</th><th>float64</th><th>str57</th></tr></thead>\n",
       "<tr><td>2011-01-27 14:15:03.000</td><td>2011-01-27 14:15:04.000</td><td>SDO</td><td>AIA</td><td>171.0 .. 171.0</td><td>JSOC</td><td>intensity</td><td>NARROW</td><td>4096</td><td>4096</td><td>FULLDISK</td><td>64.64844</td><td>AIA level 1, 4096x4096 [2.999 exposure] [100.00 percentd]</td></tr>\n",
       "<tr><td>2011-01-27 14:25:03.000</td><td>2011-01-27 14:25:04.000</td><td>SDO</td><td>AIA</td><td>171.0 .. 171.0</td><td>JSOC</td><td>intensity</td><td>NARROW</td><td>4096</td><td>4096</td><td>FULLDISK</td><td>64.64844</td><td>AIA level 1, 4096x4096 [2.999 exposure] [100.00 percentd]</td></tr>\n",
       "<tr><td>2011-01-27 20:30:36.000</td><td>2011-01-27 20:30:37.000</td><td>SDO</td><td>AIA</td><td>335.0 .. 335.0</td><td>JSOC</td><td>intensity</td><td>NARROW</td><td>4096</td><td>4096</td><td>FULLDISK</td><td>64.64844</td><td>AIA level 1, 4096x4096 [6.899 exposure] [100.00 percentd]</td></tr>\n",
       "<tr><td>2011-01-27 20:35:03.000</td><td>2011-01-27 20:35:04.000</td><td>SDO</td><td>AIA</td><td>171.0 .. 171.0</td><td>JSOC</td><td>intensity</td><td>NARROW</td><td>4096</td><td>4096</td><td>FULLDISK</td><td>64.64844</td><td>AIA level 1, 4096x4096 [2.999 exposure] [100.00 percentd]</td></tr>\n",
       "<tr><td>2011-01-27 20:45:03.000</td><td>2011-01-27 20:45:04.000</td><td>SDO</td><td>AIA</td><td>171.0 .. 171.0</td><td>JSOC</td><td>intensity</td><td>NARROW</td><td>4096</td><td>4096</td><td>FULLDISK</td><td>64.64844</td><td>AIA level 1, 4096x4096 [2.999 exposure] [100.00 percentd]</td></tr>\n",
       "<tr><td>2011-01-27 20:55:03.000</td><td>2011-01-27 20:55:04.000</td><td>SDO</td><td>AIA</td><td>171.0 .. 171.0</td><td>JSOC</td><td>intensity</td><td>NARROW</td><td>4096</td><td>4096</td><td>FULLDISK</td><td>64.64844</td><td>AIA level 1, 4096x4096 [2.999 exposure] [100.00 percentd]</td></tr>\n",
       "<tr><td>2011-01-27 21:05:03.000</td><td>2011-01-27 21:05:04.000</td><td>SDO</td><td>AIA</td><td>171.0 .. 171.0</td><td>JSOC</td><td>intensity</td><td>NARROW</td><td>4096</td><td>4096</td><td>FULLDISK</td><td>64.64844</td><td>AIA level 1, 4096x4096 [2.999 exposure] [100.00 percentd]</td></tr>\n",
       "<tr><td>2011-01-27 21:15:03.000</td><td>2011-01-27 21:15:04.000</td><td>SDO</td><td>AIA</td><td>171.0 .. 171.0</td><td>JSOC</td><td>intensity</td><td>NARROW</td><td>4096</td><td>4096</td><td>FULLDISK</td><td>64.64844</td><td>AIA level 1, 4096x4096 [2.999 exposure] [100.00 percentd]</td></tr>\n",
       "<tr><td>2011-01-27 21:25:03.000</td><td>2011-01-27 21:25:04.000</td><td>SDO</td><td>AIA</td><td>171.0 .. 171.0</td><td>JSOC</td><td>intensity</td><td>NARROW</td><td>4096</td><td>4096</td><td>FULLDISK</td><td>64.64844</td><td>AIA level 1, 4096x4096 [2.999 exposure] [100.00 percentd]</td></tr>\n",
       "<tr><td>2011-01-27 21:35:03.000</td><td>2011-01-27 21:35:04.000</td><td>SDO</td><td>AIA</td><td>171.0 .. 171.0</td><td>JSOC</td><td>intensity</td><td>NARROW</td><td>4096</td><td>4096</td><td>FULLDISK</td><td>64.64844</td><td>AIA level 1, 4096x4096 [2.999 exposure] [100.00 percentd]</td></tr>\n",
       "<tr><td>2011-01-27 21:45:03.000</td><td>2011-01-27 21:45:04.000</td><td>SDO</td><td>AIA</td><td>171.0 .. 171.0</td><td>JSOC</td><td>intensity</td><td>NARROW</td><td>4096</td><td>4096</td><td>FULLDISK</td><td>64.64844</td><td>AIA level 1, 4096x4096 [2.999 exposure] [100.00 percentd]</td></tr>\n",
       "<tr><td>2011-01-27 21:55:03.000</td><td>2011-01-27 21:55:04.000</td><td>SDO</td><td>AIA</td><td>171.0 .. 171.0</td><td>JSOC</td><td>intensity</td><td>NARROW</td><td>4096</td><td>4096</td><td>FULLDISK</td><td>64.64844</td><td>AIA level 1, 4096x4096 [2.999 exposure] [100.00 percentd]</td></tr>\n",
       "<tr><td>2011-01-27 22:05:03.000</td><td>2011-01-27 22:05:04.000</td><td>SDO</td><td>AIA</td><td>171.0 .. 171.0</td><td>JSOC</td><td>intensity</td><td>NARROW</td><td>4096</td><td>4096</td><td>FULLDISK</td><td>64.64844</td><td>AIA level 1, 4096x4096 [2.999 exposure] [100.00 percentd]</td></tr>\n",
       "<tr><td>2011-01-27 22:21:03.000</td><td>2011-01-27 22:21:04.000</td><td>SDO</td><td>AIA</td><td>335.0 .. 335.0</td><td>JSOC</td><td>intensity</td><td>NARROW</td><td>4096</td><td>4096</td><td>FULLDISK</td><td>64.64844</td><td>AIA level 1, 4096x4096 [2.901 exposure] [100.00 percentd]</td></tr>\n",
       "<tr><td>2011-01-27 22:31:03.000</td><td>2011-01-27 22:31:04.000</td><td>SDO</td><td>AIA</td><td>335.0 .. 335.0</td><td>JSOC</td><td>intensity</td><td>NARROW</td><td>4096</td><td>4096</td><td>FULLDISK</td><td>64.64844</td><td>AIA level 1, 4096x4096 [2.901 exposure] [100.00 percentd]</td></tr>\n",
       "<tr><td>2011-01-27 22:41:03.000</td><td>2011-01-27 22:41:04.000</td><td>SDO</td><td>AIA</td><td>335.0 .. 335.0</td><td>JSOC</td><td>intensity</td><td>NARROW</td><td>4096</td><td>4096</td><td>FULLDISK</td><td>64.64844</td><td>AIA level 1, 4096x4096 [2.901 exposure] [100.00 percentd]</td></tr>\n",
       "<tr><td>2011-01-27 22:51:03.000</td><td>2011-01-27 22:51:04.000</td><td>SDO</td><td>AIA</td><td>335.0 .. 335.0</td><td>JSOC</td><td>intensity</td><td>NARROW</td><td>4096</td><td>4096</td><td>FULLDISK</td><td>64.64844</td><td>AIA level 1, 4096x4096 [2.901 exposure] [100.00 percentd]</td></tr>\n",
       "<tr><td>2011-01-27 22:55:00.000</td><td>2011-01-27 22:55:01.000</td><td>SDO</td><td>AIA</td><td>171.0 .. 171.0</td><td>JSOC</td><td>intensity</td><td>NARROW</td><td>4096</td><td>4096</td><td>FULLDISK</td><td>64.64844</td><td>AIA level 1, 4096x4096 [2.000 exposure] [100.00 percentd]</td></tr>\n",
       "<tr><td>2011-01-27 23:05:00.000</td><td>2011-01-27 23:05:01.000</td><td>SDO</td><td>AIA</td><td>171.0 .. 171.0</td><td>JSOC</td><td>intensity</td><td>NARROW</td><td>4096</td><td>4096</td><td>FULLDISK</td><td>64.64844</td><td>AIA level 1, 4096x4096 [2.000 exposure] [100.00 percentd]</td></tr>\n",
       "</table></div></br>"
      ],
      "text/plain": [
       "<sunpy.net.fido_factory.UnifiedResponse object at 0x000001C8E2CF39D0>\n",
       "Results from 1 Provider:\n",
       "\n",
       "19 Results from the VSOClient:\n",
       "Source: http://vso.stanford.edu/cgi-bin/search\n",
       "Total estimated size: 1.288 Gbyte\n",
       "\n",
       "       Start Time       ...\n",
       "                        ...\n",
       "----------------------- ...\n",
       "2011-01-27 14:15:03.000 ...\n",
       "2011-01-27 14:25:03.000 ...\n",
       "2011-01-27 20:30:36.000 ...\n",
       "2011-01-27 20:35:03.000 ...\n",
       "2011-01-27 20:45:03.000 ...\n",
       "2011-01-27 20:55:03.000 ...\n",
       "2011-01-27 21:05:03.000 ...\n",
       "2011-01-27 21:15:03.000 ...\n",
       "2011-01-27 21:25:03.000 ...\n",
       "2011-01-27 21:35:03.000 ...\n",
       "2011-01-27 21:45:03.000 ...\n",
       "2011-01-27 21:55:03.000 ...\n",
       "2011-01-27 22:05:03.000 ...\n",
       "2011-01-27 22:21:03.000 ...\n",
       "2011-01-27 22:31:03.000 ...\n",
       "2011-01-27 22:41:03.000 ...\n",
       "2011-01-27 22:51:03.000 ...\n",
       "2011-01-27 22:55:00.000 ...\n",
       "2011-01-27 23:05:00.000 ...\n"
      ]
     },
     "execution_count": 37,
     "metadata": {},
     "output_type": "execute_result"
    }
   ],
   "source": [
    "unifresp1"
   ]
  },
  {
   "cell_type": "markdown",
   "id": "d94dffb6-2083-46f2-887c-4b3644b7b3d1",
   "metadata": {},
   "source": [
    "14:35 -- 20:30 没有AIA数据"
   ]
  },
  {
   "cell_type": "code",
   "execution_count": 44,
   "id": "6d99beeb-fee1-4678-972e-b341c26af5a6",
   "metadata": {
    "tags": []
   },
   "outputs": [],
   "source": [
    "obs_start = \"2011-01-27T14:35:00\"\n",
    "obs_end = \"2011-01-27T20:30:00\"\n",
    "obs_time = a.Time(obs_start, obs_end)\n",
    "\n",
    "unifresp2 = Fido.search(obs_time,a.Instrument.aia) # aia"
   ]
  },
  {
   "cell_type": "code",
   "execution_count": 45,
   "id": "213d1c48-c31c-48b9-bc89-c83be23c84f6",
   "metadata": {},
   "outputs": [
    {
     "data": {
      "text/html": [
       "Results from 0 Providers:</br></br>"
      ],
      "text/plain": [
       "<sunpy.net.fido_factory.UnifiedResponse object at 0x000001C8E2E74940>\n",
       "Results from 0 Providers:\n"
      ]
     },
     "execution_count": 45,
     "metadata": {},
     "output_type": "execute_result"
    }
   ],
   "source": [
    "unifresp2"
   ]
  },
  {
   "cell_type": "code",
   "execution_count": null,
   "id": "4fad4be0-de66-4b03-bf82-e2274d1be960",
   "metadata": {},
   "outputs": [],
   "source": []
  }
 ],
 "metadata": {
  "kernelspec": {
   "display_name": "Python 3 (ipykernel)",
   "language": "python",
   "name": "python3"
  },
  "language_info": {
   "codemirror_mode": {
    "name": "ipython",
    "version": 3
   },
   "file_extension": ".py",
   "mimetype": "text/x-python",
   "name": "python",
   "nbconvert_exporter": "python",
   "pygments_lexer": "ipython3",
   "version": "3.9.13"
  }
 },
 "nbformat": 4,
 "nbformat_minor": 5
}
