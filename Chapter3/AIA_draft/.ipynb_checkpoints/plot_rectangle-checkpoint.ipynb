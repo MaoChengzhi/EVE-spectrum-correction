{
  "cells": [
    {
      "cell_type": "code",
      "execution_count": null,
      "metadata": {
        "collapsed": false
      },
      "outputs": [],
      "source": [
        "%matplotlib inline"
      ]
    },
    {
      "cell_type": "markdown",
      "metadata": {},
      "source": [
        "\n# Drawing a rectangle on a map\n\nThis example will demonstrate how to draw a rectangle on a map using :meth:`~sunpy.map.GenericMap.draw_quadrangle`.\n"
      ]
    },
    {
      "cell_type": "code",
      "execution_count": null,
      "metadata": {
        "collapsed": false
      },
      "outputs": [],
      "source": [
        "import matplotlib.pyplot as plt\n\nimport astropy.units as u\nfrom astropy.coordinates import SkyCoord\n\nimport sunpy.data.sample\nimport sunpy.map"
      ]
    },
    {
      "cell_type": "markdown",
      "metadata": {},
      "source": [
        "Let's start with a sample AIA image.\n\n"
      ]
    },
    {
      "cell_type": "code",
      "execution_count": null,
      "metadata": {
        "collapsed": false
      },
      "outputs": [],
      "source": [
        "aia_map = sunpy.map.Map(sunpy.data.sample.AIA_171_IMAGE)"
      ]
    },
    {
      "cell_type": "markdown",
      "metadata": {},
      "source": [
        "Here are four different ways to draw a rectangle. The first three ways\ndirectly calls the `~astropy.coordinates.SkyCoord` class. The fourth way\nconverts pixel coordinates to the equivalent `~astropy.coordinates.SkyCoord`\nobjects using the :meth:`~sunpy.map.GenericMap.pixel_to_world`.\n\n"
      ]
    },
    {
      "cell_type": "code",
      "execution_count": null,
      "metadata": {
        "collapsed": false
      },
      "outputs": [],
      "source": [
        "fig = plt.figure(figsize=(5, 5))\nax = fig.add_subplot(projection=aia_map)\naia_map.plot(axes=ax, clip_interval=(1, 99.99)*u.percent)"
      ]
    },
    {
      "cell_type": "markdown",
      "metadata": {},
      "source": [
        "Specify two opposite corners of the rectangle as a single, two-element\nSkyCoord object.\n\n"
      ]
    },
    {
      "cell_type": "code",
      "execution_count": null,
      "metadata": {
        "collapsed": false
      },
      "outputs": [],
      "source": [
        "coords = SkyCoord(\n    Tx=(100, 500) * u.arcsec,\n    Ty=(200, 500) * u.arcsec,\n    frame=aia_map.coordinate_frame,\n)\naia_map.draw_quadrangle(\n    coords,\n    axes=ax,\n    edgecolor=\"blue\",\n    linestyle=\"-\",\n    linewidth=2,\n    label='2-element SkyCoord'\n)"
      ]
    },
    {
      "cell_type": "markdown",
      "metadata": {},
      "source": [
        "Specify two opposite corners of the rectangle as separate SkyCoord objects.\n\n"
      ]
    },
    {
      "cell_type": "code",
      "execution_count": null,
      "metadata": {
        "collapsed": false
      },
      "outputs": [],
      "source": [
        "bottom_left = SkyCoord(-500 * u.arcsec, 200 * u.arcsec, frame=aia_map.coordinate_frame)\ntop_right = SkyCoord(-100 * u.arcsec, 500 * u.arcsec, frame=aia_map.coordinate_frame)\naia_map.draw_quadrangle(\n    bottom_left,\n    axes=ax,\n    top_right=top_right,\n    edgecolor=\"green\",\n    linestyle=\"--\",\n    linewidth=2,\n    label='two SkyCoords'\n)"
      ]
    },
    {
      "cell_type": "markdown",
      "metadata": {},
      "source": [
        "Specify one corner of the rectangle and the rectangle's width and height.\n\n"
      ]
    },
    {
      "cell_type": "code",
      "execution_count": null,
      "metadata": {
        "collapsed": false
      },
      "outputs": [],
      "source": [
        "bottom_left = SkyCoord(-500 * u.arcsec, -500 * u.arcsec, frame=aia_map.coordinate_frame)\nwidth = 400 * u.arcsec\nheight = 300 * u.arcsec\naia_map.draw_quadrangle(\n    bottom_left,\n    axes=ax,\n    width=width,\n    height=height,\n    edgecolor=\"yellow\",\n    linestyle=\"-.\",\n    linewidth=2,\n    label='width/height'\n)"
      ]
    },
    {
      "cell_type": "markdown",
      "metadata": {},
      "source": [
        "Draw a desired rectangle in pixel coordinates by first converting to SkyCoord objects.\n\n"
      ]
    },
    {
      "cell_type": "code",
      "execution_count": null,
      "metadata": {
        "collapsed": false
      },
      "outputs": [],
      "source": [
        "bottom_left = aia_map.pixel_to_world(600 * u.pixel, 350 * u.pixel)\ntop_right = aia_map.pixel_to_world(800 * u.pixel, 450 * u.pixel)\naia_map.draw_quadrangle(\n    bottom_left,\n    axes=ax,\n    top_right=top_right,\n    edgecolor=\"red\",\n    linestyle=\":\",\n    linewidth=2,\n    label='pixel_to_world()'\n)\nax.legend()\n\nplt.show()"
      ]
    }
  ],
  "metadata": {
    "kernelspec": {
      "display_name": "Python 3",
      "language": "python",
      "name": "python3"
    },
    "language_info": {
      "codemirror_mode": {
        "name": "ipython",
        "version": 3
      },
      "file_extension": ".py",
      "mimetype": "text/x-python",
      "name": "python",
      "nbconvert_exporter": "python",
      "pygments_lexer": "ipython3",
      "version": "3.10.8"
    }
  },
  "nbformat": 4,
  "nbformat_minor": 0
}