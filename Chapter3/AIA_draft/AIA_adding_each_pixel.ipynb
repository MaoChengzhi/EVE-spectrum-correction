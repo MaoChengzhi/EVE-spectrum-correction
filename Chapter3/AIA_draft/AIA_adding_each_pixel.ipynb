{
 "cells": [
  {
   "cell_type": "code",
   "execution_count": 1,
   "id": "e4bbca59-f09b-4641-bb0e-f9dd544a8a24",
   "metadata": {},
   "outputs": [],
   "source": [
    "import copy\n",
    "import glob\n",
    "\n",
    "import matplotlib\n",
    "import matplotlib.pyplot as plt\n",
    "from mpl_toolkits.axes_grid1 import make_axes_locatable\n",
    "import numpy as np\n",
    "\n",
    "from IPython.display import HTML\n",
    "\n",
    "import astropy.table\n",
    "from astropy.coordinates import SkyCoord\n",
    "import astropy.units as u\n",
    "from astropy.visualization import AsymmetricPercentileInterval, ImageNormalize, LogStretch\n",
    "from astropy.io import fits\n",
    "from astropy.modeling.models import Gaussian1D\n",
    "from astropy.modeling import fitting,models\n",
    "from astropy.stats import gaussian_fwhm_to_sigma\n",
    "\n",
    "import sunpy.map\n",
    "import sunpy.timeseries\n",
    "import sunpy.sun.constants\n",
    "from sunpy.coordinates import Helioprojective\n",
    "from sunpy.map.maputils import all_coordinates_from_map, coordinate_is_on_solar_disk\n",
    "from sunpy.coordinates import frames\n",
    "\n",
    "import math\n",
    "\n",
    "import time\n",
    "\n",
    "from scipy import optimize"
   ]
  },
  {
   "cell_type": "code",
   "execution_count": 39,
   "id": "ca90a77f-1fd3-4197-bd2e-234324975696",
   "metadata": {},
   "outputs": [],
   "source": [
    "AIA_filename=\"data/AIA/aia_lev1_304a_2011_01_27t22_58_56_12z_image_lev1.fits\"\n",
    "m_aia=sunpy.map.Map(AIA_filename)\n",
    "image_data=m_aia.data\n",
    "image_shape_x,image_shape_y=m_aia.data.shape"
   ]
  },
  {
   "cell_type": "code",
   "execution_count": 81,
   "id": "7cdb9ab3-c9cd-4ff8-9b50-cf651ddec733",
   "metadata": {},
   "outputs": [],
   "source": [
    "wavelength_list=np.linspace(-0.1,0.15,14)\n",
    "intensity=irradiance(wavelength_list)"
   ]
  },
  {
   "cell_type": "code",
   "execution_count": 82,
   "id": "5d68daa3-6959-4fb1-aa2e-994a71f473f4",
   "metadata": {},
   "outputs": [
    {
     "data": {
      "text/plain": [
       "[<matplotlib.lines.Line2D at 0x2724f737f70>]"
      ]
     },
     "execution_count": 82,
     "metadata": {},
     "output_type": "execute_result"
    },
    {
     "data": {
      "image/png": "[encoded data removed]",
      "text/plain": [
       "<Figure size 640x480 with 1 Axes>"
      ]
     },
     "metadata": {},
     "output_type": "display_data"
    }
   ],
   "source": [
    "plt.plot(wavelength_list,intensity)"
   ]
  },
  {
   "cell_type": "markdown",
   "id": "ab2da74c-d6a7-48ee-a758-2c9124c2de20",
   "metadata": {},
   "source": [
    "### learn np.savez   np.load "
   ]
  },
  {
   "cell_type": "code",
   "execution_count": 60,
   "id": "ed664d55-9990-4c80-9786-b15d087d4a97",
   "metadata": {},
   "outputs": [],
   "source": [
    "np.savez(\"profile_0.npz\",wavelength_list=wavelength_list,intensity=intensity)"
   ]
  },
  {
   "cell_type": "code",
   "execution_count": 54,
   "id": "46a54cf7-2677-487c-82c3-792028e8e5a3",
   "metadata": {},
   "outputs": [],
   "source": [
    "profile=np.load(\"profile_0.npz\")"
   ]
  },
  {
   "cell_type": "code",
   "execution_count": 57,
   "id": "ff7967ab-d67b-4329-961b-7536edc92d8c",
   "metadata": {},
   "outputs": [
    {
     "data": {
      "text/plain": [
       "['wavelength_list', 'intensity']"
      ]
     },
     "execution_count": 57,
     "metadata": {},
     "output_type": "execute_result"
    }
   ],
   "source": [
    "profile.files"
   ]
  },
  {
   "cell_type": "code",
   "execution_count": 59,
   "id": "b88000b3-c341-4358-9f8a-8b1951b78767",
   "metadata": {},
   "outputs": [
    {
     "data": {
      "text/plain": [
       "array([ 10865.58720952,  41462.04736504, 103139.11086749, 167251.90570218,\n",
       "       176804.68625155, 121840.43106153,  54734.8574968 ,  16029.18414208,\n",
       "         3060.08617439,    380.82956608])"
      ]
     },
     "execution_count": 59,
     "metadata": {},
     "output_type": "execute_result"
    }
   ],
   "source": [
    "profile[\"intensity\"]"
   ]
  },
  {
   "cell_type": "markdown",
   "id": "86daaac9-4720-4938-a364-e8d9db03ce29",
   "metadata": {
    "tags": []
   },
   "source": [
    "## irradiance"
   ]
  },
  {
   "cell_type": "code",
   "execution_count": 7,
   "id": "701a8252-ba29-4095-9787-8d1b21483f6d",
   "metadata": {},
   "outputs": [],
   "source": [
    "def wavelength_shift(Tx,Ty):\n",
    "    return  0.0752 * Tx**2 + 0.265*Ty\n",
    "def my_Gaussian1D(x,amplitude=1, mean=0, stddev=1):\n",
    "    return amplitude*math.e**(-(x-mean)**2/(2*stddev**2))"
   ]
  },
  {
   "cell_type": "code",
   "execution_count": 80,
   "id": "09eb098d-5f8e-44d5-93f0-dd8c96842e14",
   "metadata": {},
   "outputs": [],
   "source": [
    "def irradiance(wavelength):\n",
    "    total_irradiance=0\n",
    "    g1 = Gaussian1D(1, 0, 0.2)\n",
    "    for pixel_x in np.linspace(0,image_shape_x-1,100,dtype=int):\n",
    "        for pixel_y in np.linspace(0,image_shape_y-1,100,dtype=int):\n",
    "            Tx,Ty=my_offaxis_angle_rad(pixel_x,pixel_y)\n",
    "\n",
    "\n",
    "            stddev=0.1*gaussian_fwhm_to_sigma\n",
    "            amplitude=image_data[pixel_x][pixel_y]/(math.sqrt(2*math.pi)*stddev)\n",
    "            coeff=(amplitude,  #amplitude\n",
    "                   -wavelength_shift(Tx,Ty),      #mean\n",
    "                   stddev)    #stddev\n",
    "\n",
    "            total_irradiance+=my_Gaussian1D(wavelength,*coeff)\n",
    "    return total_irradiance"
   ]
  },
  {
   "cell_type": "code",
   "execution_count": 35,
   "id": "272b6db8-270c-4a21-a482-7a9ca42a0874",
   "metadata": {},
   "outputs": [
    {
     "data": {
      "text/plain": [
       "11910.82605838625"
      ]
     },
     "execution_count": 35,
     "metadata": {},
     "output_type": "execute_result"
    }
   ],
   "source": [
    "a=irradiance(np.array([0,0.1]))\n",
    "irradiance(0.1)"
   ]
  },
  {
   "cell_type": "code",
   "execution_count": 36,
   "id": "a805e2d2-d86c-45ad-ac4f-dd548ce344a0",
   "metadata": {},
   "outputs": [
    {
     "data": {
      "text/plain": [
       "array([182030.30446644,  11910.82605839])"
      ]
     },
     "execution_count": 36,
     "metadata": {},
     "output_type": "execute_result"
    }
   ],
   "source": [
    "a"
   ]
  },
  {
   "cell_type": "code",
   "execution_count": 37,
   "id": "021db9aa-cd41-4b5c-91e9-ab9e895fcebb",
   "metadata": {},
   "outputs": [],
   "source": [
    "b=irradiance([0,0.1])"
   ]
  },
  {
   "cell_type": "code",
   "execution_count": 38,
   "id": "5e74a98e-0f04-4644-b536-f3f50b0b1a25",
   "metadata": {},
   "outputs": [
    {
     "data": {
      "text/plain": [
       "array([182030.30446644,  11910.82605839])"
      ]
     },
     "execution_count": 38,
     "metadata": {},
     "output_type": "execute_result"
    }
   ],
   "source": [
    "b"
   ]
  },
  {
   "cell_type": "markdown",
   "id": "7323a833-b5fc-45fe-9b45-f7dd72ae7fa1",
   "metadata": {
    "tags": []
   },
   "source": [
    "## prepare my_offaxis_angle_rad"
   ]
  },
  {
   "cell_type": "markdown",
   "id": "707fe061-430a-43db-8d02-48c5b2e10997",
   "metadata": {},
   "source": [
    "### get the standard pixel_to_world transition"
   ]
  },
  {
   "cell_type": "code",
   "execution_count": 9,
   "id": "32e34236-4b19-4a8b-b7f3-6982c9db985e",
   "metadata": {},
   "outputs": [],
   "source": [
    "image_shape_x,image_shape_y=m_aia.data.shape\n",
    "approximation_points_num=100\n",
    "x_pixel_list=np.linspace(0,image_shape_x,approximation_points_num)\n",
    "y_pixel_list=np.linspace(0,image_shape_y,approximation_points_num)\n",
    "standard_Tx_list=np.zeros((approximation_points_num**2,1))\n",
    "standard_Ty_list=np.zeros((approximation_points_num**2,1))\n",
    "\n",
    "point_list=np.zeros((approximation_points_num**2, 2))\n",
    "i=0\n",
    "\n",
    "for x_pixel in x_pixel_list:\n",
    "    for y_pixel in y_pixel_list:\n",
    "        point_list[i]=x_pixel,y_pixel\n",
    "        standard_Tx_list[i],standard_Ty_list[i]=offaxis_angle_rad(x_pixel,y_pixel)\n",
    "        i+=1\n"
   ]
  },
  {
   "cell_type": "markdown",
   "id": "b27f6eb9-ab66-403c-b593-85e7d3c19c43",
   "metadata": {},
   "source": [
    "### get coeff"
   ]
  },
  {
   "cell_type": "code",
   "execution_count": 10,
   "id": "94c20530-1832-4436-aac8-535b41307029",
   "metadata": {},
   "outputs": [],
   "source": [
    "def func_Tx(x, y, p):\n",
    "    a,b,c=p\n",
    "    return a*x+b*y+c\n",
    "\n",
    "def func_Ty(x, y, p):\n",
    "    a,b,c=p\n",
    "    return a*x+b*y+c\n",
    "\n",
    "def residuals_Tx(p, Tx, x , y ):\n",
    "    \"\"\" \n",
    "    得到数据 z 和拟合函数之间的差\n",
    "    \"\"\"\n",
    "    return Tx - func_Tx(x , y , p)\n",
    "\n",
    "def residuals_Ty(p, Ty, x , y ):\n",
    "    \"\"\" \n",
    "    得到数据 z 和拟合函数之间的差\n",
    "    \"\"\"\n",
    "    return Ty - func_Ty(x , y , p)"
   ]
  },
  {
   "cell_type": "code",
   "execution_count": 100,
   "id": "9331f79b-ede2-4ba1-a585-a652a1533c36",
   "metadata": {},
   "outputs": [],
   "source": [
    "x=point_list[:,0]\n",
    "y=point_list[:,1]\n",
    "Tx=standard_Tx_list\n",
    "Tx=Tx.reshape(approximation_points_num**2,)\n",
    "Ty=standard_Ty_list\n",
    "Ty=Ty.reshape(approximation_points_num**2,)\n",
    "\n",
    "plsq_Tx = optimize.leastsq(residuals_Tx, np.array([0, 0, 0]), args=(Tx, x , y ))  # 最小二乘法拟合\n",
    "plsq_Ty = optimize.leastsq(residuals_Ty, np.array([0, 0, 0]), args=(Ty, x , y ))  # 最小二乘法拟合\n"
   ]
  },
  {
   "cell_type": "code",
   "execution_count": 102,
   "id": "f51caa90-f69f-4c33-9f80-11448d2d57b9",
   "metadata": {},
   "outputs": [
    {
     "data": {
      "text/plain": [
       "array([ 2.90965330e-06,  6.67369481e-09, -5.98777934e-03])"
      ]
     },
     "execution_count": 102,
     "metadata": {},
     "output_type": "execute_result"
    }
   ],
   "source": [
    "plsq_Tx[0]"
   ]
  },
  {
   "cell_type": "code",
   "execution_count": 12,
   "id": "d5c01dfb-9d93-4bfb-a191-03e179b403be",
   "metadata": {},
   "outputs": [
    {
     "name": "stdout",
     "output_type": "stream",
     "text": [
      "(array([ 2.90965330e-06,  6.67369481e-09, -5.98777934e-03]), 3)\n",
      "(array([-6.67369511e-09,  2.90963570e-06, -5.87289722e-03]), 2)\n"
     ]
    }
   ],
   "source": [
    "print(plsq_Tx)\n",
    "print(plsq_Ty)"
   ]
  },
  {
   "cell_type": "code",
   "execution_count": 92,
   "id": "6c1114a7-f43b-49f4-a39d-3f0914ee0435",
   "metadata": {},
   "outputs": [],
   "source": [
    "#approximation_points_num=100:\n",
    "plsq_Tx=np.array([ 2.90965330e-06,  6.67369481e-09, -5.98777934e-03])\n",
    "plsq_Ty=np.array([-6.67369511e-09,  2.90963570e-06, -5.87289722e-03])"
   ]
  },
  {
   "cell_type": "code",
   "execution_count": 93,
   "id": "196c3c10-8efe-49b6-aa37-e46956ce46f2",
   "metadata": {},
   "outputs": [],
   "source": [
    "np.savez(\"plsq\",plsq_Tx=plsq_Tx,plsq_Ty=plsq_Ty)"
   ]
  },
  {
   "cell_type": "code",
   "execution_count": 94,
   "id": "14d20764-1f08-4fa1-ad69-a108a74a564e",
   "metadata": {},
   "outputs": [
    {
     "data": {
      "text/plain": [
       "['plsq_Tx', 'plsq_Ty']"
      ]
     },
     "execution_count": 94,
     "metadata": {},
     "output_type": "execute_result"
    }
   ],
   "source": [
    "test=np.load(\"plsq.npz\")\n",
    "test.files"
   ]
  },
  {
   "cell_type": "code",
   "execution_count": 97,
   "id": "7e572b8e-069d-4d14-aff6-f801dec95fae",
   "metadata": {},
   "outputs": [
    {
     "data": {
      "text/plain": [
       "array([ 2.90965330e-06,  6.67369481e-09, -5.98777934e-03])"
      ]
     },
     "execution_count": 97,
     "metadata": {},
     "output_type": "execute_result"
    }
   ],
   "source": [
    "test[\"plsq_Tx\"]"
   ]
  },
  {
   "cell_type": "code",
   "execution_count": 90,
   "id": "dfa0b542-a4b4-46f3-ad63-e0fe67691917",
   "metadata": {},
   "outputs": [
    {
     "data": {
      "text/plain": [
       "2"
      ]
     },
     "execution_count": 90,
     "metadata": {},
     "output_type": "execute_result"
    }
   ],
   "source": [
    "a"
   ]
  },
  {
   "cell_type": "markdown",
   "id": "ded0470e-6e60-4c0a-b6ce-c3ef3aad4df4",
   "metadata": {
    "tags": []
   },
   "source": [
    "## my_offaxis_angle_rad"
   ]
  },
  {
   "cell_type": "code",
   "execution_count": 13,
   "id": "1cf9cf2e-e270-46e6-b900-1d2cb508b0fe",
   "metadata": {},
   "outputs": [],
   "source": [
    "def my_offaxis_angle_rad(pixel_x,pixel_y):\n",
    "    \"\"\"\n",
    "    \n",
    "\n",
    "    Parameters\n",
    "    ----------\n",
    "    pixel_x : The X component of the pixel position in the image\n",
    "    \n",
    "    pixel_y : The Y component of the pixel position in the image\n",
    "            Image size: 4096*4096\n",
    "            \n",
    "    Returns\n",
    "    -------\n",
    "    Coordinates in the Helioprojective Cartesian (HPC), which is observer-based:\n",
    "    \n",
    "    Tx :  angle relative to the plane containing the Sun-observer line \n",
    "        and the Sun’s rotation axis, \n",
    "        with positive values in the direction of the Sun’s west limb.\n",
    "        \n",
    "    Ty : angle relative to the Sun’s equatorial plane, \n",
    "        with positive values in the direction of the Sun’s north pole.\n",
    "\n",
    "    \"\"\"\n",
    "   \n",
    "    Tx=plsq_Tx[0][0]*pixel_x+plsq_Tx[0][1]*pixel_y+plsq_Tx[0][2]\n",
    "    Ty=plsq_Ty[0][0]*pixel_x+plsq_Ty[0][1]*pixel_y+plsq_Ty[0][2]\n",
    "\n",
    "    return Tx,Ty"
   ]
  },
  {
   "cell_type": "code",
   "execution_count": null,
   "id": "41d481ed-cb5b-45ef-8616-4b338f64304c",
   "metadata": {},
   "outputs": [],
   "source": []
  },
  {
   "cell_type": "code",
   "execution_count": 98,
   "id": "2545f5bb-2f0f-4e29-82b0-61ca928324ff",
   "metadata": {},
   "outputs": [
    {
     "data": {
      "text/plain": [
       "<function __main__.offaxis_angle_rad(pixel_x, pixel_y)>"
      ]
     },
     "execution_count": 98,
     "metadata": {},
     "output_type": "execute_result"
    }
   ],
   "source": [
    "offaxis_angle_rad"
   ]
  },
  {
   "cell_type": "code",
   "execution_count": 110,
   "id": "e2cb8b89-e089-4bea-b701-d6d9246200ec",
   "metadata": {},
   "outputs": [],
   "source": [
    "def a(b,f):\n",
    "    b+sum(f)\n"
   ]
  },
  {
   "cell_type": "code",
   "execution_count": 111,
   "id": "41bafdfc-7fb3-45a2-ae28-2b77bb07d7fa",
   "metadata": {},
   "outputs": [],
   "source": [
    "e=(3,5)\n",
    "a(1,*e)"
   ]
  },
  {
   "cell_type": "code",
   "execution_count": 112,
   "id": "e062e3b9-19b5-4118-a6a7-2c795a2f4d91",
   "metadata": {},
   "outputs": [
    {
     "data": {
      "text/plain": [
       "0.008726646259971648"
      ]
     },
     "execution_count": 112,
     "metadata": {},
     "output_type": "execute_result"
    }
   ],
   "source": [
    "math.pi/360"
   ]
  },
  {
   "cell_type": "code",
   "execution_count": null,
   "id": "8ad4a32c-21b0-4a44-9366-b26fcb9c1142",
   "metadata": {},
   "outputs": [],
   "source": []
  }
 ],
 "metadata": {
  "kernelspec": {
   "display_name": "Python 3 (ipykernel)",
   "language": "python",
   "name": "python3"
  },
  "language_info": {
   "codemirror_mode": {
    "name": "ipython",
    "version": 3
   },
   "file_extension": ".py",
   "mimetype": "text/x-python",
   "name": "python",
   "nbconvert_exporter": "python",
   "pygments_lexer": "ipython3",
   "version": "3.9.13"
  }
 },
 "nbformat": 4,
 "nbformat_minor": 5
}
