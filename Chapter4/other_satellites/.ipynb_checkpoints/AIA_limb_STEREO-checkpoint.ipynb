{
  "cells": [
    {
      "cell_type": "code",
      "execution_count": null,
      "metadata": {
        "collapsed": false
      },
      "outputs": [],
      "source": [
        "%matplotlib inline"
      ]
    },
    {
      "cell_type": "markdown",
      "metadata": {},
      "source": [
        "\n# Drawing the AIA limb on a STEREO EUVI image\n\nIn this example we use a STEREO-B and an SDO image to demonstrate how to\noverplot the limb as seen by AIA on an EUVI-B image. Then we overplot the AIA\ncoordinate grid on the STEREO image.\n"
      ]
    },
    {
      "cell_type": "code",
      "execution_count": null,
      "metadata": {
        "collapsed": false
      },
      "outputs": [],
      "source": [
        "import matplotlib.pyplot as plt\n\nimport astropy.units as u\nfrom astropy.coordinates import SkyCoord\n\nimport sunpy.coordinates.wcs_utils\nimport sunpy.map\nfrom sunpy.data.sample import AIA_193_JUN2012, STEREO_B_195_JUN2012"
      ]
    },
    {
      "cell_type": "markdown",
      "metadata": {},
      "source": [
        "Let's create a dictionary with the two maps, which we crop to full disk.\n\n"
      ]
    },
    {
      "cell_type": "code",
      "execution_count": null,
      "metadata": {
        "collapsed": false
      },
      "outputs": [],
      "source": [
        "maps = {m.detector: m.submap(SkyCoord([-1100, 1100], [-1100, 1100],\n                                      unit=u.arcsec, frame=m.coordinate_frame))\n        for m in sunpy.map.Map([AIA_193_JUN2012, STEREO_B_195_JUN2012])}\nmaps['AIA'].plot_settings['vmin'] = 0  # set the minimum plotted pixel value"
      ]
    },
    {
      "cell_type": "markdown",
      "metadata": {},
      "source": [
        "Now, let's plot both maps, and we draw the limb as seen by AIA onto the\nEUVI image. We remove the part of the limb that is hidden because it is on\nthe far side of the Sun from STEREO's point of view.\n\n"
      ]
    },
    {
      "cell_type": "code",
      "execution_count": null,
      "metadata": {
        "collapsed": false
      },
      "outputs": [],
      "source": [
        "fig = plt.figure(figsize=(10, 4))\nax1 = fig.add_subplot(121, projection=maps['AIA'])\nmaps['AIA'].plot(axes=ax1)\nmaps['AIA'].draw_limb(axes=ax1)\n\nax2 = fig.add_subplot(122, projection=maps['EUVI'])\nmaps['EUVI'].plot(axes=ax2)\nvisible, hidden = maps['AIA'].draw_limb(axes=ax2)\nhidden.remove()"
      ]
    },
    {
      "cell_type": "markdown",
      "metadata": {},
      "source": [
        "Let's plot the helioprojective coordinate grid as seen by SDO on the STEREO\nimage in a cropped view.  Note that only those grid lines that intersect the\nedge of the plot will have corresponding ticks and tick labels.\n\n"
      ]
    },
    {
      "cell_type": "code",
      "execution_count": null,
      "metadata": {
        "collapsed": false
      },
      "outputs": [],
      "source": [
        "fig = plt.figure()\nax = fig.add_subplot(projection=maps['EUVI'])\n\nmaps['EUVI'].plot(axes=ax)\n\n# Crop the view using pixel coordinates\nax.set_xlim(500, 1300)\nax.set_ylim(100, 900)\n\n# Shrink the plot slightly and move the title up to make room for new labels.\nax.set_position([0.1, 0.1, 0.8, 0.7])\nax.set_title(ax.get_title(), pad=45)\n\n# Change the default grid labels and line properties.\nstereo_x, stereo_y = ax.coords\nstereo_x.set_axislabel(\"Helioprojective Longitude (STEREO B) [arcsec]\")\nstereo_y.set_axislabel(\"Helioprojective Latitude (STEREO B) [arcsec]\")\nax.coords.grid(color='white', linewidth=1)\n\n# Add a new coordinate overlay in the SDO frame.\noverlay = ax.get_coords_overlay(maps['AIA'].coordinate_frame)\noverlay.grid()\n\n# Configure the grid:\nx, y = overlay\n\n# Wrap the longitude at 180 deg rather than the default 360.\nx.set_coord_type('longitude', 180.)\n\n# Set the tick spacing\nx.set_ticks(spacing=250*u.arcsec)\ny.set_ticks(spacing=250*u.arcsec)\n\n# Set the ticks to be on the top and left axes.\nx.set_ticks_position('tr')\ny.set_ticks_position('tr')\n\n# Change the defaults to arcseconds\nx.set_major_formatter('s.s')\ny.set_major_formatter('s.s')\n\n# Add axes labels\nx.set_axislabel(\"Helioprojective Longitude (SDO) [arcsec]\")\ny.set_axislabel(\"Helioprojective Latitude (SDO) [arcsec]\")\n\nplt.show()"
      ]
    }
  ],
  "metadata": {
    "kernelspec": {
      "display_name": "Python 3",
      "language": "python",
      "name": "python3"
    },
    "language_info": {
      "codemirror_mode": {
        "name": "ipython",
        "version": 3
      },
      "file_extension": ".py",
      "mimetype": "text/x-python",
      "name": "python",
      "nbconvert_exporter": "python",
      "pygments_lexer": "ipython3",
      "version": "3.10.10"
    }
  },
  "nbformat": 4,
  "nbformat_minor": 0
}