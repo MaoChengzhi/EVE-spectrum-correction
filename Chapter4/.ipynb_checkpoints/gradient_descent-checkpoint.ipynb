{
 "cells": [
  {
   "cell_type": "code",
   "execution_count": 1,
   "id": "5f00e0e2-2a42-44ad-9820-af435874aef5",
   "metadata": {
    "tags": []
   },
   "outputs": [],
   "source": [
    "import numpy as np\n",
    "from scipy.optimize import minimize\n",
    "import time\n",
    "\n",
    "from error_function import error_function"
   ]
  },
  {
   "cell_type": "code",
   "execution_count": null,
   "id": "7c22d780-5801-421b-b9c4-5f4f9fb2fbe9",
   "metadata": {
    "scrolled": true,
    "tags": []
   },
   "outputs": [],
   "source": [
    "# define initial values of a, b, c\n",
    "x0 = np.array([ 9e+02,  9.1e-01, -9e-03])\n",
    "#([886.81, 0.91002, 0])\n",
    "\n",
    "# define a callback function to track the optimization process\n",
    "def callback(x):\n",
    "    global num_evals\n",
    "    num_evals += 1\n",
    "    print(f\"Iteration {num_evals}: a,b,c = {x}\")\n",
    "\n",
    "num_evals = 0\n",
    "# minimize f using L-BFGS\n",
    "result = minimize(error_function, x0, callback=callback,options={'maxiter': 1000})\n",
    "\n",
    "# print the optimal values of a, b, c\n",
    "print(f\"Optimal values: {result.x}\")"
   ]
  },
  {
   "cell_type": "code",
   "execution_count": 5,
   "id": "5824f095-2b95-4cb8-9eb3-3e350c7d13b7",
   "metadata": {
    "tags": []
   },
   "outputs": [
    {
     "data": {
      "text/plain": [
       "      fun: 1.6490678816502262e-06\n",
       " hess_inv: array([[1, 0, 0],\n",
       "       [0, 1, 0],\n",
       "       [0, 0, 1]])\n",
       "      jac: array([-1.00983755e-09,  7.79864564e-08,  2.31767640e-06])\n",
       "  message: 'Optimization terminated successfully.'\n",
       "     nfev: 4\n",
       "      nit: 0\n",
       "     njev: 1\n",
       "   status: 0\n",
       "  success: True\n",
       "        x: array([ 8.86809998e+02,  9.10021019e-01, -9.01567106e-03])"
      ]
     },
     "execution_count": 5,
     "metadata": {},
     "output_type": "execute_result"
    }
   ],
   "source": [
    "result"
   ]
  },
  {
   "cell_type": "code",
   "execution_count": 6,
   "id": "128d01c5-477e-400f-b5f6-dc597845e90d",
   "metadata": {},
   "outputs": [],
   "source": [
    "# Optimal values: [ 8.86809998e+02  9.10021019e-01 -9.01567106e-03]"
   ]
  },
  {
   "cell_type": "code",
   "execution_count": null,
   "id": "be384f94",
   "metadata": {},
   "outputs": [],
   "source": []
  }
 ],
 "metadata": {
  "kernelspec": {
   "display_name": "py_begin_env",
   "language": "python",
   "name": "py_begin"
  },
  "language_info": {
   "codemirror_mode": {
    "name": "ipython",
    "version": 3
   },
   "file_extension": ".py",
   "mimetype": "text/x-python",
   "name": "python",
   "nbconvert_exporter": "python",
   "pygments_lexer": "ipython3",
   "version": "3.9.13"
  }
 },
 "nbformat": 4,
 "nbformat_minor": 5
}
