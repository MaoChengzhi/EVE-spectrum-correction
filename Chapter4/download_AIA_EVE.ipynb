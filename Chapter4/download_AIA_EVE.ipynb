{
 "cells": [
  {
   "cell_type": "code",
   "execution_count": 2,
   "id": "8fef4ec6-be8a-4043-8f3a-97edff6a5c2e",
   "metadata": {},
   "outputs": [],
   "source": [
    "from sunpy.net import Fido, attrs as a\n",
    "import astropy.units as u"
   ]
  },
  {
   "cell_type": "markdown",
   "id": "1a64f427-71ce-4b64-9fa6-1cccd6ee368c",
   "metadata": {
    "tags": []
   },
   "source": [
    "## download EVE 2011-02-03~ 2011-03-03"
   ]
  },
  {
   "cell_type": "code",
   "execution_count": 12,
   "id": "c658072b-259d-46f4-9ed7-7474ebc0ca43",
   "metadata": {},
   "outputs": [
    {
     "data": {
      "text/html": [
       "Results from 1 Provider:</br></br>1346 Results from the VSOClient:</br><div><i>VSOQueryResponseTable length=1346</i>\n",
       "<table id=\"table2077207924304\" class=\"table-striped table-bordered table-condensed\">\n",
       "<thead><tr><th>Start Time</th><th>End Time</th><th>Source</th><th>Instrument</th><th>Wavelength</th><th>Provider</th><th>Physobs</th><th>Extent Type</th><th>Size</th></tr></thead>\n",
       "<thead><tr><th></th><th></th><th></th><th></th><th>Angstrom</th><th></th><th></th><th></th><th>Mibyte</th></tr></thead>\n",
       "<thead><tr><th>Time</th><th>Time</th><th>str3</th><th>str3</th><th>float64[2]</th><th>str4</th><th>str10</th><th>str8</th><th>float64</th></tr></thead>\n",
       "<tr><td>2011-02-03 00:00:00.000</td><td>2011-02-03 01:00:00.000</td><td>SDO</td><td>EVE</td><td>93.0 .. 1033.0</td><td>LASP</td><td>irradiance</td><td>FULLDISK</td><td>-0.00098</td></tr>\n",
       "<tr><td>2011-02-03 00:00:00.000</td><td>2011-02-03 01:00:00.000</td><td>SDO</td><td>EVE</td><td>60.0 .. 1060.0</td><td>LASP</td><td>irradiance</td><td>FULLDISK</td><td>-0.00098</td></tr>\n",
       "<tr><td>2011-02-03 01:00:00.000</td><td>2011-02-03 02:00:00.000</td><td>SDO</td><td>EVE</td><td>93.0 .. 1033.0</td><td>LASP</td><td>irradiance</td><td>FULLDISK</td><td>-0.00098</td></tr>\n",
       "<tr><td>2011-02-03 01:00:00.000</td><td>2011-02-03 02:00:00.000</td><td>SDO</td><td>EVE</td><td>60.0 .. 1060.0</td><td>LASP</td><td>irradiance</td><td>FULLDISK</td><td>-0.00098</td></tr>\n",
       "<tr><td>2011-02-03 02:00:00.000</td><td>2011-02-03 03:00:00.000</td><td>SDO</td><td>EVE</td><td>93.0 .. 1033.0</td><td>LASP</td><td>irradiance</td><td>FULLDISK</td><td>-0.00098</td></tr>\n",
       "<tr><td>2011-02-03 02:00:00.000</td><td>2011-02-03 03:00:00.000</td><td>SDO</td><td>EVE</td><td>60.0 .. 1060.0</td><td>LASP</td><td>irradiance</td><td>FULLDISK</td><td>-0.00098</td></tr>\n",
       "<tr><td>2011-02-03 03:00:00.000</td><td>2011-02-03 04:00:00.000</td><td>SDO</td><td>EVE</td><td>93.0 .. 1033.0</td><td>LASP</td><td>irradiance</td><td>FULLDISK</td><td>-0.00098</td></tr>\n",
       "<tr><td>2011-02-03 03:00:00.000</td><td>2011-02-03 04:00:00.000</td><td>SDO</td><td>EVE</td><td>60.0 .. 1060.0</td><td>LASP</td><td>irradiance</td><td>FULLDISK</td><td>-0.00098</td></tr>\n",
       "<tr><td>2011-02-03 04:00:00.000</td><td>2011-02-03 05:00:00.000</td><td>SDO</td><td>EVE</td><td>93.0 .. 1033.0</td><td>LASP</td><td>irradiance</td><td>FULLDISK</td><td>-0.00098</td></tr>\n",
       "<tr><td>...</td><td>...</td><td>...</td><td>...</td><td>...</td><td>...</td><td>...</td><td>...</td><td>...</td></tr>\n",
       "<tr><td>2011-03-02 20:00:00.000</td><td>2011-03-02 21:00:00.000</td><td>SDO</td><td>EVE</td><td>93.0 .. 1033.0</td><td>LASP</td><td>irradiance</td><td>FULLDISK</td><td>-0.00098</td></tr>\n",
       "<tr><td>2011-03-02 20:00:00.000</td><td>2011-03-02 21:00:00.000</td><td>SDO</td><td>EVE</td><td>60.0 .. 1060.0</td><td>LASP</td><td>irradiance</td><td>FULLDISK</td><td>-0.00098</td></tr>\n",
       "<tr><td>2011-03-02 21:00:00.000</td><td>2011-03-02 22:00:00.000</td><td>SDO</td><td>EVE</td><td>93.0 .. 1033.0</td><td>LASP</td><td>irradiance</td><td>FULLDISK</td><td>-0.00098</td></tr>\n",
       "<tr><td>2011-03-02 21:00:00.000</td><td>2011-03-02 22:00:00.000</td><td>SDO</td><td>EVE</td><td>60.0 .. 1060.0</td><td>LASP</td><td>irradiance</td><td>FULLDISK</td><td>-0.00098</td></tr>\n",
       "<tr><td>2011-03-02 22:00:00.000</td><td>2011-03-02 23:00:00.000</td><td>SDO</td><td>EVE</td><td>93.0 .. 1033.0</td><td>LASP</td><td>irradiance</td><td>FULLDISK</td><td>-0.00098</td></tr>\n",
       "<tr><td>2011-03-02 22:00:00.000</td><td>2011-03-02 23:00:00.000</td><td>SDO</td><td>EVE</td><td>60.0 .. 1060.0</td><td>LASP</td><td>irradiance</td><td>FULLDISK</td><td>-0.00098</td></tr>\n",
       "<tr><td>2011-03-02 23:00:00.000</td><td>2011-03-03 00:00:00.000</td><td>SDO</td><td>EVE</td><td>93.0 .. 1033.0</td><td>LASP</td><td>irradiance</td><td>FULLDISK</td><td>-0.00098</td></tr>\n",
       "<tr><td>2011-03-02 23:00:00.000</td><td>2011-03-03 00:00:00.000</td><td>SDO</td><td>EVE</td><td>60.0 .. 1060.0</td><td>LASP</td><td>irradiance</td><td>FULLDISK</td><td>-0.00098</td></tr>\n",
       "<tr><td>2011-03-03 00:00:00.000</td><td>2011-03-03 01:00:00.000</td><td>SDO</td><td>EVE</td><td>93.0 .. 1033.0</td><td>LASP</td><td>irradiance</td><td>FULLDISK</td><td>-0.00098</td></tr>\n",
       "<tr><td>2011-03-03 00:00:00.000</td><td>2011-03-03 01:00:00.000</td><td>SDO</td><td>EVE</td><td>60.0 .. 1060.0</td><td>LASP</td><td>irradiance</td><td>FULLDISK</td><td>-0.00098</td></tr>\n",
       "</table></div></br>"
      ],
      "text/plain": [
       "<sunpy.net.fido_factory.UnifiedResponse object at 0x000001E3A3C426D0>\n",
       "Results from 1 Provider:\n",
       "\n",
       "1346 Results from the VSOClient:\n",
       "Source: http://vso.stanford.edu/cgi-bin/search\n",
       "\n",
       "       Start Time               End Time        Source ... Extent Type   Size  \n",
       "                                                       ...              Mibyte \n",
       "----------------------- ----------------------- ------ ... ----------- --------\n",
       "2011-02-03 00:00:00.000 2011-02-03 01:00:00.000    SDO ...    FULLDISK -0.00098\n",
       "2011-02-03 00:00:00.000 2011-02-03 01:00:00.000    SDO ...    FULLDISK -0.00098\n",
       "2011-02-03 01:00:00.000 2011-02-03 02:00:00.000    SDO ...    FULLDISK -0.00098\n",
       "2011-02-03 01:00:00.000 2011-02-03 02:00:00.000    SDO ...    FULLDISK -0.00098\n",
       "2011-02-03 02:00:00.000 2011-02-03 03:00:00.000    SDO ...    FULLDISK -0.00098\n",
       "2011-02-03 02:00:00.000 2011-02-03 03:00:00.000    SDO ...    FULLDISK -0.00098\n",
       "2011-02-03 03:00:00.000 2011-02-03 04:00:00.000    SDO ...    FULLDISK -0.00098\n",
       "2011-02-03 03:00:00.000 2011-02-03 04:00:00.000    SDO ...    FULLDISK -0.00098\n",
       "2011-02-03 04:00:00.000 2011-02-03 05:00:00.000    SDO ...    FULLDISK -0.00098\n",
       "2011-02-03 04:00:00.000 2011-02-03 05:00:00.000    SDO ...    FULLDISK -0.00098\n",
       "                    ...                     ...    ... ...         ...      ...\n",
       "2011-03-02 20:00:00.000 2011-03-02 21:00:00.000    SDO ...    FULLDISK -0.00098\n",
       "2011-03-02 20:00:00.000 2011-03-02 21:00:00.000    SDO ...    FULLDISK -0.00098\n",
       "2011-03-02 21:00:00.000 2011-03-02 22:00:00.000    SDO ...    FULLDISK -0.00098\n",
       "2011-03-02 21:00:00.000 2011-03-02 22:00:00.000    SDO ...    FULLDISK -0.00098\n",
       "2011-03-02 22:00:00.000 2011-03-02 23:00:00.000    SDO ...    FULLDISK -0.00098\n",
       "2011-03-02 22:00:00.000 2011-03-02 23:00:00.000    SDO ...    FULLDISK -0.00098\n",
       "2011-03-02 23:00:00.000 2011-03-03 00:00:00.000    SDO ...    FULLDISK -0.00098\n",
       "2011-03-02 23:00:00.000 2011-03-03 00:00:00.000    SDO ...    FULLDISK -0.00098\n",
       "2011-03-03 00:00:00.000 2011-03-03 01:00:00.000    SDO ...    FULLDISK -0.00098\n",
       "2011-03-03 00:00:00.000 2011-03-03 01:00:00.000    SDO ...    FULLDISK -0.00098\n",
       "Length = 1346 rows\n"
      ]
     },
     "execution_count": 12,
     "metadata": {},
     "output_type": "execute_result"
    }
   ],
   "source": [
    "obs_start = \"2011-02-03T00:00:00\"\n",
    "obs_end = \"2011-03-03T00:00:00\"\n",
    "obs_time = a.Time(obs_start, obs_end)\n",
    "\n",
    "unifresp = Fido.search(obs_time,a.Instrument.eve,a.Wavelength(304*u.angstrom),a.Level.two) \n",
    "unifresp"
   ]
  },
  {
   "cell_type": "code",
   "execution_count": 13,
   "id": "500d26ed-acab-432d-9a39-79343416215a",
   "metadata": {
    "collapsed": true,
    "jupyter": {
     "outputs_hidden": true
    },
    "tags": []
   },
   "outputs": [
    {
     "data": {
      "application/vnd.jupyter.widget-view+json": {
       "model_id": "8e3c6a75cd4149538d02875a20dc1cd5",
       "version_major": 2,
       "version_minor": 0
      },
      "text/plain": [
       "Files Downloaded:   0%|          | 0/1346 [00:00<?, ?file/s]"
      ]
     },
     "metadata": {},
     "output_type": "display_data"
    },
    {
     "data": {
      "application/vnd.jupyter.widget-view+json": {
       "model_id": "",
       "version_major": 2,
       "version_minor": 0
      },
      "text/plain": [
       "eve_l2_lines_2011034_01:   0%|          | 0.00/143k [00:00<?, ?B/s]"
      ]
     },
     "metadata": {},
     "output_type": "display_data"
    },
    {
     "data": {
      "application/vnd.jupyter.widget-view+json": {
       "model_id": "",
       "version_major": 2,
       "version_minor": 0
      },
      "text/plain": [
       "eve_l2_lines_2011034_02:   0%|          | 0.00/143k [00:00<?, ?B/s]"
      ]
     },
     "metadata": {},
     "output_type": "display_data"
    },
    {
     "data": {
      "application/vnd.jupyter.widget-view+json": {
       "model_id": "",
       "version_major": 2,
       "version_minor": 0
      },
      "text/plain": [
       "eve_l2_lines_2011034_04:   0%|          | 0.00/143k [00:00<?, ?B/s]"
      ]
     },
     "metadata": {},
     "output_type": "display_data"
    },
    {
     "data": {
      "application/vnd.jupyter.widget-view+json": {
       "model_id": "",
       "version_major": 2,
       "version_minor": 0
      },
      "text/plain": [
       "eve_l2_lines_2011034_03:   0%|          | 0.00/142k [00:00<?, ?B/s]"
      ]
     },
     "metadata": {},
     "output_type": "display_data"
    },
    {
     "data": {
      "application/vnd.jupyter.widget-view+json": {
       "model_id": "",
       "version_major": 2,
       "version_minor": 0
      },
      "text/plain": [
       "eve_l2_lines_2011034_00:   0%|          | 0.00/143k [00:00<?, ?B/s]"
      ]
     },
     "metadata": {},
     "output_type": "display_data"
    },
    {
     "data": {
      "application/vnd.jupyter.widget-view+json": {
       "model_id": "",
       "version_major": 2,
       "version_minor": 0
      },
      "text/plain": [
       "eve_l2_lines_2011034_06:   0%|          | 0.00/142k [00:00<?, ?B/s]"
      ]
     },
     "metadata": {},
     "output_type": "display_data"
    },
    {
     "data": {
      "application/vnd.jupyter.widget-view+json": {
       "model_id": "",
       "version_major": 2,
       "version_minor": 0
      },
      "text/plain": [
       "eve_l2_lines_2011034_05:   0%|          | 0.00/142k [00:00<?, ?B/s]"
      ]
     },
     "metadata": {},
     "output_type": "display_data"
    },
    {
     "data": {
      "application/vnd.jupyter.widget-view+json": {
       "model_id": "",
       "version_major": 2,
       "version_minor": 0
      },
      "text/plain": [
       "eve_l2_lines_2011034_07:   0%|          | 0.00/143k [00:00<?, ?B/s]"
      ]
     },
     "metadata": {},
     "output_type": "display_data"
    },
    {
     "data": {
      "application/vnd.jupyter.widget-view+json": {
       "model_id": "",
       "version_major": 2,
       "version_minor": 0
      },
      "text/plain": [
       "eve_l2_lines_2011034_08:   0%|          | 0.00/143k [00:00<?, ?B/s]"
      ]
     },
     "metadata": {},
     "output_type": "display_data"
    },
    {
     "data": {
      "application/vnd.jupyter.widget-view+json": {
       "model_id": "",
       "version_major": 2,
       "version_minor": 0
      },
      "text/plain": [
       "eve_l2_lines_2011034_09:   0%|          | 0.00/143k [00:00<?, ?B/s]"
      ]
     },
     "metadata": {},
     "output_type": "display_data"
    },
    {
     "data": {
      "application/vnd.jupyter.widget-view+json": {
       "model_id": "",
       "version_major": 2,
       "version_minor": 0
      },
      "text/plain": [
       "eve_l2_lines_2011034_10:   0%|          | 0.00/143k [00:00<?, ?B/s]"
      ]
     },
     "metadata": {},
     "output_type": "display_data"
    },
    {
     "data": {
      "application/vnd.jupyter.widget-view+json": {
       "model_id": "",
       "version_major": 2,
       "version_minor": 0
      },
      "text/plain": [
       "eve_l2_lines_2011034_11:   0%|          | 0.00/143k [00:00<?, ?B/s]"
      ]
     },
     "metadata": {},
     "output_type": "display_data"
    },
    {
     "data": {
      "application/vnd.jupyter.widget-view+json": {
       "model_id": "",
       "version_major": 2,
       "version_minor": 0
      },
      "text/plain": [
       "eve_l2_lines_2011034_12:   0%|          | 0.00/143k [00:00<?, ?B/s]"
      ]
     },
     "metadata": {},
     "output_type": "display_data"
    },
    {
     "data": {
      "application/vnd.jupyter.widget-view+json": {
       "model_id": "",
       "version_major": 2,
       "version_minor": 0
      },
      "text/plain": [
       "eve_l2_lines_2011034_13:   0%|          | 0.00/153k [00:00<?, ?B/s]"
      ]
     },
     "metadata": {},
     "output_type": "display_data"
    },
    {
     "data": {
      "application/vnd.jupyter.widget-view+json": {
       "model_id": "",
       "version_major": 2,
       "version_minor": 0
      },
      "text/plain": [
       "eve_l2_lines_2011034_14:   0%|          | 0.00/254k [00:00<?, ?B/s]"
      ]
     },
     "metadata": {},
     "output_type": "display_data"
    },
    {
     "data": {
      "application/vnd.jupyter.widget-view+json": {
       "model_id": "",
       "version_major": 2,
       "version_minor": 0
      },
      "text/plain": [
       "eve_l2_lines_2011034_15:   0%|          | 0.00/254k [00:00<?, ?B/s]"
      ]
     },
     "metadata": {},
     "output_type": "display_data"
    },
    {
     "data": {
      "application/vnd.jupyter.widget-view+json": {
       "model_id": "",
       "version_major": 2,
       "version_minor": 0
      },
      "text/plain": [
       "eve_l2_lines_2011034_16:   0%|          | 0.00/243k [00:00<?, ?B/s]"
      ]
     },
     "metadata": {},
     "output_type": "display_data"
    },
    {
     "data": {
      "application/vnd.jupyter.widget-view+json": {
       "model_id": "",
       "version_major": 2,
       "version_minor": 0
      },
      "text/plain": [
       "eve_l2_lines_2011034_17:   0%|          | 0.00/143k [00:00<?, ?B/s]"
      ]
     },
     "metadata": {},
     "output_type": "display_data"
    },
    {
     "data": {
      "application/vnd.jupyter.widget-view+json": {
       "model_id": "",
       "version_major": 2,
       "version_minor": 0
      },
      "text/plain": [
       "eve_l2_lines_2011034_18:   0%|          | 0.00/143k [00:00<?, ?B/s]"
      ]
     },
     "metadata": {},
     "output_type": "display_data"
    },
    {
     "data": {
      "application/vnd.jupyter.widget-view+json": {
       "model_id": "",
       "version_major": 2,
       "version_minor": 0
      },
      "text/plain": [
       "eve_l2_lines_2011034_19:   0%|          | 0.00/126k [00:00<?, ?B/s]"
      ]
     },
     "metadata": {},
     "output_type": "display_data"
    },
    {
     "data": {
      "application/vnd.jupyter.widget-view+json": {
       "model_id": "",
       "version_major": 2,
       "version_minor": 0
      },
      "text/plain": [
       "eve_l2_lines_2011034_20:   0%|          | 0.00/143k [00:00<?, ?B/s]"
      ]
     },
     "metadata": {},
     "output_type": "display_data"
    },
    {
     "data": {
      "application/vnd.jupyter.widget-view+json": {
       "model_id": "",
       "version_major": 2,
       "version_minor": 0
      },
      "text/plain": [
       "eve_l2_lines_2011034_21:   0%|          | 0.00/143k [00:00<?, ?B/s]"
      ]
     },
     "metadata": {},
     "output_type": "display_data"
    },
    {
     "data": {
      "application/vnd.jupyter.widget-view+json": {
       "model_id": "",
       "version_major": 2,
       "version_minor": 0
      },
      "text/plain": [
       "eve_l2_lines_2011034_22:   0%|          | 0.00/143k [00:00<?, ?B/s]"
      ]
     },
     "metadata": {},
     "output_type": "display_data"
    },
    {
     "data": {
      "application/vnd.jupyter.widget-view+json": {
       "model_id": "",
       "version_major": 2,
       "version_minor": 0
      },
      "text/plain": [
       "eve_l2_lines_2011034_23:   0%|          | 0.00/143k [00:00<?, ?B/s]"
      ]
     },
     "metadata": {},
     "output_type": "display_data"
    },
    {
     "data": {
      "application/vnd.jupyter.widget-view+json": {
       "model_id": "",
       "version_major": 2,
       "version_minor": 0
      },
      "text/plain": [
       "eve_l2_lines_2011035_00:   0%|          | 0.00/143k [00:00<?, ?B/s]"
      ]
     },
     "metadata": {},
     "output_type": "display_data"
    },
    {
     "data": {
      "application/vnd.jupyter.widget-view+json": {
       "model_id": "",
       "version_major": 2,
       "version_minor": 0
      },
      "text/plain": [
       "eve_l2_lines_2011035_01:   0%|          | 0.00/143k [00:00<?, ?B/s]"
      ]
     },
     "metadata": {},
     "output_type": "display_data"
    },
    {
     "data": {
      "application/vnd.jupyter.widget-view+json": {
       "model_id": "",
       "version_major": 2,
       "version_minor": 0
      },
      "text/plain": [
       "eve_l2_lines_2011035_02:   0%|          | 0.00/143k [00:00<?, ?B/s]"
      ]
     },
     "metadata": {},
     "output_type": "display_data"
    },
    {
     "data": {
      "application/vnd.jupyter.widget-view+json": {
       "model_id": "",
       "version_major": 2,
       "version_minor": 0
      },
      "text/plain": [
       "eve_l2_lines_2011035_03:   0%|          | 0.00/142k [00:00<?, ?B/s]"
      ]
     },
     "metadata": {},
     "output_type": "display_data"
    },
    {
     "data": {
      "application/vnd.jupyter.widget-view+json": {
       "model_id": "",
       "version_major": 2,
       "version_minor": 0
      },
      "text/plain": [
       "eve_l2_lines_2011035_04:   0%|          | 0.00/143k [00:00<?, ?B/s]"
      ]
     },
     "metadata": {},
     "output_type": "display_data"
    },
    {
     "data": {
      "application/vnd.jupyter.widget-view+json": {
       "model_id": "",
       "version_major": 2,
       "version_minor": 0
      },
      "text/plain": [
       "eve_l2_lines_2011035_05:   0%|          | 0.00/142k [00:00<?, ?B/s]"
      ]
     },
     "metadata": {},
     "output_type": "display_data"
    },
    {
     "data": {
      "application/vnd.jupyter.widget-view+json": {
       "model_id": "",
       "version_major": 2,
       "version_minor": 0
      },
      "text/plain": [
       "eve_l2_lines_2011035_06:   0%|          | 0.00/142k [00:00<?, ?B/s]"
      ]
     },
     "metadata": {},
     "output_type": "display_data"
    },
    {
     "data": {
      "application/vnd.jupyter.widget-view+json": {
       "model_id": "",
       "version_major": 2,
       "version_minor": 0
      },
      "text/plain": [
       "eve_l2_lines_2011035_07:   0%|          | 0.00/143k [00:00<?, ?B/s]"
      ]
     },
     "metadata": {},
     "output_type": "display_data"
    },
    {
     "data": {
      "application/vnd.jupyter.widget-view+json": {
       "model_id": "",
       "version_major": 2,
       "version_minor": 0
      },
      "text/plain": [
       "eve_l2_lines_2011035_08:   0%|          | 0.00/143k [00:00<?, ?B/s]"
      ]
     },
     "metadata": {},
     "output_type": "display_data"
    },
    {
     "data": {
      "application/vnd.jupyter.widget-view+json": {
       "model_id": "",
       "version_major": 2,
       "version_minor": 0
      },
      "text/plain": [
       "eve_l2_lines_2011035_09:   0%|          | 0.00/143k [00:00<?, ?B/s]"
      ]
     },
     "metadata": {},
     "output_type": "display_data"
    },
    {
     "data": {
      "application/vnd.jupyter.widget-view+json": {
       "model_id": "",
       "version_major": 2,
       "version_minor": 0
      },
      "text/plain": [
       "eve_l2_lines_2011035_10:   0%|          | 0.00/143k [00:00<?, ?B/s]"
      ]
     },
     "metadata": {},
     "output_type": "display_data"
    },
    {
     "data": {
      "application/vnd.jupyter.widget-view+json": {
       "model_id": "",
       "version_major": 2,
       "version_minor": 0
      },
      "text/plain": [
       "eve_l2_lines_2011035_11:   0%|          | 0.00/143k [00:00<?, ?B/s]"
      ]
     },
     "metadata": {},
     "output_type": "display_data"
    },
    {
     "data": {
      "application/vnd.jupyter.widget-view+json": {
       "model_id": "",
       "version_major": 2,
       "version_minor": 0
      },
      "text/plain": [
       "eve_l2_lines_2011035_12:   0%|          | 0.00/143k [00:00<?, ?B/s]"
      ]
     },
     "metadata": {},
     "output_type": "display_data"
    },
    {
     "data": {
      "application/vnd.jupyter.widget-view+json": {
       "model_id": "",
       "version_major": 2,
       "version_minor": 0
      },
      "text/plain": [
       "eve_l2_lines_2011035_13:   0%|          | 0.00/153k [00:00<?, ?B/s]"
      ]
     },
     "metadata": {},
     "output_type": "display_data"
    },
    {
     "data": {
      "application/vnd.jupyter.widget-view+json": {
       "model_id": "",
       "version_major": 2,
       "version_minor": 0
      },
      "text/plain": [
       "eve_l2_lines_2011035_14:   0%|          | 0.00/254k [00:00<?, ?B/s]"
      ]
     },
     "metadata": {},
     "output_type": "display_data"
    },
    {
     "data": {
      "application/vnd.jupyter.widget-view+json": {
       "model_id": "",
       "version_major": 2,
       "version_minor": 0
      },
      "text/plain": [
       "eve_l2_lines_2011035_15:   0%|          | 0.00/254k [00:00<?, ?B/s]"
      ]
     },
     "metadata": {},
     "output_type": "display_data"
    },
    {
     "data": {
      "application/vnd.jupyter.widget-view+json": {
       "model_id": "",
       "version_major": 2,
       "version_minor": 0
      },
      "text/plain": [
       "eve_l2_lines_2011035_16:   0%|          | 0.00/243k [00:00<?, ?B/s]"
      ]
     },
     "metadata": {},
     "output_type": "display_data"
    },
    {
     "data": {
      "application/vnd.jupyter.widget-view+json": {
       "model_id": "",
       "version_major": 2,
       "version_minor": 0
      },
      "text/plain": [
       "eve_l2_lines_2011035_17:   0%|          | 0.00/143k [00:00<?, ?B/s]"
      ]
     },
     "metadata": {},
     "output_type": "display_data"
    },
    {
     "data": {
      "application/vnd.jupyter.widget-view+json": {
       "model_id": "",
       "version_major": 2,
       "version_minor": 0
      },
      "text/plain": [
       "eve_l2_lines_2011035_18:   0%|          | 0.00/143k [00:00<?, ?B/s]"
      ]
     },
     "metadata": {},
     "output_type": "display_data"
    },
    {
     "data": {
      "application/vnd.jupyter.widget-view+json": {
       "model_id": "",
       "version_major": 2,
       "version_minor": 0
      },
      "text/plain": [
       "eve_l2_lines_2011035_19:   0%|          | 0.00/143k [00:00<?, ?B/s]"
      ]
     },
     "metadata": {},
     "output_type": "display_data"
    },
    {
     "data": {
      "application/vnd.jupyter.widget-view+json": {
       "model_id": "",
       "version_major": 2,
       "version_minor": 0
      },
      "text/plain": [
       "eve_l2_lines_2011035_20:   0%|          | 0.00/143k [00:00<?, ?B/s]"
      ]
     },
     "metadata": {},
     "output_type": "display_data"
    },
    {
     "data": {
      "application/vnd.jupyter.widget-view+json": {
       "model_id": "",
       "version_major": 2,
       "version_minor": 0
      },
      "text/plain": [
       "eve_l2_lines_2011035_21:   0%|          | 0.00/127k [00:00<?, ?B/s]"
      ]
     },
     "metadata": {},
     "output_type": "display_data"
    },
    {
     "data": {
      "application/vnd.jupyter.widget-view+json": {
       "model_id": "",
       "version_major": 2,
       "version_minor": 0
      },
      "text/plain": [
       "eve_l2_lines_2011035_22:   0%|          | 0.00/143k [00:00<?, ?B/s]"
      ]
     },
     "metadata": {},
     "output_type": "display_data"
    },
    {
     "data": {
      "application/vnd.jupyter.widget-view+json": {
       "model_id": "",
       "version_major": 2,
       "version_minor": 0
      },
      "text/plain": [
       "eve_l2_lines_2011035_23:   0%|          | 0.00/143k [00:00<?, ?B/s]"
      ]
     },
     "metadata": {},
     "output_type": "display_data"
    },
    {
     "data": {
      "application/vnd.jupyter.widget-view+json": {
       "model_id": "",
       "version_major": 2,
       "version_minor": 0
      },
      "text/plain": [
       "eve_l2_lines_2011036_00:   0%|          | 0.00/143k [00:00<?, ?B/s]"
      ]
     },
     "metadata": {},
     "output_type": "display_data"
    },
    {
     "data": {
      "application/vnd.jupyter.widget-view+json": {
       "model_id": "6cda7d2373fd46f692f3bf66ea7c9342",
       "version_major": 2,
       "version_minor": 0
      },
      "text/plain": [
       "eve_l2_lines_2011036_01:   0%|          | 0.00/143k [00:00<?, ?B/s]"
      ]
     },
     "metadata": {},
     "output_type": "display_data"
    },
    {
     "data": {
      "application/vnd.jupyter.widget-view+json": {
       "model_id": "b12f8c84edac488dbfe231a1444dd614",
       "version_major": 2,
       "version_minor": 0
      },
      "text/plain": [
       "eve_l2_lines_2011036_02:   0%|          | 0.00/143k [00:00<?, ?B/s]"
      ]
     },
     "metadata": {},
     "output_type": "display_data"
    },
    {
     "data": {
      "application/vnd.jupyter.widget-view+json": {
       "model_id": "5bf5d27992e341a0bec162028a73082b",
       "version_major": 2,
       "version_minor": 0
      },
      "text/plain": [
       "eve_l2_lines_2011036_03:   0%|          | 0.00/142k [00:00<?, ?B/s]"
      ]
     },
     "metadata": {},
     "output_type": "display_data"
    },
    {
     "data": {
      "application/vnd.jupyter.widget-view+json": {
       "model_id": "4ed048e6764345c8bf1699d51d0c033b",
       "version_major": 2,
       "version_minor": 0
      },
      "text/plain": [
       "eve_l2_lines_2011036_04:   0%|          | 0.00/143k [00:00<?, ?B/s]"
      ]
     },
     "metadata": {},
     "output_type": "display_data"
    },
    {
     "data": {
      "application/vnd.jupyter.widget-view+json": {
       "model_id": "46a0e03c0bd84fdab04cd6029e12e870",
       "version_major": 2,
       "version_minor": 0
      },
      "text/plain": [
       "eve_l2_lines_2011036_05:   0%|          | 0.00/142k [00:00<?, ?B/s]"
      ]
     },
     "metadata": {},
     "output_type": "display_data"
    },
    {
     "data": {
      "application/vnd.jupyter.widget-view+json": {
       "model_id": "fbb1f3bbbd544d6cb30df1f72ab5d4dc",
       "version_major": 2,
       "version_minor": 0
      },
      "text/plain": [
       "eve_l2_lines_2011036_06:   0%|          | 0.00/143k [00:00<?, ?B/s]"
      ]
     },
     "metadata": {},
     "output_type": "display_data"
    },
    {
     "data": {
      "application/vnd.jupyter.widget-view+json": {
       "model_id": "60b33e9814d54e18976ab063e4651593",
       "version_major": 2,
       "version_minor": 0
      },
      "text/plain": [
       "eve_l2_lines_2011036_07:   0%|          | 0.00/143k [00:00<?, ?B/s]"
      ]
     },
     "metadata": {},
     "output_type": "display_data"
    },
    {
     "data": {
      "application/vnd.jupyter.widget-view+json": {
       "model_id": "6652319900a64af1aba362f1d9cdc06e",
       "version_major": 2,
       "version_minor": 0
      },
      "text/plain": [
       "eve_l2_lines_2011036_08:   0%|          | 0.00/143k [00:00<?, ?B/s]"
      ]
     },
     "metadata": {},
     "output_type": "display_data"
    },
    {
     "data": {
      "application/vnd.jupyter.widget-view+json": {
       "model_id": "cc92bb6cb5e14271a33abbb067cad417",
       "version_major": 2,
       "version_minor": 0
      },
      "text/plain": [
       "eve_l2_lines_2011036_09:   0%|          | 0.00/143k [00:00<?, ?B/s]"
      ]
     },
     "metadata": {},
     "output_type": "display_data"
    },
    {
     "data": {
      "application/vnd.jupyter.widget-view+json": {
       "model_id": "53221cc3520d4fe18eae546c7670c097",
       "version_major": 2,
       "version_minor": 0
      },
      "text/plain": [
       "eve_l2_lines_2011036_10:   0%|          | 0.00/143k [00:00<?, ?B/s]"
      ]
     },
     "metadata": {},
     "output_type": "display_data"
    },
    {
     "data": {
      "application/vnd.jupyter.widget-view+json": {
       "model_id": "f41bb29522a04f3893f49f83f2968728",
       "version_major": 2,
       "version_minor": 0
      },
      "text/plain": [
       "eve_l2_lines_2011036_11:   0%|          | 0.00/143k [00:00<?, ?B/s]"
      ]
     },
     "metadata": {},
     "output_type": "display_data"
    },
    {
     "data": {
      "application/vnd.jupyter.widget-view+json": {
       "model_id": "acd8ff0997df4f16bdcfe1d5536f2b45",
       "version_major": 2,
       "version_minor": 0
      },
      "text/plain": [
       "eve_l2_lines_2011036_12:   0%|          | 0.00/143k [00:00<?, ?B/s]"
      ]
     },
     "metadata": {},
     "output_type": "display_data"
    },
    {
     "data": {
      "application/vnd.jupyter.widget-view+json": {
       "model_id": "31b966dbc5304c0c988d388c4ee5e80e",
       "version_major": 2,
       "version_minor": 0
      },
      "text/plain": [
       "eve_l2_lines_2011036_13:   0%|          | 0.00/153k [00:00<?, ?B/s]"
      ]
     },
     "metadata": {},
     "output_type": "display_data"
    },
    {
     "data": {
      "application/vnd.jupyter.widget-view+json": {
       "model_id": "4eba03aea5a34898ba3a0757c81b3136",
       "version_major": 2,
       "version_minor": 0
      },
      "text/plain": [
       "eve_l2_lines_2011036_14:   0%|          | 0.00/254k [00:00<?, ?B/s]"
      ]
     },
     "metadata": {},
     "output_type": "display_data"
    },
    {
     "data": {
      "application/vnd.jupyter.widget-view+json": {
       "model_id": "f1a6602fa9e34525a07d375fe8653d89",
       "version_major": 2,
       "version_minor": 0
      },
      "text/plain": [
       "eve_l2_lines_2011036_15:   0%|          | 0.00/254k [00:00<?, ?B/s]"
      ]
     },
     "metadata": {},
     "output_type": "display_data"
    },
    {
     "data": {
      "application/vnd.jupyter.widget-view+json": {
       "model_id": "7fe5658374404949b065e82abf9326ab",
       "version_major": 2,
       "version_minor": 0
      },
      "text/plain": [
       "eve_l2_lines_2011036_16:   0%|          | 0.00/244k [00:00<?, ?B/s]"
      ]
     },
     "metadata": {},
     "output_type": "display_data"
    },
    {
     "data": {
      "application/vnd.jupyter.widget-view+json": {
       "model_id": "ee564a7d081d4f8a8030950aea749c84",
       "version_major": 2,
       "version_minor": 0
      },
      "text/plain": [
       "eve_l2_lines_2011036_17:   0%|          | 0.00/143k [00:00<?, ?B/s]"
      ]
     },
     "metadata": {},
     "output_type": "display_data"
    },
    {
     "data": {
      "application/vnd.jupyter.widget-view+json": {
       "model_id": "4930b1a1c99444ec965b6e573cb06d4d",
       "version_major": 2,
       "version_minor": 0
      },
      "text/plain": [
       "eve_l2_lines_2011036_18:   0%|          | 0.00/143k [00:00<?, ?B/s]"
      ]
     },
     "metadata": {},
     "output_type": "display_data"
    },
    {
     "data": {
      "application/vnd.jupyter.widget-view+json": {
       "model_id": "3aa10c0b5d3b4c4dab62449769f70917",
       "version_major": 2,
       "version_minor": 0
      },
      "text/plain": [
       "eve_l2_lines_2011036_19:   0%|          | 0.00/143k [00:00<?, ?B/s]"
      ]
     },
     "metadata": {},
     "output_type": "display_data"
    },
    {
     "data": {
      "application/vnd.jupyter.widget-view+json": {
       "model_id": "d21c07d6e00144d883dc0dbefb1ae40f",
       "version_major": 2,
       "version_minor": 0
      },
      "text/plain": [
       "eve_l2_lines_2011036_20:   0%|          | 0.00/143k [00:00<?, ?B/s]"
      ]
     },
     "metadata": {},
     "output_type": "display_data"
    },
    {
     "data": {
      "application/vnd.jupyter.widget-view+json": {
       "model_id": "9d563f47b5b14829b276f57ff8370464",
       "version_major": 2,
       "version_minor": 0
      },
      "text/plain": [
       "eve_l2_lines_2011036_21:   0%|          | 0.00/143k [00:00<?, ?B/s]"
      ]
     },
     "metadata": {},
     "output_type": "display_data"
    },
    {
     "data": {
      "application/vnd.jupyter.widget-view+json": {
       "model_id": "c565a32746974d1e83ad524721bc6889",
       "version_major": 2,
       "version_minor": 0
      },
      "text/plain": [
       "eve_l2_lines_2011036_22:   0%|          | 0.00/143k [00:00<?, ?B/s]"
      ]
     },
     "metadata": {},
     "output_type": "display_data"
    },
    {
     "data": {
      "application/vnd.jupyter.widget-view+json": {
       "model_id": "5d6d80cbab63494987cb6c721da28905",
       "version_major": 2,
       "version_minor": 0
      },
      "text/plain": [
       "eve_l2_lines_2011036_23:   0%|          | 0.00/127k [00:00<?, ?B/s]"
      ]
     },
     "metadata": {},
     "output_type": "display_data"
    },
    {
     "data": {
      "application/vnd.jupyter.widget-view+json": {
       "model_id": "5b364fd1ee1d43758c0a05f006f277ac",
       "version_major": 2,
       "version_minor": 0
      },
      "text/plain": [
       "eve_l2_lines_2011037_00:   0%|          | 0.00/143k [00:00<?, ?B/s]"
      ]
     },
     "metadata": {},
     "output_type": "display_data"
    },
    {
     "data": {
      "application/vnd.jupyter.widget-view+json": {
       "model_id": "a566754deb7142349a7968e5eea690e9",
       "version_major": 2,
       "version_minor": 0
      },
      "text/plain": [
       "eve_l2_lines_2011037_01:   0%|          | 0.00/143k [00:00<?, ?B/s]"
      ]
     },
     "metadata": {},
     "output_type": "display_data"
    },
    {
     "data": {
      "application/vnd.jupyter.widget-view+json": {
       "model_id": "86a06a4c4131453da28f150cdcbc75c7",
       "version_major": 2,
       "version_minor": 0
      },
      "text/plain": [
       "eve_l2_lines_2011037_02:   0%|          | 0.00/143k [00:00<?, ?B/s]"
      ]
     },
     "metadata": {},
     "output_type": "display_data"
    },
    {
     "data": {
      "application/vnd.jupyter.widget-view+json": {
       "model_id": "f95da7cacc8f41c3a2600d40d3251863",
       "version_major": 2,
       "version_minor": 0
      },
      "text/plain": [
       "eve_l2_lines_2011037_03:   0%|          | 0.00/143k [00:00<?, ?B/s]"
      ]
     },
     "metadata": {},
     "output_type": "display_data"
    },
    {
     "data": {
      "application/vnd.jupyter.widget-view+json": {
       "model_id": "fd7bb0ec57b540d2ad99a7100e29b9bf",
       "version_major": 2,
       "version_minor": 0
      },
      "text/plain": [
       "eve_l2_lines_2011037_04:   0%|          | 0.00/143k [00:00<?, ?B/s]"
      ]
     },
     "metadata": {},
     "output_type": "display_data"
    },
    {
     "data": {
      "application/vnd.jupyter.widget-view+json": {
       "model_id": "ef268173de2d4808b54946da59ade37d",
       "version_major": 2,
       "version_minor": 0
      },
      "text/plain": [
       "eve_l2_lines_2011037_05:   0%|          | 0.00/143k [00:00<?, ?B/s]"
      ]
     },
     "metadata": {},
     "output_type": "display_data"
    },
    {
     "data": {
      "application/vnd.jupyter.widget-view+json": {
       "model_id": "2bf29d3265004215bffa30b3dc6765c1",
       "version_major": 2,
       "version_minor": 0
      },
      "text/plain": [
       "eve_l2_lines_2011037_06:   0%|          | 0.00/143k [00:00<?, ?B/s]"
      ]
     },
     "metadata": {},
     "output_type": "display_data"
    },
    {
     "data": {
      "application/vnd.jupyter.widget-view+json": {
       "model_id": "0d2b1fc8cf924e8fa7209278ef997df8",
       "version_major": 2,
       "version_minor": 0
      },
      "text/plain": [
       "eve_l2_lines_2011037_07:   0%|          | 0.00/143k [00:00<?, ?B/s]"
      ]
     },
     "metadata": {},
     "output_type": "display_data"
    },
    {
     "data": {
      "application/vnd.jupyter.widget-view+json": {
       "model_id": "66f930d3dc84400aaef2b728342c6eaa",
       "version_major": 2,
       "version_minor": 0
      },
      "text/plain": [
       "eve_l2_lines_2011037_08:   0%|          | 0.00/143k [00:00<?, ?B/s]"
      ]
     },
     "metadata": {},
     "output_type": "display_data"
    },
    {
     "data": {
      "application/vnd.jupyter.widget-view+json": {
       "model_id": "2d251919595f413bb24621a53315c590",
       "version_major": 2,
       "version_minor": 0
      },
      "text/plain": [
       "eve_l2_lines_2011037_09:   0%|          | 0.00/144k [00:00<?, ?B/s]"
      ]
     },
     "metadata": {},
     "output_type": "display_data"
    },
    {
     "data": {
      "application/vnd.jupyter.widget-view+json": {
       "model_id": "a2c74f0ba5bd4e6f950b157652bfc0e7",
       "version_major": 2,
       "version_minor": 0
      },
      "text/plain": [
       "eve_l2_lines_2011037_10:   0%|          | 0.00/144k [00:00<?, ?B/s]"
      ]
     },
     "metadata": {},
     "output_type": "display_data"
    },
    {
     "data": {
      "application/vnd.jupyter.widget-view+json": {
       "model_id": "b690d82c7d024dac8e022d516301ce56",
       "version_major": 2,
       "version_minor": 0
      },
      "text/plain": [
       "eve_l2_lines_2011037_11:   0%|          | 0.00/143k [00:00<?, ?B/s]"
      ]
     },
     "metadata": {},
     "output_type": "display_data"
    },
    {
     "data": {
      "application/vnd.jupyter.widget-view+json": {
       "model_id": "ac00b9db5b33473581359907b33c5277",
       "version_major": 2,
       "version_minor": 0
      },
      "text/plain": [
       "eve_l2_lines_2011037_12:   0%|          | 0.00/143k [00:00<?, ?B/s]"
      ]
     },
     "metadata": {},
     "output_type": "display_data"
    },
    {
     "data": {
      "application/vnd.jupyter.widget-view+json": {
       "model_id": "b531ed36e9194b4f9a4e77c5da4c4395",
       "version_major": 2,
       "version_minor": 0
      },
      "text/plain": [
       "eve_l2_lines_2011037_13:   0%|          | 0.00/117k [00:00<?, ?B/s]"
      ]
     },
     "metadata": {},
     "output_type": "display_data"
    },
    {
     "data": {
      "application/vnd.jupyter.widget-view+json": {
       "model_id": "63056d987381492d956acb5ea41231fe",
       "version_major": 2,
       "version_minor": 0
      },
      "text/plain": [
       "eve_l2_lines_2011037_14:   0%|          | 0.00/254k [00:00<?, ?B/s]"
      ]
     },
     "metadata": {},
     "output_type": "display_data"
    },
    {
     "data": {
      "application/vnd.jupyter.widget-view+json": {
       "model_id": "592611dd2ff44d6ab10e19344f4263d8",
       "version_major": 2,
       "version_minor": 0
      },
      "text/plain": [
       "eve_l2_lines_2011037_15:   0%|          | 0.00/254k [00:00<?, ?B/s]"
      ]
     },
     "metadata": {},
     "output_type": "display_data"
    },
    {
     "data": {
      "application/vnd.jupyter.widget-view+json": {
       "model_id": "595eb83cb5fb4f62b76724e6cb900dd1",
       "version_major": 2,
       "version_minor": 0
      },
      "text/plain": [
       "eve_l2_lines_2011037_16:   0%|          | 0.00/244k [00:00<?, ?B/s]"
      ]
     },
     "metadata": {},
     "output_type": "display_data"
    },
    {
     "data": {
      "application/vnd.jupyter.widget-view+json": {
       "model_id": "12299033c5a54238b6e62b3c1d968a5a",
       "version_major": 2,
       "version_minor": 0
      },
      "text/plain": [
       "eve_l2_lines_2011037_17:   0%|          | 0.00/143k [00:00<?, ?B/s]"
      ]
     },
     "metadata": {},
     "output_type": "display_data"
    },
    {
     "data": {
      "application/vnd.jupyter.widget-view+json": {
       "model_id": "a23734877975447db1e3ce60575d4325",
       "version_major": 2,
       "version_minor": 0
      },
      "text/plain": [
       "eve_l2_lines_2011037_18:   0%|          | 0.00/143k [00:00<?, ?B/s]"
      ]
     },
     "metadata": {},
     "output_type": "display_data"
    },
    {
     "data": {
      "application/vnd.jupyter.widget-view+json": {
       "model_id": "34acd6b6ac9945a099c9c7eaec128d13",
       "version_major": 2,
       "version_minor": 0
      },
      "text/plain": [
       "eve_l2_lines_2011037_19:   0%|          | 0.00/143k [00:00<?, ?B/s]"
      ]
     },
     "metadata": {},
     "output_type": "display_data"
    },
    {
     "data": {
      "application/vnd.jupyter.widget-view+json": {
       "model_id": "c444ffa88c35414c8ef09b697101e5d1",
       "version_major": 2,
       "version_minor": 0
      },
      "text/plain": [
       "eve_l2_lines_2011037_20:   0%|          | 0.00/143k [00:00<?, ?B/s]"
      ]
     },
     "metadata": {},
     "output_type": "display_data"
    },
    {
     "data": {
      "application/vnd.jupyter.widget-view+json": {
       "model_id": "51af6804d11242578507bf1ccbe70697",
       "version_major": 2,
       "version_minor": 0
      },
      "text/plain": [
       "eve_l2_lines_2011037_21:   0%|          | 0.00/143k [00:00<?, ?B/s]"
      ]
     },
     "metadata": {},
     "output_type": "display_data"
    },
    {
     "data": {
      "application/vnd.jupyter.widget-view+json": {
       "model_id": "910f6bfbd91f4cb8a1cfaa93d1ade86f",
       "version_major": 2,
       "version_minor": 0
      },
      "text/plain": [
       "eve_l2_lines_2011037_22:   0%|          | 0.00/143k [00:00<?, ?B/s]"
      ]
     },
     "metadata": {},
     "output_type": "display_data"
    },
    {
     "data": {
      "application/vnd.jupyter.widget-view+json": {
       "model_id": "3d16ef285561481b90dd24867da8a5b1",
       "version_major": 2,
       "version_minor": 0
      },
      "text/plain": [
       "eve_l2_lines_2011037_23:   0%|          | 0.00/143k [00:00<?, ?B/s]"
      ]
     },
     "metadata": {},
     "output_type": "display_data"
    },
    {
     "data": {
      "application/vnd.jupyter.widget-view+json": {
       "model_id": "0b1f406b317449fbaabdb980404d9c9c",
       "version_major": 2,
       "version_minor": 0
      },
      "text/plain": [
       "eve_l2_lines_2011038_00:   0%|          | 0.00/143k [00:00<?, ?B/s]"
      ]
     },
     "metadata": {},
     "output_type": "display_data"
    },
    {
     "data": {
      "application/vnd.jupyter.widget-view+json": {
       "model_id": "235e1821475f4d8fb4e4094bafef1f1f",
       "version_major": 2,
       "version_minor": 0
      },
      "text/plain": [
       "eve_l2_lines_2011038_01:   0%|          | 0.00/127k [00:00<?, ?B/s]"
      ]
     },
     "metadata": {},
     "output_type": "display_data"
    },
    {
     "data": {
      "application/vnd.jupyter.widget-view+json": {
       "model_id": "0d44b176174c4931a15f49e9bc275ab4",
       "version_major": 2,
       "version_minor": 0
      },
      "text/plain": [
       "eve_l2_lines_2011038_02:   0%|          | 0.00/143k [00:00<?, ?B/s]"
      ]
     },
     "metadata": {},
     "output_type": "display_data"
    },
    {
     "data": {
      "application/vnd.jupyter.widget-view+json": {
       "model_id": "03b3c2bb9a1444aab0d4ce817de9099c",
       "version_major": 2,
       "version_minor": 0
      },
      "text/plain": [
       "eve_l2_lines_2011038_03:   0%|          | 0.00/143k [00:00<?, ?B/s]"
      ]
     },
     "metadata": {},
     "output_type": "display_data"
    },
    {
     "data": {
      "application/vnd.jupyter.widget-view+json": {
       "model_id": "5d15124d1c294bf385a768df48e15a49",
       "version_major": 2,
       "version_minor": 0
      },
      "text/plain": [
       "eve_l2_lines_2011038_04:   0%|          | 0.00/143k [00:00<?, ?B/s]"
      ]
     },
     "metadata": {},
     "output_type": "display_data"
    },
    {
     "data": {
      "application/vnd.jupyter.widget-view+json": {
       "model_id": "ee89d547b7a4471b8efecd6a7d3b7e31",
       "version_major": 2,
       "version_minor": 0
      },
      "text/plain": [
       "eve_l2_lines_2011038_05:   0%|          | 0.00/142k [00:00<?, ?B/s]"
      ]
     },
     "metadata": {},
     "output_type": "display_data"
    },
    {
     "data": {
      "application/vnd.jupyter.widget-view+json": {
       "model_id": "ebf33e201afc4b7e81bb7bfc6db6f918",
       "version_major": 2,
       "version_minor": 0
      },
      "text/plain": [
       "eve_l2_lines_2011038_06:   0%|          | 0.00/143k [00:00<?, ?B/s]"
      ]
     },
     "metadata": {},
     "output_type": "display_data"
    },
    {
     "data": {
      "application/vnd.jupyter.widget-view+json": {
       "model_id": "a91c233be2574e5e81b4338682338349",
       "version_major": 2,
       "version_minor": 0
      },
      "text/plain": [
       "eve_l2_lines_2011038_07:   0%|          | 0.00/143k [00:00<?, ?B/s]"
      ]
     },
     "metadata": {},
     "output_type": "display_data"
    },
    {
     "data": {
      "application/vnd.jupyter.widget-view+json": {
       "model_id": "7f38827eaa5245c2a3180390e520863e",
       "version_major": 2,
       "version_minor": 0
      },
      "text/plain": [
       "eve_l2_lines_2011038_08:   0%|          | 0.00/143k [00:00<?, ?B/s]"
      ]
     },
     "metadata": {},
     "output_type": "display_data"
    },
    {
     "data": {
      "application/vnd.jupyter.widget-view+json": {
       "model_id": "bd4ed097a1c34541a61a6ab15041b99d",
       "version_major": 2,
       "version_minor": 0
      },
      "text/plain": [
       "eve_l2_lines_2011038_09:   0%|          | 0.00/143k [00:00<?, ?B/s]"
      ]
     },
     "metadata": {},
     "output_type": "display_data"
    },
    {
     "data": {
      "application/vnd.jupyter.widget-view+json": {
       "model_id": "55812c64d2594671979b20641e523f59",
       "version_major": 2,
       "version_minor": 0
      },
      "text/plain": [
       "eve_l2_lines_2011038_10:   0%|          | 0.00/143k [00:00<?, ?B/s]"
      ]
     },
     "metadata": {},
     "output_type": "display_data"
    },
    {
     "data": {
      "application/vnd.jupyter.widget-view+json": {
       "model_id": "709c43b9a78d432198f5ceaa140ebbe2",
       "version_major": 2,
       "version_minor": 0
      },
      "text/plain": [
       "eve_l2_lines_2011038_11:   0%|          | 0.00/143k [00:00<?, ?B/s]"
      ]
     },
     "metadata": {},
     "output_type": "display_data"
    },
    {
     "data": {
      "application/vnd.jupyter.widget-view+json": {
       "model_id": "60e19a62580946f480f0123c2f0ea670",
       "version_major": 2,
       "version_minor": 0
      },
      "text/plain": [
       "eve_l2_lines_2011038_12:   0%|          | 0.00/143k [00:00<?, ?B/s]"
      ]
     },
     "metadata": {},
     "output_type": "display_data"
    },
    {
     "data": {
      "application/vnd.jupyter.widget-view+json": {
       "model_id": "54b302fa2b7d4845a6a6e7848eace829",
       "version_major": 2,
       "version_minor": 0
      },
      "text/plain": [
       "eve_l2_lines_2011038_13:   0%|          | 0.00/153k [00:00<?, ?B/s]"
      ]
     },
     "metadata": {},
     "output_type": "display_data"
    },
    {
     "data": {
      "application/vnd.jupyter.widget-view+json": {
       "model_id": "5f066fceb9484368b0f079ddc81eb9ad",
       "version_major": 2,
       "version_minor": 0
      },
      "text/plain": [
       "eve_l2_lines_2011038_14:   0%|          | 0.00/254k [00:00<?, ?B/s]"
      ]
     },
     "metadata": {},
     "output_type": "display_data"
    },
    {
     "data": {
      "application/vnd.jupyter.widget-view+json": {
       "model_id": "fec8d8eecd1a42abaafe89f4fc3a8a87",
       "version_major": 2,
       "version_minor": 0
      },
      "text/plain": [
       "eve_l2_lines_2011038_15:   0%|          | 0.00/255k [00:00<?, ?B/s]"
      ]
     },
     "metadata": {},
     "output_type": "display_data"
    },
    {
     "data": {
      "application/vnd.jupyter.widget-view+json": {
       "model_id": "da61253c34cc40e0a77bc10817d143c9",
       "version_major": 2,
       "version_minor": 0
      },
      "text/plain": [
       "eve_l2_lines_2011038_16:   0%|          | 0.00/244k [00:00<?, ?B/s]"
      ]
     },
     "metadata": {},
     "output_type": "display_data"
    },
    {
     "data": {
      "application/vnd.jupyter.widget-view+json": {
       "model_id": "a64929111b5e455d9d941504cea5939b",
       "version_major": 2,
       "version_minor": 0
      },
      "text/plain": [
       "eve_l2_lines_2011038_17:   0%|          | 0.00/143k [00:00<?, ?B/s]"
      ]
     },
     "metadata": {},
     "output_type": "display_data"
    },
    {
     "data": {
      "application/vnd.jupyter.widget-view+json": {
       "model_id": "f9ff96244d27464cabc5449a4c1b27d2",
       "version_major": 2,
       "version_minor": 0
      },
      "text/plain": [
       "eve_l2_lines_2011038_18:   0%|          | 0.00/143k [00:00<?, ?B/s]"
      ]
     },
     "metadata": {},
     "output_type": "display_data"
    },
    {
     "data": {
      "application/vnd.jupyter.widget-view+json": {
       "model_id": "8fb675f8556d46638e26c7b855f117f7",
       "version_major": 2,
       "version_minor": 0
      },
      "text/plain": [
       "eve_l2_lines_2011038_19:   0%|          | 0.00/143k [00:00<?, ?B/s]"
      ]
     },
     "metadata": {},
     "output_type": "display_data"
    },
    {
     "data": {
      "application/vnd.jupyter.widget-view+json": {
       "model_id": "0e06deee0aa4417693927c4db053f2ae",
       "version_major": 2,
       "version_minor": 0
      },
      "text/plain": [
       "eve_l2_lines_2011038_20:   0%|          | 0.00/143k [00:00<?, ?B/s]"
      ]
     },
     "metadata": {},
     "output_type": "display_data"
    },
    {
     "data": {
      "application/vnd.jupyter.widget-view+json": {
       "model_id": "b567e3e6f6414a25a7343b632f7f10e6",
       "version_major": 2,
       "version_minor": 0
      },
      "text/plain": [
       "eve_l2_lines_2011038_21:   0%|          | 0.00/143k [00:00<?, ?B/s]"
      ]
     },
     "metadata": {},
     "output_type": "display_data"
    },
    {
     "data": {
      "application/vnd.jupyter.widget-view+json": {
       "model_id": "75138f532cc7436db94077ae1dd10c80",
       "version_major": 2,
       "version_minor": 0
      },
      "text/plain": [
       "eve_l2_lines_2011038_22:   0%|          | 0.00/143k [00:00<?, ?B/s]"
      ]
     },
     "metadata": {},
     "output_type": "display_data"
    },
    {
     "data": {
      "application/vnd.jupyter.widget-view+json": {
       "model_id": "7593f3c01d37492f95a2a20640ae4553",
       "version_major": 2,
       "version_minor": 0
      },
      "text/plain": [
       "eve_l2_lines_2011038_23:   0%|          | 0.00/143k [00:00<?, ?B/s]"
      ]
     },
     "metadata": {},
     "output_type": "display_data"
    },
    {
     "data": {
      "application/vnd.jupyter.widget-view+json": {
       "model_id": "4063191acc094fa7bd75ff1a1df7cd9f",
       "version_major": 2,
       "version_minor": 0
      },
      "text/plain": [
       "eve_l2_lines_2011039_00:   0%|          | 0.00/143k [00:00<?, ?B/s]"
      ]
     },
     "metadata": {},
     "output_type": "display_data"
    },
    {
     "data": {
      "application/vnd.jupyter.widget-view+json": {
       "model_id": "ab570fbd820c414b8772aff1c3682aba",
       "version_major": 2,
       "version_minor": 0
      },
      "text/plain": [
       "eve_l2_lines_2011039_01:   0%|          | 0.00/143k [00:00<?, ?B/s]"
      ]
     },
     "metadata": {},
     "output_type": "display_data"
    },
    {
     "data": {
      "application/vnd.jupyter.widget-view+json": {
       "model_id": "2f02e5768a9349c29fd174066a928be7",
       "version_major": 2,
       "version_minor": 0
      },
      "text/plain": [
       "eve_l2_lines_2011039_02:   0%|          | 0.00/143k [00:00<?, ?B/s]"
      ]
     },
     "metadata": {},
     "output_type": "display_data"
    },
    {
     "data": {
      "application/vnd.jupyter.widget-view+json": {
       "model_id": "1047c3d8831d428d9b0eedc3e088665c",
       "version_major": 2,
       "version_minor": 0
      },
      "text/plain": [
       "eve_l2_lines_2011039_03:   0%|          | 0.00/127k [00:00<?, ?B/s]"
      ]
     },
     "metadata": {},
     "output_type": "display_data"
    },
    {
     "data": {
      "application/vnd.jupyter.widget-view+json": {
       "model_id": "7f691497f3d1473da2df5b0991dc64e5",
       "version_major": 2,
       "version_minor": 0
      },
      "text/plain": [
       "eve_l2_lines_2011039_04:   0%|          | 0.00/143k [00:00<?, ?B/s]"
      ]
     },
     "metadata": {},
     "output_type": "display_data"
    },
    {
     "data": {
      "application/vnd.jupyter.widget-view+json": {
       "model_id": "181a303d2e2d485696539aaa27c9d691",
       "version_major": 2,
       "version_minor": 0
      },
      "text/plain": [
       "eve_l2_lines_2011039_05:   0%|          | 0.00/142k [00:00<?, ?B/s]"
      ]
     },
     "metadata": {},
     "output_type": "display_data"
    },
    {
     "data": {
      "application/vnd.jupyter.widget-view+json": {
       "model_id": "5cdd6a2cc8eb4c5290dbd66363adf279",
       "version_major": 2,
       "version_minor": 0
      },
      "text/plain": [
       "eve_l2_lines_2011039_06:   0%|          | 0.00/143k [00:00<?, ?B/s]"
      ]
     },
     "metadata": {},
     "output_type": "display_data"
    },
    {
     "data": {
      "application/vnd.jupyter.widget-view+json": {
       "model_id": "6c06a28397494fbf84a7f5ef9f645609",
       "version_major": 2,
       "version_minor": 0
      },
      "text/plain": [
       "eve_l2_lines_2011039_07:   0%|          | 0.00/142k [00:00<?, ?B/s]"
      ]
     },
     "metadata": {},
     "output_type": "display_data"
    },
    {
     "data": {
      "application/vnd.jupyter.widget-view+json": {
       "model_id": "5d11ba8d62e5403aa0371c48a52aa04c",
       "version_major": 2,
       "version_minor": 0
      },
      "text/plain": [
       "eve_l2_lines_2011039_09:   0%|          | 0.00/143k [00:00<?, ?B/s]"
      ]
     },
     "metadata": {},
     "output_type": "display_data"
    },
    {
     "data": {
      "application/vnd.jupyter.widget-view+json": {
       "model_id": "a6cceacf92c741cdae7c419153452c1c",
       "version_major": 2,
       "version_minor": 0
      },
      "text/plain": [
       "eve_l2_lines_2011039_08:   0%|          | 0.00/143k [00:00<?, ?B/s]"
      ]
     },
     "metadata": {},
     "output_type": "display_data"
    },
    {
     "data": {
      "application/vnd.jupyter.widget-view+json": {
       "model_id": "e91d1f29772944feaa0a61b4fe56baa7",
       "version_major": 2,
       "version_minor": 0
      },
      "text/plain": [
       "eve_l2_lines_2011039_10:   0%|          | 0.00/143k [00:00<?, ?B/s]"
      ]
     },
     "metadata": {},
     "output_type": "display_data"
    },
    {
     "data": {
      "application/vnd.jupyter.widget-view+json": {
       "model_id": "fe581e0859474f159e5ba4d731c858d0",
       "version_major": 2,
       "version_minor": 0
      },
      "text/plain": [
       "eve_l2_lines_2011039_11:   0%|          | 0.00/143k [00:00<?, ?B/s]"
      ]
     },
     "metadata": {},
     "output_type": "display_data"
    },
    {
     "data": {
      "application/vnd.jupyter.widget-view+json": {
       "model_id": "498ef2d6485f44e0ba0aca91d0f3772d",
       "version_major": 2,
       "version_minor": 0
      },
      "text/plain": [
       "eve_l2_lines_2011039_12:   0%|          | 0.00/143k [00:00<?, ?B/s]"
      ]
     },
     "metadata": {},
     "output_type": "display_data"
    },
    {
     "data": {
      "application/vnd.jupyter.widget-view+json": {
       "model_id": "d81cf0f36129416cb10447574701fabf",
       "version_major": 2,
       "version_minor": 0
      },
      "text/plain": [
       "eve_l2_lines_2011039_13:   0%|          | 0.00/153k [00:00<?, ?B/s]"
      ]
     },
     "metadata": {},
     "output_type": "display_data"
    },
    {
     "data": {
      "application/vnd.jupyter.widget-view+json": {
       "model_id": "85d4e1ce8b664a27b282abfd70fd266e",
       "version_major": 2,
       "version_minor": 0
      },
      "text/plain": [
       "eve_l2_lines_2011039_14:   0%|          | 0.00/254k [00:00<?, ?B/s]"
      ]
     },
     "metadata": {},
     "output_type": "display_data"
    },
    {
     "data": {
      "application/vnd.jupyter.widget-view+json": {
       "model_id": "2d5dbbf540d84a32bbf63f073a05f98e",
       "version_major": 2,
       "version_minor": 0
      },
      "text/plain": [
       "eve_l2_lines_2011039_15:   0%|          | 0.00/254k [00:00<?, ?B/s]"
      ]
     },
     "metadata": {},
     "output_type": "display_data"
    },
    {
     "data": {
      "application/vnd.jupyter.widget-view+json": {
       "model_id": "7626e2d231594307a93246a7f3e308b1",
       "version_major": 2,
       "version_minor": 0
      },
      "text/plain": [
       "eve_l2_lines_2011039_16:   0%|          | 0.00/244k [00:00<?, ?B/s]"
      ]
     },
     "metadata": {},
     "output_type": "display_data"
    },
    {
     "data": {
      "application/vnd.jupyter.widget-view+json": {
       "model_id": "d8a308b4ac3b4b5ba328f1304a31f19d",
       "version_major": 2,
       "version_minor": 0
      },
      "text/plain": [
       "eve_l2_lines_2011039_17:   0%|          | 0.00/143k [00:00<?, ?B/s]"
      ]
     },
     "metadata": {},
     "output_type": "display_data"
    },
    {
     "data": {
      "application/vnd.jupyter.widget-view+json": {
       "model_id": "14a5f16db6624a458d7b72744c3959d6",
       "version_major": 2,
       "version_minor": 0
      },
      "text/plain": [
       "eve_l2_lines_2011039_18:   0%|          | 0.00/143k [00:00<?, ?B/s]"
      ]
     },
     "metadata": {},
     "output_type": "display_data"
    },
    {
     "data": {
      "application/vnd.jupyter.widget-view+json": {
       "model_id": "f97a97c3755e43c487d044f8da9ae788",
       "version_major": 2,
       "version_minor": 0
      },
      "text/plain": [
       "eve_l2_lines_2011039_19:   0%|          | 0.00/143k [00:00<?, ?B/s]"
      ]
     },
     "metadata": {},
     "output_type": "display_data"
    },
    {
     "data": {
      "application/vnd.jupyter.widget-view+json": {
       "model_id": "192e69e542e7463b88db465d80a61c07",
       "version_major": 2,
       "version_minor": 0
      },
      "text/plain": [
       "eve_l2_lines_2011039_20:   0%|          | 0.00/143k [00:00<?, ?B/s]"
      ]
     },
     "metadata": {},
     "output_type": "display_data"
    },
    {
     "data": {
      "application/vnd.jupyter.widget-view+json": {
       "model_id": "84139dcfe1a0464e8bd1f733c2e503e5",
       "version_major": 2,
       "version_minor": 0
      },
      "text/plain": [
       "eve_l2_lines_2011039_21:   0%|          | 0.00/143k [00:00<?, ?B/s]"
      ]
     },
     "metadata": {},
     "output_type": "display_data"
    },
    {
     "data": {
      "application/vnd.jupyter.widget-view+json": {
       "model_id": "7efa889fcbd848d88047df0e94495fc6",
       "version_major": 2,
       "version_minor": 0
      },
      "text/plain": [
       "eve_l2_lines_2011039_22:   0%|          | 0.00/143k [00:00<?, ?B/s]"
      ]
     },
     "metadata": {},
     "output_type": "display_data"
    },
    {
     "data": {
      "application/vnd.jupyter.widget-view+json": {
       "model_id": "ce6657281a5a4c3ca4da4a7fe328a677",
       "version_major": 2,
       "version_minor": 0
      },
      "text/plain": [
       "eve_l2_lines_2011039_23:   0%|          | 0.00/143k [00:00<?, ?B/s]"
      ]
     },
     "metadata": {},
     "output_type": "display_data"
    },
    {
     "data": {
      "application/vnd.jupyter.widget-view+json": {
       "model_id": "df6d275d29bf4c77bf62261b32b3d5e7",
       "version_major": 2,
       "version_minor": 0
      },
      "text/plain": [
       "eve_l2_lines_2011041_00:   0%|          | 0.00/143k [00:00<?, ?B/s]"
      ]
     },
     "metadata": {},
     "output_type": "display_data"
    },
    {
     "data": {
      "application/vnd.jupyter.widget-view+json": {
       "model_id": "97ee7e770a274803a4af30bcbdf491d5",
       "version_major": 2,
       "version_minor": 0
      },
      "text/plain": [
       "eve_l2_lines_2011041_01:   0%|          | 0.00/143k [00:00<?, ?B/s]"
      ]
     },
     "metadata": {},
     "output_type": "display_data"
    },
    {
     "data": {
      "application/vnd.jupyter.widget-view+json": {
       "model_id": "237865691dda45eab923b85d09e259d2",
       "version_major": 2,
       "version_minor": 0
      },
      "text/plain": [
       "eve_l2_lines_2011041_02:   0%|          | 0.00/143k [00:00<?, ?B/s]"
      ]
     },
     "metadata": {},
     "output_type": "display_data"
    },
    {
     "data": {
      "application/vnd.jupyter.widget-view+json": {
       "model_id": "980a1ff7c4654b07bcdf8ebeb041674c",
       "version_major": 2,
       "version_minor": 0
      },
      "text/plain": [
       "eve_l2_lines_2011041_03:   0%|          | 0.00/143k [00:00<?, ?B/s]"
      ]
     },
     "metadata": {},
     "output_type": "display_data"
    },
    {
     "data": {
      "application/vnd.jupyter.widget-view+json": {
       "model_id": "27261a2ef1fc4db99f20e8e2cef63d7d",
       "version_major": 2,
       "version_minor": 0
      },
      "text/plain": [
       "eve_l2_lines_2011041_04:   0%|          | 0.00/143k [00:00<?, ?B/s]"
      ]
     },
     "metadata": {},
     "output_type": "display_data"
    },
    {
     "data": {
      "application/vnd.jupyter.widget-view+json": {
       "model_id": "0d361d99036c43d0bc3a526e8ecf82f1",
       "version_major": 2,
       "version_minor": 0
      },
      "text/plain": [
       "eve_l2_lines_2011041_05:   0%|          | 0.00/142k [00:00<?, ?B/s]"
      ]
     },
     "metadata": {},
     "output_type": "display_data"
    },
    {
     "data": {
      "application/vnd.jupyter.widget-view+json": {
       "model_id": "b8af99de034f44fc85d3ceb24e8f91c2",
       "version_major": 2,
       "version_minor": 0
      },
      "text/plain": [
       "eve_l2_lines_2011041_06:   0%|          | 0.00/143k [00:00<?, ?B/s]"
      ]
     },
     "metadata": {},
     "output_type": "display_data"
    },
    {
     "data": {
      "application/vnd.jupyter.widget-view+json": {
       "model_id": "53c3164f3e8641788b03c011279c547a",
       "version_major": 2,
       "version_minor": 0
      },
      "text/plain": [
       "eve_l2_lines_2011041_07:   0%|          | 0.00/127k [00:00<?, ?B/s]"
      ]
     },
     "metadata": {},
     "output_type": "display_data"
    },
    {
     "data": {
      "application/vnd.jupyter.widget-view+json": {
       "model_id": "f201ba0a01b441a5bb739b29cb133341",
       "version_major": 2,
       "version_minor": 0
      },
      "text/plain": [
       "eve_l2_lines_2011041_08:   0%|          | 0.00/143k [00:00<?, ?B/s]"
      ]
     },
     "metadata": {},
     "output_type": "display_data"
    },
    {
     "data": {
      "application/vnd.jupyter.widget-view+json": {
       "model_id": "cca001ef434248758749d64e35a44775",
       "version_major": 2,
       "version_minor": 0
      },
      "text/plain": [
       "eve_l2_lines_2011041_09:   0%|          | 0.00/143k [00:00<?, ?B/s]"
      ]
     },
     "metadata": {},
     "output_type": "display_data"
    },
    {
     "data": {
      "application/vnd.jupyter.widget-view+json": {
       "model_id": "f8da390c0b6540698b79589f334442d0",
       "version_major": 2,
       "version_minor": 0
      },
      "text/plain": [
       "eve_l2_lines_2011041_10:   0%|          | 0.00/143k [00:00<?, ?B/s]"
      ]
     },
     "metadata": {},
     "output_type": "display_data"
    },
    {
     "data": {
      "application/vnd.jupyter.widget-view+json": {
       "model_id": "d86f8c15d9aa4157a34b7f4a51ac26b6",
       "version_major": 2,
       "version_minor": 0
      },
      "text/plain": [
       "eve_l2_lines_2011041_11:   0%|          | 0.00/143k [00:00<?, ?B/s]"
      ]
     },
     "metadata": {},
     "output_type": "display_data"
    },
    {
     "data": {
      "application/vnd.jupyter.widget-view+json": {
       "model_id": "4c4394d8aa104799a7ae48949cc1b45c",
       "version_major": 2,
       "version_minor": 0
      },
      "text/plain": [
       "eve_l2_lines_2011041_12:   0%|          | 0.00/144k [00:00<?, ?B/s]"
      ]
     },
     "metadata": {},
     "output_type": "display_data"
    },
    {
     "data": {
      "application/vnd.jupyter.widget-view+json": {
       "model_id": "473346df45a34ac5854bed2ed6898330",
       "version_major": 2,
       "version_minor": 0
      },
      "text/plain": [
       "eve_l2_lines_2011041_13:   0%|          | 0.00/153k [00:00<?, ?B/s]"
      ]
     },
     "metadata": {},
     "output_type": "display_data"
    },
    {
     "data": {
      "application/vnd.jupyter.widget-view+json": {
       "model_id": "02301519e8094012a2ec432faebb1ce5",
       "version_major": 2,
       "version_minor": 0
      },
      "text/plain": [
       "eve_l2_lines_2011041_14:   0%|          | 0.00/254k [00:00<?, ?B/s]"
      ]
     },
     "metadata": {},
     "output_type": "display_data"
    },
    {
     "data": {
      "application/vnd.jupyter.widget-view+json": {
       "model_id": "b73ab9d844114c52bc77a102e10c3733",
       "version_major": 2,
       "version_minor": 0
      },
      "text/plain": [
       "eve_l2_lines_2011041_15:   0%|          | 0.00/254k [00:00<?, ?B/s]"
      ]
     },
     "metadata": {},
     "output_type": "display_data"
    },
    {
     "data": {
      "application/vnd.jupyter.widget-view+json": {
       "model_id": "7e8abb7cd3074454b6bff87555726bb7",
       "version_major": 2,
       "version_minor": 0
      },
      "text/plain": [
       "eve_l2_lines_2011041_16:   0%|          | 0.00/244k [00:00<?, ?B/s]"
      ]
     },
     "metadata": {},
     "output_type": "display_data"
    },
    {
     "data": {
      "application/vnd.jupyter.widget-view+json": {
       "model_id": "665a881c03ae4817ad13fa7f328a77d6",
       "version_major": 2,
       "version_minor": 0
      },
      "text/plain": [
       "eve_l2_lines_2011041_17:   0%|          | 0.00/143k [00:00<?, ?B/s]"
      ]
     },
     "metadata": {},
     "output_type": "display_data"
    },
    {
     "data": {
      "application/vnd.jupyter.widget-view+json": {
       "model_id": "def638023cdc4dda9dd580fc1cfbbe27",
       "version_major": 2,
       "version_minor": 0
      },
      "text/plain": [
       "eve_l2_lines_2011041_18:   0%|          | 0.00/143k [00:00<?, ?B/s]"
      ]
     },
     "metadata": {},
     "output_type": "display_data"
    },
    {
     "data": {
      "application/vnd.jupyter.widget-view+json": {
       "model_id": "3e1470277a494039870f6eceadef23c6",
       "version_major": 2,
       "version_minor": 0
      },
      "text/plain": [
       "eve_l2_lines_2011041_19:   0%|          | 0.00/143k [00:00<?, ?B/s]"
      ]
     },
     "metadata": {},
     "output_type": "display_data"
    },
    {
     "data": {
      "application/vnd.jupyter.widget-view+json": {
       "model_id": "e547ce73b60d4a2dbd9e9a43366efa1e",
       "version_major": 2,
       "version_minor": 0
      },
      "text/plain": [
       "eve_l2_lines_2011041_20:   0%|          | 0.00/143k [00:00<?, ?B/s]"
      ]
     },
     "metadata": {},
     "output_type": "display_data"
    },
    {
     "data": {
      "application/vnd.jupyter.widget-view+json": {
       "model_id": "8ce04833428e41a5b6b784e7c43f5d67",
       "version_major": 2,
       "version_minor": 0
      },
      "text/plain": [
       "eve_l2_lines_2011041_21:   0%|          | 0.00/143k [00:00<?, ?B/s]"
      ]
     },
     "metadata": {},
     "output_type": "display_data"
    },
    {
     "data": {
      "application/vnd.jupyter.widget-view+json": {
       "model_id": "ed9d3604e8cc478d8937b400fabd69e6",
       "version_major": 2,
       "version_minor": 0
      },
      "text/plain": [
       "eve_l2_lines_2011041_22:   0%|          | 0.00/143k [00:00<?, ?B/s]"
      ]
     },
     "metadata": {},
     "output_type": "display_data"
    },
    {
     "data": {
      "application/vnd.jupyter.widget-view+json": {
       "model_id": "ac32bdc2acc14ffbaf98418bbf943f5f",
       "version_major": 2,
       "version_minor": 0
      },
      "text/plain": [
       "eve_l2_lines_2011041_23:   0%|          | 0.00/143k [00:00<?, ?B/s]"
      ]
     },
     "metadata": {},
     "output_type": "display_data"
    },
    {
     "data": {
      "application/vnd.jupyter.widget-view+json": {
       "model_id": "551b2972b14f4316b985c47102a09d27",
       "version_major": 2,
       "version_minor": 0
      },
      "text/plain": [
       "eve_l2_lines_2011042_00:   0%|          | 0.00/143k [00:00<?, ?B/s]"
      ]
     },
     "metadata": {},
     "output_type": "display_data"
    },
    {
     "data": {
      "application/vnd.jupyter.widget-view+json": {
       "model_id": "ba2193a41cde40d88d34eeb19fc120bd",
       "version_major": 2,
       "version_minor": 0
      },
      "text/plain": [
       "eve_l2_lines_2011042_01:   0%|          | 0.00/143k [00:00<?, ?B/s]"
      ]
     },
     "metadata": {},
     "output_type": "display_data"
    },
    {
     "data": {
      "application/vnd.jupyter.widget-view+json": {
       "model_id": "0c71b2d878a94c609e1ece1c5b2ce185",
       "version_major": 2,
       "version_minor": 0
      },
      "text/plain": [
       "eve_l2_lines_2011042_03:   0%|          | 0.00/143k [00:00<?, ?B/s]"
      ]
     },
     "metadata": {},
     "output_type": "display_data"
    },
    {
     "data": {
      "application/vnd.jupyter.widget-view+json": {
       "model_id": "0afce7e3d02348639221b06ad399ae5c",
       "version_major": 2,
       "version_minor": 0
      },
      "text/plain": [
       "eve_l2_lines_2011042_02:   0%|          | 0.00/143k [00:00<?, ?B/s]"
      ]
     },
     "metadata": {},
     "output_type": "display_data"
    },
    {
     "data": {
      "application/vnd.jupyter.widget-view+json": {
       "model_id": "a7247ed8da6448659a8bfb2852ff756b",
       "version_major": 2,
       "version_minor": 0
      },
      "text/plain": [
       "eve_l2_lines_2011042_04:   0%|          | 0.00/143k [00:00<?, ?B/s]"
      ]
     },
     "metadata": {},
     "output_type": "display_data"
    },
    {
     "data": {
      "application/vnd.jupyter.widget-view+json": {
       "model_id": "f4a4f9a7cc0f468cb2bdd438cd7b2a28",
       "version_major": 2,
       "version_minor": 0
      },
      "text/plain": [
       "eve_l2_lines_2011042_05:   0%|          | 0.00/143k [00:00<?, ?B/s]"
      ]
     },
     "metadata": {},
     "output_type": "display_data"
    },
    {
     "data": {
      "application/vnd.jupyter.widget-view+json": {
       "model_id": "3a15291c4bc84c26b41535866bc79d12",
       "version_major": 2,
       "version_minor": 0
      },
      "text/plain": [
       "eve_l2_lines_2011042_06:   0%|          | 0.00/143k [00:00<?, ?B/s]"
      ]
     },
     "metadata": {},
     "output_type": "display_data"
    },
    {
     "data": {
      "application/vnd.jupyter.widget-view+json": {
       "model_id": "53bf8dfcf26047cd9a537bf688c374f5",
       "version_major": 2,
       "version_minor": 0
      },
      "text/plain": [
       "eve_l2_lines_2011042_07:   0%|          | 0.00/143k [00:00<?, ?B/s]"
      ]
     },
     "metadata": {},
     "output_type": "display_data"
    },
    {
     "data": {
      "application/vnd.jupyter.widget-view+json": {
       "model_id": "c0b757b8e0324316b0d4a33292830020",
       "version_major": 2,
       "version_minor": 0
      },
      "text/plain": [
       "eve_l2_lines_2011042_08:   0%|          | 0.00/143k [00:00<?, ?B/s]"
      ]
     },
     "metadata": {},
     "output_type": "display_data"
    },
    {
     "data": {
      "application/vnd.jupyter.widget-view+json": {
       "model_id": "561014bc18484052b59b2fc0ef40ab86",
       "version_major": 2,
       "version_minor": 0
      },
      "text/plain": [
       "eve_l2_lines_2011042_09:   0%|          | 0.00/127k [00:00<?, ?B/s]"
      ]
     },
     "metadata": {},
     "output_type": "display_data"
    },
    {
     "data": {
      "application/vnd.jupyter.widget-view+json": {
       "model_id": "4f8efcf0404f4080ba462f443a01675c",
       "version_major": 2,
       "version_minor": 0
      },
      "text/plain": [
       "eve_l2_lines_2011042_10:   0%|          | 0.00/143k [00:00<?, ?B/s]"
      ]
     },
     "metadata": {},
     "output_type": "display_data"
    },
    {
     "data": {
      "application/vnd.jupyter.widget-view+json": {
       "model_id": "9db7501ec18448babca296f9465a9168",
       "version_major": 2,
       "version_minor": 0
      },
      "text/plain": [
       "eve_l2_lines_2011042_11:   0%|          | 0.00/143k [00:00<?, ?B/s]"
      ]
     },
     "metadata": {},
     "output_type": "display_data"
    },
    {
     "data": {
      "application/vnd.jupyter.widget-view+json": {
       "model_id": "0a64541709074d12818aadc66342c297",
       "version_major": 2,
       "version_minor": 0
      },
      "text/plain": [
       "eve_l2_lines_2011042_12:   0%|          | 0.00/143k [00:00<?, ?B/s]"
      ]
     },
     "metadata": {},
     "output_type": "display_data"
    },
    {
     "data": {
      "application/vnd.jupyter.widget-view+json": {
       "model_id": "69e77eeca44b4cb8988cca944e23387b",
       "version_major": 2,
       "version_minor": 0
      },
      "text/plain": [
       "eve_l2_lines_2011042_13:   0%|          | 0.00/153k [00:00<?, ?B/s]"
      ]
     },
     "metadata": {},
     "output_type": "display_data"
    },
    {
     "data": {
      "application/vnd.jupyter.widget-view+json": {
       "model_id": "46a07db0f3ec4dc5a7001d3d1833bbd2",
       "version_major": 2,
       "version_minor": 0
      },
      "text/plain": [
       "eve_l2_lines_2011042_14:   0%|          | 0.00/254k [00:00<?, ?B/s]"
      ]
     },
     "metadata": {},
     "output_type": "display_data"
    },
    {
     "data": {
      "application/vnd.jupyter.widget-view+json": {
       "model_id": "cec4242aa99c43b8b0e7ce867f65d2b3",
       "version_major": 2,
       "version_minor": 0
      },
      "text/plain": [
       "eve_l2_lines_2011042_15:   0%|          | 0.00/254k [00:00<?, ?B/s]"
      ]
     },
     "metadata": {},
     "output_type": "display_data"
    },
    {
     "data": {
      "application/vnd.jupyter.widget-view+json": {
       "model_id": "3d00a186a01e4eb6b4e9826303d55a18",
       "version_major": 2,
       "version_minor": 0
      },
      "text/plain": [
       "eve_l2_lines_2011042_16:   0%|          | 0.00/244k [00:00<?, ?B/s]"
      ]
     },
     "metadata": {},
     "output_type": "display_data"
    },
    {
     "data": {
      "application/vnd.jupyter.widget-view+json": {
       "model_id": "79cb45609ec647509a291f8671cdf63c",
       "version_major": 2,
       "version_minor": 0
      },
      "text/plain": [
       "eve_l2_lines_2011042_17:   0%|          | 0.00/143k [00:00<?, ?B/s]"
      ]
     },
     "metadata": {},
     "output_type": "display_data"
    },
    {
     "data": {
      "application/vnd.jupyter.widget-view+json": {
       "model_id": "be287a8831ce495f8b6f7728652e5224",
       "version_major": 2,
       "version_minor": 0
      },
      "text/plain": [
       "eve_l2_lines_2011042_18:   0%|          | 0.00/143k [00:00<?, ?B/s]"
      ]
     },
     "metadata": {},
     "output_type": "display_data"
    },
    {
     "data": {
      "application/vnd.jupyter.widget-view+json": {
       "model_id": "6a44244c4388446d9621e33b18a96833",
       "version_major": 2,
       "version_minor": 0
      },
      "text/plain": [
       "eve_l2_lines_2011042_19:   0%|          | 0.00/142k [00:00<?, ?B/s]"
      ]
     },
     "metadata": {},
     "output_type": "display_data"
    },
    {
     "data": {
      "application/vnd.jupyter.widget-view+json": {
       "model_id": "333ebb9809204a298fe5f830f85b2ddf",
       "version_major": 2,
       "version_minor": 0
      },
      "text/plain": [
       "eve_l2_lines_2011042_20:   0%|          | 0.00/143k [00:00<?, ?B/s]"
      ]
     },
     "metadata": {},
     "output_type": "display_data"
    },
    {
     "data": {
      "application/vnd.jupyter.widget-view+json": {
       "model_id": "3b89effb13e6485f830ad6ea4a9bf281",
       "version_major": 2,
       "version_minor": 0
      },
      "text/plain": [
       "eve_l2_lines_2011042_21:   0%|          | 0.00/143k [00:00<?, ?B/s]"
      ]
     },
     "metadata": {},
     "output_type": "display_data"
    },
    {
     "data": {
      "application/vnd.jupyter.widget-view+json": {
       "model_id": "f2342f8d7de64c6993b02ce5752ad92e",
       "version_major": 2,
       "version_minor": 0
      },
      "text/plain": [
       "eve_l2_lines_2011042_22:   0%|          | 0.00/143k [00:00<?, ?B/s]"
      ]
     },
     "metadata": {},
     "output_type": "display_data"
    },
    {
     "data": {
      "application/vnd.jupyter.widget-view+json": {
       "model_id": "9ac2b74f9aa44afea2769c34e9f1f40e",
       "version_major": 2,
       "version_minor": 0
      },
      "text/plain": [
       "eve_l2_lines_2011042_23:   0%|          | 0.00/143k [00:00<?, ?B/s]"
      ]
     },
     "metadata": {},
     "output_type": "display_data"
    },
    {
     "data": {
      "application/vnd.jupyter.widget-view+json": {
       "model_id": "88925af7311d4fa8afd5296131d9473c",
       "version_major": 2,
       "version_minor": 0
      },
      "text/plain": [
       "eve_l2_lines_2011043_00:   0%|          | 0.00/143k [00:00<?, ?B/s]"
      ]
     },
     "metadata": {},
     "output_type": "display_data"
    },
    {
     "data": {
      "application/vnd.jupyter.widget-view+json": {
       "model_id": "4e82d81e684c443986cfad6bc179cf21",
       "version_major": 2,
       "version_minor": 0
      },
      "text/plain": [
       "eve_l2_lines_2011043_01:   0%|          | 0.00/143k [00:00<?, ?B/s]"
      ]
     },
     "metadata": {},
     "output_type": "display_data"
    },
    {
     "data": {
      "application/vnd.jupyter.widget-view+json": {
       "model_id": "d92c7683035c4df79321f7b3757b46a8",
       "version_major": 2,
       "version_minor": 0
      },
      "text/plain": [
       "eve_l2_lines_2011043_02:   0%|          | 0.00/143k [00:00<?, ?B/s]"
      ]
     },
     "metadata": {},
     "output_type": "display_data"
    },
    {
     "data": {
      "application/vnd.jupyter.widget-view+json": {
       "model_id": "6c74b0e2077847ba861ff1d7f172fdca",
       "version_major": 2,
       "version_minor": 0
      },
      "text/plain": [
       "eve_l2_lines_2011043_03:   0%|          | 0.00/143k [00:00<?, ?B/s]"
      ]
     },
     "metadata": {},
     "output_type": "display_data"
    },
    {
     "data": {
      "application/vnd.jupyter.widget-view+json": {
       "model_id": "59bff00fb61a4b4a9e44d35796711898",
       "version_major": 2,
       "version_minor": 0
      },
      "text/plain": [
       "eve_l2_lines_2011043_04:   0%|          | 0.00/143k [00:00<?, ?B/s]"
      ]
     },
     "metadata": {},
     "output_type": "display_data"
    },
    {
     "data": {
      "application/vnd.jupyter.widget-view+json": {
       "model_id": "d5b55cf35e29485bbde23cb994bf0143",
       "version_major": 2,
       "version_minor": 0
      },
      "text/plain": [
       "eve_l2_lines_2011043_05:   0%|          | 0.00/143k [00:00<?, ?B/s]"
      ]
     },
     "metadata": {},
     "output_type": "display_data"
    },
    {
     "data": {
      "application/vnd.jupyter.widget-view+json": {
       "model_id": "43fc8dc118a64961b859ce1991d09540",
       "version_major": 2,
       "version_minor": 0
      },
      "text/plain": [
       "eve_l2_lines_2011043_06:   0%|          | 0.00/143k [00:00<?, ?B/s]"
      ]
     },
     "metadata": {},
     "output_type": "display_data"
    },
    {
     "data": {
      "application/vnd.jupyter.widget-view+json": {
       "model_id": "e6652255b5d347d1a70b00db8de2a303",
       "version_major": 2,
       "version_minor": 0
      },
      "text/plain": [
       "eve_l2_lines_2011043_07:   0%|          | 0.00/143k [00:00<?, ?B/s]"
      ]
     },
     "metadata": {},
     "output_type": "display_data"
    },
    {
     "data": {
      "application/vnd.jupyter.widget-view+json": {
       "model_id": "ab926660ce3047afac29750495a7faee",
       "version_major": 2,
       "version_minor": 0
      },
      "text/plain": [
       "eve_l2_lines_2011043_08:   0%|          | 0.00/143k [00:00<?, ?B/s]"
      ]
     },
     "metadata": {},
     "output_type": "display_data"
    },
    {
     "data": {
      "application/vnd.jupyter.widget-view+json": {
       "model_id": "44b3cfc1e2b7496ca6bf0879acae6c88",
       "version_major": 2,
       "version_minor": 0
      },
      "text/plain": [
       "eve_l2_lines_2011043_09:   0%|          | 0.00/143k [00:00<?, ?B/s]"
      ]
     },
     "metadata": {},
     "output_type": "display_data"
    },
    {
     "data": {
      "application/vnd.jupyter.widget-view+json": {
       "model_id": "4478b5f6dbbb461db5dea8553ee82d97",
       "version_major": 2,
       "version_minor": 0
      },
      "text/plain": [
       "eve_l2_lines_2011043_11:   0%|          | 0.00/127k [00:00<?, ?B/s]"
      ]
     },
     "metadata": {},
     "output_type": "display_data"
    },
    {
     "data": {
      "application/vnd.jupyter.widget-view+json": {
       "model_id": "c55800240abc459fba2eb74f23a7d657",
       "version_major": 2,
       "version_minor": 0
      },
      "text/plain": [
       "eve_l2_lines_2011043_10:   0%|          | 0.00/143k [00:00<?, ?B/s]"
      ]
     },
     "metadata": {},
     "output_type": "display_data"
    },
    {
     "data": {
      "application/vnd.jupyter.widget-view+json": {
       "model_id": "e66212d944fc498d8431c3974a9a2204",
       "version_major": 2,
       "version_minor": 0
      },
      "text/plain": [
       "eve_l2_lines_2011043_12:   0%|          | 0.00/143k [00:00<?, ?B/s]"
      ]
     },
     "metadata": {},
     "output_type": "display_data"
    },
    {
     "data": {
      "application/vnd.jupyter.widget-view+json": {
       "model_id": "ef2d4f0d1345425b9c4ac0fa4ef9c4f9",
       "version_major": 2,
       "version_minor": 0
      },
      "text/plain": [
       "eve_l2_lines_2011043_13:   0%|          | 0.00/153k [00:00<?, ?B/s]"
      ]
     },
     "metadata": {},
     "output_type": "display_data"
    },
    {
     "data": {
      "application/vnd.jupyter.widget-view+json": {
       "model_id": "60d89a6d340d4baa9a5f5762bf0c57b9",
       "version_major": 2,
       "version_minor": 0
      },
      "text/plain": [
       "eve_l2_lines_2011043_14:   0%|          | 0.00/254k [00:00<?, ?B/s]"
      ]
     },
     "metadata": {},
     "output_type": "display_data"
    },
    {
     "data": {
      "application/vnd.jupyter.widget-view+json": {
       "model_id": "208aa96cecc14c29ac9e286ae4cf79ab",
       "version_major": 2,
       "version_minor": 0
      },
      "text/plain": [
       "eve_l2_lines_2011043_15:   0%|          | 0.00/254k [00:00<?, ?B/s]"
      ]
     },
     "metadata": {},
     "output_type": "display_data"
    },
    {
     "data": {
      "application/vnd.jupyter.widget-view+json": {
       "model_id": "cf4b065de7364fb6b55dfe9e4ab192e8",
       "version_major": 2,
       "version_minor": 0
      },
      "text/plain": [
       "eve_l2_lines_2011043_16:   0%|          | 0.00/244k [00:00<?, ?B/s]"
      ]
     },
     "metadata": {},
     "output_type": "display_data"
    },
    {
     "data": {
      "application/vnd.jupyter.widget-view+json": {
       "model_id": "f32374df23174f47a4adae6ee6e89cc4",
       "version_major": 2,
       "version_minor": 0
      },
      "text/plain": [
       "eve_l2_lines_2011043_17:   0%|          | 0.00/143k [00:00<?, ?B/s]"
      ]
     },
     "metadata": {},
     "output_type": "display_data"
    },
    {
     "data": {
      "application/vnd.jupyter.widget-view+json": {
       "model_id": "cc2964d604c04680addb99a1100b1a31",
       "version_major": 2,
       "version_minor": 0
      },
      "text/plain": [
       "eve_l2_lines_2011043_18:   0%|          | 0.00/143k [00:00<?, ?B/s]"
      ]
     },
     "metadata": {},
     "output_type": "display_data"
    },
    {
     "data": {
      "application/vnd.jupyter.widget-view+json": {
       "model_id": "4b9c30b2b2654df4b50b1133739f91a5",
       "version_major": 2,
       "version_minor": 0
      },
      "text/plain": [
       "eve_l2_lines_2011043_19:   0%|          | 0.00/143k [00:00<?, ?B/s]"
      ]
     },
     "metadata": {},
     "output_type": "display_data"
    },
    {
     "data": {
      "application/vnd.jupyter.widget-view+json": {
       "model_id": "17b52725c18d4c3eb074f49df9488214",
       "version_major": 2,
       "version_minor": 0
      },
      "text/plain": [
       "eve_l2_lines_2011043_20:   0%|          | 0.00/143k [00:00<?, ?B/s]"
      ]
     },
     "metadata": {},
     "output_type": "display_data"
    },
    {
     "data": {
      "application/vnd.jupyter.widget-view+json": {
       "model_id": "8a2d6b05cfcd4833a680db71edc30a54",
       "version_major": 2,
       "version_minor": 0
      },
      "text/plain": [
       "eve_l2_lines_2011043_21:   0%|          | 0.00/143k [00:00<?, ?B/s]"
      ]
     },
     "metadata": {},
     "output_type": "display_data"
    },
    {
     "data": {
      "application/vnd.jupyter.widget-view+json": {
       "model_id": "6dd2279b2ddb4e52a788b6ece6e20731",
       "version_major": 2,
       "version_minor": 0
      },
      "text/plain": [
       "eve_l2_lines_2011043_22:   0%|          | 0.00/143k [00:00<?, ?B/s]"
      ]
     },
     "metadata": {},
     "output_type": "display_data"
    },
    {
     "data": {
      "application/vnd.jupyter.widget-view+json": {
       "model_id": "763cd5f4dd3e461e8e59b95eeaf9cd72",
       "version_major": 2,
       "version_minor": 0
      },
      "text/plain": [
       "eve_l2_lines_2011043_23:   0%|          | 0.00/143k [00:00<?, ?B/s]"
      ]
     },
     "metadata": {},
     "output_type": "display_data"
    },
    {
     "data": {
      "application/vnd.jupyter.widget-view+json": {
       "model_id": "c2ef4bcadd234d8e997b54b5b3f6d768",
       "version_major": 2,
       "version_minor": 0
      },
      "text/plain": [
       "eve_l2_lines_2011044_00:   0%|          | 0.00/143k [00:00<?, ?B/s]"
      ]
     },
     "metadata": {},
     "output_type": "display_data"
    },
    {
     "data": {
      "application/vnd.jupyter.widget-view+json": {
       "model_id": "1e11943057cf49889b02ad231eb30235",
       "version_major": 2,
       "version_minor": 0
      },
      "text/plain": [
       "eve_l2_lines_2011044_02:   0%|          | 0.00/143k [00:00<?, ?B/s]"
      ]
     },
     "metadata": {},
     "output_type": "display_data"
    },
    {
     "data": {
      "application/vnd.jupyter.widget-view+json": {
       "model_id": "04a0236630db4004875893c1da304fca",
       "version_major": 2,
       "version_minor": 0
      },
      "text/plain": [
       "eve_l2_lines_2011044_01:   0%|          | 0.00/143k [00:00<?, ?B/s]"
      ]
     },
     "metadata": {},
     "output_type": "display_data"
    },
    {
     "data": {
      "application/vnd.jupyter.widget-view+json": {
       "model_id": "0e7301cf97aa4a76a99fa6ce65743733",
       "version_major": 2,
       "version_minor": 0
      },
      "text/plain": [
       "eve_l2_lines_2011044_03:   0%|          | 0.00/143k [00:00<?, ?B/s]"
      ]
     },
     "metadata": {},
     "output_type": "display_data"
    },
    {
     "data": {
      "application/vnd.jupyter.widget-view+json": {
       "model_id": "00fb6519def546cd9960c2480e9100e7",
       "version_major": 2,
       "version_minor": 0
      },
      "text/plain": [
       "eve_l2_lines_2011044_04:   0%|          | 0.00/143k [00:00<?, ?B/s]"
      ]
     },
     "metadata": {},
     "output_type": "display_data"
    },
    {
     "data": {
      "application/vnd.jupyter.widget-view+json": {
       "model_id": "3ca0c99d9ca94380ab977151c5dd9b8a",
       "version_major": 2,
       "version_minor": 0
      },
      "text/plain": [
       "eve_l2_lines_2011044_05:   0%|          | 0.00/143k [00:00<?, ?B/s]"
      ]
     },
     "metadata": {},
     "output_type": "display_data"
    },
    {
     "data": {
      "application/vnd.jupyter.widget-view+json": {
       "model_id": "c59c8eaf394143c7b155b98e34cda5d6",
       "version_major": 2,
       "version_minor": 0
      },
      "text/plain": [
       "eve_l2_lines_2011044_06:   0%|          | 0.00/143k [00:00<?, ?B/s]"
      ]
     },
     "metadata": {},
     "output_type": "display_data"
    },
    {
     "data": {
      "application/vnd.jupyter.widget-view+json": {
       "model_id": "b8e7d0bbf6ee49f5b30cc87212465d2d",
       "version_major": 2,
       "version_minor": 0
      },
      "text/plain": [
       "eve_l2_lines_2011044_07:   0%|          | 0.00/143k [00:00<?, ?B/s]"
      ]
     },
     "metadata": {},
     "output_type": "display_data"
    },
    {
     "data": {
      "application/vnd.jupyter.widget-view+json": {
       "model_id": "73d9808b64314c2fb34636467ddf47a7",
       "version_major": 2,
       "version_minor": 0
      },
      "text/plain": [
       "eve_l2_lines_2011044_08:   0%|          | 0.00/143k [00:00<?, ?B/s]"
      ]
     },
     "metadata": {},
     "output_type": "display_data"
    },
    {
     "data": {
      "application/vnd.jupyter.widget-view+json": {
       "model_id": "e937e12d3d2e4b1286b3ec54e4819fa1",
       "version_major": 2,
       "version_minor": 0
      },
      "text/plain": [
       "eve_l2_lines_2011044_09:   0%|          | 0.00/143k [00:00<?, ?B/s]"
      ]
     },
     "metadata": {},
     "output_type": "display_data"
    },
    {
     "data": {
      "application/vnd.jupyter.widget-view+json": {
       "model_id": "d8103e671b574ecdb879815040725576",
       "version_major": 2,
       "version_minor": 0
      },
      "text/plain": [
       "eve_l2_lines_2011044_10:   0%|          | 0.00/143k [00:00<?, ?B/s]"
      ]
     },
     "metadata": {},
     "output_type": "display_data"
    },
    {
     "data": {
      "application/vnd.jupyter.widget-view+json": {
       "model_id": "fdce97372b604f6ab72774c375af9322",
       "version_major": 2,
       "version_minor": 0
      },
      "text/plain": [
       "eve_l2_lines_2011044_11:   0%|          | 0.00/143k [00:00<?, ?B/s]"
      ]
     },
     "metadata": {},
     "output_type": "display_data"
    },
    {
     "data": {
      "application/vnd.jupyter.widget-view+json": {
       "model_id": "2ee503e84e384c4b89a4759852c55067",
       "version_major": 2,
       "version_minor": 0
      },
      "text/plain": [
       "eve_l2_lines_2011044_12:   0%|          | 0.00/143k [00:00<?, ?B/s]"
      ]
     },
     "metadata": {},
     "output_type": "display_data"
    },
    {
     "data": {
      "application/vnd.jupyter.widget-view+json": {
       "model_id": "f2f8362496d249af906fdc0606c85990",
       "version_major": 2,
       "version_minor": 0
      },
      "text/plain": [
       "eve_l2_lines_2011044_13:   0%|          | 0.00/118k [00:00<?, ?B/s]"
      ]
     },
     "metadata": {},
     "output_type": "display_data"
    },
    {
     "data": {
      "application/vnd.jupyter.widget-view+json": {
       "model_id": "d267d9feeea04d94b3f014252b7f5a2d",
       "version_major": 2,
       "version_minor": 0
      },
      "text/plain": [
       "eve_l2_lines_2011044_14:   0%|          | 0.00/254k [00:00<?, ?B/s]"
      ]
     },
     "metadata": {},
     "output_type": "display_data"
    },
    {
     "data": {
      "application/vnd.jupyter.widget-view+json": {
       "model_id": "503a123eb1c04f6a8e77247cc6bef5cf",
       "version_major": 2,
       "version_minor": 0
      },
      "text/plain": [
       "eve_l2_lines_2011044_15:   0%|          | 0.00/254k [00:00<?, ?B/s]"
      ]
     },
     "metadata": {},
     "output_type": "display_data"
    },
    {
     "data": {
      "application/vnd.jupyter.widget-view+json": {
       "model_id": "eb410312dc6c47a1a0d1cf42241c4ed7",
       "version_major": 2,
       "version_minor": 0
      },
      "text/plain": [
       "eve_l2_lines_2011044_16:   0%|          | 0.00/244k [00:00<?, ?B/s]"
      ]
     },
     "metadata": {},
     "output_type": "display_data"
    },
    {
     "data": {
      "application/vnd.jupyter.widget-view+json": {
       "model_id": "acc14d52116e4004b976d749c598e4b8",
       "version_major": 2,
       "version_minor": 0
      },
      "text/plain": [
       "eve_l2_lines_2011044_17:   0%|          | 0.00/144k [00:00<?, ?B/s]"
      ]
     },
     "metadata": {},
     "output_type": "display_data"
    },
    {
     "data": {
      "application/vnd.jupyter.widget-view+json": {
       "model_id": "dfe38acf10d04d8d84f872b573dcbe87",
       "version_major": 2,
       "version_minor": 0
      },
      "text/plain": [
       "eve_l2_lines_2011044_18:   0%|          | 0.00/144k [00:00<?, ?B/s]"
      ]
     },
     "metadata": {},
     "output_type": "display_data"
    },
    {
     "data": {
      "application/vnd.jupyter.widget-view+json": {
       "model_id": "8e3b2331e66a45d3a7c5d3b8ee789fdc",
       "version_major": 2,
       "version_minor": 0
      },
      "text/plain": [
       "eve_l2_lines_2011044_19:   0%|          | 0.00/143k [00:00<?, ?B/s]"
      ]
     },
     "metadata": {},
     "output_type": "display_data"
    },
    {
     "data": {
      "application/vnd.jupyter.widget-view+json": {
       "model_id": "eec01e04910f404cb09af23b7411fd0e",
       "version_major": 2,
       "version_minor": 0
      },
      "text/plain": [
       "eve_l2_lines_2011044_20:   0%|          | 0.00/143k [00:00<?, ?B/s]"
      ]
     },
     "metadata": {},
     "output_type": "display_data"
    },
    {
     "data": {
      "application/vnd.jupyter.widget-view+json": {
       "model_id": "14d07d304687417e980672e55edca413",
       "version_major": 2,
       "version_minor": 0
      },
      "text/plain": [
       "eve_l2_lines_2011044_21:   0%|          | 0.00/143k [00:00<?, ?B/s]"
      ]
     },
     "metadata": {},
     "output_type": "display_data"
    },
    {
     "data": {
      "application/vnd.jupyter.widget-view+json": {
       "model_id": "f7039af82c9e477cb431f5cbb78b975f",
       "version_major": 2,
       "version_minor": 0
      },
      "text/plain": [
       "eve_l2_lines_2011044_22:   0%|          | 0.00/143k [00:00<?, ?B/s]"
      ]
     },
     "metadata": {},
     "output_type": "display_data"
    },
    {
     "data": {
      "application/vnd.jupyter.widget-view+json": {
       "model_id": "dc20222087164f9d90435809c59992bc",
       "version_major": 2,
       "version_minor": 0
      },
      "text/plain": [
       "eve_l2_lines_2011044_23:   0%|          | 0.00/143k [00:00<?, ?B/s]"
      ]
     },
     "metadata": {},
     "output_type": "display_data"
    },
    {
     "data": {
      "application/vnd.jupyter.widget-view+json": {
       "model_id": "396b53bbbb0d4faf953fbf1f40b19d47",
       "version_major": 2,
       "version_minor": 0
      },
      "text/plain": [
       "eve_l2_lines_2011045_00:   0%|          | 0.00/143k [00:00<?, ?B/s]"
      ]
     },
     "metadata": {},
     "output_type": "display_data"
    },
    {
     "data": {
      "application/vnd.jupyter.widget-view+json": {
       "model_id": "52210e0b324b490e9674742b07bd73ec",
       "version_major": 2,
       "version_minor": 0
      },
      "text/plain": [
       "eve_l2_lines_2011045_01:   0%|          | 0.00/143k [00:00<?, ?B/s]"
      ]
     },
     "metadata": {},
     "output_type": "display_data"
    },
    {
     "data": {
      "application/vnd.jupyter.widget-view+json": {
       "model_id": "9eeda650901c4162be893ef9f700583f",
       "version_major": 2,
       "version_minor": 0
      },
      "text/plain": [
       "eve_l2_lines_2011045_02:   0%|          | 0.00/143k [00:00<?, ?B/s]"
      ]
     },
     "metadata": {},
     "output_type": "display_data"
    },
    {
     "data": {
      "application/vnd.jupyter.widget-view+json": {
       "model_id": "d1a06738fbc3455cba704ad4d8a2bccf",
       "version_major": 2,
       "version_minor": 0
      },
      "text/plain": [
       "eve_l2_lines_2011045_03:   0%|          | 0.00/143k [00:00<?, ?B/s]"
      ]
     },
     "metadata": {},
     "output_type": "display_data"
    },
    {
     "data": {
      "application/vnd.jupyter.widget-view+json": {
       "model_id": "7544d80c08804a60afaebd01c9d09d50",
       "version_major": 2,
       "version_minor": 0
      },
      "text/plain": [
       "eve_l2_lines_2011045_04:   0%|          | 0.00/143k [00:00<?, ?B/s]"
      ]
     },
     "metadata": {},
     "output_type": "display_data"
    },
    {
     "data": {
      "application/vnd.jupyter.widget-view+json": {
       "model_id": "34f1cab2e4e442739e5e29ab94d40047",
       "version_major": 2,
       "version_minor": 0
      },
      "text/plain": [
       "eve_l2_lines_2011045_05:   0%|          | 0.00/143k [00:00<?, ?B/s]"
      ]
     },
     "metadata": {},
     "output_type": "display_data"
    },
    {
     "data": {
      "application/vnd.jupyter.widget-view+json": {
       "model_id": "43a2e0f383cd43e396ae24533e2ad3af",
       "version_major": 2,
       "version_minor": 0
      },
      "text/plain": [
       "eve_l2_lines_2011045_06:   0%|          | 0.00/143k [00:00<?, ?B/s]"
      ]
     },
     "metadata": {},
     "output_type": "display_data"
    },
    {
     "data": {
      "application/vnd.jupyter.widget-view+json": {
       "model_id": "f745b4a4f5d24beeaa1e23ddc6e76b25",
       "version_major": 2,
       "version_minor": 0
      },
      "text/plain": [
       "eve_l2_lines_2011045_07:   0%|          | 0.00/143k [00:00<?, ?B/s]"
      ]
     },
     "metadata": {},
     "output_type": "display_data"
    },
    {
     "data": {
      "application/vnd.jupyter.widget-view+json": {
       "model_id": "84ea657ec69e4eab9389d0f2ea4d5bf2",
       "version_major": 2,
       "version_minor": 0
      },
      "text/plain": [
       "eve_l2_lines_2011045_08:   0%|          | 0.00/143k [00:00<?, ?B/s]"
      ]
     },
     "metadata": {},
     "output_type": "display_data"
    },
    {
     "data": {
      "application/vnd.jupyter.widget-view+json": {
       "model_id": "c53d6d2ffb164e87b5543517a751f5f0",
       "version_major": 2,
       "version_minor": 0
      },
      "text/plain": [
       "eve_l2_lines_2011045_09:   0%|          | 0.00/143k [00:00<?, ?B/s]"
      ]
     },
     "metadata": {},
     "output_type": "display_data"
    },
    {
     "data": {
      "application/vnd.jupyter.widget-view+json": {
       "model_id": "98e6588fa60040169519970d8fff3fa8",
       "version_major": 2,
       "version_minor": 0
      },
      "text/plain": [
       "eve_l2_lines_2011045_10:   0%|          | 0.00/143k [00:00<?, ?B/s]"
      ]
     },
     "metadata": {},
     "output_type": "display_data"
    },
    {
     "data": {
      "application/vnd.jupyter.widget-view+json": {
       "model_id": "8a498f4081124594bdf79dd7a92fbbdf",
       "version_major": 2,
       "version_minor": 0
      },
      "text/plain": [
       "eve_l2_lines_2011045_11:   0%|          | 0.00/143k [00:00<?, ?B/s]"
      ]
     },
     "metadata": {},
     "output_type": "display_data"
    },
    {
     "data": {
      "application/vnd.jupyter.widget-view+json": {
       "model_id": "8c6b753e4c964442b163865490fb3c95",
       "version_major": 2,
       "version_minor": 0
      },
      "text/plain": [
       "eve_l2_lines_2011045_12:   0%|          | 0.00/144k [00:00<?, ?B/s]"
      ]
     },
     "metadata": {},
     "output_type": "display_data"
    },
    {
     "data": {
      "application/vnd.jupyter.widget-view+json": {
       "model_id": "b42753ddb42b4cbcad82bf1c72569d7c",
       "version_major": 2,
       "version_minor": 0
      },
      "text/plain": [
       "eve_l2_lines_2011045_13:   0%|          | 0.00/137k [00:00<?, ?B/s]"
      ]
     },
     "metadata": {},
     "output_type": "display_data"
    },
    {
     "data": {
      "application/vnd.jupyter.widget-view+json": {
       "model_id": "d4371cf501ec45af82463eed767e7fef",
       "version_major": 2,
       "version_minor": 0
      },
      "text/plain": [
       "eve_l2_lines_2011045_14:   0%|          | 0.00/254k [00:00<?, ?B/s]"
      ]
     },
     "metadata": {},
     "output_type": "display_data"
    },
    {
     "data": {
      "application/vnd.jupyter.widget-view+json": {
       "model_id": "3d5c77e1329840f1809bd491d9e3695c",
       "version_major": 2,
       "version_minor": 0
      },
      "text/plain": [
       "eve_l2_lines_2011045_15:   0%|          | 0.00/254k [00:00<?, ?B/s]"
      ]
     },
     "metadata": {},
     "output_type": "display_data"
    },
    {
     "data": {
      "application/vnd.jupyter.widget-view+json": {
       "model_id": "babfafab4f7540fd8cda8d377fda4e61",
       "version_major": 2,
       "version_minor": 0
      },
      "text/plain": [
       "eve_l2_lines_2011045_16:   0%|          | 0.00/254k [00:00<?, ?B/s]"
      ]
     },
     "metadata": {},
     "output_type": "display_data"
    },
    {
     "data": {
      "application/vnd.jupyter.widget-view+json": {
       "model_id": "0d611173b7174334b43b4450646a1caf",
       "version_major": 2,
       "version_minor": 0
      },
      "text/plain": [
       "eve_l2_lines_2011045_17:   0%|          | 0.00/255k [00:00<?, ?B/s]"
      ]
     },
     "metadata": {},
     "output_type": "display_data"
    },
    {
     "data": {
      "application/vnd.jupyter.widget-view+json": {
       "model_id": "7e0ac313140540c695821e9d93b56f00",
       "version_major": 2,
       "version_minor": 0
      },
      "text/plain": [
       "eve_l2_lines_2011045_18:   0%|          | 0.00/254k [00:00<?, ?B/s]"
      ]
     },
     "metadata": {},
     "output_type": "display_data"
    },
    {
     "data": {
      "application/vnd.jupyter.widget-view+json": {
       "model_id": "f253a9f4119f4d22b818a7db3f660bad",
       "version_major": 2,
       "version_minor": 0
      },
      "text/plain": [
       "eve_l2_lines_2011045_19:   0%|          | 0.00/255k [00:00<?, ?B/s]"
      ]
     },
     "metadata": {},
     "output_type": "display_data"
    },
    {
     "data": {
      "application/vnd.jupyter.widget-view+json": {
       "model_id": "44fd6dcd4ba74943bc00d9f7323a0185",
       "version_major": 2,
       "version_minor": 0
      },
      "text/plain": [
       "eve_l2_lines_2011045_20:   0%|          | 0.00/254k [00:00<?, ?B/s]"
      ]
     },
     "metadata": {},
     "output_type": "display_data"
    },
    {
     "data": {
      "application/vnd.jupyter.widget-view+json": {
       "model_id": "9c231345adf14fddac52f8a371b2533e",
       "version_major": 2,
       "version_minor": 0
      },
      "text/plain": [
       "eve_l2_lines_2011045_21:   0%|          | 0.00/254k [00:00<?, ?B/s]"
      ]
     },
     "metadata": {},
     "output_type": "display_data"
    },
    {
     "data": {
      "application/vnd.jupyter.widget-view+json": {
       "model_id": "c25346755e2e443f82321327bfd27456",
       "version_major": 2,
       "version_minor": 0
      },
      "text/plain": [
       "eve_l2_lines_2011045_22:   0%|          | 0.00/254k [00:00<?, ?B/s]"
      ]
     },
     "metadata": {},
     "output_type": "display_data"
    },
    {
     "data": {
      "application/vnd.jupyter.widget-view+json": {
       "model_id": "64cbd13e0d684a39a5c8ee0e02f60204",
       "version_major": 2,
       "version_minor": 0
      },
      "text/plain": [
       "eve_l2_lines_2011045_23:   0%|          | 0.00/255k [00:00<?, ?B/s]"
      ]
     },
     "metadata": {},
     "output_type": "display_data"
    },
    {
     "data": {
      "application/vnd.jupyter.widget-view+json": {
       "model_id": "937f2395f5114ce8a4f69dda0c00d61e",
       "version_major": 2,
       "version_minor": 0
      },
      "text/plain": [
       "eve_l2_lines_2011046_00:   0%|          | 0.00/254k [00:00<?, ?B/s]"
      ]
     },
     "metadata": {},
     "output_type": "display_data"
    },
    {
     "data": {
      "application/vnd.jupyter.widget-view+json": {
       "model_id": "c1a648f4238e42028b881b5138c3ba14",
       "version_major": 2,
       "version_minor": 0
      },
      "text/plain": [
       "eve_l2_lines_2011046_01:   0%|          | 0.00/255k [00:00<?, ?B/s]"
      ]
     },
     "metadata": {},
     "output_type": "display_data"
    },
    {
     "data": {
      "application/vnd.jupyter.widget-view+json": {
       "model_id": "b5b253be1fa14c29acc6026a8fabfb41",
       "version_major": 2,
       "version_minor": 0
      },
      "text/plain": [
       "eve_l2_lines_2011046_02:   0%|          | 0.00/254k [00:00<?, ?B/s]"
      ]
     },
     "metadata": {},
     "output_type": "display_data"
    },
    {
     "data": {
      "application/vnd.jupyter.widget-view+json": {
       "model_id": "317aa89213314291891850c43a4cd0c2",
       "version_major": 2,
       "version_minor": 0
      },
      "text/plain": [
       "eve_l2_lines_2011046_03:   0%|          | 0.00/254k [00:00<?, ?B/s]"
      ]
     },
     "metadata": {},
     "output_type": "display_data"
    },
    {
     "data": {
      "application/vnd.jupyter.widget-view+json": {
       "model_id": "c6bdfb3aa1e44169b75f1f262653be69",
       "version_major": 2,
       "version_minor": 0
      },
      "text/plain": [
       "eve_l2_lines_2011046_04:   0%|          | 0.00/254k [00:00<?, ?B/s]"
      ]
     },
     "metadata": {},
     "output_type": "display_data"
    },
    {
     "data": {
      "application/vnd.jupyter.widget-view+json": {
       "model_id": "d1abdbfcf1e9465fa9351ac5028163b7",
       "version_major": 2,
       "version_minor": 0
      },
      "text/plain": [
       "eve_l2_lines_2011046_05:   0%|          | 0.00/254k [00:00<?, ?B/s]"
      ]
     },
     "metadata": {},
     "output_type": "display_data"
    },
    {
     "data": {
      "application/vnd.jupyter.widget-view+json": {
       "model_id": "47e5b02e25d6401ca2fa85c9a8c40eef",
       "version_major": 2,
       "version_minor": 0
      },
      "text/plain": [
       "eve_l2_lines_2011046_06:   0%|          | 0.00/254k [00:00<?, ?B/s]"
      ]
     },
     "metadata": {},
     "output_type": "display_data"
    },
    {
     "data": {
      "application/vnd.jupyter.widget-view+json": {
       "model_id": "551bde6489c7481b94693c22119c1dba",
       "version_major": 2,
       "version_minor": 0
      },
      "text/plain": [
       "eve_l2_lines_2011046_07:   0%|          | 0.00/254k [00:00<?, ?B/s]"
      ]
     },
     "metadata": {},
     "output_type": "display_data"
    },
    {
     "data": {
      "application/vnd.jupyter.widget-view+json": {
       "model_id": "549bfe5654a144dab5cd23da256e2f99",
       "version_major": 2,
       "version_minor": 0
      },
      "text/plain": [
       "eve_l2_lines_2011046_08:   0%|          | 0.00/254k [00:00<?, ?B/s]"
      ]
     },
     "metadata": {},
     "output_type": "display_data"
    },
    {
     "data": {
      "application/vnd.jupyter.widget-view+json": {
       "model_id": "f5d9dc71887543159fb828e0541e5433",
       "version_major": 2,
       "version_minor": 0
      },
      "text/plain": [
       "eve_l2_lines_2011046_09:   0%|          | 0.00/254k [00:00<?, ?B/s]"
      ]
     },
     "metadata": {},
     "output_type": "display_data"
    },
    {
     "data": {
      "application/vnd.jupyter.widget-view+json": {
       "model_id": "81641d1fdd9d449ab0467b16151f0a42",
       "version_major": 2,
       "version_minor": 0
      },
      "text/plain": [
       "eve_l2_lines_2011046_10:   0%|          | 0.00/254k [00:00<?, ?B/s]"
      ]
     },
     "metadata": {},
     "output_type": "display_data"
    },
    {
     "data": {
      "application/vnd.jupyter.widget-view+json": {
       "model_id": "405552f720224db2841284d420185ec2",
       "version_major": 2,
       "version_minor": 0
      },
      "text/plain": [
       "eve_l2_lines_2011046_11:   0%|          | 0.00/254k [00:00<?, ?B/s]"
      ]
     },
     "metadata": {},
     "output_type": "display_data"
    },
    {
     "data": {
      "application/vnd.jupyter.widget-view+json": {
       "model_id": "91270a8436ba4aadb6683ce0905d07dd",
       "version_major": 2,
       "version_minor": 0
      },
      "text/plain": [
       "eve_l2_lines_2011046_12:   0%|          | 0.00/254k [00:00<?, ?B/s]"
      ]
     },
     "metadata": {},
     "output_type": "display_data"
    },
    {
     "data": {
      "application/vnd.jupyter.widget-view+json": {
       "model_id": "42cca8a53a194db290f9ca3bb0cb03f0",
       "version_major": 2,
       "version_minor": 0
      },
      "text/plain": [
       "eve_l2_lines_2011046_13:   0%|          | 0.00/254k [00:00<?, ?B/s]"
      ]
     },
     "metadata": {},
     "output_type": "display_data"
    },
    {
     "data": {
      "application/vnd.jupyter.widget-view+json": {
       "model_id": "0d65653e7bf04088ac510f46e3de2e1b",
       "version_major": 2,
       "version_minor": 0
      },
      "text/plain": [
       "eve_l2_lines_2011046_14:   0%|          | 0.00/255k [00:00<?, ?B/s]"
      ]
     },
     "metadata": {},
     "output_type": "display_data"
    },
    {
     "data": {
      "application/vnd.jupyter.widget-view+json": {
       "model_id": "d8c88c23a8504b29b5de3e23e292903f",
       "version_major": 2,
       "version_minor": 0
      },
      "text/plain": [
       "eve_l2_lines_2011046_15:   0%|          | 0.00/254k [00:00<?, ?B/s]"
      ]
     },
     "metadata": {},
     "output_type": "display_data"
    },
    {
     "data": {
      "application/vnd.jupyter.widget-view+json": {
       "model_id": "a2a7774f74f3426992a00a90e4abcfde",
       "version_major": 2,
       "version_minor": 0
      },
      "text/plain": [
       "eve_l2_lines_2011046_16:   0%|          | 0.00/254k [00:00<?, ?B/s]"
      ]
     },
     "metadata": {},
     "output_type": "display_data"
    },
    {
     "data": {
      "application/vnd.jupyter.widget-view+json": {
       "model_id": "f1736c404d0748109ecd65aaed568b2b",
       "version_major": 2,
       "version_minor": 0
      },
      "text/plain": [
       "eve_l2_lines_2011046_17:   0%|          | 0.00/254k [00:00<?, ?B/s]"
      ]
     },
     "metadata": {},
     "output_type": "display_data"
    },
    {
     "data": {
      "application/vnd.jupyter.widget-view+json": {
       "model_id": "f76355cd1b104da688aa4c3aff6ac37f",
       "version_major": 2,
       "version_minor": 0
      },
      "text/plain": [
       "eve_l2_lines_2011046_18:   0%|          | 0.00/254k [00:00<?, ?B/s]"
      ]
     },
     "metadata": {},
     "output_type": "display_data"
    },
    {
     "data": {
      "application/vnd.jupyter.widget-view+json": {
       "model_id": "adacf740d3a84584834cd7d660920eb9",
       "version_major": 2,
       "version_minor": 0
      },
      "text/plain": [
       "eve_l2_lines_2011046_19:   0%|          | 0.00/254k [00:00<?, ?B/s]"
      ]
     },
     "metadata": {},
     "output_type": "display_data"
    },
    {
     "data": {
      "application/vnd.jupyter.widget-view+json": {
       "model_id": "738ee4df3307488782952dce123b5290",
       "version_major": 2,
       "version_minor": 0
      },
      "text/plain": [
       "eve_l2_lines_2011046_20:   0%|          | 0.00/255k [00:00<?, ?B/s]"
      ]
     },
     "metadata": {},
     "output_type": "display_data"
    },
    {
     "data": {
      "application/vnd.jupyter.widget-view+json": {
       "model_id": "ab2a08c6bb794db89ffa954c54e09e32",
       "version_major": 2,
       "version_minor": 0
      },
      "text/plain": [
       "eve_l2_lines_2011046_21:   0%|          | 0.00/254k [00:00<?, ?B/s]"
      ]
     },
     "metadata": {},
     "output_type": "display_data"
    },
    {
     "data": {
      "application/vnd.jupyter.widget-view+json": {
       "model_id": "033e24b522dd4cda9bd7d6d922854cf2",
       "version_major": 2,
       "version_minor": 0
      },
      "text/plain": [
       "eve_l2_lines_2011046_22:   0%|          | 0.00/255k [00:00<?, ?B/s]"
      ]
     },
     "metadata": {},
     "output_type": "display_data"
    },
    {
     "data": {
      "application/vnd.jupyter.widget-view+json": {
       "model_id": "e57d20f600b14629bad7d23cb0e4bcc3",
       "version_major": 2,
       "version_minor": 0
      },
      "text/plain": [
       "eve_l2_lines_2011046_23:   0%|          | 0.00/255k [00:00<?, ?B/s]"
      ]
     },
     "metadata": {},
     "output_type": "display_data"
    },
    {
     "data": {
      "application/vnd.jupyter.widget-view+json": {
       "model_id": "ca28321b48134ecbbcdcd2d29c00ab71",
       "version_major": 2,
       "version_minor": 0
      },
      "text/plain": [
       "eve_l2_lines_2011047_00:   0%|          | 0.00/254k [00:00<?, ?B/s]"
      ]
     },
     "metadata": {},
     "output_type": "display_data"
    },
    {
     "data": {
      "application/vnd.jupyter.widget-view+json": {
       "model_id": "5ad04d54462d4042b98b11df0f839938",
       "version_major": 2,
       "version_minor": 0
      },
      "text/plain": [
       "eve_l2_lines_2011047_01:   0%|          | 0.00/254k [00:00<?, ?B/s]"
      ]
     },
     "metadata": {},
     "output_type": "display_data"
    },
    {
     "data": {
      "application/vnd.jupyter.widget-view+json": {
       "model_id": "6bf8daa6c37644ec943a01aaf5869146",
       "version_major": 2,
       "version_minor": 0
      },
      "text/plain": [
       "eve_l2_lines_2011047_02:   0%|          | 0.00/254k [00:00<?, ?B/s]"
      ]
     },
     "metadata": {},
     "output_type": "display_data"
    },
    {
     "data": {
      "application/vnd.jupyter.widget-view+json": {
       "model_id": "74fb1d0901ba482382ee90591a0d879c",
       "version_major": 2,
       "version_minor": 0
      },
      "text/plain": [
       "eve_l2_lines_2011047_03:   0%|          | 0.00/254k [00:00<?, ?B/s]"
      ]
     },
     "metadata": {},
     "output_type": "display_data"
    },
    {
     "data": {
      "application/vnd.jupyter.widget-view+json": {
       "model_id": "66b77c3b4a674d63905c409f8b51a19a",
       "version_major": 2,
       "version_minor": 0
      },
      "text/plain": [
       "eve_l2_lines_2011047_04:   0%|          | 0.00/254k [00:00<?, ?B/s]"
      ]
     },
     "metadata": {},
     "output_type": "display_data"
    },
    {
     "data": {
      "application/vnd.jupyter.widget-view+json": {
       "model_id": "3256caab791348e089115a5389ea31cf",
       "version_major": 2,
       "version_minor": 0
      },
      "text/plain": [
       "eve_l2_lines_2011047_05:   0%|          | 0.00/254k [00:00<?, ?B/s]"
      ]
     },
     "metadata": {},
     "output_type": "display_data"
    },
    {
     "data": {
      "application/vnd.jupyter.widget-view+json": {
       "model_id": "7f8e3dbf9df64198b3a7c131be04f743",
       "version_major": 2,
       "version_minor": 0
      },
      "text/plain": [
       "eve_l2_lines_2011047_06:   0%|          | 0.00/254k [00:00<?, ?B/s]"
      ]
     },
     "metadata": {},
     "output_type": "display_data"
    },
    {
     "data": {
      "application/vnd.jupyter.widget-view+json": {
       "model_id": "84ba77301fbd4ef5bdefb52e63b31bab",
       "version_major": 2,
       "version_minor": 0
      },
      "text/plain": [
       "eve_l2_lines_2011047_07:   0%|          | 0.00/254k [00:00<?, ?B/s]"
      ]
     },
     "metadata": {},
     "output_type": "display_data"
    },
    {
     "data": {
      "application/vnd.jupyter.widget-view+json": {
       "model_id": "0c960649208a4d36a25d65fdda57c887",
       "version_major": 2,
       "version_minor": 0
      },
      "text/plain": [
       "eve_l2_lines_2011047_08:   0%|          | 0.00/254k [00:00<?, ?B/s]"
      ]
     },
     "metadata": {},
     "output_type": "display_data"
    },
    {
     "data": {
      "application/vnd.jupyter.widget-view+json": {
       "model_id": "dec75b930e1740f6b6788aa04c0ea824",
       "version_major": 2,
       "version_minor": 0
      },
      "text/plain": [
       "eve_l2_lines_2011047_09:   0%|          | 0.00/255k [00:00<?, ?B/s]"
      ]
     },
     "metadata": {},
     "output_type": "display_data"
    },
    {
     "data": {
      "application/vnd.jupyter.widget-view+json": {
       "model_id": "a960956343754feb883ced8a6c8f73a5",
       "version_major": 2,
       "version_minor": 0
      },
      "text/plain": [
       "eve_l2_lines_2011047_10:   0%|          | 0.00/254k [00:00<?, ?B/s]"
      ]
     },
     "metadata": {},
     "output_type": "display_data"
    },
    {
     "data": {
      "application/vnd.jupyter.widget-view+json": {
       "model_id": "2c8d7ac823534ce48be1ea65f4758e75",
       "version_major": 2,
       "version_minor": 0
      },
      "text/plain": [
       "eve_l2_lines_2011047_11:   0%|          | 0.00/254k [00:00<?, ?B/s]"
      ]
     },
     "metadata": {},
     "output_type": "display_data"
    },
    {
     "data": {
      "application/vnd.jupyter.widget-view+json": {
       "model_id": "869bb5784ad7460599ca21c6180f7f9a",
       "version_major": 2,
       "version_minor": 0
      },
      "text/plain": [
       "eve_l2_lines_2011047_12:   0%|          | 0.00/254k [00:00<?, ?B/s]"
      ]
     },
     "metadata": {},
     "output_type": "display_data"
    },
    {
     "data": {
      "application/vnd.jupyter.widget-view+json": {
       "model_id": "1c801bc054d446b8ab52c7ca9539cbeb",
       "version_major": 2,
       "version_minor": 0
      },
      "text/plain": [
       "eve_l2_lines_2011047_13:   0%|          | 0.00/254k [00:00<?, ?B/s]"
      ]
     },
     "metadata": {},
     "output_type": "display_data"
    },
    {
     "data": {
      "application/vnd.jupyter.widget-view+json": {
       "model_id": "fb405d182bc644c2a7a8d3fb78ba6759",
       "version_major": 2,
       "version_minor": 0
      },
      "text/plain": [
       "eve_l2_lines_2011047_14:   0%|          | 0.00/255k [00:00<?, ?B/s]"
      ]
     },
     "metadata": {},
     "output_type": "display_data"
    },
    {
     "data": {
      "application/vnd.jupyter.widget-view+json": {
       "model_id": "7070f9cb775e4aa99868807f8141c028",
       "version_major": 2,
       "version_minor": 0
      },
      "text/plain": [
       "eve_l2_lines_2011047_15:   0%|          | 0.00/255k [00:00<?, ?B/s]"
      ]
     },
     "metadata": {},
     "output_type": "display_data"
    },
    {
     "data": {
      "application/vnd.jupyter.widget-view+json": {
       "model_id": "68d807e2afe7449ca2928cf18ceec831",
       "version_major": 2,
       "version_minor": 0
      },
      "text/plain": [
       "eve_l2_lines_2011047_16:   0%|          | 0.00/254k [00:00<?, ?B/s]"
      ]
     },
     "metadata": {},
     "output_type": "display_data"
    },
    {
     "data": {
      "application/vnd.jupyter.widget-view+json": {
       "model_id": "4a0d6d2b817b4a34b67be26aded098aa",
       "version_major": 2,
       "version_minor": 0
      },
      "text/plain": [
       "eve_l2_lines_2011047_17:   0%|          | 0.00/254k [00:00<?, ?B/s]"
      ]
     },
     "metadata": {},
     "output_type": "display_data"
    },
    {
     "data": {
      "application/vnd.jupyter.widget-view+json": {
       "model_id": "dadbb0a806e6451087e4dce6da361a8e",
       "version_major": 2,
       "version_minor": 0
      },
      "text/plain": [
       "eve_l2_lines_2011047_18:   0%|          | 0.00/254k [00:00<?, ?B/s]"
      ]
     },
     "metadata": {},
     "output_type": "display_data"
    },
    {
     "data": {
      "application/vnd.jupyter.widget-view+json": {
       "model_id": "432aed9823084ff485f8e0852a0edd85",
       "version_major": 2,
       "version_minor": 0
      },
      "text/plain": [
       "eve_l2_lines_2011047_19:   0%|          | 0.00/126k [00:00<?, ?B/s]"
      ]
     },
     "metadata": {},
     "output_type": "display_data"
    },
    {
     "data": {
      "application/vnd.jupyter.widget-view+json": {
       "model_id": "f6defa2c41704b4e855c64071c1fd4b7",
       "version_major": 2,
       "version_minor": 0
      },
      "text/plain": [
       "eve_l2_lines_2011047_20:   0%|          | 0.00/143k [00:00<?, ?B/s]"
      ]
     },
     "metadata": {},
     "output_type": "display_data"
    },
    {
     "data": {
      "application/vnd.jupyter.widget-view+json": {
       "model_id": "7c1cd1da38b14f2483f75f8c725f3a9b",
       "version_major": 2,
       "version_minor": 0
      },
      "text/plain": [
       "eve_l2_lines_2011047_21:   0%|          | 0.00/143k [00:00<?, ?B/s]"
      ]
     },
     "metadata": {},
     "output_type": "display_data"
    },
    {
     "data": {
      "application/vnd.jupyter.widget-view+json": {
       "model_id": "900f9d20c0f145a78d0a9281bddbd981",
       "version_major": 2,
       "version_minor": 0
      },
      "text/plain": [
       "eve_l2_lines_2011047_22:   0%|          | 0.00/143k [00:00<?, ?B/s]"
      ]
     },
     "metadata": {},
     "output_type": "display_data"
    },
    {
     "data": {
      "application/vnd.jupyter.widget-view+json": {
       "model_id": "b43613cc21ed46678c11b5b391e70494",
       "version_major": 2,
       "version_minor": 0
      },
      "text/plain": [
       "eve_l2_lines_2011047_23:   0%|          | 0.00/143k [00:00<?, ?B/s]"
      ]
     },
     "metadata": {},
     "output_type": "display_data"
    },
    {
     "data": {
      "application/vnd.jupyter.widget-view+json": {
       "model_id": "61ffc55b818140a8bba656e0c8347923",
       "version_major": 2,
       "version_minor": 0
      },
      "text/plain": [
       "eve_l2_lines_2011048_00:   0%|          | 0.00/143k [00:00<?, ?B/s]"
      ]
     },
     "metadata": {},
     "output_type": "display_data"
    },
    {
     "data": {
      "application/vnd.jupyter.widget-view+json": {
       "model_id": "6d3b943c8efa4cd6ada74cbe88bfe0bc",
       "version_major": 2,
       "version_minor": 0
      },
      "text/plain": [
       "eve_l2_lines_2011048_01:   0%|          | 0.00/143k [00:00<?, ?B/s]"
      ]
     },
     "metadata": {},
     "output_type": "display_data"
    },
    {
     "data": {
      "application/vnd.jupyter.widget-view+json": {
       "model_id": "4a01f402d9e6405d80d1f27399f41547",
       "version_major": 2,
       "version_minor": 0
      },
      "text/plain": [
       "eve_l2_lines_2011048_02:   0%|          | 0.00/143k [00:00<?, ?B/s]"
      ]
     },
     "metadata": {},
     "output_type": "display_data"
    },
    {
     "data": {
      "application/vnd.jupyter.widget-view+json": {
       "model_id": "95dd5e41d0ac45af92e81870297e0f2c",
       "version_major": 2,
       "version_minor": 0
      },
      "text/plain": [
       "eve_l2_lines_2011048_03:   0%|          | 0.00/143k [00:00<?, ?B/s]"
      ]
     },
     "metadata": {},
     "output_type": "display_data"
    },
    {
     "data": {
      "application/vnd.jupyter.widget-view+json": {
       "model_id": "b07698af2d604231b40df90ef81e82a4",
       "version_major": 2,
       "version_minor": 0
      },
      "text/plain": [
       "eve_l2_lines_2011048_04:   0%|          | 0.00/143k [00:00<?, ?B/s]"
      ]
     },
     "metadata": {},
     "output_type": "display_data"
    },
    {
     "data": {
      "application/vnd.jupyter.widget-view+json": {
       "model_id": "ad9d2bb397384a929189de986a8c829e",
       "version_major": 2,
       "version_minor": 0
      },
      "text/plain": [
       "eve_l2_lines_2011048_05:   0%|          | 0.00/143k [00:00<?, ?B/s]"
      ]
     },
     "metadata": {},
     "output_type": "display_data"
    },
    {
     "data": {
      "application/vnd.jupyter.widget-view+json": {
       "model_id": "c402ae8c4a0c4693ba96adc7b8ba185a",
       "version_major": 2,
       "version_minor": 0
      },
      "text/plain": [
       "eve_l2_lines_2011048_06:   0%|          | 0.00/143k [00:00<?, ?B/s]"
      ]
     },
     "metadata": {},
     "output_type": "display_data"
    },
    {
     "data": {
      "application/vnd.jupyter.widget-view+json": {
       "model_id": "f3292fa529494220b2e86f34f40017b1",
       "version_major": 2,
       "version_minor": 0
      },
      "text/plain": [
       "eve_l2_lines_2011048_07:   0%|          | 0.00/143k [00:00<?, ?B/s]"
      ]
     },
     "metadata": {},
     "output_type": "display_data"
    },
    {
     "data": {
      "application/vnd.jupyter.widget-view+json": {
       "model_id": "ad73e07541b24d9f83d575211d7fc616",
       "version_major": 2,
       "version_minor": 0
      },
      "text/plain": [
       "eve_l2_lines_2011048_08:   0%|          | 0.00/143k [00:00<?, ?B/s]"
      ]
     },
     "metadata": {},
     "output_type": "display_data"
    },
    {
     "data": {
      "application/vnd.jupyter.widget-view+json": {
       "model_id": "8b9bea1c199d46acaa0120fc8c175f4a",
       "version_major": 2,
       "version_minor": 0
      },
      "text/plain": [
       "eve_l2_lines_2011048_09:   0%|          | 0.00/143k [00:00<?, ?B/s]"
      ]
     },
     "metadata": {},
     "output_type": "display_data"
    },
    {
     "data": {
      "application/vnd.jupyter.widget-view+json": {
       "model_id": "c7d74aaf2d074019adb67874b5ea6169",
       "version_major": 2,
       "version_minor": 0
      },
      "text/plain": [
       "eve_l2_lines_2011048_10:   0%|          | 0.00/144k [00:00<?, ?B/s]"
      ]
     },
     "metadata": {},
     "output_type": "display_data"
    },
    {
     "data": {
      "application/vnd.jupyter.widget-view+json": {
       "model_id": "4d15dbe1b39f459c872e4507a1f3238b",
       "version_major": 2,
       "version_minor": 0
      },
      "text/plain": [
       "eve_l2_lines_2011048_11:   0%|          | 0.00/143k [00:00<?, ?B/s]"
      ]
     },
     "metadata": {},
     "output_type": "display_data"
    },
    {
     "data": {
      "application/vnd.jupyter.widget-view+json": {
       "model_id": "ba96015da873496ca395b9a2f6dd88c2",
       "version_major": 2,
       "version_minor": 0
      },
      "text/plain": [
       "eve_l2_lines_2011048_12:   0%|          | 0.00/143k [00:00<?, ?B/s]"
      ]
     },
     "metadata": {},
     "output_type": "display_data"
    },
    {
     "data": {
      "application/vnd.jupyter.widget-view+json": {
       "model_id": "f80c9cb8ccd84dc3baf188c5e6d3d07f",
       "version_major": 2,
       "version_minor": 0
      },
      "text/plain": [
       "eve_l2_lines_2011048_13:   0%|          | 0.00/153k [00:00<?, ?B/s]"
      ]
     },
     "metadata": {},
     "output_type": "display_data"
    },
    {
     "data": {
      "application/vnd.jupyter.widget-view+json": {
       "model_id": "f303b23c919f4dcb917b2a094a8639d9",
       "version_major": 2,
       "version_minor": 0
      },
      "text/plain": [
       "eve_l2_lines_2011048_14:   0%|          | 0.00/254k [00:00<?, ?B/s]"
      ]
     },
     "metadata": {},
     "output_type": "display_data"
    },
    {
     "data": {
      "application/vnd.jupyter.widget-view+json": {
       "model_id": "ae85aaadf3cf43f58fbd2d3367e8c42a",
       "version_major": 2,
       "version_minor": 0
      },
      "text/plain": [
       "eve_l2_lines_2011048_15:   0%|          | 0.00/254k [00:00<?, ?B/s]"
      ]
     },
     "metadata": {},
     "output_type": "display_data"
    },
    {
     "data": {
      "application/vnd.jupyter.widget-view+json": {
       "model_id": "e78ab497b11249d684ca4ac64849faa9",
       "version_major": 2,
       "version_minor": 0
      },
      "text/plain": [
       "eve_l2_lines_2011048_16:   0%|          | 0.00/244k [00:00<?, ?B/s]"
      ]
     },
     "metadata": {},
     "output_type": "display_data"
    },
    {
     "data": {
      "application/vnd.jupyter.widget-view+json": {
       "model_id": "c46923f7157941f894f8eb3e35348d93",
       "version_major": 2,
       "version_minor": 0
      },
      "text/plain": [
       "eve_l2_lines_2011048_18:   0%|          | 0.00/143k [00:00<?, ?B/s]"
      ]
     },
     "metadata": {},
     "output_type": "display_data"
    },
    {
     "data": {
      "application/vnd.jupyter.widget-view+json": {
       "model_id": "28984d80dcb143ae959b36e40877a31b",
       "version_major": 2,
       "version_minor": 0
      },
      "text/plain": [
       "eve_l2_lines_2011048_17:   0%|          | 0.00/143k [00:00<?, ?B/s]"
      ]
     },
     "metadata": {},
     "output_type": "display_data"
    },
    {
     "data": {
      "application/vnd.jupyter.widget-view+json": {
       "model_id": "5da776cc09c54c09b60b766c7b884a68",
       "version_major": 2,
       "version_minor": 0
      },
      "text/plain": [
       "eve_l2_lines_2011048_19:   0%|          | 0.00/126k [00:00<?, ?B/s]"
      ]
     },
     "metadata": {},
     "output_type": "display_data"
    },
    {
     "data": {
      "application/vnd.jupyter.widget-view+json": {
       "model_id": "432f4fde0fe64cfa8438d674cbd3680a",
       "version_major": 2,
       "version_minor": 0
      },
      "text/plain": [
       "eve_l2_lines_2011048_20:   0%|          | 0.00/143k [00:00<?, ?B/s]"
      ]
     },
     "metadata": {},
     "output_type": "display_data"
    },
    {
     "data": {
      "application/vnd.jupyter.widget-view+json": {
       "model_id": "53fac9db447f4eee88b70ba347a0a916",
       "version_major": 2,
       "version_minor": 0
      },
      "text/plain": [
       "eve_l2_lines_2011048_21:   0%|          | 0.00/143k [00:00<?, ?B/s]"
      ]
     },
     "metadata": {},
     "output_type": "display_data"
    },
    {
     "data": {
      "application/vnd.jupyter.widget-view+json": {
       "model_id": "787c3b2afa76496ab16e59c3873c764f",
       "version_major": 2,
       "version_minor": 0
      },
      "text/plain": [
       "eve_l2_lines_2011048_22:   0%|          | 0.00/143k [00:00<?, ?B/s]"
      ]
     },
     "metadata": {},
     "output_type": "display_data"
    },
    {
     "data": {
      "application/vnd.jupyter.widget-view+json": {
       "model_id": "4fb91d88e64b4014b03f7b9ff45e7d23",
       "version_major": 2,
       "version_minor": 0
      },
      "text/plain": [
       "eve_l2_lines_2011048_23:   0%|          | 0.00/143k [00:00<?, ?B/s]"
      ]
     },
     "metadata": {},
     "output_type": "display_data"
    },
    {
     "data": {
      "application/vnd.jupyter.widget-view+json": {
       "model_id": "1e0998a0075d4747b0ed4fd7f75731de",
       "version_major": 2,
       "version_minor": 0
      },
      "text/plain": [
       "eve_l2_lines_2011049_00:   0%|          | 0.00/143k [00:00<?, ?B/s]"
      ]
     },
     "metadata": {},
     "output_type": "display_data"
    },
    {
     "data": {
      "application/vnd.jupyter.widget-view+json": {
       "model_id": "af9e28954e3c40bd99731d87a55d1b65",
       "version_major": 2,
       "version_minor": 0
      },
      "text/plain": [
       "eve_l2_lines_2011049_01:   0%|          | 0.00/143k [00:00<?, ?B/s]"
      ]
     },
     "metadata": {},
     "output_type": "display_data"
    },
    {
     "data": {
      "application/vnd.jupyter.widget-view+json": {
       "model_id": "2f2641788023495e9f3976d82eb488f7",
       "version_major": 2,
       "version_minor": 0
      },
      "text/plain": [
       "eve_l2_lines_2011049_02:   0%|          | 0.00/142k [00:00<?, ?B/s]"
      ]
     },
     "metadata": {},
     "output_type": "display_data"
    },
    {
     "data": {
      "application/vnd.jupyter.widget-view+json": {
       "model_id": "1752d5efcdf74de7a2f6936b40a995dd",
       "version_major": 2,
       "version_minor": 0
      },
      "text/plain": [
       "eve_l2_lines_2011049_03:   0%|          | 0.00/143k [00:00<?, ?B/s]"
      ]
     },
     "metadata": {},
     "output_type": "display_data"
    },
    {
     "data": {
      "application/vnd.jupyter.widget-view+json": {
       "model_id": "df5d732f65ad4f4ead11e2277603fdfe",
       "version_major": 2,
       "version_minor": 0
      },
      "text/plain": [
       "eve_l2_lines_2011049_04:   0%|          | 0.00/143k [00:00<?, ?B/s]"
      ]
     },
     "metadata": {},
     "output_type": "display_data"
    },
    {
     "data": {
      "application/vnd.jupyter.widget-view+json": {
       "model_id": "e06f7e8c58c64320b335acc702c382ce",
       "version_major": 2,
       "version_minor": 0
      },
      "text/plain": [
       "eve_l2_lines_2011049_05:   0%|          | 0.00/143k [00:00<?, ?B/s]"
      ]
     },
     "metadata": {},
     "output_type": "display_data"
    },
    {
     "data": {
      "application/vnd.jupyter.widget-view+json": {
       "model_id": "859b322c400e48f5bd2a2a63b57e522e",
       "version_major": 2,
       "version_minor": 0
      },
      "text/plain": [
       "eve_l2_lines_2011049_06:   0%|          | 0.00/143k [00:00<?, ?B/s]"
      ]
     },
     "metadata": {},
     "output_type": "display_data"
    },
    {
     "data": {
      "application/vnd.jupyter.widget-view+json": {
       "model_id": "6b418e994bd44c069bc42cb75fa07e46",
       "version_major": 2,
       "version_minor": 0
      },
      "text/plain": [
       "eve_l2_lines_2011049_07:   0%|          | 0.00/143k [00:00<?, ?B/s]"
      ]
     },
     "metadata": {},
     "output_type": "display_data"
    },
    {
     "data": {
      "application/vnd.jupyter.widget-view+json": {
       "model_id": "d8f08dea366e4821a18d443122855bb2",
       "version_major": 2,
       "version_minor": 0
      },
      "text/plain": [
       "eve_l2_lines_2011049_08:   0%|          | 0.00/143k [00:00<?, ?B/s]"
      ]
     },
     "metadata": {},
     "output_type": "display_data"
    },
    {
     "data": {
      "application/vnd.jupyter.widget-view+json": {
       "model_id": "11e4ed7d75974f20bca3805b9bd4fee0",
       "version_major": 2,
       "version_minor": 0
      },
      "text/plain": [
       "eve_l2_lines_2011049_09:   0%|          | 0.00/143k [00:00<?, ?B/s]"
      ]
     },
     "metadata": {},
     "output_type": "display_data"
    },
    {
     "data": {
      "application/vnd.jupyter.widget-view+json": {
       "model_id": "80737289a4434b0eb7f612f08044c142",
       "version_major": 2,
       "version_minor": 0
      },
      "text/plain": [
       "eve_l2_lines_2011049_10:   0%|          | 0.00/144k [00:00<?, ?B/s]"
      ]
     },
     "metadata": {},
     "output_type": "display_data"
    },
    {
     "data": {
      "application/vnd.jupyter.widget-view+json": {
       "model_id": "6ecd129ef9e8489b8d7aa5459425a867",
       "version_major": 2,
       "version_minor": 0
      },
      "text/plain": [
       "eve_l2_lines_2011049_11:   0%|          | 0.00/143k [00:00<?, ?B/s]"
      ]
     },
     "metadata": {},
     "output_type": "display_data"
    },
    {
     "data": {
      "application/vnd.jupyter.widget-view+json": {
       "model_id": "eaed2674db834326a57654ef9ef51593",
       "version_major": 2,
       "version_minor": 0
      },
      "text/plain": [
       "eve_l2_lines_2011049_12:   0%|          | 0.00/143k [00:00<?, ?B/s]"
      ]
     },
     "metadata": {},
     "output_type": "display_data"
    },
    {
     "data": {
      "application/vnd.jupyter.widget-view+json": {
       "model_id": "53ef5b584e444309b669ab28d6e5570b",
       "version_major": 2,
       "version_minor": 0
      },
      "text/plain": [
       "eve_l2_lines_2011049_13:   0%|          | 0.00/153k [00:00<?, ?B/s]"
      ]
     },
     "metadata": {},
     "output_type": "display_data"
    },
    {
     "data": {
      "application/vnd.jupyter.widget-view+json": {
       "model_id": "9c20bb38894a4cea959006b5cb4474a5",
       "version_major": 2,
       "version_minor": 0
      },
      "text/plain": [
       "eve_l2_lines_2011049_14:   0%|          | 0.00/254k [00:00<?, ?B/s]"
      ]
     },
     "metadata": {},
     "output_type": "display_data"
    },
    {
     "data": {
      "application/vnd.jupyter.widget-view+json": {
       "model_id": "9595596d56a245989d4cf84af3856580",
       "version_major": 2,
       "version_minor": 0
      },
      "text/plain": [
       "eve_l2_lines_2011049_15:   0%|          | 0.00/254k [00:00<?, ?B/s]"
      ]
     },
     "metadata": {},
     "output_type": "display_data"
    },
    {
     "data": {
      "application/vnd.jupyter.widget-view+json": {
       "model_id": "e51dc94588a94b38aad207f62a525852",
       "version_major": 2,
       "version_minor": 0
      },
      "text/plain": [
       "eve_l2_lines_2011049_16:   0%|          | 0.00/244k [00:00<?, ?B/s]"
      ]
     },
     "metadata": {},
     "output_type": "display_data"
    },
    {
     "data": {
      "application/vnd.jupyter.widget-view+json": {
       "model_id": "f80666f2c0b741a59f4b5aede38a076d",
       "version_major": 2,
       "version_minor": 0
      },
      "text/plain": [
       "eve_l2_lines_2011049_17:   0%|          | 0.00/143k [00:00<?, ?B/s]"
      ]
     },
     "metadata": {},
     "output_type": "display_data"
    },
    {
     "data": {
      "application/vnd.jupyter.widget-view+json": {
       "model_id": "2d2f1da157e042deb19f14888c3315b9",
       "version_major": 2,
       "version_minor": 0
      },
      "text/plain": [
       "eve_l2_lines_2011049_18:   0%|          | 0.00/143k [00:00<?, ?B/s]"
      ]
     },
     "metadata": {},
     "output_type": "display_data"
    },
    {
     "data": {
      "application/vnd.jupyter.widget-view+json": {
       "model_id": "71d53a9a99df4e18b7df8f76247d27d0",
       "version_major": 2,
       "version_minor": 0
      },
      "text/plain": [
       "eve_l2_lines_2011049_19:   0%|          | 0.00/143k [00:00<?, ?B/s]"
      ]
     },
     "metadata": {},
     "output_type": "display_data"
    },
    {
     "data": {
      "application/vnd.jupyter.widget-view+json": {
       "model_id": "a6012443dfe64624b7e6dcaec0f13eb1",
       "version_major": 2,
       "version_minor": 0
      },
      "text/plain": [
       "eve_l2_lines_2011049_20:   0%|          | 0.00/143k [00:00<?, ?B/s]"
      ]
     },
     "metadata": {},
     "output_type": "display_data"
    },
    {
     "data": {
      "application/vnd.jupyter.widget-view+json": {
       "model_id": "5fb21185750f4008bf27e86153ae1dd5",
       "version_major": 2,
       "version_minor": 0
      },
      "text/plain": [
       "eve_l2_lines_2011049_21:   0%|          | 0.00/127k [00:00<?, ?B/s]"
      ]
     },
     "metadata": {},
     "output_type": "display_data"
    },
    {
     "data": {
      "application/vnd.jupyter.widget-view+json": {
       "model_id": "05cfb0ebeb584f0990f6935a5897898c",
       "version_major": 2,
       "version_minor": 0
      },
      "text/plain": [
       "eve_l2_lines_2011049_22:   0%|          | 0.00/143k [00:00<?, ?B/s]"
      ]
     },
     "metadata": {},
     "output_type": "display_data"
    },
    {
     "data": {
      "application/vnd.jupyter.widget-view+json": {
       "model_id": "7da39baed69942d489a9a7c16291fad3",
       "version_major": 2,
       "version_minor": 0
      },
      "text/plain": [
       "eve_l2_lines_2011049_23:   0%|          | 0.00/143k [00:00<?, ?B/s]"
      ]
     },
     "metadata": {},
     "output_type": "display_data"
    },
    {
     "data": {
      "application/vnd.jupyter.widget-view+json": {
       "model_id": "f80ed789eabd49109528ed729ad8b7ea",
       "version_major": 2,
       "version_minor": 0
      },
      "text/plain": [
       "eve_l2_lines_2011051_01:   0%|          | 0.00/143k [00:00<?, ?B/s]"
      ]
     },
     "metadata": {},
     "output_type": "display_data"
    },
    {
     "data": {
      "application/vnd.jupyter.widget-view+json": {
       "model_id": "6488f7b4906c47a79d8f4343d65e7996",
       "version_major": 2,
       "version_minor": 0
      },
      "text/plain": [
       "eve_l2_lines_2011051_00:   0%|          | 0.00/143k [00:00<?, ?B/s]"
      ]
     },
     "metadata": {},
     "output_type": "display_data"
    },
    {
     "data": {
      "application/vnd.jupyter.widget-view+json": {
       "model_id": "2ea41968192b418f929f83407de2faed",
       "version_major": 2,
       "version_minor": 0
      },
      "text/plain": [
       "eve_l2_lines_2011051_02:   0%|          | 0.00/143k [00:00<?, ?B/s]"
      ]
     },
     "metadata": {},
     "output_type": "display_data"
    },
    {
     "data": {
      "application/vnd.jupyter.widget-view+json": {
       "model_id": "efda3ed7a33f41399c715ca721900014",
       "version_major": 2,
       "version_minor": 0
      },
      "text/plain": [
       "eve_l2_lines_2011051_03:   0%|          | 0.00/143k [00:00<?, ?B/s]"
      ]
     },
     "metadata": {},
     "output_type": "display_data"
    },
    {
     "data": {
      "application/vnd.jupyter.widget-view+json": {
       "model_id": "4e425ad68aec412d92e2821b13a3aca3",
       "version_major": 2,
       "version_minor": 0
      },
      "text/plain": [
       "eve_l2_lines_2011051_04:   0%|          | 0.00/143k [00:00<?, ?B/s]"
      ]
     },
     "metadata": {},
     "output_type": "display_data"
    },
    {
     "data": {
      "application/vnd.jupyter.widget-view+json": {
       "model_id": "011b58fa1f244c44a6c5bd0e14ef267a",
       "version_major": 2,
       "version_minor": 0
      },
      "text/plain": [
       "eve_l2_lines_2011051_05:   0%|          | 0.00/143k [00:00<?, ?B/s]"
      ]
     },
     "metadata": {},
     "output_type": "display_data"
    },
    {
     "data": {
      "application/vnd.jupyter.widget-view+json": {
       "model_id": "eeaa02c02ca84044b381230a481de9fd",
       "version_major": 2,
       "version_minor": 0
      },
      "text/plain": [
       "eve_l2_lines_2011051_06:   0%|          | 0.00/143k [00:00<?, ?B/s]"
      ]
     },
     "metadata": {},
     "output_type": "display_data"
    },
    {
     "data": {
      "application/vnd.jupyter.widget-view+json": {
       "model_id": "2e011089aaf44b94bdf926ca493cd460",
       "version_major": 2,
       "version_minor": 0
      },
      "text/plain": [
       "eve_l2_lines_2011051_07:   0%|          | 0.00/143k [00:00<?, ?B/s]"
      ]
     },
     "metadata": {},
     "output_type": "display_data"
    },
    {
     "data": {
      "application/vnd.jupyter.widget-view+json": {
       "model_id": "c8c41d28664940e69a05c1155fda4229",
       "version_major": 2,
       "version_minor": 0
      },
      "text/plain": [
       "eve_l2_lines_2011051_08:   0%|          | 0.00/143k [00:00<?, ?B/s]"
      ]
     },
     "metadata": {},
     "output_type": "display_data"
    },
    {
     "data": {
      "application/vnd.jupyter.widget-view+json": {
       "model_id": "43f43f84ff1b492ba8e3e0799cd5a15f",
       "version_major": 2,
       "version_minor": 0
      },
      "text/plain": [
       "eve_l2_lines_2011051_09:   0%|          | 0.00/143k [00:00<?, ?B/s]"
      ]
     },
     "metadata": {},
     "output_type": "display_data"
    },
    {
     "data": {
      "application/vnd.jupyter.widget-view+json": {
       "model_id": "61e79d25172e4a9aab6999a7a62e928c",
       "version_major": 2,
       "version_minor": 0
      },
      "text/plain": [
       "eve_l2_lines_2011051_10:   0%|          | 0.00/143k [00:00<?, ?B/s]"
      ]
     },
     "metadata": {},
     "output_type": "display_data"
    },
    {
     "data": {
      "application/vnd.jupyter.widget-view+json": {
       "model_id": "450b9b1de39143c3b9f80d62e58d4bf9",
       "version_major": 2,
       "version_minor": 0
      },
      "text/plain": [
       "eve_l2_lines_2011051_11:   0%|          | 0.00/143k [00:00<?, ?B/s]"
      ]
     },
     "metadata": {},
     "output_type": "display_data"
    },
    {
     "data": {
      "application/vnd.jupyter.widget-view+json": {
       "model_id": "2f9f4c8b16b14b3ba7de5b0e196a920b",
       "version_major": 2,
       "version_minor": 0
      },
      "text/plain": [
       "eve_l2_lines_2011051_12:   0%|          | 0.00/143k [00:00<?, ?B/s]"
      ]
     },
     "metadata": {},
     "output_type": "display_data"
    },
    {
     "data": {
      "application/vnd.jupyter.widget-view+json": {
       "model_id": "4862acdbc82f4742849fbfe924d8b813",
       "version_major": 2,
       "version_minor": 0
      },
      "text/plain": [
       "eve_l2_lines_2011051_13:   0%|          | 0.00/118k [00:00<?, ?B/s]"
      ]
     },
     "metadata": {},
     "output_type": "display_data"
    },
    {
     "data": {
      "application/vnd.jupyter.widget-view+json": {
       "model_id": "2ff59ec524054281b9637623c9699b36",
       "version_major": 2,
       "version_minor": 0
      },
      "text/plain": [
       "eve_l2_lines_2011051_14:   0%|          | 0.00/254k [00:00<?, ?B/s]"
      ]
     },
     "metadata": {},
     "output_type": "display_data"
    },
    {
     "data": {
      "application/vnd.jupyter.widget-view+json": {
       "model_id": "3426bdcb1c5f4bbe98976bc10afc530c",
       "version_major": 2,
       "version_minor": 0
      },
      "text/plain": [
       "eve_l2_lines_2011051_15:   0%|          | 0.00/254k [00:00<?, ?B/s]"
      ]
     },
     "metadata": {},
     "output_type": "display_data"
    },
    {
     "data": {
      "application/vnd.jupyter.widget-view+json": {
       "model_id": "806f7bae1eb24533bf7da46589fcc3e4",
       "version_major": 2,
       "version_minor": 0
      },
      "text/plain": [
       "eve_l2_lines_2011051_17:   0%|          | 0.00/143k [00:00<?, ?B/s]"
      ]
     },
     "metadata": {},
     "output_type": "display_data"
    },
    {
     "data": {
      "application/vnd.jupyter.widget-view+json": {
       "model_id": "f17a7322d8014cd58c74c650a198ea62",
       "version_major": 2,
       "version_minor": 0
      },
      "text/plain": [
       "eve_l2_lines_2011051_16:   0%|          | 0.00/243k [00:00<?, ?B/s]"
      ]
     },
     "metadata": {},
     "output_type": "display_data"
    },
    {
     "data": {
      "application/vnd.jupyter.widget-view+json": {
       "model_id": "1b2af340b5b94e598d2902f23d95c899",
       "version_major": 2,
       "version_minor": 0
      },
      "text/plain": [
       "eve_l2_lines_2011051_18:   0%|          | 0.00/143k [00:00<?, ?B/s]"
      ]
     },
     "metadata": {},
     "output_type": "display_data"
    },
    {
     "data": {
      "application/vnd.jupyter.widget-view+json": {
       "model_id": "76a216cc7d7c42798657562e2b99b820",
       "version_major": 2,
       "version_minor": 0
      },
      "text/plain": [
       "eve_l2_lines_2011051_19:   0%|          | 0.00/143k [00:00<?, ?B/s]"
      ]
     },
     "metadata": {},
     "output_type": "display_data"
    },
    {
     "data": {
      "application/vnd.jupyter.widget-view+json": {
       "model_id": "bb67e1262e9140dc8175d1d271a04c87",
       "version_major": 2,
       "version_minor": 0
      },
      "text/plain": [
       "eve_l2_lines_2011051_20:   0%|          | 0.00/143k [00:00<?, ?B/s]"
      ]
     },
     "metadata": {},
     "output_type": "display_data"
    },
    {
     "data": {
      "application/vnd.jupyter.widget-view+json": {
       "model_id": "489f1f75a79940649cc3b18531a5ee31",
       "version_major": 2,
       "version_minor": 0
      },
      "text/plain": [
       "eve_l2_lines_2011051_21:   0%|          | 0.00/143k [00:00<?, ?B/s]"
      ]
     },
     "metadata": {},
     "output_type": "display_data"
    },
    {
     "data": {
      "application/vnd.jupyter.widget-view+json": {
       "model_id": "b39d368d10d8401e98b88901a8993437",
       "version_major": 2,
       "version_minor": 0
      },
      "text/plain": [
       "eve_l2_lines_2011051_22:   0%|          | 0.00/143k [00:00<?, ?B/s]"
      ]
     },
     "metadata": {},
     "output_type": "display_data"
    },
    {
     "data": {
      "application/vnd.jupyter.widget-view+json": {
       "model_id": "3cdee744e07b4d7dae24f6898408630a",
       "version_major": 2,
       "version_minor": 0
      },
      "text/plain": [
       "eve_l2_lines_2011051_23:   0%|          | 0.00/143k [00:00<?, ?B/s]"
      ]
     },
     "metadata": {},
     "output_type": "display_data"
    },
    {
     "data": {
      "application/vnd.jupyter.widget-view+json": {
       "model_id": "d65c79ca583d4e6f91bae1dd44108ea7",
       "version_major": 2,
       "version_minor": 0
      },
      "text/plain": [
       "eve_l2_lines_2011052_00:   0%|          | 0.00/143k [00:00<?, ?B/s]"
      ]
     },
     "metadata": {},
     "output_type": "display_data"
    },
    {
     "data": {
      "application/vnd.jupyter.widget-view+json": {
       "model_id": "aaa0f591d30c4420a3d34b32d985b642",
       "version_major": 2,
       "version_minor": 0
      },
      "text/plain": [
       "eve_l2_lines_2011052_01:   0%|          | 0.00/127k [00:00<?, ?B/s]"
      ]
     },
     "metadata": {},
     "output_type": "display_data"
    },
    {
     "data": {
      "application/vnd.jupyter.widget-view+json": {
       "model_id": "1268b56e728f4850b1f3f5b9ca11a88f",
       "version_major": 2,
       "version_minor": 0
      },
      "text/plain": [
       "eve_l2_lines_2011052_02:   0%|          | 0.00/143k [00:00<?, ?B/s]"
      ]
     },
     "metadata": {},
     "output_type": "display_data"
    },
    {
     "data": {
      "application/vnd.jupyter.widget-view+json": {
       "model_id": "b7b3c75f88ae4ba48ff1ecba1f2b3ff5",
       "version_major": 2,
       "version_minor": 0
      },
      "text/plain": [
       "eve_l2_lines_2011052_03:   0%|          | 0.00/143k [00:00<?, ?B/s]"
      ]
     },
     "metadata": {},
     "output_type": "display_data"
    },
    {
     "data": {
      "application/vnd.jupyter.widget-view+json": {
       "model_id": "613cdb33efc44d4d962ae1c01e4266f9",
       "version_major": 2,
       "version_minor": 0
      },
      "text/plain": [
       "eve_l2_lines_2011052_04:   0%|          | 0.00/143k [00:00<?, ?B/s]"
      ]
     },
     "metadata": {},
     "output_type": "display_data"
    },
    {
     "data": {
      "application/vnd.jupyter.widget-view+json": {
       "model_id": "cb205bac51454b1ea702b7270045df89",
       "version_major": 2,
       "version_minor": 0
      },
      "text/plain": [
       "eve_l2_lines_2011052_05:   0%|          | 0.00/142k [00:00<?, ?B/s]"
      ]
     },
     "metadata": {},
     "output_type": "display_data"
    },
    {
     "data": {
      "application/vnd.jupyter.widget-view+json": {
       "model_id": "153a71f464d2455c982951020c213b03",
       "version_major": 2,
       "version_minor": 0
      },
      "text/plain": [
       "eve_l2_lines_2011052_06:   0%|          | 0.00/143k [00:00<?, ?B/s]"
      ]
     },
     "metadata": {},
     "output_type": "display_data"
    },
    {
     "data": {
      "application/vnd.jupyter.widget-view+json": {
       "model_id": "cd3f9ea88a984af19cc87704f30c237d",
       "version_major": 2,
       "version_minor": 0
      },
      "text/plain": [
       "eve_l2_lines_2011052_07:   0%|          | 0.00/142k [00:00<?, ?B/s]"
      ]
     },
     "metadata": {},
     "output_type": "display_data"
    },
    {
     "data": {
      "application/vnd.jupyter.widget-view+json": {
       "model_id": "9fa1557e9f1346ef9342581638bc6059",
       "version_major": 2,
       "version_minor": 0
      },
      "text/plain": [
       "eve_l2_lines_2011052_08:   0%|          | 0.00/142k [00:00<?, ?B/s]"
      ]
     },
     "metadata": {},
     "output_type": "display_data"
    },
    {
     "data": {
      "application/vnd.jupyter.widget-view+json": {
       "model_id": "e4426bb4ffc9457ba8a6c24d3b3759d7",
       "version_major": 2,
       "version_minor": 0
      },
      "text/plain": [
       "eve_l2_lines_2011052_09:   0%|          | 0.00/143k [00:00<?, ?B/s]"
      ]
     },
     "metadata": {},
     "output_type": "display_data"
    },
    {
     "data": {
      "application/vnd.jupyter.widget-view+json": {
       "model_id": "120c93e63a6247a7a0694ed18cf8a584",
       "version_major": 2,
       "version_minor": 0
      },
      "text/plain": [
       "eve_l2_lines_2011052_10:   0%|          | 0.00/143k [00:00<?, ?B/s]"
      ]
     },
     "metadata": {},
     "output_type": "display_data"
    },
    {
     "data": {
      "application/vnd.jupyter.widget-view+json": {
       "model_id": "23c357f8c7d14031a0b95e43554d834a",
       "version_major": 2,
       "version_minor": 0
      },
      "text/plain": [
       "eve_l2_lines_2011052_11:   0%|          | 0.00/141k [00:00<?, ?B/s]"
      ]
     },
     "metadata": {},
     "output_type": "display_data"
    },
    {
     "data": {
      "application/vnd.jupyter.widget-view+json": {
       "model_id": "ce346e3603b04ed1a585dc9c17152656",
       "version_major": 2,
       "version_minor": 0
      },
      "text/plain": [
       "eve_l2_lines_2011052_12:   0%|          | 0.00/140k [00:00<?, ?B/s]"
      ]
     },
     "metadata": {},
     "output_type": "display_data"
    },
    {
     "data": {
      "application/vnd.jupyter.widget-view+json": {
       "model_id": "8548173431304a27ada7ee6d3c543247",
       "version_major": 2,
       "version_minor": 0
      },
      "text/plain": [
       "eve_l2_lines_2011052_13:   0%|          | 0.00/152k [00:00<?, ?B/s]"
      ]
     },
     "metadata": {},
     "output_type": "display_data"
    },
    {
     "data": {
      "application/vnd.jupyter.widget-view+json": {
       "model_id": "753d999b7ceb489f8a09329872f022e4",
       "version_major": 2,
       "version_minor": 0
      },
      "text/plain": [
       "eve_l2_lines_2011052_14:   0%|          | 0.00/253k [00:00<?, ?B/s]"
      ]
     },
     "metadata": {},
     "output_type": "display_data"
    },
    {
     "data": {
      "application/vnd.jupyter.widget-view+json": {
       "model_id": "b76d0b1fb048488f83d072c1752bf17e",
       "version_major": 2,
       "version_minor": 0
      },
      "text/plain": [
       "eve_l2_lines_2011052_15:   0%|          | 0.00/253k [00:00<?, ?B/s]"
      ]
     },
     "metadata": {},
     "output_type": "display_data"
    },
    {
     "data": {
      "application/vnd.jupyter.widget-view+json": {
       "model_id": "62f445251136465d8bfd512c2e6f43c2",
       "version_major": 2,
       "version_minor": 0
      },
      "text/plain": [
       "eve_l2_lines_2011052_16:   0%|          | 0.00/243k [00:00<?, ?B/s]"
      ]
     },
     "metadata": {},
     "output_type": "display_data"
    },
    {
     "data": {
      "application/vnd.jupyter.widget-view+json": {
       "model_id": "2f4ded26dfc74414bd60e3a536988fff",
       "version_major": 2,
       "version_minor": 0
      },
      "text/plain": [
       "eve_l2_lines_2011052_17:   0%|          | 0.00/142k [00:00<?, ?B/s]"
      ]
     },
     "metadata": {},
     "output_type": "display_data"
    },
    {
     "data": {
      "application/vnd.jupyter.widget-view+json": {
       "model_id": "f79a3a5d9ffa4db8921443005f9136db",
       "version_major": 2,
       "version_minor": 0
      },
      "text/plain": [
       "eve_l2_lines_2011052_18:   0%|          | 0.00/141k [00:00<?, ?B/s]"
      ]
     },
     "metadata": {},
     "output_type": "display_data"
    },
    {
     "data": {
      "application/vnd.jupyter.widget-view+json": {
       "model_id": "d750939792be47ffb980133d7371d140",
       "version_major": 2,
       "version_minor": 0
      },
      "text/plain": [
       "eve_l2_lines_2011052_19:   0%|          | 0.00/142k [00:00<?, ?B/s]"
      ]
     },
     "metadata": {},
     "output_type": "display_data"
    },
    {
     "data": {
      "application/vnd.jupyter.widget-view+json": {
       "model_id": "697ac6f0c2dd4cefa7489661f2b2f012",
       "version_major": 2,
       "version_minor": 0
      },
      "text/plain": [
       "eve_l2_lines_2011052_20:   0%|          | 0.00/142k [00:00<?, ?B/s]"
      ]
     },
     "metadata": {},
     "output_type": "display_data"
    },
    {
     "data": {
      "application/vnd.jupyter.widget-view+json": {
       "model_id": "a643b6ee2e764cbf82f77a842b40e1d6",
       "version_major": 2,
       "version_minor": 0
      },
      "text/plain": [
       "eve_l2_lines_2011052_21:   0%|          | 0.00/142k [00:00<?, ?B/s]"
      ]
     },
     "metadata": {},
     "output_type": "display_data"
    },
    {
     "data": {
      "application/vnd.jupyter.widget-view+json": {
       "model_id": "6c24158230bf42db8559fbe4acf2cd2f",
       "version_major": 2,
       "version_minor": 0
      },
      "text/plain": [
       "eve_l2_lines_2011052_22:   0%|          | 0.00/142k [00:00<?, ?B/s]"
      ]
     },
     "metadata": {},
     "output_type": "display_data"
    },
    {
     "data": {
      "application/vnd.jupyter.widget-view+json": {
       "model_id": "e9e2537eef7b46f8ba188a8a97aac7eb",
       "version_major": 2,
       "version_minor": 0
      },
      "text/plain": [
       "eve_l2_lines_2011052_23:   0%|          | 0.00/142k [00:00<?, ?B/s]"
      ]
     },
     "metadata": {},
     "output_type": "display_data"
    },
    {
     "data": {
      "application/vnd.jupyter.widget-view+json": {
       "model_id": "a29a12d733014fb8b000d6458752085b",
       "version_major": 2,
       "version_minor": 0
      },
      "text/plain": [
       "eve_l2_lines_2011053_00:   0%|          | 0.00/143k [00:00<?, ?B/s]"
      ]
     },
     "metadata": {},
     "output_type": "display_data"
    },
    {
     "data": {
      "application/vnd.jupyter.widget-view+json": {
       "model_id": "053ef23da1c04f828f2d949d4f9bcc1c",
       "version_major": 2,
       "version_minor": 0
      },
      "text/plain": [
       "eve_l2_lines_2011053_01:   0%|          | 0.00/143k [00:00<?, ?B/s]"
      ]
     },
     "metadata": {},
     "output_type": "display_data"
    },
    {
     "data": {
      "application/vnd.jupyter.widget-view+json": {
       "model_id": "d53661e099274d57a5526a4b8321f10d",
       "version_major": 2,
       "version_minor": 0
      },
      "text/plain": [
       "eve_l2_lines_2011053_02:   0%|          | 0.00/143k [00:00<?, ?B/s]"
      ]
     },
     "metadata": {},
     "output_type": "display_data"
    },
    {
     "data": {
      "application/vnd.jupyter.widget-view+json": {
       "model_id": "cb904fd86d9b4ea89af6593b93e47e68",
       "version_major": 2,
       "version_minor": 0
      },
      "text/plain": [
       "eve_l2_lines_2011053_03:   0%|          | 0.00/126k [00:00<?, ?B/s]"
      ]
     },
     "metadata": {},
     "output_type": "display_data"
    },
    {
     "data": {
      "application/vnd.jupyter.widget-view+json": {
       "model_id": "d01197dbc63345859219508db3ac6fa1",
       "version_major": 2,
       "version_minor": 0
      },
      "text/plain": [
       "eve_l2_lines_2011053_04:   0%|          | 0.00/143k [00:00<?, ?B/s]"
      ]
     },
     "metadata": {},
     "output_type": "display_data"
    },
    {
     "data": {
      "application/vnd.jupyter.widget-view+json": {
       "model_id": "155edb45574949569750c6eca4d95ed3",
       "version_major": 2,
       "version_minor": 0
      },
      "text/plain": [
       "eve_l2_lines_2011053_05:   0%|          | 0.00/142k [00:00<?, ?B/s]"
      ]
     },
     "metadata": {},
     "output_type": "display_data"
    },
    {
     "data": {
      "application/vnd.jupyter.widget-view+json": {
       "model_id": "3e66d1283b5747f29224eca1d9c62b99",
       "version_major": 2,
       "version_minor": 0
      },
      "text/plain": [
       "eve_l2_lines_2011053_06:   0%|          | 0.00/143k [00:00<?, ?B/s]"
      ]
     },
     "metadata": {},
     "output_type": "display_data"
    },
    {
     "data": {
      "application/vnd.jupyter.widget-view+json": {
       "model_id": "2b67f9c4e60e4cd588fd1a07304df8bc",
       "version_major": 2,
       "version_minor": 0
      },
      "text/plain": [
       "eve_l2_lines_2011053_07:   0%|          | 0.00/143k [00:00<?, ?B/s]"
      ]
     },
     "metadata": {},
     "output_type": "display_data"
    },
    {
     "data": {
      "application/vnd.jupyter.widget-view+json": {
       "model_id": "e902c40de83a42a7bf001e86fceaf43d",
       "version_major": 2,
       "version_minor": 0
      },
      "text/plain": [
       "eve_l2_lines_2011053_08:   0%|          | 0.00/143k [00:00<?, ?B/s]"
      ]
     },
     "metadata": {},
     "output_type": "display_data"
    },
    {
     "data": {
      "application/vnd.jupyter.widget-view+json": {
       "model_id": "95beef3980fd4814a9c3095fc1c2d470",
       "version_major": 2,
       "version_minor": 0
      },
      "text/plain": [
       "eve_l2_lines_2011053_09:   0%|          | 0.00/143k [00:00<?, ?B/s]"
      ]
     },
     "metadata": {},
     "output_type": "display_data"
    },
    {
     "data": {
      "application/vnd.jupyter.widget-view+json": {
       "model_id": "ef51ff0f84c5436aae176972d085937f",
       "version_major": 2,
       "version_minor": 0
      },
      "text/plain": [
       "eve_l2_lines_2011053_10:   0%|          | 0.00/143k [00:00<?, ?B/s]"
      ]
     },
     "metadata": {},
     "output_type": "display_data"
    },
    {
     "data": {
      "application/vnd.jupyter.widget-view+json": {
       "model_id": "d86a19195ee3433091aab0ccb59c8b93",
       "version_major": 2,
       "version_minor": 0
      },
      "text/plain": [
       "eve_l2_lines_2011053_11:   0%|          | 0.00/143k [00:00<?, ?B/s]"
      ]
     },
     "metadata": {},
     "output_type": "display_data"
    },
    {
     "data": {
      "application/vnd.jupyter.widget-view+json": {
       "model_id": "a7b424f6affb4aadb1776d7c8404abc8",
       "version_major": 2,
       "version_minor": 0
      },
      "text/plain": [
       "eve_l2_lines_2011053_12:   0%|          | 0.00/143k [00:00<?, ?B/s]"
      ]
     },
     "metadata": {},
     "output_type": "display_data"
    },
    {
     "data": {
      "application/vnd.jupyter.widget-view+json": {
       "model_id": "f558a600a0ad40a283e58288e51128a5",
       "version_major": 2,
       "version_minor": 0
      },
      "text/plain": [
       "eve_l2_lines_2011053_13:   0%|          | 0.00/143k [00:00<?, ?B/s]"
      ]
     },
     "metadata": {},
     "output_type": "display_data"
    },
    {
     "data": {
      "application/vnd.jupyter.widget-view+json": {
       "model_id": "945b0abd913e4e20a90932044e64451d",
       "version_major": 2,
       "version_minor": 0
      },
      "text/plain": [
       "eve_l2_lines_2011053_14:   0%|          | 0.00/142k [00:00<?, ?B/s]"
      ]
     },
     "metadata": {},
     "output_type": "display_data"
    },
    {
     "data": {
      "application/vnd.jupyter.widget-view+json": {
       "model_id": "15cffa77dd3d499cb4aab31600c394d0",
       "version_major": 2,
       "version_minor": 0
      },
      "text/plain": [
       "eve_l2_lines_2011053_15:   0%|          | 0.00/104k [00:00<?, ?B/s]"
      ]
     },
     "metadata": {},
     "output_type": "display_data"
    },
    {
     "data": {
      "application/vnd.jupyter.widget-view+json": {
       "model_id": "bc9d90614db54d4bbd891bb008959aa6",
       "version_major": 2,
       "version_minor": 0
      },
      "text/plain": [
       "eve_l2_lines_2011053_16:   0%|          | 0.00/115k [00:00<?, ?B/s]"
      ]
     },
     "metadata": {},
     "output_type": "display_data"
    },
    {
     "data": {
      "application/vnd.jupyter.widget-view+json": {
       "model_id": "e94f5c1e4a3444dcbc31955b3c105b6f",
       "version_major": 2,
       "version_minor": 0
      },
      "text/plain": [
       "eve_l2_lines_2011053_17:   0%|          | 0.00/143k [00:00<?, ?B/s]"
      ]
     },
     "metadata": {},
     "output_type": "display_data"
    },
    {
     "data": {
      "application/vnd.jupyter.widget-view+json": {
       "model_id": "268dcf48d205481cb973430b728ec4ab",
       "version_major": 2,
       "version_minor": 0
      },
      "text/plain": [
       "eve_l2_lines_2011053_18:   0%|          | 0.00/143k [00:00<?, ?B/s]"
      ]
     },
     "metadata": {},
     "output_type": "display_data"
    },
    {
     "data": {
      "application/vnd.jupyter.widget-view+json": {
       "model_id": "ea58e701952f46aaa2ace9b8b55e8303",
       "version_major": 2,
       "version_minor": 0
      },
      "text/plain": [
       "eve_l2_lines_2011053_19:   0%|          | 0.00/143k [00:00<?, ?B/s]"
      ]
     },
     "metadata": {},
     "output_type": "display_data"
    },
    {
     "data": {
      "application/vnd.jupyter.widget-view+json": {
       "model_id": "e0d711405fd247a783de9e0195d4a434",
       "version_major": 2,
       "version_minor": 0
      },
      "text/plain": [
       "eve_l2_lines_2011053_20:   0%|          | 0.00/143k [00:00<?, ?B/s]"
      ]
     },
     "metadata": {},
     "output_type": "display_data"
    },
    {
     "data": {
      "application/vnd.jupyter.widget-view+json": {
       "model_id": "86b66224e11343d3a09239df2c5dcb97",
       "version_major": 2,
       "version_minor": 0
      },
      "text/plain": [
       "eve_l2_lines_2011053_21:   0%|          | 0.00/143k [00:00<?, ?B/s]"
      ]
     },
     "metadata": {},
     "output_type": "display_data"
    },
    {
     "data": {
      "application/vnd.jupyter.widget-view+json": {
       "model_id": "1527085c674c4040bedcfc071b67539b",
       "version_major": 2,
       "version_minor": 0
      },
      "text/plain": [
       "eve_l2_lines_2011053_22:   0%|          | 0.00/143k [00:00<?, ?B/s]"
      ]
     },
     "metadata": {},
     "output_type": "display_data"
    },
    {
     "data": {
      "application/vnd.jupyter.widget-view+json": {
       "model_id": "e40d6ca885054d3297aeab59e94230dd",
       "version_major": 2,
       "version_minor": 0
      },
      "text/plain": [
       "eve_l2_lines_2011053_23:   0%|          | 0.00/143k [00:00<?, ?B/s]"
      ]
     },
     "metadata": {},
     "output_type": "display_data"
    },
    {
     "data": {
      "application/vnd.jupyter.widget-view+json": {
       "model_id": "037a4103644c465ebbe4403857a5169e",
       "version_major": 2,
       "version_minor": 0
      },
      "text/plain": [
       "eve_l2_lines_2011054_00:   0%|          | 0.00/143k [00:00<?, ?B/s]"
      ]
     },
     "metadata": {},
     "output_type": "display_data"
    },
    {
     "data": {
      "application/vnd.jupyter.widget-view+json": {
       "model_id": "297cc55506454cc9bbd89dc30a2446a3",
       "version_major": 2,
       "version_minor": 0
      },
      "text/plain": [
       "eve_l2_lines_2011054_01:   0%|          | 0.00/143k [00:00<?, ?B/s]"
      ]
     },
     "metadata": {},
     "output_type": "display_data"
    },
    {
     "data": {
      "application/vnd.jupyter.widget-view+json": {
       "model_id": "7c4514cb79ef494c97d924d624e76eb9",
       "version_major": 2,
       "version_minor": 0
      },
      "text/plain": [
       "eve_l2_lines_2011054_02:   0%|          | 0.00/143k [00:00<?, ?B/s]"
      ]
     },
     "metadata": {},
     "output_type": "display_data"
    },
    {
     "data": {
      "application/vnd.jupyter.widget-view+json": {
       "model_id": "52cd52c33227467bbc9b7be534019d05",
       "version_major": 2,
       "version_minor": 0
      },
      "text/plain": [
       "eve_l2_lines_2011054_03:   0%|          | 0.00/143k [00:00<?, ?B/s]"
      ]
     },
     "metadata": {},
     "output_type": "display_data"
    },
    {
     "data": {
      "application/vnd.jupyter.widget-view+json": {
       "model_id": "366006be63e84ea6975ea32483fe0c77",
       "version_major": 2,
       "version_minor": 0
      },
      "text/plain": [
       "eve_l2_lines_2011054_04:   0%|          | 0.00/143k [00:00<?, ?B/s]"
      ]
     },
     "metadata": {},
     "output_type": "display_data"
    },
    {
     "data": {
      "application/vnd.jupyter.widget-view+json": {
       "model_id": "cd00b32c824447679d981c45bea2de06",
       "version_major": 2,
       "version_minor": 0
      },
      "text/plain": [
       "eve_l2_lines_2011054_05:   0%|          | 0.00/126k [00:00<?, ?B/s]"
      ]
     },
     "metadata": {},
     "output_type": "display_data"
    },
    {
     "data": {
      "application/vnd.jupyter.widget-view+json": {
       "model_id": "de6c67ce15534dcbb3c7571d4086d216",
       "version_major": 2,
       "version_minor": 0
      },
      "text/plain": [
       "eve_l2_lines_2011054_06:   0%|          | 0.00/143k [00:00<?, ?B/s]"
      ]
     },
     "metadata": {},
     "output_type": "display_data"
    },
    {
     "data": {
      "application/vnd.jupyter.widget-view+json": {
       "model_id": "65ccb60ae96e445589ea3544f2c6cf91",
       "version_major": 2,
       "version_minor": 0
      },
      "text/plain": [
       "eve_l2_lines_2011054_07:   0%|          | 0.00/143k [00:00<?, ?B/s]"
      ]
     },
     "metadata": {},
     "output_type": "display_data"
    },
    {
     "data": {
      "application/vnd.jupyter.widget-view+json": {
       "model_id": "6f074d6ddc0a449093b3d5cd63c7d3eb",
       "version_major": 2,
       "version_minor": 0
      },
      "text/plain": [
       "eve_l2_lines_2011054_08:   0%|          | 0.00/143k [00:00<?, ?B/s]"
      ]
     },
     "metadata": {},
     "output_type": "display_data"
    },
    {
     "data": {
      "application/vnd.jupyter.widget-view+json": {
       "model_id": "fcb4ba80152d412a8a08d08fb96e44d6",
       "version_major": 2,
       "version_minor": 0
      },
      "text/plain": [
       "eve_l2_lines_2011054_09:   0%|          | 0.00/143k [00:00<?, ?B/s]"
      ]
     },
     "metadata": {},
     "output_type": "display_data"
    },
    {
     "data": {
      "application/vnd.jupyter.widget-view+json": {
       "model_id": "b06cfbd78d2a40fb8d8d00053779adc1",
       "version_major": 2,
       "version_minor": 0
      },
      "text/plain": [
       "eve_l2_lines_2011054_10:   0%|          | 0.00/143k [00:00<?, ?B/s]"
      ]
     },
     "metadata": {},
     "output_type": "display_data"
    },
    {
     "data": {
      "application/vnd.jupyter.widget-view+json": {
       "model_id": "7936e61e237f4b8ea56580785e56cda5",
       "version_major": 2,
       "version_minor": 0
      },
      "text/plain": [
       "eve_l2_lines_2011054_11:   0%|          | 0.00/143k [00:00<?, ?B/s]"
      ]
     },
     "metadata": {},
     "output_type": "display_data"
    },
    {
     "data": {
      "application/vnd.jupyter.widget-view+json": {
       "model_id": "5a3508d8e873403481957f8d73be82ca",
       "version_major": 2,
       "version_minor": 0
      },
      "text/plain": [
       "eve_l2_lines_2011054_12:   0%|          | 0.00/143k [00:00<?, ?B/s]"
      ]
     },
     "metadata": {},
     "output_type": "display_data"
    },
    {
     "data": {
      "application/vnd.jupyter.widget-view+json": {
       "model_id": "72600958311f490f8db875ee6aec65c9",
       "version_major": 2,
       "version_minor": 0
      },
      "text/plain": [
       "eve_l2_lines_2011054_13:   0%|          | 0.00/143k [00:00<?, ?B/s]"
      ]
     },
     "metadata": {},
     "output_type": "display_data"
    },
    {
     "data": {
      "application/vnd.jupyter.widget-view+json": {
       "model_id": "cc6de448e9f5459999e7c7af169f2ddf",
       "version_major": 2,
       "version_minor": 0
      },
      "text/plain": [
       "eve_l2_lines_2011054_14:   0%|          | 0.00/143k [00:00<?, ?B/s]"
      ]
     },
     "metadata": {},
     "output_type": "display_data"
    },
    {
     "data": {
      "application/vnd.jupyter.widget-view+json": {
       "model_id": "f15435602faf48b5af0d7e10c0e0bf6d",
       "version_major": 2,
       "version_minor": 0
      },
      "text/plain": [
       "eve_l2_lines_2011054_15:   0%|          | 0.00/143k [00:00<?, ?B/s]"
      ]
     },
     "metadata": {},
     "output_type": "display_data"
    },
    {
     "data": {
      "application/vnd.jupyter.widget-view+json": {
       "model_id": "f10ca61e545a4b95a6b80b3346f8dc28",
       "version_major": 2,
       "version_minor": 0
      },
      "text/plain": [
       "eve_l2_lines_2011054_16:   0%|          | 0.00/143k [00:00<?, ?B/s]"
      ]
     },
     "metadata": {},
     "output_type": "display_data"
    },
    {
     "data": {
      "application/vnd.jupyter.widget-view+json": {
       "model_id": "2daac2a458f94d658848c4a56c394ee1",
       "version_major": 2,
       "version_minor": 0
      },
      "text/plain": [
       "eve_l2_lines_2011054_17:   0%|          | 0.00/153k [00:00<?, ?B/s]"
      ]
     },
     "metadata": {},
     "output_type": "display_data"
    },
    {
     "data": {
      "application/vnd.jupyter.widget-view+json": {
       "model_id": "121ca9a33ec748929b726fd9186d60c8",
       "version_major": 2,
       "version_minor": 0
      },
      "text/plain": [
       "eve_l2_lines_2011054_18:   0%|          | 0.00/254k [00:00<?, ?B/s]"
      ]
     },
     "metadata": {},
     "output_type": "display_data"
    },
    {
     "data": {
      "application/vnd.jupyter.widget-view+json": {
       "model_id": "a548a672efbd41f18da832334ab072f6",
       "version_major": 2,
       "version_minor": 0
      },
      "text/plain": [
       "eve_l2_lines_2011054_19:   0%|          | 0.00/254k [00:00<?, ?B/s]"
      ]
     },
     "metadata": {},
     "output_type": "display_data"
    },
    {
     "data": {
      "application/vnd.jupyter.widget-view+json": {
       "model_id": "8dc81925cac44b1f823b0e646dbeff26",
       "version_major": 2,
       "version_minor": 0
      },
      "text/plain": [
       "eve_l2_lines_2011054_20:   0%|          | 0.00/244k [00:00<?, ?B/s]"
      ]
     },
     "metadata": {},
     "output_type": "display_data"
    },
    {
     "data": {
      "application/vnd.jupyter.widget-view+json": {
       "model_id": "bae097aa7e58459ba8ec30bbb3d25ce6",
       "version_major": 2,
       "version_minor": 0
      },
      "text/plain": [
       "eve_l2_lines_2011054_21:   0%|          | 0.00/143k [00:00<?, ?B/s]"
      ]
     },
     "metadata": {},
     "output_type": "display_data"
    },
    {
     "data": {
      "application/vnd.jupyter.widget-view+json": {
       "model_id": "7208ac5ff4dc4aee89a4f5d21b4aa3e7",
       "version_major": 2,
       "version_minor": 0
      },
      "text/plain": [
       "eve_l2_lines_2011054_22:   0%|          | 0.00/143k [00:00<?, ?B/s]"
      ]
     },
     "metadata": {},
     "output_type": "display_data"
    },
    {
     "data": {
      "application/vnd.jupyter.widget-view+json": {
       "model_id": "d47e82e911074c2093fd2ae17015398b",
       "version_major": 2,
       "version_minor": 0
      },
      "text/plain": [
       "eve_l2_lines_2011054_23:   0%|          | 0.00/143k [00:00<?, ?B/s]"
      ]
     },
     "metadata": {},
     "output_type": "display_data"
    },
    {
     "data": {
      "application/vnd.jupyter.widget-view+json": {
       "model_id": "45de2c562dbb4f2fbce9b7d0e87a308e",
       "version_major": 2,
       "version_minor": 0
      },
      "text/plain": [
       "eve_l2_lines_2011055_00:   0%|          | 0.00/143k [00:00<?, ?B/s]"
      ]
     },
     "metadata": {},
     "output_type": "display_data"
    },
    {
     "data": {
      "application/vnd.jupyter.widget-view+json": {
       "model_id": "05bdd1a23bb44dd391ba4133b6922c67",
       "version_major": 2,
       "version_minor": 0
      },
      "text/plain": [
       "eve_l2_lines_2011055_01:   0%|          | 0.00/143k [00:00<?, ?B/s]"
      ]
     },
     "metadata": {},
     "output_type": "display_data"
    },
    {
     "data": {
      "application/vnd.jupyter.widget-view+json": {
       "model_id": "976dbd5229b04c6ab3c7c2f9d04b2a1d",
       "version_major": 2,
       "version_minor": 0
      },
      "text/plain": [
       "eve_l2_lines_2011055_02:   0%|          | 0.00/143k [00:00<?, ?B/s]"
      ]
     },
     "metadata": {},
     "output_type": "display_data"
    },
    {
     "data": {
      "application/vnd.jupyter.widget-view+json": {
       "model_id": "171da6db9fd849a69a6f2a6cde9ff6bd",
       "version_major": 2,
       "version_minor": 0
      },
      "text/plain": [
       "eve_l2_lines_2011055_03:   0%|          | 0.00/143k [00:00<?, ?B/s]"
      ]
     },
     "metadata": {},
     "output_type": "display_data"
    },
    {
     "data": {
      "application/vnd.jupyter.widget-view+json": {
       "model_id": "421f91f9ac2543719898d412594ffc1f",
       "version_major": 2,
       "version_minor": 0
      },
      "text/plain": [
       "eve_l2_lines_2011055_04:   0%|          | 0.00/143k [00:00<?, ?B/s]"
      ]
     },
     "metadata": {},
     "output_type": "display_data"
    },
    {
     "data": {
      "application/vnd.jupyter.widget-view+json": {
       "model_id": "9f02166068d9405297e04dc773216524",
       "version_major": 2,
       "version_minor": 0
      },
      "text/plain": [
       "eve_l2_lines_2011055_05:   0%|          | 0.00/142k [00:00<?, ?B/s]"
      ]
     },
     "metadata": {},
     "output_type": "display_data"
    },
    {
     "data": {
      "application/vnd.jupyter.widget-view+json": {
       "model_id": "6ee65c9d3d7646699bc73d9e3158490c",
       "version_major": 2,
       "version_minor": 0
      },
      "text/plain": [
       "eve_l2_lines_2011055_06:   0%|          | 0.00/143k [00:00<?, ?B/s]"
      ]
     },
     "metadata": {},
     "output_type": "display_data"
    },
    {
     "data": {
      "application/vnd.jupyter.widget-view+json": {
       "model_id": "ad86e4a03cf448dc97eab2a733933482",
       "version_major": 2,
       "version_minor": 0
      },
      "text/plain": [
       "eve_l2_lines_2011055_08:   0%|          | 0.00/143k [00:00<?, ?B/s]"
      ]
     },
     "metadata": {},
     "output_type": "display_data"
    },
    {
     "data": {
      "application/vnd.jupyter.widget-view+json": {
       "model_id": "c64a4576b05e423a91edc2fa298a2e64",
       "version_major": 2,
       "version_minor": 0
      },
      "text/plain": [
       "eve_l2_lines_2011055_09:   0%|          | 0.00/143k [00:00<?, ?B/s]"
      ]
     },
     "metadata": {},
     "output_type": "display_data"
    },
    {
     "data": {
      "application/vnd.jupyter.widget-view+json": {
       "model_id": "9aee45b689f2454f9c4ec9f3fea0d648",
       "version_major": 2,
       "version_minor": 0
      },
      "text/plain": [
       "eve_l2_lines_2011055_07:   0%|          | 0.00/127k [00:00<?, ?B/s]"
      ]
     },
     "metadata": {},
     "output_type": "display_data"
    },
    {
     "data": {
      "application/vnd.jupyter.widget-view+json": {
       "model_id": "d895029426844565afa37dd66f1f169c",
       "version_major": 2,
       "version_minor": 0
      },
      "text/plain": [
       "eve_l2_lines_2011055_10:   0%|          | 0.00/143k [00:00<?, ?B/s]"
      ]
     },
     "metadata": {},
     "output_type": "display_data"
    },
    {
     "data": {
      "application/vnd.jupyter.widget-view+json": {
       "model_id": "26fec42b8f1f4aaaada99c5dd3522ad9",
       "version_major": 2,
       "version_minor": 0
      },
      "text/plain": [
       "eve_l2_lines_2011055_11:   0%|          | 0.00/143k [00:00<?, ?B/s]"
      ]
     },
     "metadata": {},
     "output_type": "display_data"
    },
    {
     "data": {
      "application/vnd.jupyter.widget-view+json": {
       "model_id": "c4b9ef73963249ac8a97cbcf840e248b",
       "version_major": 2,
       "version_minor": 0
      },
      "text/plain": [
       "eve_l2_lines_2011055_12:   0%|          | 0.00/143k [00:00<?, ?B/s]"
      ]
     },
     "metadata": {},
     "output_type": "display_data"
    },
    {
     "data": {
      "application/vnd.jupyter.widget-view+json": {
       "model_id": "f30e01ced3f04ec782e5684943383160",
       "version_major": 2,
       "version_minor": 0
      },
      "text/plain": [
       "eve_l2_lines_2011055_13:   0%|          | 0.00/143k [00:00<?, ?B/s]"
      ]
     },
     "metadata": {},
     "output_type": "display_data"
    },
    {
     "data": {
      "application/vnd.jupyter.widget-view+json": {
       "model_id": "2811ae6a421d4910b00ec1c46bad59a0",
       "version_major": 2,
       "version_minor": 0
      },
      "text/plain": [
       "eve_l2_lines_2011055_14:   0%|          | 0.00/143k [00:00<?, ?B/s]"
      ]
     },
     "metadata": {},
     "output_type": "display_data"
    },
    {
     "data": {
      "application/vnd.jupyter.widget-view+json": {
       "model_id": "a4edf2a6586d4dd68314fa73238b87cf",
       "version_major": 2,
       "version_minor": 0
      },
      "text/plain": [
       "eve_l2_lines_2011055_15:   0%|          | 0.00/143k [00:00<?, ?B/s]"
      ]
     },
     "metadata": {},
     "output_type": "display_data"
    },
    {
     "data": {
      "application/vnd.jupyter.widget-view+json": {
       "model_id": "bedf2678ea4e439e8625bce7d6d57987",
       "version_major": 2,
       "version_minor": 0
      },
      "text/plain": [
       "eve_l2_lines_2011055_16:   0%|          | 0.00/143k [00:00<?, ?B/s]"
      ]
     },
     "metadata": {},
     "output_type": "display_data"
    },
    {
     "data": {
      "application/vnd.jupyter.widget-view+json": {
       "model_id": "89e54bee2d11407fab49501eee79dce2",
       "version_major": 2,
       "version_minor": 0
      },
      "text/plain": [
       "eve_l2_lines_2011055_17:   0%|          | 0.00/153k [00:00<?, ?B/s]"
      ]
     },
     "metadata": {},
     "output_type": "display_data"
    },
    {
     "data": {
      "application/vnd.jupyter.widget-view+json": {
       "model_id": "dcfe768240754424bd114a952a0ab72f",
       "version_major": 2,
       "version_minor": 0
      },
      "text/plain": [
       "eve_l2_lines_2011055_18:   0%|          | 0.00/254k [00:00<?, ?B/s]"
      ]
     },
     "metadata": {},
     "output_type": "display_data"
    },
    {
     "data": {
      "application/vnd.jupyter.widget-view+json": {
       "model_id": "117085e48893455bb4d0ee0094e9119b",
       "version_major": 2,
       "version_minor": 0
      },
      "text/plain": [
       "eve_l2_lines_2011055_19:   0%|          | 0.00/254k [00:00<?, ?B/s]"
      ]
     },
     "metadata": {},
     "output_type": "display_data"
    },
    {
     "data": {
      "application/vnd.jupyter.widget-view+json": {
       "model_id": "8cefd8c478ad4d80bd8f504e3cf91520",
       "version_major": 2,
       "version_minor": 0
      },
      "text/plain": [
       "eve_l2_lines_2011055_20:   0%|          | 0.00/244k [00:00<?, ?B/s]"
      ]
     },
     "metadata": {},
     "output_type": "display_data"
    },
    {
     "data": {
      "application/vnd.jupyter.widget-view+json": {
       "model_id": "eb836df9785c45f9b1c6701718b22300",
       "version_major": 2,
       "version_minor": 0
      },
      "text/plain": [
       "eve_l2_lines_2011055_21:   0%|          | 0.00/143k [00:00<?, ?B/s]"
      ]
     },
     "metadata": {},
     "output_type": "display_data"
    },
    {
     "data": {
      "application/vnd.jupyter.widget-view+json": {
       "model_id": "f654ebdedb6f4335bf618bd4f6e6e625",
       "version_major": 2,
       "version_minor": 0
      },
      "text/plain": [
       "eve_l2_lines_2011055_22:   0%|          | 0.00/143k [00:00<?, ?B/s]"
      ]
     },
     "metadata": {},
     "output_type": "display_data"
    },
    {
     "data": {
      "application/vnd.jupyter.widget-view+json": {
       "model_id": "d12bf75a0bd04dffb6ddeac2a49b7740",
       "version_major": 2,
       "version_minor": 0
      },
      "text/plain": [
       "eve_l2_lines_2011055_23:   0%|          | 0.00/143k [00:00<?, ?B/s]"
      ]
     },
     "metadata": {},
     "output_type": "display_data"
    },
    {
     "data": {
      "application/vnd.jupyter.widget-view+json": {
       "model_id": "7e2814afa43b4d95a85ec8219034cbf6",
       "version_major": 2,
       "version_minor": 0
      },
      "text/plain": [
       "eve_l2_lines_2011056_00:   0%|          | 0.00/143k [00:00<?, ?B/s]"
      ]
     },
     "metadata": {},
     "output_type": "display_data"
    },
    {
     "data": {
      "application/vnd.jupyter.widget-view+json": {
       "model_id": "463de8a7f5cc4a5d82f1764b0eecef35",
       "version_major": 2,
       "version_minor": 0
      },
      "text/plain": [
       "eve_l2_lines_2011056_01:   0%|          | 0.00/143k [00:00<?, ?B/s]"
      ]
     },
     "metadata": {},
     "output_type": "display_data"
    },
    {
     "data": {
      "application/vnd.jupyter.widget-view+json": {
       "model_id": "26b991955d7e4d0b800c3d35a40b76ff",
       "version_major": 2,
       "version_minor": 0
      },
      "text/plain": [
       "eve_l2_lines_2011056_02:   0%|          | 0.00/143k [00:00<?, ?B/s]"
      ]
     },
     "metadata": {},
     "output_type": "display_data"
    },
    {
     "data": {
      "application/vnd.jupyter.widget-view+json": {
       "model_id": "6bb4f79973494909a62bff67153e3c70",
       "version_major": 2,
       "version_minor": 0
      },
      "text/plain": [
       "eve_l2_lines_2011056_03:   0%|          | 0.00/143k [00:00<?, ?B/s]"
      ]
     },
     "metadata": {},
     "output_type": "display_data"
    },
    {
     "data": {
      "application/vnd.jupyter.widget-view+json": {
       "model_id": "4976dbf9230c4e05af60ed246a5ad496",
       "version_major": 2,
       "version_minor": 0
      },
      "text/plain": [
       "eve_l2_lines_2011056_04:   0%|          | 0.00/143k [00:00<?, ?B/s]"
      ]
     },
     "metadata": {},
     "output_type": "display_data"
    },
    {
     "data": {
      "application/vnd.jupyter.widget-view+json": {
       "model_id": "b392eac3689c4b75bc1f8d2fe7e86420",
       "version_major": 2,
       "version_minor": 0
      },
      "text/plain": [
       "eve_l2_lines_2011056_05:   0%|          | 0.00/143k [00:00<?, ?B/s]"
      ]
     },
     "metadata": {},
     "output_type": "display_data"
    },
    {
     "data": {
      "application/vnd.jupyter.widget-view+json": {
       "model_id": "d1f578a7c2f6409ab6151117d450b77c",
       "version_major": 2,
       "version_minor": 0
      },
      "text/plain": [
       "eve_l2_lines_2011056_06:   0%|          | 0.00/143k [00:00<?, ?B/s]"
      ]
     },
     "metadata": {},
     "output_type": "display_data"
    },
    {
     "data": {
      "application/vnd.jupyter.widget-view+json": {
       "model_id": "8433613e1b7a49ad9bfce7d6c0fa2d6b",
       "version_major": 2,
       "version_minor": 0
      },
      "text/plain": [
       "eve_l2_lines_2011056_07:   0%|          | 0.00/143k [00:00<?, ?B/s]"
      ]
     },
     "metadata": {},
     "output_type": "display_data"
    },
    {
     "data": {
      "application/vnd.jupyter.widget-view+json": {
       "model_id": "1cb007dea5244bd882bf166cf7231bdc",
       "version_major": 2,
       "version_minor": 0
      },
      "text/plain": [
       "eve_l2_lines_2011056_08:   0%|          | 0.00/143k [00:00<?, ?B/s]"
      ]
     },
     "metadata": {},
     "output_type": "display_data"
    },
    {
     "data": {
      "application/vnd.jupyter.widget-view+json": {
       "model_id": "e88acfa35282426f8503e83bb1421f8d",
       "version_major": 2,
       "version_minor": 0
      },
      "text/plain": [
       "eve_l2_lines_2011056_09:   0%|          | 0.00/126k [00:00<?, ?B/s]"
      ]
     },
     "metadata": {},
     "output_type": "display_data"
    },
    {
     "data": {
      "application/vnd.jupyter.widget-view+json": {
       "model_id": "bdf4f85a8be84604885b2748bf5cb0bf",
       "version_major": 2,
       "version_minor": 0
      },
      "text/plain": [
       "eve_l2_lines_2011056_10:   0%|          | 0.00/143k [00:00<?, ?B/s]"
      ]
     },
     "metadata": {},
     "output_type": "display_data"
    },
    {
     "data": {
      "application/vnd.jupyter.widget-view+json": {
       "model_id": "6d9a4b9ee4e5418c99878a7dece7d127",
       "version_major": 2,
       "version_minor": 0
      },
      "text/plain": [
       "eve_l2_lines_2011056_11:   0%|          | 0.00/143k [00:00<?, ?B/s]"
      ]
     },
     "metadata": {},
     "output_type": "display_data"
    },
    {
     "data": {
      "application/vnd.jupyter.widget-view+json": {
       "model_id": "8ce6d1ee40ca4a3782dd84fe92d9f12b",
       "version_major": 2,
       "version_minor": 0
      },
      "text/plain": [
       "eve_l2_lines_2011056_12:   0%|          | 0.00/143k [00:00<?, ?B/s]"
      ]
     },
     "metadata": {},
     "output_type": "display_data"
    },
    {
     "data": {
      "application/vnd.jupyter.widget-view+json": {
       "model_id": "29f8e6484d304556901a9ce76e662e09",
       "version_major": 2,
       "version_minor": 0
      },
      "text/plain": [
       "eve_l2_lines_2011056_13:   0%|          | 0.00/143k [00:00<?, ?B/s]"
      ]
     },
     "metadata": {},
     "output_type": "display_data"
    },
    {
     "data": {
      "application/vnd.jupyter.widget-view+json": {
       "model_id": "866911cd13b04e8bb3887257b6c373dc",
       "version_major": 2,
       "version_minor": 0
      },
      "text/plain": [
       "eve_l2_lines_2011056_14:   0%|          | 0.00/143k [00:00<?, ?B/s]"
      ]
     },
     "metadata": {},
     "output_type": "display_data"
    },
    {
     "data": {
      "application/vnd.jupyter.widget-view+json": {
       "model_id": "c3c9d54cb97345c7a953e089f452ea91",
       "version_major": 2,
       "version_minor": 0
      },
      "text/plain": [
       "eve_l2_lines_2011056_15:   0%|          | 0.00/143k [00:00<?, ?B/s]"
      ]
     },
     "metadata": {},
     "output_type": "display_data"
    },
    {
     "data": {
      "application/vnd.jupyter.widget-view+json": {
       "model_id": "9dd2309849df453494fed96715b8a4cb",
       "version_major": 2,
       "version_minor": 0
      },
      "text/plain": [
       "eve_l2_lines_2011056_16:   0%|          | 0.00/143k [00:00<?, ?B/s]"
      ]
     },
     "metadata": {},
     "output_type": "display_data"
    },
    {
     "data": {
      "application/vnd.jupyter.widget-view+json": {
       "model_id": "789417b9460a4860987eecafe99b2911",
       "version_major": 2,
       "version_minor": 0
      },
      "text/plain": [
       "eve_l2_lines_2011056_17:   0%|          | 0.00/153k [00:00<?, ?B/s]"
      ]
     },
     "metadata": {},
     "output_type": "display_data"
    },
    {
     "data": {
      "application/vnd.jupyter.widget-view+json": {
       "model_id": "6b8b88fb513f4ff0b39533ba74fd26e9",
       "version_major": 2,
       "version_minor": 0
      },
      "text/plain": [
       "eve_l2_lines_2011056_18:   0%|          | 0.00/254k [00:00<?, ?B/s]"
      ]
     },
     "metadata": {},
     "output_type": "display_data"
    },
    {
     "data": {
      "application/vnd.jupyter.widget-view+json": {
       "model_id": "af03eb540d1e483c916ef901cabb770d",
       "version_major": 2,
       "version_minor": 0
      },
      "text/plain": [
       "eve_l2_lines_2011056_20:   0%|          | 0.00/244k [00:00<?, ?B/s]"
      ]
     },
     "metadata": {},
     "output_type": "display_data"
    },
    {
     "data": {
      "application/vnd.jupyter.widget-view+json": {
       "model_id": "39a385b1482e44eab294435deef59388",
       "version_major": 2,
       "version_minor": 0
      },
      "text/plain": [
       "eve_l2_lines_2011056_21:   0%|          | 0.00/143k [00:00<?, ?B/s]"
      ]
     },
     "metadata": {},
     "output_type": "display_data"
    },
    {
     "data": {
      "application/vnd.jupyter.widget-view+json": {
       "model_id": "959db2514240429b93297eb66d79d7ec",
       "version_major": 2,
       "version_minor": 0
      },
      "text/plain": [
       "eve_l2_lines_2011056_19:   0%|          | 0.00/254k [00:00<?, ?B/s]"
      ]
     },
     "metadata": {},
     "output_type": "display_data"
    },
    {
     "data": {
      "application/vnd.jupyter.widget-view+json": {
       "model_id": "6f417a1b9002409fae0764e75aacf1c6",
       "version_major": 2,
       "version_minor": 0
      },
      "text/plain": [
       "eve_l2_lines_2011056_22:   0%|          | 0.00/143k [00:00<?, ?B/s]"
      ]
     },
     "metadata": {},
     "output_type": "display_data"
    },
    {
     "data": {
      "application/vnd.jupyter.widget-view+json": {
       "model_id": "828e1a98db094501a057f3d10db68a10",
       "version_major": 2,
       "version_minor": 0
      },
      "text/plain": [
       "eve_l2_lines_2011056_23:   0%|          | 0.00/143k [00:00<?, ?B/s]"
      ]
     },
     "metadata": {},
     "output_type": "display_data"
    },
    {
     "data": {
      "application/vnd.jupyter.widget-view+json": {
       "model_id": "f8cebe2aa3a94ca4933801bbd1f209f7",
       "version_major": 2,
       "version_minor": 0
      },
      "text/plain": [
       "eve_l2_lines_2011057_00:   0%|          | 0.00/143k [00:00<?, ?B/s]"
      ]
     },
     "metadata": {},
     "output_type": "display_data"
    },
    {
     "data": {
      "application/vnd.jupyter.widget-view+json": {
       "model_id": "2cfc09c43dcc41af9032d28d9647c9ef",
       "version_major": 2,
       "version_minor": 0
      },
      "text/plain": [
       "eve_l2_lines_2011057_01:   0%|          | 0.00/143k [00:00<?, ?B/s]"
      ]
     },
     "metadata": {},
     "output_type": "display_data"
    },
    {
     "data": {
      "application/vnd.jupyter.widget-view+json": {
       "model_id": "9a5719d2a62547c18bc567e86fb2ec5f",
       "version_major": 2,
       "version_minor": 0
      },
      "text/plain": [
       "eve_l2_lines_2011057_02:   0%|          | 0.00/143k [00:00<?, ?B/s]"
      ]
     },
     "metadata": {},
     "output_type": "display_data"
    },
    {
     "data": {
      "application/vnd.jupyter.widget-view+json": {
       "model_id": "d3b90ac36e844373885872252d62f7fe",
       "version_major": 2,
       "version_minor": 0
      },
      "text/plain": [
       "eve_l2_lines_2011057_03:   0%|          | 0.00/143k [00:00<?, ?B/s]"
      ]
     },
     "metadata": {},
     "output_type": "display_data"
    },
    {
     "data": {
      "application/vnd.jupyter.widget-view+json": {
       "model_id": "f1c119dbdc6742b8be29bab0d49f4828",
       "version_major": 2,
       "version_minor": 0
      },
      "text/plain": [
       "eve_l2_lines_2011057_04:   0%|          | 0.00/143k [00:00<?, ?B/s]"
      ]
     },
     "metadata": {},
     "output_type": "display_data"
    },
    {
     "data": {
      "application/vnd.jupyter.widget-view+json": {
       "model_id": "f67064b63cf848ec984dd2f0d4e06e12",
       "version_major": 2,
       "version_minor": 0
      },
      "text/plain": [
       "eve_l2_lines_2011057_06:   0%|          | 0.00/143k [00:00<?, ?B/s]"
      ]
     },
     "metadata": {},
     "output_type": "display_data"
    },
    {
     "data": {
      "application/vnd.jupyter.widget-view+json": {
       "model_id": "5b629af88a8f4f8a9c020772cff32a86",
       "version_major": 2,
       "version_minor": 0
      },
      "text/plain": [
       "eve_l2_lines_2011057_05:   0%|          | 0.00/142k [00:00<?, ?B/s]"
      ]
     },
     "metadata": {},
     "output_type": "display_data"
    },
    {
     "data": {
      "application/vnd.jupyter.widget-view+json": {
       "model_id": "a9812b9cc3c24291a5e57ccc107716ae",
       "version_major": 2,
       "version_minor": 0
      },
      "text/plain": [
       "eve_l2_lines_2011057_07:   0%|          | 0.00/143k [00:00<?, ?B/s]"
      ]
     },
     "metadata": {},
     "output_type": "display_data"
    },
    {
     "data": {
      "application/vnd.jupyter.widget-view+json": {
       "model_id": "a512c07966784abd966ff15c1d656951",
       "version_major": 2,
       "version_minor": 0
      },
      "text/plain": [
       "eve_l2_lines_2011057_08:   0%|          | 0.00/143k [00:00<?, ?B/s]"
      ]
     },
     "metadata": {},
     "output_type": "display_data"
    },
    {
     "data": {
      "application/vnd.jupyter.widget-view+json": {
       "model_id": "badd754ee66e47f0a55bd57c3ac4aeb1",
       "version_major": 2,
       "version_minor": 0
      },
      "text/plain": [
       "eve_l2_lines_2011057_09:   0%|          | 0.00/143k [00:00<?, ?B/s]"
      ]
     },
     "metadata": {},
     "output_type": "display_data"
    },
    {
     "data": {
      "application/vnd.jupyter.widget-view+json": {
       "model_id": "2443b424defa4f03b70dec8318e9e9dc",
       "version_major": 2,
       "version_minor": 0
      },
      "text/plain": [
       "eve_l2_lines_2011057_10:   0%|          | 0.00/143k [00:00<?, ?B/s]"
      ]
     },
     "metadata": {},
     "output_type": "display_data"
    },
    {
     "data": {
      "application/vnd.jupyter.widget-view+json": {
       "model_id": "08caa4ecc305431eb94df72a83e75319",
       "version_major": 2,
       "version_minor": 0
      },
      "text/plain": [
       "eve_l2_lines_2011057_11:   0%|          | 0.00/127k [00:00<?, ?B/s]"
      ]
     },
     "metadata": {},
     "output_type": "display_data"
    },
    {
     "data": {
      "application/vnd.jupyter.widget-view+json": {
       "model_id": "84438fe1c66d409d8a409ed08db5cb80",
       "version_major": 2,
       "version_minor": 0
      },
      "text/plain": [
       "eve_l2_lines_2011057_12:   0%|          | 0.00/143k [00:00<?, ?B/s]"
      ]
     },
     "metadata": {},
     "output_type": "display_data"
    },
    {
     "data": {
      "application/vnd.jupyter.widget-view+json": {
       "model_id": "25591da2f361442d822bbb254fb35cc2",
       "version_major": 2,
       "version_minor": 0
      },
      "text/plain": [
       "eve_l2_lines_2011057_13:   0%|          | 0.00/143k [00:00<?, ?B/s]"
      ]
     },
     "metadata": {},
     "output_type": "display_data"
    },
    {
     "data": {
      "application/vnd.jupyter.widget-view+json": {
       "model_id": "78d8d0e353c948fba1beaa913a1db37f",
       "version_major": 2,
       "version_minor": 0
      },
      "text/plain": [
       "eve_l2_lines_2011057_14:   0%|          | 0.00/143k [00:00<?, ?B/s]"
      ]
     },
     "metadata": {},
     "output_type": "display_data"
    },
    {
     "data": {
      "application/vnd.jupyter.widget-view+json": {
       "model_id": "07773cdfa0d94c27a304e79a24b92aa2",
       "version_major": 2,
       "version_minor": 0
      },
      "text/plain": [
       "eve_l2_lines_2011057_15:   0%|          | 0.00/143k [00:00<?, ?B/s]"
      ]
     },
     "metadata": {},
     "output_type": "display_data"
    },
    {
     "data": {
      "application/vnd.jupyter.widget-view+json": {
       "model_id": "0b4a186b090d447fa5f098b34fff66bd",
       "version_major": 2,
       "version_minor": 0
      },
      "text/plain": [
       "eve_l2_lines_2011057_16:   0%|          | 0.00/143k [00:00<?, ?B/s]"
      ]
     },
     "metadata": {},
     "output_type": "display_data"
    },
    {
     "data": {
      "application/vnd.jupyter.widget-view+json": {
       "model_id": "05098df2150347608e98d797e5e97535",
       "version_major": 2,
       "version_minor": 0
      },
      "text/plain": [
       "eve_l2_lines_2011057_17:   0%|          | 0.00/153k [00:00<?, ?B/s]"
      ]
     },
     "metadata": {},
     "output_type": "display_data"
    },
    {
     "data": {
      "application/vnd.jupyter.widget-view+json": {
       "model_id": "3b8b1a0b0df54b08aa57bc2f909d0d10",
       "version_major": 2,
       "version_minor": 0
      },
      "text/plain": [
       "eve_l2_lines_2011057_18:   0%|          | 0.00/254k [00:00<?, ?B/s]"
      ]
     },
     "metadata": {},
     "output_type": "display_data"
    },
    {
     "data": {
      "application/vnd.jupyter.widget-view+json": {
       "model_id": "97c7cf40ffd4427c890df698cd7d2785",
       "version_major": 2,
       "version_minor": 0
      },
      "text/plain": [
       "eve_l2_lines_2011057_19:   0%|          | 0.00/254k [00:00<?, ?B/s]"
      ]
     },
     "metadata": {},
     "output_type": "display_data"
    },
    {
     "data": {
      "application/vnd.jupyter.widget-view+json": {
       "model_id": "a86c19bbd94f402eaee915070523660e",
       "version_major": 2,
       "version_minor": 0
      },
      "text/plain": [
       "eve_l2_lines_2011057_20:   0%|          | 0.00/244k [00:00<?, ?B/s]"
      ]
     },
     "metadata": {},
     "output_type": "display_data"
    },
    {
     "data": {
      "application/vnd.jupyter.widget-view+json": {
       "model_id": "29041e2dee6644ea9973e8e23ac06b27",
       "version_major": 2,
       "version_minor": 0
      },
      "text/plain": [
       "eve_l2_lines_2011057_21:   0%|          | 0.00/143k [00:00<?, ?B/s]"
      ]
     },
     "metadata": {},
     "output_type": "display_data"
    },
    {
     "data": {
      "application/vnd.jupyter.widget-view+json": {
       "model_id": "6ea5ffec5c184a308f87fb3b306db2d5",
       "version_major": 2,
       "version_minor": 0
      },
      "text/plain": [
       "eve_l2_lines_2011057_22:   0%|          | 0.00/143k [00:00<?, ?B/s]"
      ]
     },
     "metadata": {},
     "output_type": "display_data"
    },
    {
     "data": {
      "application/vnd.jupyter.widget-view+json": {
       "model_id": "65ab925c9ce14b2ba188038ff1a33d0c",
       "version_major": 2,
       "version_minor": 0
      },
      "text/plain": [
       "eve_l2_lines_2011057_23:   0%|          | 0.00/143k [00:00<?, ?B/s]"
      ]
     },
     "metadata": {},
     "output_type": "display_data"
    },
    {
     "data": {
      "application/vnd.jupyter.widget-view+json": {
       "model_id": "a603648a50bf400783bed3f81aae67f3",
       "version_major": 2,
       "version_minor": 0
      },
      "text/plain": [
       "eve_l2_lines_2011058_00:   0%|          | 0.00/143k [00:00<?, ?B/s]"
      ]
     },
     "metadata": {},
     "output_type": "display_data"
    },
    {
     "data": {
      "application/vnd.jupyter.widget-view+json": {
       "model_id": "4e73642fc3bb4143ac1a2042038dc732",
       "version_major": 2,
       "version_minor": 0
      },
      "text/plain": [
       "eve_l2_lines_2011058_01:   0%|          | 0.00/143k [00:00<?, ?B/s]"
      ]
     },
     "metadata": {},
     "output_type": "display_data"
    },
    {
     "data": {
      "application/vnd.jupyter.widget-view+json": {
       "model_id": "7fcf5f3cb1384aedab19a8da7ad358af",
       "version_major": 2,
       "version_minor": 0
      },
      "text/plain": [
       "eve_l2_lines_2011058_02:   0%|          | 0.00/143k [00:00<?, ?B/s]"
      ]
     },
     "metadata": {},
     "output_type": "display_data"
    },
    {
     "data": {
      "application/vnd.jupyter.widget-view+json": {
       "model_id": "e1222d5c6eb040cbb37c3a2e08f2646e",
       "version_major": 2,
       "version_minor": 0
      },
      "text/plain": [
       "eve_l2_lines_2011058_03:   0%|          | 0.00/143k [00:00<?, ?B/s]"
      ]
     },
     "metadata": {},
     "output_type": "display_data"
    },
    {
     "data": {
      "application/vnd.jupyter.widget-view+json": {
       "model_id": "a7573df60469425dac0a41cd7fadc1a1",
       "version_major": 2,
       "version_minor": 0
      },
      "text/plain": [
       "eve_l2_lines_2011058_04:   0%|          | 0.00/143k [00:00<?, ?B/s]"
      ]
     },
     "metadata": {},
     "output_type": "display_data"
    },
    {
     "data": {
      "application/vnd.jupyter.widget-view+json": {
       "model_id": "c26421e899174f3b9c064580a0eb696a",
       "version_major": 2,
       "version_minor": 0
      },
      "text/plain": [
       "eve_l2_lines_2011058_05:   0%|          | 0.00/142k [00:00<?, ?B/s]"
      ]
     },
     "metadata": {},
     "output_type": "display_data"
    },
    {
     "data": {
      "application/vnd.jupyter.widget-view+json": {
       "model_id": "f832cb108db44878a7699d90be78354e",
       "version_major": 2,
       "version_minor": 0
      },
      "text/plain": [
       "eve_l2_lines_2011058_06:   0%|          | 0.00/143k [00:00<?, ?B/s]"
      ]
     },
     "metadata": {},
     "output_type": "display_data"
    },
    {
     "data": {
      "application/vnd.jupyter.widget-view+json": {
       "model_id": "69f9884d9f864548b5fe47dc9a4a352c",
       "version_major": 2,
       "version_minor": 0
      },
      "text/plain": [
       "eve_l2_lines_2011058_07:   0%|          | 0.00/143k [00:00<?, ?B/s]"
      ]
     },
     "metadata": {},
     "output_type": "display_data"
    },
    {
     "data": {
      "application/vnd.jupyter.widget-view+json": {
       "model_id": "b4f02bc6d2c440089ca0eb0346304c80",
       "version_major": 2,
       "version_minor": 0
      },
      "text/plain": [
       "eve_l2_lines_2011058_08:   0%|          | 0.00/143k [00:00<?, ?B/s]"
      ]
     },
     "metadata": {},
     "output_type": "display_data"
    },
    {
     "data": {
      "application/vnd.jupyter.widget-view+json": {
       "model_id": "ccb1a95c4dbd424ca6c9d6b53f4e5dc8",
       "version_major": 2,
       "version_minor": 0
      },
      "text/plain": [
       "eve_l2_lines_2011058_09:   0%|          | 0.00/143k [00:00<?, ?B/s]"
      ]
     },
     "metadata": {},
     "output_type": "display_data"
    },
    {
     "data": {
      "application/vnd.jupyter.widget-view+json": {
       "model_id": "20178b5a6737488391979bfb6c474522",
       "version_major": 2,
       "version_minor": 0
      },
      "text/plain": [
       "eve_l2_lines_2011058_10:   0%|          | 0.00/143k [00:00<?, ?B/s]"
      ]
     },
     "metadata": {},
     "output_type": "display_data"
    },
    {
     "data": {
      "application/vnd.jupyter.widget-view+json": {
       "model_id": "a6ef595c9c0c440f8c269d1846c16be1",
       "version_major": 2,
       "version_minor": 0
      },
      "text/plain": [
       "eve_l2_lines_2011058_11:   0%|          | 0.00/143k [00:00<?, ?B/s]"
      ]
     },
     "metadata": {},
     "output_type": "display_data"
    },
    {
     "data": {
      "application/vnd.jupyter.widget-view+json": {
       "model_id": "c00a177a7d914139a66a80e3c865e777",
       "version_major": 2,
       "version_minor": 0
      },
      "text/plain": [
       "eve_l2_lines_2011058_12:   0%|          | 0.00/143k [00:00<?, ?B/s]"
      ]
     },
     "metadata": {},
     "output_type": "display_data"
    },
    {
     "data": {
      "application/vnd.jupyter.widget-view+json": {
       "model_id": "093f4330cbbc4bbfb737fef6030097cb",
       "version_major": 2,
       "version_minor": 0
      },
      "text/plain": [
       "eve_l2_lines_2011058_13:   0%|          | 0.00/107k [00:00<?, ?B/s]"
      ]
     },
     "metadata": {},
     "output_type": "display_data"
    },
    {
     "data": {
      "application/vnd.jupyter.widget-view+json": {
       "model_id": "0ee4ac59338c451a9de23a23e8ee8c53",
       "version_major": 2,
       "version_minor": 0
      },
      "text/plain": [
       "eve_l2_lines_2011058_14:   0%|          | 0.00/143k [00:00<?, ?B/s]"
      ]
     },
     "metadata": {},
     "output_type": "display_data"
    },
    {
     "data": {
      "application/vnd.jupyter.widget-view+json": {
       "model_id": "9445d0d7168d474f9a2f4b50e72505ad",
       "version_major": 2,
       "version_minor": 0
      },
      "text/plain": [
       "eve_l2_lines_2011058_15:   0%|          | 0.00/143k [00:00<?, ?B/s]"
      ]
     },
     "metadata": {},
     "output_type": "display_data"
    },
    {
     "data": {
      "application/vnd.jupyter.widget-view+json": {
       "model_id": "77b1def3a79042678c3e61ee07340433",
       "version_major": 2,
       "version_minor": 0
      },
      "text/plain": [
       "eve_l2_lines_2011058_16:   0%|          | 0.00/143k [00:00<?, ?B/s]"
      ]
     },
     "metadata": {},
     "output_type": "display_data"
    },
    {
     "data": {
      "application/vnd.jupyter.widget-view+json": {
       "model_id": "ca113148f7a84894a4f87bf1a531da3a",
       "version_major": 2,
       "version_minor": 0
      },
      "text/plain": [
       "eve_l2_lines_2011058_17:   0%|          | 0.00/153k [00:00<?, ?B/s]"
      ]
     },
     "metadata": {},
     "output_type": "display_data"
    },
    {
     "data": {
      "application/vnd.jupyter.widget-view+json": {
       "model_id": "0b8ff50c6b7e4824914838ca8b151c1f",
       "version_major": 2,
       "version_minor": 0
      },
      "text/plain": [
       "eve_l2_lines_2011058_18:   0%|          | 0.00/254k [00:00<?, ?B/s]"
      ]
     },
     "metadata": {},
     "output_type": "display_data"
    },
    {
     "data": {
      "application/vnd.jupyter.widget-view+json": {
       "model_id": "966cc1371fdf4d05a3ff1396a0deb7e5",
       "version_major": 2,
       "version_minor": 0
      },
      "text/plain": [
       "eve_l2_lines_2011058_19:   0%|          | 0.00/254k [00:00<?, ?B/s]"
      ]
     },
     "metadata": {},
     "output_type": "display_data"
    },
    {
     "data": {
      "application/vnd.jupyter.widget-view+json": {
       "model_id": "a53699e1d3b84f70a94c7f0e0111a313",
       "version_major": 2,
       "version_minor": 0
      },
      "text/plain": [
       "eve_l2_lines_2011058_20:   0%|          | 0.00/244k [00:00<?, ?B/s]"
      ]
     },
     "metadata": {},
     "output_type": "display_data"
    },
    {
     "data": {
      "application/vnd.jupyter.widget-view+json": {
       "model_id": "2405b152c9664159aec2cc3b772a1da1",
       "version_major": 2,
       "version_minor": 0
      },
      "text/plain": [
       "eve_l2_lines_2011058_21:   0%|          | 0.00/143k [00:00<?, ?B/s]"
      ]
     },
     "metadata": {},
     "output_type": "display_data"
    },
    {
     "data": {
      "application/vnd.jupyter.widget-view+json": {
       "model_id": "ace3f1b5486c4400bc4ec82774a33278",
       "version_major": 2,
       "version_minor": 0
      },
      "text/plain": [
       "eve_l2_lines_2011058_22:   0%|          | 0.00/143k [00:00<?, ?B/s]"
      ]
     },
     "metadata": {},
     "output_type": "display_data"
    },
    {
     "data": {
      "application/vnd.jupyter.widget-view+json": {
       "model_id": "a39a481e8c0244ab8bfb8da8ca3ad645",
       "version_major": 2,
       "version_minor": 0
      },
      "text/plain": [
       "eve_l2_lines_2011058_23:   0%|          | 0.00/143k [00:00<?, ?B/s]"
      ]
     },
     "metadata": {},
     "output_type": "display_data"
    },
    {
     "data": {
      "application/vnd.jupyter.widget-view+json": {
       "model_id": "20540668dc8b434087e6e5b71916df1b",
       "version_major": 2,
       "version_minor": 0
      },
      "text/plain": [
       "eve_l2_lines_2011059_00:   0%|          | 0.00/143k [00:00<?, ?B/s]"
      ]
     },
     "metadata": {},
     "output_type": "display_data"
    },
    {
     "data": {
      "application/vnd.jupyter.widget-view+json": {
       "model_id": "4718eb575d3f44d29f59181b79aeef26",
       "version_major": 2,
       "version_minor": 0
      },
      "text/plain": [
       "eve_l2_lines_2011059_01:   0%|          | 0.00/143k [00:00<?, ?B/s]"
      ]
     },
     "metadata": {},
     "output_type": "display_data"
    },
    {
     "data": {
      "application/vnd.jupyter.widget-view+json": {
       "model_id": "a4cd66ac2093403d8d6d75983fea4c28",
       "version_major": 2,
       "version_minor": 0
      },
      "text/plain": [
       "eve_l2_lines_2011059_02:   0%|          | 0.00/143k [00:00<?, ?B/s]"
      ]
     },
     "metadata": {},
     "output_type": "display_data"
    },
    {
     "data": {
      "application/vnd.jupyter.widget-view+json": {
       "model_id": "9b56d5fc36ac4d04bea706d196b6e01b",
       "version_major": 2,
       "version_minor": 0
      },
      "text/plain": [
       "eve_l2_lines_2011059_03:   0%|          | 0.00/143k [00:00<?, ?B/s]"
      ]
     },
     "metadata": {},
     "output_type": "display_data"
    },
    {
     "data": {
      "application/vnd.jupyter.widget-view+json": {
       "model_id": "492d76578b0d41a4993dd6a8d568288b",
       "version_major": 2,
       "version_minor": 0
      },
      "text/plain": [
       "eve_l2_lines_2011059_04:   0%|          | 0.00/143k [00:00<?, ?B/s]"
      ]
     },
     "metadata": {},
     "output_type": "display_data"
    },
    {
     "data": {
      "application/vnd.jupyter.widget-view+json": {
       "model_id": "232b587552ea48dc9de5ad26c2123119",
       "version_major": 2,
       "version_minor": 0
      },
      "text/plain": [
       "eve_l2_lines_2011059_05:   0%|          | 0.00/143k [00:00<?, ?B/s]"
      ]
     },
     "metadata": {},
     "output_type": "display_data"
    },
    {
     "data": {
      "application/vnd.jupyter.widget-view+json": {
       "model_id": "dd6be27111144edc9254247886ca2a9e",
       "version_major": 2,
       "version_minor": 0
      },
      "text/plain": [
       "eve_l2_lines_2011059_06:   0%|          | 0.00/143k [00:00<?, ?B/s]"
      ]
     },
     "metadata": {},
     "output_type": "display_data"
    },
    {
     "data": {
      "application/vnd.jupyter.widget-view+json": {
       "model_id": "fc5a4f8c6394409d8ce56f38507960af",
       "version_major": 2,
       "version_minor": 0
      },
      "text/plain": [
       "eve_l2_lines_2011059_07:   0%|          | 0.00/144k [00:00<?, ?B/s]"
      ]
     },
     "metadata": {},
     "output_type": "display_data"
    },
    {
     "data": {
      "application/vnd.jupyter.widget-view+json": {
       "model_id": "63c55cfeb51c412c8d715f3621ec80b2",
       "version_major": 2,
       "version_minor": 0
      },
      "text/plain": [
       "eve_l2_lines_2011059_08:   0%|          | 0.00/143k [00:00<?, ?B/s]"
      ]
     },
     "metadata": {},
     "output_type": "display_data"
    },
    {
     "data": {
      "application/vnd.jupyter.widget-view+json": {
       "model_id": "ce73603cecaf44fc9605ca3a3089300b",
       "version_major": 2,
       "version_minor": 0
      },
      "text/plain": [
       "eve_l2_lines_2011059_09:   0%|          | 0.00/143k [00:00<?, ?B/s]"
      ]
     },
     "metadata": {},
     "output_type": "display_data"
    },
    {
     "data": {
      "application/vnd.jupyter.widget-view+json": {
       "model_id": "04e93c93d1bb4dd289a400c5189a6c41",
       "version_major": 2,
       "version_minor": 0
      },
      "text/plain": [
       "eve_l2_lines_2011059_10:   0%|          | 0.00/143k [00:00<?, ?B/s]"
      ]
     },
     "metadata": {},
     "output_type": "display_data"
    },
    {
     "data": {
      "application/vnd.jupyter.widget-view+json": {
       "model_id": "416921ac8cdd48cf8f134d45846416d2",
       "version_major": 2,
       "version_minor": 0
      },
      "text/plain": [
       "eve_l2_lines_2011059_11:   0%|          | 0.00/143k [00:00<?, ?B/s]"
      ]
     },
     "metadata": {},
     "output_type": "display_data"
    },
    {
     "data": {
      "application/vnd.jupyter.widget-view+json": {
       "model_id": "eb4258f067ea4fc08355af2bde6a4c46",
       "version_major": 2,
       "version_minor": 0
      },
      "text/plain": [
       "eve_l2_lines_2011059_12:   0%|          | 0.00/144k [00:00<?, ?B/s]"
      ]
     },
     "metadata": {},
     "output_type": "display_data"
    },
    {
     "data": {
      "application/vnd.jupyter.widget-view+json": {
       "model_id": "85f2a269d2da4d37853ae276bb63fe99",
       "version_major": 2,
       "version_minor": 0
      },
      "text/plain": [
       "eve_l2_lines_2011059_13:   0%|          | 0.00/125k [00:00<?, ?B/s]"
      ]
     },
     "metadata": {},
     "output_type": "display_data"
    },
    {
     "data": {
      "application/vnd.jupyter.widget-view+json": {
       "model_id": "b213d58b2d924417bb4dc80f342ce502",
       "version_major": 2,
       "version_minor": 0
      },
      "text/plain": [
       "eve_l2_lines_2011059_14:   0%|          | 0.00/143k [00:00<?, ?B/s]"
      ]
     },
     "metadata": {},
     "output_type": "display_data"
    },
    {
     "data": {
      "application/vnd.jupyter.widget-view+json": {
       "model_id": "9945f9833c634fb099e6b6b44af9fee4",
       "version_major": 2,
       "version_minor": 0
      },
      "text/plain": [
       "eve_l2_lines_2011059_15:   0%|          | 0.00/143k [00:00<?, ?B/s]"
      ]
     },
     "metadata": {},
     "output_type": "display_data"
    },
    {
     "data": {
      "application/vnd.jupyter.widget-view+json": {
       "model_id": "86313012c49e4fedb1648837ee94987c",
       "version_major": 2,
       "version_minor": 0
      },
      "text/plain": [
       "eve_l2_lines_2011059_16:   0%|          | 0.00/143k [00:00<?, ?B/s]"
      ]
     },
     "metadata": {},
     "output_type": "display_data"
    },
    {
     "data": {
      "application/vnd.jupyter.widget-view+json": {
       "model_id": "080eb7daacee4c959847a4e953908dc2",
       "version_major": 2,
       "version_minor": 0
      },
      "text/plain": [
       "eve_l2_lines_2011059_17:   0%|          | 0.00/153k [00:00<?, ?B/s]"
      ]
     },
     "metadata": {},
     "output_type": "display_data"
    },
    {
     "data": {
      "application/vnd.jupyter.widget-view+json": {
       "model_id": "b78856f7dd814eff9d62e38675e11357",
       "version_major": 2,
       "version_minor": 0
      },
      "text/plain": [
       "eve_l2_lines_2011059_18:   0%|          | 0.00/254k [00:00<?, ?B/s]"
      ]
     },
     "metadata": {},
     "output_type": "display_data"
    },
    {
     "data": {
      "application/vnd.jupyter.widget-view+json": {
       "model_id": "0092a57acd9d44aca9f062c20e1b9745",
       "version_major": 2,
       "version_minor": 0
      },
      "text/plain": [
       "eve_l2_lines_2011059_19:   0%|          | 0.00/254k [00:00<?, ?B/s]"
      ]
     },
     "metadata": {},
     "output_type": "display_data"
    },
    {
     "data": {
      "application/vnd.jupyter.widget-view+json": {
       "model_id": "f6b7ace83ece483986e62c58850b69e1",
       "version_major": 2,
       "version_minor": 0
      },
      "text/plain": [
       "eve_l2_lines_2011059_20:   0%|          | 0.00/244k [00:00<?, ?B/s]"
      ]
     },
     "metadata": {},
     "output_type": "display_data"
    },
    {
     "data": {
      "application/vnd.jupyter.widget-view+json": {
       "model_id": "d60132a323334283bafeadcd065b8db1",
       "version_major": 2,
       "version_minor": 0
      },
      "text/plain": [
       "eve_l2_lines_2011059_21:   0%|          | 0.00/144k [00:00<?, ?B/s]"
      ]
     },
     "metadata": {},
     "output_type": "display_data"
    },
    {
     "data": {
      "application/vnd.jupyter.widget-view+json": {
       "model_id": "1e96d7a83b774ab7b440032baf251795",
       "version_major": 2,
       "version_minor": 0
      },
      "text/plain": [
       "eve_l2_lines_2011059_22:   0%|          | 0.00/143k [00:00<?, ?B/s]"
      ]
     },
     "metadata": {},
     "output_type": "display_data"
    },
    {
     "data": {
      "application/vnd.jupyter.widget-view+json": {
       "model_id": "d854bd06748046749bfa4dac48707d01",
       "version_major": 2,
       "version_minor": 0
      },
      "text/plain": [
       "eve_l2_lines_2011059_23:   0%|          | 0.00/143k [00:00<?, ?B/s]"
      ]
     },
     "metadata": {},
     "output_type": "display_data"
    },
    {
     "data": {
      "application/vnd.jupyter.widget-view+json": {
       "model_id": "14b95e1c2fbc4801acd199d6c4c8e342",
       "version_major": 2,
       "version_minor": 0
      },
      "text/plain": [
       "eve_l2_lines_2011061_01:   0%|          | 0.00/143k [00:00<?, ?B/s]"
      ]
     },
     "metadata": {},
     "output_type": "display_data"
    },
    {
     "data": {
      "application/vnd.jupyter.widget-view+json": {
       "model_id": "b38da6c318f446bf955321ec234c7f16",
       "version_major": 2,
       "version_minor": 0
      },
      "text/plain": [
       "eve_l2_lines_2011061_00:   0%|          | 0.00/143k [00:00<?, ?B/s]"
      ]
     },
     "metadata": {},
     "output_type": "display_data"
    },
    {
     "data": {
      "application/vnd.jupyter.widget-view+json": {
       "model_id": "b36693541b734632afd139c6e549eab0",
       "version_major": 2,
       "version_minor": 0
      },
      "text/plain": [
       "eve_l2_lines_2011061_02:   0%|          | 0.00/143k [00:00<?, ?B/s]"
      ]
     },
     "metadata": {},
     "output_type": "display_data"
    },
    {
     "data": {
      "application/vnd.jupyter.widget-view+json": {
       "model_id": "2fe67e676fe14189ad471401edcaced0",
       "version_major": 2,
       "version_minor": 0
      },
      "text/plain": [
       "eve_l2_lines_2011061_03:   0%|          | 0.00/142k [00:00<?, ?B/s]"
      ]
     },
     "metadata": {},
     "output_type": "display_data"
    },
    {
     "data": {
      "application/vnd.jupyter.widget-view+json": {
       "model_id": "691b3288311440e3b19d7873d5357859",
       "version_major": 2,
       "version_minor": 0
      },
      "text/plain": [
       "eve_l2_lines_2011061_04:   0%|          | 0.00/143k [00:00<?, ?B/s]"
      ]
     },
     "metadata": {},
     "output_type": "display_data"
    },
    {
     "data": {
      "application/vnd.jupyter.widget-view+json": {
       "model_id": "e38884236f304212822d30fdc84bb51c",
       "version_major": 2,
       "version_minor": 0
      },
      "text/plain": [
       "eve_l2_lines_2011061_05:   0%|          | 0.00/142k [00:00<?, ?B/s]"
      ]
     },
     "metadata": {},
     "output_type": "display_data"
    },
    {
     "data": {
      "application/vnd.jupyter.widget-view+json": {
       "model_id": "354d540d5f8548c1a1ff8d3073705db1",
       "version_major": 2,
       "version_minor": 0
      },
      "text/plain": [
       "eve_l2_lines_2011061_06:   0%|          | 0.00/143k [00:00<?, ?B/s]"
      ]
     },
     "metadata": {},
     "output_type": "display_data"
    },
    {
     "data": {
      "application/vnd.jupyter.widget-view+json": {
       "model_id": "4483bf3c633b4a6ea2b0b44af8e9a67b",
       "version_major": 2,
       "version_minor": 0
      },
      "text/plain": [
       "eve_l2_lines_2011061_07:   0%|          | 0.00/143k [00:00<?, ?B/s]"
      ]
     },
     "metadata": {},
     "output_type": "display_data"
    },
    {
     "data": {
      "application/vnd.jupyter.widget-view+json": {
       "model_id": "6752ccba0ac74edb8f97bcc8b773c0db",
       "version_major": 2,
       "version_minor": 0
      },
      "text/plain": [
       "eve_l2_lines_2011061_08:   0%|          | 0.00/143k [00:00<?, ?B/s]"
      ]
     },
     "metadata": {},
     "output_type": "display_data"
    },
    {
     "data": {
      "application/vnd.jupyter.widget-view+json": {
       "model_id": "c05adfbbfb134769b25e96210f58ede9",
       "version_major": 2,
       "version_minor": 0
      },
      "text/plain": [
       "eve_l2_lines_2011061_09:   0%|          | 0.00/143k [00:00<?, ?B/s]"
      ]
     },
     "metadata": {},
     "output_type": "display_data"
    },
    {
     "data": {
      "application/vnd.jupyter.widget-view+json": {
       "model_id": "fe40c75480934107a8256b82478aee03",
       "version_major": 2,
       "version_minor": 0
      },
      "text/plain": [
       "eve_l2_lines_2011061_10:   0%|          | 0.00/143k [00:00<?, ?B/s]"
      ]
     },
     "metadata": {},
     "output_type": "display_data"
    },
    {
     "data": {
      "application/vnd.jupyter.widget-view+json": {
       "model_id": "640bfd808ba54c6cbdddb578ce95e2c4",
       "version_major": 2,
       "version_minor": 0
      },
      "text/plain": [
       "eve_l2_lines_2011061_12:   0%|          | 0.00/143k [00:00<?, ?B/s]"
      ]
     },
     "metadata": {},
     "output_type": "display_data"
    },
    {
     "data": {
      "application/vnd.jupyter.widget-view+json": {
       "model_id": "fbbeabeb283046eea205f8092e2ec29c",
       "version_major": 2,
       "version_minor": 0
      },
      "text/plain": [
       "eve_l2_lines_2011061_11:   0%|          | 0.00/143k [00:00<?, ?B/s]"
      ]
     },
     "metadata": {},
     "output_type": "display_data"
    },
    {
     "data": {
      "application/vnd.jupyter.widget-view+json": {
       "model_id": "6526b385e50a4fafa7df359d150a9f19",
       "version_major": 2,
       "version_minor": 0
      },
      "text/plain": [
       "eve_l2_lines_2011061_13:   0%|          | 0.00/143k [00:00<?, ?B/s]"
      ]
     },
     "metadata": {},
     "output_type": "display_data"
    },
    {
     "data": {
      "application/vnd.jupyter.widget-view+json": {
       "model_id": "463cd8f490a448e1ab946ed6ed6abd63",
       "version_major": 2,
       "version_minor": 0
      },
      "text/plain": [
       "eve_l2_lines_2011061_14:   0%|          | 0.00/143k [00:00<?, ?B/s]"
      ]
     },
     "metadata": {},
     "output_type": "display_data"
    },
    {
     "data": {
      "application/vnd.jupyter.widget-view+json": {
       "model_id": "89fdf1927f424b26ac103b60d59d9079",
       "version_major": 2,
       "version_minor": 0
      },
      "text/plain": [
       "eve_l2_lines_2011061_15:   0%|          | 0.00/143k [00:00<?, ?B/s]"
      ]
     },
     "metadata": {},
     "output_type": "display_data"
    },
    {
     "data": {
      "application/vnd.jupyter.widget-view+json": {
       "model_id": "c3545c52ce9c4cb59e101795e6a02a53",
       "version_major": 2,
       "version_minor": 0
      },
      "text/plain": [
       "eve_l2_lines_2011061_16:   0%|          | 0.00/143k [00:00<?, ?B/s]"
      ]
     },
     "metadata": {},
     "output_type": "display_data"
    },
    {
     "data": {
      "application/vnd.jupyter.widget-view+json": {
       "model_id": "76beefd29845425cb357484e86da87f9",
       "version_major": 2,
       "version_minor": 0
      },
      "text/plain": [
       "eve_l2_lines_2011061_17:   0%|          | 0.00/136k [00:00<?, ?B/s]"
      ]
     },
     "metadata": {},
     "output_type": "display_data"
    },
    {
     "data": {
      "application/vnd.jupyter.widget-view+json": {
       "model_id": "206654dc80ae49a483a2679485890cf4",
       "version_major": 2,
       "version_minor": 0
      },
      "text/plain": [
       "eve_l2_lines_2011061_18:   0%|          | 0.00/254k [00:00<?, ?B/s]"
      ]
     },
     "metadata": {},
     "output_type": "display_data"
    },
    {
     "data": {
      "application/vnd.jupyter.widget-view+json": {
       "model_id": "51d2edd615754288a0798e28d270b6cd",
       "version_major": 2,
       "version_minor": 0
      },
      "text/plain": [
       "eve_l2_lines_2011061_19:   0%|          | 0.00/253k [00:00<?, ?B/s]"
      ]
     },
     "metadata": {},
     "output_type": "display_data"
    },
    {
     "data": {
      "application/vnd.jupyter.widget-view+json": {
       "model_id": "290efc14278b4fa18191750fb00a105a",
       "version_major": 2,
       "version_minor": 0
      },
      "text/plain": [
       "eve_l2_lines_2011061_20:   0%|          | 0.00/240k [00:00<?, ?B/s]"
      ]
     },
     "metadata": {},
     "output_type": "display_data"
    },
    {
     "data": {
      "application/vnd.jupyter.widget-view+json": {
       "model_id": "e60ad6eeb7b24631894ea08953d678d1",
       "version_major": 2,
       "version_minor": 0
      },
      "text/plain": [
       "eve_l2_lines_2011061_21:   0%|          | 0.00/143k [00:00<?, ?B/s]"
      ]
     },
     "metadata": {},
     "output_type": "display_data"
    },
    {
     "data": {
      "application/vnd.jupyter.widget-view+json": {
       "model_id": "736f9bd63f7d4b5aaee70172c350ee1c",
       "version_major": 2,
       "version_minor": 0
      },
      "text/plain": [
       "eve_l2_lines_2011061_22:   0%|          | 0.00/143k [00:00<?, ?B/s]"
      ]
     },
     "metadata": {},
     "output_type": "display_data"
    },
    {
     "data": {
      "application/vnd.jupyter.widget-view+json": {
       "model_id": "a279dcd10c8640d0b48da614aa69e83d",
       "version_major": 2,
       "version_minor": 0
      },
      "text/plain": [
       "eve_l2_lines_2011061_23:   0%|          | 0.00/143k [00:00<?, ?B/s]"
      ]
     },
     "metadata": {},
     "output_type": "display_data"
    },
    {
     "data": {
      "application/vnd.jupyter.widget-view+json": {
       "model_id": "4ce1f9d9049141f0b562c7cfcb3a15b2",
       "version_major": 2,
       "version_minor": 0
      },
      "text/plain": [
       "eve_l2_lines_2011062_00:   0%|          | 0.00/143k [00:00<?, ?B/s]"
      ]
     },
     "metadata": {},
     "output_type": "display_data"
    },
    {
     "data": {
      "application/vnd.jupyter.widget-view+json": {
       "model_id": "9e1be586b31e42e29929a1c3f4f5a195",
       "version_major": 2,
       "version_minor": 0
      },
      "text/plain": [
       "eve_l2_spectra_2011034_00:   0%|          | 0.00/6.81M [00:00<?, ?B/s]"
      ]
     },
     "metadata": {},
     "output_type": "display_data"
    },
    {
     "data": {
      "application/vnd.jupyter.widget-view+json": {
       "model_id": "60ef463edb624bf8aa1c4ce55d77e02e",
       "version_major": 2,
       "version_minor": 0
      },
      "text/plain": [
       "eve_l2_spectra_2011034_01:   0%|          | 0.00/6.77M [00:00<?, ?B/s]"
      ]
     },
     "metadata": {},
     "output_type": "display_data"
    },
    {
     "data": {
      "application/vnd.jupyter.widget-view+json": {
       "model_id": "2900711c3c7941fab889b1bdb8c40880",
       "version_major": 2,
       "version_minor": 0
      },
      "text/plain": [
       "eve_l2_spectra_2011034_02:   0%|          | 0.00/6.81M [00:00<?, ?B/s]"
      ]
     },
     "metadata": {},
     "output_type": "display_data"
    },
    {
     "data": {
      "application/vnd.jupyter.widget-view+json": {
       "model_id": "643969256cb24678b58d3c76a528f1a1",
       "version_major": 2,
       "version_minor": 0
      },
      "text/plain": [
       "eve_l2_spectra_2011034_03:   0%|          | 0.00/6.77M [00:00<?, ?B/s]"
      ]
     },
     "metadata": {},
     "output_type": "display_data"
    },
    {
     "data": {
      "application/vnd.jupyter.widget-view+json": {
       "model_id": "92360703f4bc45bea45af3d434955f79",
       "version_major": 2,
       "version_minor": 0
      },
      "text/plain": [
       "eve_l2_spectra_2011034_04:   0%|          | 0.00/6.81M [00:00<?, ?B/s]"
      ]
     },
     "metadata": {},
     "output_type": "display_data"
    },
    {
     "data": {
      "application/vnd.jupyter.widget-view+json": {
       "model_id": "8d857a75cae847baa1c0cfb7c86a30f2",
       "version_major": 2,
       "version_minor": 0
      },
      "text/plain": [
       "eve_l2_spectra_2011034_05:   0%|          | 0.00/6.77M [00:00<?, ?B/s]"
      ]
     },
     "metadata": {},
     "output_type": "display_data"
    },
    {
     "data": {
      "application/vnd.jupyter.widget-view+json": {
       "model_id": "ebfd2ced33454479a5358526b69a66fa",
       "version_major": 2,
       "version_minor": 0
      },
      "text/plain": [
       "eve_l2_spectra_2011034_06:   0%|          | 0.00/6.81M [00:00<?, ?B/s]"
      ]
     },
     "metadata": {},
     "output_type": "display_data"
    },
    {
     "data": {
      "application/vnd.jupyter.widget-view+json": {
       "model_id": "734c90c5300d4c9faedad0f35e9b81b8",
       "version_major": 2,
       "version_minor": 0
      },
      "text/plain": [
       "eve_l2_spectra_2011034_07:   0%|          | 0.00/6.76M [00:00<?, ?B/s]"
      ]
     },
     "metadata": {},
     "output_type": "display_data"
    },
    {
     "data": {
      "application/vnd.jupyter.widget-view+json": {
       "model_id": "a23ca6b137744339998001fa62b8b030",
       "version_major": 2,
       "version_minor": 0
      },
      "text/plain": [
       "eve_l2_spectra_2011034_08:   0%|          | 0.00/6.81M [00:00<?, ?B/s]"
      ]
     },
     "metadata": {},
     "output_type": "display_data"
    },
    {
     "data": {
      "application/vnd.jupyter.widget-view+json": {
       "model_id": "62abe215bc0344ef81420ecf2d500266",
       "version_major": 2,
       "version_minor": 0
      },
      "text/plain": [
       "eve_l2_spectra_2011034_09:   0%|          | 0.00/6.77M [00:00<?, ?B/s]"
      ]
     },
     "metadata": {},
     "output_type": "display_data"
    },
    {
     "data": {
      "application/vnd.jupyter.widget-view+json": {
       "model_id": "926fec4fe90c45d98d4ecf2a80ea53cd",
       "version_major": 2,
       "version_minor": 0
      },
      "text/plain": [
       "eve_l2_spectra_2011034_10:   0%|          | 0.00/6.81M [00:00<?, ?B/s]"
      ]
     },
     "metadata": {},
     "output_type": "display_data"
    },
    {
     "data": {
      "application/vnd.jupyter.widget-view+json": {
       "model_id": "a734ab8cd17a457daefc3d242cc470e6",
       "version_major": 2,
       "version_minor": 0
      },
      "text/plain": [
       "eve_l2_spectra_2011034_11:   0%|          | 0.00/6.77M [00:00<?, ?B/s]"
      ]
     },
     "metadata": {},
     "output_type": "display_data"
    },
    {
     "data": {
      "application/vnd.jupyter.widget-view+json": {
       "model_id": "391b436cd1584307b349bd72d7d8bcc0",
       "version_major": 2,
       "version_minor": 0
      },
      "text/plain": [
       "eve_l2_spectra_2011034_12:   0%|          | 0.00/6.81M [00:00<?, ?B/s]"
      ]
     },
     "metadata": {},
     "output_type": "display_data"
    },
    {
     "data": {
      "application/vnd.jupyter.widget-view+json": {
       "model_id": "fc6c9941b4764a78be3484a4fc01417b",
       "version_major": 2,
       "version_minor": 0
      },
      "text/plain": [
       "eve_l2_spectra_2011034_13:   0%|          | 0.00/8.03M [00:00<?, ?B/s]"
      ]
     },
     "metadata": {},
     "output_type": "display_data"
    },
    {
     "data": {
      "application/vnd.jupyter.widget-view+json": {
       "model_id": "fc6acd732f6641709c8a48b5b630f0d4",
       "version_major": 2,
       "version_minor": 0
      },
      "text/plain": [
       "eve_l2_spectra_2011034_14:   0%|          | 0.00/20.3M [00:00<?, ?B/s]"
      ]
     },
     "metadata": {},
     "output_type": "display_data"
    },
    {
     "data": {
      "application/vnd.jupyter.widget-view+json": {
       "model_id": "2df4f98b43ca428e8e2d16fe6c20cdf4",
       "version_major": 2,
       "version_minor": 0
      },
      "text/plain": [
       "eve_l2_spectra_2011034_15:   0%|          | 0.00/20.3M [00:00<?, ?B/s]"
      ]
     },
     "metadata": {},
     "output_type": "display_data"
    },
    {
     "data": {
      "application/vnd.jupyter.widget-view+json": {
       "model_id": "6841fb0d232243e5bb1a47ded4aa25e4",
       "version_major": 2,
       "version_minor": 0
      },
      "text/plain": [
       "eve_l2_spectra_2011034_16:   0%|          | 0.00/19.1M [00:00<?, ?B/s]"
      ]
     },
     "metadata": {},
     "output_type": "display_data"
    },
    {
     "data": {
      "application/vnd.jupyter.widget-view+json": {
       "model_id": "bd9d09495eb7458894bf3302d9d7b7de",
       "version_major": 2,
       "version_minor": 0
      },
      "text/plain": [
       "eve_l2_spectra_2011034_17:   0%|          | 0.00/6.77M [00:00<?, ?B/s]"
      ]
     },
     "metadata": {},
     "output_type": "display_data"
    },
    {
     "data": {
      "application/vnd.jupyter.widget-view+json": {
       "model_id": "a17310c49f7143a480107fc77a05a5b4",
       "version_major": 2,
       "version_minor": 0
      },
      "text/plain": [
       "eve_l2_spectra_2011034_18:   0%|          | 0.00/6.81M [00:00<?, ?B/s]"
      ]
     },
     "metadata": {},
     "output_type": "display_data"
    },
    {
     "data": {
      "application/vnd.jupyter.widget-view+json": {
       "model_id": "6424befbe72c4567af2dd351db82ea31",
       "version_major": 2,
       "version_minor": 0
      },
      "text/plain": [
       "eve_l2_spectra_2011034_19:   0%|          | 0.00/5.88M [00:00<?, ?B/s]"
      ]
     },
     "metadata": {},
     "output_type": "display_data"
    },
    {
     "data": {
      "application/vnd.jupyter.widget-view+json": {
       "model_id": "ff09ecb89a8a47e1968cc8f0c8e706f6",
       "version_major": 2,
       "version_minor": 0
      },
      "text/plain": [
       "eve_l2_spectra_2011034_20:   0%|          | 0.00/6.81M [00:00<?, ?B/s]"
      ]
     },
     "metadata": {},
     "output_type": "display_data"
    },
    {
     "data": {
      "application/vnd.jupyter.widget-view+json": {
       "model_id": "ec146b4349904e5b9062662b3a1e0f72",
       "version_major": 2,
       "version_minor": 0
      },
      "text/plain": [
       "eve_l2_spectra_2011034_21:   0%|          | 0.00/6.77M [00:00<?, ?B/s]"
      ]
     },
     "metadata": {},
     "output_type": "display_data"
    },
    {
     "data": {
      "application/vnd.jupyter.widget-view+json": {
       "model_id": "29e3f5bd6080485fab0fcede664f3994",
       "version_major": 2,
       "version_minor": 0
      },
      "text/plain": [
       "eve_l2_spectra_2011034_22:   0%|          | 0.00/6.81M [00:00<?, ?B/s]"
      ]
     },
     "metadata": {},
     "output_type": "display_data"
    },
    {
     "data": {
      "application/vnd.jupyter.widget-view+json": {
       "model_id": "12231ad206ee4c7884875b10a847b2b8",
       "version_major": 2,
       "version_minor": 0
      },
      "text/plain": [
       "eve_l2_spectra_2011034_23:   0%|          | 0.00/6.77M [00:00<?, ?B/s]"
      ]
     },
     "metadata": {},
     "output_type": "display_data"
    },
    {
     "data": {
      "application/vnd.jupyter.widget-view+json": {
       "model_id": "03ff82906a1f4c7f972f7cb1cc759f8f",
       "version_major": 2,
       "version_minor": 0
      },
      "text/plain": [
       "eve_l2_spectra_2011035_00:   0%|          | 0.00/6.81M [00:00<?, ?B/s]"
      ]
     },
     "metadata": {},
     "output_type": "display_data"
    },
    {
     "data": {
      "application/vnd.jupyter.widget-view+json": {
       "model_id": "f1aa0e73f9104e818c5ba8423cdeb4e0",
       "version_major": 2,
       "version_minor": 0
      },
      "text/plain": [
       "eve_l2_spectra_2011035_01:   0%|          | 0.00/6.77M [00:00<?, ?B/s]"
      ]
     },
     "metadata": {},
     "output_type": "display_data"
    },
    {
     "data": {
      "application/vnd.jupyter.widget-view+json": {
       "model_id": "ce4b89fb6f5641e6a3ad02e536f06623",
       "version_major": 2,
       "version_minor": 0
      },
      "text/plain": [
       "eve_l2_spectra_2011035_02:   0%|          | 0.00/6.76M [00:00<?, ?B/s]"
      ]
     },
     "metadata": {},
     "output_type": "display_data"
    },
    {
     "data": {
      "application/vnd.jupyter.widget-view+json": {
       "model_id": "b6cb1cf143ab440981fb142e28acdc44",
       "version_major": 2,
       "version_minor": 0
      },
      "text/plain": [
       "eve_l2_spectra_2011035_03:   0%|          | 0.00/6.77M [00:00<?, ?B/s]"
      ]
     },
     "metadata": {},
     "output_type": "display_data"
    },
    {
     "data": {
      "application/vnd.jupyter.widget-view+json": {
       "model_id": "7c7907274b52447a86430c4b6dc8174b",
       "version_major": 2,
       "version_minor": 0
      },
      "text/plain": [
       "eve_l2_spectra_2011035_04:   0%|          | 0.00/6.77M [00:00<?, ?B/s]"
      ]
     },
     "metadata": {},
     "output_type": "display_data"
    },
    {
     "data": {
      "application/vnd.jupyter.widget-view+json": {
       "model_id": "5ca2c008da1242b2aaae5d7150fd9ee8",
       "version_major": 2,
       "version_minor": 0
      },
      "text/plain": [
       "eve_l2_spectra_2011035_05:   0%|          | 0.00/6.77M [00:00<?, ?B/s]"
      ]
     },
     "metadata": {},
     "output_type": "display_data"
    },
    {
     "data": {
      "application/vnd.jupyter.widget-view+json": {
       "model_id": "6931b87df9e243e8b16f0e9b0c4c8463",
       "version_major": 2,
       "version_minor": 0
      },
      "text/plain": [
       "eve_l2_spectra_2011035_06:   0%|          | 0.00/6.77M [00:00<?, ?B/s]"
      ]
     },
     "metadata": {},
     "output_type": "display_data"
    },
    {
     "data": {
      "application/vnd.jupyter.widget-view+json": {
       "model_id": "2cad79fa3cca4907815cb1f44e83ceea",
       "version_major": 2,
       "version_minor": 0
      },
      "text/plain": [
       "eve_l2_spectra_2011035_07:   0%|          | 0.00/6.77M [00:00<?, ?B/s]"
      ]
     },
     "metadata": {},
     "output_type": "display_data"
    },
    {
     "data": {
      "application/vnd.jupyter.widget-view+json": {
       "model_id": "ad0d117b0d9e47cebc7845c28b4e35ce",
       "version_major": 2,
       "version_minor": 0
      },
      "text/plain": [
       "eve_l2_spectra_2011035_08:   0%|          | 0.00/6.81M [00:00<?, ?B/s]"
      ]
     },
     "metadata": {},
     "output_type": "display_data"
    },
    {
     "data": {
      "application/vnd.jupyter.widget-view+json": {
       "model_id": "e7272c3f02fb4636a58c8a6cd9f88647",
       "version_major": 2,
       "version_minor": 0
      },
      "text/plain": [
       "eve_l2_spectra_2011035_09:   0%|          | 0.00/6.77M [00:00<?, ?B/s]"
      ]
     },
     "metadata": {},
     "output_type": "display_data"
    },
    {
     "data": {
      "application/vnd.jupyter.widget-view+json": {
       "model_id": "ca22451de2c748f8861f1f019e978387",
       "version_major": 2,
       "version_minor": 0
      },
      "text/plain": [
       "eve_l2_spectra_2011035_10:   0%|          | 0.00/6.81M [00:00<?, ?B/s]"
      ]
     },
     "metadata": {},
     "output_type": "display_data"
    },
    {
     "data": {
      "application/vnd.jupyter.widget-view+json": {
       "model_id": "f5a59a9ee0314fdd995e0983575faf98",
       "version_major": 2,
       "version_minor": 0
      },
      "text/plain": [
       "eve_l2_spectra_2011035_11:   0%|          | 0.00/6.77M [00:00<?, ?B/s]"
      ]
     },
     "metadata": {},
     "output_type": "display_data"
    },
    {
     "data": {
      "application/vnd.jupyter.widget-view+json": {
       "model_id": "093ed3638d2849f7af4523c28cbe3e04",
       "version_major": 2,
       "version_minor": 0
      },
      "text/plain": [
       "eve_l2_spectra_2011035_12:   0%|          | 0.00/6.81M [00:00<?, ?B/s]"
      ]
     },
     "metadata": {},
     "output_type": "display_data"
    },
    {
     "data": {
      "application/vnd.jupyter.widget-view+json": {
       "model_id": "bb34fcf4c15649fda09f5a3c90508c35",
       "version_major": 2,
       "version_minor": 0
      },
      "text/plain": [
       "eve_l2_spectra_2011035_13:   0%|          | 0.00/8.04M [00:00<?, ?B/s]"
      ]
     },
     "metadata": {},
     "output_type": "display_data"
    },
    {
     "data": {
      "application/vnd.jupyter.widget-view+json": {
       "model_id": "034077d183d3401480a2ee134568467a",
       "version_major": 2,
       "version_minor": 0
      },
      "text/plain": [
       "eve_l2_spectra_2011035_14:   0%|          | 0.00/20.3M [00:00<?, ?B/s]"
      ]
     },
     "metadata": {},
     "output_type": "display_data"
    },
    {
     "data": {
      "application/vnd.jupyter.widget-view+json": {
       "model_id": "866bad3cdee5467195d1d7f535ee8b2f",
       "version_major": 2,
       "version_minor": 0
      },
      "text/plain": [
       "eve_l2_spectra_2011035_15:   0%|          | 0.00/20.3M [00:00<?, ?B/s]"
      ]
     },
     "metadata": {},
     "output_type": "display_data"
    },
    {
     "data": {
      "application/vnd.jupyter.widget-view+json": {
       "model_id": "0feb5ea3558e4405919145e1152c646f",
       "version_major": 2,
       "version_minor": 0
      },
      "text/plain": [
       "eve_l2_spectra_2011035_16:   0%|          | 0.00/19.1M [00:00<?, ?B/s]"
      ]
     },
     "metadata": {},
     "output_type": "display_data"
    },
    {
     "data": {
      "application/vnd.jupyter.widget-view+json": {
       "model_id": "03e6698f7db04709a4180188586f4001",
       "version_major": 2,
       "version_minor": 0
      },
      "text/plain": [
       "eve_l2_spectra_2011035_17:   0%|          | 0.00/6.77M [00:00<?, ?B/s]"
      ]
     },
     "metadata": {},
     "output_type": "display_data"
    },
    {
     "data": {
      "application/vnd.jupyter.widget-view+json": {
       "model_id": "f113d3aacf464d1ab97811518340a713",
       "version_major": 2,
       "version_minor": 0
      },
      "text/plain": [
       "eve_l2_spectra_2011035_18:   0%|          | 0.00/6.81M [00:00<?, ?B/s]"
      ]
     },
     "metadata": {},
     "output_type": "display_data"
    },
    {
     "data": {
      "application/vnd.jupyter.widget-view+json": {
       "model_id": "0c59542a9a94454ab81df2a9b8124192",
       "version_major": 2,
       "version_minor": 0
      },
      "text/plain": [
       "eve_l2_spectra_2011035_19:   0%|          | 0.00/6.77M [00:00<?, ?B/s]"
      ]
     },
     "metadata": {},
     "output_type": "display_data"
    },
    {
     "data": {
      "application/vnd.jupyter.widget-view+json": {
       "model_id": "8c90bced2d6948159e40686b83ba3bd6",
       "version_major": 2,
       "version_minor": 0
      },
      "text/plain": [
       "eve_l2_spectra_2011035_20:   0%|          | 0.00/6.81M [00:00<?, ?B/s]"
      ]
     },
     "metadata": {},
     "output_type": "display_data"
    },
    {
     "data": {
      "application/vnd.jupyter.widget-view+json": {
       "model_id": "4876bb54b8e845a79a61f6d1b1cfdae1",
       "version_major": 2,
       "version_minor": 0
      },
      "text/plain": [
       "eve_l2_spectra_2011035_21:   0%|          | 0.00/5.89M [00:00<?, ?B/s]"
      ]
     },
     "metadata": {},
     "output_type": "display_data"
    },
    {
     "data": {
      "application/vnd.jupyter.widget-view+json": {
       "model_id": "184a31ddc08449bca0e36164ef12bf85",
       "version_major": 2,
       "version_minor": 0
      },
      "text/plain": [
       "eve_l2_spectra_2011035_22:   0%|          | 0.00/6.81M [00:00<?, ?B/s]"
      ]
     },
     "metadata": {},
     "output_type": "display_data"
    },
    {
     "data": {
      "application/vnd.jupyter.widget-view+json": {
       "model_id": "ab293350505a4524a8c4419b308adba3",
       "version_major": 2,
       "version_minor": 0
      },
      "text/plain": [
       "eve_l2_spectra_2011035_23:   0%|          | 0.00/6.77M [00:00<?, ?B/s]"
      ]
     },
     "metadata": {},
     "output_type": "display_data"
    },
    {
     "data": {
      "application/vnd.jupyter.widget-view+json": {
       "model_id": "29e9b2bd70064c0089fb05729b12acbd",
       "version_major": 2,
       "version_minor": 0
      },
      "text/plain": [
       "eve_l2_spectra_2011036_00:   0%|          | 0.00/6.81M [00:00<?, ?B/s]"
      ]
     },
     "metadata": {},
     "output_type": "display_data"
    },
    {
     "data": {
      "application/vnd.jupyter.widget-view+json": {
       "model_id": "b4e092f914504f40ada074bed6b1254b",
       "version_major": 2,
       "version_minor": 0
      },
      "text/plain": [
       "eve_l2_spectra_2011036_01:   0%|          | 0.00/6.77M [00:00<?, ?B/s]"
      ]
     },
     "metadata": {},
     "output_type": "display_data"
    },
    {
     "data": {
      "application/vnd.jupyter.widget-view+json": {
       "model_id": "343d59bc94e646529771f4539dc4415d",
       "version_major": 2,
       "version_minor": 0
      },
      "text/plain": [
       "eve_l2_spectra_2011036_02:   0%|          | 0.00/6.81M [00:00<?, ?B/s]"
      ]
     },
     "metadata": {},
     "output_type": "display_data"
    },
    {
     "data": {
      "application/vnd.jupyter.widget-view+json": {
       "model_id": "206c8e0d1fa940399e6ce57adb9b5186",
       "version_major": 2,
       "version_minor": 0
      },
      "text/plain": [
       "eve_l2_spectra_2011036_03:   0%|          | 0.00/6.77M [00:00<?, ?B/s]"
      ]
     },
     "metadata": {},
     "output_type": "display_data"
    },
    {
     "data": {
      "application/vnd.jupyter.widget-view+json": {
       "model_id": "774ce6967d5d47a3869f8a5c26158ba4",
       "version_major": 2,
       "version_minor": 0
      },
      "text/plain": [
       "eve_l2_spectra_2011036_04:   0%|          | 0.00/6.81M [00:00<?, ?B/s]"
      ]
     },
     "metadata": {},
     "output_type": "display_data"
    },
    {
     "data": {
      "application/vnd.jupyter.widget-view+json": {
       "model_id": "69165028c4074344978b527108859628",
       "version_major": 2,
       "version_minor": 0
      },
      "text/plain": [
       "eve_l2_spectra_2011036_05:   0%|          | 0.00/6.77M [00:00<?, ?B/s]"
      ]
     },
     "metadata": {},
     "output_type": "display_data"
    },
    {
     "data": {
      "application/vnd.jupyter.widget-view+json": {
       "model_id": "bff1ba911dec445ab9b088fb5913f3fb",
       "version_major": 2,
       "version_minor": 0
      },
      "text/plain": [
       "eve_l2_spectra_2011036_06:   0%|          | 0.00/6.81M [00:00<?, ?B/s]"
      ]
     },
     "metadata": {},
     "output_type": "display_data"
    },
    {
     "data": {
      "application/vnd.jupyter.widget-view+json": {
       "model_id": "2475975a3b16426a9d2fe71ec966181b",
       "version_major": 2,
       "version_minor": 0
      },
      "text/plain": [
       "eve_l2_spectra_2011036_07:   0%|          | 0.00/6.77M [00:00<?, ?B/s]"
      ]
     },
     "metadata": {},
     "output_type": "display_data"
    },
    {
     "data": {
      "application/vnd.jupyter.widget-view+json": {
       "model_id": "65dbd6c2ff7b409fbed332ebc40a085a",
       "version_major": 2,
       "version_minor": 0
      },
      "text/plain": [
       "eve_l2_spectra_2011036_08:   0%|          | 0.00/6.81M [00:00<?, ?B/s]"
      ]
     },
     "metadata": {},
     "output_type": "display_data"
    },
    {
     "data": {
      "application/vnd.jupyter.widget-view+json": {
       "model_id": "36575185c79e4bc08aaa08cf661ca5a3",
       "version_major": 2,
       "version_minor": 0
      },
      "text/plain": [
       "eve_l2_spectra_2011036_09:   0%|          | 0.00/6.77M [00:00<?, ?B/s]"
      ]
     },
     "metadata": {},
     "output_type": "display_data"
    },
    {
     "data": {
      "application/vnd.jupyter.widget-view+json": {
       "model_id": "464354a01fd94d77929f9ab53cc6fb97",
       "version_major": 2,
       "version_minor": 0
      },
      "text/plain": [
       "eve_l2_spectra_2011036_10:   0%|          | 0.00/6.81M [00:00<?, ?B/s]"
      ]
     },
     "metadata": {},
     "output_type": "display_data"
    },
    {
     "data": {
      "application/vnd.jupyter.widget-view+json": {
       "model_id": "ad2562146575434b86be58c3a22232f2",
       "version_major": 2,
       "version_minor": 0
      },
      "text/plain": [
       "eve_l2_spectra_2011036_11:   0%|          | 0.00/6.77M [00:00<?, ?B/s]"
      ]
     },
     "metadata": {},
     "output_type": "display_data"
    },
    {
     "data": {
      "application/vnd.jupyter.widget-view+json": {
       "model_id": "f3a75fffdfbd486284ca7eba85b9bd21",
       "version_major": 2,
       "version_minor": 0
      },
      "text/plain": [
       "eve_l2_spectra_2011036_12:   0%|          | 0.00/6.81M [00:00<?, ?B/s]"
      ]
     },
     "metadata": {},
     "output_type": "display_data"
    },
    {
     "data": {
      "application/vnd.jupyter.widget-view+json": {
       "model_id": "8c4a553e1826455fabea726a10e0123f",
       "version_major": 2,
       "version_minor": 0
      },
      "text/plain": [
       "eve_l2_spectra_2011036_13:   0%|          | 0.00/8.00M [00:00<?, ?B/s]"
      ]
     },
     "metadata": {},
     "output_type": "display_data"
    },
    {
     "data": {
      "application/vnd.jupyter.widget-view+json": {
       "model_id": "d1e096e70882490a8caaa5efc13d1ce6",
       "version_major": 2,
       "version_minor": 0
      },
      "text/plain": [
       "eve_l2_spectra_2011036_14:   0%|          | 0.00/20.3M [00:00<?, ?B/s]"
      ]
     },
     "metadata": {},
     "output_type": "display_data"
    },
    {
     "data": {
      "application/vnd.jupyter.widget-view+json": {
       "model_id": "22f0b66ad8144bb8b42d2e816b13a4db",
       "version_major": 2,
       "version_minor": 0
      },
      "text/plain": [
       "eve_l2_spectra_2011036_15:   0%|          | 0.00/20.3M [00:00<?, ?B/s]"
      ]
     },
     "metadata": {},
     "output_type": "display_data"
    },
    {
     "data": {
      "application/vnd.jupyter.widget-view+json": {
       "model_id": "d02cae3f3dc34013a368cf96c40bbc34",
       "version_major": 2,
       "version_minor": 0
      },
      "text/plain": [
       "eve_l2_spectra_2011036_16:   0%|          | 0.00/19.1M [00:00<?, ?B/s]"
      ]
     },
     "metadata": {},
     "output_type": "display_data"
    },
    {
     "data": {
      "application/vnd.jupyter.widget-view+json": {
       "model_id": "b87c1c4ea8be416dadc652ce41f58b73",
       "version_major": 2,
       "version_minor": 0
      },
      "text/plain": [
       "eve_l2_spectra_2011036_17:   0%|          | 0.00/6.77M [00:00<?, ?B/s]"
      ]
     },
     "metadata": {},
     "output_type": "display_data"
    },
    {
     "data": {
      "application/vnd.jupyter.widget-view+json": {
       "model_id": "cb0cc2d08ba843898a2ecf886c7ed068",
       "version_major": 2,
       "version_minor": 0
      },
      "text/plain": [
       "eve_l2_spectra_2011036_18:   0%|          | 0.00/6.81M [00:00<?, ?B/s]"
      ]
     },
     "metadata": {},
     "output_type": "display_data"
    },
    {
     "data": {
      "application/vnd.jupyter.widget-view+json": {
       "model_id": "3e6e780e74594541ae7076dff50d67df",
       "version_major": 2,
       "version_minor": 0
      },
      "text/plain": [
       "eve_l2_spectra_2011036_19:   0%|          | 0.00/6.77M [00:00<?, ?B/s]"
      ]
     },
     "metadata": {},
     "output_type": "display_data"
    },
    {
     "data": {
      "application/vnd.jupyter.widget-view+json": {
       "model_id": "5c0ceabd3a0c4024a8f16352c9dbf221",
       "version_major": 2,
       "version_minor": 0
      },
      "text/plain": [
       "eve_l2_spectra_2011036_20:   0%|          | 0.00/6.81M [00:00<?, ?B/s]"
      ]
     },
     "metadata": {},
     "output_type": "display_data"
    },
    {
     "data": {
      "application/vnd.jupyter.widget-view+json": {
       "model_id": "549fdb164a7e4ef98839b20f440288be",
       "version_major": 2,
       "version_minor": 0
      },
      "text/plain": [
       "eve_l2_spectra_2011036_21:   0%|          | 0.00/6.77M [00:00<?, ?B/s]"
      ]
     },
     "metadata": {},
     "output_type": "display_data"
    },
    {
     "data": {
      "application/vnd.jupyter.widget-view+json": {
       "model_id": "b2bd6c2a8e564c4ead8fa77408c83d65",
       "version_major": 2,
       "version_minor": 0
      },
      "text/plain": [
       "eve_l2_spectra_2011036_22:   0%|          | 0.00/6.81M [00:00<?, ?B/s]"
      ]
     },
     "metadata": {},
     "output_type": "display_data"
    },
    {
     "data": {
      "application/vnd.jupyter.widget-view+json": {
       "model_id": "b51d8146e3a34415874ebca6e3c04cd4",
       "version_major": 2,
       "version_minor": 0
      },
      "text/plain": [
       "eve_l2_spectra_2011036_23:   0%|          | 0.00/5.89M [00:00<?, ?B/s]"
      ]
     },
     "metadata": {},
     "output_type": "display_data"
    },
    {
     "data": {
      "application/vnd.jupyter.widget-view+json": {
       "model_id": "0b9755622c9641db9ffe741b84f9bcf0",
       "version_major": 2,
       "version_minor": 0
      },
      "text/plain": [
       "eve_l2_spectra_2011037_00:   0%|          | 0.00/6.81M [00:00<?, ?B/s]"
      ]
     },
     "metadata": {},
     "output_type": "display_data"
    },
    {
     "data": {
      "application/vnd.jupyter.widget-view+json": {
       "model_id": "c671c971604845c0a3a7d1dcb6ac2c15",
       "version_major": 2,
       "version_minor": 0
      },
      "text/plain": [
       "eve_l2_spectra_2011037_01:   0%|          | 0.00/6.77M [00:00<?, ?B/s]"
      ]
     },
     "metadata": {},
     "output_type": "display_data"
    },
    {
     "data": {
      "application/vnd.jupyter.widget-view+json": {
       "model_id": "b5f2f4140a8448fab16c056834cedad0",
       "version_major": 2,
       "version_minor": 0
      },
      "text/plain": [
       "eve_l2_spectra_2011037_02:   0%|          | 0.00/6.81M [00:00<?, ?B/s]"
      ]
     },
     "metadata": {},
     "output_type": "display_data"
    },
    {
     "data": {
      "application/vnd.jupyter.widget-view+json": {
       "model_id": "f27c21bdb1e44eb0bac4bbc459ba3f8e",
       "version_major": 2,
       "version_minor": 0
      },
      "text/plain": [
       "eve_l2_spectra_2011037_03:   0%|          | 0.00/6.77M [00:00<?, ?B/s]"
      ]
     },
     "metadata": {},
     "output_type": "display_data"
    },
    {
     "data": {
      "application/vnd.jupyter.widget-view+json": {
       "model_id": "1b2be273f897432eaf9791b51720f552",
       "version_major": 2,
       "version_minor": 0
      },
      "text/plain": [
       "eve_l2_spectra_2011037_04:   0%|          | 0.00/6.81M [00:00<?, ?B/s]"
      ]
     },
     "metadata": {},
     "output_type": "display_data"
    },
    {
     "data": {
      "application/vnd.jupyter.widget-view+json": {
       "model_id": "04b89ce529704671bdaa283d225047b9",
       "version_major": 2,
       "version_minor": 0
      },
      "text/plain": [
       "eve_l2_spectra_2011037_05:   0%|          | 0.00/6.77M [00:00<?, ?B/s]"
      ]
     },
     "metadata": {},
     "output_type": "display_data"
    },
    {
     "data": {
      "application/vnd.jupyter.widget-view+json": {
       "model_id": "f9fd045701ff49f38c29db5ad872089c",
       "version_major": 2,
       "version_minor": 0
      },
      "text/plain": [
       "eve_l2_spectra_2011037_06:   0%|          | 0.00/6.81M [00:00<?, ?B/s]"
      ]
     },
     "metadata": {},
     "output_type": "display_data"
    },
    {
     "data": {
      "application/vnd.jupyter.widget-view+json": {
       "model_id": "d9b2b773d9ec4e4cb538bd33be65aa10",
       "version_major": 2,
       "version_minor": 0
      },
      "text/plain": [
       "eve_l2_spectra_2011037_07:   0%|          | 0.00/6.77M [00:00<?, ?B/s]"
      ]
     },
     "metadata": {},
     "output_type": "display_data"
    },
    {
     "data": {
      "application/vnd.jupyter.widget-view+json": {
       "model_id": "34f50809135b47b384e26118383d0bae",
       "version_major": 2,
       "version_minor": 0
      },
      "text/plain": [
       "eve_l2_spectra_2011037_08:   0%|          | 0.00/6.81M [00:00<?, ?B/s]"
      ]
     },
     "metadata": {},
     "output_type": "display_data"
    },
    {
     "data": {
      "application/vnd.jupyter.widget-view+json": {
       "model_id": "0c68d927041f4deb931a736d6e4c9e34",
       "version_major": 2,
       "version_minor": 0
      },
      "text/plain": [
       "eve_l2_spectra_2011037_09:   0%|          | 0.00/6.77M [00:00<?, ?B/s]"
      ]
     },
     "metadata": {},
     "output_type": "display_data"
    },
    {
     "data": {
      "application/vnd.jupyter.widget-view+json": {
       "model_id": "22831812117b46afbe27826bc2006ce2",
       "version_major": 2,
       "version_minor": 0
      },
      "text/plain": [
       "eve_l2_spectra_2011037_10:   0%|          | 0.00/6.81M [00:00<?, ?B/s]"
      ]
     },
     "metadata": {},
     "output_type": "display_data"
    },
    {
     "data": {
      "application/vnd.jupyter.widget-view+json": {
       "model_id": "ff4fad858c334f2d85d441029eaa7e0d",
       "version_major": 2,
       "version_minor": 0
      },
      "text/plain": [
       "eve_l2_spectra_2011037_11:   0%|          | 0.00/6.77M [00:00<?, ?B/s]"
      ]
     },
     "metadata": {},
     "output_type": "display_data"
    },
    {
     "data": {
      "application/vnd.jupyter.widget-view+json": {
       "model_id": "0d5020dead72475c8bc37740c274404d",
       "version_major": 2,
       "version_minor": 0
      },
      "text/plain": [
       "eve_l2_spectra_2011037_12:   0%|          | 0.00/6.81M [00:00<?, ?B/s]"
      ]
     },
     "metadata": {},
     "output_type": "display_data"
    },
    {
     "data": {
      "application/vnd.jupyter.widget-view+json": {
       "model_id": "b6406365445a4d9d93238c0753d33629",
       "version_major": 2,
       "version_minor": 0
      },
      "text/plain": [
       "eve_l2_spectra_2011037_13:   0%|          | 0.00/6.07M [00:00<?, ?B/s]"
      ]
     },
     "metadata": {},
     "output_type": "display_data"
    },
    {
     "data": {
      "application/vnd.jupyter.widget-view+json": {
       "model_id": "ad5e548c85794d5c8e427903374e38f0",
       "version_major": 2,
       "version_minor": 0
      },
      "text/plain": [
       "eve_l2_spectra_2011037_14:   0%|          | 0.00/20.3M [00:00<?, ?B/s]"
      ]
     },
     "metadata": {},
     "output_type": "display_data"
    },
    {
     "data": {
      "application/vnd.jupyter.widget-view+json": {
       "model_id": "3cac66f6e16f4c1bb1f890a72fd7154c",
       "version_major": 2,
       "version_minor": 0
      },
      "text/plain": [
       "eve_l2_spectra_2011037_15:   0%|          | 0.00/20.3M [00:00<?, ?B/s]"
      ]
     },
     "metadata": {},
     "output_type": "display_data"
    },
    {
     "data": {
      "application/vnd.jupyter.widget-view+json": {
       "model_id": "193a213faed84f08b5172447dbd68063",
       "version_major": 2,
       "version_minor": 0
      },
      "text/plain": [
       "eve_l2_spectra_2011037_16:   0%|          | 0.00/19.1M [00:00<?, ?B/s]"
      ]
     },
     "metadata": {},
     "output_type": "display_data"
    },
    {
     "data": {
      "application/vnd.jupyter.widget-view+json": {
       "model_id": "140aa1ca875f412b9601959f6e051dba",
       "version_major": 2,
       "version_minor": 0
      },
      "text/plain": [
       "eve_l2_spectra_2011037_17:   0%|          | 0.00/6.77M [00:00<?, ?B/s]"
      ]
     },
     "metadata": {},
     "output_type": "display_data"
    },
    {
     "data": {
      "application/vnd.jupyter.widget-view+json": {
       "model_id": "e4788329ec5346b885cad7388f099cfc",
       "version_major": 2,
       "version_minor": 0
      },
      "text/plain": [
       "eve_l2_spectra_2011037_18:   0%|          | 0.00/6.81M [00:00<?, ?B/s]"
      ]
     },
     "metadata": {},
     "output_type": "display_data"
    },
    {
     "data": {
      "application/vnd.jupyter.widget-view+json": {
       "model_id": "a4401e75c2814a09a783ab3d95c26ae1",
       "version_major": 2,
       "version_minor": 0
      },
      "text/plain": [
       "eve_l2_spectra_2011037_19:   0%|          | 0.00/6.77M [00:00<?, ?B/s]"
      ]
     },
     "metadata": {},
     "output_type": "display_data"
    },
    {
     "data": {
      "application/vnd.jupyter.widget-view+json": {
       "model_id": "901d1bf3c53a4d12b338b878b07273a6",
       "version_major": 2,
       "version_minor": 0
      },
      "text/plain": [
       "eve_l2_spectra_2011037_20:   0%|          | 0.00/6.81M [00:00<?, ?B/s]"
      ]
     },
     "metadata": {},
     "output_type": "display_data"
    },
    {
     "data": {
      "application/vnd.jupyter.widget-view+json": {
       "model_id": "45dd80f791b64e6796aa9b5698336c08",
       "version_major": 2,
       "version_minor": 0
      },
      "text/plain": [
       "eve_l2_spectra_2011037_21:   0%|          | 0.00/6.76M [00:00<?, ?B/s]"
      ]
     },
     "metadata": {},
     "output_type": "display_data"
    },
    {
     "data": {
      "application/vnd.jupyter.widget-view+json": {
       "model_id": "2d005a2a360d4be3a04eb8435566c340",
       "version_major": 2,
       "version_minor": 0
      },
      "text/plain": [
       "eve_l2_spectra_2011037_22:   0%|          | 0.00/6.80M [00:00<?, ?B/s]"
      ]
     },
     "metadata": {},
     "output_type": "display_data"
    },
    {
     "data": {
      "application/vnd.jupyter.widget-view+json": {
       "model_id": "48b655867aef4b2e8fa4939cb622110b",
       "version_major": 2,
       "version_minor": 0
      },
      "text/plain": [
       "eve_l2_spectra_2011037_23:   0%|          | 0.00/6.76M [00:00<?, ?B/s]"
      ]
     },
     "metadata": {},
     "output_type": "display_data"
    },
    {
     "data": {
      "application/vnd.jupyter.widget-view+json": {
       "model_id": "8d84349915ee42568c6aa38d9afff73e",
       "version_major": 2,
       "version_minor": 0
      },
      "text/plain": [
       "eve_l2_spectra_2011038_00:   0%|          | 0.00/6.81M [00:00<?, ?B/s]"
      ]
     },
     "metadata": {},
     "output_type": "display_data"
    },
    {
     "data": {
      "application/vnd.jupyter.widget-view+json": {
       "model_id": "1f6328e3a838497a9dd1730532eac5a6",
       "version_major": 2,
       "version_minor": 0
      },
      "text/plain": [
       "eve_l2_spectra_2011038_01:   0%|          | 0.00/5.89M [00:00<?, ?B/s]"
      ]
     },
     "metadata": {},
     "output_type": "display_data"
    },
    {
     "data": {
      "application/vnd.jupyter.widget-view+json": {
       "model_id": "ee4f6d1a127041bc8be05d75b84815bd",
       "version_major": 2,
       "version_minor": 0
      },
      "text/plain": [
       "eve_l2_spectra_2011038_02:   0%|          | 0.00/6.81M [00:00<?, ?B/s]"
      ]
     },
     "metadata": {},
     "output_type": "display_data"
    },
    {
     "data": {
      "application/vnd.jupyter.widget-view+json": {
       "model_id": "011e7eb2b45e40beaa34e563dde2fee9",
       "version_major": 2,
       "version_minor": 0
      },
      "text/plain": [
       "eve_l2_spectra_2011038_03:   0%|          | 0.00/6.77M [00:00<?, ?B/s]"
      ]
     },
     "metadata": {},
     "output_type": "display_data"
    },
    {
     "data": {
      "application/vnd.jupyter.widget-view+json": {
       "model_id": "6d2b8b3a77544956b78992da2a184d8b",
       "version_major": 2,
       "version_minor": 0
      },
      "text/plain": [
       "eve_l2_spectra_2011038_04:   0%|          | 0.00/6.81M [00:00<?, ?B/s]"
      ]
     },
     "metadata": {},
     "output_type": "display_data"
    },
    {
     "data": {
      "application/vnd.jupyter.widget-view+json": {
       "model_id": "1870af69b16244e596ed9e3906225411",
       "version_major": 2,
       "version_minor": 0
      },
      "text/plain": [
       "eve_l2_spectra_2011038_05:   0%|          | 0.00/6.77M [00:00<?, ?B/s]"
      ]
     },
     "metadata": {},
     "output_type": "display_data"
    },
    {
     "data": {
      "application/vnd.jupyter.widget-view+json": {
       "model_id": "cfb2461a66ac4697936b894def27c215",
       "version_major": 2,
       "version_minor": 0
      },
      "text/plain": [
       "eve_l2_spectra_2011038_06:   0%|          | 0.00/6.81M [00:00<?, ?B/s]"
      ]
     },
     "metadata": {},
     "output_type": "display_data"
    },
    {
     "data": {
      "application/vnd.jupyter.widget-view+json": {
       "model_id": "25e95a3496b942368d443ebfd1fdbae8",
       "version_major": 2,
       "version_minor": 0
      },
      "text/plain": [
       "eve_l2_spectra_2011038_07:   0%|          | 0.00/6.77M [00:00<?, ?B/s]"
      ]
     },
     "metadata": {},
     "output_type": "display_data"
    },
    {
     "data": {
      "application/vnd.jupyter.widget-view+json": {
       "model_id": "18e3c7e97ebf40e6b50a632fdf89eb85",
       "version_major": 2,
       "version_minor": 0
      },
      "text/plain": [
       "eve_l2_spectra_2011038_08:   0%|          | 0.00/6.81M [00:00<?, ?B/s]"
      ]
     },
     "metadata": {},
     "output_type": "display_data"
    },
    {
     "data": {
      "application/vnd.jupyter.widget-view+json": {
       "model_id": "a929daa7e4a545a7a002e5fa61cb83a4",
       "version_major": 2,
       "version_minor": 0
      },
      "text/plain": [
       "eve_l2_spectra_2011038_09:   0%|          | 0.00/6.77M [00:00<?, ?B/s]"
      ]
     },
     "metadata": {},
     "output_type": "display_data"
    },
    {
     "data": {
      "application/vnd.jupyter.widget-view+json": {
       "model_id": "87c87d702aa84ac4968b23f75cf87b22",
       "version_major": 2,
       "version_minor": 0
      },
      "text/plain": [
       "eve_l2_spectra_2011038_10:   0%|          | 0.00/6.81M [00:00<?, ?B/s]"
      ]
     },
     "metadata": {},
     "output_type": "display_data"
    },
    {
     "data": {
      "application/vnd.jupyter.widget-view+json": {
       "model_id": "dfc561ffde5c40bcabcb8d7e8e5f76eb",
       "version_major": 2,
       "version_minor": 0
      },
      "text/plain": [
       "eve_l2_spectra_2011038_11:   0%|          | 0.00/6.77M [00:00<?, ?B/s]"
      ]
     },
     "metadata": {},
     "output_type": "display_data"
    },
    {
     "data": {
      "application/vnd.jupyter.widget-view+json": {
       "model_id": "350b76a867ac47988416d7bedcbd5dd4",
       "version_major": 2,
       "version_minor": 0
      },
      "text/plain": [
       "eve_l2_spectra_2011038_12:   0%|          | 0.00/6.81M [00:00<?, ?B/s]"
      ]
     },
     "metadata": {},
     "output_type": "display_data"
    },
    {
     "data": {
      "application/vnd.jupyter.widget-view+json": {
       "model_id": "763504116ac3479b9f8f72802201c6e3",
       "version_major": 2,
       "version_minor": 0
      },
      "text/plain": [
       "eve_l2_spectra_2011038_13:   0%|          | 0.00/7.99M [00:00<?, ?B/s]"
      ]
     },
     "metadata": {},
     "output_type": "display_data"
    },
    {
     "data": {
      "application/vnd.jupyter.widget-view+json": {
       "model_id": "2acd9ce1f33e42248c32dfa91ae11439",
       "version_major": 2,
       "version_minor": 0
      },
      "text/plain": [
       "eve_l2_spectra_2011038_14:   0%|          | 0.00/20.3M [00:00<?, ?B/s]"
      ]
     },
     "metadata": {},
     "output_type": "display_data"
    },
    {
     "data": {
      "application/vnd.jupyter.widget-view+json": {
       "model_id": "1d4ade20a0e949a1b09664680a72ac8a",
       "version_major": 2,
       "version_minor": 0
      },
      "text/plain": [
       "eve_l2_spectra_2011038_15:   0%|          | 0.00/20.3M [00:00<?, ?B/s]"
      ]
     },
     "metadata": {},
     "output_type": "display_data"
    },
    {
     "data": {
      "application/vnd.jupyter.widget-view+json": {
       "model_id": "3bcb833c244a41628022f2cd39dc5491",
       "version_major": 2,
       "version_minor": 0
      },
      "text/plain": [
       "eve_l2_spectra_2011038_16:   0%|          | 0.00/19.1M [00:00<?, ?B/s]"
      ]
     },
     "metadata": {},
     "output_type": "display_data"
    },
    {
     "data": {
      "application/vnd.jupyter.widget-view+json": {
       "model_id": "1aef3c4b62114107ba5917939a2c7530",
       "version_major": 2,
       "version_minor": 0
      },
      "text/plain": [
       "eve_l2_spectra_2011038_17:   0%|          | 0.00/6.77M [00:00<?, ?B/s]"
      ]
     },
     "metadata": {},
     "output_type": "display_data"
    },
    {
     "data": {
      "application/vnd.jupyter.widget-view+json": {
       "model_id": "e2cdd2b4480e4106905a993d9b2d65c2",
       "version_major": 2,
       "version_minor": 0
      },
      "text/plain": [
       "eve_l2_spectra_2011038_18:   0%|          | 0.00/6.81M [00:00<?, ?B/s]"
      ]
     },
     "metadata": {},
     "output_type": "display_data"
    },
    {
     "data": {
      "application/vnd.jupyter.widget-view+json": {
       "model_id": "a193331744ae42f58bc4b3049aca684a",
       "version_major": 2,
       "version_minor": 0
      },
      "text/plain": [
       "eve_l2_spectra_2011038_19:   0%|          | 0.00/6.77M [00:00<?, ?B/s]"
      ]
     },
     "metadata": {},
     "output_type": "display_data"
    },
    {
     "data": {
      "application/vnd.jupyter.widget-view+json": {
       "model_id": "298d9e0965714479a9fb7bf41a049455",
       "version_major": 2,
       "version_minor": 0
      },
      "text/plain": [
       "eve_l2_spectra_2011038_20:   0%|          | 0.00/6.81M [00:00<?, ?B/s]"
      ]
     },
     "metadata": {},
     "output_type": "display_data"
    },
    {
     "data": {
      "application/vnd.jupyter.widget-view+json": {
       "model_id": "fc7f6f2a50174c8c9bd9e99263a5c23f",
       "version_major": 2,
       "version_minor": 0
      },
      "text/plain": [
       "eve_l2_spectra_2011038_21:   0%|          | 0.00/6.77M [00:00<?, ?B/s]"
      ]
     },
     "metadata": {},
     "output_type": "display_data"
    },
    {
     "data": {
      "application/vnd.jupyter.widget-view+json": {
       "model_id": "6581fcce7b8d4fbbac07c7b56ea608f7",
       "version_major": 2,
       "version_minor": 0
      },
      "text/plain": [
       "eve_l2_spectra_2011038_22:   0%|          | 0.00/6.80M [00:00<?, ?B/s]"
      ]
     },
     "metadata": {},
     "output_type": "display_data"
    },
    {
     "data": {
      "application/vnd.jupyter.widget-view+json": {
       "model_id": "fa079790e2cd438d924e081f7ca16785",
       "version_major": 2,
       "version_minor": 0
      },
      "text/plain": [
       "eve_l2_spectra_2011038_23:   0%|          | 0.00/6.76M [00:00<?, ?B/s]"
      ]
     },
     "metadata": {},
     "output_type": "display_data"
    },
    {
     "data": {
      "application/vnd.jupyter.widget-view+json": {
       "model_id": "b36c0150ce06478e82acd5a7b6fae1da",
       "version_major": 2,
       "version_minor": 0
      },
      "text/plain": [
       "eve_l2_spectra_2011039_00:   0%|          | 0.00/6.81M [00:00<?, ?B/s]"
      ]
     },
     "metadata": {},
     "output_type": "display_data"
    },
    {
     "data": {
      "application/vnd.jupyter.widget-view+json": {
       "model_id": "0f473adecfb44bd7bccf213098d15e22",
       "version_major": 2,
       "version_minor": 0
      },
      "text/plain": [
       "eve_l2_spectra_2011039_01:   0%|          | 0.00/6.77M [00:00<?, ?B/s]"
      ]
     },
     "metadata": {},
     "output_type": "display_data"
    },
    {
     "data": {
      "application/vnd.jupyter.widget-view+json": {
       "model_id": "bc3b716721b24117b3026d1189b598c4",
       "version_major": 2,
       "version_minor": 0
      },
      "text/plain": [
       "eve_l2_spectra_2011039_02:   0%|          | 0.00/6.81M [00:00<?, ?B/s]"
      ]
     },
     "metadata": {},
     "output_type": "display_data"
    },
    {
     "data": {
      "application/vnd.jupyter.widget-view+json": {
       "model_id": "22251518d8834a5091537f86a41bb072",
       "version_major": 2,
       "version_minor": 0
      },
      "text/plain": [
       "eve_l2_spectra_2011039_03:   0%|          | 0.00/5.91M [00:00<?, ?B/s]"
      ]
     },
     "metadata": {},
     "output_type": "display_data"
    },
    {
     "data": {
      "application/vnd.jupyter.widget-view+json": {
       "model_id": "83d11843b8944b72bbb615c2fbf18837",
       "version_major": 2,
       "version_minor": 0
      },
      "text/plain": [
       "eve_l2_spectra_2011039_04:   0%|          | 0.00/6.81M [00:00<?, ?B/s]"
      ]
     },
     "metadata": {},
     "output_type": "display_data"
    },
    {
     "data": {
      "application/vnd.jupyter.widget-view+json": {
       "model_id": "087332d4a3524b3c8463fdfeeecd9093",
       "version_major": 2,
       "version_minor": 0
      },
      "text/plain": [
       "eve_l2_spectra_2011039_05:   0%|          | 0.00/6.77M [00:00<?, ?B/s]"
      ]
     },
     "metadata": {},
     "output_type": "display_data"
    },
    {
     "data": {
      "application/vnd.jupyter.widget-view+json": {
       "model_id": "e848a96ff0fd4d21af3e4114b2e7d096",
       "version_major": 2,
       "version_minor": 0
      },
      "text/plain": [
       "eve_l2_spectra_2011039_06:   0%|          | 0.00/6.81M [00:00<?, ?B/s]"
      ]
     },
     "metadata": {},
     "output_type": "display_data"
    },
    {
     "data": {
      "application/vnd.jupyter.widget-view+json": {
       "model_id": "ea3bf2ddc4884dfb9a325eeb3d255a94",
       "version_major": 2,
       "version_minor": 0
      },
      "text/plain": [
       "eve_l2_spectra_2011039_07:   0%|          | 0.00/6.77M [00:00<?, ?B/s]"
      ]
     },
     "metadata": {},
     "output_type": "display_data"
    },
    {
     "data": {
      "application/vnd.jupyter.widget-view+json": {
       "model_id": "82e0ff85bc604a5090b47c7c7dd84874",
       "version_major": 2,
       "version_minor": 0
      },
      "text/plain": [
       "eve_l2_spectra_2011039_08:   0%|          | 0.00/6.81M [00:00<?, ?B/s]"
      ]
     },
     "metadata": {},
     "output_type": "display_data"
    },
    {
     "data": {
      "application/vnd.jupyter.widget-view+json": {
       "model_id": "fed2186415d64cc6a9cc09c5de59c183",
       "version_major": 2,
       "version_minor": 0
      },
      "text/plain": [
       "eve_l2_spectra_2011039_09:   0%|          | 0.00/6.77M [00:00<?, ?B/s]"
      ]
     },
     "metadata": {},
     "output_type": "display_data"
    },
    {
     "data": {
      "application/vnd.jupyter.widget-view+json": {
       "model_id": "4dc1237cd803498dbcebe64c8323685d",
       "version_major": 2,
       "version_minor": 0
      },
      "text/plain": [
       "eve_l2_spectra_2011039_10:   0%|          | 0.00/6.81M [00:00<?, ?B/s]"
      ]
     },
     "metadata": {},
     "output_type": "display_data"
    },
    {
     "data": {
      "application/vnd.jupyter.widget-view+json": {
       "model_id": "0713eff035ee44099cfa43ba1781bbe5",
       "version_major": 2,
       "version_minor": 0
      },
      "text/plain": [
       "eve_l2_spectra_2011039_11:   0%|          | 0.00/6.77M [00:00<?, ?B/s]"
      ]
     },
     "metadata": {},
     "output_type": "display_data"
    },
    {
     "data": {
      "application/vnd.jupyter.widget-view+json": {
       "model_id": "96687b5e50344b41a8c6221abdc71ccb",
       "version_major": 2,
       "version_minor": 0
      },
      "text/plain": [
       "eve_l2_spectra_2011039_12:   0%|          | 0.00/6.81M [00:00<?, ?B/s]"
      ]
     },
     "metadata": {},
     "output_type": "display_data"
    },
    {
     "data": {
      "application/vnd.jupyter.widget-view+json": {
       "model_id": "1d51e9a3a6154c14b9b211c7d0799604",
       "version_major": 2,
       "version_minor": 0
      },
      "text/plain": [
       "eve_l2_spectra_2011039_13:   0%|          | 0.00/8.00M [00:00<?, ?B/s]"
      ]
     },
     "metadata": {},
     "output_type": "display_data"
    },
    {
     "data": {
      "application/vnd.jupyter.widget-view+json": {
       "model_id": "74202a8e35b64d5da893ee1835e368c0",
       "version_major": 2,
       "version_minor": 0
      },
      "text/plain": [
       "eve_l2_spectra_2011039_14:   0%|          | 0.00/20.4M [00:00<?, ?B/s]"
      ]
     },
     "metadata": {},
     "output_type": "display_data"
    },
    {
     "data": {
      "application/vnd.jupyter.widget-view+json": {
       "model_id": "7849cad1c10b47b0a4d9e923ec604a55",
       "version_major": 2,
       "version_minor": 0
      },
      "text/plain": [
       "eve_l2_spectra_2011039_15:   0%|          | 0.00/20.3M [00:00<?, ?B/s]"
      ]
     },
     "metadata": {},
     "output_type": "display_data"
    },
    {
     "data": {
      "application/vnd.jupyter.widget-view+json": {
       "model_id": "f736bd6edbc64e81bf209cd9228668cd",
       "version_major": 2,
       "version_minor": 0
      },
      "text/plain": [
       "eve_l2_spectra_2011039_16:   0%|          | 0.00/19.1M [00:00<?, ?B/s]"
      ]
     },
     "metadata": {},
     "output_type": "display_data"
    },
    {
     "data": {
      "application/vnd.jupyter.widget-view+json": {
       "model_id": "ca15c8c99e604cc69659624925ba040a",
       "version_major": 2,
       "version_minor": 0
      },
      "text/plain": [
       "eve_l2_spectra_2011039_17:   0%|          | 0.00/6.77M [00:00<?, ?B/s]"
      ]
     },
     "metadata": {},
     "output_type": "display_data"
    },
    {
     "data": {
      "application/vnd.jupyter.widget-view+json": {
       "model_id": "5fec123f59e541d89132e79a5f022bf3",
       "version_major": 2,
       "version_minor": 0
      },
      "text/plain": [
       "eve_l2_spectra_2011039_18:   0%|          | 0.00/6.81M [00:00<?, ?B/s]"
      ]
     },
     "metadata": {},
     "output_type": "display_data"
    },
    {
     "data": {
      "application/vnd.jupyter.widget-view+json": {
       "model_id": "5947e267bb51454cbb4ad3e4f051608f",
       "version_major": 2,
       "version_minor": 0
      },
      "text/plain": [
       "eve_l2_spectra_2011039_19:   0%|          | 0.00/6.77M [00:00<?, ?B/s]"
      ]
     },
     "metadata": {},
     "output_type": "display_data"
    },
    {
     "data": {
      "application/vnd.jupyter.widget-view+json": {
       "model_id": "cec226e4284b4570bbc00fd9d59f0087",
       "version_major": 2,
       "version_minor": 0
      },
      "text/plain": [
       "eve_l2_spectra_2011039_20:   0%|          | 0.00/6.81M [00:00<?, ?B/s]"
      ]
     },
     "metadata": {},
     "output_type": "display_data"
    },
    {
     "data": {
      "application/vnd.jupyter.widget-view+json": {
       "model_id": "594dc9641c8544958d747569df7d57e2",
       "version_major": 2,
       "version_minor": 0
      },
      "text/plain": [
       "eve_l2_spectra_2011039_21:   0%|          | 0.00/6.76M [00:00<?, ?B/s]"
      ]
     },
     "metadata": {},
     "output_type": "display_data"
    },
    {
     "data": {
      "application/vnd.jupyter.widget-view+json": {
       "model_id": "04e8f1bedb17435ea42922c612fec12a",
       "version_major": 2,
       "version_minor": 0
      },
      "text/plain": [
       "eve_l2_spectra_2011039_22:   0%|          | 0.00/6.80M [00:00<?, ?B/s]"
      ]
     },
     "metadata": {},
     "output_type": "display_data"
    },
    {
     "data": {
      "application/vnd.jupyter.widget-view+json": {
       "model_id": "542bdfe8ba7e40be9f392369b04814cf",
       "version_major": 2,
       "version_minor": 0
      },
      "text/plain": [
       "eve_l2_spectra_2011039_23:   0%|          | 0.00/6.76M [00:00<?, ?B/s]"
      ]
     },
     "metadata": {},
     "output_type": "display_data"
    },
    {
     "data": {
      "application/vnd.jupyter.widget-view+json": {
       "model_id": "e31448d11c50433c8266d093f5f6969e",
       "version_major": 2,
       "version_minor": 0
      },
      "text/plain": [
       "eve_l2_spectra_2011041_00:   0%|          | 0.00/6.81M [00:00<?, ?B/s]"
      ]
     },
     "metadata": {},
     "output_type": "display_data"
    },
    {
     "data": {
      "application/vnd.jupyter.widget-view+json": {
       "model_id": "b5ff9d7a896f4c19918f82350b86fc6c",
       "version_major": 2,
       "version_minor": 0
      },
      "text/plain": [
       "eve_l2_spectra_2011041_01:   0%|          | 0.00/6.77M [00:00<?, ?B/s]"
      ]
     },
     "metadata": {},
     "output_type": "display_data"
    },
    {
     "data": {
      "application/vnd.jupyter.widget-view+json": {
       "model_id": "cded588f9aca47e5bb96e102ef0dc99a",
       "version_major": 2,
       "version_minor": 0
      },
      "text/plain": [
       "eve_l2_spectra_2011041_02:   0%|          | 0.00/6.81M [00:00<?, ?B/s]"
      ]
     },
     "metadata": {},
     "output_type": "display_data"
    },
    {
     "data": {
      "application/vnd.jupyter.widget-view+json": {
       "model_id": "2fbc2b7c12374d488e99ae2c3b7e014c",
       "version_major": 2,
       "version_minor": 0
      },
      "text/plain": [
       "eve_l2_spectra_2011041_03:   0%|          | 0.00/6.77M [00:00<?, ?B/s]"
      ]
     },
     "metadata": {},
     "output_type": "display_data"
    },
    {
     "data": {
      "application/vnd.jupyter.widget-view+json": {
       "model_id": "444ff1d30e5b4575b1e9fdf8ef11c356",
       "version_major": 2,
       "version_minor": 0
      },
      "text/plain": [
       "eve_l2_spectra_2011041_04:   0%|          | 0.00/6.81M [00:00<?, ?B/s]"
      ]
     },
     "metadata": {},
     "output_type": "display_data"
    },
    {
     "data": {
      "application/vnd.jupyter.widget-view+json": {
       "model_id": "353d9d373a554e1e8a6a679df7254150",
       "version_major": 2,
       "version_minor": 0
      },
      "text/plain": [
       "eve_l2_spectra_2011041_05:   0%|          | 0.00/6.77M [00:00<?, ?B/s]"
      ]
     },
     "metadata": {},
     "output_type": "display_data"
    },
    {
     "data": {
      "application/vnd.jupyter.widget-view+json": {
       "model_id": "3c70389639d642fb93c9a4bfe0297781",
       "version_major": 2,
       "version_minor": 0
      },
      "text/plain": [
       "eve_l2_spectra_2011041_06:   0%|          | 0.00/6.81M [00:00<?, ?B/s]"
      ]
     },
     "metadata": {},
     "output_type": "display_data"
    },
    {
     "data": {
      "application/vnd.jupyter.widget-view+json": {
       "model_id": "de80c6cbe17947d2a93e9b505c2316ed",
       "version_major": 2,
       "version_minor": 0
      },
      "text/plain": [
       "eve_l2_spectra_2011041_07:   0%|          | 0.00/5.89M [00:00<?, ?B/s]"
      ]
     },
     "metadata": {},
     "output_type": "display_data"
    },
    {
     "data": {
      "application/vnd.jupyter.widget-view+json": {
       "model_id": "4e7ab3885c904724aeb7be6b7b30739e",
       "version_major": 2,
       "version_minor": 0
      },
      "text/plain": [
       "eve_l2_spectra_2011041_08:   0%|          | 0.00/6.81M [00:00<?, ?B/s]"
      ]
     },
     "metadata": {},
     "output_type": "display_data"
    },
    {
     "data": {
      "application/vnd.jupyter.widget-view+json": {
       "model_id": "da4446aece024259a06f2323f2757141",
       "version_major": 2,
       "version_minor": 0
      },
      "text/plain": [
       "eve_l2_spectra_2011041_09:   0%|          | 0.00/6.81M [00:00<?, ?B/s]"
      ]
     },
     "metadata": {},
     "output_type": "display_data"
    },
    {
     "data": {
      "application/vnd.jupyter.widget-view+json": {
       "model_id": "8dbf074af1da42c28293c44c046ec64e",
       "version_major": 2,
       "version_minor": 0
      },
      "text/plain": [
       "eve_l2_spectra_2011041_10:   0%|          | 0.00/6.81M [00:00<?, ?B/s]"
      ]
     },
     "metadata": {},
     "output_type": "display_data"
    },
    {
     "data": {
      "application/vnd.jupyter.widget-view+json": {
       "model_id": "542048476fee4589a5cbdc55773dc538",
       "version_major": 2,
       "version_minor": 0
      },
      "text/plain": [
       "eve_l2_spectra_2011041_11:   0%|          | 0.00/6.81M [00:00<?, ?B/s]"
      ]
     },
     "metadata": {},
     "output_type": "display_data"
    },
    {
     "data": {
      "application/vnd.jupyter.widget-view+json": {
       "model_id": "4e6302d93f814c53adc471254db5be4c",
       "version_major": 2,
       "version_minor": 0
      },
      "text/plain": [
       "eve_l2_spectra_2011041_12:   0%|          | 0.00/6.81M [00:00<?, ?B/s]"
      ]
     },
     "metadata": {},
     "output_type": "display_data"
    },
    {
     "data": {
      "application/vnd.jupyter.widget-view+json": {
       "model_id": "559950dde5754139b6bd0120e55c87f0",
       "version_major": 2,
       "version_minor": 0
      },
      "text/plain": [
       "eve_l2_spectra_2011041_13:   0%|          | 0.00/8.04M [00:00<?, ?B/s]"
      ]
     },
     "metadata": {},
     "output_type": "display_data"
    },
    {
     "data": {
      "application/vnd.jupyter.widget-view+json": {
       "model_id": "1c0197e0ffd04e3ca32ed7a23cc61dad",
       "version_major": 2,
       "version_minor": 0
      },
      "text/plain": [
       "eve_l2_spectra_2011041_14:   0%|          | 0.00/20.4M [00:00<?, ?B/s]"
      ]
     },
     "metadata": {},
     "output_type": "display_data"
    },
    {
     "data": {
      "application/vnd.jupyter.widget-view+json": {
       "model_id": "46b7c73eabeb42a9bd24164be1886811",
       "version_major": 2,
       "version_minor": 0
      },
      "text/plain": [
       "eve_l2_spectra_2011041_15:   0%|          | 0.00/20.4M [00:00<?, ?B/s]"
      ]
     },
     "metadata": {},
     "output_type": "display_data"
    },
    {
     "data": {
      "application/vnd.jupyter.widget-view+json": {
       "model_id": "b8279c4b2f8a47268264f9a6a9d2e896",
       "version_major": 2,
       "version_minor": 0
      },
      "text/plain": [
       "eve_l2_spectra_2011041_16:   0%|          | 0.00/19.1M [00:00<?, ?B/s]"
      ]
     },
     "metadata": {},
     "output_type": "display_data"
    },
    {
     "data": {
      "application/vnd.jupyter.widget-view+json": {
       "model_id": "7b1aa85936df4883bcc0ddab8325b1ee",
       "version_major": 2,
       "version_minor": 0
      },
      "text/plain": [
       "eve_l2_spectra_2011041_17:   0%|          | 0.00/6.81M [00:00<?, ?B/s]"
      ]
     },
     "metadata": {},
     "output_type": "display_data"
    },
    {
     "data": {
      "application/vnd.jupyter.widget-view+json": {
       "model_id": "4724727d35f2473fbead39bc0696a0af",
       "version_major": 2,
       "version_minor": 0
      },
      "text/plain": [
       "eve_l2_spectra_2011041_18:   0%|          | 0.00/6.81M [00:00<?, ?B/s]"
      ]
     },
     "metadata": {},
     "output_type": "display_data"
    },
    {
     "data": {
      "application/vnd.jupyter.widget-view+json": {
       "model_id": "e35766f35d954c4ab413355eecfee53c",
       "version_major": 2,
       "version_minor": 0
      },
      "text/plain": [
       "eve_l2_spectra_2011041_19:   0%|          | 0.00/6.81M [00:00<?, ?B/s]"
      ]
     },
     "metadata": {},
     "output_type": "display_data"
    },
    {
     "data": {
      "application/vnd.jupyter.widget-view+json": {
       "model_id": "0aecc79c9e6e48a6923ef10259ccbd9f",
       "version_major": 2,
       "version_minor": 0
      },
      "text/plain": [
       "eve_l2_spectra_2011041_20:   0%|          | 0.00/6.81M [00:00<?, ?B/s]"
      ]
     },
     "metadata": {},
     "output_type": "display_data"
    },
    {
     "data": {
      "application/vnd.jupyter.widget-view+json": {
       "model_id": "553ea29e324947469747627c81f4dd4c",
       "version_major": 2,
       "version_minor": 0
      },
      "text/plain": [
       "eve_l2_spectra_2011041_21:   0%|          | 0.00/6.81M [00:00<?, ?B/s]"
      ]
     },
     "metadata": {},
     "output_type": "display_data"
    },
    {
     "data": {
      "application/vnd.jupyter.widget-view+json": {
       "model_id": "14544e5a71114d89afbe3826386c7f70",
       "version_major": 2,
       "version_minor": 0
      },
      "text/plain": [
       "eve_l2_spectra_2011041_22:   0%|          | 0.00/6.81M [00:00<?, ?B/s]"
      ]
     },
     "metadata": {},
     "output_type": "display_data"
    },
    {
     "data": {
      "application/vnd.jupyter.widget-view+json": {
       "model_id": "dd402c8535a64c6aaf4db75071a84f31",
       "version_major": 2,
       "version_minor": 0
      },
      "text/plain": [
       "eve_l2_spectra_2011041_23:   0%|          | 0.00/6.81M [00:00<?, ?B/s]"
      ]
     },
     "metadata": {},
     "output_type": "display_data"
    },
    {
     "data": {
      "application/vnd.jupyter.widget-view+json": {
       "model_id": "f806bcb2d5e3436cbe916a60412a247f",
       "version_major": 2,
       "version_minor": 0
      },
      "text/plain": [
       "eve_l2_spectra_2011042_00:   0%|          | 0.00/6.81M [00:00<?, ?B/s]"
      ]
     },
     "metadata": {},
     "output_type": "display_data"
    },
    {
     "data": {
      "application/vnd.jupyter.widget-view+json": {
       "model_id": "fdd21388a481460f97183cf768317599",
       "version_major": 2,
       "version_minor": 0
      },
      "text/plain": [
       "eve_l2_spectra_2011042_01:   0%|          | 0.00/6.81M [00:00<?, ?B/s]"
      ]
     },
     "metadata": {},
     "output_type": "display_data"
    },
    {
     "data": {
      "application/vnd.jupyter.widget-view+json": {
       "model_id": "e8a3aea6f20f4857b44cf63c2b04d7d1",
       "version_major": 2,
       "version_minor": 0
      },
      "text/plain": [
       "eve_l2_spectra_2011042_02:   0%|          | 0.00/6.81M [00:00<?, ?B/s]"
      ]
     },
     "metadata": {},
     "output_type": "display_data"
    },
    {
     "data": {
      "application/vnd.jupyter.widget-view+json": {
       "model_id": "3fc0e3f48a664d5cb6cdfb472420460c",
       "version_major": 2,
       "version_minor": 0
      },
      "text/plain": [
       "eve_l2_spectra_2011042_03:   0%|          | 0.00/6.81M [00:00<?, ?B/s]"
      ]
     },
     "metadata": {},
     "output_type": "display_data"
    },
    {
     "data": {
      "application/vnd.jupyter.widget-view+json": {
       "model_id": "9926ece9e559400ba14ff292038381f8",
       "version_major": 2,
       "version_minor": 0
      },
      "text/plain": [
       "eve_l2_spectra_2011042_04:   0%|          | 0.00/6.81M [00:00<?, ?B/s]"
      ]
     },
     "metadata": {},
     "output_type": "display_data"
    },
    {
     "data": {
      "application/vnd.jupyter.widget-view+json": {
       "model_id": "d2a12436c57046d89e0dc15567cc2a8a",
       "version_major": 2,
       "version_minor": 0
      },
      "text/plain": [
       "eve_l2_spectra_2011042_05:   0%|          | 0.00/6.81M [00:00<?, ?B/s]"
      ]
     },
     "metadata": {},
     "output_type": "display_data"
    },
    {
     "data": {
      "application/vnd.jupyter.widget-view+json": {
       "model_id": "8cd6548e3de34ec38444a3ed9bc8cb28",
       "version_major": 2,
       "version_minor": 0
      },
      "text/plain": [
       "eve_l2_spectra_2011042_06:   0%|          | 0.00/6.81M [00:00<?, ?B/s]"
      ]
     },
     "metadata": {},
     "output_type": "display_data"
    },
    {
     "data": {
      "application/vnd.jupyter.widget-view+json": {
       "model_id": "b25c6c96760b4166880f236b0cc6b0a2",
       "version_major": 2,
       "version_minor": 0
      },
      "text/plain": [
       "eve_l2_spectra_2011042_07:   0%|          | 0.00/6.81M [00:00<?, ?B/s]"
      ]
     },
     "metadata": {},
     "output_type": "display_data"
    },
    {
     "data": {
      "application/vnd.jupyter.widget-view+json": {
       "model_id": "88e5efdc33e94ec19eae127132d7a28d",
       "version_major": 2,
       "version_minor": 0
      },
      "text/plain": [
       "eve_l2_spectra_2011042_08:   0%|          | 0.00/6.81M [00:00<?, ?B/s]"
      ]
     },
     "metadata": {},
     "output_type": "display_data"
    },
    {
     "data": {
      "application/vnd.jupyter.widget-view+json": {
       "model_id": "e597db04e48143afaf61c6bf57567e6e",
       "version_major": 2,
       "version_minor": 0
      },
      "text/plain": [
       "eve_l2_spectra_2011042_09:   0%|          | 0.00/5.89M [00:00<?, ?B/s]"
      ]
     },
     "metadata": {},
     "output_type": "display_data"
    },
    {
     "data": {
      "application/vnd.jupyter.widget-view+json": {
       "model_id": "672dfdfb87a441688e54061b57e92956",
       "version_major": 2,
       "version_minor": 0
      },
      "text/plain": [
       "eve_l2_spectra_2011042_10:   0%|          | 0.00/6.81M [00:00<?, ?B/s]"
      ]
     },
     "metadata": {},
     "output_type": "display_data"
    },
    {
     "data": {
      "application/vnd.jupyter.widget-view+json": {
       "model_id": "2542c7fb02c84e508538247b4f7ef443",
       "version_major": 2,
       "version_minor": 0
      },
      "text/plain": [
       "eve_l2_spectra_2011042_11:   0%|          | 0.00/6.77M [00:00<?, ?B/s]"
      ]
     },
     "metadata": {},
     "output_type": "display_data"
    },
    {
     "data": {
      "application/vnd.jupyter.widget-view+json": {
       "model_id": "f14e5820b0a047eeb949dae85d38a5ef",
       "version_major": 2,
       "version_minor": 0
      },
      "text/plain": [
       "eve_l2_spectra_2011042_12:   0%|          | 0.00/6.81M [00:00<?, ?B/s]"
      ]
     },
     "metadata": {},
     "output_type": "display_data"
    },
    {
     "data": {
      "application/vnd.jupyter.widget-view+json": {
       "model_id": "e1cf8c4534824390a3bbc2f88de01eda",
       "version_major": 2,
       "version_minor": 0
      },
      "text/plain": [
       "eve_l2_spectra_2011042_13:   0%|          | 0.00/8.00M [00:00<?, ?B/s]"
      ]
     },
     "metadata": {},
     "output_type": "display_data"
    },
    {
     "data": {
      "application/vnd.jupyter.widget-view+json": {
       "model_id": "407b66460c9340b28b8f1092cbf3d4cd",
       "version_major": 2,
       "version_minor": 0
      },
      "text/plain": [
       "eve_l2_spectra_2011042_14:   0%|          | 0.00/20.4M [00:00<?, ?B/s]"
      ]
     },
     "metadata": {},
     "output_type": "display_data"
    },
    {
     "data": {
      "application/vnd.jupyter.widget-view+json": {
       "model_id": "1b0b9df728ba4bb3aebfc2f4bdb5205f",
       "version_major": 2,
       "version_minor": 0
      },
      "text/plain": [
       "eve_l2_spectra_2011042_15:   0%|          | 0.00/20.4M [00:00<?, ?B/s]"
      ]
     },
     "metadata": {},
     "output_type": "display_data"
    },
    {
     "data": {
      "application/vnd.jupyter.widget-view+json": {
       "model_id": "5a2d55ca4fc44367bd78703ed9d1f067",
       "version_major": 2,
       "version_minor": 0
      },
      "text/plain": [
       "eve_l2_spectra_2011042_16:   0%|          | 0.00/19.1M [00:00<?, ?B/s]"
      ]
     },
     "metadata": {},
     "output_type": "display_data"
    },
    {
     "data": {
      "application/vnd.jupyter.widget-view+json": {
       "model_id": "dd7e7576ccb84ec18b45edc32ebb8014",
       "version_major": 2,
       "version_minor": 0
      },
      "text/plain": [
       "eve_l2_spectra_2011042_17:   0%|          | 0.00/6.81M [00:00<?, ?B/s]"
      ]
     },
     "metadata": {},
     "output_type": "display_data"
    },
    {
     "data": {
      "application/vnd.jupyter.widget-view+json": {
       "model_id": "eb0af92b4ed44ef9a2386992aae10431",
       "version_major": 2,
       "version_minor": 0
      },
      "text/plain": [
       "eve_l2_spectra_2011042_18:   0%|          | 0.00/6.81M [00:00<?, ?B/s]"
      ]
     },
     "metadata": {},
     "output_type": "display_data"
    },
    {
     "data": {
      "application/vnd.jupyter.widget-view+json": {
       "model_id": "cdaf8b24560a4ff78952de95bd7cb4a9",
       "version_major": 2,
       "version_minor": 0
      },
      "text/plain": [
       "eve_l2_spectra_2011042_19:   0%|          | 0.00/6.81M [00:00<?, ?B/s]"
      ]
     },
     "metadata": {},
     "output_type": "display_data"
    },
    {
     "data": {
      "application/vnd.jupyter.widget-view+json": {
       "model_id": "394397b4a13245419db25bed767b7103",
       "version_major": 2,
       "version_minor": 0
      },
      "text/plain": [
       "eve_l2_spectra_2011042_20:   0%|          | 0.00/6.81M [00:00<?, ?B/s]"
      ]
     },
     "metadata": {},
     "output_type": "display_data"
    },
    {
     "data": {
      "application/vnd.jupyter.widget-view+json": {
       "model_id": "f396a7d5300b4800ab90f049fffc5bcd",
       "version_major": 2,
       "version_minor": 0
      },
      "text/plain": [
       "eve_l2_spectra_2011042_21:   0%|          | 0.00/6.81M [00:00<?, ?B/s]"
      ]
     },
     "metadata": {},
     "output_type": "display_data"
    },
    {
     "data": {
      "application/vnd.jupyter.widget-view+json": {
       "model_id": "a7205f88863547348d32e92ce4600fd5",
       "version_major": 2,
       "version_minor": 0
      },
      "text/plain": [
       "eve_l2_spectra_2011042_22:   0%|          | 0.00/6.81M [00:00<?, ?B/s]"
      ]
     },
     "metadata": {},
     "output_type": "display_data"
    },
    {
     "data": {
      "application/vnd.jupyter.widget-view+json": {
       "model_id": "ac2acdc8747440ceb589d4dee411d8d1",
       "version_major": 2,
       "version_minor": 0
      },
      "text/plain": [
       "eve_l2_spectra_2011042_23:   0%|          | 0.00/6.81M [00:00<?, ?B/s]"
      ]
     },
     "metadata": {},
     "output_type": "display_data"
    },
    {
     "data": {
      "application/vnd.jupyter.widget-view+json": {
       "model_id": "e9e938762efd42158e3c52aad9d10a86",
       "version_major": 2,
       "version_minor": 0
      },
      "text/plain": [
       "eve_l2_spectra_2011043_00:   0%|          | 0.00/6.81M [00:00<?, ?B/s]"
      ]
     },
     "metadata": {},
     "output_type": "display_data"
    },
    {
     "data": {
      "application/vnd.jupyter.widget-view+json": {
       "model_id": "9b1d5f088fec4ba99e5a23bc6b20ff61",
       "version_major": 2,
       "version_minor": 0
      },
      "text/plain": [
       "eve_l2_spectra_2011043_01:   0%|          | 0.00/6.81M [00:00<?, ?B/s]"
      ]
     },
     "metadata": {},
     "output_type": "display_data"
    },
    {
     "data": {
      "application/vnd.jupyter.widget-view+json": {
       "model_id": "29adeeaf8f534ff6875e185d497b1967",
       "version_major": 2,
       "version_minor": 0
      },
      "text/plain": [
       "eve_l2_spectra_2011043_02:   0%|          | 0.00/6.81M [00:00<?, ?B/s]"
      ]
     },
     "metadata": {},
     "output_type": "display_data"
    },
    {
     "data": {
      "application/vnd.jupyter.widget-view+json": {
       "model_id": "d746a2a6c7c14e2c9f746dbd608c54fb",
       "version_major": 2,
       "version_minor": 0
      },
      "text/plain": [
       "eve_l2_spectra_2011043_03:   0%|          | 0.00/6.81M [00:00<?, ?B/s]"
      ]
     },
     "metadata": {},
     "output_type": "display_data"
    },
    {
     "data": {
      "application/vnd.jupyter.widget-view+json": {
       "model_id": "ae6356ef430a464380ef0a429213d928",
       "version_major": 2,
       "version_minor": 0
      },
      "text/plain": [
       "eve_l2_spectra_2011043_04:   0%|          | 0.00/6.81M [00:00<?, ?B/s]"
      ]
     },
     "metadata": {},
     "output_type": "display_data"
    },
    {
     "data": {
      "application/vnd.jupyter.widget-view+json": {
       "model_id": "8e7f6398531c4d319c43cd4c4f95ab81",
       "version_major": 2,
       "version_minor": 0
      },
      "text/plain": [
       "eve_l2_spectra_2011043_05:   0%|          | 0.00/6.81M [00:00<?, ?B/s]"
      ]
     },
     "metadata": {},
     "output_type": "display_data"
    },
    {
     "data": {
      "application/vnd.jupyter.widget-view+json": {
       "model_id": "20748654292d4ec2b9fccc350975de59",
       "version_major": 2,
       "version_minor": 0
      },
      "text/plain": [
       "eve_l2_spectra_2011043_06:   0%|          | 0.00/6.81M [00:00<?, ?B/s]"
      ]
     },
     "metadata": {},
     "output_type": "display_data"
    },
    {
     "data": {
      "application/vnd.jupyter.widget-view+json": {
       "model_id": "58665b663df348679d0b7a8c8477587b",
       "version_major": 2,
       "version_minor": 0
      },
      "text/plain": [
       "eve_l2_spectra_2011043_07:   0%|          | 0.00/6.81M [00:00<?, ?B/s]"
      ]
     },
     "metadata": {},
     "output_type": "display_data"
    },
    {
     "data": {
      "application/vnd.jupyter.widget-view+json": {
       "model_id": "e13ae1b19aae47439eb063ee6990d477",
       "version_major": 2,
       "version_minor": 0
      },
      "text/plain": [
       "eve_l2_spectra_2011043_08:   0%|          | 0.00/6.81M [00:00<?, ?B/s]"
      ]
     },
     "metadata": {},
     "output_type": "display_data"
    },
    {
     "data": {
      "application/vnd.jupyter.widget-view+json": {
       "model_id": "6404e20483f24187a758db6afb6d72d6",
       "version_major": 2,
       "version_minor": 0
      },
      "text/plain": [
       "eve_l2_spectra_2011043_09:   0%|          | 0.00/6.81M [00:00<?, ?B/s]"
      ]
     },
     "metadata": {},
     "output_type": "display_data"
    },
    {
     "data": {
      "application/vnd.jupyter.widget-view+json": {
       "model_id": "01ae6a5d46bd48fda26c954223b33eb3",
       "version_major": 2,
       "version_minor": 0
      },
      "text/plain": [
       "eve_l2_spectra_2011043_10:   0%|          | 0.00/6.81M [00:00<?, ?B/s]"
      ]
     },
     "metadata": {},
     "output_type": "display_data"
    },
    {
     "data": {
      "application/vnd.jupyter.widget-view+json": {
       "model_id": "28101cd1c3fa45a8bede08860cd243bb",
       "version_major": 2,
       "version_minor": 0
      },
      "text/plain": [
       "eve_l2_spectra_2011043_11:   0%|          | 0.00/5.93M [00:00<?, ?B/s]"
      ]
     },
     "metadata": {},
     "output_type": "display_data"
    },
    {
     "data": {
      "application/vnd.jupyter.widget-view+json": {
       "model_id": "f107a837c4cd4d87ba3429f7ff5bc36e",
       "version_major": 2,
       "version_minor": 0
      },
      "text/plain": [
       "eve_l2_spectra_2011043_12:   0%|          | 0.00/6.81M [00:00<?, ?B/s]"
      ]
     },
     "metadata": {},
     "output_type": "display_data"
    },
    {
     "data": {
      "application/vnd.jupyter.widget-view+json": {
       "model_id": "413f93d381144b3fb1df6e7194c7552d",
       "version_major": 2,
       "version_minor": 0
      },
      "text/plain": [
       "eve_l2_spectra_2011043_13:   0%|          | 0.00/8.04M [00:00<?, ?B/s]"
      ]
     },
     "metadata": {},
     "output_type": "display_data"
    },
    {
     "data": {
      "application/vnd.jupyter.widget-view+json": {
       "model_id": "09a9541c8e104165aaf45c9de06bcc0e",
       "version_major": 2,
       "version_minor": 0
      },
      "text/plain": [
       "eve_l2_spectra_2011043_14:   0%|          | 0.00/20.4M [00:00<?, ?B/s]"
      ]
     },
     "metadata": {},
     "output_type": "display_data"
    },
    {
     "data": {
      "application/vnd.jupyter.widget-view+json": {
       "model_id": "34ea0104802f455bb5a660c17af7d8be",
       "version_major": 2,
       "version_minor": 0
      },
      "text/plain": [
       "eve_l2_spectra_2011043_15:   0%|          | 0.00/20.4M [00:00<?, ?B/s]"
      ]
     },
     "metadata": {},
     "output_type": "display_data"
    },
    {
     "data": {
      "application/vnd.jupyter.widget-view+json": {
       "model_id": "3855a4a35b6e49f1a7af7b0b06c6a0ee",
       "version_major": 2,
       "version_minor": 0
      },
      "text/plain": [
       "eve_l2_spectra_2011043_16:   0%|          | 0.00/19.1M [00:00<?, ?B/s]"
      ]
     },
     "metadata": {},
     "output_type": "display_data"
    },
    {
     "data": {
      "application/vnd.jupyter.widget-view+json": {
       "model_id": "f932addbda7248d7939bf29e98fe9305",
       "version_major": 2,
       "version_minor": 0
      },
      "text/plain": [
       "eve_l2_spectra_2011043_17:   0%|          | 0.00/6.81M [00:00<?, ?B/s]"
      ]
     },
     "metadata": {},
     "output_type": "display_data"
    },
    {
     "data": {
      "application/vnd.jupyter.widget-view+json": {
       "model_id": "812c8d6ffc414d7988a9cae8a51d976f",
       "version_major": 2,
       "version_minor": 0
      },
      "text/plain": [
       "eve_l2_spectra_2011043_18:   0%|          | 0.00/6.81M [00:00<?, ?B/s]"
      ]
     },
     "metadata": {},
     "output_type": "display_data"
    },
    {
     "data": {
      "application/vnd.jupyter.widget-view+json": {
       "model_id": "06185272ae2a416c8c898774451da1db",
       "version_major": 2,
       "version_minor": 0
      },
      "text/plain": [
       "eve_l2_spectra_2011043_19:   0%|          | 0.00/6.81M [00:00<?, ?B/s]"
      ]
     },
     "metadata": {},
     "output_type": "display_data"
    },
    {
     "data": {
      "application/vnd.jupyter.widget-view+json": {
       "model_id": "6d14b7cfde444a318f797cf5e6109860",
       "version_major": 2,
       "version_minor": 0
      },
      "text/plain": [
       "eve_l2_spectra_2011043_20:   0%|          | 0.00/6.81M [00:00<?, ?B/s]"
      ]
     },
     "metadata": {},
     "output_type": "display_data"
    },
    {
     "data": {
      "application/vnd.jupyter.widget-view+json": {
       "model_id": "9f932fac466b4670a78e480a93a64530",
       "version_major": 2,
       "version_minor": 0
      },
      "text/plain": [
       "eve_l2_spectra_2011043_21:   0%|          | 0.00/6.81M [00:00<?, ?B/s]"
      ]
     },
     "metadata": {},
     "output_type": "display_data"
    },
    {
     "data": {
      "application/vnd.jupyter.widget-view+json": {
       "model_id": "c5519ecc5cd4457b836d61d233f3bc64",
       "version_major": 2,
       "version_minor": 0
      },
      "text/plain": [
       "eve_l2_spectra_2011043_22:   0%|          | 0.00/6.81M [00:00<?, ?B/s]"
      ]
     },
     "metadata": {},
     "output_type": "display_data"
    },
    {
     "data": {
      "application/vnd.jupyter.widget-view+json": {
       "model_id": "e6333e40aa37461490c51f7d7bb2679a",
       "version_major": 2,
       "version_minor": 0
      },
      "text/plain": [
       "eve_l2_spectra_2011044_00:   0%|          | 0.00/6.81M [00:00<?, ?B/s]"
      ]
     },
     "metadata": {},
     "output_type": "display_data"
    },
    {
     "data": {
      "application/vnd.jupyter.widget-view+json": {
       "model_id": "5c9619f5700b4007ab3e26ec55d37c67",
       "version_major": 2,
       "version_minor": 0
      },
      "text/plain": [
       "eve_l2_spectra_2011043_23:   0%|          | 0.00/6.81M [00:00<?, ?B/s]"
      ]
     },
     "metadata": {},
     "output_type": "display_data"
    },
    {
     "data": {
      "application/vnd.jupyter.widget-view+json": {
       "model_id": "a928effce0e148afb25ea54c5f6dc152",
       "version_major": 2,
       "version_minor": 0
      },
      "text/plain": [
       "eve_l2_spectra_2011044_01:   0%|          | 0.00/6.81M [00:00<?, ?B/s]"
      ]
     },
     "metadata": {},
     "output_type": "display_data"
    },
    {
     "data": {
      "application/vnd.jupyter.widget-view+json": {
       "model_id": "e6f866cda6a04727ad0edf466a3c10e5",
       "version_major": 2,
       "version_minor": 0
      },
      "text/plain": [
       "eve_l2_spectra_2011044_02:   0%|          | 0.00/6.81M [00:00<?, ?B/s]"
      ]
     },
     "metadata": {},
     "output_type": "display_data"
    },
    {
     "data": {
      "application/vnd.jupyter.widget-view+json": {
       "model_id": "72d143a35f744f5e9fdfc59903ae11ee",
       "version_major": 2,
       "version_minor": 0
      },
      "text/plain": [
       "eve_l2_spectra_2011044_03:   0%|          | 0.00/6.81M [00:00<?, ?B/s]"
      ]
     },
     "metadata": {},
     "output_type": "display_data"
    },
    {
     "data": {
      "application/vnd.jupyter.widget-view+json": {
       "model_id": "494c7fd5ca9f4ce0ab374760f2e248c6",
       "version_major": 2,
       "version_minor": 0
      },
      "text/plain": [
       "eve_l2_spectra_2011044_04:   0%|          | 0.00/6.81M [00:00<?, ?B/s]"
      ]
     },
     "metadata": {},
     "output_type": "display_data"
    },
    {
     "data": {
      "application/vnd.jupyter.widget-view+json": {
       "model_id": "dedce175add14b31aabb25519b3e783f",
       "version_major": 2,
       "version_minor": 0
      },
      "text/plain": [
       "eve_l2_spectra_2011044_05:   0%|          | 0.00/6.81M [00:00<?, ?B/s]"
      ]
     },
     "metadata": {},
     "output_type": "display_data"
    },
    {
     "data": {
      "application/vnd.jupyter.widget-view+json": {
       "model_id": "85f249e927dd41e0a6adc2493d414545",
       "version_major": 2,
       "version_minor": 0
      },
      "text/plain": [
       "eve_l2_spectra_2011044_06:   0%|          | 0.00/6.81M [00:00<?, ?B/s]"
      ]
     },
     "metadata": {},
     "output_type": "display_data"
    },
    {
     "data": {
      "application/vnd.jupyter.widget-view+json": {
       "model_id": "5dfd4f2541c3448fa6687e04407b4f4d",
       "version_major": 2,
       "version_minor": 0
      },
      "text/plain": [
       "eve_l2_spectra_2011044_07:   0%|          | 0.00/6.81M [00:00<?, ?B/s]"
      ]
     },
     "metadata": {},
     "output_type": "display_data"
    },
    {
     "data": {
      "application/vnd.jupyter.widget-view+json": {
       "model_id": "2af4dd3d964146d3893e7e8acdcdc369",
       "version_major": 2,
       "version_minor": 0
      },
      "text/plain": [
       "eve_l2_spectra_2011044_08:   0%|          | 0.00/6.81M [00:00<?, ?B/s]"
      ]
     },
     "metadata": {},
     "output_type": "display_data"
    },
    {
     "data": {
      "application/vnd.jupyter.widget-view+json": {
       "model_id": "94e2d605f1064620bc9d9846da2e869b",
       "version_major": 2,
       "version_minor": 0
      },
      "text/plain": [
       "eve_l2_spectra_2011044_09:   0%|          | 0.00/6.81M [00:00<?, ?B/s]"
      ]
     },
     "metadata": {},
     "output_type": "display_data"
    },
    {
     "data": {
      "application/vnd.jupyter.widget-view+json": {
       "model_id": "e3a0331a62db41a69c86a4723808b271",
       "version_major": 2,
       "version_minor": 0
      },
      "text/plain": [
       "eve_l2_spectra_2011044_10:   0%|          | 0.00/6.81M [00:00<?, ?B/s]"
      ]
     },
     "metadata": {},
     "output_type": "display_data"
    },
    {
     "data": {
      "application/vnd.jupyter.widget-view+json": {
       "model_id": "",
       "version_major": 2,
       "version_minor": 0
      },
      "text/plain": [
       "eve_l2_spectra_2011044_11:   0%|          | 0.00/6.81M [00:00<?, ?B/s]"
      ]
     },
     "metadata": {},
     "output_type": "display_data"
    },
    {
     "data": {
      "application/vnd.jupyter.widget-view+json": {
       "model_id": "",
       "version_major": 2,
       "version_minor": 0
      },
      "text/plain": [
       "eve_l2_spectra_2011044_12:   0%|          | 0.00/6.81M [00:00<?, ?B/s]"
      ]
     },
     "metadata": {},
     "output_type": "display_data"
    },
    {
     "data": {
      "application/vnd.jupyter.widget-view+json": {
       "model_id": "",
       "version_major": 2,
       "version_minor": 0
      },
      "text/plain": [
       "eve_l2_spectra_2011044_13:   0%|          | 0.00/6.13M [00:00<?, ?B/s]"
      ]
     },
     "metadata": {},
     "output_type": "display_data"
    },
    {
     "data": {
      "application/vnd.jupyter.widget-view+json": {
       "model_id": "",
       "version_major": 2,
       "version_minor": 0
      },
      "text/plain": [
       "eve_l2_spectra_2011044_14:   0%|          | 0.00/20.4M [00:00<?, ?B/s]"
      ]
     },
     "metadata": {},
     "output_type": "display_data"
    },
    {
     "data": {
      "application/vnd.jupyter.widget-view+json": {
       "model_id": "",
       "version_major": 2,
       "version_minor": 0
      },
      "text/plain": [
       "eve_l2_spectra_2011044_15:   0%|          | 0.00/20.4M [00:00<?, ?B/s]"
      ]
     },
     "metadata": {},
     "output_type": "display_data"
    },
    {
     "data": {
      "application/vnd.jupyter.widget-view+json": {
       "model_id": "",
       "version_major": 2,
       "version_minor": 0
      },
      "text/plain": [
       "eve_l2_spectra_2011044_16:   0%|          | 0.00/19.1M [00:00<?, ?B/s]"
      ]
     },
     "metadata": {},
     "output_type": "display_data"
    },
    {
     "data": {
      "application/vnd.jupyter.widget-view+json": {
       "model_id": "",
       "version_major": 2,
       "version_minor": 0
      },
      "text/plain": [
       "eve_l2_spectra_2011044_17:   0%|          | 0.00/6.81M [00:00<?, ?B/s]"
      ]
     },
     "metadata": {},
     "output_type": "display_data"
    },
    {
     "data": {
      "application/vnd.jupyter.widget-view+json": {
       "model_id": "",
       "version_major": 2,
       "version_minor": 0
      },
      "text/plain": [
       "eve_l2_spectra_2011044_18:   0%|          | 0.00/6.81M [00:00<?, ?B/s]"
      ]
     },
     "metadata": {},
     "output_type": "display_data"
    },
    {
     "data": {
      "application/vnd.jupyter.widget-view+json": {
       "model_id": "",
       "version_major": 2,
       "version_minor": 0
      },
      "text/plain": [
       "eve_l2_spectra_2011044_19:   0%|          | 0.00/6.81M [00:00<?, ?B/s]"
      ]
     },
     "metadata": {},
     "output_type": "display_data"
    },
    {
     "data": {
      "application/vnd.jupyter.widget-view+json": {
       "model_id": "",
       "version_major": 2,
       "version_minor": 0
      },
      "text/plain": [
       "eve_l2_spectra_2011044_20:   0%|          | 0.00/6.81M [00:00<?, ?B/s]"
      ]
     },
     "metadata": {},
     "output_type": "display_data"
    },
    {
     "data": {
      "application/vnd.jupyter.widget-view+json": {
       "model_id": "",
       "version_major": 2,
       "version_minor": 0
      },
      "text/plain": [
       "eve_l2_spectra_2011044_21:   0%|          | 0.00/6.81M [00:00<?, ?B/s]"
      ]
     },
     "metadata": {},
     "output_type": "display_data"
    },
    {
     "data": {
      "application/vnd.jupyter.widget-view+json": {
       "model_id": "",
       "version_major": 2,
       "version_minor": 0
      },
      "text/plain": [
       "eve_l2_spectra_2011044_22:   0%|          | 0.00/6.81M [00:00<?, ?B/s]"
      ]
     },
     "metadata": {},
     "output_type": "display_data"
    },
    {
     "data": {
      "application/vnd.jupyter.widget-view+json": {
       "model_id": "",
       "version_major": 2,
       "version_minor": 0
      },
      "text/plain": [
       "eve_l2_spectra_2011044_23:   0%|          | 0.00/6.81M [00:00<?, ?B/s]"
      ]
     },
     "metadata": {},
     "output_type": "display_data"
    },
    {
     "data": {
      "application/vnd.jupyter.widget-view+json": {
       "model_id": "",
       "version_major": 2,
       "version_minor": 0
      },
      "text/plain": [
       "eve_l2_spectra_2011045_00:   0%|          | 0.00/6.81M [00:00<?, ?B/s]"
      ]
     },
     "metadata": {},
     "output_type": "display_data"
    },
    {
     "data": {
      "application/vnd.jupyter.widget-view+json": {
       "model_id": "",
       "version_major": 2,
       "version_minor": 0
      },
      "text/plain": [
       "eve_l2_spectra_2011045_01:   0%|          | 0.00/6.81M [00:00<?, ?B/s]"
      ]
     },
     "metadata": {},
     "output_type": "display_data"
    },
    {
     "data": {
      "application/vnd.jupyter.widget-view+json": {
       "model_id": "",
       "version_major": 2,
       "version_minor": 0
      },
      "text/plain": [
       "eve_l2_spectra_2011045_02:   0%|          | 0.00/6.81M [00:00<?, ?B/s]"
      ]
     },
     "metadata": {},
     "output_type": "display_data"
    },
    {
     "data": {
      "application/vnd.jupyter.widget-view+json": {
       "model_id": "",
       "version_major": 2,
       "version_minor": 0
      },
      "text/plain": [
       "eve_l2_spectra_2011045_03:   0%|          | 0.00/6.81M [00:00<?, ?B/s]"
      ]
     },
     "metadata": {},
     "output_type": "display_data"
    },
    {
     "data": {
      "application/vnd.jupyter.widget-view+json": {
       "model_id": "",
       "version_major": 2,
       "version_minor": 0
      },
      "text/plain": [
       "eve_l2_spectra_2011045_04:   0%|          | 0.00/6.81M [00:00<?, ?B/s]"
      ]
     },
     "metadata": {},
     "output_type": "display_data"
    },
    {
     "data": {
      "application/vnd.jupyter.widget-view+json": {
       "model_id": "",
       "version_major": 2,
       "version_minor": 0
      },
      "text/plain": [
       "eve_l2_spectra_2011045_05:   0%|          | 0.00/6.81M [00:00<?, ?B/s]"
      ]
     },
     "metadata": {},
     "output_type": "display_data"
    },
    {
     "data": {
      "application/vnd.jupyter.widget-view+json": {
       "model_id": "",
       "version_major": 2,
       "version_minor": 0
      },
      "text/plain": [
       "eve_l2_spectra_2011045_06:   0%|          | 0.00/6.81M [00:00<?, ?B/s]"
      ]
     },
     "metadata": {},
     "output_type": "display_data"
    },
    {
     "data": {
      "application/vnd.jupyter.widget-view+json": {
       "model_id": "",
       "version_major": 2,
       "version_minor": 0
      },
      "text/plain": [
       "eve_l2_spectra_2011045_07:   0%|          | 0.00/6.81M [00:00<?, ?B/s]"
      ]
     },
     "metadata": {},
     "output_type": "display_data"
    },
    {
     "data": {
      "application/vnd.jupyter.widget-view+json": {
       "model_id": "",
       "version_major": 2,
       "version_minor": 0
      },
      "text/plain": [
       "eve_l2_spectra_2011045_08:   0%|          | 0.00/6.81M [00:00<?, ?B/s]"
      ]
     },
     "metadata": {},
     "output_type": "display_data"
    },
    {
     "data": {
      "application/vnd.jupyter.widget-view+json": {
       "model_id": "",
       "version_major": 2,
       "version_minor": 0
      },
      "text/plain": [
       "eve_l2_spectra_2011045_09:   0%|          | 0.00/6.81M [00:00<?, ?B/s]"
      ]
     },
     "metadata": {},
     "output_type": "display_data"
    },
    {
     "data": {
      "application/vnd.jupyter.widget-view+json": {
       "model_id": "",
       "version_major": 2,
       "version_minor": 0
      },
      "text/plain": [
       "eve_l2_spectra_2011045_10:   0%|          | 0.00/6.81M [00:00<?, ?B/s]"
      ]
     },
     "metadata": {},
     "output_type": "display_data"
    },
    {
     "data": {
      "application/vnd.jupyter.widget-view+json": {
       "model_id": "",
       "version_major": 2,
       "version_minor": 0
      },
      "text/plain": [
       "eve_l2_spectra_2011045_11:   0%|          | 0.00/6.81M [00:00<?, ?B/s]"
      ]
     },
     "metadata": {},
     "output_type": "display_data"
    },
    {
     "data": {
      "application/vnd.jupyter.widget-view+json": {
       "model_id": "",
       "version_major": 2,
       "version_minor": 0
      },
      "text/plain": [
       "eve_l2_spectra_2011045_12:   0%|          | 0.00/6.81M [00:00<?, ?B/s]"
      ]
     },
     "metadata": {},
     "output_type": "display_data"
    },
    {
     "data": {
      "application/vnd.jupyter.widget-view+json": {
       "model_id": "",
       "version_major": 2,
       "version_minor": 0
      },
      "text/plain": [
       "eve_l2_spectra_2011045_13:   0%|          | 0.00/7.16M [00:00<?, ?B/s]"
      ]
     },
     "metadata": {},
     "output_type": "display_data"
    },
    {
     "data": {
      "application/vnd.jupyter.widget-view+json": {
       "model_id": "",
       "version_major": 2,
       "version_minor": 0
      },
      "text/plain": [
       "eve_l2_spectra_2011045_14:   0%|          | 0.00/20.4M [00:00<?, ?B/s]"
      ]
     },
     "metadata": {},
     "output_type": "display_data"
    },
    {
     "data": {
      "application/vnd.jupyter.widget-view+json": {
       "model_id": "",
       "version_major": 2,
       "version_minor": 0
      },
      "text/plain": [
       "eve_l2_spectra_2011045_15:   0%|          | 0.00/20.4M [00:00<?, ?B/s]"
      ]
     },
     "metadata": {},
     "output_type": "display_data"
    },
    {
     "data": {
      "application/vnd.jupyter.widget-view+json": {
       "model_id": "",
       "version_major": 2,
       "version_minor": 0
      },
      "text/plain": [
       "eve_l2_spectra_2011045_16:   0%|          | 0.00/20.3M [00:00<?, ?B/s]"
      ]
     },
     "metadata": {},
     "output_type": "display_data"
    },
    {
     "data": {
      "application/vnd.jupyter.widget-view+json": {
       "model_id": "",
       "version_major": 2,
       "version_minor": 0
      },
      "text/plain": [
       "eve_l2_spectra_2011045_17:   0%|          | 0.00/20.3M [00:00<?, ?B/s]"
      ]
     },
     "metadata": {},
     "output_type": "display_data"
    },
    {
     "data": {
      "application/vnd.jupyter.widget-view+json": {
       "model_id": "",
       "version_major": 2,
       "version_minor": 0
      },
      "text/plain": [
       "eve_l2_spectra_2011045_18:   0%|          | 0.00/20.4M [00:00<?, ?B/s]"
      ]
     },
     "metadata": {},
     "output_type": "display_data"
    },
    {
     "data": {
      "application/vnd.jupyter.widget-view+json": {
       "model_id": "",
       "version_major": 2,
       "version_minor": 0
      },
      "text/plain": [
       "eve_l2_spectra_2011045_19:   0%|          | 0.00/20.4M [00:00<?, ?B/s]"
      ]
     },
     "metadata": {},
     "output_type": "display_data"
    },
    {
     "data": {
      "application/vnd.jupyter.widget-view+json": {
       "model_id": "",
       "version_major": 2,
       "version_minor": 0
      },
      "text/plain": [
       "eve_l2_spectra_2011045_20:   0%|          | 0.00/20.4M [00:00<?, ?B/s]"
      ]
     },
     "metadata": {},
     "output_type": "display_data"
    },
    {
     "data": {
      "application/vnd.jupyter.widget-view+json": {
       "model_id": "",
       "version_major": 2,
       "version_minor": 0
      },
      "text/plain": [
       "eve_l2_spectra_2011045_21:   0%|          | 0.00/20.4M [00:00<?, ?B/s]"
      ]
     },
     "metadata": {},
     "output_type": "display_data"
    },
    {
     "data": {
      "application/vnd.jupyter.widget-view+json": {
       "model_id": "",
       "version_major": 2,
       "version_minor": 0
      },
      "text/plain": [
       "eve_l2_spectra_2011045_22:   0%|          | 0.00/20.4M [00:00<?, ?B/s]"
      ]
     },
     "metadata": {},
     "output_type": "display_data"
    },
    {
     "data": {
      "application/vnd.jupyter.widget-view+json": {
       "model_id": "",
       "version_major": 2,
       "version_minor": 0
      },
      "text/plain": [
       "eve_l2_spectra_2011045_23:   0%|          | 0.00/20.4M [00:00<?, ?B/s]"
      ]
     },
     "metadata": {},
     "output_type": "display_data"
    },
    {
     "data": {
      "application/vnd.jupyter.widget-view+json": {
       "model_id": "",
       "version_major": 2,
       "version_minor": 0
      },
      "text/plain": [
       "eve_l2_spectra_2011046_00:   0%|          | 0.00/20.4M [00:00<?, ?B/s]"
      ]
     },
     "metadata": {},
     "output_type": "display_data"
    },
    {
     "data": {
      "application/vnd.jupyter.widget-view+json": {
       "model_id": "",
       "version_major": 2,
       "version_minor": 0
      },
      "text/plain": [
       "eve_l2_spectra_2011046_01:   0%|          | 0.00/20.4M [00:00<?, ?B/s]"
      ]
     },
     "metadata": {},
     "output_type": "display_data"
    },
    {
     "data": {
      "application/vnd.jupyter.widget-view+json": {
       "model_id": "",
       "version_major": 2,
       "version_minor": 0
      },
      "text/plain": [
       "eve_l2_spectra_2011046_02:   0%|          | 0.00/20.4M [00:00<?, ?B/s]"
      ]
     },
     "metadata": {},
     "output_type": "display_data"
    },
    {
     "data": {
      "application/vnd.jupyter.widget-view+json": {
       "model_id": "",
       "version_major": 2,
       "version_minor": 0
      },
      "text/plain": [
       "eve_l2_spectra_2011046_03:   0%|          | 0.00/20.4M [00:00<?, ?B/s]"
      ]
     },
     "metadata": {},
     "output_type": "display_data"
    },
    {
     "data": {
      "application/vnd.jupyter.widget-view+json": {
       "model_id": "",
       "version_major": 2,
       "version_minor": 0
      },
      "text/plain": [
       "eve_l2_spectra_2011046_04:   0%|          | 0.00/20.4M [00:00<?, ?B/s]"
      ]
     },
     "metadata": {},
     "output_type": "display_data"
    },
    {
     "data": {
      "application/vnd.jupyter.widget-view+json": {
       "model_id": "",
       "version_major": 2,
       "version_minor": 0
      },
      "text/plain": [
       "eve_l2_spectra_2011046_05:   0%|          | 0.00/20.4M [00:00<?, ?B/s]"
      ]
     },
     "metadata": {},
     "output_type": "display_data"
    },
    {
     "data": {
      "application/vnd.jupyter.widget-view+json": {
       "model_id": "",
       "version_major": 2,
       "version_minor": 0
      },
      "text/plain": [
       "eve_l2_spectra_2011046_06:   0%|          | 0.00/20.4M [00:00<?, ?B/s]"
      ]
     },
     "metadata": {},
     "output_type": "display_data"
    },
    {
     "data": {
      "application/vnd.jupyter.widget-view+json": {
       "model_id": "",
       "version_major": 2,
       "version_minor": 0
      },
      "text/plain": [
       "eve_l2_spectra_2011046_07:   0%|          | 0.00/20.4M [00:00<?, ?B/s]"
      ]
     },
     "metadata": {},
     "output_type": "display_data"
    },
    {
     "data": {
      "application/vnd.jupyter.widget-view+json": {
       "model_id": "",
       "version_major": 2,
       "version_minor": 0
      },
      "text/plain": [
       "eve_l2_spectra_2011046_08:   0%|          | 0.00/20.4M [00:00<?, ?B/s]"
      ]
     },
     "metadata": {},
     "output_type": "display_data"
    },
    {
     "data": {
      "application/vnd.jupyter.widget-view+json": {
       "model_id": "",
       "version_major": 2,
       "version_minor": 0
      },
      "text/plain": [
       "eve_l2_spectra_2011046_09:   0%|          | 0.00/20.4M [00:00<?, ?B/s]"
      ]
     },
     "metadata": {},
     "output_type": "display_data"
    },
    {
     "data": {
      "application/vnd.jupyter.widget-view+json": {
       "model_id": "",
       "version_major": 2,
       "version_minor": 0
      },
      "text/plain": [
       "eve_l2_spectra_2011046_10:   0%|          | 0.00/20.4M [00:00<?, ?B/s]"
      ]
     },
     "metadata": {},
     "output_type": "display_data"
    },
    {
     "data": {
      "application/vnd.jupyter.widget-view+json": {
       "model_id": "",
       "version_major": 2,
       "version_minor": 0
      },
      "text/plain": [
       "eve_l2_spectra_2011046_11:   0%|          | 0.00/20.4M [00:00<?, ?B/s]"
      ]
     },
     "metadata": {},
     "output_type": "display_data"
    },
    {
     "data": {
      "application/vnd.jupyter.widget-view+json": {
       "model_id": "",
       "version_major": 2,
       "version_minor": 0
      },
      "text/plain": [
       "eve_l2_spectra_2011046_12:   0%|          | 0.00/20.4M [00:00<?, ?B/s]"
      ]
     },
     "metadata": {},
     "output_type": "display_data"
    },
    {
     "data": {
      "application/vnd.jupyter.widget-view+json": {
       "model_id": "",
       "version_major": 2,
       "version_minor": 0
      },
      "text/plain": [
       "eve_l2_spectra_2011046_13:   0%|          | 0.00/20.4M [00:00<?, ?B/s]"
      ]
     },
     "metadata": {},
     "output_type": "display_data"
    },
    {
     "data": {
      "application/vnd.jupyter.widget-view+json": {
       "model_id": "",
       "version_major": 2,
       "version_minor": 0
      },
      "text/plain": [
       "eve_l2_spectra_2011046_14:   0%|          | 0.00/20.4M [00:00<?, ?B/s]"
      ]
     },
     "metadata": {},
     "output_type": "display_data"
    },
    {
     "data": {
      "application/vnd.jupyter.widget-view+json": {
       "model_id": "",
       "version_major": 2,
       "version_minor": 0
      },
      "text/plain": [
       "eve_l2_spectra_2011046_15:   0%|          | 0.00/20.4M [00:00<?, ?B/s]"
      ]
     },
     "metadata": {},
     "output_type": "display_data"
    },
    {
     "data": {
      "application/vnd.jupyter.widget-view+json": {
       "model_id": "",
       "version_major": 2,
       "version_minor": 0
      },
      "text/plain": [
       "eve_l2_spectra_2011046_16:   0%|          | 0.00/20.4M [00:00<?, ?B/s]"
      ]
     },
     "metadata": {},
     "output_type": "display_data"
    },
    {
     "data": {
      "application/vnd.jupyter.widget-view+json": {
       "model_id": "",
       "version_major": 2,
       "version_minor": 0
      },
      "text/plain": [
       "eve_l2_spectra_2011046_17:   0%|          | 0.00/20.4M [00:00<?, ?B/s]"
      ]
     },
     "metadata": {},
     "output_type": "display_data"
    },
    {
     "data": {
      "application/vnd.jupyter.widget-view+json": {
       "model_id": "",
       "version_major": 2,
       "version_minor": 0
      },
      "text/plain": [
       "eve_l2_spectra_2011046_18:   0%|          | 0.00/20.4M [00:00<?, ?B/s]"
      ]
     },
     "metadata": {},
     "output_type": "display_data"
    },
    {
     "data": {
      "application/vnd.jupyter.widget-view+json": {
       "model_id": "",
       "version_major": 2,
       "version_minor": 0
      },
      "text/plain": [
       "eve_l2_spectra_2011046_19:   0%|          | 0.00/20.4M [00:00<?, ?B/s]"
      ]
     },
     "metadata": {},
     "output_type": "display_data"
    },
    {
     "data": {
      "application/vnd.jupyter.widget-view+json": {
       "model_id": "",
       "version_major": 2,
       "version_minor": 0
      },
      "text/plain": [
       "eve_l2_spectra_2011046_20:   0%|          | 0.00/20.4M [00:00<?, ?B/s]"
      ]
     },
     "metadata": {},
     "output_type": "display_data"
    },
    {
     "data": {
      "application/vnd.jupyter.widget-view+json": {
       "model_id": "",
       "version_major": 2,
       "version_minor": 0
      },
      "text/plain": [
       "eve_l2_spectra_2011046_21:   0%|          | 0.00/20.4M [00:00<?, ?B/s]"
      ]
     },
     "metadata": {},
     "output_type": "display_data"
    },
    {
     "data": {
      "application/vnd.jupyter.widget-view+json": {
       "model_id": "",
       "version_major": 2,
       "version_minor": 0
      },
      "text/plain": [
       "eve_l2_spectra_2011046_22:   0%|          | 0.00/20.4M [00:00<?, ?B/s]"
      ]
     },
     "metadata": {},
     "output_type": "display_data"
    },
    {
     "data": {
      "application/vnd.jupyter.widget-view+json": {
       "model_id": "",
       "version_major": 2,
       "version_minor": 0
      },
      "text/plain": [
       "eve_l2_spectra_2011046_23:   0%|          | 0.00/20.4M [00:00<?, ?B/s]"
      ]
     },
     "metadata": {},
     "output_type": "display_data"
    },
    {
     "data": {
      "application/vnd.jupyter.widget-view+json": {
       "model_id": "",
       "version_major": 2,
       "version_minor": 0
      },
      "text/plain": [
       "eve_l2_spectra_2011047_00:   0%|          | 0.00/20.4M [00:00<?, ?B/s]"
      ]
     },
     "metadata": {},
     "output_type": "display_data"
    },
    {
     "data": {
      "application/vnd.jupyter.widget-view+json": {
       "model_id": "",
       "version_major": 2,
       "version_minor": 0
      },
      "text/plain": [
       "eve_l2_spectra_2011047_01:   0%|          | 0.00/20.4M [00:00<?, ?B/s]"
      ]
     },
     "metadata": {},
     "output_type": "display_data"
    },
    {
     "data": {
      "application/vnd.jupyter.widget-view+json": {
       "model_id": "",
       "version_major": 2,
       "version_minor": 0
      },
      "text/plain": [
       "eve_l2_spectra_2011047_02:   0%|          | 0.00/20.4M [00:00<?, ?B/s]"
      ]
     },
     "metadata": {},
     "output_type": "display_data"
    },
    {
     "data": {
      "application/vnd.jupyter.widget-view+json": {
       "model_id": "",
       "version_major": 2,
       "version_minor": 0
      },
      "text/plain": [
       "eve_l2_spectra_2011047_03:   0%|          | 0.00/20.4M [00:00<?, ?B/s]"
      ]
     },
     "metadata": {},
     "output_type": "display_data"
    },
    {
     "data": {
      "application/vnd.jupyter.widget-view+json": {
       "model_id": "",
       "version_major": 2,
       "version_minor": 0
      },
      "text/plain": [
       "eve_l2_spectra_2011047_04:   0%|          | 0.00/20.4M [00:00<?, ?B/s]"
      ]
     },
     "metadata": {},
     "output_type": "display_data"
    },
    {
     "data": {
      "application/vnd.jupyter.widget-view+json": {
       "model_id": "",
       "version_major": 2,
       "version_minor": 0
      },
      "text/plain": [
       "eve_l2_spectra_2011047_05:   0%|          | 0.00/20.4M [00:00<?, ?B/s]"
      ]
     },
     "metadata": {},
     "output_type": "display_data"
    },
    {
     "data": {
      "application/vnd.jupyter.widget-view+json": {
       "model_id": "",
       "version_major": 2,
       "version_minor": 0
      },
      "text/plain": [
       "eve_l2_spectra_2011047_06:   0%|          | 0.00/20.3M [00:00<?, ?B/s]"
      ]
     },
     "metadata": {},
     "output_type": "display_data"
    },
    {
     "data": {
      "application/vnd.jupyter.widget-view+json": {
       "model_id": "",
       "version_major": 2,
       "version_minor": 0
      },
      "text/plain": [
       "eve_l2_spectra_2011047_07:   0%|          | 0.00/20.3M [00:00<?, ?B/s]"
      ]
     },
     "metadata": {},
     "output_type": "display_data"
    },
    {
     "data": {
      "application/vnd.jupyter.widget-view+json": {
       "model_id": "",
       "version_major": 2,
       "version_minor": 0
      },
      "text/plain": [
       "eve_l2_spectra_2011047_08:   0%|          | 0.00/20.4M [00:00<?, ?B/s]"
      ]
     },
     "metadata": {},
     "output_type": "display_data"
    },
    {
     "data": {
      "application/vnd.jupyter.widget-view+json": {
       "model_id": "",
       "version_major": 2,
       "version_minor": 0
      },
      "text/plain": [
       "eve_l2_spectra_2011047_09:   0%|          | 0.00/20.3M [00:00<?, ?B/s]"
      ]
     },
     "metadata": {},
     "output_type": "display_data"
    },
    {
     "data": {
      "application/vnd.jupyter.widget-view+json": {
       "model_id": "",
       "version_major": 2,
       "version_minor": 0
      },
      "text/plain": [
       "eve_l2_spectra_2011047_10:   0%|          | 0.00/20.3M [00:00<?, ?B/s]"
      ]
     },
     "metadata": {},
     "output_type": "display_data"
    },
    {
     "data": {
      "application/vnd.jupyter.widget-view+json": {
       "model_id": "",
       "version_major": 2,
       "version_minor": 0
      },
      "text/plain": [
       "eve_l2_spectra_2011047_11:   0%|          | 0.00/20.4M [00:00<?, ?B/s]"
      ]
     },
     "metadata": {},
     "output_type": "display_data"
    },
    {
     "data": {
      "application/vnd.jupyter.widget-view+json": {
       "model_id": "",
       "version_major": 2,
       "version_minor": 0
      },
      "text/plain": [
       "eve_l2_spectra_2011047_12:   0%|          | 0.00/20.4M [00:00<?, ?B/s]"
      ]
     },
     "metadata": {},
     "output_type": "display_data"
    },
    {
     "data": {
      "application/vnd.jupyter.widget-view+json": {
       "model_id": "",
       "version_major": 2,
       "version_minor": 0
      },
      "text/plain": [
       "eve_l2_spectra_2011047_13:   0%|          | 0.00/20.4M [00:00<?, ?B/s]"
      ]
     },
     "metadata": {},
     "output_type": "display_data"
    },
    {
     "data": {
      "application/vnd.jupyter.widget-view+json": {
       "model_id": "",
       "version_major": 2,
       "version_minor": 0
      },
      "text/plain": [
       "eve_l2_spectra_2011047_14:   0%|          | 0.00/20.4M [00:00<?, ?B/s]"
      ]
     },
     "metadata": {},
     "output_type": "display_data"
    },
    {
     "data": {
      "application/vnd.jupyter.widget-view+json": {
       "model_id": "",
       "version_major": 2,
       "version_minor": 0
      },
      "text/plain": [
       "eve_l2_spectra_2011047_15:   0%|          | 0.00/20.4M [00:00<?, ?B/s]"
      ]
     },
     "metadata": {},
     "output_type": "display_data"
    },
    {
     "data": {
      "application/vnd.jupyter.widget-view+json": {
       "model_id": "",
       "version_major": 2,
       "version_minor": 0
      },
      "text/plain": [
       "eve_l2_spectra_2011047_16:   0%|          | 0.00/20.4M [00:00<?, ?B/s]"
      ]
     },
     "metadata": {},
     "output_type": "display_data"
    },
    {
     "data": {
      "application/vnd.jupyter.widget-view+json": {
       "model_id": "",
       "version_major": 2,
       "version_minor": 0
      },
      "text/plain": [
       "eve_l2_spectra_2011047_17:   0%|          | 0.00/20.4M [00:00<?, ?B/s]"
      ]
     },
     "metadata": {},
     "output_type": "display_data"
    },
    {
     "data": {
      "application/vnd.jupyter.widget-view+json": {
       "model_id": "",
       "version_major": 2,
       "version_minor": 0
      },
      "text/plain": [
       "eve_l2_spectra_2011047_18:   0%|          | 0.00/20.3M [00:00<?, ?B/s]"
      ]
     },
     "metadata": {},
     "output_type": "display_data"
    },
    {
     "data": {
      "application/vnd.jupyter.widget-view+json": {
       "model_id": "",
       "version_major": 2,
       "version_minor": 0
      },
      "text/plain": [
       "eve_l2_spectra_2011047_19:   0%|          | 0.00/5.92M [00:00<?, ?B/s]"
      ]
     },
     "metadata": {},
     "output_type": "display_data"
    },
    {
     "data": {
      "application/vnd.jupyter.widget-view+json": {
       "model_id": "",
       "version_major": 2,
       "version_minor": 0
      },
      "text/plain": [
       "eve_l2_spectra_2011047_20:   0%|          | 0.00/6.81M [00:00<?, ?B/s]"
      ]
     },
     "metadata": {},
     "output_type": "display_data"
    },
    {
     "data": {
      "application/vnd.jupyter.widget-view+json": {
       "model_id": "",
       "version_major": 2,
       "version_minor": 0
      },
      "text/plain": [
       "eve_l2_spectra_2011047_21:   0%|          | 0.00/6.81M [00:00<?, ?B/s]"
      ]
     },
     "metadata": {},
     "output_type": "display_data"
    },
    {
     "data": {
      "application/vnd.jupyter.widget-view+json": {
       "model_id": "",
       "version_major": 2,
       "version_minor": 0
      },
      "text/plain": [
       "eve_l2_spectra_2011047_22:   0%|          | 0.00/6.81M [00:00<?, ?B/s]"
      ]
     },
     "metadata": {},
     "output_type": "display_data"
    },
    {
     "data": {
      "application/vnd.jupyter.widget-view+json": {
       "model_id": "",
       "version_major": 2,
       "version_minor": 0
      },
      "text/plain": [
       "eve_l2_spectra_2011047_23:   0%|          | 0.00/6.81M [00:00<?, ?B/s]"
      ]
     },
     "metadata": {},
     "output_type": "display_data"
    },
    {
     "data": {
      "application/vnd.jupyter.widget-view+json": {
       "model_id": "",
       "version_major": 2,
       "version_minor": 0
      },
      "text/plain": [
       "eve_l2_spectra_2011048_00:   0%|          | 0.00/6.81M [00:00<?, ?B/s]"
      ]
     },
     "metadata": {},
     "output_type": "display_data"
    },
    {
     "data": {
      "application/vnd.jupyter.widget-view+json": {
       "model_id": "",
       "version_major": 2,
       "version_minor": 0
      },
      "text/plain": [
       "eve_l2_spectra_2011048_01:   0%|          | 0.00/6.81M [00:00<?, ?B/s]"
      ]
     },
     "metadata": {},
     "output_type": "display_data"
    },
    {
     "data": {
      "application/vnd.jupyter.widget-view+json": {
       "model_id": "",
       "version_major": 2,
       "version_minor": 0
      },
      "text/plain": [
       "eve_l2_spectra_2011048_02:   0%|          | 0.00/6.81M [00:00<?, ?B/s]"
      ]
     },
     "metadata": {},
     "output_type": "display_data"
    },
    {
     "data": {
      "application/vnd.jupyter.widget-view+json": {
       "model_id": "",
       "version_major": 2,
       "version_minor": 0
      },
      "text/plain": [
       "eve_l2_spectra_2011048_03:   0%|          | 0.00/6.81M [00:00<?, ?B/s]"
      ]
     },
     "metadata": {},
     "output_type": "display_data"
    },
    {
     "data": {
      "application/vnd.jupyter.widget-view+json": {
       "model_id": "",
       "version_major": 2,
       "version_minor": 0
      },
      "text/plain": [
       "eve_l2_spectra_2011048_04:   0%|          | 0.00/6.81M [00:00<?, ?B/s]"
      ]
     },
     "metadata": {},
     "output_type": "display_data"
    },
    {
     "data": {
      "application/vnd.jupyter.widget-view+json": {
       "model_id": "",
       "version_major": 2,
       "version_minor": 0
      },
      "text/plain": [
       "eve_l2_spectra_2011048_05:   0%|          | 0.00/6.81M [00:00<?, ?B/s]"
      ]
     },
     "metadata": {},
     "output_type": "display_data"
    },
    {
     "data": {
      "application/vnd.jupyter.widget-view+json": {
       "model_id": "",
       "version_major": 2,
       "version_minor": 0
      },
      "text/plain": [
       "eve_l2_spectra_2011048_06:   0%|          | 0.00/6.81M [00:00<?, ?B/s]"
      ]
     },
     "metadata": {},
     "output_type": "display_data"
    },
    {
     "data": {
      "application/vnd.jupyter.widget-view+json": {
       "model_id": "",
       "version_major": 2,
       "version_minor": 0
      },
      "text/plain": [
       "eve_l2_spectra_2011048_07:   0%|          | 0.00/6.81M [00:00<?, ?B/s]"
      ]
     },
     "metadata": {},
     "output_type": "display_data"
    },
    {
     "data": {
      "application/vnd.jupyter.widget-view+json": {
       "model_id": "",
       "version_major": 2,
       "version_minor": 0
      },
      "text/plain": [
       "eve_l2_spectra_2011048_08:   0%|          | 0.00/6.81M [00:00<?, ?B/s]"
      ]
     },
     "metadata": {},
     "output_type": "display_data"
    },
    {
     "data": {
      "application/vnd.jupyter.widget-view+json": {
       "model_id": "",
       "version_major": 2,
       "version_minor": 0
      },
      "text/plain": [
       "eve_l2_spectra_2011048_09:   0%|          | 0.00/6.81M [00:00<?, ?B/s]"
      ]
     },
     "metadata": {},
     "output_type": "display_data"
    },
    {
     "data": {
      "application/vnd.jupyter.widget-view+json": {
       "model_id": "",
       "version_major": 2,
       "version_minor": 0
      },
      "text/plain": [
       "eve_l2_spectra_2011048_10:   0%|          | 0.00/6.81M [00:00<?, ?B/s]"
      ]
     },
     "metadata": {},
     "output_type": "display_data"
    },
    {
     "data": {
      "application/vnd.jupyter.widget-view+json": {
       "model_id": "",
       "version_major": 2,
       "version_minor": 0
      },
      "text/plain": [
       "eve_l2_spectra_2011048_11:   0%|          | 0.00/6.81M [00:00<?, ?B/s]"
      ]
     },
     "metadata": {},
     "output_type": "display_data"
    },
    {
     "data": {
      "application/vnd.jupyter.widget-view+json": {
       "model_id": "",
       "version_major": 2,
       "version_minor": 0
      },
      "text/plain": [
       "eve_l2_spectra_2011048_12:   0%|          | 0.00/6.81M [00:00<?, ?B/s]"
      ]
     },
     "metadata": {},
     "output_type": "display_data"
    },
    {
     "data": {
      "application/vnd.jupyter.widget-view+json": {
       "model_id": "",
       "version_major": 2,
       "version_minor": 0
      },
      "text/plain": [
       "eve_l2_spectra_2011048_13:   0%|          | 0.00/8.04M [00:00<?, ?B/s]"
      ]
     },
     "metadata": {},
     "output_type": "display_data"
    },
    {
     "data": {
      "application/vnd.jupyter.widget-view+json": {
       "model_id": "",
       "version_major": 2,
       "version_minor": 0
      },
      "text/plain": [
       "eve_l2_spectra_2011048_14:   0%|          | 0.00/20.4M [00:00<?, ?B/s]"
      ]
     },
     "metadata": {},
     "output_type": "display_data"
    },
    {
     "data": {
      "application/vnd.jupyter.widget-view+json": {
       "model_id": "",
       "version_major": 2,
       "version_minor": 0
      },
      "text/plain": [
       "eve_l2_spectra_2011048_15:   0%|          | 0.00/20.4M [00:00<?, ?B/s]"
      ]
     },
     "metadata": {},
     "output_type": "display_data"
    },
    {
     "data": {
      "application/vnd.jupyter.widget-view+json": {
       "model_id": "",
       "version_major": 2,
       "version_minor": 0
      },
      "text/plain": [
       "eve_l2_spectra_2011048_16:   0%|          | 0.00/19.1M [00:00<?, ?B/s]"
      ]
     },
     "metadata": {},
     "output_type": "display_data"
    },
    {
     "data": {
      "application/vnd.jupyter.widget-view+json": {
       "model_id": "",
       "version_major": 2,
       "version_minor": 0
      },
      "text/plain": [
       "eve_l2_spectra_2011048_17:   0%|          | 0.00/6.81M [00:00<?, ?B/s]"
      ]
     },
     "metadata": {},
     "output_type": "display_data"
    },
    {
     "data": {
      "application/vnd.jupyter.widget-view+json": {
       "model_id": "",
       "version_major": 2,
       "version_minor": 0
      },
      "text/plain": [
       "eve_l2_spectra_2011048_18:   0%|          | 0.00/6.81M [00:00<?, ?B/s]"
      ]
     },
     "metadata": {},
     "output_type": "display_data"
    },
    {
     "data": {
      "application/vnd.jupyter.widget-view+json": {
       "model_id": "",
       "version_major": 2,
       "version_minor": 0
      },
      "text/plain": [
       "eve_l2_spectra_2011048_19:   0%|          | 0.00/5.92M [00:00<?, ?B/s]"
      ]
     },
     "metadata": {},
     "output_type": "display_data"
    },
    {
     "data": {
      "application/vnd.jupyter.widget-view+json": {
       "model_id": "",
       "version_major": 2,
       "version_minor": 0
      },
      "text/plain": [
       "eve_l2_spectra_2011048_20:   0%|          | 0.00/6.81M [00:00<?, ?B/s]"
      ]
     },
     "metadata": {},
     "output_type": "display_data"
    },
    {
     "data": {
      "application/vnd.jupyter.widget-view+json": {
       "model_id": "",
       "version_major": 2,
       "version_minor": 0
      },
      "text/plain": [
       "eve_l2_spectra_2011048_21:   0%|          | 0.00/6.81M [00:00<?, ?B/s]"
      ]
     },
     "metadata": {},
     "output_type": "display_data"
    },
    {
     "data": {
      "application/vnd.jupyter.widget-view+json": {
       "model_id": "",
       "version_major": 2,
       "version_minor": 0
      },
      "text/plain": [
       "eve_l2_spectra_2011048_22:   0%|          | 0.00/6.81M [00:00<?, ?B/s]"
      ]
     },
     "metadata": {},
     "output_type": "display_data"
    },
    {
     "data": {
      "application/vnd.jupyter.widget-view+json": {
       "model_id": "",
       "version_major": 2,
       "version_minor": 0
      },
      "text/plain": [
       "eve_l2_spectra_2011048_23:   0%|          | 0.00/6.81M [00:00<?, ?B/s]"
      ]
     },
     "metadata": {},
     "output_type": "display_data"
    },
    {
     "data": {
      "application/vnd.jupyter.widget-view+json": {
       "model_id": "",
       "version_major": 2,
       "version_minor": 0
      },
      "text/plain": [
       "eve_l2_spectra_2011049_00:   0%|          | 0.00/6.80M [00:00<?, ?B/s]"
      ]
     },
     "metadata": {},
     "output_type": "display_data"
    },
    {
     "data": {
      "application/vnd.jupyter.widget-view+json": {
       "model_id": "",
       "version_major": 2,
       "version_minor": 0
      },
      "text/plain": [
       "eve_l2_spectra_2011049_01:   0%|          | 0.00/6.81M [00:00<?, ?B/s]"
      ]
     },
     "metadata": {},
     "output_type": "display_data"
    },
    {
     "data": {
      "application/vnd.jupyter.widget-view+json": {
       "model_id": "",
       "version_major": 2,
       "version_minor": 0
      },
      "text/plain": [
       "eve_l2_spectra_2011049_02:   0%|          | 0.00/6.81M [00:00<?, ?B/s]"
      ]
     },
     "metadata": {},
     "output_type": "display_data"
    },
    {
     "data": {
      "application/vnd.jupyter.widget-view+json": {
       "model_id": "",
       "version_major": 2,
       "version_minor": 0
      },
      "text/plain": [
       "eve_l2_spectra_2011049_03:   0%|          | 0.00/6.81M [00:00<?, ?B/s]"
      ]
     },
     "metadata": {},
     "output_type": "display_data"
    },
    {
     "data": {
      "application/vnd.jupyter.widget-view+json": {
       "model_id": "",
       "version_major": 2,
       "version_minor": 0
      },
      "text/plain": [
       "eve_l2_spectra_2011049_04:   0%|          | 0.00/6.81M [00:00<?, ?B/s]"
      ]
     },
     "metadata": {},
     "output_type": "display_data"
    },
    {
     "data": {
      "application/vnd.jupyter.widget-view+json": {
       "model_id": "",
       "version_major": 2,
       "version_minor": 0
      },
      "text/plain": [
       "eve_l2_spectra_2011049_05:   0%|          | 0.00/6.81M [00:00<?, ?B/s]"
      ]
     },
     "metadata": {},
     "output_type": "display_data"
    },
    {
     "data": {
      "application/vnd.jupyter.widget-view+json": {
       "model_id": "",
       "version_major": 2,
       "version_minor": 0
      },
      "text/plain": [
       "eve_l2_spectra_2011049_06:   0%|          | 0.00/6.81M [00:00<?, ?B/s]"
      ]
     },
     "metadata": {},
     "output_type": "display_data"
    },
    {
     "data": {
      "application/vnd.jupyter.widget-view+json": {
       "model_id": "",
       "version_major": 2,
       "version_minor": 0
      },
      "text/plain": [
       "eve_l2_spectra_2011049_07:   0%|          | 0.00/6.81M [00:00<?, ?B/s]"
      ]
     },
     "metadata": {},
     "output_type": "display_data"
    },
    {
     "data": {
      "application/vnd.jupyter.widget-view+json": {
       "model_id": "",
       "version_major": 2,
       "version_minor": 0
      },
      "text/plain": [
       "eve_l2_spectra_2011049_08:   0%|          | 0.00/6.81M [00:00<?, ?B/s]"
      ]
     },
     "metadata": {},
     "output_type": "display_data"
    },
    {
     "data": {
      "application/vnd.jupyter.widget-view+json": {
       "model_id": "",
       "version_major": 2,
       "version_minor": 0
      },
      "text/plain": [
       "eve_l2_spectra_2011049_09:   0%|          | 0.00/6.81M [00:00<?, ?B/s]"
      ]
     },
     "metadata": {},
     "output_type": "display_data"
    },
    {
     "data": {
      "application/vnd.jupyter.widget-view+json": {
       "model_id": "",
       "version_major": 2,
       "version_minor": 0
      },
      "text/plain": [
       "eve_l2_spectra_2011049_10:   0%|          | 0.00/6.80M [00:00<?, ?B/s]"
      ]
     },
     "metadata": {},
     "output_type": "display_data"
    },
    {
     "data": {
      "application/vnd.jupyter.widget-view+json": {
       "model_id": "",
       "version_major": 2,
       "version_minor": 0
      },
      "text/plain": [
       "eve_l2_spectra_2011049_11:   0%|          | 0.00/6.81M [00:00<?, ?B/s]"
      ]
     },
     "metadata": {},
     "output_type": "display_data"
    },
    {
     "data": {
      "application/vnd.jupyter.widget-view+json": {
       "model_id": "",
       "version_major": 2,
       "version_minor": 0
      },
      "text/plain": [
       "eve_l2_spectra_2011049_12:   0%|          | 0.00/6.81M [00:00<?, ?B/s]"
      ]
     },
     "metadata": {},
     "output_type": "display_data"
    },
    {
     "data": {
      "application/vnd.jupyter.widget-view+json": {
       "model_id": "",
       "version_major": 2,
       "version_minor": 0
      },
      "text/plain": [
       "eve_l2_spectra_2011049_13:   0%|          | 0.00/8.03M [00:00<?, ?B/s]"
      ]
     },
     "metadata": {},
     "output_type": "display_data"
    },
    {
     "data": {
      "application/vnd.jupyter.widget-view+json": {
       "model_id": "",
       "version_major": 2,
       "version_minor": 0
      },
      "text/plain": [
       "eve_l2_spectra_2011049_14:   0%|          | 0.00/20.4M [00:00<?, ?B/s]"
      ]
     },
     "metadata": {},
     "output_type": "display_data"
    },
    {
     "data": {
      "application/vnd.jupyter.widget-view+json": {
       "model_id": "",
       "version_major": 2,
       "version_minor": 0
      },
      "text/plain": [
       "eve_l2_spectra_2011049_15:   0%|          | 0.00/20.4M [00:00<?, ?B/s]"
      ]
     },
     "metadata": {},
     "output_type": "display_data"
    },
    {
     "data": {
      "application/vnd.jupyter.widget-view+json": {
       "model_id": "",
       "version_major": 2,
       "version_minor": 0
      },
      "text/plain": [
       "eve_l2_spectra_2011049_16:   0%|          | 0.00/19.1M [00:00<?, ?B/s]"
      ]
     },
     "metadata": {},
     "output_type": "display_data"
    },
    {
     "data": {
      "application/vnd.jupyter.widget-view+json": {
       "model_id": "",
       "version_major": 2,
       "version_minor": 0
      },
      "text/plain": [
       "eve_l2_spectra_2011049_17:   0%|          | 0.00/6.81M [00:00<?, ?B/s]"
      ]
     },
     "metadata": {},
     "output_type": "display_data"
    },
    {
     "data": {
      "application/vnd.jupyter.widget-view+json": {
       "model_id": "",
       "version_major": 2,
       "version_minor": 0
      },
      "text/plain": [
       "eve_l2_spectra_2011049_18:   0%|          | 0.00/6.80M [00:00<?, ?B/s]"
      ]
     },
     "metadata": {},
     "output_type": "display_data"
    },
    {
     "data": {
      "application/vnd.jupyter.widget-view+json": {
       "model_id": "",
       "version_major": 2,
       "version_minor": 0
      },
      "text/plain": [
       "eve_l2_spectra_2011049_19:   0%|          | 0.00/6.81M [00:00<?, ?B/s]"
      ]
     },
     "metadata": {},
     "output_type": "display_data"
    },
    {
     "data": {
      "application/vnd.jupyter.widget-view+json": {
       "model_id": "",
       "version_major": 2,
       "version_minor": 0
      },
      "text/plain": [
       "eve_l2_spectra_2011049_20:   0%|          | 0.00/6.81M [00:00<?, ?B/s]"
      ]
     },
     "metadata": {},
     "output_type": "display_data"
    },
    {
     "data": {
      "application/vnd.jupyter.widget-view+json": {
       "model_id": "",
       "version_major": 2,
       "version_minor": 0
      },
      "text/plain": [
       "eve_l2_spectra_2011049_21:   0%|          | 0.00/5.91M [00:00<?, ?B/s]"
      ]
     },
     "metadata": {},
     "output_type": "display_data"
    },
    {
     "data": {
      "application/vnd.jupyter.widget-view+json": {
       "model_id": "",
       "version_major": 2,
       "version_minor": 0
      },
      "text/plain": [
       "eve_l2_spectra_2011049_22:   0%|          | 0.00/6.81M [00:00<?, ?B/s]"
      ]
     },
     "metadata": {},
     "output_type": "display_data"
    },
    {
     "data": {
      "application/vnd.jupyter.widget-view+json": {
       "model_id": "",
       "version_major": 2,
       "version_minor": 0
      },
      "text/plain": [
       "eve_l2_spectra_2011049_23:   0%|          | 0.00/6.81M [00:00<?, ?B/s]"
      ]
     },
     "metadata": {},
     "output_type": "display_data"
    },
    {
     "data": {
      "application/vnd.jupyter.widget-view+json": {
       "model_id": "",
       "version_major": 2,
       "version_minor": 0
      },
      "text/plain": [
       "eve_l2_spectra_2011051_00:   0%|          | 0.00/6.81M [00:00<?, ?B/s]"
      ]
     },
     "metadata": {},
     "output_type": "display_data"
    },
    {
     "data": {
      "application/vnd.jupyter.widget-view+json": {
       "model_id": "",
       "version_major": 2,
       "version_minor": 0
      },
      "text/plain": [
       "eve_l2_spectra_2011051_01:   0%|          | 0.00/6.81M [00:00<?, ?B/s]"
      ]
     },
     "metadata": {},
     "output_type": "display_data"
    },
    {
     "data": {
      "application/vnd.jupyter.widget-view+json": {
       "model_id": "",
       "version_major": 2,
       "version_minor": 0
      },
      "text/plain": [
       "eve_l2_spectra_2011051_02:   0%|          | 0.00/6.81M [00:00<?, ?B/s]"
      ]
     },
     "metadata": {},
     "output_type": "display_data"
    },
    {
     "data": {
      "application/vnd.jupyter.widget-view+json": {
       "model_id": "",
       "version_major": 2,
       "version_minor": 0
      },
      "text/plain": [
       "eve_l2_spectra_2011051_03:   0%|          | 0.00/6.81M [00:00<?, ?B/s]"
      ]
     },
     "metadata": {},
     "output_type": "display_data"
    },
    {
     "data": {
      "application/vnd.jupyter.widget-view+json": {
       "model_id": "",
       "version_major": 2,
       "version_minor": 0
      },
      "text/plain": [
       "eve_l2_spectra_2011051_04:   0%|          | 0.00/6.81M [00:00<?, ?B/s]"
      ]
     },
     "metadata": {},
     "output_type": "display_data"
    },
    {
     "data": {
      "application/vnd.jupyter.widget-view+json": {
       "model_id": "",
       "version_major": 2,
       "version_minor": 0
      },
      "text/plain": [
       "eve_l2_spectra_2011051_05:   0%|          | 0.00/6.81M [00:00<?, ?B/s]"
      ]
     },
     "metadata": {},
     "output_type": "display_data"
    },
    {
     "data": {
      "application/vnd.jupyter.widget-view+json": {
       "model_id": "",
       "version_major": 2,
       "version_minor": 0
      },
      "text/plain": [
       "eve_l2_spectra_2011051_06:   0%|          | 0.00/6.81M [00:00<?, ?B/s]"
      ]
     },
     "metadata": {},
     "output_type": "display_data"
    },
    {
     "data": {
      "application/vnd.jupyter.widget-view+json": {
       "model_id": "",
       "version_major": 2,
       "version_minor": 0
      },
      "text/plain": [
       "eve_l2_spectra_2011051_07:   0%|          | 0.00/6.81M [00:00<?, ?B/s]"
      ]
     },
     "metadata": {},
     "output_type": "display_data"
    },
    {
     "data": {
      "application/vnd.jupyter.widget-view+json": {
       "model_id": "",
       "version_major": 2,
       "version_minor": 0
      },
      "text/plain": [
       "eve_l2_spectra_2011051_08:   0%|          | 0.00/6.81M [00:00<?, ?B/s]"
      ]
     },
     "metadata": {},
     "output_type": "display_data"
    },
    {
     "data": {
      "application/vnd.jupyter.widget-view+json": {
       "model_id": "",
       "version_major": 2,
       "version_minor": 0
      },
      "text/plain": [
       "eve_l2_spectra_2011051_09:   0%|          | 0.00/6.81M [00:00<?, ?B/s]"
      ]
     },
     "metadata": {},
     "output_type": "display_data"
    },
    {
     "data": {
      "application/vnd.jupyter.widget-view+json": {
       "model_id": "",
       "version_major": 2,
       "version_minor": 0
      },
      "text/plain": [
       "eve_l2_spectra_2011051_10:   0%|          | 0.00/6.81M [00:00<?, ?B/s]"
      ]
     },
     "metadata": {},
     "output_type": "display_data"
    },
    {
     "data": {
      "application/vnd.jupyter.widget-view+json": {
       "model_id": "",
       "version_major": 2,
       "version_minor": 0
      },
      "text/plain": [
       "eve_l2_spectra_2011051_11:   0%|          | 0.00/6.81M [00:00<?, ?B/s]"
      ]
     },
     "metadata": {},
     "output_type": "display_data"
    },
    {
     "data": {
      "application/vnd.jupyter.widget-view+json": {
       "model_id": "",
       "version_major": 2,
       "version_minor": 0
      },
      "text/plain": [
       "eve_l2_spectra_2011051_12:   0%|          | 0.00/6.81M [00:00<?, ?B/s]"
      ]
     },
     "metadata": {},
     "output_type": "display_data"
    },
    {
     "data": {
      "application/vnd.jupyter.widget-view+json": {
       "model_id": "",
       "version_major": 2,
       "version_minor": 0
      },
      "text/plain": [
       "eve_l2_spectra_2011051_13:   0%|          | 0.00/6.12M [00:00<?, ?B/s]"
      ]
     },
     "metadata": {},
     "output_type": "display_data"
    },
    {
     "data": {
      "application/vnd.jupyter.widget-view+json": {
       "model_id": "",
       "version_major": 2,
       "version_minor": 0
      },
      "text/plain": [
       "eve_l2_spectra_2011051_14:   0%|          | 0.00/20.3M [00:00<?, ?B/s]"
      ]
     },
     "metadata": {},
     "output_type": "display_data"
    },
    {
     "data": {
      "application/vnd.jupyter.widget-view+json": {
       "model_id": "",
       "version_major": 2,
       "version_minor": 0
      },
      "text/plain": [
       "eve_l2_spectra_2011051_15:   0%|          | 0.00/20.3M [00:00<?, ?B/s]"
      ]
     },
     "metadata": {},
     "output_type": "display_data"
    },
    {
     "data": {
      "application/vnd.jupyter.widget-view+json": {
       "model_id": "",
       "version_major": 2,
       "version_minor": 0
      },
      "text/plain": [
       "eve_l2_spectra_2011051_16:   0%|          | 0.00/19.1M [00:00<?, ?B/s]"
      ]
     },
     "metadata": {},
     "output_type": "display_data"
    },
    {
     "data": {
      "application/vnd.jupyter.widget-view+json": {
       "model_id": "",
       "version_major": 2,
       "version_minor": 0
      },
      "text/plain": [
       "eve_l2_spectra_2011051_17:   0%|          | 0.00/6.81M [00:00<?, ?B/s]"
      ]
     },
     "metadata": {},
     "output_type": "display_data"
    },
    {
     "data": {
      "application/vnd.jupyter.widget-view+json": {
       "model_id": "",
       "version_major": 2,
       "version_minor": 0
      },
      "text/plain": [
       "eve_l2_spectra_2011051_18:   0%|          | 0.00/6.81M [00:00<?, ?B/s]"
      ]
     },
     "metadata": {},
     "output_type": "display_data"
    },
    {
     "data": {
      "application/vnd.jupyter.widget-view+json": {
       "model_id": "",
       "version_major": 2,
       "version_minor": 0
      },
      "text/plain": [
       "eve_l2_spectra_2011051_19:   0%|          | 0.00/6.81M [00:00<?, ?B/s]"
      ]
     },
     "metadata": {},
     "output_type": "display_data"
    },
    {
     "data": {
      "application/vnd.jupyter.widget-view+json": {
       "model_id": "",
       "version_major": 2,
       "version_minor": 0
      },
      "text/plain": [
       "eve_l2_spectra_2011051_20:   0%|          | 0.00/6.81M [00:00<?, ?B/s]"
      ]
     },
     "metadata": {},
     "output_type": "display_data"
    },
    {
     "data": {
      "application/vnd.jupyter.widget-view+json": {
       "model_id": "",
       "version_major": 2,
       "version_minor": 0
      },
      "text/plain": [
       "eve_l2_spectra_2011051_21:   0%|          | 0.00/6.81M [00:00<?, ?B/s]"
      ]
     },
     "metadata": {},
     "output_type": "display_data"
    },
    {
     "data": {
      "application/vnd.jupyter.widget-view+json": {
       "model_id": "",
       "version_major": 2,
       "version_minor": 0
      },
      "text/plain": [
       "eve_l2_spectra_2011051_22:   0%|          | 0.00/6.81M [00:00<?, ?B/s]"
      ]
     },
     "metadata": {},
     "output_type": "display_data"
    },
    {
     "data": {
      "application/vnd.jupyter.widget-view+json": {
       "model_id": "",
       "version_major": 2,
       "version_minor": 0
      },
      "text/plain": [
       "eve_l2_spectra_2011051_23:   0%|          | 0.00/6.81M [00:00<?, ?B/s]"
      ]
     },
     "metadata": {},
     "output_type": "display_data"
    },
    {
     "data": {
      "application/vnd.jupyter.widget-view+json": {
       "model_id": "",
       "version_major": 2,
       "version_minor": 0
      },
      "text/plain": [
       "eve_l2_spectra_2011052_00:   0%|          | 0.00/6.81M [00:00<?, ?B/s]"
      ]
     },
     "metadata": {},
     "output_type": "display_data"
    },
    {
     "data": {
      "application/vnd.jupyter.widget-view+json": {
       "model_id": "",
       "version_major": 2,
       "version_minor": 0
      },
      "text/plain": [
       "eve_l2_spectra_2011052_01:   0%|          | 0.00/5.93M [00:00<?, ?B/s]"
      ]
     },
     "metadata": {},
     "output_type": "display_data"
    },
    {
     "data": {
      "application/vnd.jupyter.widget-view+json": {
       "model_id": "",
       "version_major": 2,
       "version_minor": 0
      },
      "text/plain": [
       "eve_l2_spectra_2011052_02:   0%|          | 0.00/6.81M [00:00<?, ?B/s]"
      ]
     },
     "metadata": {},
     "output_type": "display_data"
    },
    {
     "data": {
      "application/vnd.jupyter.widget-view+json": {
       "model_id": "",
       "version_major": 2,
       "version_minor": 0
      },
      "text/plain": [
       "eve_l2_spectra_2011052_03:   0%|          | 0.00/6.81M [00:00<?, ?B/s]"
      ]
     },
     "metadata": {},
     "output_type": "display_data"
    },
    {
     "data": {
      "application/vnd.jupyter.widget-view+json": {
       "model_id": "",
       "version_major": 2,
       "version_minor": 0
      },
      "text/plain": [
       "eve_l2_spectra_2011052_04:   0%|          | 0.00/6.81M [00:00<?, ?B/s]"
      ]
     },
     "metadata": {},
     "output_type": "display_data"
    },
    {
     "data": {
      "application/vnd.jupyter.widget-view+json": {
       "model_id": "",
       "version_major": 2,
       "version_minor": 0
      },
      "text/plain": [
       "eve_l2_spectra_2011052_05:   0%|          | 0.00/6.81M [00:00<?, ?B/s]"
      ]
     },
     "metadata": {},
     "output_type": "display_data"
    },
    {
     "data": {
      "application/vnd.jupyter.widget-view+json": {
       "model_id": "",
       "version_major": 2,
       "version_minor": 0
      },
      "text/plain": [
       "eve_l2_spectra_2011052_06:   0%|          | 0.00/6.81M [00:00<?, ?B/s]"
      ]
     },
     "metadata": {},
     "output_type": "display_data"
    },
    {
     "data": {
      "application/vnd.jupyter.widget-view+json": {
       "model_id": "",
       "version_major": 2,
       "version_minor": 0
      },
      "text/plain": [
       "eve_l2_spectra_2011052_07:   0%|          | 0.00/6.81M [00:00<?, ?B/s]"
      ]
     },
     "metadata": {},
     "output_type": "display_data"
    },
    {
     "data": {
      "application/vnd.jupyter.widget-view+json": {
       "model_id": "",
       "version_major": 2,
       "version_minor": 0
      },
      "text/plain": [
       "eve_l2_spectra_2011052_08:   0%|          | 0.00/6.81M [00:00<?, ?B/s]"
      ]
     },
     "metadata": {},
     "output_type": "display_data"
    },
    {
     "data": {
      "application/vnd.jupyter.widget-view+json": {
       "model_id": "",
       "version_major": 2,
       "version_minor": 0
      },
      "text/plain": [
       "eve_l2_spectra_2011052_09:   0%|          | 0.00/6.81M [00:00<?, ?B/s]"
      ]
     },
     "metadata": {},
     "output_type": "display_data"
    },
    {
     "data": {
      "application/vnd.jupyter.widget-view+json": {
       "model_id": "",
       "version_major": 2,
       "version_minor": 0
      },
      "text/plain": [
       "eve_l2_spectra_2011052_10:   0%|          | 0.00/6.81M [00:00<?, ?B/s]"
      ]
     },
     "metadata": {},
     "output_type": "display_data"
    },
    {
     "data": {
      "application/vnd.jupyter.widget-view+json": {
       "model_id": "",
       "version_major": 2,
       "version_minor": 0
      },
      "text/plain": [
       "eve_l2_spectra_2011052_11:   0%|          | 0.00/6.81M [00:00<?, ?B/s]"
      ]
     },
     "metadata": {},
     "output_type": "display_data"
    },
    {
     "data": {
      "application/vnd.jupyter.widget-view+json": {
       "model_id": "",
       "version_major": 2,
       "version_minor": 0
      },
      "text/plain": [
       "eve_l2_spectra_2011052_12:   0%|          | 0.00/6.81M [00:00<?, ?B/s]"
      ]
     },
     "metadata": {},
     "output_type": "display_data"
    },
    {
     "data": {
      "application/vnd.jupyter.widget-view+json": {
       "model_id": "",
       "version_major": 2,
       "version_minor": 0
      },
      "text/plain": [
       "eve_l2_spectra_2011052_13:   0%|          | 0.00/8.04M [00:00<?, ?B/s]"
      ]
     },
     "metadata": {},
     "output_type": "display_data"
    },
    {
     "data": {
      "application/vnd.jupyter.widget-view+json": {
       "model_id": "",
       "version_major": 2,
       "version_minor": 0
      },
      "text/plain": [
       "eve_l2_spectra_2011052_14:   0%|          | 0.00/20.4M [00:00<?, ?B/s]"
      ]
     },
     "metadata": {},
     "output_type": "display_data"
    },
    {
     "data": {
      "application/vnd.jupyter.widget-view+json": {
       "model_id": "",
       "version_major": 2,
       "version_minor": 0
      },
      "text/plain": [
       "eve_l2_spectra_2011052_15:   0%|          | 0.00/20.3M [00:00<?, ?B/s]"
      ]
     },
     "metadata": {},
     "output_type": "display_data"
    },
    {
     "data": {
      "application/vnd.jupyter.widget-view+json": {
       "model_id": "",
       "version_major": 2,
       "version_minor": 0
      },
      "text/plain": [
       "eve_l2_spectra_2011052_16:   0%|          | 0.00/19.1M [00:00<?, ?B/s]"
      ]
     },
     "metadata": {},
     "output_type": "display_data"
    },
    {
     "data": {
      "application/vnd.jupyter.widget-view+json": {
       "model_id": "",
       "version_major": 2,
       "version_minor": 0
      },
      "text/plain": [
       "eve_l2_spectra_2011052_17:   0%|          | 0.00/6.81M [00:00<?, ?B/s]"
      ]
     },
     "metadata": {},
     "output_type": "display_data"
    },
    {
     "data": {
      "application/vnd.jupyter.widget-view+json": {
       "model_id": "",
       "version_major": 2,
       "version_minor": 0
      },
      "text/plain": [
       "eve_l2_spectra_2011052_18:   0%|          | 0.00/6.81M [00:00<?, ?B/s]"
      ]
     },
     "metadata": {},
     "output_type": "display_data"
    },
    {
     "data": {
      "application/vnd.jupyter.widget-view+json": {
       "model_id": "",
       "version_major": 2,
       "version_minor": 0
      },
      "text/plain": [
       "eve_l2_spectra_2011052_19:   0%|          | 0.00/6.81M [00:00<?, ?B/s]"
      ]
     },
     "metadata": {},
     "output_type": "display_data"
    },
    {
     "data": {
      "application/vnd.jupyter.widget-view+json": {
       "model_id": "",
       "version_major": 2,
       "version_minor": 0
      },
      "text/plain": [
       "eve_l2_spectra_2011052_20:   0%|          | 0.00/6.81M [00:00<?, ?B/s]"
      ]
     },
     "metadata": {},
     "output_type": "display_data"
    },
    {
     "data": {
      "application/vnd.jupyter.widget-view+json": {
       "model_id": "",
       "version_major": 2,
       "version_minor": 0
      },
      "text/plain": [
       "eve_l2_spectra_2011052_21:   0%|          | 0.00/6.81M [00:00<?, ?B/s]"
      ]
     },
     "metadata": {},
     "output_type": "display_data"
    },
    {
     "data": {
      "application/vnd.jupyter.widget-view+json": {
       "model_id": "",
       "version_major": 2,
       "version_minor": 0
      },
      "text/plain": [
       "eve_l2_spectra_2011052_22:   0%|          | 0.00/6.81M [00:00<?, ?B/s]"
      ]
     },
     "metadata": {},
     "output_type": "display_data"
    },
    {
     "data": {
      "application/vnd.jupyter.widget-view+json": {
       "model_id": "",
       "version_major": 2,
       "version_minor": 0
      },
      "text/plain": [
       "eve_l2_spectra_2011052_23:   0%|          | 0.00/6.81M [00:00<?, ?B/s]"
      ]
     },
     "metadata": {},
     "output_type": "display_data"
    },
    {
     "data": {
      "application/vnd.jupyter.widget-view+json": {
       "model_id": "",
       "version_major": 2,
       "version_minor": 0
      },
      "text/plain": [
       "eve_l2_spectra_2011053_00:   0%|          | 0.00/6.81M [00:00<?, ?B/s]"
      ]
     },
     "metadata": {},
     "output_type": "display_data"
    },
    {
     "data": {
      "application/vnd.jupyter.widget-view+json": {
       "model_id": "",
       "version_major": 2,
       "version_minor": 0
      },
      "text/plain": [
       "eve_l2_spectra_2011053_01:   0%|          | 0.00/6.81M [00:00<?, ?B/s]"
      ]
     },
     "metadata": {},
     "output_type": "display_data"
    },
    {
     "data": {
      "application/vnd.jupyter.widget-view+json": {
       "model_id": "",
       "version_major": 2,
       "version_minor": 0
      },
      "text/plain": [
       "eve_l2_spectra_2011053_02:   0%|          | 0.00/6.81M [00:00<?, ?B/s]"
      ]
     },
     "metadata": {},
     "output_type": "display_data"
    },
    {
     "data": {
      "application/vnd.jupyter.widget-view+json": {
       "model_id": "",
       "version_major": 2,
       "version_minor": 0
      },
      "text/plain": [
       "eve_l2_spectra_2011053_03:   0%|          | 0.00/5.92M [00:00<?, ?B/s]"
      ]
     },
     "metadata": {},
     "output_type": "display_data"
    },
    {
     "data": {
      "application/vnd.jupyter.widget-view+json": {
       "model_id": "",
       "version_major": 2,
       "version_minor": 0
      },
      "text/plain": [
       "eve_l2_spectra_2011053_04:   0%|          | 0.00/6.81M [00:00<?, ?B/s]"
      ]
     },
     "metadata": {},
     "output_type": "display_data"
    },
    {
     "data": {
      "application/vnd.jupyter.widget-view+json": {
       "model_id": "",
       "version_major": 2,
       "version_minor": 0
      },
      "text/plain": [
       "eve_l2_spectra_2011053_05:   0%|          | 0.00/6.81M [00:00<?, ?B/s]"
      ]
     },
     "metadata": {},
     "output_type": "display_data"
    },
    {
     "data": {
      "application/vnd.jupyter.widget-view+json": {
       "model_id": "",
       "version_major": 2,
       "version_minor": 0
      },
      "text/plain": [
       "eve_l2_spectra_2011053_06:   0%|          | 0.00/6.81M [00:00<?, ?B/s]"
      ]
     },
     "metadata": {},
     "output_type": "display_data"
    },
    {
     "data": {
      "application/vnd.jupyter.widget-view+json": {
       "model_id": "",
       "version_major": 2,
       "version_minor": 0
      },
      "text/plain": [
       "eve_l2_spectra_2011053_07:   0%|          | 0.00/6.81M [00:00<?, ?B/s]"
      ]
     },
     "metadata": {},
     "output_type": "display_data"
    },
    {
     "data": {
      "application/vnd.jupyter.widget-view+json": {
       "model_id": "",
       "version_major": 2,
       "version_minor": 0
      },
      "text/plain": [
       "eve_l2_spectra_2011053_08:   0%|          | 0.00/6.81M [00:00<?, ?B/s]"
      ]
     },
     "metadata": {},
     "output_type": "display_data"
    },
    {
     "data": {
      "application/vnd.jupyter.widget-view+json": {
       "model_id": "",
       "version_major": 2,
       "version_minor": 0
      },
      "text/plain": [
       "eve_l2_spectra_2011053_09:   0%|          | 0.00/6.81M [00:00<?, ?B/s]"
      ]
     },
     "metadata": {},
     "output_type": "display_data"
    },
    {
     "data": {
      "application/vnd.jupyter.widget-view+json": {
       "model_id": "",
       "version_major": 2,
       "version_minor": 0
      },
      "text/plain": [
       "eve_l2_spectra_2011053_10:   0%|          | 0.00/6.81M [00:00<?, ?B/s]"
      ]
     },
     "metadata": {},
     "output_type": "display_data"
    },
    {
     "data": {
      "application/vnd.jupyter.widget-view+json": {
       "model_id": "",
       "version_major": 2,
       "version_minor": 0
      },
      "text/plain": [
       "eve_l2_spectra_2011053_11:   0%|          | 0.00/6.81M [00:00<?, ?B/s]"
      ]
     },
     "metadata": {},
     "output_type": "display_data"
    },
    {
     "data": {
      "application/vnd.jupyter.widget-view+json": {
       "model_id": "",
       "version_major": 2,
       "version_minor": 0
      },
      "text/plain": [
       "eve_l2_spectra_2011053_12:   0%|          | 0.00/6.81M [00:00<?, ?B/s]"
      ]
     },
     "metadata": {},
     "output_type": "display_data"
    },
    {
     "data": {
      "application/vnd.jupyter.widget-view+json": {
       "model_id": "",
       "version_major": 2,
       "version_minor": 0
      },
      "text/plain": [
       "eve_l2_spectra_2011053_13:   0%|          | 0.00/6.81M [00:00<?, ?B/s]"
      ]
     },
     "metadata": {},
     "output_type": "display_data"
    },
    {
     "data": {
      "application/vnd.jupyter.widget-view+json": {
       "model_id": "",
       "version_major": 2,
       "version_minor": 0
      },
      "text/plain": [
       "eve_l2_spectra_2011053_14:   0%|          | 0.00/6.81M [00:00<?, ?B/s]"
      ]
     },
     "metadata": {},
     "output_type": "display_data"
    },
    {
     "data": {
      "application/vnd.jupyter.widget-view+json": {
       "model_id": "",
       "version_major": 2,
       "version_minor": 0
      },
      "text/plain": [
       "eve_l2_spectra_2011053_15:   0%|          | 0.00/5.61M [00:00<?, ?B/s]"
      ]
     },
     "metadata": {},
     "output_type": "display_data"
    },
    {
     "data": {
      "application/vnd.jupyter.widget-view+json": {
       "model_id": "",
       "version_major": 2,
       "version_minor": 0
      },
      "text/plain": [
       "eve_l2_spectra_2011053_16:   0%|          | 0.00/6.77M [00:00<?, ?B/s]"
      ]
     },
     "metadata": {},
     "output_type": "display_data"
    },
    {
     "data": {
      "application/vnd.jupyter.widget-view+json": {
       "model_id": "",
       "version_major": 2,
       "version_minor": 0
      },
      "text/plain": [
       "eve_l2_spectra_2011053_17:   0%|          | 0.00/6.81M [00:00<?, ?B/s]"
      ]
     },
     "metadata": {},
     "output_type": "display_data"
    },
    {
     "data": {
      "application/vnd.jupyter.widget-view+json": {
       "model_id": "",
       "version_major": 2,
       "version_minor": 0
      },
      "text/plain": [
       "eve_l2_spectra_2011053_18:   0%|          | 0.00/6.81M [00:00<?, ?B/s]"
      ]
     },
     "metadata": {},
     "output_type": "display_data"
    },
    {
     "data": {
      "application/vnd.jupyter.widget-view+json": {
       "model_id": "",
       "version_major": 2,
       "version_minor": 0
      },
      "text/plain": [
       "eve_l2_spectra_2011053_19:   0%|          | 0.00/6.81M [00:00<?, ?B/s]"
      ]
     },
     "metadata": {},
     "output_type": "display_data"
    },
    {
     "data": {
      "application/vnd.jupyter.widget-view+json": {
       "model_id": "",
       "version_major": 2,
       "version_minor": 0
      },
      "text/plain": [
       "eve_l2_spectra_2011053_20:   0%|          | 0.00/6.81M [00:00<?, ?B/s]"
      ]
     },
     "metadata": {},
     "output_type": "display_data"
    },
    {
     "data": {
      "application/vnd.jupyter.widget-view+json": {
       "model_id": "",
       "version_major": 2,
       "version_minor": 0
      },
      "text/plain": [
       "eve_l2_spectra_2011053_21:   0%|          | 0.00/6.81M [00:00<?, ?B/s]"
      ]
     },
     "metadata": {},
     "output_type": "display_data"
    },
    {
     "data": {
      "application/vnd.jupyter.widget-view+json": {
       "model_id": "",
       "version_major": 2,
       "version_minor": 0
      },
      "text/plain": [
       "eve_l2_spectra_2011053_22:   0%|          | 0.00/6.81M [00:00<?, ?B/s]"
      ]
     },
     "metadata": {},
     "output_type": "display_data"
    },
    {
     "data": {
      "application/vnd.jupyter.widget-view+json": {
       "model_id": "",
       "version_major": 2,
       "version_minor": 0
      },
      "text/plain": [
       "eve_l2_spectra_2011053_23:   0%|          | 0.00/6.81M [00:00<?, ?B/s]"
      ]
     },
     "metadata": {},
     "output_type": "display_data"
    },
    {
     "data": {
      "application/vnd.jupyter.widget-view+json": {
       "model_id": "",
       "version_major": 2,
       "version_minor": 0
      },
      "text/plain": [
       "eve_l2_spectra_2011054_00:   0%|          | 0.00/6.81M [00:00<?, ?B/s]"
      ]
     },
     "metadata": {},
     "output_type": "display_data"
    },
    {
     "data": {
      "application/vnd.jupyter.widget-view+json": {
       "model_id": "",
       "version_major": 2,
       "version_minor": 0
      },
      "text/plain": [
       "eve_l2_spectra_2011054_01:   0%|          | 0.00/6.81M [00:00<?, ?B/s]"
      ]
     },
     "metadata": {},
     "output_type": "display_data"
    },
    {
     "data": {
      "application/vnd.jupyter.widget-view+json": {
       "model_id": "",
       "version_major": 2,
       "version_minor": 0
      },
      "text/plain": [
       "eve_l2_spectra_2011054_02:   0%|          | 0.00/6.81M [00:00<?, ?B/s]"
      ]
     },
     "metadata": {},
     "output_type": "display_data"
    },
    {
     "data": {
      "application/vnd.jupyter.widget-view+json": {
       "model_id": "",
       "version_major": 2,
       "version_minor": 0
      },
      "text/plain": [
       "eve_l2_spectra_2011054_03:   0%|          | 0.00/6.81M [00:00<?, ?B/s]"
      ]
     },
     "metadata": {},
     "output_type": "display_data"
    },
    {
     "data": {
      "application/vnd.jupyter.widget-view+json": {
       "model_id": "",
       "version_major": 2,
       "version_minor": 0
      },
      "text/plain": [
       "eve_l2_spectra_2011054_04:   0%|          | 0.00/6.81M [00:00<?, ?B/s]"
      ]
     },
     "metadata": {},
     "output_type": "display_data"
    },
    {
     "data": {
      "application/vnd.jupyter.widget-view+json": {
       "model_id": "",
       "version_major": 2,
       "version_minor": 0
      },
      "text/plain": [
       "eve_l2_spectra_2011054_05:   0%|          | 0.00/5.92M [00:00<?, ?B/s]"
      ]
     },
     "metadata": {},
     "output_type": "display_data"
    },
    {
     "data": {
      "application/vnd.jupyter.widget-view+json": {
       "model_id": "",
       "version_major": 2,
       "version_minor": 0
      },
      "text/plain": [
       "eve_l2_spectra_2011054_06:   0%|          | 0.00/6.81M [00:00<?, ?B/s]"
      ]
     },
     "metadata": {},
     "output_type": "display_data"
    },
    {
     "data": {
      "application/vnd.jupyter.widget-view+json": {
       "model_id": "",
       "version_major": 2,
       "version_minor": 0
      },
      "text/plain": [
       "eve_l2_spectra_2011054_07:   0%|          | 0.00/6.81M [00:00<?, ?B/s]"
      ]
     },
     "metadata": {},
     "output_type": "display_data"
    },
    {
     "data": {
      "application/vnd.jupyter.widget-view+json": {
       "model_id": "",
       "version_major": 2,
       "version_minor": 0
      },
      "text/plain": [
       "eve_l2_spectra_2011054_08:   0%|          | 0.00/6.81M [00:00<?, ?B/s]"
      ]
     },
     "metadata": {},
     "output_type": "display_data"
    },
    {
     "data": {
      "application/vnd.jupyter.widget-view+json": {
       "model_id": "",
       "version_major": 2,
       "version_minor": 0
      },
      "text/plain": [
       "eve_l2_spectra_2011054_09:   0%|          | 0.00/6.81M [00:00<?, ?B/s]"
      ]
     },
     "metadata": {},
     "output_type": "display_data"
    },
    {
     "data": {
      "application/vnd.jupyter.widget-view+json": {
       "model_id": "",
       "version_major": 2,
       "version_minor": 0
      },
      "text/plain": [
       "eve_l2_spectra_2011054_10:   0%|          | 0.00/6.81M [00:00<?, ?B/s]"
      ]
     },
     "metadata": {},
     "output_type": "display_data"
    },
    {
     "data": {
      "application/vnd.jupyter.widget-view+json": {
       "model_id": "",
       "version_major": 2,
       "version_minor": 0
      },
      "text/plain": [
       "eve_l2_spectra_2011054_11:   0%|          | 0.00/6.81M [00:00<?, ?B/s]"
      ]
     },
     "metadata": {},
     "output_type": "display_data"
    },
    {
     "data": {
      "application/vnd.jupyter.widget-view+json": {
       "model_id": "",
       "version_major": 2,
       "version_minor": 0
      },
      "text/plain": [
       "eve_l2_spectra_2011054_12:   0%|          | 0.00/6.81M [00:00<?, ?B/s]"
      ]
     },
     "metadata": {},
     "output_type": "display_data"
    },
    {
     "data": {
      "application/vnd.jupyter.widget-view+json": {
       "model_id": "",
       "version_major": 2,
       "version_minor": 0
      },
      "text/plain": [
       "eve_l2_spectra_2011054_13:   0%|          | 0.00/6.81M [00:00<?, ?B/s]"
      ]
     },
     "metadata": {},
     "output_type": "display_data"
    },
    {
     "data": {
      "application/vnd.jupyter.widget-view+json": {
       "model_id": "",
       "version_major": 2,
       "version_minor": 0
      },
      "text/plain": [
       "eve_l2_spectra_2011054_14:   0%|          | 0.00/6.81M [00:00<?, ?B/s]"
      ]
     },
     "metadata": {},
     "output_type": "display_data"
    },
    {
     "data": {
      "application/vnd.jupyter.widget-view+json": {
       "model_id": "",
       "version_major": 2,
       "version_minor": 0
      },
      "text/plain": [
       "eve_l2_spectra_2011054_15:   0%|          | 0.00/6.81M [00:00<?, ?B/s]"
      ]
     },
     "metadata": {},
     "output_type": "display_data"
    },
    {
     "data": {
      "application/vnd.jupyter.widget-view+json": {
       "model_id": "",
       "version_major": 2,
       "version_minor": 0
      },
      "text/plain": [
       "eve_l2_spectra_2011054_16:   0%|          | 0.00/6.81M [00:00<?, ?B/s]"
      ]
     },
     "metadata": {},
     "output_type": "display_data"
    },
    {
     "data": {
      "application/vnd.jupyter.widget-view+json": {
       "model_id": "",
       "version_major": 2,
       "version_minor": 0
      },
      "text/plain": [
       "eve_l2_spectra_2011054_17:   0%|          | 0.00/8.03M [00:00<?, ?B/s]"
      ]
     },
     "metadata": {},
     "output_type": "display_data"
    },
    {
     "data": {
      "application/vnd.jupyter.widget-view+json": {
       "model_id": "",
       "version_major": 2,
       "version_minor": 0
      },
      "text/plain": [
       "eve_l2_spectra_2011054_18:   0%|          | 0.00/20.4M [00:00<?, ?B/s]"
      ]
     },
     "metadata": {},
     "output_type": "display_data"
    },
    {
     "data": {
      "application/vnd.jupyter.widget-view+json": {
       "model_id": "",
       "version_major": 2,
       "version_minor": 0
      },
      "text/plain": [
       "eve_l2_spectra_2011054_19:   0%|          | 0.00/20.3M [00:00<?, ?B/s]"
      ]
     },
     "metadata": {},
     "output_type": "display_data"
    },
    {
     "data": {
      "application/vnd.jupyter.widget-view+json": {
       "model_id": "",
       "version_major": 2,
       "version_minor": 0
      },
      "text/plain": [
       "eve_l2_spectra_2011054_20:   0%|          | 0.00/19.1M [00:00<?, ?B/s]"
      ]
     },
     "metadata": {},
     "output_type": "display_data"
    },
    {
     "data": {
      "application/vnd.jupyter.widget-view+json": {
       "model_id": "",
       "version_major": 2,
       "version_minor": 0
      },
      "text/plain": [
       "eve_l2_spectra_2011054_21:   0%|          | 0.00/6.81M [00:00<?, ?B/s]"
      ]
     },
     "metadata": {},
     "output_type": "display_data"
    },
    {
     "data": {
      "application/vnd.jupyter.widget-view+json": {
       "model_id": "",
       "version_major": 2,
       "version_minor": 0
      },
      "text/plain": [
       "eve_l2_spectra_2011054_22:   0%|          | 0.00/6.81M [00:00<?, ?B/s]"
      ]
     },
     "metadata": {},
     "output_type": "display_data"
    },
    {
     "data": {
      "application/vnd.jupyter.widget-view+json": {
       "model_id": "",
       "version_major": 2,
       "version_minor": 0
      },
      "text/plain": [
       "eve_l2_spectra_2011054_23:   0%|          | 0.00/6.81M [00:00<?, ?B/s]"
      ]
     },
     "metadata": {},
     "output_type": "display_data"
    },
    {
     "data": {
      "application/vnd.jupyter.widget-view+json": {
       "model_id": "",
       "version_major": 2,
       "version_minor": 0
      },
      "text/plain": [
       "eve_l2_spectra_2011055_00:   0%|          | 0.00/6.81M [00:00<?, ?B/s]"
      ]
     },
     "metadata": {},
     "output_type": "display_data"
    },
    {
     "data": {
      "application/vnd.jupyter.widget-view+json": {
       "model_id": "",
       "version_major": 2,
       "version_minor": 0
      },
      "text/plain": [
       "eve_l2_spectra_2011055_01:   0%|          | 0.00/6.81M [00:00<?, ?B/s]"
      ]
     },
     "metadata": {},
     "output_type": "display_data"
    },
    {
     "data": {
      "application/vnd.jupyter.widget-view+json": {
       "model_id": "",
       "version_major": 2,
       "version_minor": 0
      },
      "text/plain": [
       "eve_l2_spectra_2011055_02:   0%|          | 0.00/6.81M [00:00<?, ?B/s]"
      ]
     },
     "metadata": {},
     "output_type": "display_data"
    },
    {
     "data": {
      "application/vnd.jupyter.widget-view+json": {
       "model_id": "",
       "version_major": 2,
       "version_minor": 0
      },
      "text/plain": [
       "eve_l2_spectra_2011055_03:   0%|          | 0.00/6.81M [00:00<?, ?B/s]"
      ]
     },
     "metadata": {},
     "output_type": "display_data"
    },
    {
     "data": {
      "application/vnd.jupyter.widget-view+json": {
       "model_id": "",
       "version_major": 2,
       "version_minor": 0
      },
      "text/plain": [
       "eve_l2_spectra_2011055_04:   0%|          | 0.00/6.81M [00:00<?, ?B/s]"
      ]
     },
     "metadata": {},
     "output_type": "display_data"
    },
    {
     "data": {
      "application/vnd.jupyter.widget-view+json": {
       "model_id": "",
       "version_major": 2,
       "version_minor": 0
      },
      "text/plain": [
       "eve_l2_spectra_2011055_05:   0%|          | 0.00/6.81M [00:00<?, ?B/s]"
      ]
     },
     "metadata": {},
     "output_type": "display_data"
    },
    {
     "data": {
      "application/vnd.jupyter.widget-view+json": {
       "model_id": "",
       "version_major": 2,
       "version_minor": 0
      },
      "text/plain": [
       "eve_l2_spectra_2011055_06:   0%|          | 0.00/6.81M [00:00<?, ?B/s]"
      ]
     },
     "metadata": {},
     "output_type": "display_data"
    },
    {
     "data": {
      "application/vnd.jupyter.widget-view+json": {
       "model_id": "",
       "version_major": 2,
       "version_minor": 0
      },
      "text/plain": [
       "eve_l2_spectra_2011055_07:   0%|          | 0.00/5.90M [00:00<?, ?B/s]"
      ]
     },
     "metadata": {},
     "output_type": "display_data"
    },
    {
     "data": {
      "application/vnd.jupyter.widget-view+json": {
       "model_id": "",
       "version_major": 2,
       "version_minor": 0
      },
      "text/plain": [
       "eve_l2_spectra_2011055_08:   0%|          | 0.00/6.80M [00:00<?, ?B/s]"
      ]
     },
     "metadata": {},
     "output_type": "display_data"
    },
    {
     "data": {
      "application/vnd.jupyter.widget-view+json": {
       "model_id": "",
       "version_major": 2,
       "version_minor": 0
      },
      "text/plain": [
       "eve_l2_spectra_2011055_09:   0%|          | 0.00/6.81M [00:00<?, ?B/s]"
      ]
     },
     "metadata": {},
     "output_type": "display_data"
    },
    {
     "data": {
      "application/vnd.jupyter.widget-view+json": {
       "model_id": "",
       "version_major": 2,
       "version_minor": 0
      },
      "text/plain": [
       "eve_l2_spectra_2011055_10:   0%|          | 0.00/6.81M [00:00<?, ?B/s]"
      ]
     },
     "metadata": {},
     "output_type": "display_data"
    },
    {
     "data": {
      "application/vnd.jupyter.widget-view+json": {
       "model_id": "",
       "version_major": 2,
       "version_minor": 0
      },
      "text/plain": [
       "eve_l2_spectra_2011055_11:   0%|          | 0.00/6.81M [00:00<?, ?B/s]"
      ]
     },
     "metadata": {},
     "output_type": "display_data"
    },
    {
     "data": {
      "application/vnd.jupyter.widget-view+json": {
       "model_id": "",
       "version_major": 2,
       "version_minor": 0
      },
      "text/plain": [
       "eve_l2_spectra_2011055_12:   0%|          | 0.00/6.81M [00:00<?, ?B/s]"
      ]
     },
     "metadata": {},
     "output_type": "display_data"
    },
    {
     "data": {
      "application/vnd.jupyter.widget-view+json": {
       "model_id": "",
       "version_major": 2,
       "version_minor": 0
      },
      "text/plain": [
       "eve_l2_spectra_2011055_13:   0%|          | 0.00/6.81M [00:00<?, ?B/s]"
      ]
     },
     "metadata": {},
     "output_type": "display_data"
    },
    {
     "data": {
      "application/vnd.jupyter.widget-view+json": {
       "model_id": "",
       "version_major": 2,
       "version_minor": 0
      },
      "text/plain": [
       "eve_l2_spectra_2011055_14:   0%|          | 0.00/6.81M [00:00<?, ?B/s]"
      ]
     },
     "metadata": {},
     "output_type": "display_data"
    },
    {
     "data": {
      "application/vnd.jupyter.widget-view+json": {
       "model_id": "",
       "version_major": 2,
       "version_minor": 0
      },
      "text/plain": [
       "eve_l2_spectra_2011055_15:   0%|          | 0.00/6.81M [00:00<?, ?B/s]"
      ]
     },
     "metadata": {},
     "output_type": "display_data"
    },
    {
     "data": {
      "application/vnd.jupyter.widget-view+json": {
       "model_id": "",
       "version_major": 2,
       "version_minor": 0
      },
      "text/plain": [
       "eve_l2_spectra_2011055_16:   0%|          | 0.00/6.81M [00:00<?, ?B/s]"
      ]
     },
     "metadata": {},
     "output_type": "display_data"
    },
    {
     "data": {
      "application/vnd.jupyter.widget-view+json": {
       "model_id": "",
       "version_major": 2,
       "version_minor": 0
      },
      "text/plain": [
       "eve_l2_spectra_2011055_17:   0%|          | 0.00/8.03M [00:00<?, ?B/s]"
      ]
     },
     "metadata": {},
     "output_type": "display_data"
    },
    {
     "data": {
      "application/vnd.jupyter.widget-view+json": {
       "model_id": "20bdce67197e4af3b62b258ca2651632",
       "version_major": 2,
       "version_minor": 0
      },
      "text/plain": [
       "eve_l2_spectra_2011055_18:   0%|          | 0.00/20.4M [00:00<?, ?B/s]"
      ]
     },
     "metadata": {},
     "output_type": "display_data"
    },
    {
     "data": {
      "application/vnd.jupyter.widget-view+json": {
       "model_id": "",
       "version_major": 2,
       "version_minor": 0
      },
      "text/plain": [
       "eve_l2_spectra_2011055_19:   0%|          | 0.00/20.3M [00:00<?, ?B/s]"
      ]
     },
     "metadata": {},
     "output_type": "display_data"
    },
    {
     "data": {
      "application/vnd.jupyter.widget-view+json": {
       "model_id": "",
       "version_major": 2,
       "version_minor": 0
      },
      "text/plain": [
       "eve_l2_spectra_2011055_20:   0%|          | 0.00/19.1M [00:00<?, ?B/s]"
      ]
     },
     "metadata": {},
     "output_type": "display_data"
    },
    {
     "data": {
      "application/vnd.jupyter.widget-view+json": {
       "model_id": "",
       "version_major": 2,
       "version_minor": 0
      },
      "text/plain": [
       "eve_l2_spectra_2011055_21:   0%|          | 0.00/6.81M [00:00<?, ?B/s]"
      ]
     },
     "metadata": {},
     "output_type": "display_data"
    },
    {
     "data": {
      "application/vnd.jupyter.widget-view+json": {
       "model_id": "",
       "version_major": 2,
       "version_minor": 0
      },
      "text/plain": [
       "eve_l2_spectra_2011055_22:   0%|          | 0.00/6.81M [00:00<?, ?B/s]"
      ]
     },
     "metadata": {},
     "output_type": "display_data"
    },
    {
     "data": {
      "application/vnd.jupyter.widget-view+json": {
       "model_id": "",
       "version_major": 2,
       "version_minor": 0
      },
      "text/plain": [
       "eve_l2_spectra_2011055_23:   0%|          | 0.00/6.81M [00:00<?, ?B/s]"
      ]
     },
     "metadata": {},
     "output_type": "display_data"
    },
    {
     "data": {
      "application/vnd.jupyter.widget-view+json": {
       "model_id": "",
       "version_major": 2,
       "version_minor": 0
      },
      "text/plain": [
       "eve_l2_spectra_2011056_00:   0%|          | 0.00/6.81M [00:00<?, ?B/s]"
      ]
     },
     "metadata": {},
     "output_type": "display_data"
    },
    {
     "data": {
      "application/vnd.jupyter.widget-view+json": {
       "model_id": "",
       "version_major": 2,
       "version_minor": 0
      },
      "text/plain": [
       "eve_l2_spectra_2011056_01:   0%|          | 0.00/6.81M [00:00<?, ?B/s]"
      ]
     },
     "metadata": {},
     "output_type": "display_data"
    },
    {
     "data": {
      "application/vnd.jupyter.widget-view+json": {
       "model_id": "",
       "version_major": 2,
       "version_minor": 0
      },
      "text/plain": [
       "eve_l2_spectra_2011056_02:   0%|          | 0.00/6.81M [00:00<?, ?B/s]"
      ]
     },
     "metadata": {},
     "output_type": "display_data"
    },
    {
     "data": {
      "application/vnd.jupyter.widget-view+json": {
       "model_id": "",
       "version_major": 2,
       "version_minor": 0
      },
      "text/plain": [
       "eve_l2_spectra_2011056_03:   0%|          | 0.00/6.81M [00:00<?, ?B/s]"
      ]
     },
     "metadata": {},
     "output_type": "display_data"
    },
    {
     "data": {
      "application/vnd.jupyter.widget-view+json": {
       "model_id": "",
       "version_major": 2,
       "version_minor": 0
      },
      "text/plain": [
       "eve_l2_spectra_2011056_04:   0%|          | 0.00/6.81M [00:00<?, ?B/s]"
      ]
     },
     "metadata": {},
     "output_type": "display_data"
    },
    {
     "data": {
      "application/vnd.jupyter.widget-view+json": {
       "model_id": "",
       "version_major": 2,
       "version_minor": 0
      },
      "text/plain": [
       "eve_l2_spectra_2011056_05:   0%|          | 0.00/6.80M [00:00<?, ?B/s]"
      ]
     },
     "metadata": {},
     "output_type": "display_data"
    },
    {
     "data": {
      "application/vnd.jupyter.widget-view+json": {
       "model_id": "",
       "version_major": 2,
       "version_minor": 0
      },
      "text/plain": [
       "eve_l2_spectra_2011056_06:   0%|          | 0.00/6.81M [00:00<?, ?B/s]"
      ]
     },
     "metadata": {},
     "output_type": "display_data"
    },
    {
     "data": {
      "application/vnd.jupyter.widget-view+json": {
       "model_id": "",
       "version_major": 2,
       "version_minor": 0
      },
      "text/plain": [
       "eve_l2_spectra_2011056_07:   0%|          | 0.00/6.81M [00:00<?, ?B/s]"
      ]
     },
     "metadata": {},
     "output_type": "display_data"
    },
    {
     "data": {
      "application/vnd.jupyter.widget-view+json": {
       "model_id": "",
       "version_major": 2,
       "version_minor": 0
      },
      "text/plain": [
       "eve_l2_spectra_2011056_08:   0%|          | 0.00/6.81M [00:00<?, ?B/s]"
      ]
     },
     "metadata": {},
     "output_type": "display_data"
    },
    {
     "data": {
      "application/vnd.jupyter.widget-view+json": {
       "model_id": "",
       "version_major": 2,
       "version_minor": 0
      },
      "text/plain": [
       "eve_l2_spectra_2011056_09:   0%|          | 0.00/5.90M [00:00<?, ?B/s]"
      ]
     },
     "metadata": {},
     "output_type": "display_data"
    },
    {
     "data": {
      "application/vnd.jupyter.widget-view+json": {
       "model_id": "",
       "version_major": 2,
       "version_minor": 0
      },
      "text/plain": [
       "eve_l2_spectra_2011056_10:   0%|          | 0.00/6.81M [00:00<?, ?B/s]"
      ]
     },
     "metadata": {},
     "output_type": "display_data"
    },
    {
     "data": {
      "application/vnd.jupyter.widget-view+json": {
       "model_id": "",
       "version_major": 2,
       "version_minor": 0
      },
      "text/plain": [
       "eve_l2_spectra_2011056_11:   0%|          | 0.00/6.81M [00:00<?, ?B/s]"
      ]
     },
     "metadata": {},
     "output_type": "display_data"
    },
    {
     "data": {
      "application/vnd.jupyter.widget-view+json": {
       "model_id": "",
       "version_major": 2,
       "version_minor": 0
      },
      "text/plain": [
       "eve_l2_spectra_2011056_12:   0%|          | 0.00/6.81M [00:00<?, ?B/s]"
      ]
     },
     "metadata": {},
     "output_type": "display_data"
    },
    {
     "data": {
      "application/vnd.jupyter.widget-view+json": {
       "model_id": "",
       "version_major": 2,
       "version_minor": 0
      },
      "text/plain": [
       "eve_l2_spectra_2011056_13:   0%|          | 0.00/6.81M [00:00<?, ?B/s]"
      ]
     },
     "metadata": {},
     "output_type": "display_data"
    },
    {
     "data": {
      "application/vnd.jupyter.widget-view+json": {
       "model_id": "",
       "version_major": 2,
       "version_minor": 0
      },
      "text/plain": [
       "eve_l2_spectra_2011056_14:   0%|          | 0.00/6.81M [00:00<?, ?B/s]"
      ]
     },
     "metadata": {},
     "output_type": "display_data"
    },
    {
     "data": {
      "application/vnd.jupyter.widget-view+json": {
       "model_id": "",
       "version_major": 2,
       "version_minor": 0
      },
      "text/plain": [
       "eve_l2_spectra_2011056_15:   0%|          | 0.00/6.81M [00:00<?, ?B/s]"
      ]
     },
     "metadata": {},
     "output_type": "display_data"
    },
    {
     "data": {
      "application/vnd.jupyter.widget-view+json": {
       "model_id": "",
       "version_major": 2,
       "version_minor": 0
      },
      "text/plain": [
       "eve_l2_spectra_2011056_16:   0%|          | 0.00/6.81M [00:00<?, ?B/s]"
      ]
     },
     "metadata": {},
     "output_type": "display_data"
    },
    {
     "data": {
      "application/vnd.jupyter.widget-view+json": {
       "model_id": "",
       "version_major": 2,
       "version_minor": 0
      },
      "text/plain": [
       "eve_l2_spectra_2011056_17:   0%|          | 0.00/8.03M [00:00<?, ?B/s]"
      ]
     },
     "metadata": {},
     "output_type": "display_data"
    },
    {
     "data": {
      "application/vnd.jupyter.widget-view+json": {
       "model_id": "",
       "version_major": 2,
       "version_minor": 0
      },
      "text/plain": [
       "eve_l2_spectra_2011056_18:   0%|          | 0.00/20.4M [00:00<?, ?B/s]"
      ]
     },
     "metadata": {},
     "output_type": "display_data"
    },
    {
     "data": {
      "application/vnd.jupyter.widget-view+json": {
       "model_id": "",
       "version_major": 2,
       "version_minor": 0
      },
      "text/plain": [
       "eve_l2_spectra_2011056_19:   0%|          | 0.00/20.3M [00:00<?, ?B/s]"
      ]
     },
     "metadata": {},
     "output_type": "display_data"
    },
    {
     "data": {
      "application/vnd.jupyter.widget-view+json": {
       "model_id": "",
       "version_major": 2,
       "version_minor": 0
      },
      "text/plain": [
       "eve_l2_spectra_2011056_20:   0%|          | 0.00/19.1M [00:00<?, ?B/s]"
      ]
     },
     "metadata": {},
     "output_type": "display_data"
    },
    {
     "data": {
      "application/vnd.jupyter.widget-view+json": {
       "model_id": "",
       "version_major": 2,
       "version_minor": 0
      },
      "text/plain": [
       "eve_l2_spectra_2011056_21:   0%|          | 0.00/6.81M [00:00<?, ?B/s]"
      ]
     },
     "metadata": {},
     "output_type": "display_data"
    },
    {
     "data": {
      "application/vnd.jupyter.widget-view+json": {
       "model_id": "",
       "version_major": 2,
       "version_minor": 0
      },
      "text/plain": [
       "eve_l2_spectra_2011056_22:   0%|          | 0.00/6.81M [00:00<?, ?B/s]"
      ]
     },
     "metadata": {},
     "output_type": "display_data"
    },
    {
     "data": {
      "application/vnd.jupyter.widget-view+json": {
       "model_id": "",
       "version_major": 2,
       "version_minor": 0
      },
      "text/plain": [
       "eve_l2_spectra_2011056_23:   0%|          | 0.00/6.81M [00:00<?, ?B/s]"
      ]
     },
     "metadata": {},
     "output_type": "display_data"
    },
    {
     "data": {
      "application/vnd.jupyter.widget-view+json": {
       "model_id": "",
       "version_major": 2,
       "version_minor": 0
      },
      "text/plain": [
       "eve_l2_spectra_2011057_00:   0%|          | 0.00/6.81M [00:00<?, ?B/s]"
      ]
     },
     "metadata": {},
     "output_type": "display_data"
    },
    {
     "data": {
      "application/vnd.jupyter.widget-view+json": {
       "model_id": "",
       "version_major": 2,
       "version_minor": 0
      },
      "text/plain": [
       "eve_l2_spectra_2011057_01:   0%|          | 0.00/6.81M [00:00<?, ?B/s]"
      ]
     },
     "metadata": {},
     "output_type": "display_data"
    },
    {
     "data": {
      "application/vnd.jupyter.widget-view+json": {
       "model_id": "",
       "version_major": 2,
       "version_minor": 0
      },
      "text/plain": [
       "eve_l2_spectra_2011057_02:   0%|          | 0.00/6.81M [00:00<?, ?B/s]"
      ]
     },
     "metadata": {},
     "output_type": "display_data"
    },
    {
     "data": {
      "application/vnd.jupyter.widget-view+json": {
       "model_id": "",
       "version_major": 2,
       "version_minor": 0
      },
      "text/plain": [
       "eve_l2_spectra_2011057_03:   0%|          | 0.00/6.81M [00:00<?, ?B/s]"
      ]
     },
     "metadata": {},
     "output_type": "display_data"
    },
    {
     "data": {
      "application/vnd.jupyter.widget-view+json": {
       "model_id": "",
       "version_major": 2,
       "version_minor": 0
      },
      "text/plain": [
       "eve_l2_spectra_2011057_04:   0%|          | 0.00/6.81M [00:00<?, ?B/s]"
      ]
     },
     "metadata": {},
     "output_type": "display_data"
    },
    {
     "data": {
      "application/vnd.jupyter.widget-view+json": {
       "model_id": "",
       "version_major": 2,
       "version_minor": 0
      },
      "text/plain": [
       "eve_l2_spectra_2011057_05:   0%|          | 0.00/6.81M [00:00<?, ?B/s]"
      ]
     },
     "metadata": {},
     "output_type": "display_data"
    },
    {
     "data": {
      "application/vnd.jupyter.widget-view+json": {
       "model_id": "",
       "version_major": 2,
       "version_minor": 0
      },
      "text/plain": [
       "eve_l2_spectra_2011057_06:   0%|          | 0.00/6.81M [00:00<?, ?B/s]"
      ]
     },
     "metadata": {},
     "output_type": "display_data"
    },
    {
     "data": {
      "application/vnd.jupyter.widget-view+json": {
       "model_id": "",
       "version_major": 2,
       "version_minor": 0
      },
      "text/plain": [
       "eve_l2_spectra_2011057_07:   0%|          | 0.00/6.81M [00:00<?, ?B/s]"
      ]
     },
     "metadata": {},
     "output_type": "display_data"
    },
    {
     "data": {
      "application/vnd.jupyter.widget-view+json": {
       "model_id": "",
       "version_major": 2,
       "version_minor": 0
      },
      "text/plain": [
       "eve_l2_spectra_2011057_08:   0%|          | 0.00/6.81M [00:00<?, ?B/s]"
      ]
     },
     "metadata": {},
     "output_type": "display_data"
    },
    {
     "data": {
      "application/vnd.jupyter.widget-view+json": {
       "model_id": "",
       "version_major": 2,
       "version_minor": 0
      },
      "text/plain": [
       "eve_l2_spectra_2011057_09:   0%|          | 0.00/6.81M [00:00<?, ?B/s]"
      ]
     },
     "metadata": {},
     "output_type": "display_data"
    },
    {
     "data": {
      "application/vnd.jupyter.widget-view+json": {
       "model_id": "",
       "version_major": 2,
       "version_minor": 0
      },
      "text/plain": [
       "eve_l2_spectra_2011057_10:   0%|          | 0.00/6.81M [00:00<?, ?B/s]"
      ]
     },
     "metadata": {},
     "output_type": "display_data"
    },
    {
     "data": {
      "application/vnd.jupyter.widget-view+json": {
       "model_id": "",
       "version_major": 2,
       "version_minor": 0
      },
      "text/plain": [
       "eve_l2_spectra_2011057_11:   0%|          | 0.00/5.90M [00:00<?, ?B/s]"
      ]
     },
     "metadata": {},
     "output_type": "display_data"
    },
    {
     "data": {
      "application/vnd.jupyter.widget-view+json": {
       "model_id": "",
       "version_major": 2,
       "version_minor": 0
      },
      "text/plain": [
       "eve_l2_spectra_2011057_12:   0%|          | 0.00/6.81M [00:00<?, ?B/s]"
      ]
     },
     "metadata": {},
     "output_type": "display_data"
    },
    {
     "data": {
      "application/vnd.jupyter.widget-view+json": {
       "model_id": "",
       "version_major": 2,
       "version_minor": 0
      },
      "text/plain": [
       "eve_l2_spectra_2011057_13:   0%|          | 0.00/6.81M [00:00<?, ?B/s]"
      ]
     },
     "metadata": {},
     "output_type": "display_data"
    },
    {
     "data": {
      "application/vnd.jupyter.widget-view+json": {
       "model_id": "",
       "version_major": 2,
       "version_minor": 0
      },
      "text/plain": [
       "eve_l2_spectra_2011057_14:   0%|          | 0.00/6.81M [00:00<?, ?B/s]"
      ]
     },
     "metadata": {},
     "output_type": "display_data"
    },
    {
     "data": {
      "application/vnd.jupyter.widget-view+json": {
       "model_id": "",
       "version_major": 2,
       "version_minor": 0
      },
      "text/plain": [
       "eve_l2_spectra_2011057_15:   0%|          | 0.00/6.81M [00:00<?, ?B/s]"
      ]
     },
     "metadata": {},
     "output_type": "display_data"
    },
    {
     "data": {
      "application/vnd.jupyter.widget-view+json": {
       "model_id": "",
       "version_major": 2,
       "version_minor": 0
      },
      "text/plain": [
       "eve_l2_spectra_2011057_16:   0%|          | 0.00/6.81M [00:00<?, ?B/s]"
      ]
     },
     "metadata": {},
     "output_type": "display_data"
    },
    {
     "data": {
      "application/vnd.jupyter.widget-view+json": {
       "model_id": "",
       "version_major": 2,
       "version_minor": 0
      },
      "text/plain": [
       "eve_l2_spectra_2011057_17:   0%|          | 0.00/8.04M [00:00<?, ?B/s]"
      ]
     },
     "metadata": {},
     "output_type": "display_data"
    },
    {
     "data": {
      "application/vnd.jupyter.widget-view+json": {
       "model_id": "",
       "version_major": 2,
       "version_minor": 0
      },
      "text/plain": [
       "eve_l2_spectra_2011057_18:   0%|          | 0.00/20.3M [00:00<?, ?B/s]"
      ]
     },
     "metadata": {},
     "output_type": "display_data"
    },
    {
     "data": {
      "application/vnd.jupyter.widget-view+json": {
       "model_id": "",
       "version_major": 2,
       "version_minor": 0
      },
      "text/plain": [
       "eve_l2_spectra_2011057_19:   0%|          | 0.00/20.4M [00:00<?, ?B/s]"
      ]
     },
     "metadata": {},
     "output_type": "display_data"
    },
    {
     "data": {
      "application/vnd.jupyter.widget-view+json": {
       "model_id": "",
       "version_major": 2,
       "version_minor": 0
      },
      "text/plain": [
       "eve_l2_spectra_2011057_20:   0%|          | 0.00/19.1M [00:00<?, ?B/s]"
      ]
     },
     "metadata": {},
     "output_type": "display_data"
    },
    {
     "data": {
      "application/vnd.jupyter.widget-view+json": {
       "model_id": "",
       "version_major": 2,
       "version_minor": 0
      },
      "text/plain": [
       "eve_l2_spectra_2011057_21:   0%|          | 0.00/6.81M [00:00<?, ?B/s]"
      ]
     },
     "metadata": {},
     "output_type": "display_data"
    },
    {
     "data": {
      "application/vnd.jupyter.widget-view+json": {
       "model_id": "",
       "version_major": 2,
       "version_minor": 0
      },
      "text/plain": [
       "eve_l2_spectra_2011057_22:   0%|          | 0.00/6.81M [00:00<?, ?B/s]"
      ]
     },
     "metadata": {},
     "output_type": "display_data"
    },
    {
     "data": {
      "application/vnd.jupyter.widget-view+json": {
       "model_id": "",
       "version_major": 2,
       "version_minor": 0
      },
      "text/plain": [
       "eve_l2_spectra_2011057_23:   0%|          | 0.00/6.81M [00:00<?, ?B/s]"
      ]
     },
     "metadata": {},
     "output_type": "display_data"
    },
    {
     "data": {
      "application/vnd.jupyter.widget-view+json": {
       "model_id": "",
       "version_major": 2,
       "version_minor": 0
      },
      "text/plain": [
       "eve_l2_spectra_2011058_00:   0%|          | 0.00/6.81M [00:00<?, ?B/s]"
      ]
     },
     "metadata": {},
     "output_type": "display_data"
    },
    {
     "data": {
      "application/vnd.jupyter.widget-view+json": {
       "model_id": "",
       "version_major": 2,
       "version_minor": 0
      },
      "text/plain": [
       "eve_l2_spectra_2011058_01:   0%|          | 0.00/6.81M [00:00<?, ?B/s]"
      ]
     },
     "metadata": {},
     "output_type": "display_data"
    },
    {
     "data": {
      "application/vnd.jupyter.widget-view+json": {
       "model_id": "",
       "version_major": 2,
       "version_minor": 0
      },
      "text/plain": [
       "eve_l2_spectra_2011058_02:   0%|          | 0.00/6.81M [00:00<?, ?B/s]"
      ]
     },
     "metadata": {},
     "output_type": "display_data"
    },
    {
     "data": {
      "application/vnd.jupyter.widget-view+json": {
       "model_id": "",
       "version_major": 2,
       "version_minor": 0
      },
      "text/plain": [
       "eve_l2_spectra_2011058_03:   0%|          | 0.00/6.81M [00:00<?, ?B/s]"
      ]
     },
     "metadata": {},
     "output_type": "display_data"
    },
    {
     "data": {
      "application/vnd.jupyter.widget-view+json": {
       "model_id": "",
       "version_major": 2,
       "version_minor": 0
      },
      "text/plain": [
       "eve_l2_spectra_2011058_04:   0%|          | 0.00/6.81M [00:00<?, ?B/s]"
      ]
     },
     "metadata": {},
     "output_type": "display_data"
    },
    {
     "data": {
      "application/vnd.jupyter.widget-view+json": {
       "model_id": "",
       "version_major": 2,
       "version_minor": 0
      },
      "text/plain": [
       "eve_l2_spectra_2011058_05:   0%|          | 0.00/6.81M [00:00<?, ?B/s]"
      ]
     },
     "metadata": {},
     "output_type": "display_data"
    },
    {
     "data": {
      "application/vnd.jupyter.widget-view+json": {
       "model_id": "",
       "version_major": 2,
       "version_minor": 0
      },
      "text/plain": [
       "eve_l2_spectra_2011058_06:   0%|          | 0.00/6.81M [00:00<?, ?B/s]"
      ]
     },
     "metadata": {},
     "output_type": "display_data"
    },
    {
     "data": {
      "application/vnd.jupyter.widget-view+json": {
       "model_id": "",
       "version_major": 2,
       "version_minor": 0
      },
      "text/plain": [
       "eve_l2_spectra_2011058_07:   0%|          | 0.00/6.81M [00:00<?, ?B/s]"
      ]
     },
     "metadata": {},
     "output_type": "display_data"
    },
    {
     "data": {
      "application/vnd.jupyter.widget-view+json": {
       "model_id": "",
       "version_major": 2,
       "version_minor": 0
      },
      "text/plain": [
       "eve_l2_spectra_2011058_08:   0%|          | 0.00/6.81M [00:00<?, ?B/s]"
      ]
     },
     "metadata": {},
     "output_type": "display_data"
    },
    {
     "data": {
      "application/vnd.jupyter.widget-view+json": {
       "model_id": "",
       "version_major": 2,
       "version_minor": 0
      },
      "text/plain": [
       "eve_l2_spectra_2011058_09:   0%|          | 0.00/6.81M [00:00<?, ?B/s]"
      ]
     },
     "metadata": {},
     "output_type": "display_data"
    },
    {
     "data": {
      "application/vnd.jupyter.widget-view+json": {
       "model_id": "",
       "version_major": 2,
       "version_minor": 0
      },
      "text/plain": [
       "eve_l2_spectra_2011058_10:   0%|          | 0.00/6.81M [00:00<?, ?B/s]"
      ]
     },
     "metadata": {},
     "output_type": "display_data"
    },
    {
     "data": {
      "application/vnd.jupyter.widget-view+json": {
       "model_id": "",
       "version_major": 2,
       "version_minor": 0
      },
      "text/plain": [
       "eve_l2_spectra_2011058_11:   0%|          | 0.00/6.81M [00:00<?, ?B/s]"
      ]
     },
     "metadata": {},
     "output_type": "display_data"
    },
    {
     "data": {
      "application/vnd.jupyter.widget-view+json": {
       "model_id": "",
       "version_major": 2,
       "version_minor": 0
      },
      "text/plain": [
       "eve_l2_spectra_2011058_12:   0%|          | 0.00/6.81M [00:00<?, ?B/s]"
      ]
     },
     "metadata": {},
     "output_type": "display_data"
    },
    {
     "data": {
      "application/vnd.jupyter.widget-view+json": {
       "model_id": "",
       "version_major": 2,
       "version_minor": 0
      },
      "text/plain": [
       "eve_l2_spectra_2011058_13:   0%|          | 0.00/4.87M [00:00<?, ?B/s]"
      ]
     },
     "metadata": {},
     "output_type": "display_data"
    },
    {
     "data": {
      "application/vnd.jupyter.widget-view+json": {
       "model_id": "",
       "version_major": 2,
       "version_minor": 0
      },
      "text/plain": [
       "eve_l2_spectra_2011058_14:   0%|          | 0.00/6.81M [00:00<?, ?B/s]"
      ]
     },
     "metadata": {},
     "output_type": "display_data"
    },
    {
     "data": {
      "application/vnd.jupyter.widget-view+json": {
       "model_id": "",
       "version_major": 2,
       "version_minor": 0
      },
      "text/plain": [
       "eve_l2_spectra_2011058_15:   0%|          | 0.00/6.81M [00:00<?, ?B/s]"
      ]
     },
     "metadata": {},
     "output_type": "display_data"
    },
    {
     "data": {
      "application/vnd.jupyter.widget-view+json": {
       "model_id": "",
       "version_major": 2,
       "version_minor": 0
      },
      "text/plain": [
       "eve_l2_spectra_2011058_16:   0%|          | 0.00/6.81M [00:00<?, ?B/s]"
      ]
     },
     "metadata": {},
     "output_type": "display_data"
    },
    {
     "data": {
      "application/vnd.jupyter.widget-view+json": {
       "model_id": "",
       "version_major": 2,
       "version_minor": 0
      },
      "text/plain": [
       "eve_l2_spectra_2011058_17:   0%|          | 0.00/8.04M [00:00<?, ?B/s]"
      ]
     },
     "metadata": {},
     "output_type": "display_data"
    },
    {
     "data": {
      "application/vnd.jupyter.widget-view+json": {
       "model_id": "",
       "version_major": 2,
       "version_minor": 0
      },
      "text/plain": [
       "eve_l2_spectra_2011058_18:   0%|          | 0.00/20.3M [00:00<?, ?B/s]"
      ]
     },
     "metadata": {},
     "output_type": "display_data"
    },
    {
     "data": {
      "application/vnd.jupyter.widget-view+json": {
       "model_id": "",
       "version_major": 2,
       "version_minor": 0
      },
      "text/plain": [
       "eve_l2_spectra_2011058_19:   0%|          | 0.00/20.3M [00:00<?, ?B/s]"
      ]
     },
     "metadata": {},
     "output_type": "display_data"
    },
    {
     "data": {
      "application/vnd.jupyter.widget-view+json": {
       "model_id": "",
       "version_major": 2,
       "version_minor": 0
      },
      "text/plain": [
       "eve_l2_spectra_2011058_21:   0%|          | 0.00/6.81M [00:00<?, ?B/s]"
      ]
     },
     "metadata": {},
     "output_type": "display_data"
    },
    {
     "data": {
      "application/vnd.jupyter.widget-view+json": {
       "model_id": "",
       "version_major": 2,
       "version_minor": 0
      },
      "text/plain": [
       "eve_l2_spectra_2011058_20:   0%|          | 0.00/19.1M [00:00<?, ?B/s]"
      ]
     },
     "metadata": {},
     "output_type": "display_data"
    },
    {
     "data": {
      "application/vnd.jupyter.widget-view+json": {
       "model_id": "",
       "version_major": 2,
       "version_minor": 0
      },
      "text/plain": [
       "eve_l2_spectra_2011058_22:   0%|          | 0.00/6.81M [00:00<?, ?B/s]"
      ]
     },
     "metadata": {},
     "output_type": "display_data"
    },
    {
     "data": {
      "application/vnd.jupyter.widget-view+json": {
       "model_id": "",
       "version_major": 2,
       "version_minor": 0
      },
      "text/plain": [
       "eve_l2_spectra_2011058_23:   0%|          | 0.00/6.81M [00:00<?, ?B/s]"
      ]
     },
     "metadata": {},
     "output_type": "display_data"
    },
    {
     "data": {
      "application/vnd.jupyter.widget-view+json": {
       "model_id": "",
       "version_major": 2,
       "version_minor": 0
      },
      "text/plain": [
       "eve_l2_spectra_2011059_00:   0%|          | 0.00/6.81M [00:00<?, ?B/s]"
      ]
     },
     "metadata": {},
     "output_type": "display_data"
    },
    {
     "data": {
      "application/vnd.jupyter.widget-view+json": {
       "model_id": "",
       "version_major": 2,
       "version_minor": 0
      },
      "text/plain": [
       "eve_l2_spectra_2011059_01:   0%|          | 0.00/6.81M [00:00<?, ?B/s]"
      ]
     },
     "metadata": {},
     "output_type": "display_data"
    },
    {
     "data": {
      "application/vnd.jupyter.widget-view+json": {
       "model_id": "",
       "version_major": 2,
       "version_minor": 0
      },
      "text/plain": [
       "eve_l2_spectra_2011059_02:   0%|          | 0.00/6.81M [00:00<?, ?B/s]"
      ]
     },
     "metadata": {},
     "output_type": "display_data"
    },
    {
     "data": {
      "application/vnd.jupyter.widget-view+json": {
       "model_id": "",
       "version_major": 2,
       "version_minor": 0
      },
      "text/plain": [
       "eve_l2_spectra_2011059_03:   0%|          | 0.00/6.81M [00:00<?, ?B/s]"
      ]
     },
     "metadata": {},
     "output_type": "display_data"
    },
    {
     "data": {
      "application/vnd.jupyter.widget-view+json": {
       "model_id": "",
       "version_major": 2,
       "version_minor": 0
      },
      "text/plain": [
       "eve_l2_spectra_2011059_04:   0%|          | 0.00/6.81M [00:00<?, ?B/s]"
      ]
     },
     "metadata": {},
     "output_type": "display_data"
    },
    {
     "data": {
      "application/vnd.jupyter.widget-view+json": {
       "model_id": "",
       "version_major": 2,
       "version_minor": 0
      },
      "text/plain": [
       "eve_l2_spectra_2011059_05:   0%|          | 0.00/6.81M [00:00<?, ?B/s]"
      ]
     },
     "metadata": {},
     "output_type": "display_data"
    },
    {
     "data": {
      "application/vnd.jupyter.widget-view+json": {
       "model_id": "",
       "version_major": 2,
       "version_minor": 0
      },
      "text/plain": [
       "eve_l2_spectra_2011059_06:   0%|          | 0.00/6.81M [00:00<?, ?B/s]"
      ]
     },
     "metadata": {},
     "output_type": "display_data"
    },
    {
     "data": {
      "application/vnd.jupyter.widget-view+json": {
       "model_id": "",
       "version_major": 2,
       "version_minor": 0
      },
      "text/plain": [
       "eve_l2_spectra_2011059_08:   0%|          | 0.00/6.81M [00:00<?, ?B/s]"
      ]
     },
     "metadata": {},
     "output_type": "display_data"
    },
    {
     "data": {
      "application/vnd.jupyter.widget-view+json": {
       "model_id": "",
       "version_major": 2,
       "version_minor": 0
      },
      "text/plain": [
       "eve_l2_spectra_2011059_07:   0%|          | 0.00/6.81M [00:00<?, ?B/s]"
      ]
     },
     "metadata": {},
     "output_type": "display_data"
    },
    {
     "data": {
      "application/vnd.jupyter.widget-view+json": {
       "model_id": "",
       "version_major": 2,
       "version_minor": 0
      },
      "text/plain": [
       "eve_l2_spectra_2011059_09:   0%|          | 0.00/6.81M [00:00<?, ?B/s]"
      ]
     },
     "metadata": {},
     "output_type": "display_data"
    },
    {
     "data": {
      "application/vnd.jupyter.widget-view+json": {
       "model_id": "",
       "version_major": 2,
       "version_minor": 0
      },
      "text/plain": [
       "eve_l2_spectra_2011059_10:   0%|          | 0.00/6.81M [00:00<?, ?B/s]"
      ]
     },
     "metadata": {},
     "output_type": "display_data"
    },
    {
     "data": {
      "application/vnd.jupyter.widget-view+json": {
       "model_id": "",
       "version_major": 2,
       "version_minor": 0
      },
      "text/plain": [
       "eve_l2_spectra_2011059_11:   0%|          | 0.00/6.81M [00:00<?, ?B/s]"
      ]
     },
     "metadata": {},
     "output_type": "display_data"
    },
    {
     "data": {
      "application/vnd.jupyter.widget-view+json": {
       "model_id": "",
       "version_major": 2,
       "version_minor": 0
      },
      "text/plain": [
       "eve_l2_spectra_2011059_12:   0%|          | 0.00/6.79M [00:00<?, ?B/s]"
      ]
     },
     "metadata": {},
     "output_type": "display_data"
    },
    {
     "data": {
      "application/vnd.jupyter.widget-view+json": {
       "model_id": "",
       "version_major": 2,
       "version_minor": 0
      },
      "text/plain": [
       "eve_l2_spectra_2011059_13:   0%|          | 0.00/5.75M [00:00<?, ?B/s]"
      ]
     },
     "metadata": {},
     "output_type": "display_data"
    },
    {
     "data": {
      "application/vnd.jupyter.widget-view+json": {
       "model_id": "",
       "version_major": 2,
       "version_minor": 0
      },
      "text/plain": [
       "eve_l2_spectra_2011059_14:   0%|          | 0.00/6.81M [00:00<?, ?B/s]"
      ]
     },
     "metadata": {},
     "output_type": "display_data"
    },
    {
     "data": {
      "application/vnd.jupyter.widget-view+json": {
       "model_id": "",
       "version_major": 2,
       "version_minor": 0
      },
      "text/plain": [
       "eve_l2_spectra_2011059_15:   0%|          | 0.00/6.81M [00:00<?, ?B/s]"
      ]
     },
     "metadata": {},
     "output_type": "display_data"
    },
    {
     "data": {
      "application/vnd.jupyter.widget-view+json": {
       "model_id": "",
       "version_major": 2,
       "version_minor": 0
      },
      "text/plain": [
       "eve_l2_spectra_2011059_16:   0%|          | 0.00/6.81M [00:00<?, ?B/s]"
      ]
     },
     "metadata": {},
     "output_type": "display_data"
    },
    {
     "data": {
      "application/vnd.jupyter.widget-view+json": {
       "model_id": "",
       "version_major": 2,
       "version_minor": 0
      },
      "text/plain": [
       "eve_l2_spectra_2011059_17:   0%|          | 0.00/8.04M [00:00<?, ?B/s]"
      ]
     },
     "metadata": {},
     "output_type": "display_data"
    },
    {
     "data": {
      "application/vnd.jupyter.widget-view+json": {
       "model_id": "",
       "version_major": 2,
       "version_minor": 0
      },
      "text/plain": [
       "eve_l2_spectra_2011059_18:   0%|          | 0.00/20.3M [00:00<?, ?B/s]"
      ]
     },
     "metadata": {},
     "output_type": "display_data"
    },
    {
     "data": {
      "application/vnd.jupyter.widget-view+json": {
       "model_id": "",
       "version_major": 2,
       "version_minor": 0
      },
      "text/plain": [
       "eve_l2_spectra_2011059_19:   0%|          | 0.00/20.3M [00:00<?, ?B/s]"
      ]
     },
     "metadata": {},
     "output_type": "display_data"
    },
    {
     "data": {
      "application/vnd.jupyter.widget-view+json": {
       "model_id": "",
       "version_major": 2,
       "version_minor": 0
      },
      "text/plain": [
       "eve_l2_spectra_2011059_20:   0%|          | 0.00/19.1M [00:00<?, ?B/s]"
      ]
     },
     "metadata": {},
     "output_type": "display_data"
    },
    {
     "data": {
      "application/vnd.jupyter.widget-view+json": {
       "model_id": "",
       "version_major": 2,
       "version_minor": 0
      },
      "text/plain": [
       "eve_l2_spectra_2011059_21:   0%|          | 0.00/6.81M [00:00<?, ?B/s]"
      ]
     },
     "metadata": {},
     "output_type": "display_data"
    },
    {
     "data": {
      "application/vnd.jupyter.widget-view+json": {
       "model_id": "",
       "version_major": 2,
       "version_minor": 0
      },
      "text/plain": [
       "eve_l2_spectra_2011059_22:   0%|          | 0.00/6.81M [00:00<?, ?B/s]"
      ]
     },
     "metadata": {},
     "output_type": "display_data"
    },
    {
     "data": {
      "application/vnd.jupyter.widget-view+json": {
       "model_id": "",
       "version_major": 2,
       "version_minor": 0
      },
      "text/plain": [
       "eve_l2_spectra_2011059_23:   0%|          | 0.00/6.81M [00:00<?, ?B/s]"
      ]
     },
     "metadata": {},
     "output_type": "display_data"
    },
    {
     "data": {
      "application/vnd.jupyter.widget-view+json": {
       "model_id": "",
       "version_major": 2,
       "version_minor": 0
      },
      "text/plain": [
       "eve_l2_spectra_2011061_00:   0%|          | 0.00/6.81M [00:00<?, ?B/s]"
      ]
     },
     "metadata": {},
     "output_type": "display_data"
    },
    {
     "data": {
      "application/vnd.jupyter.widget-view+json": {
       "model_id": "",
       "version_major": 2,
       "version_minor": 0
      },
      "text/plain": [
       "eve_l2_spectra_2011061_01:   0%|          | 0.00/6.81M [00:00<?, ?B/s]"
      ]
     },
     "metadata": {},
     "output_type": "display_data"
    },
    {
     "data": {
      "application/vnd.jupyter.widget-view+json": {
       "model_id": "",
       "version_major": 2,
       "version_minor": 0
      },
      "text/plain": [
       "eve_l2_spectra_2011061_02:   0%|          | 0.00/6.81M [00:00<?, ?B/s]"
      ]
     },
     "metadata": {},
     "output_type": "display_data"
    },
    {
     "data": {
      "application/vnd.jupyter.widget-view+json": {
       "model_id": "",
       "version_major": 2,
       "version_minor": 0
      },
      "text/plain": [
       "eve_l2_spectra_2011061_03:   0%|          | 0.00/6.81M [00:00<?, ?B/s]"
      ]
     },
     "metadata": {},
     "output_type": "display_data"
    },
    {
     "data": {
      "application/vnd.jupyter.widget-view+json": {
       "model_id": "",
       "version_major": 2,
       "version_minor": 0
      },
      "text/plain": [
       "eve_l2_spectra_2011061_04:   0%|          | 0.00/6.81M [00:00<?, ?B/s]"
      ]
     },
     "metadata": {},
     "output_type": "display_data"
    },
    {
     "data": {
      "application/vnd.jupyter.widget-view+json": {
       "model_id": "",
       "version_major": 2,
       "version_minor": 0
      },
      "text/plain": [
       "eve_l2_spectra_2011061_05:   0%|          | 0.00/6.81M [00:00<?, ?B/s]"
      ]
     },
     "metadata": {},
     "output_type": "display_data"
    },
    {
     "data": {
      "application/vnd.jupyter.widget-view+json": {
       "model_id": "",
       "version_major": 2,
       "version_minor": 0
      },
      "text/plain": [
       "eve_l2_spectra_2011061_06:   0%|          | 0.00/6.81M [00:00<?, ?B/s]"
      ]
     },
     "metadata": {},
     "output_type": "display_data"
    },
    {
     "data": {
      "application/vnd.jupyter.widget-view+json": {
       "model_id": "",
       "version_major": 2,
       "version_minor": 0
      },
      "text/plain": [
       "eve_l2_spectra_2011061_07:   0%|          | 0.00/6.81M [00:00<?, ?B/s]"
      ]
     },
     "metadata": {},
     "output_type": "display_data"
    },
    {
     "data": {
      "application/vnd.jupyter.widget-view+json": {
       "model_id": "",
       "version_major": 2,
       "version_minor": 0
      },
      "text/plain": [
       "eve_l2_spectra_2011061_08:   0%|          | 0.00/6.81M [00:00<?, ?B/s]"
      ]
     },
     "metadata": {},
     "output_type": "display_data"
    },
    {
     "data": {
      "application/vnd.jupyter.widget-view+json": {
       "model_id": "",
       "version_major": 2,
       "version_minor": 0
      },
      "text/plain": [
       "eve_l2_spectra_2011061_09:   0%|          | 0.00/6.81M [00:00<?, ?B/s]"
      ]
     },
     "metadata": {},
     "output_type": "display_data"
    },
    {
     "data": {
      "application/vnd.jupyter.widget-view+json": {
       "model_id": "",
       "version_major": 2,
       "version_minor": 0
      },
      "text/plain": [
       "eve_l2_spectra_2011061_10:   0%|          | 0.00/6.81M [00:00<?, ?B/s]"
      ]
     },
     "metadata": {},
     "output_type": "display_data"
    },
    {
     "data": {
      "application/vnd.jupyter.widget-view+json": {
       "model_id": "",
       "version_major": 2,
       "version_minor": 0
      },
      "text/plain": [
       "eve_l2_spectra_2011061_11:   0%|          | 0.00/6.81M [00:00<?, ?B/s]"
      ]
     },
     "metadata": {},
     "output_type": "display_data"
    },
    {
     "data": {
      "application/vnd.jupyter.widget-view+json": {
       "model_id": "",
       "version_major": 2,
       "version_minor": 0
      },
      "text/plain": [
       "eve_l2_spectra_2011061_12:   0%|          | 0.00/6.81M [00:00<?, ?B/s]"
      ]
     },
     "metadata": {},
     "output_type": "display_data"
    },
    {
     "data": {
      "application/vnd.jupyter.widget-view+json": {
       "model_id": "",
       "version_major": 2,
       "version_minor": 0
      },
      "text/plain": [
       "eve_l2_spectra_2011061_13:   0%|          | 0.00/6.81M [00:00<?, ?B/s]"
      ]
     },
     "metadata": {},
     "output_type": "display_data"
    },
    {
     "data": {
      "application/vnd.jupyter.widget-view+json": {
       "model_id": "",
       "version_major": 2,
       "version_minor": 0
      },
      "text/plain": [
       "eve_l2_spectra_2011061_14:   0%|          | 0.00/6.81M [00:00<?, ?B/s]"
      ]
     },
     "metadata": {},
     "output_type": "display_data"
    },
    {
     "data": {
      "application/vnd.jupyter.widget-view+json": {
       "model_id": "",
       "version_major": 2,
       "version_minor": 0
      },
      "text/plain": [
       "eve_l2_spectra_2011061_15:   0%|          | 0.00/6.81M [00:00<?, ?B/s]"
      ]
     },
     "metadata": {},
     "output_type": "display_data"
    },
    {
     "data": {
      "application/vnd.jupyter.widget-view+json": {
       "model_id": "",
       "version_major": 2,
       "version_minor": 0
      },
      "text/plain": [
       "eve_l2_spectra_2011061_16:   0%|          | 0.00/6.81M [00:00<?, ?B/s]"
      ]
     },
     "metadata": {},
     "output_type": "display_data"
    },
    {
     "data": {
      "application/vnd.jupyter.widget-view+json": {
       "model_id": "",
       "version_major": 2,
       "version_minor": 0
      },
      "text/plain": [
       "eve_l2_spectra_2011061_17:   0%|          | 0.00/7.13M [00:00<?, ?B/s]"
      ]
     },
     "metadata": {},
     "output_type": "display_data"
    },
    {
     "data": {
      "application/vnd.jupyter.widget-view+json": {
       "model_id": "",
       "version_major": 2,
       "version_minor": 0
      },
      "text/plain": [
       "eve_l2_spectra_2011061_18:   0%|          | 0.00/20.3M [00:00<?, ?B/s]"
      ]
     },
     "metadata": {},
     "output_type": "display_data"
    },
    {
     "data": {
      "application/vnd.jupyter.widget-view+json": {
       "model_id": "",
       "version_major": 2,
       "version_minor": 0
      },
      "text/plain": [
       "eve_l2_spectra_2011061_19:   0%|          | 0.00/20.3M [00:00<?, ?B/s]"
      ]
     },
     "metadata": {},
     "output_type": "display_data"
    },
    {
     "data": {
      "application/vnd.jupyter.widget-view+json": {
       "model_id": "",
       "version_major": 2,
       "version_minor": 0
      },
      "text/plain": [
       "eve_l2_spectra_2011061_20:   0%|          | 0.00/19.1M [00:00<?, ?B/s]"
      ]
     },
     "metadata": {},
     "output_type": "display_data"
    },
    {
     "data": {
      "application/vnd.jupyter.widget-view+json": {
       "model_id": "",
       "version_major": 2,
       "version_minor": 0
      },
      "text/plain": [
       "eve_l2_spectra_2011061_21:   0%|          | 0.00/6.80M [00:00<?, ?B/s]"
      ]
     },
     "metadata": {},
     "output_type": "display_data"
    },
    {
     "data": {
      "application/vnd.jupyter.widget-view+json": {
       "model_id": "",
       "version_major": 2,
       "version_minor": 0
      },
      "text/plain": [
       "eve_l2_spectra_2011061_22:   0%|          | 0.00/6.81M [00:00<?, ?B/s]"
      ]
     },
     "metadata": {},
     "output_type": "display_data"
    },
    {
     "data": {
      "application/vnd.jupyter.widget-view+json": {
       "model_id": "",
       "version_major": 2,
       "version_minor": 0
      },
      "text/plain": [
       "eve_l2_spectra_2011061_23:   0%|          | 0.00/6.81M [00:00<?, ?B/s]"
      ]
     },
     "metadata": {},
     "output_type": "display_data"
    },
    {
     "data": {
      "application/vnd.jupyter.widget-view+json": {
       "model_id": "",
       "version_major": 2,
       "version_minor": 0
      },
      "text/plain": [
       "eve_l2_spectra_2011062_00:   0%|          | 0.00/6.81M [00:00<?, ?B/s]"
      ]
     },
     "metadata": {},
     "output_type": "display_data"
    },
    {
     "name": "stdout",
     "output_type": "stream",
     "text": [
      "145/0 files failed to download. Please check `.errors` for details\n"
     ]
    }
   ],
   "source": [
    "files = Fido.fetch(unifresp, path='data/{instrument}')"
   ]
  },
  {
   "cell_type": "code",
   "execution_count": 15,
   "id": "c74fc67c-2006-4239-b31b-daedcc36d5b4",
   "metadata": {
    "collapsed": true,
    "jupyter": {
     "outputs_hidden": true
    },
    "tags": []
   },
   "outputs": [
    {
     "data": {
      "text/html": [
       "Results from 1 Provider:</br></br>194 Results from the VSOClient:</br><div><i>VSOQueryResponseTable length=194</i>\n",
       "<table id=\"table2077272562752\" class=\"table-striped table-bordered table-condensed\">\n",
       "<thead><tr><th>Start Time</th><th>End Time</th><th>Source</th><th>Instrument</th><th>Wavelength</th><th>Provider</th><th>Physobs</th><th>Extent Type</th><th>Size</th></tr></thead>\n",
       "<thead><tr><th></th><th></th><th></th><th></th><th>Angstrom</th><th></th><th></th><th></th><th>Mibyte</th></tr></thead>\n",
       "<thead><tr><th>Time</th><th>Time</th><th>str3</th><th>str3</th><th>float64[2]</th><th>str4</th><th>str10</th><th>str8</th><th>float64</th></tr></thead>\n",
       "<tr><td>2011-02-27 00:00:00.000</td><td>2011-02-27 01:00:00.000</td><td>SDO</td><td>EVE</td><td>93.0 .. 1033.0</td><td>LASP</td><td>irradiance</td><td>FULLDISK</td><td>-0.00098</td></tr>\n",
       "<tr><td>2011-02-27 00:00:00.000</td><td>2011-02-27 01:00:00.000</td><td>SDO</td><td>EVE</td><td>60.0 .. 1060.0</td><td>LASP</td><td>irradiance</td><td>FULLDISK</td><td>-0.00098</td></tr>\n",
       "<tr><td>2011-02-27 01:00:00.000</td><td>2011-02-27 02:00:00.000</td><td>SDO</td><td>EVE</td><td>93.0 .. 1033.0</td><td>LASP</td><td>irradiance</td><td>FULLDISK</td><td>-0.00098</td></tr>\n",
       "<tr><td>2011-02-27 01:00:00.000</td><td>2011-02-27 02:00:00.000</td><td>SDO</td><td>EVE</td><td>60.0 .. 1060.0</td><td>LASP</td><td>irradiance</td><td>FULLDISK</td><td>-0.00098</td></tr>\n",
       "<tr><td>2011-02-27 02:00:00.000</td><td>2011-02-27 03:00:00.000</td><td>SDO</td><td>EVE</td><td>93.0 .. 1033.0</td><td>LASP</td><td>irradiance</td><td>FULLDISK</td><td>-0.00098</td></tr>\n",
       "<tr><td>2011-02-27 02:00:00.000</td><td>2011-02-27 03:00:00.000</td><td>SDO</td><td>EVE</td><td>60.0 .. 1060.0</td><td>LASP</td><td>irradiance</td><td>FULLDISK</td><td>-0.00098</td></tr>\n",
       "<tr><td>2011-02-27 03:00:00.000</td><td>2011-02-27 04:00:00.000</td><td>SDO</td><td>EVE</td><td>93.0 .. 1033.0</td><td>LASP</td><td>irradiance</td><td>FULLDISK</td><td>-0.00098</td></tr>\n",
       "<tr><td>2011-02-27 03:00:00.000</td><td>2011-02-27 04:00:00.000</td><td>SDO</td><td>EVE</td><td>60.0 .. 1060.0</td><td>LASP</td><td>irradiance</td><td>FULLDISK</td><td>-0.00098</td></tr>\n",
       "<tr><td>2011-02-27 04:00:00.000</td><td>2011-02-27 05:00:00.000</td><td>SDO</td><td>EVE</td><td>93.0 .. 1033.0</td><td>LASP</td><td>irradiance</td><td>FULLDISK</td><td>-0.00098</td></tr>\n",
       "<tr><td>...</td><td>...</td><td>...</td><td>...</td><td>...</td><td>...</td><td>...</td><td>...</td><td>...</td></tr>\n",
       "<tr><td>2011-03-02 20:00:00.000</td><td>2011-03-02 21:00:00.000</td><td>SDO</td><td>EVE</td><td>93.0 .. 1033.0</td><td>LASP</td><td>irradiance</td><td>FULLDISK</td><td>-0.00098</td></tr>\n",
       "<tr><td>2011-03-02 20:00:00.000</td><td>2011-03-02 21:00:00.000</td><td>SDO</td><td>EVE</td><td>60.0 .. 1060.0</td><td>LASP</td><td>irradiance</td><td>FULLDISK</td><td>-0.00098</td></tr>\n",
       "<tr><td>2011-03-02 21:00:00.000</td><td>2011-03-02 22:00:00.000</td><td>SDO</td><td>EVE</td><td>93.0 .. 1033.0</td><td>LASP</td><td>irradiance</td><td>FULLDISK</td><td>-0.00098</td></tr>\n",
       "<tr><td>2011-03-02 21:00:00.000</td><td>2011-03-02 22:00:00.000</td><td>SDO</td><td>EVE</td><td>60.0 .. 1060.0</td><td>LASP</td><td>irradiance</td><td>FULLDISK</td><td>-0.00098</td></tr>\n",
       "<tr><td>2011-03-02 22:00:00.000</td><td>2011-03-02 23:00:00.000</td><td>SDO</td><td>EVE</td><td>93.0 .. 1033.0</td><td>LASP</td><td>irradiance</td><td>FULLDISK</td><td>-0.00098</td></tr>\n",
       "<tr><td>2011-03-02 22:00:00.000</td><td>2011-03-02 23:00:00.000</td><td>SDO</td><td>EVE</td><td>60.0 .. 1060.0</td><td>LASP</td><td>irradiance</td><td>FULLDISK</td><td>-0.00098</td></tr>\n",
       "<tr><td>2011-03-02 23:00:00.000</td><td>2011-03-03 00:00:00.000</td><td>SDO</td><td>EVE</td><td>93.0 .. 1033.0</td><td>LASP</td><td>irradiance</td><td>FULLDISK</td><td>-0.00098</td></tr>\n",
       "<tr><td>2011-03-02 23:00:00.000</td><td>2011-03-03 00:00:00.000</td><td>SDO</td><td>EVE</td><td>60.0 .. 1060.0</td><td>LASP</td><td>irradiance</td><td>FULLDISK</td><td>-0.00098</td></tr>\n",
       "<tr><td>2011-03-03 00:00:00.000</td><td>2011-03-03 01:00:00.000</td><td>SDO</td><td>EVE</td><td>93.0 .. 1033.0</td><td>LASP</td><td>irradiance</td><td>FULLDISK</td><td>-0.00098</td></tr>\n",
       "<tr><td>2011-03-03 00:00:00.000</td><td>2011-03-03 01:00:00.000</td><td>SDO</td><td>EVE</td><td>60.0 .. 1060.0</td><td>LASP</td><td>irradiance</td><td>FULLDISK</td><td>-0.00098</td></tr>\n",
       "</table></div></br>"
      ],
      "text/plain": [
       "<sunpy.net.fido_factory.UnifiedResponse object at 0x000001E3A3C38F40>\n",
       "Results from 1 Provider:\n",
       "\n",
       "194 Results from the VSOClient:\n",
       "Source: http://vso.stanford.edu/cgi-bin/search\n",
       "\n",
       "       Start Time               End Time        Source ... Extent Type   Size  \n",
       "                                                       ...              Mibyte \n",
       "----------------------- ----------------------- ------ ... ----------- --------\n",
       "2011-02-27 00:00:00.000 2011-02-27 01:00:00.000    SDO ...    FULLDISK -0.00098\n",
       "2011-02-27 00:00:00.000 2011-02-27 01:00:00.000    SDO ...    FULLDISK -0.00098\n",
       "2011-02-27 01:00:00.000 2011-02-27 02:00:00.000    SDO ...    FULLDISK -0.00098\n",
       "2011-02-27 01:00:00.000 2011-02-27 02:00:00.000    SDO ...    FULLDISK -0.00098\n",
       "2011-02-27 02:00:00.000 2011-02-27 03:00:00.000    SDO ...    FULLDISK -0.00098\n",
       "2011-02-27 02:00:00.000 2011-02-27 03:00:00.000    SDO ...    FULLDISK -0.00098\n",
       "2011-02-27 03:00:00.000 2011-02-27 04:00:00.000    SDO ...    FULLDISK -0.00098\n",
       "2011-02-27 03:00:00.000 2011-02-27 04:00:00.000    SDO ...    FULLDISK -0.00098\n",
       "2011-02-27 04:00:00.000 2011-02-27 05:00:00.000    SDO ...    FULLDISK -0.00098\n",
       "2011-02-27 04:00:00.000 2011-02-27 05:00:00.000    SDO ...    FULLDISK -0.00098\n",
       "                    ...                     ...    ... ...         ...      ...\n",
       "2011-03-02 20:00:00.000 2011-03-02 21:00:00.000    SDO ...    FULLDISK -0.00098\n",
       "2011-03-02 20:00:00.000 2011-03-02 21:00:00.000    SDO ...    FULLDISK -0.00098\n",
       "2011-03-02 21:00:00.000 2011-03-02 22:00:00.000    SDO ...    FULLDISK -0.00098\n",
       "2011-03-02 21:00:00.000 2011-03-02 22:00:00.000    SDO ...    FULLDISK -0.00098\n",
       "2011-03-02 22:00:00.000 2011-03-02 23:00:00.000    SDO ...    FULLDISK -0.00098\n",
       "2011-03-02 22:00:00.000 2011-03-02 23:00:00.000    SDO ...    FULLDISK -0.00098\n",
       "2011-03-02 23:00:00.000 2011-03-03 00:00:00.000    SDO ...    FULLDISK -0.00098\n",
       "2011-03-02 23:00:00.000 2011-03-03 00:00:00.000    SDO ...    FULLDISK -0.00098\n",
       "2011-03-03 00:00:00.000 2011-03-03 01:00:00.000    SDO ...    FULLDISK -0.00098\n",
       "2011-03-03 00:00:00.000 2011-03-03 01:00:00.000    SDO ...    FULLDISK -0.00098\n",
       "Length = 194 rows\n"
      ]
     },
     "execution_count": 15,
     "metadata": {},
     "output_type": "execute_result"
    }
   ],
   "source": [
    "obs_start = \"2011-02-27T00:00:00\"\n",
    "obs_end = \"2011-03-03T00:00:00\"\n",
    "obs_time = a.Time(obs_start, obs_end)\n",
    "\n",
    "unifresp = Fido.search(obs_time,a.Instrument.eve,a.Wavelength(304*u.angstrom),a.Level.two) \n",
    "unifresp"
   ]
  },
  {
   "cell_type": "code",
   "execution_count": 18,
   "id": "f4358657-e6ad-4ba8-8314-a3286d455e0f",
   "metadata": {
    "collapsed": true,
    "jupyter": {
     "outputs_hidden": true
    },
    "tags": []
   },
   "outputs": [
    {
     "data": {
      "application/vnd.jupyter.widget-view+json": {
       "model_id": "b341b132fd5f4604a301d1086a0d6d88",
       "version_major": 2,
       "version_minor": 0
      },
      "text/plain": [
       "Files Downloaded:   0%|          | 0/194 [00:00<?, ?file/s]"
      ]
     },
     "metadata": {},
     "output_type": "display_data"
    },
    {
     "name": "stdout",
     "output_type": "stream",
     "text": [
      "48/0 files failed to download. Please check `.errors` for details\n"
     ]
    }
   ],
   "source": [
    "files = Fido.fetch(unifresp, path='data/{instrument}')"
   ]
  },
  {
   "cell_type": "markdown",
   "id": "62d29f4c-24b3-45b4-9d2b-a42728946b11",
   "metadata": {},
   "source": [
    "## download EVE via vso csv"
   ]
  },
  {
   "cell_type": "code",
   "execution_count": 1,
   "id": "a695baf4-8866-4679-91af-53055528fddb",
   "metadata": {
    "tags": []
   },
   "outputs": [],
   "source": [
    "import csv\n",
    "import urllib.request"
   ]
  },
  {
   "cell_type": "code",
   "execution_count": 2,
   "id": "f8ebe9f2-c1f9-4fbb-ba36-9cdfcfb20acc",
   "metadata": {
    "collapsed": true,
    "jupyter": {
     "outputs_hidden": true
    },
    "tags": []
   },
   "outputs": [
    {
     "name": "stdout",
     "output_type": "stream",
     "text": [
      "Error downloading http://lasp.colorado.edu/eve/data_access/evewebdataproducts/level2/2011/040/EVS_L2_2011040_00_006_02.fit.gz\n",
      "Error downloading http://lasp.colorado.edu/eve/data_access/evewebdataproducts/level2/2011/040/EVS_L2_2011040_01_006_02.fit.gz\n",
      "Error downloading http://lasp.colorado.edu/eve/data_access/evewebdataproducts/level2/2011/040/EVS_L2_2011040_02_006_02.fit.gz\n",
      "Error downloading http://lasp.colorado.edu/eve/data_access/evewebdataproducts/level2/2011/040/EVS_L2_2011040_03_006_02.fit.gz\n",
      "Error downloading http://lasp.colorado.edu/eve/data_access/evewebdataproducts/level2/2011/040/EVS_L2_2011040_04_006_02.fit.gz\n",
      "Error downloading http://lasp.colorado.edu/eve/data_access/evewebdataproducts/level2/2011/040/EVS_L2_2011040_05_006_02.fit.gz\n",
      "Error downloading http://lasp.colorado.edu/eve/data_access/evewebdataproducts/level2/2011/040/EVS_L2_2011040_06_006_02.fit.gz\n",
      "Error downloading http://lasp.colorado.edu/eve/data_access/evewebdataproducts/level2/2011/040/EVS_L2_2011040_07_006_02.fit.gz\n",
      "Error downloading http://lasp.colorado.edu/eve/data_access/evewebdataproducts/level2/2011/040/EVS_L2_2011040_08_006_02.fit.gz\n",
      "Error downloading http://lasp.colorado.edu/eve/data_access/evewebdataproducts/level2/2011/040/EVS_L2_2011040_09_006_02.fit.gz\n",
      "Error downloading http://lasp.colorado.edu/eve/data_access/evewebdataproducts/level2/2011/040/EVS_L2_2011040_10_006_02.fit.gz\n",
      "Error downloading http://lasp.colorado.edu/eve/data_access/evewebdataproducts/level2/2011/040/EVS_L2_2011040_11_006_02.fit.gz\n",
      "Error downloading http://lasp.colorado.edu/eve/data_access/evewebdataproducts/level2/2011/040/EVS_L2_2011040_12_006_02.fit.gz\n",
      "Error downloading http://lasp.colorado.edu/eve/data_access/evewebdataproducts/level2/2011/040/EVS_L2_2011040_13_006_02.fit.gz\n",
      "Error downloading http://lasp.colorado.edu/eve/data_access/evewebdataproducts/level2/2011/040/EVS_L2_2011040_14_006_02.fit.gz\n",
      "Error downloading http://lasp.colorado.edu/eve/data_access/evewebdataproducts/level2/2011/040/EVS_L2_2011040_15_006_02.fit.gz\n",
      "Error downloading http://lasp.colorado.edu/eve/data_access/evewebdataproducts/level2/2011/040/EVS_L2_2011040_16_006_02.fit.gz\n",
      "Error downloading http://lasp.colorado.edu/eve/data_access/evewebdataproducts/level2/2011/040/EVS_L2_2011040_17_006_02.fit.gz\n",
      "Error downloading http://lasp.colorado.edu/eve/data_access/evewebdataproducts/level2/2011/040/EVS_L2_2011040_18_006_02.fit.gz\n",
      "Error downloading http://lasp.colorado.edu/eve/data_access/evewebdataproducts/level2/2011/040/EVS_L2_2011040_19_006_02.fit.gz\n",
      "Error downloading http://lasp.colorado.edu/eve/data_access/evewebdataproducts/level2/2011/040/EVS_L2_2011040_20_006_02.fit.gz\n",
      "Error downloading http://lasp.colorado.edu/eve/data_access/evewebdataproducts/level2/2011/040/EVS_L2_2011040_21_006_02.fit.gz\n",
      "Error downloading http://lasp.colorado.edu/eve/data_access/evewebdataproducts/level2/2011/040/EVS_L2_2011040_22_006_02.fit.gz\n",
      "Error downloading http://lasp.colorado.edu/eve/data_access/evewebdataproducts/level2/2011/040/EVS_L2_2011040_23_006_02.fit.gz\n",
      "Error downloading http://lasp.colorado.edu/eve/data_access/evewebdataproducts/level2/2011/041/EVS_L2_2011041_12_007_02.fit.gz\n",
      "Error downloading http://lasp.colorado.edu/eve/data_access/evewebdataproducts/level2/2011/042/EVS_L2_2011042_12_007_02.fit.gz\n",
      "Error downloading http://lasp.colorado.edu/eve/data_access/evewebdataproducts/level2/2011/050/EVS_L2_2011050_00_006_02.fit.gz\n",
      "Error downloading http://lasp.colorado.edu/eve/data_access/evewebdataproducts/level2/2011/050/EVS_L2_2011050_01_006_02.fit.gz\n",
      "Error downloading http://lasp.colorado.edu/eve/data_access/evewebdataproducts/level2/2011/050/EVS_L2_2011050_02_006_02.fit.gz\n",
      "Error downloading http://lasp.colorado.edu/eve/data_access/evewebdataproducts/level2/2011/050/EVS_L2_2011050_03_006_02.fit.gz\n",
      "Error downloading http://lasp.colorado.edu/eve/data_access/evewebdataproducts/level2/2011/050/EVS_L2_2011050_04_006_02.fit.gz\n",
      "Error downloading http://lasp.colorado.edu/eve/data_access/evewebdataproducts/level2/2011/050/EVS_L2_2011050_05_006_02.fit.gz\n",
      "Error downloading http://lasp.colorado.edu/eve/data_access/evewebdataproducts/level2/2011/050/EVS_L2_2011050_06_006_02.fit.gz\n",
      "Error downloading http://lasp.colorado.edu/eve/data_access/evewebdataproducts/level2/2011/050/EVS_L2_2011050_07_006_02.fit.gz\n",
      "Error downloading http://lasp.colorado.edu/eve/data_access/evewebdataproducts/level2/2011/050/EVS_L2_2011050_08_006_02.fit.gz\n",
      "Error downloading http://lasp.colorado.edu/eve/data_access/evewebdataproducts/level2/2011/050/EVS_L2_2011050_09_006_02.fit.gz\n",
      "Error downloading http://lasp.colorado.edu/eve/data_access/evewebdataproducts/level2/2011/050/EVS_L2_2011050_10_006_02.fit.gz\n",
      "Error downloading http://lasp.colorado.edu/eve/data_access/evewebdataproducts/level2/2011/050/EVS_L2_2011050_11_006_02.fit.gz\n",
      "Error downloading http://lasp.colorado.edu/eve/data_access/evewebdataproducts/level2/2011/050/EVS_L2_2011050_12_006_02.fit.gz\n",
      "Error downloading http://lasp.colorado.edu/eve/data_access/evewebdataproducts/level2/2011/050/EVS_L2_2011050_13_006_02.fit.gz\n",
      "Error downloading http://lasp.colorado.edu/eve/data_access/evewebdataproducts/level2/2011/050/EVS_L2_2011050_14_006_02.fit.gz\n",
      "Error downloading http://lasp.colorado.edu/eve/data_access/evewebdataproducts/level2/2011/050/EVS_L2_2011050_15_006_02.fit.gz\n",
      "Error downloading http://lasp.colorado.edu/eve/data_access/evewebdataproducts/level2/2011/050/EVS_L2_2011050_16_006_02.fit.gz\n",
      "Error downloading http://lasp.colorado.edu/eve/data_access/evewebdataproducts/level2/2011/050/EVS_L2_2011050_17_006_02.fit.gz\n",
      "Error downloading http://lasp.colorado.edu/eve/data_access/evewebdataproducts/level2/2011/050/EVS_L2_2011050_18_006_02.fit.gz\n",
      "Error downloading http://lasp.colorado.edu/eve/data_access/evewebdataproducts/level2/2011/050/EVS_L2_2011050_19_006_02.fit.gz\n",
      "Error downloading http://lasp.colorado.edu/eve/data_access/evewebdataproducts/level2/2011/050/EVS_L2_2011050_20_006_02.fit.gz\n",
      "Error downloading http://lasp.colorado.edu/eve/data_access/evewebdataproducts/level2/2011/050/EVS_L2_2011050_21_006_02.fit.gz\n",
      "Error downloading http://lasp.colorado.edu/eve/data_access/evewebdataproducts/level2/2011/050/EVS_L2_2011050_22_006_02.fit.gz\n",
      "Error downloading http://lasp.colorado.edu/eve/data_access/evewebdataproducts/level2/2011/050/EVS_L2_2011050_23_006_02.fit.gz\n",
      "Error downloading http://lasp.colorado.edu/eve/data_access/evewebdataproducts/level2/2011/054/EVS_L2_2011054_14_007_02.fit.gz\n",
      "Error downloading http://lasp.colorado.edu/eve/data_access/evewebdataproducts/level2/2011/060/EVS_L2_2011060_00_006_02.fit.gz\n",
      "Error downloading http://lasp.colorado.edu/eve/data_access/evewebdataproducts/level2/2011/060/EVS_L2_2011060_01_006_02.fit.gz\n",
      "Error downloading http://lasp.colorado.edu/eve/data_access/evewebdataproducts/level2/2011/060/EVS_L2_2011060_02_006_02.fit.gz\n",
      "Error downloading http://lasp.colorado.edu/eve/data_access/evewebdataproducts/level2/2011/060/EVS_L2_2011060_03_006_02.fit.gz\n",
      "Error downloading http://lasp.colorado.edu/eve/data_access/evewebdataproducts/level2/2011/060/EVS_L2_2011060_04_006_02.fit.gz\n",
      "Error downloading http://lasp.colorado.edu/eve/data_access/evewebdataproducts/level2/2011/060/EVS_L2_2011060_05_006_02.fit.gz\n",
      "Error downloading http://lasp.colorado.edu/eve/data_access/evewebdataproducts/level2/2011/060/EVS_L2_2011060_06_006_02.fit.gz\n",
      "Error downloading http://lasp.colorado.edu/eve/data_access/evewebdataproducts/level2/2011/060/EVS_L2_2011060_07_006_02.fit.gz\n",
      "Error downloading http://lasp.colorado.edu/eve/data_access/evewebdataproducts/level2/2011/060/EVS_L2_2011060_08_006_02.fit.gz\n",
      "Error downloading http://lasp.colorado.edu/eve/data_access/evewebdataproducts/level2/2011/060/EVS_L2_2011060_09_006_02.fit.gz\n",
      "Error downloading http://lasp.colorado.edu/eve/data_access/evewebdataproducts/level2/2011/060/EVS_L2_2011060_10_006_02.fit.gz\n",
      "Error downloading http://lasp.colorado.edu/eve/data_access/evewebdataproducts/level2/2011/060/EVS_L2_2011060_11_006_02.fit.gz\n",
      "Error downloading http://lasp.colorado.edu/eve/data_access/evewebdataproducts/level2/2011/060/EVS_L2_2011060_12_006_02.fit.gz\n",
      "Error downloading http://lasp.colorado.edu/eve/data_access/evewebdataproducts/level2/2011/060/EVS_L2_2011060_13_006_02.fit.gz\n",
      "Error downloading http://lasp.colorado.edu/eve/data_access/evewebdataproducts/level2/2011/060/EVS_L2_2011060_14_006_02.fit.gz\n",
      "Error downloading http://lasp.colorado.edu/eve/data_access/evewebdataproducts/level2/2011/060/EVS_L2_2011060_15_006_02.fit.gz\n",
      "Error downloading http://lasp.colorado.edu/eve/data_access/evewebdataproducts/level2/2011/060/EVS_L2_2011060_16_006_02.fit.gz\n",
      "Error downloading http://lasp.colorado.edu/eve/data_access/evewebdataproducts/level2/2011/060/EVS_L2_2011060_17_006_02.fit.gz\n",
      "Error downloading http://lasp.colorado.edu/eve/data_access/evewebdataproducts/level2/2011/060/EVS_L2_2011060_18_006_02.fit.gz\n",
      "Error downloading http://lasp.colorado.edu/eve/data_access/evewebdataproducts/level2/2011/060/EVS_L2_2011060_19_006_02.fit.gz\n",
      "Error downloading http://lasp.colorado.edu/eve/data_access/evewebdataproducts/level2/2011/060/EVS_L2_2011060_20_006_02.fit.gz\n",
      "Error downloading http://lasp.colorado.edu/eve/data_access/evewebdataproducts/level2/2011/060/EVS_L2_2011060_21_006_02.fit.gz\n",
      "Error downloading http://lasp.colorado.edu/eve/data_access/evewebdataproducts/level2/2011/060/EVS_L2_2011060_22_006_02.fit.gz\n",
      "Error downloading http://lasp.colorado.edu/eve/data_access/evewebdataproducts/level2/2011/060/EVS_L2_2011060_23_006_02.fit.gz\n"
     ]
    }
   ],
   "source": [
    "with open('vso_export_20230331_000000.csv', newline='') as csvfile:\n",
    "    reader = csv.reader(csvfile)\n",
    "    for row in reader:\n",
    "        url = row[0]\n",
    "        filename = \"data_vso_web/\" + url.split('/')[-1]\n",
    "        try:\n",
    "            urllib.request.urlretrieve(url, filename)\n",
    "        except:\n",
    "            print(f\"Error downloading {url}\")"
   ]
  },
  {
   "cell_type": "code",
   "execution_count": 17,
   "id": "ea8bacf8-f331-4157-816e-f6a0d2d73c45",
   "metadata": {
    "tags": []
   },
   "outputs": [
    {
     "data": {
      "text/plain": [
       "['http:',\n",
       " '',\n",
       " 'lasp.colorado.edu',\n",
       " 'eve',\n",
       " 'data_access',\n",
       " 'evewebdataproducts',\n",
       " 'level2',\n",
       " '2011',\n",
       " '052',\n",
       " 'EVL_L2_2011052_09_007_02.fit.gz']"
      ]
     },
     "execution_count": 17,
     "metadata": {},
     "output_type": "execute_result"
    }
   ],
   "source": [
    "url.split('/')"
   ]
  },
  {
   "cell_type": "markdown",
   "id": "421ce60e-0404-4663-b2de-9b7066868624",
   "metadata": {
    "tags": []
   },
   "source": [
    "## download AIA 2011-02-03~ 2011-03-03"
   ]
  },
  {
   "cell_type": "code",
   "execution_count": 6,
   "id": "185f3711-6543-432c-89e3-0072439a66b6",
   "metadata": {},
   "outputs": [
    {
     "data": {
      "text/html": [
       "Results from 1 Provider:</br></br>673 Results from the VSOClient:</br><div><i>VSOQueryResponseTable length=673</i>\n",
       "<table id=\"table2466069609344\" class=\"table-striped table-bordered table-condensed\">\n",
       "<thead><tr><th>Start Time</th><th>End Time</th><th>Source</th><th>Instrument</th><th>Wavelength</th><th>Provider</th><th>Physobs</th><th>Wavetype</th><th>Extent Width</th><th>Extent Length</th><th>Extent Type</th><th>Size</th></tr></thead>\n",
       "<thead><tr><th></th><th></th><th></th><th></th><th>Angstrom</th><th></th><th></th><th></th><th></th><th></th><th></th><th>Mibyte</th></tr></thead>\n",
       "<thead><tr><th>Time</th><th>Time</th><th>str3</th><th>str3</th><th>float64[2]</th><th>str4</th><th>str9</th><th>str6</th><th>str4</th><th>str4</th><th>str8</th><th>float64</th></tr></thead>\n",
       "<tr><td>2011-02-03 00:00:08.000</td><td>2011-02-03 00:00:09.000</td><td>SDO</td><td>AIA</td><td>304.0 .. 304.0</td><td>JSOC</td><td>intensity</td><td>NARROW</td><td>4096</td><td>4096</td><td>FULLDISK</td><td>64.64844</td></tr>\n",
       "<tr><td>2011-02-03 01:00:08.000</td><td>2011-02-03 01:00:09.000</td><td>SDO</td><td>AIA</td><td>304.0 .. 304.0</td><td>JSOC</td><td>intensity</td><td>NARROW</td><td>4096</td><td>4096</td><td>FULLDISK</td><td>64.64844</td></tr>\n",
       "<tr><td>2011-02-03 02:00:08.000</td><td>2011-02-03 02:00:09.000</td><td>SDO</td><td>AIA</td><td>304.0 .. 304.0</td><td>JSOC</td><td>intensity</td><td>NARROW</td><td>4096</td><td>4096</td><td>FULLDISK</td><td>64.64844</td></tr>\n",
       "<tr><td>2011-02-03 03:00:08.000</td><td>2011-02-03 03:00:09.000</td><td>SDO</td><td>AIA</td><td>304.0 .. 304.0</td><td>JSOC</td><td>intensity</td><td>NARROW</td><td>4096</td><td>4096</td><td>FULLDISK</td><td>64.64844</td></tr>\n",
       "<tr><td>2011-02-03 04:00:08.000</td><td>2011-02-03 04:00:09.000</td><td>SDO</td><td>AIA</td><td>304.0 .. 304.0</td><td>JSOC</td><td>intensity</td><td>NARROW</td><td>4096</td><td>4096</td><td>FULLDISK</td><td>64.64844</td></tr>\n",
       "<tr><td>2011-02-03 05:00:08.000</td><td>2011-02-03 05:00:09.000</td><td>SDO</td><td>AIA</td><td>304.0 .. 304.0</td><td>JSOC</td><td>intensity</td><td>NARROW</td><td>4096</td><td>4096</td><td>FULLDISK</td><td>64.64844</td></tr>\n",
       "<tr><td>2011-02-03 06:00:08.000</td><td>2011-02-03 06:00:09.000</td><td>SDO</td><td>AIA</td><td>304.0 .. 304.0</td><td>JSOC</td><td>intensity</td><td>NARROW</td><td>4096</td><td>4096</td><td>FULLDISK</td><td>64.64844</td></tr>\n",
       "<tr><td>2011-02-03 07:00:08.000</td><td>2011-02-03 07:00:09.000</td><td>SDO</td><td>AIA</td><td>304.0 .. 304.0</td><td>JSOC</td><td>intensity</td><td>NARROW</td><td>4096</td><td>4096</td><td>FULLDISK</td><td>64.64844</td></tr>\n",
       "<tr><td>2011-02-03 08:00:08.000</td><td>2011-02-03 08:00:09.000</td><td>SDO</td><td>AIA</td><td>304.0 .. 304.0</td><td>JSOC</td><td>intensity</td><td>NARROW</td><td>4096</td><td>4096</td><td>FULLDISK</td><td>64.64844</td></tr>\n",
       "<tr><td>...</td><td>...</td><td>...</td><td>...</td><td>...</td><td>...</td><td>...</td><td>...</td><td>...</td><td>...</td><td>...</td><td>...</td></tr>\n",
       "<tr><td>2011-03-02 15:00:08.000</td><td>2011-03-02 15:00:09.000</td><td>SDO</td><td>AIA</td><td>304.0 .. 304.0</td><td>JSOC</td><td>intensity</td><td>NARROW</td><td>4096</td><td>4096</td><td>FULLDISK</td><td>64.64844</td></tr>\n",
       "<tr><td>2011-03-02 16:00:08.000</td><td>2011-03-02 16:00:09.000</td><td>SDO</td><td>AIA</td><td>304.0 .. 304.0</td><td>JSOC</td><td>intensity</td><td>NARROW</td><td>4096</td><td>4096</td><td>FULLDISK</td><td>64.64844</td></tr>\n",
       "<tr><td>2011-03-02 17:00:08.000</td><td>2011-03-02 17:00:09.000</td><td>SDO</td><td>AIA</td><td>304.0 .. 304.0</td><td>JSOC</td><td>intensity</td><td>NARROW</td><td>4096</td><td>4096</td><td>FULLDISK</td><td>64.64844</td></tr>\n",
       "<tr><td>2011-03-02 18:00:08.000</td><td>2011-03-02 18:00:09.000</td><td>SDO</td><td>AIA</td><td>304.0 .. 304.0</td><td>JSOC</td><td>intensity</td><td>NARROW</td><td>4096</td><td>4096</td><td>FULLDISK</td><td>64.64844</td></tr>\n",
       "<tr><td>2011-03-02 19:00:08.000</td><td>2011-03-02 19:00:09.000</td><td>SDO</td><td>AIA</td><td>304.0 .. 304.0</td><td>JSOC</td><td>intensity</td><td>NARROW</td><td>4096</td><td>4096</td><td>FULLDISK</td><td>64.64844</td></tr>\n",
       "<tr><td>2011-03-02 20:00:08.000</td><td>2011-03-02 20:00:09.000</td><td>SDO</td><td>AIA</td><td>304.0 .. 304.0</td><td>JSOC</td><td>intensity</td><td>NARROW</td><td>4096</td><td>4096</td><td>FULLDISK</td><td>64.64844</td></tr>\n",
       "<tr><td>2011-03-02 21:00:00.000</td><td>2011-03-02 21:00:01.000</td><td>SDO</td><td>AIA</td><td>304.0 .. 304.0</td><td>JSOC</td><td>intensity</td><td>NARROW</td><td>4096</td><td>4096</td><td>FULLDISK</td><td>64.64844</td></tr>\n",
       "<tr><td>2011-03-02 22:00:08.000</td><td>2011-03-02 22:00:09.000</td><td>SDO</td><td>AIA</td><td>304.0 .. 304.0</td><td>JSOC</td><td>intensity</td><td>NARROW</td><td>4096</td><td>4096</td><td>FULLDISK</td><td>64.64844</td></tr>\n",
       "<tr><td>2011-03-02 23:00:08.000</td><td>2011-03-02 23:00:09.000</td><td>SDO</td><td>AIA</td><td>304.0 .. 304.0</td><td>JSOC</td><td>intensity</td><td>NARROW</td><td>4096</td><td>4096</td><td>FULLDISK</td><td>64.64844</td></tr>\n",
       "<tr><td>2011-03-03 00:00:08.000</td><td>2011-03-03 00:00:09.000</td><td>SDO</td><td>AIA</td><td>304.0 .. 304.0</td><td>JSOC</td><td>intensity</td><td>NARROW</td><td>4096</td><td>4096</td><td>FULLDISK</td><td>64.64844</td></tr>\n",
       "</table></div></br>"
      ],
      "text/plain": [
       "<sunpy.net.fido_factory.UnifiedResponse object at 0x0000023E2F668EB0>\n",
       "Results from 1 Provider:\n",
       "\n",
       "673 Results from the VSOClient:\n",
       "Source: http://vso.stanford.edu/cgi-bin/search\n",
       "Total estimated size: 45.622 Gbyte\n",
       "\n",
       "       Start Time               End Time        Source ... Extent Type   Size  \n",
       "                                                       ...              Mibyte \n",
       "----------------------- ----------------------- ------ ... ----------- --------\n",
       "2011-02-03 00:00:08.000 2011-02-03 00:00:09.000    SDO ...    FULLDISK 64.64844\n",
       "2011-02-03 01:00:08.000 2011-02-03 01:00:09.000    SDO ...    FULLDISK 64.64844\n",
       "2011-02-03 02:00:08.000 2011-02-03 02:00:09.000    SDO ...    FULLDISK 64.64844\n",
       "2011-02-03 03:00:08.000 2011-02-03 03:00:09.000    SDO ...    FULLDISK 64.64844\n",
       "2011-02-03 04:00:08.000 2011-02-03 04:00:09.000    SDO ...    FULLDISK 64.64844\n",
       "2011-02-03 05:00:08.000 2011-02-03 05:00:09.000    SDO ...    FULLDISK 64.64844\n",
       "2011-02-03 06:00:08.000 2011-02-03 06:00:09.000    SDO ...    FULLDISK 64.64844\n",
       "2011-02-03 07:00:08.000 2011-02-03 07:00:09.000    SDO ...    FULLDISK 64.64844\n",
       "2011-02-03 08:00:08.000 2011-02-03 08:00:09.000    SDO ...    FULLDISK 64.64844\n",
       "2011-02-03 09:00:08.000 2011-02-03 09:00:09.000    SDO ...    FULLDISK 64.64844\n",
       "                    ...                     ...    ... ...         ...      ...\n",
       "2011-03-02 15:00:08.000 2011-03-02 15:00:09.000    SDO ...    FULLDISK 64.64844\n",
       "2011-03-02 16:00:08.000 2011-03-02 16:00:09.000    SDO ...    FULLDISK 64.64844\n",
       "2011-03-02 17:00:08.000 2011-03-02 17:00:09.000    SDO ...    FULLDISK 64.64844\n",
       "2011-03-02 18:00:08.000 2011-03-02 18:00:09.000    SDO ...    FULLDISK 64.64844\n",
       "2011-03-02 19:00:08.000 2011-03-02 19:00:09.000    SDO ...    FULLDISK 64.64844\n",
       "2011-03-02 20:00:08.000 2011-03-02 20:00:09.000    SDO ...    FULLDISK 64.64844\n",
       "2011-03-02 21:00:00.000 2011-03-02 21:00:01.000    SDO ...    FULLDISK 64.64844\n",
       "2011-03-02 22:00:08.000 2011-03-02 22:00:09.000    SDO ...    FULLDISK 64.64844\n",
       "2011-03-02 23:00:08.000 2011-03-02 23:00:09.000    SDO ...    FULLDISK 64.64844\n",
       "2011-03-03 00:00:08.000 2011-03-03 00:00:09.000    SDO ...    FULLDISK 64.64844\n",
       "Length = 673 rows\n"
      ]
     },
     "execution_count": 6,
     "metadata": {},
     "output_type": "execute_result"
    }
   ],
   "source": [
    "obs_start = \"2011-02-03T00:00:00\"\n",
    "obs_end = \"2011-03-03T01:00:00\"\n",
    "obs_time = a.Time(obs_start, obs_end)\n",
    "\n",
    "unifresp = Fido.search(obs_time,a.Instrument.aia,a.Wavelength(304*u.angstrom),a.Sample(60*u.min)) \n",
    "unifresp"
   ]
  },
  {
   "cell_type": "code",
   "execution_count": 7,
   "id": "a1d00348-2811-43c5-852d-e6bbffe90e54",
   "metadata": {
    "collapsed": true,
    "jupyter": {
     "outputs_hidden": true
    },
    "tags": []
   },
   "outputs": [
    {
     "data": {
      "application/vnd.jupyter.widget-view+json": {
       "model_id": "290841165ea44e6ba93727270a364047",
       "version_major": 2,
       "version_minor": 0
      },
      "text/plain": [
       "Files Downloaded:   0%|          | 0/673 [00:00<?, ?file/s]"
      ]
     },
     "metadata": {},
     "output_type": "display_data"
    },
    {
     "data": {
      "application/vnd.jupyter.widget-view+json": {
       "model_id": "",
       "version_major": 2,
       "version_minor": 0
      },
      "text/plain": [
       "aia_lev1_304a_2011_02_03t00_00_08_12z_image_lev1.fits:   0%|          | 0.00/9.92M [00:00<?, ?B/s]"
      ]
     },
     "metadata": {},
     "output_type": "display_data"
    },
    {
     "data": {
      "application/vnd.jupyter.widget-view+json": {
       "model_id": "",
       "version_major": 2,
       "version_minor": 0
      },
      "text/plain": [
       "aia_lev1_304a_2011_02_03t03_00_08_12z_image_lev1.fits:   0%|          | 0.00/9.91M [00:00<?, ?B/s]"
      ]
     },
     "metadata": {},
     "output_type": "display_data"
    },
    {
     "data": {
      "application/vnd.jupyter.widget-view+json": {
       "model_id": "",
       "version_major": 2,
       "version_minor": 0
      },
      "text/plain": [
       "aia_lev1_304a_2011_02_03t04_00_08_12z_image_lev1.fits:   0%|          | 0.00/9.91M [00:00<?, ?B/s]"
      ]
     },
     "metadata": {},
     "output_type": "display_data"
    },
    {
     "data": {
      "application/vnd.jupyter.widget-view+json": {
       "model_id": "",
       "version_major": 2,
       "version_minor": 0
      },
      "text/plain": [
       "aia_lev1_304a_2011_02_03t02_00_08_12z_image_lev1.fits:   0%|          | 0.00/9.91M [00:00<?, ?B/s]"
      ]
     },
     "metadata": {},
     "output_type": "display_data"
    },
    {
     "data": {
      "application/vnd.jupyter.widget-view+json": {
       "model_id": "",
       "version_major": 2,
       "version_minor": 0
      },
      "text/plain": [
       "aia_lev1_304a_2011_02_03t05_00_08_12z_image_lev1.fits:   0%|          | 0.00/9.91M [00:00<?, ?B/s]"
      ]
     },
     "metadata": {},
     "output_type": "display_data"
    },
    {
     "data": {
      "application/vnd.jupyter.widget-view+json": {
       "model_id": "",
       "version_major": 2,
       "version_minor": 0
      },
      "text/plain": [
       "aia_lev1_304a_2011_02_03t06_00_08_13z_image_lev1.fits:   0%|          | 0.00/9.92M [00:00<?, ?B/s]"
      ]
     },
     "metadata": {},
     "output_type": "display_data"
    },
    {
     "data": {
      "application/vnd.jupyter.widget-view+json": {
       "model_id": "",
       "version_major": 2,
       "version_minor": 0
      },
      "text/plain": [
       "aia_lev1_304a_2011_02_03t07_00_08_13z_image_lev1.fits:   0%|          | 0.00/9.92M [00:00<?, ?B/s]"
      ]
     },
     "metadata": {},
     "output_type": "display_data"
    },
    {
     "data": {
      "application/vnd.jupyter.widget-view+json": {
       "model_id": "",
       "version_major": 2,
       "version_minor": 0
      },
      "text/plain": [
       "aia_lev1_304a_2011_02_03t08_00_08_13z_image_lev1.fits:   0%|          | 0.00/9.92M [00:00<?, ?B/s]"
      ]
     },
     "metadata": {},
     "output_type": "display_data"
    },
    {
     "data": {
      "application/vnd.jupyter.widget-view+json": {
       "model_id": "",
       "version_major": 2,
       "version_minor": 0
      },
      "text/plain": [
       "aia_lev1_304a_2011_02_03t01_00_08_12z_image_lev1.fits:   0%|          | 0.00/9.92M [00:00<?, ?B/s]"
      ]
     },
     "metadata": {},
     "output_type": "display_data"
    },
    {
     "data": {
      "application/vnd.jupyter.widget-view+json": {
       "model_id": "",
       "version_major": 2,
       "version_minor": 0
      },
      "text/plain": [
       "aia_lev1_304a_2011_02_03t09_00_08_12z_image_lev1.fits:   0%|          | 0.00/9.92M [00:00<?, ?B/s]"
      ]
     },
     "metadata": {},
     "output_type": "display_data"
    },
    {
     "data": {
      "application/vnd.jupyter.widget-view+json": {
       "model_id": "",
       "version_major": 2,
       "version_minor": 0
      },
      "text/plain": [
       "aia_lev1_304a_2011_02_03t11_00_08_14z_image_lev1.fits:   0%|          | 0.00/9.93M [00:00<?, ?B/s]"
      ]
     },
     "metadata": {},
     "output_type": "display_data"
    },
    {
     "data": {
      "application/vnd.jupyter.widget-view+json": {
       "model_id": "",
       "version_major": 2,
       "version_minor": 0
      },
      "text/plain": [
       "aia_lev1_304a_2011_02_03t12_00_08_14z_image_lev1.fits:   0%|          | 0.00/9.92M [00:00<?, ?B/s]"
      ]
     },
     "metadata": {},
     "output_type": "display_data"
    },
    {
     "data": {
      "application/vnd.jupyter.widget-view+json": {
       "model_id": "",
       "version_major": 2,
       "version_minor": 0
      },
      "text/plain": [
       "aia_lev1_304a_2011_02_03t13_00_08_12z_image_lev1.fits:   0%|          | 0.00/9.91M [00:00<?, ?B/s]"
      ]
     },
     "metadata": {},
     "output_type": "display_data"
    },
    {
     "data": {
      "application/vnd.jupyter.widget-view+json": {
       "model_id": "",
       "version_major": 2,
       "version_minor": 0
      },
      "text/plain": [
       "aia_lev1_304a_2011_02_03t14_00_08_12z_image_lev1.fits:   0%|          | 0.00/9.92M [00:00<?, ?B/s]"
      ]
     },
     "metadata": {},
     "output_type": "display_data"
    },
    {
     "data": {
      "application/vnd.jupyter.widget-view+json": {
       "model_id": "",
       "version_major": 2,
       "version_minor": 0
      },
      "text/plain": [
       "aia_lev1_304a_2011_02_03t15_00_08_12z_image_lev1.fits:   0%|          | 0.00/9.91M [00:00<?, ?B/s]"
      ]
     },
     "metadata": {},
     "output_type": "display_data"
    },
    {
     "data": {
      "application/vnd.jupyter.widget-view+json": {
       "model_id": "",
       "version_major": 2,
       "version_minor": 0
      },
      "text/plain": [
       "aia_lev1_304a_2011_02_03t10_00_08_12z_image_lev1.fits:   0%|          | 0.00/9.94M [00:00<?, ?B/s]"
      ]
     },
     "metadata": {},
     "output_type": "display_data"
    },
    {
     "data": {
      "application/vnd.jupyter.widget-view+json": {
       "model_id": "",
       "version_major": 2,
       "version_minor": 0
      },
      "text/plain": [
       "aia_lev1_304a_2011_02_03t18_00_08_12z_image_lev1.fits:   0%|          | 0.00/9.92M [00:00<?, ?B/s]"
      ]
     },
     "metadata": {},
     "output_type": "display_data"
    },
    {
     "data": {
      "application/vnd.jupyter.widget-view+json": {
       "model_id": "",
       "version_major": 2,
       "version_minor": 0
      },
      "text/plain": [
       "aia_lev1_304a_2011_02_03t20_00_08_12z_image_lev1.fits:   0%|          | 0.00/9.93M [00:00<?, ?B/s]"
      ]
     },
     "metadata": {},
     "output_type": "display_data"
    },
    {
     "data": {
      "application/vnd.jupyter.widget-view+json": {
       "model_id": "",
       "version_major": 2,
       "version_minor": 0
      },
      "text/plain": [
       "aia_lev1_304a_2011_02_03t21_00_00_51z_image_lev1.fits:   0%|          | 0.00/6.92M [00:00<?, ?B/s]"
      ]
     },
     "metadata": {},
     "output_type": "display_data"
    },
    {
     "data": {
      "application/vnd.jupyter.widget-view+json": {
       "model_id": "",
       "version_major": 2,
       "version_minor": 0
      },
      "text/plain": [
       "aia_lev1_304a_2011_02_03t16_00_08_12z_image_lev1.fits:   0%|          | 0.00/9.91M [00:00<?, ?B/s]"
      ]
     },
     "metadata": {},
     "output_type": "display_data"
    },
    {
     "data": {
      "application/vnd.jupyter.widget-view+json": {
       "model_id": "",
       "version_major": 2,
       "version_minor": 0
      },
      "text/plain": [
       "aia_lev1_304a_2011_02_03t22_00_08_12z_image_lev1.fits:   0%|          | 0.00/9.93M [00:00<?, ?B/s]"
      ]
     },
     "metadata": {},
     "output_type": "display_data"
    },
    {
     "data": {
      "application/vnd.jupyter.widget-view+json": {
       "model_id": "",
       "version_major": 2,
       "version_minor": 0
      },
      "text/plain": [
       "aia_lev1_304a_2011_02_03t17_00_08_13z_image_lev1.fits:   0%|          | 0.00/9.91M [00:00<?, ?B/s]"
      ]
     },
     "metadata": {},
     "output_type": "display_data"
    },
    {
     "data": {
      "application/vnd.jupyter.widget-view+json": {
       "model_id": "",
       "version_major": 2,
       "version_minor": 0
      },
      "text/plain": [
       "aia_lev1_304a_2011_02_03t19_00_08_12z_image_lev1.fits:   0%|          | 0.00/9.92M [00:00<?, ?B/s]"
      ]
     },
     "metadata": {},
     "output_type": "display_data"
    },
    {
     "data": {
      "application/vnd.jupyter.widget-view+json": {
       "model_id": "",
       "version_major": 2,
       "version_minor": 0
      },
      "text/plain": [
       "aia_lev1_304a_2011_02_04t00_00_08_12z_image_lev1.fits:   0%|          | 0.00/9.93M [00:00<?, ?B/s]"
      ]
     },
     "metadata": {},
     "output_type": "display_data"
    },
    {
     "data": {
      "application/vnd.jupyter.widget-view+json": {
       "model_id": "",
       "version_major": 2,
       "version_minor": 0
      },
      "text/plain": [
       "aia_lev1_304a_2011_02_04t01_00_08_12z_image_lev1.fits:   0%|          | 0.00/9.93M [00:00<?, ?B/s]"
      ]
     },
     "metadata": {},
     "output_type": "display_data"
    },
    {
     "data": {
      "application/vnd.jupyter.widget-view+json": {
       "model_id": "",
       "version_major": 2,
       "version_minor": 0
      },
      "text/plain": [
       "aia_lev1_304a_2011_02_04t04_00_08_12z_image_lev1.fits:   0%|          | 0.00/9.92M [00:00<?, ?B/s]"
      ]
     },
     "metadata": {},
     "output_type": "display_data"
    },
    {
     "data": {
      "application/vnd.jupyter.widget-view+json": {
       "model_id": "",
       "version_major": 2,
       "version_minor": 0
      },
      "text/plain": [
       "aia_lev1_304a_2011_02_04t06_00_08_12z_image_lev1.fits:   0%|          | 0.00/9.95M [00:00<?, ?B/s]"
      ]
     },
     "metadata": {},
     "output_type": "display_data"
    },
    {
     "data": {
      "application/vnd.jupyter.widget-view+json": {
       "model_id": "",
       "version_major": 2,
       "version_minor": 0
      },
      "text/plain": [
       "aia_lev1_304a_2011_02_04t08_00_08_12z_image_lev1.fits:   0%|          | 0.00/9.95M [00:00<?, ?B/s]"
      ]
     },
     "metadata": {},
     "output_type": "display_data"
    },
    {
     "data": {
      "application/vnd.jupyter.widget-view+json": {
       "model_id": "",
       "version_major": 2,
       "version_minor": 0
      },
      "text/plain": [
       "aia_lev1_304a_2011_02_04t09_00_08_12z_image_lev1.fits:   0%|          | 0.00/9.94M [00:00<?, ?B/s]"
      ]
     },
     "metadata": {},
     "output_type": "display_data"
    },
    {
     "data": {
      "application/vnd.jupyter.widget-view+json": {
       "model_id": "",
       "version_major": 2,
       "version_minor": 0
      },
      "text/plain": [
       "aia_lev1_304a_2011_02_04t05_00_08_12z_image_lev1.fits:   0%|          | 0.00/9.93M [00:00<?, ?B/s]"
      ]
     },
     "metadata": {},
     "output_type": "display_data"
    },
    {
     "data": {
      "application/vnd.jupyter.widget-view+json": {
       "model_id": "",
       "version_major": 2,
       "version_minor": 0
      },
      "text/plain": [
       "aia_lev1_304a_2011_02_04t07_00_08_12z_image_lev1.fits:   0%|          | 0.00/9.98M [00:00<?, ?B/s]"
      ]
     },
     "metadata": {},
     "output_type": "display_data"
    },
    {
     "data": {
      "application/vnd.jupyter.widget-view+json": {
       "model_id": "",
       "version_major": 2,
       "version_minor": 0
      },
      "text/plain": [
       "aia_lev1_304a_2011_02_04t10_00_08_12z_image_lev1.fits:   0%|          | 0.00/9.95M [00:00<?, ?B/s]"
      ]
     },
     "metadata": {},
     "output_type": "display_data"
    },
    {
     "data": {
      "application/vnd.jupyter.widget-view+json": {
       "model_id": "",
       "version_major": 2,
       "version_minor": 0
      },
      "text/plain": [
       "aia_lev1_304a_2011_02_04t11_00_08_12z_image_lev1.fits:   0%|          | 0.00/9.94M [00:00<?, ?B/s]"
      ]
     },
     "metadata": {},
     "output_type": "display_data"
    },
    {
     "data": {
      "application/vnd.jupyter.widget-view+json": {
       "model_id": "",
       "version_major": 2,
       "version_minor": 0
      },
      "text/plain": [
       "aia_lev1_304a_2011_02_04t12_00_08_12z_image_lev1.fits:   0%|          | 0.00/9.94M [00:00<?, ?B/s]"
      ]
     },
     "metadata": {},
     "output_type": "display_data"
    },
    {
     "data": {
      "application/vnd.jupyter.widget-view+json": {
       "model_id": "",
       "version_major": 2,
       "version_minor": 0
      },
      "text/plain": [
       "aia_lev1_304a_2011_02_04t14_00_08_12z_image_lev1.fits:   0%|          | 0.00/9.93M [00:00<?, ?B/s]"
      ]
     },
     "metadata": {},
     "output_type": "display_data"
    },
    {
     "data": {
      "application/vnd.jupyter.widget-view+json": {
       "model_id": "",
       "version_major": 2,
       "version_minor": 0
      },
      "text/plain": [
       "aia_lev1_304a_2011_02_04t15_00_08_14z_image_lev1.fits:   0%|          | 0.00/9.94M [00:00<?, ?B/s]"
      ]
     },
     "metadata": {},
     "output_type": "display_data"
    },
    {
     "data": {
      "application/vnd.jupyter.widget-view+json": {
       "model_id": "",
       "version_major": 2,
       "version_minor": 0
      },
      "text/plain": [
       "aia_lev1_304a_2011_02_04t16_00_08_12z_image_lev1.fits:   0%|          | 0.00/9.93M [00:00<?, ?B/s]"
      ]
     },
     "metadata": {},
     "output_type": "display_data"
    },
    {
     "data": {
      "application/vnd.jupyter.widget-view+json": {
       "model_id": "",
       "version_major": 2,
       "version_minor": 0
      },
      "text/plain": [
       "aia_lev1_304a_2011_02_04t17_00_08_12z_image_lev1.fits:   0%|          | 0.00/9.93M [00:00<?, ?B/s]"
      ]
     },
     "metadata": {},
     "output_type": "display_data"
    },
    {
     "data": {
      "application/vnd.jupyter.widget-view+json": {
       "model_id": "",
       "version_major": 2,
       "version_minor": 0
      },
      "text/plain": [
       "aia_lev1_304a_2011_02_04t18_00_08_12z_image_lev1.fits:   0%|          | 0.00/9.92M [00:00<?, ?B/s]"
      ]
     },
     "metadata": {},
     "output_type": "display_data"
    },
    {
     "data": {
      "application/vnd.jupyter.widget-view+json": {
       "model_id": "",
       "version_major": 2,
       "version_minor": 0
      },
      "text/plain": [
       "aia_lev1_304a_2011_02_04t20_00_08_12z_image_lev1.fits:   0%|          | 0.00/9.94M [00:00<?, ?B/s]"
      ]
     },
     "metadata": {},
     "output_type": "display_data"
    },
    {
     "data": {
      "application/vnd.jupyter.widget-view+json": {
       "model_id": "",
       "version_major": 2,
       "version_minor": 0
      },
      "text/plain": [
       "aia_lev1_304a_2011_02_04t21_00_00_51z_image_lev1.fits:   0%|          | 0.00/6.92M [00:00<?, ?B/s]"
      ]
     },
     "metadata": {},
     "output_type": "display_data"
    },
    {
     "data": {
      "application/vnd.jupyter.widget-view+json": {
       "model_id": "",
       "version_major": 2,
       "version_minor": 0
      },
      "text/plain": [
       "aia_lev1_304a_2011_02_04t13_00_08_12z_image_lev1.fits:   0%|          | 0.00/9.94M [00:00<?, ?B/s]"
      ]
     },
     "metadata": {},
     "output_type": "display_data"
    },
    {
     "data": {
      "application/vnd.jupyter.widget-view+json": {
       "model_id": "",
       "version_major": 2,
       "version_minor": 0
      },
      "text/plain": [
       "aia_lev1_304a_2011_02_04t19_00_08_12z_image_lev1.fits:   0%|          | 0.00/9.94M [00:00<?, ?B/s]"
      ]
     },
     "metadata": {},
     "output_type": "display_data"
    },
    {
     "data": {
      "application/vnd.jupyter.widget-view+json": {
       "model_id": "",
       "version_major": 2,
       "version_minor": 0
      },
      "text/plain": [
       "aia_lev1_304a_2011_02_05t00_00_08_12z_image_lev1.fits:   0%|          | 0.00/9.97M [00:00<?, ?B/s]"
      ]
     },
     "metadata": {},
     "output_type": "display_data"
    },
    {
     "data": {
      "application/vnd.jupyter.widget-view+json": {
       "model_id": "",
       "version_major": 2,
       "version_minor": 0
      },
      "text/plain": [
       "aia_lev1_304a_2011_02_05t01_00_08_12z_image_lev1.fits:   0%|          | 0.00/9.94M [00:00<?, ?B/s]"
      ]
     },
     "metadata": {},
     "output_type": "display_data"
    },
    {
     "data": {
      "application/vnd.jupyter.widget-view+json": {
       "model_id": "",
       "version_major": 2,
       "version_minor": 0
      },
      "text/plain": [
       "aia_lev1_304a_2011_02_04t22_00_08_12z_image_lev1.fits:   0%|          | 0.00/9.95M [00:00<?, ?B/s]"
      ]
     },
     "metadata": {},
     "output_type": "display_data"
    },
    {
     "data": {
      "application/vnd.jupyter.widget-view+json": {
       "model_id": "",
       "version_major": 2,
       "version_minor": 0
      },
      "text/plain": [
       "aia_lev1_304a_2011_02_05t03_00_08_13z_image_lev1.fits:   0%|          | 0.00/9.93M [00:00<?, ?B/s]"
      ]
     },
     "metadata": {},
     "output_type": "display_data"
    },
    {
     "data": {
      "application/vnd.jupyter.widget-view+json": {
       "model_id": "",
       "version_major": 2,
       "version_minor": 0
      },
      "text/plain": [
       "aia_lev1_304a_2011_02_05t02_00_08_12z_image_lev1.fits:   0%|          | 0.00/9.93M [00:00<?, ?B/s]"
      ]
     },
     "metadata": {},
     "output_type": "display_data"
    },
    {
     "data": {
      "application/vnd.jupyter.widget-view+json": {
       "model_id": "",
       "version_major": 2,
       "version_minor": 0
      },
      "text/plain": [
       "aia_lev1_304a_2011_02_04t23_00_08_14z_image_lev1.fits:   0%|          | 0.00/9.94M [00:00<?, ?B/s]"
      ]
     },
     "metadata": {},
     "output_type": "display_data"
    },
    {
     "data": {
      "application/vnd.jupyter.widget-view+json": {
       "model_id": "baad8119eb4b446ebf96f0496909ffb8",
       "version_major": 2,
       "version_minor": 0
      },
      "text/plain": [
       "aia_lev1_304a_2011_02_05t04_00_08_12z_image_lev1.fits:   0%|          | 0.00/9.92M [00:00<?, ?B/s]"
      ]
     },
     "metadata": {},
     "output_type": "display_data"
    },
    {
     "data": {
      "application/vnd.jupyter.widget-view+json": {
       "model_id": "7f300aa0d03b4dfbb27746e20924ff6e",
       "version_major": 2,
       "version_minor": 0
      },
      "text/plain": [
       "aia_lev1_304a_2011_02_05t06_00_08_12z_image_lev1.fits:   0%|          | 0.00/9.94M [00:00<?, ?B/s]"
      ]
     },
     "metadata": {},
     "output_type": "display_data"
    },
    {
     "data": {
      "application/vnd.jupyter.widget-view+json": {
       "model_id": "4545cda81cac41679efbf35842e79f01",
       "version_major": 2,
       "version_minor": 0
      },
      "text/plain": [
       "aia_lev1_304a_2011_02_05t07_00_08_13z_image_lev1.fits:   0%|          | 0.00/10.0M [00:00<?, ?B/s]"
      ]
     },
     "metadata": {},
     "output_type": "display_data"
    },
    {
     "data": {
      "application/vnd.jupyter.widget-view+json": {
       "model_id": "9f7f5ce2f83740798dccfdce9a1de824",
       "version_major": 2,
       "version_minor": 0
      },
      "text/plain": [
       "aia_lev1_304a_2011_02_05t08_00_08_12z_image_lev1.fits:   0%|          | 0.00/10.0M [00:00<?, ?B/s]"
      ]
     },
     "metadata": {},
     "output_type": "display_data"
    },
    {
     "data": {
      "application/vnd.jupyter.widget-view+json": {
       "model_id": "a0af37a6a8e7412b98364d44089f3d72",
       "version_major": 2,
       "version_minor": 0
      },
      "text/plain": [
       "aia_lev1_304a_2011_02_05t09_00_08_12z_image_lev1.fits:   0%|          | 0.00/10.0M [00:00<?, ?B/s]"
      ]
     },
     "metadata": {},
     "output_type": "display_data"
    },
    {
     "data": {
      "application/vnd.jupyter.widget-view+json": {
       "model_id": "85888e86662f4c51b6d6a76d2480dbcc",
       "version_major": 2,
       "version_minor": 0
      },
      "text/plain": [
       "aia_lev1_304a_2011_02_05t10_00_08_13z_image_lev1.fits:   0%|          | 0.00/10.1M [00:00<?, ?B/s]"
      ]
     },
     "metadata": {},
     "output_type": "display_data"
    },
    {
     "data": {
      "application/vnd.jupyter.widget-view+json": {
       "model_id": "bbadb0e9132244b4ad6036d297e596b4",
       "version_major": 2,
       "version_minor": 0
      },
      "text/plain": [
       "aia_lev1_304a_2011_02_05t05_00_08_14z_image_lev1.fits:   0%|          | 0.00/9.92M [00:00<?, ?B/s]"
      ]
     },
     "metadata": {},
     "output_type": "display_data"
    },
    {
     "data": {
      "application/vnd.jupyter.widget-view+json": {
       "model_id": "daf8a7177fae4d52bc607ebea68ed57e",
       "version_major": 2,
       "version_minor": 0
      },
      "text/plain": [
       "aia_lev1_304a_2011_02_05t12_00_08_12z_image_lev1.fits:   0%|          | 0.00/9.95M [00:00<?, ?B/s]"
      ]
     },
     "metadata": {},
     "output_type": "display_data"
    },
    {
     "data": {
      "application/vnd.jupyter.widget-view+json": {
       "model_id": "17c5cbe0ef344882a1f5fc21acd1e100",
       "version_major": 2,
       "version_minor": 0
      },
      "text/plain": [
       "aia_lev1_304a_2011_02_05t13_00_08_12z_image_lev1.fits:   0%|          | 0.00/9.94M [00:00<?, ?B/s]"
      ]
     },
     "metadata": {},
     "output_type": "display_data"
    },
    {
     "data": {
      "application/vnd.jupyter.widget-view+json": {
       "model_id": "644d30fe088d4e0eaa71e2a4db024667",
       "version_major": 2,
       "version_minor": 0
      },
      "text/plain": [
       "aia_lev1_304a_2011_02_05t14_00_08_12z_image_lev1.fits:   0%|          | 0.00/9.93M [00:00<?, ?B/s]"
      ]
     },
     "metadata": {},
     "output_type": "display_data"
    },
    {
     "data": {
      "application/vnd.jupyter.widget-view+json": {
       "model_id": "b4933c9ce5af40e18464d199d0008f0f",
       "version_major": 2,
       "version_minor": 0
      },
      "text/plain": [
       "aia_lev1_304a_2011_02_05t17_00_08_12z_image_lev1.fits:   0%|          | 0.00/9.95M [00:00<?, ?B/s]"
      ]
     },
     "metadata": {},
     "output_type": "display_data"
    },
    {
     "data": {
      "application/vnd.jupyter.widget-view+json": {
       "model_id": "1f62cd97db2e4748b340c0029b7ff045",
       "version_major": 2,
       "version_minor": 0
      },
      "text/plain": [
       "aia_lev1_304a_2011_02_05t18_00_08_12z_image_lev1.fits:   0%|          | 0.00/9.94M [00:00<?, ?B/s]"
      ]
     },
     "metadata": {},
     "output_type": "display_data"
    },
    {
     "data": {
      "application/vnd.jupyter.widget-view+json": {
       "model_id": "813d56b274b8406aaf6e4d2b68f61e3a",
       "version_major": 2,
       "version_minor": 0
      },
      "text/plain": [
       "aia_lev1_304a_2011_02_05t20_00_08_12z_image_lev1.fits:   0%|          | 0.00/9.95M [00:00<?, ?B/s]"
      ]
     },
     "metadata": {},
     "output_type": "display_data"
    },
    {
     "data": {
      "application/vnd.jupyter.widget-view+json": {
       "model_id": "0b155035e00f43c4b66e99fd2d20b741",
       "version_major": 2,
       "version_minor": 0
      },
      "text/plain": [
       "aia_lev1_304a_2011_02_05t21_00_00_51z_image_lev1.fits:   0%|          | 0.00/6.92M [00:00<?, ?B/s]"
      ]
     },
     "metadata": {},
     "output_type": "display_data"
    },
    {
     "data": {
      "application/vnd.jupyter.widget-view+json": {
       "model_id": "dc5e3ca727264f1d8d43ef07cf9bae55",
       "version_major": 2,
       "version_minor": 0
      },
      "text/plain": [
       "aia_lev1_304a_2011_02_05t22_00_08_12z_image_lev1.fits:   0%|          | 0.00/9.96M [00:00<?, ?B/s]"
      ]
     },
     "metadata": {},
     "output_type": "display_data"
    },
    {
     "data": {
      "application/vnd.jupyter.widget-view+json": {
       "model_id": "2bcd0bcca28b4f1f87a5626d73d0e7b9",
       "version_major": 2,
       "version_minor": 0
      },
      "text/plain": [
       "aia_lev1_304a_2011_02_05t23_00_08_12z_image_lev1.fits:   0%|          | 0.00/9.98M [00:00<?, ?B/s]"
      ]
     },
     "metadata": {},
     "output_type": "display_data"
    },
    {
     "data": {
      "application/vnd.jupyter.widget-view+json": {
       "model_id": "9f8b37c82ea74769bac3ab08d8ee8a34",
       "version_major": 2,
       "version_minor": 0
      },
      "text/plain": [
       "aia_lev1_304a_2011_02_05t19_00_08_12z_image_lev1.fits:   0%|          | 0.00/9.93M [00:00<?, ?B/s]"
      ]
     },
     "metadata": {},
     "output_type": "display_data"
    },
    {
     "data": {
      "application/vnd.jupyter.widget-view+json": {
       "model_id": "4ff7ee6b12444eb4973190dc20520597",
       "version_major": 2,
       "version_minor": 0
      },
      "text/plain": [
       "aia_lev1_304a_2011_02_06t00_00_08_13z_image_lev1.fits:   0%|          | 0.00/9.97M [00:00<?, ?B/s]"
      ]
     },
     "metadata": {},
     "output_type": "display_data"
    },
    {
     "data": {
      "application/vnd.jupyter.widget-view+json": {
       "model_id": "a6c001296b8747329f6aa047d3e31719",
       "version_major": 2,
       "version_minor": 0
      },
      "text/plain": [
       "aia_lev1_304a_2011_02_06t02_00_08_14z_image_lev1.fits:   0%|          | 0.00/9.94M [00:00<?, ?B/s]"
      ]
     },
     "metadata": {},
     "output_type": "display_data"
    },
    {
     "data": {
      "application/vnd.jupyter.widget-view+json": {
       "model_id": "3b4ecddd21c844bfb4c37f19d3c39695",
       "version_major": 2,
       "version_minor": 0
      },
      "text/plain": [
       "aia_lev1_304a_2011_02_06t03_00_08_12z_image_lev1.fits:   0%|          | 0.00/9.93M [00:00<?, ?B/s]"
      ]
     },
     "metadata": {},
     "output_type": "display_data"
    },
    {
     "data": {
      "application/vnd.jupyter.widget-view+json": {
       "model_id": "c35b493022674bbe98a0c644a465b3a9",
       "version_major": 2,
       "version_minor": 0
      },
      "text/plain": [
       "aia_lev1_304a_2011_02_06t04_00_08_12z_image_lev1.fits:   0%|          | 0.00/9.99M [00:00<?, ?B/s]"
      ]
     },
     "metadata": {},
     "output_type": "display_data"
    },
    {
     "data": {
      "application/vnd.jupyter.widget-view+json": {
       "model_id": "e5379c1583b049829ba982497a86dd94",
       "version_major": 2,
       "version_minor": 0
      },
      "text/plain": [
       "aia_lev1_304a_2011_02_06t05_00_08_12z_image_lev1.fits:   0%|          | 0.00/10.0M [00:00<?, ?B/s]"
      ]
     },
     "metadata": {},
     "output_type": "display_data"
    },
    {
     "data": {
      "application/vnd.jupyter.widget-view+json": {
       "model_id": "f363960092604ee08ad3553937b9265e",
       "version_major": 2,
       "version_minor": 0
      },
      "text/plain": [
       "aia_lev1_304a_2011_02_06t01_00_08_12z_image_lev1.fits:   0%|          | 0.00/9.96M [00:00<?, ?B/s]"
      ]
     },
     "metadata": {},
     "output_type": "display_data"
    },
    {
     "data": {
      "application/vnd.jupyter.widget-view+json": {
       "model_id": "fcf071a141844ce7b6762167602d9941",
       "version_major": 2,
       "version_minor": 0
      },
      "text/plain": [
       "aia_lev1_304a_2011_02_06t06_00_08_12z_image_lev1.fits:   0%|          | 0.00/9.96M [00:00<?, ?B/s]"
      ]
     },
     "metadata": {},
     "output_type": "display_data"
    },
    {
     "data": {
      "application/vnd.jupyter.widget-view+json": {
       "model_id": "f86cd2b552ff497ca471d949c6d920a9",
       "version_major": 2,
       "version_minor": 0
      },
      "text/plain": [
       "aia_lev1_304a_2011_02_06t08_00_08_13z_image_lev1.fits:   0%|          | 0.00/10.0M [00:00<?, ?B/s]"
      ]
     },
     "metadata": {},
     "output_type": "display_data"
    },
    {
     "data": {
      "application/vnd.jupyter.widget-view+json": {
       "model_id": "353dce44e33444a5bfe428bf5880734a",
       "version_major": 2,
       "version_minor": 0
      },
      "text/plain": [
       "aia_lev1_304a_2011_02_06t09_00_08_12z_image_lev1.fits:   0%|          | 0.00/10.3M [00:00<?, ?B/s]"
      ]
     },
     "metadata": {},
     "output_type": "display_data"
    },
    {
     "data": {
      "application/vnd.jupyter.widget-view+json": {
       "model_id": "54f31d7991b14e9eab860dbf4d905923",
       "version_major": 2,
       "version_minor": 0
      },
      "text/plain": [
       "aia_lev1_304a_2011_02_06t10_00_08_12z_image_lev1.fits:   0%|          | 0.00/10.1M [00:00<?, ?B/s]"
      ]
     },
     "metadata": {},
     "output_type": "display_data"
    },
    {
     "data": {
      "application/vnd.jupyter.widget-view+json": {
       "model_id": "f9b08aa08ad24df5b087a7f3da821151",
       "version_major": 2,
       "version_minor": 0
      },
      "text/plain": [
       "aia_lev1_304a_2011_02_06t12_00_08_12z_image_lev1.fits:   0%|          | 0.00/10.0M [00:00<?, ?B/s]"
      ]
     },
     "metadata": {},
     "output_type": "display_data"
    },
    {
     "data": {
      "application/vnd.jupyter.widget-view+json": {
       "model_id": "e047d4008b10425faba45d7d19d80fb4",
       "version_major": 2,
       "version_minor": 0
      },
      "text/plain": [
       "aia_lev1_304a_2011_02_06t07_00_08_13z_image_lev1.fits:   0%|          | 0.00/10.0M [00:00<?, ?B/s]"
      ]
     },
     "metadata": {},
     "output_type": "display_data"
    },
    {
     "data": {
      "application/vnd.jupyter.widget-view+json": {
       "model_id": "f0d8f77ffca94c87a04f25a1432332ae",
       "version_major": 2,
       "version_minor": 0
      },
      "text/plain": [
       "aia_lev1_304a_2011_02_06t14_00_08_12z_image_lev1.fits:   0%|          | 0.00/9.93M [00:00<?, ?B/s]"
      ]
     },
     "metadata": {},
     "output_type": "display_data"
    },
    {
     "data": {
      "application/vnd.jupyter.widget-view+json": {
       "model_id": "1526651cee53482cbd97acf36b45cddc",
       "version_major": 2,
       "version_minor": 0
      },
      "text/plain": [
       "aia_lev1_304a_2011_02_06t16_00_08_12z_image_lev1.fits:   0%|          | 0.00/9.95M [00:00<?, ?B/s]"
      ]
     },
     "metadata": {},
     "output_type": "display_data"
    },
    {
     "data": {
      "application/vnd.jupyter.widget-view+json": {
       "model_id": "50cf9ea8053a4498a99210d1feec496c",
       "version_major": 2,
       "version_minor": 0
      },
      "text/plain": [
       "aia_lev1_304a_2011_02_06t11_00_08_12z_image_lev1.fits:   0%|          | 0.00/10.0M [00:00<?, ?B/s]"
      ]
     },
     "metadata": {},
     "output_type": "display_data"
    },
    {
     "data": {
      "application/vnd.jupyter.widget-view+json": {
       "model_id": "36c439d9d07443da8a842a76ff3c1f31",
       "version_major": 2,
       "version_minor": 0
      },
      "text/plain": [
       "aia_lev1_304a_2011_02_06t13_00_08_12z_image_lev1.fits:   0%|          | 0.00/9.98M [00:00<?, ?B/s]"
      ]
     },
     "metadata": {},
     "output_type": "display_data"
    },
    {
     "data": {
      "application/vnd.jupyter.widget-view+json": {
       "model_id": "aad832bf3eeb47cea24939794756d1b7",
       "version_major": 2,
       "version_minor": 0
      },
      "text/plain": [
       "aia_lev1_304a_2011_02_06t18_00_08_12z_image_lev1.fits:   0%|          | 0.00/9.94M [00:00<?, ?B/s]"
      ]
     },
     "metadata": {},
     "output_type": "display_data"
    },
    {
     "data": {
      "application/vnd.jupyter.widget-view+json": {
       "model_id": "87f2a46ea51c42309b3b83db8db639b4",
       "version_major": 2,
       "version_minor": 0
      },
      "text/plain": [
       "aia_lev1_304a_2011_02_06t15_00_08_12z_image_lev1.fits:   0%|          | 0.00/9.95M [00:00<?, ?B/s]"
      ]
     },
     "metadata": {},
     "output_type": "display_data"
    },
    {
     "data": {
      "application/vnd.jupyter.widget-view+json": {
       "model_id": "9a9504a8cffb4042b05826f1b22b2175",
       "version_major": 2,
       "version_minor": 0
      },
      "text/plain": [
       "aia_lev1_304a_2011_02_06t19_00_08_12z_image_lev1.fits:   0%|          | 0.00/9.93M [00:00<?, ?B/s]"
      ]
     },
     "metadata": {},
     "output_type": "display_data"
    },
    {
     "data": {
      "application/vnd.jupyter.widget-view+json": {
       "model_id": "bd0a01567395440983b3b1487ef04e65",
       "version_major": 2,
       "version_minor": 0
      },
      "text/plain": [
       "aia_lev1_304a_2011_02_06t20_00_08_13z_image_lev1.fits:   0%|          | 0.00/9.92M [00:00<?, ?B/s]"
      ]
     },
     "metadata": {},
     "output_type": "display_data"
    },
    {
     "data": {
      "application/vnd.jupyter.widget-view+json": {
       "model_id": "9bdc39fcfff547d683905ba9870611ec",
       "version_major": 2,
       "version_minor": 0
      },
      "text/plain": [
       "aia_lev1_304a_2011_02_06t21_00_00_51z_image_lev1.fits:   0%|          | 0.00/6.92M [00:00<?, ?B/s]"
      ]
     },
     "metadata": {},
     "output_type": "display_data"
    },
    {
     "data": {
      "application/vnd.jupyter.widget-view+json": {
       "model_id": "f3158837a21948bbb42939b1f0ad3a33",
       "version_major": 2,
       "version_minor": 0
      },
      "text/plain": [
       "aia_lev1_304a_2011_02_06t17_00_08_12z_image_lev1.fits:   0%|          | 0.00/9.93M [00:00<?, ?B/s]"
      ]
     },
     "metadata": {},
     "output_type": "display_data"
    },
    {
     "data": {
      "application/vnd.jupyter.widget-view+json": {
       "model_id": "88f0a58cdbbe459db04623e16492f1b0",
       "version_major": 2,
       "version_minor": 0
      },
      "text/plain": [
       "aia_lev1_304a_2011_02_07t00_00_08_14z_image_lev1.fits:   0%|          | 0.00/9.97M [00:00<?, ?B/s]"
      ]
     },
     "metadata": {},
     "output_type": "display_data"
    },
    {
     "data": {
      "application/vnd.jupyter.widget-view+json": {
       "model_id": "352989b55465458f9ace48a80a1284fa",
       "version_major": 2,
       "version_minor": 0
      },
      "text/plain": [
       "aia_lev1_304a_2011_02_07t01_00_08_12z_image_lev1.fits:   0%|          | 0.00/9.95M [00:00<?, ?B/s]"
      ]
     },
     "metadata": {},
     "output_type": "display_data"
    },
    {
     "data": {
      "application/vnd.jupyter.widget-view+json": {
       "model_id": "a6d591c5e1e0407594a86ed22b51286a",
       "version_major": 2,
       "version_minor": 0
      },
      "text/plain": [
       "aia_lev1_304a_2011_02_06t22_00_08_14z_image_lev1.fits:   0%|          | 0.00/9.97M [00:00<?, ?B/s]"
      ]
     },
     "metadata": {},
     "output_type": "display_data"
    },
    {
     "data": {
      "application/vnd.jupyter.widget-view+json": {
       "model_id": "8c3f2f801f0d4624a806763029851504",
       "version_major": 2,
       "version_minor": 0
      },
      "text/plain": [
       "aia_lev1_304a_2011_02_06t23_00_08_12z_image_lev1.fits:   0%|          | 0.00/10.0M [00:00<?, ?B/s]"
      ]
     },
     "metadata": {},
     "output_type": "display_data"
    },
    {
     "data": {
      "application/vnd.jupyter.widget-view+json": {
       "model_id": "8bc4c5f1ca50459abf8b2b2148c2011c",
       "version_major": 2,
       "version_minor": 0
      },
      "text/plain": [
       "aia_lev1_304a_2011_02_07t03_00_08_12z_image_lev1.fits:   0%|          | 0.00/9.93M [00:00<?, ?B/s]"
      ]
     },
     "metadata": {},
     "output_type": "display_data"
    },
    {
     "data": {
      "application/vnd.jupyter.widget-view+json": {
       "model_id": "384a3815a1644579b480f2040ac624c3",
       "version_major": 2,
       "version_minor": 0
      },
      "text/plain": [
       "aia_lev1_304a_2011_02_07t04_00_08_12z_image_lev1.fits:   0%|          | 0.00/9.92M [00:00<?, ?B/s]"
      ]
     },
     "metadata": {},
     "output_type": "display_data"
    },
    {
     "data": {
      "application/vnd.jupyter.widget-view+json": {
       "model_id": "c555da40a66244b79d6377c055f844b6",
       "version_major": 2,
       "version_minor": 0
      },
      "text/plain": [
       "aia_lev1_304a_2011_02_07t05_00_08_12z_image_lev1.fits:   0%|          | 0.00/9.92M [00:00<?, ?B/s]"
      ]
     },
     "metadata": {},
     "output_type": "display_data"
    },
    {
     "data": {
      "application/vnd.jupyter.widget-view+json": {
       "model_id": "546d42c27c224ebc856813eb3328efe4",
       "version_major": 2,
       "version_minor": 0
      },
      "text/plain": [
       "aia_lev1_304a_2011_02_07t06_00_08_12z_image_lev1.fits:   0%|          | 0.00/9.93M [00:00<?, ?B/s]"
      ]
     },
     "metadata": {},
     "output_type": "display_data"
    },
    {
     "data": {
      "application/vnd.jupyter.widget-view+json": {
       "model_id": "6081b0936ee74940af1b66b722d1119b",
       "version_major": 2,
       "version_minor": 0
      },
      "text/plain": [
       "aia_lev1_304a_2011_02_07t02_00_08_12z_image_lev1.fits:   0%|          | 0.00/9.93M [00:00<?, ?B/s]"
      ]
     },
     "metadata": {},
     "output_type": "display_data"
    },
    {
     "data": {
      "application/vnd.jupyter.widget-view+json": {
       "model_id": "6f11a65a1bb2466992db294c96c68a10",
       "version_major": 2,
       "version_minor": 0
      },
      "text/plain": [
       "aia_lev1_304a_2011_02_07t07_00_08_14z_image_lev1.fits:   0%|          | 0.00/9.93M [00:00<?, ?B/s]"
      ]
     },
     "metadata": {},
     "output_type": "display_data"
    },
    {
     "data": {
      "application/vnd.jupyter.widget-view+json": {
       "model_id": "9a6032eae1b249d09eb608f498ddf717",
       "version_major": 2,
       "version_minor": 0
      },
      "text/plain": [
       "aia_lev1_304a_2011_02_07t08_00_08_12z_image_lev1.fits:   0%|          | 0.00/9.95M [00:00<?, ?B/s]"
      ]
     },
     "metadata": {},
     "output_type": "display_data"
    },
    {
     "data": {
      "application/vnd.jupyter.widget-view+json": {
       "model_id": "54fb775a616642dd8a787132f30de6c4",
       "version_major": 2,
       "version_minor": 0
      },
      "text/plain": [
       "aia_lev1_304a_2011_02_07t09_00_08_12z_image_lev1.fits:   0%|          | 0.00/9.96M [00:00<?, ?B/s]"
      ]
     },
     "metadata": {},
     "output_type": "display_data"
    },
    {
     "data": {
      "application/vnd.jupyter.widget-view+json": {
       "model_id": "6ab6fbe525bc4162a15c630ec7d58d2e",
       "version_major": 2,
       "version_minor": 0
      },
      "text/plain": [
       "aia_lev1_304a_2011_02_07t13_00_08_12z_image_lev1.fits:   0%|          | 0.00/9.93M [00:00<?, ?B/s]"
      ]
     },
     "metadata": {},
     "output_type": "display_data"
    },
    {
     "data": {
      "application/vnd.jupyter.widget-view+json": {
       "model_id": "0e1cf47de5b946f1bfcabfd062797a0b",
       "version_major": 2,
       "version_minor": 0
      },
      "text/plain": [
       "aia_lev1_304a_2011_02_07t12_00_08_12z_image_lev1.fits:   0%|          | 0.00/9.92M [00:00<?, ?B/s]"
      ]
     },
     "metadata": {},
     "output_type": "display_data"
    },
    {
     "data": {
      "application/vnd.jupyter.widget-view+json": {
       "model_id": "98cd3ecadbe14b66ab7028b84ddc7fd4",
       "version_major": 2,
       "version_minor": 0
      },
      "text/plain": [
       "aia_lev1_304a_2011_02_07t11_00_08_12z_image_lev1.fits:   0%|          | 0.00/9.93M [00:00<?, ?B/s]"
      ]
     },
     "metadata": {},
     "output_type": "display_data"
    },
    {
     "data": {
      "application/vnd.jupyter.widget-view+json": {
       "model_id": "f946fa5c0be34a7282d2f907d25a2306",
       "version_major": 2,
       "version_minor": 0
      },
      "text/plain": [
       "aia_lev1_304a_2011_02_07t16_00_08_12z_image_lev1.fits:   0%|          | 0.00/9.92M [00:00<?, ?B/s]"
      ]
     },
     "metadata": {},
     "output_type": "display_data"
    },
    {
     "data": {
      "application/vnd.jupyter.widget-view+json": {
       "model_id": "6c7c78d932e14c379879665d77c6ba43",
       "version_major": 2,
       "version_minor": 0
      },
      "text/plain": [
       "aia_lev1_304a_2011_02_07t17_00_08_12z_image_lev1.fits:   0%|          | 0.00/9.93M [00:00<?, ?B/s]"
      ]
     },
     "metadata": {},
     "output_type": "display_data"
    },
    {
     "data": {
      "application/vnd.jupyter.widget-view+json": {
       "model_id": "00eb952066ec421980fab1da9c086d53",
       "version_major": 2,
       "version_minor": 0
      },
      "text/plain": [
       "aia_lev1_304a_2011_02_07t18_00_08_12z_image_lev1.fits:   0%|          | 0.00/9.92M [00:00<?, ?B/s]"
      ]
     },
     "metadata": {},
     "output_type": "display_data"
    },
    {
     "data": {
      "application/vnd.jupyter.widget-view+json": {
       "model_id": "53cd1f51d2c347eea486643f95519c1e",
       "version_major": 2,
       "version_minor": 0
      },
      "text/plain": [
       "aia_lev1_304a_2011_02_07t19_00_08_12z_image_lev1.fits:   0%|          | 0.00/9.93M [00:00<?, ?B/s]"
      ]
     },
     "metadata": {},
     "output_type": "display_data"
    },
    {
     "data": {
      "application/vnd.jupyter.widget-view+json": {
       "model_id": "fea2192227b044ca8cbc6b4ecc6c5bc7",
       "version_major": 2,
       "version_minor": 0
      },
      "text/plain": [
       "aia_lev1_304a_2011_02_07t15_00_08_12z_image_lev1.fits:   0%|          | 0.00/9.93M [00:00<?, ?B/s]"
      ]
     },
     "metadata": {},
     "output_type": "display_data"
    },
    {
     "data": {
      "application/vnd.jupyter.widget-view+json": {
       "model_id": "e1cfe3e6650741dc81e39345429bae3a",
       "version_major": 2,
       "version_minor": 0
      },
      "text/plain": [
       "aia_lev1_304a_2011_02_07t20_00_08_13z_image_lev1.fits:   0%|          | 0.00/9.95M [00:00<?, ?B/s]"
      ]
     },
     "metadata": {},
     "output_type": "display_data"
    },
    {
     "data": {
      "application/vnd.jupyter.widget-view+json": {
       "model_id": "3da45785c0ed4a08a00c6a77fc71748c",
       "version_major": 2,
       "version_minor": 0
      },
      "text/plain": [
       "aia_lev1_304a_2011_02_07t21_00_00_51z_image_lev1.fits:   0%|          | 0.00/6.93M [00:00<?, ?B/s]"
      ]
     },
     "metadata": {},
     "output_type": "display_data"
    },
    {
     "data": {
      "application/vnd.jupyter.widget-view+json": {
       "model_id": "e563b7e1c5cc435b967a0eeb786293fb",
       "version_major": 2,
       "version_minor": 0
      },
      "text/plain": [
       "aia_lev1_304a_2011_02_07t22_00_08_12z_image_lev1.fits:   0%|          | 0.00/9.97M [00:00<?, ?B/s]"
      ]
     },
     "metadata": {},
     "output_type": "display_data"
    },
    {
     "data": {
      "application/vnd.jupyter.widget-view+json": {
       "model_id": "730ba8f5cbb64a919127474c833b3853",
       "version_major": 2,
       "version_minor": 0
      },
      "text/plain": [
       "aia_lev1_304a_2011_02_07t23_00_08_12z_image_lev1.fits:   0%|          | 0.00/9.98M [00:00<?, ?B/s]"
      ]
     },
     "metadata": {},
     "output_type": "display_data"
    },
    {
     "data": {
      "application/vnd.jupyter.widget-view+json": {
       "model_id": "634d923afcb6491597507e4845be91ec",
       "version_major": 2,
       "version_minor": 0
      },
      "text/plain": [
       "aia_lev1_304a_2011_02_08t00_00_08_12z_image_lev1.fits:   0%|          | 0.00/9.98M [00:00<?, ?B/s]"
      ]
     },
     "metadata": {},
     "output_type": "display_data"
    },
    {
     "data": {
      "application/vnd.jupyter.widget-view+json": {
       "model_id": "23830ad42b6445e0b15454018ce6f07b",
       "version_major": 2,
       "version_minor": 0
      },
      "text/plain": [
       "aia_lev1_304a_2011_02_08t02_00_10_69z_image_lev1.fits:   0%|          | 0.00/8.67M [00:00<?, ?B/s]"
      ]
     },
     "metadata": {},
     "output_type": "display_data"
    },
    {
     "data": {
      "application/vnd.jupyter.widget-view+json": {
       "model_id": "5be77a2ead2642fdaccda7125290d376",
       "version_major": 2,
       "version_minor": 0
      },
      "text/plain": [
       "aia_lev1_304a_2011_02_08t03_00_08_12z_image_lev1.fits:   0%|          | 0.00/9.94M [00:00<?, ?B/s]"
      ]
     },
     "metadata": {},
     "output_type": "display_data"
    },
    {
     "data": {
      "application/vnd.jupyter.widget-view+json": {
       "model_id": "8ce27d96f34f4d08a479e52cd031aa69",
       "version_major": 2,
       "version_minor": 0
      },
      "text/plain": [
       "aia_lev1_304a_2011_02_08t01_00_08_12z_image_lev1.fits:   0%|          | 0.00/9.96M [00:00<?, ?B/s]"
      ]
     },
     "metadata": {},
     "output_type": "display_data"
    },
    {
     "data": {
      "application/vnd.jupyter.widget-view+json": {
       "model_id": "b59dd293c86c43d4ac8eb6324644e9ee",
       "version_major": 2,
       "version_minor": 0
      },
      "text/plain": [
       "aia_lev1_304a_2011_02_08t04_00_08_12z_image_lev1.fits:   0%|          | 0.00/9.95M [00:00<?, ?B/s]"
      ]
     },
     "metadata": {},
     "output_type": "display_data"
    },
    {
     "data": {
      "application/vnd.jupyter.widget-view+json": {
       "model_id": "9a1e3a34c52d49eaae18ffa807256dfa",
       "version_major": 2,
       "version_minor": 0
      },
      "text/plain": [
       "aia_lev1_304a_2011_02_08t05_00_08_12z_image_lev1.fits:   0%|          | 0.00/9.95M [00:00<?, ?B/s]"
      ]
     },
     "metadata": {},
     "output_type": "display_data"
    },
    {
     "data": {
      "application/vnd.jupyter.widget-view+json": {
       "model_id": "d5c54789e3114bc384f13a82695519a2",
       "version_major": 2,
       "version_minor": 0
      },
      "text/plain": [
       "aia_lev1_304a_2011_02_08t06_00_08_12z_image_lev1.fits:   0%|          | 0.00/9.96M [00:00<?, ?B/s]"
      ]
     },
     "metadata": {},
     "output_type": "display_data"
    },
    {
     "data": {
      "application/vnd.jupyter.widget-view+json": {
       "model_id": "b4270b2150f04fedbe22833842e88b65",
       "version_major": 2,
       "version_minor": 0
      },
      "text/plain": [
       "aia_lev1_304a_2011_02_08t07_00_08_12z_image_lev1.fits:   0%|          | 0.00/9.96M [00:00<?, ?B/s]"
      ]
     },
     "metadata": {},
     "output_type": "display_data"
    },
    {
     "data": {
      "application/vnd.jupyter.widget-view+json": {
       "model_id": "4ba11bc270ee4520aa157d8dac8259d1",
       "version_major": 2,
       "version_minor": 0
      },
      "text/plain": [
       "aia_lev1_304a_2011_02_08t08_00_08_12z_image_lev1.fits:   0%|          | 0.00/9.98M [00:00<?, ?B/s]"
      ]
     },
     "metadata": {},
     "output_type": "display_data"
    },
    {
     "data": {
      "application/vnd.jupyter.widget-view+json": {
       "model_id": "54e1899360ee4b5dad2bd144c0cd0796",
       "version_major": 2,
       "version_minor": 0
      },
      "text/plain": [
       "aia_lev1_304a_2011_02_08t10_00_08_12z_image_lev1.fits:   0%|          | 0.00/9.97M [00:00<?, ?B/s]"
      ]
     },
     "metadata": {},
     "output_type": "display_data"
    },
    {
     "data": {
      "application/vnd.jupyter.widget-view+json": {
       "model_id": "2fd7c30a8e554a04810f91e4f1e2246b",
       "version_major": 2,
       "version_minor": 0
      },
      "text/plain": [
       "aia_lev1_304a_2011_02_08t11_00_08_13z_image_lev1.fits:   0%|          | 0.00/9.98M [00:00<?, ?B/s]"
      ]
     },
     "metadata": {},
     "output_type": "display_data"
    },
    {
     "data": {
      "application/vnd.jupyter.widget-view+json": {
       "model_id": "1c803ef6529e4d28959253f6cf1e00ce",
       "version_major": 2,
       "version_minor": 0
      },
      "text/plain": [
       "aia_lev1_304a_2011_02_08t12_00_08_13z_image_lev1.fits:   0%|          | 0.00/9.95M [00:00<?, ?B/s]"
      ]
     },
     "metadata": {},
     "output_type": "display_data"
    },
    {
     "data": {
      "application/vnd.jupyter.widget-view+json": {
       "model_id": "dad570e8b6b845e6b6501e2c71fb5712",
       "version_major": 2,
       "version_minor": 0
      },
      "text/plain": [
       "aia_lev1_304a_2011_02_08t13_00_08_13z_image_lev1.fits:   0%|          | 0.00/9.94M [00:00<?, ?B/s]"
      ]
     },
     "metadata": {},
     "output_type": "display_data"
    },
    {
     "data": {
      "application/vnd.jupyter.widget-view+json": {
       "model_id": "cf234e156a5841f091d955fd3ab0a1a5",
       "version_major": 2,
       "version_minor": 0
      },
      "text/plain": [
       "aia_lev1_304a_2011_02_08t09_00_08_12z_image_lev1.fits:   0%|          | 0.00/9.98M [00:00<?, ?B/s]"
      ]
     },
     "metadata": {},
     "output_type": "display_data"
    },
    {
     "data": {
      "application/vnd.jupyter.widget-view+json": {
       "model_id": "658e650128db47668eb24bea0440cad2",
       "version_major": 2,
       "version_minor": 0
      },
      "text/plain": [
       "aia_lev1_304a_2011_02_08t14_00_08_12z_image_lev1.fits:   0%|          | 0.00/9.94M [00:00<?, ?B/s]"
      ]
     },
     "metadata": {},
     "output_type": "display_data"
    },
    {
     "data": {
      "application/vnd.jupyter.widget-view+json": {
       "model_id": "6a3c2f0f3f4249e1828540637b92056c",
       "version_major": 2,
       "version_minor": 0
      },
      "text/plain": [
       "aia_lev1_304a_2011_02_08t15_00_08_12z_image_lev1.fits:   0%|          | 0.00/9.95M [00:00<?, ?B/s]"
      ]
     },
     "metadata": {},
     "output_type": "display_data"
    },
    {
     "data": {
      "application/vnd.jupyter.widget-view+json": {
       "model_id": "092ebedf55ec4fee8c1aac223b5c2361",
       "version_major": 2,
       "version_minor": 0
      },
      "text/plain": [
       "aia_lev1_304a_2011_02_08t17_00_08_12z_image_lev1.fits:   0%|          | 0.00/9.95M [00:00<?, ?B/s]"
      ]
     },
     "metadata": {},
     "output_type": "display_data"
    },
    {
     "data": {
      "application/vnd.jupyter.widget-view+json": {
       "model_id": "e305a12935804b51b8ee704c740bb3d9",
       "version_major": 2,
       "version_minor": 0
      },
      "text/plain": [
       "aia_lev1_304a_2011_02_08t18_00_08_12z_image_lev1.fits:   0%|          | 0.00/9.95M [00:00<?, ?B/s]"
      ]
     },
     "metadata": {},
     "output_type": "display_data"
    },
    {
     "data": {
      "application/vnd.jupyter.widget-view+json": {
       "model_id": "4decc0817d5549008b49b7cbe35d8bdb",
       "version_major": 2,
       "version_minor": 0
      },
      "text/plain": [
       "aia_lev1_304a_2011_02_08t19_00_08_12z_image_lev1.fits:   0%|          | 0.00/9.97M [00:00<?, ?B/s]"
      ]
     },
     "metadata": {},
     "output_type": "display_data"
    },
    {
     "data": {
      "application/vnd.jupyter.widget-view+json": {
       "model_id": "d8f8d63b2cc04ff7a3d45c7ef760066a",
       "version_major": 2,
       "version_minor": 0
      },
      "text/plain": [
       "aia_lev1_304a_2011_02_08t20_00_08_14z_image_lev1.fits:   0%|          | 0.00/9.97M [00:00<?, ?B/s]"
      ]
     },
     "metadata": {},
     "output_type": "display_data"
    },
    {
     "data": {
      "application/vnd.jupyter.widget-view+json": {
       "model_id": "10b421cc8fe342adbf308b80c846870e",
       "version_major": 2,
       "version_minor": 0
      },
      "text/plain": [
       "aia_lev1_304a_2011_02_08t21_00_00_51z_image_lev1.fits:   0%|          | 0.00/6.92M [00:00<?, ?B/s]"
      ]
     },
     "metadata": {},
     "output_type": "display_data"
    },
    {
     "data": {
      "application/vnd.jupyter.widget-view+json": {
       "model_id": "5dcfa2301a5d4c83a125d326f9c3e11b",
       "version_major": 2,
       "version_minor": 0
      },
      "text/plain": [
       "aia_lev1_304a_2011_02_09t00_00_08_12z_image_lev1.fits:   0%|          | 0.00/9.99M [00:00<?, ?B/s]"
      ]
     },
     "metadata": {},
     "output_type": "display_data"
    },
    {
     "data": {
      "application/vnd.jupyter.widget-view+json": {
       "model_id": "fced07209eb74fd29407a52bf40ad41b",
       "version_major": 2,
       "version_minor": 0
      },
      "text/plain": [
       "aia_lev1_304a_2011_02_08t16_00_08_12z_image_lev1.fits:   0%|          | 0.00/9.94M [00:00<?, ?B/s]"
      ]
     },
     "metadata": {},
     "output_type": "display_data"
    },
    {
     "data": {
      "application/vnd.jupyter.widget-view+json": {
       "model_id": "cae7474859c947e093686eb6d3fd6bd1",
       "version_major": 2,
       "version_minor": 0
      },
      "text/plain": [
       "aia_lev1_304a_2011_02_09t02_00_08_12z_image_lev1.fits:   0%|          | 0.00/9.97M [00:00<?, ?B/s]"
      ]
     },
     "metadata": {},
     "output_type": "display_data"
    },
    {
     "data": {
      "application/vnd.jupyter.widget-view+json": {
       "model_id": "f4dafb0a5e994aae95ae816c300add35",
       "version_major": 2,
       "version_minor": 0
      },
      "text/plain": [
       "aia_lev1_304a_2011_02_09t03_00_08_12z_image_lev1.fits:   0%|          | 0.00/9.97M [00:00<?, ?B/s]"
      ]
     },
     "metadata": {},
     "output_type": "display_data"
    },
    {
     "data": {
      "application/vnd.jupyter.widget-view+json": {
       "model_id": "701df04634e34e6eb8bac71524a2ce4c",
       "version_major": 2,
       "version_minor": 0
      },
      "text/plain": [
       "aia_lev1_304a_2011_02_09t04_00_08_12z_image_lev1.fits:   0%|          | 0.00/9.97M [00:00<?, ?B/s]"
      ]
     },
     "metadata": {},
     "output_type": "display_data"
    },
    {
     "data": {
      "application/vnd.jupyter.widget-view+json": {
       "model_id": "c26479e5ed9b4d309b5548182bde408d",
       "version_major": 2,
       "version_minor": 0
      },
      "text/plain": [
       "aia_lev1_304a_2011_02_09t06_00_08_12z_image_lev1.fits:   0%|          | 0.00/9.96M [00:00<?, ?B/s]"
      ]
     },
     "metadata": {},
     "output_type": "display_data"
    },
    {
     "data": {
      "application/vnd.jupyter.widget-view+json": {
       "model_id": "f0d61020703344339191619beb8894be",
       "version_major": 2,
       "version_minor": 0
      },
      "text/plain": [
       "aia_lev1_304a_2011_02_09t01_00_08_12z_image_lev1.fits:   0%|          | 0.00/9.98M [00:00<?, ?B/s]"
      ]
     },
     "metadata": {},
     "output_type": "display_data"
    },
    {
     "data": {
      "application/vnd.jupyter.widget-view+json": {
       "model_id": "8536b16c16ab42079b04471f11ac22c2",
       "version_major": 2,
       "version_minor": 0
      },
      "text/plain": [
       "aia_lev1_304a_2011_02_09t07_00_08_12z_image_lev1.fits:   0%|          | 0.00/9.98M [00:00<?, ?B/s]"
      ]
     },
     "metadata": {},
     "output_type": "display_data"
    },
    {
     "data": {
      "application/vnd.jupyter.widget-view+json": {
       "model_id": "9956ddeebe304758a5343230f8fd4e0f",
       "version_major": 2,
       "version_minor": 0
      },
      "text/plain": [
       "aia_lev1_304a_2011_02_09t05_00_08_12z_image_lev1.fits:   0%|          | 0.00/9.97M [00:00<?, ?B/s]"
      ]
     },
     "metadata": {},
     "output_type": "display_data"
    },
    {
     "data": {
      "application/vnd.jupyter.widget-view+json": {
       "model_id": "2fb4772f81a74c69886d9b208cb43a47",
       "version_major": 2,
       "version_minor": 0
      },
      "text/plain": [
       "aia_lev1_304a_2011_02_09t08_00_08_12z_image_lev1.fits:   0%|          | 0.00/9.99M [00:00<?, ?B/s]"
      ]
     },
     "metadata": {},
     "output_type": "display_data"
    },
    {
     "data": {
      "application/vnd.jupyter.widget-view+json": {
       "model_id": "468ed708c7de4130915e2a22e4d8f3a0",
       "version_major": 2,
       "version_minor": 0
      },
      "text/plain": [
       "aia_lev1_304a_2011_02_09t09_00_08_12z_image_lev1.fits:   0%|          | 0.00/9.99M [00:00<?, ?B/s]"
      ]
     },
     "metadata": {},
     "output_type": "display_data"
    },
    {
     "data": {
      "application/vnd.jupyter.widget-view+json": {
       "model_id": "62ac998de126426b80975eec1c5b7dda",
       "version_major": 2,
       "version_minor": 0
      },
      "text/plain": [
       "aia_lev1_304a_2011_02_09t10_00_08_12z_image_lev1.fits:   0%|          | 0.00/10.0M [00:00<?, ?B/s]"
      ]
     },
     "metadata": {},
     "output_type": "display_data"
    },
    {
     "data": {
      "application/vnd.jupyter.widget-view+json": {
       "model_id": "446ff7329fb7494883bcdbfc6c1dded5",
       "version_major": 2,
       "version_minor": 0
      },
      "text/plain": [
       "aia_lev1_304a_2011_02_09t11_00_08_12z_image_lev1.fits:   0%|          | 0.00/9.98M [00:00<?, ?B/s]"
      ]
     },
     "metadata": {},
     "output_type": "display_data"
    },
    {
     "data": {
      "application/vnd.jupyter.widget-view+json": {
       "model_id": "c94fe0e821a349ea804354e3cc322fe3",
       "version_major": 2,
       "version_minor": 0
      },
      "text/plain": [
       "aia_lev1_304a_2011_02_09t12_00_08_12z_image_lev1.fits:   0%|          | 0.00/9.97M [00:00<?, ?B/s]"
      ]
     },
     "metadata": {},
     "output_type": "display_data"
    },
    {
     "data": {
      "application/vnd.jupyter.widget-view+json": {
       "model_id": "b92828b095f24e378c72770fe5c9b126",
       "version_major": 2,
       "version_minor": 0
      },
      "text/plain": [
       "aia_lev1_304a_2011_02_09t13_00_08_12z_image_lev1.fits:   0%|          | 0.00/9.96M [00:00<?, ?B/s]"
      ]
     },
     "metadata": {},
     "output_type": "display_data"
    },
    {
     "data": {
      "application/vnd.jupyter.widget-view+json": {
       "model_id": "33fe5fe4424f44b884202cb6063f9f3e",
       "version_major": 2,
       "version_minor": 0
      },
      "text/plain": [
       "aia_lev1_304a_2011_02_09t14_00_08_14z_image_lev1.fits:   0%|          | 0.00/9.96M [00:00<?, ?B/s]"
      ]
     },
     "metadata": {},
     "output_type": "display_data"
    },
    {
     "data": {
      "application/vnd.jupyter.widget-view+json": {
       "model_id": "d7913b45ec924cd5aca4db9c81df1f48",
       "version_major": 2,
       "version_minor": 0
      },
      "text/plain": [
       "aia_lev1_304a_2011_02_09t15_00_08_12z_image_lev1.fits:   0%|          | 0.00/9.96M [00:00<?, ?B/s]"
      ]
     },
     "metadata": {},
     "output_type": "display_data"
    },
    {
     "data": {
      "application/vnd.jupyter.widget-view+json": {
       "model_id": "47be083dd8c34d1890bba81ea33df4be",
       "version_major": 2,
       "version_minor": 0
      },
      "text/plain": [
       "aia_lev1_304a_2011_02_09t17_00_08_12z_image_lev1.fits:   0%|          | 0.00/9.96M [00:00<?, ?B/s]"
      ]
     },
     "metadata": {},
     "output_type": "display_data"
    },
    {
     "data": {
      "application/vnd.jupyter.widget-view+json": {
       "model_id": "aa70245a3f2b4874a95851bc3a9ed06a",
       "version_major": 2,
       "version_minor": 0
      },
      "text/plain": [
       "aia_lev1_304a_2011_02_09t18_00_08_12z_image_lev1.fits:   0%|          | 0.00/9.96M [00:00<?, ?B/s]"
      ]
     },
     "metadata": {},
     "output_type": "display_data"
    },
    {
     "data": {
      "application/vnd.jupyter.widget-view+json": {
       "model_id": "ee2652bc53234799baa55fb04922b7b9",
       "version_major": 2,
       "version_minor": 0
      },
      "text/plain": [
       "aia_lev1_304a_2011_02_09t19_00_08_12z_image_lev1.fits:   0%|          | 0.00/9.97M [00:00<?, ?B/s]"
      ]
     },
     "metadata": {},
     "output_type": "display_data"
    },
    {
     "data": {
      "application/vnd.jupyter.widget-view+json": {
       "model_id": "8c6b9ec57756494d83e1322a2fb83a5e",
       "version_major": 2,
       "version_minor": 0
      },
      "text/plain": [
       "aia_lev1_304a_2011_02_09t20_00_08_12z_image_lev1.fits:   0%|          | 0.00/9.97M [00:00<?, ?B/s]"
      ]
     },
     "metadata": {},
     "output_type": "display_data"
    },
    {
     "data": {
      "application/vnd.jupyter.widget-view+json": {
       "model_id": "9ec3056402014d6487aee04bd93b84e9",
       "version_major": 2,
       "version_minor": 0
      },
      "text/plain": [
       "aia_lev1_304a_2011_02_09t21_00_00_51z_image_lev1.fits:   0%|          | 0.00/6.92M [00:00<?, ?B/s]"
      ]
     },
     "metadata": {},
     "output_type": "display_data"
    },
    {
     "data": {
      "application/vnd.jupyter.widget-view+json": {
       "model_id": "051dff879fdd470fb710d1ee4266394b",
       "version_major": 2,
       "version_minor": 0
      },
      "text/plain": [
       "aia_lev1_304a_2011_02_09t22_00_08_12z_image_lev1.fits:   0%|          | 0.00/9.99M [00:00<?, ?B/s]"
      ]
     },
     "metadata": {},
     "output_type": "display_data"
    },
    {
     "data": {
      "application/vnd.jupyter.widget-view+json": {
       "model_id": "b3f861c7de1b41229ad19287421f4b77",
       "version_major": 2,
       "version_minor": 0
      },
      "text/plain": [
       "aia_lev1_304a_2011_02_09t23_00_08_12z_image_lev1.fits:   0%|          | 0.00/10.0M [00:00<?, ?B/s]"
      ]
     },
     "metadata": {},
     "output_type": "display_data"
    },
    {
     "data": {
      "application/vnd.jupyter.widget-view+json": {
       "model_id": "415ae95ce2074684a43a2905298895df",
       "version_major": 2,
       "version_minor": 0
      },
      "text/plain": [
       "aia_lev1_304a_2011_02_10t00_00_08_12z_image_lev1.fits:   0%|          | 0.00/9.99M [00:00<?, ?B/s]"
      ]
     },
     "metadata": {},
     "output_type": "display_data"
    },
    {
     "data": {
      "application/vnd.jupyter.widget-view+json": {
       "model_id": "ee72fea4dca9495cb7992916c1e9cb45",
       "version_major": 2,
       "version_minor": 0
      },
      "text/plain": [
       "aia_lev1_304a_2011_02_10t01_00_08_12z_image_lev1.fits:   0%|          | 0.00/9.99M [00:00<?, ?B/s]"
      ]
     },
     "metadata": {},
     "output_type": "display_data"
    },
    {
     "data": {
      "application/vnd.jupyter.widget-view+json": {
       "model_id": "ea0515cbaa67434c93a8496b884876c6",
       "version_major": 2,
       "version_minor": 0
      },
      "text/plain": [
       "aia_lev1_304a_2011_02_10t02_00_08_12z_image_lev1.fits:   0%|          | 0.00/9.98M [00:00<?, ?B/s]"
      ]
     },
     "metadata": {},
     "output_type": "display_data"
    },
    {
     "data": {
      "application/vnd.jupyter.widget-view+json": {
       "model_id": "c7c51a3f9bde4838b6f65964661a3a68",
       "version_major": 2,
       "version_minor": 0
      },
      "text/plain": [
       "aia_lev1_304a_2011_02_10t03_00_08_12z_image_lev1.fits:   0%|          | 0.00/9.97M [00:00<?, ?B/s]"
      ]
     },
     "metadata": {},
     "output_type": "display_data"
    },
    {
     "data": {
      "application/vnd.jupyter.widget-view+json": {
       "model_id": "7ec330b868af4871b0915c36e20d0441",
       "version_major": 2,
       "version_minor": 0
      },
      "text/plain": [
       "aia_lev1_304a_2011_02_10t04_00_08_12z_image_lev1.fits:   0%|          | 0.00/9.97M [00:00<?, ?B/s]"
      ]
     },
     "metadata": {},
     "output_type": "display_data"
    },
    {
     "data": {
      "application/vnd.jupyter.widget-view+json": {
       "model_id": "3e0d1aa165a948bb88d347d92640cf9c",
       "version_major": 2,
       "version_minor": 0
      },
      "text/plain": [
       "aia_lev1_304a_2011_02_10t05_00_08_12z_image_lev1.fits:   0%|          | 0.00/9.98M [00:00<?, ?B/s]"
      ]
     },
     "metadata": {},
     "output_type": "display_data"
    },
    {
     "data": {
      "application/vnd.jupyter.widget-view+json": {
       "model_id": "0c1cd7076b724d1aa2e3fc6b16c50cd9",
       "version_major": 2,
       "version_minor": 0
      },
      "text/plain": [
       "aia_lev1_304a_2011_02_10t06_00_08_12z_image_lev1.fits:   0%|          | 0.00/9.98M [00:00<?, ?B/s]"
      ]
     },
     "metadata": {},
     "output_type": "display_data"
    },
    {
     "data": {
      "application/vnd.jupyter.widget-view+json": {
       "model_id": "2213f00ffbf54c2a9784c4304c719d0e",
       "version_major": 2,
       "version_minor": 0
      },
      "text/plain": [
       "aia_lev1_304a_2011_02_10t07_00_08_12z_image_lev1.fits:   0%|          | 0.00/9.99M [00:00<?, ?B/s]"
      ]
     },
     "metadata": {},
     "output_type": "display_data"
    },
    {
     "data": {
      "application/vnd.jupyter.widget-view+json": {
       "model_id": "fc97bb686fca4ef49e7cfd261d193f2c",
       "version_major": 2,
       "version_minor": 0
      },
      "text/plain": [
       "aia_lev1_304a_2011_02_10t08_00_08_12z_image_lev1.fits:   0%|          | 0.00/10.2M [00:00<?, ?B/s]"
      ]
     },
     "metadata": {},
     "output_type": "display_data"
    },
    {
     "data": {
      "application/vnd.jupyter.widget-view+json": {
       "model_id": "12c38e95aa0d4c5891c5a086f13980a0",
       "version_major": 2,
       "version_minor": 0
      },
      "text/plain": [
       "aia_lev1_304a_2011_02_10t12_00_08_12z_image_lev1.fits:   0%|          | 0.00/9.98M [00:00<?, ?B/s]"
      ]
     },
     "metadata": {},
     "output_type": "display_data"
    },
    {
     "data": {
      "application/vnd.jupyter.widget-view+json": {
       "model_id": "1c5400844c2141bd85690f707f4a6691",
       "version_major": 2,
       "version_minor": 0
      },
      "text/plain": [
       "aia_lev1_304a_2011_02_10t14_00_08_12z_image_lev1.fits:   0%|          | 0.00/9.97M [00:00<?, ?B/s]"
      ]
     },
     "metadata": {},
     "output_type": "display_data"
    },
    {
     "data": {
      "application/vnd.jupyter.widget-view+json": {
       "model_id": "4aafdb9532644ab284361d84e775fce7",
       "version_major": 2,
       "version_minor": 0
      },
      "text/plain": [
       "aia_lev1_304a_2011_02_10t13_00_08_12z_image_lev1.fits:   0%|          | 0.00/9.98M [00:00<?, ?B/s]"
      ]
     },
     "metadata": {},
     "output_type": "display_data"
    },
    {
     "data": {
      "application/vnd.jupyter.widget-view+json": {
       "model_id": "ef414e5332a749d4899bf65870485807",
       "version_major": 2,
       "version_minor": 0
      },
      "text/plain": [
       "aia_lev1_304a_2011_02_10t16_00_08_14z_image_lev1.fits:   0%|          | 0.00/9.98M [00:00<?, ?B/s]"
      ]
     },
     "metadata": {},
     "output_type": "display_data"
    },
    {
     "data": {
      "application/vnd.jupyter.widget-view+json": {
       "model_id": "35f2f88986ac4a5aacfa2c2dd4f8748f",
       "version_major": 2,
       "version_minor": 0
      },
      "text/plain": [
       "aia_lev1_304a_2011_02_10t17_00_08_12z_image_lev1.fits:   0%|          | 0.00/9.97M [00:00<?, ?B/s]"
      ]
     },
     "metadata": {},
     "output_type": "display_data"
    },
    {
     "data": {
      "application/vnd.jupyter.widget-view+json": {
       "model_id": "689d3ece330a4840bd678ec88cc3c7d9",
       "version_major": 2,
       "version_minor": 0
      },
      "text/plain": [
       "aia_lev1_304a_2011_02_10t15_00_08_12z_image_lev1.fits:   0%|          | 0.00/9.98M [00:00<?, ?B/s]"
      ]
     },
     "metadata": {},
     "output_type": "display_data"
    },
    {
     "data": {
      "application/vnd.jupyter.widget-view+json": {
       "model_id": "cbbddb62f72b4165bcef048b781d062c",
       "version_major": 2,
       "version_minor": 0
      },
      "text/plain": [
       "aia_lev1_304a_2011_02_10t18_00_08_13z_image_lev1.fits:   0%|          | 0.00/9.97M [00:00<?, ?B/s]"
      ]
     },
     "metadata": {},
     "output_type": "display_data"
    },
    {
     "data": {
      "application/vnd.jupyter.widget-view+json": {
       "model_id": "f74f4c82f48843539c5d1196d39a4eb7",
       "version_major": 2,
       "version_minor": 0
      },
      "text/plain": [
       "aia_lev1_304a_2011_02_10t20_00_08_12z_image_lev1.fits:   0%|          | 0.00/9.98M [00:00<?, ?B/s]"
      ]
     },
     "metadata": {},
     "output_type": "display_data"
    },
    {
     "data": {
      "application/vnd.jupyter.widget-view+json": {
       "model_id": "b2ca11e103d64071a77b6326ff717cf4",
       "version_major": 2,
       "version_minor": 0
      },
      "text/plain": [
       "aia_lev1_304a_2011_02_10t19_00_08_12z_image_lev1.fits:   0%|          | 0.00/9.98M [00:00<?, ?B/s]"
      ]
     },
     "metadata": {},
     "output_type": "display_data"
    },
    {
     "data": {
      "application/vnd.jupyter.widget-view+json": {
       "model_id": "6868262f2b7d4f16b4404d513330bb24",
       "version_major": 2,
       "version_minor": 0
      },
      "text/plain": [
       "aia_lev1_304a_2011_02_10t22_00_08_12z_image_lev1.fits:   0%|          | 0.00/9.99M [00:00<?, ?B/s]"
      ]
     },
     "metadata": {},
     "output_type": "display_data"
    },
    {
     "data": {
      "application/vnd.jupyter.widget-view+json": {
       "model_id": "7ac4f60a199d43b3818af8a3e8cbaec1",
       "version_major": 2,
       "version_minor": 0
      },
      "text/plain": [
       "aia_lev1_304a_2011_02_10t23_00_08_12z_image_lev1.fits:   0%|          | 0.00/10.0M [00:00<?, ?B/s]"
      ]
     },
     "metadata": {},
     "output_type": "display_data"
    },
    {
     "data": {
      "application/vnd.jupyter.widget-view+json": {
       "model_id": "51fd57b275ca497c8e4c884fb5effc72",
       "version_major": 2,
       "version_minor": 0
      },
      "text/plain": [
       "aia_lev1_304a_2011_02_11t00_00_08_12z_image_lev1.fits:   0%|          | 0.00/9.99M [00:00<?, ?B/s]"
      ]
     },
     "metadata": {},
     "output_type": "display_data"
    },
    {
     "data": {
      "application/vnd.jupyter.widget-view+json": {
       "model_id": "a08bb76f5c2949f99cfe11b994041476",
       "version_major": 2,
       "version_minor": 0
      },
      "text/plain": [
       "aia_lev1_304a_2011_02_11t01_00_08_12z_image_lev1.fits:   0%|          | 0.00/9.98M [00:00<?, ?B/s]"
      ]
     },
     "metadata": {},
     "output_type": "display_data"
    },
    {
     "data": {
      "application/vnd.jupyter.widget-view+json": {
       "model_id": "e06a1feb06b346ffaea0aac83fc276cb",
       "version_major": 2,
       "version_minor": 0
      },
      "text/plain": [
       "aia_lev1_304a_2011_02_11t02_00_08_12z_image_lev1.fits:   0%|          | 0.00/9.97M [00:00<?, ?B/s]"
      ]
     },
     "metadata": {},
     "output_type": "display_data"
    },
    {
     "data": {
      "application/vnd.jupyter.widget-view+json": {
       "model_id": "126ebdf1aeb14ab0bd99817febec82f1",
       "version_major": 2,
       "version_minor": 0
      },
      "text/plain": [
       "aia_lev1_304a_2011_02_10t21_00_00_51z_image_lev1.fits:   0%|          | 0.00/6.92M [00:00<?, ?B/s]"
      ]
     },
     "metadata": {},
     "output_type": "display_data"
    },
    {
     "data": {
      "application/vnd.jupyter.widget-view+json": {
       "model_id": "c50b5b0b64f9468fa325c6b2e58946d0",
       "version_major": 2,
       "version_minor": 0
      },
      "text/plain": [
       "aia_lev1_304a_2011_02_11t04_00_08_12z_image_lev1.fits:   0%|          | 0.00/9.96M [00:00<?, ?B/s]"
      ]
     },
     "metadata": {},
     "output_type": "display_data"
    },
    {
     "data": {
      "application/vnd.jupyter.widget-view+json": {
       "model_id": "9748ff13e773414bb94cb281a9809bc5",
       "version_major": 2,
       "version_minor": 0
      },
      "text/plain": [
       "aia_lev1_304a_2011_02_11t06_00_08_12z_image_lev1.fits:   0%|          | 0.00/9.97M [00:00<?, ?B/s]"
      ]
     },
     "metadata": {},
     "output_type": "display_data"
    },
    {
     "data": {
      "application/vnd.jupyter.widget-view+json": {
       "model_id": "e067a9b012d04ec18626e208184edd4b",
       "version_major": 2,
       "version_minor": 0
      },
      "text/plain": [
       "aia_lev1_304a_2011_02_11t07_00_08_12z_image_lev1.fits:   0%|          | 0.00/9.98M [00:00<?, ?B/s]"
      ]
     },
     "metadata": {},
     "output_type": "display_data"
    },
    {
     "data": {
      "application/vnd.jupyter.widget-view+json": {
       "model_id": "d9dd011a04bb455683856d89269be946",
       "version_major": 2,
       "version_minor": 0
      },
      "text/plain": [
       "aia_lev1_304a_2011_02_11t08_00_08_12z_image_lev1.fits:   0%|          | 0.00/9.98M [00:00<?, ?B/s]"
      ]
     },
     "metadata": {},
     "output_type": "display_data"
    },
    {
     "data": {
      "application/vnd.jupyter.widget-view+json": {
       "model_id": "7ca66e2ba1c84ae3b4b9db3f8fc5bb31",
       "version_major": 2,
       "version_minor": 0
      },
      "text/plain": [
       "aia_lev1_304a_2011_02_11t05_00_08_12z_image_lev1.fits:   0%|          | 0.00/9.97M [00:00<?, ?B/s]"
      ]
     },
     "metadata": {},
     "output_type": "display_data"
    },
    {
     "data": {
      "application/vnd.jupyter.widget-view+json": {
       "model_id": "97462ddee31c4b18906b9f8ceb33449f",
       "version_major": 2,
       "version_minor": 0
      },
      "text/plain": [
       "aia_lev1_304a_2011_02_11t09_00_08_12z_image_lev1.fits:   0%|          | 0.00/9.98M [00:00<?, ?B/s]"
      ]
     },
     "metadata": {},
     "output_type": "display_data"
    },
    {
     "data": {
      "application/vnd.jupyter.widget-view+json": {
       "model_id": "d9632977410640a7b842eae7d46c3d7a",
       "version_major": 2,
       "version_minor": 0
      },
      "text/plain": [
       "aia_lev1_304a_2011_02_11t13_00_08_12z_image_lev1.fits:   0%|          | 0.00/9.97M [00:00<?, ?B/s]"
      ]
     },
     "metadata": {},
     "output_type": "display_data"
    },
    {
     "data": {
      "application/vnd.jupyter.widget-view+json": {
       "model_id": "00cd7b7d12944d2e8317ad514a7d4749",
       "version_major": 2,
       "version_minor": 0
      },
      "text/plain": [
       "aia_lev1_304a_2011_02_11t12_00_08_12z_image_lev1.fits:   0%|          | 0.00/9.96M [00:00<?, ?B/s]"
      ]
     },
     "metadata": {},
     "output_type": "display_data"
    },
    {
     "data": {
      "application/vnd.jupyter.widget-view+json": {
       "model_id": "053a3c1537e246b8b158c5e5c5d8ee0c",
       "version_major": 2,
       "version_minor": 0
      },
      "text/plain": [
       "aia_lev1_304a_2011_02_11t14_00_08_12z_image_lev1.fits:   0%|          | 0.00/9.96M [00:00<?, ?B/s]"
      ]
     },
     "metadata": {},
     "output_type": "display_data"
    },
    {
     "data": {
      "application/vnd.jupyter.widget-view+json": {
       "model_id": "238ed7bf48284b669e079c12e459fba1",
       "version_major": 2,
       "version_minor": 0
      },
      "text/plain": [
       "aia_lev1_304a_2011_02_11t15_00_08_12z_image_lev1.fits:   0%|          | 0.00/9.96M [00:00<?, ?B/s]"
      ]
     },
     "metadata": {},
     "output_type": "display_data"
    },
    {
     "data": {
      "application/vnd.jupyter.widget-view+json": {
       "model_id": "122b7c8ca2b44d1e9d100e5bb7177e5c",
       "version_major": 2,
       "version_minor": 0
      },
      "text/plain": [
       "aia_lev1_304a_2011_02_11t16_00_08_12z_image_lev1.fits:   0%|          | 0.00/9.96M [00:00<?, ?B/s]"
      ]
     },
     "metadata": {},
     "output_type": "display_data"
    },
    {
     "data": {
      "application/vnd.jupyter.widget-view+json": {
       "model_id": "3278e0ee643248a8af05db87ddaa707f",
       "version_major": 2,
       "version_minor": 0
      },
      "text/plain": [
       "aia_lev1_304a_2011_02_11t17_00_08_12z_image_lev1.fits:   0%|          | 0.00/9.97M [00:00<?, ?B/s]"
      ]
     },
     "metadata": {},
     "output_type": "display_data"
    },
    {
     "data": {
      "application/vnd.jupyter.widget-view+json": {
       "model_id": "b313486c1e6146af83259bc831650395",
       "version_major": 2,
       "version_minor": 0
      },
      "text/plain": [
       "aia_lev1_304a_2011_02_11t11_00_08_12z_image_lev1.fits:   0%|          | 0.00/9.96M [00:00<?, ?B/s]"
      ]
     },
     "metadata": {},
     "output_type": "display_data"
    },
    {
     "data": {
      "application/vnd.jupyter.widget-view+json": {
       "model_id": "2ffa94634de04d118933d9681bac8ef5",
       "version_major": 2,
       "version_minor": 0
      },
      "text/plain": [
       "aia_lev1_304a_2011_02_11t18_00_08_12z_image_lev1.fits:   0%|          | 0.00/9.97M [00:00<?, ?B/s]"
      ]
     },
     "metadata": {},
     "output_type": "display_data"
    },
    {
     "data": {
      "application/vnd.jupyter.widget-view+json": {
       "model_id": "3966e6529fb540e98f1a4ef33fa4393e",
       "version_major": 2,
       "version_minor": 0
      },
      "text/plain": [
       "aia_lev1_304a_2011_02_11t19_00_08_12z_image_lev1.fits:   0%|          | 0.00/9.97M [00:00<?, ?B/s]"
      ]
     },
     "metadata": {},
     "output_type": "display_data"
    },
    {
     "data": {
      "application/vnd.jupyter.widget-view+json": {
       "model_id": "820afdbf13c34963baeb73a5a7c24268",
       "version_major": 2,
       "version_minor": 0
      },
      "text/plain": [
       "aia_lev1_304a_2011_02_11t20_00_08_12z_image_lev1.fits:   0%|          | 0.00/10.0M [00:00<?, ?B/s]"
      ]
     },
     "metadata": {},
     "output_type": "display_data"
    },
    {
     "data": {
      "application/vnd.jupyter.widget-view+json": {
       "model_id": "d6a3d2c1077749c7bc052975f4b7a3b3",
       "version_major": 2,
       "version_minor": 0
      },
      "text/plain": [
       "aia_lev1_304a_2011_02_11t21_00_00_51z_image_lev1.fits:   0%|          | 0.00/6.92M [00:00<?, ?B/s]"
      ]
     },
     "metadata": {},
     "output_type": "display_data"
    },
    {
     "data": {
      "application/vnd.jupyter.widget-view+json": {
       "model_id": "15668488320b4656898cd99b6d400995",
       "version_major": 2,
       "version_minor": 0
      },
      "text/plain": [
       "aia_lev1_304a_2011_02_11t22_00_08_12z_image_lev1.fits:   0%|          | 0.00/9.99M [00:00<?, ?B/s]"
      ]
     },
     "metadata": {},
     "output_type": "display_data"
    },
    {
     "data": {
      "application/vnd.jupyter.widget-view+json": {
       "model_id": "920e6fc36af34f82add6764ea000eb11",
       "version_major": 2,
       "version_minor": 0
      },
      "text/plain": [
       "aia_lev1_304a_2011_02_11t23_00_08_12z_image_lev1.fits:   0%|          | 0.00/9.99M [00:00<?, ?B/s]"
      ]
     },
     "metadata": {},
     "output_type": "display_data"
    },
    {
     "data": {
      "application/vnd.jupyter.widget-view+json": {
       "model_id": "50036fbac5b548fd973bde4f4096fa35",
       "version_major": 2,
       "version_minor": 0
      },
      "text/plain": [
       "aia_lev1_304a_2011_02_12t00_00_08_12z_image_lev1.fits:   0%|          | 0.00/9.99M [00:00<?, ?B/s]"
      ]
     },
     "metadata": {},
     "output_type": "display_data"
    },
    {
     "data": {
      "application/vnd.jupyter.widget-view+json": {
       "model_id": "54ec0877467d41779d6616a49c42f6df",
       "version_major": 2,
       "version_minor": 0
      },
      "text/plain": [
       "aia_lev1_304a_2011_02_12t03_00_08_13z_image_lev1.fits:   0%|          | 0.00/9.97M [00:00<?, ?B/s]"
      ]
     },
     "metadata": {},
     "output_type": "display_data"
    },
    {
     "data": {
      "application/vnd.jupyter.widget-view+json": {
       "model_id": "68306c40d78642d4891da6bb020edad1",
       "version_major": 2,
       "version_minor": 0
      },
      "text/plain": [
       "aia_lev1_304a_2011_02_12t04_00_08_12z_image_lev1.fits:   0%|          | 0.00/9.97M [00:00<?, ?B/s]"
      ]
     },
     "metadata": {},
     "output_type": "display_data"
    },
    {
     "data": {
      "application/vnd.jupyter.widget-view+json": {
       "model_id": "498f99482dc4460994a6477b78bb78ac",
       "version_major": 2,
       "version_minor": 0
      },
      "text/plain": [
       "aia_lev1_304a_2011_02_12t05_00_08_12z_image_lev1.fits:   0%|          | 0.00/9.97M [00:00<?, ?B/s]"
      ]
     },
     "metadata": {},
     "output_type": "display_data"
    },
    {
     "data": {
      "application/vnd.jupyter.widget-view+json": {
       "model_id": "beed7a07e1664a3ea1dbd89d39983c15",
       "version_major": 2,
       "version_minor": 0
      },
      "text/plain": [
       "aia_lev1_304a_2011_02_12t01_00_08_12z_image_lev1.fits:   0%|          | 0.00/9.98M [00:00<?, ?B/s]"
      ]
     },
     "metadata": {},
     "output_type": "display_data"
    },
    {
     "data": {
      "application/vnd.jupyter.widget-view+json": {
       "model_id": "19328f54a6a449c3a4a7c359a8e64015",
       "version_major": 2,
       "version_minor": 0
      },
      "text/plain": [
       "aia_lev1_304a_2011_02_12t02_00_08_12z_image_lev1.fits:   0%|          | 0.00/9.97M [00:00<?, ?B/s]"
      ]
     },
     "metadata": {},
     "output_type": "display_data"
    },
    {
     "data": {
      "application/vnd.jupyter.widget-view+json": {
       "model_id": "1d85660dc81f42c2b3441a9a3f5b001c",
       "version_major": 2,
       "version_minor": 0
      },
      "text/plain": [
       "aia_lev1_304a_2011_02_12t06_00_08_12z_image_lev1.fits:   0%|          | 0.00/9.97M [00:00<?, ?B/s]"
      ]
     },
     "metadata": {},
     "output_type": "display_data"
    },
    {
     "data": {
      "application/vnd.jupyter.widget-view+json": {
       "model_id": "f3e84d0c4f2d493286b1adc8bd8f60b0",
       "version_major": 2,
       "version_minor": 0
      },
      "text/plain": [
       "aia_lev1_304a_2011_02_12t07_00_08_14z_image_lev1.fits:   0%|          | 0.00/10.0M [00:00<?, ?B/s]"
      ]
     },
     "metadata": {},
     "output_type": "display_data"
    },
    {
     "data": {
      "application/vnd.jupyter.widget-view+json": {
       "model_id": "2386cf54ed4941dda618ce9cb93a303a",
       "version_major": 2,
       "version_minor": 0
      },
      "text/plain": [
       "aia_lev1_304a_2011_02_12t08_00_08_13z_image_lev1.fits:   0%|          | 0.00/10.1M [00:00<?, ?B/s]"
      ]
     },
     "metadata": {},
     "output_type": "display_data"
    },
    {
     "data": {
      "application/vnd.jupyter.widget-view+json": {
       "model_id": "149b5a94a2aa4b709d0a3e2bb443388b",
       "version_major": 2,
       "version_minor": 0
      },
      "text/plain": [
       "aia_lev1_304a_2011_02_12t09_00_08_12z_image_lev1.fits:   0%|          | 0.00/10.2M [00:00<?, ?B/s]"
      ]
     },
     "metadata": {},
     "output_type": "display_data"
    },
    {
     "data": {
      "application/vnd.jupyter.widget-view+json": {
       "model_id": "20688798eec948079662d68b02463556",
       "version_major": 2,
       "version_minor": 0
      },
      "text/plain": [
       "aia_lev1_304a_2011_02_12t10_00_08_12z_image_lev1.fits:   0%|          | 0.00/10.0M [00:00<?, ?B/s]"
      ]
     },
     "metadata": {},
     "output_type": "display_data"
    },
    {
     "data": {
      "application/vnd.jupyter.widget-view+json": {
       "model_id": "6e7f53da379a4f989250678643523c24",
       "version_major": 2,
       "version_minor": 0
      },
      "text/plain": [
       "aia_lev1_304a_2011_02_12t11_00_08_12z_image_lev1.fits:   0%|          | 0.00/9.98M [00:00<?, ?B/s]"
      ]
     },
     "metadata": {},
     "output_type": "display_data"
    },
    {
     "data": {
      "application/vnd.jupyter.widget-view+json": {
       "model_id": "bc43d0845d1942f0879796f8f1a104fb",
       "version_major": 2,
       "version_minor": 0
      },
      "text/plain": [
       "aia_lev1_304a_2011_02_12t12_00_08_12z_image_lev1.fits:   0%|          | 0.00/9.97M [00:00<?, ?B/s]"
      ]
     },
     "metadata": {},
     "output_type": "display_data"
    },
    {
     "data": {
      "application/vnd.jupyter.widget-view+json": {
       "model_id": "0c49ac3cd8a44233872d999b4654fa0a",
       "version_major": 2,
       "version_minor": 0
      },
      "text/plain": [
       "aia_lev1_304a_2011_02_12t14_00_08_12z_image_lev1.fits:   0%|          | 0.00/9.95M [00:00<?, ?B/s]"
      ]
     },
     "metadata": {},
     "output_type": "display_data"
    },
    {
     "data": {
      "application/vnd.jupyter.widget-view+json": {
       "model_id": "f073b007699341798e94038a51960c19",
       "version_major": 2,
       "version_minor": 0
      },
      "text/plain": [
       "aia_lev1_304a_2011_02_12t15_00_08_12z_image_lev1.fits:   0%|          | 0.00/9.96M [00:00<?, ?B/s]"
      ]
     },
     "metadata": {},
     "output_type": "display_data"
    },
    {
     "data": {
      "application/vnd.jupyter.widget-view+json": {
       "model_id": "5bc2d67b66014e649221b6987e665a1a",
       "version_major": 2,
       "version_minor": 0
      },
      "text/plain": [
       "aia_lev1_304a_2011_02_12t16_00_08_12z_image_lev1.fits:   0%|          | 0.00/9.95M [00:00<?, ?B/s]"
      ]
     },
     "metadata": {},
     "output_type": "display_data"
    },
    {
     "data": {
      "application/vnd.jupyter.widget-view+json": {
       "model_id": "60edeeb7ae764d43865089d2ed14c91a",
       "version_major": 2,
       "version_minor": 0
      },
      "text/plain": [
       "aia_lev1_304a_2011_02_12t17_00_08_12z_image_lev1.fits:   0%|          | 0.00/9.96M [00:00<?, ?B/s]"
      ]
     },
     "metadata": {},
     "output_type": "display_data"
    },
    {
     "data": {
      "application/vnd.jupyter.widget-view+json": {
       "model_id": "03bd3c3df3fa4a6791ee3086f2874296",
       "version_major": 2,
       "version_minor": 0
      },
      "text/plain": [
       "aia_lev1_304a_2011_02_12t18_00_08_12z_image_lev1.fits:   0%|          | 0.00/9.96M [00:00<?, ?B/s]"
      ]
     },
     "metadata": {},
     "output_type": "display_data"
    },
    {
     "data": {
      "application/vnd.jupyter.widget-view+json": {
       "model_id": "9a36dac4c37a4a1ba378c49298754458",
       "version_major": 2,
       "version_minor": 0
      },
      "text/plain": [
       "aia_lev1_304a_2011_02_12t19_00_08_12z_image_lev1.fits:   0%|          | 0.00/9.96M [00:00<?, ?B/s]"
      ]
     },
     "metadata": {},
     "output_type": "display_data"
    },
    {
     "data": {
      "application/vnd.jupyter.widget-view+json": {
       "model_id": "48199a3a19534f11ba402ea0e7e56eba",
       "version_major": 2,
       "version_minor": 0
      },
      "text/plain": [
       "aia_lev1_304a_2011_02_12t13_00_08_12z_image_lev1.fits:   0%|          | 0.00/9.97M [00:00<?, ?B/s]"
      ]
     },
     "metadata": {},
     "output_type": "display_data"
    },
    {
     "data": {
      "application/vnd.jupyter.widget-view+json": {
       "model_id": "1c154e8c5e894d69a478518a56941d69",
       "version_major": 2,
       "version_minor": 0
      },
      "text/plain": [
       "aia_lev1_304a_2011_02_12t20_00_08_12z_image_lev1.fits:   0%|          | 0.00/9.97M [00:00<?, ?B/s]"
      ]
     },
     "metadata": {},
     "output_type": "display_data"
    },
    {
     "data": {
      "application/vnd.jupyter.widget-view+json": {
       "model_id": "825e237439da4d6ab82813836bf81dbc",
       "version_major": 2,
       "version_minor": 0
      },
      "text/plain": [
       "aia_lev1_304a_2011_02_12t21_00_00_51z_image_lev1.fits:   0%|          | 0.00/6.92M [00:00<?, ?B/s]"
      ]
     },
     "metadata": {},
     "output_type": "display_data"
    },
    {
     "data": {
      "application/vnd.jupyter.widget-view+json": {
       "model_id": "7335269819cb4b3daf6cd0d5a844937b",
       "version_major": 2,
       "version_minor": 0
      },
      "text/plain": [
       "aia_lev1_304a_2011_02_12t22_00_08_12z_image_lev1.fits:   0%|          | 0.00/9.97M [00:00<?, ?B/s]"
      ]
     },
     "metadata": {},
     "output_type": "display_data"
    },
    {
     "data": {
      "application/vnd.jupyter.widget-view+json": {
       "model_id": "8fd54219b4d04802afd9f9d89e008866",
       "version_major": 2,
       "version_minor": 0
      },
      "text/plain": [
       "aia_lev1_304a_2011_02_13t00_00_08_12z_image_lev1.fits:   0%|          | 0.00/9.96M [00:00<?, ?B/s]"
      ]
     },
     "metadata": {},
     "output_type": "display_data"
    },
    {
     "data": {
      "application/vnd.jupyter.widget-view+json": {
       "model_id": "4c69c486b21d4a48b57d79b29ace6eba",
       "version_major": 2,
       "version_minor": 0
      },
      "text/plain": [
       "aia_lev1_304a_2011_02_13t01_00_08_12z_image_lev1.fits:   0%|          | 0.00/9.95M [00:00<?, ?B/s]"
      ]
     },
     "metadata": {},
     "output_type": "display_data"
    },
    {
     "data": {
      "application/vnd.jupyter.widget-view+json": {
       "model_id": "af8d72a4e83747288387183ad0f60778",
       "version_major": 2,
       "version_minor": 0
      },
      "text/plain": [
       "aia_lev1_304a_2011_02_13t02_00_08_12z_image_lev1.fits:   0%|          | 0.00/9.95M [00:00<?, ?B/s]"
      ]
     },
     "metadata": {},
     "output_type": "display_data"
    },
    {
     "data": {
      "application/vnd.jupyter.widget-view+json": {
       "model_id": "f22923a400be4ab083160b368d967571",
       "version_major": 2,
       "version_minor": 0
      },
      "text/plain": [
       "aia_lev1_304a_2011_02_13t03_00_08_12z_image_lev1.fits:   0%|          | 0.00/9.96M [00:00<?, ?B/s]"
      ]
     },
     "metadata": {},
     "output_type": "display_data"
    },
    {
     "data": {
      "application/vnd.jupyter.widget-view+json": {
       "model_id": "9626d0f1ca5d45779a5e2df866c03647",
       "version_major": 2,
       "version_minor": 0
      },
      "text/plain": [
       "aia_lev1_304a_2011_02_13t04_00_08_12z_image_lev1.fits:   0%|          | 0.00/9.96M [00:00<?, ?B/s]"
      ]
     },
     "metadata": {},
     "output_type": "display_data"
    },
    {
     "data": {
      "application/vnd.jupyter.widget-view+json": {
       "model_id": "9493eb547f304f41bd10bc5a2035ff4b",
       "version_major": 2,
       "version_minor": 0
      },
      "text/plain": [
       "aia_lev1_304a_2011_02_13t08_00_08_13z_image_lev1.fits:   0%|          | 0.00/9.96M [00:00<?, ?B/s]"
      ]
     },
     "metadata": {},
     "output_type": "display_data"
    },
    {
     "data": {
      "application/vnd.jupyter.widget-view+json": {
       "model_id": "b43d2da35d91412594b5b441b5e2560c",
       "version_major": 2,
       "version_minor": 0
      },
      "text/plain": [
       "aia_lev1_304a_2011_02_13t07_00_08_12z_image_lev1.fits:   0%|          | 0.00/9.99M [00:00<?, ?B/s]"
      ]
     },
     "metadata": {},
     "output_type": "display_data"
    },
    {
     "data": {
      "application/vnd.jupyter.widget-view+json": {
       "model_id": "9b630cc53dcd44edb6a7773f57dd0072",
       "version_major": 2,
       "version_minor": 0
      },
      "text/plain": [
       "aia_lev1_304a_2011_02_13t09_00_08_13z_image_lev1.fits:   0%|          | 0.00/9.96M [00:00<?, ?B/s]"
      ]
     },
     "metadata": {},
     "output_type": "display_data"
    },
    {
     "data": {
      "application/vnd.jupyter.widget-view+json": {
       "model_id": "9c7c1c91e8ea4b2d8c263de893dbd759",
       "version_major": 2,
       "version_minor": 0
      },
      "text/plain": [
       "aia_lev1_304a_2011_02_13t10_00_08_13z_image_lev1.fits:   0%|          | 0.00/9.97M [00:00<?, ?B/s]"
      ]
     },
     "metadata": {},
     "output_type": "display_data"
    },
    {
     "data": {
      "application/vnd.jupyter.widget-view+json": {
       "model_id": "a776d2fa0225476b83d036cf212dd625",
       "version_major": 2,
       "version_minor": 0
      },
      "text/plain": [
       "aia_lev1_304a_2011_02_13t11_00_08_12z_image_lev1.fits:   0%|          | 0.00/9.96M [00:00<?, ?B/s]"
      ]
     },
     "metadata": {},
     "output_type": "display_data"
    },
    {
     "data": {
      "application/vnd.jupyter.widget-view+json": {
       "model_id": "1eefe17f12a246bf89dd98434544ce24",
       "version_major": 2,
       "version_minor": 0
      },
      "text/plain": [
       "aia_lev1_304a_2011_02_13t12_00_08_12z_image_lev1.fits:   0%|          | 0.00/9.96M [00:00<?, ?B/s]"
      ]
     },
     "metadata": {},
     "output_type": "display_data"
    },
    {
     "data": {
      "application/vnd.jupyter.widget-view+json": {
       "model_id": "6757b678762f4b3f9680a66022d8ed4c",
       "version_major": 2,
       "version_minor": 0
      },
      "text/plain": [
       "aia_lev1_304a_2011_02_13t14_00_08_12z_image_lev1.fits:   0%|          | 0.00/9.95M [00:00<?, ?B/s]"
      ]
     },
     "metadata": {},
     "output_type": "display_data"
    },
    {
     "data": {
      "application/vnd.jupyter.widget-view+json": {
       "model_id": "7597eaa0e43940a6b2a7706375b4ab54",
       "version_major": 2,
       "version_minor": 0
      },
      "text/plain": [
       "aia_lev1_304a_2011_02_13t15_00_08_12z_image_lev1.fits:   0%|          | 0.00/9.95M [00:00<?, ?B/s]"
      ]
     },
     "metadata": {},
     "output_type": "display_data"
    },
    {
     "data": {
      "application/vnd.jupyter.widget-view+json": {
       "model_id": "ba52e5f100ec4ed18bdef39fb18c253d",
       "version_major": 2,
       "version_minor": 0
      },
      "text/plain": [
       "aia_lev1_304a_2011_02_13t16_00_08_12z_image_lev1.fits:   0%|          | 0.00/9.95M [00:00<?, ?B/s]"
      ]
     },
     "metadata": {},
     "output_type": "display_data"
    },
    {
     "data": {
      "application/vnd.jupyter.widget-view+json": {
       "model_id": "6186432d96f1473488f7097720ce442d",
       "version_major": 2,
       "version_minor": 0
      },
      "text/plain": [
       "aia_lev1_304a_2011_02_13t18_00_10_31z_image_lev1.fits:   0%|          | 0.00/8.94M [00:00<?, ?B/s]"
      ]
     },
     "metadata": {},
     "output_type": "display_data"
    },
    {
     "data": {
      "application/vnd.jupyter.widget-view+json": {
       "model_id": "7034f4307f79434b8b08e31470cea2d1",
       "version_major": 2,
       "version_minor": 0
      },
      "text/plain": [
       "aia_lev1_304a_2011_02_13t13_00_08_12z_image_lev1.fits:   0%|          | 0.00/9.95M [00:00<?, ?B/s]"
      ]
     },
     "metadata": {},
     "output_type": "display_data"
    },
    {
     "data": {
      "application/vnd.jupyter.widget-view+json": {
       "model_id": "d7c09cc1f54343a3a5255a76e381add8",
       "version_major": 2,
       "version_minor": 0
      },
      "text/plain": [
       "aia_lev1_304a_2011_02_13t19_00_08_13z_image_lev1.fits:   0%|          | 0.00/9.94M [00:00<?, ?B/s]"
      ]
     },
     "metadata": {},
     "output_type": "display_data"
    },
    {
     "data": {
      "application/vnd.jupyter.widget-view+json": {
       "model_id": "294b4af747ab465f8d921251a33dd12a",
       "version_major": 2,
       "version_minor": 0
      },
      "text/plain": [
       "aia_lev1_304a_2011_02_13t20_00_08_12z_image_lev1.fits:   0%|          | 0.00/9.95M [00:00<?, ?B/s]"
      ]
     },
     "metadata": {},
     "output_type": "display_data"
    },
    {
     "data": {
      "application/vnd.jupyter.widget-view+json": {
       "model_id": "8d42a50410ae41d6bee458de2dde06a8",
       "version_major": 2,
       "version_minor": 0
      },
      "text/plain": [
       "aia_lev1_304a_2011_02_13t17_00_08_14z_image_lev1.fits:   0%|          | 0.00/9.95M [00:00<?, ?B/s]"
      ]
     },
     "metadata": {},
     "output_type": "display_data"
    },
    {
     "data": {
      "application/vnd.jupyter.widget-view+json": {
       "model_id": "3cdb47144863472db6d8bdfe673c689b",
       "version_major": 2,
       "version_minor": 0
      },
      "text/plain": [
       "aia_lev1_304a_2011_02_13t21_00_00_51z_image_lev1.fits:   0%|          | 0.00/6.92M [00:00<?, ?B/s]"
      ]
     },
     "metadata": {},
     "output_type": "display_data"
    },
    {
     "data": {
      "application/vnd.jupyter.widget-view+json": {
       "model_id": "88846bff413249cd83b58e747963da75",
       "version_major": 2,
       "version_minor": 0
      },
      "text/plain": [
       "aia_lev1_304a_2011_02_13t23_00_08_12z_image_lev1.fits:   0%|          | 0.00/9.95M [00:00<?, ?B/s]"
      ]
     },
     "metadata": {},
     "output_type": "display_data"
    },
    {
     "data": {
      "application/vnd.jupyter.widget-view+json": {
       "model_id": "e184ce4bce7d4a68bc966e710057a4fd",
       "version_major": 2,
       "version_minor": 0
      },
      "text/plain": [
       "aia_lev1_304a_2011_02_13t22_00_08_12z_image_lev1.fits:   0%|          | 0.00/9.95M [00:00<?, ?B/s]"
      ]
     },
     "metadata": {},
     "output_type": "display_data"
    },
    {
     "data": {
      "application/vnd.jupyter.widget-view+json": {
       "model_id": "221d2cf60d3b4981b4315b7583dedb31",
       "version_major": 2,
       "version_minor": 0
      },
      "text/plain": [
       "aia_lev1_304a_2011_02_14t00_00_08_12z_image_lev1.fits:   0%|          | 0.00/9.95M [00:00<?, ?B/s]"
      ]
     },
     "metadata": {},
     "output_type": "display_data"
    },
    {
     "data": {
      "application/vnd.jupyter.widget-view+json": {
       "model_id": "75022611b9d7450db83bac86980520a3",
       "version_major": 2,
       "version_minor": 0
      },
      "text/plain": [
       "aia_lev1_304a_2011_02_14t02_00_08_12z_image_lev1.fits:   0%|          | 0.00/9.93M [00:00<?, ?B/s]"
      ]
     },
     "metadata": {},
     "output_type": "display_data"
    },
    {
     "data": {
      "application/vnd.jupyter.widget-view+json": {
       "model_id": "6070200776de493590142f49fbd6d479",
       "version_major": 2,
       "version_minor": 0
      },
      "text/plain": [
       "aia_lev1_304a_2011_02_14t03_00_08_13z_image_lev1.fits:   0%|          | 0.00/9.93M [00:00<?, ?B/s]"
      ]
     },
     "metadata": {},
     "output_type": "display_data"
    },
    {
     "data": {
      "application/vnd.jupyter.widget-view+json": {
       "model_id": "62ff87f5621f4acdbe2e3a0758496a16",
       "version_major": 2,
       "version_minor": 0
      },
      "text/plain": [
       "aia_lev1_304a_2011_02_14t04_00_08_12z_image_lev1.fits:   0%|          | 0.00/9.93M [00:00<?, ?B/s]"
      ]
     },
     "metadata": {},
     "output_type": "display_data"
    },
    {
     "data": {
      "application/vnd.jupyter.widget-view+json": {
       "model_id": "1b99b37ede23499484d108db3d4a171c",
       "version_major": 2,
       "version_minor": 0
      },
      "text/plain": [
       "aia_lev1_304a_2011_02_14t05_00_08_13z_image_lev1.fits:   0%|          | 0.00/9.93M [00:00<?, ?B/s]"
      ]
     },
     "metadata": {},
     "output_type": "display_data"
    },
    {
     "data": {
      "application/vnd.jupyter.widget-view+json": {
       "model_id": "a8ebd721ff7c476ebd4569367bdc5f3c",
       "version_major": 2,
       "version_minor": 0
      },
      "text/plain": [
       "aia_lev1_304a_2011_02_14t06_00_08_12z_image_lev1.fits:   0%|          | 0.00/9.92M [00:00<?, ?B/s]"
      ]
     },
     "metadata": {},
     "output_type": "display_data"
    },
    {
     "data": {
      "application/vnd.jupyter.widget-view+json": {
       "model_id": "7154f78848ea44a389c6d594e1e894c2",
       "version_major": 2,
       "version_minor": 0
      },
      "text/plain": [
       "aia_lev1_304a_2011_02_14t01_00_08_12z_image_lev1.fits:   0%|          | 0.00/9.93M [00:00<?, ?B/s]"
      ]
     },
     "metadata": {},
     "output_type": "display_data"
    },
    {
     "data": {
      "application/vnd.jupyter.widget-view+json": {
       "model_id": "591c446de30b4c2fbedbc253d78984cf",
       "version_major": 2,
       "version_minor": 0
      },
      "text/plain": [
       "aia_lev1_304a_2011_02_14t07_00_11_03z_image_lev1.fits:   0%|          | 0.00/8.41M [00:00<?, ?B/s]"
      ]
     },
     "metadata": {},
     "output_type": "display_data"
    },
    {
     "data": {
      "application/vnd.jupyter.widget-view+json": {
       "model_id": "a1b6b1acdd454f1281a9aca93eeced8f",
       "version_major": 2,
       "version_minor": 0
      },
      "text/plain": [
       "aia_lev1_304a_2011_02_14t08_00_08_13z_image_lev1.fits:   0%|          | 0.00/9.94M [00:00<?, ?B/s]"
      ]
     },
     "metadata": {},
     "output_type": "display_data"
    },
    {
     "data": {
      "application/vnd.jupyter.widget-view+json": {
       "model_id": "215982b2da8946158ca3900291dde268",
       "version_major": 2,
       "version_minor": 0
      },
      "text/plain": [
       "aia_lev1_304a_2011_02_14t09_00_08_12z_image_lev1.fits:   0%|          | 0.00/9.93M [00:00<?, ?B/s]"
      ]
     },
     "metadata": {},
     "output_type": "display_data"
    },
    {
     "data": {
      "application/vnd.jupyter.widget-view+json": {
       "model_id": "d1034ef1d6b149959021588afbc23f8d",
       "version_major": 2,
       "version_minor": 0
      },
      "text/plain": [
       "aia_lev1_304a_2011_02_14t11_00_08_12z_image_lev1.fits:   0%|          | 0.00/9.92M [00:00<?, ?B/s]"
      ]
     },
     "metadata": {},
     "output_type": "display_data"
    },
    {
     "data": {
      "application/vnd.jupyter.widget-view+json": {
       "model_id": "5c2d1d67d5d446febad2d6a33d6115a8",
       "version_major": 2,
       "version_minor": 0
      },
      "text/plain": [
       "aia_lev1_304a_2011_02_14t12_00_08_12z_image_lev1.fits:   0%|          | 0.00/9.93M [00:00<?, ?B/s]"
      ]
     },
     "metadata": {},
     "output_type": "display_data"
    },
    {
     "data": {
      "application/vnd.jupyter.widget-view+json": {
       "model_id": "943b8776718b4d0eb11c9e9adbf09f65",
       "version_major": 2,
       "version_minor": 0
      },
      "text/plain": [
       "aia_lev1_304a_2011_02_14t13_00_08_12z_image_lev1.fits:   0%|          | 0.00/9.94M [00:00<?, ?B/s]"
      ]
     },
     "metadata": {},
     "output_type": "display_data"
    },
    {
     "data": {
      "application/vnd.jupyter.widget-view+json": {
       "model_id": "e267235025144c718a6c15f09daf8ea3",
       "version_major": 2,
       "version_minor": 0
      },
      "text/plain": [
       "aia_lev1_304a_2011_02_14t14_00_08_12z_image_lev1.fits:   0%|          | 0.00/9.92M [00:00<?, ?B/s]"
      ]
     },
     "metadata": {},
     "output_type": "display_data"
    },
    {
     "data": {
      "application/vnd.jupyter.widget-view+json": {
       "model_id": "782414dd475a4878be78ff724a805707",
       "version_major": 2,
       "version_minor": 0
      },
      "text/plain": [
       "aia_lev1_304a_2011_02_14t15_00_08_12z_image_lev1.fits:   0%|          | 0.00/9.93M [00:00<?, ?B/s]"
      ]
     },
     "metadata": {},
     "output_type": "display_data"
    },
    {
     "data": {
      "application/vnd.jupyter.widget-view+json": {
       "model_id": "d12dc6c42a6843b4b1b747d2f467fe57",
       "version_major": 2,
       "version_minor": 0
      },
      "text/plain": [
       "aia_lev1_304a_2011_02_14t16_00_08_12z_image_lev1.fits:   0%|          | 0.00/9.94M [00:00<?, ?B/s]"
      ]
     },
     "metadata": {},
     "output_type": "display_data"
    },
    {
     "data": {
      "application/vnd.jupyter.widget-view+json": {
       "model_id": "4bf2cb27f8344c289f4188ade47dc921",
       "version_major": 2,
       "version_minor": 0
      },
      "text/plain": [
       "aia_lev1_304a_2011_02_14t17_00_08_12z_image_lev1.fits:   0%|          | 0.00/9.95M [00:00<?, ?B/s]"
      ]
     },
     "metadata": {},
     "output_type": "display_data"
    },
    {
     "data": {
      "application/vnd.jupyter.widget-view+json": {
       "model_id": "c9c649a348384928ae63850044d4e650",
       "version_major": 2,
       "version_minor": 0
      },
      "text/plain": [
       "aia_lev1_304a_2011_02_14t10_00_08_12z_image_lev1.fits:   0%|          | 0.00/9.92M [00:00<?, ?B/s]"
      ]
     },
     "metadata": {},
     "output_type": "display_data"
    },
    {
     "data": {
      "application/vnd.jupyter.widget-view+json": {
       "model_id": "107bf193497249f59b1265cc5e768b72",
       "version_major": 2,
       "version_minor": 0
      },
      "text/plain": [
       "aia_lev1_304a_2011_02_14t18_00_08_13z_image_lev1.fits:   0%|          | 0.00/9.98M [00:00<?, ?B/s]"
      ]
     },
     "metadata": {},
     "output_type": "display_data"
    },
    {
     "data": {
      "application/vnd.jupyter.widget-view+json": {
       "model_id": "294a1d02322e4697834cdc5676d354dd",
       "version_major": 2,
       "version_minor": 0
      },
      "text/plain": [
       "aia_lev1_304a_2011_02_14t19_00_08_12z_image_lev1.fits:   0%|          | 0.00/9.94M [00:00<?, ?B/s]"
      ]
     },
     "metadata": {},
     "output_type": "display_data"
    },
    {
     "data": {
      "application/vnd.jupyter.widget-view+json": {
       "model_id": "d592087007d6485db48203905b951fca",
       "version_major": 2,
       "version_minor": 0
      },
      "text/plain": [
       "aia_lev1_304a_2011_02_14t20_00_08_12z_image_lev1.fits:   0%|          | 0.00/9.94M [00:00<?, ?B/s]"
      ]
     },
     "metadata": {},
     "output_type": "display_data"
    },
    {
     "data": {
      "application/vnd.jupyter.widget-view+json": {
       "model_id": "5b3c915b37a647d6806f957ac8bee810",
       "version_major": 2,
       "version_minor": 0
      },
      "text/plain": [
       "aia_lev1_304a_2011_02_14t22_00_08_12z_image_lev1.fits:   0%|          | 0.00/9.94M [00:00<?, ?B/s]"
      ]
     },
     "metadata": {},
     "output_type": "display_data"
    },
    {
     "data": {
      "application/vnd.jupyter.widget-view+json": {
       "model_id": "4c577c6b08d94f4c9b0cba44f1893887",
       "version_major": 2,
       "version_minor": 0
      },
      "text/plain": [
       "aia_lev1_304a_2011_02_14t23_00_08_12z_image_lev1.fits:   0%|          | 0.00/9.97M [00:00<?, ?B/s]"
      ]
     },
     "metadata": {},
     "output_type": "display_data"
    },
    {
     "data": {
      "application/vnd.jupyter.widget-view+json": {
       "model_id": "6262aacd09104e9e939d771682d0f1fe",
       "version_major": 2,
       "version_minor": 0
      },
      "text/plain": [
       "aia_lev1_304a_2011_02_15t00_00_08_14z_image_lev1.fits:   0%|          | 0.00/9.97M [00:00<?, ?B/s]"
      ]
     },
     "metadata": {},
     "output_type": "display_data"
    },
    {
     "data": {
      "application/vnd.jupyter.widget-view+json": {
       "model_id": "a8df0c213d0f40bbb7a3a12b46f5977d",
       "version_major": 2,
       "version_minor": 0
      },
      "text/plain": [
       "aia_lev1_304a_2011_02_15t03_00_08_13z_image_lev1.fits:   0%|          | 0.00/9.95M [00:00<?, ?B/s]"
      ]
     },
     "metadata": {},
     "output_type": "display_data"
    },
    {
     "data": {
      "application/vnd.jupyter.widget-view+json": {
       "model_id": "0e7d554dac1a467ea09af1f46daff655",
       "version_major": 2,
       "version_minor": 0
      },
      "text/plain": [
       "aia_lev1_304a_2011_02_15t02_00_11_62z_image_lev1.fits:   0%|          | 0.00/7.85M [00:00<?, ?B/s]"
      ]
     },
     "metadata": {},
     "output_type": "display_data"
    },
    {
     "data": {
      "application/vnd.jupyter.widget-view+json": {
       "model_id": "048e16a5682e421db64f13ccf416dd49",
       "version_major": 2,
       "version_minor": 0
      },
      "text/plain": [
       "aia_lev1_304a_2011_02_15t04_00_08_12z_image_lev1.fits:   0%|          | 0.00/9.94M [00:00<?, ?B/s]"
      ]
     },
     "metadata": {},
     "output_type": "display_data"
    },
    {
     "data": {
      "application/vnd.jupyter.widget-view+json": {
       "model_id": "0b6c8379e2d749438a62f08544846059",
       "version_major": 2,
       "version_minor": 0
      },
      "text/plain": [
       "aia_lev1_304a_2011_02_15t05_00_08_14z_image_lev1.fits:   0%|          | 0.00/9.93M [00:00<?, ?B/s]"
      ]
     },
     "metadata": {},
     "output_type": "display_data"
    },
    {
     "data": {
      "application/vnd.jupyter.widget-view+json": {
       "model_id": "8f2f2e51d92e41ab9a37b58b95002f8d",
       "version_major": 2,
       "version_minor": 0
      },
      "text/plain": [
       "aia_lev1_304a_2011_02_15t06_00_08_14z_image_lev1.fits:   0%|          | 0.00/9.94M [00:00<?, ?B/s]"
      ]
     },
     "metadata": {},
     "output_type": "display_data"
    },
    {
     "data": {
      "application/vnd.jupyter.widget-view+json": {
       "model_id": "62cd4353e8684641ab0130401a1d6294",
       "version_major": 2,
       "version_minor": 0
      },
      "text/plain": [
       "aia_lev1_304a_2011_02_15t07_00_08_13z_image_lev1.fits:   0%|          | 0.00/9.96M [00:00<?, ?B/s]"
      ]
     },
     "metadata": {},
     "output_type": "display_data"
    },
    {
     "data": {
      "application/vnd.jupyter.widget-view+json": {
       "model_id": "dfa9f3bce4864cacb5ddfb651fcaed5f",
       "version_major": 2,
       "version_minor": 0
      },
      "text/plain": [
       "aia_lev1_304a_2011_02_15t08_00_08_12z_image_lev1.fits:   0%|          | 0.00/9.96M [00:00<?, ?B/s]"
      ]
     },
     "metadata": {},
     "output_type": "display_data"
    },
    {
     "data": {
      "application/vnd.jupyter.widget-view+json": {
       "model_id": "6aed11599cd44a0fb96b283d0a3f7c17",
       "version_major": 2,
       "version_minor": 0
      },
      "text/plain": [
       "aia_lev1_304a_2011_02_15t09_00_08_12z_image_lev1.fits:   0%|          | 0.00/9.96M [00:00<?, ?B/s]"
      ]
     },
     "metadata": {},
     "output_type": "display_data"
    },
    {
     "data": {
      "application/vnd.jupyter.widget-view+json": {
       "model_id": "c5ce8bf916be47d1b86de58749cd7be5",
       "version_major": 2,
       "version_minor": 0
      },
      "text/plain": [
       "aia_lev1_304a_2011_02_15t11_00_08_12z_image_lev1.fits:   0%|          | 0.00/9.93M [00:00<?, ?B/s]"
      ]
     },
     "metadata": {},
     "output_type": "display_data"
    },
    {
     "data": {
      "application/vnd.jupyter.widget-view+json": {
       "model_id": "d43a4479d2594bd48c6e8d50ebebcc34",
       "version_major": 2,
       "version_minor": 0
      },
      "text/plain": [
       "aia_lev1_304a_2011_02_15t12_00_08_12z_image_lev1.fits:   0%|          | 0.00/9.92M [00:00<?, ?B/s]"
      ]
     },
     "metadata": {},
     "output_type": "display_data"
    },
    {
     "data": {
      "application/vnd.jupyter.widget-view+json": {
       "model_id": "8b2dfc63ce7744288d34c17f138e16ae",
       "version_major": 2,
       "version_minor": 0
      },
      "text/plain": [
       "aia_lev1_304a_2011_02_15t13_00_08_13z_image_lev1.fits:   0%|          | 0.00/9.95M [00:00<?, ?B/s]"
      ]
     },
     "metadata": {},
     "output_type": "display_data"
    },
    {
     "data": {
      "application/vnd.jupyter.widget-view+json": {
       "model_id": "b4518fd384864b10afd11a34178d93c4",
       "version_major": 2,
       "version_minor": 0
      },
      "text/plain": [
       "aia_lev1_304a_2011_02_15t14_00_08_14z_image_lev1.fits:   0%|          | 0.00/9.93M [00:00<?, ?B/s]"
      ]
     },
     "metadata": {},
     "output_type": "display_data"
    },
    {
     "data": {
      "application/vnd.jupyter.widget-view+json": {
       "model_id": "f48f7ed2abcf471db53ea8c030185067",
       "version_major": 2,
       "version_minor": 0
      },
      "text/plain": [
       "aia_lev1_304a_2011_02_15t15_00_08_15z_image_lev1.fits:   0%|          | 0.00/9.92M [00:00<?, ?B/s]"
      ]
     },
     "metadata": {},
     "output_type": "display_data"
    },
    {
     "data": {
      "application/vnd.jupyter.widget-view+json": {
       "model_id": "c3ea15fbbf214cddbc03f46f526822c0",
       "version_major": 2,
       "version_minor": 0
      },
      "text/plain": [
       "aia_lev1_304a_2011_02_15t10_00_08_12z_image_lev1.fits:   0%|          | 0.00/9.94M [00:00<?, ?B/s]"
      ]
     },
     "metadata": {},
     "output_type": "display_data"
    },
    {
     "data": {
      "application/vnd.jupyter.widget-view+json": {
       "model_id": "aaedcd76da4e46feb5a6d496f676a319",
       "version_major": 2,
       "version_minor": 0
      },
      "text/plain": [
       "aia_lev1_304a_2011_02_15t16_00_08_12z_image_lev1.fits:   0%|          | 0.00/9.94M [00:00<?, ?B/s]"
      ]
     },
     "metadata": {},
     "output_type": "display_data"
    },
    {
     "data": {
      "application/vnd.jupyter.widget-view+json": {
       "model_id": "52c7f0f590cc4598ad85f09468e3619c",
       "version_major": 2,
       "version_minor": 0
      },
      "text/plain": [
       "aia_lev1_304a_2011_02_15t17_00_08_12z_image_lev1.fits:   0%|          | 0.00/9.93M [00:00<?, ?B/s]"
      ]
     },
     "metadata": {},
     "output_type": "display_data"
    },
    {
     "data": {
      "application/vnd.jupyter.widget-view+json": {
       "model_id": "e5754012c92649d1b2090f88b41e7f38",
       "version_major": 2,
       "version_minor": 0
      },
      "text/plain": [
       "aia_lev1_304a_2011_02_15t18_00_08_14z_image_lev1.fits:   0%|          | 0.00/9.94M [00:00<?, ?B/s]"
      ]
     },
     "metadata": {},
     "output_type": "display_data"
    },
    {
     "data": {
      "application/vnd.jupyter.widget-view+json": {
       "model_id": "3c9b3fce77f94570ae86481c9427394a",
       "version_major": 2,
       "version_minor": 0
      },
      "text/plain": [
       "aia_lev1_304a_2011_02_15t19_00_08_12z_image_lev1.fits:   0%|          | 0.00/9.93M [00:00<?, ?B/s]"
      ]
     },
     "metadata": {},
     "output_type": "display_data"
    },
    {
     "data": {
      "application/vnd.jupyter.widget-view+json": {
       "model_id": "b2626bce0188464081af89cd27485e67",
       "version_major": 2,
       "version_minor": 0
      },
      "text/plain": [
       "aia_lev1_304a_2011_02_15t20_02_20_10z_image_lev1.fits:   0%|          | 0.00/9.93M [00:00<?, ?B/s]"
      ]
     },
     "metadata": {},
     "output_type": "display_data"
    },
    {
     "data": {
      "application/vnd.jupyter.widget-view+json": {
       "model_id": "8e2802e0f38b43109a39f1a7e13ba606",
       "version_major": 2,
       "version_minor": 0
      },
      "text/plain": [
       "aia_lev1_304a_2011_02_15t22_00_08_12z_image_lev1.fits:   0%|          | 0.00/9.93M [00:00<?, ?B/s]"
      ]
     },
     "metadata": {},
     "output_type": "display_data"
    },
    {
     "data": {
      "application/vnd.jupyter.widget-view+json": {
       "model_id": "2caf829d4db74e288dd546a873206f30",
       "version_major": 2,
       "version_minor": 0
      },
      "text/plain": [
       "aia_lev1_304a_2011_02_16t00_00_08_13z_image_lev1.fits:   0%|          | 0.00/9.94M [00:00<?, ?B/s]"
      ]
     },
     "metadata": {},
     "output_type": "display_data"
    },
    {
     "data": {
      "application/vnd.jupyter.widget-view+json": {
       "model_id": "77c3375ff55640829ba434216d0a3a71",
       "version_major": 2,
       "version_minor": 0
      },
      "text/plain": [
       "aia_lev1_304a_2011_02_15t21_00_00_51z_image_lev1.fits:   0%|          | 0.00/6.92M [00:00<?, ?B/s]"
      ]
     },
     "metadata": {},
     "output_type": "display_data"
    },
    {
     "data": {
      "application/vnd.jupyter.widget-view+json": {
       "model_id": "a1556b23aec642beac3b19a687a8a05a",
       "version_major": 2,
       "version_minor": 0
      },
      "text/plain": [
       "aia_lev1_304a_2011_02_16t01_00_08_13z_image_lev1.fits:   0%|          | 0.00/9.92M [00:00<?, ?B/s]"
      ]
     },
     "metadata": {},
     "output_type": "display_data"
    },
    {
     "data": {
      "application/vnd.jupyter.widget-view+json": {
       "model_id": "7ad4bb72e9144d33b39e0ed28f013c4d",
       "version_major": 2,
       "version_minor": 0
      },
      "text/plain": [
       "aia_lev1_304a_2011_02_15t23_00_08_13z_image_lev1.fits:   0%|          | 0.00/9.93M [00:00<?, ?B/s]"
      ]
     },
     "metadata": {},
     "output_type": "display_data"
    },
    {
     "data": {
      "application/vnd.jupyter.widget-view+json": {
       "model_id": "0be8a775d3934d4e87d64906b3e6a538",
       "version_major": 2,
       "version_minor": 0
      },
      "text/plain": [
       "aia_lev1_304a_2011_02_16t02_00_08_12z_image_lev1.fits:   0%|          | 0.00/9.92M [00:00<?, ?B/s]"
      ]
     },
     "metadata": {},
     "output_type": "display_data"
    },
    {
     "data": {
      "application/vnd.jupyter.widget-view+json": {
       "model_id": "0d331c6c39064f419e7f80aa4fba3fae",
       "version_major": 2,
       "version_minor": 0
      },
      "text/plain": [
       "aia_lev1_304a_2011_02_16t03_00_08_14z_image_lev1.fits:   0%|          | 0.00/9.91M [00:00<?, ?B/s]"
      ]
     },
     "metadata": {},
     "output_type": "display_data"
    },
    {
     "data": {
      "application/vnd.jupyter.widget-view+json": {
       "model_id": "cbddef8243ad4749b29697ce455677c4",
       "version_major": 2,
       "version_minor": 0
      },
      "text/plain": [
       "aia_lev1_304a_2011_02_16t04_00_08_12z_image_lev1.fits:   0%|          | 0.00/9.91M [00:00<?, ?B/s]"
      ]
     },
     "metadata": {},
     "output_type": "display_data"
    },
    {
     "data": {
      "application/vnd.jupyter.widget-view+json": {
       "model_id": "4549d39874b246df879b249754cc987b",
       "version_major": 2,
       "version_minor": 0
      },
      "text/plain": [
       "aia_lev1_304a_2011_02_16t05_00_08_12z_image_lev1.fits:   0%|          | 0.00/9.91M [00:00<?, ?B/s]"
      ]
     },
     "metadata": {},
     "output_type": "display_data"
    },
    {
     "data": {
      "application/vnd.jupyter.widget-view+json": {
       "model_id": "bd82b3780c4b460e9973324ecb085d2b",
       "version_major": 2,
       "version_minor": 0
      },
      "text/plain": [
       "aia_lev1_304a_2011_02_16t06_00_08_12z_image_lev1.fits:   0%|          | 0.00/9.91M [00:00<?, ?B/s]"
      ]
     },
     "metadata": {},
     "output_type": "display_data"
    },
    {
     "data": {
      "application/vnd.jupyter.widget-view+json": {
       "model_id": "c391dda0dc654f0b82856027de26325f",
       "version_major": 2,
       "version_minor": 0
      },
      "text/plain": [
       "aia_lev1_304a_2011_02_16t07_00_08_12z_image_lev1.fits:   0%|          | 0.00/9.91M [00:00<?, ?B/s]"
      ]
     },
     "metadata": {},
     "output_type": "display_data"
    },
    {
     "data": {
      "application/vnd.jupyter.widget-view+json": {
       "model_id": "952d07abc6d34cfa9611e26e5fcc7cea",
       "version_major": 2,
       "version_minor": 0
      },
      "text/plain": [
       "aia_lev1_304a_2011_02_16t08_00_08_14z_image_lev1.fits:   0%|          | 0.00/9.92M [00:00<?, ?B/s]"
      ]
     },
     "metadata": {},
     "output_type": "display_data"
    },
    {
     "data": {
      "application/vnd.jupyter.widget-view+json": {
       "model_id": "f659921469e34f51bce2885a2254b298",
       "version_major": 2,
       "version_minor": 0
      },
      "text/plain": [
       "aia_lev1_304a_2011_02_16t09_00_08_12z_image_lev1.fits:   0%|          | 0.00/9.92M [00:00<?, ?B/s]"
      ]
     },
     "metadata": {},
     "output_type": "display_data"
    },
    {
     "data": {
      "application/vnd.jupyter.widget-view+json": {
       "model_id": "e1c79b0cfc604790999b754fc46a4ec0",
       "version_major": 2,
       "version_minor": 0
      },
      "text/plain": [
       "aia_lev1_304a_2011_02_16t10_00_08_13z_image_lev1.fits:   0%|          | 0.00/9.92M [00:00<?, ?B/s]"
      ]
     },
     "metadata": {},
     "output_type": "display_data"
    },
    {
     "data": {
      "application/vnd.jupyter.widget-view+json": {
       "model_id": "86917a24fb70453ea1a15a71ef27770c",
       "version_major": 2,
       "version_minor": 0
      },
      "text/plain": [
       "aia_lev1_304a_2011_02_16t11_00_08_14z_image_lev1.fits:   0%|          | 0.00/9.91M [00:00<?, ?B/s]"
      ]
     },
     "metadata": {},
     "output_type": "display_data"
    },
    {
     "data": {
      "application/vnd.jupyter.widget-view+json": {
       "model_id": "037b13cff4dd4fef932bc6c4b19fcc6d",
       "version_major": 2,
       "version_minor": 0
      },
      "text/plain": [
       "aia_lev1_304a_2011_02_16t12_00_08_12z_image_lev1.fits:   0%|          | 0.00/9.93M [00:00<?, ?B/s]"
      ]
     },
     "metadata": {},
     "output_type": "display_data"
    },
    {
     "data": {
      "application/vnd.jupyter.widget-view+json": {
       "model_id": "3b26f847230e4c33bb21ab8cf4df4755",
       "version_major": 2,
       "version_minor": 0
      },
      "text/plain": [
       "aia_lev1_304a_2011_02_16t14_00_08_12z_image_lev1.fits:   0%|          | 0.00/9.92M [00:00<?, ?B/s]"
      ]
     },
     "metadata": {},
     "output_type": "display_data"
    },
    {
     "data": {
      "application/vnd.jupyter.widget-view+json": {
       "model_id": "29b48b115c044cc091d79b8b4e86d53f",
       "version_major": 2,
       "version_minor": 0
      },
      "text/plain": [
       "aia_lev1_304a_2011_02_16t15_00_08_12z_image_lev1.fits:   0%|          | 0.00/9.90M [00:00<?, ?B/s]"
      ]
     },
     "metadata": {},
     "output_type": "display_data"
    },
    {
     "data": {
      "application/vnd.jupyter.widget-view+json": {
       "model_id": "0d75b3fbf2b84b7a9db5ef083f9aa18e",
       "version_major": 2,
       "version_minor": 0
      },
      "text/plain": [
       "aia_lev1_304a_2011_02_16t17_00_08_12z_image_lev1.fits:   0%|          | 0.00/9.93M [00:00<?, ?B/s]"
      ]
     },
     "metadata": {},
     "output_type": "display_data"
    },
    {
     "data": {
      "application/vnd.jupyter.widget-view+json": {
       "model_id": "db3f3986c8904521884a1bb666c7dda8",
       "version_major": 2,
       "version_minor": 0
      },
      "text/plain": [
       "aia_lev1_304a_2011_02_16t21_00_00_51z_image_lev1.fits:   0%|          | 0.00/6.92M [00:00<?, ?B/s]"
      ]
     },
     "metadata": {},
     "output_type": "display_data"
    },
    {
     "data": {
      "application/vnd.jupyter.widget-view+json": {
       "model_id": "1d2cdb448e854b129e3c8a689550dd89",
       "version_major": 2,
       "version_minor": 0
      },
      "text/plain": [
       "aia_lev1_304a_2011_02_16t20_00_08_14z_image_lev1.fits:   0%|          | 0.00/9.92M [00:00<?, ?B/s]"
      ]
     },
     "metadata": {},
     "output_type": "display_data"
    },
    {
     "data": {
      "application/vnd.jupyter.widget-view+json": {
       "model_id": "77c3cafd9a1f48208e22410e4a34b5b0",
       "version_major": 2,
       "version_minor": 0
      },
      "text/plain": [
       "aia_lev1_304a_2011_02_16t22_00_08_15z_image_lev1.fits:   0%|          | 0.00/9.94M [00:00<?, ?B/s]"
      ]
     },
     "metadata": {},
     "output_type": "display_data"
    },
    {
     "data": {
      "application/vnd.jupyter.widget-view+json": {
       "model_id": "ac82db7879ae466785bbcdb3c0816cac",
       "version_major": 2,
       "version_minor": 0
      },
      "text/plain": [
       "aia_lev1_304a_2011_02_16t23_00_08_12z_image_lev1.fits:   0%|          | 0.00/9.93M [00:00<?, ?B/s]"
      ]
     },
     "metadata": {},
     "output_type": "display_data"
    },
    {
     "data": {
      "application/vnd.jupyter.widget-view+json": {
       "model_id": "2acfeddcfc264b0d943ef7f265bb8a4a",
       "version_major": 2,
       "version_minor": 0
      },
      "text/plain": [
       "aia_lev1_304a_2011_02_17t00_00_08_12z_image_lev1.fits:   0%|          | 0.00/9.93M [00:00<?, ?B/s]"
      ]
     },
     "metadata": {},
     "output_type": "display_data"
    },
    {
     "data": {
      "application/vnd.jupyter.widget-view+json": {
       "model_id": "7bbbab80365c4921830aec5220864753",
       "version_major": 2,
       "version_minor": 0
      },
      "text/plain": [
       "aia_lev1_304a_2011_02_17t01_00_08_13z_image_lev1.fits:   0%|          | 0.00/9.93M [00:00<?, ?B/s]"
      ]
     },
     "metadata": {},
     "output_type": "display_data"
    },
    {
     "data": {
      "application/vnd.jupyter.widget-view+json": {
       "model_id": "4cf0dd51ee744ae98731a3167a50e904",
       "version_major": 2,
       "version_minor": 0
      },
      "text/plain": [
       "aia_lev1_304a_2011_02_17t02_00_08_13z_image_lev1.fits:   0%|          | 0.00/9.93M [00:00<?, ?B/s]"
      ]
     },
     "metadata": {},
     "output_type": "display_data"
    },
    {
     "data": {
      "application/vnd.jupyter.widget-view+json": {
       "model_id": "c42f4b9a9acb41359a6c8597360ac75e",
       "version_major": 2,
       "version_minor": 0
      },
      "text/plain": [
       "aia_lev1_304a_2011_02_17t03_00_08_13z_image_lev1.fits:   0%|          | 0.00/9.93M [00:00<?, ?B/s]"
      ]
     },
     "metadata": {},
     "output_type": "display_data"
    },
    {
     "data": {
      "application/vnd.jupyter.widget-view+json": {
       "model_id": "48be0b2c74a6436badd4c5693a2cfb27",
       "version_major": 2,
       "version_minor": 0
      },
      "text/plain": [
       "aia_lev1_304a_2011_02_17t04_00_08_12z_image_lev1.fits:   0%|          | 0.00/9.92M [00:00<?, ?B/s]"
      ]
     },
     "metadata": {},
     "output_type": "display_data"
    },
    {
     "data": {
      "application/vnd.jupyter.widget-view+json": {
       "model_id": "a7f2e25e22be41a09ada908c3aabc819",
       "version_major": 2,
       "version_minor": 0
      },
      "text/plain": [
       "aia_lev1_304a_2011_02_17t06_00_08_12z_image_lev1.fits:   0%|          | 0.00/9.93M [00:00<?, ?B/s]"
      ]
     },
     "metadata": {},
     "output_type": "display_data"
    },
    {
     "data": {
      "application/vnd.jupyter.widget-view+json": {
       "model_id": "556c11d989bb4aeab857e294d533fcd5",
       "version_major": 2,
       "version_minor": 0
      },
      "text/plain": [
       "aia_lev1_304a_2011_02_17t07_00_08_12z_image_lev1.fits:   0%|          | 0.00/9.93M [00:00<?, ?B/s]"
      ]
     },
     "metadata": {},
     "output_type": "display_data"
    },
    {
     "data": {
      "application/vnd.jupyter.widget-view+json": {
       "model_id": "7af957d39cbc4221a635eeaa4df0e37b",
       "version_major": 2,
       "version_minor": 0
      },
      "text/plain": [
       "aia_lev1_304a_2011_02_17t05_00_08_12z_image_lev1.fits:   0%|          | 0.00/9.92M [00:00<?, ?B/s]"
      ]
     },
     "metadata": {},
     "output_type": "display_data"
    },
    {
     "data": {
      "application/vnd.jupyter.widget-view+json": {
       "model_id": "f45f7df014c344ff97db9fe30ad07c28",
       "version_major": 2,
       "version_minor": 0
      },
      "text/plain": [
       "aia_lev1_304a_2011_02_17t08_00_08_12z_image_lev1.fits:   0%|          | 0.00/9.93M [00:00<?, ?B/s]"
      ]
     },
     "metadata": {},
     "output_type": "display_data"
    },
    {
     "data": {
      "application/vnd.jupyter.widget-view+json": {
       "model_id": "219868edef76403fa3df7ecf1a3a91e1",
       "version_major": 2,
       "version_minor": 0
      },
      "text/plain": [
       "aia_lev1_304a_2011_02_17t09_00_08_12z_image_lev1.fits:   0%|          | 0.00/9.94M [00:00<?, ?B/s]"
      ]
     },
     "metadata": {},
     "output_type": "display_data"
    },
    {
     "data": {
      "application/vnd.jupyter.widget-view+json": {
       "model_id": "d9b36544229145ba9e0a30ac4c74dcc6",
       "version_major": 2,
       "version_minor": 0
      },
      "text/plain": [
       "aia_lev1_304a_2011_02_17t10_00_08_12z_image_lev1.fits:   0%|          | 0.00/9.94M [00:00<?, ?B/s]"
      ]
     },
     "metadata": {},
     "output_type": "display_data"
    },
    {
     "data": {
      "application/vnd.jupyter.widget-view+json": {
       "model_id": "762c0baeb5d746b89a07c452d5f8ba20",
       "version_major": 2,
       "version_minor": 0
      },
      "text/plain": [
       "aia_lev1_304a_2011_02_17t12_00_08_12z_image_lev1.fits:   0%|          | 0.00/9.92M [00:00<?, ?B/s]"
      ]
     },
     "metadata": {},
     "output_type": "display_data"
    },
    {
     "data": {
      "application/vnd.jupyter.widget-view+json": {
       "model_id": "75272234bc964bf181c03f010ad33c34",
       "version_major": 2,
       "version_minor": 0
      },
      "text/plain": [
       "aia_lev1_304a_2011_02_17t13_00_08_12z_image_lev1.fits:   0%|          | 0.00/9.92M [00:00<?, ?B/s]"
      ]
     },
     "metadata": {},
     "output_type": "display_data"
    },
    {
     "data": {
      "application/vnd.jupyter.widget-view+json": {
       "model_id": "f87fa7de83924bd9822d2030b38f5107",
       "version_major": 2,
       "version_minor": 0
      },
      "text/plain": [
       "aia_lev1_304a_2011_02_17t14_00_08_12z_image_lev1.fits:   0%|          | 0.00/9.92M [00:00<?, ?B/s]"
      ]
     },
     "metadata": {},
     "output_type": "display_data"
    },
    {
     "data": {
      "application/vnd.jupyter.widget-view+json": {
       "model_id": "e72d6d434ff54557822df3c739c5ba5d",
       "version_major": 2,
       "version_minor": 0
      },
      "text/plain": [
       "aia_lev1_304a_2011_02_17t15_00_08_12z_image_lev1.fits:   0%|          | 0.00/9.92M [00:00<?, ?B/s]"
      ]
     },
     "metadata": {},
     "output_type": "display_data"
    },
    {
     "data": {
      "application/vnd.jupyter.widget-view+json": {
       "model_id": "79fa7d09fd274812ac83e3b7d2519ce1",
       "version_major": 2,
       "version_minor": 0
      },
      "text/plain": [
       "aia_lev1_304a_2011_02_17t11_00_08_12z_image_lev1.fits:   0%|          | 0.00/9.92M [00:00<?, ?B/s]"
      ]
     },
     "metadata": {},
     "output_type": "display_data"
    },
    {
     "data": {
      "application/vnd.jupyter.widget-view+json": {
       "model_id": "d42383a720dd40f4905593ded84ce178",
       "version_major": 2,
       "version_minor": 0
      },
      "text/plain": [
       "aia_lev1_304a_2011_02_17t18_00_08_12z_image_lev1.fits:   0%|          | 0.00/9.92M [00:00<?, ?B/s]"
      ]
     },
     "metadata": {},
     "output_type": "display_data"
    },
    {
     "data": {
      "application/vnd.jupyter.widget-view+json": {
       "model_id": "87a4abb860284de4b7dbdf7dea5bf05e",
       "version_major": 2,
       "version_minor": 0
      },
      "text/plain": [
       "aia_lev1_304a_2011_02_17t19_00_08_12z_image_lev1.fits:   0%|          | 0.00/9.92M [00:00<?, ?B/s]"
      ]
     },
     "metadata": {},
     "output_type": "display_data"
    },
    {
     "data": {
      "application/vnd.jupyter.widget-view+json": {
       "model_id": "6962f77373e34c568dc3b6aa974f34f8",
       "version_major": 2,
       "version_minor": 0
      },
      "text/plain": [
       "aia_lev1_304a_2011_02_17t20_00_08_12z_image_lev1.fits:   0%|          | 0.00/9.92M [00:00<?, ?B/s]"
      ]
     },
     "metadata": {},
     "output_type": "display_data"
    },
    {
     "data": {
      "application/vnd.jupyter.widget-view+json": {
       "model_id": "e4704871a13340828f20577a43057b6b",
       "version_major": 2,
       "version_minor": 0
      },
      "text/plain": [
       "aia_lev1_304a_2011_02_17t21_00_00_51z_image_lev1.fits:   0%|          | 0.00/6.92M [00:00<?, ?B/s]"
      ]
     },
     "metadata": {},
     "output_type": "display_data"
    },
    {
     "data": {
      "application/vnd.jupyter.widget-view+json": {
       "model_id": "20b2f3a4358d4af2bff8270c4c30c075",
       "version_major": 2,
       "version_minor": 0
      },
      "text/plain": [
       "aia_lev1_304a_2011_02_17t16_00_08_12z_image_lev1.fits:   0%|          | 0.00/9.93M [00:00<?, ?B/s]"
      ]
     },
     "metadata": {},
     "output_type": "display_data"
    },
    {
     "data": {
      "application/vnd.jupyter.widget-view+json": {
       "model_id": "cc1e8d5fed084dee8a0d948b2a6d38a4",
       "version_major": 2,
       "version_minor": 0
      },
      "text/plain": [
       "aia_lev1_304a_2011_02_17t17_00_08_12z_image_lev1.fits:   0%|          | 0.00/9.93M [00:00<?, ?B/s]"
      ]
     },
     "metadata": {},
     "output_type": "display_data"
    },
    {
     "data": {
      "application/vnd.jupyter.widget-view+json": {
       "model_id": "f6b99568e29c47bab360c7f8eab90322",
       "version_major": 2,
       "version_minor": 0
      },
      "text/plain": [
       "aia_lev1_304a_2011_02_17t22_00_08_13z_image_lev1.fits:   0%|          | 0.00/9.94M [00:00<?, ?B/s]"
      ]
     },
     "metadata": {},
     "output_type": "display_data"
    },
    {
     "data": {
      "application/vnd.jupyter.widget-view+json": {
       "model_id": "87a32667ab9e480fa143777f36f90a31",
       "version_major": 2,
       "version_minor": 0
      },
      "text/plain": [
       "aia_lev1_304a_2011_02_17t23_00_08_12z_image_lev1.fits:   0%|          | 0.00/9.93M [00:00<?, ?B/s]"
      ]
     },
     "metadata": {},
     "output_type": "display_data"
    },
    {
     "data": {
      "application/vnd.jupyter.widget-view+json": {
       "model_id": "f4e9f6937ee2421db4169dcec5b9f47d",
       "version_major": 2,
       "version_minor": 0
      },
      "text/plain": [
       "aia_lev1_304a_2011_02_18t00_00_08_12z_image_lev1.fits:   0%|          | 0.00/9.92M [00:00<?, ?B/s]"
      ]
     },
     "metadata": {},
     "output_type": "display_data"
    },
    {
     "data": {
      "application/vnd.jupyter.widget-view+json": {
       "model_id": "91dab414a76446519f12c58b668003bf",
       "version_major": 2,
       "version_minor": 0
      },
      "text/plain": [
       "aia_lev1_304a_2011_02_18t01_00_08_12z_image_lev1.fits:   0%|          | 0.00/9.92M [00:00<?, ?B/s]"
      ]
     },
     "metadata": {},
     "output_type": "display_data"
    },
    {
     "data": {
      "application/vnd.jupyter.widget-view+json": {
       "model_id": "a5ae2adabd7048069349eacd0fa90164",
       "version_major": 2,
       "version_minor": 0
      },
      "text/plain": [
       "aia_lev1_304a_2011_02_18t02_00_08_14z_image_lev1.fits:   0%|          | 0.00/9.92M [00:00<?, ?B/s]"
      ]
     },
     "metadata": {},
     "output_type": "display_data"
    },
    {
     "data": {
      "application/vnd.jupyter.widget-view+json": {
       "model_id": "616c6082eb274c478e8da5f5e970aa06",
       "version_major": 2,
       "version_minor": 0
      },
      "text/plain": [
       "aia_lev1_304a_2011_02_18t03_00_08_12z_image_lev1.fits:   0%|          | 0.00/9.92M [00:00<?, ?B/s]"
      ]
     },
     "metadata": {},
     "output_type": "display_data"
    },
    {
     "data": {
      "application/vnd.jupyter.widget-view+json": {
       "model_id": "409b187945694a36a46bf01a91a26e71",
       "version_major": 2,
       "version_minor": 0
      },
      "text/plain": [
       "aia_lev1_304a_2011_02_18t05_00_08_12z_image_lev1.fits:   0%|          | 0.00/9.92M [00:00<?, ?B/s]"
      ]
     },
     "metadata": {},
     "output_type": "display_data"
    },
    {
     "data": {
      "application/vnd.jupyter.widget-view+json": {
       "model_id": "4f471ccfa90b49b9a68eb10be7704c1e",
       "version_major": 2,
       "version_minor": 0
      },
      "text/plain": [
       "aia_lev1_304a_2011_02_18t06_00_08_13z_image_lev1.fits:   0%|          | 0.00/9.93M [00:00<?, ?B/s]"
      ]
     },
     "metadata": {},
     "output_type": "display_data"
    },
    {
     "data": {
      "application/vnd.jupyter.widget-view+json": {
       "model_id": "6de6bdac342146f8a381fff762317681",
       "version_major": 2,
       "version_minor": 0
      },
      "text/plain": [
       "aia_lev1_304a_2011_02_18t08_00_08_15z_image_lev1.fits:   0%|          | 0.00/9.96M [00:00<?, ?B/s]"
      ]
     },
     "metadata": {},
     "output_type": "display_data"
    },
    {
     "data": {
      "application/vnd.jupyter.widget-view+json": {
       "model_id": "dd3eb65481a045be841875c0c51f0ca8",
       "version_major": 2,
       "version_minor": 0
      },
      "text/plain": [
       "aia_lev1_304a_2011_02_18t11_00_10_08z_image_lev1.fits:   0%|          | 0.00/9.08M [00:00<?, ?B/s]"
      ]
     },
     "metadata": {},
     "output_type": "display_data"
    },
    {
     "data": {
      "application/vnd.jupyter.widget-view+json": {
       "model_id": "e4feb31428e24b3ab02142d6cf47fd03",
       "version_major": 2,
       "version_minor": 0
      },
      "text/plain": [
       "aia_lev1_304a_2011_02_18t12_00_08_12z_image_lev1.fits:   0%|          | 0.00/9.93M [00:00<?, ?B/s]"
      ]
     },
     "metadata": {},
     "output_type": "display_data"
    },
    {
     "data": {
      "application/vnd.jupyter.widget-view+json": {
       "model_id": "abf6dbefd07e419c94112e4e9c63e30f",
       "version_major": 2,
       "version_minor": 0
      },
      "text/plain": [
       "aia_lev1_304a_2011_02_18t14_00_08_12z_image_lev1.fits:   0%|          | 0.00/9.92M [00:00<?, ?B/s]"
      ]
     },
     "metadata": {},
     "output_type": "display_data"
    },
    {
     "data": {
      "application/vnd.jupyter.widget-view+json": {
       "model_id": "e85e07840828403fa2639d4c58ba7c06",
       "version_major": 2,
       "version_minor": 0
      },
      "text/plain": [
       "aia_lev1_304a_2011_02_18t15_00_08_12z_image_lev1.fits:   0%|          | 0.00/9.93M [00:00<?, ?B/s]"
      ]
     },
     "metadata": {},
     "output_type": "display_data"
    },
    {
     "data": {
      "application/vnd.jupyter.widget-view+json": {
       "model_id": "2263b80c5b8d44a8b101745b01b1e522",
       "version_major": 2,
       "version_minor": 0
      },
      "text/plain": [
       "aia_lev1_304a_2011_02_18t10_00_08_14z_image_lev1.fits:   0%|          | 0.00/9.96M [00:00<?, ?B/s]"
      ]
     },
     "metadata": {},
     "output_type": "display_data"
    },
    {
     "data": {
      "application/vnd.jupyter.widget-view+json": {
       "model_id": "b558ab63fe8047058b2fda547caa190e",
       "version_major": 2,
       "version_minor": 0
      },
      "text/plain": [
       "aia_lev1_304a_2011_02_18t16_00_08_13z_image_lev1.fits:   0%|          | 0.00/9.98M [00:00<?, ?B/s]"
      ]
     },
     "metadata": {},
     "output_type": "display_data"
    },
    {
     "data": {
      "application/vnd.jupyter.widget-view+json": {
       "model_id": "779d20355eef4fd2bc636576dd511081",
       "version_major": 2,
       "version_minor": 0
      },
      "text/plain": [
       "aia_lev1_304a_2011_02_18t13_00_08_12z_image_lev1.fits:   0%|          | 0.00/9.93M [00:00<?, ?B/s]"
      ]
     },
     "metadata": {},
     "output_type": "display_data"
    },
    {
     "data": {
      "application/vnd.jupyter.widget-view+json": {
       "model_id": "bff9a9a48e9c43a9897b4fdbd1cc9b9e",
       "version_major": 2,
       "version_minor": 0
      },
      "text/plain": [
       "aia_lev1_304a_2011_02_18t17_00_08_12z_image_lev1.fits:   0%|          | 0.00/9.94M [00:00<?, ?B/s]"
      ]
     },
     "metadata": {},
     "output_type": "display_data"
    },
    {
     "data": {
      "application/vnd.jupyter.widget-view+json": {
       "model_id": "7328d78fe9664d9b803df80d3a8414a9",
       "version_major": 2,
       "version_minor": 0
      },
      "text/plain": [
       "aia_lev1_304a_2011_02_18t18_00_08_12z_image_lev1.fits:   0%|          | 0.00/9.94M [00:00<?, ?B/s]"
      ]
     },
     "metadata": {},
     "output_type": "display_data"
    },
    {
     "data": {
      "application/vnd.jupyter.widget-view+json": {
       "model_id": "eec6c489a30b47948be277c0e576f93c",
       "version_major": 2,
       "version_minor": 0
      },
      "text/plain": [
       "aia_lev1_304a_2011_02_18t20_00_08_12z_image_lev1.fits:   0%|          | 0.00/9.93M [00:00<?, ?B/s]"
      ]
     },
     "metadata": {},
     "output_type": "display_data"
    },
    {
     "data": {
      "application/vnd.jupyter.widget-view+json": {
       "model_id": "cd5b65de07d3440c805fb161705cb367",
       "version_major": 2,
       "version_minor": 0
      },
      "text/plain": [
       "aia_lev1_304a_2011_02_18t21_00_00_51z_image_lev1.fits:   0%|          | 0.00/6.92M [00:00<?, ?B/s]"
      ]
     },
     "metadata": {},
     "output_type": "display_data"
    },
    {
     "data": {
      "application/vnd.jupyter.widget-view+json": {
       "model_id": "33616613d8944262bdcd2fb041affa67",
       "version_major": 2,
       "version_minor": 0
      },
      "text/plain": [
       "aia_lev1_304a_2011_02_18t19_00_08_12z_image_lev1.fits:   0%|          | 0.00/9.94M [00:00<?, ?B/s]"
      ]
     },
     "metadata": {},
     "output_type": "display_data"
    },
    {
     "data": {
      "application/vnd.jupyter.widget-view+json": {
       "model_id": "5b6a42298472474cacdfd6664163f70d",
       "version_major": 2,
       "version_minor": 0
      },
      "text/plain": [
       "aia_lev1_304a_2011_02_18t22_00_08_12z_image_lev1.fits:   0%|          | 0.00/9.94M [00:00<?, ?B/s]"
      ]
     },
     "metadata": {},
     "output_type": "display_data"
    },
    {
     "data": {
      "application/vnd.jupyter.widget-view+json": {
       "model_id": "90ef26704835409482f57a64490a4135",
       "version_major": 2,
       "version_minor": 0
      },
      "text/plain": [
       "aia_lev1_304a_2011_02_19t00_00_08_12z_image_lev1.fits:   0%|          | 0.00/9.92M [00:00<?, ?B/s]"
      ]
     },
     "metadata": {},
     "output_type": "display_data"
    },
    {
     "data": {
      "application/vnd.jupyter.widget-view+json": {
       "model_id": "351ea869f6234ed28e711e50e6d9d5c9",
       "version_major": 2,
       "version_minor": 0
      },
      "text/plain": [
       "aia_lev1_304a_2011_02_19t01_00_08_12z_image_lev1.fits:   0%|          | 0.00/9.91M [00:00<?, ?B/s]"
      ]
     },
     "metadata": {},
     "output_type": "display_data"
    },
    {
     "data": {
      "application/vnd.jupyter.widget-view+json": {
       "model_id": "d2c4c1bab63d41f891c2ba92c962044b",
       "version_major": 2,
       "version_minor": 0
      },
      "text/plain": [
       "aia_lev1_304a_2011_02_18t23_00_08_12z_image_lev1.fits:   0%|          | 0.00/9.93M [00:00<?, ?B/s]"
      ]
     },
     "metadata": {},
     "output_type": "display_data"
    },
    {
     "data": {
      "application/vnd.jupyter.widget-view+json": {
       "model_id": "fc651279c1f944f6929d3d2d56c71873",
       "version_major": 2,
       "version_minor": 0
      },
      "text/plain": [
       "aia_lev1_304a_2011_02_19t02_00_08_12z_image_lev1.fits:   0%|          | 0.00/9.90M [00:00<?, ?B/s]"
      ]
     },
     "metadata": {},
     "output_type": "display_data"
    },
    {
     "data": {
      "application/vnd.jupyter.widget-view+json": {
       "model_id": "1a5313cf9b6e4295a692b1f434d26f4c",
       "version_major": 2,
       "version_minor": 0
      },
      "text/plain": [
       "aia_lev1_304a_2011_02_19t03_00_08_12z_image_lev1.fits:   0%|          | 0.00/9.90M [00:00<?, ?B/s]"
      ]
     },
     "metadata": {},
     "output_type": "display_data"
    },
    {
     "data": {
      "application/vnd.jupyter.widget-view+json": {
       "model_id": "1a77aae1435d4458bd92e0a871a9b466",
       "version_major": 2,
       "version_minor": 0
      },
      "text/plain": [
       "aia_lev1_304a_2011_02_19t04_00_08_13z_image_lev1.fits:   0%|          | 0.00/9.90M [00:00<?, ?B/s]"
      ]
     },
     "metadata": {},
     "output_type": "display_data"
    },
    {
     "data": {
      "application/vnd.jupyter.widget-view+json": {
       "model_id": "100385e917d743d4a8d41b9c65ad62c7",
       "version_major": 2,
       "version_minor": 0
      },
      "text/plain": [
       "aia_lev1_304a_2011_02_19t06_00_08_12z_image_lev1.fits:   0%|          | 0.00/9.92M [00:00<?, ?B/s]"
      ]
     },
     "metadata": {},
     "output_type": "display_data"
    },
    {
     "data": {
      "application/vnd.jupyter.widget-view+json": {
       "model_id": "b6114378ab314ca4b7e2e615526a421e",
       "version_major": 2,
       "version_minor": 0
      },
      "text/plain": [
       "aia_lev1_304a_2011_02_19t09_00_08_13z_image_lev1.fits:   0%|          | 0.00/10.1M [00:00<?, ?B/s]"
      ]
     },
     "metadata": {},
     "output_type": "display_data"
    },
    {
     "data": {
      "application/vnd.jupyter.widget-view+json": {
       "model_id": "3e3dac6274ec41d38315b8077d9d636a",
       "version_major": 2,
       "version_minor": 0
      },
      "text/plain": [
       "aia_lev1_304a_2011_02_19t05_00_08_12z_image_lev1.fits:   0%|          | 0.00/9.90M [00:00<?, ?B/s]"
      ]
     },
     "metadata": {},
     "output_type": "display_data"
    },
    {
     "data": {
      "application/vnd.jupyter.widget-view+json": {
       "model_id": "47bed5190cae4f9bb64c76417f5a6075",
       "version_major": 2,
       "version_minor": 0
      },
      "text/plain": [
       "aia_lev1_304a_2011_02_19t08_00_08_12z_image_lev1.fits:   0%|          | 0.00/10.1M [00:00<?, ?B/s]"
      ]
     },
     "metadata": {},
     "output_type": "display_data"
    },
    {
     "data": {
      "application/vnd.jupyter.widget-view+json": {
       "model_id": "5ddb0bf623e9463891a3f18ad18c34fd",
       "version_major": 2,
       "version_minor": 0
      },
      "text/plain": [
       "aia_lev1_304a_2011_02_19t07_00_08_12z_image_lev1.fits:   0%|          | 0.00/9.94M [00:00<?, ?B/s]"
      ]
     },
     "metadata": {},
     "output_type": "display_data"
    },
    {
     "data": {
      "application/vnd.jupyter.widget-view+json": {
       "model_id": "ac1d74792ed54000947b77bff3a794ae",
       "version_major": 2,
       "version_minor": 0
      },
      "text/plain": [
       "aia_lev1_304a_2011_02_19t10_00_08_12z_image_lev1.fits:   0%|          | 0.00/9.98M [00:00<?, ?B/s]"
      ]
     },
     "metadata": {},
     "output_type": "display_data"
    },
    {
     "data": {
      "application/vnd.jupyter.widget-view+json": {
       "model_id": "95b1433e0d97429b89b831385b1bf0f5",
       "version_major": 2,
       "version_minor": 0
      },
      "text/plain": [
       "aia_lev1_304a_2011_02_19t12_00_08_13z_image_lev1.fits:   0%|          | 0.00/9.90M [00:00<?, ?B/s]"
      ]
     },
     "metadata": {},
     "output_type": "display_data"
    },
    {
     "data": {
      "application/vnd.jupyter.widget-view+json": {
       "model_id": "b5102ba2112645c38b0da15f80cec615",
       "version_major": 2,
       "version_minor": 0
      },
      "text/plain": [
       "aia_lev1_304a_2011_02_19t11_00_08_12z_image_lev1.fits:   0%|          | 0.00/9.95M [00:00<?, ?B/s]"
      ]
     },
     "metadata": {},
     "output_type": "display_data"
    },
    {
     "data": {
      "application/vnd.jupyter.widget-view+json": {
       "model_id": "c294207c01a341e8a407cf2350800d38",
       "version_major": 2,
       "version_minor": 0
      },
      "text/plain": [
       "aia_lev1_304a_2011_02_19t16_00_08_12z_image_lev1.fits:   0%|          | 0.00/9.90M [00:00<?, ?B/s]"
      ]
     },
     "metadata": {},
     "output_type": "display_data"
    },
    {
     "data": {
      "application/vnd.jupyter.widget-view+json": {
       "model_id": "61e7b583a6c94ae89fd5e17a1bdb9ca5",
       "version_major": 2,
       "version_minor": 0
      },
      "text/plain": [
       "aia_lev1_304a_2011_02_19t18_00_08_12z_image_lev1.fits:   0%|          | 0.00/9.89M [00:00<?, ?B/s]"
      ]
     },
     "metadata": {},
     "output_type": "display_data"
    },
    {
     "data": {
      "application/vnd.jupyter.widget-view+json": {
       "model_id": "b2a4de208eaa4e45aa88da344128eee2",
       "version_major": 2,
       "version_minor": 0
      },
      "text/plain": [
       "aia_lev1_304a_2011_02_19t17_00_08_12z_image_lev1.fits:   0%|          | 0.00/9.90M [00:00<?, ?B/s]"
      ]
     },
     "metadata": {},
     "output_type": "display_data"
    },
    {
     "data": {
      "application/vnd.jupyter.widget-view+json": {
       "model_id": "631167b1951b421bbd14e4852718c66d",
       "version_major": 2,
       "version_minor": 0
      },
      "text/plain": [
       "aia_lev1_304a_2011_02_19t19_00_08_14z_image_lev1.fits:   0%|          | 0.00/9.90M [00:00<?, ?B/s]"
      ]
     },
     "metadata": {},
     "output_type": "display_data"
    },
    {
     "data": {
      "application/vnd.jupyter.widget-view+json": {
       "model_id": "330bb9fd64294089ac42b8431e7402b5",
       "version_major": 2,
       "version_minor": 0
      },
      "text/plain": [
       "aia_lev1_304a_2011_02_19t20_00_08_12z_image_lev1.fits:   0%|          | 0.00/9.90M [00:00<?, ?B/s]"
      ]
     },
     "metadata": {},
     "output_type": "display_data"
    },
    {
     "data": {
      "application/vnd.jupyter.widget-view+json": {
       "model_id": "d19093c0d2324b7d8f1f79ecf0afaa1f",
       "version_major": 2,
       "version_minor": 0
      },
      "text/plain": [
       "aia_lev1_304a_2011_02_19t21_00_00_51z_image_lev1.fits:   0%|          | 0.00/6.92M [00:00<?, ?B/s]"
      ]
     },
     "metadata": {},
     "output_type": "display_data"
    },
    {
     "data": {
      "application/vnd.jupyter.widget-view+json": {
       "model_id": "708bdc2096af42c8afd36217d4f67b88",
       "version_major": 2,
       "version_minor": 0
      },
      "text/plain": [
       "aia_lev1_304a_2011_02_19t22_00_08_12z_image_lev1.fits:   0%|          | 0.00/9.92M [00:00<?, ?B/s]"
      ]
     },
     "metadata": {},
     "output_type": "display_data"
    },
    {
     "data": {
      "application/vnd.jupyter.widget-view+json": {
       "model_id": "dc823118fca6455bbc95c603297ed0f6",
       "version_major": 2,
       "version_minor": 0
      },
      "text/plain": [
       "aia_lev1_304a_2011_02_19t23_00_08_13z_image_lev1.fits:   0%|          | 0.00/9.92M [00:00<?, ?B/s]"
      ]
     },
     "metadata": {},
     "output_type": "display_data"
    },
    {
     "data": {
      "application/vnd.jupyter.widget-view+json": {
       "model_id": "d8f4db40239b4437a54422d3f00ae453",
       "version_major": 2,
       "version_minor": 0
      },
      "text/plain": [
       "aia_lev1_304a_2011_02_20t00_00_08_12z_image_lev1.fits:   0%|          | 0.00/9.92M [00:00<?, ?B/s]"
      ]
     },
     "metadata": {},
     "output_type": "display_data"
    },
    {
     "data": {
      "application/vnd.jupyter.widget-view+json": {
       "model_id": "493a3479cb7041eb8d0f686fac85187d",
       "version_major": 2,
       "version_minor": 0
      },
      "text/plain": [
       "aia_lev1_304a_2011_02_20t01_00_08_12z_image_lev1.fits:   0%|          | 0.00/9.91M [00:00<?, ?B/s]"
      ]
     },
     "metadata": {},
     "output_type": "display_data"
    },
    {
     "data": {
      "application/vnd.jupyter.widget-view+json": {
       "model_id": "03a640ce59844d9b946fdc46a62a970d",
       "version_major": 2,
       "version_minor": 0
      },
      "text/plain": [
       "aia_lev1_304a_2011_02_20t03_00_08_12z_image_lev1.fits:   0%|          | 0.00/9.90M [00:00<?, ?B/s]"
      ]
     },
     "metadata": {},
     "output_type": "display_data"
    },
    {
     "data": {
      "application/vnd.jupyter.widget-view+json": {
       "model_id": "866a32eba970471b8274569cff9a1b32",
       "version_major": 2,
       "version_minor": 0
      },
      "text/plain": [
       "aia_lev1_304a_2011_02_20t05_00_08_13z_image_lev1.fits:   0%|          | 0.00/9.90M [00:00<?, ?B/s]"
      ]
     },
     "metadata": {},
     "output_type": "display_data"
    },
    {
     "data": {
      "application/vnd.jupyter.widget-view+json": {
       "model_id": "4685286069054d60b3b6a3d8cff83bce",
       "version_major": 2,
       "version_minor": 0
      },
      "text/plain": [
       "aia_lev1_304a_2011_02_20t02_00_08_12z_image_lev1.fits:   0%|          | 0.00/9.91M [00:00<?, ?B/s]"
      ]
     },
     "metadata": {},
     "output_type": "display_data"
    },
    {
     "data": {
      "application/vnd.jupyter.widget-view+json": {
       "model_id": "c735e81023aa4e6d8c4ce2fd7a8efb7e",
       "version_major": 2,
       "version_minor": 0
      },
      "text/plain": [
       "aia_lev1_304a_2011_02_20t04_00_08_12z_image_lev1.fits:   0%|          | 0.00/9.91M [00:00<?, ?B/s]"
      ]
     },
     "metadata": {},
     "output_type": "display_data"
    },
    {
     "data": {
      "application/vnd.jupyter.widget-view+json": {
       "model_id": "63cc8cb9ff4e4992bfd0d9706c9aca21",
       "version_major": 2,
       "version_minor": 0
      },
      "text/plain": [
       "aia_lev1_304a_2011_02_20t06_00_08_12z_image_lev1.fits:   0%|          | 0.00/9.90M [00:00<?, ?B/s]"
      ]
     },
     "metadata": {},
     "output_type": "display_data"
    },
    {
     "data": {
      "application/vnd.jupyter.widget-view+json": {
       "model_id": "46743d778b7e4035861397d0873e82e3",
       "version_major": 2,
       "version_minor": 0
      },
      "text/plain": [
       "aia_lev1_304a_2011_02_20t08_00_08_12z_image_lev1.fits:   0%|          | 0.00/9.99M [00:00<?, ?B/s]"
      ]
     },
     "metadata": {},
     "output_type": "display_data"
    },
    {
     "data": {
      "application/vnd.jupyter.widget-view+json": {
       "model_id": "4ccca38a69e44b22a04a9e616c9b32b0",
       "version_major": 2,
       "version_minor": 0
      },
      "text/plain": [
       "aia_lev1_304a_2011_02_20t10_00_08_12z_image_lev1.fits:   0%|          | 0.00/10.0M [00:00<?, ?B/s]"
      ]
     },
     "metadata": {},
     "output_type": "display_data"
    },
    {
     "data": {
      "application/vnd.jupyter.widget-view+json": {
       "model_id": "e0c312e14d3b49519941fe114d3e2e27",
       "version_major": 2,
       "version_minor": 0
      },
      "text/plain": [
       "aia_lev1_304a_2011_02_20t11_00_08_14z_image_lev1.fits:   0%|          | 0.00/9.99M [00:00<?, ?B/s]"
      ]
     },
     "metadata": {},
     "output_type": "display_data"
    },
    {
     "data": {
      "application/vnd.jupyter.widget-view+json": {
       "model_id": "c7f36d0012414728b342bcae8bc93524",
       "version_major": 2,
       "version_minor": 0
      },
      "text/plain": [
       "aia_lev1_304a_2011_02_20t12_00_08_12z_image_lev1.fits:   0%|          | 0.00/9.93M [00:00<?, ?B/s]"
      ]
     },
     "metadata": {},
     "output_type": "display_data"
    },
    {
     "data": {
      "application/vnd.jupyter.widget-view+json": {
       "model_id": "9cc7f7ad3c884c48898792492eed5a8d",
       "version_major": 2,
       "version_minor": 0
      },
      "text/plain": [
       "aia_lev1_304a_2011_02_20t07_00_08_14z_image_lev1.fits:   0%|          | 0.00/10.0M [00:00<?, ?B/s]"
      ]
     },
     "metadata": {},
     "output_type": "display_data"
    },
    {
     "data": {
      "application/vnd.jupyter.widget-view+json": {
       "model_id": "e580c66fe6794a1db3cfc8e684ec7d9d",
       "version_major": 2,
       "version_minor": 0
      },
      "text/plain": [
       "aia_lev1_304a_2011_02_20t09_00_08_12z_image_lev1.fits:   0%|          | 0.00/9.96M [00:00<?, ?B/s]"
      ]
     },
     "metadata": {},
     "output_type": "display_data"
    },
    {
     "data": {
      "application/vnd.jupyter.widget-view+json": {
       "model_id": "37413770e7ce49f380ed3d7ba0a83715",
       "version_major": 2,
       "version_minor": 0
      },
      "text/plain": [
       "aia_lev1_304a_2011_02_20t13_00_08_12z_image_lev1.fits:   0%|          | 0.00/9.91M [00:00<?, ?B/s]"
      ]
     },
     "metadata": {},
     "output_type": "display_data"
    },
    {
     "data": {
      "application/vnd.jupyter.widget-view+json": {
       "model_id": "8642d84a7fd14ec4a3e7b8694d552ee8",
       "version_major": 2,
       "version_minor": 0
      },
      "text/plain": [
       "aia_lev1_304a_2011_02_20t14_00_08_12z_image_lev1.fits:   0%|          | 0.00/9.91M [00:00<?, ?B/s]"
      ]
     },
     "metadata": {},
     "output_type": "display_data"
    },
    {
     "data": {
      "application/vnd.jupyter.widget-view+json": {
       "model_id": "d88e07564939464cafae3b2d551bf5ca",
       "version_major": 2,
       "version_minor": 0
      },
      "text/plain": [
       "aia_lev1_304a_2011_02_20t15_00_08_12z_image_lev1.fits:   0%|          | 0.00/9.90M [00:00<?, ?B/s]"
      ]
     },
     "metadata": {},
     "output_type": "display_data"
    },
    {
     "data": {
      "application/vnd.jupyter.widget-view+json": {
       "model_id": "33272684118f4093abefe2883d680e92",
       "version_major": 2,
       "version_minor": 0
      },
      "text/plain": [
       "aia_lev1_304a_2011_02_20t16_00_08_12z_image_lev1.fits:   0%|          | 0.00/9.92M [00:00<?, ?B/s]"
      ]
     },
     "metadata": {},
     "output_type": "display_data"
    },
    {
     "data": {
      "application/vnd.jupyter.widget-view+json": {
       "model_id": "8b2f59113dc748cbb99e64c44ee3dbf7",
       "version_major": 2,
       "version_minor": 0
      },
      "text/plain": [
       "aia_lev1_304a_2011_02_20t17_00_08_12z_image_lev1.fits:   0%|          | 0.00/9.90M [00:00<?, ?B/s]"
      ]
     },
     "metadata": {},
     "output_type": "display_data"
    },
    {
     "data": {
      "application/vnd.jupyter.widget-view+json": {
       "model_id": "c3d90f9b02d546b19d23f0e5cf2c959e",
       "version_major": 2,
       "version_minor": 0
      },
      "text/plain": [
       "aia_lev1_304a_2011_02_20t18_00_08_12z_image_lev1.fits:   0%|          | 0.00/9.90M [00:00<?, ?B/s]"
      ]
     },
     "metadata": {},
     "output_type": "display_data"
    },
    {
     "data": {
      "application/vnd.jupyter.widget-view+json": {
       "model_id": "f7865c15567d42d593e86936295db8a2",
       "version_major": 2,
       "version_minor": 0
      },
      "text/plain": [
       "aia_lev1_304a_2011_02_20t20_00_08_12z_image_lev1.fits:   0%|          | 0.00/9.92M [00:00<?, ?B/s]"
      ]
     },
     "metadata": {},
     "output_type": "display_data"
    },
    {
     "data": {
      "application/vnd.jupyter.widget-view+json": {
       "model_id": "05afc09bc89a44f597a9a902736abec0",
       "version_major": 2,
       "version_minor": 0
      },
      "text/plain": [
       "aia_lev1_304a_2011_02_20t21_00_00_51z_image_lev1.fits:   0%|          | 0.00/6.92M [00:00<?, ?B/s]"
      ]
     },
     "metadata": {},
     "output_type": "display_data"
    },
    {
     "data": {
      "application/vnd.jupyter.widget-view+json": {
       "model_id": "f88276a67aad4addaa24ae773a2f3960",
       "version_major": 2,
       "version_minor": 0
      },
      "text/plain": [
       "aia_lev1_304a_2011_02_20t22_00_08_12z_image_lev1.fits:   0%|          | 0.00/9.94M [00:00<?, ?B/s]"
      ]
     },
     "metadata": {},
     "output_type": "display_data"
    },
    {
     "data": {
      "application/vnd.jupyter.widget-view+json": {
       "model_id": "6c9d8e21af6f46bea102851c2652c237",
       "version_major": 2,
       "version_minor": 0
      },
      "text/plain": [
       "aia_lev1_304a_2011_02_20t23_00_08_12z_image_lev1.fits:   0%|          | 0.00/9.95M [00:00<?, ?B/s]"
      ]
     },
     "metadata": {},
     "output_type": "display_data"
    },
    {
     "data": {
      "application/vnd.jupyter.widget-view+json": {
       "model_id": "0c8e0c32f0974edca13628d63e6074ff",
       "version_major": 2,
       "version_minor": 0
      },
      "text/plain": [
       "aia_lev1_304a_2011_02_21t00_00_08_12z_image_lev1.fits:   0%|          | 0.00/9.92M [00:00<?, ?B/s]"
      ]
     },
     "metadata": {},
     "output_type": "display_data"
    },
    {
     "data": {
      "application/vnd.jupyter.widget-view+json": {
       "model_id": "d640ceac441149e38862fdbf8625c47a",
       "version_major": 2,
       "version_minor": 0
      },
      "text/plain": [
       "aia_lev1_304a_2011_02_21t01_00_08_12z_image_lev1.fits:   0%|          | 0.00/9.88M [00:00<?, ?B/s]"
      ]
     },
     "metadata": {},
     "output_type": "display_data"
    },
    {
     "data": {
      "application/vnd.jupyter.widget-view+json": {
       "model_id": "89d40a015bc2436c95ebff807ef18782",
       "version_major": 2,
       "version_minor": 0
      },
      "text/plain": [
       "aia_lev1_304a_2011_02_20t19_00_08_12z_image_lev1.fits:   0%|          | 0.00/9.89M [00:00<?, ?B/s]"
      ]
     },
     "metadata": {},
     "output_type": "display_data"
    },
    {
     "data": {
      "application/vnd.jupyter.widget-view+json": {
       "model_id": "2aac5147ffee48c8bf0ac4cc628d84a9",
       "version_major": 2,
       "version_minor": 0
      },
      "text/plain": [
       "aia_lev1_304a_2011_02_21t02_00_08_12z_image_lev1.fits:   0%|          | 0.00/9.87M [00:00<?, ?B/s]"
      ]
     },
     "metadata": {},
     "output_type": "display_data"
    },
    {
     "data": {
      "application/vnd.jupyter.widget-view+json": {
       "model_id": "78147af6ea5b49c4bf6d68b804ed8d41",
       "version_major": 2,
       "version_minor": 0
      },
      "text/plain": [
       "aia_lev1_304a_2011_02_21t03_00_08_12z_image_lev1.fits:   0%|          | 0.00/9.86M [00:00<?, ?B/s]"
      ]
     },
     "metadata": {},
     "output_type": "display_data"
    },
    {
     "data": {
      "application/vnd.jupyter.widget-view+json": {
       "model_id": "30558c50e59946438890598a7b06253e",
       "version_major": 2,
       "version_minor": 0
      },
      "text/plain": [
       "aia_lev1_304a_2011_02_21t08_00_08_13z_image_lev1.fits:   0%|          | 0.00/9.90M [00:00<?, ?B/s]"
      ]
     },
     "metadata": {},
     "output_type": "display_data"
    },
    {
     "data": {
      "application/vnd.jupyter.widget-view+json": {
       "model_id": "d6c990e207144895b3acf579e9463f57",
       "version_major": 2,
       "version_minor": 0
      },
      "text/plain": [
       "aia_lev1_304a_2011_02_21t10_00_08_12z_image_lev1.fits:   0%|          | 0.00/9.94M [00:00<?, ?B/s]"
      ]
     },
     "metadata": {},
     "output_type": "display_data"
    },
    {
     "data": {
      "application/vnd.jupyter.widget-view+json": {
       "model_id": "7ed8eaa0233343728497e74f339976a4",
       "version_major": 2,
       "version_minor": 0
      },
      "text/plain": [
       "aia_lev1_304a_2011_02_21t09_00_08_14z_image_lev1.fits:   0%|          | 0.00/9.89M [00:00<?, ?B/s]"
      ]
     },
     "metadata": {},
     "output_type": "display_data"
    },
    {
     "data": {
      "application/vnd.jupyter.widget-view+json": {
       "model_id": "b4483cd8d6a447cc9677b383f3cc7c48",
       "version_major": 2,
       "version_minor": 0
      },
      "text/plain": [
       "aia_lev1_304a_2011_02_21t06_00_08_12z_image_lev1.fits:   0%|          | 0.00/9.89M [00:00<?, ?B/s]"
      ]
     },
     "metadata": {},
     "output_type": "display_data"
    },
    {
     "data": {
      "application/vnd.jupyter.widget-view+json": {
       "model_id": "4331922722124b5f846462efef8e048e",
       "version_major": 2,
       "version_minor": 0
      },
      "text/plain": [
       "aia_lev1_304a_2011_02_21t11_00_08_12z_image_lev1.fits:   0%|          | 0.00/9.89M [00:00<?, ?B/s]"
      ]
     },
     "metadata": {},
     "output_type": "display_data"
    },
    {
     "data": {
      "application/vnd.jupyter.widget-view+json": {
       "model_id": "63f49b8790ac47deb17094529fed68e7",
       "version_major": 2,
       "version_minor": 0
      },
      "text/plain": [
       "aia_lev1_304a_2011_02_21t12_00_08_12z_image_lev1.fits:   0%|          | 0.00/9.86M [00:00<?, ?B/s]"
      ]
     },
     "metadata": {},
     "output_type": "display_data"
    },
    {
     "data": {
      "application/vnd.jupyter.widget-view+json": {
       "model_id": "a8fbb3eb40264dee92dd3b08b17612e2",
       "version_major": 2,
       "version_minor": 0
      },
      "text/plain": [
       "aia_lev1_304a_2011_02_21t07_00_08_12z_image_lev1.fits:   0%|          | 0.00/9.90M [00:00<?, ?B/s]"
      ]
     },
     "metadata": {},
     "output_type": "display_data"
    },
    {
     "data": {
      "application/vnd.jupyter.widget-view+json": {
       "model_id": "bb8553ef194f4a0d81544a004d1d13ee",
       "version_major": 2,
       "version_minor": 0
      },
      "text/plain": [
       "aia_lev1_304a_2011_02_21t13_00_08_12z_image_lev1.fits:   0%|          | 0.00/9.88M [00:00<?, ?B/s]"
      ]
     },
     "metadata": {},
     "output_type": "display_data"
    },
    {
     "data": {
      "application/vnd.jupyter.widget-view+json": {
       "model_id": "1bb576c592fa46668cf8290f88f59da6",
       "version_major": 2,
       "version_minor": 0
      },
      "text/plain": [
       "aia_lev1_304a_2011_02_21t14_00_08_12z_image_lev1.fits:   0%|          | 0.00/9.87M [00:00<?, ?B/s]"
      ]
     },
     "metadata": {},
     "output_type": "display_data"
    },
    {
     "data": {
      "application/vnd.jupyter.widget-view+json": {
       "model_id": "de3f109bb51d47fd8248ffa3752fd81e",
       "version_major": 2,
       "version_minor": 0
      },
      "text/plain": [
       "aia_lev1_304a_2011_02_21t18_00_08_12z_image_lev1.fits:   0%|          | 0.00/9.88M [00:00<?, ?B/s]"
      ]
     },
     "metadata": {},
     "output_type": "display_data"
    },
    {
     "data": {
      "application/vnd.jupyter.widget-view+json": {
       "model_id": "26111abdb1b648f9b63dcbcd835345bd",
       "version_major": 2,
       "version_minor": 0
      },
      "text/plain": [
       "aia_lev1_304a_2011_02_21t15_00_08_12z_image_lev1.fits:   0%|          | 0.00/9.89M [00:00<?, ?B/s]"
      ]
     },
     "metadata": {},
     "output_type": "display_data"
    },
    {
     "data": {
      "application/vnd.jupyter.widget-view+json": {
       "model_id": "2a62b7df13284556b7418ae653a1025b",
       "version_major": 2,
       "version_minor": 0
      },
      "text/plain": [
       "aia_lev1_304a_2011_02_21t16_00_08_13z_image_lev1.fits:   0%|          | 0.00/9.89M [00:00<?, ?B/s]"
      ]
     },
     "metadata": {},
     "output_type": "display_data"
    },
    {
     "data": {
      "application/vnd.jupyter.widget-view+json": {
       "model_id": "c82f4bacc5d34cc79e622aa97620f33a",
       "version_major": 2,
       "version_minor": 0
      },
      "text/plain": [
       "aia_lev1_304a_2011_02_21t17_00_08_12z_image_lev1.fits:   0%|          | 0.00/9.87M [00:00<?, ?B/s]"
      ]
     },
     "metadata": {},
     "output_type": "display_data"
    },
    {
     "data": {
      "application/vnd.jupyter.widget-view+json": {
       "model_id": "afa824595f7e48b4a808a6f5c4b941c7",
       "version_major": 2,
       "version_minor": 0
      },
      "text/plain": [
       "aia_lev1_304a_2011_02_21t19_00_08_12z_image_lev1.fits:   0%|          | 0.00/9.89M [00:00<?, ?B/s]"
      ]
     },
     "metadata": {},
     "output_type": "display_data"
    },
    {
     "data": {
      "application/vnd.jupyter.widget-view+json": {
       "model_id": "76045abbf1e4437681ac8c63ba151312",
       "version_major": 2,
       "version_minor": 0
      },
      "text/plain": [
       "aia_lev1_304a_2011_02_21t20_00_08_12z_image_lev1.fits:   0%|          | 0.00/9.88M [00:00<?, ?B/s]"
      ]
     },
     "metadata": {},
     "output_type": "display_data"
    },
    {
     "data": {
      "application/vnd.jupyter.widget-view+json": {
       "model_id": "5b41151fc7be46eba5c4dfc1836dad31",
       "version_major": 2,
       "version_minor": 0
      },
      "text/plain": [
       "aia_lev1_304a_2011_02_21t21_00_00_51z_image_lev1.fits:   0%|          | 0.00/6.92M [00:00<?, ?B/s]"
      ]
     },
     "metadata": {},
     "output_type": "display_data"
    },
    {
     "data": {
      "application/vnd.jupyter.widget-view+json": {
       "model_id": "ba774e96b59e47739cc6d2a5e403f672",
       "version_major": 2,
       "version_minor": 0
      },
      "text/plain": [
       "aia_lev1_304a_2011_02_21t22_00_08_12z_image_lev1.fits:   0%|          | 0.00/9.93M [00:00<?, ?B/s]"
      ]
     },
     "metadata": {},
     "output_type": "display_data"
    },
    {
     "data": {
      "application/vnd.jupyter.widget-view+json": {
       "model_id": "2cedb973f6bd4908a3b29d627d7af1cc",
       "version_major": 2,
       "version_minor": 0
      },
      "text/plain": [
       "aia_lev1_304a_2011_02_21t23_00_08_13z_image_lev1.fits:   0%|          | 0.00/9.92M [00:00<?, ?B/s]"
      ]
     },
     "metadata": {},
     "output_type": "display_data"
    },
    {
     "data": {
      "application/vnd.jupyter.widget-view+json": {
       "model_id": "ff2e32b1a4784071914633630f933fe3",
       "version_major": 2,
       "version_minor": 0
      },
      "text/plain": [
       "aia_lev1_304a_2011_02_22t00_00_08_14z_image_lev1.fits:   0%|          | 0.00/9.90M [00:00<?, ?B/s]"
      ]
     },
     "metadata": {},
     "output_type": "display_data"
    },
    {
     "data": {
      "application/vnd.jupyter.widget-view+json": {
       "model_id": "8d623d8e975a4179a6ea9c0e30af2fdc",
       "version_major": 2,
       "version_minor": 0
      },
      "text/plain": [
       "aia_lev1_304a_2011_02_22t01_00_08_14z_image_lev1.fits:   0%|          | 0.00/9.88M [00:00<?, ?B/s]"
      ]
     },
     "metadata": {},
     "output_type": "display_data"
    },
    {
     "data": {
      "application/vnd.jupyter.widget-view+json": {
       "model_id": "47458b4e117c4ea6b92696b105c482a3",
       "version_major": 2,
       "version_minor": 0
      },
      "text/plain": [
       "aia_lev1_304a_2011_02_22t02_00_08_13z_image_lev1.fits:   0%|          | 0.00/9.87M [00:00<?, ?B/s]"
      ]
     },
     "metadata": {},
     "output_type": "display_data"
    },
    {
     "data": {
      "application/vnd.jupyter.widget-view+json": {
       "model_id": "8b52136525cc458dbb054c8f14125f28",
       "version_major": 2,
       "version_minor": 0
      },
      "text/plain": [
       "aia_lev1_304a_2011_02_22t03_00_08_12z_image_lev1.fits:   0%|          | 0.00/9.87M [00:00<?, ?B/s]"
      ]
     },
     "metadata": {},
     "output_type": "display_data"
    },
    {
     "data": {
      "application/vnd.jupyter.widget-view+json": {
       "model_id": "fdef13b884d44eef8fc3a01d26515aa4",
       "version_major": 2,
       "version_minor": 0
      },
      "text/plain": [
       "aia_lev1_304a_2011_02_22t05_00_08_12z_image_lev1.fits:   0%|          | 0.00/9.86M [00:00<?, ?B/s]"
      ]
     },
     "metadata": {},
     "output_type": "display_data"
    },
    {
     "data": {
      "application/vnd.jupyter.widget-view+json": {
       "model_id": "81c32f3f1dee431c80e409ee6a3c6a00",
       "version_major": 2,
       "version_minor": 0
      },
      "text/plain": [
       "aia_lev1_304a_2011_02_22t06_00_08_12z_image_lev1.fits:   0%|          | 0.00/9.87M [00:00<?, ?B/s]"
      ]
     },
     "metadata": {},
     "output_type": "display_data"
    },
    {
     "data": {
      "application/vnd.jupyter.widget-view+json": {
       "model_id": "b9c4a2f9284c48f2bdff1f131ddc57ba",
       "version_major": 2,
       "version_minor": 0
      },
      "text/plain": [
       "aia_lev1_304a_2011_02_22t07_00_08_12z_image_lev1.fits:   0%|          | 0.00/9.88M [00:00<?, ?B/s]"
      ]
     },
     "metadata": {},
     "output_type": "display_data"
    },
    {
     "data": {
      "application/vnd.jupyter.widget-view+json": {
       "model_id": "3067956b8c2f489e9cd19d6a6a149ca2",
       "version_major": 2,
       "version_minor": 0
      },
      "text/plain": [
       "aia_lev1_304a_2011_02_22t08_00_08_12z_image_lev1.fits:   0%|          | 0.00/9.88M [00:00<?, ?B/s]"
      ]
     },
     "metadata": {},
     "output_type": "display_data"
    },
    {
     "data": {
      "application/vnd.jupyter.widget-view+json": {
       "model_id": "6c052b8f1f06475b8f82763057701b31",
       "version_major": 2,
       "version_minor": 0
      },
      "text/plain": [
       "aia_lev1_304a_2011_02_22t04_00_08_12z_image_lev1.fits:   0%|          | 0.00/9.86M [00:00<?, ?B/s]"
      ]
     },
     "metadata": {},
     "output_type": "display_data"
    },
    {
     "data": {
      "application/vnd.jupyter.widget-view+json": {
       "model_id": "863be321d5b44500b797be16eee27304",
       "version_major": 2,
       "version_minor": 0
      },
      "text/plain": [
       "aia_lev1_304a_2011_02_22t09_00_08_13z_image_lev1.fits:   0%|          | 0.00/9.87M [00:00<?, ?B/s]"
      ]
     },
     "metadata": {},
     "output_type": "display_data"
    },
    {
     "data": {
      "application/vnd.jupyter.widget-view+json": {
       "model_id": "7744b60c2abd45afafb6255939fc5c04",
       "version_major": 2,
       "version_minor": 0
      },
      "text/plain": [
       "aia_lev1_304a_2011_02_22t12_00_08_12z_image_lev1.fits:   0%|          | 0.00/9.86M [00:00<?, ?B/s]"
      ]
     },
     "metadata": {},
     "output_type": "display_data"
    },
    {
     "data": {
      "application/vnd.jupyter.widget-view+json": {
       "model_id": "16ba14f77b1a444694ff39ab8cc7e403",
       "version_major": 2,
       "version_minor": 0
      },
      "text/plain": [
       "aia_lev1_304a_2011_02_22t13_00_08_12z_image_lev1.fits:   0%|          | 0.00/9.85M [00:00<?, ?B/s]"
      ]
     },
     "metadata": {},
     "output_type": "display_data"
    },
    {
     "data": {
      "application/vnd.jupyter.widget-view+json": {
       "model_id": "46e49fcfba1f43bda084b9e8c2f9c5cc",
       "version_major": 2,
       "version_minor": 0
      },
      "text/plain": [
       "aia_lev1_304a_2011_02_22t14_00_08_12z_image_lev1.fits:   0%|          | 0.00/9.85M [00:00<?, ?B/s]"
      ]
     },
     "metadata": {},
     "output_type": "display_data"
    },
    {
     "data": {
      "application/vnd.jupyter.widget-view+json": {
       "model_id": "21fc941897384427968aef66eafa0901",
       "version_major": 2,
       "version_minor": 0
      },
      "text/plain": [
       "aia_lev1_304a_2011_02_22t15_00_16_21z_image_lev1.fits:   0%|          | 0.00/10.6M [00:00<?, ?B/s]"
      ]
     },
     "metadata": {},
     "output_type": "display_data"
    },
    {
     "data": {
      "application/vnd.jupyter.widget-view+json": {
       "model_id": "d8662a4dac4442868dfc0a51c0d79fe8",
       "version_major": 2,
       "version_minor": 0
      },
      "text/plain": [
       "aia_lev1_304a_2011_02_22t16_00_16_21z_image_lev1.fits:   0%|          | 0.00/10.6M [00:00<?, ?B/s]"
      ]
     },
     "metadata": {},
     "output_type": "display_data"
    },
    {
     "data": {
      "application/vnd.jupyter.widget-view+json": {
       "model_id": "6f8e53ff0849447ca165a9a6a65a0697",
       "version_major": 2,
       "version_minor": 0
      },
      "text/plain": [
       "aia_lev1_304a_2011_02_22t18_00_08_12z_image_lev1.fits:   0%|          | 0.00/9.84M [00:00<?, ?B/s]"
      ]
     },
     "metadata": {},
     "output_type": "display_data"
    },
    {
     "data": {
      "application/vnd.jupyter.widget-view+json": {
       "model_id": "14a2e01951674b20a6c88728390f1a7b",
       "version_major": 2,
       "version_minor": 0
      },
      "text/plain": [
       "aia_lev1_304a_2011_02_22t17_00_08_12z_image_lev1.fits:   0%|          | 0.00/9.84M [00:00<?, ?B/s]"
      ]
     },
     "metadata": {},
     "output_type": "display_data"
    },
    {
     "data": {
      "application/vnd.jupyter.widget-view+json": {
       "model_id": "9d89b20180b3426795164b76e8d65f25",
       "version_major": 2,
       "version_minor": 0
      },
      "text/plain": [
       "aia_lev1_304a_2011_02_22t20_00_08_12z_image_lev1.fits:   0%|          | 0.00/9.86M [00:00<?, ?B/s]"
      ]
     },
     "metadata": {},
     "output_type": "display_data"
    },
    {
     "data": {
      "application/vnd.jupyter.widget-view+json": {
       "model_id": "affeef95936d4969947ac759f7faea7c",
       "version_major": 2,
       "version_minor": 0
      },
      "text/plain": [
       "aia_lev1_304a_2011_02_22t21_00_00_51z_image_lev1.fits:   0%|          | 0.00/6.92M [00:00<?, ?B/s]"
      ]
     },
     "metadata": {},
     "output_type": "display_data"
    },
    {
     "data": {
      "application/vnd.jupyter.widget-view+json": {
       "model_id": "c89fd150e33b43ab906a3e1ca05071f0",
       "version_major": 2,
       "version_minor": 0
      },
      "text/plain": [
       "aia_lev1_304a_2011_02_22t22_00_08_12z_image_lev1.fits:   0%|          | 0.00/9.87M [00:00<?, ?B/s]"
      ]
     },
     "metadata": {},
     "output_type": "display_data"
    },
    {
     "data": {
      "application/vnd.jupyter.widget-view+json": {
       "model_id": "dfa49bb69460406a8521e78b6270d7c5",
       "version_major": 2,
       "version_minor": 0
      },
      "text/plain": [
       "aia_lev1_304a_2011_02_22t23_00_08_12z_image_lev1.fits:   0%|          | 0.00/9.86M [00:00<?, ?B/s]"
      ]
     },
     "metadata": {},
     "output_type": "display_data"
    },
    {
     "data": {
      "application/vnd.jupyter.widget-view+json": {
       "model_id": "c267209911de4fdaa0349d9adb6dfc2b",
       "version_major": 2,
       "version_minor": 0
      },
      "text/plain": [
       "aia_lev1_304a_2011_02_23t00_00_08_12z_image_lev1.fits:   0%|          | 0.00/9.85M [00:00<?, ?B/s]"
      ]
     },
     "metadata": {},
     "output_type": "display_data"
    },
    {
     "data": {
      "application/vnd.jupyter.widget-view+json": {
       "model_id": "0c243bc58f2c404e932014909c262a8f",
       "version_major": 2,
       "version_minor": 0
      },
      "text/plain": [
       "aia_lev1_304a_2011_02_23t01_00_08_12z_image_lev1.fits:   0%|          | 0.00/9.85M [00:00<?, ?B/s]"
      ]
     },
     "metadata": {},
     "output_type": "display_data"
    },
    {
     "data": {
      "application/vnd.jupyter.widget-view+json": {
       "model_id": "11b3eb2f973248c1bed41138c937bb17",
       "version_major": 2,
       "version_minor": 0
      },
      "text/plain": [
       "aia_lev1_304a_2011_02_23t02_00_08_12z_image_lev1.fits:   0%|          | 0.00/9.84M [00:00<?, ?B/s]"
      ]
     },
     "metadata": {},
     "output_type": "display_data"
    },
    {
     "data": {
      "application/vnd.jupyter.widget-view+json": {
       "model_id": "b993e913757646e0b60697532004599b",
       "version_major": 2,
       "version_minor": 0
      },
      "text/plain": [
       "aia_lev1_304a_2011_02_23t03_00_08_13z_image_lev1.fits:   0%|          | 0.00/9.84M [00:00<?, ?B/s]"
      ]
     },
     "metadata": {},
     "output_type": "display_data"
    },
    {
     "data": {
      "application/vnd.jupyter.widget-view+json": {
       "model_id": "d36025d4cecd4ac58b63d9dcd688374a",
       "version_major": 2,
       "version_minor": 0
      },
      "text/plain": [
       "aia_lev1_304a_2011_02_23t04_00_08_13z_image_lev1.fits:   0%|          | 0.00/9.84M [00:00<?, ?B/s]"
      ]
     },
     "metadata": {},
     "output_type": "display_data"
    },
    {
     "data": {
      "application/vnd.jupyter.widget-view+json": {
       "model_id": "cd6a0eff80f64f6da9154889e20a2a45",
       "version_major": 2,
       "version_minor": 0
      },
      "text/plain": [
       "aia_lev1_304a_2011_02_23t05_00_08_13z_image_lev1.fits:   0%|          | 0.00/9.84M [00:00<?, ?B/s]"
      ]
     },
     "metadata": {},
     "output_type": "display_data"
    },
    {
     "data": {
      "application/vnd.jupyter.widget-view+json": {
       "model_id": "e8397f80f4c6490daa9e1b62a963792f",
       "version_major": 2,
       "version_minor": 0
      },
      "text/plain": [
       "aia_lev1_304a_2011_02_23t06_00_08_12z_image_lev1.fits:   0%|          | 0.00/9.85M [00:00<?, ?B/s]"
      ]
     },
     "metadata": {},
     "output_type": "display_data"
    },
    {
     "data": {
      "application/vnd.jupyter.widget-view+json": {
       "model_id": "1b5e8866f9da42d596b7660f52219225",
       "version_major": 2,
       "version_minor": 0
      },
      "text/plain": [
       "aia_lev1_304a_2011_02_23t07_00_08_12z_image_lev1.fits:   0%|          | 0.00/9.86M [00:00<?, ?B/s]"
      ]
     },
     "metadata": {},
     "output_type": "display_data"
    },
    {
     "data": {
      "application/vnd.jupyter.widget-view+json": {
       "model_id": "e36084cb72a845b3ac7a132764be000f",
       "version_major": 2,
       "version_minor": 0
      },
      "text/plain": [
       "aia_lev1_304a_2011_02_23t08_00_08_12z_image_lev1.fits:   0%|          | 0.00/9.85M [00:00<?, ?B/s]"
      ]
     },
     "metadata": {},
     "output_type": "display_data"
    },
    {
     "data": {
      "application/vnd.jupyter.widget-view+json": {
       "model_id": "380f0ac3497a4bc39012ced037002bb2",
       "version_major": 2,
       "version_minor": 0
      },
      "text/plain": [
       "aia_lev1_304a_2011_02_23t09_00_08_12z_image_lev1.fits:   0%|          | 0.00/9.85M [00:00<?, ?B/s]"
      ]
     },
     "metadata": {},
     "output_type": "display_data"
    },
    {
     "data": {
      "application/vnd.jupyter.widget-view+json": {
       "model_id": "f18fc1f5f1d14865b4a856fb780b7d02",
       "version_major": 2,
       "version_minor": 0
      },
      "text/plain": [
       "aia_lev1_304a_2011_02_23t10_00_08_14z_image_lev1.fits:   0%|          | 0.00/9.84M [00:00<?, ?B/s]"
      ]
     },
     "metadata": {},
     "output_type": "display_data"
    },
    {
     "data": {
      "application/vnd.jupyter.widget-view+json": {
       "model_id": "15077645d3bb4965a47e3b0cc116311c",
       "version_major": 2,
       "version_minor": 0
      },
      "text/plain": [
       "aia_lev1_304a_2011_02_23t11_00_08_12z_image_lev1.fits:   0%|          | 0.00/9.84M [00:00<?, ?B/s]"
      ]
     },
     "metadata": {},
     "output_type": "display_data"
    },
    {
     "data": {
      "application/vnd.jupyter.widget-view+json": {
       "model_id": "1dc0947628dd436aa3eec3a8cde8ee07",
       "version_major": 2,
       "version_minor": 0
      },
      "text/plain": [
       "aia_lev1_304a_2011_02_23t12_00_08_12z_image_lev1.fits:   0%|          | 0.00/9.84M [00:00<?, ?B/s]"
      ]
     },
     "metadata": {},
     "output_type": "display_data"
    },
    {
     "data": {
      "application/vnd.jupyter.widget-view+json": {
       "model_id": "b93b2ab1031c4c97ab4196374dc0ebb9",
       "version_major": 2,
       "version_minor": 0
      },
      "text/plain": [
       "aia_lev1_304a_2011_02_23t13_00_08_12z_image_lev1.fits:   0%|          | 0.00/9.84M [00:00<?, ?B/s]"
      ]
     },
     "metadata": {},
     "output_type": "display_data"
    },
    {
     "data": {
      "application/vnd.jupyter.widget-view+json": {
       "model_id": "f99609a6a8da49b194e0cb041432418d",
       "version_major": 2,
       "version_minor": 0
      },
      "text/plain": [
       "aia_lev1_304a_2011_02_23t14_00_08_12z_image_lev1.fits:   0%|          | 0.00/9.85M [00:00<?, ?B/s]"
      ]
     },
     "metadata": {},
     "output_type": "display_data"
    },
    {
     "data": {
      "application/vnd.jupyter.widget-view+json": {
       "model_id": "5a1ba4fca22a4e07b689f2b86305feff",
       "version_major": 2,
       "version_minor": 0
      },
      "text/plain": [
       "aia_lev1_304a_2011_02_23t15_00_08_12z_image_lev1.fits:   0%|          | 0.00/9.85M [00:00<?, ?B/s]"
      ]
     },
     "metadata": {},
     "output_type": "display_data"
    },
    {
     "data": {
      "application/vnd.jupyter.widget-view+json": {
       "model_id": "fb2cabf21bf0408d9bce3f6eeee600db",
       "version_major": 2,
       "version_minor": 0
      },
      "text/plain": [
       "aia_lev1_304a_2011_02_23t17_00_08_12z_image_lev1.fits:   0%|          | 0.00/9.85M [00:00<?, ?B/s]"
      ]
     },
     "metadata": {},
     "output_type": "display_data"
    },
    {
     "data": {
      "application/vnd.jupyter.widget-view+json": {
       "model_id": "185c486158bd4b1bbdfdd85dec8afe3c",
       "version_major": 2,
       "version_minor": 0
      },
      "text/plain": [
       "aia_lev1_304a_2011_02_23t18_00_08_12z_image_lev1.fits:   0%|          | 0.00/9.85M [00:00<?, ?B/s]"
      ]
     },
     "metadata": {},
     "output_type": "display_data"
    },
    {
     "data": {
      "application/vnd.jupyter.widget-view+json": {
       "model_id": "39bd3624f14841d2b5189eb3e585c80c",
       "version_major": 2,
       "version_minor": 0
      },
      "text/plain": [
       "aia_lev1_304a_2011_02_23t19_00_08_12z_image_lev1.fits:   0%|          | 0.00/9.86M [00:00<?, ?B/s]"
      ]
     },
     "metadata": {},
     "output_type": "display_data"
    },
    {
     "data": {
      "application/vnd.jupyter.widget-view+json": {
       "model_id": "e51973b3221c46d49608fe08e7a6954a",
       "version_major": 2,
       "version_minor": 0
      },
      "text/plain": [
       "aia_lev1_304a_2011_02_23t20_00_08_12z_image_lev1.fits:   0%|          | 0.00/9.85M [00:00<?, ?B/s]"
      ]
     },
     "metadata": {},
     "output_type": "display_data"
    },
    {
     "data": {
      "application/vnd.jupyter.widget-view+json": {
       "model_id": "8af81d14d11d4d9eb5071d4dc998a659",
       "version_major": 2,
       "version_minor": 0
      },
      "text/plain": [
       "aia_lev1_304a_2011_02_23t21_00_00_51z_image_lev1.fits:   0%|          | 0.00/6.92M [00:00<?, ?B/s]"
      ]
     },
     "metadata": {},
     "output_type": "display_data"
    },
    {
     "data": {
      "application/vnd.jupyter.widget-view+json": {
       "model_id": "05e7a13b791449bf8e7644baf43b8f75",
       "version_major": 2,
       "version_minor": 0
      },
      "text/plain": [
       "aia_lev1_304a_2011_02_23t16_00_08_12z_image_lev1.fits:   0%|          | 0.00/9.85M [00:00<?, ?B/s]"
      ]
     },
     "metadata": {},
     "output_type": "display_data"
    },
    {
     "data": {
      "application/vnd.jupyter.widget-view+json": {
       "model_id": "b0a63be4aebb44f9950573ee23ff24b9",
       "version_major": 2,
       "version_minor": 0
      },
      "text/plain": [
       "aia_lev1_304a_2011_02_24t00_00_08_12z_image_lev1.fits:   0%|          | 0.00/9.86M [00:00<?, ?B/s]"
      ]
     },
     "metadata": {},
     "output_type": "display_data"
    },
    {
     "data": {
      "application/vnd.jupyter.widget-view+json": {
       "model_id": "ce7bb1cecd6d45d1b861b283ac8ab847",
       "version_major": 2,
       "version_minor": 0
      },
      "text/plain": [
       "aia_lev1_304a_2011_02_24t01_00_08_14z_image_lev1.fits:   0%|          | 0.00/9.84M [00:00<?, ?B/s]"
      ]
     },
     "metadata": {},
     "output_type": "display_data"
    },
    {
     "data": {
      "application/vnd.jupyter.widget-view+json": {
       "model_id": "d03a9e139208468ea372fa66242dc957",
       "version_major": 2,
       "version_minor": 0
      },
      "text/plain": [
       "aia_lev1_304a_2011_02_23t22_00_08_13z_image_lev1.fits:   0%|          | 0.00/9.86M [00:00<?, ?B/s]"
      ]
     },
     "metadata": {},
     "output_type": "display_data"
    },
    {
     "data": {
      "application/vnd.jupyter.widget-view+json": {
       "model_id": "030b3419c6954597b160294d6cb87c4e",
       "version_major": 2,
       "version_minor": 0
      },
      "text/plain": [
       "aia_lev1_304a_2011_02_23t23_00_08_12z_image_lev1.fits:   0%|          | 0.00/9.86M [00:00<?, ?B/s]"
      ]
     },
     "metadata": {},
     "output_type": "display_data"
    },
    {
     "data": {
      "application/vnd.jupyter.widget-view+json": {
       "model_id": "5a3b0f0fb7554f75be346ddfdd4e9424",
       "version_major": 2,
       "version_minor": 0
      },
      "text/plain": [
       "aia_lev1_304a_2011_02_24t04_00_08_12z_image_lev1.fits:   0%|          | 0.00/9.84M [00:00<?, ?B/s]"
      ]
     },
     "metadata": {},
     "output_type": "display_data"
    },
    {
     "data": {
      "application/vnd.jupyter.widget-view+json": {
       "model_id": "8cf0adb7f87941b982e24f62b804651a",
       "version_major": 2,
       "version_minor": 0
      },
      "text/plain": [
       "aia_lev1_304a_2011_02_24t02_00_08_12z_image_lev1.fits:   0%|          | 0.00/9.84M [00:00<?, ?B/s]"
      ]
     },
     "metadata": {},
     "output_type": "display_data"
    },
    {
     "data": {
      "application/vnd.jupyter.widget-view+json": {
       "model_id": "ac7f67be764a46dabce403e56156455f",
       "version_major": 2,
       "version_minor": 0
      },
      "text/plain": [
       "aia_lev1_304a_2011_02_24t05_00_08_12z_image_lev1.fits:   0%|          | 0.00/9.84M [00:00<?, ?B/s]"
      ]
     },
     "metadata": {},
     "output_type": "display_data"
    },
    {
     "data": {
      "application/vnd.jupyter.widget-view+json": {
       "model_id": "7243443cf9594edaaaa243f3e601bb1c",
       "version_major": 2,
       "version_minor": 0
      },
      "text/plain": [
       "aia_lev1_304a_2011_02_24t06_00_08_12z_image_lev1.fits:   0%|          | 0.00/9.84M [00:00<?, ?B/s]"
      ]
     },
     "metadata": {},
     "output_type": "display_data"
    },
    {
     "data": {
      "application/vnd.jupyter.widget-view+json": {
       "model_id": "bd5ad4a5a0d54737b29e2c7bf8ca7863",
       "version_major": 2,
       "version_minor": 0
      },
      "text/plain": [
       "aia_lev1_304a_2011_02_24t03_00_08_12z_image_lev1.fits:   0%|          | 0.00/9.84M [00:00<?, ?B/s]"
      ]
     },
     "metadata": {},
     "output_type": "display_data"
    },
    {
     "data": {
      "application/vnd.jupyter.widget-view+json": {
       "model_id": "f79acf6fe8724ed0bfc0347e58259a53",
       "version_major": 2,
       "version_minor": 0
      },
      "text/plain": [
       "aia_lev1_304a_2011_02_24t07_00_08_12z_image_lev1.fits:   0%|          | 0.00/9.84M [00:00<?, ?B/s]"
      ]
     },
     "metadata": {},
     "output_type": "display_data"
    },
    {
     "data": {
      "application/vnd.jupyter.widget-view+json": {
       "model_id": "85cec33e84024955a3a24ba50d416b1d",
       "version_major": 2,
       "version_minor": 0
      },
      "text/plain": [
       "aia_lev1_304a_2011_02_24t08_00_08_12z_image_lev1.fits:   0%|          | 0.00/9.88M [00:00<?, ?B/s]"
      ]
     },
     "metadata": {},
     "output_type": "display_data"
    },
    {
     "data": {
      "application/vnd.jupyter.widget-view+json": {
       "model_id": "3c1f15927cae4f5fa6eb5e61090edc02",
       "version_major": 2,
       "version_minor": 0
      },
      "text/plain": [
       "aia_lev1_304a_2011_02_24t09_00_08_12z_image_lev1.fits:   0%|          | 0.00/9.84M [00:00<?, ?B/s]"
      ]
     },
     "metadata": {},
     "output_type": "display_data"
    },
    {
     "data": {
      "application/vnd.jupyter.widget-view+json": {
       "model_id": "14c7d46815ce4e57b4878803b1cd3eed",
       "version_major": 2,
       "version_minor": 0
      },
      "text/plain": [
       "aia_lev1_304a_2011_02_24t10_00_08_12z_image_lev1.fits:   0%|          | 0.00/9.87M [00:00<?, ?B/s]"
      ]
     },
     "metadata": {},
     "output_type": "display_data"
    },
    {
     "data": {
      "application/vnd.jupyter.widget-view+json": {
       "model_id": "a3222d6384014923ae17f4e05c9d23a3",
       "version_major": 2,
       "version_minor": 0
      },
      "text/plain": [
       "aia_lev1_304a_2011_02_24t13_00_08_13z_image_lev1.fits:   0%|          | 0.00/9.82M [00:00<?, ?B/s]"
      ]
     },
     "metadata": {},
     "output_type": "display_data"
    },
    {
     "data": {
      "application/vnd.jupyter.widget-view+json": {
       "model_id": "b2cec2eb820e4307864b0d20387cd39e",
       "version_major": 2,
       "version_minor": 0
      },
      "text/plain": [
       "aia_lev1_304a_2011_02_24t14_00_08_12z_image_lev1.fits:   0%|          | 0.00/9.82M [00:00<?, ?B/s]"
      ]
     },
     "metadata": {},
     "output_type": "display_data"
    },
    {
     "data": {
      "application/vnd.jupyter.widget-view+json": {
       "model_id": "feb2f8dcc6794a99be944267cfb702b9",
       "version_major": 2,
       "version_minor": 0
      },
      "text/plain": [
       "aia_lev1_304a_2011_02_24t15_00_08_12z_image_lev1.fits:   0%|          | 0.00/9.82M [00:00<?, ?B/s]"
      ]
     },
     "metadata": {},
     "output_type": "display_data"
    },
    {
     "data": {
      "application/vnd.jupyter.widget-view+json": {
       "model_id": "79e409469c2942cdb27f4a7148e5e2f2",
       "version_major": 2,
       "version_minor": 0
      },
      "text/plain": [
       "aia_lev1_304a_2011_02_24t16_00_08_12z_image_lev1.fits:   0%|          | 0.00/9.82M [00:00<?, ?B/s]"
      ]
     },
     "metadata": {},
     "output_type": "display_data"
    },
    {
     "data": {
      "application/vnd.jupyter.widget-view+json": {
       "model_id": "a88fb08ccca24b5f9b8701476bd5db06",
       "version_major": 2,
       "version_minor": 0
      },
      "text/plain": [
       "aia_lev1_304a_2011_02_24t11_00_08_12z_image_lev1.fits:   0%|          | 0.00/9.84M [00:00<?, ?B/s]"
      ]
     },
     "metadata": {},
     "output_type": "display_data"
    },
    {
     "data": {
      "application/vnd.jupyter.widget-view+json": {
       "model_id": "24fa042133c54fd78efc174ab58dff6e",
       "version_major": 2,
       "version_minor": 0
      },
      "text/plain": [
       "aia_lev1_304a_2011_02_24t17_00_08_12z_image_lev1.fits:   0%|          | 0.00/9.82M [00:00<?, ?B/s]"
      ]
     },
     "metadata": {},
     "output_type": "display_data"
    },
    {
     "data": {
      "application/vnd.jupyter.widget-view+json": {
       "model_id": "e5993008e2584fb491013a3a20023d26",
       "version_major": 2,
       "version_minor": 0
      },
      "text/plain": [
       "aia_lev1_304a_2011_02_24t18_00_08_13z_image_lev1.fits:   0%|          | 0.00/9.82M [00:00<?, ?B/s]"
      ]
     },
     "metadata": {},
     "output_type": "display_data"
    },
    {
     "data": {
      "application/vnd.jupyter.widget-view+json": {
       "model_id": "8063aee0b3c641bc84ce33cad4b16cca",
       "version_major": 2,
       "version_minor": 0
      },
      "text/plain": [
       "aia_lev1_304a_2011_02_24t19_00_08_13z_image_lev1.fits:   0%|          | 0.00/9.82M [00:00<?, ?B/s]"
      ]
     },
     "metadata": {},
     "output_type": "display_data"
    },
    {
     "data": {
      "application/vnd.jupyter.widget-view+json": {
       "model_id": "14b2a108e4a94207a12ec8d0b4adebb8",
       "version_major": 2,
       "version_minor": 0
      },
      "text/plain": [
       "aia_lev1_304a_2011_02_24t20_00_08_13z_image_lev1.fits:   0%|          | 0.00/9.83M [00:00<?, ?B/s]"
      ]
     },
     "metadata": {},
     "output_type": "display_data"
    },
    {
     "data": {
      "application/vnd.jupyter.widget-view+json": {
       "model_id": "0d8cf8458ea94114ba782512ccfc6e2f",
       "version_major": 2,
       "version_minor": 0
      },
      "text/plain": [
       "aia_lev1_304a_2011_02_24t21_00_08_13z_image_lev1.fits:   0%|          | 0.00/9.84M [00:00<?, ?B/s]"
      ]
     },
     "metadata": {},
     "output_type": "display_data"
    },
    {
     "data": {
      "application/vnd.jupyter.widget-view+json": {
       "model_id": "696b783cda76437f884a9c2d21a5d275",
       "version_major": 2,
       "version_minor": 0
      },
      "text/plain": [
       "aia_lev1_304a_2011_02_24t23_00_08_12z_image_lev1.fits:   0%|          | 0.00/9.83M [00:00<?, ?B/s]"
      ]
     },
     "metadata": {},
     "output_type": "display_data"
    },
    {
     "data": {
      "application/vnd.jupyter.widget-view+json": {
       "model_id": "92932a48a3924982875e90c487dcd276",
       "version_major": 2,
       "version_minor": 0
      },
      "text/plain": [
       "aia_lev1_304a_2011_02_25t00_00_08_12z_image_lev1.fits:   0%|          | 0.00/9.82M [00:00<?, ?B/s]"
      ]
     },
     "metadata": {},
     "output_type": "display_data"
    },
    {
     "data": {
      "application/vnd.jupyter.widget-view+json": {
       "model_id": "cd1f83de94ed4c11b533b02f8ce75d96",
       "version_major": 2,
       "version_minor": 0
      },
      "text/plain": [
       "aia_lev1_304a_2011_02_25t02_00_08_12z_image_lev1.fits:   0%|          | 0.00/9.82M [00:00<?, ?B/s]"
      ]
     },
     "metadata": {},
     "output_type": "display_data"
    },
    {
     "data": {
      "application/vnd.jupyter.widget-view+json": {
       "model_id": "002ac83dfa99425996572e69a98bc9d4",
       "version_major": 2,
       "version_minor": 0
      },
      "text/plain": [
       "aia_lev1_304a_2011_02_25t03_00_08_12z_image_lev1.fits:   0%|          | 0.00/9.81M [00:00<?, ?B/s]"
      ]
     },
     "metadata": {},
     "output_type": "display_data"
    },
    {
     "data": {
      "application/vnd.jupyter.widget-view+json": {
       "model_id": "296de534788b441d82305a0675625c20",
       "version_major": 2,
       "version_minor": 0
      },
      "text/plain": [
       "aia_lev1_304a_2011_02_24t22_00_08_12z_image_lev1.fits:   0%|          | 0.00/9.83M [00:00<?, ?B/s]"
      ]
     },
     "metadata": {},
     "output_type": "display_data"
    },
    {
     "data": {
      "application/vnd.jupyter.widget-view+json": {
       "model_id": "1ab73ad1e6c243d48475015537227502",
       "version_major": 2,
       "version_minor": 0
      },
      "text/plain": [
       "aia_lev1_304a_2011_02_25t04_00_08_12z_image_lev1.fits:   0%|          | 0.00/9.81M [00:00<?, ?B/s]"
      ]
     },
     "metadata": {},
     "output_type": "display_data"
    },
    {
     "data": {
      "application/vnd.jupyter.widget-view+json": {
       "model_id": "c6b39b3b3bbe40c2800f0e4a0482fa06",
       "version_major": 2,
       "version_minor": 0
      },
      "text/plain": [
       "aia_lev1_304a_2011_02_25t06_00_08_12z_image_lev1.fits:   0%|          | 0.00/9.82M [00:00<?, ?B/s]"
      ]
     },
     "metadata": {},
     "output_type": "display_data"
    },
    {
     "data": {
      "application/vnd.jupyter.widget-view+json": {
       "model_id": "5a49c75ef743483f92445a18df2be266",
       "version_major": 2,
       "version_minor": 0
      },
      "text/plain": [
       "aia_lev1_304a_2011_02_25t01_00_08_12z_image_lev1.fits:   0%|          | 0.00/9.82M [00:00<?, ?B/s]"
      ]
     },
     "metadata": {},
     "output_type": "display_data"
    },
    {
     "data": {
      "application/vnd.jupyter.widget-view+json": {
       "model_id": "5df8f75231fd4def888841ea9d97e74f",
       "version_major": 2,
       "version_minor": 0
      },
      "text/plain": [
       "aia_lev1_304a_2011_02_25t07_00_08_13z_image_lev1.fits:   0%|          | 0.00/9.83M [00:00<?, ?B/s]"
      ]
     },
     "metadata": {},
     "output_type": "display_data"
    },
    {
     "data": {
      "application/vnd.jupyter.widget-view+json": {
       "model_id": "f7e2a6f9ddce4fb0bd1e68416ca6fadd",
       "version_major": 2,
       "version_minor": 0
      },
      "text/plain": [
       "aia_lev1_304a_2011_02_25t08_00_08_13z_image_lev1.fits:   0%|          | 0.00/9.83M [00:00<?, ?B/s]"
      ]
     },
     "metadata": {},
     "output_type": "display_data"
    },
    {
     "data": {
      "application/vnd.jupyter.widget-view+json": {
       "model_id": "977820f31ab54492865b7ca2268a12c8",
       "version_major": 2,
       "version_minor": 0
      },
      "text/plain": [
       "aia_lev1_304a_2011_02_25t09_00_08_12z_image_lev1.fits:   0%|          | 0.00/9.83M [00:00<?, ?B/s]"
      ]
     },
     "metadata": {},
     "output_type": "display_data"
    },
    {
     "data": {
      "application/vnd.jupyter.widget-view+json": {
       "model_id": "d4c1a7cc0e0d4f4fa66543d121730d58",
       "version_major": 2,
       "version_minor": 0
      },
      "text/plain": [
       "aia_lev1_304a_2011_02_25t10_00_08_14z_image_lev1.fits:   0%|          | 0.00/9.83M [00:00<?, ?B/s]"
      ]
     },
     "metadata": {},
     "output_type": "display_data"
    },
    {
     "data": {
      "application/vnd.jupyter.widget-view+json": {
       "model_id": "a017a0623cb9489dbd4f949b0a8b8f57",
       "version_major": 2,
       "version_minor": 0
      },
      "text/plain": [
       "aia_lev1_304a_2011_02_25t05_00_08_12z_image_lev1.fits:   0%|          | 0.00/9.82M [00:00<?, ?B/s]"
      ]
     },
     "metadata": {},
     "output_type": "display_data"
    },
    {
     "data": {
      "application/vnd.jupyter.widget-view+json": {
       "model_id": "fcb5575ab52149398ecef01fd437c757",
       "version_major": 2,
       "version_minor": 0
      },
      "text/plain": [
       "aia_lev1_304a_2011_02_25t11_00_08_12z_image_lev1.fits:   0%|          | 0.00/9.82M [00:00<?, ?B/s]"
      ]
     },
     "metadata": {},
     "output_type": "display_data"
    },
    {
     "data": {
      "application/vnd.jupyter.widget-view+json": {
       "model_id": "5d1aedf0039a4a34adaccc1de0b7fb5b",
       "version_major": 2,
       "version_minor": 0
      },
      "text/plain": [
       "aia_lev1_304a_2011_02_25t12_00_08_12z_image_lev1.fits:   0%|          | 0.00/9.82M [00:00<?, ?B/s]"
      ]
     },
     "metadata": {},
     "output_type": "display_data"
    },
    {
     "data": {
      "application/vnd.jupyter.widget-view+json": {
       "model_id": "e1f96ae13d38482cb6eff950ac688450",
       "version_major": 2,
       "version_minor": 0
      },
      "text/plain": [
       "aia_lev1_304a_2011_02_25t13_00_08_12z_image_lev1.fits:   0%|          | 0.00/9.82M [00:00<?, ?B/s]"
      ]
     },
     "metadata": {},
     "output_type": "display_data"
    },
    {
     "data": {
      "application/vnd.jupyter.widget-view+json": {
       "model_id": "3e4af9d16490432c8b52f44c8d3d7b51",
       "version_major": 2,
       "version_minor": 0
      },
      "text/plain": [
       "aia_lev1_304a_2011_02_25t14_00_08_12z_image_lev1.fits:   0%|          | 0.00/9.82M [00:00<?, ?B/s]"
      ]
     },
     "metadata": {},
     "output_type": "display_data"
    },
    {
     "data": {
      "application/vnd.jupyter.widget-view+json": {
       "model_id": "daa56cf51d304fca92c52618d57834cc",
       "version_major": 2,
       "version_minor": 0
      },
      "text/plain": [
       "aia_lev1_304a_2011_02_25t15_00_08_12z_image_lev1.fits:   0%|          | 0.00/9.82M [00:00<?, ?B/s]"
      ]
     },
     "metadata": {},
     "output_type": "display_data"
    },
    {
     "data": {
      "application/vnd.jupyter.widget-view+json": {
       "model_id": "d9bb51a7eab44d2dbae623b9152d5493",
       "version_major": 2,
       "version_minor": 0
      },
      "text/plain": [
       "aia_lev1_304a_2011_02_25t16_00_08_12z_image_lev1.fits:   0%|          | 0.00/9.82M [00:00<?, ?B/s]"
      ]
     },
     "metadata": {},
     "output_type": "display_data"
    },
    {
     "data": {
      "application/vnd.jupyter.widget-view+json": {
       "model_id": "4b04e30654054107945e972287102d82",
       "version_major": 2,
       "version_minor": 0
      },
      "text/plain": [
       "aia_lev1_304a_2011_02_25t18_00_08_12z_image_lev1.fits:   0%|          | 0.00/9.83M [00:00<?, ?B/s]"
      ]
     },
     "metadata": {},
     "output_type": "display_data"
    },
    {
     "data": {
      "application/vnd.jupyter.widget-view+json": {
       "model_id": "0c9e9e96bc934081be56777ac3a3067f",
       "version_major": 2,
       "version_minor": 0
      },
      "text/plain": [
       "aia_lev1_304a_2011_02_25t19_00_08_12z_image_lev1.fits:   0%|          | 0.00/9.82M [00:00<?, ?B/s]"
      ]
     },
     "metadata": {},
     "output_type": "display_data"
    },
    {
     "data": {
      "application/vnd.jupyter.widget-view+json": {
       "model_id": "e96f205195884bf0a6adbec5f35ce69b",
       "version_major": 2,
       "version_minor": 0
      },
      "text/plain": [
       "aia_lev1_304a_2011_02_25t20_00_08_12z_image_lev1.fits:   0%|          | 0.00/9.82M [00:00<?, ?B/s]"
      ]
     },
     "metadata": {},
     "output_type": "display_data"
    },
    {
     "data": {
      "application/vnd.jupyter.widget-view+json": {
       "model_id": "eaaeaf5f47a44dd1a17337e2d52a4695",
       "version_major": 2,
       "version_minor": 0
      },
      "text/plain": [
       "aia_lev1_304a_2011_02_25t21_00_00_51z_image_lev1.fits:   0%|          | 0.00/6.92M [00:00<?, ?B/s]"
      ]
     },
     "metadata": {},
     "output_type": "display_data"
    },
    {
     "data": {
      "application/vnd.jupyter.widget-view+json": {
       "model_id": "74bdd806d628483890ad4cf9a93cecd6",
       "version_major": 2,
       "version_minor": 0
      },
      "text/plain": [
       "aia_lev1_304a_2011_02_25t23_00_08_12z_image_lev1.fits:   0%|          | 0.00/9.83M [00:00<?, ?B/s]"
      ]
     },
     "metadata": {},
     "output_type": "display_data"
    },
    {
     "data": {
      "application/vnd.jupyter.widget-view+json": {
       "model_id": "47ed2e46991344a0af8f1fc454a0cf12",
       "version_major": 2,
       "version_minor": 0
      },
      "text/plain": [
       "aia_lev1_304a_2011_02_26t00_00_08_12z_image_lev1.fits:   0%|          | 0.00/9.82M [00:00<?, ?B/s]"
      ]
     },
     "metadata": {},
     "output_type": "display_data"
    },
    {
     "data": {
      "application/vnd.jupyter.widget-view+json": {
       "model_id": "60053649860b45aeac2d8873be15cc01",
       "version_major": 2,
       "version_minor": 0
      },
      "text/plain": [
       "aia_lev1_304a_2011_02_25t17_00_08_12z_image_lev1.fits:   0%|          | 0.00/9.82M [00:00<?, ?B/s]"
      ]
     },
     "metadata": {},
     "output_type": "display_data"
    },
    {
     "data": {
      "application/vnd.jupyter.widget-view+json": {
       "model_id": "222befb805374dfba52d8b8360a7b33e",
       "version_major": 2,
       "version_minor": 0
      },
      "text/plain": [
       "aia_lev1_304a_2011_02_26t02_00_08_12z_image_lev1.fits:   0%|          | 0.00/9.81M [00:00<?, ?B/s]"
      ]
     },
     "metadata": {},
     "output_type": "display_data"
    },
    {
     "data": {
      "application/vnd.jupyter.widget-view+json": {
       "model_id": "eb5a108bae9d44468179824a954c1f18",
       "version_major": 2,
       "version_minor": 0
      },
      "text/plain": [
       "aia_lev1_304a_2011_02_25t22_00_08_12z_image_lev1.fits:   0%|          | 0.00/9.83M [00:00<?, ?B/s]"
      ]
     },
     "metadata": {},
     "output_type": "display_data"
    },
    {
     "data": {
      "application/vnd.jupyter.widget-view+json": {
       "model_id": "dd1ce658f8fd424a8da4397a2198a641",
       "version_major": 2,
       "version_minor": 0
      },
      "text/plain": [
       "aia_lev1_304a_2011_02_26t03_00_08_12z_image_lev1.fits:   0%|          | 0.00/9.81M [00:00<?, ?B/s]"
      ]
     },
     "metadata": {},
     "output_type": "display_data"
    },
    {
     "data": {
      "application/vnd.jupyter.widget-view+json": {
       "model_id": "179db11e28744e089f13d42f17c51fa6",
       "version_major": 2,
       "version_minor": 0
      },
      "text/plain": [
       "aia_lev1_304a_2011_02_26t04_00_08_12z_image_lev1.fits:   0%|          | 0.00/9.81M [00:00<?, ?B/s]"
      ]
     },
     "metadata": {},
     "output_type": "display_data"
    },
    {
     "data": {
      "application/vnd.jupyter.widget-view+json": {
       "model_id": "1ebf555575c14fc9b429a79bf5fdf8f9",
       "version_major": 2,
       "version_minor": 0
      },
      "text/plain": [
       "aia_lev1_304a_2011_02_26t01_00_08_12z_image_lev1.fits:   0%|          | 0.00/9.82M [00:00<?, ?B/s]"
      ]
     },
     "metadata": {},
     "output_type": "display_data"
    },
    {
     "data": {
      "application/vnd.jupyter.widget-view+json": {
       "model_id": "890011329f804dd28ee352c3712528c1",
       "version_major": 2,
       "version_minor": 0
      },
      "text/plain": [
       "aia_lev1_304a_2011_02_26t05_00_08_14z_image_lev1.fits:   0%|          | 0.00/9.80M [00:00<?, ?B/s]"
      ]
     },
     "metadata": {},
     "output_type": "display_data"
    },
    {
     "data": {
      "application/vnd.jupyter.widget-view+json": {
       "model_id": "176825848efd46c9b9312134f2fd26fd",
       "version_major": 2,
       "version_minor": 0
      },
      "text/plain": [
       "aia_lev1_304a_2011_02_26t06_00_08_12z_image_lev1.fits:   0%|          | 0.00/9.81M [00:00<?, ?B/s]"
      ]
     },
     "metadata": {},
     "output_type": "display_data"
    },
    {
     "data": {
      "application/vnd.jupyter.widget-view+json": {
       "model_id": "decff027ce1a401c835ea1b81b1ba1ae",
       "version_major": 2,
       "version_minor": 0
      },
      "text/plain": [
       "aia_lev1_304a_2011_02_26t08_00_08_12z_image_lev1.fits:   0%|          | 0.00/9.81M [00:00<?, ?B/s]"
      ]
     },
     "metadata": {},
     "output_type": "display_data"
    },
    {
     "data": {
      "application/vnd.jupyter.widget-view+json": {
       "model_id": "597d96e9808c4b359a9c9eb7cd62151b",
       "version_major": 2,
       "version_minor": 0
      },
      "text/plain": [
       "aia_lev1_304a_2011_02_26t09_00_08_12z_image_lev1.fits:   0%|          | 0.00/9.81M [00:00<?, ?B/s]"
      ]
     },
     "metadata": {},
     "output_type": "display_data"
    },
    {
     "data": {
      "application/vnd.jupyter.widget-view+json": {
       "model_id": "93eaffe7880a425da5fa1b6d22d4f7b4",
       "version_major": 2,
       "version_minor": 0
      },
      "text/plain": [
       "aia_lev1_304a_2011_02_26t13_00_08_12z_image_lev1.fits:   0%|          | 0.00/9.80M [00:00<?, ?B/s]"
      ]
     },
     "metadata": {},
     "output_type": "display_data"
    },
    {
     "data": {
      "application/vnd.jupyter.widget-view+json": {
       "model_id": "8f80272d546b43bf9a6450ebedbad02c",
       "version_major": 2,
       "version_minor": 0
      },
      "text/plain": [
       "aia_lev1_304a_2011_02_26t12_00_08_12z_image_lev1.fits:   0%|          | 0.00/9.81M [00:00<?, ?B/s]"
      ]
     },
     "metadata": {},
     "output_type": "display_data"
    },
    {
     "data": {
      "application/vnd.jupyter.widget-view+json": {
       "model_id": "bbee52d431724f29942ad00e56023d5d",
       "version_major": 2,
       "version_minor": 0
      },
      "text/plain": [
       "aia_lev1_304a_2011_02_26t14_00_08_12z_image_lev1.fits:   0%|          | 0.00/9.80M [00:00<?, ?B/s]"
      ]
     },
     "metadata": {},
     "output_type": "display_data"
    },
    {
     "data": {
      "application/vnd.jupyter.widget-view+json": {
       "model_id": "56dd2b37a91944199382e2a90b612e57",
       "version_major": 2,
       "version_minor": 0
      },
      "text/plain": [
       "aia_lev1_304a_2011_02_26t15_00_08_12z_image_lev1.fits:   0%|          | 0.00/9.81M [00:00<?, ?B/s]"
      ]
     },
     "metadata": {},
     "output_type": "display_data"
    },
    {
     "data": {
      "application/vnd.jupyter.widget-view+json": {
       "model_id": "a4a6a1e9cf6b4f07be749248a8acd73c",
       "version_major": 2,
       "version_minor": 0
      },
      "text/plain": [
       "aia_lev1_304a_2011_02_26t17_00_08_12z_image_lev1.fits:   0%|          | 0.00/9.81M [00:00<?, ?B/s]"
      ]
     },
     "metadata": {},
     "output_type": "display_data"
    },
    {
     "data": {
      "application/vnd.jupyter.widget-view+json": {
       "model_id": "57c17355a26b4ccda8c08c44ab691616",
       "version_major": 2,
       "version_minor": 0
      },
      "text/plain": [
       "aia_lev1_304a_2011_02_26t16_00_08_12z_image_lev1.fits:   0%|          | 0.00/9.82M [00:00<?, ?B/s]"
      ]
     },
     "metadata": {},
     "output_type": "display_data"
    },
    {
     "data": {
      "application/vnd.jupyter.widget-view+json": {
       "model_id": "6377d0b3230a42118afc324e7de65dc4",
       "version_major": 2,
       "version_minor": 0
      },
      "text/plain": [
       "aia_lev1_304a_2011_02_26t18_00_08_12z_image_lev1.fits:   0%|          | 0.00/9.80M [00:00<?, ?B/s]"
      ]
     },
     "metadata": {},
     "output_type": "display_data"
    },
    {
     "data": {
      "application/vnd.jupyter.widget-view+json": {
       "model_id": "62daa2021b1742db9787a4aaefd1de81",
       "version_major": 2,
       "version_minor": 0
      },
      "text/plain": [
       "aia_lev1_304a_2011_02_26t19_00_08_12z_image_lev1.fits:   0%|          | 0.00/9.81M [00:00<?, ?B/s]"
      ]
     },
     "metadata": {},
     "output_type": "display_data"
    },
    {
     "data": {
      "application/vnd.jupyter.widget-view+json": {
       "model_id": "b6029dab640d426e95b9d10714ed054f",
       "version_major": 2,
       "version_minor": 0
      },
      "text/plain": [
       "aia_lev1_304a_2011_02_26t23_00_08_12z_image_lev1.fits:   0%|          | 0.00/9.80M [00:00<?, ?B/s]"
      ]
     },
     "metadata": {},
     "output_type": "display_data"
    },
    {
     "data": {
      "application/vnd.jupyter.widget-view+json": {
       "model_id": "73ae51ad220a4172ac212fae9717696f",
       "version_major": 2,
       "version_minor": 0
      },
      "text/plain": [
       "aia_lev1_304a_2011_02_27t00_00_08_12z_image_lev1.fits:   0%|          | 0.00/9.79M [00:00<?, ?B/s]"
      ]
     },
     "metadata": {},
     "output_type": "display_data"
    },
    {
     "data": {
      "application/vnd.jupyter.widget-view+json": {
       "model_id": "dee8172706644e48a45a170db1a942ed",
       "version_major": 2,
       "version_minor": 0
      },
      "text/plain": [
       "aia_lev1_304a_2011_02_26t21_00_00_51z_image_lev1.fits:   0%|          | 0.00/6.92M [00:00<?, ?B/s]"
      ]
     },
     "metadata": {},
     "output_type": "display_data"
    },
    {
     "data": {
      "application/vnd.jupyter.widget-view+json": {
       "model_id": "0c7ac3bfee714d3688c829a3ed949979",
       "version_major": 2,
       "version_minor": 0
      },
      "text/plain": [
       "aia_lev1_304a_2011_02_26t22_00_08_12z_image_lev1.fits:   0%|          | 0.00/9.80M [00:00<?, ?B/s]"
      ]
     },
     "metadata": {},
     "output_type": "display_data"
    },
    {
     "data": {
      "application/vnd.jupyter.widget-view+json": {
       "model_id": "c7bc18df6e3b4efab79871436f706649",
       "version_major": 2,
       "version_minor": 0
      },
      "text/plain": [
       "aia_lev1_304a_2011_02_27t01_00_08_12z_image_lev1.fits:   0%|          | 0.00/9.79M [00:00<?, ?B/s]"
      ]
     },
     "metadata": {},
     "output_type": "display_data"
    },
    {
     "data": {
      "application/vnd.jupyter.widget-view+json": {
       "model_id": "d3a0bbeb09b24c9bbabe4f0b6afc5796",
       "version_major": 2,
       "version_minor": 0
      },
      "text/plain": [
       "aia_lev1_304a_2011_02_27t02_00_08_13z_image_lev1.fits:   0%|          | 0.00/9.79M [00:00<?, ?B/s]"
      ]
     },
     "metadata": {},
     "output_type": "display_data"
    },
    {
     "data": {
      "application/vnd.jupyter.widget-view+json": {
       "model_id": "9f53c90322ea472bbcbe1eefc0646c65",
       "version_major": 2,
       "version_minor": 0
      },
      "text/plain": [
       "aia_lev1_304a_2011_02_27t04_00_08_12z_image_lev1.fits:   0%|          | 0.00/9.79M [00:00<?, ?B/s]"
      ]
     },
     "metadata": {},
     "output_type": "display_data"
    },
    {
     "data": {
      "application/vnd.jupyter.widget-view+json": {
       "model_id": "cf7ed7163f0b447fa996e9c170dad2c5",
       "version_major": 2,
       "version_minor": 0
      },
      "text/plain": [
       "aia_lev1_304a_2011_02_27t05_00_08_13z_image_lev1.fits:   0%|          | 0.00/9.78M [00:00<?, ?B/s]"
      ]
     },
     "metadata": {},
     "output_type": "display_data"
    },
    {
     "data": {
      "application/vnd.jupyter.widget-view+json": {
       "model_id": "d3aa1b8bd9af430790b5ebae857b8b7c",
       "version_major": 2,
       "version_minor": 0
      },
      "text/plain": [
       "aia_lev1_304a_2011_02_27t06_00_08_12z_image_lev1.fits:   0%|          | 0.00/9.78M [00:00<?, ?B/s]"
      ]
     },
     "metadata": {},
     "output_type": "display_data"
    },
    {
     "data": {
      "application/vnd.jupyter.widget-view+json": {
       "model_id": "b8b893f7fc414e0a9dad10a5da2fe0a0",
       "version_major": 2,
       "version_minor": 0
      },
      "text/plain": [
       "aia_lev1_304a_2011_02_27t03_00_08_12z_image_lev1.fits:   0%|          | 0.00/9.78M [00:00<?, ?B/s]"
      ]
     },
     "metadata": {},
     "output_type": "display_data"
    },
    {
     "data": {
      "application/vnd.jupyter.widget-view+json": {
       "model_id": "468cdf7cc20a4bc7809cef12509b8c58",
       "version_major": 2,
       "version_minor": 0
      },
      "text/plain": [
       "aia_lev1_304a_2011_02_27t07_00_08_12z_image_lev1.fits:   0%|          | 0.00/9.79M [00:00<?, ?B/s]"
      ]
     },
     "metadata": {},
     "output_type": "display_data"
    },
    {
     "data": {
      "application/vnd.jupyter.widget-view+json": {
       "model_id": "9466e4f765b94b45b0ad22945932a438",
       "version_major": 2,
       "version_minor": 0
      },
      "text/plain": [
       "aia_lev1_304a_2011_02_27t08_00_08_12z_image_lev1.fits:   0%|          | 0.00/9.79M [00:00<?, ?B/s]"
      ]
     },
     "metadata": {},
     "output_type": "display_data"
    },
    {
     "data": {
      "application/vnd.jupyter.widget-view+json": {
       "model_id": "97474ff3d8d746f7a6c1f5d601afcee7",
       "version_major": 2,
       "version_minor": 0
      },
      "text/plain": [
       "aia_lev1_304a_2011_02_27t10_00_08_12z_image_lev1.fits:   0%|          | 0.00/9.78M [00:00<?, ?B/s]"
      ]
     },
     "metadata": {},
     "output_type": "display_data"
    },
    {
     "data": {
      "application/vnd.jupyter.widget-view+json": {
       "model_id": "e2129973b6034d8bb27d418c3b196e2f",
       "version_major": 2,
       "version_minor": 0
      },
      "text/plain": [
       "aia_lev1_304a_2011_02_27t11_00_08_12z_image_lev1.fits:   0%|          | 0.00/9.78M [00:00<?, ?B/s]"
      ]
     },
     "metadata": {},
     "output_type": "display_data"
    },
    {
     "data": {
      "application/vnd.jupyter.widget-view+json": {
       "model_id": "a2a35a98245f4776839c3dbf3a703e00",
       "version_major": 2,
       "version_minor": 0
      },
      "text/plain": [
       "aia_lev1_304a_2011_02_27t12_00_08_12z_image_lev1.fits:   0%|          | 0.00/9.78M [00:00<?, ?B/s]"
      ]
     },
     "metadata": {},
     "output_type": "display_data"
    },
    {
     "data": {
      "application/vnd.jupyter.widget-view+json": {
       "model_id": "e1831b0877b14855ba3a073e5fe781d6",
       "version_major": 2,
       "version_minor": 0
      },
      "text/plain": [
       "aia_lev1_304a_2011_02_27t09_00_08_12z_image_lev1.fits:   0%|          | 0.00/9.79M [00:00<?, ?B/s]"
      ]
     },
     "metadata": {},
     "output_type": "display_data"
    },
    {
     "data": {
      "application/vnd.jupyter.widget-view+json": {
       "model_id": "e502cc2d648549f8bb1c13e3ec56ba65",
       "version_major": 2,
       "version_minor": 0
      },
      "text/plain": [
       "aia_lev1_304a_2011_02_27t14_00_08_12z_image_lev1.fits:   0%|          | 0.00/9.78M [00:00<?, ?B/s]"
      ]
     },
     "metadata": {},
     "output_type": "display_data"
    },
    {
     "data": {
      "application/vnd.jupyter.widget-view+json": {
       "model_id": "504601ad70574c409391f934098cc1fa",
       "version_major": 2,
       "version_minor": 0
      },
      "text/plain": [
       "aia_lev1_304a_2011_02_27t15_00_08_12z_image_lev1.fits:   0%|          | 0.00/9.77M [00:00<?, ?B/s]"
      ]
     },
     "metadata": {},
     "output_type": "display_data"
    },
    {
     "data": {
      "application/vnd.jupyter.widget-view+json": {
       "model_id": "fd4b5e273645476985acf183a2a7b23a",
       "version_major": 2,
       "version_minor": 0
      },
      "text/plain": [
       "aia_lev1_304a_2011_02_27t16_00_08_12z_image_lev1.fits:   0%|          | 0.00/9.78M [00:00<?, ?B/s]"
      ]
     },
     "metadata": {},
     "output_type": "display_data"
    },
    {
     "data": {
      "application/vnd.jupyter.widget-view+json": {
       "model_id": "7384940b848d4e78b10b65d43567b0bc",
       "version_major": 2,
       "version_minor": 0
      },
      "text/plain": [
       "aia_lev1_304a_2011_02_27t13_00_08_12z_image_lev1.fits:   0%|          | 0.00/9.78M [00:00<?, ?B/s]"
      ]
     },
     "metadata": {},
     "output_type": "display_data"
    },
    {
     "data": {
      "application/vnd.jupyter.widget-view+json": {
       "model_id": "9040c37ad8ef41a3accdf5ebb20f2c94",
       "version_major": 2,
       "version_minor": 0
      },
      "text/plain": [
       "aia_lev1_304a_2011_02_27t18_00_08_12z_image_lev1.fits:   0%|          | 0.00/9.78M [00:00<?, ?B/s]"
      ]
     },
     "metadata": {},
     "output_type": "display_data"
    },
    {
     "data": {
      "application/vnd.jupyter.widget-view+json": {
       "model_id": "7052627da8d6471b97be6036dd79a7d7",
       "version_major": 2,
       "version_minor": 0
      },
      "text/plain": [
       "aia_lev1_304a_2011_02_27t20_00_08_12z_image_lev1.fits:   0%|          | 0.00/9.78M [00:00<?, ?B/s]"
      ]
     },
     "metadata": {},
     "output_type": "display_data"
    },
    {
     "data": {
      "application/vnd.jupyter.widget-view+json": {
       "model_id": "b160d978552f435c91f5529748688fd0",
       "version_major": 2,
       "version_minor": 0
      },
      "text/plain": [
       "aia_lev1_304a_2011_02_27t21_00_00_51z_image_lev1.fits:   0%|          | 0.00/6.92M [00:00<?, ?B/s]"
      ]
     },
     "metadata": {},
     "output_type": "display_data"
    },
    {
     "data": {
      "application/vnd.jupyter.widget-view+json": {
       "model_id": "3326cb1e9c6241d0a0f4ff93c6ffbe17",
       "version_major": 2,
       "version_minor": 0
      },
      "text/plain": [
       "aia_lev1_304a_2011_02_27t17_00_08_12z_image_lev1.fits:   0%|          | 0.00/9.78M [00:00<?, ?B/s]"
      ]
     },
     "metadata": {},
     "output_type": "display_data"
    },
    {
     "data": {
      "application/vnd.jupyter.widget-view+json": {
       "model_id": "918f6890597947e9b040d0ed509a818d",
       "version_major": 2,
       "version_minor": 0
      },
      "text/plain": [
       "aia_lev1_304a_2011_02_27t19_00_08_12z_image_lev1.fits:   0%|          | 0.00/9.77M [00:00<?, ?B/s]"
      ]
     },
     "metadata": {},
     "output_type": "display_data"
    },
    {
     "data": {
      "application/vnd.jupyter.widget-view+json": {
       "model_id": "e49ce063285a408996869fd7b0fa9c20",
       "version_major": 2,
       "version_minor": 0
      },
      "text/plain": [
       "aia_lev1_304a_2011_02_27t22_00_08_12z_image_lev1.fits:   0%|          | 0.00/9.78M [00:00<?, ?B/s]"
      ]
     },
     "metadata": {},
     "output_type": "display_data"
    },
    {
     "data": {
      "application/vnd.jupyter.widget-view+json": {
       "model_id": "6f8cbee543c046259273b4a80d572cef",
       "version_major": 2,
       "version_minor": 0
      },
      "text/plain": [
       "aia_lev1_304a_2011_02_28t00_00_08_12z_image_lev1.fits:   0%|          | 0.00/9.77M [00:00<?, ?B/s]"
      ]
     },
     "metadata": {},
     "output_type": "display_data"
    },
    {
     "data": {
      "application/vnd.jupyter.widget-view+json": {
       "model_id": "5ea1ecd3a2854e64adeb300b0ad14688",
       "version_major": 2,
       "version_minor": 0
      },
      "text/plain": [
       "aia_lev1_304a_2011_02_28t01_00_08_12z_image_lev1.fits:   0%|          | 0.00/9.77M [00:00<?, ?B/s]"
      ]
     },
     "metadata": {},
     "output_type": "display_data"
    },
    {
     "data": {
      "application/vnd.jupyter.widget-view+json": {
       "model_id": "9360953f3527480d8303243a752587e5",
       "version_major": 2,
       "version_minor": 0
      },
      "text/plain": [
       "aia_lev1_304a_2011_02_28t02_00_08_12z_image_lev1.fits:   0%|          | 0.00/9.77M [00:00<?, ?B/s]"
      ]
     },
     "metadata": {},
     "output_type": "display_data"
    },
    {
     "data": {
      "application/vnd.jupyter.widget-view+json": {
       "model_id": "a3df4541d03c4e1da525f42d2b60055c",
       "version_major": 2,
       "version_minor": 0
      },
      "text/plain": [
       "aia_lev1_304a_2011_02_28t03_00_08_12z_image_lev1.fits:   0%|          | 0.00/9.77M [00:00<?, ?B/s]"
      ]
     },
     "metadata": {},
     "output_type": "display_data"
    },
    {
     "data": {
      "application/vnd.jupyter.widget-view+json": {
       "model_id": "73bd65b8819a46d5aa483947351b9730",
       "version_major": 2,
       "version_minor": 0
      },
      "text/plain": [
       "aia_lev1_304a_2011_02_28t05_00_08_12z_image_lev1.fits:   0%|          | 0.00/9.77M [00:00<?, ?B/s]"
      ]
     },
     "metadata": {},
     "output_type": "display_data"
    },
    {
     "data": {
      "application/vnd.jupyter.widget-view+json": {
       "model_id": "f8bf0e5ae6fd495389dd028dd148ad13",
       "version_major": 2,
       "version_minor": 0
      },
      "text/plain": [
       "aia_lev1_304a_2011_02_28t06_00_08_12z_image_lev1.fits:   0%|          | 0.00/9.77M [00:00<?, ?B/s]"
      ]
     },
     "metadata": {},
     "output_type": "display_data"
    },
    {
     "data": {
      "application/vnd.jupyter.widget-view+json": {
       "model_id": "a2e490c947054b9f809eca30f5adb286",
       "version_major": 2,
       "version_minor": 0
      },
      "text/plain": [
       "aia_lev1_304a_2011_02_28t07_00_08_12z_image_lev1.fits:   0%|          | 0.00/9.77M [00:00<?, ?B/s]"
      ]
     },
     "metadata": {},
     "output_type": "display_data"
    },
    {
     "data": {
      "application/vnd.jupyter.widget-view+json": {
       "model_id": "f62bf6aaab9b43d49f70cecf22bd9250",
       "version_major": 2,
       "version_minor": 0
      },
      "text/plain": [
       "aia_lev1_304a_2011_02_28t08_00_08_12z_image_lev1.fits:   0%|          | 0.00/9.77M [00:00<?, ?B/s]"
      ]
     },
     "metadata": {},
     "output_type": "display_data"
    },
    {
     "data": {
      "application/vnd.jupyter.widget-view+json": {
       "model_id": "1a5c591529f346e48498fc512754d99b",
       "version_major": 2,
       "version_minor": 0
      },
      "text/plain": [
       "aia_lev1_304a_2011_02_28t09_00_08_12z_image_lev1.fits:   0%|          | 0.00/9.80M [00:00<?, ?B/s]"
      ]
     },
     "metadata": {},
     "output_type": "display_data"
    },
    {
     "data": {
      "application/vnd.jupyter.widget-view+json": {
       "model_id": "b8e92a6e670d45da9bab2ee56f82759a",
       "version_major": 2,
       "version_minor": 0
      },
      "text/plain": [
       "aia_lev1_304a_2011_02_28t04_00_08_12z_image_lev1.fits:   0%|          | 0.00/9.76M [00:00<?, ?B/s]"
      ]
     },
     "metadata": {},
     "output_type": "display_data"
    },
    {
     "data": {
      "application/vnd.jupyter.widget-view+json": {
       "model_id": "09d9a39b9c41477a9a54313614c06f06",
       "version_major": 2,
       "version_minor": 0
      },
      "text/plain": [
       "aia_lev1_304a_2011_02_28t10_00_08_12z_image_lev1.fits:   0%|          | 0.00/9.77M [00:00<?, ?B/s]"
      ]
     },
     "metadata": {},
     "output_type": "display_data"
    },
    {
     "data": {
      "application/vnd.jupyter.widget-view+json": {
       "model_id": "52f818ccfacd43bbaaba37d863075403",
       "version_major": 2,
       "version_minor": 0
      },
      "text/plain": [
       "aia_lev1_304a_2011_02_28t11_00_08_14z_image_lev1.fits:   0%|          | 0.00/9.77M [00:00<?, ?B/s]"
      ]
     },
     "metadata": {},
     "output_type": "display_data"
    },
    {
     "data": {
      "application/vnd.jupyter.widget-view+json": {
       "model_id": "8d96f3b689bc4216913ff55c65061e7b",
       "version_major": 2,
       "version_minor": 0
      },
      "text/plain": [
       "aia_lev1_304a_2011_02_28t12_00_08_14z_image_lev1.fits:   0%|          | 0.00/9.76M [00:00<?, ?B/s]"
      ]
     },
     "metadata": {},
     "output_type": "display_data"
    },
    {
     "data": {
      "application/vnd.jupyter.widget-view+json": {
       "model_id": "a72ffffd40464a4ba99b65c2b9efc637",
       "version_major": 2,
       "version_minor": 0
      },
      "text/plain": [
       "aia_lev1_304a_2011_02_28t13_00_08_12z_image_lev1.fits:   0%|          | 0.00/9.77M [00:00<?, ?B/s]"
      ]
     },
     "metadata": {},
     "output_type": "display_data"
    },
    {
     "data": {
      "application/vnd.jupyter.widget-view+json": {
       "model_id": "6355f8dc0f5442d1b537178b48b3da97",
       "version_major": 2,
       "version_minor": 0
      },
      "text/plain": [
       "aia_lev1_304a_2011_02_28t14_00_08_12z_image_lev1.fits:   0%|          | 0.00/9.76M [00:00<?, ?B/s]"
      ]
     },
     "metadata": {},
     "output_type": "display_data"
    },
    {
     "data": {
      "application/vnd.jupyter.widget-view+json": {
       "model_id": "8fc33896f7e945a9aca667b1214febfe",
       "version_major": 2,
       "version_minor": 0
      },
      "text/plain": [
       "aia_lev1_304a_2011_02_28t15_00_08_12z_image_lev1.fits:   0%|          | 0.00/9.77M [00:00<?, ?B/s]"
      ]
     },
     "metadata": {},
     "output_type": "display_data"
    },
    {
     "data": {
      "application/vnd.jupyter.widget-view+json": {
       "model_id": "9243e066bd2f4b519e5a220da32e2604",
       "version_major": 2,
       "version_minor": 0
      },
      "text/plain": [
       "aia_lev1_304a_2011_02_28t18_00_08_12z_image_lev1.fits:   0%|          | 0.00/9.76M [00:00<?, ?B/s]"
      ]
     },
     "metadata": {},
     "output_type": "display_data"
    },
    {
     "data": {
      "application/vnd.jupyter.widget-view+json": {
       "model_id": "c4ce5c107392461d9becb547002d81ae",
       "version_major": 2,
       "version_minor": 0
      },
      "text/plain": [
       "aia_lev1_304a_2011_02_28t19_00_08_12z_image_lev1.fits:   0%|          | 0.00/9.76M [00:00<?, ?B/s]"
      ]
     },
     "metadata": {},
     "output_type": "display_data"
    },
    {
     "data": {
      "application/vnd.jupyter.widget-view+json": {
       "model_id": "7c9d117dd36e46cb9b76fcca94319342",
       "version_major": 2,
       "version_minor": 0
      },
      "text/plain": [
       "aia_lev1_304a_2011_02_28t20_00_08_12z_image_lev1.fits:   0%|          | 0.00/9.76M [00:00<?, ?B/s]"
      ]
     },
     "metadata": {},
     "output_type": "display_data"
    },
    {
     "data": {
      "application/vnd.jupyter.widget-view+json": {
       "model_id": "27488c34cb5f463090acbe69d3869353",
       "version_major": 2,
       "version_minor": 0
      },
      "text/plain": [
       "aia_lev1_304a_2011_02_28t16_00_08_12z_image_lev1.fits:   0%|          | 0.00/9.77M [00:00<?, ?B/s]"
      ]
     },
     "metadata": {},
     "output_type": "display_data"
    },
    {
     "data": {
      "application/vnd.jupyter.widget-view+json": {
       "model_id": "503e7c56aaf3466e9e0764a837421066",
       "version_major": 2,
       "version_minor": 0
      },
      "text/plain": [
       "aia_lev1_304a_2011_02_28t21_00_00_51z_image_lev1.fits:   0%|          | 0.00/6.92M [00:00<?, ?B/s]"
      ]
     },
     "metadata": {},
     "output_type": "display_data"
    },
    {
     "data": {
      "application/vnd.jupyter.widget-view+json": {
       "model_id": "7480394a3e744a339452e602e6391106",
       "version_major": 2,
       "version_minor": 0
      },
      "text/plain": [
       "aia_lev1_304a_2011_02_28t17_00_08_12z_image_lev1.fits:   0%|          | 0.00/9.76M [00:00<?, ?B/s]"
      ]
     },
     "metadata": {},
     "output_type": "display_data"
    },
    {
     "data": {
      "application/vnd.jupyter.widget-view+json": {
       "model_id": "3960a33e0441470fadd5baf2b5614c25",
       "version_major": 2,
       "version_minor": 0
      },
      "text/plain": [
       "aia_lev1_304a_2011_02_28t23_00_08_12z_image_lev1.fits:   0%|          | 0.00/9.77M [00:00<?, ?B/s]"
      ]
     },
     "metadata": {},
     "output_type": "display_data"
    },
    {
     "data": {
      "application/vnd.jupyter.widget-view+json": {
       "model_id": "0e9bcae6a11f4a3683b5accfa8bac0fc",
       "version_major": 2,
       "version_minor": 0
      },
      "text/plain": [
       "aia_lev1_304a_2011_03_01t00_00_08_12z_image_lev1.fits:   0%|          | 0.00/9.77M [00:00<?, ?B/s]"
      ]
     },
     "metadata": {},
     "output_type": "display_data"
    },
    {
     "data": {
      "application/vnd.jupyter.widget-view+json": {
       "model_id": "833684de565f4f44b3edec17186e9952",
       "version_major": 2,
       "version_minor": 0
      },
      "text/plain": [
       "aia_lev1_304a_2011_03_01t01_00_08_12z_image_lev1.fits:   0%|          | 0.00/9.77M [00:00<?, ?B/s]"
      ]
     },
     "metadata": {},
     "output_type": "display_data"
    },
    {
     "data": {
      "application/vnd.jupyter.widget-view+json": {
       "model_id": "d231fde6ef624fbc9a9f50911cc1366b",
       "version_major": 2,
       "version_minor": 0
      },
      "text/plain": [
       "aia_lev1_304a_2011_03_01t02_00_08_12z_image_lev1.fits:   0%|          | 0.00/9.77M [00:00<?, ?B/s]"
      ]
     },
     "metadata": {},
     "output_type": "display_data"
    },
    {
     "data": {
      "application/vnd.jupyter.widget-view+json": {
       "model_id": "0e9c0edd555e4bbd9b1be2ba0a31a03f",
       "version_major": 2,
       "version_minor": 0
      },
      "text/plain": [
       "aia_lev1_304a_2011_02_28t22_00_08_12z_image_lev1.fits:   0%|          | 0.00/9.77M [00:00<?, ?B/s]"
      ]
     },
     "metadata": {},
     "output_type": "display_data"
    },
    {
     "data": {
      "application/vnd.jupyter.widget-view+json": {
       "model_id": "cd5bd5b155d74fbab41d66f942b13532",
       "version_major": 2,
       "version_minor": 0
      },
      "text/plain": [
       "aia_lev1_304a_2011_03_01t04_00_08_12z_image_lev1.fits:   0%|          | 0.00/9.77M [00:00<?, ?B/s]"
      ]
     },
     "metadata": {},
     "output_type": "display_data"
    },
    {
     "data": {
      "application/vnd.jupyter.widget-view+json": {
       "model_id": "fcd5714b5255476eb65d1b775fca4503",
       "version_major": 2,
       "version_minor": 0
      },
      "text/plain": [
       "aia_lev1_304a_2011_03_01t06_00_08_12z_image_lev1.fits:   0%|          | 0.00/9.80M [00:00<?, ?B/s]"
      ]
     },
     "metadata": {},
     "output_type": "display_data"
    },
    {
     "data": {
      "application/vnd.jupyter.widget-view+json": {
       "model_id": "147bd84103ce49b5a312f25f504cc56a",
       "version_major": 2,
       "version_minor": 0
      },
      "text/plain": [
       "aia_lev1_304a_2011_03_01t05_00_08_12z_image_lev1.fits:   0%|          | 0.00/9.78M [00:00<?, ?B/s]"
      ]
     },
     "metadata": {},
     "output_type": "display_data"
    },
    {
     "data": {
      "application/vnd.jupyter.widget-view+json": {
       "model_id": "720b0a36c95b4c30b18914879d1e63cc",
       "version_major": 2,
       "version_minor": 0
      },
      "text/plain": [
       "aia_lev1_304a_2011_03_01t08_00_08_14z_image_lev1.fits:   0%|          | 0.00/9.80M [00:00<?, ?B/s]"
      ]
     },
     "metadata": {},
     "output_type": "display_data"
    },
    {
     "data": {
      "application/vnd.jupyter.widget-view+json": {
       "model_id": "ae77d37fc3ec424abaadfd3bb6a81733",
       "version_major": 2,
       "version_minor": 0
      },
      "text/plain": [
       "aia_lev1_304a_2011_03_01t03_00_08_12z_image_lev1.fits:   0%|          | 0.00/9.78M [00:00<?, ?B/s]"
      ]
     },
     "metadata": {},
     "output_type": "display_data"
    },
    {
     "data": {
      "application/vnd.jupyter.widget-view+json": {
       "model_id": "362bb720057b4058bcfb0699fdd29f7f",
       "version_major": 2,
       "version_minor": 0
      },
      "text/plain": [
       "aia_lev1_304a_2011_03_01t09_00_08_12z_image_lev1.fits:   0%|          | 0.00/9.79M [00:00<?, ?B/s]"
      ]
     },
     "metadata": {},
     "output_type": "display_data"
    },
    {
     "data": {
      "application/vnd.jupyter.widget-view+json": {
       "model_id": "6a47a44a886744e4a6d08e63b54c246d",
       "version_major": 2,
       "version_minor": 0
      },
      "text/plain": [
       "aia_lev1_304a_2011_03_01t07_00_08_12z_image_lev1.fits:   0%|          | 0.00/9.81M [00:00<?, ?B/s]"
      ]
     },
     "metadata": {},
     "output_type": "display_data"
    },
    {
     "data": {
      "application/vnd.jupyter.widget-view+json": {
       "model_id": "db4003ed8ffa4586b1e4acfa6bb3db1c",
       "version_major": 2,
       "version_minor": 0
      },
      "text/plain": [
       "aia_lev1_304a_2011_03_01t11_00_08_12z_image_lev1.fits:   0%|          | 0.00/9.76M [00:00<?, ?B/s]"
      ]
     },
     "metadata": {},
     "output_type": "display_data"
    },
    {
     "data": {
      "application/vnd.jupyter.widget-view+json": {
       "model_id": "f39faf02c08e4fc383302105d5c24c26",
       "version_major": 2,
       "version_minor": 0
      },
      "text/plain": [
       "aia_lev1_304a_2011_03_01t12_00_08_12z_image_lev1.fits:   0%|          | 0.00/9.79M [00:00<?, ?B/s]"
      ]
     },
     "metadata": {},
     "output_type": "display_data"
    },
    {
     "data": {
      "application/vnd.jupyter.widget-view+json": {
       "model_id": "c6498e26e49345a280c00af872a906d4",
       "version_major": 2,
       "version_minor": 0
      },
      "text/plain": [
       "aia_lev1_304a_2011_03_01t14_00_08_12z_image_lev1.fits:   0%|          | 0.00/9.77M [00:00<?, ?B/s]"
      ]
     },
     "metadata": {},
     "output_type": "display_data"
    },
    {
     "data": {
      "application/vnd.jupyter.widget-view+json": {
       "model_id": "9c45c5ee16464616ab4ddeff517c7b99",
       "version_major": 2,
       "version_minor": 0
      },
      "text/plain": [
       "aia_lev1_304a_2011_03_01t10_00_08_15z_image_lev1.fits:   0%|          | 0.00/9.77M [00:00<?, ?B/s]"
      ]
     },
     "metadata": {},
     "output_type": "display_data"
    },
    {
     "data": {
      "application/vnd.jupyter.widget-view+json": {
       "model_id": "2f20559a2e1647a999c4c4a8764605da",
       "version_major": 2,
       "version_minor": 0
      },
      "text/plain": [
       "aia_lev1_304a_2011_03_01t16_00_08_13z_image_lev1.fits:   0%|          | 0.00/9.77M [00:00<?, ?B/s]"
      ]
     },
     "metadata": {},
     "output_type": "display_data"
    },
    {
     "data": {
      "application/vnd.jupyter.widget-view+json": {
       "model_id": "9af1406d89e34f69a308a77d087f949a",
       "version_major": 2,
       "version_minor": 0
      },
      "text/plain": [
       "aia_lev1_304a_2011_03_01t18_00_08_13z_image_lev1.fits:   0%|          | 0.00/9.79M [00:00<?, ?B/s]"
      ]
     },
     "metadata": {},
     "output_type": "display_data"
    },
    {
     "data": {
      "application/vnd.jupyter.widget-view+json": {
       "model_id": "b9f6822336db45ae98dff97c9f1bf4d7",
       "version_major": 2,
       "version_minor": 0
      },
      "text/plain": [
       "aia_lev1_304a_2011_03_01t20_00_08_12z_image_lev1.fits:   0%|          | 0.00/9.78M [00:00<?, ?B/s]"
      ]
     },
     "metadata": {},
     "output_type": "display_data"
    },
    {
     "data": {
      "application/vnd.jupyter.widget-view+json": {
       "model_id": "cf7f4d3e77ea4eca9375fd2793dfe84f",
       "version_major": 2,
       "version_minor": 0
      },
      "text/plain": [
       "aia_lev1_304a_2011_03_01t17_00_08_13z_image_lev1.fits:   0%|          | 0.00/9.79M [00:00<?, ?B/s]"
      ]
     },
     "metadata": {},
     "output_type": "display_data"
    },
    {
     "data": {
      "application/vnd.jupyter.widget-view+json": {
       "model_id": "ca252c1b15204cd5b4be863a9be90a80",
       "version_major": 2,
       "version_minor": 0
      },
      "text/plain": [
       "aia_lev1_304a_2011_03_01t22_00_08_12z_image_lev1.fits:   0%|          | 0.00/9.80M [00:00<?, ?B/s]"
      ]
     },
     "metadata": {},
     "output_type": "display_data"
    },
    {
     "data": {
      "application/vnd.jupyter.widget-view+json": {
       "model_id": "e17bf6aa1c3d4999a8a411447c4e70a2",
       "version_major": 2,
       "version_minor": 0
      },
      "text/plain": [
       "aia_lev1_304a_2011_03_01t19_00_08_12z_image_lev1.fits:   0%|          | 0.00/9.79M [00:00<?, ?B/s]"
      ]
     },
     "metadata": {},
     "output_type": "display_data"
    },
    {
     "data": {
      "application/vnd.jupyter.widget-view+json": {
       "model_id": "9ed2706b3d8145f68a7b8f5009879344",
       "version_major": 2,
       "version_minor": 0
      },
      "text/plain": [
       "aia_lev1_304a_2011_03_01t23_00_08_14z_image_lev1.fits:   0%|          | 0.00/9.78M [00:00<?, ?B/s]"
      ]
     },
     "metadata": {},
     "output_type": "display_data"
    },
    {
     "data": {
      "application/vnd.jupyter.widget-view+json": {
       "model_id": "ca70751c62314ceb903fa50f73c1eefc",
       "version_major": 2,
       "version_minor": 0
      },
      "text/plain": [
       "aia_lev1_304a_2011_03_02t00_00_08_12z_image_lev1.fits:   0%|          | 0.00/9.76M [00:00<?, ?B/s]"
      ]
     },
     "metadata": {},
     "output_type": "display_data"
    },
    {
     "data": {
      "application/vnd.jupyter.widget-view+json": {
       "model_id": "cf1cfdc6b97046d9b7e8108859c92ea2",
       "version_major": 2,
       "version_minor": 0
      },
      "text/plain": [
       "aia_lev1_304a_2011_03_01t21_00_00_51z_image_lev1.fits:   0%|          | 0.00/6.92M [00:00<?, ?B/s]"
      ]
     },
     "metadata": {},
     "output_type": "display_data"
    },
    {
     "data": {
      "application/vnd.jupyter.widget-view+json": {
       "model_id": "579bfdbe8b8e4038991408f3aa0e69c3",
       "version_major": 2,
       "version_minor": 0
      },
      "text/plain": [
       "aia_lev1_304a_2011_03_02t01_00_08_12z_image_lev1.fits:   0%|          | 0.00/9.78M [00:00<?, ?B/s]"
      ]
     },
     "metadata": {},
     "output_type": "display_data"
    },
    {
     "data": {
      "application/vnd.jupyter.widget-view+json": {
       "model_id": "2a57cecf19624848acd490ddf94aca67",
       "version_major": 2,
       "version_minor": 0
      },
      "text/plain": [
       "aia_lev1_304a_2011_03_02t02_00_08_12z_image_lev1.fits:   0%|          | 0.00/9.79M [00:00<?, ?B/s]"
      ]
     },
     "metadata": {},
     "output_type": "display_data"
    },
    {
     "data": {
      "application/vnd.jupyter.widget-view+json": {
       "model_id": "3f036631ddc949df9a79ed4d63950967",
       "version_major": 2,
       "version_minor": 0
      },
      "text/plain": [
       "aia_lev1_304a_2011_03_02t03_00_08_12z_image_lev1.fits:   0%|          | 0.00/9.78M [00:00<?, ?B/s]"
      ]
     },
     "metadata": {},
     "output_type": "display_data"
    },
    {
     "data": {
      "application/vnd.jupyter.widget-view+json": {
       "model_id": "e4fb6be9486e439589ef5ba15e9808ba",
       "version_major": 2,
       "version_minor": 0
      },
      "text/plain": [
       "aia_lev1_304a_2011_03_02t05_00_08_12z_image_lev1.fits:   0%|          | 0.00/9.81M [00:00<?, ?B/s]"
      ]
     },
     "metadata": {},
     "output_type": "display_data"
    },
    {
     "data": {
      "application/vnd.jupyter.widget-view+json": {
       "model_id": "ca6ae384daee4c359a49fb9be89c73c3",
       "version_major": 2,
       "version_minor": 0
      },
      "text/plain": [
       "aia_lev1_304a_2011_03_02t06_00_08_13z_image_lev1.fits:   0%|          | 0.00/9.80M [00:00<?, ?B/s]"
      ]
     },
     "metadata": {},
     "output_type": "display_data"
    },
    {
     "data": {
      "application/vnd.jupyter.widget-view+json": {
       "model_id": "23de9fc0015c448eb9ca2540c0b8a59b",
       "version_major": 2,
       "version_minor": 0
      },
      "text/plain": [
       "aia_lev1_304a_2011_03_02t07_00_08_13z_image_lev1.fits:   0%|          | 0.00/9.98M [00:00<?, ?B/s]"
      ]
     },
     "metadata": {},
     "output_type": "display_data"
    },
    {
     "data": {
      "application/vnd.jupyter.widget-view+json": {
       "model_id": "c12de4ae9c2c43b1a5692b47602a62c1",
       "version_major": 2,
       "version_minor": 0
      },
      "text/plain": [
       "aia_lev1_304a_2011_03_02t08_00_08_12z_image_lev1.fits:   0%|          | 0.00/9.99M [00:00<?, ?B/s]"
      ]
     },
     "metadata": {},
     "output_type": "display_data"
    },
    {
     "data": {
      "application/vnd.jupyter.widget-view+json": {
       "model_id": "07f6c2558a0448da95e7b910a037e4ee",
       "version_major": 2,
       "version_minor": 0
      },
      "text/plain": [
       "aia_lev1_304a_2011_03_02t04_00_08_12z_image_lev1.fits:   0%|          | 0.00/9.79M [00:00<?, ?B/s]"
      ]
     },
     "metadata": {},
     "output_type": "display_data"
    },
    {
     "data": {
      "application/vnd.jupyter.widget-view+json": {
       "model_id": "4c6b40547d5742bc85b1a1ab1c14d1d5",
       "version_major": 2,
       "version_minor": 0
      },
      "text/plain": [
       "aia_lev1_304a_2011_03_02t09_00_08_12z_image_lev1.fits:   0%|          | 0.00/9.91M [00:00<?, ?B/s]"
      ]
     },
     "metadata": {},
     "output_type": "display_data"
    },
    {
     "data": {
      "application/vnd.jupyter.widget-view+json": {
       "model_id": "592c8b88bcb341809f3a6812f01ec58d",
       "version_major": 2,
       "version_minor": 0
      },
      "text/plain": [
       "aia_lev1_304a_2011_03_02t12_00_08_12z_image_lev1.fits:   0%|          | 0.00/9.78M [00:00<?, ?B/s]"
      ]
     },
     "metadata": {},
     "output_type": "display_data"
    },
    {
     "data": {
      "application/vnd.jupyter.widget-view+json": {
       "model_id": "ff8ff3769aa0459da230bd91efd2efdd",
       "version_major": 2,
       "version_minor": 0
      },
      "text/plain": [
       "aia_lev1_304a_2011_03_02t10_00_08_12z_image_lev1.fits:   0%|          | 0.00/9.85M [00:00<?, ?B/s]"
      ]
     },
     "metadata": {},
     "output_type": "display_data"
    },
    {
     "data": {
      "application/vnd.jupyter.widget-view+json": {
       "model_id": "c523373716bf44b1a2f825e3eac0d10b",
       "version_major": 2,
       "version_minor": 0
      },
      "text/plain": [
       "aia_lev1_304a_2011_03_02t14_00_08_12z_image_lev1.fits:   0%|          | 0.00/9.79M [00:00<?, ?B/s]"
      ]
     },
     "metadata": {},
     "output_type": "display_data"
    },
    {
     "data": {
      "application/vnd.jupyter.widget-view+json": {
       "model_id": "0dd7a3e044d9431abdd954f66f92d732",
       "version_major": 2,
       "version_minor": 0
      },
      "text/plain": [
       "aia_lev1_304a_2011_03_02t11_00_08_12z_image_lev1.fits:   0%|          | 0.00/9.78M [00:00<?, ?B/s]"
      ]
     },
     "metadata": {},
     "output_type": "display_data"
    },
    {
     "data": {
      "application/vnd.jupyter.widget-view+json": {
       "model_id": "e916ab5696b148829cf7d2ba84b44686",
       "version_major": 2,
       "version_minor": 0
      },
      "text/plain": [
       "aia_lev1_304a_2011_03_02t15_00_08_12z_image_lev1.fits:   0%|          | 0.00/9.81M [00:00<?, ?B/s]"
      ]
     },
     "metadata": {},
     "output_type": "display_data"
    },
    {
     "data": {
      "application/vnd.jupyter.widget-view+json": {
       "model_id": "62bd94de5dcc417fb6971b35621955e5",
       "version_major": 2,
       "version_minor": 0
      },
      "text/plain": [
       "aia_lev1_304a_2011_03_02t18_00_08_12z_image_lev1.fits:   0%|          | 0.00/9.81M [00:00<?, ?B/s]"
      ]
     },
     "metadata": {},
     "output_type": "display_data"
    },
    {
     "data": {
      "application/vnd.jupyter.widget-view+json": {
       "model_id": "092e517db494401bb8267d19b374aa9f",
       "version_major": 2,
       "version_minor": 0
      },
      "text/plain": [
       "aia_lev1_304a_2011_03_02t13_00_08_12z_image_lev1.fits:   0%|          | 0.00/9.79M [00:00<?, ?B/s]"
      ]
     },
     "metadata": {},
     "output_type": "display_data"
    },
    {
     "data": {
      "application/vnd.jupyter.widget-view+json": {
       "model_id": "9a834c2fb734453c827819c14c4be54d",
       "version_major": 2,
       "version_minor": 0
      },
      "text/plain": [
       "aia_lev1_304a_2011_03_02t19_00_08_12z_image_lev1.fits:   0%|          | 0.00/9.85M [00:00<?, ?B/s]"
      ]
     },
     "metadata": {},
     "output_type": "display_data"
    },
    {
     "data": {
      "application/vnd.jupyter.widget-view+json": {
       "model_id": "3c8dd80afae44bc59101c4228981f217",
       "version_major": 2,
       "version_minor": 0
      },
      "text/plain": [
       "aia_lev1_304a_2011_03_02t20_00_08_13z_image_lev1.fits:   0%|          | 0.00/9.87M [00:00<?, ?B/s]"
      ]
     },
     "metadata": {},
     "output_type": "display_data"
    },
    {
     "data": {
      "application/vnd.jupyter.widget-view+json": {
       "model_id": "555302c82c2b498d9dc6f43c74c53b5e",
       "version_major": 2,
       "version_minor": 0
      },
      "text/plain": [
       "aia_lev1_304a_2011_03_02t16_00_08_12z_image_lev1.fits:   0%|          | 0.00/9.80M [00:00<?, ?B/s]"
      ]
     },
     "metadata": {},
     "output_type": "display_data"
    },
    {
     "data": {
      "application/vnd.jupyter.widget-view+json": {
       "model_id": "430de2664db442988f6cfdcc72a28e2c",
       "version_major": 2,
       "version_minor": 0
      },
      "text/plain": [
       "aia_lev1_304a_2011_03_02t21_00_00_51z_image_lev1.fits:   0%|          | 0.00/6.93M [00:00<?, ?B/s]"
      ]
     },
     "metadata": {},
     "output_type": "display_data"
    },
    {
     "data": {
      "application/vnd.jupyter.widget-view+json": {
       "model_id": "1004cc096729470d8d3c6aff118fb6e1",
       "version_major": 2,
       "version_minor": 0
      },
      "text/plain": [
       "aia_lev1_304a_2011_03_02t17_00_08_12z_image_lev1.fits:   0%|          | 0.00/9.83M [00:00<?, ?B/s]"
      ]
     },
     "metadata": {},
     "output_type": "display_data"
    },
    {
     "data": {
      "application/vnd.jupyter.widget-view+json": {
       "model_id": "66e8c2ba14cc4c3fbc42f3724473815e",
       "version_major": 2,
       "version_minor": 0
      },
      "text/plain": [
       "aia_lev1_304a_2011_03_02t23_00_08_14z_image_lev1.fits:   0%|          | 0.00/9.85M [00:00<?, ?B/s]"
      ]
     },
     "metadata": {},
     "output_type": "display_data"
    },
    {
     "data": {
      "application/vnd.jupyter.widget-view+json": {
       "model_id": "feb71316413d437db75832522c526e03",
       "version_major": 2,
       "version_minor": 0
      },
      "text/plain": [
       "aia_lev1_304a_2011_03_03t00_00_08_12z_image_lev1.fits:   0%|          | 0.00/9.82M [00:00<?, ?B/s]"
      ]
     },
     "metadata": {},
     "output_type": "display_data"
    },
    {
     "data": {
      "application/vnd.jupyter.widget-view+json": {
       "model_id": "ad3178baa3504813a9897ad7f9cccd88",
       "version_major": 2,
       "version_minor": 0
      },
      "text/plain": [
       "aia_lev1_304a_2011_03_02t22_00_08_14z_image_lev1.fits:   0%|          | 0.00/9.87M [00:00<?, ?B/s]"
      ]
     },
     "metadata": {},
     "output_type": "display_data"
    },
    {
     "name": "stdout",
     "output_type": "stream",
     "text": [
      "49/0 files failed to download. Please check `.errors` for details\n"
     ]
    }
   ],
   "source": [
    "files = Fido.fetch(unifresp, path='data_AIA/')"
   ]
  },
  {
   "cell_type": "code",
   "execution_count": null,
   "id": "3f9f3f26-47a8-4b5b-950a-034075d91d54",
   "metadata": {},
   "outputs": [],
   "source": []
  },
  {
   "cell_type": "code",
   "execution_count": null,
   "id": "e1c398d4-33d7-4750-bc24-728fdbf3704e",
   "metadata": {},
   "outputs": [],
   "source": []
  }
 ],
 "metadata": {
  "kernelspec": {
   "display_name": "Python 3 (ipykernel)",
   "language": "python",
   "name": "python3"
  },
  "language_info": {
   "codemirror_mode": {
    "name": "ipython",
    "version": 3
   },
   "file_extension": ".py",
   "mimetype": "text/x-python",
   "name": "python",
   "nbconvert_exporter": "python",
   "pygments_lexer": "ipython3",
   "version": "3.9.13"
  }
 },
 "nbformat": 4,
 "nbformat_minor": 5
}
