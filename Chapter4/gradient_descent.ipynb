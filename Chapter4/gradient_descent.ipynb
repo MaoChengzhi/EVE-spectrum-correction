{
 "cells": [
  {
   "cell_type": "code",
   "execution_count": 1,
   "id": "5f00e0e2-2a42-44ad-9820-af435874aef5",
   "metadata": {
    "tags": []
   },
   "outputs": [],
   "source": [
    "import numpy as np\n",
    "from scipy.optimize import minimize\n",
    "import time\n",
    "\n",
    "from error_function import error_function"
   ]
  },
  {
   "cell_type": "code",
   "execution_count": null,
   "id": "7c22d780-5801-421b-b9c4-5f4f9fb2fbe9",
   "metadata": {
    "scrolled": true,
    "tags": []
   },
   "outputs": [
    {
     "name": "stdout",
     "output_type": "stream",
     "text": [
      "Iteration 1: error_function([ 1.70e+03  8.19e-01 -1.30e-02]) = 1.9565008167689253e-06\n",
      "Iteration 2: error_function([ 1.70708333e+03  7.87583333e-01 -1.33430556e-02]) = 1.6613126039557828e-06\n",
      "Iteration 3: error_function([ 1.70708333e+03  7.87583333e-01 -1.33430556e-02]) = 1.6613126039557828e-06\n",
      "Iteration 4: error_function([ 1.69488426e+03  7.91856481e-01 -1.30772377e-02]) = 1.3336723773403828e-06\n",
      "Iteration 5: error_function([ 1.69403164e+03  8.06832562e-01 -1.30901106e-02]) = 1.28061451507353e-06\n",
      "Iteration 6: error_function([ 1.69403164e+03  8.06832562e-01 -1.30901106e-02]) = 1.28061451507353e-06\n",
      "Iteration 7: error_function([ 1.70754608e+03  7.91288623e-01 -1.32360690e-02]) = 1.2261456289824745e-06\n",
      "Iteration 8: error_function([ 1.70754608e+03  7.91288623e-01 -1.32360690e-02]) = 1.2261456289824745e-06\n",
      "Iteration 9: error_function([ 1.70754608e+03  7.91288623e-01 -1.32360690e-02]) = 1.2261456289824745e-06\n",
      "Iteration 10: error_function([ 1.68010501e+03  8.02664082e-01 -1.30957456e-02]) = 1.2254176052366049e-06\n",
      "Iteration 11: error_function([ 1.69353437e+03  8.01872742e-01 -1.31172171e-02]) = 1.2245978016951198e-06\n",
      "Iteration 12: error_function([ 1.69259435e+03  7.97697273e-01 -1.31254168e-02]) = 1.213846086254926e-06\n",
      "Iteration 13: error_function([ 1.69814533e+03  7.96016661e-01 -1.31744311e-02]) = 1.2138432360499547e-06\n",
      "Iteration 14: error_function([ 1.68743151e+03  8.00596487e-01 -1.31173837e-02]) = 1.2130833740699297e-06\n",
      "Iteration 15: error_function([ 1.68743151e+03  8.00596487e-01 -1.31173837e-02]) = 1.2130833740699297e-06\n",
      "Iteration 16: error_function([ 1.69274815e+03  7.98282179e-01 -1.31327021e-02]) = 1.2115744427579302e-06\n",
      "Iteration 17: error_function([ 1.69274815e+03  7.98282179e-01 -1.31327021e-02]) = 1.2115744427579302e-06\n",
      "Iteration 18: error_function([ 1.69274815e+03  7.98282179e-01 -1.31327021e-02]) = 1.2115744427579302e-06\n",
      "Iteration 19: error_function([ 1.69274815e+03  7.98282179e-01 -1.31327021e-02]) = 1.2115744427579302e-06\n",
      "Iteration 20: error_function([ 1.69179224e+03  7.99035467e-01 -1.31327843e-02]) = 1.2113289115854862e-06\n",
      "Iteration 21: error_function([ 1.69346298e+03  7.98369961e-01 -1.31411744e-02]) = 1.2112277212463435e-06\n",
      "Iteration 22: error_function([ 1.69346298e+03  7.98369961e-01 -1.31411744e-02]) = 1.2112277212463435e-06\n",
      "Iteration 23: error_function([ 1.69346298e+03  7.98369961e-01 -1.31411744e-02]) = 1.2112277212463435e-06\n",
      "Iteration 24: error_function([ 1.69346298e+03  7.98369961e-01 -1.31411744e-02]) = 1.2112277212463435e-06\n",
      "Iteration 25: error_function([ 1.69402304e+03  7.98108089e-01 -1.31412773e-02]) = 1.2112220498728998e-06\n",
      "Iteration 26: error_function([ 1.69520123e+03  7.96753952e-01 -1.31488033e-02]) = 1.2110809447838462e-06\n",
      "Iteration 27: error_function([ 1.69719721e+03  7.96587570e-01 -1.31604633e-02]) = 1.2110466629274985e-06\n",
      "Iteration 28: error_function([ 1.69949550e+03  7.94709689e-01 -1.31681951e-02]) = 1.210977804395407e-06\n",
      "Iteration 29: error_function([ 1.70384787e+03  7.91835033e-01 -1.31949071e-02]) = 1.2107885135596756e-06\n",
      "Iteration 30: error_function([ 1.71013813e+03  7.89624389e-01 -1.32259589e-02]) = 1.210471685500551e-06\n",
      "Iteration 31: error_function([ 1.71908708e+03  7.82993971e-01 -1.32681345e-02]) = 1.2101420565687186e-06\n",
      "Iteration 32: error_function([ 1.71908708e+03  7.82993971e-01 -1.32681345e-02]) = 1.2101420565687186e-06\n",
      "Iteration 33: error_function([ 1.73067108e+03  7.77638922e-01 -1.33285810e-02]) = 1.2099601897769134e-06\n",
      "Iteration 34: error_function([ 1.73067108e+03  7.77638922e-01 -1.33285810e-02]) = 1.2099601897769134e-06\n",
      "Iteration 35: error_function([ 1.73067108e+03  7.77638922e-01 -1.33285810e-02]) = 1.2099601897769134e-06\n",
      "Iteration 36: error_function([ 1.73887385e+03  7.71372725e-01 -1.33694273e-02]) = 1.2099479208240305e-06\n",
      "Iteration 37: error_function([ 1.73887385e+03  7.71372725e-01 -1.33694273e-02]) = 1.2099479208240305e-06\n",
      "Iteration 38: error_function([ 1.73887385e+03  7.71372725e-01 -1.33694273e-02]) = 1.2099479208240305e-06\n",
      "Iteration 39: error_function([ 1.73450988e+03  7.74562112e-01 -1.33462441e-02]) = 1.2099395039564077e-06\n",
      "Iteration 40: error_function([ 1.73444445e+03  7.74961316e-01 -1.33471185e-02]) = 1.209930143682758e-06\n",
      "Iteration 41: error_function([ 1.73444445e+03  7.74961316e-01 -1.33471185e-02]) = 1.209930143682758e-06\n",
      "Iteration 42: error_function([ 1.73603194e+03  7.73331569e-01 -1.33548124e-02]) = 1.2099297882269094e-06\n",
      "Iteration 43: error_function([ 1.73603194e+03  7.73331569e-01 -1.33548124e-02]) = 1.2099297882269094e-06\n",
      "Iteration 44: error_function([ 1.73556352e+03  7.74033569e-01 -1.33520361e-02]) = 1.2099273220531444e-06\n",
      "Iteration 45: error_function([ 1.73556352e+03  7.74033569e-01 -1.33520361e-02]) = 1.2099273220531444e-06\n",
      "Iteration 46: error_function([ 1.73538161e+03  7.74235765e-01 -1.33516070e-02]) = 1.2099266390571167e-06\n",
      "Iteration 47: error_function([ 1.73624211e+03  7.74771700e-01 -1.33554563e-02]) = 1.2099216634447147e-06\n",
      "Iteration 48: error_function([ 1.73624211e+03  7.74771700e-01 -1.33554563e-02]) = 1.2099216634447147e-06\n",
      "Iteration 49: error_function([ 1.73459398e+03  7.76468846e-01 -1.33476193e-02]) = 1.2099191306776482e-06\n",
      "Iteration 50: error_function([ 1.73459398e+03  7.76468846e-01 -1.33476193e-02]) = 1.2099191306776482e-06\n",
      "Iteration 51: error_function([ 1.73721549e+03  7.77127121e-01 -1.33606812e-02]) = 1.209910984867973e-06\n",
      "Iteration 52: error_function([ 1.73721549e+03  7.77127121e-01 -1.33606812e-02]) = 1.209910984867973e-06\n",
      "Iteration 53: error_function([ 1.73721549e+03  7.77127121e-01 -1.33606812e-02]) = 1.209910984867973e-06\n",
      "Iteration 54: error_function([ 1.73669331e+03  7.79046598e-01 -1.33578111e-02]) = 1.20990783439449e-06\n",
      "Iteration 55: error_function([ 1.73669331e+03  7.79046598e-01 -1.33578111e-02]) = 1.20990783439449e-06\n",
      "Iteration 56: error_function([ 1.73669331e+03  7.79046598e-01 -1.33578111e-02]) = 1.20990783439449e-06\n",
      "Iteration 57: error_function([ 1.73669331e+03  7.79046598e-01 -1.33578111e-02]) = 1.20990783439449e-06\n",
      "Iteration 58: error_function([ 1.73669331e+03  7.79046598e-01 -1.33578111e-02]) = 1.20990783439449e-06\n",
      "Iteration 59: error_function([ 1.73762549e+03  7.79540706e-01 -1.33627070e-02]) = 1.209907779387974e-06\n",
      "Iteration 60: error_function([ 1.73804543e+03  7.79946880e-01 -1.33646959e-02]) = 1.2099075761854375e-06\n",
      "Iteration 61: error_function([ 1.73692998e+03  7.79779405e-01 -1.33590877e-02]) = 1.209907350223158e-06\n",
      "Iteration 62: error_function([ 1.73711347e+03  7.79401131e-01 -1.33599873e-02]) = 1.2099072820893342e-06\n",
      "Iteration 63: error_function([ 1.73711347e+03  7.79401131e-01 -1.33599873e-02]) = 1.2099072820893342e-06\n",
      "Iteration 64: error_function([ 1.73756857e+03  7.79802422e-01 -1.33622824e-02]) = 1.2099072504445999e-06\n",
      "Iteration 65: error_function([ 1.73756857e+03  7.79802422e-01 -1.33622824e-02]) = 1.2099072504445999e-06\n",
      "Iteration 66: error_function([ 1.73728381e+03  7.79566359e-01 -1.33608743e-02]) = 1.2099072500162184e-06\n",
      "Iteration 67: error_function([ 1.73721835e+03  7.79549116e-01 -1.33605216e-02]) = 1.2099072406620618e-06\n",
      "Iteration 68: error_function([ 1.73723709e+03  7.79680910e-01 -1.33606184e-02]) = 1.2099072343587481e-06\n",
      "Iteration 69: error_function([ 1.73740749e+03  7.79700608e-01 -1.33614769e-02]) = 1.2099072275095485e-06\n",
      "Iteration 70: error_function([ 1.73728956e+03  7.79682137e-01 -1.33608713e-02]) = 1.2099072254444682e-06\n",
      "Iteration 71: error_function([ 1.73728956e+03  7.79682137e-01 -1.33608713e-02]) = 1.2099072254444682e-06\n",
      "Iteration 72: error_function([ 1.73740419e+03  7.79653254e-01 -1.33614505e-02]) = 1.2099072220520961e-06\n",
      "Iteration 73: error_function([ 1.73731597e+03  7.79648583e-01 -1.33610107e-02]) = 1.2099072189713344e-06\n",
      "Iteration 74: error_function([ 1.73737203e+03  7.79680967e-01 -1.33612939e-02]) = 1.2099072110772414e-06\n",
      "Iteration 75: error_function([ 1.73737203e+03  7.79680967e-01 -1.33612939e-02]) = 1.2099072110772414e-06\n",
      "Iteration 76: error_function([ 1.73737203e+03  7.79680967e-01 -1.33612939e-02]) = 1.2099072110772414e-06\n",
      "Iteration 77: error_function([ 1.73737203e+03  7.79680967e-01 -1.33612939e-02]) = 1.2099072110772414e-06\n",
      "Iteration 78: error_function([ 1.73737203e+03  7.79680967e-01 -1.33612939e-02]) = 1.2099072110772414e-06\n",
      "Iteration 79: error_function([ 1.73737203e+03  7.79680967e-01 -1.33612939e-02]) = 1.2099072110772414e-06\n",
      "Iteration 80: error_function([ 1.73737203e+03  7.79680967e-01 -1.33612939e-02]) = 1.2099072110772414e-06\n",
      "Iteration 81: error_function([ 1.73737203e+03  7.79680967e-01 -1.33612939e-02]) = 1.2099072110772414e-06\n",
      "Iteration 82: error_function([ 1.73737203e+03  7.79680967e-01 -1.33612939e-02]) = 1.2099072110772414e-06\n",
      "Iteration 83: error_function([ 1.73736957e+03  7.79682909e-01 -1.33612811e-02]) = 1.2099072064991823e-06\n",
      "Iteration 84: error_function([ 1.73736957e+03  7.79682909e-01 -1.33612811e-02]) = 1.2099072064991823e-06\n",
      "Iteration 85: error_function([ 1.73736957e+03  7.79682909e-01 -1.33612811e-02]) = 1.2099072064991823e-06\n"
     ]
    }
   ],
   "source": [
    "# define initial values of a, b, c\n",
    "x0 = np.array([ 1.7e+03,  7.8e-01, -1.3e-02])\n",
    "#([886.81, 0.91002, 0])\n",
    "\n",
    "# define a callback function to track the optimization process\n",
    "def callback(x):\n",
    "    global num_evals\n",
    "    num_evals += 1\n",
    "    print(f\"Iteration {num_evals}: error_function({x}) = {error_function(x)}\")\n",
    "\n",
    "num_evals = 0\n",
    "# minimize f using L-BFGS\n",
    "result = minimize(error_function, x0, callback=callback,options={'maxiter': 1000},\n",
    "                        method='Nelder-Mead')\n",
    "\n",
    "# print the optimal values of a, b, c\n",
    "print(f\"Optimal values: {result.x}\")"
   ]
  },
  {
   "cell_type": "code",
   "execution_count": 5,
   "id": "5824f095-2b95-4cb8-9eb3-3e350c7d13b7",
   "metadata": {
    "tags": []
   },
   "outputs": [
    {
     "data": {
      "text/plain": [
       "      fun: 1.6490678816502262e-06\n",
       " hess_inv: array([[1, 0, 0],\n",
       "       [0, 1, 0],\n",
       "       [0, 0, 1]])\n",
       "      jac: array([-1.00983755e-09,  7.79864564e-08,  2.31767640e-06])\n",
       "  message: 'Optimization terminated successfully.'\n",
       "     nfev: 4\n",
       "      nit: 0\n",
       "     njev: 1\n",
       "   status: 0\n",
       "  success: True\n",
       "        x: array([ 8.86809998e+02,  9.10021019e-01, -9.01567106e-03])"
      ]
     },
     "execution_count": 5,
     "metadata": {},
     "output_type": "execute_result"
    }
   ],
   "source": [
    "result"
   ]
  },
  {
   "cell_type": "code",
   "execution_count": 6,
   "id": "128d01c5-477e-400f-b5f6-dc597845e90d",
   "metadata": {},
   "outputs": [],
   "source": [
    "# Optimal values: [ 8.86809998e+02  9.10021019e-01 -9.01567106e-03]"
   ]
  },
  {
   "cell_type": "code",
   "execution_count": null,
   "id": "2984c86c",
   "metadata": {},
   "outputs": [],
   "source": []
  }
 ],
 "metadata": {
  "kernelspec": {
   "display_name": "py_begin_env",
   "language": "python",
   "name": "py_begin"
  },
  "language_info": {
   "codemirror_mode": {
    "name": "ipython",
    "version": 3
   },
   "file_extension": ".py",
   "mimetype": "text/x-python",
   "name": "python",
   "nbconvert_exporter": "python",
   "pygments_lexer": "ipython3",
   "version": "3.9.13"
  }
 },
 "nbformat": 4,
 "nbformat_minor": 5
}
