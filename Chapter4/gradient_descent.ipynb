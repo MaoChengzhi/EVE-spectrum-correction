{
 "cells": [
  {
   "cell_type": "code",
   "execution_count": 1,
   "id": "5f00e0e2-2a42-44ad-9820-af435874aef5",
   "metadata": {
    "tags": []
   },
   "outputs": [
    {
     "name": "stderr",
     "output_type": "stream",
     "text": [
      "C:\\Users\\14902\\anaconda3\\envs\\sdo2022\\lib\\site-packages\\tqdm\\auto.py:21: TqdmWarning: IProgress not found. Please update jupyter and ipywidgets. See https://ipywidgets.readthedocs.io/en/stable/user_install.html\n",
      "  from .autonotebook import tqdm as notebook_tqdm\n"
     ]
    }
   ],
   "source": [
    "import numpy as np\n",
    "from scipy.optimize import minimize\n",
    "import time\n",
    "\n",
    "from data_process.error_function import error_function"
   ]
  },
  {
   "cell_type": "code",
   "execution_count": 2,
   "id": "f4ce5fa1-0790-49ee-83ef-6eab2e65376f",
   "metadata": {},
   "outputs": [
    {
     "name": "stdout",
     "output_type": "stream",
     "text": [
      "0 0 0\n"
     ]
    },
    {
     "data": {
      "text/plain": [
       "92269.97403156807"
      ]
     },
     "execution_count": 2,
     "metadata": {},
     "output_type": "execute_result"
    }
   ],
   "source": [
    "error_function([0,0,0])"
   ]
  },
  {
   "cell_type": "code",
   "execution_count": 3,
   "id": "c724a08c-fd2c-410e-8947-0d6443ff1f63",
   "metadata": {},
   "outputs": [
    {
     "data": {
      "text/plain": [
       "22988.391137767474"
      ]
     },
     "execution_count": 3,
     "metadata": {},
     "output_type": "execute_result"
    }
   ],
   "source": [
    "error_function([0,0,100])"
   ]
  },
  {
   "cell_type": "code",
   "execution_count": null,
   "id": "7c22d780-5801-421b-b9c4-5f4f9fb2fbe9",
   "metadata": {
    "scrolled": true,
    "tags": []
   },
   "outputs": [
    {
     "name": "stdout",
     "output_type": "stream",
     "text": [
      "Iteration 1: error_function([ 1.70e+03  8.19e-01 -1.30e-02]) = 1.9565008167689253e-06\n",
      "Iteration 2: error_function([ 1.70708333e+03  7.87583333e-01 -1.33430556e-02]) = 1.6613126039557828e-06\n",
      "Iteration 3: error_function([ 1.70708333e+03  7.87583333e-01 -1.33430556e-02]) = 1.6613126039557828e-06\n",
      "Iteration 4: error_function([ 1.69488426e+03  7.91856481e-01 -1.30772377e-02]) = 1.3336723773403828e-06\n",
      "Iteration 5: error_function([ 1.69403164e+03  8.06832562e-01 -1.30901106e-02]) = 1.28061451507353e-06\n",
      "Iteration 6: error_function([ 1.69403164e+03  8.06832562e-01 -1.30901106e-02]) = 1.28061451507353e-06\n",
      "Iteration 7: error_function([ 1.70754608e+03  7.91288623e-01 -1.32360690e-02]) = 1.2261456289824745e-06\n",
      "Iteration 8: error_function([ 1.70754608e+03  7.91288623e-01 -1.32360690e-02]) = 1.2261456289824745e-06\n",
      "Iteration 9: error_function([ 1.70754608e+03  7.91288623e-01 -1.32360690e-02]) = 1.2261456289824745e-06\n",
      "Iteration 10: error_function([ 1.68010501e+03  8.02664082e-01 -1.30957456e-02]) = 1.2254176052366049e-06\n",
      "Iteration 11: error_function([ 1.69353437e+03  8.01872742e-01 -1.31172171e-02]) = 1.2245978016951198e-06\n",
      "Iteration 12: error_function([ 1.69259435e+03  7.97697273e-01 -1.31254168e-02]) = 1.213846086254926e-06\n",
      "Iteration 13: error_function([ 1.69814533e+03  7.96016661e-01 -1.31744311e-02]) = 1.2138432360499547e-06\n",
      "Iteration 14: error_function([ 1.68743151e+03  8.00596487e-01 -1.31173837e-02]) = 1.2130833740699297e-06\n",
      "Iteration 15: error_function([ 1.68743151e+03  8.00596487e-01 -1.31173837e-02]) = 1.2130833740699297e-06\n",
      "Iteration 16: error_function([ 1.69274815e+03  7.98282179e-01 -1.31327021e-02]) = 1.2115744427579302e-06\n",
      "Iteration 17: error_function([ 1.69274815e+03  7.98282179e-01 -1.31327021e-02]) = 1.2115744427579302e-06\n",
      "Iteration 18: error_function([ 1.69274815e+03  7.98282179e-01 -1.31327021e-02]) = 1.2115744427579302e-06\n",
      "Iteration 19: error_function([ 1.69274815e+03  7.98282179e-01 -1.31327021e-02]) = 1.2115744427579302e-06\n",
      "Iteration 20: error_function([ 1.69179224e+03  7.99035467e-01 -1.31327843e-02]) = 1.2113289115854862e-06\n",
      "Iteration 21: error_function([ 1.69346298e+03  7.98369961e-01 -1.31411744e-02]) = 1.2112277212463435e-06\n",
      "Iteration 22: error_function([ 1.69346298e+03  7.98369961e-01 -1.31411744e-02]) = 1.2112277212463435e-06\n",
      "Iteration 23: error_function([ 1.69346298e+03  7.98369961e-01 -1.31411744e-02]) = 1.2112277212463435e-06\n",
      "Iteration 24: error_function([ 1.69346298e+03  7.98369961e-01 -1.31411744e-02]) = 1.2112277212463435e-06\n",
      "Iteration 25: error_function([ 1.69402304e+03  7.98108089e-01 -1.31412773e-02]) = 1.2112220498728998e-06\n",
      "Iteration 26: error_function([ 1.69520123e+03  7.96753952e-01 -1.31488033e-02]) = 1.2110809447838462e-06\n",
      "Iteration 27: error_function([ 1.69719721e+03  7.96587570e-01 -1.31604633e-02]) = 1.2110466629274985e-06\n",
      "Iteration 28: error_function([ 1.69949550e+03  7.94709689e-01 -1.31681951e-02]) = 1.210977804395407e-06\n",
      "Iteration 29: error_function([ 1.70384787e+03  7.91835033e-01 -1.31949071e-02]) = 1.2107885135596756e-06\n",
      "Iteration 30: error_function([ 1.71013813e+03  7.89624389e-01 -1.32259589e-02]) = 1.210471685500551e-06\n",
      "Iteration 31: error_function([ 1.71908708e+03  7.82993971e-01 -1.32681345e-02]) = 1.2101420565687186e-06\n",
      "Iteration 32: error_function([ 1.71908708e+03  7.82993971e-01 -1.32681345e-02]) = 1.2101420565687186e-06\n",
      "Iteration 33: error_function([ 1.73067108e+03  7.77638922e-01 -1.33285810e-02]) = 1.2099601897769134e-06\n",
      "Iteration 34: error_function([ 1.73067108e+03  7.77638922e-01 -1.33285810e-02]) = 1.2099601897769134e-06\n",
      "Iteration 35: error_function([ 1.73067108e+03  7.77638922e-01 -1.33285810e-02]) = 1.2099601897769134e-06\n",
      "Iteration 36: error_function([ 1.73887385e+03  7.71372725e-01 -1.33694273e-02]) = 1.2099479208240305e-06\n",
      "Iteration 37: error_function([ 1.73887385e+03  7.71372725e-01 -1.33694273e-02]) = 1.2099479208240305e-06\n",
      "Iteration 38: error_function([ 1.73887385e+03  7.71372725e-01 -1.33694273e-02]) = 1.2099479208240305e-06\n",
      "Iteration 39: error_function([ 1.73450988e+03  7.74562112e-01 -1.33462441e-02]) = 1.2099395039564077e-06\n",
      "Iteration 40: error_function([ 1.73444445e+03  7.74961316e-01 -1.33471185e-02]) = 1.209930143682758e-06\n",
      "Iteration 41: error_function([ 1.73444445e+03  7.74961316e-01 -1.33471185e-02]) = 1.209930143682758e-06\n",
      "Iteration 42: error_function([ 1.73603194e+03  7.73331569e-01 -1.33548124e-02]) = 1.2099297882269094e-06\n",
      "Iteration 43: error_function([ 1.73603194e+03  7.73331569e-01 -1.33548124e-02]) = 1.2099297882269094e-06\n",
      "Iteration 44: error_function([ 1.73556352e+03  7.74033569e-01 -1.33520361e-02]) = 1.2099273220531444e-06\n",
      "Iteration 45: error_function([ 1.73556352e+03  7.74033569e-01 -1.33520361e-02]) = 1.2099273220531444e-06\n",
      "Iteration 46: error_function([ 1.73538161e+03  7.74235765e-01 -1.33516070e-02]) = 1.2099266390571167e-06\n",
      "Iteration 47: error_function([ 1.73624211e+03  7.74771700e-01 -1.33554563e-02]) = 1.2099216634447147e-06\n",
      "Iteration 48: error_function([ 1.73624211e+03  7.74771700e-01 -1.33554563e-02]) = 1.2099216634447147e-06\n",
      "Iteration 49: error_function([ 1.73459398e+03  7.76468846e-01 -1.33476193e-02]) = 1.2099191306776482e-06\n",
      "Iteration 50: error_function([ 1.73459398e+03  7.76468846e-01 -1.33476193e-02]) = 1.2099191306776482e-06\n",
      "Iteration 51: error_function([ 1.73721549e+03  7.77127121e-01 -1.33606812e-02]) = 1.209910984867973e-06\n",
      "Iteration 52: error_function([ 1.73721549e+03  7.77127121e-01 -1.33606812e-02]) = 1.209910984867973e-06\n",
      "Iteration 53: error_function([ 1.73721549e+03  7.77127121e-01 -1.33606812e-02]) = 1.209910984867973e-06\n",
      "Iteration 54: error_function([ 1.73669331e+03  7.79046598e-01 -1.33578111e-02]) = 1.20990783439449e-06\n",
      "Iteration 55: error_function([ 1.73669331e+03  7.79046598e-01 -1.33578111e-02]) = 1.20990783439449e-06\n",
      "Iteration 56: error_function([ 1.73669331e+03  7.79046598e-01 -1.33578111e-02]) = 1.20990783439449e-06\n",
      "Iteration 57: error_function([ 1.73669331e+03  7.79046598e-01 -1.33578111e-02]) = 1.20990783439449e-06\n",
      "Iteration 58: error_function([ 1.73669331e+03  7.79046598e-01 -1.33578111e-02]) = 1.20990783439449e-06\n",
      "Iteration 59: error_function([ 1.73762549e+03  7.79540706e-01 -1.33627070e-02]) = 1.209907779387974e-06\n",
      "Iteration 60: error_function([ 1.73804543e+03  7.79946880e-01 -1.33646959e-02]) = 1.2099075761854375e-06\n",
      "Iteration 61: error_function([ 1.73692998e+03  7.79779405e-01 -1.33590877e-02]) = 1.209907350223158e-06\n",
      "Iteration 62: error_function([ 1.73711347e+03  7.79401131e-01 -1.33599873e-02]) = 1.2099072820893342e-06\n",
      "Iteration 63: error_function([ 1.73711347e+03  7.79401131e-01 -1.33599873e-02]) = 1.2099072820893342e-06\n",
      "Iteration 64: error_function([ 1.73756857e+03  7.79802422e-01 -1.33622824e-02]) = 1.2099072504445999e-06\n",
      "Iteration 65: error_function([ 1.73756857e+03  7.79802422e-01 -1.33622824e-02]) = 1.2099072504445999e-06\n",
      "Iteration 66: error_function([ 1.73728381e+03  7.79566359e-01 -1.33608743e-02]) = 1.2099072500162184e-06\n",
      "Iteration 67: error_function([ 1.73721835e+03  7.79549116e-01 -1.33605216e-02]) = 1.2099072406620618e-06\n",
      "Iteration 68: error_function([ 1.73723709e+03  7.79680910e-01 -1.33606184e-02]) = 1.2099072343587481e-06\n",
      "Iteration 69: error_function([ 1.73740749e+03  7.79700608e-01 -1.33614769e-02]) = 1.2099072275095485e-06\n",
      "Iteration 70: error_function([ 1.73728956e+03  7.79682137e-01 -1.33608713e-02]) = 1.2099072254444682e-06\n",
      "Iteration 71: error_function([ 1.73728956e+03  7.79682137e-01 -1.33608713e-02]) = 1.2099072254444682e-06\n",
      "Iteration 72: error_function([ 1.73740419e+03  7.79653254e-01 -1.33614505e-02]) = 1.2099072220520961e-06\n",
      "Iteration 73: error_function([ 1.73731597e+03  7.79648583e-01 -1.33610107e-02]) = 1.2099072189713344e-06\n",
      "Iteration 74: error_function([ 1.73737203e+03  7.79680967e-01 -1.33612939e-02]) = 1.2099072110772414e-06\n",
      "Iteration 75: error_function([ 1.73737203e+03  7.79680967e-01 -1.33612939e-02]) = 1.2099072110772414e-06\n",
      "Iteration 76: error_function([ 1.73737203e+03  7.79680967e-01 -1.33612939e-02]) = 1.2099072110772414e-06\n",
      "Iteration 77: error_function([ 1.73737203e+03  7.79680967e-01 -1.33612939e-02]) = 1.2099072110772414e-06\n",
      "Iteration 78: error_function([ 1.73737203e+03  7.79680967e-01 -1.33612939e-02]) = 1.2099072110772414e-06\n",
      "Iteration 79: error_function([ 1.73737203e+03  7.79680967e-01 -1.33612939e-02]) = 1.2099072110772414e-06\n",
      "Iteration 80: error_function([ 1.73737203e+03  7.79680967e-01 -1.33612939e-02]) = 1.2099072110772414e-06\n",
      "Iteration 81: error_function([ 1.73737203e+03  7.79680967e-01 -1.33612939e-02]) = 1.2099072110772414e-06\n",
      "Iteration 82: error_function([ 1.73737203e+03  7.79680967e-01 -1.33612939e-02]) = 1.2099072110772414e-06\n",
      "Iteration 83: error_function([ 1.73736957e+03  7.79682909e-01 -1.33612811e-02]) = 1.2099072064991823e-06\n",
      "Iteration 84: error_function([ 1.73736957e+03  7.79682909e-01 -1.33612811e-02]) = 1.2099072064991823e-06\n",
      "Iteration 85: error_function([ 1.73736957e+03  7.79682909e-01 -1.33612811e-02]) = 1.2099072064991823e-06\n"
     ]
    }
   ],
   "source": [
    "# define initial values of a, b, c\n",
    "x0 = np.array([ 1.7e+03,  7.8e-01, -1.3e-02])\n",
    "#([886.81, 0.91002, 0])\n",
    "\n",
    "# define a callback function to track the optimization process\n",
    "def callback(x):\n",
    "    global num_evals\n",
    "    num_evals += 1\n",
    "    print(f\"Iteration {num_evals}: error_function({x}) = {error_function(x)}\")\n",
    "\n",
    "num_evals = 0\n",
    "# minimize f using L-BFGS\n",
    "result = minimize(error_function, x0, callback=callback,options={'maxiter': 1000},\n",
    "                        method='Nelder-Mead')\n",
    "\n",
    "# print the optimal values of a, b, c\n",
    "print(f\"Optimal values: {result.x}\")"
   ]
  },
  {
   "cell_type": "code",
   "execution_count": 5,
   "id": "5824f095-2b95-4cb8-9eb3-3e350c7d13b7",
   "metadata": {
    "tags": []
   },
   "outputs": [
    {
     "data": {
      "text/plain": [
       "      fun: 1.6490678816502262e-06\n",
       " hess_inv: array([[1, 0, 0],\n",
       "       [0, 1, 0],\n",
       "       [0, 0, 1]])\n",
       "      jac: array([-1.00983755e-09,  7.79864564e-08,  2.31767640e-06])\n",
       "  message: 'Optimization terminated successfully.'\n",
       "     nfev: 4\n",
       "      nit: 0\n",
       "     njev: 1\n",
       "   status: 0\n",
       "  success: True\n",
       "        x: array([ 8.86809998e+02,  9.10021019e-01, -9.01567106e-03])"
      ]
     },
     "execution_count": 5,
     "metadata": {},
     "output_type": "execute_result"
    }
   ],
   "source": [
    "result"
   ]
  },
  {
   "cell_type": "code",
   "execution_count": 4,
   "id": "128d01c5-477e-400f-b5f6-dc597845e90d",
   "metadata": {
    "collapsed": true,
    "jupyter": {
     "outputs_hidden": true
    },
    "tags": []
   },
   "outputs": [
    {
     "name": "stdout",
     "output_type": "stream",
     "text": [
      "Iteration 1: error_function([8.4e+02 8.1e-01 2.5e-04]) = 23056.70878502008\n",
      "Iteration 2: error_function([8.8e+02 8.1e-01 5.0e-04]) = 23055.98888928614\n"
     ]
    },
    {
     "ename": "KeyboardInterrupt",
     "evalue": "",
     "output_type": "error",
     "traceback": [
      "\u001b[1;31m---------------------------------------------------------------------------\u001b[0m",
      "\u001b[1;31mKeyboardInterrupt\u001b[0m                         Traceback (most recent call last)",
      "Cell \u001b[1;32mIn[4], line 13\u001b[0m\n\u001b[0;32m     11\u001b[0m num_evals \u001b[38;5;241m=\u001b[39m \u001b[38;5;241m0\u001b[39m\n\u001b[0;32m     12\u001b[0m \u001b[38;5;66;03m# minimize f using L-BFGS\u001b[39;00m\n\u001b[1;32m---> 13\u001b[0m result \u001b[38;5;241m=\u001b[39m \u001b[43mminimize\u001b[49m\u001b[43m(\u001b[49m\u001b[43merror_function\u001b[49m\u001b[43m,\u001b[49m\u001b[43m \u001b[49m\u001b[43mx0\u001b[49m\u001b[43m,\u001b[49m\u001b[43m \u001b[49m\u001b[43mcallback\u001b[49m\u001b[38;5;241;43m=\u001b[39;49m\u001b[43mcallback\u001b[49m\u001b[43m,\u001b[49m\u001b[43moptions\u001b[49m\u001b[38;5;241;43m=\u001b[39;49m\u001b[43m{\u001b[49m\u001b[38;5;124;43m'\u001b[39;49m\u001b[38;5;124;43mmaxiter\u001b[39;49m\u001b[38;5;124;43m'\u001b[39;49m\u001b[43m:\u001b[49m\u001b[43m \u001b[49m\u001b[38;5;241;43m1000\u001b[39;49m\u001b[43m}\u001b[49m\u001b[43m,\u001b[49m\n\u001b[0;32m     14\u001b[0m \u001b[43m                        \u001b[49m\u001b[43mmethod\u001b[49m\u001b[38;5;241;43m=\u001b[39;49m\u001b[38;5;124;43m'\u001b[39;49m\u001b[38;5;124;43mNelder-Mead\u001b[39;49m\u001b[38;5;124;43m'\u001b[39;49m\u001b[43m)\u001b[49m\n\u001b[0;32m     16\u001b[0m \u001b[38;5;66;03m# print the optimal values of a, b, c\u001b[39;00m\n\u001b[0;32m     17\u001b[0m \u001b[38;5;28mprint\u001b[39m(\u001b[38;5;124mf\u001b[39m\u001b[38;5;124m\"\u001b[39m\u001b[38;5;124mOptimal values: \u001b[39m\u001b[38;5;132;01m{\u001b[39;00mresult\u001b[38;5;241m.\u001b[39mx\u001b[38;5;132;01m}\u001b[39;00m\u001b[38;5;124m\"\u001b[39m )\n",
      "File \u001b[1;32m~\\anaconda3\\envs\\sdo2022\\lib\\site-packages\\scipy\\optimize\\_minimize.py:684\u001b[0m, in \u001b[0;36mminimize\u001b[1;34m(fun, x0, args, method, jac, hess, hessp, bounds, constraints, tol, callback, options)\u001b[0m\n\u001b[0;32m    681\u001b[0m     bounds \u001b[38;5;241m=\u001b[39m standardize_bounds(bounds, x0, meth)\n\u001b[0;32m    683\u001b[0m \u001b[38;5;28;01mif\u001b[39;00m meth \u001b[38;5;241m==\u001b[39m \u001b[38;5;124m'\u001b[39m\u001b[38;5;124mnelder-mead\u001b[39m\u001b[38;5;124m'\u001b[39m:\n\u001b[1;32m--> 684\u001b[0m     res \u001b[38;5;241m=\u001b[39m _minimize_neldermead(fun, x0, args, callback, bounds\u001b[38;5;241m=\u001b[39mbounds,\n\u001b[0;32m    685\u001b[0m                                \u001b[38;5;241m*\u001b[39m\u001b[38;5;241m*\u001b[39moptions)\n\u001b[0;32m    686\u001b[0m \u001b[38;5;28;01melif\u001b[39;00m meth \u001b[38;5;241m==\u001b[39m \u001b[38;5;124m'\u001b[39m\u001b[38;5;124mpowell\u001b[39m\u001b[38;5;124m'\u001b[39m:\n\u001b[0;32m    687\u001b[0m     res \u001b[38;5;241m=\u001b[39m _minimize_powell(fun, x0, args, callback, bounds, \u001b[38;5;241m*\u001b[39m\u001b[38;5;241m*\u001b[39moptions)\n",
      "File \u001b[1;32m~\\anaconda3\\envs\\sdo2022\\lib\\site-packages\\scipy\\optimize\\_optimize.py:930\u001b[0m, in \u001b[0;36m_minimize_neldermead\u001b[1;34m(func, x0, args, callback, maxiter, maxfev, disp, return_all, initial_simplex, xatol, fatol, adaptive, bounds, **unknown_options)\u001b[0m\n\u001b[0;32m    928\u001b[0m fsim \u001b[38;5;241m=\u001b[39m np\u001b[38;5;241m.\u001b[39mtake(fsim, ind, \u001b[38;5;241m0\u001b[39m)\n\u001b[0;32m    929\u001b[0m \u001b[38;5;28;01mif\u001b[39;00m callback \u001b[38;5;129;01mis\u001b[39;00m \u001b[38;5;129;01mnot\u001b[39;00m \u001b[38;5;28;01mNone\u001b[39;00m:\n\u001b[1;32m--> 930\u001b[0m     \u001b[43mcallback\u001b[49m\u001b[43m(\u001b[49m\u001b[43msim\u001b[49m\u001b[43m[\u001b[49m\u001b[38;5;241;43m0\u001b[39;49m\u001b[43m]\u001b[49m\u001b[43m)\u001b[49m\n\u001b[0;32m    931\u001b[0m \u001b[38;5;28;01mif\u001b[39;00m retall:\n\u001b[0;32m    932\u001b[0m     allvecs\u001b[38;5;241m.\u001b[39mappend(sim[\u001b[38;5;241m0\u001b[39m])\n",
      "Cell \u001b[1;32mIn[4], line 9\u001b[0m, in \u001b[0;36mcallback\u001b[1;34m(x)\u001b[0m\n\u001b[0;32m      7\u001b[0m \u001b[38;5;28;01mglobal\u001b[39;00m num_evals\n\u001b[0;32m      8\u001b[0m num_evals \u001b[38;5;241m+\u001b[39m\u001b[38;5;241m=\u001b[39m \u001b[38;5;241m1\u001b[39m\n\u001b[1;32m----> 9\u001b[0m \u001b[38;5;28mprint\u001b[39m(\u001b[38;5;124mf\u001b[39m\u001b[38;5;124m\"\u001b[39m\u001b[38;5;124mIteration \u001b[39m\u001b[38;5;132;01m{\u001b[39;00mnum_evals\u001b[38;5;132;01m}\u001b[39;00m\u001b[38;5;124m: error_function(\u001b[39m\u001b[38;5;132;01m{\u001b[39;00mx\u001b[38;5;132;01m}\u001b[39;00m\u001b[38;5;124m) = \u001b[39m\u001b[38;5;132;01m{\u001b[39;00m\u001b[43merror_function\u001b[49m\u001b[43m(\u001b[49m\u001b[43mx\u001b[49m\u001b[43m)\u001b[49m\u001b[38;5;132;01m}\u001b[39;00m\u001b[38;5;124m\"\u001b[39m)\n",
      "File \u001b[1;32mD:\\py_repo\\EVE-spectrum-correction\\Chapter4\\data_process\\error_function.py:22\u001b[0m, in \u001b[0;36merror_function\u001b[1;34m(temp_array)\u001b[0m\n\u001b[0;32m     19\u001b[0m eve_frame\u001b[38;5;241m=\u001b[39meve_frame\u001b[38;5;241m.\u001b[39mset_index(\u001b[38;5;124m'\u001b[39m\u001b[38;5;124mdate\u001b[39m\u001b[38;5;124m'\u001b[39m)\n\u001b[0;32m     21\u001b[0m \u001b[38;5;66;03m#%%\u001b[39;00m\n\u001b[1;32m---> 22\u001b[0m temp\u001b[38;5;241m=\u001b[39m\u001b[43mget_aia_simu\u001b[49m\u001b[43m(\u001b[49m\u001b[43ma\u001b[49m\u001b[43m,\u001b[49m\u001b[43md\u001b[49m\u001b[43m,\u001b[49m\u001b[43me\u001b[49m\u001b[43m)\u001b[49m\n\u001b[0;32m     24\u001b[0m aia_simu_data\u001b[38;5;241m=\u001b[39m{\n\u001b[0;32m     25\u001b[0m                \u001b[38;5;124m'\u001b[39m\u001b[38;5;124mdate\u001b[39m\u001b[38;5;124m'\u001b[39m:\u001b[38;5;28mlist\u001b[39m(temp\u001b[38;5;241m.\u001b[39mkeys()),\n\u001b[0;32m     26\u001b[0m                \u001b[38;5;124m'\u001b[39m\u001b[38;5;124mdaily_mean\u001b[39m\u001b[38;5;124m'\u001b[39m:\u001b[38;5;28mlist\u001b[39m(temp\u001b[38;5;241m.\u001b[39mvalues()),\n\u001b[0;32m     27\u001b[0m                 }\n\u001b[0;32m     29\u001b[0m aia_frame\u001b[38;5;241m=\u001b[39mpd\u001b[38;5;241m.\u001b[39mDataFrame(aia_simu_data)\n",
      "File \u001b[1;32mD:\\py_repo\\EVE-spectrum-correction\\Chapter4\\data_process\\aia_part\\get_aia_simu.py:41\u001b[0m, in \u001b[0;36mget_aia_simu\u001b[1;34m(a, d, e)\u001b[0m\n\u001b[0;32m     38\u001b[0m \u001b[38;5;28;01mfor\u001b[39;00m i \u001b[38;5;129;01min\u001b[39;00m \u001b[38;5;28mrange\u001b[39m(\u001b[38;5;28mlen\u001b[39m(aia_adjusted_maps)):\n\u001b[0;32m     39\u001b[0m     irradiance[i] \u001b[38;5;241m=\u001b[39m calculate_DN_4096(aia_adjusted_maps[i], a, d,  e)\n\u001b[0;32m     40\u001b[0m     wavelength_correction[i] \u001b[38;5;241m=\u001b[39m gaussian_fit_aia(wavelength_list_aia,\n\u001b[1;32m---> 41\u001b[0m                                                 \u001b[43mirradiance\u001b[49m\u001b[43m[\u001b[49m\u001b[43mi\u001b[49m\u001b[43m]\u001b[49m\u001b[38;5;241;43m.\u001b[39;49m\u001b[43mget\u001b[49m\u001b[43m(\u001b[49m\u001b[43m)\u001b[49m)\n\u001b[0;32m     43\u001b[0m \u001b[38;5;66;03m# work out time_list\u001b[39;00m\n\u001b[0;32m     44\u001b[0m time_list \u001b[38;5;241m=\u001b[39m []\n",
      "\u001b[1;31mKeyboardInterrupt\u001b[0m: "
     ]
    }
   ],
   "source": [
    "# define initial values of a, d,e\n",
    "x0 = np.array([ 8e+02,  9e-01, 0])\n",
    "#([886.81, 0.91002, 0])\n",
    "\n",
    "# define a callback function to track the optimization process\n",
    "def callback(x):\n",
    "    global num_evals\n",
    "    num_evals += 1\n",
    "    print(f\"Iteration {num_evals}: error_function({x}) = {error_function(x)}\")\n",
    "\n",
    "num_evals = 0\n",
    "# minimize f using L-BFGS\n",
    "result = minimize(error_function, x0, callback=callback,options={'maxiter': 1000},\n",
    "                        method='Nelder-Mead')\n",
    "\n",
    "# print the optimal values of a, b, c\n",
    "print(f\"Optimal values: {result.x}\" )\n"
   ]
  },
  {
   "cell_type": "code",
   "execution_count": 3,
   "id": "2984c86c",
   "metadata": {},
   "outputs": [
    {
     "data": {
      "text/plain": [
       "22988.391137767474"
      ]
     },
     "execution_count": 3,
     "metadata": {},
     "output_type": "execute_result"
    }
   ],
   "source": [
    "error_function([0,0,-1])"
   ]
  },
  {
   "cell_type": "code",
   "execution_count": 7,
   "id": "597eb772-d254-4e99-9965-beeeb3abe628",
   "metadata": {},
   "outputs": [
    {
     "data": {
      "text/plain": [
       "22988.391137767474"
      ]
     },
     "execution_count": 7,
     "metadata": {},
     "output_type": "execute_result"
    }
   ],
   "source": [
    "error_function([0,0,-100])"
   ]
  },
  {
   "cell_type": "code",
   "execution_count": 8,
   "id": "c54701ba-9e37-423b-90d7-f7b05357b208",
   "metadata": {},
   "outputs": [
    {
     "data": {
      "text/plain": [
       "22988.391137767474"
      ]
     },
     "execution_count": 8,
     "metadata": {},
     "output_type": "execute_result"
    }
   ],
   "source": [
    "error_function([1,0,-1])"
   ]
  },
  {
   "cell_type": "code",
   "execution_count": 9,
   "id": "b00a4531-bc44-4606-863c-d97ca33e75a4",
   "metadata": {},
   "outputs": [
    {
     "data": {
      "text/plain": [
       "22988.391137767474"
      ]
     },
     "execution_count": 9,
     "metadata": {},
     "output_type": "execute_result"
    }
   ],
   "source": [
    "error_function([1,9,-1])"
   ]
  },
  {
   "cell_type": "code",
   "execution_count": 5,
   "id": "83797998-5027-4e51-8588-ee2d132d3ff7",
   "metadata": {
    "collapsed": true,
    "jupyter": {
     "outputs_hidden": true
    },
    "tags": []
   },
   "outputs": [
    {
     "name": "stdout",
     "output_type": "stream",
     "text": [
      "Iteration 1: error_function([7.20e+02 9.45e-01 2.50e-04]) = 518400.8930250625\n",
      "Iteration 2: error_function([7.20e+02 9.45e-01 2.50e-04]) = 518400.8930250625\n",
      "Iteration 3: error_function([6.66666667e+02 9.30000000e-01 8.33333333e-05]) = 444445.30934445176\n",
      "Iteration 4: error_function([5.33333333e+02 9.60000000e-01 6.66666667e-04]) = 284445.3660448895\n",
      "Iteration 5: error_function([5.33333333e+02 9.60000000e-01 6.66666667e-04]) = 284445.3660448895\n",
      "Iteration 6: error_function([2.93333333e+02 1.00500000e+00 5.83333333e-04]) = 86045.45446978562\n",
      "Iteration 7: error_function([2.66666667e+01 1.11000000e+00 1.41666667e-03]) = 712.3432131181687\n",
      "Iteration 8: error_function([2.66666667e+01 1.11000000e+00 1.41666667e-03]) = 712.3432131181687\n",
      "Iteration 9: error_function([2.66666667e+01 1.11000000e+00 1.41666667e-03]) = 712.3432131181687\n",
      "Iteration 10: error_function([2.66666667e+01 1.11000000e+00 1.41666667e-03]) = 712.3432131181687\n",
      "Iteration 11: error_function([2.66666667e+01 1.11000000e+00 1.41666667e-03]) = 712.3432131181687\n",
      "Iteration 12: error_function([-2.29629630e+01  1.08666667e+00  1.37268519e-03]) = 528.4785143670074\n",
      "Iteration 13: error_function([-1.37037037e+01  1.08833333e+00  1.51273148e-03]) = 188.97596693163987\n",
      "Iteration 14: error_function([-1.37037037e+01  1.08833333e+00  1.51273148e-03]) = 188.97596693163987\n",
      "Iteration 15: error_function([9.90740741e+00 1.09583333e+00 1.42910880e-03]) = 99.35757427319172\n",
      "Iteration 16: error_function([-9.42901235e+00  1.08569444e+00  1.41652199e-03]) = 90.08500824815515\n",
      "Iteration 17: error_function([5.85133745e+00 1.07997685e+00 1.44601177e-03]) = 35.40450202842941\n",
      "Iteration 18: error_function([-5.79689643e+00  1.08775077e+00  1.47163950e-03]) = 34.78721216720633\n",
      "Iteration 19: error_function([3.39127515e+00 1.09015368e+00 1.43691661e-03]) = 12.689184239914313\n",
      "Iteration 20: error_function([3.39127515e+00 1.09015368e+00 1.43691661e-03]) = 12.689184239914313\n",
      "Iteration 21: error_function([1.83469515e+00 1.08394374e+00 1.44676895e-03]) = 4.541042428941942\n",
      "Iteration 22: error_function([1.83469515e+00 1.08394374e+00 1.44676895e-03]) = 4.541042428941942\n",
      "Iteration 23: error_function([-1.65203000e+00  1.08646266e+00  1.44019837e-03]) = 3.909606292466215\n",
      "Iteration 24: error_function([1.27316679 1.0880106  0.00144219]) = 2.804722830865099\n",
      "Iteration 25: error_function([-1.11610627  1.0866676   0.00144925]) = 2.4265417773537186\n",
      "Iteration 26: error_function([0.668186   1.08549535 0.00144532]) = 1.6247747620099855\n",
      "Iteration 27: error_function([0.668186   1.08549535 0.00144532]) = 1.6247747620099855\n",
      "Iteration 28: error_function([0.44718436 1.08713139 0.00144401]) = 1.381830600427083\n",
      "Iteration 29: error_function([0.44718436 1.08713139 0.00144401]) = 1.381830600427083\n",
      "Iteration 30: error_function([-0.23949252  1.08649078  0.00144411]) = 1.237820966762426\n",
      "Iteration 31: error_function([-0.23949252  1.08649078  0.00144411]) = 1.237820966762426\n",
      "Iteration 32: error_function([-0.16091028  1.08655688  0.00144554]) = 1.2065000651066184\n",
      "Iteration 33: error_function([-0.16091028  1.08655688  0.00144554]) = 1.2065000651066184\n",
      "Iteration 34: error_function([0.11117582 1.08635477 0.00144491]) = 1.192528827674896\n",
      "Iteration 35: error_function([-0.09390456  1.0865237   0.00144454]) = 1.1893539110692481\n",
      "Iteration 36: error_function([0.0784525  1.08661834 0.00144473]) = 1.1868963024411023\n",
      "Iteration 37: error_function([-0.06450118  1.08652791  0.00144513]) = 1.1847053889882893\n",
      "Iteration 38: error_function([0.04226237 1.08645571 0.00144486]) = 1.182174202513837\n",
      "Iteration 39: error_function([-0.03758333  1.08652885  0.00144472]) = 1.181959525376274\n",
      "Iteration 40: error_function([0.02925589 1.08656125 0.00144482]) = 1.181473340857839\n",
      "Iteration 41: error_function([-0.02659477  1.08652159  0.00144497]) = 1.1812385319439733\n",
      "Iteration 42: error_function([0.01531082 1.08649647 0.00144485]) = 1.1807110837039805\n",
      "Iteration 43: error_function([0.01531082 1.08649647 0.00144485]) = 1.1807110837039805\n",
      "Iteration 44: error_function([0.01011456 1.08653824 0.00144485]) = 1.1806697394327403\n",
      "Iteration 45: error_function([-0.01169254  1.08652119  0.0014449 ]) = 1.1806670901789815\n",
      "Iteration 46: error_function([-0.00560936  1.08652314  0.00144483]) = 1.1805660768596464\n",
      "Iteration 47: error_function([0.00645752 1.08651199 0.00144485]) = 1.1805521008087285\n",
      "Iteration 48: error_function([0.00645752 1.08651199 0.00144485]) = 1.1805521008087285\n",
      "Iteration 49: error_function([0.00645752 1.08651199 0.00144485]) = 1.1805521008087285\n",
      "Iteration 50: error_function([-0.00204733  1.08652185  0.00144485]) = 1.1805360118727932\n",
      "Iteration 51: error_function([-0.00130495  1.08652099  0.00144486]) = 1.1805316550578058\n",
      "Iteration 52: error_function([-0.00339453  1.08649782  0.00144485]) = 1.1804911330779033\n",
      "Iteration 53: error_function([-0.00339453  1.08649782  0.00144485]) = 1.1804911330779033\n",
      "Iteration 54: error_function([0.00149946 1.08648789 0.00144488]) = 1.1804602683182321\n",
      "Iteration 55: error_function([0.00281913 1.08645651 0.00144486]) = 1.1803977735229996\n",
      "Iteration 56: error_function([-0.00328452  1.08641667  0.00144489]) = 1.1803140541294102\n",
      "Iteration 57: error_function([0.00782313 1.08636541 0.00144492]) = 1.1802531019970086\n",
      "Iteration 58: error_function([0.00435882 1.08626281 0.00144491]) = 1.1799879817567986\n",
      "Iteration 59: error_function([0.00325916 1.08613188 0.00144499]) = 1.179695177266132\n",
      "Iteration 60: error_function([0.00325916 1.08613188 0.00144499]) = 1.179695177266132\n",
      "Iteration 61: error_function([0.00555032 1.08575394 0.00144506]) = 1.1788945031610867\n",
      "Iteration 62: error_function([0.00555032 1.08575394 0.00144506]) = 1.1788945031610867\n",
      "Iteration 63: error_function([-0.00778114  1.08542679  0.00144519]) = 1.1782139587962384\n",
      "Iteration 64: error_function([0.00181742 1.08463808 0.00144538]) = 1.1764451524157875\n",
      "Iteration 65: error_function([0.00181742 1.08463808 0.00144538]) = 1.1764451524157875\n",
      "Iteration 66: error_function([-0.02790652  1.08338176  0.00144574]) = 1.1744968956160815\n",
      "Iteration 67: error_function([-0.021369    1.081991    0.00144606]) = 1.1711632598036414\n",
      "Iteration 68: error_function([-0.02577377  1.08036133  0.00144658]) = 1.1678469744998872\n",
      "Iteration 69: error_function([-0.07868412  1.07645793  0.00144762]) = 1.1649549659361007\n",
      "Iteration 70: error_function([-0.07001384  1.07204675  0.00144877]) = 1.154188268747419\n",
      "Iteration 71: error_function([-0.07001384  1.07204675  0.00144877]) = 1.154188268747419\n",
      "Iteration 72: error_function([-0.07001384  1.07204675  0.00144877]) = 1.154188268747419\n",
      "Iteration 73: error_function([-0.14424629  1.05541657  0.00145331]) = 1.1347132354756166\n",
      "Iteration 74: error_function([-0.14424629  1.05541657  0.00145331]) = 1.1347132354756166\n",
      "Iteration 75: error_function([-0.07994779  1.05425339  0.00145352]) = 1.1178439831170859\n",
      "Iteration 76: error_function([-0.22316446  1.02376524  0.00146176]) = 1.0978997877376748\n",
      "Iteration 77: error_function([-0.16936241  1.01705765  0.00146365]) = 1.0630920319514277\n",
      "Iteration 78: error_function([-0.18398209  0.98424315  0.00147231]) = 1.0025861606198079\n",
      "Iteration 79: error_function([-0.18398209  0.98424315  0.00147231]) = 1.0025861606198079\n",
      "Iteration 80: error_function([-0.21140709  0.91622762  0.00149072]) = 0.884168229400585\n",
      "Iteration 81: error_function([-0.36105588  0.82881277  0.00151402]) = 0.8172942531468067\n",
      "Iteration 82: error_function([-0.14766203  0.80436894  0.00152046]) = 0.6688157763794952\n",
      "Iteration 83: error_function([-0.35216082  0.58092302  0.00158059]) = 0.46149130178243575\n",
      "Iteration 84: error_function([-0.43806454  0.3816495   0.00163364]) = 0.33755955318120173\n",
      "Iteration 85: error_function([-0.21577563  0.10931592  0.00170665]) = 0.058512004804771464\n",
      "Iteration 86: error_function([-0.21577563  0.10931592  0.00170665]) = 0.058512004804771464\n",
      "Iteration 87: error_function([-0.21577563  0.10931592  0.00170665]) = 0.058512004804771464\n",
      "Iteration 88: error_function([-0.21577563  0.10931592  0.00170665]) = 0.058512004804771464\n",
      "Iteration 89: error_function([-0.21577563  0.10931592  0.00170665]) = 0.058512004804771464\n",
      "Iteration 90: error_function([-0.16924472  0.17065492  0.00168999]) = 0.05776973272208596\n",
      "Iteration 91: error_function([-0.11469722 -0.04174731  0.00174694]) = 0.014901341498042267\n",
      "Iteration 92: error_function([-0.11469722 -0.04174731  0.00174694]) = 0.014901341498042267\n",
      "Iteration 93: error_function([-0.00396824  0.09930894  0.00170896]) = 0.009880933613923708\n",
      "Iteration 94: error_function([ 0.05968517 -0.00959405  0.00173827]) = 0.0036573864159027175\n",
      "Iteration 95: error_function([ 0.05968517 -0.00959405  0.00173827]) = 0.0036573864159027175\n",
      "Iteration 96: error_function([-0.04917132 -0.01725968  0.00174032]) = 0.0027187442665547903\n",
      "Iteration 97: error_function([-0.00134068  0.03384034  0.00172655]) = 0.0011499471863157206\n",
      "Iteration 98: error_function([-0.00179775 -0.03285109  0.00174444]) = 0.0010854688939006222\n",
      "Iteration 99: error_function([ 0.02112429 -0.00750876  0.00173769]) = 0.0005056367448379271\n",
      "Iteration 100: error_function([ 0.02112429 -0.00750876  0.00173769]) = 0.0005056367448379271\n",
      "Iteration 101: error_function([-0.00104725  0.00857413  0.00173334]) = 7.761684598889933e-05\n",
      "Iteration 102: error_function([-0.00104725  0.00857413  0.00173334]) = 7.761684598889933e-05\n",
      "Iteration 103: error_function([-0.00742394 -0.00266398  0.00173638]) = 6.522667059239676e-05\n",
      "Iteration 104: error_function([-0.00742394 -0.00266398  0.00173638]) = 6.522667059239676e-05\n",
      "Iteration 105: error_function([-0.00742394 -0.00266398  0.00173638]) = 6.522667059239676e-05\n",
      "Iteration 106: error_function([ 0.00322944 -0.00083494  0.00173588]) = 1.4139664555691365e-05\n",
      "Iteration 107: error_function([ 0.00322944 -0.00083494  0.00173588]) = 1.4139664555691365e-05\n",
      "Iteration 108: error_function([ 0.00322944 -0.00083494  0.00173588]) = 1.4139664555691365e-05\n",
      "Iteration 109: error_function([ 0.00322944 -0.00083494  0.00173588]) = 1.4139664555691365e-05\n",
      "Iteration 110: error_function([-0.00156167 -0.00096521  0.00173591]) = 6.383847898779184e-06\n",
      "Iteration 111: error_function([-0.00030107 -0.001522    0.00173606]) = 5.421041787953502e-06\n",
      "Iteration 112: error_function([-0.00044282  0.00100785  0.00173538]) = 4.2233952507621285e-06\n",
      "Iteration 113: error_function([-0.00044282  0.00100785  0.00173538]) = 4.2233952507621285e-06\n",
      "Iteration 114: error_function([-0.00069974 -0.00067897  0.00173584]) = 3.963762749540254e-06\n",
      "Iteration 115: error_function([-0.00069974 -0.00067897  0.00173584]) = 3.963762749540254e-06\n",
      "Iteration 116: error_function([ 4.84745233e-04 -6.07733772e-05  1.73567044e-03]) = 3.2512232280447956e-06\n",
      "Iteration 117: error_function([ 4.84745233e-04 -6.07733772e-05  1.73567044e-03]) = 3.2512232280447956e-06\n",
      "Iteration 118: error_function([ 4.84745233e-04 -6.07733772e-05  1.73567044e-03]) = 3.2512232280447956e-06\n",
      "Iteration 119: error_function([-0.00023255 -0.00032175  0.00173574]) = 3.170397105410824e-06\n",
      "Iteration 120: error_function([0.00010197 0.00019543 0.0017356 ]) = 3.0609037594391645e-06\n",
      "Iteration 121: error_function([0.00010197 0.00019543 0.0017356 ]) = 3.0609037594391645e-06\n",
      "Iteration 122: error_function([0.00010197 0.00019543 0.0017356 ]) = 3.0609037594391645e-06\n",
      "Iteration 123: error_function([6.09742385e-05 1.82580305e-04 1.73560468e-03]) = 3.0493770198306286e-06\n",
      "Iteration 124: error_function([-4.99288411e-05 -9.52796314e-05  1.73567955e-03]) = 3.024154599257905e-06\n",
      "Iteration 125: error_function([-4.99288411e-05 -9.52796314e-05  1.73567955e-03]) = 3.024154599257905e-06\n",
      "Iteration 126: error_function([-4.99288411e-05 -9.52796314e-05  1.73567955e-03]) = 3.024154599257905e-06\n",
      "Iteration 127: error_function([-1.05617586e-05  8.96439888e-05  1.73562968e-03]) = 3.0205579770868665e-06\n",
      "Iteration 128: error_function([-6.31616169e-05  5.78207105e-05  1.73563835e-03]) = 3.019773122546335e-06\n",
      "Iteration 129: error_function([-6.31616169e-05  5.78207105e-05  1.73563835e-03]) = 3.019773122546335e-06\n",
      "Iteration 130: error_function([-2.84396035e-05 -9.23469538e-06  1.73565646e-03]) = 3.0133974532044947e-06\n",
      "Iteration 131: error_function([-2.84396035e-05 -9.23469538e-06  1.73565646e-03]) = 3.0133974532044947e-06\n",
      "Optimal values: [-2.84396035e-05 -9.23469538e-06  1.73565646e-03]\n"
     ]
    }
   ],
   "source": [
    "# define initial values of a, d,e\n",
    "x0 = np.array([ 8e+02,  9e-01, 0])\n",
    "#([886.81, 0.91002, 0])\n",
    "\n",
    "def f(m):\n",
    "    a,b,c=m\n",
    "    return a**2+b**2+c**2\n",
    "\n",
    "# define a callback function to track the optimization process\n",
    "def callback(x):\n",
    "    global num_evals\n",
    "    num_evals += 1\n",
    "    print(f\"Iteration {num_evals}: error_function({x}) = {f(x)}\")\n",
    "\n",
    "num_evals = 0\n",
    "# minimize f using L-BFGS\n",
    "result = minimize(f, x0, callback=callback,options={'maxiter': 1000},\n",
    "                        method='Nelder-Mead')\n",
    "\n",
    "# print the optimal values of a, b, c\n",
    "print(f\"Optimal values: {result.x}\" )\n"
   ]
  },
  {
   "cell_type": "code",
   "execution_count": null,
   "id": "f5aa8ee8-0ad4-45ca-a2d5-d83bc4ebf7de",
   "metadata": {},
   "outputs": [],
   "source": []
  }
 ],
 "metadata": {
  "kernelspec": {
   "display_name": "Python 3 (ipykernel)",
   "language": "python",
   "name": "python3"
  },
  "language_info": {
   "codemirror_mode": {
    "name": "ipython",
    "version": 3
   },
   "file_extension": ".py",
   "mimetype": "text/x-python",
   "name": "python",
   "nbconvert_exporter": "python",
   "pygments_lexer": "ipython3",
   "version": "3.9.16"
  }
 },
 "nbformat": 4,
 "nbformat_minor": 5
}
