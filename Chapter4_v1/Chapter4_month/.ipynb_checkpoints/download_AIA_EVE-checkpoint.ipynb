{
 "cells": [
  {
   "cell_type": "code",
   "execution_count": 1,
   "id": "8fef4ec6-be8a-4043-8f3a-97edff6a5c2e",
   "metadata": {},
   "outputs": [],
   "source": [
    "from sunpy.net import Fido, attrs as a\n",
    "import astropy.units as u"
   ]
  },
  {
   "cell_type": "markdown",
   "id": "1a64f427-71ce-4b64-9fa6-1cccd6ee368c",
   "metadata": {
    "tags": []
   },
   "source": [
    "## download EVE 2011-02-03~ 2011-03-03\n",
    "下载出来的文件没有后缀，IDL读不了"
   ]
  },
  {
   "cell_type": "code",
   "execution_count": 3,
   "id": "c658072b-259d-46f4-9ed7-7474ebc0ca43",
   "metadata": {},
   "outputs": [
    {
     "data": {
      "text/html": [
       "Results from 1 Provider:</br></br>4 Results from the VSOClient:</br><div><i>VSOQueryResponseTable length=4</i>\n",
       "<table id=\"table2172547235216\" class=\"table-striped table-bordered table-condensed\">\n",
       "<thead><tr><th>Start Time</th><th>End Time</th><th>Source</th><th>Instrument</th><th>Wavelength</th><th>Provider</th><th>Physobs</th><th>Extent Type</th><th>Size</th></tr></thead>\n",
       "<thead><tr><th></th><th></th><th></th><th></th><th>Angstrom</th><th></th><th></th><th></th><th>Mibyte</th></tr></thead>\n",
       "<thead><tr><th>Time</th><th>Time</th><th>str3</th><th>str3</th><th>float64[2]</th><th>str4</th><th>str10</th><th>str8</th><th>float64</th></tr></thead>\n",
       "<tr><td>2011-02-03 00:00:00.000</td><td>2011-02-03 01:00:00.000</td><td>SDO</td><td>EVE</td><td>93.0 .. 1033.0</td><td>LASP</td><td>irradiance</td><td>FULLDISK</td><td>-0.00098</td></tr>\n",
       "<tr><td>2011-02-03 00:00:00.000</td><td>2011-02-03 01:00:00.000</td><td>SDO</td><td>EVE</td><td>60.0 .. 1060.0</td><td>LASP</td><td>irradiance</td><td>FULLDISK</td><td>-0.00098</td></tr>\n",
       "<tr><td>2011-02-03 01:00:00.000</td><td>2011-02-03 02:00:00.000</td><td>SDO</td><td>EVE</td><td>93.0 .. 1033.0</td><td>LASP</td><td>irradiance</td><td>FULLDISK</td><td>-0.00098</td></tr>\n",
       "<tr><td>2011-02-03 01:00:00.000</td><td>2011-02-03 02:00:00.000</td><td>SDO</td><td>EVE</td><td>60.0 .. 1060.0</td><td>LASP</td><td>irradiance</td><td>FULLDISK</td><td>-0.00098</td></tr>\n",
       "</table></div></br>"
      ],
      "text/plain": [
       "<sunpy.net.fido_factory.UnifiedResponse object at 0x000001F9D5CCE850>\n",
       "Results from 1 Provider:\n",
       "\n",
       "4 Results from the VSOClient:\n",
       "Source: http://vso.stanford.edu/cgi-bin/search\n",
       "\n",
       "       Start Time               End Time        Source ... Extent Type   Size  \n",
       "                                                       ...              Mibyte \n",
       "----------------------- ----------------------- ------ ... ----------- --------\n",
       "2011-02-03 00:00:00.000 2011-02-03 01:00:00.000    SDO ...    FULLDISK -0.00098\n",
       "2011-02-03 00:00:00.000 2011-02-03 01:00:00.000    SDO ...    FULLDISK -0.00098\n",
       "2011-02-03 01:00:00.000 2011-02-03 02:00:00.000    SDO ...    FULLDISK -0.00098\n",
       "2011-02-03 01:00:00.000 2011-02-03 02:00:00.000    SDO ...    FULLDISK -0.00098\n"
      ]
     },
     "execution_count": 3,
     "metadata": {},
     "output_type": "execute_result"
    }
   ],
   "source": [
    "obs_start = \"2011-02-03T00:00:00\"\n",
    "obs_end = \"2011-02-03T01:00:00\"\n",
    "obs_time = a.Time(obs_start, obs_end)\n",
    "\n",
    "unifresp = Fido.search(obs_time,a.Instrument.eve,a.Level.two) \n",
    "unifresp"
   ]
  },
  {
   "cell_type": "code",
   "execution_count": 4,
   "id": "500d26ed-acab-432d-9a39-79343416215a",
   "metadata": {
    "tags": []
   },
   "outputs": [
    {
     "data": {
      "application/vnd.jupyter.widget-view+json": {
       "model_id": "d8a0d68892ff43d682bbbd0360ed790e",
       "version_major": 2,
       "version_minor": 0
      },
      "text/plain": [
       "Files Downloaded:   0%|          | 0/4 [00:00<?, ?file/s]"
      ]
     },
     "metadata": {},
     "output_type": "display_data"
    },
    {
     "data": {
      "application/vnd.jupyter.widget-view+json": {
       "model_id": "",
       "version_major": 2,
       "version_minor": 0
      },
      "text/plain": [
       "eve_l2_spectra_2011034_01:   0%|          | 0.00/6.77M [00:00<?, ?B/s]"
      ]
     },
     "metadata": {},
     "output_type": "display_data"
    },
    {
     "data": {
      "application/vnd.jupyter.widget-view+json": {
       "model_id": "",
       "version_major": 2,
       "version_minor": 0
      },
      "text/plain": [
       "eve_l2_spectra_2011034_00:   0%|          | 0.00/6.81M [00:00<?, ?B/s]"
      ]
     },
     "metadata": {},
     "output_type": "display_data"
    }
   ],
   "source": [
    "files = Fido.fetch(unifresp, path='data/{instrument}')"
   ]
  },
  {
   "cell_type": "code",
   "execution_count": 15,
   "id": "c74fc67c-2006-4239-b31b-daedcc36d5b4",
   "metadata": {
    "collapsed": true,
    "jupyter": {
     "outputs_hidden": true
    },
    "tags": []
   },
   "outputs": [
    {
     "data": {
      "text/html": [
       "Results from 1 Provider:</br></br>194 Results from the VSOClient:</br><div><i>VSOQueryResponseTable length=194</i>\n",
       "<table id=\"table2077272562752\" class=\"table-striped table-bordered table-condensed\">\n",
       "<thead><tr><th>Start Time</th><th>End Time</th><th>Source</th><th>Instrument</th><th>Wavelength</th><th>Provider</th><th>Physobs</th><th>Extent Type</th><th>Size</th></tr></thead>\n",
       "<thead><tr><th></th><th></th><th></th><th></th><th>Angstrom</th><th></th><th></th><th></th><th>Mibyte</th></tr></thead>\n",
       "<thead><tr><th>Time</th><th>Time</th><th>str3</th><th>str3</th><th>float64[2]</th><th>str4</th><th>str10</th><th>str8</th><th>float64</th></tr></thead>\n",
       "<tr><td>2011-02-27 00:00:00.000</td><td>2011-02-27 01:00:00.000</td><td>SDO</td><td>EVE</td><td>93.0 .. 1033.0</td><td>LASP</td><td>irradiance</td><td>FULLDISK</td><td>-0.00098</td></tr>\n",
       "<tr><td>2011-02-27 00:00:00.000</td><td>2011-02-27 01:00:00.000</td><td>SDO</td><td>EVE</td><td>60.0 .. 1060.0</td><td>LASP</td><td>irradiance</td><td>FULLDISK</td><td>-0.00098</td></tr>\n",
       "<tr><td>2011-02-27 01:00:00.000</td><td>2011-02-27 02:00:00.000</td><td>SDO</td><td>EVE</td><td>93.0 .. 1033.0</td><td>LASP</td><td>irradiance</td><td>FULLDISK</td><td>-0.00098</td></tr>\n",
       "<tr><td>2011-02-27 01:00:00.000</td><td>2011-02-27 02:00:00.000</td><td>SDO</td><td>EVE</td><td>60.0 .. 1060.0</td><td>LASP</td><td>irradiance</td><td>FULLDISK</td><td>-0.00098</td></tr>\n",
       "<tr><td>2011-02-27 02:00:00.000</td><td>2011-02-27 03:00:00.000</td><td>SDO</td><td>EVE</td><td>93.0 .. 1033.0</td><td>LASP</td><td>irradiance</td><td>FULLDISK</td><td>-0.00098</td></tr>\n",
       "<tr><td>2011-02-27 02:00:00.000</td><td>2011-02-27 03:00:00.000</td><td>SDO</td><td>EVE</td><td>60.0 .. 1060.0</td><td>LASP</td><td>irradiance</td><td>FULLDISK</td><td>-0.00098</td></tr>\n",
       "<tr><td>2011-02-27 03:00:00.000</td><td>2011-02-27 04:00:00.000</td><td>SDO</td><td>EVE</td><td>93.0 .. 1033.0</td><td>LASP</td><td>irradiance</td><td>FULLDISK</td><td>-0.00098</td></tr>\n",
       "<tr><td>2011-02-27 03:00:00.000</td><td>2011-02-27 04:00:00.000</td><td>SDO</td><td>EVE</td><td>60.0 .. 1060.0</td><td>LASP</td><td>irradiance</td><td>FULLDISK</td><td>-0.00098</td></tr>\n",
       "<tr><td>2011-02-27 04:00:00.000</td><td>2011-02-27 05:00:00.000</td><td>SDO</td><td>EVE</td><td>93.0 .. 1033.0</td><td>LASP</td><td>irradiance</td><td>FULLDISK</td><td>-0.00098</td></tr>\n",
       "<tr><td>...</td><td>...</td><td>...</td><td>...</td><td>...</td><td>...</td><td>...</td><td>...</td><td>...</td></tr>\n",
       "<tr><td>2011-03-02 20:00:00.000</td><td>2011-03-02 21:00:00.000</td><td>SDO</td><td>EVE</td><td>93.0 .. 1033.0</td><td>LASP</td><td>irradiance</td><td>FULLDISK</td><td>-0.00098</td></tr>\n",
       "<tr><td>2011-03-02 20:00:00.000</td><td>2011-03-02 21:00:00.000</td><td>SDO</td><td>EVE</td><td>60.0 .. 1060.0</td><td>LASP</td><td>irradiance</td><td>FULLDISK</td><td>-0.00098</td></tr>\n",
       "<tr><td>2011-03-02 21:00:00.000</td><td>2011-03-02 22:00:00.000</td><td>SDO</td><td>EVE</td><td>93.0 .. 1033.0</td><td>LASP</td><td>irradiance</td><td>FULLDISK</td><td>-0.00098</td></tr>\n",
       "<tr><td>2011-03-02 21:00:00.000</td><td>2011-03-02 22:00:00.000</td><td>SDO</td><td>EVE</td><td>60.0 .. 1060.0</td><td>LASP</td><td>irradiance</td><td>FULLDISK</td><td>-0.00098</td></tr>\n",
       "<tr><td>2011-03-02 22:00:00.000</td><td>2011-03-02 23:00:00.000</td><td>SDO</td><td>EVE</td><td>93.0 .. 1033.0</td><td>LASP</td><td>irradiance</td><td>FULLDISK</td><td>-0.00098</td></tr>\n",
       "<tr><td>2011-03-02 22:00:00.000</td><td>2011-03-02 23:00:00.000</td><td>SDO</td><td>EVE</td><td>60.0 .. 1060.0</td><td>LASP</td><td>irradiance</td><td>FULLDISK</td><td>-0.00098</td></tr>\n",
       "<tr><td>2011-03-02 23:00:00.000</td><td>2011-03-03 00:00:00.000</td><td>SDO</td><td>EVE</td><td>93.0 .. 1033.0</td><td>LASP</td><td>irradiance</td><td>FULLDISK</td><td>-0.00098</td></tr>\n",
       "<tr><td>2011-03-02 23:00:00.000</td><td>2011-03-03 00:00:00.000</td><td>SDO</td><td>EVE</td><td>60.0 .. 1060.0</td><td>LASP</td><td>irradiance</td><td>FULLDISK</td><td>-0.00098</td></tr>\n",
       "<tr><td>2011-03-03 00:00:00.000</td><td>2011-03-03 01:00:00.000</td><td>SDO</td><td>EVE</td><td>93.0 .. 1033.0</td><td>LASP</td><td>irradiance</td><td>FULLDISK</td><td>-0.00098</td></tr>\n",
       "<tr><td>2011-03-03 00:00:00.000</td><td>2011-03-03 01:00:00.000</td><td>SDO</td><td>EVE</td><td>60.0 .. 1060.0</td><td>LASP</td><td>irradiance</td><td>FULLDISK</td><td>-0.00098</td></tr>\n",
       "</table></div></br>"
      ],
      "text/plain": [
       "<sunpy.net.fido_factory.UnifiedResponse object at 0x000001E3A3C38F40>\n",
       "Results from 1 Provider:\n",
       "\n",
       "194 Results from the VSOClient:\n",
       "Source: http://vso.stanford.edu/cgi-bin/search\n",
       "\n",
       "       Start Time               End Time        Source ... Extent Type   Size  \n",
       "                                                       ...              Mibyte \n",
       "----------------------- ----------------------- ------ ... ----------- --------\n",
       "2011-02-27 00:00:00.000 2011-02-27 01:00:00.000    SDO ...    FULLDISK -0.00098\n",
       "2011-02-27 00:00:00.000 2011-02-27 01:00:00.000    SDO ...    FULLDISK -0.00098\n",
       "2011-02-27 01:00:00.000 2011-02-27 02:00:00.000    SDO ...    FULLDISK -0.00098\n",
       "2011-02-27 01:00:00.000 2011-02-27 02:00:00.000    SDO ...    FULLDISK -0.00098\n",
       "2011-02-27 02:00:00.000 2011-02-27 03:00:00.000    SDO ...    FULLDISK -0.00098\n",
       "2011-02-27 02:00:00.000 2011-02-27 03:00:00.000    SDO ...    FULLDISK -0.00098\n",
       "2011-02-27 03:00:00.000 2011-02-27 04:00:00.000    SDO ...    FULLDISK -0.00098\n",
       "2011-02-27 03:00:00.000 2011-02-27 04:00:00.000    SDO ...    FULLDISK -0.00098\n",
       "2011-02-27 04:00:00.000 2011-02-27 05:00:00.000    SDO ...    FULLDISK -0.00098\n",
       "2011-02-27 04:00:00.000 2011-02-27 05:00:00.000    SDO ...    FULLDISK -0.00098\n",
       "                    ...                     ...    ... ...         ...      ...\n",
       "2011-03-02 20:00:00.000 2011-03-02 21:00:00.000    SDO ...    FULLDISK -0.00098\n",
       "2011-03-02 20:00:00.000 2011-03-02 21:00:00.000    SDO ...    FULLDISK -0.00098\n",
       "2011-03-02 21:00:00.000 2011-03-02 22:00:00.000    SDO ...    FULLDISK -0.00098\n",
       "2011-03-02 21:00:00.000 2011-03-02 22:00:00.000    SDO ...    FULLDISK -0.00098\n",
       "2011-03-02 22:00:00.000 2011-03-02 23:00:00.000    SDO ...    FULLDISK -0.00098\n",
       "2011-03-02 22:00:00.000 2011-03-02 23:00:00.000    SDO ...    FULLDISK -0.00098\n",
       "2011-03-02 23:00:00.000 2011-03-03 00:00:00.000    SDO ...    FULLDISK -0.00098\n",
       "2011-03-02 23:00:00.000 2011-03-03 00:00:00.000    SDO ...    FULLDISK -0.00098\n",
       "2011-03-03 00:00:00.000 2011-03-03 01:00:00.000    SDO ...    FULLDISK -0.00098\n",
       "2011-03-03 00:00:00.000 2011-03-03 01:00:00.000    SDO ...    FULLDISK -0.00098\n",
       "Length = 194 rows\n"
      ]
     },
     "execution_count": 15,
     "metadata": {},
     "output_type": "execute_result"
    }
   ],
   "source": [
    "obs_start = \"2011-02-27T00:00:00\"\n",
    "obs_end = \"2011-03-03T00:00:00\"\n",
    "obs_time = a.Time(obs_start, obs_end)\n",
    "\n",
    "unifresp = Fido.search(obs_time,a.Instrument.eve,a.Wavelength(304*u.angstrom),a.Level.two) \n",
    "unifresp"
   ]
  },
  {
   "cell_type": "code",
   "execution_count": 18,
   "id": "f4358657-e6ad-4ba8-8314-a3286d455e0f",
   "metadata": {
    "collapsed": true,
    "jupyter": {
     "outputs_hidden": true
    },
    "tags": []
   },
   "outputs": [
    {
     "data": {
      "application/vnd.jupyter.widget-view+json": {
       "model_id": "b341b132fd5f4604a301d1086a0d6d88",
       "version_major": 2,
       "version_minor": 0
      },
      "text/plain": [
       "Files Downloaded:   0%|          | 0/194 [00:00<?, ?file/s]"
      ]
     },
     "metadata": {},
     "output_type": "display_data"
    },
    {
     "name": "stdout",
     "output_type": "stream",
     "text": [
      "48/0 files failed to download. Please check `.errors` for details\n"
     ]
    }
   ],
   "source": [
    "files = Fido.fetch(unifresp, path='data/{instrument}')"
   ]
  },
  {
   "cell_type": "markdown",
   "id": "62d29f4c-24b3-45b4-9d2b-a42728946b11",
   "metadata": {},
   "source": [
    "## download EVE via vso csv"
   ]
  },
  {
   "cell_type": "code",
   "execution_count": 1,
   "id": "a695baf4-8866-4679-91af-53055528fddb",
   "metadata": {
    "tags": []
   },
   "outputs": [],
   "source": [
    "import csv\n",
    "import urllib.request"
   ]
  },
  {
   "cell_type": "code",
   "execution_count": 2,
   "id": "f8ebe9f2-c1f9-4fbb-ba36-9cdfcfb20acc",
   "metadata": {
    "collapsed": true,
    "jupyter": {
     "outputs_hidden": true
    },
    "tags": []
   },
   "outputs": [
    {
     "name": "stdout",
     "output_type": "stream",
     "text": [
      "Error downloading http://lasp.colorado.edu/eve/data_access/evewebdataproducts/level2/2011/040/EVS_L2_2011040_00_006_02.fit.gz\n",
      "Error downloading http://lasp.colorado.edu/eve/data_access/evewebdataproducts/level2/2011/040/EVS_L2_2011040_01_006_02.fit.gz\n",
      "Error downloading http://lasp.colorado.edu/eve/data_access/evewebdataproducts/level2/2011/040/EVS_L2_2011040_02_006_02.fit.gz\n",
      "Error downloading http://lasp.colorado.edu/eve/data_access/evewebdataproducts/level2/2011/040/EVS_L2_2011040_03_006_02.fit.gz\n",
      "Error downloading http://lasp.colorado.edu/eve/data_access/evewebdataproducts/level2/2011/040/EVS_L2_2011040_04_006_02.fit.gz\n",
      "Error downloading http://lasp.colorado.edu/eve/data_access/evewebdataproducts/level2/2011/040/EVS_L2_2011040_05_006_02.fit.gz\n",
      "Error downloading http://lasp.colorado.edu/eve/data_access/evewebdataproducts/level2/2011/040/EVS_L2_2011040_06_006_02.fit.gz\n",
      "Error downloading http://lasp.colorado.edu/eve/data_access/evewebdataproducts/level2/2011/040/EVS_L2_2011040_07_006_02.fit.gz\n",
      "Error downloading http://lasp.colorado.edu/eve/data_access/evewebdataproducts/level2/2011/040/EVS_L2_2011040_08_006_02.fit.gz\n",
      "Error downloading http://lasp.colorado.edu/eve/data_access/evewebdataproducts/level2/2011/040/EVS_L2_2011040_09_006_02.fit.gz\n",
      "Error downloading http://lasp.colorado.edu/eve/data_access/evewebdataproducts/level2/2011/040/EVS_L2_2011040_10_006_02.fit.gz\n",
      "Error downloading http://lasp.colorado.edu/eve/data_access/evewebdataproducts/level2/2011/040/EVS_L2_2011040_11_006_02.fit.gz\n",
      "Error downloading http://lasp.colorado.edu/eve/data_access/evewebdataproducts/level2/2011/040/EVS_L2_2011040_12_006_02.fit.gz\n",
      "Error downloading http://lasp.colorado.edu/eve/data_access/evewebdataproducts/level2/2011/040/EVS_L2_2011040_13_006_02.fit.gz\n",
      "Error downloading http://lasp.colorado.edu/eve/data_access/evewebdataproducts/level2/2011/040/EVS_L2_2011040_14_006_02.fit.gz\n",
      "Error downloading http://lasp.colorado.edu/eve/data_access/evewebdataproducts/level2/2011/040/EVS_L2_2011040_15_006_02.fit.gz\n",
      "Error downloading http://lasp.colorado.edu/eve/data_access/evewebdataproducts/level2/2011/040/EVS_L2_2011040_16_006_02.fit.gz\n",
      "Error downloading http://lasp.colorado.edu/eve/data_access/evewebdataproducts/level2/2011/040/EVS_L2_2011040_17_006_02.fit.gz\n",
      "Error downloading http://lasp.colorado.edu/eve/data_access/evewebdataproducts/level2/2011/040/EVS_L2_2011040_18_006_02.fit.gz\n",
      "Error downloading http://lasp.colorado.edu/eve/data_access/evewebdataproducts/level2/2011/040/EVS_L2_2011040_19_006_02.fit.gz\n",
      "Error downloading http://lasp.colorado.edu/eve/data_access/evewebdataproducts/level2/2011/040/EVS_L2_2011040_20_006_02.fit.gz\n",
      "Error downloading http://lasp.colorado.edu/eve/data_access/evewebdataproducts/level2/2011/040/EVS_L2_2011040_21_006_02.fit.gz\n",
      "Error downloading http://lasp.colorado.edu/eve/data_access/evewebdataproducts/level2/2011/040/EVS_L2_2011040_22_006_02.fit.gz\n",
      "Error downloading http://lasp.colorado.edu/eve/data_access/evewebdataproducts/level2/2011/040/EVS_L2_2011040_23_006_02.fit.gz\n",
      "Error downloading http://lasp.colorado.edu/eve/data_access/evewebdataproducts/level2/2011/041/EVS_L2_2011041_12_007_02.fit.gz\n",
      "Error downloading http://lasp.colorado.edu/eve/data_access/evewebdataproducts/level2/2011/042/EVS_L2_2011042_12_007_02.fit.gz\n",
      "Error downloading http://lasp.colorado.edu/eve/data_access/evewebdataproducts/level2/2011/050/EVS_L2_2011050_00_006_02.fit.gz\n",
      "Error downloading http://lasp.colorado.edu/eve/data_access/evewebdataproducts/level2/2011/050/EVS_L2_2011050_01_006_02.fit.gz\n",
      "Error downloading http://lasp.colorado.edu/eve/data_access/evewebdataproducts/level2/2011/050/EVS_L2_2011050_02_006_02.fit.gz\n",
      "Error downloading http://lasp.colorado.edu/eve/data_access/evewebdataproducts/level2/2011/050/EVS_L2_2011050_03_006_02.fit.gz\n",
      "Error downloading http://lasp.colorado.edu/eve/data_access/evewebdataproducts/level2/2011/050/EVS_L2_2011050_04_006_02.fit.gz\n",
      "Error downloading http://lasp.colorado.edu/eve/data_access/evewebdataproducts/level2/2011/050/EVS_L2_2011050_05_006_02.fit.gz\n",
      "Error downloading http://lasp.colorado.edu/eve/data_access/evewebdataproducts/level2/2011/050/EVS_L2_2011050_06_006_02.fit.gz\n",
      "Error downloading http://lasp.colorado.edu/eve/data_access/evewebdataproducts/level2/2011/050/EVS_L2_2011050_07_006_02.fit.gz\n",
      "Error downloading http://lasp.colorado.edu/eve/data_access/evewebdataproducts/level2/2011/050/EVS_L2_2011050_08_006_02.fit.gz\n",
      "Error downloading http://lasp.colorado.edu/eve/data_access/evewebdataproducts/level2/2011/050/EVS_L2_2011050_09_006_02.fit.gz\n",
      "Error downloading http://lasp.colorado.edu/eve/data_access/evewebdataproducts/level2/2011/050/EVS_L2_2011050_10_006_02.fit.gz\n",
      "Error downloading http://lasp.colorado.edu/eve/data_access/evewebdataproducts/level2/2011/050/EVS_L2_2011050_11_006_02.fit.gz\n",
      "Error downloading http://lasp.colorado.edu/eve/data_access/evewebdataproducts/level2/2011/050/EVS_L2_2011050_12_006_02.fit.gz\n",
      "Error downloading http://lasp.colorado.edu/eve/data_access/evewebdataproducts/level2/2011/050/EVS_L2_2011050_13_006_02.fit.gz\n",
      "Error downloading http://lasp.colorado.edu/eve/data_access/evewebdataproducts/level2/2011/050/EVS_L2_2011050_14_006_02.fit.gz\n",
      "Error downloading http://lasp.colorado.edu/eve/data_access/evewebdataproducts/level2/2011/050/EVS_L2_2011050_15_006_02.fit.gz\n",
      "Error downloading http://lasp.colorado.edu/eve/data_access/evewebdataproducts/level2/2011/050/EVS_L2_2011050_16_006_02.fit.gz\n",
      "Error downloading http://lasp.colorado.edu/eve/data_access/evewebdataproducts/level2/2011/050/EVS_L2_2011050_17_006_02.fit.gz\n",
      "Error downloading http://lasp.colorado.edu/eve/data_access/evewebdataproducts/level2/2011/050/EVS_L2_2011050_18_006_02.fit.gz\n",
      "Error downloading http://lasp.colorado.edu/eve/data_access/evewebdataproducts/level2/2011/050/EVS_L2_2011050_19_006_02.fit.gz\n",
      "Error downloading http://lasp.colorado.edu/eve/data_access/evewebdataproducts/level2/2011/050/EVS_L2_2011050_20_006_02.fit.gz\n",
      "Error downloading http://lasp.colorado.edu/eve/data_access/evewebdataproducts/level2/2011/050/EVS_L2_2011050_21_006_02.fit.gz\n",
      "Error downloading http://lasp.colorado.edu/eve/data_access/evewebdataproducts/level2/2011/050/EVS_L2_2011050_22_006_02.fit.gz\n",
      "Error downloading http://lasp.colorado.edu/eve/data_access/evewebdataproducts/level2/2011/050/EVS_L2_2011050_23_006_02.fit.gz\n",
      "Error downloading http://lasp.colorado.edu/eve/data_access/evewebdataproducts/level2/2011/054/EVS_L2_2011054_14_007_02.fit.gz\n",
      "Error downloading http://lasp.colorado.edu/eve/data_access/evewebdataproducts/level2/2011/060/EVS_L2_2011060_00_006_02.fit.gz\n",
      "Error downloading http://lasp.colorado.edu/eve/data_access/evewebdataproducts/level2/2011/060/EVS_L2_2011060_01_006_02.fit.gz\n",
      "Error downloading http://lasp.colorado.edu/eve/data_access/evewebdataproducts/level2/2011/060/EVS_L2_2011060_02_006_02.fit.gz\n",
      "Error downloading http://lasp.colorado.edu/eve/data_access/evewebdataproducts/level2/2011/060/EVS_L2_2011060_03_006_02.fit.gz\n",
      "Error downloading http://lasp.colorado.edu/eve/data_access/evewebdataproducts/level2/2011/060/EVS_L2_2011060_04_006_02.fit.gz\n",
      "Error downloading http://lasp.colorado.edu/eve/data_access/evewebdataproducts/level2/2011/060/EVS_L2_2011060_05_006_02.fit.gz\n",
      "Error downloading http://lasp.colorado.edu/eve/data_access/evewebdataproducts/level2/2011/060/EVS_L2_2011060_06_006_02.fit.gz\n",
      "Error downloading http://lasp.colorado.edu/eve/data_access/evewebdataproducts/level2/2011/060/EVS_L2_2011060_07_006_02.fit.gz\n",
      "Error downloading http://lasp.colorado.edu/eve/data_access/evewebdataproducts/level2/2011/060/EVS_L2_2011060_08_006_02.fit.gz\n",
      "Error downloading http://lasp.colorado.edu/eve/data_access/evewebdataproducts/level2/2011/060/EVS_L2_2011060_09_006_02.fit.gz\n",
      "Error downloading http://lasp.colorado.edu/eve/data_access/evewebdataproducts/level2/2011/060/EVS_L2_2011060_10_006_02.fit.gz\n",
      "Error downloading http://lasp.colorado.edu/eve/data_access/evewebdataproducts/level2/2011/060/EVS_L2_2011060_11_006_02.fit.gz\n",
      "Error downloading http://lasp.colorado.edu/eve/data_access/evewebdataproducts/level2/2011/060/EVS_L2_2011060_12_006_02.fit.gz\n",
      "Error downloading http://lasp.colorado.edu/eve/data_access/evewebdataproducts/level2/2011/060/EVS_L2_2011060_13_006_02.fit.gz\n",
      "Error downloading http://lasp.colorado.edu/eve/data_access/evewebdataproducts/level2/2011/060/EVS_L2_2011060_14_006_02.fit.gz\n",
      "Error downloading http://lasp.colorado.edu/eve/data_access/evewebdataproducts/level2/2011/060/EVS_L2_2011060_15_006_02.fit.gz\n",
      "Error downloading http://lasp.colorado.edu/eve/data_access/evewebdataproducts/level2/2011/060/EVS_L2_2011060_16_006_02.fit.gz\n",
      "Error downloading http://lasp.colorado.edu/eve/data_access/evewebdataproducts/level2/2011/060/EVS_L2_2011060_17_006_02.fit.gz\n",
      "Error downloading http://lasp.colorado.edu/eve/data_access/evewebdataproducts/level2/2011/060/EVS_L2_2011060_18_006_02.fit.gz\n",
      "Error downloading http://lasp.colorado.edu/eve/data_access/evewebdataproducts/level2/2011/060/EVS_L2_2011060_19_006_02.fit.gz\n",
      "Error downloading http://lasp.colorado.edu/eve/data_access/evewebdataproducts/level2/2011/060/EVS_L2_2011060_20_006_02.fit.gz\n",
      "Error downloading http://lasp.colorado.edu/eve/data_access/evewebdataproducts/level2/2011/060/EVS_L2_2011060_21_006_02.fit.gz\n",
      "Error downloading http://lasp.colorado.edu/eve/data_access/evewebdataproducts/level2/2011/060/EVS_L2_2011060_22_006_02.fit.gz\n",
      "Error downloading http://lasp.colorado.edu/eve/data_access/evewebdataproducts/level2/2011/060/EVS_L2_2011060_23_006_02.fit.gz\n"
     ]
    }
   ],
   "source": [
    "with open('vso_export_20230331_000000.csv', newline='') as csvfile:\n",
    "    reader = csv.reader(csvfile)\n",
    "    for row in reader:\n",
    "        url = row[0]\n",
    "        filename = \"data_vso_web/\" + url.split('/')[-1]\n",
    "        try:\n",
    "            urllib.request.urlretrieve(url, filename)\n",
    "        except:\n",
    "            print(f\"Error downloading {url}\")"
   ]
  },
  {
   "cell_type": "code",
   "execution_count": 17,
   "id": "ea8bacf8-f331-4157-816e-f6a0d2d73c45",
   "metadata": {
    "tags": []
   },
   "outputs": [
    {
     "data": {
      "text/plain": [
       "['http:',\n",
       " '',\n",
       " 'lasp.colorado.edu',\n",
       " 'eve',\n",
       " 'data_access',\n",
       " 'evewebdataproducts',\n",
       " 'level2',\n",
       " '2011',\n",
       " '052',\n",
       " 'EVL_L2_2011052_09_007_02.fit.gz']"
      ]
     },
     "execution_count": 17,
     "metadata": {},
     "output_type": "execute_result"
    }
   ],
   "source": [
    "url.split('/')"
   ]
  },
  {
   "cell_type": "markdown",
   "id": "421ce60e-0404-4663-b2de-9b7066868624",
   "metadata": {
    "tags": []
   },
   "source": [
    "## download AIA 2011-02-03~ 2011-03-03"
   ]
  },
  {
   "cell_type": "code",
   "execution_count": 2,
   "id": "185f3711-6543-432c-89e3-0072439a66b6",
   "metadata": {},
   "outputs": [
    {
     "data": {
      "text/html": [
       "Results from 1 Provider:</br></br>28 Results from the VSOClient:</br><div><i>VSOQueryResponseTable length=28</i>\n",
       "<table id=\"table2213529481376\" class=\"table-striped table-bordered table-condensed\">\n",
       "<thead><tr><th>Start Time</th><th>End Time</th><th>Source</th><th>Instrument</th><th>Wavelength</th><th>Provider</th><th>Physobs</th><th>Wavetype</th><th>Extent Width</th><th>Extent Length</th><th>Extent Type</th><th>Size</th></tr></thead>\n",
       "<thead><tr><th></th><th></th><th></th><th></th><th>Angstrom</th><th></th><th></th><th></th><th></th><th></th><th></th><th>Mibyte</th></tr></thead>\n",
       "<thead><tr><th>Time</th><th>Time</th><th>str3</th><th>str3</th><th>float64[2]</th><th>str4</th><th>str9</th><th>str6</th><th>str4</th><th>str4</th><th>str8</th><th>float64</th></tr></thead>\n",
       "<tr><td>2011-02-03 00:04:08.000</td><td>2011-02-03 00:04:09.000</td><td>SDO</td><td>AIA</td><td>304.0 .. 304.0</td><td>JSOC</td><td>intensity</td><td>NARROW</td><td>4096</td><td>4096</td><td>FULLDISK</td><td>64.64844</td></tr>\n",
       "<tr><td>2011-02-04 00:04:08.000</td><td>2011-02-04 00:04:09.000</td><td>SDO</td><td>AIA</td><td>304.0 .. 304.0</td><td>JSOC</td><td>intensity</td><td>NARROW</td><td>4096</td><td>4096</td><td>FULLDISK</td><td>64.64844</td></tr>\n",
       "<tr><td>2011-02-05 00:04:08.000</td><td>2011-02-05 00:04:09.000</td><td>SDO</td><td>AIA</td><td>304.0 .. 304.0</td><td>JSOC</td><td>intensity</td><td>NARROW</td><td>4096</td><td>4096</td><td>FULLDISK</td><td>64.64844</td></tr>\n",
       "<tr><td>2011-02-06 00:04:08.000</td><td>2011-02-06 00:04:09.000</td><td>SDO</td><td>AIA</td><td>304.0 .. 304.0</td><td>JSOC</td><td>intensity</td><td>NARROW</td><td>4096</td><td>4096</td><td>FULLDISK</td><td>64.64844</td></tr>\n",
       "<tr><td>2011-02-07 00:04:08.000</td><td>2011-02-07 00:04:09.000</td><td>SDO</td><td>AIA</td><td>304.0 .. 304.0</td><td>JSOC</td><td>intensity</td><td>NARROW</td><td>4096</td><td>4096</td><td>FULLDISK</td><td>64.64844</td></tr>\n",
       "<tr><td>2011-02-08 00:04:08.000</td><td>2011-02-08 00:04:09.000</td><td>SDO</td><td>AIA</td><td>304.0 .. 304.0</td><td>JSOC</td><td>intensity</td><td>NARROW</td><td>4096</td><td>4096</td><td>FULLDISK</td><td>64.64844</td></tr>\n",
       "<tr><td>2011-02-09 00:04:08.000</td><td>2011-02-09 00:04:09.000</td><td>SDO</td><td>AIA</td><td>304.0 .. 304.0</td><td>JSOC</td><td>intensity</td><td>NARROW</td><td>4096</td><td>4096</td><td>FULLDISK</td><td>64.64844</td></tr>\n",
       "<tr><td>2011-02-10 00:04:08.000</td><td>2011-02-10 00:04:09.000</td><td>SDO</td><td>AIA</td><td>304.0 .. 304.0</td><td>JSOC</td><td>intensity</td><td>NARROW</td><td>4096</td><td>4096</td><td>FULLDISK</td><td>64.64844</td></tr>\n",
       "<tr><td>2011-02-11 00:04:08.000</td><td>2011-02-11 00:04:09.000</td><td>SDO</td><td>AIA</td><td>304.0 .. 304.0</td><td>JSOC</td><td>intensity</td><td>NARROW</td><td>4096</td><td>4096</td><td>FULLDISK</td><td>64.64844</td></tr>\n",
       "<tr><td>...</td><td>...</td><td>...</td><td>...</td><td>...</td><td>...</td><td>...</td><td>...</td><td>...</td><td>...</td><td>...</td><td>...</td></tr>\n",
       "<tr><td>2011-02-21 00:04:08.000</td><td>2011-02-21 00:04:09.000</td><td>SDO</td><td>AIA</td><td>304.0 .. 304.0</td><td>JSOC</td><td>intensity</td><td>NARROW</td><td>4096</td><td>4096</td><td>FULLDISK</td><td>64.64844</td></tr>\n",
       "<tr><td>2011-02-22 00:04:08.000</td><td>2011-02-22 00:04:09.000</td><td>SDO</td><td>AIA</td><td>304.0 .. 304.0</td><td>JSOC</td><td>intensity</td><td>NARROW</td><td>4096</td><td>4096</td><td>FULLDISK</td><td>64.64844</td></tr>\n",
       "<tr><td>2011-02-23 00:04:08.000</td><td>2011-02-23 00:04:09.000</td><td>SDO</td><td>AIA</td><td>304.0 .. 304.0</td><td>JSOC</td><td>intensity</td><td>NARROW</td><td>4096</td><td>4096</td><td>FULLDISK</td><td>64.64844</td></tr>\n",
       "<tr><td>2011-02-24 00:04:08.000</td><td>2011-02-24 00:04:09.000</td><td>SDO</td><td>AIA</td><td>304.0 .. 304.0</td><td>JSOC</td><td>intensity</td><td>NARROW</td><td>4096</td><td>4096</td><td>FULLDISK</td><td>64.64844</td></tr>\n",
       "<tr><td>2011-02-25 00:04:08.000</td><td>2011-02-25 00:04:09.000</td><td>SDO</td><td>AIA</td><td>304.0 .. 304.0</td><td>JSOC</td><td>intensity</td><td>NARROW</td><td>4096</td><td>4096</td><td>FULLDISK</td><td>64.64844</td></tr>\n",
       "<tr><td>2011-02-26 00:04:08.000</td><td>2011-02-26 00:04:09.000</td><td>SDO</td><td>AIA</td><td>304.0 .. 304.0</td><td>JSOC</td><td>intensity</td><td>NARROW</td><td>4096</td><td>4096</td><td>FULLDISK</td><td>64.64844</td></tr>\n",
       "<tr><td>2011-02-27 00:04:08.000</td><td>2011-02-27 00:04:09.000</td><td>SDO</td><td>AIA</td><td>304.0 .. 304.0</td><td>JSOC</td><td>intensity</td><td>NARROW</td><td>4096</td><td>4096</td><td>FULLDISK</td><td>64.64844</td></tr>\n",
       "<tr><td>2011-02-28 00:04:08.000</td><td>2011-02-28 00:04:09.000</td><td>SDO</td><td>AIA</td><td>304.0 .. 304.0</td><td>JSOC</td><td>intensity</td><td>NARROW</td><td>4096</td><td>4096</td><td>FULLDISK</td><td>64.64844</td></tr>\n",
       "<tr><td>2011-03-01 00:04:08.000</td><td>2011-03-01 00:04:09.000</td><td>SDO</td><td>AIA</td><td>304.0 .. 304.0</td><td>JSOC</td><td>intensity</td><td>NARROW</td><td>4096</td><td>4096</td><td>FULLDISK</td><td>64.64844</td></tr>\n",
       "<tr><td>2011-03-02 00:04:08.000</td><td>2011-03-02 00:04:09.000</td><td>SDO</td><td>AIA</td><td>304.0 .. 304.0</td><td>JSOC</td><td>intensity</td><td>NARROW</td><td>4096</td><td>4096</td><td>FULLDISK</td><td>64.64844</td></tr>\n",
       "</table></div></br>"
      ],
      "text/plain": [
       "<sunpy.net.fido_factory.UnifiedResponse object at 0x0000020360912A30>\n",
       "Results from 1 Provider:\n",
       "\n",
       "28 Results from the VSOClient:\n",
       "Source: http://vso.stanford.edu/cgi-bin/search\n",
       "Total estimated size: 1.898 Gbyte\n",
       "\n",
       "       Start Time               End Time        Source ... Extent Type   Size  \n",
       "                                                       ...              Mibyte \n",
       "----------------------- ----------------------- ------ ... ----------- --------\n",
       "2011-02-03 00:04:08.000 2011-02-03 00:04:09.000    SDO ...    FULLDISK 64.64844\n",
       "2011-02-04 00:04:08.000 2011-02-04 00:04:09.000    SDO ...    FULLDISK 64.64844\n",
       "2011-02-05 00:04:08.000 2011-02-05 00:04:09.000    SDO ...    FULLDISK 64.64844\n",
       "2011-02-06 00:04:08.000 2011-02-06 00:04:09.000    SDO ...    FULLDISK 64.64844\n",
       "2011-02-07 00:04:08.000 2011-02-07 00:04:09.000    SDO ...    FULLDISK 64.64844\n",
       "2011-02-08 00:04:08.000 2011-02-08 00:04:09.000    SDO ...    FULLDISK 64.64844\n",
       "2011-02-09 00:04:08.000 2011-02-09 00:04:09.000    SDO ...    FULLDISK 64.64844\n",
       "2011-02-10 00:04:08.000 2011-02-10 00:04:09.000    SDO ...    FULLDISK 64.64844\n",
       "2011-02-11 00:04:08.000 2011-02-11 00:04:09.000    SDO ...    FULLDISK 64.64844\n",
       "2011-02-12 00:04:08.000 2011-02-12 00:04:09.000    SDO ...    FULLDISK 64.64844\n",
       "                    ...                     ...    ... ...         ...      ...\n",
       "2011-02-21 00:04:08.000 2011-02-21 00:04:09.000    SDO ...    FULLDISK 64.64844\n",
       "2011-02-22 00:04:08.000 2011-02-22 00:04:09.000    SDO ...    FULLDISK 64.64844\n",
       "2011-02-23 00:04:08.000 2011-02-23 00:04:09.000    SDO ...    FULLDISK 64.64844\n",
       "2011-02-24 00:04:08.000 2011-02-24 00:04:09.000    SDO ...    FULLDISK 64.64844\n",
       "2011-02-25 00:04:08.000 2011-02-25 00:04:09.000    SDO ...    FULLDISK 64.64844\n",
       "2011-02-26 00:04:08.000 2011-02-26 00:04:09.000    SDO ...    FULLDISK 64.64844\n",
       "2011-02-27 00:04:08.000 2011-02-27 00:04:09.000    SDO ...    FULLDISK 64.64844\n",
       "2011-02-28 00:04:08.000 2011-02-28 00:04:09.000    SDO ...    FULLDISK 64.64844\n",
       "2011-03-01 00:04:08.000 2011-03-01 00:04:09.000    SDO ...    FULLDISK 64.64844\n",
       "2011-03-02 00:04:08.000 2011-03-02 00:04:09.000    SDO ...    FULLDISK 64.64844\n",
       "Length = 28 rows\n"
      ]
     },
     "execution_count": 2,
     "metadata": {},
     "output_type": "execute_result"
    }
   ],
   "source": [
    "obs_start = \"2011-02-03T00:04:00\"\n",
    "obs_end = \"2011-03-03T00:04:00\"\n",
    "obs_time = a.Time(obs_start, obs_end)\n",
    "\n",
    "unifresp = Fido.search(obs_time,a.Instrument.aia,a.Wavelength(304*u.angstrom),a.Sample(24*60*u.min)) \n",
    "unifresp"
   ]
  },
  {
   "cell_type": "code",
   "execution_count": 6,
   "id": "a1d00348-2811-43c5-852d-e6bbffe90e54",
   "metadata": {
    "tags": []
   },
   "outputs": [
    {
     "data": {
      "application/vnd.jupyter.widget-view+json": {
       "model_id": "459915d366734927a05e99105a134422",
       "version_major": 2,
       "version_minor": 0
      },
      "text/plain": [
       "Files Downloaded:   0%|          | 0/28 [00:00<?, ?file/s]"
      ]
     },
     "metadata": {},
     "output_type": "display_data"
    }
   ],
   "source": [
    "files = Fido.fetch(unifresp, path='data/AIA')"
   ]
  },
  {
   "cell_type": "code",
   "execution_count": null,
   "id": "3f9f3f26-47a8-4b5b-950a-034075d91d54",
   "metadata": {},
   "outputs": [],
   "source": []
  },
  {
   "cell_type": "code",
   "execution_count": null,
   "id": "e1c398d4-33d7-4750-bc24-728fdbf3704e",
   "metadata": {},
   "outputs": [],
   "source": []
  }
 ],
 "metadata": {
  "kernelspec": {
   "display_name": "Python 3 (ipykernel)",
   "language": "python",
   "name": "python3"
  },
  "language_info": {
   "codemirror_mode": {
    "name": "ipython",
    "version": 3
   },
   "file_extension": ".py",
   "mimetype": "text/x-python",
   "name": "python",
   "nbconvert_exporter": "python",
   "pygments_lexer": "ipython3",
   "version": "3.9.13"
  }
 },
 "nbformat": 4,
 "nbformat_minor": 5
}
