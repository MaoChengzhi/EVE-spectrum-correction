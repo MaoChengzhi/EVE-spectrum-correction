{
  "cells": [
    {
      "cell_type": "code",
      "execution_count": null,
      "metadata": {
        "collapsed": false
      },
      "outputs": [],
      "source": [
        "%matplotlib inline"
      ]
    },
    {
      "cell_type": "markdown",
      "metadata": {},
      "source": [
        "\n# Reprojecting Images to Different Observers\n\nThis example demonstrates how you can reproject images to the view from\ndifferent observers.  We use data from these two instruments:\n\n* AIA on SDO, which is in orbit around Earth\n* EUVI on STEREO A, which is in orbit around the Sun away from the Earth\n\nYou will need [reproject](https://reproject.readthedocs.io/en/stable/)_ v0.6 or higher installed.\n"
      ]
    },
    {
      "cell_type": "code",
      "execution_count": null,
      "metadata": {
        "collapsed": false
      },
      "outputs": [],
      "source": [
        "import matplotlib.pyplot as plt\n\nimport astropy.units as u\nfrom astropy.coordinates import SkyCoord\n\nimport sunpy.map\nfrom sunpy.coordinates import get_body_heliographic_stonyhurst\nfrom sunpy.data.sample import AIA_193_JUN2012, STEREO_A_195_JUN2012"
      ]
    },
    {
      "cell_type": "markdown",
      "metadata": {},
      "source": [
        "In this example we are going to make a lot of side by side figures, so\nlet's change the default figure size.\n\n"
      ]
    },
    {
      "cell_type": "code",
      "execution_count": null,
      "metadata": {
        "collapsed": false
      },
      "outputs": [],
      "source": [
        "plt.rcParams['figure.figsize'] = (16, 8)"
      ]
    },
    {
      "cell_type": "markdown",
      "metadata": {},
      "source": [
        "Create a map for each image, after making sure to sort by the\nappropriate name attribute (i.e., \"AIA\" and \"EUVI\") so that the\norder is reliable.\n\n"
      ]
    },
    {
      "cell_type": "code",
      "execution_count": null,
      "metadata": {
        "collapsed": false
      },
      "outputs": [],
      "source": [
        "map_list = sunpy.map.Map([AIA_193_JUN2012, STEREO_A_195_JUN2012])\nmap_list.sort(key=lambda m: m.detector)\nmap_aia, map_euvi = map_list\n\n# We downsample these maps to reduce memory consumption, but you can\n# comment this out.\nout_shape = (512, 512)\nmap_aia = map_aia.resample(out_shape * u.pix)\nmap_euvi = map_euvi.resample(out_shape * u.pix)"
      ]
    },
    {
      "cell_type": "markdown",
      "metadata": {},
      "source": [
        "Plot the two maps, with the solar limb as seen by each observatory\noverlaid on both plots.\n\n"
      ]
    },
    {
      "cell_type": "code",
      "execution_count": null,
      "metadata": {
        "collapsed": false
      },
      "outputs": [],
      "source": [
        "fig = plt.figure()\n\nax1 = fig.add_subplot(121, projection=map_aia)\nmap_aia.plot(axes=ax1)\nmap_aia.draw_limb(axes=ax1, color='white')\nmap_euvi.draw_limb(axes=ax1, color='red')\n\nax2 = fig.add_subplot(122, projection=map_euvi)\nmap_euvi.plot(axes=ax2)\nlimb_aia = map_aia.draw_limb(axes=ax2, color='white')\nlimb_euvi = map_euvi.draw_limb(axes=ax2, color='red')\n\nplt.legend([limb_aia[0], limb_euvi[0]],\n           ['Limb as seen by AIA', 'Limb as seen by EUVI A'])"
      ]
    },
    {
      "cell_type": "markdown",
      "metadata": {},
      "source": [
        "We now need to construct an output WCS. We build a custom header using\n:func:`sunpy.map.header_helper.make_fitswcs_header` but we use a lot of the ``map_aia``\nproperties to do it.\n\n"
      ]
    },
    {
      "cell_type": "code",
      "execution_count": null,
      "metadata": {
        "collapsed": false
      },
      "outputs": [],
      "source": [
        "out_header = sunpy.map.make_fitswcs_header(\n    out_shape,\n    map_aia.reference_coordinate.replicate(rsun=map_euvi.reference_coordinate.rsun),\n    scale=u.Quantity(map_aia.scale),\n    instrument=\"EUVI\",\n    observatory=\"AIA Observer\",\n    wavelength=map_euvi.wavelength\n)"
      ]
    },
    {
      "cell_type": "markdown",
      "metadata": {},
      "source": [
        "We can now reproject the EUVI map to this output WCS header.\nThe :meth:`~sunpy.map.GenericMap.reproject_to` defaults to using\nthe fast :func:`reproject.reproject_interp` algorithm, but a different\nalgorithm can be specified (e.g., :func:`reproject.reproject_adaptive`).\n\n"
      ]
    },
    {
      "cell_type": "code",
      "execution_count": null,
      "metadata": {
        "collapsed": false
      },
      "outputs": [],
      "source": [
        "outmap = map_euvi.reproject_to(out_header)"
      ]
    },
    {
      "cell_type": "markdown",
      "metadata": {},
      "source": [
        "We can now plot the STEREO/EUVI image as seen from the position of\nSDO, next to the AIA image.\n\n"
      ]
    },
    {
      "cell_type": "code",
      "execution_count": null,
      "metadata": {
        "collapsed": false
      },
      "outputs": [],
      "source": [
        "fig = plt.figure()\nax1 = fig.add_subplot(121, projection=map_aia)\nmap_aia.plot(axes=ax1)\nax2 = fig.add_subplot(122, projection=outmap)\noutmap.plot(axes=ax2, title='EUVI image as seen from SDO')\nmap_euvi.draw_limb(color='blue')\n\n# Set the HPC grid color to black as the background is white\nax2.coords[0].grid_lines_kwargs['edgecolor'] = 'k'\nax2.coords[1].grid_lines_kwargs['edgecolor'] = 'k'"
      ]
    },
    {
      "cell_type": "markdown",
      "metadata": {},
      "source": [
        "## AIA as Seen from Mars\n\nThe new observer coordinate doesn't have to be associated with an\nexisting Map. sunpy provides a function which can get the location\ncoordinate for any known body. In this example, we use Mars.\n\n"
      ]
    },
    {
      "cell_type": "code",
      "execution_count": null,
      "metadata": {
        "collapsed": false
      },
      "outputs": [],
      "source": [
        "mars = get_body_heliographic_stonyhurst('mars', map_aia.date)"
      ]
    },
    {
      "cell_type": "markdown",
      "metadata": {},
      "source": [
        "To generate a target WCS, we first need an appropriate reference\ncoordinate, which is similar to the one for AIA, except now with\nthe observer at Mars.\n\n"
      ]
    },
    {
      "cell_type": "code",
      "execution_count": null,
      "metadata": {
        "collapsed": false
      },
      "outputs": [],
      "source": [
        "mars_ref_coord = SkyCoord(0*u.arcsec, 0*u.arcsec,\n                          obstime=map_aia.reference_coordinate.obstime,\n                          observer=mars,\n                          rsun=map_aia.reference_coordinate.rsun,\n                          frame=\"helioprojective\")"
      ]
    },
    {
      "cell_type": "markdown",
      "metadata": {},
      "source": [
        "We then create the WCS header.\n\n"
      ]
    },
    {
      "cell_type": "code",
      "execution_count": null,
      "metadata": {
        "collapsed": false
      },
      "outputs": [],
      "source": [
        "mars_header = sunpy.map.make_fitswcs_header(\n    out_shape,\n    mars_ref_coord,\n    scale=u.Quantity(map_aia.scale),\n    rotation_matrix=map_aia.rotation_matrix,\n    instrument=\"AIA\",\n    wavelength=map_aia.wavelength\n)"
      ]
    },
    {
      "cell_type": "markdown",
      "metadata": {},
      "source": [
        "We generate the output map and plot it next to the original image.\n\n"
      ]
    },
    {
      "cell_type": "code",
      "execution_count": null,
      "metadata": {
        "collapsed": false
      },
      "outputs": [],
      "source": [
        "outmap = map_aia.reproject_to(mars_header)\n\nfig = plt.figure()\n\nax1 = fig.add_subplot(121, projection=map_aia)\nmap_aia.plot(axes=ax1)\nmap_aia.draw_grid(color='w')\n\nax2 = fig.add_subplot(122, projection=outmap)\noutmap.plot(axes=ax2, title='AIA observation as seen from Mars')\nmap_aia.draw_grid(color='w')\nmap_aia.draw_limb(color='blue')\n\nplt.show()"
      ]
    }
  ],
  "metadata": {
    "kernelspec": {
      "display_name": "Python 3",
      "language": "python",
      "name": "python3"
    },
    "language_info": {
      "codemirror_mode": {
        "name": "ipython",
        "version": 3
      },
      "file_extension": ".py",
      "mimetype": "text/x-python",
      "name": "python",
      "nbconvert_exporter": "python",
      "pygments_lexer": "ipython3",
      "version": "3.10.10"
    }
  },
  "nbformat": 4,
  "nbformat_minor": 0
}