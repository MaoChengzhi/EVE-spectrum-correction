{
 "cells": [
  {
   "cell_type": "code",
   "execution_count": 1,
   "id": "8fef4ec6-be8a-4043-8f3a-97edff6a5c2e",
   "metadata": {},
   "outputs": [],
   "source": [
    "from sunpy.net import Fido, attrs as a\n",
    "import astropy.units as u"
   ]
  },
  {
   "cell_type": "markdown",
   "id": "421ce60e-0404-4663-b2de-9b7066868624",
   "metadata": {
    "tags": []
   },
   "source": [
    "## download AIA "
   ]
  },
  {
   "cell_type": "code",
   "execution_count": null,
   "id": "185f3711-6543-432c-89e3-0072439a66b6",
   "metadata": {
    "tags": []
   },
   "outputs": [],
   "source": [
    "obs_start =\"2010-06-01T00:00:00\"\n",
    "obs_end =  \"2014-06-01T00:00:00\"\n",
    "obs_time = a.Time(obs_start, obs_end)\n",
    "\n",
    "unifresp = Fido.search(obs_time,a.Instrument.aia,a.Wavelength(304*u.angstrom),a.Sample(24*60*u.min)\n",
    "                        )  \n",
    "unifresp"
   ]
  },
  {
   "cell_type": "code",
   "execution_count": 4,
   "id": "a1d00348-2811-43c5-852d-e6bbffe90e54",
   "metadata": {
    "tags": []
   },
   "outputs": [
    {
     "data": {
      "application/vnd.jupyter.widget-view+json": {
       "model_id": "82a2075b1d87463f91b599582eaddc31",
       "version_major": 2,
       "version_minor": 0
      },
      "text/plain": [
       "Files Downloaded:   0%|          | 0/1460 [00:00<?, ?file/s]"
      ]
     },
     "metadata": {},
     "output_type": "display_data"
    },
    {
     "data": {
      "application/vnd.jupyter.widget-view+json": {
       "model_id": "",
       "version_major": 2,
       "version_minor": 0
      },
      "text/plain": [
       "aia_lev1_304a_2014_03_25t00_00_07_14z_image_lev1.fits:   0%|          | 0.00/8.84M [00:00<?, ?B/s]"
      ]
     },
     "metadata": {},
     "output_type": "display_data"
    },
    {
     "data": {
      "application/vnd.jupyter.widget-view+json": {
       "model_id": "",
       "version_major": 2,
       "version_minor": 0
      },
      "text/plain": [
       "aia_lev1_304a_2014_03_24t00_00_07_12z_image_lev1.fits:   0%|          | 0.00/8.85M [00:00<?, ?B/s]"
      ]
     },
     "metadata": {},
     "output_type": "display_data"
    },
    {
     "data": {
      "application/vnd.jupyter.widget-view+json": {
       "model_id": "",
       "version_major": 2,
       "version_minor": 0
      },
      "text/plain": [
       "aia_lev1_304a_2014_03_28t00_00_07_14z_image_lev1.fits:   0%|          | 0.00/8.82M [00:00<?, ?B/s]"
      ]
     },
     "metadata": {},
     "output_type": "display_data"
    },
    {
     "data": {
      "application/vnd.jupyter.widget-view+json": {
       "model_id": "",
       "version_major": 2,
       "version_minor": 0
      },
      "text/plain": [
       "aia_lev1_304a_2014_03_29t00_00_07_13z_image_lev1.fits:   0%|          | 0.00/8.83M [00:00<?, ?B/s]"
      ]
     },
     "metadata": {},
     "output_type": "display_data"
    },
    {
     "data": {
      "application/vnd.jupyter.widget-view+json": {
       "model_id": "",
       "version_major": 2,
       "version_minor": 0
      },
      "text/plain": [
       "aia_lev1_304a_2014_03_30t00_00_07_12z_image_lev1.fits:   0%|          | 0.00/8.81M [00:00<?, ?B/s]"
      ]
     },
     "metadata": {},
     "output_type": "display_data"
    },
    {
     "data": {
      "application/vnd.jupyter.widget-view+json": {
       "model_id": "",
       "version_major": 2,
       "version_minor": 0
      },
      "text/plain": [
       "aia_lev1_304a_2014_05_21t00_00_07_12z_image_lev1.fits:   0%|          | 0.00/8.57M [00:00<?, ?B/s]"
      ]
     },
     "metadata": {},
     "output_type": "display_data"
    }
   ],
   "source": [
    "files = Fido.fetch(unifresp, path='data/AIA', max_conn=64)"
   ]
  },
  {
   "cell_type": "markdown",
   "id": "c70572e1-f954-4007-ade7-ced9f89031c7",
   "metadata": {},
   "source": [
    "### manual download"
   ]
  },
  {
   "cell_type": "code",
   "execution_count": 2,
   "id": "b103f5d4-7ae8-4b58-8461-cef0d368cddf",
   "metadata": {},
   "outputs": [
    {
     "ename": "SyntaxError",
     "evalue": "invalid syntax (1898751186.py, line 1)",
     "output_type": "error",
     "traceback": [
      "\u001b[1;36m  Cell \u001b[1;32mIn[2], line 1\u001b[1;36m\u001b[0m\n\u001b[1;33m    not center aia_part\\data\\AIA_1p5\\aia_lev1_304a_2011_08_23t00_00_06_20z_image_lev1_adjusted.fits\u001b[0m\n\u001b[1;37m               ^\u001b[0m\n\u001b[1;31mSyntaxError\u001b[0m\u001b[1;31m:\u001b[0m invalid syntax\n"
     ]
    }
   ],
   "source": [
    "not center aia_part\\data\\AIA_1p5\\aia_lev1_304a_2011_08_23t00_00_06_20z_image_lev1_adjusted.fits\n",
    "not center aia_part\\data\\AIA_1p5\\aia_lev1_304a_2011_10_27t00_00_06_21z_image_lev1_adjusted.fits\n",
    "not center aia_part\\data\\AIA_1p5\\aia_lev1_304a_2011_12_16t00_00_08_12z_image_lev1_adjusted.fits"
   ]
  },
  {
   "cell_type": "code",
   "execution_count": 2,
   "id": "43ebbcfc-8d63-492d-a900-dec4808840bc",
   "metadata": {},
   "outputs": [
    {
     "data": {
      "text/html": [
       "Results from 1 Provider:</br></br>1 Results from the VSOClient:</br><div><i>VSOQueryResponseTable length=1</i>\n",
       "<table id=\"table1987025885024\" class=\"table-striped table-bordered table-condensed\">\n",
       "<thead><tr><th>Start Time</th><th>End Time</th><th>Source</th><th>Instrument</th><th>Wavelength</th><th>Provider</th><th>Physobs</th><th>Wavetype</th><th>Extent Width</th><th>Extent Length</th><th>Extent Type</th><th>Size</th></tr></thead>\n",
       "<thead><tr><th></th><th></th><th></th><th></th><th>Angstrom</th><th></th><th></th><th></th><th></th><th></th><th></th><th>Mibyte</th></tr></thead>\n",
       "<thead><tr><th>Time</th><th>Time</th><th>str3</th><th>str3</th><th>float64[2]</th><th>str4</th><th>str9</th><th>str6</th><th>str4</th><th>str4</th><th>str8</th><th>float64</th></tr></thead>\n",
       "<tr><td>2011-08-23 01:00:08.000</td><td>2011-08-23 01:00:09.000</td><td>SDO</td><td>AIA</td><td>304.0 .. 304.0</td><td>JSOC</td><td>intensity</td><td>NARROW</td><td>4096</td><td>4096</td><td>FULLDISK</td><td>64.64844</td></tr>\n",
       "</table></div></br>"
      ],
      "text/plain": [
       "<sunpy.net.fido_factory.UnifiedResponse object at 0x000001CEA3B212B0>\n",
       "Results from 1 Provider:\n",
       "\n",
       "1 Results from the VSOClient:\n",
       "Source: http://vso.stanford.edu/cgi-bin/search\n",
       "Total estimated size: 67.789 Mbyte\n",
       "\n",
       "       Start Time               End Time        Source ... Extent Type   Size  \n",
       "                                                       ...              Mibyte \n",
       "----------------------- ----------------------- ------ ... ----------- --------\n",
       "2011-08-23 01:00:08.000 2011-08-23 01:00:09.000    SDO ...    FULLDISK 64.64844\n"
      ]
     },
     "execution_count": 2,
     "metadata": {},
     "output_type": "execute_result"
    }
   ],
   "source": [
    "obs_start =\"2011-08-23T01:00:00\"\n",
    "obs_end =  \"2011-08-23T01:00:10\"\n",
    "obs_time = a.Time(obs_start, obs_end)\n",
    "\n",
    "unifresp = Fido.search(obs_time,a.Instrument.aia,a.Wavelength(304*u.angstrom),a.Sample(24*60*u.min)\n",
    "                        )  \n",
    "unifresp"
   ]
  },
  {
   "cell_type": "code",
   "execution_count": 3,
   "id": "fee6bea9-582b-4ff4-8f38-40772caa58d5",
   "metadata": {},
   "outputs": [
    {
     "data": {
      "application/vnd.jupyter.widget-view+json": {
       "model_id": "69b8ffebe8cc459fa8cdcb5c8b301cd0",
       "version_major": 2,
       "version_minor": 0
      },
      "text/plain": [
       "Files Downloaded:   0%|          | 0/1 [00:00<?, ?file/s]"
      ]
     },
     "metadata": {},
     "output_type": "display_data"
    },
    {
     "data": {
      "application/vnd.jupyter.widget-view+json": {
       "model_id": "",
       "version_major": 2,
       "version_minor": 0
      },
      "text/plain": [
       "aia_lev1_304a_2011_08_23t01_00_08_12z_image_lev1.fits:   0%|          | 0.00/9.14M [00:00<?, ?B/s]"
      ]
     },
     "metadata": {},
     "output_type": "display_data"
    }
   ],
   "source": [
    "files = Fido.fetch(unifresp,path='data/AIA_manual')"
   ]
  },
  {
   "cell_type": "markdown",
   "id": "508b7f5f-3b73-419b-b161-ea2a9116f043",
   "metadata": {},
   "source": [
    "### manual 2"
   ]
  },
  {
   "cell_type": "code",
   "execution_count": 4,
   "id": "4046cdbe-623d-4cef-a73d-590e45126d86",
   "metadata": {},
   "outputs": [
    {
     "data": {
      "text/html": [
       "Results from 1 Provider:</br></br>1 Results from the VSOClient:</br><div><i>VSOQueryResponseTable length=1</i>\n",
       "<table id=\"table1987026106640\" class=\"table-striped table-bordered table-condensed\">\n",
       "<thead><tr><th>Start Time</th><th>End Time</th><th>Source</th><th>Instrument</th><th>Wavelength</th><th>Provider</th><th>Physobs</th><th>Wavetype</th><th>Extent Width</th><th>Extent Length</th><th>Extent Type</th><th>Size</th></tr></thead>\n",
       "<thead><tr><th></th><th></th><th></th><th></th><th>Angstrom</th><th></th><th></th><th></th><th></th><th></th><th></th><th>Mibyte</th></tr></thead>\n",
       "<thead><tr><th>Time</th><th>Time</th><th>str3</th><th>str3</th><th>float64[2]</th><th>str4</th><th>str9</th><th>str6</th><th>str4</th><th>str4</th><th>str8</th><th>float64</th></tr></thead>\n",
       "<tr><td>2011-10-27 01:00:08.000</td><td>2011-10-27 01:00:09.000</td><td>SDO</td><td>AIA</td><td>304.0 .. 304.0</td><td>JSOC</td><td>intensity</td><td>NARROW</td><td>4096</td><td>4096</td><td>FULLDISK</td><td>64.64844</td></tr>\n",
       "</table></div></br>"
      ],
      "text/plain": [
       "<sunpy.net.fido_factory.UnifiedResponse object at 0x000001CEA3FC3EE0>\n",
       "Results from 1 Provider:\n",
       "\n",
       "1 Results from the VSOClient:\n",
       "Source: http://vso.stanford.edu/cgi-bin/search\n",
       "Total estimated size: 67.789 Mbyte\n",
       "\n",
       "       Start Time               End Time        Source ... Extent Type   Size  \n",
       "                                                       ...              Mibyte \n",
       "----------------------- ----------------------- ------ ... ----------- --------\n",
       "2011-10-27 01:00:08.000 2011-10-27 01:00:09.000    SDO ...    FULLDISK 64.64844\n"
      ]
     },
     "execution_count": 4,
     "metadata": {},
     "output_type": "execute_result"
    }
   ],
   "source": [
    "obs_start =\"2011-10-27T01:00:00\"\n",
    "obs_end =  \"2011-10-27T01:00:10\"\n",
    "obs_time = a.Time(obs_start, obs_end)\n",
    "\n",
    "unifresp = Fido.search(obs_time,a.Instrument.aia,a.Wavelength(304*u.angstrom),a.Sample(24*60*u.min)\n",
    "                        )  \n",
    "unifresp"
   ]
  },
  {
   "cell_type": "code",
   "execution_count": 5,
   "id": "0de4adcb-3228-4173-8d50-72cae4ae63c2",
   "metadata": {},
   "outputs": [
    {
     "data": {
      "application/vnd.jupyter.widget-view+json": {
       "model_id": "be34aa16fb034ecbab45ee91a9073818",
       "version_major": 2,
       "version_minor": 0
      },
      "text/plain": [
       "Files Downloaded:   0%|          | 0/1 [00:00<?, ?file/s]"
      ]
     },
     "metadata": {},
     "output_type": "display_data"
    },
    {
     "data": {
      "application/vnd.jupyter.widget-view+json": {
       "model_id": "",
       "version_major": 2,
       "version_minor": 0
      },
      "text/plain": [
       "aia_lev1_304a_2011_10_27t01_00_08_13z_image_lev1.fits:   0%|          | 0.00/9.24M [00:00<?, ?B/s]"
      ]
     },
     "metadata": {},
     "output_type": "display_data"
    }
   ],
   "source": [
    "files = Fido.fetch(unifresp,path='data/AIA_manual')"
   ]
  },
  {
   "cell_type": "markdown",
   "id": "5892f630-1a64-4c65-a60c-c72227aa6e8d",
   "metadata": {},
   "source": [
    "### manual 3"
   ]
  },
  {
   "cell_type": "code",
   "execution_count": 6,
   "id": "07c209c5-a2d5-4594-966f-0307604f7139",
   "metadata": {},
   "outputs": [
    {
     "data": {
      "text/html": [
       "Results from 1 Provider:</br></br>1 Results from the VSOClient:</br><div><i>VSOQueryResponseTable length=1</i>\n",
       "<table id=\"table1987026875104\" class=\"table-striped table-bordered table-condensed\">\n",
       "<thead><tr><th>Start Time</th><th>End Time</th><th>Source</th><th>Instrument</th><th>Wavelength</th><th>Provider</th><th>Physobs</th><th>Wavetype</th><th>Extent Width</th><th>Extent Length</th><th>Extent Type</th><th>Size</th></tr></thead>\n",
       "<thead><tr><th></th><th></th><th></th><th></th><th>Angstrom</th><th></th><th></th><th></th><th></th><th></th><th></th><th>Mibyte</th></tr></thead>\n",
       "<thead><tr><th>Time</th><th>Time</th><th>str3</th><th>str3</th><th>float64[2]</th><th>str4</th><th>str9</th><th>str6</th><th>str4</th><th>str4</th><th>str8</th><th>float64</th></tr></thead>\n",
       "<tr><td>2011-12-16 01:00:08.000</td><td>2011-12-16 01:00:09.000</td><td>SDO</td><td>AIA</td><td>304.0 .. 304.0</td><td>JSOC</td><td>intensity</td><td>NARROW</td><td>4096</td><td>4096</td><td>FULLDISK</td><td>64.64844</td></tr>\n",
       "</table></div></br>"
      ],
      "text/plain": [
       "<sunpy.net.fido_factory.UnifiedResponse object at 0x000001CEA4063880>\n",
       "Results from 1 Provider:\n",
       "\n",
       "1 Results from the VSOClient:\n",
       "Source: http://vso.stanford.edu/cgi-bin/search\n",
       "Total estimated size: 67.789 Mbyte\n",
       "\n",
       "       Start Time               End Time        Source ... Extent Type   Size  \n",
       "                                                       ...              Mibyte \n",
       "----------------------- ----------------------- ------ ... ----------- --------\n",
       "2011-12-16 01:00:08.000 2011-12-16 01:00:09.000    SDO ...    FULLDISK 64.64844\n"
      ]
     },
     "execution_count": 6,
     "metadata": {},
     "output_type": "execute_result"
    }
   ],
   "source": [
    "obs_start =\"2011-12-16T01:00:00\"\n",
    "obs_end =  \"2011-12-16T01:00:10\"\n",
    "obs_time = a.Time(obs_start, obs_end)\n",
    "\n",
    "unifresp = Fido.search(obs_time,a.Instrument.aia,a.Wavelength(304*u.angstrom),a.Sample(24*60*u.min)\n",
    "                        )  \n",
    "unifresp"
   ]
  },
  {
   "cell_type": "code",
   "execution_count": 7,
   "id": "003cc14f-27b2-4b8c-a28d-d495a36e45a0",
   "metadata": {},
   "outputs": [
    {
     "data": {
      "application/vnd.jupyter.widget-view+json": {
       "model_id": "6553f5b4b11d4a3da45956bea3911932",
       "version_major": 2,
       "version_minor": 0
      },
      "text/plain": [
       "Files Downloaded:   0%|          | 0/1 [00:00<?, ?file/s]"
      ]
     },
     "metadata": {},
     "output_type": "display_data"
    },
    {
     "data": {
      "application/vnd.jupyter.widget-view+json": {
       "model_id": "",
       "version_major": 2,
       "version_minor": 0
      },
      "text/plain": [
       "aia_lev1_304a_2011_12_16t01_00_08_12z_image_lev1.fits:   0%|          | 0.00/9.25M [00:00<?, ?B/s]"
      ]
     },
     "metadata": {},
     "output_type": "display_data"
    }
   ],
   "source": [
    "files = Fido.fetch(unifresp,path='data/AIA_manual')"
   ]
  },
  {
   "cell_type": "code",
   "execution_count": null,
   "id": "594c0680-8348-495b-93a6-96e64341fa96",
   "metadata": {},
   "outputs": [],
   "source": []
  }
 ],
 "metadata": {
  "kernelspec": {
   "display_name": "Python 3 (ipykernel)",
   "language": "python",
   "name": "python3"
  },
  "language_info": {
   "codemirror_mode": {
    "name": "ipython",
    "version": 3
   },
   "file_extension": ".py",
   "mimetype": "text/x-python",
   "name": "python",
   "nbconvert_exporter": "python",
   "pygments_lexer": "ipython3",
   "version": "3.9.16"
  }
 },
 "nbformat": 4,
 "nbformat_minor": 5
}
