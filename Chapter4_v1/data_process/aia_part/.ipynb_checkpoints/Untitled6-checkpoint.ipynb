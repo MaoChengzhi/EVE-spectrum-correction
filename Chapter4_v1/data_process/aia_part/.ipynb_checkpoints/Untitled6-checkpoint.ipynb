{
 "cells": [
  {
   "cell_type": "code",
   "execution_count": 1,
   "id": "ac500323-84b3-4a8e-b6be-62548860484e",
   "metadata": {},
   "outputs": [],
   "source": [
    "from sunpy.net import Fido, attrs as a\n",
    "import astropy.units as u"
   ]
  },
  {
   "cell_type": "code",
   "execution_count": 2,
   "id": "7752eadb-5ae4-4c90-9cfc-44c6ad5f404b",
   "metadata": {},
   "outputs": [],
   "source": [
    "\n"
   ]
  },
  {
   "cell_type": "code",
   "execution_count": 3,
   "id": "079dbc70-a69f-40e1-bb65-4ba439afb921",
   "metadata": {
    "collapsed": true,
    "jupyter": {
     "outputs_hidden": true
    },
    "tags": []
   },
   "outputs": [
    {
     "data": {
      "text/html": [
       "Results from 1 Provider:</br></br>1460 Results from the VSOClient:</br><div><i>VSOQueryResponseTable length=1460</i>\n",
       "<table id=\"table2225856617920\" class=\"table-striped table-bordered table-condensed\">\n",
       "<thead><tr><th>Start Time</th><th>End Time</th><th>Source</th><th>Instrument</th><th>Wavelength</th><th>Provider</th><th>Physobs</th><th>Wavetype</th><th>Extent Width</th><th>Extent Length</th><th>Extent Type</th><th>Size</th></tr></thead>\n",
       "<thead><tr><th></th><th></th><th></th><th></th><th>Angstrom</th><th></th><th></th><th></th><th></th><th></th><th></th><th>Mibyte</th></tr></thead>\n",
       "<thead><tr><th>Time</th><th>Time</th><th>str3</th><th>str3</th><th>float64[2]</th><th>str4</th><th>str9</th><th>str6</th><th>str4</th><th>str4</th><th>str8</th><th>float64</th></tr></thead>\n",
       "<tr><td>2010-06-01 00:00:08.000</td><td>2010-06-01 00:00:09.000</td><td>SDO</td><td>AIA</td><td>304.0 .. 304.0</td><td>JSOC</td><td>intensity</td><td>NARROW</td><td>4096</td><td>4096</td><td>FULLDISK</td><td>64.64844</td></tr>\n",
       "<tr><td>2010-06-02 00:05:38.000</td><td>2010-06-02 00:05:39.000</td><td>SDO</td><td>AIA</td><td>304.0 .. 304.0</td><td>JSOC</td><td>intensity</td><td>NARROW</td><td>4096</td><td>4096</td><td>FULLDISK</td><td>64.64844</td></tr>\n",
       "<tr><td>2010-06-03 00:00:02.000</td><td>2010-06-03 00:00:03.000</td><td>SDO</td><td>AIA</td><td>304.0 .. 304.0</td><td>JSOC</td><td>intensity</td><td>NARROW</td><td>4096</td><td>4096</td><td>FULLDISK</td><td>64.64844</td></tr>\n",
       "<tr><td>2010-06-04 00:00:02.000</td><td>2010-06-04 00:00:03.000</td><td>SDO</td><td>AIA</td><td>304.0 .. 304.0</td><td>JSOC</td><td>intensity</td><td>NARROW</td><td>4096</td><td>4096</td><td>FULLDISK</td><td>64.64844</td></tr>\n",
       "<tr><td>2010-06-05 00:00:05.000</td><td>2010-06-05 00:00:06.000</td><td>SDO</td><td>AIA</td><td>304.0 .. 304.0</td><td>JSOC</td><td>intensity</td><td>NARROW</td><td>4096</td><td>4096</td><td>FULLDISK</td><td>64.64844</td></tr>\n",
       "<tr><td>2010-06-06 00:00:05.000</td><td>2010-06-06 00:00:06.000</td><td>SDO</td><td>AIA</td><td>304.0 .. 304.0</td><td>JSOC</td><td>intensity</td><td>NARROW</td><td>4096</td><td>4096</td><td>FULLDISK</td><td>64.64844</td></tr>\n",
       "<tr><td>2010-06-07 00:00:05.000</td><td>2010-06-07 00:00:06.000</td><td>SDO</td><td>AIA</td><td>304.0 .. 304.0</td><td>JSOC</td><td>intensity</td><td>NARROW</td><td>4096</td><td>4096</td><td>FULLDISK</td><td>64.64844</td></tr>\n",
       "<tr><td>2010-06-08 00:00:05.000</td><td>2010-06-08 00:00:06.000</td><td>SDO</td><td>AIA</td><td>304.0 .. 304.0</td><td>JSOC</td><td>intensity</td><td>NARROW</td><td>4096</td><td>4096</td><td>FULLDISK</td><td>64.64844</td></tr>\n",
       "<tr><td>2010-06-09 00:00:05.000</td><td>2010-06-09 00:00:06.000</td><td>SDO</td><td>AIA</td><td>304.0 .. 304.0</td><td>JSOC</td><td>intensity</td><td>NARROW</td><td>4096</td><td>4096</td><td>FULLDISK</td><td>64.64844</td></tr>\n",
       "<tr><td>...</td><td>...</td><td>...</td><td>...</td><td>...</td><td>...</td><td>...</td><td>...</td><td>...</td><td>...</td><td>...</td><td>...</td></tr>\n",
       "<tr><td>2014-05-22 00:00:07.000</td><td>2014-05-22 00:00:08.000</td><td>SDO</td><td>AIA</td><td>304.0 .. 304.0</td><td>JSOC</td><td>intensity</td><td>NARROW</td><td>4096</td><td>4096</td><td>FULLDISK</td><td>64.64844</td></tr>\n",
       "<tr><td>2014-05-23 00:00:07.000</td><td>2014-05-23 00:00:08.000</td><td>SDO</td><td>AIA</td><td>304.0 .. 304.0</td><td>JSOC</td><td>intensity</td><td>NARROW</td><td>4096</td><td>4096</td><td>FULLDISK</td><td>64.64844</td></tr>\n",
       "<tr><td>2014-05-24 00:00:07.000</td><td>2014-05-24 00:00:08.000</td><td>SDO</td><td>AIA</td><td>304.0 .. 304.0</td><td>JSOC</td><td>intensity</td><td>NARROW</td><td>4096</td><td>4096</td><td>FULLDISK</td><td>64.64844</td></tr>\n",
       "<tr><td>2014-05-25 00:00:07.000</td><td>2014-05-25 00:00:08.000</td><td>SDO</td><td>AIA</td><td>304.0 .. 304.0</td><td>JSOC</td><td>intensity</td><td>NARROW</td><td>4096</td><td>4096</td><td>FULLDISK</td><td>64.64844</td></tr>\n",
       "<tr><td>2014-05-26 00:00:07.000</td><td>2014-05-26 00:00:08.000</td><td>SDO</td><td>AIA</td><td>304.0 .. 304.0</td><td>JSOC</td><td>intensity</td><td>NARROW</td><td>4096</td><td>4096</td><td>FULLDISK</td><td>64.64844</td></tr>\n",
       "<tr><td>2014-05-27 00:00:07.000</td><td>2014-05-27 00:00:08.000</td><td>SDO</td><td>AIA</td><td>304.0 .. 304.0</td><td>JSOC</td><td>intensity</td><td>NARROW</td><td>4096</td><td>4096</td><td>FULLDISK</td><td>64.64844</td></tr>\n",
       "<tr><td>2014-05-28 00:00:07.000</td><td>2014-05-28 00:00:08.000</td><td>SDO</td><td>AIA</td><td>304.0 .. 304.0</td><td>JSOC</td><td>intensity</td><td>NARROW</td><td>4096</td><td>4096</td><td>FULLDISK</td><td>64.64844</td></tr>\n",
       "<tr><td>2014-05-29 00:00:07.000</td><td>2014-05-29 00:00:08.000</td><td>SDO</td><td>AIA</td><td>304.0 .. 304.0</td><td>JSOC</td><td>intensity</td><td>NARROW</td><td>4096</td><td>4096</td><td>FULLDISK</td><td>64.64844</td></tr>\n",
       "<tr><td>2014-05-30 00:00:07.000</td><td>2014-05-30 00:00:08.000</td><td>SDO</td><td>AIA</td><td>304.0 .. 304.0</td><td>JSOC</td><td>intensity</td><td>NARROW</td><td>4096</td><td>4096</td><td>FULLDISK</td><td>64.64844</td></tr>\n",
       "<tr><td>2014-05-31 00:00:07.000</td><td>2014-05-31 00:00:08.000</td><td>SDO</td><td>AIA</td><td>304.0 .. 304.0</td><td>JSOC</td><td>intensity</td><td>NARROW</td><td>4096</td><td>4096</td><td>FULLDISK</td><td>64.64844</td></tr>\n",
       "</table></div></br>"
      ],
      "text/plain": [
       "<sunpy.net.fido_factory.UnifiedResponse object at 0x000002063962BB80>\n",
       "Results from 1 Provider:\n",
       "\n",
       "1460 Results from the VSOClient:\n",
       "Source: http://vso.stanford.edu/cgi-bin/search\n",
       "Total estimated size: 98.972 Gbyte\n",
       "\n",
       "       Start Time               End Time        Source ... Extent Type   Size  \n",
       "                                                       ...              Mibyte \n",
       "----------------------- ----------------------- ------ ... ----------- --------\n",
       "2010-06-01 00:00:08.000 2010-06-01 00:00:09.000    SDO ...    FULLDISK 64.64844\n",
       "2010-06-02 00:05:38.000 2010-06-02 00:05:39.000    SDO ...    FULLDISK 64.64844\n",
       "2010-06-03 00:00:02.000 2010-06-03 00:00:03.000    SDO ...    FULLDISK 64.64844\n",
       "2010-06-04 00:00:02.000 2010-06-04 00:00:03.000    SDO ...    FULLDISK 64.64844\n",
       "2010-06-05 00:00:05.000 2010-06-05 00:00:06.000    SDO ...    FULLDISK 64.64844\n",
       "2010-06-06 00:00:05.000 2010-06-06 00:00:06.000    SDO ...    FULLDISK 64.64844\n",
       "2010-06-07 00:00:05.000 2010-06-07 00:00:06.000    SDO ...    FULLDISK 64.64844\n",
       "2010-06-08 00:00:05.000 2010-06-08 00:00:06.000    SDO ...    FULLDISK 64.64844\n",
       "2010-06-09 00:00:05.000 2010-06-09 00:00:06.000    SDO ...    FULLDISK 64.64844\n",
       "2010-06-10 00:00:05.000 2010-06-10 00:00:06.000    SDO ...    FULLDISK 64.64844\n",
       "                    ...                     ...    ... ...         ...      ...\n",
       "2014-05-22 00:00:07.000 2014-05-22 00:00:08.000    SDO ...    FULLDISK 64.64844\n",
       "2014-05-23 00:00:07.000 2014-05-23 00:00:08.000    SDO ...    FULLDISK 64.64844\n",
       "2014-05-24 00:00:07.000 2014-05-24 00:00:08.000    SDO ...    FULLDISK 64.64844\n",
       "2014-05-25 00:00:07.000 2014-05-25 00:00:08.000    SDO ...    FULLDISK 64.64844\n",
       "2014-05-26 00:00:07.000 2014-05-26 00:00:08.000    SDO ...    FULLDISK 64.64844\n",
       "2014-05-27 00:00:07.000 2014-05-27 00:00:08.000    SDO ...    FULLDISK 64.64844\n",
       "2014-05-28 00:00:07.000 2014-05-28 00:00:08.000    SDO ...    FULLDISK 64.64844\n",
       "2014-05-29 00:00:07.000 2014-05-29 00:00:08.000    SDO ...    FULLDISK 64.64844\n",
       "2014-05-30 00:00:07.000 2014-05-30 00:00:08.000    SDO ...    FULLDISK 64.64844\n",
       "2014-05-31 00:00:07.000 2014-05-31 00:00:08.000    SDO ...    FULLDISK 64.64844\n",
       "Length = 1460 rows\n"
      ]
     },
     "execution_count": 3,
     "metadata": {},
     "output_type": "execute_result"
    }
   ],
   "source": [
    "unifresp"
   ]
  },
  {
   "cell_type": "code",
   "execution_count": null,
   "id": "6a94e1a8-6c41-4f35-b0ad-cb8c49aa79fb",
   "metadata": {},
   "outputs": [
    {
     "data": {
      "application/vnd.jupyter.widget-view+json": {
       "model_id": "576ae9c2ae804bee824c8bc0dcbf88c7",
       "version_major": 2,
       "version_minor": 0
      },
      "text/plain": [
       "Files Downloaded:   0%|          | 0/1460 [00:00<?, ?file/s]"
      ]
     },
     "metadata": {},
     "output_type": "display_data"
    },
    {
     "data": {
      "application/vnd.jupyter.widget-view+json": {
       "model_id": "f64d0ab0e8f044708c5391bee3aae795",
       "version_major": 2,
       "version_minor": 0
      },
      "text/plain": [
       "aia_lev1_304a_2010_06_05t00_00_05_50z_image_lev1.fits:   0%|          | 0.00/6.91M [00:00<?, ?B/s]"
      ]
     },
     "metadata": {},
     "output_type": "display_data"
    },
    {
     "data": {
      "application/vnd.jupyter.widget-view+json": {
       "model_id": "",
       "version_major": 2,
       "version_minor": 0
      },
      "text/plain": [
       "aia_lev1_304a_2010_06_03t00_00_02_13z_image_lev1.fits:   0%|          | 0.00/10.3M [00:00<?, ?B/s]"
      ]
     },
     "metadata": {},
     "output_type": "display_data"
    },
    {
     "data": {
      "application/vnd.jupyter.widget-view+json": {
       "model_id": "ba88b1e8bb9742fe942688c96a760091",
       "version_major": 2,
       "version_minor": 0
      },
      "text/plain": [
       "aia_lev1_304a_2010_06_04t00_00_02_13z_image_lev1.fits:   0%|          | 0.00/10.2M [00:00<?, ?B/s]"
      ]
     },
     "metadata": {},
     "output_type": "display_data"
    },
    {
     "data": {
      "application/vnd.jupyter.widget-view+json": {
       "model_id": "",
       "version_major": 2,
       "version_minor": 0
      },
      "text/plain": [
       "aia_lev1_304a_2010_06_02t00_05_38_12z_image_lev1.fits:   0%|          | 0.00/10.3M [00:00<?, ?B/s]"
      ]
     },
     "metadata": {},
     "output_type": "display_data"
    },
    {
     "data": {
      "application/vnd.jupyter.widget-view+json": {
       "model_id": "",
       "version_major": 2,
       "version_minor": 0
      },
      "text/plain": [
       "aia_lev1_304a_2010_06_01t00_00_08_12z_image_lev1.fits:   0%|          | 0.00/10.3M [00:00<?, ?B/s]"
      ]
     },
     "metadata": {},
     "output_type": "display_data"
    },
    {
     "data": {
      "application/vnd.jupyter.widget-view+json": {
       "model_id": "d60f41da9bc64faaa839611e7e869254",
       "version_major": 2,
       "version_minor": 0
      },
      "text/plain": [
       "aia_lev1_304a_2010_06_06t00_00_05_50z_image_lev1.fits:   0%|          | 0.00/6.92M [00:00<?, ?B/s]"
      ]
     },
     "metadata": {},
     "output_type": "display_data"
    },
    {
     "data": {
      "application/vnd.jupyter.widget-view+json": {
       "model_id": "",
       "version_major": 2,
       "version_minor": 0
      },
      "text/plain": [
       "aia_lev1_304a_2010_06_07t00_00_05_50z_image_lev1.fits:   0%|          | 0.00/6.91M [00:00<?, ?B/s]"
      ]
     },
     "metadata": {},
     "output_type": "display_data"
    },
    {
     "data": {
      "application/vnd.jupyter.widget-view+json": {
       "model_id": "fb8ec20a26d741ba9289887e31162105",
       "version_major": 2,
       "version_minor": 0
      },
      "text/plain": [
       "aia_lev1_304a_2010_06_08t00_00_05_50z_image_lev1.fits:   0%|          | 0.00/6.92M [00:00<?, ?B/s]"
      ]
     },
     "metadata": {},
     "output_type": "display_data"
    },
    {
     "data": {
      "application/vnd.jupyter.widget-view+json": {
       "model_id": "",
       "version_major": 2,
       "version_minor": 0
      },
      "text/plain": [
       "aia_lev1_304a_2010_06_09t00_00_05_50z_image_lev1.fits:   0%|          | 0.00/6.92M [00:00<?, ?B/s]"
      ]
     },
     "metadata": {},
     "output_type": "display_data"
    },
    {
     "data": {
      "application/vnd.jupyter.widget-view+json": {
       "model_id": "5855023509e843f0b3b731267f2501ff",
       "version_major": 2,
       "version_minor": 0
      },
      "text/plain": [
       "aia_lev1_304a_2010_06_10t00_00_05_50z_image_lev1.fits:   0%|          | 0.00/6.92M [00:00<?, ?B/s]"
      ]
     },
     "metadata": {},
     "output_type": "display_data"
    }
   ],
   "source": []
  },
  {
   "cell_type": "code",
   "execution_count": null,
   "id": "83d9559f-6c98-4328-95ff-b952ec0b712f",
   "metadata": {},
   "outputs": [],
   "source": []
  }
 ],
 "metadata": {
  "kernelspec": {
   "display_name": "Python 3 (ipykernel)",
   "language": "python",
   "name": "python3"
  },
  "language_info": {
   "codemirror_mode": {
    "name": "ipython",
    "version": 3
   },
   "file_extension": ".py",
   "mimetype": "text/x-python",
   "name": "python",
   "nbconvert_exporter": "python",
   "pygments_lexer": "ipython3",
   "version": "3.9.16"
  }
 },
 "nbformat": 4,
 "nbformat_minor": 5
}
