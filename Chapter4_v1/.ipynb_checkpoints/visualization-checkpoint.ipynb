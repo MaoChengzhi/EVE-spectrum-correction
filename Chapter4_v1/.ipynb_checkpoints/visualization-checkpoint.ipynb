{
 "cells": [
  {
   "cell_type": "markdown",
   "id": "2171eafa-3026-4699-bed6-a49cafe7c6ac",
   "metadata": {},
   "source": [
    "# ABCDE"
   ]
  },
  {
   "cell_type": "code",
   "execution_count": null,
   "id": "4636cd01-5a01-4960-90ef-ae934f7845e2",
   "metadata": {},
   "outputs": [],
   "source": []
  }
 ],
 "metadata": {
  "kernelspec": {
   "display_name": "Python 3 (ipykernel)",
   "language": "python",
   "name": "python3"
  },
  "language_info": {
   "codemirror_mode": {
    "name": "ipython",
    "version": 3
   },
   "file_extension": ".py",
   "mimetype": "text/x-python",
   "name": "python",
   "nbconvert_exporter": "python",
   "pygments_lexer": "ipython3",
   "version": "3.9.16"
  }
 },
 "nbformat": 4,
 "nbformat_minor": 5
}
