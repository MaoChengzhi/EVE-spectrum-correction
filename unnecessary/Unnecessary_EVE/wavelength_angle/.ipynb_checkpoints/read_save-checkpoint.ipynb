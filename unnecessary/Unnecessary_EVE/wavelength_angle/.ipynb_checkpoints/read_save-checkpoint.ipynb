{
 "cells": [
  {
   "cell_type": "code",
   "execution_count": 12,
   "id": "ff10d7f5-5790-40a7-993a-5aae4d60973b",
   "metadata": {},
   "outputs": [],
   "source": [
    "import scipy\n",
    "import pandas as pd\n",
    "import matplotlib.pyplot as plt\n",
    "import numpy as np"
   ]
  },
  {
   "cell_type": "code",
   "execution_count": 13,
   "id": "12a0e888-1f92-4102-88f1-2e49baeba0dd",
   "metadata": {},
   "outputs": [],
   "source": [
    "filename=\"IDL_vars.sav\"\n",
    "data=scipy.io.readsav(filename)"
   ]
  },
  {
   "cell_type": "code",
   "execution_count": 14,
   "id": "21e7a5fe-b6fa-48f8-9a6d-f94ce7f4420b",
   "metadata": {},
   "outputs": [
    {
     "data": {
      "text/plain": [
       "scipy.io._idl.AttrDict"
      ]
     },
     "execution_count": 14,
     "metadata": {},
     "output_type": "execute_result"
    }
   ],
   "source": [
    "type(data)"
   ]
  },
  {
   "cell_type": "code",
   "execution_count": 15,
   "id": "22b4bcc4-866b-4239-9238-d4845c3c4842",
   "metadata": {
    "collapsed": true,
    "jupyter": {
     "outputs_hidden": true
    },
    "tags": []
   },
   "outputs": [
    {
     "data": {
      "text/plain": [
       "array([72007.82301116, 72017.82301116, 72027.82301116, 72037.82301116,\n",
       "       72047.82301116, 72057.82301116, 72067.82301116, 72077.82301116,\n",
       "       72087.82301116, 72097.82301116, 72107.82301116, 72117.82301116,\n",
       "       72127.82301116, 72137.82301116, 72147.82301116, 72157.82301116,\n",
       "       72167.82301116, 72177.82301116, 72187.82301116, 72197.82301116,\n",
       "       72207.82301116, 72217.82301116, 72227.82301116, 72237.82301116,\n",
       "       72247.82301116, 72257.82301116, 72267.82301116, 72277.82301116,\n",
       "       72287.82301116, 72297.82301116, 72307.82301116, 72317.82301116,\n",
       "       72327.82301116, 72337.82301116, 72347.82301116, 72357.82301116,\n",
       "       72367.82301116, 72377.82301116, 72387.82301116, 72397.82301116,\n",
       "       72407.82301116, 72417.82301116, 72427.82301116, 72437.82301116,\n",
       "       72447.82301116, 72457.82301116, 72467.82301116, 72477.82301116,\n",
       "       72487.82301116, 72497.82301116, 72507.82301116, 72517.82301116,\n",
       "       72527.82301116, 72537.82301116, 72547.82301116, 72557.82301116,\n",
       "       72567.82301116, 72577.82301116, 72587.82301116, 72597.82301116,\n",
       "       72607.82301116, 72617.82301116, 72627.82301116, 72637.82301116,\n",
       "       72647.82301116, 72657.82301116, 72667.82301116, 72677.82301116,\n",
       "       72687.82301116, 72697.82301116, 72707.82301116, 72717.82301116,\n",
       "       72727.82301116, 72737.82301116, 72747.82301116, 72757.82301116,\n",
       "       72767.82301116, 72777.82301116, 72787.82301116, 72797.82301116,\n",
       "       72807.82301116, 72817.82301116, 72827.82301116, 72837.82301116,\n",
       "       72847.82301116, 72857.82301116, 72867.82301116, 72877.82301116,\n",
       "       72887.82301116, 72897.82301116, 72907.82301116, 72917.82301116,\n",
       "       72927.82301116, 72937.82301116, 72947.82301116, 72957.82301116,\n",
       "       72967.82301116, 72977.82301116, 72987.82301116, 72997.82301116,\n",
       "       73007.82301116, 73017.82301116, 73027.82301116, 73037.82301116,\n",
       "       73047.82301116, 73057.82301116, 73067.82301116, 73077.82301116,\n",
       "       73087.82301116, 73097.82301116, 73107.82301116, 73117.82301116,\n",
       "       73127.82301116, 73137.82301116, 73147.82301116, 73157.82301116,\n",
       "       73167.82301116, 73177.82301116, 73187.82301116, 73197.82301116,\n",
       "       73207.82301116, 73217.82301116, 73227.82301116, 73237.82301116,\n",
       "       73247.82301116, 73257.82301116, 73267.82301116, 73277.82301116,\n",
       "       73287.82301116, 73297.82301116, 73307.82301116, 73317.82301116,\n",
       "       73327.82301116, 73337.82301116, 73347.82301116, 73357.82301116,\n",
       "       73367.82301116, 73377.82301116, 73387.82301116, 73397.82301116,\n",
       "       73407.82301116, 73417.82301116, 73427.82301116, 73437.82301116,\n",
       "       73447.82301116, 73457.82301116, 73467.82301116, 73477.82301116,\n",
       "       73487.82301116, 73497.82301116, 73507.82301116, 73517.82301116,\n",
       "       73527.82301116, 73537.82301116, 73547.82301116, 73557.82301116,\n",
       "       73567.82301116, 73577.82301116, 73587.82301116, 73597.82301116,\n",
       "       73607.82301116, 73617.82301116, 73627.82301116, 73637.82301116,\n",
       "       73647.82301116, 73657.82301116, 73667.82301116, 73677.82301116,\n",
       "       73687.82301116, 73697.82301116, 73707.82301116, 73717.82301116,\n",
       "       73727.82301116, 73737.82301116, 73747.82301116, 73757.82301116,\n",
       "       73767.82301116, 73777.82301116, 73787.82301116, 73797.82301116,\n",
       "       73807.82301116, 73817.82301116, 73827.82301116, 73837.82301116,\n",
       "       73847.82301116, 73857.82301116, 73867.82301116, 73877.82301116,\n",
       "       73887.82301116, 73897.82301116, 73907.82301116, 73917.82301116,\n",
       "       73927.82301116, 73937.82301116, 73947.82301116, 73957.82301116,\n",
       "       73967.82301116, 73977.82301116, 73987.82301116, 73997.82301116,\n",
       "       74007.82301116, 74017.82301116, 74027.82301116, 74037.82301116,\n",
       "       74047.82301116, 74057.82301116, 74067.82301116, 74077.82301116,\n",
       "       74087.82301116, 74097.82301116, 74107.82301116, 74117.82301116,\n",
       "       74127.82301116, 74137.82301116, 74147.82301116, 74157.82301116,\n",
       "       74167.82301116, 74177.82301116, 74187.82301116, 74197.82301116,\n",
       "       74207.82301116, 74217.82301116, 74227.82301116, 74237.82301116,\n",
       "       74247.82301116, 74257.82301116, 74267.82301116, 74277.82301116,\n",
       "       74287.82301116, 74297.82301116, 74307.82301116, 74317.82301116,\n",
       "       74327.82301116, 74337.82301116, 74347.82301116, 74357.82301116,\n",
       "       74367.82301116, 74377.82301116, 74387.82301116, 74397.82301116,\n",
       "       74407.82301116, 74417.82301116, 74427.82301116, 74437.82301116,\n",
       "       74447.82301116, 74457.82301116, 74467.82301116, 74477.82301116,\n",
       "       74487.82301116, 74497.82301116, 74507.82301116, 74517.82301116,\n",
       "       74527.82301116, 74537.82301116, 74547.82301116, 74557.82301116,\n",
       "       74567.82301116, 74577.82301116, 74587.82301116, 74597.82301116,\n",
       "       74607.82301116, 74617.82301116, 74627.82301116, 74637.82301116,\n",
       "       74647.82301116, 74657.82301116, 74667.82301116, 74677.82301116,\n",
       "       74687.82301116, 74697.82301116, 74707.82301116, 74717.82301116,\n",
       "       74727.82301116, 74737.82301116, 74747.82301116, 74757.82301116,\n",
       "       74767.82301116, 74777.82301116, 74787.82301116, 74797.82301116,\n",
       "       74807.82301116, 74817.82301116, 74827.82301116, 74837.82301116,\n",
       "       74847.82301116, 74857.82301116, 74867.82301116, 74877.82301116,\n",
       "       74887.82301116, 74897.82301116, 74907.82301116, 74917.82301116,\n",
       "       74927.82301116, 74937.82301116, 74947.82301116, 74957.82301116,\n",
       "       74967.82301116, 74977.82301116, 74987.82301116, 74997.82301116,\n",
       "       75007.82301116, 75017.82301116, 75027.82301116, 75037.82301116,\n",
       "       75047.82301116, 75057.82301116, 75067.82301116, 75077.82301116,\n",
       "       75087.82301116, 75097.82301116, 75107.82301116, 75117.82301116,\n",
       "       75127.82301116, 75137.82301116, 75147.82301116, 75157.82301116,\n",
       "       75167.82301116, 75177.82301116, 75187.82301116, 75197.82301116,\n",
       "       75207.82301116, 75217.82301116, 75227.82301116, 75237.82301116,\n",
       "       75247.82301116, 75257.82301116, 75267.82301116, 75277.82301116,\n",
       "       75287.82301116, 75297.82301116, 75307.82301116, 75317.82301116,\n",
       "       75327.82301116, 75337.82301116, 75347.82301116, 75357.82301116,\n",
       "       75367.82301116, 75377.82301116, 75387.82301116, 75397.82301116,\n",
       "       75407.82301116, 75417.82301116, 75427.82301116, 75437.82301116,\n",
       "       75447.82301116, 75457.82301116, 75467.82301116, 75477.82301116,\n",
       "       75487.82301116, 75497.82301116, 75507.82301116, 75517.82301116,\n",
       "       75527.82301116, 75537.82301116, 75547.82301116, 75557.82301116,\n",
       "       75567.82301116, 75577.82301116, 75587.82301116, 75597.82301116])"
      ]
     },
     "execution_count": 15,
     "metadata": {},
     "output_type": "execute_result"
    }
   ],
   "source": [
    "data['sod_time']"
   ]
  },
  {
   "cell_type": "code",
   "execution_count": 23,
   "id": "5ed8199d-b723-426e-9ad1-41e02c91c725",
   "metadata": {},
   "outputs": [
    {
     "name": "stdout",
     "output_type": "stream",
     "text": [
      "[[-1. -1. -1. ... -1. -1. -1.]\n",
      " [-1. -1. -1. ... -1. -1. -1.]\n",
      " [-1. -1. -1. ... -1. -1. -1.]\n",
      " ...\n",
      " [-1. -1. -1. ... -1. -1. -1.]\n",
      " [-1. -1. -1. ... -1. -1. -1.]\n",
      " [-1. -1. -1. ... -1. -1. -1.]]\n"
     ]
    },
    {
     "data": {
      "text/plain": [
       "(360, 5200)"
      ]
     },
     "execution_count": 23,
     "metadata": {},
     "output_type": "execute_result"
    }
   ],
   "source": [
    "print(data['irradiance'])\n",
    "data['irradiance'].shape"
   ]
  },
  {
   "cell_type": "code",
   "execution_count": 22,
   "id": "d485cfba-380b-43a2-8661-c7ba1caaf992",
   "metadata": {},
   "outputs": [
    {
     "name": "stdout",
     "output_type": "stream",
     "text": [
      "[  3.01   3.03   3.05 ... 106.95 106.97 106.99]\n"
     ]
    },
    {
     "data": {
      "text/plain": [
       "(5200,)"
      ]
     },
     "execution_count": 22,
     "metadata": {},
     "output_type": "execute_result"
    }
   ],
   "source": [
    "print(data['wavelength'])\n",
    "data['wavelength'].shape"
   ]
  },
  {
   "cell_type": "code",
   "execution_count": 31,
   "id": "c9f06c83-7731-40d5-99ea-7c86d7fcea2c",
   "metadata": {},
   "outputs": [
    {
     "data": {
      "text/plain": [
       "[<matplotlib.lines.Line2D at 0x186e384e820>]"
      ]
     },
     "execution_count": 31,
     "metadata": {},
     "output_type": "execute_result"
    },
    {
     "data": {
      "image/png": "[encoded data removed]",
      "text/plain": [
       "<Figure size 640x480 with 1 Axes>"
      ]
     },
     "metadata": {},
     "output_type": "display_data"
    }
   ],
   "source": [
    "fig, ax = plt.subplots()\n",
    "ax.plot(data['wavelength'],data['irradiance'][100])"
   ]
  },
  {
   "cell_type": "code",
   "execution_count": 29,
   "id": "2486169f-a6b6-465b-84cc-317a9bcdf5cf",
   "metadata": {},
   "outputs": [
    {
     "data": {
      "text/plain": [
       "(5200,)"
      ]
     },
     "execution_count": 29,
     "metadata": {},
     "output_type": "execute_result"
    }
   ],
   "source": [
    "data['irradiance'][0].shape"
   ]
  },
  {
   "cell_type": "code",
   "execution_count": 26,
   "id": "80f27ec7-654a-4230-9720-70dfa9e1fa8b",
   "metadata": {},
   "outputs": [
    {
     "data": {
      "text/plain": [
       "(2, 3)"
      ]
     },
     "execution_count": 26,
     "metadata": {},
     "output_type": "execute_result"
    }
   ],
   "source": [
    "a=np.array([[1,2,3],[4,5,6]])\n",
    "a.shape"
   ]
  },
  {
   "cell_type": "code",
   "execution_count": 27,
   "id": "d69a16a9-8bef-40d1-9419-924a98eaa4a7",
   "metadata": {},
   "outputs": [
    {
     "data": {
      "text/plain": [
       "array([[1, 2, 3],\n",
       "       [4, 5, 6]])"
      ]
     },
     "execution_count": 27,
     "metadata": {},
     "output_type": "execute_result"
    }
   ],
   "source": [
    "a"
   ]
  },
  {
   "cell_type": "code",
   "execution_count": 33,
   "id": "14d1511f-59aa-4fec-a5b9-2870936f3e72",
   "metadata": {},
   "outputs": [
    {
     "data": {
      "text/plain": [
       "<matplotlib.image.AxesImage at 0x186e38cac10>"
      ]
     },
     "execution_count": 33,
     "metadata": {},
     "output_type": "execute_result"
    },
    {
     "data": {
      "image/png": "[encoded data removed]",
      "text/plain": [
       "<Figure size 640x480 with 1 Axes>"
      ]
     },
     "metadata": {},
     "output_type": "display_data"
    }
   ],
   "source": [
    "fig, ax = plt.subplots()\n",
    "ax.imshow(data['irradiance'],vmin=0)"
   ]
  },
  {
   "cell_type": "code",
   "execution_count": 34,
   "id": "77d3f3dc-d6b2-462e-a0d5-9b8f44b1aa2d",
   "metadata": {},
   "outputs": [
    {
     "data": {
      "text/plain": [
       "0.0059528924"
      ]
     },
     "execution_count": 34,
     "metadata": {},
     "output_type": "execute_result"
    }
   ],
   "source": [
    "data['irradiance'].max()"
   ]
  },
  {
   "cell_type": "code",
   "execution_count": 35,
   "id": "0a2577ae-8bda-4d9a-b675-0b5c9ebcdb20",
   "metadata": {},
   "outputs": [
    {
     "data": {
      "text/plain": [
       "-1.0"
      ]
     },
     "execution_count": 35,
     "metadata": {},
     "output_type": "execute_result"
    }
   ],
   "source": [
    "data['irradiance'].min()"
   ]
  },
  {
   "cell_type": "code",
   "execution_count": 38,
   "id": "478d5b0c-506c-4706-a56e-268a8187c20b",
   "metadata": {},
   "outputs": [],
   "source": [
    "a=data['irradiance']!=-1"
   ]
  },
  {
   "cell_type": "code",
   "execution_count": 39,
   "id": "dfa76e94-9bbf-476b-8825-b0e077ac8a3b",
   "metadata": {},
   "outputs": [
    {
     "data": {
      "text/plain": [
       "<matplotlib.image.AxesImage at 0x186e50f78b0>"
      ]
     },
     "execution_count": 39,
     "metadata": {},
     "output_type": "execute_result"
    },
    {
     "data": {
      "image/png": "[encoded data removed]",
      "text/plain": [
       "<Figure size 640x480 with 1 Axes>"
      ]
     },
     "metadata": {},
     "output_type": "display_data"
    }
   ],
   "source": [
    "fig, ax = plt.subplots()\n",
    "ax.imshow(a)"
   ]
  },
  {
   "cell_type": "code",
   "execution_count": null,
   "id": "7f966e05-b240-4aa9-a46f-0715c70a80ab",
   "metadata": {},
   "outputs": [],
   "source": []
  }
 ],
 "metadata": {
  "kernelspec": {
   "display_name": "Python 3 (ipykernel)",
   "language": "python",
   "name": "python3"
  },
  "language_info": {
   "codemirror_mode": {
    "name": "ipython",
    "version": 3
   },
   "file_extension": ".py",
   "mimetype": "text/x-python",
   "name": "python",
   "nbconvert_exporter": "python",
   "pygments_lexer": "ipython3",
   "version": "3.9.13"
  }
 },
 "nbformat": 4,
 "nbformat_minor": 5
}
