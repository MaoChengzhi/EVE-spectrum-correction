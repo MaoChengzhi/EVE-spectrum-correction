{
 "cells": [
  {
   "cell_type": "code",
   "execution_count": 1,
   "id": "8fef4ec6-be8a-4043-8f3a-97edff6a5c2e",
   "metadata": {},
   "outputs": [],
   "source": [
    "from sunpy.net import Fido, attrs as a\n",
    "import astropy.units as u\n",
    "import numpy as np"
   ]
  },
  {
   "cell_type": "markdown",
   "id": "421ce60e-0404-4663-b2de-9b7066868624",
   "metadata": {
    "tags": []
   },
   "source": [
    "## one day \n",
    "2011-01-01"
   ]
  },
  {
   "cell_type": "code",
   "execution_count": 9,
   "id": "9148f457-18ad-45dd-850e-9392e72b4965",
   "metadata": {},
   "outputs": [
    {
     "data": {
      "text/plain": [
       "<sunpy.net.jsoc.attrs.Series: aia_lev1_euv_12s object at 0x000002E2FC075340>"
      ]
     },
     "execution_count": 9,
     "metadata": {},
     "output_type": "execute_result"
    }
   ],
   "source": [
    "a.jsoc.Series('aia_lev1_euv_12s')"
   ]
  },
  {
   "cell_type": "code",
   "execution_count": null,
   "id": "ece1df1b-1ca0-4fd1-9810-da272cb89198",
   "metadata": {},
   "outputs": [],
   "source": [
    "res = Fido.search(\n",
    "                    a.Time(\"2011-01-01T00:00:00\", \"2011-01-02T00:00:00\"),\n",
    "                              a.jsoc.Series('aia.lev1_euv_12s'),\n",
    "                              a.Wavelength(304*u.AA))  ,\n",
    "                            a.jsoc.Notify('maochengzhi1@gmail.com'),\n",
    "    )"
   ]
  },
  {
   "cell_type": "code",
   "execution_count": 16,
   "id": "479f9529-b792-4715-b3bb-a28be8d709dd",
   "metadata": {
    "collapsed": true,
    "jupyter": {
     "outputs_hidden": true
    },
    "tags": []
   },
   "outputs": [
    {
     "data": {
      "text/html": [
       "Results from 1 Provider:</br></br>7201 Results from the JSOCClient:</br><div><i>JSOCResponse length=7201</i>\n",
       "<table id=\"table3173914503488\" class=\"table-striped table-bordered table-condensed\">\n",
       "<thead><tr><th>T_REC</th><th>TELESCOP</th><th>INSTRUME</th><th>WAVELNTH</th><th>CAR_ROT</th></tr></thead>\n",
       "<thead><tr><th>str20</th><th>str7</th><th>str5</th><th>int64</th><th>int64</th></tr></thead>\n",
       "<tr><td>2011-01-01T00:00:02Z</td><td>SDO/AIA</td><td>AIA_4</td><td>304</td><td>2105</td></tr>\n",
       "<tr><td>2011-01-01T00:00:14Z</td><td>SDO/AIA</td><td>AIA_4</td><td>304</td><td>2105</td></tr>\n",
       "<tr><td>2011-01-01T00:00:26Z</td><td>SDO/AIA</td><td>AIA_4</td><td>304</td><td>2105</td></tr>\n",
       "<tr><td>2011-01-01T00:00:38Z</td><td>SDO/AIA</td><td>AIA_4</td><td>304</td><td>2105</td></tr>\n",
       "<tr><td>2011-01-01T00:00:50Z</td><td>SDO/AIA</td><td>AIA_4</td><td>304</td><td>2105</td></tr>\n",
       "<tr><td>2011-01-01T00:01:02Z</td><td>SDO/AIA</td><td>AIA_4</td><td>304</td><td>2105</td></tr>\n",
       "<tr><td>2011-01-01T00:01:14Z</td><td>SDO/AIA</td><td>AIA_4</td><td>304</td><td>2105</td></tr>\n",
       "<tr><td>2011-01-01T00:01:26Z</td><td>SDO/AIA</td><td>AIA_4</td><td>304</td><td>2105</td></tr>\n",
       "<tr><td>2011-01-01T00:01:38Z</td><td>SDO/AIA</td><td>AIA_4</td><td>304</td><td>2105</td></tr>\n",
       "<tr><td>2011-01-01T00:01:50Z</td><td>SDO/AIA</td><td>AIA_4</td><td>304</td><td>2105</td></tr>\n",
       "<tr><td>...</td><td>...</td><td>...</td><td>...</td><td>...</td></tr>\n",
       "<tr><td>2011-01-01T23:58:14Z</td><td>SDO/AIA</td><td>AIA_4</td><td>304</td><td>2105</td></tr>\n",
       "<tr><td>2011-01-01T23:58:26Z</td><td>SDO/AIA</td><td>AIA_4</td><td>304</td><td>2105</td></tr>\n",
       "<tr><td>2011-01-01T23:58:38Z</td><td>SDO/AIA</td><td>AIA_4</td><td>304</td><td>2105</td></tr>\n",
       "<tr><td>2011-01-01T23:58:50Z</td><td>SDO/AIA</td><td>AIA_4</td><td>304</td><td>2105</td></tr>\n",
       "<tr><td>2011-01-01T23:59:02Z</td><td>SDO/AIA</td><td>AIA_4</td><td>304</td><td>2105</td></tr>\n",
       "<tr><td>2011-01-01T23:59:14Z</td><td>SDO/AIA</td><td>AIA_4</td><td>304</td><td>2105</td></tr>\n",
       "<tr><td>2011-01-01T23:59:26Z</td><td>SDO/AIA</td><td>AIA_4</td><td>304</td><td>2105</td></tr>\n",
       "<tr><td>2011-01-01T23:59:38Z</td><td>SDO/AIA</td><td>AIA_4</td><td>304</td><td>2105</td></tr>\n",
       "<tr><td>2011-01-01T23:59:50Z</td><td>SDO/AIA</td><td>AIA_4</td><td>304</td><td>2105</td></tr>\n",
       "<tr><td>2011-01-02T00:00:02Z</td><td>SDO/AIA</td><td>AIA_4</td><td>304</td><td>2105</td></tr>\n",
       "</table></div></br>"
      ],
      "text/plain": [
       "<sunpy.net.fido_factory.UnifiedResponse object at 0x000002E2FE77DD30>\n",
       "Results from 1 Provider:\n",
       "\n",
       "7201 Results from the JSOCClient:\n",
       "Source: http://jsoc.stanford.edu\n",
       "\n",
       "       T_REC         TELESCOP INSTRUME WAVELNTH CAR_ROT\n",
       "-------------------- -------- -------- -------- -------\n",
       "2011-01-01T00:00:02Z  SDO/AIA    AIA_4      304    2105\n",
       "2011-01-01T00:00:14Z  SDO/AIA    AIA_4      304    2105\n",
       "2011-01-01T00:00:26Z  SDO/AIA    AIA_4      304    2105\n",
       "2011-01-01T00:00:38Z  SDO/AIA    AIA_4      304    2105\n",
       "2011-01-01T00:00:50Z  SDO/AIA    AIA_4      304    2105\n",
       "2011-01-01T00:01:02Z  SDO/AIA    AIA_4      304    2105\n",
       "2011-01-01T00:01:14Z  SDO/AIA    AIA_4      304    2105\n",
       "2011-01-01T00:01:26Z  SDO/AIA    AIA_4      304    2105\n",
       "2011-01-01T00:01:38Z  SDO/AIA    AIA_4      304    2105\n",
       "2011-01-01T00:01:50Z  SDO/AIA    AIA_4      304    2105\n",
       "                 ...      ...      ...      ...     ...\n",
       "2011-01-01T23:58:02Z  SDO/AIA    AIA_4      304    2105\n",
       "2011-01-01T23:58:14Z  SDO/AIA    AIA_4      304    2105\n",
       "2011-01-01T23:58:26Z  SDO/AIA    AIA_4      304    2105\n",
       "2011-01-01T23:58:38Z  SDO/AIA    AIA_4      304    2105\n",
       "2011-01-01T23:58:50Z  SDO/AIA    AIA_4      304    2105\n",
       "2011-01-01T23:59:02Z  SDO/AIA    AIA_4      304    2105\n",
       "2011-01-01T23:59:14Z  SDO/AIA    AIA_4      304    2105\n",
       "2011-01-01T23:59:26Z  SDO/AIA    AIA_4      304    2105\n",
       "2011-01-01T23:59:38Z  SDO/AIA    AIA_4      304    2105\n",
       "2011-01-01T23:59:50Z  SDO/AIA    AIA_4      304    2105\n",
       "2011-01-02T00:00:02Z  SDO/AIA    AIA_4      304    2105\n",
       "Length = 7201 rows\n"
      ]
     },
     "execution_count": 16,
     "metadata": {},
     "output_type": "execute_result"
    }
   ],
   "source": [
    "res"
   ]
  },
  {
   "cell_type": "code",
   "execution_count": 21,
   "id": "d825fcc8-9025-4d1d-89d0-40a42cf2d95d",
   "metadata": {
    "collapsed": true,
    "jupyter": {
     "outputs_hidden": true
    },
    "tags": []
   },
   "outputs": [
    {
     "ename": "ValueError",
     "evalue": "A registered email is required to get data from JSOC. Please supply an email with attrs.jsoc.Notify to Fido.search. Then pass those new results back into Fido.fetch",
     "output_type": "error",
     "traceback": [
      "\u001b[1;31m---------------------------------------------------------------------------\u001b[0m",
      "\u001b[1;31mValueError\u001b[0m                                Traceback (most recent call last)",
      "Cell \u001b[1;32mIn[21], line 1\u001b[0m\n\u001b[1;32m----> 1\u001b[0m \u001b[43mFido\u001b[49m\u001b[38;5;241;43m.\u001b[39;49m\u001b[43mfetch\u001b[49m\u001b[43m(\u001b[49m\u001b[43mres\u001b[49m\u001b[43m,\u001b[49m\u001b[43m \u001b[49m\u001b[43ma\u001b[49m\u001b[38;5;241;43m.\u001b[39;49m\u001b[43mjsoc\u001b[49m\u001b[38;5;241;43m.\u001b[39;49m\u001b[43mNotify\u001b[49m\u001b[43m(\u001b[49m\u001b[38;5;124;43m'\u001b[39;49m\u001b[38;5;124;43mmaochengzhi1@gmail.com\u001b[39;49m\u001b[38;5;124;43m'\u001b[39;49m\u001b[43m)\u001b[49m\u001b[43m,\u001b[49m\u001b[43mpath\u001b[49m\u001b[38;5;241;43m=\u001b[39;49m\u001b[38;5;124;43m'\u001b[39;49m\u001b[38;5;124;43mdata/AIA\u001b[39;49m\u001b[38;5;124;43m'\u001b[39;49m\u001b[43m,\u001b[49m\n\u001b[0;32m      2\u001b[0m \u001b[43m            \u001b[49m\u001b[43m)\u001b[49m \n",
      "File \u001b[1;32m~\\anaconda3\\envs\\sdo2022\\lib\\site-packages\\sunpy\\net\\fido_factory.py:432\u001b[0m, in \u001b[0;36mUnifiedDownloaderFactory.fetch\u001b[1;34m(self, path, max_conn, progress, overwrite, downloader, *query_results, **kwargs)\u001b[0m\n\u001b[0;32m    429\u001b[0m     \u001b[38;5;28;01mraise\u001b[39;00m \u001b[38;5;167;01mValueError\u001b[39;00m(\u001b[38;5;124mf\u001b[39m\u001b[38;5;124m\"\u001b[39m\u001b[38;5;124mQuery result has an unrecognized type: \u001b[39m\u001b[38;5;132;01m{\u001b[39;00m\u001b[38;5;28mtype\u001b[39m(query_result)\u001b[38;5;132;01m}\u001b[39;00m\u001b[38;5;124m \u001b[39m\u001b[38;5;124m\"\u001b[39m\n\u001b[0;32m    430\u001b[0m                      \u001b[38;5;124m\"\u001b[39m\u001b[38;5;124mAllowed types are QueryResponseRow, QueryResponseTable or UnifiedResponse.\u001b[39m\u001b[38;5;124m\"\u001b[39m)\n\u001b[0;32m    431\u001b[0m \u001b[38;5;28;01mfor\u001b[39;00m block \u001b[38;5;129;01min\u001b[39;00m responses:\n\u001b[1;32m--> 432\u001b[0m     result \u001b[38;5;241m=\u001b[39m block\u001b[38;5;241m.\u001b[39mclient\u001b[38;5;241m.\u001b[39mfetch(block, path\u001b[38;5;241m=\u001b[39mpath,\n\u001b[0;32m    433\u001b[0m                                 downloader\u001b[38;5;241m=\u001b[39mdownloader,\n\u001b[0;32m    434\u001b[0m                                 wait\u001b[38;5;241m=\u001b[39m\u001b[38;5;28;01mFalse\u001b[39;00m, \u001b[38;5;241m*\u001b[39m\u001b[38;5;241m*\u001b[39mkwargs)\n\u001b[0;32m    435\u001b[0m     \u001b[38;5;28;01mif\u001b[39;00m result \u001b[38;5;129;01mnot\u001b[39;00m \u001b[38;5;129;01min\u001b[39;00m (\u001b[38;5;28mNotImplemented\u001b[39m, \u001b[38;5;28;01mNone\u001b[39;00m):\n\u001b[0;32m    436\u001b[0m         reslist\u001b[38;5;241m.\u001b[39mappend(result)\n",
      "File \u001b[1;32m~\\anaconda3\\envs\\sdo2022\\lib\\site-packages\\sunpy\\net\\base_client.py:324\u001b[0m, in \u001b[0;36mconvert_row_to_table.<locals>.wrapper\u001b[1;34m(self, query_results, **kwargs)\u001b[0m\n\u001b[0;32m    322\u001b[0m \u001b[38;5;28;01mif\u001b[39;00m \u001b[38;5;28misinstance\u001b[39m(query_results, QueryResponseRow):\n\u001b[0;32m    323\u001b[0m     query_results \u001b[38;5;241m=\u001b[39m query_results\u001b[38;5;241m.\u001b[39mas_table()\n\u001b[1;32m--> 324\u001b[0m \u001b[38;5;28;01mreturn\u001b[39;00m func(\u001b[38;5;28mself\u001b[39m, query_results, \u001b[38;5;241m*\u001b[39m\u001b[38;5;241m*\u001b[39mkwargs)\n",
      "File \u001b[1;32m~\\anaconda3\\envs\\sdo2022\\lib\\site-packages\\sunpy\\net\\jsoc\\jsoc.py:417\u001b[0m, in \u001b[0;36mJSOCClient.fetch\u001b[1;34m(self, jsoc_response, path, progress, overwrite, downloader, wait, sleep, max_conn, **kwargs)\u001b[0m\n\u001b[0;32m    415\u001b[0m \u001b[38;5;28;01mfor\u001b[39;00m resp \u001b[38;5;129;01min\u001b[39;00m jsoc_response\u001b[38;5;241m.\u001b[39mquery_args:\n\u001b[0;32m    416\u001b[0m     \u001b[38;5;28;01mif\u001b[39;00m \u001b[38;5;124m'\u001b[39m\u001b[38;5;124mnotify\u001b[39m\u001b[38;5;124m'\u001b[39m \u001b[38;5;129;01mnot\u001b[39;00m \u001b[38;5;129;01min\u001b[39;00m resp:\n\u001b[1;32m--> 417\u001b[0m         \u001b[38;5;28;01mraise\u001b[39;00m \u001b[38;5;167;01mValueError\u001b[39;00m(\u001b[38;5;124m'\u001b[39m\u001b[38;5;124mA registered email is required to get data from JSOC. \u001b[39m\u001b[38;5;124m'\u001b[39m\n\u001b[0;32m    418\u001b[0m                          \u001b[38;5;124m'\u001b[39m\u001b[38;5;124mPlease supply an email with attrs.jsoc.Notify to Fido.search. \u001b[39m\u001b[38;5;124m'\u001b[39m\n\u001b[0;32m    419\u001b[0m                          \u001b[38;5;124m'\u001b[39m\u001b[38;5;124mThen pass those new results back into Fido.fetch\u001b[39m\u001b[38;5;124m'\u001b[39m)\n\u001b[0;32m    421\u001b[0m \u001b[38;5;28;01mif\u001b[39;00m \u001b[38;5;28mlen\u001b[39m(jsoc_response) \u001b[38;5;241m!=\u001b[39m jsoc_response\u001b[38;5;241m.\u001b[39m_original_num_rows:\n\u001b[0;32m    422\u001b[0m     warn_user(\u001b[38;5;124m\"\u001b[39m\u001b[38;5;124mDownloading of sliced JSOC results is not supported. \u001b[39m\u001b[38;5;124m\"\u001b[39m\n\u001b[0;32m    423\u001b[0m               \u001b[38;5;124m\"\u001b[39m\u001b[38;5;124mAll the files present in the original response will \u001b[39m\u001b[38;5;124m\"\u001b[39m\n\u001b[0;32m    424\u001b[0m               \u001b[38;5;124m\"\u001b[39m\u001b[38;5;124mbe downloaded when passed to fetch().\u001b[39m\u001b[38;5;124m\"\u001b[39m)\n",
      "\u001b[1;31mValueError\u001b[0m: A registered email is required to get data from JSOC. Please supply an email with attrs.jsoc.Notify to Fido.search. Then pass those new results back into Fido.fetch"
     ]
    }
   ],
   "source": [
    "Fido.fetch(res, path='data/AIA',\n",
    "            ) "
   ]
  },
  {
   "cell_type": "code",
   "execution_count": 18,
   "id": "577f6248-85c1-4ee2-98a3-e53964bb474b",
   "metadata": {
    "collapsed": true,
    "jupyter": {
     "outputs_hidden": true
    },
    "tags": []
   },
   "outputs": [
    {
     "data": {
      "text/plain": [
       "\u001b[1;31mSignature:\u001b[0m\n",
       "\u001b[0mFido\u001b[0m\u001b[1;33m.\u001b[0m\u001b[0mfetch\u001b[0m\u001b[1;33m(\u001b[0m\u001b[1;33m\n",
       "\u001b[0m    \u001b[1;33m*\u001b[0m\u001b[0mquery_results\u001b[0m\u001b[1;33m,\u001b[0m\u001b[1;33m\n",
       "\u001b[0m    \u001b[0mpath\u001b[0m\u001b[1;33m=\u001b[0m\u001b[1;32mNone\u001b[0m\u001b[1;33m,\u001b[0m\u001b[1;33m\n",
       "\u001b[0m    \u001b[0mmax_conn\u001b[0m\u001b[1;33m=\u001b[0m\u001b[1;36m5\u001b[0m\u001b[1;33m,\u001b[0m\u001b[1;33m\n",
       "\u001b[0m    \u001b[0mprogress\u001b[0m\u001b[1;33m=\u001b[0m\u001b[1;32mTrue\u001b[0m\u001b[1;33m,\u001b[0m\u001b[1;33m\n",
       "\u001b[0m    \u001b[0moverwrite\u001b[0m\u001b[1;33m=\u001b[0m\u001b[1;32mFalse\u001b[0m\u001b[1;33m,\u001b[0m\u001b[1;33m\n",
       "\u001b[0m    \u001b[0mdownloader\u001b[0m\u001b[1;33m=\u001b[0m\u001b[1;32mNone\u001b[0m\u001b[1;33m,\u001b[0m\u001b[1;33m\n",
       "\u001b[0m    \u001b[1;33m**\u001b[0m\u001b[0mkwargs\u001b[0m\u001b[1;33m,\u001b[0m\u001b[1;33m\n",
       "\u001b[0m\u001b[1;33m)\u001b[0m\u001b[1;33m\u001b[0m\u001b[1;33m\u001b[0m\u001b[0m\n",
       "\u001b[1;31mDocstring:\u001b[0m\n",
       "Download the records represented by `~sunpy.net.base_client.QueryResponseTable` or\n",
       "`~sunpy.net.fido_factory.UnifiedResponse` objects.\n",
       "\n",
       "Parameters\n",
       "----------\n",
       "*query_results : `sunpy.net.fido_factory.UnifiedResponse` or `~sunpy.net.base_client.QueryResponseTable`\n",
       "    Container returned by query method, or multiple.\n",
       "path : `str`\n",
       "    The directory to retrieve the files into. Can refer to any fields\n",
       "    in `~sunpy.net.base_client.BaseQueryResponse.response_block_properties` via string formatting,\n",
       "    moreover the file-name of the file downloaded can be referred to as file,\n",
       "    e.g. \"{source}/{instrument}/{time.start}/{file}\".\n",
       "max_conn : `int`, optional\n",
       "    The number of parallel download slots.\n",
       "progress : `bool`, optional\n",
       "    If `True` show a progress bar showing how many of the total files\n",
       "    have been downloaded. If `False`, no progress bars will be shown at all.\n",
       "overwrite : `bool` or `str`, optional\n",
       "    Determine how to handle downloading if a file already exists with the\n",
       "    same name. If `False` the file download will be skipped and the path\n",
       "    returned to the existing file, if `True` the file will be downloaded\n",
       "    and the existing file will be overwritten, if ``'unique'`` the filename\n",
       "    will be modified to be unique.\n",
       "downloader : `parfive.Downloader`, optional\n",
       "    The download manager to use. If specified the ``max_conn``,\n",
       "    ``progress`` and ``overwrite`` arguments are ignored.\n",
       "\n",
       "Returns\n",
       "-------\n",
       "`parfive.Results`\n",
       "\n",
       "Examples\n",
       "--------\n",
       ">>> from sunpy.net.attrs import Time, Instrument\n",
       ">>> unifresp = Fido.search(Time('2012/3/4','2012/3/5'), Instrument('EIT'))  # doctest: +REMOTE_DATA\n",
       ">>> filepaths = Fido.fetch(unifresp)  # doctest: +SKIP\n",
       "\n",
       "If any downloads fail, they can be retried by passing the `parfive.Results` object back into ``fetch``.\n",
       "\n",
       ">>> filepaths = Fido.fetch(filepaths)  # doctest: +SKIP\n",
       "\u001b[1;31mFile:\u001b[0m      c:\\users\\14902\\anaconda3\\envs\\sdo2022\\lib\\site-packages\\sunpy\\net\\fido_factory.py\n",
       "\u001b[1;31mType:\u001b[0m      method"
      ]
     },
     "metadata": {},
     "output_type": "display_data"
    }
   ],
   "source": [
    "Fido.fetch?"
   ]
  },
  {
   "cell_type": "code",
   "execution_count": 17,
   "id": "72f0c586-90c4-4488-bd6a-172a96ff151c",
   "metadata": {
    "collapsed": true,
    "jupyter": {
     "outputs_hidden": true
    },
    "tags": []
   },
   "outputs": [
    {
     "ename": "ValueError",
     "evalue": "A registered email is required to get data from JSOC. Please supply an email with attrs.jsoc.Notify to Fido.search. Then pass those new results back into Fido.fetch",
     "output_type": "error",
     "traceback": [
      "\u001b[1;31m---------------------------------------------------------------------------\u001b[0m",
      "\u001b[1;31mValueError\u001b[0m                                Traceback (most recent call last)",
      "Cell \u001b[1;32mIn[17], line 1\u001b[0m\n\u001b[1;32m----> 1\u001b[0m files \u001b[38;5;241m=\u001b[39m \u001b[43mFido\u001b[49m\u001b[38;5;241;43m.\u001b[39;49m\u001b[43mfetch\u001b[49m\u001b[43m(\u001b[49m\u001b[43mres\u001b[49m\u001b[43m,\u001b[49m\u001b[43m \u001b[49m\u001b[43mpath\u001b[49m\u001b[38;5;241;43m=\u001b[39;49m\u001b[38;5;124;43m'\u001b[39;49m\u001b[38;5;124;43mdata/AIA\u001b[39;49m\u001b[38;5;124;43m'\u001b[39;49m\u001b[43m)\u001b[49m\n",
      "File \u001b[1;32m~\\anaconda3\\envs\\sdo2022\\lib\\site-packages\\sunpy\\net\\fido_factory.py:432\u001b[0m, in \u001b[0;36mUnifiedDownloaderFactory.fetch\u001b[1;34m(self, path, max_conn, progress, overwrite, downloader, *query_results, **kwargs)\u001b[0m\n\u001b[0;32m    429\u001b[0m     \u001b[38;5;28;01mraise\u001b[39;00m \u001b[38;5;167;01mValueError\u001b[39;00m(\u001b[38;5;124mf\u001b[39m\u001b[38;5;124m\"\u001b[39m\u001b[38;5;124mQuery result has an unrecognized type: \u001b[39m\u001b[38;5;132;01m{\u001b[39;00m\u001b[38;5;28mtype\u001b[39m(query_result)\u001b[38;5;132;01m}\u001b[39;00m\u001b[38;5;124m \u001b[39m\u001b[38;5;124m\"\u001b[39m\n\u001b[0;32m    430\u001b[0m                      \u001b[38;5;124m\"\u001b[39m\u001b[38;5;124mAllowed types are QueryResponseRow, QueryResponseTable or UnifiedResponse.\u001b[39m\u001b[38;5;124m\"\u001b[39m)\n\u001b[0;32m    431\u001b[0m \u001b[38;5;28;01mfor\u001b[39;00m block \u001b[38;5;129;01min\u001b[39;00m responses:\n\u001b[1;32m--> 432\u001b[0m     result \u001b[38;5;241m=\u001b[39m block\u001b[38;5;241m.\u001b[39mclient\u001b[38;5;241m.\u001b[39mfetch(block, path\u001b[38;5;241m=\u001b[39mpath,\n\u001b[0;32m    433\u001b[0m                                 downloader\u001b[38;5;241m=\u001b[39mdownloader,\n\u001b[0;32m    434\u001b[0m                                 wait\u001b[38;5;241m=\u001b[39m\u001b[38;5;28;01mFalse\u001b[39;00m, \u001b[38;5;241m*\u001b[39m\u001b[38;5;241m*\u001b[39mkwargs)\n\u001b[0;32m    435\u001b[0m     \u001b[38;5;28;01mif\u001b[39;00m result \u001b[38;5;129;01mnot\u001b[39;00m \u001b[38;5;129;01min\u001b[39;00m (\u001b[38;5;28mNotImplemented\u001b[39m, \u001b[38;5;28;01mNone\u001b[39;00m):\n\u001b[0;32m    436\u001b[0m         reslist\u001b[38;5;241m.\u001b[39mappend(result)\n",
      "File \u001b[1;32m~\\anaconda3\\envs\\sdo2022\\lib\\site-packages\\sunpy\\net\\base_client.py:324\u001b[0m, in \u001b[0;36mconvert_row_to_table.<locals>.wrapper\u001b[1;34m(self, query_results, **kwargs)\u001b[0m\n\u001b[0;32m    322\u001b[0m \u001b[38;5;28;01mif\u001b[39;00m \u001b[38;5;28misinstance\u001b[39m(query_results, QueryResponseRow):\n\u001b[0;32m    323\u001b[0m     query_results \u001b[38;5;241m=\u001b[39m query_results\u001b[38;5;241m.\u001b[39mas_table()\n\u001b[1;32m--> 324\u001b[0m \u001b[38;5;28;01mreturn\u001b[39;00m func(\u001b[38;5;28mself\u001b[39m, query_results, \u001b[38;5;241m*\u001b[39m\u001b[38;5;241m*\u001b[39mkwargs)\n",
      "File \u001b[1;32m~\\anaconda3\\envs\\sdo2022\\lib\\site-packages\\sunpy\\net\\jsoc\\jsoc.py:417\u001b[0m, in \u001b[0;36mJSOCClient.fetch\u001b[1;34m(self, jsoc_response, path, progress, overwrite, downloader, wait, sleep, max_conn, **kwargs)\u001b[0m\n\u001b[0;32m    415\u001b[0m \u001b[38;5;28;01mfor\u001b[39;00m resp \u001b[38;5;129;01min\u001b[39;00m jsoc_response\u001b[38;5;241m.\u001b[39mquery_args:\n\u001b[0;32m    416\u001b[0m     \u001b[38;5;28;01mif\u001b[39;00m \u001b[38;5;124m'\u001b[39m\u001b[38;5;124mnotify\u001b[39m\u001b[38;5;124m'\u001b[39m \u001b[38;5;129;01mnot\u001b[39;00m \u001b[38;5;129;01min\u001b[39;00m resp:\n\u001b[1;32m--> 417\u001b[0m         \u001b[38;5;28;01mraise\u001b[39;00m \u001b[38;5;167;01mValueError\u001b[39;00m(\u001b[38;5;124m'\u001b[39m\u001b[38;5;124mA registered email is required to get data from JSOC. \u001b[39m\u001b[38;5;124m'\u001b[39m\n\u001b[0;32m    418\u001b[0m                          \u001b[38;5;124m'\u001b[39m\u001b[38;5;124mPlease supply an email with attrs.jsoc.Notify to Fido.search. \u001b[39m\u001b[38;5;124m'\u001b[39m\n\u001b[0;32m    419\u001b[0m                          \u001b[38;5;124m'\u001b[39m\u001b[38;5;124mThen pass those new results back into Fido.fetch\u001b[39m\u001b[38;5;124m'\u001b[39m)\n\u001b[0;32m    421\u001b[0m \u001b[38;5;28;01mif\u001b[39;00m \u001b[38;5;28mlen\u001b[39m(jsoc_response) \u001b[38;5;241m!=\u001b[39m jsoc_response\u001b[38;5;241m.\u001b[39m_original_num_rows:\n\u001b[0;32m    422\u001b[0m     warn_user(\u001b[38;5;124m\"\u001b[39m\u001b[38;5;124mDownloading of sliced JSOC results is not supported. \u001b[39m\u001b[38;5;124m\"\u001b[39m\n\u001b[0;32m    423\u001b[0m               \u001b[38;5;124m\"\u001b[39m\u001b[38;5;124mAll the files present in the original response will \u001b[39m\u001b[38;5;124m\"\u001b[39m\n\u001b[0;32m    424\u001b[0m               \u001b[38;5;124m\"\u001b[39m\u001b[38;5;124mbe downloaded when passed to fetch().\u001b[39m\u001b[38;5;124m\"\u001b[39m)\n",
      "\u001b[1;31mValueError\u001b[0m: A registered email is required to get data from JSOC. Please supply an email with attrs.jsoc.Notify to Fido.search. Then pass those new results back into Fido.fetch"
     ]
    }
   ],
   "source": [
    "files = Fido.fetch(res, path='data/AIA')"
   ]
  },
  {
   "cell_type": "code",
   "execution_count": 4,
   "id": "9245d4f4-6d44-42af-8d6a-ec78db266c21",
   "metadata": {
    "collapsed": true,
    "jupyter": {
     "outputs_hidden": true
    },
    "tags": []
   },
   "outputs": [
    {
     "data": {
      "text/html": [
       "Results from 1 Provider:</br></br>7200 Results from the VSOClient:</br><div><i>VSOQueryResponseTable length=7200</i>\n",
       "<table id=\"table3241677153376\" class=\"table-striped table-bordered table-condensed\">\n",
       "<thead><tr><th>Start Time</th><th>End Time</th><th>Source</th><th>Instrument</th><th>Wavelength</th><th>Provider</th><th>Physobs</th><th>Wavetype</th><th>Extent Width</th><th>Extent Length</th><th>Extent Type</th><th>Size</th></tr></thead>\n",
       "<thead><tr><th></th><th></th><th></th><th></th><th>Angstrom</th><th></th><th></th><th></th><th></th><th></th><th></th><th>Mibyte</th></tr></thead>\n",
       "<thead><tr><th>Time</th><th>Time</th><th>str3</th><th>str3</th><th>float64[2]</th><th>str4</th><th>str9</th><th>str6</th><th>str4</th><th>str4</th><th>str8</th><th>float64</th></tr></thead>\n",
       "<tr><td>2011-01-01 00:00:08.000</td><td>2011-01-01 00:00:09.000</td><td>SDO</td><td>AIA</td><td>304.0 .. 304.0</td><td>JSOC</td><td>intensity</td><td>NARROW</td><td>4096</td><td>4096</td><td>FULLDISK</td><td>64.64844</td></tr>\n",
       "<tr><td>2011-01-01 00:00:20.000</td><td>2011-01-01 00:00:21.000</td><td>SDO</td><td>AIA</td><td>304.0 .. 304.0</td><td>JSOC</td><td>intensity</td><td>NARROW</td><td>4096</td><td>4096</td><td>FULLDISK</td><td>64.64844</td></tr>\n",
       "<tr><td>2011-01-01 00:00:32.000</td><td>2011-01-01 00:00:33.000</td><td>SDO</td><td>AIA</td><td>304.0 .. 304.0</td><td>JSOC</td><td>intensity</td><td>NARROW</td><td>4096</td><td>4096</td><td>FULLDISK</td><td>64.64844</td></tr>\n",
       "<tr><td>2011-01-01 00:00:44.000</td><td>2011-01-01 00:00:45.000</td><td>SDO</td><td>AIA</td><td>304.0 .. 304.0</td><td>JSOC</td><td>intensity</td><td>NARROW</td><td>4096</td><td>4096</td><td>FULLDISK</td><td>64.64844</td></tr>\n",
       "<tr><td>2011-01-01 00:00:56.000</td><td>2011-01-01 00:00:57.000</td><td>SDO</td><td>AIA</td><td>304.0 .. 304.0</td><td>JSOC</td><td>intensity</td><td>NARROW</td><td>4096</td><td>4096</td><td>FULLDISK</td><td>64.64844</td></tr>\n",
       "<tr><td>2011-01-01 00:01:08.000</td><td>2011-01-01 00:01:09.000</td><td>SDO</td><td>AIA</td><td>304.0 .. 304.0</td><td>JSOC</td><td>intensity</td><td>NARROW</td><td>4096</td><td>4096</td><td>FULLDISK</td><td>64.64844</td></tr>\n",
       "<tr><td>2011-01-01 00:01:20.000</td><td>2011-01-01 00:01:21.000</td><td>SDO</td><td>AIA</td><td>304.0 .. 304.0</td><td>JSOC</td><td>intensity</td><td>NARROW</td><td>4096</td><td>4096</td><td>FULLDISK</td><td>64.64844</td></tr>\n",
       "<tr><td>2011-01-01 00:01:32.000</td><td>2011-01-01 00:01:33.000</td><td>SDO</td><td>AIA</td><td>304.0 .. 304.0</td><td>JSOC</td><td>intensity</td><td>NARROW</td><td>4096</td><td>4096</td><td>FULLDISK</td><td>64.64844</td></tr>\n",
       "<tr><td>2011-01-01 00:01:44.000</td><td>2011-01-01 00:01:45.000</td><td>SDO</td><td>AIA</td><td>304.0 .. 304.0</td><td>JSOC</td><td>intensity</td><td>NARROW</td><td>4096</td><td>4096</td><td>FULLDISK</td><td>64.64844</td></tr>\n",
       "<tr><td>...</td><td>...</td><td>...</td><td>...</td><td>...</td><td>...</td><td>...</td><td>...</td><td>...</td><td>...</td><td>...</td><td>...</td></tr>\n",
       "<tr><td>2011-01-01 23:58:08.000</td><td>2011-01-01 23:58:09.000</td><td>SDO</td><td>AIA</td><td>304.0 .. 304.0</td><td>JSOC</td><td>intensity</td><td>NARROW</td><td>4096</td><td>4096</td><td>FULLDISK</td><td>64.64844</td></tr>\n",
       "<tr><td>2011-01-01 23:58:20.000</td><td>2011-01-01 23:58:21.000</td><td>SDO</td><td>AIA</td><td>304.0 .. 304.0</td><td>JSOC</td><td>intensity</td><td>NARROW</td><td>4096</td><td>4096</td><td>FULLDISK</td><td>64.64844</td></tr>\n",
       "<tr><td>2011-01-01 23:58:32.000</td><td>2011-01-01 23:58:33.000</td><td>SDO</td><td>AIA</td><td>304.0 .. 304.0</td><td>JSOC</td><td>intensity</td><td>NARROW</td><td>4096</td><td>4096</td><td>FULLDISK</td><td>64.64844</td></tr>\n",
       "<tr><td>2011-01-01 23:58:44.000</td><td>2011-01-01 23:58:45.000</td><td>SDO</td><td>AIA</td><td>304.0 .. 304.0</td><td>JSOC</td><td>intensity</td><td>NARROW</td><td>4096</td><td>4096</td><td>FULLDISK</td><td>64.64844</td></tr>\n",
       "<tr><td>2011-01-01 23:58:56.000</td><td>2011-01-01 23:58:57.000</td><td>SDO</td><td>AIA</td><td>304.0 .. 304.0</td><td>JSOC</td><td>intensity</td><td>NARROW</td><td>4096</td><td>4096</td><td>FULLDISK</td><td>64.64844</td></tr>\n",
       "<tr><td>2011-01-01 23:59:08.000</td><td>2011-01-01 23:59:09.000</td><td>SDO</td><td>AIA</td><td>304.0 .. 304.0</td><td>JSOC</td><td>intensity</td><td>NARROW</td><td>4096</td><td>4096</td><td>FULLDISK</td><td>64.64844</td></tr>\n",
       "<tr><td>2011-01-01 23:59:20.000</td><td>2011-01-01 23:59:21.000</td><td>SDO</td><td>AIA</td><td>304.0 .. 304.0</td><td>JSOC</td><td>intensity</td><td>NARROW</td><td>4096</td><td>4096</td><td>FULLDISK</td><td>64.64844</td></tr>\n",
       "<tr><td>2011-01-01 23:59:32.000</td><td>2011-01-01 23:59:33.000</td><td>SDO</td><td>AIA</td><td>304.0 .. 304.0</td><td>JSOC</td><td>intensity</td><td>NARROW</td><td>4096</td><td>4096</td><td>FULLDISK</td><td>64.64844</td></tr>\n",
       "<tr><td>2011-01-01 23:59:44.000</td><td>2011-01-01 23:59:45.000</td><td>SDO</td><td>AIA</td><td>304.0 .. 304.0</td><td>JSOC</td><td>intensity</td><td>NARROW</td><td>4096</td><td>4096</td><td>FULLDISK</td><td>64.64844</td></tr>\n",
       "<tr><td>2011-01-01 23:59:56.000</td><td>2011-01-01 23:59:57.000</td><td>SDO</td><td>AIA</td><td>304.0 .. 304.0</td><td>JSOC</td><td>intensity</td><td>NARROW</td><td>4096</td><td>4096</td><td>FULLDISK</td><td>64.64844</td></tr>\n",
       "</table></div></br>"
      ],
      "text/plain": [
       "<sunpy.net.fido_factory.UnifiedResponse object at 0x000002F2BD36ECD0>\n",
       "Results from 1 Provider:\n",
       "\n",
       "7200 Results from the VSOClient:\n",
       "Source: http://vso.stanford.edu/cgi-bin/search\n",
       "Total estimated size: 488.079 Gbyte\n",
       "\n",
       "       Start Time               End Time        Source ... Extent Type   Size  \n",
       "                                                       ...              Mibyte \n",
       "----------------------- ----------------------- ------ ... ----------- --------\n",
       "2011-01-01 00:00:08.000 2011-01-01 00:00:09.000    SDO ...    FULLDISK 64.64844\n",
       "2011-01-01 00:00:20.000 2011-01-01 00:00:21.000    SDO ...    FULLDISK 64.64844\n",
       "2011-01-01 00:00:32.000 2011-01-01 00:00:33.000    SDO ...    FULLDISK 64.64844\n",
       "2011-01-01 00:00:44.000 2011-01-01 00:00:45.000    SDO ...    FULLDISK 64.64844\n",
       "2011-01-01 00:00:56.000 2011-01-01 00:00:57.000    SDO ...    FULLDISK 64.64844\n",
       "2011-01-01 00:01:08.000 2011-01-01 00:01:09.000    SDO ...    FULLDISK 64.64844\n",
       "2011-01-01 00:01:20.000 2011-01-01 00:01:21.000    SDO ...    FULLDISK 64.64844\n",
       "2011-01-01 00:01:32.000 2011-01-01 00:01:33.000    SDO ...    FULLDISK 64.64844\n",
       "2011-01-01 00:01:44.000 2011-01-01 00:01:45.000    SDO ...    FULLDISK 64.64844\n",
       "2011-01-01 00:01:56.000 2011-01-01 00:01:57.000    SDO ...    FULLDISK 64.64844\n",
       "                    ...                     ...    ... ...         ...      ...\n",
       "2011-01-01 23:58:08.000 2011-01-01 23:58:09.000    SDO ...    FULLDISK 64.64844\n",
       "2011-01-01 23:58:20.000 2011-01-01 23:58:21.000    SDO ...    FULLDISK 64.64844\n",
       "2011-01-01 23:58:32.000 2011-01-01 23:58:33.000    SDO ...    FULLDISK 64.64844\n",
       "2011-01-01 23:58:44.000 2011-01-01 23:58:45.000    SDO ...    FULLDISK 64.64844\n",
       "2011-01-01 23:58:56.000 2011-01-01 23:58:57.000    SDO ...    FULLDISK 64.64844\n",
       "2011-01-01 23:59:08.000 2011-01-01 23:59:09.000    SDO ...    FULLDISK 64.64844\n",
       "2011-01-01 23:59:20.000 2011-01-01 23:59:21.000    SDO ...    FULLDISK 64.64844\n",
       "2011-01-01 23:59:32.000 2011-01-01 23:59:33.000    SDO ...    FULLDISK 64.64844\n",
       "2011-01-01 23:59:44.000 2011-01-01 23:59:45.000    SDO ...    FULLDISK 64.64844\n",
       "2011-01-01 23:59:56.000 2011-01-01 23:59:57.000    SDO ...    FULLDISK 64.64844\n",
       "Length = 7200 rows\n"
      ]
     },
     "execution_count": 4,
     "metadata": {},
     "output_type": "execute_result"
    }
   ],
   "source": [
    "obs_start = \"2011-01-01T00:00:00\"\n",
    "obs_end = \"2011-01-02T00:00:00\"\n",
    "obs_time = a.Time(obs_start, obs_end)\n",
    "\n",
    "quest = Fido.search(\n",
    "                        obs_time,\n",
    "                       a.Instrument.aia,\n",
    "                       a.Wavelength(304*u.angstrom),\n",
    "                       a.Sample(1*u.s),\n",
    "                       ) \n",
    "quest"
   ]
  },
  {
   "cell_type": "code",
   "execution_count": 29,
   "id": "f340b228-83c0-4a16-865e-cc2ac7d5fdf4",
   "metadata": {},
   "outputs": [
    {
     "data": {
      "text/plain": [
       "7200.0"
      ]
     },
     "execution_count": 29,
     "metadata": {},
     "output_type": "execute_result"
    }
   ],
   "source": [
    "24*3600/12"
   ]
  },
  {
   "cell_type": "code",
   "execution_count": 22,
   "id": "a0c14bc2-a270-4286-8414-0555d1cbea78",
   "metadata": {},
   "outputs": [],
   "source": [
    "temp,=quest"
   ]
  },
  {
   "cell_type": "code",
   "execution_count": 25,
   "id": "a1d00348-2811-43c5-852d-e6bbffe90e54",
   "metadata": {
    "tags": []
   },
   "outputs": [
    {
     "data": {
      "application/vnd.jupyter.widget-view+json": {
       "model_id": "9f1e601130c445f296fae9e73a9cd489",
       "version_major": 2,
       "version_minor": 0
      },
      "text/plain": [
       "Files Downloaded:   0%|          | 0/10 [00:00<?, ?file/s]"
      ]
     },
     "metadata": {},
     "output_type": "display_data"
    },
    {
     "data": {
      "application/vnd.jupyter.widget-view+json": {
       "model_id": "5ad5d440a766486eb7c701b45c6acc8c",
       "version_major": 2,
       "version_minor": 0
      },
      "text/plain": [
       "Files Downloaded:   0%|          | 0/10 [00:00<?, ?file/s]"
      ]
     },
     "metadata": {},
     "output_type": "display_data"
    },
    {
     "data": {
      "application/vnd.jupyter.widget-view+json": {
       "model_id": "c86edb44fa634288a8c56523adaa79cd",
       "version_major": 2,
       "version_minor": 0
      },
      "text/plain": [
       "Files Downloaded:   0%|          | 0/10 [00:00<?, ?file/s]"
      ]
     },
     "metadata": {},
     "output_type": "display_data"
    },
    {
     "data": {
      "application/vnd.jupyter.widget-view+json": {
       "model_id": "",
       "version_major": 2,
       "version_minor": 0
      },
      "text/plain": [
       "aia_lev1_304a_2011_01_01t00_05_56_13z_image_lev1.fits:   0%|          | 0.00/9.83M [00:00<?, ?B/s]"
      ]
     },
     "metadata": {},
     "output_type": "display_data"
    },
    {
     "data": {
      "application/vnd.jupyter.widget-view+json": {
       "model_id": "",
       "version_major": 2,
       "version_minor": 0
      },
      "text/plain": [
       "aia_lev1_304a_2011_01_01t00_05_44_12z_image_lev1.fits:   0%|          | 0.00/9.83M [00:00<?, ?B/s]"
      ]
     },
     "metadata": {},
     "output_type": "display_data"
    },
    {
     "data": {
      "application/vnd.jupyter.widget-view+json": {
       "model_id": "af6543b7ac1542408251fc0f16d80c2f",
       "version_major": 2,
       "version_minor": 0
      },
      "text/plain": [
       "Files Downloaded:   0%|          | 0/10 [00:00<?, ?file/s]"
      ]
     },
     "metadata": {},
     "output_type": "display_data"
    },
    {
     "data": {
      "application/vnd.jupyter.widget-view+json": {
       "model_id": "d47a20c7f3e0411bafbad8226b29d721",
       "version_major": 2,
       "version_minor": 0
      },
      "text/plain": [
       "Files Downloaded:   0%|          | 0/10 [00:00<?, ?file/s]"
      ]
     },
     "metadata": {},
     "output_type": "display_data"
    },
    {
     "data": {
      "application/vnd.jupyter.widget-view+json": {
       "model_id": "",
       "version_major": 2,
       "version_minor": 0
      },
      "text/plain": [
       "aia_lev1_304a_2011_01_01t00_08_08_12z_image_lev1.fits:   0%|          | 0.00/9.83M [00:00<?, ?B/s]"
      ]
     },
     "metadata": {},
     "output_type": "display_data"
    },
    {
     "data": {
      "application/vnd.jupyter.widget-view+json": {
       "model_id": "",
       "version_major": 2,
       "version_minor": 0
      },
      "text/plain": [
       "aia_lev1_304a_2011_01_01t00_08_20_13z_image_lev1.fits:   0%|          | 0.00/9.83M [00:00<?, ?B/s]"
      ]
     },
     "metadata": {},
     "output_type": "display_data"
    },
    {
     "data": {
      "application/vnd.jupyter.widget-view+json": {
       "model_id": "",
       "version_major": 2,
       "version_minor": 0
      },
      "text/plain": [
       "aia_lev1_304a_2011_01_01t00_08_32_12z_image_lev1.fits:   0%|          | 0.00/9.83M [00:00<?, ?B/s]"
      ]
     },
     "metadata": {},
     "output_type": "display_data"
    },
    {
     "data": {
      "application/vnd.jupyter.widget-view+json": {
       "model_id": "",
       "version_major": 2,
       "version_minor": 0
      },
      "text/plain": [
       "aia_lev1_304a_2011_01_01t00_08_56_14z_image_lev1.fits:   0%|          | 0.00/9.83M [00:00<?, ?B/s]"
      ]
     },
     "metadata": {},
     "output_type": "display_data"
    },
    {
     "data": {
      "application/vnd.jupyter.widget-view+json": {
       "model_id": "",
       "version_major": 2,
       "version_minor": 0
      },
      "text/plain": [
       "aia_lev1_304a_2011_01_01t00_09_08_13z_image_lev1.fits:   0%|          | 0.00/9.83M [00:00<?, ?B/s]"
      ]
     },
     "metadata": {},
     "output_type": "display_data"
    },
    {
     "data": {
      "application/vnd.jupyter.widget-view+json": {
       "model_id": "",
       "version_major": 2,
       "version_minor": 0
      },
      "text/plain": [
       "aia_lev1_304a_2011_01_01t00_09_20_14z_image_lev1.fits:   0%|          | 0.00/9.83M [00:00<?, ?B/s]"
      ]
     },
     "metadata": {},
     "output_type": "display_data"
    },
    {
     "data": {
      "application/vnd.jupyter.widget-view+json": {
       "model_id": "",
       "version_major": 2,
       "version_minor": 0
      },
      "text/plain": [
       "aia_lev1_304a_2011_01_01t00_09_56_12z_image_lev1.fits:   0%|          | 0.00/9.83M [00:00<?, ?B/s]"
      ]
     },
     "metadata": {},
     "output_type": "display_data"
    },
    {
     "name": "stdout",
     "output_type": "stream",
     "text": [
      "3/0 files failed to download. Please check `.errors` for details\n"
     ]
    },
    {
     "data": {
      "application/vnd.jupyter.widget-view+json": {
       "model_id": "e66f804f05ee4b1591a5037b07e3bc49",
       "version_major": 2,
       "version_minor": 0
      },
      "text/plain": [
       "Files Downloaded:   0%|          | 0/10 [00:00<?, ?file/s]"
      ]
     },
     "metadata": {},
     "output_type": "display_data"
    },
    {
     "data": {
      "application/vnd.jupyter.widget-view+json": {
       "model_id": "",
       "version_major": 2,
       "version_minor": 0
      },
      "text/plain": [
       "aia_lev1_304a_2011_01_01t00_10_08_12z_image_lev1.fits:   0%|          | 0.00/9.83M [00:00<?, ?B/s]"
      ]
     },
     "metadata": {},
     "output_type": "display_data"
    },
    {
     "data": {
      "application/vnd.jupyter.widget-view+json": {
       "model_id": "",
       "version_major": 2,
       "version_minor": 0
      },
      "text/plain": [
       "aia_lev1_304a_2011_01_01t00_11_44_12z_image_lev1.fits:   0%|          | 0.00/9.82M [00:00<?, ?B/s]"
      ]
     },
     "metadata": {},
     "output_type": "display_data"
    },
    {
     "data": {
      "application/vnd.jupyter.widget-view+json": {
       "model_id": "a8600bb17ac14f6d860fa3f61dfa775f",
       "version_major": 2,
       "version_minor": 0
      },
      "text/plain": [
       "Files Downloaded:   0%|          | 0/10 [00:00<?, ?file/s]"
      ]
     },
     "metadata": {},
     "output_type": "display_data"
    },
    {
     "data": {
      "application/vnd.jupyter.widget-view+json": {
       "model_id": "",
       "version_major": 2,
       "version_minor": 0
      },
      "text/plain": [
       "aia_lev1_304a_2011_01_01t00_13_08_13z_image_lev1.fits:   0%|          | 0.00/9.83M [00:00<?, ?B/s]"
      ]
     },
     "metadata": {},
     "output_type": "display_data"
    },
    {
     "data": {
      "application/vnd.jupyter.widget-view+json": {
       "model_id": "",
       "version_major": 2,
       "version_minor": 0
      },
      "text/plain": [
       "aia_lev1_304a_2011_01_01t00_13_20_12z_image_lev1.fits:   0%|          | 0.00/9.83M [00:00<?, ?B/s]"
      ]
     },
     "metadata": {},
     "output_type": "display_data"
    },
    {
     "data": {
      "application/vnd.jupyter.widget-view+json": {
       "model_id": "",
       "version_major": 2,
       "version_minor": 0
      },
      "text/plain": [
       "aia_lev1_304a_2011_01_01t00_13_44_14z_image_lev1.fits:   0%|          | 0.00/9.82M [00:00<?, ?B/s]"
      ]
     },
     "metadata": {},
     "output_type": "display_data"
    },
    {
     "data": {
      "application/vnd.jupyter.widget-view+json": {
       "model_id": "",
       "version_major": 2,
       "version_minor": 0
      },
      "text/plain": [
       "aia_lev1_304a_2011_01_01t00_13_32_13z_image_lev1.fits:   0%|          | 0.00/9.83M [00:00<?, ?B/s]"
      ]
     },
     "metadata": {},
     "output_type": "display_data"
    },
    {
     "data": {
      "application/vnd.jupyter.widget-view+json": {
       "model_id": "",
       "version_major": 2,
       "version_minor": 0
      },
      "text/plain": [
       "aia_lev1_304a_2011_01_01t00_13_56_13z_image_lev1.fits:   0%|          | 0.00/9.82M [00:00<?, ?B/s]"
      ]
     },
     "metadata": {},
     "output_type": "display_data"
    },
    {
     "name": "stdout",
     "output_type": "stream",
     "text": [
      "5/0 files failed to download. Please check `.errors` for details\n"
     ]
    },
    {
     "data": {
      "application/vnd.jupyter.widget-view+json": {
       "model_id": "50c5f6c989de466cbc893f0791de14e2",
       "version_major": 2,
       "version_minor": 0
      },
      "text/plain": [
       "Files Downloaded:   0%|          | 0/10 [00:00<?, ?file/s]"
      ]
     },
     "metadata": {},
     "output_type": "display_data"
    },
    {
     "data": {
      "application/vnd.jupyter.widget-view+json": {
       "model_id": "",
       "version_major": 2,
       "version_minor": 0
      },
      "text/plain": [
       "aia_lev1_304a_2011_01_01t00_14_32_12z_image_lev1.fits:   0%|          | 0.00/9.82M [00:00<?, ?B/s]"
      ]
     },
     "metadata": {},
     "output_type": "display_data"
    },
    {
     "data": {
      "application/vnd.jupyter.widget-view+json": {
       "model_id": "",
       "version_major": 2,
       "version_minor": 0
      },
      "text/plain": [
       "aia_lev1_304a_2011_01_01t00_14_20_13z_image_lev1.fits:   0%|          | 0.00/9.82M [00:00<?, ?B/s]"
      ]
     },
     "metadata": {},
     "output_type": "display_data"
    },
    {
     "data": {
      "application/vnd.jupyter.widget-view+json": {
       "model_id": "",
       "version_major": 2,
       "version_minor": 0
      },
      "text/plain": [
       "aia_lev1_304a_2011_01_01t00_14_44_12z_image_lev1.fits:   0%|          | 0.00/9.82M [00:00<?, ?B/s]"
      ]
     },
     "metadata": {},
     "output_type": "display_data"
    },
    {
     "data": {
      "application/vnd.jupyter.widget-view+json": {
       "model_id": "",
       "version_major": 2,
       "version_minor": 0
      },
      "text/plain": [
       "aia_lev1_304a_2011_01_01t00_15_20_12z_image_lev1.fits:   0%|          | 0.00/9.82M [00:00<?, ?B/s]"
      ]
     },
     "metadata": {},
     "output_type": "display_data"
    },
    {
     "data": {
      "application/vnd.jupyter.widget-view+json": {
       "model_id": "",
       "version_major": 2,
       "version_minor": 0
      },
      "text/plain": [
       "aia_lev1_304a_2011_01_01t00_15_08_12z_image_lev1.fits:   0%|          | 0.00/9.83M [00:00<?, ?B/s]"
      ]
     },
     "metadata": {},
     "output_type": "display_data"
    },
    {
     "data": {
      "application/vnd.jupyter.widget-view+json": {
       "model_id": "",
       "version_major": 2,
       "version_minor": 0
      },
      "text/plain": [
       "aia_lev1_304a_2011_01_01t00_15_44_12z_image_lev1.fits:   0%|          | 0.00/9.82M [00:00<?, ?B/s]"
      ]
     },
     "metadata": {},
     "output_type": "display_data"
    },
    {
     "name": "stdout",
     "output_type": "stream",
     "text": [
      "2/0 files failed to download. Please check `.errors` for details\n"
     ]
    },
    {
     "data": {
      "application/vnd.jupyter.widget-view+json": {
       "model_id": "7cf3be1dc98c42e785ecd89d1daa071d",
       "version_major": 2,
       "version_minor": 0
      },
      "text/plain": [
       "Files Downloaded:   0%|          | 0/10 [00:00<?, ?file/s]"
      ]
     },
     "metadata": {},
     "output_type": "display_data"
    },
    {
     "data": {
      "application/vnd.jupyter.widget-view+json": {
       "model_id": "",
       "version_major": 2,
       "version_minor": 0
      },
      "text/plain": [
       "aia_lev1_304a_2011_01_01t00_16_32_12z_image_lev1.fits:   0%|          | 0.00/9.82M [00:00<?, ?B/s]"
      ]
     },
     "metadata": {},
     "output_type": "display_data"
    },
    {
     "data": {
      "application/vnd.jupyter.widget-view+json": {
       "model_id": "",
       "version_major": 2,
       "version_minor": 0
      },
      "text/plain": [
       "aia_lev1_304a_2011_01_01t00_16_08_12z_image_lev1.fits:   0%|          | 0.00/9.82M [00:00<?, ?B/s]"
      ]
     },
     "metadata": {},
     "output_type": "display_data"
    },
    {
     "data": {
      "application/vnd.jupyter.widget-view+json": {
       "model_id": "",
       "version_major": 2,
       "version_minor": 0
      },
      "text/plain": [
       "aia_lev1_304a_2011_01_01t00_16_56_14z_image_lev1.fits:   0%|          | 0.00/9.82M [00:00<?, ?B/s]"
      ]
     },
     "metadata": {},
     "output_type": "display_data"
    },
    {
     "data": {
      "application/vnd.jupyter.widget-view+json": {
       "model_id": "",
       "version_major": 2,
       "version_minor": 0
      },
      "text/plain": [
       "aia_lev1_304a_2011_01_01t00_17_08_13z_image_lev1.fits:   0%|          | 0.00/9.82M [00:00<?, ?B/s]"
      ]
     },
     "metadata": {},
     "output_type": "display_data"
    },
    {
     "data": {
      "application/vnd.jupyter.widget-view+json": {
       "model_id": "",
       "version_major": 2,
       "version_minor": 0
      },
      "text/plain": [
       "aia_lev1_304a_2011_01_01t00_17_20_12z_image_lev1.fits:   0%|          | 0.00/9.82M [00:00<?, ?B/s]"
      ]
     },
     "metadata": {},
     "output_type": "display_data"
    },
    {
     "data": {
      "application/vnd.jupyter.widget-view+json": {
       "model_id": "",
       "version_major": 2,
       "version_minor": 0
      },
      "text/plain": [
       "aia_lev1_304a_2011_01_01t00_17_32_12z_image_lev1.fits:   0%|          | 0.00/9.82M [00:00<?, ?B/s]"
      ]
     },
     "metadata": {},
     "output_type": "display_data"
    },
    {
     "data": {
      "application/vnd.jupyter.widget-view+json": {
       "model_id": "",
       "version_major": 2,
       "version_minor": 0
      },
      "text/plain": [
       "aia_lev1_304a_2011_01_01t00_17_44_13z_image_lev1.fits:   0%|          | 0.00/9.82M [00:00<?, ?B/s]"
      ]
     },
     "metadata": {},
     "output_type": "display_data"
    },
    {
     "data": {
      "application/vnd.jupyter.widget-view+json": {
       "model_id": "bc159e31e5ad40479bdd4c153e611aa8",
       "version_major": 2,
       "version_minor": 0
      },
      "text/plain": [
       "Files Downloaded:   0%|          | 0/10 [00:00<?, ?file/s]"
      ]
     },
     "metadata": {},
     "output_type": "display_data"
    },
    {
     "data": {
      "application/vnd.jupyter.widget-view+json": {
       "model_id": "",
       "version_major": 2,
       "version_minor": 0
      },
      "text/plain": [
       "aia_lev1_304a_2011_01_01t00_18_08_14z_image_lev1.fits:   0%|          | 0.00/9.82M [00:00<?, ?B/s]"
      ]
     },
     "metadata": {},
     "output_type": "display_data"
    },
    {
     "data": {
      "application/vnd.jupyter.widget-view+json": {
       "model_id": "",
       "version_major": 2,
       "version_minor": 0
      },
      "text/plain": [
       "aia_lev1_304a_2011_01_01t00_18_20_13z_image_lev1.fits:   0%|          | 0.00/9.82M [00:00<?, ?B/s]"
      ]
     },
     "metadata": {},
     "output_type": "display_data"
    },
    {
     "data": {
      "application/vnd.jupyter.widget-view+json": {
       "model_id": "",
       "version_major": 2,
       "version_minor": 0
      },
      "text/plain": [
       "aia_lev1_304a_2011_01_01t00_18_32_12z_image_lev1.fits:   0%|          | 0.00/9.82M [00:00<?, ?B/s]"
      ]
     },
     "metadata": {},
     "output_type": "display_data"
    },
    {
     "data": {
      "application/vnd.jupyter.widget-view+json": {
       "model_id": "",
       "version_major": 2,
       "version_minor": 0
      },
      "text/plain": [
       "aia_lev1_304a_2011_01_01t00_19_20_12z_image_lev1.fits:   0%|          | 0.00/9.83M [00:00<?, ?B/s]"
      ]
     },
     "metadata": {},
     "output_type": "display_data"
    },
    {
     "data": {
      "application/vnd.jupyter.widget-view+json": {
       "model_id": "",
       "version_major": 2,
       "version_minor": 0
      },
      "text/plain": [
       "aia_lev1_304a_2011_01_01t00_19_44_12z_image_lev1.fits:   0%|          | 0.00/9.83M [00:00<?, ?B/s]"
      ]
     },
     "metadata": {},
     "output_type": "display_data"
    },
    {
     "data": {
      "application/vnd.jupyter.widget-view+json": {
       "model_id": "b3acde4aad244819a4b92247c9dc9327",
       "version_major": 2,
       "version_minor": 0
      },
      "text/plain": [
       "Files Downloaded:   0%|          | 0/10 [00:00<?, ?file/s]"
      ]
     },
     "metadata": {},
     "output_type": "display_data"
    },
    {
     "data": {
      "application/vnd.jupyter.widget-view+json": {
       "model_id": "",
       "version_major": 2,
       "version_minor": 0
      },
      "text/plain": [
       "aia_lev1_304a_2011_01_01t00_20_32_12z_image_lev1.fits:   0%|          | 0.00/9.83M [00:00<?, ?B/s]"
      ]
     },
     "metadata": {},
     "output_type": "display_data"
    },
    {
     "data": {
      "application/vnd.jupyter.widget-view+json": {
       "model_id": "",
       "version_major": 2,
       "version_minor": 0
      },
      "text/plain": [
       "aia_lev1_304a_2011_01_01t00_21_20_14z_image_lev1.fits:   0%|          | 0.00/9.83M [00:00<?, ?B/s]"
      ]
     },
     "metadata": {},
     "output_type": "display_data"
    },
    {
     "data": {
      "application/vnd.jupyter.widget-view+json": {
       "model_id": "b4bc47c39d3c43dcb1839c95a3a13cc0",
       "version_major": 2,
       "version_minor": 0
      },
      "text/plain": [
       "aia_lev1_304a_2011_01_01t00_20_56_12z_image_lev1.fits:   0%|          | 0.00/9.83M [00:00<?, ?B/s]"
      ]
     },
     "metadata": {},
     "output_type": "display_data"
    },
    {
     "data": {
      "application/vnd.jupyter.widget-view+json": {
       "model_id": "d609fe1a6a3d42e98a7aa7fdd5871e10",
       "version_major": 2,
       "version_minor": 0
      },
      "text/plain": [
       "aia_lev1_304a_2011_01_01t00_20_20_12z_image_lev1.fits:   0%|          | 0.00/9.83M [00:00<?, ?B/s]"
      ]
     },
     "metadata": {},
     "output_type": "display_data"
    },
    {
     "data": {
      "application/vnd.jupyter.widget-view+json": {
       "model_id": "d91a95dfc8814428b9550f224e0dd687",
       "version_major": 2,
       "version_minor": 0
      },
      "text/plain": [
       "aia_lev1_304a_2011_01_01t00_21_44_12z_image_lev1.fits:   0%|          | 0.00/9.82M [00:00<?, ?B/s]"
      ]
     },
     "metadata": {},
     "output_type": "display_data"
    },
    {
     "data": {
      "application/vnd.jupyter.widget-view+json": {
       "model_id": "c9160f2eedf44a5899cb2dace6e3e3e1",
       "version_major": 2,
       "version_minor": 0
      },
      "text/plain": [
       "aia_lev1_304a_2011_01_01t00_21_56_12z_image_lev1.fits:   0%|          | 0.00/9.82M [00:00<?, ?B/s]"
      ]
     },
     "metadata": {},
     "output_type": "display_data"
    },
    {
     "name": "stdout",
     "output_type": "stream",
     "text": [
      "4/0 files failed to download. Please check `.errors` for details\n"
     ]
    },
    {
     "data": {
      "application/vnd.jupyter.widget-view+json": {
       "model_id": "6496267decd34ab682258e76f641c11b",
       "version_major": 2,
       "version_minor": 0
      },
      "text/plain": [
       "Files Downloaded:   0%|          | 0/10 [00:00<?, ?file/s]"
      ]
     },
     "metadata": {},
     "output_type": "display_data"
    },
    {
     "data": {
      "application/vnd.jupyter.widget-view+json": {
       "model_id": "f30c2ab3f1254858a1ab2c377d819784",
       "version_major": 2,
       "version_minor": 0
      },
      "text/plain": [
       "aia_lev1_304a_2011_01_01t00_22_20_13z_image_lev1.fits:   0%|          | 0.00/9.83M [00:00<?, ?B/s]"
      ]
     },
     "metadata": {},
     "output_type": "display_data"
    },
    {
     "data": {
      "application/vnd.jupyter.widget-view+json": {
       "model_id": "4ba212e1bffc49039b4da0ea689c9556",
       "version_major": 2,
       "version_minor": 0
      },
      "text/plain": [
       "aia_lev1_304a_2011_01_01t00_22_32_12z_image_lev1.fits:   0%|          | 0.00/9.83M [00:00<?, ?B/s]"
      ]
     },
     "metadata": {},
     "output_type": "display_data"
    },
    {
     "data": {
      "application/vnd.jupyter.widget-view+json": {
       "model_id": "911878ba01bc47e7948451e0664f5f99",
       "version_major": 2,
       "version_minor": 0
      },
      "text/plain": [
       "aia_lev1_304a_2011_01_01t00_22_44_13z_image_lev1.fits:   0%|          | 0.00/9.83M [00:00<?, ?B/s]"
      ]
     },
     "metadata": {},
     "output_type": "display_data"
    },
    {
     "data": {
      "application/vnd.jupyter.widget-view+json": {
       "model_id": "ca5e3f9d1c5d4d8fac0db471546b8ec7",
       "version_major": 2,
       "version_minor": 0
      },
      "text/plain": [
       "aia_lev1_304a_2011_01_01t00_22_56_12z_image_lev1.fits:   0%|          | 0.00/9.83M [00:00<?, ?B/s]"
      ]
     },
     "metadata": {},
     "output_type": "display_data"
    },
    {
     "data": {
      "application/vnd.jupyter.widget-view+json": {
       "model_id": "ebd261b8d6b947918b29c8870ebe6dd5",
       "version_major": 2,
       "version_minor": 0
      },
      "text/plain": [
       "aia_lev1_304a_2011_01_01t00_23_08_13z_image_lev1.fits:   0%|          | 0.00/9.83M [00:00<?, ?B/s]"
      ]
     },
     "metadata": {},
     "output_type": "display_data"
    },
    {
     "data": {
      "application/vnd.jupyter.widget-view+json": {
       "model_id": "893075977d214373878020406882ac7c",
       "version_major": 2,
       "version_minor": 0
      },
      "text/plain": [
       "aia_lev1_304a_2011_01_01t00_23_32_12z_image_lev1.fits:   0%|          | 0.00/9.83M [00:00<?, ?B/s]"
      ]
     },
     "metadata": {},
     "output_type": "display_data"
    },
    {
     "data": {
      "application/vnd.jupyter.widget-view+json": {
       "model_id": "d25cd7cdcb084aca9613d3894946a784",
       "version_major": 2,
       "version_minor": 0
      },
      "text/plain": [
       "aia_lev1_304a_2011_01_01t00_23_20_12z_image_lev1.fits:   0%|          | 0.00/9.83M [00:00<?, ?B/s]"
      ]
     },
     "metadata": {},
     "output_type": "display_data"
    },
    {
     "data": {
      "application/vnd.jupyter.widget-view+json": {
       "model_id": "662a8b04bd43434ea3ed6bce21e75d21",
       "version_major": 2,
       "version_minor": 0
      },
      "text/plain": [
       "aia_lev1_304a_2011_01_01t00_23_44_12z_image_lev1.fits:   0%|          | 0.00/9.83M [00:00<?, ?B/s]"
      ]
     },
     "metadata": {},
     "output_type": "display_data"
    },
    {
     "data": {
      "application/vnd.jupyter.widget-view+json": {
       "model_id": "01e175c85375485e82bfff5a177a6859",
       "version_major": 2,
       "version_minor": 0
      },
      "text/plain": [
       "aia_lev1_304a_2011_01_01t00_23_56_13z_image_lev1.fits:   0%|          | 0.00/9.83M [00:00<?, ?B/s]"
      ]
     },
     "metadata": {},
     "output_type": "display_data"
    },
    {
     "name": "stdout",
     "output_type": "stream",
     "text": [
      "2/0 files failed to download. Please check `.errors` for details\n"
     ]
    },
    {
     "data": {
      "application/vnd.jupyter.widget-view+json": {
       "model_id": "5cd1c7142ee4463b9afaf4c362fb04bc",
       "version_major": 2,
       "version_minor": 0
      },
      "text/plain": [
       "Files Downloaded:   0%|          | 0/10 [00:00<?, ?file/s]"
      ]
     },
     "metadata": {},
     "output_type": "display_data"
    },
    {
     "data": {
      "application/vnd.jupyter.widget-view+json": {
       "model_id": "1544a8d13cb4491088503dc146a8b878",
       "version_major": 2,
       "version_minor": 0
      },
      "text/plain": [
       "aia_lev1_304a_2011_01_01t00_24_44_12z_image_lev1.fits:   0%|          | 0.00/9.83M [00:00<?, ?B/s]"
      ]
     },
     "metadata": {},
     "output_type": "display_data"
    },
    {
     "data": {
      "application/vnd.jupyter.widget-view+json": {
       "model_id": "d9f5b92bba8f40e38d727c2c76cad38d",
       "version_major": 2,
       "version_minor": 0
      },
      "text/plain": [
       "aia_lev1_304a_2011_01_01t00_24_32_12z_image_lev1.fits:   0%|          | 0.00/9.83M [00:00<?, ?B/s]"
      ]
     },
     "metadata": {},
     "output_type": "display_data"
    },
    {
     "data": {
      "application/vnd.jupyter.widget-view+json": {
       "model_id": "b9e1021cc98940a3a0c92ef4250bc4b0",
       "version_major": 2,
       "version_minor": 0
      },
      "text/plain": [
       "aia_lev1_304a_2011_01_01t00_24_08_13z_image_lev1.fits:   0%|          | 0.00/9.83M [00:00<?, ?B/s]"
      ]
     },
     "metadata": {},
     "output_type": "display_data"
    },
    {
     "data": {
      "application/vnd.jupyter.widget-view+json": {
       "model_id": "006c911d0ad94acabda9d9aab9cc6fe4",
       "version_major": 2,
       "version_minor": 0
      },
      "text/plain": [
       "aia_lev1_304a_2011_01_01t00_24_20_12z_image_lev1.fits:   0%|          | 0.00/9.83M [00:00<?, ?B/s]"
      ]
     },
     "metadata": {},
     "output_type": "display_data"
    },
    {
     "data": {
      "application/vnd.jupyter.widget-view+json": {
       "model_id": "0ac6d06deb7c4b9798e1e9edf63ff12d",
       "version_major": 2,
       "version_minor": 0
      },
      "text/plain": [
       "aia_lev1_304a_2011_01_01t00_25_08_12z_image_lev1.fits:   0%|          | 0.00/9.83M [00:00<?, ?B/s]"
      ]
     },
     "metadata": {},
     "output_type": "display_data"
    },
    {
     "data": {
      "application/vnd.jupyter.widget-view+json": {
       "model_id": "3d034df320cd417f853da58e6d1fb040",
       "version_major": 2,
       "version_minor": 0
      },
      "text/plain": [
       "aia_lev1_304a_2011_01_01t00_25_20_12z_image_lev1.fits:   0%|          | 0.00/9.83M [00:00<?, ?B/s]"
      ]
     },
     "metadata": {},
     "output_type": "display_data"
    },
    {
     "data": {
      "application/vnd.jupyter.widget-view+json": {
       "model_id": "26f56074efdd4c98a1f4ca9e007d42c7",
       "version_major": 2,
       "version_minor": 0
      },
      "text/plain": [
       "aia_lev1_304a_2011_01_01t00_25_32_12z_image_lev1.fits:   0%|          | 0.00/9.83M [00:00<?, ?B/s]"
      ]
     },
     "metadata": {},
     "output_type": "display_data"
    },
    {
     "data": {
      "application/vnd.jupyter.widget-view+json": {
       "model_id": "1c440b16663d49c9b58b28078bbf7c15",
       "version_major": 2,
       "version_minor": 0
      },
      "text/plain": [
       "aia_lev1_304a_2011_01_01t00_25_56_12z_image_lev1.fits:   0%|          | 0.00/9.83M [00:00<?, ?B/s]"
      ]
     },
     "metadata": {},
     "output_type": "display_data"
    },
    {
     "name": "stdout",
     "output_type": "stream",
     "text": [
      "2/0 files failed to download. Please check `.errors` for details\n"
     ]
    },
    {
     "data": {
      "application/vnd.jupyter.widget-view+json": {
       "model_id": "3d7321113028425e9357e2c2ff63da7d",
       "version_major": 2,
       "version_minor": 0
      },
      "text/plain": [
       "Files Downloaded:   0%|          | 0/10 [00:00<?, ?file/s]"
      ]
     },
     "metadata": {},
     "output_type": "display_data"
    },
    {
     "data": {
      "application/vnd.jupyter.widget-view+json": {
       "model_id": "7301ca5b888349eab03ec50afdd7f821",
       "version_major": 2,
       "version_minor": 0
      },
      "text/plain": [
       "aia_lev1_304a_2011_01_01t00_26_56_12z_image_lev1.fits:   0%|          | 0.00/9.83M [00:00<?, ?B/s]"
      ]
     },
     "metadata": {},
     "output_type": "display_data"
    },
    {
     "data": {
      "application/vnd.jupyter.widget-view+json": {
       "model_id": "3d6ebc8f1fcc4c13a98bb91fa879aed3",
       "version_major": 2,
       "version_minor": 0
      },
      "text/plain": [
       "aia_lev1_304a_2011_01_01t00_26_44_13z_image_lev1.fits:   0%|          | 0.00/9.82M [00:00<?, ?B/s]"
      ]
     },
     "metadata": {},
     "output_type": "display_data"
    },
    {
     "data": {
      "application/vnd.jupyter.widget-view+json": {
       "model_id": "ef8f9146d1c14a96bec41e7900fe971e",
       "version_major": 2,
       "version_minor": 0
      },
      "text/plain": [
       "aia_lev1_304a_2011_01_01t00_26_32_12z_image_lev1.fits:   0%|          | 0.00/9.82M [00:00<?, ?B/s]"
      ]
     },
     "metadata": {},
     "output_type": "display_data"
    },
    {
     "data": {
      "application/vnd.jupyter.widget-view+json": {
       "model_id": "570cb7493ac04de4a038c7a460c79cd5",
       "version_major": 2,
       "version_minor": 0
      },
      "text/plain": [
       "aia_lev1_304a_2011_01_01t00_26_20_13z_image_lev1.fits:   0%|          | 0.00/9.82M [00:00<?, ?B/s]"
      ]
     },
     "metadata": {},
     "output_type": "display_data"
    },
    {
     "data": {
      "application/vnd.jupyter.widget-view+json": {
       "model_id": "048ba54d77204233a897d0e55013af51",
       "version_major": 2,
       "version_minor": 0
      },
      "text/plain": [
       "aia_lev1_304a_2011_01_01t00_27_08_13z_image_lev1.fits:   0%|          | 0.00/9.82M [00:00<?, ?B/s]"
      ]
     },
     "metadata": {},
     "output_type": "display_data"
    },
    {
     "data": {
      "application/vnd.jupyter.widget-view+json": {
       "model_id": "8d81e3fcf89c4172b1e2cb4db907658a",
       "version_major": 2,
       "version_minor": 0
      },
      "text/plain": [
       "aia_lev1_304a_2011_01_01t00_27_20_12z_image_lev1.fits:   0%|          | 0.00/9.83M [00:00<?, ?B/s]"
      ]
     },
     "metadata": {},
     "output_type": "display_data"
    },
    {
     "data": {
      "application/vnd.jupyter.widget-view+json": {
       "model_id": "9737cdb19e564dfba374a4a4d84fb151",
       "version_major": 2,
       "version_minor": 0
      },
      "text/plain": [
       "aia_lev1_304a_2011_01_01t00_27_32_12z_image_lev1.fits:   0%|          | 0.00/9.82M [00:00<?, ?B/s]"
      ]
     },
     "metadata": {},
     "output_type": "display_data"
    },
    {
     "data": {
      "application/vnd.jupyter.widget-view+json": {
       "model_id": "47767643ddf64876bc4016931ffcd763",
       "version_major": 2,
       "version_minor": 0
      },
      "text/plain": [
       "aia_lev1_304a_2011_01_01t00_27_44_13z_image_lev1.fits:   0%|          | 0.00/9.82M [00:00<?, ?B/s]"
      ]
     },
     "metadata": {},
     "output_type": "display_data"
    },
    {
     "name": "stdout",
     "output_type": "stream",
     "text": [
      "3/0 files failed to download. Please check `.errors` for details\n"
     ]
    },
    {
     "data": {
      "application/vnd.jupyter.widget-view+json": {
       "model_id": "145be6b8cf804694864db3bd15376d57",
       "version_major": 2,
       "version_minor": 0
      },
      "text/plain": [
       "Files Downloaded:   0%|          | 0/10 [00:00<?, ?file/s]"
      ]
     },
     "metadata": {},
     "output_type": "display_data"
    },
    {
     "data": {
      "application/vnd.jupyter.widget-view+json": {
       "model_id": "c2701eb579034ce6a67be70ff23ae7cc",
       "version_major": 2,
       "version_minor": 0
      },
      "text/plain": [
       "aia_lev1_304a_2011_01_01t00_28_44_12z_image_lev1.fits:   0%|          | 0.00/9.83M [00:00<?, ?B/s]"
      ]
     },
     "metadata": {},
     "output_type": "display_data"
    },
    {
     "data": {
      "application/vnd.jupyter.widget-view+json": {
       "model_id": "4e16a553c0604dc48a6d1e7af732e193",
       "version_major": 2,
       "version_minor": 0
      },
      "text/plain": [
       "aia_lev1_304a_2011_01_01t00_28_20_13z_image_lev1.fits:   0%|          | 0.00/9.83M [00:00<?, ?B/s]"
      ]
     },
     "metadata": {},
     "output_type": "display_data"
    },
    {
     "data": {
      "application/vnd.jupyter.widget-view+json": {
       "model_id": "024bd1ad605841f6a2d71e3fa64faa31",
       "version_major": 2,
       "version_minor": 0
      },
      "text/plain": [
       "aia_lev1_304a_2011_01_01t00_28_32_12z_image_lev1.fits:   0%|          | 0.00/9.83M [00:00<?, ?B/s]"
      ]
     },
     "metadata": {},
     "output_type": "display_data"
    },
    {
     "data": {
      "application/vnd.jupyter.widget-view+json": {
       "model_id": "c24b6df21093434fb55caaa46500e282",
       "version_major": 2,
       "version_minor": 0
      },
      "text/plain": [
       "aia_lev1_304a_2011_01_01t00_28_56_13z_image_lev1.fits:   0%|          | 0.00/9.83M [00:00<?, ?B/s]"
      ]
     },
     "metadata": {},
     "output_type": "display_data"
    },
    {
     "data": {
      "application/vnd.jupyter.widget-view+json": {
       "model_id": "a17323b45361400699437d1d56467efc",
       "version_major": 2,
       "version_minor": 0
      },
      "text/plain": [
       "aia_lev1_304a_2011_01_01t00_28_08_12z_image_lev1.fits:   0%|          | 0.00/9.82M [00:00<?, ?B/s]"
      ]
     },
     "metadata": {},
     "output_type": "display_data"
    },
    {
     "data": {
      "application/vnd.jupyter.widget-view+json": {
       "model_id": "20ff5d516edd43c0b0ac167fd312cb05",
       "version_major": 2,
       "version_minor": 0
      },
      "text/plain": [
       "aia_lev1_304a_2011_01_01t00_29_08_13z_image_lev1.fits:   0%|          | 0.00/9.83M [00:00<?, ?B/s]"
      ]
     },
     "metadata": {},
     "output_type": "display_data"
    },
    {
     "data": {
      "application/vnd.jupyter.widget-view+json": {
       "model_id": "15321b78e4c44157a7cbed6c3bc4537d",
       "version_major": 2,
       "version_minor": 0
      },
      "text/plain": [
       "aia_lev1_304a_2011_01_01t00_29_20_12z_image_lev1.fits:   0%|          | 0.00/9.82M [00:00<?, ?B/s]"
      ]
     },
     "metadata": {},
     "output_type": "display_data"
    },
    {
     "data": {
      "application/vnd.jupyter.widget-view+json": {
       "model_id": "5102f9c5663544788d417a135d90cc61",
       "version_major": 2,
       "version_minor": 0
      },
      "text/plain": [
       "aia_lev1_304a_2011_01_01t00_29_32_12z_image_lev1.fits:   0%|          | 0.00/9.83M [00:00<?, ?B/s]"
      ]
     },
     "metadata": {},
     "output_type": "display_data"
    },
    {
     "data": {
      "application/vnd.jupyter.widget-view+json": {
       "model_id": "01f8c2147c1f4c988d8cac69228f6b22",
       "version_major": 2,
       "version_minor": 0
      },
      "text/plain": [
       "aia_lev1_304a_2011_01_01t00_29_44_14z_image_lev1.fits:   0%|          | 0.00/9.83M [00:00<?, ?B/s]"
      ]
     },
     "metadata": {},
     "output_type": "display_data"
    },
    {
     "data": {
      "application/vnd.jupyter.widget-view+json": {
       "model_id": "30b7998776954a2ba8070b79c6b85062",
       "version_major": 2,
       "version_minor": 0
      },
      "text/plain": [
       "aia_lev1_304a_2011_01_01t00_29_56_12z_image_lev1.fits:   0%|          | 0.00/9.82M [00:00<?, ?B/s]"
      ]
     },
     "metadata": {},
     "output_type": "display_data"
    },
    {
     "data": {
      "application/vnd.jupyter.widget-view+json": {
       "model_id": "f029767c012f4096822011a52a86f046",
       "version_major": 2,
       "version_minor": 0
      },
      "text/plain": [
       "Files Downloaded:   0%|          | 0/10 [00:00<?, ?file/s]"
      ]
     },
     "metadata": {},
     "output_type": "display_data"
    },
    {
     "data": {
      "application/vnd.jupyter.widget-view+json": {
       "model_id": "be8a73f225994c77986066566f231dc7",
       "version_major": 2,
       "version_minor": 0
      },
      "text/plain": [
       "aia_lev1_304a_2011_01_01t00_30_56_12z_image_lev1.fits:   0%|          | 0.00/9.82M [00:00<?, ?B/s]"
      ]
     },
     "metadata": {},
     "output_type": "display_data"
    },
    {
     "data": {
      "application/vnd.jupyter.widget-view+json": {
       "model_id": "abbd4de66988472bbf3e29b34f1bddf8",
       "version_major": 2,
       "version_minor": 0
      },
      "text/plain": [
       "aia_lev1_304a_2011_01_01t00_30_32_12z_image_lev1.fits:   0%|          | 0.00/9.82M [00:00<?, ?B/s]"
      ]
     },
     "metadata": {},
     "output_type": "display_data"
    },
    {
     "data": {
      "application/vnd.jupyter.widget-view+json": {
       "model_id": "4c5a5b3a51ed4e89ac3659b2caa1846b",
       "version_major": 2,
       "version_minor": 0
      },
      "text/plain": [
       "aia_lev1_304a_2011_01_01t00_30_08_14z_image_lev1.fits:   0%|          | 0.00/9.82M [00:00<?, ?B/s]"
      ]
     },
     "metadata": {},
     "output_type": "display_data"
    },
    {
     "data": {
      "application/vnd.jupyter.widget-view+json": {
       "model_id": "bee1a88d56e748d4bb5d5fbf53d6230f",
       "version_major": 2,
       "version_minor": 0
      },
      "text/plain": [
       "aia_lev1_304a_2011_01_01t00_30_20_12z_image_lev1.fits:   0%|          | 0.00/9.82M [00:00<?, ?B/s]"
      ]
     },
     "metadata": {},
     "output_type": "display_data"
    },
    {
     "data": {
      "application/vnd.jupyter.widget-view+json": {
       "model_id": "9d44da25b5b44eb289cd57655626c284",
       "version_major": 2,
       "version_minor": 0
      },
      "text/plain": [
       "aia_lev1_304a_2011_01_01t00_30_44_13z_image_lev1.fits:   0%|          | 0.00/9.82M [00:00<?, ?B/s]"
      ]
     },
     "metadata": {},
     "output_type": "display_data"
    },
    {
     "data": {
      "application/vnd.jupyter.widget-view+json": {
       "model_id": "ec34bec460154623b02b6356a531aac9",
       "version_major": 2,
       "version_minor": 0
      },
      "text/plain": [
       "aia_lev1_304a_2011_01_01t00_31_08_12z_image_lev1.fits:   0%|          | 0.00/9.82M [00:00<?, ?B/s]"
      ]
     },
     "metadata": {},
     "output_type": "display_data"
    },
    {
     "data": {
      "application/vnd.jupyter.widget-view+json": {
       "model_id": "14761a9a924a4ed6ac57b3e74ef91e33",
       "version_major": 2,
       "version_minor": 0
      },
      "text/plain": [
       "aia_lev1_304a_2011_01_01t00_31_20_12z_image_lev1.fits:   0%|          | 0.00/9.82M [00:00<?, ?B/s]"
      ]
     },
     "metadata": {},
     "output_type": "display_data"
    },
    {
     "data": {
      "application/vnd.jupyter.widget-view+json": {
       "model_id": "04c8aebb3eaf4cc8ba5eba5342564b75",
       "version_major": 2,
       "version_minor": 0
      },
      "text/plain": [
       "aia_lev1_304a_2011_01_01t00_31_32_12z_image_lev1.fits:   0%|          | 0.00/9.82M [00:00<?, ?B/s]"
      ]
     },
     "metadata": {},
     "output_type": "display_data"
    },
    {
     "data": {
      "application/vnd.jupyter.widget-view+json": {
       "model_id": "331cd66b93254f6ea68267cde70b8793",
       "version_major": 2,
       "version_minor": 0
      },
      "text/plain": [
       "aia_lev1_304a_2011_01_01t00_31_44_12z_image_lev1.fits:   0%|          | 0.00/9.82M [00:00<?, ?B/s]"
      ]
     },
     "metadata": {},
     "output_type": "display_data"
    },
    {
     "data": {
      "application/vnd.jupyter.widget-view+json": {
       "model_id": "d4d99d51e3664b72a3d6541de0e25e46",
       "version_major": 2,
       "version_minor": 0
      },
      "text/plain": [
       "aia_lev1_304a_2011_01_01t00_31_56_12z_image_lev1.fits:   0%|          | 0.00/9.82M [00:00<?, ?B/s]"
      ]
     },
     "metadata": {},
     "output_type": "display_data"
    },
    {
     "data": {
      "application/vnd.jupyter.widget-view+json": {
       "model_id": "906e3c3c0de04f6fb8ec2c797d95c728",
       "version_major": 2,
       "version_minor": 0
      },
      "text/plain": [
       "Files Downloaded:   0%|          | 0/10 [00:00<?, ?file/s]"
      ]
     },
     "metadata": {},
     "output_type": "display_data"
    },
    {
     "data": {
      "application/vnd.jupyter.widget-view+json": {
       "model_id": "36a8b82f5bbc4c1f98da31b944211c91",
       "version_major": 2,
       "version_minor": 0
      },
      "text/plain": [
       "aia_lev1_304a_2011_01_01t00_32_32_12z_image_lev1.fits:   0%|          | 0.00/9.82M [00:00<?, ?B/s]"
      ]
     },
     "metadata": {},
     "output_type": "display_data"
    },
    {
     "data": {
      "application/vnd.jupyter.widget-view+json": {
       "model_id": "a6b903556be24cb69841ab0c76379510",
       "version_major": 2,
       "version_minor": 0
      },
      "text/plain": [
       "aia_lev1_304a_2011_01_01t00_32_08_12z_image_lev1.fits:   0%|          | 0.00/9.82M [00:00<?, ?B/s]"
      ]
     },
     "metadata": {},
     "output_type": "display_data"
    },
    {
     "data": {
      "application/vnd.jupyter.widget-view+json": {
       "model_id": "77b895b3f6e1497e91a91418e0be7259",
       "version_major": 2,
       "version_minor": 0
      },
      "text/plain": [
       "aia_lev1_304a_2011_01_01t00_32_56_12z_image_lev1.fits:   0%|          | 0.00/9.82M [00:00<?, ?B/s]"
      ]
     },
     "metadata": {},
     "output_type": "display_data"
    },
    {
     "data": {
      "application/vnd.jupyter.widget-view+json": {
       "model_id": "2f56b886f69f45c4b771902b0da62913",
       "version_major": 2,
       "version_minor": 0
      },
      "text/plain": [
       "aia_lev1_304a_2011_01_01t00_32_20_13z_image_lev1.fits:   0%|          | 0.00/9.82M [00:00<?, ?B/s]"
      ]
     },
     "metadata": {},
     "output_type": "display_data"
    },
    {
     "data": {
      "application/vnd.jupyter.widget-view+json": {
       "model_id": "f776789afc0b4bd1923b2bb30291eeba",
       "version_major": 2,
       "version_minor": 0
      },
      "text/plain": [
       "aia_lev1_304a_2011_01_01t00_33_08_13z_image_lev1.fits:   0%|          | 0.00/9.82M [00:00<?, ?B/s]"
      ]
     },
     "metadata": {},
     "output_type": "display_data"
    },
    {
     "data": {
      "application/vnd.jupyter.widget-view+json": {
       "model_id": "dcf2d578cccd4e429c26c54168fa1788",
       "version_major": 2,
       "version_minor": 0
      },
      "text/plain": [
       "aia_lev1_304a_2011_01_01t00_33_20_12z_image_lev1.fits:   0%|          | 0.00/9.82M [00:00<?, ?B/s]"
      ]
     },
     "metadata": {},
     "output_type": "display_data"
    },
    {
     "data": {
      "application/vnd.jupyter.widget-view+json": {
       "model_id": "e948ebd1a5b141d0a13bb3eed48cb1c8",
       "version_major": 2,
       "version_minor": 0
      },
      "text/plain": [
       "aia_lev1_304a_2011_01_01t00_33_32_12z_image_lev1.fits:   0%|          | 0.00/9.82M [00:00<?, ?B/s]"
      ]
     },
     "metadata": {},
     "output_type": "display_data"
    },
    {
     "data": {
      "application/vnd.jupyter.widget-view+json": {
       "model_id": "adaa6cad156a46e6a78dc87e15080679",
       "version_major": 2,
       "version_minor": 0
      },
      "text/plain": [
       "aia_lev1_304a_2011_01_01t00_33_44_12z_image_lev1.fits:   0%|          | 0.00/9.82M [00:00<?, ?B/s]"
      ]
     },
     "metadata": {},
     "output_type": "display_data"
    },
    {
     "data": {
      "application/vnd.jupyter.widget-view+json": {
       "model_id": "92e097f194aa406690b58b196dc3d47b",
       "version_major": 2,
       "version_minor": 0
      },
      "text/plain": [
       "aia_lev1_304a_2011_01_01t00_33_56_13z_image_lev1.fits:   0%|          | 0.00/9.82M [00:00<?, ?B/s]"
      ]
     },
     "metadata": {},
     "output_type": "display_data"
    },
    {
     "name": "stdout",
     "output_type": "stream",
     "text": [
      "2/0 files failed to download. Please check `.errors` for details\n"
     ]
    },
    {
     "data": {
      "application/vnd.jupyter.widget-view+json": {
       "model_id": "e54b6bc444b94b5a9d87ef476cbb9f57",
       "version_major": 2,
       "version_minor": 0
      },
      "text/plain": [
       "Files Downloaded:   0%|          | 0/10 [00:00<?, ?file/s]"
      ]
     },
     "metadata": {},
     "output_type": "display_data"
    },
    {
     "data": {
      "application/vnd.jupyter.widget-view+json": {
       "model_id": "fbb1ff11abcf4ade8f755c8f7ac0d044",
       "version_major": 2,
       "version_minor": 0
      },
      "text/plain": [
       "aia_lev1_304a_2011_01_01t00_34_08_13z_image_lev1.fits:   0%|          | 0.00/9.82M [00:00<?, ?B/s]"
      ]
     },
     "metadata": {},
     "output_type": "display_data"
    },
    {
     "data": {
      "application/vnd.jupyter.widget-view+json": {
       "model_id": "5582f8aa98eb4b9294a52f515545b4dc",
       "version_major": 2,
       "version_minor": 0
      },
      "text/plain": [
       "aia_lev1_304a_2011_01_01t00_34_32_12z_image_lev1.fits:   0%|          | 0.00/9.82M [00:00<?, ?B/s]"
      ]
     },
     "metadata": {},
     "output_type": "display_data"
    },
    {
     "data": {
      "application/vnd.jupyter.widget-view+json": {
       "model_id": "f5f04c23386c4bf5908397a97aaf2854",
       "version_major": 2,
       "version_minor": 0
      },
      "text/plain": [
       "aia_lev1_304a_2011_01_01t00_34_56_12z_image_lev1.fits:   0%|          | 0.00/9.82M [00:00<?, ?B/s]"
      ]
     },
     "metadata": {},
     "output_type": "display_data"
    },
    {
     "data": {
      "application/vnd.jupyter.widget-view+json": {
       "model_id": "3a5fc1f3d1c2496da95c318a8a0a3b57",
       "version_major": 2,
       "version_minor": 0
      },
      "text/plain": [
       "aia_lev1_304a_2011_01_01t00_34_20_12z_image_lev1.fits:   0%|          | 0.00/9.82M [00:00<?, ?B/s]"
      ]
     },
     "metadata": {},
     "output_type": "display_data"
    },
    {
     "data": {
      "application/vnd.jupyter.widget-view+json": {
       "model_id": "307ced5830db4d5ab51e601b66af3fe2",
       "version_major": 2,
       "version_minor": 0
      },
      "text/plain": [
       "aia_lev1_304a_2011_01_01t00_34_44_12z_image_lev1.fits:   0%|          | 0.00/9.82M [00:00<?, ?B/s]"
      ]
     },
     "metadata": {},
     "output_type": "display_data"
    },
    {
     "data": {
      "application/vnd.jupyter.widget-view+json": {
       "model_id": "5bdf6f79e40c493f8686c2d81b2d9b55",
       "version_major": 2,
       "version_minor": 0
      },
      "text/plain": [
       "aia_lev1_304a_2011_01_01t00_35_08_12z_image_lev1.fits:   0%|          | 0.00/9.82M [00:00<?, ?B/s]"
      ]
     },
     "metadata": {},
     "output_type": "display_data"
    },
    {
     "data": {
      "application/vnd.jupyter.widget-view+json": {
       "model_id": "8278b29942864b49b82f77048a07b1ce",
       "version_major": 2,
       "version_minor": 0
      },
      "text/plain": [
       "aia_lev1_304a_2011_01_01t00_35_32_12z_image_lev1.fits:   0%|          | 0.00/9.82M [00:00<?, ?B/s]"
      ]
     },
     "metadata": {},
     "output_type": "display_data"
    },
    {
     "data": {
      "application/vnd.jupyter.widget-view+json": {
       "model_id": "f7e44af9afb44e83b5c95ae0d8443f4f",
       "version_major": 2,
       "version_minor": 0
      },
      "text/plain": [
       "aia_lev1_304a_2011_01_01t00_35_20_14z_image_lev1.fits:   0%|          | 0.00/9.82M [00:00<?, ?B/s]"
      ]
     },
     "metadata": {},
     "output_type": "display_data"
    },
    {
     "data": {
      "application/vnd.jupyter.widget-view+json": {
       "model_id": "82847a06fd5841b69baf0b00b498c326",
       "version_major": 2,
       "version_minor": 0
      },
      "text/plain": [
       "aia_lev1_304a_2011_01_01t00_35_44_12z_image_lev1.fits:   0%|          | 0.00/9.82M [00:00<?, ?B/s]"
      ]
     },
     "metadata": {},
     "output_type": "display_data"
    },
    {
     "data": {
      "application/vnd.jupyter.widget-view+json": {
       "model_id": "2d5a05dd2f564424ac1b4479576eb165",
       "version_major": 2,
       "version_minor": 0
      },
      "text/plain": [
       "aia_lev1_304a_2011_01_01t00_35_56_12z_image_lev1.fits:   0%|          | 0.00/9.82M [00:00<?, ?B/s]"
      ]
     },
     "metadata": {},
     "output_type": "display_data"
    },
    {
     "data": {
      "application/vnd.jupyter.widget-view+json": {
       "model_id": "71e032a31bb74edd995e768a4227bd2f",
       "version_major": 2,
       "version_minor": 0
      },
      "text/plain": [
       "Files Downloaded:   0%|          | 0/10 [00:00<?, ?file/s]"
      ]
     },
     "metadata": {},
     "output_type": "display_data"
    },
    {
     "data": {
      "application/vnd.jupyter.widget-view+json": {
       "model_id": "dc6755bcc0e14f2eac79a181d49f50c9",
       "version_major": 2,
       "version_minor": 0
      },
      "text/plain": [
       "aia_lev1_304a_2011_01_01t00_37_32_12z_image_lev1.fits:   0%|          | 0.00/9.82M [00:00<?, ?B/s]"
      ]
     },
     "metadata": {},
     "output_type": "display_data"
    },
    {
     "data": {
      "application/vnd.jupyter.widget-view+json": {
       "model_id": "46c6762639de4f588d512b2d98a9e076",
       "version_major": 2,
       "version_minor": 0
      },
      "text/plain": [
       "aia_lev1_304a_2011_01_01t00_37_08_13z_image_lev1.fits:   0%|          | 0.00/9.82M [00:00<?, ?B/s]"
      ]
     },
     "metadata": {},
     "output_type": "display_data"
    },
    {
     "data": {
      "application/vnd.jupyter.widget-view+json": {
       "model_id": "efde2fea45454796bf6eb11ef78d9d10",
       "version_major": 2,
       "version_minor": 0
      },
      "text/plain": [
       "aia_lev1_304a_2011_01_01t00_37_20_12z_image_lev1.fits:   0%|          | 0.00/9.82M [00:00<?, ?B/s]"
      ]
     },
     "metadata": {},
     "output_type": "display_data"
    },
    {
     "data": {
      "application/vnd.jupyter.widget-view+json": {
       "model_id": "c2c80ede1b8346199c9d49ffc90d26cb",
       "version_major": 2,
       "version_minor": 0
      },
      "text/plain": [
       "aia_lev1_304a_2011_01_01t00_37_56_13z_image_lev1.fits:   0%|          | 0.00/9.82M [00:00<?, ?B/s]"
      ]
     },
     "metadata": {},
     "output_type": "display_data"
    },
    {
     "name": "stdout",
     "output_type": "stream",
     "text": [
      "6/0 files failed to download. Please check `.errors` for details\n"
     ]
    },
    {
     "data": {
      "application/vnd.jupyter.widget-view+json": {
       "model_id": "1e429e8aeba14994bc1801a4dbd40d02",
       "version_major": 2,
       "version_minor": 0
      },
      "text/plain": [
       "Files Downloaded:   0%|          | 0/10 [00:00<?, ?file/s]"
      ]
     },
     "metadata": {},
     "output_type": "display_data"
    },
    {
     "data": {
      "application/vnd.jupyter.widget-view+json": {
       "model_id": "81d209ac9d0d4c0aad888496e392de54",
       "version_major": 2,
       "version_minor": 0
      },
      "text/plain": [
       "aia_lev1_304a_2011_01_01t00_38_20_13z_image_lev1.fits:   0%|          | 0.00/9.82M [00:00<?, ?B/s]"
      ]
     },
     "metadata": {},
     "output_type": "display_data"
    },
    {
     "data": {
      "application/vnd.jupyter.widget-view+json": {
       "model_id": "023cd21f680d403d85c97f370ac79e43",
       "version_major": 2,
       "version_minor": 0
      },
      "text/plain": [
       "aia_lev1_304a_2011_01_01t00_38_56_13z_image_lev1.fits:   0%|          | 0.00/9.82M [00:00<?, ?B/s]"
      ]
     },
     "metadata": {},
     "output_type": "display_data"
    },
    {
     "data": {
      "application/vnd.jupyter.widget-view+json": {
       "model_id": "5facc6b7c0d04bdbb607ad683b254ff8",
       "version_major": 2,
       "version_minor": 0
      },
      "text/plain": [
       "aia_lev1_304a_2011_01_01t00_39_08_13z_image_lev1.fits:   0%|          | 0.00/9.82M [00:00<?, ?B/s]"
      ]
     },
     "metadata": {},
     "output_type": "display_data"
    },
    {
     "data": {
      "application/vnd.jupyter.widget-view+json": {
       "model_id": "5fa94b6b964b4cc39fd81866928cfcfc",
       "version_major": 2,
       "version_minor": 0
      },
      "text/plain": [
       "aia_lev1_304a_2011_01_01t00_39_20_12z_image_lev1.fits:   0%|          | 0.00/9.82M [00:00<?, ?B/s]"
      ]
     },
     "metadata": {},
     "output_type": "display_data"
    },
    {
     "data": {
      "application/vnd.jupyter.widget-view+json": {
       "model_id": "a719b7b45e53472ca1d5f37a4f592352",
       "version_major": 2,
       "version_minor": 0
      },
      "text/plain": [
       "aia_lev1_304a_2011_01_01t00_39_32_12z_image_lev1.fits:   0%|          | 0.00/9.82M [00:00<?, ?B/s]"
      ]
     },
     "metadata": {},
     "output_type": "display_data"
    },
    {
     "data": {
      "application/vnd.jupyter.widget-view+json": {
       "model_id": "f778c8ace75b4bff9577ad07646997a4",
       "version_major": 2,
       "version_minor": 0
      },
      "text/plain": [
       "aia_lev1_304a_2011_01_01t00_39_56_12z_image_lev1.fits:   0%|          | 0.00/9.82M [00:00<?, ?B/s]"
      ]
     },
     "metadata": {},
     "output_type": "display_data"
    },
    {
     "name": "stdout",
     "output_type": "stream",
     "text": [
      "4/0 files failed to download. Please check `.errors` for details\n"
     ]
    },
    {
     "data": {
      "application/vnd.jupyter.widget-view+json": {
       "model_id": "0498737979994525b91fc9d6391cb2fd",
       "version_major": 2,
       "version_minor": 0
      },
      "text/plain": [
       "Files Downloaded:   0%|          | 0/10 [00:00<?, ?file/s]"
      ]
     },
     "metadata": {},
     "output_type": "display_data"
    },
    {
     "data": {
      "application/vnd.jupyter.widget-view+json": {
       "model_id": "43ed4e216a6843c88e7537631ae7fe82",
       "version_major": 2,
       "version_minor": 0
      },
      "text/plain": [
       "aia_lev1_304a_2011_01_01t00_40_56_12z_image_lev1.fits:   0%|          | 0.00/9.82M [00:00<?, ?B/s]"
      ]
     },
     "metadata": {},
     "output_type": "display_data"
    },
    {
     "data": {
      "application/vnd.jupyter.widget-view+json": {
       "model_id": "8017422942a4400881850201b1efa65f",
       "version_major": 2,
       "version_minor": 0
      },
      "text/plain": [
       "aia_lev1_304a_2011_01_01t00_40_20_12z_image_lev1.fits:   0%|          | 0.00/9.83M [00:00<?, ?B/s]"
      ]
     },
     "metadata": {},
     "output_type": "display_data"
    },
    {
     "data": {
      "application/vnd.jupyter.widget-view+json": {
       "model_id": "d310e7de847041f2bb8c5484771b70d8",
       "version_major": 2,
       "version_minor": 0
      },
      "text/plain": [
       "aia_lev1_304a_2011_01_01t00_41_20_12z_image_lev1.fits:   0%|          | 0.00/9.83M [00:00<?, ?B/s]"
      ]
     },
     "metadata": {},
     "output_type": "display_data"
    },
    {
     "data": {
      "application/vnd.jupyter.widget-view+json": {
       "model_id": "96865afe3fde4238b1ef97f097bdd7cd",
       "version_major": 2,
       "version_minor": 0
      },
      "text/plain": [
       "aia_lev1_304a_2011_01_01t00_41_32_12z_image_lev1.fits:   0%|          | 0.00/9.83M [00:00<?, ?B/s]"
      ]
     },
     "metadata": {},
     "output_type": "display_data"
    },
    {
     "data": {
      "application/vnd.jupyter.widget-view+json": {
       "model_id": "3eb58d0c1ed74022915b7e9b7ede3a92",
       "version_major": 2,
       "version_minor": 0
      },
      "text/plain": [
       "aia_lev1_304a_2011_01_01t00_41_44_12z_image_lev1.fits:   0%|          | 0.00/9.83M [00:00<?, ?B/s]"
      ]
     },
     "metadata": {},
     "output_type": "display_data"
    },
    {
     "data": {
      "application/vnd.jupyter.widget-view+json": {
       "model_id": "baf44fcf2e1943c1948bf4526d367eed",
       "version_major": 2,
       "version_minor": 0
      },
      "text/plain": [
       "aia_lev1_304a_2011_01_01t00_41_56_12z_image_lev1.fits:   0%|          | 0.00/9.82M [00:00<?, ?B/s]"
      ]
     },
     "metadata": {},
     "output_type": "display_data"
    },
    {
     "name": "stdout",
     "output_type": "stream",
     "text": [
      "4/0 files failed to download. Please check `.errors` for details\n"
     ]
    },
    {
     "data": {
      "application/vnd.jupyter.widget-view+json": {
       "model_id": "03ad26a7df0e49b4a786a63091cdac2f",
       "version_major": 2,
       "version_minor": 0
      },
      "text/plain": [
       "Files Downloaded:   0%|          | 0/10 [00:00<?, ?file/s]"
      ]
     },
     "metadata": {},
     "output_type": "display_data"
    },
    {
     "data": {
      "application/vnd.jupyter.widget-view+json": {
       "model_id": "44547b8b429743cda3e769cf863db310",
       "version_major": 2,
       "version_minor": 0
      },
      "text/plain": [
       "aia_lev1_304a_2011_01_01t00_43_32_12z_image_lev1.fits:   0%|          | 0.00/9.83M [00:00<?, ?B/s]"
      ]
     },
     "metadata": {},
     "output_type": "display_data"
    },
    {
     "data": {
      "application/vnd.jupyter.widget-view+json": {
       "model_id": "c82ebe3aae61457eace54139e1b35532",
       "version_major": 2,
       "version_minor": 0
      },
      "text/plain": [
       "aia_lev1_304a_2011_01_01t00_43_56_13z_image_lev1.fits:   0%|          | 0.00/9.83M [00:00<?, ?B/s]"
      ]
     },
     "metadata": {},
     "output_type": "display_data"
    },
    {
     "data": {
      "application/vnd.jupyter.widget-view+json": {
       "model_id": "c81bc32c30be454583cf20bf02e39cf5",
       "version_major": 2,
       "version_minor": 0
      },
      "text/plain": [
       "aia_lev1_304a_2011_01_01t00_43_20_12z_image_lev1.fits:   0%|          | 0.00/9.83M [00:00<?, ?B/s]"
      ]
     },
     "metadata": {},
     "output_type": "display_data"
    },
    {
     "data": {
      "application/vnd.jupyter.widget-view+json": {
       "model_id": "682f2a9cc7424740a33f71794cf03082",
       "version_major": 2,
       "version_minor": 0
      },
      "text/plain": [
       "aia_lev1_304a_2011_01_01t00_43_44_12z_image_lev1.fits:   0%|          | 0.00/9.83M [00:00<?, ?B/s]"
      ]
     },
     "metadata": {},
     "output_type": "display_data"
    },
    {
     "data": {
      "application/vnd.jupyter.widget-view+json": {
       "model_id": "59565c4310df41bca3657e3bdb2d593d",
       "version_major": 2,
       "version_minor": 0
      },
      "text/plain": [
       "aia_lev1_304a_2011_01_01t00_43_08_12z_image_lev1.fits:   0%|          | 0.00/9.83M [00:00<?, ?B/s]"
      ]
     },
     "metadata": {},
     "output_type": "display_data"
    },
    {
     "name": "stdout",
     "output_type": "stream",
     "text": [
      "5/0 files failed to download. Please check `.errors` for details\n"
     ]
    },
    {
     "data": {
      "application/vnd.jupyter.widget-view+json": {
       "model_id": "054f5eb38b774e56b7c85cadb7858c93",
       "version_major": 2,
       "version_minor": 0
      },
      "text/plain": [
       "Files Downloaded:   0%|          | 0/10 [00:00<?, ?file/s]"
      ]
     },
     "metadata": {},
     "output_type": "display_data"
    },
    {
     "data": {
      "application/vnd.jupyter.widget-view+json": {
       "model_id": "9c72228d30e34903ac7beea685019aa9",
       "version_major": 2,
       "version_minor": 0
      },
      "text/plain": [
       "aia_lev1_304a_2011_01_01t00_44_56_12z_image_lev1.fits:   0%|          | 0.00/9.82M [00:00<?, ?B/s]"
      ]
     },
     "metadata": {},
     "output_type": "display_data"
    },
    {
     "data": {
      "application/vnd.jupyter.widget-view+json": {
       "model_id": "9c2e9aed0b1348df9f454c71a39b24b9",
       "version_major": 2,
       "version_minor": 0
      },
      "text/plain": [
       "aia_lev1_304a_2011_01_01t00_44_20_12z_image_lev1.fits:   0%|          | 0.00/9.82M [00:00<?, ?B/s]"
      ]
     },
     "metadata": {},
     "output_type": "display_data"
    },
    {
     "data": {
      "application/vnd.jupyter.widget-view+json": {
       "model_id": "4ae16adc52c14d59bef97cd1dadee529",
       "version_major": 2,
       "version_minor": 0
      },
      "text/plain": [
       "aia_lev1_304a_2011_01_01t00_45_08_13z_image_lev1.fits:   0%|          | 0.00/9.82M [00:00<?, ?B/s]"
      ]
     },
     "metadata": {},
     "output_type": "display_data"
    },
    {
     "data": {
      "application/vnd.jupyter.widget-view+json": {
       "model_id": "c5e2120d41ea49cd98e9c3cb95d549d4",
       "version_major": 2,
       "version_minor": 0
      },
      "text/plain": [
       "aia_lev1_304a_2011_01_01t00_45_20_12z_image_lev1.fits:   0%|          | 0.00/9.82M [00:00<?, ?B/s]"
      ]
     },
     "metadata": {},
     "output_type": "display_data"
    },
    {
     "data": {
      "application/vnd.jupyter.widget-view+json": {
       "model_id": "d6e714799b3c4a008107cd664f4bc298",
       "version_major": 2,
       "version_minor": 0
      },
      "text/plain": [
       "aia_lev1_304a_2011_01_01t00_45_32_13z_image_lev1.fits:   0%|          | 0.00/9.82M [00:00<?, ?B/s]"
      ]
     },
     "metadata": {},
     "output_type": "display_data"
    },
    {
     "data": {
      "application/vnd.jupyter.widget-view+json": {
       "model_id": "2886fa4d1b314c57b7d1a43bd62cc3b4",
       "version_major": 2,
       "version_minor": 0
      },
      "text/plain": [
       "aia_lev1_304a_2011_01_01t00_45_44_12z_image_lev1.fits:   0%|          | 0.00/9.82M [00:00<?, ?B/s]"
      ]
     },
     "metadata": {},
     "output_type": "display_data"
    },
    {
     "data": {
      "application/vnd.jupyter.widget-view+json": {
       "model_id": "4bb8c2b18f494cfe81a35740a2f3d02b",
       "version_major": 2,
       "version_minor": 0
      },
      "text/plain": [
       "aia_lev1_304a_2011_01_01t00_45_56_12z_image_lev1.fits:   0%|          | 0.00/9.82M [00:00<?, ?B/s]"
      ]
     },
     "metadata": {},
     "output_type": "display_data"
    },
    {
     "name": "stdout",
     "output_type": "stream",
     "text": [
      "3/0 files failed to download. Please check `.errors` for details\n"
     ]
    },
    {
     "data": {
      "application/vnd.jupyter.widget-view+json": {
       "model_id": "5afbb67d43b745a08de7dc5e7ebc92b0",
       "version_major": 2,
       "version_minor": 0
      },
      "text/plain": [
       "Files Downloaded:   0%|          | 0/10 [00:00<?, ?file/s]"
      ]
     },
     "metadata": {},
     "output_type": "display_data"
    },
    {
     "data": {
      "application/vnd.jupyter.widget-view+json": {
       "model_id": "1858426f19294ef4959d19a89802f6d8",
       "version_major": 2,
       "version_minor": 0
      },
      "text/plain": [
       "aia_lev1_304a_2011_01_01t00_47_08_12z_image_lev1.fits:   0%|          | 0.00/9.82M [00:00<?, ?B/s]"
      ]
     },
     "metadata": {},
     "output_type": "display_data"
    },
    {
     "data": {
      "application/vnd.jupyter.widget-view+json": {
       "model_id": "fb347d15dff645f6813cfa2640973cd7",
       "version_major": 2,
       "version_minor": 0
      },
      "text/plain": [
       "aia_lev1_304a_2011_01_01t00_47_56_13z_image_lev1.fits:   0%|          | 0.00/9.82M [00:00<?, ?B/s]"
      ]
     },
     "metadata": {},
     "output_type": "display_data"
    },
    {
     "data": {
      "application/vnd.jupyter.widget-view+json": {
       "model_id": "7216caa45e5c408e9437ef04e1ee13a4",
       "version_major": 2,
       "version_minor": 0
      },
      "text/plain": [
       "aia_lev1_304a_2011_01_01t00_47_32_12z_image_lev1.fits:   0%|          | 0.00/9.82M [00:00<?, ?B/s]"
      ]
     },
     "metadata": {},
     "output_type": "display_data"
    },
    {
     "data": {
      "application/vnd.jupyter.widget-view+json": {
       "model_id": "a30b9b1cd86e44b1a702e539187944fd",
       "version_major": 2,
       "version_minor": 0
      },
      "text/plain": [
       "aia_lev1_304a_2011_01_01t00_47_20_12z_image_lev1.fits:   0%|          | 0.00/9.82M [00:00<?, ?B/s]"
      ]
     },
     "metadata": {},
     "output_type": "display_data"
    },
    {
     "name": "stdout",
     "output_type": "stream",
     "text": [
      "6/0 files failed to download. Please check `.errors` for details\n"
     ]
    },
    {
     "data": {
      "application/vnd.jupyter.widget-view+json": {
       "model_id": "41451554bb7c4ed9bb2e2931df88e496",
       "version_major": 2,
       "version_minor": 0
      },
      "text/plain": [
       "Files Downloaded:   0%|          | 0/10 [00:00<?, ?file/s]"
      ]
     },
     "metadata": {},
     "output_type": "display_data"
    },
    {
     "data": {
      "application/vnd.jupyter.widget-view+json": {
       "model_id": "90422c443c7e463ab2f0f9c52b8733a0",
       "version_major": 2,
       "version_minor": 0
      },
      "text/plain": [
       "aia_lev1_304a_2011_01_01t00_48_32_12z_image_lev1.fits:   0%|          | 0.00/9.83M [00:00<?, ?B/s]"
      ]
     },
     "metadata": {},
     "output_type": "display_data"
    },
    {
     "data": {
      "application/vnd.jupyter.widget-view+json": {
       "model_id": "2a7d536ef98d4f0ebcce679ab20ddadf",
       "version_major": 2,
       "version_minor": 0
      },
      "text/plain": [
       "aia_lev1_304a_2011_01_01t00_48_56_13z_image_lev1.fits:   0%|          | 0.00/9.83M [00:00<?, ?B/s]"
      ]
     },
     "metadata": {},
     "output_type": "display_data"
    },
    {
     "data": {
      "application/vnd.jupyter.widget-view+json": {
       "model_id": "60b503d287624ea28505a04101ca5588",
       "version_major": 2,
       "version_minor": 0
      },
      "text/plain": [
       "aia_lev1_304a_2011_01_01t00_48_44_12z_image_lev1.fits:   0%|          | 0.00/9.83M [00:00<?, ?B/s]"
      ]
     },
     "metadata": {},
     "output_type": "display_data"
    },
    {
     "data": {
      "application/vnd.jupyter.widget-view+json": {
       "model_id": "059a5a8d9f074e9298c2634f0840e8d7",
       "version_major": 2,
       "version_minor": 0
      },
      "text/plain": [
       "aia_lev1_304a_2011_01_01t00_49_08_13z_image_lev1.fits:   0%|          | 0.00/9.82M [00:00<?, ?B/s]"
      ]
     },
     "metadata": {},
     "output_type": "display_data"
    },
    {
     "data": {
      "application/vnd.jupyter.widget-view+json": {
       "model_id": "13150095684b422babe85ae62d50d82a",
       "version_major": 2,
       "version_minor": 0
      },
      "text/plain": [
       "aia_lev1_304a_2011_01_01t00_49_20_12z_image_lev1.fits:   0%|          | 0.00/9.83M [00:00<?, ?B/s]"
      ]
     },
     "metadata": {},
     "output_type": "display_data"
    },
    {
     "data": {
      "application/vnd.jupyter.widget-view+json": {
       "model_id": "9542e5b725924119a78f723d9ba8e787",
       "version_major": 2,
       "version_minor": 0
      },
      "text/plain": [
       "aia_lev1_304a_2011_01_01t00_49_32_12z_image_lev1.fits:   0%|          | 0.00/9.83M [00:00<?, ?B/s]"
      ]
     },
     "metadata": {},
     "output_type": "display_data"
    },
    {
     "data": {
      "application/vnd.jupyter.widget-view+json": {
       "model_id": "5e81efc580114e54aa0230df2e4cb71c",
       "version_major": 2,
       "version_minor": 0
      },
      "text/plain": [
       "aia_lev1_304a_2011_01_01t00_49_44_13z_image_lev1.fits:   0%|          | 0.00/9.82M [00:00<?, ?B/s]"
      ]
     },
     "metadata": {},
     "output_type": "display_data"
    },
    {
     "data": {
      "application/vnd.jupyter.widget-view+json": {
       "model_id": "1f3ed030a8c94d0fb836fb46a3df2396",
       "version_major": 2,
       "version_minor": 0
      },
      "text/plain": [
       "aia_lev1_304a_2011_01_01t00_49_56_12z_image_lev1.fits:   0%|          | 0.00/9.82M [00:00<?, ?B/s]"
      ]
     },
     "metadata": {},
     "output_type": "display_data"
    },
    {
     "name": "stdout",
     "output_type": "stream",
     "text": [
      "2/0 files failed to download. Please check `.errors` for details\n"
     ]
    },
    {
     "data": {
      "application/vnd.jupyter.widget-view+json": {
       "model_id": "3a2a83fbe58a453f8517a495a3863999",
       "version_major": 2,
       "version_minor": 0
      },
      "text/plain": [
       "Files Downloaded:   0%|          | 0/10 [00:00<?, ?file/s]"
      ]
     },
     "metadata": {},
     "output_type": "display_data"
    },
    {
     "data": {
      "application/vnd.jupyter.widget-view+json": {
       "model_id": "0f2e25432eb547fdaac4a9b46eadf56c",
       "version_major": 2,
       "version_minor": 0
      },
      "text/plain": [
       "aia_lev1_304a_2011_01_01t00_50_08_12z_image_lev1.fits:   0%|          | 0.00/9.83M [00:00<?, ?B/s]"
      ]
     },
     "metadata": {},
     "output_type": "display_data"
    },
    {
     "data": {
      "application/vnd.jupyter.widget-view+json": {
       "model_id": "c384c66a671f4e33b1ce688e9dbd554a",
       "version_major": 2,
       "version_minor": 0
      },
      "text/plain": [
       "aia_lev1_304a_2011_01_01t00_51_08_12z_image_lev1.fits:   0%|          | 0.00/9.83M [00:00<?, ?B/s]"
      ]
     },
     "metadata": {},
     "output_type": "display_data"
    },
    {
     "data": {
      "application/vnd.jupyter.widget-view+json": {
       "model_id": "9021f641b9544857925dc968dafa734d",
       "version_major": 2,
       "version_minor": 0
      },
      "text/plain": [
       "aia_lev1_304a_2011_01_01t00_51_20_12z_image_lev1.fits:   0%|          | 0.00/9.83M [00:00<?, ?B/s]"
      ]
     },
     "metadata": {},
     "output_type": "display_data"
    },
    {
     "data": {
      "application/vnd.jupyter.widget-view+json": {
       "model_id": "9556fd865d0a4558bd9f71072cd38cae",
       "version_major": 2,
       "version_minor": 0
      },
      "text/plain": [
       "aia_lev1_304a_2011_01_01t00_51_32_12z_image_lev1.fits:   0%|          | 0.00/9.83M [00:00<?, ?B/s]"
      ]
     },
     "metadata": {},
     "output_type": "display_data"
    },
    {
     "data": {
      "application/vnd.jupyter.widget-view+json": {
       "model_id": "ca99e3452fa6477984bc13261f344d31",
       "version_major": 2,
       "version_minor": 0
      },
      "text/plain": [
       "aia_lev1_304a_2011_01_01t00_51_56_12z_image_lev1.fits:   0%|          | 0.00/9.83M [00:00<?, ?B/s]"
      ]
     },
     "metadata": {},
     "output_type": "display_data"
    },
    {
     "name": "stdout",
     "output_type": "stream",
     "text": [
      "5/0 files failed to download. Please check `.errors` for details\n"
     ]
    },
    {
     "data": {
      "application/vnd.jupyter.widget-view+json": {
       "model_id": "aad2449550f645aa8fc31badb3dc7123",
       "version_major": 2,
       "version_minor": 0
      },
      "text/plain": [
       "Files Downloaded:   0%|          | 0/10 [00:00<?, ?file/s]"
      ]
     },
     "metadata": {},
     "output_type": "display_data"
    },
    {
     "data": {
      "application/vnd.jupyter.widget-view+json": {
       "model_id": "50163b22846e4a88a1b33515077ac6cf",
       "version_major": 2,
       "version_minor": 0
      },
      "text/plain": [
       "aia_lev1_304a_2011_01_01t00_53_44_12z_image_lev1.fits:   0%|          | 0.00/9.83M [00:00<?, ?B/s]"
      ]
     },
     "metadata": {},
     "output_type": "display_data"
    },
    {
     "data": {
      "application/vnd.jupyter.widget-view+json": {
       "model_id": "4ee810041c3646529f5055b31348e1fe",
       "version_major": 2,
       "version_minor": 0
      },
      "text/plain": [
       "aia_lev1_304a_2011_01_01t00_53_32_12z_image_lev1.fits:   0%|          | 0.00/9.83M [00:00<?, ?B/s]"
      ]
     },
     "metadata": {},
     "output_type": "display_data"
    },
    {
     "data": {
      "application/vnd.jupyter.widget-view+json": {
       "model_id": "f117eed203b54336a1fd21f420dc7d31",
       "version_major": 2,
       "version_minor": 0
      },
      "text/plain": [
       "aia_lev1_304a_2011_01_01t00_53_08_12z_image_lev1.fits:   0%|          | 0.00/9.83M [00:00<?, ?B/s]"
      ]
     },
     "metadata": {},
     "output_type": "display_data"
    },
    {
     "data": {
      "application/vnd.jupyter.widget-view+json": {
       "model_id": "fdf5ffd81eda40198aabd6bb61ffa72f",
       "version_major": 2,
       "version_minor": 0
      },
      "text/plain": [
       "aia_lev1_304a_2011_01_01t00_53_56_13z_image_lev1.fits:   0%|          | 0.00/9.83M [00:00<?, ?B/s]"
      ]
     },
     "metadata": {},
     "output_type": "display_data"
    },
    {
     "data": {
      "application/vnd.jupyter.widget-view+json": {
       "model_id": "e1cfa489994f4a3d84d32f133b926aa1",
       "version_major": 2,
       "version_minor": 0
      },
      "text/plain": [
       "aia_lev1_304a_2011_01_01t00_53_20_12z_image_lev1.fits:   0%|          | 0.00/9.83M [00:00<?, ?B/s]"
      ]
     },
     "metadata": {},
     "output_type": "display_data"
    },
    {
     "name": "stdout",
     "output_type": "stream",
     "text": [
      "5/0 files failed to download. Please check `.errors` for details\n"
     ]
    },
    {
     "data": {
      "application/vnd.jupyter.widget-view+json": {
       "model_id": "d4078486a0714d509ce5cab54c63516e",
       "version_major": 2,
       "version_minor": 0
      },
      "text/plain": [
       "Files Downloaded:   0%|          | 0/10 [00:00<?, ?file/s]"
      ]
     },
     "metadata": {},
     "output_type": "display_data"
    },
    {
     "data": {
      "application/vnd.jupyter.widget-view+json": {
       "model_id": "bbd61a5dce404c8e9e3511741b28cbe8",
       "version_major": 2,
       "version_minor": 0
      },
      "text/plain": [
       "aia_lev1_304a_2011_01_01t00_54_08_13z_image_lev1.fits:   0%|          | 0.00/9.83M [00:00<?, ?B/s]"
      ]
     },
     "metadata": {},
     "output_type": "display_data"
    },
    {
     "data": {
      "application/vnd.jupyter.widget-view+json": {
       "model_id": "41bc197f29d644cea5b84c1b4beabbf3",
       "version_major": 2,
       "version_minor": 0
      },
      "text/plain": [
       "aia_lev1_304a_2011_01_01t00_54_32_12z_image_lev1.fits:   0%|          | 0.00/9.83M [00:00<?, ?B/s]"
      ]
     },
     "metadata": {},
     "output_type": "display_data"
    },
    {
     "data": {
      "application/vnd.jupyter.widget-view+json": {
       "model_id": "1a49f7274e3f446b8840014896bab01c",
       "version_major": 2,
       "version_minor": 0
      },
      "text/plain": [
       "aia_lev1_304a_2011_01_01t00_54_44_12z_image_lev1.fits:   0%|          | 0.00/9.83M [00:00<?, ?B/s]"
      ]
     },
     "metadata": {},
     "output_type": "display_data"
    },
    {
     "data": {
      "application/vnd.jupyter.widget-view+json": {
       "model_id": "74076b9114ec4c7e9b5fa6f5fa8f1dc0",
       "version_major": 2,
       "version_minor": 0
      },
      "text/plain": [
       "aia_lev1_304a_2011_01_01t00_54_20_12z_image_lev1.fits:   0%|          | 0.00/9.83M [00:00<?, ?B/s]"
      ]
     },
     "metadata": {},
     "output_type": "display_data"
    },
    {
     "data": {
      "application/vnd.jupyter.widget-view+json": {
       "model_id": "186383b7cdfe4938b383d85c8b1bc550",
       "version_major": 2,
       "version_minor": 0
      },
      "text/plain": [
       "aia_lev1_304a_2011_01_01t00_55_08_13z_image_lev1.fits:   0%|          | 0.00/9.82M [00:00<?, ?B/s]"
      ]
     },
     "metadata": {},
     "output_type": "display_data"
    },
    {
     "data": {
      "application/vnd.jupyter.widget-view+json": {
       "model_id": "00754ab98cb346b7a6b85b7e57b4cfcb",
       "version_major": 2,
       "version_minor": 0
      },
      "text/plain": [
       "aia_lev1_304a_2011_01_01t00_55_32_13z_image_lev1.fits:   0%|          | 0.00/9.83M [00:00<?, ?B/s]"
      ]
     },
     "metadata": {},
     "output_type": "display_data"
    },
    {
     "data": {
      "application/vnd.jupyter.widget-view+json": {
       "model_id": "20751349dc7d4da0a7b3a363bad11a65",
       "version_major": 2,
       "version_minor": 0
      },
      "text/plain": [
       "aia_lev1_304a_2011_01_01t00_55_20_12z_image_lev1.fits:   0%|          | 0.00/9.82M [00:00<?, ?B/s]"
      ]
     },
     "metadata": {},
     "output_type": "display_data"
    },
    {
     "data": {
      "application/vnd.jupyter.widget-view+json": {
       "model_id": "3af1bb43d9524d7e992577109d6aceca",
       "version_major": 2,
       "version_minor": 0
      },
      "text/plain": [
       "aia_lev1_304a_2011_01_01t00_55_44_13z_image_lev1.fits:   0%|          | 0.00/9.82M [00:00<?, ?B/s]"
      ]
     },
     "metadata": {},
     "output_type": "display_data"
    },
    {
     "data": {
      "application/vnd.jupyter.widget-view+json": {
       "model_id": "e5dbc351dfe5464db10e96efd7b981a2",
       "version_major": 2,
       "version_minor": 0
      },
      "text/plain": [
       "aia_lev1_304a_2011_01_01t00_55_56_12z_image_lev1.fits:   0%|          | 0.00/9.82M [00:00<?, ?B/s]"
      ]
     },
     "metadata": {},
     "output_type": "display_data"
    },
    {
     "name": "stdout",
     "output_type": "stream",
     "text": [
      "2/0 files failed to download. Please check `.errors` for details\n"
     ]
    },
    {
     "data": {
      "application/vnd.jupyter.widget-view+json": {
       "model_id": "58b3130ca20147f99ccb19cac2018e36",
       "version_major": 2,
       "version_minor": 0
      },
      "text/plain": [
       "Files Downloaded:   0%|          | 0/10 [00:00<?, ?file/s]"
      ]
     },
     "metadata": {},
     "output_type": "display_data"
    },
    {
     "data": {
      "application/vnd.jupyter.widget-view+json": {
       "model_id": "0ddcc3fcbf9745458791bf25c98aa15e",
       "version_major": 2,
       "version_minor": 0
      },
      "text/plain": [
       "aia_lev1_304a_2011_01_01t00_56_32_12z_image_lev1.fits:   0%|          | 0.00/9.82M [00:00<?, ?B/s]"
      ]
     },
     "metadata": {},
     "output_type": "display_data"
    },
    {
     "data": {
      "application/vnd.jupyter.widget-view+json": {
       "model_id": "64e54be8c5794e45bdd4c04e8ae5d9c5",
       "version_major": 2,
       "version_minor": 0
      },
      "text/plain": [
       "aia_lev1_304a_2011_01_01t00_56_20_12z_image_lev1.fits:   0%|          | 0.00/9.83M [00:00<?, ?B/s]"
      ]
     },
     "metadata": {},
     "output_type": "display_data"
    },
    {
     "data": {
      "application/vnd.jupyter.widget-view+json": {
       "model_id": "47b3a28593aa45bf8cf8ea859d840546",
       "version_major": 2,
       "version_minor": 0
      },
      "text/plain": [
       "aia_lev1_304a_2011_01_01t00_56_08_12z_image_lev1.fits:   0%|          | 0.00/9.82M [00:00<?, ?B/s]"
      ]
     },
     "metadata": {},
     "output_type": "display_data"
    },
    {
     "data": {
      "application/vnd.jupyter.widget-view+json": {
       "model_id": "29e58eaeac23495cba583b6c80f43b45",
       "version_major": 2,
       "version_minor": 0
      },
      "text/plain": [
       "aia_lev1_304a_2011_01_01t00_56_44_12z_image_lev1.fits:   0%|          | 0.00/9.82M [00:00<?, ?B/s]"
      ]
     },
     "metadata": {},
     "output_type": "display_data"
    },
    {
     "data": {
      "application/vnd.jupyter.widget-view+json": {
       "model_id": "6a5b75059b5845b0b7bdf458301bdac2",
       "version_major": 2,
       "version_minor": 0
      },
      "text/plain": [
       "aia_lev1_304a_2011_01_01t00_57_08_12z_image_lev1.fits:   0%|          | 0.00/9.82M [00:00<?, ?B/s]"
      ]
     },
     "metadata": {},
     "output_type": "display_data"
    },
    {
     "data": {
      "application/vnd.jupyter.widget-view+json": {
       "model_id": "3c670b69bffb4353a1a0268a9295824f",
       "version_major": 2,
       "version_minor": 0
      },
      "text/plain": [
       "aia_lev1_304a_2011_01_01t00_57_20_12z_image_lev1.fits:   0%|          | 0.00/9.83M [00:00<?, ?B/s]"
      ]
     },
     "metadata": {},
     "output_type": "display_data"
    },
    {
     "data": {
      "application/vnd.jupyter.widget-view+json": {
       "model_id": "cefabb783b064303aa56effd6e170d93",
       "version_major": 2,
       "version_minor": 0
      },
      "text/plain": [
       "aia_lev1_304a_2011_01_01t00_57_44_12z_image_lev1.fits:   0%|          | 0.00/9.82M [00:00<?, ?B/s]"
      ]
     },
     "metadata": {},
     "output_type": "display_data"
    },
    {
     "data": {
      "application/vnd.jupyter.widget-view+json": {
       "model_id": "c58896fb793a4952a410a2e4ac39609e",
       "version_major": 2,
       "version_minor": 0
      },
      "text/plain": [
       "aia_lev1_304a_2011_01_01t00_57_56_12z_image_lev1.fits:   0%|          | 0.00/9.82M [00:00<?, ?B/s]"
      ]
     },
     "metadata": {},
     "output_type": "display_data"
    },
    {
     "name": "stdout",
     "output_type": "stream",
     "text": [
      "2/0 files failed to download. Please check `.errors` for details\n"
     ]
    },
    {
     "data": {
      "application/vnd.jupyter.widget-view+json": {
       "model_id": "07128a8872da4c408de69abd8370b166",
       "version_major": 2,
       "version_minor": 0
      },
      "text/plain": [
       "Files Downloaded:   0%|          | 0/10 [00:00<?, ?file/s]"
      ]
     },
     "metadata": {},
     "output_type": "display_data"
    },
    {
     "data": {
      "application/vnd.jupyter.widget-view+json": {
       "model_id": "90ba661abc2d40b2a06badabb0235cfc",
       "version_major": 2,
       "version_minor": 0
      },
      "text/plain": [
       "aia_lev1_304a_2011_01_01t00_58_08_12z_image_lev1.fits:   0%|          | 0.00/9.82M [00:00<?, ?B/s]"
      ]
     },
     "metadata": {},
     "output_type": "display_data"
    },
    {
     "data": {
      "application/vnd.jupyter.widget-view+json": {
       "model_id": "6c8d4213902f4abcac22f74abe9c20d8",
       "version_major": 2,
       "version_minor": 0
      },
      "text/plain": [
       "aia_lev1_304a_2011_01_01t00_58_20_13z_image_lev1.fits:   0%|          | 0.00/9.82M [00:00<?, ?B/s]"
      ]
     },
     "metadata": {},
     "output_type": "display_data"
    },
    {
     "data": {
      "application/vnd.jupyter.widget-view+json": {
       "model_id": "a8f59d551b9c49bc912ab30658b8cbba",
       "version_major": 2,
       "version_minor": 0
      },
      "text/plain": [
       "aia_lev1_304a_2011_01_01t00_58_56_12z_image_lev1.fits:   0%|          | 0.00/9.83M [00:00<?, ?B/s]"
      ]
     },
     "metadata": {},
     "output_type": "display_data"
    },
    {
     "data": {
      "application/vnd.jupyter.widget-view+json": {
       "model_id": "1d7f7b2a521c485b91a956b3f983f4cc",
       "version_major": 2,
       "version_minor": 0
      },
      "text/plain": [
       "aia_lev1_304a_2011_01_01t00_58_44_13z_image_lev1.fits:   0%|          | 0.00/9.83M [00:00<?, ?B/s]"
      ]
     },
     "metadata": {},
     "output_type": "display_data"
    },
    {
     "data": {
      "application/vnd.jupyter.widget-view+json": {
       "model_id": "1ace26d5c8474b3a82e25327b184fa27",
       "version_major": 2,
       "version_minor": 0
      },
      "text/plain": [
       "aia_lev1_304a_2011_01_01t00_58_32_12z_image_lev1.fits:   0%|          | 0.00/9.82M [00:00<?, ?B/s]"
      ]
     },
     "metadata": {},
     "output_type": "display_data"
    },
    {
     "data": {
      "application/vnd.jupyter.widget-view+json": {
       "model_id": "86ce3c132f9a452db86f98b5ff627612",
       "version_major": 2,
       "version_minor": 0
      },
      "text/plain": [
       "aia_lev1_304a_2011_01_01t00_59_08_12z_image_lev1.fits:   0%|          | 0.00/9.83M [00:00<?, ?B/s]"
      ]
     },
     "metadata": {},
     "output_type": "display_data"
    },
    {
     "data": {
      "application/vnd.jupyter.widget-view+json": {
       "model_id": "da9e9f6f73bf4d8bbb84a9f794e9347d",
       "version_major": 2,
       "version_minor": 0
      },
      "text/plain": [
       "aia_lev1_304a_2011_01_01t00_59_20_12z_image_lev1.fits:   0%|          | 0.00/9.83M [00:00<?, ?B/s]"
      ]
     },
     "metadata": {},
     "output_type": "display_data"
    },
    {
     "data": {
      "application/vnd.jupyter.widget-view+json": {
       "model_id": "a485b743381a4099aa6b2849b62de2f3",
       "version_major": 2,
       "version_minor": 0
      },
      "text/plain": [
       "aia_lev1_304a_2011_01_01t00_59_32_12z_image_lev1.fits:   0%|          | 0.00/9.82M [00:00<?, ?B/s]"
      ]
     },
     "metadata": {},
     "output_type": "display_data"
    },
    {
     "data": {
      "application/vnd.jupyter.widget-view+json": {
       "model_id": "a529b0e2015f498999c556dfcbe9f8f0",
       "version_major": 2,
       "version_minor": 0
      },
      "text/plain": [
       "aia_lev1_304a_2011_01_01t00_59_56_13z_image_lev1.fits:   0%|          | 0.00/9.83M [00:00<?, ?B/s]"
      ]
     },
     "metadata": {},
     "output_type": "display_data"
    },
    {
     "name": "stdout",
     "output_type": "stream",
     "text": [
      "1/0 files failed to download. Please check `.errors` for details\n"
     ]
    },
    {
     "data": {
      "application/vnd.jupyter.widget-view+json": {
       "model_id": "b9b97176cf614df3a4928c78807b02c2",
       "version_major": 2,
       "version_minor": 0
      },
      "text/plain": [
       "Files Downloaded:   0%|          | 0/10 [00:00<?, ?file/s]"
      ]
     },
     "metadata": {},
     "output_type": "display_data"
    },
    {
     "data": {
      "application/vnd.jupyter.widget-view+json": {
       "model_id": "ed836e4b127b4f4e9495ab6d3a4fc358",
       "version_major": 2,
       "version_minor": 0
      },
      "text/plain": [
       "aia_lev1_304a_2011_01_01t01_00_20_12z_image_lev1.fits:   0%|          | 0.00/9.83M [00:00<?, ?B/s]"
      ]
     },
     "metadata": {},
     "output_type": "display_data"
    },
    {
     "data": {
      "application/vnd.jupyter.widget-view+json": {
       "model_id": "f352317ed58349169875a7603b72bdc0",
       "version_major": 2,
       "version_minor": 0
      },
      "text/plain": [
       "aia_lev1_304a_2011_01_01t01_00_44_12z_image_lev1.fits:   0%|          | 0.00/9.83M [00:00<?, ?B/s]"
      ]
     },
     "metadata": {},
     "output_type": "display_data"
    },
    {
     "data": {
      "application/vnd.jupyter.widget-view+json": {
       "model_id": "a01e5d5d7b3347e8ab16d56b1bf1cd05",
       "version_major": 2,
       "version_minor": 0
      },
      "text/plain": [
       "aia_lev1_304a_2011_01_01t01_00_56_12z_image_lev1.fits:   0%|          | 0.00/9.83M [00:00<?, ?B/s]"
      ]
     },
     "metadata": {},
     "output_type": "display_data"
    },
    {
     "data": {
      "application/vnd.jupyter.widget-view+json": {
       "model_id": "00b82073f9c84bfeafc2f378f6466c26",
       "version_major": 2,
       "version_minor": 0
      },
      "text/plain": [
       "aia_lev1_304a_2011_01_01t01_00_08_13z_image_lev1.fits:   0%|          | 0.00/9.82M [00:00<?, ?B/s]"
      ]
     },
     "metadata": {},
     "output_type": "display_data"
    },
    {
     "data": {
      "application/vnd.jupyter.widget-view+json": {
       "model_id": "7d1149dd4540488cb4bed0be2c53a0e8",
       "version_major": 2,
       "version_minor": 0
      },
      "text/plain": [
       "aia_lev1_304a_2011_01_01t01_00_32_12z_image_lev1.fits:   0%|          | 0.00/9.82M [00:00<?, ?B/s]"
      ]
     },
     "metadata": {},
     "output_type": "display_data"
    },
    {
     "data": {
      "application/vnd.jupyter.widget-view+json": {
       "model_id": "6c085abe3fb24f068a03dfee200ac7d7",
       "version_major": 2,
       "version_minor": 0
      },
      "text/plain": [
       "aia_lev1_304a_2011_01_01t01_01_08_13z_image_lev1.fits:   0%|          | 0.00/9.82M [00:00<?, ?B/s]"
      ]
     },
     "metadata": {},
     "output_type": "display_data"
    },
    {
     "data": {
      "application/vnd.jupyter.widget-view+json": {
       "model_id": "221f47f0ca18488e9a6406b73d45edb5",
       "version_major": 2,
       "version_minor": 0
      },
      "text/plain": [
       "aia_lev1_304a_2011_01_01t01_01_44_12z_image_lev1.fits:   0%|          | 0.00/9.82M [00:00<?, ?B/s]"
      ]
     },
     "metadata": {},
     "output_type": "display_data"
    },
    {
     "data": {
      "application/vnd.jupyter.widget-view+json": {
       "model_id": "2907c78ab25042d7b308045eb79bdbf5",
       "version_major": 2,
       "version_minor": 0
      },
      "text/plain": [
       "aia_lev1_304a_2011_01_01t01_01_56_12z_image_lev1.fits:   0%|          | 0.00/9.82M [00:00<?, ?B/s]"
      ]
     },
     "metadata": {},
     "output_type": "display_data"
    },
    {
     "data": {
      "application/vnd.jupyter.widget-view+json": {
       "model_id": "e79b623d308344358b8d97c8bba0d0dc",
       "version_major": 2,
       "version_minor": 0
      },
      "text/plain": [
       "aia_lev1_304a_2011_01_01t01_01_20_12z_image_lev1.fits:   0%|          | 0.00/9.82M [00:00<?, ?B/s]"
      ]
     },
     "metadata": {},
     "output_type": "display_data"
    },
    {
     "name": "stdout",
     "output_type": "stream",
     "text": [
      "1/0 files failed to download. Please check `.errors` for details\n"
     ]
    },
    {
     "data": {
      "application/vnd.jupyter.widget-view+json": {
       "model_id": "f0517ae5bbcf46148b65b3aada1de13d",
       "version_major": 2,
       "version_minor": 0
      },
      "text/plain": [
       "Files Downloaded:   0%|          | 0/10 [00:00<?, ?file/s]"
      ]
     },
     "metadata": {},
     "output_type": "display_data"
    },
    {
     "data": {
      "application/vnd.jupyter.widget-view+json": {
       "model_id": "8b04393fc50d4008936a5cd10ffc2f90",
       "version_major": 2,
       "version_minor": 0
      },
      "text/plain": [
       "aia_lev1_304a_2011_01_01t01_02_44_12z_image_lev1.fits:   0%|          | 0.00/9.83M [00:00<?, ?B/s]"
      ]
     },
     "metadata": {},
     "output_type": "display_data"
    },
    {
     "data": {
      "application/vnd.jupyter.widget-view+json": {
       "model_id": "a036e441e70345beb29c7b4dcc5aab47",
       "version_major": 2,
       "version_minor": 0
      },
      "text/plain": [
       "aia_lev1_304a_2011_01_01t01_02_56_12z_image_lev1.fits:   0%|          | 0.00/9.83M [00:00<?, ?B/s]"
      ]
     },
     "metadata": {},
     "output_type": "display_data"
    },
    {
     "data": {
      "application/vnd.jupyter.widget-view+json": {
       "model_id": "797bb49e278443898d8e598ff1ea052b",
       "version_major": 2,
       "version_minor": 0
      },
      "text/plain": [
       "aia_lev1_304a_2011_01_01t01_02_32_14z_image_lev1.fits:   0%|          | 0.00/9.82M [00:00<?, ?B/s]"
      ]
     },
     "metadata": {},
     "output_type": "display_data"
    },
    {
     "data": {
      "application/vnd.jupyter.widget-view+json": {
       "model_id": "df9eea1c7f294b34b08d69e9a77224d5",
       "version_major": 2,
       "version_minor": 0
      },
      "text/plain": [
       "aia_lev1_304a_2011_01_01t01_02_20_12z_image_lev1.fits:   0%|          | 0.00/9.82M [00:00<?, ?B/s]"
      ]
     },
     "metadata": {},
     "output_type": "display_data"
    },
    {
     "data": {
      "application/vnd.jupyter.widget-view+json": {
       "model_id": "e26642c8a7834094a9dfbf3cbd6b8aeb",
       "version_major": 2,
       "version_minor": 0
      },
      "text/plain": [
       "aia_lev1_304a_2011_01_01t01_03_08_12z_image_lev1.fits:   0%|          | 0.00/9.82M [00:00<?, ?B/s]"
      ]
     },
     "metadata": {},
     "output_type": "display_data"
    },
    {
     "data": {
      "application/vnd.jupyter.widget-view+json": {
       "model_id": "fb30eee790744d96b714708802444126",
       "version_major": 2,
       "version_minor": 0
      },
      "text/plain": [
       "aia_lev1_304a_2011_01_01t01_03_20_12z_image_lev1.fits:   0%|          | 0.00/9.82M [00:00<?, ?B/s]"
      ]
     },
     "metadata": {},
     "output_type": "display_data"
    },
    {
     "data": {
      "application/vnd.jupyter.widget-view+json": {
       "model_id": "ca6bcfa2f91446148ab3bc2ea6be5773",
       "version_major": 2,
       "version_minor": 0
      },
      "text/plain": [
       "aia_lev1_304a_2011_01_01t01_03_44_12z_image_lev1.fits:   0%|          | 0.00/9.83M [00:00<?, ?B/s]"
      ]
     },
     "metadata": {},
     "output_type": "display_data"
    },
    {
     "data": {
      "application/vnd.jupyter.widget-view+json": {
       "model_id": "f729da11b31746cbbbc5d38f39f0f752",
       "version_major": 2,
       "version_minor": 0
      },
      "text/plain": [
       "aia_lev1_304a_2011_01_01t01_03_56_12z_image_lev1.fits:   0%|          | 0.00/9.83M [00:00<?, ?B/s]"
      ]
     },
     "metadata": {},
     "output_type": "display_data"
    },
    {
     "name": "stdout",
     "output_type": "stream",
     "text": [
      "2/0 files failed to download. Please check `.errors` for details\n"
     ]
    },
    {
     "data": {
      "application/vnd.jupyter.widget-view+json": {
       "model_id": "0bfb4b7bbce54ceab7696b9cd59f0b78",
       "version_major": 2,
       "version_minor": 0
      },
      "text/plain": [
       "Files Downloaded:   0%|          | 0/10 [00:00<?, ?file/s]"
      ]
     },
     "metadata": {},
     "output_type": "display_data"
    },
    {
     "data": {
      "application/vnd.jupyter.widget-view+json": {
       "model_id": "092d6fc253394a4d8b658d4b2cd50839",
       "version_major": 2,
       "version_minor": 0
      },
      "text/plain": [
       "aia_lev1_304a_2011_01_01t01_04_20_13z_image_lev1.fits:   0%|          | 0.00/9.82M [00:00<?, ?B/s]"
      ]
     },
     "metadata": {},
     "output_type": "display_data"
    },
    {
     "data": {
      "application/vnd.jupyter.widget-view+json": {
       "model_id": "ca9cbe88abdc47ddb9524cecfdafb927",
       "version_major": 2,
       "version_minor": 0
      },
      "text/plain": [
       "aia_lev1_304a_2011_01_01t01_04_44_13z_image_lev1.fits:   0%|          | 0.00/9.82M [00:00<?, ?B/s]"
      ]
     },
     "metadata": {},
     "output_type": "display_data"
    },
    {
     "data": {
      "application/vnd.jupyter.widget-view+json": {
       "model_id": "fc308d54610d49ac80ca0c3561597256",
       "version_major": 2,
       "version_minor": 0
      },
      "text/plain": [
       "aia_lev1_304a_2011_01_01t01_04_32_12z_image_lev1.fits:   0%|          | 0.00/9.82M [00:00<?, ?B/s]"
      ]
     },
     "metadata": {},
     "output_type": "display_data"
    },
    {
     "data": {
      "application/vnd.jupyter.widget-view+json": {
       "model_id": "d27f49529b9b4d038292826ceb63fd52",
       "version_major": 2,
       "version_minor": 0
      },
      "text/plain": [
       "aia_lev1_304a_2011_01_01t01_04_08_12z_image_lev1.fits:   0%|          | 0.00/9.83M [00:00<?, ?B/s]"
      ]
     },
     "metadata": {},
     "output_type": "display_data"
    },
    {
     "data": {
      "application/vnd.jupyter.widget-view+json": {
       "model_id": "4f7544b7e82f45599f93c2be7410c34c",
       "version_major": 2,
       "version_minor": 0
      },
      "text/plain": [
       "aia_lev1_304a_2011_01_01t01_05_32_12z_image_lev1.fits:   0%|          | 0.00/9.82M [00:00<?, ?B/s]"
      ]
     },
     "metadata": {},
     "output_type": "display_data"
    },
    {
     "data": {
      "application/vnd.jupyter.widget-view+json": {
       "model_id": "bc4f770d9f4f4c529536702f4b0093a9",
       "version_major": 2,
       "version_minor": 0
      },
      "text/plain": [
       "aia_lev1_304a_2011_01_01t01_05_08_12z_image_lev1.fits:   0%|          | 0.00/9.82M [00:00<?, ?B/s]"
      ]
     },
     "metadata": {},
     "output_type": "display_data"
    },
    {
     "data": {
      "application/vnd.jupyter.widget-view+json": {
       "model_id": "3875d3d0dfdd42af844609c3cfe60f43",
       "version_major": 2,
       "version_minor": 0
      },
      "text/plain": [
       "aia_lev1_304a_2011_01_01t01_05_20_13z_image_lev1.fits:   0%|          | 0.00/9.82M [00:00<?, ?B/s]"
      ]
     },
     "metadata": {},
     "output_type": "display_data"
    },
    {
     "data": {
      "application/vnd.jupyter.widget-view+json": {
       "model_id": "6f77b2c3ab7248c48d0033faf4cdd79c",
       "version_major": 2,
       "version_minor": 0
      },
      "text/plain": [
       "aia_lev1_304a_2011_01_01t01_05_44_12z_image_lev1.fits:   0%|          | 0.00/9.82M [00:00<?, ?B/s]"
      ]
     },
     "metadata": {},
     "output_type": "display_data"
    },
    {
     "data": {
      "application/vnd.jupyter.widget-view+json": {
       "model_id": "959a6d0f65d648dea04ec72af9c3c476",
       "version_major": 2,
       "version_minor": 0
      },
      "text/plain": [
       "aia_lev1_304a_2011_01_01t01_05_56_13z_image_lev1.fits:   0%|          | 0.00/9.82M [00:00<?, ?B/s]"
      ]
     },
     "metadata": {},
     "output_type": "display_data"
    },
    {
     "name": "stdout",
     "output_type": "stream",
     "text": [
      "1/0 files failed to download. Please check `.errors` for details\n"
     ]
    },
    {
     "data": {
      "application/vnd.jupyter.widget-view+json": {
       "model_id": "dd3228d807404852abfc33bad17f4d0d",
       "version_major": 2,
       "version_minor": 0
      },
      "text/plain": [
       "Files Downloaded:   0%|          | 0/10 [00:00<?, ?file/s]"
      ]
     },
     "metadata": {},
     "output_type": "display_data"
    },
    {
     "data": {
      "application/vnd.jupyter.widget-view+json": {
       "model_id": "56896d3afb4645dbb623000fca07632b",
       "version_major": 2,
       "version_minor": 0
      },
      "text/plain": [
       "aia_lev1_304a_2011_01_01t01_06_08_12z_image_lev1.fits:   0%|          | 0.00/9.82M [00:00<?, ?B/s]"
      ]
     },
     "metadata": {},
     "output_type": "display_data"
    },
    {
     "data": {
      "application/vnd.jupyter.widget-view+json": {
       "model_id": "f461a996c9d647eeb23837198be0f165",
       "version_major": 2,
       "version_minor": 0
      },
      "text/plain": [
       "aia_lev1_304a_2011_01_01t01_06_44_13z_image_lev1.fits:   0%|          | 0.00/9.82M [00:00<?, ?B/s]"
      ]
     },
     "metadata": {},
     "output_type": "display_data"
    },
    {
     "data": {
      "application/vnd.jupyter.widget-view+json": {
       "model_id": "9c97c047e37c49d69ca961992eb06486",
       "version_major": 2,
       "version_minor": 0
      },
      "text/plain": [
       "aia_lev1_304a_2011_01_01t01_06_20_13z_image_lev1.fits:   0%|          | 0.00/9.82M [00:00<?, ?B/s]"
      ]
     },
     "metadata": {},
     "output_type": "display_data"
    },
    {
     "data": {
      "application/vnd.jupyter.widget-view+json": {
       "model_id": "efc63c427f5d4d0791858f4ba48baea3",
       "version_major": 2,
       "version_minor": 0
      },
      "text/plain": [
       "aia_lev1_304a_2011_01_01t01_07_08_12z_image_lev1.fits:   0%|          | 0.00/9.82M [00:00<?, ?B/s]"
      ]
     },
     "metadata": {},
     "output_type": "display_data"
    },
    {
     "data": {
      "application/vnd.jupyter.widget-view+json": {
       "model_id": "54898453cc374c48b291c75cddadb287",
       "version_major": 2,
       "version_minor": 0
      },
      "text/plain": [
       "aia_lev1_304a_2011_01_01t01_07_20_13z_image_lev1.fits:   0%|          | 0.00/9.82M [00:00<?, ?B/s]"
      ]
     },
     "metadata": {},
     "output_type": "display_data"
    },
    {
     "data": {
      "application/vnd.jupyter.widget-view+json": {
       "model_id": "e8c51fbaf7ee4cc7b8069f72d3956e48",
       "version_major": 2,
       "version_minor": 0
      },
      "text/plain": [
       "aia_lev1_304a_2011_01_01t01_07_32_12z_image_lev1.fits:   0%|          | 0.00/9.82M [00:00<?, ?B/s]"
      ]
     },
     "metadata": {},
     "output_type": "display_data"
    },
    {
     "data": {
      "application/vnd.jupyter.widget-view+json": {
       "model_id": "c2d175a8c3df4c4fba5c14c4b6010339",
       "version_major": 2,
       "version_minor": 0
      },
      "text/plain": [
       "aia_lev1_304a_2011_01_01t01_07_44_12z_image_lev1.fits:   0%|          | 0.00/9.82M [00:00<?, ?B/s]"
      ]
     },
     "metadata": {},
     "output_type": "display_data"
    },
    {
     "data": {
      "application/vnd.jupyter.widget-view+json": {
       "model_id": "f05d1cdeee9e41c3b6a6d929152dd0cf",
       "version_major": 2,
       "version_minor": 0
      },
      "text/plain": [
       "aia_lev1_304a_2011_01_01t01_07_56_13z_image_lev1.fits:   0%|          | 0.00/9.82M [00:00<?, ?B/s]"
      ]
     },
     "metadata": {},
     "output_type": "display_data"
    },
    {
     "name": "stdout",
     "output_type": "stream",
     "text": [
      "2/0 files failed to download. Please check `.errors` for details\n"
     ]
    },
    {
     "data": {
      "application/vnd.jupyter.widget-view+json": {
       "model_id": "a0f9b8aa8ff04cb08274e26e99cd5dfa",
       "version_major": 2,
       "version_minor": 0
      },
      "text/plain": [
       "Files Downloaded:   0%|          | 0/10 [00:00<?, ?file/s]"
      ]
     },
     "metadata": {},
     "output_type": "display_data"
    },
    {
     "data": {
      "application/vnd.jupyter.widget-view+json": {
       "model_id": "93b4b7388b0d4535ae46e379a7bbc6d1",
       "version_major": 2,
       "version_minor": 0
      },
      "text/plain": [
       "aia_lev1_304a_2011_01_01t01_08_32_12z_image_lev1.fits:   0%|          | 0.00/9.82M [00:00<?, ?B/s]"
      ]
     },
     "metadata": {},
     "output_type": "display_data"
    },
    {
     "data": {
      "application/vnd.jupyter.widget-view+json": {
       "model_id": "39b8c97d2c6e407f9fb290ee08b57acd",
       "version_major": 2,
       "version_minor": 0
      },
      "text/plain": [
       "aia_lev1_304a_2011_01_01t01_08_08_12z_image_lev1.fits:   0%|          | 0.00/9.82M [00:00<?, ?B/s]"
      ]
     },
     "metadata": {},
     "output_type": "display_data"
    },
    {
     "data": {
      "application/vnd.jupyter.widget-view+json": {
       "model_id": "b80496e3cbbd496598eddcd67fea8b72",
       "version_major": 2,
       "version_minor": 0
      },
      "text/plain": [
       "aia_lev1_304a_2011_01_01t01_08_56_14z_image_lev1.fits:   0%|          | 0.00/9.82M [00:00<?, ?B/s]"
      ]
     },
     "metadata": {},
     "output_type": "display_data"
    },
    {
     "data": {
      "application/vnd.jupyter.widget-view+json": {
       "model_id": "624e1ead206f413fad03f00962e54fbd",
       "version_major": 2,
       "version_minor": 0
      },
      "text/plain": [
       "aia_lev1_304a_2011_01_01t01_08_20_13z_image_lev1.fits:   0%|          | 0.00/9.82M [00:00<?, ?B/s]"
      ]
     },
     "metadata": {},
     "output_type": "display_data"
    },
    {
     "data": {
      "application/vnd.jupyter.widget-view+json": {
       "model_id": "ce8cda51561a41d8ba7fea857830fee3",
       "version_major": 2,
       "version_minor": 0
      },
      "text/plain": [
       "aia_lev1_304a_2011_01_01t01_09_08_12z_image_lev1.fits:   0%|          | 0.00/9.82M [00:00<?, ?B/s]"
      ]
     },
     "metadata": {},
     "output_type": "display_data"
    },
    {
     "data": {
      "application/vnd.jupyter.widget-view+json": {
       "model_id": "735a3aeab42e46f0809d3862d7bad1ed",
       "version_major": 2,
       "version_minor": 0
      },
      "text/plain": [
       "aia_lev1_304a_2011_01_01t01_09_20_13z_image_lev1.fits:   0%|          | 0.00/9.82M [00:00<?, ?B/s]"
      ]
     },
     "metadata": {},
     "output_type": "display_data"
    },
    {
     "data": {
      "application/vnd.jupyter.widget-view+json": {
       "model_id": "a4789a5ac90844b8afc9f9d44705b3e9",
       "version_major": 2,
       "version_minor": 0
      },
      "text/plain": [
       "aia_lev1_304a_2011_01_01t01_09_44_12z_image_lev1.fits:   0%|          | 0.00/9.82M [00:00<?, ?B/s]"
      ]
     },
     "metadata": {},
     "output_type": "display_data"
    },
    {
     "data": {
      "application/vnd.jupyter.widget-view+json": {
       "model_id": "b08129c6bc2b44048e1869d75519f039",
       "version_major": 2,
       "version_minor": 0
      },
      "text/plain": [
       "aia_lev1_304a_2011_01_01t01_09_32_12z_image_lev1.fits:   0%|          | 0.00/9.82M [00:00<?, ?B/s]"
      ]
     },
     "metadata": {},
     "output_type": "display_data"
    },
    {
     "data": {
      "application/vnd.jupyter.widget-view+json": {
       "model_id": "2b8aab65df5844128a196168b57afa44",
       "version_major": 2,
       "version_minor": 0
      },
      "text/plain": [
       "aia_lev1_304a_2011_01_01t01_09_56_13z_image_lev1.fits:   0%|          | 0.00/9.82M [00:00<?, ?B/s]"
      ]
     },
     "metadata": {},
     "output_type": "display_data"
    },
    {
     "name": "stdout",
     "output_type": "stream",
     "text": [
      "1/0 files failed to download. Please check `.errors` for details\n"
     ]
    },
    {
     "data": {
      "application/vnd.jupyter.widget-view+json": {
       "model_id": "71073b58148f45c691c0fed0541f6ea5",
       "version_major": 2,
       "version_minor": 0
      },
      "text/plain": [
       "Files Downloaded:   0%|          | 0/10 [00:00<?, ?file/s]"
      ]
     },
     "metadata": {},
     "output_type": "display_data"
    },
    {
     "data": {
      "application/vnd.jupyter.widget-view+json": {
       "model_id": "7a6be3cc04434181b32c9172ca68092d",
       "version_major": 2,
       "version_minor": 0
      },
      "text/plain": [
       "aia_lev1_304a_2011_01_01t01_11_32_12z_image_lev1.fits:   0%|          | 0.00/9.82M [00:00<?, ?B/s]"
      ]
     },
     "metadata": {},
     "output_type": "display_data"
    },
    {
     "data": {
      "application/vnd.jupyter.widget-view+json": {
       "model_id": "d6d7d232a1914e77a3e7b9055020b506",
       "version_major": 2,
       "version_minor": 0
      },
      "text/plain": [
       "aia_lev1_304a_2011_01_01t01_11_08_13z_image_lev1.fits:   0%|          | 0.00/9.83M [00:00<?, ?B/s]"
      ]
     },
     "metadata": {},
     "output_type": "display_data"
    },
    {
     "data": {
      "application/vnd.jupyter.widget-view+json": {
       "model_id": "5369cc2a35f4485bb09f892c3734e144",
       "version_major": 2,
       "version_minor": 0
      },
      "text/plain": [
       "aia_lev1_304a_2011_01_01t01_11_56_13z_image_lev1.fits:   0%|          | 0.00/9.82M [00:00<?, ?B/s]"
      ]
     },
     "metadata": {},
     "output_type": "display_data"
    },
    {
     "data": {
      "application/vnd.jupyter.widget-view+json": {
       "model_id": "8cbc43db8fbb401d938fbbe79853a443",
       "version_major": 2,
       "version_minor": 0
      },
      "text/plain": [
       "aia_lev1_304a_2011_01_01t01_11_20_13z_image_lev1.fits:   0%|          | 0.00/9.82M [00:00<?, ?B/s]"
      ]
     },
     "metadata": {},
     "output_type": "display_data"
    },
    {
     "name": "stdout",
     "output_type": "stream",
     "text": [
      "6/0 files failed to download. Please check `.errors` for details\n"
     ]
    },
    {
     "data": {
      "application/vnd.jupyter.widget-view+json": {
       "model_id": "bf7a3a539e614bc3b371def2200aad4b",
       "version_major": 2,
       "version_minor": 0
      },
      "text/plain": [
       "Files Downloaded:   0%|          | 0/10 [00:00<?, ?file/s]"
      ]
     },
     "metadata": {},
     "output_type": "display_data"
    },
    {
     "data": {
      "application/vnd.jupyter.widget-view+json": {
       "model_id": "6ecb89d304a94e8ebe1f025d8cca8081",
       "version_major": 2,
       "version_minor": 0
      },
      "text/plain": [
       "aia_lev1_304a_2011_01_01t01_13_08_13z_image_lev1.fits:   0%|          | 0.00/9.82M [00:00<?, ?B/s]"
      ]
     },
     "metadata": {},
     "output_type": "display_data"
    },
    {
     "data": {
      "application/vnd.jupyter.widget-view+json": {
       "model_id": "d515412f580043e0be7da90bfbb47b5f",
       "version_major": 2,
       "version_minor": 0
      },
      "text/plain": [
       "aia_lev1_304a_2011_01_01t01_13_32_12z_image_lev1.fits:   0%|          | 0.00/9.82M [00:00<?, ?B/s]"
      ]
     },
     "metadata": {},
     "output_type": "display_data"
    },
    {
     "data": {
      "application/vnd.jupyter.widget-view+json": {
       "model_id": "fc3a0168f96746adab7df88d23925360",
       "version_major": 2,
       "version_minor": 0
      },
      "text/plain": [
       "aia_lev1_304a_2011_01_01t01_13_44_12z_image_lev1.fits:   0%|          | 0.00/9.83M [00:00<?, ?B/s]"
      ]
     },
     "metadata": {},
     "output_type": "display_data"
    },
    {
     "data": {
      "application/vnd.jupyter.widget-view+json": {
       "model_id": "70f47a0443f349f98990701aecbafc61",
       "version_major": 2,
       "version_minor": 0
      },
      "text/plain": [
       "aia_lev1_304a_2011_01_01t01_13_20_13z_image_lev1.fits:   0%|          | 0.00/9.82M [00:00<?, ?B/s]"
      ]
     },
     "metadata": {},
     "output_type": "display_data"
    },
    {
     "name": "stdout",
     "output_type": "stream",
     "text": [
      "6/0 files failed to download. Please check `.errors` for details\n"
     ]
    },
    {
     "data": {
      "application/vnd.jupyter.widget-view+json": {
       "model_id": "1ae6c9a374c4421b95a06ba71b8208f7",
       "version_major": 2,
       "version_minor": 0
      },
      "text/plain": [
       "Files Downloaded:   0%|          | 0/10 [00:00<?, ?file/s]"
      ]
     },
     "metadata": {},
     "output_type": "display_data"
    },
    {
     "data": {
      "application/vnd.jupyter.widget-view+json": {
       "model_id": "bb7df31942194efc92851d56f484323c",
       "version_major": 2,
       "version_minor": 0
      },
      "text/plain": [
       "aia_lev1_304a_2011_01_01t01_14_20_13z_image_lev1.fits:   0%|          | 0.00/9.82M [00:00<?, ?B/s]"
      ]
     },
     "metadata": {},
     "output_type": "display_data"
    },
    {
     "data": {
      "application/vnd.jupyter.widget-view+json": {
       "model_id": "a49142c6e1914b14807edb69fa6698b5",
       "version_major": 2,
       "version_minor": 0
      },
      "text/plain": [
       "aia_lev1_304a_2011_01_01t01_14_56_12z_image_lev1.fits:   0%|          | 0.00/9.82M [00:00<?, ?B/s]"
      ]
     },
     "metadata": {},
     "output_type": "display_data"
    },
    {
     "data": {
      "application/vnd.jupyter.widget-view+json": {
       "model_id": "2bbc168ef88746ab86fd684f3d6321a9",
       "version_major": 2,
       "version_minor": 0
      },
      "text/plain": [
       "aia_lev1_304a_2011_01_01t01_14_08_12z_image_lev1.fits:   0%|          | 0.00/9.82M [00:00<?, ?B/s]"
      ]
     },
     "metadata": {},
     "output_type": "display_data"
    },
    {
     "data": {
      "application/vnd.jupyter.widget-view+json": {
       "model_id": "de4ee6cdf330433abe60a7256bdbf499",
       "version_major": 2,
       "version_minor": 0
      },
      "text/plain": [
       "aia_lev1_304a_2011_01_01t01_14_44_13z_image_lev1.fits:   0%|          | 0.00/9.83M [00:00<?, ?B/s]"
      ]
     },
     "metadata": {},
     "output_type": "display_data"
    },
    {
     "data": {
      "application/vnd.jupyter.widget-view+json": {
       "model_id": "4adc6fb3c4ef47358197ce1227e4517e",
       "version_major": 2,
       "version_minor": 0
      },
      "text/plain": [
       "aia_lev1_304a_2011_01_01t01_14_32_12z_image_lev1.fits:   0%|          | 0.00/9.82M [00:00<?, ?B/s]"
      ]
     },
     "metadata": {},
     "output_type": "display_data"
    },
    {
     "data": {
      "application/vnd.jupyter.widget-view+json": {
       "model_id": "a1f7e0e326c74049a1edb28fbc4fa5d7",
       "version_major": 2,
       "version_minor": 0
      },
      "text/plain": [
       "aia_lev1_304a_2011_01_01t01_15_08_12z_image_lev1.fits:   0%|          | 0.00/9.82M [00:00<?, ?B/s]"
      ]
     },
     "metadata": {},
     "output_type": "display_data"
    },
    {
     "data": {
      "application/vnd.jupyter.widget-view+json": {
       "model_id": "45cc939d56ba4705889ac9a27e55d2d5",
       "version_major": 2,
       "version_minor": 0
      },
      "text/plain": [
       "aia_lev1_304a_2011_01_01t01_15_20_13z_image_lev1.fits:   0%|          | 0.00/9.82M [00:00<?, ?B/s]"
      ]
     },
     "metadata": {},
     "output_type": "display_data"
    },
    {
     "data": {
      "application/vnd.jupyter.widget-view+json": {
       "model_id": "e62ede4bdf104e69805a94f9078127ba",
       "version_major": 2,
       "version_minor": 0
      },
      "text/plain": [
       "aia_lev1_304a_2011_01_01t01_15_32_12z_image_lev1.fits:   0%|          | 0.00/9.83M [00:00<?, ?B/s]"
      ]
     },
     "metadata": {},
     "output_type": "display_data"
    },
    {
     "data": {
      "application/vnd.jupyter.widget-view+json": {
       "model_id": "be70aa9135da4181bdece571b294f46d",
       "version_major": 2,
       "version_minor": 0
      },
      "text/plain": [
       "aia_lev1_304a_2011_01_01t01_15_44_12z_image_lev1.fits:   0%|          | 0.00/9.82M [00:00<?, ?B/s]"
      ]
     },
     "metadata": {},
     "output_type": "display_data"
    },
    {
     "data": {
      "application/vnd.jupyter.widget-view+json": {
       "model_id": "527d114daf5949828613c2257f6419d6",
       "version_major": 2,
       "version_minor": 0
      },
      "text/plain": [
       "aia_lev1_304a_2011_01_01t01_15_56_13z_image_lev1.fits:   0%|          | 0.00/9.82M [00:00<?, ?B/s]"
      ]
     },
     "metadata": {},
     "output_type": "display_data"
    },
    {
     "data": {
      "application/vnd.jupyter.widget-view+json": {
       "model_id": "2d732b9143a947efb3c976e840c26763",
       "version_major": 2,
       "version_minor": 0
      },
      "text/plain": [
       "Files Downloaded:   0%|          | 0/10 [00:00<?, ?file/s]"
      ]
     },
     "metadata": {},
     "output_type": "display_data"
    },
    {
     "data": {
      "application/vnd.jupyter.widget-view+json": {
       "model_id": "56702e62a8e143f5afb47eb04bd23a62",
       "version_major": 2,
       "version_minor": 0
      },
      "text/plain": [
       "aia_lev1_304a_2011_01_01t01_16_44_13z_image_lev1.fits:   0%|          | 0.00/9.82M [00:00<?, ?B/s]"
      ]
     },
     "metadata": {},
     "output_type": "display_data"
    },
    {
     "data": {
      "application/vnd.jupyter.widget-view+json": {
       "model_id": "acf84490ec42493a9b3a60926620d990",
       "version_major": 2,
       "version_minor": 0
      },
      "text/plain": [
       "aia_lev1_304a_2011_01_01t01_16_56_12z_image_lev1.fits:   0%|          | 0.00/9.83M [00:00<?, ?B/s]"
      ]
     },
     "metadata": {},
     "output_type": "display_data"
    },
    {
     "data": {
      "application/vnd.jupyter.widget-view+json": {
       "model_id": "fca4b771b173498695c39e92a9b636fd",
       "version_major": 2,
       "version_minor": 0
      },
      "text/plain": [
       "aia_lev1_304a_2011_01_01t01_17_08_12z_image_lev1.fits:   0%|          | 0.00/9.83M [00:00<?, ?B/s]"
      ]
     },
     "metadata": {},
     "output_type": "display_data"
    },
    {
     "data": {
      "application/vnd.jupyter.widget-view+json": {
       "model_id": "c288e264f5e645aba6dcbfadee848ff3",
       "version_major": 2,
       "version_minor": 0
      },
      "text/plain": [
       "aia_lev1_304a_2011_01_01t01_17_20_13z_image_lev1.fits:   0%|          | 0.00/9.82M [00:00<?, ?B/s]"
      ]
     },
     "metadata": {},
     "output_type": "display_data"
    },
    {
     "data": {
      "application/vnd.jupyter.widget-view+json": {
       "model_id": "fc2f06215e6c4b0c8e210121cf08e864",
       "version_major": 2,
       "version_minor": 0
      },
      "text/plain": [
       "aia_lev1_304a_2011_01_01t01_17_44_12z_image_lev1.fits:   0%|          | 0.00/9.83M [00:00<?, ?B/s]"
      ]
     },
     "metadata": {},
     "output_type": "display_data"
    },
    {
     "data": {
      "application/vnd.jupyter.widget-view+json": {
       "model_id": "8d0568903043473db8c9ae0e3a51e9d3",
       "version_major": 2,
       "version_minor": 0
      },
      "text/plain": [
       "aia_lev1_304a_2011_01_01t01_17_56_13z_image_lev1.fits:   0%|          | 0.00/9.83M [00:00<?, ?B/s]"
      ]
     },
     "metadata": {},
     "output_type": "display_data"
    },
    {
     "name": "stdout",
     "output_type": "stream",
     "text": [
      "4/0 files failed to download. Please check `.errors` for details\n"
     ]
    },
    {
     "data": {
      "application/vnd.jupyter.widget-view+json": {
       "model_id": "0d0d0550dbdb4b73a102fb5e416d2e9a",
       "version_major": 2,
       "version_minor": 0
      },
      "text/plain": [
       "Files Downloaded:   0%|          | 0/10 [00:00<?, ?file/s]"
      ]
     },
     "metadata": {},
     "output_type": "display_data"
    },
    {
     "data": {
      "application/vnd.jupyter.widget-view+json": {
       "model_id": "7fe68c721d6a42bba54e21c7ad60a7f7",
       "version_major": 2,
       "version_minor": 0
      },
      "text/plain": [
       "aia_lev1_304a_2011_01_01t01_18_44_13z_image_lev1.fits:   0%|          | 0.00/9.83M [00:00<?, ?B/s]"
      ]
     },
     "metadata": {},
     "output_type": "display_data"
    },
    {
     "data": {
      "application/vnd.jupyter.widget-view+json": {
       "model_id": "f159d175dc2c4d2a82a0ba0ffa8ef00f",
       "version_major": 2,
       "version_minor": 0
      },
      "text/plain": [
       "aia_lev1_304a_2011_01_01t01_18_08_12z_image_lev1.fits:   0%|          | 0.00/9.83M [00:00<?, ?B/s]"
      ]
     },
     "metadata": {},
     "output_type": "display_data"
    },
    {
     "data": {
      "application/vnd.jupyter.widget-view+json": {
       "model_id": "438a27ad09da46db9aacc96ead9ca012",
       "version_major": 2,
       "version_minor": 0
      },
      "text/plain": [
       "aia_lev1_304a_2011_01_01t01_18_32_12z_image_lev1.fits:   0%|          | 0.00/9.83M [00:00<?, ?B/s]"
      ]
     },
     "metadata": {},
     "output_type": "display_data"
    },
    {
     "data": {
      "application/vnd.jupyter.widget-view+json": {
       "model_id": "477f1923f4b54642bb1380d716741fa9",
       "version_major": 2,
       "version_minor": 0
      },
      "text/plain": [
       "aia_lev1_304a_2011_01_01t01_18_20_13z_image_lev1.fits:   0%|          | 0.00/9.82M [00:00<?, ?B/s]"
      ]
     },
     "metadata": {},
     "output_type": "display_data"
    },
    {
     "data": {
      "application/vnd.jupyter.widget-view+json": {
       "model_id": "60c38a8f6af8458bbd3f288d4ebc466a",
       "version_major": 2,
       "version_minor": 0
      },
      "text/plain": [
       "aia_lev1_304a_2011_01_01t01_18_56_12z_image_lev1.fits:   0%|          | 0.00/9.82M [00:00<?, ?B/s]"
      ]
     },
     "metadata": {},
     "output_type": "display_data"
    },
    {
     "name": "stdout",
     "output_type": "stream",
     "text": [
      "5/0 files failed to download. Please check `.errors` for details\n"
     ]
    },
    {
     "data": {
      "application/vnd.jupyter.widget-view+json": {
       "model_id": "e9125277aae840a1b4fe1450416197c9",
       "version_major": 2,
       "version_minor": 0
      },
      "text/plain": [
       "Files Downloaded:   0%|          | 0/10 [00:00<?, ?file/s]"
      ]
     },
     "metadata": {},
     "output_type": "display_data"
    },
    {
     "name": "stdout",
     "output_type": "stream",
     "text": [
      "10/0 files failed to download. Please check `.errors` for details\n"
     ]
    },
    {
     "data": {
      "application/vnd.jupyter.widget-view+json": {
       "model_id": "444ad82c92cc4de091ff5c3cce08c6fd",
       "version_major": 2,
       "version_minor": 0
      },
      "text/plain": [
       "Files Downloaded:   0%|          | 0/10 [00:00<?, ?file/s]"
      ]
     },
     "metadata": {},
     "output_type": "display_data"
    },
    {
     "name": "stdout",
     "output_type": "stream",
     "text": [
      "10/0 files failed to download. Please check `.errors` for details\n"
     ]
    },
    {
     "data": {
      "application/vnd.jupyter.widget-view+json": {
       "model_id": "3ee3d80141d240568613aed769897780",
       "version_major": 2,
       "version_minor": 0
      },
      "text/plain": [
       "Files Downloaded:   0%|          | 0/10 [00:00<?, ?file/s]"
      ]
     },
     "metadata": {},
     "output_type": "display_data"
    },
    {
     "name": "stdout",
     "output_type": "stream",
     "text": [
      "10/0 files failed to download. Please check `.errors` for details\n"
     ]
    },
    {
     "data": {
      "application/vnd.jupyter.widget-view+json": {
       "model_id": "a9164ea4eff548f884348441eb5225e7",
       "version_major": 2,
       "version_minor": 0
      },
      "text/plain": [
       "Files Downloaded:   0%|          | 0/10 [00:00<?, ?file/s]"
      ]
     },
     "metadata": {},
     "output_type": "display_data"
    },
    {
     "name": "stdout",
     "output_type": "stream",
     "text": [
      "10/0 files failed to download. Please check `.errors` for details\n"
     ]
    },
    {
     "data": {
      "application/vnd.jupyter.widget-view+json": {
       "model_id": "26a109d5ab8e41c5a8253d1d1f7b0169",
       "version_major": 2,
       "version_minor": 0
      },
      "text/plain": [
       "Files Downloaded:   0%|          | 0/10 [00:00<?, ?file/s]"
      ]
     },
     "metadata": {},
     "output_type": "display_data"
    },
    {
     "data": {
      "application/vnd.jupyter.widget-view+json": {
       "model_id": "18399e3b74dd41e6bce6dacd44036de1",
       "version_major": 2,
       "version_minor": 0
      },
      "text/plain": [
       "aia_lev1_304a_2011_01_01t01_29_44_12z_image_lev1.fits:   0%|          | 0.00/9.82M [00:00<?, ?B/s]"
      ]
     },
     "metadata": {},
     "output_type": "display_data"
    },
    {
     "data": {
      "application/vnd.jupyter.widget-view+json": {
       "model_id": "b6899cb538244b1d90cdf16712ddcbe6",
       "version_major": 2,
       "version_minor": 0
      },
      "text/plain": [
       "aia_lev1_304a_2011_01_01t01_29_32_12z_image_lev1.fits:   0%|          | 0.00/9.82M [00:00<?, ?B/s]"
      ]
     },
     "metadata": {},
     "output_type": "display_data"
    },
    {
     "data": {
      "application/vnd.jupyter.widget-view+json": {
       "model_id": "d7c66a337eaf44ea9aecde1f2676f5b9",
       "version_major": 2,
       "version_minor": 0
      },
      "text/plain": [
       "aia_lev1_304a_2011_01_01t01_29_56_13z_image_lev1.fits:   0%|          | 0.00/9.82M [00:00<?, ?B/s]"
      ]
     },
     "metadata": {},
     "output_type": "display_data"
    },
    {
     "data": {
      "application/vnd.jupyter.widget-view+json": {
       "model_id": "2cfb798a874d4177b87102be8d2336ae",
       "version_major": 2,
       "version_minor": 0
      },
      "text/plain": [
       "aia_lev1_304a_2011_01_01t01_29_08_13z_image_lev1.fits:   0%|          | 0.00/9.82M [00:00<?, ?B/s]"
      ]
     },
     "metadata": {},
     "output_type": "display_data"
    },
    {
     "data": {
      "application/vnd.jupyter.widget-view+json": {
       "model_id": "e91fb4239b244dddaf2b99b0e9aac51a",
       "version_major": 2,
       "version_minor": 0
      },
      "text/plain": [
       "aia_lev1_304a_2011_01_01t01_29_20_13z_image_lev1.fits:   0%|          | 0.00/9.82M [00:00<?, ?B/s]"
      ]
     },
     "metadata": {},
     "output_type": "display_data"
    },
    {
     "name": "stdout",
     "output_type": "stream",
     "text": [
      "5/0 files failed to download. Please check `.errors` for details\n"
     ]
    },
    {
     "data": {
      "application/vnd.jupyter.widget-view+json": {
       "model_id": "4892f23093144705b6ddeabe3e975aa1",
       "version_major": 2,
       "version_minor": 0
      },
      "text/plain": [
       "Files Downloaded:   0%|          | 0/10 [00:00<?, ?file/s]"
      ]
     },
     "metadata": {},
     "output_type": "display_data"
    },
    {
     "data": {
      "application/vnd.jupyter.widget-view+json": {
       "model_id": "302ef91ca2b84255806847f65a4257c5",
       "version_major": 2,
       "version_minor": 0
      },
      "text/plain": [
       "aia_lev1_304a_2011_01_01t01_30_08_12z_image_lev1.fits:   0%|          | 0.00/9.82M [00:00<?, ?B/s]"
      ]
     },
     "metadata": {},
     "output_type": "display_data"
    },
    {
     "data": {
      "application/vnd.jupyter.widget-view+json": {
       "model_id": "5293eb37b1ca4ef1b182988097e3fef0",
       "version_major": 2,
       "version_minor": 0
      },
      "text/plain": [
       "aia_lev1_304a_2011_01_01t01_30_32_12z_image_lev1.fits:   0%|          | 0.00/9.82M [00:00<?, ?B/s]"
      ]
     },
     "metadata": {},
     "output_type": "display_data"
    },
    {
     "data": {
      "application/vnd.jupyter.widget-view+json": {
       "model_id": "430f56ae91f0409a89d998aa972b5dee",
       "version_major": 2,
       "version_minor": 0
      },
      "text/plain": [
       "aia_lev1_304a_2011_01_01t01_30_20_13z_image_lev1.fits:   0%|          | 0.00/9.82M [00:00<?, ?B/s]"
      ]
     },
     "metadata": {},
     "output_type": "display_data"
    },
    {
     "data": {
      "application/vnd.jupyter.widget-view+json": {
       "model_id": "1e490ada8a2b40e79405bc8e425ca692",
       "version_major": 2,
       "version_minor": 0
      },
      "text/plain": [
       "aia_lev1_304a_2011_01_01t01_31_08_13z_image_lev1.fits:   0%|          | 0.00/9.82M [00:00<?, ?B/s]"
      ]
     },
     "metadata": {},
     "output_type": "display_data"
    },
    {
     "data": {
      "application/vnd.jupyter.widget-view+json": {
       "model_id": "e9b75f54dd1144a38eeaa413f405f869",
       "version_major": 2,
       "version_minor": 0
      },
      "text/plain": [
       "aia_lev1_304a_2011_01_01t01_31_20_13z_image_lev1.fits:   0%|          | 0.00/9.82M [00:00<?, ?B/s]"
      ]
     },
     "metadata": {},
     "output_type": "display_data"
    },
    {
     "data": {
      "application/vnd.jupyter.widget-view+json": {
       "model_id": "ab52f986812248a5a9b0517ca41c4477",
       "version_major": 2,
       "version_minor": 0
      },
      "text/plain": [
       "aia_lev1_304a_2011_01_01t01_31_32_12z_image_lev1.fits:   0%|          | 0.00/9.82M [00:00<?, ?B/s]"
      ]
     },
     "metadata": {},
     "output_type": "display_data"
    },
    {
     "data": {
      "application/vnd.jupyter.widget-view+json": {
       "model_id": "9d854a1cb3e04e3f842dd2585317ca0e",
       "version_major": 2,
       "version_minor": 0
      },
      "text/plain": [
       "aia_lev1_304a_2011_01_01t01_31_44_12z_image_lev1.fits:   0%|          | 0.00/9.82M [00:00<?, ?B/s]"
      ]
     },
     "metadata": {},
     "output_type": "display_data"
    },
    {
     "data": {
      "application/vnd.jupyter.widget-view+json": {
       "model_id": "4080ca7d67c440e4bee8eb36e87795b6",
       "version_major": 2,
       "version_minor": 0
      },
      "text/plain": [
       "aia_lev1_304a_2011_01_01t01_31_56_13z_image_lev1.fits:   0%|          | 0.00/9.82M [00:00<?, ?B/s]"
      ]
     },
     "metadata": {},
     "output_type": "display_data"
    },
    {
     "name": "stdout",
     "output_type": "stream",
     "text": [
      "2/0 files failed to download. Please check `.errors` for details\n"
     ]
    },
    {
     "data": {
      "application/vnd.jupyter.widget-view+json": {
       "model_id": "8e8bd27cc33c48d1bc691999816b3def",
       "version_major": 2,
       "version_minor": 0
      },
      "text/plain": [
       "Files Downloaded:   0%|          | 0/10 [00:00<?, ?file/s]"
      ]
     },
     "metadata": {},
     "output_type": "display_data"
    },
    {
     "data": {
      "application/vnd.jupyter.widget-view+json": {
       "model_id": "2a6e5df568a649c58f42d93bee98895d",
       "version_major": 2,
       "version_minor": 0
      },
      "text/plain": [
       "aia_lev1_304a_2011_01_01t01_33_32_12z_image_lev1.fits:   0%|          | 0.00/9.82M [00:00<?, ?B/s]"
      ]
     },
     "metadata": {},
     "output_type": "display_data"
    },
    {
     "data": {
      "application/vnd.jupyter.widget-view+json": {
       "model_id": "c13e9eb2ff9e4906a6d63c5a1965e777",
       "version_major": 2,
       "version_minor": 0
      },
      "text/plain": [
       "aia_lev1_304a_2011_01_01t01_33_56_13z_image_lev1.fits:   0%|          | 0.00/9.82M [00:00<?, ?B/s]"
      ]
     },
     "metadata": {},
     "output_type": "display_data"
    },
    {
     "data": {
      "application/vnd.jupyter.widget-view+json": {
       "model_id": "a56a473b17ec4d55a40fa17c60790e91",
       "version_major": 2,
       "version_minor": 0
      },
      "text/plain": [
       "aia_lev1_304a_2011_01_01t01_33_08_12z_image_lev1.fits:   0%|          | 0.00/9.82M [00:00<?, ?B/s]"
      ]
     },
     "metadata": {},
     "output_type": "display_data"
    },
    {
     "data": {
      "application/vnd.jupyter.widget-view+json": {
       "model_id": "0ff8709e642c465cac5f05fe27685acc",
       "version_major": 2,
       "version_minor": 0
      },
      "text/plain": [
       "aia_lev1_304a_2011_01_01t01_33_44_14z_image_lev1.fits:   0%|          | 0.00/9.82M [00:00<?, ?B/s]"
      ]
     },
     "metadata": {},
     "output_type": "display_data"
    },
    {
     "data": {
      "application/vnd.jupyter.widget-view+json": {
       "model_id": "6877597ab26243f7a02fd38c063cff37",
       "version_major": 2,
       "version_minor": 0
      },
      "text/plain": [
       "aia_lev1_304a_2011_01_01t01_33_20_13z_image_lev1.fits:   0%|          | 0.00/9.82M [00:00<?, ?B/s]"
      ]
     },
     "metadata": {},
     "output_type": "display_data"
    },
    {
     "name": "stdout",
     "output_type": "stream",
     "text": [
      "5/0 files failed to download. Please check `.errors` for details\n"
     ]
    },
    {
     "data": {
      "application/vnd.jupyter.widget-view+json": {
       "model_id": "0941ba2dcc0f4fae9488fb96764e22b8",
       "version_major": 2,
       "version_minor": 0
      },
      "text/plain": [
       "Files Downloaded:   0%|          | 0/10 [00:00<?, ?file/s]"
      ]
     },
     "metadata": {},
     "output_type": "display_data"
    },
    {
     "data": {
      "application/vnd.jupyter.widget-view+json": {
       "model_id": "0306801f66da4836818136a4af9917ff",
       "version_major": 2,
       "version_minor": 0
      },
      "text/plain": [
       "aia_lev1_304a_2011_01_01t01_34_32_12z_image_lev1.fits:   0%|          | 0.00/9.82M [00:00<?, ?B/s]"
      ]
     },
     "metadata": {},
     "output_type": "display_data"
    },
    {
     "data": {
      "application/vnd.jupyter.widget-view+json": {
       "model_id": "94d44afa8bea4f56a9ced3cae2904153",
       "version_major": 2,
       "version_minor": 0
      },
      "text/plain": [
       "aia_lev1_304a_2011_01_01t01_34_20_13z_image_lev1.fits:   0%|          | 0.00/9.82M [00:00<?, ?B/s]"
      ]
     },
     "metadata": {},
     "output_type": "display_data"
    },
    {
     "data": {
      "application/vnd.jupyter.widget-view+json": {
       "model_id": "2e3b3493e38a499d8b22ac17432be070",
       "version_major": 2,
       "version_minor": 0
      },
      "text/plain": [
       "aia_lev1_304a_2011_01_01t01_34_56_14z_image_lev1.fits:   0%|          | 0.00/9.82M [00:00<?, ?B/s]"
      ]
     },
     "metadata": {},
     "output_type": "display_data"
    },
    {
     "data": {
      "application/vnd.jupyter.widget-view+json": {
       "model_id": "f8557b99a7724498996874195ce0b6e0",
       "version_major": 2,
       "version_minor": 0
      },
      "text/plain": [
       "aia_lev1_304a_2011_01_01t01_35_08_13z_image_lev1.fits:   0%|          | 0.00/9.82M [00:00<?, ?B/s]"
      ]
     },
     "metadata": {},
     "output_type": "display_data"
    },
    {
     "data": {
      "application/vnd.jupyter.widget-view+json": {
       "model_id": "49ae2da61f8a4f3599f8e76aab10eec8",
       "version_major": 2,
       "version_minor": 0
      },
      "text/plain": [
       "aia_lev1_304a_2011_01_01t01_35_20_13z_image_lev1.fits:   0%|          | 0.00/9.82M [00:00<?, ?B/s]"
      ]
     },
     "metadata": {},
     "output_type": "display_data"
    },
    {
     "data": {
      "application/vnd.jupyter.widget-view+json": {
       "model_id": "f243cb8ee2094fdc810149f0385f6dd1",
       "version_major": 2,
       "version_minor": 0
      },
      "text/plain": [
       "aia_lev1_304a_2011_01_01t01_35_44_12z_image_lev1.fits:   0%|          | 0.00/9.82M [00:00<?, ?B/s]"
      ]
     },
     "metadata": {},
     "output_type": "display_data"
    },
    {
     "data": {
      "application/vnd.jupyter.widget-view+json": {
       "model_id": "3e26537bc8624870b4d7800d45ea874d",
       "version_major": 2,
       "version_minor": 0
      },
      "text/plain": [
       "aia_lev1_304a_2011_01_01t01_35_56_13z_image_lev1.fits:   0%|          | 0.00/9.82M [00:00<?, ?B/s]"
      ]
     },
     "metadata": {},
     "output_type": "display_data"
    },
    {
     "name": "stdout",
     "output_type": "stream",
     "text": [
      "3/0 files failed to download. Please check `.errors` for details\n"
     ]
    },
    {
     "data": {
      "application/vnd.jupyter.widget-view+json": {
       "model_id": "9fac391058e5476699efedaf82d55039",
       "version_major": 2,
       "version_minor": 0
      },
      "text/plain": [
       "Files Downloaded:   0%|          | 0/10 [00:00<?, ?file/s]"
      ]
     },
     "metadata": {},
     "output_type": "display_data"
    },
    {
     "data": {
      "application/vnd.jupyter.widget-view+json": {
       "model_id": "89b5f1e2129f4049b19a67211cfa27da",
       "version_major": 2,
       "version_minor": 0
      },
      "text/plain": [
       "aia_lev1_304a_2011_01_01t01_36_32_12z_image_lev1.fits:   0%|          | 0.00/9.82M [00:00<?, ?B/s]"
      ]
     },
     "metadata": {},
     "output_type": "display_data"
    },
    {
     "data": {
      "application/vnd.jupyter.widget-view+json": {
       "model_id": "61fb97663d744d078deb2b087e6f148e",
       "version_major": 2,
       "version_minor": 0
      },
      "text/plain": [
       "aia_lev1_304a_2011_01_01t01_36_08_12z_image_lev1.fits:   0%|          | 0.00/9.82M [00:00<?, ?B/s]"
      ]
     },
     "metadata": {},
     "output_type": "display_data"
    },
    {
     "data": {
      "application/vnd.jupyter.widget-view+json": {
       "model_id": "49e6b53475144ee78ba6f2c1bce505a1",
       "version_major": 2,
       "version_minor": 0
      },
      "text/plain": [
       "aia_lev1_304a_2011_01_01t01_36_44_13z_image_lev1.fits:   0%|          | 0.00/9.82M [00:00<?, ?B/s]"
      ]
     },
     "metadata": {},
     "output_type": "display_data"
    },
    {
     "data": {
      "application/vnd.jupyter.widget-view+json": {
       "model_id": "c01e3637d92942079222b35a4dbb59ab",
       "version_major": 2,
       "version_minor": 0
      },
      "text/plain": [
       "aia_lev1_304a_2011_01_01t01_36_56_12z_image_lev1.fits:   0%|          | 0.00/9.82M [00:00<?, ?B/s]"
      ]
     },
     "metadata": {},
     "output_type": "display_data"
    },
    {
     "data": {
      "application/vnd.jupyter.widget-view+json": {
       "model_id": "446b278739fb4d5a8b1813a744fb04a9",
       "version_major": 2,
       "version_minor": 0
      },
      "text/plain": [
       "aia_lev1_304a_2011_01_01t01_37_20_13z_image_lev1.fits:   0%|          | 0.00/9.82M [00:00<?, ?B/s]"
      ]
     },
     "metadata": {},
     "output_type": "display_data"
    },
    {
     "data": {
      "application/vnd.jupyter.widget-view+json": {
       "model_id": "08b5cc0dfa274de1965e8bfe7c85f8df",
       "version_major": 2,
       "version_minor": 0
      },
      "text/plain": [
       "aia_lev1_304a_2011_01_01t01_37_44_12z_image_lev1.fits:   0%|          | 0.00/9.82M [00:00<?, ?B/s]"
      ]
     },
     "metadata": {},
     "output_type": "display_data"
    },
    {
     "data": {
      "application/vnd.jupyter.widget-view+json": {
       "model_id": "ca7b4c07835c424baa941c4bf94127f8",
       "version_major": 2,
       "version_minor": 0
      },
      "text/plain": [
       "aia_lev1_304a_2011_01_01t01_37_08_13z_image_lev1.fits:   0%|          | 0.00/9.82M [00:00<?, ?B/s]"
      ]
     },
     "metadata": {},
     "output_type": "display_data"
    },
    {
     "data": {
      "application/vnd.jupyter.widget-view+json": {
       "model_id": "0ecf58b170de48e1aaa9a32c1b6ca620",
       "version_major": 2,
       "version_minor": 0
      },
      "text/plain": [
       "aia_lev1_304a_2011_01_01t01_37_32_12z_image_lev1.fits:   0%|          | 0.00/9.82M [00:00<?, ?B/s]"
      ]
     },
     "metadata": {},
     "output_type": "display_data"
    },
    {
     "data": {
      "application/vnd.jupyter.widget-view+json": {
       "model_id": "bd6f910bd77b46f4ad7ced255ce33d0f",
       "version_major": 2,
       "version_minor": 0
      },
      "text/plain": [
       "aia_lev1_304a_2011_01_01t01_37_56_13z_image_lev1.fits:   0%|          | 0.00/9.82M [00:00<?, ?B/s]"
      ]
     },
     "metadata": {},
     "output_type": "display_data"
    },
    {
     "name": "stdout",
     "output_type": "stream",
     "text": [
      "1/0 files failed to download. Please check `.errors` for details\n"
     ]
    },
    {
     "data": {
      "application/vnd.jupyter.widget-view+json": {
       "model_id": "84338e3e479e4402bdf8d243ff078e6a",
       "version_major": 2,
       "version_minor": 0
      },
      "text/plain": [
       "Files Downloaded:   0%|          | 0/10 [00:00<?, ?file/s]"
      ]
     },
     "metadata": {},
     "output_type": "display_data"
    },
    {
     "data": {
      "application/vnd.jupyter.widget-view+json": {
       "model_id": "e79be254dd0b4b97b44683f4ddf5ae0e",
       "version_major": 2,
       "version_minor": 0
      },
      "text/plain": [
       "aia_lev1_304a_2011_01_01t01_38_44_13z_image_lev1.fits:   0%|          | 0.00/9.82M [00:00<?, ?B/s]"
      ]
     },
     "metadata": {},
     "output_type": "display_data"
    },
    {
     "data": {
      "application/vnd.jupyter.widget-view+json": {
       "model_id": "4763c6ffdaf447b1a856652ba5046178",
       "version_major": 2,
       "version_minor": 0
      },
      "text/plain": [
       "aia_lev1_304a_2011_01_01t01_38_08_12z_image_lev1.fits:   0%|          | 0.00/9.82M [00:00<?, ?B/s]"
      ]
     },
     "metadata": {},
     "output_type": "display_data"
    },
    {
     "data": {
      "application/vnd.jupyter.widget-view+json": {
       "model_id": "6a0b1342ff7d4a19b2bae9d5f213d005",
       "version_major": 2,
       "version_minor": 0
      },
      "text/plain": [
       "aia_lev1_304a_2011_01_01t01_38_32_12z_image_lev1.fits:   0%|          | 0.00/9.82M [00:00<?, ?B/s]"
      ]
     },
     "metadata": {},
     "output_type": "display_data"
    },
    {
     "data": {
      "application/vnd.jupyter.widget-view+json": {
       "model_id": "28c5a837120b4a24b42e7b6c2af73618",
       "version_major": 2,
       "version_minor": 0
      },
      "text/plain": [
       "aia_lev1_304a_2011_01_01t01_38_56_12z_image_lev1.fits:   0%|          | 0.00/9.82M [00:00<?, ?B/s]"
      ]
     },
     "metadata": {},
     "output_type": "display_data"
    },
    {
     "data": {
      "application/vnd.jupyter.widget-view+json": {
       "model_id": "491c80de3b4349a9a51a1079b06c552e",
       "version_major": 2,
       "version_minor": 0
      },
      "text/plain": [
       "aia_lev1_304a_2011_01_01t01_39_08_13z_image_lev1.fits:   0%|          | 0.00/9.82M [00:00<?, ?B/s]"
      ]
     },
     "metadata": {},
     "output_type": "display_data"
    },
    {
     "data": {
      "application/vnd.jupyter.widget-view+json": {
       "model_id": "2d6190e5ffc44280b92dbc331abe3ffc",
       "version_major": 2,
       "version_minor": 0
      },
      "text/plain": [
       "aia_lev1_304a_2011_01_01t01_39_56_13z_image_lev1.fits:   0%|          | 0.00/9.82M [00:00<?, ?B/s]"
      ]
     },
     "metadata": {},
     "output_type": "display_data"
    },
    {
     "name": "stdout",
     "output_type": "stream",
     "text": [
      "4/0 files failed to download. Please check `.errors` for details\n"
     ]
    },
    {
     "data": {
      "application/vnd.jupyter.widget-view+json": {
       "model_id": "d560325fda094027bedd5acce728e9cb",
       "version_major": 2,
       "version_minor": 0
      },
      "text/plain": [
       "Files Downloaded:   0%|          | 0/10 [00:00<?, ?file/s]"
      ]
     },
     "metadata": {},
     "output_type": "display_data"
    },
    {
     "data": {
      "application/vnd.jupyter.widget-view+json": {
       "model_id": "90aafabfb5c040e4a4d5550a2a0f7d87",
       "version_major": 2,
       "version_minor": 0
      },
      "text/plain": [
       "aia_lev1_304a_2011_01_01t01_41_08_13z_image_lev1.fits:   0%|          | 0.00/9.82M [00:00<?, ?B/s]"
      ]
     },
     "metadata": {},
     "output_type": "display_data"
    },
    {
     "data": {
      "application/vnd.jupyter.widget-view+json": {
       "model_id": "37c3a14cd752494a89f6b19862ca51dc",
       "version_major": 2,
       "version_minor": 0
      },
      "text/plain": [
       "aia_lev1_304a_2011_01_01t01_41_56_13z_image_lev1.fits:   0%|          | 0.00/9.82M [00:00<?, ?B/s]"
      ]
     },
     "metadata": {},
     "output_type": "display_data"
    },
    {
     "data": {
      "application/vnd.jupyter.widget-view+json": {
       "model_id": "353d3119496e4906b4d2a7c0371e83e1",
       "version_major": 2,
       "version_minor": 0
      },
      "text/plain": [
       "aia_lev1_304a_2011_01_01t01_41_20_13z_image_lev1.fits:   0%|          | 0.00/9.82M [00:00<?, ?B/s]"
      ]
     },
     "metadata": {},
     "output_type": "display_data"
    },
    {
     "data": {
      "application/vnd.jupyter.widget-view+json": {
       "model_id": "5256f8f5a5994c588d58a7bd92cc3724",
       "version_major": 2,
       "version_minor": 0
      },
      "text/plain": [
       "aia_lev1_304a_2011_01_01t01_41_44_12z_image_lev1.fits:   0%|          | 0.00/9.82M [00:00<?, ?B/s]"
      ]
     },
     "metadata": {},
     "output_type": "display_data"
    },
    {
     "name": "stdout",
     "output_type": "stream",
     "text": [
      "6/0 files failed to download. Please check `.errors` for details\n"
     ]
    },
    {
     "data": {
      "application/vnd.jupyter.widget-view+json": {
       "model_id": "83830a982b434e3aad0e5068ad6dd339",
       "version_major": 2,
       "version_minor": 0
      },
      "text/plain": [
       "Files Downloaded:   0%|          | 0/10 [00:00<?, ?file/s]"
      ]
     },
     "metadata": {},
     "output_type": "display_data"
    },
    {
     "data": {
      "application/vnd.jupyter.widget-view+json": {
       "model_id": "34f4803ab4d94dcd8cc5edfc9b0a6507",
       "version_major": 2,
       "version_minor": 0
      },
      "text/plain": [
       "aia_lev1_304a_2011_01_01t01_42_56_12z_image_lev1.fits:   0%|          | 0.00/9.82M [00:00<?, ?B/s]"
      ]
     },
     "metadata": {},
     "output_type": "display_data"
    },
    {
     "data": {
      "application/vnd.jupyter.widget-view+json": {
       "model_id": "4baffc6dc33b4dfbac317e202510abce",
       "version_major": 2,
       "version_minor": 0
      },
      "text/plain": [
       "aia_lev1_304a_2011_01_01t01_42_44_13z_image_lev1.fits:   0%|          | 0.00/9.82M [00:00<?, ?B/s]"
      ]
     },
     "metadata": {},
     "output_type": "display_data"
    },
    {
     "data": {
      "application/vnd.jupyter.widget-view+json": {
       "model_id": "cf958d2c056a4c77a5f36b568e3373ef",
       "version_major": 2,
       "version_minor": 0
      },
      "text/plain": [
       "aia_lev1_304a_2011_01_01t01_42_20_13z_image_lev1.fits:   0%|          | 0.00/9.82M [00:00<?, ?B/s]"
      ]
     },
     "metadata": {},
     "output_type": "display_data"
    },
    {
     "data": {
      "application/vnd.jupyter.widget-view+json": {
       "model_id": "381d056d3cca4e148c03cf824a9ec502",
       "version_major": 2,
       "version_minor": 0
      },
      "text/plain": [
       "aia_lev1_304a_2011_01_01t01_43_20_13z_image_lev1.fits:   0%|          | 0.00/9.82M [00:00<?, ?B/s]"
      ]
     },
     "metadata": {},
     "output_type": "display_data"
    },
    {
     "data": {
      "application/vnd.jupyter.widget-view+json": {
       "model_id": "89218198a7de4250a778ace1314cdae5",
       "version_major": 2,
       "version_minor": 0
      },
      "text/plain": [
       "aia_lev1_304a_2011_01_01t01_43_32_12z_image_lev1.fits:   0%|          | 0.00/9.82M [00:00<?, ?B/s]"
      ]
     },
     "metadata": {},
     "output_type": "display_data"
    },
    {
     "data": {
      "application/vnd.jupyter.widget-view+json": {
       "model_id": "925ecdde7ea941119028de55017d82ce",
       "version_major": 2,
       "version_minor": 0
      },
      "text/plain": [
       "aia_lev1_304a_2011_01_01t01_43_44_12z_image_lev1.fits:   0%|          | 0.00/9.82M [00:00<?, ?B/s]"
      ]
     },
     "metadata": {},
     "output_type": "display_data"
    },
    {
     "data": {
      "application/vnd.jupyter.widget-view+json": {
       "model_id": "540ebf9a69ae495abc6428d392687f84",
       "version_major": 2,
       "version_minor": 0
      },
      "text/plain": [
       "aia_lev1_304a_2011_01_01t01_43_56_13z_image_lev1.fits:   0%|          | 0.00/9.82M [00:00<?, ?B/s]"
      ]
     },
     "metadata": {},
     "output_type": "display_data"
    },
    {
     "name": "stdout",
     "output_type": "stream",
     "text": [
      "4/0 files failed to download. Please check `.errors` for details\n"
     ]
    },
    {
     "data": {
      "application/vnd.jupyter.widget-view+json": {
       "model_id": "e63e09c2698b45cea74ea28bc9ca406c",
       "version_major": 2,
       "version_minor": 0
      },
      "text/plain": [
       "Files Downloaded:   0%|          | 0/10 [00:00<?, ?file/s]"
      ]
     },
     "metadata": {},
     "output_type": "display_data"
    },
    {
     "data": {
      "application/vnd.jupyter.widget-view+json": {
       "model_id": "fe00b2995a1647899dfc28cc9678d93c",
       "version_major": 2,
       "version_minor": 0
      },
      "text/plain": [
       "aia_lev1_304a_2011_01_01t01_44_56_14z_image_lev1.fits:   0%|          | 0.00/9.82M [00:00<?, ?B/s]"
      ]
     },
     "metadata": {},
     "output_type": "display_data"
    },
    {
     "data": {
      "application/vnd.jupyter.widget-view+json": {
       "model_id": "8d7be90622ac40c58e055be63e74cd71",
       "version_major": 2,
       "version_minor": 0
      },
      "text/plain": [
       "aia_lev1_304a_2011_01_01t01_44_20_13z_image_lev1.fits:   0%|          | 0.00/9.82M [00:00<?, ?B/s]"
      ]
     },
     "metadata": {},
     "output_type": "display_data"
    },
    {
     "data": {
      "application/vnd.jupyter.widget-view+json": {
       "model_id": "d35ecbd4b40b4d1eb838b4cdcb511a76",
       "version_major": 2,
       "version_minor": 0
      },
      "text/plain": [
       "aia_lev1_304a_2011_01_01t01_44_44_13z_image_lev1.fits:   0%|          | 0.00/9.82M [00:00<?, ?B/s]"
      ]
     },
     "metadata": {},
     "output_type": "display_data"
    },
    {
     "data": {
      "application/vnd.jupyter.widget-view+json": {
       "model_id": "6f18746f1d1d4832a12607982debff1e",
       "version_major": 2,
       "version_minor": 0
      },
      "text/plain": [
       "aia_lev1_304a_2011_01_01t01_45_08_13z_image_lev1.fits:   0%|          | 0.00/9.82M [00:00<?, ?B/s]"
      ]
     },
     "metadata": {},
     "output_type": "display_data"
    },
    {
     "data": {
      "application/vnd.jupyter.widget-view+json": {
       "model_id": "e9145c9300024652a37126d29690112e",
       "version_major": 2,
       "version_minor": 0
      },
      "text/plain": [
       "aia_lev1_304a_2011_01_01t01_45_20_13z_image_lev1.fits:   0%|          | 0.00/9.82M [00:00<?, ?B/s]"
      ]
     },
     "metadata": {},
     "output_type": "display_data"
    },
    {
     "data": {
      "application/vnd.jupyter.widget-view+json": {
       "model_id": "adf6a6cdfd4c4bc1ad9b04de53b8b146",
       "version_major": 2,
       "version_minor": 0
      },
      "text/plain": [
       "aia_lev1_304a_2011_01_01t01_45_32_12z_image_lev1.fits:   0%|          | 0.00/9.82M [00:00<?, ?B/s]"
      ]
     },
     "metadata": {},
     "output_type": "display_data"
    },
    {
     "data": {
      "application/vnd.jupyter.widget-view+json": {
       "model_id": "fe698fa9bf894e779ac44ea9a459af11",
       "version_major": 2,
       "version_minor": 0
      },
      "text/plain": [
       "aia_lev1_304a_2011_01_01t01_45_44_12z_image_lev1.fits:   0%|          | 0.00/9.82M [00:00<?, ?B/s]"
      ]
     },
     "metadata": {},
     "output_type": "display_data"
    },
    {
     "name": "stdout",
     "output_type": "stream",
     "text": [
      "3/0 files failed to download. Please check `.errors` for details\n"
     ]
    },
    {
     "data": {
      "application/vnd.jupyter.widget-view+json": {
       "model_id": "5e0002cb781b471a8c15fcd56170ca03",
       "version_major": 2,
       "version_minor": 0
      },
      "text/plain": [
       "Files Downloaded:   0%|          | 0/10 [00:00<?, ?file/s]"
      ]
     },
     "metadata": {},
     "output_type": "display_data"
    },
    {
     "data": {
      "application/vnd.jupyter.widget-view+json": {
       "model_id": "60cfca0c126a49c2bb84eed032791bb9",
       "version_major": 2,
       "version_minor": 0
      },
      "text/plain": [
       "aia_lev1_304a_2011_01_01t01_46_32_12z_image_lev1.fits:   0%|          | 0.00/9.82M [00:00<?, ?B/s]"
      ]
     },
     "metadata": {},
     "output_type": "display_data"
    },
    {
     "data": {
      "application/vnd.jupyter.widget-view+json": {
       "model_id": "aeda878802dd456791cdbd2e1a510540",
       "version_major": 2,
       "version_minor": 0
      },
      "text/plain": [
       "aia_lev1_304a_2011_01_01t01_46_08_12z_image_lev1.fits:   0%|          | 0.00/9.82M [00:00<?, ?B/s]"
      ]
     },
     "metadata": {},
     "output_type": "display_data"
    },
    {
     "data": {
      "application/vnd.jupyter.widget-view+json": {
       "model_id": "e7df3ef9f6544958a95d558c5b645cde",
       "version_major": 2,
       "version_minor": 0
      },
      "text/plain": [
       "aia_lev1_304a_2011_01_01t01_46_44_13z_image_lev1.fits:   0%|          | 0.00/9.82M [00:00<?, ?B/s]"
      ]
     },
     "metadata": {},
     "output_type": "display_data"
    },
    {
     "data": {
      "application/vnd.jupyter.widget-view+json": {
       "model_id": "34d8f1c6bfda440488be80c161af9323",
       "version_major": 2,
       "version_minor": 0
      },
      "text/plain": [
       "aia_lev1_304a_2011_01_01t01_46_56_12z_image_lev1.fits:   0%|          | 0.00/9.82M [00:00<?, ?B/s]"
      ]
     },
     "metadata": {},
     "output_type": "display_data"
    },
    {
     "data": {
      "application/vnd.jupyter.widget-view+json": {
       "model_id": "320dbd0c450f4439873a3a9307400d9e",
       "version_major": 2,
       "version_minor": 0
      },
      "text/plain": [
       "aia_lev1_304a_2011_01_01t01_47_56_13z_image_lev1.fits:   0%|          | 0.00/9.82M [00:00<?, ?B/s]"
      ]
     },
     "metadata": {},
     "output_type": "display_data"
    },
    {
     "name": "stdout",
     "output_type": "stream",
     "text": [
      "5/0 files failed to download. Please check `.errors` for details\n"
     ]
    },
    {
     "data": {
      "application/vnd.jupyter.widget-view+json": {
       "model_id": "522ab710cdbb4703955600058972ba32",
       "version_major": 2,
       "version_minor": 0
      },
      "text/plain": [
       "Files Downloaded:   0%|          | 0/10 [00:00<?, ?file/s]"
      ]
     },
     "metadata": {},
     "output_type": "display_data"
    },
    {
     "data": {
      "application/vnd.jupyter.widget-view+json": {
       "model_id": "df51bd70e1e344d69987ad2cb3962e97",
       "version_major": 2,
       "version_minor": 0
      },
      "text/plain": [
       "aia_lev1_304a_2011_01_01t01_48_56_12z_image_lev1.fits:   0%|          | 0.00/9.82M [00:00<?, ?B/s]"
      ]
     },
     "metadata": {},
     "output_type": "display_data"
    },
    {
     "data": {
      "application/vnd.jupyter.widget-view+json": {
       "model_id": "0514622d68604ac19bef6659a0587c9e",
       "version_major": 2,
       "version_minor": 0
      },
      "text/plain": [
       "aia_lev1_304a_2011_01_01t01_48_44_13z_image_lev1.fits:   0%|          | 0.00/9.82M [00:00<?, ?B/s]"
      ]
     },
     "metadata": {},
     "output_type": "display_data"
    },
    {
     "data": {
      "application/vnd.jupyter.widget-view+json": {
       "model_id": "ec1dc76b2d4d4159aa8d0346f1f2e17a",
       "version_major": 2,
       "version_minor": 0
      },
      "text/plain": [
       "aia_lev1_304a_2011_01_01t01_48_08_12z_image_lev1.fits:   0%|          | 0.00/9.82M [00:00<?, ?B/s]"
      ]
     },
     "metadata": {},
     "output_type": "display_data"
    },
    {
     "data": {
      "application/vnd.jupyter.widget-view+json": {
       "model_id": "fb84a47b570944158d9f684df52f6f53",
       "version_major": 2,
       "version_minor": 0
      },
      "text/plain": [
       "aia_lev1_304a_2011_01_01t01_48_32_12z_image_lev1.fits:   0%|          | 0.00/9.82M [00:00<?, ?B/s]"
      ]
     },
     "metadata": {},
     "output_type": "display_data"
    },
    {
     "data": {
      "application/vnd.jupyter.widget-view+json": {
       "model_id": "e5f0deeaac524ee1ab4a86d2103bb2ff",
       "version_major": 2,
       "version_minor": 0
      },
      "text/plain": [
       "aia_lev1_304a_2011_01_01t01_49_08_13z_image_lev1.fits:   0%|          | 0.00/9.82M [00:00<?, ?B/s]"
      ]
     },
     "metadata": {},
     "output_type": "display_data"
    },
    {
     "data": {
      "application/vnd.jupyter.widget-view+json": {
       "model_id": "a39ae75b8fe44f6fb38e0b5460f11c00",
       "version_major": 2,
       "version_minor": 0
      },
      "text/plain": [
       "aia_lev1_304a_2011_01_01t01_49_44_12z_image_lev1.fits:   0%|          | 0.00/9.82M [00:00<?, ?B/s]"
      ]
     },
     "metadata": {},
     "output_type": "display_data"
    },
    {
     "data": {
      "application/vnd.jupyter.widget-view+json": {
       "model_id": "7052bbd767d5490dada7276ab240597c",
       "version_major": 2,
       "version_minor": 0
      },
      "text/plain": [
       "aia_lev1_304a_2011_01_01t01_49_56_13z_image_lev1.fits:   0%|          | 0.00/9.82M [00:00<?, ?B/s]"
      ]
     },
     "metadata": {},
     "output_type": "display_data"
    },
    {
     "name": "stdout",
     "output_type": "stream",
     "text": [
      "5/0 files failed to download. Please check `.errors` for details\n"
     ]
    },
    {
     "data": {
      "application/vnd.jupyter.widget-view+json": {
       "model_id": "a2ed69fcb4474ca7a8beef5a526d1c08",
       "version_major": 2,
       "version_minor": 0
      },
      "text/plain": [
       "Files Downloaded:   0%|          | 0/10 [00:00<?, ?file/s]"
      ]
     },
     "metadata": {},
     "output_type": "display_data"
    },
    {
     "data": {
      "application/vnd.jupyter.widget-view+json": {
       "model_id": "7b048503d36449608e5607f0fb3580c6",
       "version_major": 2,
       "version_minor": 0
      },
      "text/plain": [
       "aia_lev1_304a_2011_01_01t01_51_32_12z_image_lev1.fits:   0%|          | 0.00/9.82M [00:00<?, ?B/s]"
      ]
     },
     "metadata": {},
     "output_type": "display_data"
    },
    {
     "data": {
      "application/vnd.jupyter.widget-view+json": {
       "model_id": "ecf9aae435ea43e59c9eea9a724dfb5d",
       "version_major": 2,
       "version_minor": 0
      },
      "text/plain": [
       "aia_lev1_304a_2011_01_01t01_51_08_13z_image_lev1.fits:   0%|          | 0.00/9.82M [00:00<?, ?B/s]"
      ]
     },
     "metadata": {},
     "output_type": "display_data"
    },
    {
     "data": {
      "application/vnd.jupyter.widget-view+json": {
       "model_id": "378cc58a8e034d0aa5561dc0f78f2b20",
       "version_major": 2,
       "version_minor": 0
      },
      "text/plain": [
       "aia_lev1_304a_2011_01_01t01_51_56_13z_image_lev1.fits:   0%|          | 0.00/9.82M [00:00<?, ?B/s]"
      ]
     },
     "metadata": {},
     "output_type": "display_data"
    },
    {
     "data": {
      "application/vnd.jupyter.widget-view+json": {
       "model_id": "08f779514b544f4893d4fac500599f45",
       "version_major": 2,
       "version_minor": 0
      },
      "text/plain": [
       "aia_lev1_304a_2011_01_01t01_51_20_13z_image_lev1.fits:   0%|          | 0.00/9.82M [00:00<?, ?B/s]"
      ]
     },
     "metadata": {},
     "output_type": "display_data"
    },
    {
     "name": "stdout",
     "output_type": "stream",
     "text": [
      "6/0 files failed to download. Please check `.errors` for details\n"
     ]
    },
    {
     "data": {
      "application/vnd.jupyter.widget-view+json": {
       "model_id": "63e26daec97d4238bd49d5015c7918c9",
       "version_major": 2,
       "version_minor": 0
      },
      "text/plain": [
       "Files Downloaded:   0%|          | 0/10 [00:00<?, ?file/s]"
      ]
     },
     "metadata": {},
     "output_type": "display_data"
    },
    {
     "data": {
      "application/vnd.jupyter.widget-view+json": {
       "model_id": "0114f1a25b5148729d94d014e473a154",
       "version_major": 2,
       "version_minor": 0
      },
      "text/plain": [
       "aia_lev1_304a_2011_01_01t01_52_44_13z_image_lev1.fits:   0%|          | 0.00/9.82M [00:00<?, ?B/s]"
      ]
     },
     "metadata": {},
     "output_type": "display_data"
    },
    {
     "data": {
      "application/vnd.jupyter.widget-view+json": {
       "model_id": "b33e46d4479e46ebb0abc5eaad02084d",
       "version_major": 2,
       "version_minor": 0
      },
      "text/plain": [
       "aia_lev1_304a_2011_01_01t01_52_32_12z_image_lev1.fits:   0%|          | 0.00/9.82M [00:00<?, ?B/s]"
      ]
     },
     "metadata": {},
     "output_type": "display_data"
    },
    {
     "data": {
      "application/vnd.jupyter.widget-view+json": {
       "model_id": "5a938e33d27643e0ae473ac13cc73cb9",
       "version_major": 2,
       "version_minor": 0
      },
      "text/plain": [
       "aia_lev1_304a_2011_01_01t01_52_20_13z_image_lev1.fits:   0%|          | 0.00/9.82M [00:00<?, ?B/s]"
      ]
     },
     "metadata": {},
     "output_type": "display_data"
    },
    {
     "data": {
      "application/vnd.jupyter.widget-view+json": {
       "model_id": "f227015a009f417193d0e974a3cc9057",
       "version_major": 2,
       "version_minor": 0
      },
      "text/plain": [
       "aia_lev1_304a_2011_01_01t01_52_56_12z_image_lev1.fits:   0%|          | 0.00/9.82M [00:00<?, ?B/s]"
      ]
     },
     "metadata": {},
     "output_type": "display_data"
    },
    {
     "data": {
      "application/vnd.jupyter.widget-view+json": {
       "model_id": "104c5774756f4c9abc075a6a637414c0",
       "version_major": 2,
       "version_minor": 0
      },
      "text/plain": [
       "aia_lev1_304a_2011_01_01t01_52_08_12z_image_lev1.fits:   0%|          | 0.00/9.82M [00:00<?, ?B/s]"
      ]
     },
     "metadata": {},
     "output_type": "display_data"
    },
    {
     "data": {
      "application/vnd.jupyter.widget-view+json": {
       "model_id": "8c50d13f046445c6b62a96e4b5cb89cd",
       "version_major": 2,
       "version_minor": 0
      },
      "text/plain": [
       "aia_lev1_304a_2011_01_01t01_53_08_13z_image_lev1.fits:   0%|          | 0.00/9.82M [00:00<?, ?B/s]"
      ]
     },
     "metadata": {},
     "output_type": "display_data"
    },
    {
     "data": {
      "application/vnd.jupyter.widget-view+json": {
       "model_id": "7d85d9c08a1f44a5986fad836067fb9f",
       "version_major": 2,
       "version_minor": 0
      },
      "text/plain": [
       "aia_lev1_304a_2011_01_01t01_53_20_13z_image_lev1.fits:   0%|          | 0.00/9.82M [00:00<?, ?B/s]"
      ]
     },
     "metadata": {},
     "output_type": "display_data"
    },
    {
     "data": {
      "application/vnd.jupyter.widget-view+json": {
       "model_id": "c802d289d0f64818b4bf856b9421ec6b",
       "version_major": 2,
       "version_minor": 0
      },
      "text/plain": [
       "aia_lev1_304a_2011_01_01t01_53_32_12z_image_lev1.fits:   0%|          | 0.00/9.82M [00:00<?, ?B/s]"
      ]
     },
     "metadata": {},
     "output_type": "display_data"
    },
    {
     "data": {
      "application/vnd.jupyter.widget-view+json": {
       "model_id": "1069d01e2b5c4273a5eac26baf99bcdc",
       "version_major": 2,
       "version_minor": 0
      },
      "text/plain": [
       "aia_lev1_304a_2011_01_01t01_53_44_12z_image_lev1.fits:   0%|          | 0.00/9.82M [00:00<?, ?B/s]"
      ]
     },
     "metadata": {},
     "output_type": "display_data"
    },
    {
     "data": {
      "application/vnd.jupyter.widget-view+json": {
       "model_id": "07f55d2e5aa145cab431f21d0b5006ae",
       "version_major": 2,
       "version_minor": 0
      },
      "text/plain": [
       "aia_lev1_304a_2011_01_01t01_53_56_13z_image_lev1.fits:   0%|          | 0.00/9.82M [00:00<?, ?B/s]"
      ]
     },
     "metadata": {},
     "output_type": "display_data"
    },
    {
     "data": {
      "application/vnd.jupyter.widget-view+json": {
       "model_id": "3629fb020cbf4778a9f34b6151c10446",
       "version_major": 2,
       "version_minor": 0
      },
      "text/plain": [
       "Files Downloaded:   0%|          | 0/10 [00:00<?, ?file/s]"
      ]
     },
     "metadata": {},
     "output_type": "display_data"
    },
    {
     "data": {
      "application/vnd.jupyter.widget-view+json": {
       "model_id": "6f45d8a9aeaa4f5f9235bcd807c63a23",
       "version_major": 2,
       "version_minor": 0
      },
      "text/plain": [
       "aia_lev1_304a_2011_01_01t01_55_08_13z_image_lev1.fits:   0%|          | 0.00/9.82M [00:00<?, ?B/s]"
      ]
     },
     "metadata": {},
     "output_type": "display_data"
    },
    {
     "data": {
      "application/vnd.jupyter.widget-view+json": {
       "model_id": "afa76e8983ad4bd78f01e28ee35d8142",
       "version_major": 2,
       "version_minor": 0
      },
      "text/plain": [
       "aia_lev1_304a_2011_01_01t01_55_20_13z_image_lev1.fits:   0%|          | 0.00/9.82M [00:00<?, ?B/s]"
      ]
     },
     "metadata": {},
     "output_type": "display_data"
    },
    {
     "data": {
      "application/vnd.jupyter.widget-view+json": {
       "model_id": "715f7ef96e0345aa84e657fe3f83649b",
       "version_major": 2,
       "version_minor": 0
      },
      "text/plain": [
       "aia_lev1_304a_2011_01_01t01_55_44_12z_image_lev1.fits:   0%|          | 0.00/9.82M [00:00<?, ?B/s]"
      ]
     },
     "metadata": {},
     "output_type": "display_data"
    },
    {
     "data": {
      "application/vnd.jupyter.widget-view+json": {
       "model_id": "be6f8a3ab5be4658aabe8387a379718f",
       "version_major": 2,
       "version_minor": 0
      },
      "text/plain": [
       "aia_lev1_304a_2011_01_01t01_54_32_12z_image_lev1.fits:   0%|          | 0.00/9.82M [00:00<?, ?B/s]"
      ]
     },
     "metadata": {},
     "output_type": "display_data"
    },
    {
     "data": {
      "application/vnd.jupyter.widget-view+json": {
       "model_id": "aaf1ab05926a4aaebd3f7e9eb6285788",
       "version_major": 2,
       "version_minor": 0
      },
      "text/plain": [
       "aia_lev1_304a_2011_01_01t01_55_56_13z_image_lev1.fits:   0%|          | 0.00/9.82M [00:00<?, ?B/s]"
      ]
     },
     "metadata": {},
     "output_type": "display_data"
    },
    {
     "name": "stdout",
     "output_type": "stream",
     "text": [
      "5/0 files failed to download. Please check `.errors` for details\n"
     ]
    },
    {
     "data": {
      "application/vnd.jupyter.widget-view+json": {
       "model_id": "94ee70437ea34884855bb0f28be96d6f",
       "version_major": 2,
       "version_minor": 0
      },
      "text/plain": [
       "Files Downloaded:   0%|          | 0/10 [00:00<?, ?file/s]"
      ]
     },
     "metadata": {},
     "output_type": "display_data"
    },
    {
     "data": {
      "application/vnd.jupyter.widget-view+json": {
       "model_id": "903e33b34b9144fdaa78870b158922e3",
       "version_major": 2,
       "version_minor": 0
      },
      "text/plain": [
       "aia_lev1_304a_2011_01_01t01_56_44_13z_image_lev1.fits:   0%|          | 0.00/9.82M [00:00<?, ?B/s]"
      ]
     },
     "metadata": {},
     "output_type": "display_data"
    },
    {
     "data": {
      "application/vnd.jupyter.widget-view+json": {
       "model_id": "c1d4456824444718b755e80a7a2191ff",
       "version_major": 2,
       "version_minor": 0
      },
      "text/plain": [
       "aia_lev1_304a_2011_01_01t01_57_08_13z_image_lev1.fits:   0%|          | 0.00/9.82M [00:00<?, ?B/s]"
      ]
     },
     "metadata": {},
     "output_type": "display_data"
    },
    {
     "data": {
      "application/vnd.jupyter.widget-view+json": {
       "model_id": "30d02eb97f534f879c9392b0ffc6e140",
       "version_major": 2,
       "version_minor": 0
      },
      "text/plain": [
       "aia_lev1_304a_2011_01_01t01_57_20_13z_image_lev1.fits:   0%|          | 0.00/9.82M [00:00<?, ?B/s]"
      ]
     },
     "metadata": {},
     "output_type": "display_data"
    },
    {
     "data": {
      "application/vnd.jupyter.widget-view+json": {
       "model_id": "9655e4011d674b2bb3e2f38469959ee3",
       "version_major": 2,
       "version_minor": 0
      },
      "text/plain": [
       "aia_lev1_304a_2011_01_01t01_57_32_12z_image_lev1.fits:   0%|          | 0.00/9.82M [00:00<?, ?B/s]"
      ]
     },
     "metadata": {},
     "output_type": "display_data"
    },
    {
     "data": {
      "application/vnd.jupyter.widget-view+json": {
       "model_id": "e741584e744f45b0b80b191818568588",
       "version_major": 2,
       "version_minor": 0
      },
      "text/plain": [
       "aia_lev1_304a_2011_01_01t01_57_44_12z_image_lev1.fits:   0%|          | 0.00/9.82M [00:00<?, ?B/s]"
      ]
     },
     "metadata": {},
     "output_type": "display_data"
    },
    {
     "name": "stdout",
     "output_type": "stream",
     "text": [
      "5/0 files failed to download. Please check `.errors` for details\n"
     ]
    },
    {
     "data": {
      "application/vnd.jupyter.widget-view+json": {
       "model_id": "b9a29e7f257144ca88fbd2afe8259582",
       "version_major": 2,
       "version_minor": 0
      },
      "text/plain": [
       "Files Downloaded:   0%|          | 0/10 [00:00<?, ?file/s]"
      ]
     },
     "metadata": {},
     "output_type": "display_data"
    },
    {
     "data": {
      "application/vnd.jupyter.widget-view+json": {
       "model_id": "b03e2dc378104ac5a67dd81ee4fbf9f3",
       "version_major": 2,
       "version_minor": 0
      },
      "text/plain": [
       "aia_lev1_304a_2011_01_01t01_58_56_12z_image_lev1.fits:   0%|          | 0.00/9.82M [00:00<?, ?B/s]"
      ]
     },
     "metadata": {},
     "output_type": "display_data"
    },
    {
     "data": {
      "application/vnd.jupyter.widget-view+json": {
       "model_id": "48af2138f8a4428f8702cc945a10bb8c",
       "version_major": 2,
       "version_minor": 0
      },
      "text/plain": [
       "aia_lev1_304a_2011_01_01t01_58_44_13z_image_lev1.fits:   0%|          | 0.00/9.82M [00:00<?, ?B/s]"
      ]
     },
     "metadata": {},
     "output_type": "display_data"
    },
    {
     "data": {
      "application/vnd.jupyter.widget-view+json": {
       "model_id": "7137d22bbda34db7b62230bca13436fa",
       "version_major": 2,
       "version_minor": 0
      },
      "text/plain": [
       "aia_lev1_304a_2011_01_01t01_58_32_14z_image_lev1.fits:   0%|          | 0.00/9.82M [00:00<?, ?B/s]"
      ]
     },
     "metadata": {},
     "output_type": "display_data"
    },
    {
     "data": {
      "application/vnd.jupyter.widget-view+json": {
       "model_id": "c7ddd93b486a4772b878496dcf1af0fa",
       "version_major": 2,
       "version_minor": 0
      },
      "text/plain": [
       "aia_lev1_304a_2011_01_01t01_58_20_13z_image_lev1.fits:   0%|          | 0.00/9.82M [00:00<?, ?B/s]"
      ]
     },
     "metadata": {},
     "output_type": "display_data"
    },
    {
     "data": {
      "application/vnd.jupyter.widget-view+json": {
       "model_id": "1ecee16fc06b4f61868cb32a6e60fe7b",
       "version_major": 2,
       "version_minor": 0
      },
      "text/plain": [
       "aia_lev1_304a_2011_01_01t01_59_08_13z_image_lev1.fits:   0%|          | 0.00/9.82M [00:00<?, ?B/s]"
      ]
     },
     "metadata": {},
     "output_type": "display_data"
    },
    {
     "data": {
      "application/vnd.jupyter.widget-view+json": {
       "model_id": "0ca166399a8b44258a0673374a547b67",
       "version_major": 2,
       "version_minor": 0
      },
      "text/plain": [
       "aia_lev1_304a_2011_01_01t01_59_20_13z_image_lev1.fits:   0%|          | 0.00/9.82M [00:00<?, ?B/s]"
      ]
     },
     "metadata": {},
     "output_type": "display_data"
    },
    {
     "data": {
      "application/vnd.jupyter.widget-view+json": {
       "model_id": "3ba00d002f104089915a041f505674d7",
       "version_major": 2,
       "version_minor": 0
      },
      "text/plain": [
       "aia_lev1_304a_2011_01_01t01_59_32_12z_image_lev1.fits:   0%|          | 0.00/9.82M [00:00<?, ?B/s]"
      ]
     },
     "metadata": {},
     "output_type": "display_data"
    },
    {
     "data": {
      "application/vnd.jupyter.widget-view+json": {
       "model_id": "3125faf354cf4b31b87e56d36ddebc82",
       "version_major": 2,
       "version_minor": 0
      },
      "text/plain": [
       "aia_lev1_304a_2011_01_01t01_59_44_12z_image_lev1.fits:   0%|          | 0.00/9.82M [00:00<?, ?B/s]"
      ]
     },
     "metadata": {},
     "output_type": "display_data"
    },
    {
     "name": "stdout",
     "output_type": "stream",
     "text": [
      "2/0 files failed to download. Please check `.errors` for details\n"
     ]
    },
    {
     "data": {
      "application/vnd.jupyter.widget-view+json": {
       "model_id": "956d3ff964a849258b256c778365113d",
       "version_major": 2,
       "version_minor": 0
      },
      "text/plain": [
       "Files Downloaded:   0%|          | 0/10 [00:00<?, ?file/s]"
      ]
     },
     "metadata": {},
     "output_type": "display_data"
    },
    {
     "data": {
      "application/vnd.jupyter.widget-view+json": {
       "model_id": "4ba2a0bb79c34b7aa40b859de7c555b3",
       "version_major": 2,
       "version_minor": 0
      },
      "text/plain": [
       "aia_lev1_304a_2011_01_01t02_00_08_12z_image_lev1.fits:   0%|          | 0.00/9.82M [00:00<?, ?B/s]"
      ]
     },
     "metadata": {},
     "output_type": "display_data"
    },
    {
     "data": {
      "application/vnd.jupyter.widget-view+json": {
       "model_id": "9c35d5ff65ca4ee0ac5295b18a9cdd3c",
       "version_major": 2,
       "version_minor": 0
      },
      "text/plain": [
       "aia_lev1_304a_2011_01_01t02_00_32_14z_image_lev1.fits:   0%|          | 0.00/9.82M [00:00<?, ?B/s]"
      ]
     },
     "metadata": {},
     "output_type": "display_data"
    },
    {
     "data": {
      "application/vnd.jupyter.widget-view+json": {
       "model_id": "55e9915c18f8494ca2b97c114a799cb8",
       "version_major": 2,
       "version_minor": 0
      },
      "text/plain": [
       "aia_lev1_304a_2011_01_01t02_00_20_13z_image_lev1.fits:   0%|          | 0.00/9.82M [00:00<?, ?B/s]"
      ]
     },
     "metadata": {},
     "output_type": "display_data"
    },
    {
     "data": {
      "application/vnd.jupyter.widget-view+json": {
       "model_id": "fb81290cdc9e4644ab6d86f11d509706",
       "version_major": 2,
       "version_minor": 0
      },
      "text/plain": [
       "aia_lev1_304a_2011_01_01t02_00_56_12z_image_lev1.fits:   0%|          | 0.00/9.82M [00:00<?, ?B/s]"
      ]
     },
     "metadata": {},
     "output_type": "display_data"
    },
    {
     "data": {
      "application/vnd.jupyter.widget-view+json": {
       "model_id": "1581f29dfc024b8c91164eceb9a4e605",
       "version_major": 2,
       "version_minor": 0
      },
      "text/plain": [
       "aia_lev1_304a_2011_01_01t02_00_44_13z_image_lev1.fits:   0%|          | 0.00/9.82M [00:00<?, ?B/s]"
      ]
     },
     "metadata": {},
     "output_type": "display_data"
    },
    {
     "data": {
      "application/vnd.jupyter.widget-view+json": {
       "model_id": "e7da166012ae4effa547cec3b0b628f1",
       "version_major": 2,
       "version_minor": 0
      },
      "text/plain": [
       "aia_lev1_304a_2011_01_01t02_01_08_13z_image_lev1.fits:   0%|          | 0.00/9.82M [00:00<?, ?B/s]"
      ]
     },
     "metadata": {},
     "output_type": "display_data"
    },
    {
     "data": {
      "application/vnd.jupyter.widget-view+json": {
       "model_id": "cdc93507a74b4707b9d7f1dac885fad1",
       "version_major": 2,
       "version_minor": 0
      },
      "text/plain": [
       "aia_lev1_304a_2011_01_01t02_01_20_13z_image_lev1.fits:   0%|          | 0.00/9.82M [00:00<?, ?B/s]"
      ]
     },
     "metadata": {},
     "output_type": "display_data"
    },
    {
     "data": {
      "application/vnd.jupyter.widget-view+json": {
       "model_id": "543732be2ec6498bb4f112aadfa9d1aa",
       "version_major": 2,
       "version_minor": 0
      },
      "text/plain": [
       "aia_lev1_304a_2011_01_01t02_01_32_12z_image_lev1.fits:   0%|          | 0.00/9.82M [00:00<?, ?B/s]"
      ]
     },
     "metadata": {},
     "output_type": "display_data"
    },
    {
     "data": {
      "application/vnd.jupyter.widget-view+json": {
       "model_id": "46edccd28ca84f2fa471c7ee7ed71414",
       "version_major": 2,
       "version_minor": 0
      },
      "text/plain": [
       "aia_lev1_304a_2011_01_01t02_01_56_13z_image_lev1.fits:   0%|          | 0.00/9.82M [00:00<?, ?B/s]"
      ]
     },
     "metadata": {},
     "output_type": "display_data"
    },
    {
     "name": "stdout",
     "output_type": "stream",
     "text": [
      "1/0 files failed to download. Please check `.errors` for details\n"
     ]
    },
    {
     "data": {
      "application/vnd.jupyter.widget-view+json": {
       "model_id": "7d94d64503084ed5be33d56427470163",
       "version_major": 2,
       "version_minor": 0
      },
      "text/plain": [
       "Files Downloaded:   0%|          | 0/10 [00:00<?, ?file/s]"
      ]
     },
     "metadata": {},
     "output_type": "display_data"
    },
    {
     "data": {
      "application/vnd.jupyter.widget-view+json": {
       "model_id": "14b1626b40ba463ba99c2635f4fceede",
       "version_major": 2,
       "version_minor": 0
      },
      "text/plain": [
       "aia_lev1_304a_2011_01_01t02_02_20_13z_image_lev1.fits:   0%|          | 0.00/9.82M [00:00<?, ?B/s]"
      ]
     },
     "metadata": {},
     "output_type": "display_data"
    },
    {
     "data": {
      "application/vnd.jupyter.widget-view+json": {
       "model_id": "9ae312fe9d5b4334af5a0df7c7940472",
       "version_major": 2,
       "version_minor": 0
      },
      "text/plain": [
       "aia_lev1_304a_2011_01_01t02_02_08_13z_image_lev1.fits:   0%|          | 0.00/9.82M [00:00<?, ?B/s]"
      ]
     },
     "metadata": {},
     "output_type": "display_data"
    },
    {
     "data": {
      "application/vnd.jupyter.widget-view+json": {
       "model_id": "9aed4ee10e0f4d44b3448d116bb5ec59",
       "version_major": 2,
       "version_minor": 0
      },
      "text/plain": [
       "aia_lev1_304a_2011_01_01t02_02_44_13z_image_lev1.fits:   0%|          | 0.00/9.82M [00:00<?, ?B/s]"
      ]
     },
     "metadata": {},
     "output_type": "display_data"
    },
    {
     "data": {
      "application/vnd.jupyter.widget-view+json": {
       "model_id": "e4aeb4294b584f61ba7864bba21cec99",
       "version_major": 2,
       "version_minor": 0
      },
      "text/plain": [
       "aia_lev1_304a_2011_01_01t02_02_32_12z_image_lev1.fits:   0%|          | 0.00/9.82M [00:00<?, ?B/s]"
      ]
     },
     "metadata": {},
     "output_type": "display_data"
    },
    {
     "data": {
      "application/vnd.jupyter.widget-view+json": {
       "model_id": "4e1d89ee5a204c379d81256bfb97c44a",
       "version_major": 2,
       "version_minor": 0
      },
      "text/plain": [
       "aia_lev1_304a_2011_01_01t02_03_32_13z_image_lev1.fits:   0%|          | 0.00/9.82M [00:00<?, ?B/s]"
      ]
     },
     "metadata": {},
     "output_type": "display_data"
    },
    {
     "data": {
      "application/vnd.jupyter.widget-view+json": {
       "model_id": "d32e3739015d4b2a9060a961d98e0691",
       "version_major": 2,
       "version_minor": 0
      },
      "text/plain": [
       "aia_lev1_304a_2011_01_01t02_03_44_12z_image_lev1.fits:   0%|          | 0.00/9.82M [00:00<?, ?B/s]"
      ]
     },
     "metadata": {},
     "output_type": "display_data"
    },
    {
     "data": {
      "application/vnd.jupyter.widget-view+json": {
       "model_id": "3c39ae7e246e4bc1890b167906fc5bdf",
       "version_major": 2,
       "version_minor": 0
      },
      "text/plain": [
       "aia_lev1_304a_2011_01_01t02_03_56_13z_image_lev1.fits:   0%|          | 0.00/9.82M [00:00<?, ?B/s]"
      ]
     },
     "metadata": {},
     "output_type": "display_data"
    },
    {
     "name": "stdout",
     "output_type": "stream",
     "text": [
      "3/0 files failed to download. Please check `.errors` for details\n"
     ]
    },
    {
     "data": {
      "application/vnd.jupyter.widget-view+json": {
       "model_id": "1bd18e7d863d4deeac3706dd62e2ced1",
       "version_major": 2,
       "version_minor": 0
      },
      "text/plain": [
       "Files Downloaded:   0%|          | 0/10 [00:00<?, ?file/s]"
      ]
     },
     "metadata": {},
     "output_type": "display_data"
    },
    {
     "data": {
      "application/vnd.jupyter.widget-view+json": {
       "model_id": "d4267c68b02f4db185f66609f3eefc3e",
       "version_major": 2,
       "version_minor": 0
      },
      "text/plain": [
       "aia_lev1_304a_2011_01_01t02_04_32_12z_image_lev1.fits:   0%|          | 0.00/9.82M [00:00<?, ?B/s]"
      ]
     },
     "metadata": {},
     "output_type": "display_data"
    },
    {
     "data": {
      "application/vnd.jupyter.widget-view+json": {
       "model_id": "72595dc661ed43c1a98076959ce72299",
       "version_major": 2,
       "version_minor": 0
      },
      "text/plain": [
       "aia_lev1_304a_2011_01_01t02_04_44_13z_image_lev1.fits:   0%|          | 0.00/9.82M [00:00<?, ?B/s]"
      ]
     },
     "metadata": {},
     "output_type": "display_data"
    },
    {
     "data": {
      "application/vnd.jupyter.widget-view+json": {
       "model_id": "bb65382fb254465ca8a4cd547203ed0f",
       "version_major": 2,
       "version_minor": 0
      },
      "text/plain": [
       "aia_lev1_304a_2011_01_01t02_04_20_13z_image_lev1.fits:   0%|          | 0.00/9.82M [00:00<?, ?B/s]"
      ]
     },
     "metadata": {},
     "output_type": "display_data"
    },
    {
     "data": {
      "application/vnd.jupyter.widget-view+json": {
       "model_id": "6daf2e47ddfb403ea4538b43ff997b92",
       "version_major": 2,
       "version_minor": 0
      },
      "text/plain": [
       "aia_lev1_304a_2011_01_01t02_04_08_12z_image_lev1.fits:   0%|          | 0.00/9.82M [00:00<?, ?B/s]"
      ]
     },
     "metadata": {},
     "output_type": "display_data"
    },
    {
     "data": {
      "application/vnd.jupyter.widget-view+json": {
       "model_id": "b55cc4c0cc624712af6ef292a627a77c",
       "version_major": 2,
       "version_minor": 0
      },
      "text/plain": [
       "aia_lev1_304a_2011_01_01t02_04_56_12z_image_lev1.fits:   0%|          | 0.00/9.82M [00:00<?, ?B/s]"
      ]
     },
     "metadata": {},
     "output_type": "display_data"
    },
    {
     "data": {
      "application/vnd.jupyter.widget-view+json": {
       "model_id": "1283e505656840c883e0cb1d7abab5ac",
       "version_major": 2,
       "version_minor": 0
      },
      "text/plain": [
       "aia_lev1_304a_2011_01_01t02_05_20_13z_image_lev1.fits:   0%|          | 0.00/9.82M [00:00<?, ?B/s]"
      ]
     },
     "metadata": {},
     "output_type": "display_data"
    },
    {
     "data": {
      "application/vnd.jupyter.widget-view+json": {
       "model_id": "d0a2fca9470a42dcb47d515463ab3557",
       "version_major": 2,
       "version_minor": 0
      },
      "text/plain": [
       "aia_lev1_304a_2011_01_01t02_05_32_12z_image_lev1.fits:   0%|          | 0.00/9.82M [00:00<?, ?B/s]"
      ]
     },
     "metadata": {},
     "output_type": "display_data"
    },
    {
     "data": {
      "application/vnd.jupyter.widget-view+json": {
       "model_id": "4cbfde92112b43bab5e9bb65d993b704",
       "version_major": 2,
       "version_minor": 0
      },
      "text/plain": [
       "aia_lev1_304a_2011_01_01t02_05_44_12z_image_lev1.fits:   0%|          | 0.00/9.82M [00:00<?, ?B/s]"
      ]
     },
     "metadata": {},
     "output_type": "display_data"
    },
    {
     "data": {
      "application/vnd.jupyter.widget-view+json": {
       "model_id": "81268beeeed54ca693f02527dda7766e",
       "version_major": 2,
       "version_minor": 0
      },
      "text/plain": [
       "aia_lev1_304a_2011_01_01t02_05_56_13z_image_lev1.fits:   0%|          | 0.00/9.82M [00:00<?, ?B/s]"
      ]
     },
     "metadata": {},
     "output_type": "display_data"
    },
    {
     "name": "stdout",
     "output_type": "stream",
     "text": [
      "3/0 files failed to download. Please check `.errors` for details\n"
     ]
    },
    {
     "data": {
      "application/vnd.jupyter.widget-view+json": {
       "model_id": "a22961bbc1fb462099cebd0ad4e09177",
       "version_major": 2,
       "version_minor": 0
      },
      "text/plain": [
       "Files Downloaded:   0%|          | 0/10 [00:00<?, ?file/s]"
      ]
     },
     "metadata": {},
     "output_type": "display_data"
    },
    {
     "data": {
      "application/vnd.jupyter.widget-view+json": {
       "model_id": "e73a5482c92f47148cf4ff84990e47ab",
       "version_major": 2,
       "version_minor": 0
      },
      "text/plain": [
       "aia_lev1_304a_2011_01_01t02_06_56_12z_image_lev1.fits:   0%|          | 0.00/9.82M [00:00<?, ?B/s]"
      ]
     },
     "metadata": {},
     "output_type": "display_data"
    },
    {
     "data": {
      "application/vnd.jupyter.widget-view+json": {
       "model_id": "4c09dde47aa54f3cac852fc58007147e",
       "version_major": 2,
       "version_minor": 0
      },
      "text/plain": [
       "aia_lev1_304a_2011_01_01t02_06_08_12z_image_lev1.fits:   0%|          | 0.00/9.82M [00:00<?, ?B/s]"
      ]
     },
     "metadata": {},
     "output_type": "display_data"
    },
    {
     "data": {
      "application/vnd.jupyter.widget-view+json": {
       "model_id": "fc3fa4ae9ac4432084802de3f22fc8ea",
       "version_major": 2,
       "version_minor": 0
      },
      "text/plain": [
       "aia_lev1_304a_2011_01_01t02_06_44_13z_image_lev1.fits:   0%|          | 0.00/9.82M [00:00<?, ?B/s]"
      ]
     },
     "metadata": {},
     "output_type": "display_data"
    },
    {
     "data": {
      "application/vnd.jupyter.widget-view+json": {
       "model_id": "cecee829bacf4812b9c19808970b0e66",
       "version_major": 2,
       "version_minor": 0
      },
      "text/plain": [
       "aia_lev1_304a_2011_01_01t02_07_08_13z_image_lev1.fits:   0%|          | 0.00/9.82M [00:00<?, ?B/s]"
      ]
     },
     "metadata": {},
     "output_type": "display_data"
    },
    {
     "data": {
      "application/vnd.jupyter.widget-view+json": {
       "model_id": "b8f22a7648014ff3b769ec4894d86892",
       "version_major": 2,
       "version_minor": 0
      },
      "text/plain": [
       "aia_lev1_304a_2011_01_01t02_07_20_13z_image_lev1.fits:   0%|          | 0.00/9.82M [00:00<?, ?B/s]"
      ]
     },
     "metadata": {},
     "output_type": "display_data"
    },
    {
     "data": {
      "application/vnd.jupyter.widget-view+json": {
       "model_id": "d3aa4624ccc74c099d4e23580b919439",
       "version_major": 2,
       "version_minor": 0
      },
      "text/plain": [
       "aia_lev1_304a_2011_01_01t02_07_32_12z_image_lev1.fits:   0%|          | 0.00/9.82M [00:00<?, ?B/s]"
      ]
     },
     "metadata": {},
     "output_type": "display_data"
    },
    {
     "data": {
      "application/vnd.jupyter.widget-view+json": {
       "model_id": "70f1adf80c2d4eb0832969e419fcf2bd",
       "version_major": 2,
       "version_minor": 0
      },
      "text/plain": [
       "aia_lev1_304a_2011_01_01t02_07_56_13z_image_lev1.fits:   0%|          | 0.00/9.82M [00:00<?, ?B/s]"
      ]
     },
     "metadata": {},
     "output_type": "display_data"
    },
    {
     "data": {
      "application/vnd.jupyter.widget-view+json": {
       "model_id": "341764673597498192c1455a42cf5c6d",
       "version_major": 2,
       "version_minor": 0
      },
      "text/plain": [
       "aia_lev1_304a_2011_01_01t02_07_44_12z_image_lev1.fits:   0%|          | 0.00/9.82M [00:00<?, ?B/s]"
      ]
     },
     "metadata": {},
     "output_type": "display_data"
    },
    {
     "name": "stdout",
     "output_type": "stream",
     "text": [
      "2/0 files failed to download. Please check `.errors` for details\n"
     ]
    },
    {
     "data": {
      "application/vnd.jupyter.widget-view+json": {
       "model_id": "e92325d42ed440dcb566d2a1ebe43e66",
       "version_major": 2,
       "version_minor": 0
      },
      "text/plain": [
       "Files Downloaded:   0%|          | 0/10 [00:00<?, ?file/s]"
      ]
     },
     "metadata": {},
     "output_type": "display_data"
    },
    {
     "data": {
      "application/vnd.jupyter.widget-view+json": {
       "model_id": "ae95bfedc4af4150899a93ec7b3e7784",
       "version_major": 2,
       "version_minor": 0
      },
      "text/plain": [
       "aia_lev1_304a_2011_01_01t02_08_08_12z_image_lev1.fits:   0%|          | 0.00/9.82M [00:00<?, ?B/s]"
      ]
     },
     "metadata": {},
     "output_type": "display_data"
    },
    {
     "data": {
      "application/vnd.jupyter.widget-view+json": {
       "model_id": "1191464fe0ba4d39a3a95dd9bd0ac467",
       "version_major": 2,
       "version_minor": 0
      },
      "text/plain": [
       "aia_lev1_304a_2011_01_01t02_08_44_13z_image_lev1.fits:   0%|          | 0.00/9.82M [00:00<?, ?B/s]"
      ]
     },
     "metadata": {},
     "output_type": "display_data"
    },
    {
     "data": {
      "application/vnd.jupyter.widget-view+json": {
       "model_id": "0838af4f9b12442a94c3046ec746b80a",
       "version_major": 2,
       "version_minor": 0
      },
      "text/plain": [
       "aia_lev1_304a_2011_01_01t02_08_32_12z_image_lev1.fits:   0%|          | 0.00/9.82M [00:00<?, ?B/s]"
      ]
     },
     "metadata": {},
     "output_type": "display_data"
    },
    {
     "data": {
      "application/vnd.jupyter.widget-view+json": {
       "model_id": "cab9497ceb0a4147839b55ab802de09e",
       "version_major": 2,
       "version_minor": 0
      },
      "text/plain": [
       "aia_lev1_304a_2011_01_01t02_08_20_13z_image_lev1.fits:   0%|          | 0.00/9.82M [00:00<?, ?B/s]"
      ]
     },
     "metadata": {},
     "output_type": "display_data"
    },
    {
     "data": {
      "application/vnd.jupyter.widget-view+json": {
       "model_id": "3fdc89df0ba6431a9fa802c8d3bdcc8e",
       "version_major": 2,
       "version_minor": 0
      },
      "text/plain": [
       "aia_lev1_304a_2011_01_01t02_08_56_12z_image_lev1.fits:   0%|          | 0.00/9.82M [00:00<?, ?B/s]"
      ]
     },
     "metadata": {},
     "output_type": "display_data"
    },
    {
     "data": {
      "application/vnd.jupyter.widget-view+json": {
       "model_id": "ccbf3915d9d34482bda958b793d4519b",
       "version_major": 2,
       "version_minor": 0
      },
      "text/plain": [
       "aia_lev1_304a_2011_01_01t02_09_08_13z_image_lev1.fits:   0%|          | 0.00/9.82M [00:00<?, ?B/s]"
      ]
     },
     "metadata": {},
     "output_type": "display_data"
    },
    {
     "data": {
      "application/vnd.jupyter.widget-view+json": {
       "model_id": "34f30b3f04d542b48ae661c4a1c95f54",
       "version_major": 2,
       "version_minor": 0
      },
      "text/plain": [
       "aia_lev1_304a_2011_01_01t02_09_32_12z_image_lev1.fits:   0%|          | 0.00/9.82M [00:00<?, ?B/s]"
      ]
     },
     "metadata": {},
     "output_type": "display_data"
    },
    {
     "data": {
      "application/vnd.jupyter.widget-view+json": {
       "model_id": "3c321abd2e4441668139f47203cdfea6",
       "version_major": 2,
       "version_minor": 0
      },
      "text/plain": [
       "aia_lev1_304a_2011_01_01t02_09_20_13z_image_lev1.fits:   0%|          | 0.00/9.82M [00:00<?, ?B/s]"
      ]
     },
     "metadata": {},
     "output_type": "display_data"
    },
    {
     "data": {
      "application/vnd.jupyter.widget-view+json": {
       "model_id": "2dc1f2801c3a4144a187c6f8e6b0d5fb",
       "version_major": 2,
       "version_minor": 0
      },
      "text/plain": [
       "aia_lev1_304a_2011_01_01t02_09_56_13z_image_lev1.fits:   0%|          | 0.00/9.82M [00:00<?, ?B/s]"
      ]
     },
     "metadata": {},
     "output_type": "display_data"
    },
    {
     "data": {
      "application/vnd.jupyter.widget-view+json": {
       "model_id": "e74b36b7183e431eb2980b6e39c0fa3a",
       "version_major": 2,
       "version_minor": 0
      },
      "text/plain": [
       "aia_lev1_304a_2011_01_01t02_09_44_12z_image_lev1.fits:   0%|          | 0.00/9.82M [00:00<?, ?B/s]"
      ]
     },
     "metadata": {},
     "output_type": "display_data"
    },
    {
     "name": "stdout",
     "output_type": "stream",
     "text": [
      "4/0 files failed to download. Please check `.errors` for details\n"
     ]
    },
    {
     "data": {
      "application/vnd.jupyter.widget-view+json": {
       "model_id": "2e0f390b6d674128a17813e771f75f0b",
       "version_major": 2,
       "version_minor": 0
      },
      "text/plain": [
       "Files Downloaded:   0%|          | 0/10 [00:00<?, ?file/s]"
      ]
     },
     "metadata": {},
     "output_type": "display_data"
    },
    {
     "data": {
      "application/vnd.jupyter.widget-view+json": {
       "model_id": "18f1fb40ca1d4ebfb38cdea082a4a349",
       "version_major": 2,
       "version_minor": 0
      },
      "text/plain": [
       "aia_lev1_304a_2011_01_01t02_10_20_14z_image_lev1.fits:   0%|          | 0.00/9.82M [00:00<?, ?B/s]"
      ]
     },
     "metadata": {},
     "output_type": "display_data"
    },
    {
     "data": {
      "application/vnd.jupyter.widget-view+json": {
       "model_id": "6a6c45340a4e4e46b97cf9d86626bbd8",
       "version_major": 2,
       "version_minor": 0
      },
      "text/plain": [
       "aia_lev1_304a_2011_01_01t02_10_56_12z_image_lev1.fits:   0%|          | 0.00/9.82M [00:00<?, ?B/s]"
      ]
     },
     "metadata": {},
     "output_type": "display_data"
    },
    {
     "data": {
      "application/vnd.jupyter.widget-view+json": {
       "model_id": "8f7ef40143d34e4180c72632fcfb70e5",
       "version_major": 2,
       "version_minor": 0
      },
      "text/plain": [
       "aia_lev1_304a_2011_01_01t02_10_32_12z_image_lev1.fits:   0%|          | 0.00/9.82M [00:00<?, ?B/s]"
      ]
     },
     "metadata": {},
     "output_type": "display_data"
    },
    {
     "data": {
      "application/vnd.jupyter.widget-view+json": {
       "model_id": "ead9e730c1d24c70bc6ca0136c726d36",
       "version_major": 2,
       "version_minor": 0
      },
      "text/plain": [
       "aia_lev1_304a_2011_01_01t02_10_44_13z_image_lev1.fits:   0%|          | 0.00/9.82M [00:00<?, ?B/s]"
      ]
     },
     "metadata": {},
     "output_type": "display_data"
    },
    {
     "data": {
      "application/vnd.jupyter.widget-view+json": {
       "model_id": "547ff0ca065d4473ac5fff36d9f54a33",
       "version_major": 2,
       "version_minor": 0
      },
      "text/plain": [
       "aia_lev1_304a_2011_01_01t02_11_08_13z_image_lev1.fits:   0%|          | 0.00/9.81M [00:00<?, ?B/s]"
      ]
     },
     "metadata": {},
     "output_type": "display_data"
    },
    {
     "data": {
      "application/vnd.jupyter.widget-view+json": {
       "model_id": "bd1aba42161940ff90c13f8679b50051",
       "version_major": 2,
       "version_minor": 0
      },
      "text/plain": [
       "aia_lev1_304a_2011_01_01t02_11_20_13z_image_lev1.fits:   0%|          | 0.00/9.82M [00:00<?, ?B/s]"
      ]
     },
     "metadata": {},
     "output_type": "display_data"
    },
    {
     "data": {
      "application/vnd.jupyter.widget-view+json": {
       "model_id": "9d9ade4705e44d67b23d2ed9b59239ab",
       "version_major": 2,
       "version_minor": 0
      },
      "text/plain": [
       "aia_lev1_304a_2011_01_01t02_11_32_12z_image_lev1.fits:   0%|          | 0.00/9.82M [00:00<?, ?B/s]"
      ]
     },
     "metadata": {},
     "output_type": "display_data"
    },
    {
     "data": {
      "application/vnd.jupyter.widget-view+json": {
       "model_id": "1c33572458cd4f7d8bfff07f0800fd9f",
       "version_major": 2,
       "version_minor": 0
      },
      "text/plain": [
       "aia_lev1_304a_2011_01_01t02_11_44_12z_image_lev1.fits:   0%|          | 0.00/9.82M [00:00<?, ?B/s]"
      ]
     },
     "metadata": {},
     "output_type": "display_data"
    },
    {
     "name": "stdout",
     "output_type": "stream",
     "text": [
      "3/0 files failed to download. Please check `.errors` for details\n"
     ]
    },
    {
     "data": {
      "application/vnd.jupyter.widget-view+json": {
       "model_id": "398c398a88fa44ad815cb53d2b7630a9",
       "version_major": 2,
       "version_minor": 0
      },
      "text/plain": [
       "Files Downloaded:   0%|          | 0/10 [00:00<?, ?file/s]"
      ]
     },
     "metadata": {},
     "output_type": "display_data"
    },
    {
     "data": {
      "application/vnd.jupyter.widget-view+json": {
       "model_id": "03266cba9a7e4e898802535644363ebe",
       "version_major": 2,
       "version_minor": 0
      },
      "text/plain": [
       "aia_lev1_304a_2011_01_01t02_12_08_12z_image_lev1.fits:   0%|          | 0.00/9.82M [00:00<?, ?B/s]"
      ]
     },
     "metadata": {},
     "output_type": "display_data"
    },
    {
     "data": {
      "application/vnd.jupyter.widget-view+json": {
       "model_id": "8780b862d389438ea7dbc41958251d55",
       "version_major": 2,
       "version_minor": 0
      },
      "text/plain": [
       "aia_lev1_304a_2011_01_01t02_12_20_13z_image_lev1.fits:   0%|          | 0.00/9.82M [00:00<?, ?B/s]"
      ]
     },
     "metadata": {},
     "output_type": "display_data"
    },
    {
     "data": {
      "application/vnd.jupyter.widget-view+json": {
       "model_id": "73d084b5ff484f51883159f0d3eabebe",
       "version_major": 2,
       "version_minor": 0
      },
      "text/plain": [
       "aia_lev1_304a_2011_01_01t02_12_32_12z_image_lev1.fits:   0%|          | 0.00/9.82M [00:00<?, ?B/s]"
      ]
     },
     "metadata": {},
     "output_type": "display_data"
    },
    {
     "data": {
      "application/vnd.jupyter.widget-view+json": {
       "model_id": "dccbdbfca1fc4da4aa8cf0a4344724e5",
       "version_major": 2,
       "version_minor": 0
      },
      "text/plain": [
       "aia_lev1_304a_2011_01_01t02_12_56_12z_image_lev1.fits:   0%|          | 0.00/9.82M [00:00<?, ?B/s]"
      ]
     },
     "metadata": {},
     "output_type": "display_data"
    },
    {
     "data": {
      "application/vnd.jupyter.widget-view+json": {
       "model_id": "04da35bba90b4110a2cd57e7e54c1093",
       "version_major": 2,
       "version_minor": 0
      },
      "text/plain": [
       "aia_lev1_304a_2011_01_01t02_12_44_13z_image_lev1.fits:   0%|          | 0.00/9.82M [00:00<?, ?B/s]"
      ]
     },
     "metadata": {},
     "output_type": "display_data"
    },
    {
     "data": {
      "application/vnd.jupyter.widget-view+json": {
       "model_id": "43b1881f03714492be10392378d5a3ec",
       "version_major": 2,
       "version_minor": 0
      },
      "text/plain": [
       "aia_lev1_304a_2011_01_01t02_13_32_12z_image_lev1.fits:   0%|          | 0.00/9.82M [00:00<?, ?B/s]"
      ]
     },
     "metadata": {},
     "output_type": "display_data"
    },
    {
     "data": {
      "application/vnd.jupyter.widget-view+json": {
       "model_id": "8baafa5a41514315a659f01d7a1397ac",
       "version_major": 2,
       "version_minor": 0
      },
      "text/plain": [
       "aia_lev1_304a_2011_01_01t02_13_20_13z_image_lev1.fits:   0%|          | 0.00/9.82M [00:00<?, ?B/s]"
      ]
     },
     "metadata": {},
     "output_type": "display_data"
    },
    {
     "data": {
      "application/vnd.jupyter.widget-view+json": {
       "model_id": "17323bc611834c99a03eb53065bf2981",
       "version_major": 2,
       "version_minor": 0
      },
      "text/plain": [
       "aia_lev1_304a_2011_01_01t02_13_56_13z_image_lev1.fits:   0%|          | 0.00/9.82M [00:00<?, ?B/s]"
      ]
     },
     "metadata": {},
     "output_type": "display_data"
    },
    {
     "name": "stdout",
     "output_type": "stream",
     "text": [
      "2/0 files failed to download. Please check `.errors` for details\n"
     ]
    },
    {
     "data": {
      "application/vnd.jupyter.widget-view+json": {
       "model_id": "2d28d9bb99ea403691b40616cd712c7e",
       "version_major": 2,
       "version_minor": 0
      },
      "text/plain": [
       "Files Downloaded:   0%|          | 0/10 [00:00<?, ?file/s]"
      ]
     },
     "metadata": {},
     "output_type": "display_data"
    },
    {
     "data": {
      "application/vnd.jupyter.widget-view+json": {
       "model_id": "3f2916505ffe4861ad2abd00615e3df2",
       "version_major": 2,
       "version_minor": 0
      },
      "text/plain": [
       "aia_lev1_304a_2011_01_01t02_14_08_12z_image_lev1.fits:   0%|          | 0.00/9.82M [00:00<?, ?B/s]"
      ]
     },
     "metadata": {},
     "output_type": "display_data"
    },
    {
     "data": {
      "application/vnd.jupyter.widget-view+json": {
       "model_id": "a2743ac48b2d41f89e07d1ad070beadb",
       "version_major": 2,
       "version_minor": 0
      },
      "text/plain": [
       "aia_lev1_304a_2011_01_01t02_14_20_14z_image_lev1.fits:   0%|          | 0.00/9.82M [00:00<?, ?B/s]"
      ]
     },
     "metadata": {},
     "output_type": "display_data"
    },
    {
     "data": {
      "application/vnd.jupyter.widget-view+json": {
       "model_id": "acbdde4d610f4602a26c4f3c99602b3f",
       "version_major": 2,
       "version_minor": 0
      },
      "text/plain": [
       "aia_lev1_304a_2011_01_01t02_14_32_12z_image_lev1.fits:   0%|          | 0.00/9.82M [00:00<?, ?B/s]"
      ]
     },
     "metadata": {},
     "output_type": "display_data"
    },
    {
     "data": {
      "application/vnd.jupyter.widget-view+json": {
       "model_id": "be6a6d87067944369e806cfe1680ce28",
       "version_major": 2,
       "version_minor": 0
      },
      "text/plain": [
       "aia_lev1_304a_2011_01_01t02_14_44_13z_image_lev1.fits:   0%|          | 0.00/9.82M [00:00<?, ?B/s]"
      ]
     },
     "metadata": {},
     "output_type": "display_data"
    },
    {
     "data": {
      "application/vnd.jupyter.widget-view+json": {
       "model_id": "31940430063f48c8939f17fb9f46c9fd",
       "version_major": 2,
       "version_minor": 0
      },
      "text/plain": [
       "aia_lev1_304a_2011_01_01t02_15_20_13z_image_lev1.fits:   0%|          | 0.00/9.82M [00:00<?, ?B/s]"
      ]
     },
     "metadata": {},
     "output_type": "display_data"
    },
    {
     "data": {
      "application/vnd.jupyter.widget-view+json": {
       "model_id": "50dd57f95e5942a59ba72a0ad1baf7a9",
       "version_major": 2,
       "version_minor": 0
      },
      "text/plain": [
       "aia_lev1_304a_2011_01_01t02_15_44_12z_image_lev1.fits:   0%|          | 0.00/9.82M [00:00<?, ?B/s]"
      ]
     },
     "metadata": {},
     "output_type": "display_data"
    },
    {
     "data": {
      "application/vnd.jupyter.widget-view+json": {
       "model_id": "3b8ac45e58ad44bfb6cfbc9d174273f1",
       "version_major": 2,
       "version_minor": 0
      },
      "text/plain": [
       "aia_lev1_304a_2011_01_01t02_15_56_13z_image_lev1.fits:   0%|          | 0.00/9.81M [00:00<?, ?B/s]"
      ]
     },
     "metadata": {},
     "output_type": "display_data"
    },
    {
     "name": "stdout",
     "output_type": "stream",
     "text": [
      "3/0 files failed to download. Please check `.errors` for details\n"
     ]
    },
    {
     "data": {
      "application/vnd.jupyter.widget-view+json": {
       "model_id": "0993f29376b344c0b412a8816315d678",
       "version_major": 2,
       "version_minor": 0
      },
      "text/plain": [
       "Files Downloaded:   0%|          | 0/10 [00:00<?, ?file/s]"
      ]
     },
     "metadata": {},
     "output_type": "display_data"
    },
    {
     "data": {
      "application/vnd.jupyter.widget-view+json": {
       "model_id": "0724b83497be4970b09a9c05a81f90f5",
       "version_major": 2,
       "version_minor": 0
      },
      "text/plain": [
       "aia_lev1_304a_2011_01_01t02_16_32_12z_image_lev1.fits:   0%|          | 0.00/9.81M [00:00<?, ?B/s]"
      ]
     },
     "metadata": {},
     "output_type": "display_data"
    },
    {
     "data": {
      "application/vnd.jupyter.widget-view+json": {
       "model_id": "659e508dfec0404a9d34babb7a8f6cd9",
       "version_major": 2,
       "version_minor": 0
      },
      "text/plain": [
       "aia_lev1_304a_2011_01_01t02_16_08_12z_image_lev1.fits:   0%|          | 0.00/9.82M [00:00<?, ?B/s]"
      ]
     },
     "metadata": {},
     "output_type": "display_data"
    },
    {
     "data": {
      "application/vnd.jupyter.widget-view+json": {
       "model_id": "f0f0edc00ca947c991e6344363ee6923",
       "version_major": 2,
       "version_minor": 0
      },
      "text/plain": [
       "aia_lev1_304a_2011_01_01t02_16_44_13z_image_lev1.fits:   0%|          | 0.00/9.82M [00:00<?, ?B/s]"
      ]
     },
     "metadata": {},
     "output_type": "display_data"
    },
    {
     "data": {
      "application/vnd.jupyter.widget-view+json": {
       "model_id": "f162da43cd3d406c98091031ba130432",
       "version_major": 2,
       "version_minor": 0
      },
      "text/plain": [
       "aia_lev1_304a_2011_01_01t02_16_20_13z_image_lev1.fits:   0%|          | 0.00/9.82M [00:00<?, ?B/s]"
      ]
     },
     "metadata": {},
     "output_type": "display_data"
    },
    {
     "data": {
      "application/vnd.jupyter.widget-view+json": {
       "model_id": "f6ee01a2abdc4a5c81a92a0c9364e821",
       "version_major": 2,
       "version_minor": 0
      },
      "text/plain": [
       "aia_lev1_304a_2011_01_01t02_17_08_13z_image_lev1.fits:   0%|          | 0.00/9.82M [00:00<?, ?B/s]"
      ]
     },
     "metadata": {},
     "output_type": "display_data"
    },
    {
     "data": {
      "application/vnd.jupyter.widget-view+json": {
       "model_id": "bb344c2bffa14528a59519d031fa44e8",
       "version_major": 2,
       "version_minor": 0
      },
      "text/plain": [
       "aia_lev1_304a_2011_01_01t02_17_32_12z_image_lev1.fits:   0%|          | 0.00/9.81M [00:00<?, ?B/s]"
      ]
     },
     "metadata": {},
     "output_type": "display_data"
    },
    {
     "data": {
      "application/vnd.jupyter.widget-view+json": {
       "model_id": "29dbe66399e244a9a61326fe0ec744b9",
       "version_major": 2,
       "version_minor": 0
      },
      "text/plain": [
       "aia_lev1_304a_2011_01_01t02_17_44_13z_image_lev1.fits:   0%|          | 0.00/9.81M [00:00<?, ?B/s]"
      ]
     },
     "metadata": {},
     "output_type": "display_data"
    },
    {
     "data": {
      "application/vnd.jupyter.widget-view+json": {
       "model_id": "d9cd5bc3f6d84995a1735fdc865c0b4e",
       "version_major": 2,
       "version_minor": 0
      },
      "text/plain": [
       "aia_lev1_304a_2011_01_01t02_17_56_13z_image_lev1.fits:   0%|          | 0.00/9.81M [00:00<?, ?B/s]"
      ]
     },
     "metadata": {},
     "output_type": "display_data"
    },
    {
     "name": "stdout",
     "output_type": "stream",
     "text": [
      "3/0 files failed to download. Please check `.errors` for details\n"
     ]
    },
    {
     "data": {
      "application/vnd.jupyter.widget-view+json": {
       "model_id": "7fb31619e13c44ec9acf2070c17aac8f",
       "version_major": 2,
       "version_minor": 0
      },
      "text/plain": [
       "Files Downloaded:   0%|          | 0/10 [00:00<?, ?file/s]"
      ]
     },
     "metadata": {},
     "output_type": "display_data"
    },
    {
     "data": {
      "application/vnd.jupyter.widget-view+json": {
       "model_id": "3a7356f6341e4794a965415e12503745",
       "version_major": 2,
       "version_minor": 0
      },
      "text/plain": [
       "aia_lev1_304a_2011_01_01t02_18_44_13z_image_lev1.fits:   0%|          | 0.00/9.81M [00:00<?, ?B/s]"
      ]
     },
     "metadata": {},
     "output_type": "display_data"
    },
    {
     "data": {
      "application/vnd.jupyter.widget-view+json": {
       "model_id": "0c8dece22af9408a98537a1080b4ed45",
       "version_major": 2,
       "version_minor": 0
      },
      "text/plain": [
       "aia_lev1_304a_2011_01_01t02_18_20_14z_image_lev1.fits:   0%|          | 0.00/9.81M [00:00<?, ?B/s]"
      ]
     },
     "metadata": {},
     "output_type": "display_data"
    },
    {
     "data": {
      "application/vnd.jupyter.widget-view+json": {
       "model_id": "48f111fc056342658e85a16fd6aa1686",
       "version_major": 2,
       "version_minor": 0
      },
      "text/plain": [
       "aia_lev1_304a_2011_01_01t02_18_56_12z_image_lev1.fits:   0%|          | 0.00/9.81M [00:00<?, ?B/s]"
      ]
     },
     "metadata": {},
     "output_type": "display_data"
    },
    {
     "data": {
      "application/vnd.jupyter.widget-view+json": {
       "model_id": "840dc145e8dc4673b12b640c5f6d771a",
       "version_major": 2,
       "version_minor": 0
      },
      "text/plain": [
       "aia_lev1_304a_2011_01_01t02_18_32_12z_image_lev1.fits:   0%|          | 0.00/9.81M [00:00<?, ?B/s]"
      ]
     },
     "metadata": {},
     "output_type": "display_data"
    },
    {
     "data": {
      "application/vnd.jupyter.widget-view+json": {
       "model_id": "daa1f70cae3e4455b7751bd53c8ef40a",
       "version_major": 2,
       "version_minor": 0
      },
      "text/plain": [
       "aia_lev1_304a_2011_01_01t02_19_08_13z_image_lev1.fits:   0%|          | 0.00/9.81M [00:00<?, ?B/s]"
      ]
     },
     "metadata": {},
     "output_type": "display_data"
    },
    {
     "data": {
      "application/vnd.jupyter.widget-view+json": {
       "model_id": "22e8ee60142f4447ba1ade729439d329",
       "version_major": 2,
       "version_minor": 0
      },
      "text/plain": [
       "aia_lev1_304a_2011_01_01t02_19_20_13z_image_lev1.fits:   0%|          | 0.00/9.81M [00:00<?, ?B/s]"
      ]
     },
     "metadata": {},
     "output_type": "display_data"
    },
    {
     "name": "stdout",
     "output_type": "stream",
     "text": [
      "4/0 files failed to download. Please check `.errors` for details\n"
     ]
    },
    {
     "data": {
      "application/vnd.jupyter.widget-view+json": {
       "model_id": "a1f18482ab58436a9949c8991b32a0df",
       "version_major": 2,
       "version_minor": 0
      },
      "text/plain": [
       "Files Downloaded:   0%|          | 0/10 [00:00<?, ?file/s]"
      ]
     },
     "metadata": {},
     "output_type": "display_data"
    },
    {
     "data": {
      "application/vnd.jupyter.widget-view+json": {
       "model_id": "f84ede5f3d694a30818c0c75407e11da",
       "version_major": 2,
       "version_minor": 0
      },
      "text/plain": [
       "aia_lev1_304a_2011_01_01t02_20_56_12z_image_lev1.fits:   0%|          | 0.00/9.82M [00:00<?, ?B/s]"
      ]
     },
     "metadata": {},
     "output_type": "display_data"
    },
    {
     "data": {
      "application/vnd.jupyter.widget-view+json": {
       "model_id": "c13829834c67498c870896301d8ee711",
       "version_major": 2,
       "version_minor": 0
      },
      "text/plain": [
       "aia_lev1_304a_2011_01_01t02_20_32_13z_image_lev1.fits:   0%|          | 0.00/9.82M [00:00<?, ?B/s]"
      ]
     },
     "metadata": {},
     "output_type": "display_data"
    },
    {
     "data": {
      "application/vnd.jupyter.widget-view+json": {
       "model_id": "c9c05b54d9f34271952b7194ea058cc5",
       "version_major": 2,
       "version_minor": 0
      },
      "text/plain": [
       "aia_lev1_304a_2011_01_01t02_20_08_12z_image_lev1.fits:   0%|          | 0.00/9.82M [00:00<?, ?B/s]"
      ]
     },
     "metadata": {},
     "output_type": "display_data"
    },
    {
     "data": {
      "application/vnd.jupyter.widget-view+json": {
       "model_id": "96c7936e3fff4d1bacc756bd269784a0",
       "version_major": 2,
       "version_minor": 0
      },
      "text/plain": [
       "aia_lev1_304a_2011_01_01t02_21_44_12z_image_lev1.fits:   0%|          | 0.00/9.82M [00:00<?, ?B/s]"
      ]
     },
     "metadata": {},
     "output_type": "display_data"
    },
    {
     "data": {
      "application/vnd.jupyter.widget-view+json": {
       "model_id": "54513c95ce49430292b753c17333b494",
       "version_major": 2,
       "version_minor": 0
      },
      "text/plain": [
       "aia_lev1_304a_2011_01_01t02_21_56_13z_image_lev1.fits:   0%|          | 0.00/9.81M [00:00<?, ?B/s]"
      ]
     },
     "metadata": {},
     "output_type": "display_data"
    },
    {
     "name": "stdout",
     "output_type": "stream",
     "text": [
      "5/0 files failed to download. Please check `.errors` for details\n"
     ]
    },
    {
     "data": {
      "application/vnd.jupyter.widget-view+json": {
       "model_id": "16de019353604e57b32144e27ad069d3",
       "version_major": 2,
       "version_minor": 0
      },
      "text/plain": [
       "Files Downloaded:   0%|          | 0/10 [00:00<?, ?file/s]"
      ]
     },
     "metadata": {},
     "output_type": "display_data"
    },
    {
     "data": {
      "application/vnd.jupyter.widget-view+json": {
       "model_id": "8c6945c337c14309be7dd8b831da7e9b",
       "version_major": 2,
       "version_minor": 0
      },
      "text/plain": [
       "aia_lev1_304a_2011_01_01t02_22_56_12z_image_lev1.fits:   0%|          | 0.00/9.82M [00:00<?, ?B/s]"
      ]
     },
     "metadata": {},
     "output_type": "display_data"
    },
    {
     "data": {
      "application/vnd.jupyter.widget-view+json": {
       "model_id": "b02143f791ba4b0fa48c4f806c4e5884",
       "version_major": 2,
       "version_minor": 0
      },
      "text/plain": [
       "aia_lev1_304a_2011_01_01t02_23_08_13z_image_lev1.fits:   0%|          | 0.00/9.82M [00:00<?, ?B/s]"
      ]
     },
     "metadata": {},
     "output_type": "display_data"
    },
    {
     "data": {
      "application/vnd.jupyter.widget-view+json": {
       "model_id": "685c70c0a05d45518f1b56f8793928e9",
       "version_major": 2,
       "version_minor": 0
      },
      "text/plain": [
       "aia_lev1_304a_2011_01_01t02_23_20_13z_image_lev1.fits:   0%|          | 0.00/9.82M [00:00<?, ?B/s]"
      ]
     },
     "metadata": {},
     "output_type": "display_data"
    },
    {
     "data": {
      "application/vnd.jupyter.widget-view+json": {
       "model_id": "76457af4452046888846bf56b90bf518",
       "version_major": 2,
       "version_minor": 0
      },
      "text/plain": [
       "aia_lev1_304a_2011_01_01t02_23_32_12z_image_lev1.fits:   0%|          | 0.00/9.82M [00:00<?, ?B/s]"
      ]
     },
     "metadata": {},
     "output_type": "display_data"
    },
    {
     "data": {
      "application/vnd.jupyter.widget-view+json": {
       "model_id": "5372f351403144ae8dde46abb4eecb0e",
       "version_major": 2,
       "version_minor": 0
      },
      "text/plain": [
       "aia_lev1_304a_2011_01_01t02_23_44_12z_image_lev1.fits:   0%|          | 0.00/9.82M [00:00<?, ?B/s]"
      ]
     },
     "metadata": {},
     "output_type": "display_data"
    },
    {
     "name": "stdout",
     "output_type": "stream",
     "text": [
      "5/0 files failed to download. Please check `.errors` for details\n"
     ]
    },
    {
     "data": {
      "application/vnd.jupyter.widget-view+json": {
       "model_id": "0f4a8bdc5ead4271b462876ed43a06e2",
       "version_major": 2,
       "version_minor": 0
      },
      "text/plain": [
       "Files Downloaded:   0%|          | 0/10 [00:00<?, ?file/s]"
      ]
     },
     "metadata": {},
     "output_type": "display_data"
    },
    {
     "data": {
      "application/vnd.jupyter.widget-view+json": {
       "model_id": "3cc7d0158648494aa5a1f558c82f0797",
       "version_major": 2,
       "version_minor": 0
      },
      "text/plain": [
       "aia_lev1_304a_2011_01_01t02_24_08_12z_image_lev1.fits:   0%|          | 0.00/9.82M [00:00<?, ?B/s]"
      ]
     },
     "metadata": {},
     "output_type": "display_data"
    },
    {
     "data": {
      "application/vnd.jupyter.widget-view+json": {
       "model_id": "89035c538484437cac570d72a7186f5b",
       "version_major": 2,
       "version_minor": 0
      },
      "text/plain": [
       "aia_lev1_304a_2011_01_01t02_24_56_12z_image_lev1.fits:   0%|          | 0.00/9.82M [00:00<?, ?B/s]"
      ]
     },
     "metadata": {},
     "output_type": "display_data"
    },
    {
     "data": {
      "application/vnd.jupyter.widget-view+json": {
       "model_id": "47391f7d29c54b80ad54c36e5c5097ec",
       "version_major": 2,
       "version_minor": 0
      },
      "text/plain": [
       "aia_lev1_304a_2011_01_01t02_24_32_12z_image_lev1.fits:   0%|          | 0.00/9.82M [00:00<?, ?B/s]"
      ]
     },
     "metadata": {},
     "output_type": "display_data"
    },
    {
     "data": {
      "application/vnd.jupyter.widget-view+json": {
       "model_id": "8b825e7b6d6a4d07bc02591f47a3983c",
       "version_major": 2,
       "version_minor": 0
      },
      "text/plain": [
       "aia_lev1_304a_2011_01_01t02_24_44_13z_image_lev1.fits:   0%|          | 0.00/9.82M [00:00<?, ?B/s]"
      ]
     },
     "metadata": {},
     "output_type": "display_data"
    },
    {
     "data": {
      "application/vnd.jupyter.widget-view+json": {
       "model_id": "0f22de800dec4d18a99f13d36c659cd1",
       "version_major": 2,
       "version_minor": 0
      },
      "text/plain": [
       "aia_lev1_304a_2011_01_01t02_24_20_13z_image_lev1.fits:   0%|          | 0.00/9.82M [00:00<?, ?B/s]"
      ]
     },
     "metadata": {},
     "output_type": "display_data"
    },
    {
     "data": {
      "application/vnd.jupyter.widget-view+json": {
       "model_id": "77cbf6ed67eb4cc7be420a51a0c638f6",
       "version_major": 2,
       "version_minor": 0
      },
      "text/plain": [
       "aia_lev1_304a_2011_01_01t02_25_08_13z_image_lev1.fits:   0%|          | 0.00/9.82M [00:00<?, ?B/s]"
      ]
     },
     "metadata": {},
     "output_type": "display_data"
    },
    {
     "data": {
      "application/vnd.jupyter.widget-view+json": {
       "model_id": "138a1a4df48442a899586f8b9eac74ad",
       "version_major": 2,
       "version_minor": 0
      },
      "text/plain": [
       "aia_lev1_304a_2011_01_01t02_25_20_13z_image_lev1.fits:   0%|          | 0.00/9.82M [00:00<?, ?B/s]"
      ]
     },
     "metadata": {},
     "output_type": "display_data"
    },
    {
     "data": {
      "application/vnd.jupyter.widget-view+json": {
       "model_id": "dd3a3ba197f24bca83990619d7cc1fdc",
       "version_major": 2,
       "version_minor": 0
      },
      "text/plain": [
       "aia_lev1_304a_2011_01_01t02_25_32_12z_image_lev1.fits:   0%|          | 0.00/9.82M [00:00<?, ?B/s]"
      ]
     },
     "metadata": {},
     "output_type": "display_data"
    },
    {
     "data": {
      "application/vnd.jupyter.widget-view+json": {
       "model_id": "1375258deb4f4d3e98648113eb814fbf",
       "version_major": 2,
       "version_minor": 0
      },
      "text/plain": [
       "aia_lev1_304a_2011_01_01t02_25_44_14z_image_lev1.fits:   0%|          | 0.00/9.82M [00:00<?, ?B/s]"
      ]
     },
     "metadata": {},
     "output_type": "display_data"
    },
    {
     "data": {
      "application/vnd.jupyter.widget-view+json": {
       "model_id": "a6c05e067464449b8a8bcc8fb340411d",
       "version_major": 2,
       "version_minor": 0
      },
      "text/plain": [
       "aia_lev1_304a_2011_01_01t02_25_56_13z_image_lev1.fits:   0%|          | 0.00/9.82M [00:00<?, ?B/s]"
      ]
     },
     "metadata": {},
     "output_type": "display_data"
    },
    {
     "data": {
      "application/vnd.jupyter.widget-view+json": {
       "model_id": "6b532bfc43144269b936b13b2c478ed7",
       "version_major": 2,
       "version_minor": 0
      },
      "text/plain": [
       "Files Downloaded:   0%|          | 0/10 [00:00<?, ?file/s]"
      ]
     },
     "metadata": {},
     "output_type": "display_data"
    },
    {
     "data": {
      "application/vnd.jupyter.widget-view+json": {
       "model_id": "f08113ef0c5e42a18eab5d54b9ba3ba2",
       "version_major": 2,
       "version_minor": 0
      },
      "text/plain": [
       "aia_lev1_304a_2011_01_01t02_26_56_12z_image_lev1.fits:   0%|          | 0.00/9.82M [00:00<?, ?B/s]"
      ]
     },
     "metadata": {},
     "output_type": "display_data"
    },
    {
     "data": {
      "application/vnd.jupyter.widget-view+json": {
       "model_id": "e65fb9e808834f66957d54859458fd3b",
       "version_major": 2,
       "version_minor": 0
      },
      "text/plain": [
       "aia_lev1_304a_2011_01_01t02_26_20_14z_image_lev1.fits:   0%|          | 0.00/9.82M [00:00<?, ?B/s]"
      ]
     },
     "metadata": {},
     "output_type": "display_data"
    },
    {
     "data": {
      "application/vnd.jupyter.widget-view+json": {
       "model_id": "17ae17d68b9145c390b1f36f6f58b7fd",
       "version_major": 2,
       "version_minor": 0
      },
      "text/plain": [
       "aia_lev1_304a_2011_01_01t02_26_32_12z_image_lev1.fits:   0%|          | 0.00/9.82M [00:00<?, ?B/s]"
      ]
     },
     "metadata": {},
     "output_type": "display_data"
    },
    {
     "data": {
      "application/vnd.jupyter.widget-view+json": {
       "model_id": "b6fad41adb6141e5a256835c250bf881",
       "version_major": 2,
       "version_minor": 0
      },
      "text/plain": [
       "aia_lev1_304a_2011_01_01t02_26_44_13z_image_lev1.fits:   0%|          | 0.00/9.82M [00:00<?, ?B/s]"
      ]
     },
     "metadata": {},
     "output_type": "display_data"
    },
    {
     "data": {
      "application/vnd.jupyter.widget-view+json": {
       "model_id": "f9e04186372b4d3b8fc4f32792f8d5e7",
       "version_major": 2,
       "version_minor": 0
      },
      "text/plain": [
       "aia_lev1_304a_2011_01_01t02_27_20_13z_image_lev1.fits:   0%|          | 0.00/9.82M [00:00<?, ?B/s]"
      ]
     },
     "metadata": {},
     "output_type": "display_data"
    },
    {
     "data": {
      "application/vnd.jupyter.widget-view+json": {
       "model_id": "2999e378de7349de8e4319cb2f1e9213",
       "version_major": 2,
       "version_minor": 0
      },
      "text/plain": [
       "aia_lev1_304a_2011_01_01t02_27_08_13z_image_lev1.fits:   0%|          | 0.00/9.82M [00:00<?, ?B/s]"
      ]
     },
     "metadata": {},
     "output_type": "display_data"
    },
    {
     "data": {
      "application/vnd.jupyter.widget-view+json": {
       "model_id": "510688d1b8de4886aff5736107325ea0",
       "version_major": 2,
       "version_minor": 0
      },
      "text/plain": [
       "aia_lev1_304a_2011_01_01t02_27_32_12z_image_lev1.fits:   0%|          | 0.00/9.82M [00:00<?, ?B/s]"
      ]
     },
     "metadata": {},
     "output_type": "display_data"
    },
    {
     "data": {
      "application/vnd.jupyter.widget-view+json": {
       "model_id": "b68a7bc2386042748be8b934d50d9e82",
       "version_major": 2,
       "version_minor": 0
      },
      "text/plain": [
       "aia_lev1_304a_2011_01_01t02_27_44_12z_image_lev1.fits:   0%|          | 0.00/9.82M [00:00<?, ?B/s]"
      ]
     },
     "metadata": {},
     "output_type": "display_data"
    },
    {
     "data": {
      "application/vnd.jupyter.widget-view+json": {
       "model_id": "ce66a502dce345beb6baa94ced00609f",
       "version_major": 2,
       "version_minor": 0
      },
      "text/plain": [
       "aia_lev1_304a_2011_01_01t02_27_56_13z_image_lev1.fits:   0%|          | 0.00/9.82M [00:00<?, ?B/s]"
      ]
     },
     "metadata": {},
     "output_type": "display_data"
    },
    {
     "name": "stdout",
     "output_type": "stream",
     "text": [
      "2/0 files failed to download. Please check `.errors` for details\n"
     ]
    },
    {
     "data": {
      "application/vnd.jupyter.widget-view+json": {
       "model_id": "4a86cb8ead334c778b8e525f0536deb7",
       "version_major": 2,
       "version_minor": 0
      },
      "text/plain": [
       "Files Downloaded:   0%|          | 0/10 [00:00<?, ?file/s]"
      ]
     },
     "metadata": {},
     "output_type": "display_data"
    },
    {
     "data": {
      "application/vnd.jupyter.widget-view+json": {
       "model_id": "eb3a32c9702a4a78bb15961494a452f9",
       "version_major": 2,
       "version_minor": 0
      },
      "text/plain": [
       "aia_lev1_304a_2011_01_01t02_28_32_12z_image_lev1.fits:   0%|          | 0.00/9.82M [00:00<?, ?B/s]"
      ]
     },
     "metadata": {},
     "output_type": "display_data"
    },
    {
     "data": {
      "application/vnd.jupyter.widget-view+json": {
       "model_id": "f4a102e2cc5b472884399952346946a6",
       "version_major": 2,
       "version_minor": 0
      },
      "text/plain": [
       "aia_lev1_304a_2011_01_01t02_28_20_13z_image_lev1.fits:   0%|          | 0.00/9.82M [00:00<?, ?B/s]"
      ]
     },
     "metadata": {},
     "output_type": "display_data"
    },
    {
     "data": {
      "application/vnd.jupyter.widget-view+json": {
       "model_id": "c94d944a5a4b414784f1d1bc3cd0b938",
       "version_major": 2,
       "version_minor": 0
      },
      "text/plain": [
       "aia_lev1_304a_2011_01_01t02_29_08_13z_image_lev1.fits:   0%|          | 0.00/9.82M [00:00<?, ?B/s]"
      ]
     },
     "metadata": {},
     "output_type": "display_data"
    },
    {
     "data": {
      "application/vnd.jupyter.widget-view+json": {
       "model_id": "753bd9626283490b91711e465ba8854f",
       "version_major": 2,
       "version_minor": 0
      },
      "text/plain": [
       "aia_lev1_304a_2011_01_01t02_29_20_13z_image_lev1.fits:   0%|          | 0.00/9.82M [00:00<?, ?B/s]"
      ]
     },
     "metadata": {},
     "output_type": "display_data"
    },
    {
     "data": {
      "application/vnd.jupyter.widget-view+json": {
       "model_id": "79c302aa78294b4cbac25fc93b101299",
       "version_major": 2,
       "version_minor": 0
      },
      "text/plain": [
       "aia_lev1_304a_2011_01_01t02_29_32_13z_image_lev1.fits:   0%|          | 0.00/9.82M [00:00<?, ?B/s]"
      ]
     },
     "metadata": {},
     "output_type": "display_data"
    },
    {
     "data": {
      "application/vnd.jupyter.widget-view+json": {
       "model_id": "589f8566184c42cabea8f3afad938881",
       "version_major": 2,
       "version_minor": 0
      },
      "text/plain": [
       "aia_lev1_304a_2011_01_01t02_29_44_14z_image_lev1.fits:   0%|          | 0.00/9.82M [00:00<?, ?B/s]"
      ]
     },
     "metadata": {},
     "output_type": "display_data"
    },
    {
     "name": "stdout",
     "output_type": "stream",
     "text": [
      "6/0 files failed to download. Please check `.errors` for details\n"
     ]
    },
    {
     "data": {
      "application/vnd.jupyter.widget-view+json": {
       "model_id": "b1218428766c4c759017119b05e059b9",
       "version_major": 2,
       "version_minor": 0
      },
      "text/plain": [
       "Files Downloaded:   0%|          | 0/10 [00:00<?, ?file/s]"
      ]
     },
     "metadata": {},
     "output_type": "display_data"
    },
    {
     "data": {
      "application/vnd.jupyter.widget-view+json": {
       "model_id": "3d1d3a2ff5714d208b0171458be905a0",
       "version_major": 2,
       "version_minor": 0
      },
      "text/plain": [
       "aia_lev1_304a_2011_01_01t02_30_56_14z_image_lev1.fits:   0%|          | 0.00/9.81M [00:00<?, ?B/s]"
      ]
     },
     "metadata": {},
     "output_type": "display_data"
    },
    {
     "data": {
      "application/vnd.jupyter.widget-view+json": {
       "model_id": "6484620d78fb4162a55cc9703f25530e",
       "version_major": 2,
       "version_minor": 0
      },
      "text/plain": [
       "aia_lev1_304a_2011_01_01t02_30_32_12z_image_lev1.fits:   0%|          | 0.00/9.82M [00:00<?, ?B/s]"
      ]
     },
     "metadata": {},
     "output_type": "display_data"
    },
    {
     "data": {
      "application/vnd.jupyter.widget-view+json": {
       "model_id": "c8940d5f015a403dba231e99518ad4f3",
       "version_major": 2,
       "version_minor": 0
      },
      "text/plain": [
       "aia_lev1_304a_2011_01_01t02_30_08_12z_image_lev1.fits:   0%|          | 0.00/9.82M [00:00<?, ?B/s]"
      ]
     },
     "metadata": {},
     "output_type": "display_data"
    },
    {
     "data": {
      "application/vnd.jupyter.widget-view+json": {
       "model_id": "9747eb8ffef444058035db108b060a90",
       "version_major": 2,
       "version_minor": 0
      },
      "text/plain": [
       "aia_lev1_304a_2011_01_01t02_30_20_13z_image_lev1.fits:   0%|          | 0.00/9.82M [00:00<?, ?B/s]"
      ]
     },
     "metadata": {},
     "output_type": "display_data"
    },
    {
     "data": {
      "application/vnd.jupyter.widget-view+json": {
       "model_id": "88aba234a2a34147a4d227915e5ea6cf",
       "version_major": 2,
       "version_minor": 0
      },
      "text/plain": [
       "aia_lev1_304a_2011_01_01t02_31_08_13z_image_lev1.fits:   0%|          | 0.00/9.82M [00:00<?, ?B/s]"
      ]
     },
     "metadata": {},
     "output_type": "display_data"
    },
    {
     "data": {
      "application/vnd.jupyter.widget-view+json": {
       "model_id": "c39b1b6798ad49f0b9437af03fbf7c48",
       "version_major": 2,
       "version_minor": 0
      },
      "text/plain": [
       "aia_lev1_304a_2011_01_01t02_31_20_13z_image_lev1.fits:   0%|          | 0.00/9.82M [00:00<?, ?B/s]"
      ]
     },
     "metadata": {},
     "output_type": "display_data"
    },
    {
     "data": {
      "application/vnd.jupyter.widget-view+json": {
       "model_id": "55c8472045234d218f4572279545ec08",
       "version_major": 2,
       "version_minor": 0
      },
      "text/plain": [
       "aia_lev1_304a_2011_01_01t02_31_32_12z_image_lev1.fits:   0%|          | 0.00/9.82M [00:00<?, ?B/s]"
      ]
     },
     "metadata": {},
     "output_type": "display_data"
    },
    {
     "data": {
      "application/vnd.jupyter.widget-view+json": {
       "model_id": "dcabac3cac854c64b52f05b682f4bc8e",
       "version_major": 2,
       "version_minor": 0
      },
      "text/plain": [
       "aia_lev1_304a_2011_01_01t02_31_44_12z_image_lev1.fits:   0%|          | 0.00/9.81M [00:00<?, ?B/s]"
      ]
     },
     "metadata": {},
     "output_type": "display_data"
    },
    {
     "data": {
      "application/vnd.jupyter.widget-view+json": {
       "model_id": "358a291979fd428daeba70d4d95d0b9c",
       "version_major": 2,
       "version_minor": 0
      },
      "text/plain": [
       "aia_lev1_304a_2011_01_01t02_31_56_13z_image_lev1.fits:   0%|          | 0.00/9.81M [00:00<?, ?B/s]"
      ]
     },
     "metadata": {},
     "output_type": "display_data"
    },
    {
     "name": "stdout",
     "output_type": "stream",
     "text": [
      "1/0 files failed to download. Please check `.errors` for details\n"
     ]
    },
    {
     "data": {
      "application/vnd.jupyter.widget-view+json": {
       "model_id": "aff883f1745443319de582c06a892119",
       "version_major": 2,
       "version_minor": 0
      },
      "text/plain": [
       "Files Downloaded:   0%|          | 0/10 [00:00<?, ?file/s]"
      ]
     },
     "metadata": {},
     "output_type": "display_data"
    },
    {
     "data": {
      "application/vnd.jupyter.widget-view+json": {
       "model_id": "c127467ba32b42af9237eb008fbcc6a6",
       "version_major": 2,
       "version_minor": 0
      },
      "text/plain": [
       "aia_lev1_304a_2011_01_01t02_32_32_14z_image_lev1.fits:   0%|          | 0.00/9.81M [00:00<?, ?B/s]"
      ]
     },
     "metadata": {},
     "output_type": "display_data"
    },
    {
     "data": {
      "application/vnd.jupyter.widget-view+json": {
       "model_id": "a79abf98419f4b278cd85e69c5d26f6d",
       "version_major": 2,
       "version_minor": 0
      },
      "text/plain": [
       "aia_lev1_304a_2011_01_01t02_32_20_13z_image_lev1.fits:   0%|          | 0.00/9.81M [00:00<?, ?B/s]"
      ]
     },
     "metadata": {},
     "output_type": "display_data"
    },
    {
     "data": {
      "application/vnd.jupyter.widget-view+json": {
       "model_id": "19fa9374b9f54ad9bc55f06d64b2fedb",
       "version_major": 2,
       "version_minor": 0
      },
      "text/plain": [
       "aia_lev1_304a_2011_01_01t02_32_44_13z_image_lev1.fits:   0%|          | 0.00/9.81M [00:00<?, ?B/s]"
      ]
     },
     "metadata": {},
     "output_type": "display_data"
    },
    {
     "data": {
      "application/vnd.jupyter.widget-view+json": {
       "model_id": "18fead362d7247fbb5f5ee4c40120196",
       "version_major": 2,
       "version_minor": 0
      },
      "text/plain": [
       "aia_lev1_304a_2011_01_01t02_32_56_13z_image_lev1.fits:   0%|          | 0.00/9.81M [00:00<?, ?B/s]"
      ]
     },
     "metadata": {},
     "output_type": "display_data"
    },
    {
     "data": {
      "application/vnd.jupyter.widget-view+json": {
       "model_id": "7f222ca67bfb4af8a299c5535972df59",
       "version_major": 2,
       "version_minor": 0
      },
      "text/plain": [
       "aia_lev1_304a_2011_01_01t02_33_08_13z_image_lev1.fits:   0%|          | 0.00/9.81M [00:00<?, ?B/s]"
      ]
     },
     "metadata": {},
     "output_type": "display_data"
    },
    {
     "data": {
      "application/vnd.jupyter.widget-view+json": {
       "model_id": "69bfef94b31446ffadbbf998fe83349d",
       "version_major": 2,
       "version_minor": 0
      },
      "text/plain": [
       "aia_lev1_304a_2011_01_01t02_33_20_13z_image_lev1.fits:   0%|          | 0.00/9.81M [00:00<?, ?B/s]"
      ]
     },
     "metadata": {},
     "output_type": "display_data"
    },
    {
     "data": {
      "application/vnd.jupyter.widget-view+json": {
       "model_id": "1cb84a4340914d8a8abc0fa934258809",
       "version_major": 2,
       "version_minor": 0
      },
      "text/plain": [
       "aia_lev1_304a_2011_01_01t02_33_32_12z_image_lev1.fits:   0%|          | 0.00/9.81M [00:00<?, ?B/s]"
      ]
     },
     "metadata": {},
     "output_type": "display_data"
    },
    {
     "data": {
      "application/vnd.jupyter.widget-view+json": {
       "model_id": "a6162fb8521f419d914454b7ada32af8",
       "version_major": 2,
       "version_minor": 0
      },
      "text/plain": [
       "aia_lev1_304a_2011_01_01t02_33_44_13z_image_lev1.fits:   0%|          | 0.00/9.81M [00:00<?, ?B/s]"
      ]
     },
     "metadata": {},
     "output_type": "display_data"
    },
    {
     "data": {
      "application/vnd.jupyter.widget-view+json": {
       "model_id": "1226ada1a5c347b298d85ff5c3c4dc38",
       "version_major": 2,
       "version_minor": 0
      },
      "text/plain": [
       "aia_lev1_304a_2011_01_01t02_33_56_13z_image_lev1.fits:   0%|          | 0.00/9.81M [00:00<?, ?B/s]"
      ]
     },
     "metadata": {},
     "output_type": "display_data"
    },
    {
     "name": "stdout",
     "output_type": "stream",
     "text": [
      "1/0 files failed to download. Please check `.errors` for details\n"
     ]
    },
    {
     "data": {
      "application/vnd.jupyter.widget-view+json": {
       "model_id": "e178a0bf25bb4894a9cb3b743368a83a",
       "version_major": 2,
       "version_minor": 0
      },
      "text/plain": [
       "Files Downloaded:   0%|          | 0/10 [00:00<?, ?file/s]"
      ]
     },
     "metadata": {},
     "output_type": "display_data"
    },
    {
     "data": {
      "application/vnd.jupyter.widget-view+json": {
       "model_id": "0dab482b60ea4468aaa783f9fd235a04",
       "version_major": 2,
       "version_minor": 0
      },
      "text/plain": [
       "aia_lev1_304a_2011_01_01t02_34_08_12z_image_lev1.fits:   0%|          | 0.00/9.81M [00:00<?, ?B/s]"
      ]
     },
     "metadata": {},
     "output_type": "display_data"
    },
    {
     "data": {
      "application/vnd.jupyter.widget-view+json": {
       "model_id": "fcee6611abe94cc4b54d53403570aaed",
       "version_major": 2,
       "version_minor": 0
      },
      "text/plain": [
       "aia_lev1_304a_2011_01_01t02_34_56_12z_image_lev1.fits:   0%|          | 0.00/9.81M [00:00<?, ?B/s]"
      ]
     },
     "metadata": {},
     "output_type": "display_data"
    },
    {
     "data": {
      "application/vnd.jupyter.widget-view+json": {
       "model_id": "fd60eadca2434ea7b6db800e6a61b537",
       "version_major": 2,
       "version_minor": 0
      },
      "text/plain": [
       "aia_lev1_304a_2011_01_01t02_34_32_12z_image_lev1.fits:   0%|          | 0.00/9.81M [00:00<?, ?B/s]"
      ]
     },
     "metadata": {},
     "output_type": "display_data"
    },
    {
     "data": {
      "application/vnd.jupyter.widget-view+json": {
       "model_id": "491944a0ccba45ba9a36f05f6e40e0c6",
       "version_major": 2,
       "version_minor": 0
      },
      "text/plain": [
       "aia_lev1_304a_2011_01_01t02_34_20_13z_image_lev1.fits:   0%|          | 0.00/9.82M [00:00<?, ?B/s]"
      ]
     },
     "metadata": {},
     "output_type": "display_data"
    },
    {
     "data": {
      "application/vnd.jupyter.widget-view+json": {
       "model_id": "3188829b28cd41769305d32c5ac7e460",
       "version_major": 2,
       "version_minor": 0
      },
      "text/plain": [
       "aia_lev1_304a_2011_01_01t02_35_08_13z_image_lev1.fits:   0%|          | 0.00/9.81M [00:00<?, ?B/s]"
      ]
     },
     "metadata": {},
     "output_type": "display_data"
    },
    {
     "data": {
      "application/vnd.jupyter.widget-view+json": {
       "model_id": "abb27b7e907a4e6eb132465b73eeae8f",
       "version_major": 2,
       "version_minor": 0
      },
      "text/plain": [
       "aia_lev1_304a_2011_01_01t02_35_20_13z_image_lev1.fits:   0%|          | 0.00/9.81M [00:00<?, ?B/s]"
      ]
     },
     "metadata": {},
     "output_type": "display_data"
    },
    {
     "data": {
      "application/vnd.jupyter.widget-view+json": {
       "model_id": "fd51d369dd034fd78bc9f2beb95267e8",
       "version_major": 2,
       "version_minor": 0
      },
      "text/plain": [
       "aia_lev1_304a_2011_01_01t02_35_32_12z_image_lev1.fits:   0%|          | 0.00/9.82M [00:00<?, ?B/s]"
      ]
     },
     "metadata": {},
     "output_type": "display_data"
    },
    {
     "data": {
      "application/vnd.jupyter.widget-view+json": {
       "model_id": "46d66d61ac224154a535fa3e744738a2",
       "version_major": 2,
       "version_minor": 0
      },
      "text/plain": [
       "aia_lev1_304a_2011_01_01t02_35_44_12z_image_lev1.fits:   0%|          | 0.00/9.82M [00:00<?, ?B/s]"
      ]
     },
     "metadata": {},
     "output_type": "display_data"
    },
    {
     "data": {
      "application/vnd.jupyter.widget-view+json": {
       "model_id": "ae4daddf01504d8baf4c4c711a18ab66",
       "version_major": 2,
       "version_minor": 0
      },
      "text/plain": [
       "aia_lev1_304a_2011_01_01t02_35_56_13z_image_lev1.fits:   0%|          | 0.00/9.81M [00:00<?, ?B/s]"
      ]
     },
     "metadata": {},
     "output_type": "display_data"
    },
    {
     "name": "stdout",
     "output_type": "stream",
     "text": [
      "1/0 files failed to download. Please check `.errors` for details\n"
     ]
    },
    {
     "data": {
      "application/vnd.jupyter.widget-view+json": {
       "model_id": "21ee89d9d65f4c51b1bb0a50a8786d6a",
       "version_major": 2,
       "version_minor": 0
      },
      "text/plain": [
       "Files Downloaded:   0%|          | 0/10 [00:00<?, ?file/s]"
      ]
     },
     "metadata": {},
     "output_type": "display_data"
    },
    {
     "data": {
      "application/vnd.jupyter.widget-view+json": {
       "model_id": "8e97fa5bc3c6441b9bedef45cf9220f8",
       "version_major": 2,
       "version_minor": 0
      },
      "text/plain": [
       "aia_lev1_304a_2011_01_01t02_36_32_12z_image_lev1.fits:   0%|          | 0.00/9.82M [00:00<?, ?B/s]"
      ]
     },
     "metadata": {},
     "output_type": "display_data"
    },
    {
     "data": {
      "application/vnd.jupyter.widget-view+json": {
       "model_id": "0ba5cfc8d1e748aeb833333d0d47f132",
       "version_major": 2,
       "version_minor": 0
      },
      "text/plain": [
       "aia_lev1_304a_2011_01_01t02_36_56_12z_image_lev1.fits:   0%|          | 0.00/9.81M [00:00<?, ?B/s]"
      ]
     },
     "metadata": {},
     "output_type": "display_data"
    },
    {
     "data": {
      "application/vnd.jupyter.widget-view+json": {
       "model_id": "34fbf76c37044f6eb38248392768c142",
       "version_major": 2,
       "version_minor": 0
      },
      "text/plain": [
       "aia_lev1_304a_2011_01_01t02_36_20_13z_image_lev1.fits:   0%|          | 0.00/9.82M [00:00<?, ?B/s]"
      ]
     },
     "metadata": {},
     "output_type": "display_data"
    },
    {
     "data": {
      "application/vnd.jupyter.widget-view+json": {
       "model_id": "2a9d0657c9ef4c6faa7a59b1ade5aeb9",
       "version_major": 2,
       "version_minor": 0
      },
      "text/plain": [
       "aia_lev1_304a_2011_01_01t02_36_08_12z_image_lev1.fits:   0%|          | 0.00/9.81M [00:00<?, ?B/s]"
      ]
     },
     "metadata": {},
     "output_type": "display_data"
    },
    {
     "data": {
      "application/vnd.jupyter.widget-view+json": {
       "model_id": "8ddb47496e944ba1a68958abb702922f",
       "version_major": 2,
       "version_minor": 0
      },
      "text/plain": [
       "aia_lev1_304a_2011_01_01t02_37_20_13z_image_lev1.fits:   0%|          | 0.00/9.82M [00:00<?, ?B/s]"
      ]
     },
     "metadata": {},
     "output_type": "display_data"
    },
    {
     "data": {
      "application/vnd.jupyter.widget-view+json": {
       "model_id": "ab3cbacd525d408592401aa1a140a5d6",
       "version_major": 2,
       "version_minor": 0
      },
      "text/plain": [
       "aia_lev1_304a_2011_01_01t02_37_32_12z_image_lev1.fits:   0%|          | 0.00/9.81M [00:00<?, ?B/s]"
      ]
     },
     "metadata": {},
     "output_type": "display_data"
    },
    {
     "data": {
      "application/vnd.jupyter.widget-view+json": {
       "model_id": "55fbc6a46f8d480ea6b66b36d53e0ad6",
       "version_major": 2,
       "version_minor": 0
      },
      "text/plain": [
       "aia_lev1_304a_2011_01_01t02_37_44_12z_image_lev1.fits:   0%|          | 0.00/9.82M [00:00<?, ?B/s]"
      ]
     },
     "metadata": {},
     "output_type": "display_data"
    },
    {
     "data": {
      "application/vnd.jupyter.widget-view+json": {
       "model_id": "69e4a26779494afcb2a77aa96f98a2a5",
       "version_major": 2,
       "version_minor": 0
      },
      "text/plain": [
       "aia_lev1_304a_2011_01_01t02_37_56_13z_image_lev1.fits:   0%|          | 0.00/9.82M [00:00<?, ?B/s]"
      ]
     },
     "metadata": {},
     "output_type": "display_data"
    },
    {
     "name": "stdout",
     "output_type": "stream",
     "text": [
      "2/0 files failed to download. Please check `.errors` for details\n"
     ]
    },
    {
     "data": {
      "application/vnd.jupyter.widget-view+json": {
       "model_id": "79ad6a47302d4e51ab3412a19c57884d",
       "version_major": 2,
       "version_minor": 0
      },
      "text/plain": [
       "Files Downloaded:   0%|          | 0/10 [00:00<?, ?file/s]"
      ]
     },
     "metadata": {},
     "output_type": "display_data"
    },
    {
     "data": {
      "application/vnd.jupyter.widget-view+json": {
       "model_id": "67e76929f779424d9e73629c60fe48be",
       "version_major": 2,
       "version_minor": 0
      },
      "text/plain": [
       "aia_lev1_304a_2011_01_01t02_38_32_12z_image_lev1.fits:   0%|          | 0.00/9.81M [00:00<?, ?B/s]"
      ]
     },
     "metadata": {},
     "output_type": "display_data"
    },
    {
     "data": {
      "application/vnd.jupyter.widget-view+json": {
       "model_id": "f132382982be494f96d6884c59f36d61",
       "version_major": 2,
       "version_minor": 0
      },
      "text/plain": [
       "aia_lev1_304a_2011_01_01t02_38_44_13z_image_lev1.fits:   0%|          | 0.00/9.81M [00:00<?, ?B/s]"
      ]
     },
     "metadata": {},
     "output_type": "display_data"
    },
    {
     "data": {
      "application/vnd.jupyter.widget-view+json": {
       "model_id": "452a2227b4a34d03b879eaafe72bcc98",
       "version_major": 2,
       "version_minor": 0
      },
      "text/plain": [
       "aia_lev1_304a_2011_01_01t02_38_20_13z_image_lev1.fits:   0%|          | 0.00/9.81M [00:00<?, ?B/s]"
      ]
     },
     "metadata": {},
     "output_type": "display_data"
    },
    {
     "data": {
      "application/vnd.jupyter.widget-view+json": {
       "model_id": "e263d3e0e5cd4a8dbfff2197e240012b",
       "version_major": 2,
       "version_minor": 0
      },
      "text/plain": [
       "aia_lev1_304a_2011_01_01t02_38_56_14z_image_lev1.fits:   0%|          | 0.00/9.81M [00:00<?, ?B/s]"
      ]
     },
     "metadata": {},
     "output_type": "display_data"
    },
    {
     "data": {
      "application/vnd.jupyter.widget-view+json": {
       "model_id": "bf3694eccb6b437ab053f6160efedb27",
       "version_major": 2,
       "version_minor": 0
      },
      "text/plain": [
       "aia_lev1_304a_2011_01_01t02_39_20_13z_image_lev1.fits:   0%|          | 0.00/9.82M [00:00<?, ?B/s]"
      ]
     },
     "metadata": {},
     "output_type": "display_data"
    },
    {
     "data": {
      "application/vnd.jupyter.widget-view+json": {
       "model_id": "813c889a4fcc4938975dec7cacf89997",
       "version_major": 2,
       "version_minor": 0
      },
      "text/plain": [
       "aia_lev1_304a_2011_01_01t02_39_32_12z_image_lev1.fits:   0%|          | 0.00/9.81M [00:00<?, ?B/s]"
      ]
     },
     "metadata": {},
     "output_type": "display_data"
    },
    {
     "name": "stdout",
     "output_type": "stream",
     "text": [
      "4/0 files failed to download. Please check `.errors` for details\n"
     ]
    },
    {
     "data": {
      "application/vnd.jupyter.widget-view+json": {
       "model_id": "2f4d113c5e7a4443a774443e229ee9f5",
       "version_major": 2,
       "version_minor": 0
      },
      "text/plain": [
       "Files Downloaded:   0%|          | 0/10 [00:00<?, ?file/s]"
      ]
     },
     "metadata": {},
     "output_type": "display_data"
    },
    {
     "data": {
      "application/vnd.jupyter.widget-view+json": {
       "model_id": "ea64af9508524d088975ab84a4df2338",
       "version_major": 2,
       "version_minor": 0
      },
      "text/plain": [
       "aia_lev1_304a_2011_01_01t02_40_56_14z_image_lev1.fits:   0%|          | 0.00/9.81M [00:00<?, ?B/s]"
      ]
     },
     "metadata": {},
     "output_type": "display_data"
    },
    {
     "data": {
      "application/vnd.jupyter.widget-view+json": {
       "model_id": "70ce8d2682644725977e7e57f7267a4d",
       "version_major": 2,
       "version_minor": 0
      },
      "text/plain": [
       "aia_lev1_304a_2011_01_01t02_40_20_13z_image_lev1.fits:   0%|          | 0.00/9.82M [00:00<?, ?B/s]"
      ]
     },
     "metadata": {},
     "output_type": "display_data"
    },
    {
     "data": {
      "application/vnd.jupyter.widget-view+json": {
       "model_id": "c6427335f8834d82ba507b69fd620d14",
       "version_major": 2,
       "version_minor": 0
      },
      "text/plain": [
       "aia_lev1_304a_2011_01_01t02_40_32_12z_image_lev1.fits:   0%|          | 0.00/9.82M [00:00<?, ?B/s]"
      ]
     },
     "metadata": {},
     "output_type": "display_data"
    },
    {
     "data": {
      "application/vnd.jupyter.widget-view+json": {
       "model_id": "e3930d5e68154a9694a31d8f1fa6ecba",
       "version_major": 2,
       "version_minor": 0
      },
      "text/plain": [
       "aia_lev1_304a_2011_01_01t02_41_20_13z_image_lev1.fits:   0%|          | 0.00/9.82M [00:00<?, ?B/s]"
      ]
     },
     "metadata": {},
     "output_type": "display_data"
    },
    {
     "data": {
      "application/vnd.jupyter.widget-view+json": {
       "model_id": "183938e6feab4a95a3f94477a514610d",
       "version_major": 2,
       "version_minor": 0
      },
      "text/plain": [
       "aia_lev1_304a_2011_01_01t02_41_32_12z_image_lev1.fits:   0%|          | 0.00/9.81M [00:00<?, ?B/s]"
      ]
     },
     "metadata": {},
     "output_type": "display_data"
    },
    {
     "data": {
      "application/vnd.jupyter.widget-view+json": {
       "model_id": "732700a256ab48019c94b16cdede90bb",
       "version_major": 2,
       "version_minor": 0
      },
      "text/plain": [
       "aia_lev1_304a_2011_01_01t02_41_56_13z_image_lev1.fits:   0%|          | 0.00/9.81M [00:00<?, ?B/s]"
      ]
     },
     "metadata": {},
     "output_type": "display_data"
    },
    {
     "name": "stdout",
     "output_type": "stream",
     "text": [
      "4/0 files failed to download. Please check `.errors` for details\n"
     ]
    },
    {
     "data": {
      "application/vnd.jupyter.widget-view+json": {
       "model_id": "4c495c05227a447b9ec96ab9b32d9373",
       "version_major": 2,
       "version_minor": 0
      },
      "text/plain": [
       "Files Downloaded:   0%|          | 0/10 [00:00<?, ?file/s]"
      ]
     },
     "metadata": {},
     "output_type": "display_data"
    },
    {
     "data": {
      "application/vnd.jupyter.widget-view+json": {
       "model_id": "565cd914bb4d4a8495278b7ba7cb3dc6",
       "version_major": 2,
       "version_minor": 0
      },
      "text/plain": [
       "aia_lev1_304a_2011_01_01t02_42_20_13z_image_lev1.fits:   0%|          | 0.00/9.81M [00:00<?, ?B/s]"
      ]
     },
     "metadata": {},
     "output_type": "display_data"
    },
    {
     "data": {
      "application/vnd.jupyter.widget-view+json": {
       "model_id": "2e57d8dbb18b450eb8a8eb44ffe22792",
       "version_major": 2,
       "version_minor": 0
      },
      "text/plain": [
       "aia_lev1_304a_2011_01_01t02_42_32_12z_image_lev1.fits:   0%|          | 0.00/9.81M [00:00<?, ?B/s]"
      ]
     },
     "metadata": {},
     "output_type": "display_data"
    },
    {
     "data": {
      "application/vnd.jupyter.widget-view+json": {
       "model_id": "8b10b06aac1c4c2497dc3d1587693941",
       "version_major": 2,
       "version_minor": 0
      },
      "text/plain": [
       "aia_lev1_304a_2011_01_01t02_42_56_12z_image_lev1.fits:   0%|          | 0.00/9.81M [00:00<?, ?B/s]"
      ]
     },
     "metadata": {},
     "output_type": "display_data"
    },
    {
     "data": {
      "application/vnd.jupyter.widget-view+json": {
       "model_id": "881ad2a19426453a9467c7100d72a166",
       "version_major": 2,
       "version_minor": 0
      },
      "text/plain": [
       "aia_lev1_304a_2011_01_01t02_42_08_12z_image_lev1.fits:   0%|          | 0.00/9.81M [00:00<?, ?B/s]"
      ]
     },
     "metadata": {},
     "output_type": "display_data"
    },
    {
     "data": {
      "application/vnd.jupyter.widget-view+json": {
       "model_id": "7bb7ec7c0d8e4389b363da0b636ed4a5",
       "version_major": 2,
       "version_minor": 0
      },
      "text/plain": [
       "aia_lev1_304a_2011_01_01t02_42_44_13z_image_lev1.fits:   0%|          | 0.00/9.81M [00:00<?, ?B/s]"
      ]
     },
     "metadata": {},
     "output_type": "display_data"
    },
    {
     "data": {
      "application/vnd.jupyter.widget-view+json": {
       "model_id": "e53a2851254f489fb106ce9593bb3e33",
       "version_major": 2,
       "version_minor": 0
      },
      "text/plain": [
       "aia_lev1_304a_2011_01_01t02_43_44_12z_image_lev1.fits:   0%|          | 0.00/9.82M [00:00<?, ?B/s]"
      ]
     },
     "metadata": {},
     "output_type": "display_data"
    },
    {
     "data": {
      "application/vnd.jupyter.widget-view+json": {
       "model_id": "30990eebc42e4fba9b767304c87ddb3c",
       "version_major": 2,
       "version_minor": 0
      },
      "text/plain": [
       "aia_lev1_304a_2011_01_01t02_43_32_12z_image_lev1.fits:   0%|          | 0.00/9.82M [00:00<?, ?B/s]"
      ]
     },
     "metadata": {},
     "output_type": "display_data"
    },
    {
     "data": {
      "application/vnd.jupyter.widget-view+json": {
       "model_id": "009a2875ba3a4e69b73301fccda8c19f",
       "version_major": 2,
       "version_minor": 0
      },
      "text/plain": [
       "aia_lev1_304a_2011_01_01t02_43_08_13z_image_lev1.fits:   0%|          | 0.00/9.81M [00:00<?, ?B/s]"
      ]
     },
     "metadata": {},
     "output_type": "display_data"
    },
    {
     "data": {
      "application/vnd.jupyter.widget-view+json": {
       "model_id": "2abaf42d70e14b55b983d8067f7b6da6",
       "version_major": 2,
       "version_minor": 0
      },
      "text/plain": [
       "aia_lev1_304a_2011_01_01t02_43_20_13z_image_lev1.fits:   0%|          | 0.00/9.82M [00:00<?, ?B/s]"
      ]
     },
     "metadata": {},
     "output_type": "display_data"
    },
    {
     "name": "stdout",
     "output_type": "stream",
     "text": [
      "1/0 files failed to download. Please check `.errors` for details\n"
     ]
    },
    {
     "data": {
      "application/vnd.jupyter.widget-view+json": {
       "model_id": "59d3aa8366bb4da9aacb356d43cc5c5d",
       "version_major": 2,
       "version_minor": 0
      },
      "text/plain": [
       "Files Downloaded:   0%|          | 0/10 [00:00<?, ?file/s]"
      ]
     },
     "metadata": {},
     "output_type": "display_data"
    },
    {
     "data": {
      "application/vnd.jupyter.widget-view+json": {
       "model_id": "9af30472962b4438a930d85c8448a37e",
       "version_major": 2,
       "version_minor": 0
      },
      "text/plain": [
       "aia_lev1_304a_2011_01_01t02_44_08_12z_image_lev1.fits:   0%|          | 0.00/9.81M [00:00<?, ?B/s]"
      ]
     },
     "metadata": {},
     "output_type": "display_data"
    },
    {
     "data": {
      "application/vnd.jupyter.widget-view+json": {
       "model_id": "de6b1b22516d44c8b5377e9e1af9187f",
       "version_major": 2,
       "version_minor": 0
      },
      "text/plain": [
       "aia_lev1_304a_2011_01_01t02_44_56_13z_image_lev1.fits:   0%|          | 0.00/9.81M [00:00<?, ?B/s]"
      ]
     },
     "metadata": {},
     "output_type": "display_data"
    },
    {
     "data": {
      "application/vnd.jupyter.widget-view+json": {
       "model_id": "c929e7fb73884e248613fe01dd44db42",
       "version_major": 2,
       "version_minor": 0
      },
      "text/plain": [
       "aia_lev1_304a_2011_01_01t02_44_44_13z_image_lev1.fits:   0%|          | 0.00/9.82M [00:00<?, ?B/s]"
      ]
     },
     "metadata": {},
     "output_type": "display_data"
    },
    {
     "data": {
      "application/vnd.jupyter.widget-view+json": {
       "model_id": "d580142b85f5432196c0a7c936a98a41",
       "version_major": 2,
       "version_minor": 0
      },
      "text/plain": [
       "aia_lev1_304a_2011_01_01t02_45_20_13z_image_lev1.fits:   0%|          | 0.00/9.81M [00:00<?, ?B/s]"
      ]
     },
     "metadata": {},
     "output_type": "display_data"
    },
    {
     "data": {
      "application/vnd.jupyter.widget-view+json": {
       "model_id": "1831547f5b3b4d9ba32ed056e9a4827c",
       "version_major": 2,
       "version_minor": 0
      },
      "text/plain": [
       "aia_lev1_304a_2011_01_01t02_45_56_13z_image_lev1.fits:   0%|          | 0.00/9.81M [00:00<?, ?B/s]"
      ]
     },
     "metadata": {},
     "output_type": "display_data"
    },
    {
     "name": "stdout",
     "output_type": "stream",
     "text": [
      "6/0 files failed to download. Please check `.errors` for details\n"
     ]
    },
    {
     "data": {
      "application/vnd.jupyter.widget-view+json": {
       "model_id": "b6a432168af64870a3c8c91935dfc8a0",
       "version_major": 2,
       "version_minor": 0
      },
      "text/plain": [
       "Files Downloaded:   0%|          | 0/10 [00:00<?, ?file/s]"
      ]
     },
     "metadata": {},
     "output_type": "display_data"
    },
    {
     "data": {
      "application/vnd.jupyter.widget-view+json": {
       "model_id": "d52cab9418614b759fb0f8c7ba34db68",
       "version_major": 2,
       "version_minor": 0
      },
      "text/plain": [
       "aia_lev1_304a_2011_01_01t02_46_08_12z_image_lev1.fits:   0%|          | 0.00/9.81M [00:00<?, ?B/s]"
      ]
     },
     "metadata": {},
     "output_type": "display_data"
    },
    {
     "data": {
      "application/vnd.jupyter.widget-view+json": {
       "model_id": "8122fe8b22a946feaad50ed4640bda2d",
       "version_major": 2,
       "version_minor": 0
      },
      "text/plain": [
       "aia_lev1_304a_2011_01_01t02_46_56_12z_image_lev1.fits:   0%|          | 0.00/9.81M [00:00<?, ?B/s]"
      ]
     },
     "metadata": {},
     "output_type": "display_data"
    },
    {
     "data": {
      "application/vnd.jupyter.widget-view+json": {
       "model_id": "fb725feb5f32466f854bf16e473ac982",
       "version_major": 2,
       "version_minor": 0
      },
      "text/plain": [
       "aia_lev1_304a_2011_01_01t02_46_44_13z_image_lev1.fits:   0%|          | 0.00/9.81M [00:00<?, ?B/s]"
      ]
     },
     "metadata": {},
     "output_type": "display_data"
    },
    {
     "data": {
      "application/vnd.jupyter.widget-view+json": {
       "model_id": "abc37e98f925458997116d90274f4236",
       "version_major": 2,
       "version_minor": 0
      },
      "text/plain": [
       "aia_lev1_304a_2011_01_01t02_46_32_12z_image_lev1.fits:   0%|          | 0.00/9.81M [00:00<?, ?B/s]"
      ]
     },
     "metadata": {},
     "output_type": "display_data"
    },
    {
     "data": {
      "application/vnd.jupyter.widget-view+json": {
       "model_id": "14160bf2795b43b49f3d8ee2befc1ff1",
       "version_major": 2,
       "version_minor": 0
      },
      "text/plain": [
       "aia_lev1_304a_2011_01_01t02_47_32_12z_image_lev1.fits:   0%|          | 0.00/9.81M [00:00<?, ?B/s]"
      ]
     },
     "metadata": {},
     "output_type": "display_data"
    },
    {
     "data": {
      "application/vnd.jupyter.widget-view+json": {
       "model_id": "02627df008934cc8a77dd694deb959dd",
       "version_major": 2,
       "version_minor": 0
      },
      "text/plain": [
       "aia_lev1_304a_2011_01_01t02_47_20_13z_image_lev1.fits:   0%|          | 0.00/9.81M [00:00<?, ?B/s]"
      ]
     },
     "metadata": {},
     "output_type": "display_data"
    },
    {
     "data": {
      "application/vnd.jupyter.widget-view+json": {
       "model_id": "8e6f53a3b3db426ba2d7e69e88efd115",
       "version_major": 2,
       "version_minor": 0
      },
      "text/plain": [
       "aia_lev1_304a_2011_01_01t02_47_44_14z_image_lev1.fits:   0%|          | 0.00/9.81M [00:00<?, ?B/s]"
      ]
     },
     "metadata": {},
     "output_type": "display_data"
    },
    {
     "data": {
      "application/vnd.jupyter.widget-view+json": {
       "model_id": "eec295c247fc4e9fabc7d7df03a42e21",
       "version_major": 2,
       "version_minor": 0
      },
      "text/plain": [
       "aia_lev1_304a_2011_01_01t02_47_56_13z_image_lev1.fits:   0%|          | 0.00/9.81M [00:00<?, ?B/s]"
      ]
     },
     "metadata": {},
     "output_type": "display_data"
    },
    {
     "name": "stdout",
     "output_type": "stream",
     "text": [
      "2/0 files failed to download. Please check `.errors` for details\n"
     ]
    },
    {
     "data": {
      "application/vnd.jupyter.widget-view+json": {
       "model_id": "d824587ab94a4f77b69f47e934018b4a",
       "version_major": 2,
       "version_minor": 0
      },
      "text/plain": [
       "Files Downloaded:   0%|          | 0/10 [00:00<?, ?file/s]"
      ]
     },
     "metadata": {},
     "output_type": "display_data"
    },
    {
     "data": {
      "application/vnd.jupyter.widget-view+json": {
       "model_id": "4bdb9a7936c04a8f90aa594a30c2db93",
       "version_major": 2,
       "version_minor": 0
      },
      "text/plain": [
       "aia_lev1_304a_2011_01_01t02_48_20_13z_image_lev1.fits:   0%|          | 0.00/9.81M [00:00<?, ?B/s]"
      ]
     },
     "metadata": {},
     "output_type": "display_data"
    },
    {
     "data": {
      "application/vnd.jupyter.widget-view+json": {
       "model_id": "90ed809e16b542fb87dc8339b418a0b1",
       "version_major": 2,
       "version_minor": 0
      },
      "text/plain": [
       "aia_lev1_304a_2011_01_01t02_48_56_12z_image_lev1.fits:   0%|          | 0.00/9.81M [00:00<?, ?B/s]"
      ]
     },
     "metadata": {},
     "output_type": "display_data"
    },
    {
     "data": {
      "application/vnd.jupyter.widget-view+json": {
       "model_id": "cd1fcb9d425c49759a65e208bb3be0cc",
       "version_major": 2,
       "version_minor": 0
      },
      "text/plain": [
       "aia_lev1_304a_2011_01_01t02_48_44_13z_image_lev1.fits:   0%|          | 0.00/9.81M [00:00<?, ?B/s]"
      ]
     },
     "metadata": {},
     "output_type": "display_data"
    },
    {
     "data": {
      "application/vnd.jupyter.widget-view+json": {
       "model_id": "cc765e32ef2e4f85b789f782f862fedd",
       "version_major": 2,
       "version_minor": 0
      },
      "text/plain": [
       "aia_lev1_304a_2011_01_01t02_49_08_13z_image_lev1.fits:   0%|          | 0.00/9.81M [00:00<?, ?B/s]"
      ]
     },
     "metadata": {},
     "output_type": "display_data"
    },
    {
     "data": {
      "application/vnd.jupyter.widget-view+json": {
       "model_id": "81e342b9cd314574939daaf51e74b9a3",
       "version_major": 2,
       "version_minor": 0
      },
      "text/plain": [
       "aia_lev1_304a_2011_01_01t02_49_32_12z_image_lev1.fits:   0%|          | 0.00/9.81M [00:00<?, ?B/s]"
      ]
     },
     "metadata": {},
     "output_type": "display_data"
    },
    {
     "data": {
      "application/vnd.jupyter.widget-view+json": {
       "model_id": "0826372d0bd6411e89770fa1a27a098e",
       "version_major": 2,
       "version_minor": 0
      },
      "text/plain": [
       "aia_lev1_304a_2011_01_01t02_49_56_13z_image_lev1.fits:   0%|          | 0.00/9.81M [00:00<?, ?B/s]"
      ]
     },
     "metadata": {},
     "output_type": "display_data"
    },
    {
     "name": "stdout",
     "output_type": "stream",
     "text": [
      "4/0 files failed to download. Please check `.errors` for details\n"
     ]
    },
    {
     "data": {
      "application/vnd.jupyter.widget-view+json": {
       "model_id": "8f6fcb660470448bbe9a8f48502603ca",
       "version_major": 2,
       "version_minor": 0
      },
      "text/plain": [
       "Files Downloaded:   0%|          | 0/10 [00:00<?, ?file/s]"
      ]
     },
     "metadata": {},
     "output_type": "display_data"
    },
    {
     "data": {
      "application/vnd.jupyter.widget-view+json": {
       "model_id": "f36926f7b67a4bfead79d21e326bfe06",
       "version_major": 2,
       "version_minor": 0
      },
      "text/plain": [
       "aia_lev1_304a_2011_01_01t02_50_20_13z_image_lev1.fits:   0%|          | 0.00/9.82M [00:00<?, ?B/s]"
      ]
     },
     "metadata": {},
     "output_type": "display_data"
    },
    {
     "data": {
      "application/vnd.jupyter.widget-view+json": {
       "model_id": "a3b7ab0c4cf2426db707b29b1368e6a3",
       "version_major": 2,
       "version_minor": 0
      },
      "text/plain": [
       "aia_lev1_304a_2011_01_01t02_50_56_14z_image_lev1.fits:   0%|          | 0.00/9.81M [00:00<?, ?B/s]"
      ]
     },
     "metadata": {},
     "output_type": "display_data"
    },
    {
     "data": {
      "application/vnd.jupyter.widget-view+json": {
       "model_id": "83a2b3a908a041508be33125435c8ff7",
       "version_major": 2,
       "version_minor": 0
      },
      "text/plain": [
       "aia_lev1_304a_2011_01_01t02_51_08_13z_image_lev1.fits:   0%|          | 0.00/9.81M [00:00<?, ?B/s]"
      ]
     },
     "metadata": {},
     "output_type": "display_data"
    },
    {
     "data": {
      "application/vnd.jupyter.widget-view+json": {
       "model_id": "1f5e7728586248c8a50753394c91bde2",
       "version_major": 2,
       "version_minor": 0
      },
      "text/plain": [
       "aia_lev1_304a_2011_01_01t02_51_20_13z_image_lev1.fits:   0%|          | 0.00/9.81M [00:00<?, ?B/s]"
      ]
     },
     "metadata": {},
     "output_type": "display_data"
    },
    {
     "data": {
      "application/vnd.jupyter.widget-view+json": {
       "model_id": "d4009885d4a84b719bc78fd7fb67a052",
       "version_major": 2,
       "version_minor": 0
      },
      "text/plain": [
       "aia_lev1_304a_2011_01_01t02_51_32_12z_image_lev1.fits:   0%|          | 0.00/9.82M [00:00<?, ?B/s]"
      ]
     },
     "metadata": {},
     "output_type": "display_data"
    },
    {
     "data": {
      "application/vnd.jupyter.widget-view+json": {
       "model_id": "27ac5d3776ce422a853959367c274869",
       "version_major": 2,
       "version_minor": 0
      },
      "text/plain": [
       "aia_lev1_304a_2011_01_01t02_51_44_12z_image_lev1.fits:   0%|          | 0.00/9.81M [00:00<?, ?B/s]"
      ]
     },
     "metadata": {},
     "output_type": "display_data"
    },
    {
     "data": {
      "application/vnd.jupyter.widget-view+json": {
       "model_id": "23a1ea30de1a483aaed871dfdb16ae76",
       "version_major": 2,
       "version_minor": 0
      },
      "text/plain": [
       "aia_lev1_304a_2011_01_01t02_51_56_13z_image_lev1.fits:   0%|          | 0.00/9.81M [00:00<?, ?B/s]"
      ]
     },
     "metadata": {},
     "output_type": "display_data"
    },
    {
     "name": "stdout",
     "output_type": "stream",
     "text": [
      "3/0 files failed to download. Please check `.errors` for details\n"
     ]
    },
    {
     "data": {
      "application/vnd.jupyter.widget-view+json": {
       "model_id": "221e089f772a434ebc43562c8242ff3e",
       "version_major": 2,
       "version_minor": 0
      },
      "text/plain": [
       "Files Downloaded:   0%|          | 0/10 [00:00<?, ?file/s]"
      ]
     },
     "metadata": {},
     "output_type": "display_data"
    },
    {
     "data": {
      "application/vnd.jupyter.widget-view+json": {
       "model_id": "c3fb8eadf134462f8ac04eebc74c7e61",
       "version_major": 2,
       "version_minor": 0
      },
      "text/plain": [
       "aia_lev1_304a_2011_01_01t02_52_56_12z_image_lev1.fits:   0%|          | 0.00/9.81M [00:00<?, ?B/s]"
      ]
     },
     "metadata": {},
     "output_type": "display_data"
    },
    {
     "data": {
      "application/vnd.jupyter.widget-view+json": {
       "model_id": "4f4559e3a9b64d18b19b3054ab1575e1",
       "version_major": 2,
       "version_minor": 0
      },
      "text/plain": [
       "aia_lev1_304a_2011_01_01t02_52_20_13z_image_lev1.fits:   0%|          | 0.00/9.81M [00:00<?, ?B/s]"
      ]
     },
     "metadata": {},
     "output_type": "display_data"
    },
    {
     "data": {
      "application/vnd.jupyter.widget-view+json": {
       "model_id": "04035ae58118472f9fc96f4c8c4bbb86",
       "version_major": 2,
       "version_minor": 0
      },
      "text/plain": [
       "aia_lev1_304a_2011_01_01t02_52_08_12z_image_lev1.fits:   0%|          | 0.00/9.81M [00:00<?, ?B/s]"
      ]
     },
     "metadata": {},
     "output_type": "display_data"
    },
    {
     "data": {
      "application/vnd.jupyter.widget-view+json": {
       "model_id": "bb1011bf8a134e1a8e093fc164456969",
       "version_major": 2,
       "version_minor": 0
      },
      "text/plain": [
       "aia_lev1_304a_2011_01_01t02_52_44_13z_image_lev1.fits:   0%|          | 0.00/9.81M [00:00<?, ?B/s]"
      ]
     },
     "metadata": {},
     "output_type": "display_data"
    },
    {
     "data": {
      "application/vnd.jupyter.widget-view+json": {
       "model_id": "9c38d69132bd4001afaa8a4df92ddc33",
       "version_major": 2,
       "version_minor": 0
      },
      "text/plain": [
       "aia_lev1_304a_2011_01_01t02_53_08_13z_image_lev1.fits:   0%|          | 0.00/9.81M [00:00<?, ?B/s]"
      ]
     },
     "metadata": {},
     "output_type": "display_data"
    },
    {
     "data": {
      "application/vnd.jupyter.widget-view+json": {
       "model_id": "b8a1f52b97bc4cf0aa4000d5abdd8276",
       "version_major": 2,
       "version_minor": 0
      },
      "text/plain": [
       "aia_lev1_304a_2011_01_01t02_53_20_13z_image_lev1.fits:   0%|          | 0.00/9.81M [00:00<?, ?B/s]"
      ]
     },
     "metadata": {},
     "output_type": "display_data"
    },
    {
     "data": {
      "application/vnd.jupyter.widget-view+json": {
       "model_id": "6f84679e34014c7dadf4d8134efe86f3",
       "version_major": 2,
       "version_minor": 0
      },
      "text/plain": [
       "aia_lev1_304a_2011_01_01t02_53_32_12z_image_lev1.fits:   0%|          | 0.00/9.81M [00:00<?, ?B/s]"
      ]
     },
     "metadata": {},
     "output_type": "display_data"
    },
    {
     "data": {
      "application/vnd.jupyter.widget-view+json": {
       "model_id": "0cda5c42b81b4704993cdbccad64f60f",
       "version_major": 2,
       "version_minor": 0
      },
      "text/plain": [
       "aia_lev1_304a_2011_01_01t02_53_44_12z_image_lev1.fits:   0%|          | 0.00/9.81M [00:00<?, ?B/s]"
      ]
     },
     "metadata": {},
     "output_type": "display_data"
    },
    {
     "data": {
      "application/vnd.jupyter.widget-view+json": {
       "model_id": "0c47e6efad914fc1a0d0e68cdc4b0af0",
       "version_major": 2,
       "version_minor": 0
      },
      "text/plain": [
       "aia_lev1_304a_2011_01_01t02_53_56_13z_image_lev1.fits:   0%|          | 0.00/9.81M [00:00<?, ?B/s]"
      ]
     },
     "metadata": {},
     "output_type": "display_data"
    },
    {
     "name": "stdout",
     "output_type": "stream",
     "text": [
      "1/0 files failed to download. Please check `.errors` for details\n"
     ]
    },
    {
     "data": {
      "application/vnd.jupyter.widget-view+json": {
       "model_id": "d0d54ded1d124b948ea1531018fd051e",
       "version_major": 2,
       "version_minor": 0
      },
      "text/plain": [
       "Files Downloaded:   0%|          | 0/10 [00:00<?, ?file/s]"
      ]
     },
     "metadata": {},
     "output_type": "display_data"
    },
    {
     "data": {
      "application/vnd.jupyter.widget-view+json": {
       "model_id": "81a8be8e396a4144a3463692bca8381e",
       "version_major": 2,
       "version_minor": 0
      },
      "text/plain": [
       "aia_lev1_304a_2011_01_01t02_54_56_12z_image_lev1.fits:   0%|          | 0.00/9.81M [00:00<?, ?B/s]"
      ]
     },
     "metadata": {},
     "output_type": "display_data"
    },
    {
     "data": {
      "application/vnd.jupyter.widget-view+json": {
       "model_id": "1d3271061c604be6953d2d63a6949266",
       "version_major": 2,
       "version_minor": 0
      },
      "text/plain": [
       "aia_lev1_304a_2011_01_01t02_54_08_12z_image_lev1.fits:   0%|          | 0.00/9.81M [00:00<?, ?B/s]"
      ]
     },
     "metadata": {},
     "output_type": "display_data"
    },
    {
     "data": {
      "application/vnd.jupyter.widget-view+json": {
       "model_id": "f8bf445ae6694a5f86fee2fcf5ed054d",
       "version_major": 2,
       "version_minor": 0
      },
      "text/plain": [
       "aia_lev1_304a_2011_01_01t02_54_20_13z_image_lev1.fits:   0%|          | 0.00/9.81M [00:00<?, ?B/s]"
      ]
     },
     "metadata": {},
     "output_type": "display_data"
    },
    {
     "data": {
      "application/vnd.jupyter.widget-view+json": {
       "model_id": "06dc01c924084546aa1a3adfe5854956",
       "version_major": 2,
       "version_minor": 0
      },
      "text/plain": [
       "aia_lev1_304a_2011_01_01t02_54_32_12z_image_lev1.fits:   0%|          | 0.00/9.81M [00:00<?, ?B/s]"
      ]
     },
     "metadata": {},
     "output_type": "display_data"
    },
    {
     "data": {
      "application/vnd.jupyter.widget-view+json": {
       "model_id": "5db4746242c043098206704f5f37c9dc",
       "version_major": 2,
       "version_minor": 0
      },
      "text/plain": [
       "aia_lev1_304a_2011_01_01t02_54_44_13z_image_lev1.fits:   0%|          | 0.00/9.81M [00:00<?, ?B/s]"
      ]
     },
     "metadata": {},
     "output_type": "display_data"
    },
    {
     "data": {
      "application/vnd.jupyter.widget-view+json": {
       "model_id": "1ddd1316aebb4fe4bf9c2d06d918ce17",
       "version_major": 2,
       "version_minor": 0
      },
      "text/plain": [
       "aia_lev1_304a_2011_01_01t02_55_20_13z_image_lev1.fits:   0%|          | 0.00/9.81M [00:00<?, ?B/s]"
      ]
     },
     "metadata": {},
     "output_type": "display_data"
    },
    {
     "data": {
      "application/vnd.jupyter.widget-view+json": {
       "model_id": "b7c522f421d44c5f877d1cb65a9c33a1",
       "version_major": 2,
       "version_minor": 0
      },
      "text/plain": [
       "aia_lev1_304a_2011_01_01t02_55_32_12z_image_lev1.fits:   0%|          | 0.00/9.81M [00:00<?, ?B/s]"
      ]
     },
     "metadata": {},
     "output_type": "display_data"
    },
    {
     "data": {
      "application/vnd.jupyter.widget-view+json": {
       "model_id": "1ec292ce81ec49e39c00b83d7ea4f653",
       "version_major": 2,
       "version_minor": 0
      },
      "text/plain": [
       "aia_lev1_304a_2011_01_01t02_55_44_12z_image_lev1.fits:   0%|          | 0.00/9.81M [00:00<?, ?B/s]"
      ]
     },
     "metadata": {},
     "output_type": "display_data"
    },
    {
     "data": {
      "application/vnd.jupyter.widget-view+json": {
       "model_id": "79942f5af47440308cf12c25d0017df3",
       "version_major": 2,
       "version_minor": 0
      },
      "text/plain": [
       "aia_lev1_304a_2011_01_01t02_55_56_13z_image_lev1.fits:   0%|          | 0.00/9.81M [00:00<?, ?B/s]"
      ]
     },
     "metadata": {},
     "output_type": "display_data"
    },
    {
     "name": "stdout",
     "output_type": "stream",
     "text": [
      "1/0 files failed to download. Please check `.errors` for details\n"
     ]
    },
    {
     "data": {
      "application/vnd.jupyter.widget-view+json": {
       "model_id": "7fc53f6dfa7d43cba716f7f99703eb83",
       "version_major": 2,
       "version_minor": 0
      },
      "text/plain": [
       "Files Downloaded:   0%|          | 0/10 [00:00<?, ?file/s]"
      ]
     },
     "metadata": {},
     "output_type": "display_data"
    },
    {
     "data": {
      "application/vnd.jupyter.widget-view+json": {
       "model_id": "d33cb7f5147345dd9dee8f6475e26690",
       "version_major": 2,
       "version_minor": 0
      },
      "text/plain": [
       "aia_lev1_304a_2011_01_01t02_56_32_12z_image_lev1.fits:   0%|          | 0.00/9.81M [00:00<?, ?B/s]"
      ]
     },
     "metadata": {},
     "output_type": "display_data"
    },
    {
     "data": {
      "application/vnd.jupyter.widget-view+json": {
       "model_id": "4883eb9b77184100af6bbe6a1ddfd1ec",
       "version_major": 2,
       "version_minor": 0
      },
      "text/plain": [
       "aia_lev1_304a_2011_01_01t02_56_44_13z_image_lev1.fits:   0%|          | 0.00/9.81M [00:00<?, ?B/s]"
      ]
     },
     "metadata": {},
     "output_type": "display_data"
    },
    {
     "data": {
      "application/vnd.jupyter.widget-view+json": {
       "model_id": "9a03468f27c840fbbc90d6c3c8a1cdc5",
       "version_major": 2,
       "version_minor": 0
      },
      "text/plain": [
       "aia_lev1_304a_2011_01_01t02_56_08_13z_image_lev1.fits:   0%|          | 0.00/9.81M [00:00<?, ?B/s]"
      ]
     },
     "metadata": {},
     "output_type": "display_data"
    },
    {
     "data": {
      "application/vnd.jupyter.widget-view+json": {
       "model_id": "e84b1864889740cc940a5fe627a56b2c",
       "version_major": 2,
       "version_minor": 0
      },
      "text/plain": [
       "aia_lev1_304a_2011_01_01t02_56_20_13z_image_lev1.fits:   0%|          | 0.00/9.81M [00:00<?, ?B/s]"
      ]
     },
     "metadata": {},
     "output_type": "display_data"
    },
    {
     "data": {
      "application/vnd.jupyter.widget-view+json": {
       "model_id": "d477e3fd3f884c269221cc15f17bcddc",
       "version_major": 2,
       "version_minor": 0
      },
      "text/plain": [
       "aia_lev1_304a_2011_01_01t02_57_08_13z_image_lev1.fits:   0%|          | 0.00/9.81M [00:00<?, ?B/s]"
      ]
     },
     "metadata": {},
     "output_type": "display_data"
    },
    {
     "data": {
      "application/vnd.jupyter.widget-view+json": {
       "model_id": "48d1f4baf3ef40a998e0d599642a5cc1",
       "version_major": 2,
       "version_minor": 0
      },
      "text/plain": [
       "aia_lev1_304a_2011_01_01t02_57_20_13z_image_lev1.fits:   0%|          | 0.00/9.81M [00:00<?, ?B/s]"
      ]
     },
     "metadata": {},
     "output_type": "display_data"
    },
    {
     "data": {
      "application/vnd.jupyter.widget-view+json": {
       "model_id": "e8e2bf9b59bf4bb3baaa29e67de3ab0a",
       "version_major": 2,
       "version_minor": 0
      },
      "text/plain": [
       "aia_lev1_304a_2011_01_01t02_57_32_12z_image_lev1.fits:   0%|          | 0.00/9.81M [00:00<?, ?B/s]"
      ]
     },
     "metadata": {},
     "output_type": "display_data"
    },
    {
     "data": {
      "application/vnd.jupyter.widget-view+json": {
       "model_id": "33f26b01e095438d9b16ce257a30ba79",
       "version_major": 2,
       "version_minor": 0
      },
      "text/plain": [
       "aia_lev1_304a_2011_01_01t02_57_44_12z_image_lev1.fits:   0%|          | 0.00/9.81M [00:00<?, ?B/s]"
      ]
     },
     "metadata": {},
     "output_type": "display_data"
    },
    {
     "data": {
      "application/vnd.jupyter.widget-view+json": {
       "model_id": "46c8b03b3aff40e28efa942f8e0cfbb2",
       "version_major": 2,
       "version_minor": 0
      },
      "text/plain": [
       "aia_lev1_304a_2011_01_01t02_57_56_13z_image_lev1.fits:   0%|          | 0.00/9.81M [00:00<?, ?B/s]"
      ]
     },
     "metadata": {},
     "output_type": "display_data"
    },
    {
     "name": "stdout",
     "output_type": "stream",
     "text": [
      "1/0 files failed to download. Please check `.errors` for details\n"
     ]
    },
    {
     "data": {
      "application/vnd.jupyter.widget-view+json": {
       "model_id": "d01374c7483947a9bf78893b7a0df7ba",
       "version_major": 2,
       "version_minor": 0
      },
      "text/plain": [
       "Files Downloaded:   0%|          | 0/10 [00:00<?, ?file/s]"
      ]
     },
     "metadata": {},
     "output_type": "display_data"
    },
    {
     "data": {
      "application/vnd.jupyter.widget-view+json": {
       "model_id": "abd598175c414cde92644af02b813b3a",
       "version_major": 2,
       "version_minor": 0
      },
      "text/plain": [
       "aia_lev1_304a_2011_01_01t02_58_56_12z_image_lev1.fits:   0%|          | 0.00/9.81M [00:00<?, ?B/s]"
      ]
     },
     "metadata": {},
     "output_type": "display_data"
    },
    {
     "data": {
      "application/vnd.jupyter.widget-view+json": {
       "model_id": "e8762c0ce46b4eabbac54b3222bd1293",
       "version_major": 2,
       "version_minor": 0
      },
      "text/plain": [
       "aia_lev1_304a_2011_01_01t02_59_08_13z_image_lev1.fits:   0%|          | 0.00/9.81M [00:00<?, ?B/s]"
      ]
     },
     "metadata": {},
     "output_type": "display_data"
    },
    {
     "data": {
      "application/vnd.jupyter.widget-view+json": {
       "model_id": "d2abf87add084ff78fbf29d2d57f5ee7",
       "version_major": 2,
       "version_minor": 0
      },
      "text/plain": [
       "aia_lev1_304a_2011_01_01t02_59_44_14z_image_lev1.fits:   0%|          | 0.00/9.81M [00:00<?, ?B/s]"
      ]
     },
     "metadata": {},
     "output_type": "display_data"
    },
    {
     "data": {
      "application/vnd.jupyter.widget-view+json": {
       "model_id": "4616540c03b646bda0e13b3d37da21a2",
       "version_major": 2,
       "version_minor": 0
      },
      "text/plain": [
       "aia_lev1_304a_2011_01_01t02_59_32_12z_image_lev1.fits:   0%|          | 0.00/9.81M [00:00<?, ?B/s]"
      ]
     },
     "metadata": {},
     "output_type": "display_data"
    },
    {
     "data": {
      "application/vnd.jupyter.widget-view+json": {
       "model_id": "e86cb568c36a4375855544d5f179d8e3",
       "version_major": 2,
       "version_minor": 0
      },
      "text/plain": [
       "aia_lev1_304a_2011_01_01t02_59_56_13z_image_lev1.fits:   0%|          | 0.00/9.81M [00:00<?, ?B/s]"
      ]
     },
     "metadata": {},
     "output_type": "display_data"
    },
    {
     "name": "stdout",
     "output_type": "stream",
     "text": [
      "5/0 files failed to download. Please check `.errors` for details\n"
     ]
    },
    {
     "data": {
      "application/vnd.jupyter.widget-view+json": {
       "model_id": "68c8116ecdea41f488b9d41edc0073de",
       "version_major": 2,
       "version_minor": 0
      },
      "text/plain": [
       "Files Downloaded:   0%|          | 0/10 [00:00<?, ?file/s]"
      ]
     },
     "metadata": {},
     "output_type": "display_data"
    },
    {
     "data": {
      "application/vnd.jupyter.widget-view+json": {
       "model_id": "59ca19d7ec0e4c11b3b71140561d0d7c",
       "version_major": 2,
       "version_minor": 0
      },
      "text/plain": [
       "aia_lev1_304a_2011_01_01t03_00_32_12z_image_lev1.fits:   0%|          | 0.00/9.81M [00:00<?, ?B/s]"
      ]
     },
     "metadata": {},
     "output_type": "display_data"
    },
    {
     "data": {
      "application/vnd.jupyter.widget-view+json": {
       "model_id": "20c4d90ec84d4c1c99ea8095b40e25bd",
       "version_major": 2,
       "version_minor": 0
      },
      "text/plain": [
       "aia_lev1_304a_2011_01_01t03_00_08_12z_image_lev1.fits:   0%|          | 0.00/9.81M [00:00<?, ?B/s]"
      ]
     },
     "metadata": {},
     "output_type": "display_data"
    },
    {
     "data": {
      "application/vnd.jupyter.widget-view+json": {
       "model_id": "e07d0601bd0242cfbbab0f8d94fe8382",
       "version_major": 2,
       "version_minor": 0
      },
      "text/plain": [
       "aia_lev1_304a_2011_01_01t03_00_56_12z_image_lev1.fits:   0%|          | 0.00/9.81M [00:00<?, ?B/s]"
      ]
     },
     "metadata": {},
     "output_type": "display_data"
    },
    {
     "data": {
      "application/vnd.jupyter.widget-view+json": {
       "model_id": "bb0b649e3dc54ebeb469097edee3d898",
       "version_major": 2,
       "version_minor": 0
      },
      "text/plain": [
       "aia_lev1_304a_2011_01_01t03_00_20_13z_image_lev1.fits:   0%|          | 0.00/9.81M [00:00<?, ?B/s]"
      ]
     },
     "metadata": {},
     "output_type": "display_data"
    },
    {
     "data": {
      "application/vnd.jupyter.widget-view+json": {
       "model_id": "3664132dcb67442fadb4e86bc52fd3cd",
       "version_major": 2,
       "version_minor": 0
      },
      "text/plain": [
       "aia_lev1_304a_2011_01_01t03_01_20_13z_image_lev1.fits:   0%|          | 0.00/9.81M [00:00<?, ?B/s]"
      ]
     },
     "metadata": {},
     "output_type": "display_data"
    },
    {
     "data": {
      "application/vnd.jupyter.widget-view+json": {
       "model_id": "79a4684aa8144223bccdd74d3605c2e9",
       "version_major": 2,
       "version_minor": 0
      },
      "text/plain": [
       "aia_lev1_304a_2011_01_01t03_01_32_12z_image_lev1.fits:   0%|          | 0.00/9.81M [00:00<?, ?B/s]"
      ]
     },
     "metadata": {},
     "output_type": "display_data"
    },
    {
     "name": "stdout",
     "output_type": "stream",
     "text": [
      "4/0 files failed to download. Please check `.errors` for details\n"
     ]
    },
    {
     "data": {
      "application/vnd.jupyter.widget-view+json": {
       "model_id": "b7ceb255f5ee400ebaf9f1bc4e42c1e9",
       "version_major": 2,
       "version_minor": 0
      },
      "text/plain": [
       "Files Downloaded:   0%|          | 0/10 [00:00<?, ?file/s]"
      ]
     },
     "metadata": {},
     "output_type": "display_data"
    },
    {
     "data": {
      "application/vnd.jupyter.widget-view+json": {
       "model_id": "7cf2670ed4ba4bf397ab87a8791195aa",
       "version_major": 2,
       "version_minor": 0
      },
      "text/plain": [
       "aia_lev1_304a_2011_01_01t03_02_56_12z_image_lev1.fits:   0%|          | 0.00/9.81M [00:00<?, ?B/s]"
      ]
     },
     "metadata": {},
     "output_type": "display_data"
    },
    {
     "data": {
      "application/vnd.jupyter.widget-view+json": {
       "model_id": "83d0106b9e3a40f8804e2aee81f40ae7",
       "version_major": 2,
       "version_minor": 0
      },
      "text/plain": [
       "aia_lev1_304a_2011_01_01t03_02_44_13z_image_lev1.fits:   0%|          | 0.00/9.81M [00:00<?, ?B/s]"
      ]
     },
     "metadata": {},
     "output_type": "display_data"
    },
    {
     "data": {
      "application/vnd.jupyter.widget-view+json": {
       "model_id": "d4e30465ded6465f8698fce3f1e10812",
       "version_major": 2,
       "version_minor": 0
      },
      "text/plain": [
       "aia_lev1_304a_2011_01_01t03_02_32_12z_image_lev1.fits:   0%|          | 0.00/9.81M [00:00<?, ?B/s]"
      ]
     },
     "metadata": {},
     "output_type": "display_data"
    },
    {
     "data": {
      "application/vnd.jupyter.widget-view+json": {
       "model_id": "4778c7a7e31c444e986416a3a2843a0a",
       "version_major": 2,
       "version_minor": 0
      },
      "text/plain": [
       "aia_lev1_304a_2011_01_01t03_02_20_13z_image_lev1.fits:   0%|          | 0.00/9.81M [00:00<?, ?B/s]"
      ]
     },
     "metadata": {},
     "output_type": "display_data"
    },
    {
     "data": {
      "application/vnd.jupyter.widget-view+json": {
       "model_id": "86ab70caf09749c48f624ea75b51b94c",
       "version_major": 2,
       "version_minor": 0
      },
      "text/plain": [
       "aia_lev1_304a_2011_01_01t03_03_08_13z_image_lev1.fits:   0%|          | 0.00/9.81M [00:00<?, ?B/s]"
      ]
     },
     "metadata": {},
     "output_type": "display_data"
    },
    {
     "data": {
      "application/vnd.jupyter.widget-view+json": {
       "model_id": "cde1d8a2d4bb4ab68628e605c9a433db",
       "version_major": 2,
       "version_minor": 0
      },
      "text/plain": [
       "aia_lev1_304a_2011_01_01t03_03_20_13z_image_lev1.fits:   0%|          | 0.00/9.81M [00:00<?, ?B/s]"
      ]
     },
     "metadata": {},
     "output_type": "display_data"
    },
    {
     "data": {
      "application/vnd.jupyter.widget-view+json": {
       "model_id": "c358a0dd3f364c339348aedc94eb6f35",
       "version_major": 2,
       "version_minor": 0
      },
      "text/plain": [
       "aia_lev1_304a_2011_01_01t03_03_32_12z_image_lev1.fits:   0%|          | 0.00/9.82M [00:00<?, ?B/s]"
      ]
     },
     "metadata": {},
     "output_type": "display_data"
    },
    {
     "data": {
      "application/vnd.jupyter.widget-view+json": {
       "model_id": "67acec562f7d40c39a026ae22c54d8f5",
       "version_major": 2,
       "version_minor": 0
      },
      "text/plain": [
       "aia_lev1_304a_2011_01_01t03_03_44_12z_image_lev1.fits:   0%|          | 0.00/9.82M [00:00<?, ?B/s]"
      ]
     },
     "metadata": {},
     "output_type": "display_data"
    },
    {
     "name": "stdout",
     "output_type": "stream",
     "text": [
      "2/0 files failed to download. Please check `.errors` for details\n"
     ]
    },
    {
     "data": {
      "application/vnd.jupyter.widget-view+json": {
       "model_id": "989be5c8515a43bfa435dc77bb5bdb92",
       "version_major": 2,
       "version_minor": 0
      },
      "text/plain": [
       "Files Downloaded:   0%|          | 0/10 [00:00<?, ?file/s]"
      ]
     },
     "metadata": {},
     "output_type": "display_data"
    },
    {
     "data": {
      "application/vnd.jupyter.widget-view+json": {
       "model_id": "64b2b6ca111d4a0fa8af149fd4d0f84f",
       "version_major": 2,
       "version_minor": 0
      },
      "text/plain": [
       "aia_lev1_304a_2011_01_01t03_04_08_14z_image_lev1.fits:   0%|          | 0.00/9.81M [00:00<?, ?B/s]"
      ]
     },
     "metadata": {},
     "output_type": "display_data"
    },
    {
     "data": {
      "application/vnd.jupyter.widget-view+json": {
       "model_id": "afbe6f2f802f46fcb45c598764b6aea8",
       "version_major": 2,
       "version_minor": 0
      },
      "text/plain": [
       "aia_lev1_304a_2011_01_01t03_04_32_13z_image_lev1.fits:   0%|          | 0.00/9.82M [00:00<?, ?B/s]"
      ]
     },
     "metadata": {},
     "output_type": "display_data"
    },
    {
     "data": {
      "application/vnd.jupyter.widget-view+json": {
       "model_id": "a73f5de638294d90982a72840780afec",
       "version_major": 2,
       "version_minor": 0
      },
      "text/plain": [
       "aia_lev1_304a_2011_01_01t03_04_44_13z_image_lev1.fits:   0%|          | 0.00/9.82M [00:00<?, ?B/s]"
      ]
     },
     "metadata": {},
     "output_type": "display_data"
    },
    {
     "data": {
      "application/vnd.jupyter.widget-view+json": {
       "model_id": "4c5203e00f8e4be4a5c0ebc2528a4302",
       "version_major": 2,
       "version_minor": 0
      },
      "text/plain": [
       "aia_lev1_304a_2011_01_01t03_04_20_13z_image_lev1.fits:   0%|          | 0.00/9.82M [00:00<?, ?B/s]"
      ]
     },
     "metadata": {},
     "output_type": "display_data"
    },
    {
     "data": {
      "application/vnd.jupyter.widget-view+json": {
       "model_id": "087791b1bd484582abbc147706f055a2",
       "version_major": 2,
       "version_minor": 0
      },
      "text/plain": [
       "aia_lev1_304a_2011_01_01t03_05_08_13z_image_lev1.fits:   0%|          | 0.00/9.82M [00:00<?, ?B/s]"
      ]
     },
     "metadata": {},
     "output_type": "display_data"
    },
    {
     "data": {
      "application/vnd.jupyter.widget-view+json": {
       "model_id": "1ffc60550e224e888384e1386daacc14",
       "version_major": 2,
       "version_minor": 0
      },
      "text/plain": [
       "aia_lev1_304a_2011_01_01t03_05_20_13z_image_lev1.fits:   0%|          | 0.00/9.82M [00:00<?, ?B/s]"
      ]
     },
     "metadata": {},
     "output_type": "display_data"
    },
    {
     "data": {
      "application/vnd.jupyter.widget-view+json": {
       "model_id": "2c3e4c7a421a446fa689f9eaeb872e48",
       "version_major": 2,
       "version_minor": 0
      },
      "text/plain": [
       "aia_lev1_304a_2011_01_01t03_05_32_12z_image_lev1.fits:   0%|          | 0.00/9.81M [00:00<?, ?B/s]"
      ]
     },
     "metadata": {},
     "output_type": "display_data"
    },
    {
     "data": {
      "application/vnd.jupyter.widget-view+json": {
       "model_id": "7c0f3a6d6e9b4ff0bcdaff29bc52024d",
       "version_major": 2,
       "version_minor": 0
      },
      "text/plain": [
       "aia_lev1_304a_2011_01_01t03_05_44_12z_image_lev1.fits:   0%|          | 0.00/9.81M [00:00<?, ?B/s]"
      ]
     },
     "metadata": {},
     "output_type": "display_data"
    },
    {
     "name": "stdout",
     "output_type": "stream",
     "text": [
      "2/0 files failed to download. Please check `.errors` for details\n"
     ]
    },
    {
     "data": {
      "application/vnd.jupyter.widget-view+json": {
       "model_id": "2550422a07d74e51b6046b9b3b417862",
       "version_major": 2,
       "version_minor": 0
      },
      "text/plain": [
       "Files Downloaded:   0%|          | 0/10 [00:00<?, ?file/s]"
      ]
     },
     "metadata": {},
     "output_type": "display_data"
    },
    {
     "data": {
      "application/vnd.jupyter.widget-view+json": {
       "model_id": "52503d5eda5248b4a3db93fa315b1fcf",
       "version_major": 2,
       "version_minor": 0
      },
      "text/plain": [
       "aia_lev1_304a_2011_01_01t03_06_08_12z_image_lev1.fits:   0%|          | 0.00/9.81M [00:00<?, ?B/s]"
      ]
     },
     "metadata": {},
     "output_type": "display_data"
    },
    {
     "data": {
      "application/vnd.jupyter.widget-view+json": {
       "model_id": "89888b4b92bd4901a6f03172d20d8916",
       "version_major": 2,
       "version_minor": 0
      },
      "text/plain": [
       "aia_lev1_304a_2011_01_01t03_06_56_12z_image_lev1.fits:   0%|          | 0.00/9.81M [00:00<?, ?B/s]"
      ]
     },
     "metadata": {},
     "output_type": "display_data"
    },
    {
     "data": {
      "application/vnd.jupyter.widget-view+json": {
       "model_id": "424b3c9b2f8f44c39088082cffd039c5",
       "version_major": 2,
       "version_minor": 0
      },
      "text/plain": [
       "aia_lev1_304a_2011_01_01t03_06_20_13z_image_lev1.fits:   0%|          | 0.00/9.81M [00:00<?, ?B/s]"
      ]
     },
     "metadata": {},
     "output_type": "display_data"
    },
    {
     "data": {
      "application/vnd.jupyter.widget-view+json": {
       "model_id": "b53a16a7681d4ba9a97c8114ebbad1e7",
       "version_major": 2,
       "version_minor": 0
      },
      "text/plain": [
       "aia_lev1_304a_2011_01_01t03_06_32_12z_image_lev1.fits:   0%|          | 0.00/9.82M [00:00<?, ?B/s]"
      ]
     },
     "metadata": {},
     "output_type": "display_data"
    },
    {
     "data": {
      "application/vnd.jupyter.widget-view+json": {
       "model_id": "f025f212e682433d8ecf169921439631",
       "version_major": 2,
       "version_minor": 0
      },
      "text/plain": [
       "aia_lev1_304a_2011_01_01t03_06_44_13z_image_lev1.fits:   0%|          | 0.00/9.81M [00:00<?, ?B/s]"
      ]
     },
     "metadata": {},
     "output_type": "display_data"
    },
    {
     "data": {
      "application/vnd.jupyter.widget-view+json": {
       "model_id": "d08d0a7d5b134548bec8c50b74f18c49",
       "version_major": 2,
       "version_minor": 0
      },
      "text/plain": [
       "aia_lev1_304a_2011_01_01t03_07_08_13z_image_lev1.fits:   0%|          | 0.00/9.81M [00:00<?, ?B/s]"
      ]
     },
     "metadata": {},
     "output_type": "display_data"
    },
    {
     "data": {
      "application/vnd.jupyter.widget-view+json": {
       "model_id": "008224fea4124986a2ec4def049c72c8",
       "version_major": 2,
       "version_minor": 0
      },
      "text/plain": [
       "aia_lev1_304a_2011_01_01t03_07_20_13z_image_lev1.fits:   0%|          | 0.00/9.81M [00:00<?, ?B/s]"
      ]
     },
     "metadata": {},
     "output_type": "display_data"
    },
    {
     "data": {
      "application/vnd.jupyter.widget-view+json": {
       "model_id": "87dcdc0e6bfd4d188e0f962f6a932d54",
       "version_major": 2,
       "version_minor": 0
      },
      "text/plain": [
       "aia_lev1_304a_2011_01_01t03_07_32_12z_image_lev1.fits:   0%|          | 0.00/9.81M [00:00<?, ?B/s]"
      ]
     },
     "metadata": {},
     "output_type": "display_data"
    },
    {
     "data": {
      "application/vnd.jupyter.widget-view+json": {
       "model_id": "95dc72be6f6a42c58b069cef17bf06c7",
       "version_major": 2,
       "version_minor": 0
      },
      "text/plain": [
       "aia_lev1_304a_2011_01_01t03_07_44_12z_image_lev1.fits:   0%|          | 0.00/9.81M [00:00<?, ?B/s]"
      ]
     },
     "metadata": {},
     "output_type": "display_data"
    },
    {
     "name": "stdout",
     "output_type": "stream",
     "text": [
      "1/0 files failed to download. Please check `.errors` for details\n"
     ]
    },
    {
     "data": {
      "application/vnd.jupyter.widget-view+json": {
       "model_id": "ef14fea3764842209affd0eea3464cd7",
       "version_major": 2,
       "version_minor": 0
      },
      "text/plain": [
       "Files Downloaded:   0%|          | 0/10 [00:00<?, ?file/s]"
      ]
     },
     "metadata": {},
     "output_type": "display_data"
    },
    {
     "data": {
      "application/vnd.jupyter.widget-view+json": {
       "model_id": "490faa23516d47a3bf1ed87bc9915abc",
       "version_major": 2,
       "version_minor": 0
      },
      "text/plain": [
       "aia_lev1_304a_2011_01_01t03_08_32_12z_image_lev1.fits:   0%|          | 0.00/9.81M [00:00<?, ?B/s]"
      ]
     },
     "metadata": {},
     "output_type": "display_data"
    },
    {
     "data": {
      "application/vnd.jupyter.widget-view+json": {
       "model_id": "3ecf533edfa341d99d5af3882eaea553",
       "version_major": 2,
       "version_minor": 0
      },
      "text/plain": [
       "aia_lev1_304a_2011_01_01t03_08_56_12z_image_lev1.fits:   0%|          | 0.00/9.81M [00:00<?, ?B/s]"
      ]
     },
     "metadata": {},
     "output_type": "display_data"
    },
    {
     "data": {
      "application/vnd.jupyter.widget-view+json": {
       "model_id": "ac08ebdbd0e84cec9e8fd95c4bfa2f49",
       "version_major": 2,
       "version_minor": 0
      },
      "text/plain": [
       "aia_lev1_304a_2011_01_01t03_08_20_13z_image_lev1.fits:   0%|          | 0.00/9.81M [00:00<?, ?B/s]"
      ]
     },
     "metadata": {},
     "output_type": "display_data"
    },
    {
     "data": {
      "application/vnd.jupyter.widget-view+json": {
       "model_id": "25c4eb6b54274c8c823f44313a8a5e6e",
       "version_major": 2,
       "version_minor": 0
      },
      "text/plain": [
       "aia_lev1_304a_2011_01_01t03_09_56_13z_image_lev1.fits:   0%|          | 0.00/9.81M [00:00<?, ?B/s]"
      ]
     },
     "metadata": {},
     "output_type": "display_data"
    },
    {
     "data": {
      "application/vnd.jupyter.widget-view+json": {
       "model_id": "522353cc53d84ee2ade3e68b4d26ce22",
       "version_major": 2,
       "version_minor": 0
      },
      "text/plain": [
       "aia_lev1_304a_2011_01_01t03_09_44_12z_image_lev1.fits:   0%|          | 0.00/9.81M [00:00<?, ?B/s]"
      ]
     },
     "metadata": {},
     "output_type": "display_data"
    },
    {
     "name": "stdout",
     "output_type": "stream",
     "text": [
      "5/0 files failed to download. Please check `.errors` for details\n"
     ]
    },
    {
     "data": {
      "application/vnd.jupyter.widget-view+json": {
       "model_id": "e86685d2f3a9406cb8b9a8d58fe8e399",
       "version_major": 2,
       "version_minor": 0
      },
      "text/plain": [
       "Files Downloaded:   0%|          | 0/10 [00:00<?, ?file/s]"
      ]
     },
     "metadata": {},
     "output_type": "display_data"
    },
    {
     "data": {
      "application/vnd.jupyter.widget-view+json": {
       "model_id": "9258be8a45c54ac7b0813e83f0160595",
       "version_major": 2,
       "version_minor": 0
      },
      "text/plain": [
       "aia_lev1_304a_2011_01_01t03_11_56_13z_image_lev1.fits:   0%|          | 0.00/9.81M [00:00<?, ?B/s]"
      ]
     },
     "metadata": {},
     "output_type": "display_data"
    },
    {
     "data": {
      "application/vnd.jupyter.widget-view+json": {
       "model_id": "161ae1042dea41f9b199d6a2a3b20e12",
       "version_major": 2,
       "version_minor": 0
      },
      "text/plain": [
       "aia_lev1_304a_2011_01_01t03_11_44_12z_image_lev1.fits:   0%|          | 0.00/9.81M [00:00<?, ?B/s]"
      ]
     },
     "metadata": {},
     "output_type": "display_data"
    },
    {
     "data": {
      "application/vnd.jupyter.widget-view+json": {
       "model_id": "1a00382ff8934f2ebbb2515a83fb0d7e",
       "version_major": 2,
       "version_minor": 0
      },
      "text/plain": [
       "aia_lev1_304a_2011_01_01t03_11_08_13z_image_lev1.fits:   0%|          | 0.00/9.81M [00:00<?, ?B/s]"
      ]
     },
     "metadata": {},
     "output_type": "display_data"
    },
    {
     "name": "stdout",
     "output_type": "stream",
     "text": [
      "7/0 files failed to download. Please check `.errors` for details\n"
     ]
    },
    {
     "data": {
      "application/vnd.jupyter.widget-view+json": {
       "model_id": "6769c3e8a9dd448c82a870ab4ec3a9d6",
       "version_major": 2,
       "version_minor": 0
      },
      "text/plain": [
       "Files Downloaded:   0%|          | 0/10 [00:00<?, ?file/s]"
      ]
     },
     "metadata": {},
     "output_type": "display_data"
    },
    {
     "data": {
      "application/vnd.jupyter.widget-view+json": {
       "model_id": "c30c407809ff47abb6d680d04a77ab8f",
       "version_major": 2,
       "version_minor": 0
      },
      "text/plain": [
       "aia_lev1_304a_2011_01_01t03_12_32_12z_image_lev1.fits:   0%|          | 0.00/9.81M [00:00<?, ?B/s]"
      ]
     },
     "metadata": {},
     "output_type": "display_data"
    },
    {
     "data": {
      "application/vnd.jupyter.widget-view+json": {
       "model_id": "9e937aac7ba04947b96f61632926c544",
       "version_major": 2,
       "version_minor": 0
      },
      "text/plain": [
       "aia_lev1_304a_2011_01_01t03_12_08_12z_image_lev1.fits:   0%|          | 0.00/9.81M [00:00<?, ?B/s]"
      ]
     },
     "metadata": {},
     "output_type": "display_data"
    },
    {
     "data": {
      "application/vnd.jupyter.widget-view+json": {
       "model_id": "1c540fc1d8034a6ca5bc181a48830048",
       "version_major": 2,
       "version_minor": 0
      },
      "text/plain": [
       "aia_lev1_304a_2011_01_01t03_12_44_13z_image_lev1.fits:   0%|          | 0.00/9.81M [00:00<?, ?B/s]"
      ]
     },
     "metadata": {},
     "output_type": "display_data"
    },
    {
     "data": {
      "application/vnd.jupyter.widget-view+json": {
       "model_id": "8affc95d1e2c42eb9660ec680e70d3a0",
       "version_major": 2,
       "version_minor": 0
      },
      "text/plain": [
       "aia_lev1_304a_2011_01_01t03_12_20_12z_image_lev1.fits:   0%|          | 0.00/9.81M [00:00<?, ?B/s]"
      ]
     },
     "metadata": {},
     "output_type": "display_data"
    },
    {
     "data": {
      "application/vnd.jupyter.widget-view+json": {
       "model_id": "326afb01faa7418286a5c56d40edf460",
       "version_major": 2,
       "version_minor": 0
      },
      "text/plain": [
       "aia_lev1_304a_2011_01_01t03_12_56_14z_image_lev1.fits:   0%|          | 0.00/9.81M [00:00<?, ?B/s]"
      ]
     },
     "metadata": {},
     "output_type": "display_data"
    },
    {
     "data": {
      "application/vnd.jupyter.widget-view+json": {
       "model_id": "d71fb22ff1e04f5c911285ee3a7591e2",
       "version_major": 2,
       "version_minor": 0
      },
      "text/plain": [
       "aia_lev1_304a_2011_01_01t03_13_20_12z_image_lev1.fits:   0%|          | 0.00/9.81M [00:00<?, ?B/s]"
      ]
     },
     "metadata": {},
     "output_type": "display_data"
    },
    {
     "data": {
      "application/vnd.jupyter.widget-view+json": {
       "model_id": "42316b9c690746efb736ba1c2aefbe8b",
       "version_major": 2,
       "version_minor": 0
      },
      "text/plain": [
       "aia_lev1_304a_2011_01_01t03_13_08_13z_image_lev1.fits:   0%|          | 0.00/9.81M [00:00<?, ?B/s]"
      ]
     },
     "metadata": {},
     "output_type": "display_data"
    },
    {
     "data": {
      "application/vnd.jupyter.widget-view+json": {
       "model_id": "02e7e71e307b40e1ae9c6ea79abc2920",
       "version_major": 2,
       "version_minor": 0
      },
      "text/plain": [
       "aia_lev1_304a_2011_01_01t03_13_32_12z_image_lev1.fits:   0%|          | 0.00/9.81M [00:00<?, ?B/s]"
      ]
     },
     "metadata": {},
     "output_type": "display_data"
    },
    {
     "data": {
      "application/vnd.jupyter.widget-view+json": {
       "model_id": "cac581bd64cc4cb1904d1c8f92dec75b",
       "version_major": 2,
       "version_minor": 0
      },
      "text/plain": [
       "aia_lev1_304a_2011_01_01t03_13_44_12z_image_lev1.fits:   0%|          | 0.00/9.81M [00:00<?, ?B/s]"
      ]
     },
     "metadata": {},
     "output_type": "display_data"
    },
    {
     "data": {
      "application/vnd.jupyter.widget-view+json": {
       "model_id": "d14326ddfbe840928258b925bf6fd730",
       "version_major": 2,
       "version_minor": 0
      },
      "text/plain": [
       "aia_lev1_304a_2011_01_01t03_13_56_13z_image_lev1.fits:   0%|          | 0.00/9.81M [00:00<?, ?B/s]"
      ]
     },
     "metadata": {},
     "output_type": "display_data"
    },
    {
     "data": {
      "application/vnd.jupyter.widget-view+json": {
       "model_id": "bbf555fb3a0c488eb655b09f0c436cee",
       "version_major": 2,
       "version_minor": 0
      },
      "text/plain": [
       "Files Downloaded:   0%|          | 0/10 [00:00<?, ?file/s]"
      ]
     },
     "metadata": {},
     "output_type": "display_data"
    },
    {
     "data": {
      "application/vnd.jupyter.widget-view+json": {
       "model_id": "5d640e61013f48eebb7b2e2f9963c7a7",
       "version_major": 2,
       "version_minor": 0
      },
      "text/plain": [
       "aia_lev1_304a_2011_01_01t03_14_32_12z_image_lev1.fits:   0%|          | 0.00/9.82M [00:00<?, ?B/s]"
      ]
     },
     "metadata": {},
     "output_type": "display_data"
    },
    {
     "data": {
      "application/vnd.jupyter.widget-view+json": {
       "model_id": "963bad37acd14ed8848d75176333472c",
       "version_major": 2,
       "version_minor": 0
      },
      "text/plain": [
       "aia_lev1_304a_2011_01_01t03_14_56_12z_image_lev1.fits:   0%|          | 0.00/9.81M [00:00<?, ?B/s]"
      ]
     },
     "metadata": {},
     "output_type": "display_data"
    },
    {
     "data": {
      "application/vnd.jupyter.widget-view+json": {
       "model_id": "9a938180afec4e888afed2eac2472ec8",
       "version_major": 2,
       "version_minor": 0
      },
      "text/plain": [
       "aia_lev1_304a_2011_01_01t03_14_44_13z_image_lev1.fits:   0%|          | 0.00/9.82M [00:00<?, ?B/s]"
      ]
     },
     "metadata": {},
     "output_type": "display_data"
    },
    {
     "data": {
      "application/vnd.jupyter.widget-view+json": {
       "model_id": "f3145a9f0468421ea1210cc8d11b34a8",
       "version_major": 2,
       "version_minor": 0
      },
      "text/plain": [
       "aia_lev1_304a_2011_01_01t03_14_20_12z_image_lev1.fits:   0%|          | 0.00/9.82M [00:00<?, ?B/s]"
      ]
     },
     "metadata": {},
     "output_type": "display_data"
    },
    {
     "data": {
      "application/vnd.jupyter.widget-view+json": {
       "model_id": "b956497b16fa4352b7d21478261daf62",
       "version_major": 2,
       "version_minor": 0
      },
      "text/plain": [
       "aia_lev1_304a_2011_01_01t03_14_08_12z_image_lev1.fits:   0%|          | 0.00/9.81M [00:00<?, ?B/s]"
      ]
     },
     "metadata": {},
     "output_type": "display_data"
    },
    {
     "data": {
      "application/vnd.jupyter.widget-view+json": {
       "model_id": "f35b985ab1944f87a90b344fdcc52900",
       "version_major": 2,
       "version_minor": 0
      },
      "text/plain": [
       "aia_lev1_304a_2011_01_01t03_15_08_13z_image_lev1.fits:   0%|          | 0.00/9.82M [00:00<?, ?B/s]"
      ]
     },
     "metadata": {},
     "output_type": "display_data"
    },
    {
     "data": {
      "application/vnd.jupyter.widget-view+json": {
       "model_id": "9502abbafb224679a217abfb38ccc69a",
       "version_major": 2,
       "version_minor": 0
      },
      "text/plain": [
       "aia_lev1_304a_2011_01_01t03_15_20_12z_image_lev1.fits:   0%|          | 0.00/9.81M [00:00<?, ?B/s]"
      ]
     },
     "metadata": {},
     "output_type": "display_data"
    },
    {
     "data": {
      "application/vnd.jupyter.widget-view+json": {
       "model_id": "1b3edc3a9b56481ba7a682c6acebe0bd",
       "version_major": 2,
       "version_minor": 0
      },
      "text/plain": [
       "aia_lev1_304a_2011_01_01t03_15_32_12z_image_lev1.fits:   0%|          | 0.00/9.82M [00:00<?, ?B/s]"
      ]
     },
     "metadata": {},
     "output_type": "display_data"
    },
    {
     "data": {
      "application/vnd.jupyter.widget-view+json": {
       "model_id": "0fa0d21123224ea1b17b43e82dd410d8",
       "version_major": 2,
       "version_minor": 0
      },
      "text/plain": [
       "aia_lev1_304a_2011_01_01t03_15_56_13z_image_lev1.fits:   0%|          | 0.00/9.81M [00:00<?, ?B/s]"
      ]
     },
     "metadata": {},
     "output_type": "display_data"
    },
    {
     "name": "stdout",
     "output_type": "stream",
     "text": [
      "1/0 files failed to download. Please check `.errors` for details\n"
     ]
    },
    {
     "data": {
      "application/vnd.jupyter.widget-view+json": {
       "model_id": "7c0c94050d0a4bec832a22d78116e08f",
       "version_major": 2,
       "version_minor": 0
      },
      "text/plain": [
       "Files Downloaded:   0%|          | 0/10 [00:00<?, ?file/s]"
      ]
     },
     "metadata": {},
     "output_type": "display_data"
    },
    {
     "data": {
      "application/vnd.jupyter.widget-view+json": {
       "model_id": "879938febce04c949f79de12bcf4fc28",
       "version_major": 2,
       "version_minor": 0
      },
      "text/plain": [
       "aia_lev1_304a_2011_01_01t03_16_20_12z_image_lev1.fits:   0%|          | 0.00/9.82M [00:00<?, ?B/s]"
      ]
     },
     "metadata": {},
     "output_type": "display_data"
    },
    {
     "data": {
      "application/vnd.jupyter.widget-view+json": {
       "model_id": "f8cd059e1a4b43da97f572a4cd4fbdf2",
       "version_major": 2,
       "version_minor": 0
      },
      "text/plain": [
       "aia_lev1_304a_2011_01_01t03_16_56_14z_image_lev1.fits:   0%|          | 0.00/9.82M [00:00<?, ?B/s]"
      ]
     },
     "metadata": {},
     "output_type": "display_data"
    },
    {
     "data": {
      "application/vnd.jupyter.widget-view+json": {
       "model_id": "f466231f894a4e9e94250010d8bb8339",
       "version_major": 2,
       "version_minor": 0
      },
      "text/plain": [
       "aia_lev1_304a_2011_01_01t03_16_44_13z_image_lev1.fits:   0%|          | 0.00/9.82M [00:00<?, ?B/s]"
      ]
     },
     "metadata": {},
     "output_type": "display_data"
    },
    {
     "data": {
      "application/vnd.jupyter.widget-view+json": {
       "model_id": "23efd65f80d44621a4955aa6ceaf9d9b",
       "version_major": 2,
       "version_minor": 0
      },
      "text/plain": [
       "aia_lev1_304a_2011_01_01t03_16_08_12z_image_lev1.fits:   0%|          | 0.00/9.82M [00:00<?, ?B/s]"
      ]
     },
     "metadata": {},
     "output_type": "display_data"
    },
    {
     "data": {
      "application/vnd.jupyter.widget-view+json": {
       "model_id": "11f7ad7d8a3c4cb8af3850b20b0ca3db",
       "version_major": 2,
       "version_minor": 0
      },
      "text/plain": [
       "aia_lev1_304a_2011_01_01t03_17_08_13z_image_lev1.fits:   0%|          | 0.00/9.82M [00:00<?, ?B/s]"
      ]
     },
     "metadata": {},
     "output_type": "display_data"
    },
    {
     "data": {
      "application/vnd.jupyter.widget-view+json": {
       "model_id": "8b9ac7f8e3ec4ae18a643ea6915ce3d9",
       "version_major": 2,
       "version_minor": 0
      },
      "text/plain": [
       "aia_lev1_304a_2011_01_01t03_17_44_12z_image_lev1.fits:   0%|          | 0.00/9.82M [00:00<?, ?B/s]"
      ]
     },
     "metadata": {},
     "output_type": "display_data"
    },
    {
     "data": {
      "application/vnd.jupyter.widget-view+json": {
       "model_id": "ea4d8ebd4369454ea55841cf743e0750",
       "version_major": 2,
       "version_minor": 0
      },
      "text/plain": [
       "aia_lev1_304a_2011_01_01t03_17_20_12z_image_lev1.fits:   0%|          | 0.00/9.82M [00:00<?, ?B/s]"
      ]
     },
     "metadata": {},
     "output_type": "display_data"
    },
    {
     "data": {
      "application/vnd.jupyter.widget-view+json": {
       "model_id": "d7484b8cce7648778abf7495738fe3ba",
       "version_major": 2,
       "version_minor": 0
      },
      "text/plain": [
       "aia_lev1_304a_2011_01_01t03_17_32_12z_image_lev1.fits:   0%|          | 0.00/9.81M [00:00<?, ?B/s]"
      ]
     },
     "metadata": {},
     "output_type": "display_data"
    },
    {
     "data": {
      "application/vnd.jupyter.widget-view+json": {
       "model_id": "e6143ad49417483581ccac2868b6460c",
       "version_major": 2,
       "version_minor": 0
      },
      "text/plain": [
       "aia_lev1_304a_2011_01_01t03_17_56_13z_image_lev1.fits:   0%|          | 0.00/9.81M [00:00<?, ?B/s]"
      ]
     },
     "metadata": {},
     "output_type": "display_data"
    },
    {
     "name": "stdout",
     "output_type": "stream",
     "text": [
      "1/0 files failed to download. Please check `.errors` for details\n"
     ]
    },
    {
     "data": {
      "application/vnd.jupyter.widget-view+json": {
       "model_id": "97f5ee327b1d443eb8e7b41996a7076c",
       "version_major": 2,
       "version_minor": 0
      },
      "text/plain": [
       "Files Downloaded:   0%|          | 0/10 [00:00<?, ?file/s]"
      ]
     },
     "metadata": {},
     "output_type": "display_data"
    },
    {
     "data": {
      "application/vnd.jupyter.widget-view+json": {
       "model_id": "4b888454ec1841dab0149c3f0bd218e8",
       "version_major": 2,
       "version_minor": 0
      },
      "text/plain": [
       "aia_lev1_304a_2011_01_01t03_18_56_12z_image_lev1.fits:   0%|          | 0.00/9.82M [00:00<?, ?B/s]"
      ]
     },
     "metadata": {},
     "output_type": "display_data"
    },
    {
     "data": {
      "application/vnd.jupyter.widget-view+json": {
       "model_id": "cb59250641fb48529678fe385e30570d",
       "version_major": 2,
       "version_minor": 0
      },
      "text/plain": [
       "aia_lev1_304a_2011_01_01t03_18_32_12z_image_lev1.fits:   0%|          | 0.00/9.82M [00:00<?, ?B/s]"
      ]
     },
     "metadata": {},
     "output_type": "display_data"
    },
    {
     "data": {
      "application/vnd.jupyter.widget-view+json": {
       "model_id": "07ddcdd9c7634edf96847b9cc2cf2f31",
       "version_major": 2,
       "version_minor": 0
      },
      "text/plain": [
       "aia_lev1_304a_2011_01_01t03_18_08_12z_image_lev1.fits:   0%|          | 0.00/9.82M [00:00<?, ?B/s]"
      ]
     },
     "metadata": {},
     "output_type": "display_data"
    },
    {
     "data": {
      "application/vnd.jupyter.widget-view+json": {
       "model_id": "f8547a46bb524e9dbcf79c620d3cbf2c",
       "version_major": 2,
       "version_minor": 0
      },
      "text/plain": [
       "aia_lev1_304a_2011_01_01t03_18_20_12z_image_lev1.fits:   0%|          | 0.00/9.82M [00:00<?, ?B/s]"
      ]
     },
     "metadata": {},
     "output_type": "display_data"
    },
    {
     "data": {
      "application/vnd.jupyter.widget-view+json": {
       "model_id": "8a9885132a6f45188279a3c02392334f",
       "version_major": 2,
       "version_minor": 0
      },
      "text/plain": [
       "aia_lev1_304a_2011_01_01t03_19_08_13z_image_lev1.fits:   0%|          | 0.00/9.82M [00:00<?, ?B/s]"
      ]
     },
     "metadata": {},
     "output_type": "display_data"
    },
    {
     "data": {
      "application/vnd.jupyter.widget-view+json": {
       "model_id": "37da8471b53b4175a86a0babde94be11",
       "version_major": 2,
       "version_minor": 0
      },
      "text/plain": [
       "aia_lev1_304a_2011_01_01t03_19_32_12z_image_lev1.fits:   0%|          | 0.00/9.82M [00:00<?, ?B/s]"
      ]
     },
     "metadata": {},
     "output_type": "display_data"
    },
    {
     "data": {
      "application/vnd.jupyter.widget-view+json": {
       "model_id": "e0caba00cf3247b4b8bbabd4d8353fa7",
       "version_major": 2,
       "version_minor": 0
      },
      "text/plain": [
       "aia_lev1_304a_2011_01_01t03_19_20_12z_image_lev1.fits:   0%|          | 0.00/9.82M [00:00<?, ?B/s]"
      ]
     },
     "metadata": {},
     "output_type": "display_data"
    },
    {
     "data": {
      "application/vnd.jupyter.widget-view+json": {
       "model_id": "f28afc12fe4d48f4afac9323fd2f82f2",
       "version_major": 2,
       "version_minor": 0
      },
      "text/plain": [
       "aia_lev1_304a_2011_01_01t03_19_44_12z_image_lev1.fits:   0%|          | 0.00/9.82M [00:00<?, ?B/s]"
      ]
     },
     "metadata": {},
     "output_type": "display_data"
    },
    {
     "data": {
      "application/vnd.jupyter.widget-view+json": {
       "model_id": "96ce0f4d485847108a1c31a084ee6162",
       "version_major": 2,
       "version_minor": 0
      },
      "text/plain": [
       "aia_lev1_304a_2011_01_01t03_19_56_13z_image_lev1.fits:   0%|          | 0.00/9.82M [00:00<?, ?B/s]"
      ]
     },
     "metadata": {},
     "output_type": "display_data"
    },
    {
     "name": "stdout",
     "output_type": "stream",
     "text": [
      "2/0 files failed to download. Please check `.errors` for details\n"
     ]
    },
    {
     "data": {
      "application/vnd.jupyter.widget-view+json": {
       "model_id": "ebf5be8ebfa04c1da20861df76868ec3",
       "version_major": 2,
       "version_minor": 0
      },
      "text/plain": [
       "Files Downloaded:   0%|          | 0/10 [00:00<?, ?file/s]"
      ]
     },
     "metadata": {},
     "output_type": "display_data"
    },
    {
     "data": {
      "application/vnd.jupyter.widget-view+json": {
       "model_id": "1a51db53e1c646a186096d928b2973b5",
       "version_major": 2,
       "version_minor": 0
      },
      "text/plain": [
       "aia_lev1_304a_2011_01_01t03_20_32_12z_image_lev1.fits:   0%|          | 0.00/9.82M [00:00<?, ?B/s]"
      ]
     },
     "metadata": {},
     "output_type": "display_data"
    },
    {
     "data": {
      "application/vnd.jupyter.widget-view+json": {
       "model_id": "6e69024c158b4d8fbbd96a0e558355b6",
       "version_major": 2,
       "version_minor": 0
      },
      "text/plain": [
       "aia_lev1_304a_2011_01_01t03_20_08_12z_image_lev1.fits:   0%|          | 0.00/9.82M [00:00<?, ?B/s]"
      ]
     },
     "metadata": {},
     "output_type": "display_data"
    },
    {
     "data": {
      "application/vnd.jupyter.widget-view+json": {
       "model_id": "351edd723d7d43aa8965ed93b5210159",
       "version_major": 2,
       "version_minor": 0
      },
      "text/plain": [
       "aia_lev1_304a_2011_01_01t03_20_20_12z_image_lev1.fits:   0%|          | 0.00/9.82M [00:00<?, ?B/s]"
      ]
     },
     "metadata": {},
     "output_type": "display_data"
    },
    {
     "data": {
      "application/vnd.jupyter.widget-view+json": {
       "model_id": "56d447740b7f41e19a7d9963c9fdbba2",
       "version_major": 2,
       "version_minor": 0
      },
      "text/plain": [
       "aia_lev1_304a_2011_01_01t03_20_56_13z_image_lev1.fits:   0%|          | 0.00/9.82M [00:00<?, ?B/s]"
      ]
     },
     "metadata": {},
     "output_type": "display_data"
    },
    {
     "data": {
      "application/vnd.jupyter.widget-view+json": {
       "model_id": "ddbfa77103914ca19e058ebfb1191dcf",
       "version_major": 2,
       "version_minor": 0
      },
      "text/plain": [
       "aia_lev1_304a_2011_01_01t03_21_08_13z_image_lev1.fits:   0%|          | 0.00/9.82M [00:00<?, ?B/s]"
      ]
     },
     "metadata": {},
     "output_type": "display_data"
    },
    {
     "data": {
      "application/vnd.jupyter.widget-view+json": {
       "model_id": "5aa5414a8138446c91e7f724227fbc89",
       "version_major": 2,
       "version_minor": 0
      },
      "text/plain": [
       "aia_lev1_304a_2011_01_01t03_21_44_13z_image_lev1.fits:   0%|          | 0.00/9.82M [00:00<?, ?B/s]"
      ]
     },
     "metadata": {},
     "output_type": "display_data"
    },
    {
     "data": {
      "application/vnd.jupyter.widget-view+json": {
       "model_id": "693acf5f476a478697f3e6d32788cd69",
       "version_major": 2,
       "version_minor": 0
      },
      "text/plain": [
       "aia_lev1_304a_2011_01_01t03_21_32_12z_image_lev1.fits:   0%|          | 0.00/9.82M [00:00<?, ?B/s]"
      ]
     },
     "metadata": {},
     "output_type": "display_data"
    },
    {
     "data": {
      "application/vnd.jupyter.widget-view+json": {
       "model_id": "2b18eed7a4a145dab73ccec592a18bac",
       "version_major": 2,
       "version_minor": 0
      },
      "text/plain": [
       "aia_lev1_304a_2011_01_01t03_21_56_13z_image_lev1.fits:   0%|          | 0.00/9.82M [00:00<?, ?B/s]"
      ]
     },
     "metadata": {},
     "output_type": "display_data"
    },
    {
     "name": "stdout",
     "output_type": "stream",
     "text": [
      "2/0 files failed to download. Please check `.errors` for details\n"
     ]
    },
    {
     "data": {
      "application/vnd.jupyter.widget-view+json": {
       "model_id": "34c2c26d88bd4d768c025a3689a6a1bf",
       "version_major": 2,
       "version_minor": 0
      },
      "text/plain": [
       "Files Downloaded:   0%|          | 0/10 [00:00<?, ?file/s]"
      ]
     },
     "metadata": {},
     "output_type": "display_data"
    },
    {
     "data": {
      "application/vnd.jupyter.widget-view+json": {
       "model_id": "fa1e726f1f9d483e97ad77f6727eca1b",
       "version_major": 2,
       "version_minor": 0
      },
      "text/plain": [
       "aia_lev1_304a_2011_01_01t03_22_56_12z_image_lev1.fits:   0%|          | 0.00/9.82M [00:00<?, ?B/s]"
      ]
     },
     "metadata": {},
     "output_type": "display_data"
    },
    {
     "data": {
      "application/vnd.jupyter.widget-view+json": {
       "model_id": "edf283a20a4a480e8434dfa705fcc2b1",
       "version_major": 2,
       "version_minor": 0
      },
      "text/plain": [
       "aia_lev1_304a_2011_01_01t03_22_44_13z_image_lev1.fits:   0%|          | 0.00/9.82M [00:00<?, ?B/s]"
      ]
     },
     "metadata": {},
     "output_type": "display_data"
    },
    {
     "data": {
      "application/vnd.jupyter.widget-view+json": {
       "model_id": "6827626bf39442cc99e1bacacf8a70c8",
       "version_major": 2,
       "version_minor": 0
      },
      "text/plain": [
       "aia_lev1_304a_2011_01_01t03_22_08_12z_image_lev1.fits:   0%|          | 0.00/9.82M [00:00<?, ?B/s]"
      ]
     },
     "metadata": {},
     "output_type": "display_data"
    },
    {
     "data": {
      "application/vnd.jupyter.widget-view+json": {
       "model_id": "0e4ddd9177a847f3bc70d95da694bbbb",
       "version_major": 2,
       "version_minor": 0
      },
      "text/plain": [
       "aia_lev1_304a_2011_01_01t03_22_32_12z_image_lev1.fits:   0%|          | 0.00/9.82M [00:00<?, ?B/s]"
      ]
     },
     "metadata": {},
     "output_type": "display_data"
    },
    {
     "data": {
      "application/vnd.jupyter.widget-view+json": {
       "model_id": "18627a398e4c4efc8c0b104d84af69d0",
       "version_major": 2,
       "version_minor": 0
      },
      "text/plain": [
       "aia_lev1_304a_2011_01_01t03_22_20_12z_image_lev1.fits:   0%|          | 0.00/9.82M [00:00<?, ?B/s]"
      ]
     },
     "metadata": {},
     "output_type": "display_data"
    },
    {
     "data": {
      "application/vnd.jupyter.widget-view+json": {
       "model_id": "4c777f69ffdc4a768a06ded3c6fc6764",
       "version_major": 2,
       "version_minor": 0
      },
      "text/plain": [
       "aia_lev1_304a_2011_01_01t03_23_56_13z_image_lev1.fits:   0%|          | 0.00/9.82M [00:00<?, ?B/s]"
      ]
     },
     "metadata": {},
     "output_type": "display_data"
    },
    {
     "name": "stdout",
     "output_type": "stream",
     "text": [
      "4/0 files failed to download. Please check `.errors` for details\n"
     ]
    },
    {
     "data": {
      "application/vnd.jupyter.widget-view+json": {
       "model_id": "ce0b0629e28241c090b8a4098006fd7a",
       "version_major": 2,
       "version_minor": 0
      },
      "text/plain": [
       "Files Downloaded:   0%|          | 0/10 [00:00<?, ?file/s]"
      ]
     },
     "metadata": {},
     "output_type": "display_data"
    },
    {
     "data": {
      "application/vnd.jupyter.widget-view+json": {
       "model_id": "bdbcbfdebe194821a343d0a7cd569244",
       "version_major": 2,
       "version_minor": 0
      },
      "text/plain": [
       "aia_lev1_304a_2011_01_01t03_24_56_12z_image_lev1.fits:   0%|          | 0.00/9.82M [00:00<?, ?B/s]"
      ]
     },
     "metadata": {},
     "output_type": "display_data"
    },
    {
     "data": {
      "application/vnd.jupyter.widget-view+json": {
       "model_id": "465cae10874947968a9e6da27c7e7fcd",
       "version_major": 2,
       "version_minor": 0
      },
      "text/plain": [
       "aia_lev1_304a_2011_01_01t03_24_20_12z_image_lev1.fits:   0%|          | 0.00/9.82M [00:00<?, ?B/s]"
      ]
     },
     "metadata": {},
     "output_type": "display_data"
    },
    {
     "data": {
      "application/vnd.jupyter.widget-view+json": {
       "model_id": "10eb85b7b17c433fb5bb638961a8ea24",
       "version_major": 2,
       "version_minor": 0
      },
      "text/plain": [
       "aia_lev1_304a_2011_01_01t03_24_08_12z_image_lev1.fits:   0%|          | 0.00/9.82M [00:00<?, ?B/s]"
      ]
     },
     "metadata": {},
     "output_type": "display_data"
    },
    {
     "data": {
      "application/vnd.jupyter.widget-view+json": {
       "model_id": "704e574c028a4c75889e77d9cad2483f",
       "version_major": 2,
       "version_minor": 0
      },
      "text/plain": [
       "aia_lev1_304a_2011_01_01t03_24_44_13z_image_lev1.fits:   0%|          | 0.00/9.82M [00:00<?, ?B/s]"
      ]
     },
     "metadata": {},
     "output_type": "display_data"
    },
    {
     "data": {
      "application/vnd.jupyter.widget-view+json": {
       "model_id": "034d2e68300c49259a58ef5e5be2e481",
       "version_major": 2,
       "version_minor": 0
      },
      "text/plain": [
       "aia_lev1_304a_2011_01_01t03_25_08_13z_image_lev1.fits:   0%|          | 0.00/9.82M [00:00<?, ?B/s]"
      ]
     },
     "metadata": {},
     "output_type": "display_data"
    },
    {
     "data": {
      "application/vnd.jupyter.widget-view+json": {
       "model_id": "252d57dff6c34592979b2bd0ff952134",
       "version_major": 2,
       "version_minor": 0
      },
      "text/plain": [
       "aia_lev1_304a_2011_01_01t03_25_56_13z_image_lev1.fits:   0%|          | 0.00/9.82M [00:00<?, ?B/s]"
      ]
     },
     "metadata": {},
     "output_type": "display_data"
    },
    {
     "name": "stdout",
     "output_type": "stream",
     "text": [
      "4/0 files failed to download. Please check `.errors` for details\n"
     ]
    },
    {
     "data": {
      "application/vnd.jupyter.widget-view+json": {
       "model_id": "4d013f35ac8e49f28561196bccab3e93",
       "version_major": 2,
       "version_minor": 0
      },
      "text/plain": [
       "Files Downloaded:   0%|          | 0/10 [00:00<?, ?file/s]"
      ]
     },
     "metadata": {},
     "output_type": "display_data"
    },
    {
     "data": {
      "application/vnd.jupyter.widget-view+json": {
       "model_id": "3c5e2763dcd6494d90bb787683a0ac54",
       "version_major": 2,
       "version_minor": 0
      },
      "text/plain": [
       "aia_lev1_304a_2011_01_01t03_26_56_12z_image_lev1.fits:   0%|          | 0.00/9.82M [00:00<?, ?B/s]"
      ]
     },
     "metadata": {},
     "output_type": "display_data"
    },
    {
     "data": {
      "application/vnd.jupyter.widget-view+json": {
       "model_id": "c4dac91557bf4902800ca47773095b6d",
       "version_major": 2,
       "version_minor": 0
      },
      "text/plain": [
       "aia_lev1_304a_2011_01_01t03_26_08_12z_image_lev1.fits:   0%|          | 0.00/9.81M [00:00<?, ?B/s]"
      ]
     },
     "metadata": {},
     "output_type": "display_data"
    },
    {
     "data": {
      "application/vnd.jupyter.widget-view+json": {
       "model_id": "e37c164cf5424355ae639af79d5ec09d",
       "version_major": 2,
       "version_minor": 0
      },
      "text/plain": [
       "aia_lev1_304a_2011_01_01t03_26_32_12z_image_lev1.fits:   0%|          | 0.00/9.82M [00:00<?, ?B/s]"
      ]
     },
     "metadata": {},
     "output_type": "display_data"
    },
    {
     "data": {
      "application/vnd.jupyter.widget-view+json": {
       "model_id": "b12cc3ef5fdf4518a8e9b5f43716d14f",
       "version_major": 2,
       "version_minor": 0
      },
      "text/plain": [
       "aia_lev1_304a_2011_01_01t03_26_44_13z_image_lev1.fits:   0%|          | 0.00/9.82M [00:00<?, ?B/s]"
      ]
     },
     "metadata": {},
     "output_type": "display_data"
    },
    {
     "data": {
      "application/vnd.jupyter.widget-view+json": {
       "model_id": "cc866cb6272646e3ab9130cec7d907c3",
       "version_major": 2,
       "version_minor": 0
      },
      "text/plain": [
       "aia_lev1_304a_2011_01_01t03_26_20_12z_image_lev1.fits:   0%|          | 0.00/9.82M [00:00<?, ?B/s]"
      ]
     },
     "metadata": {},
     "output_type": "display_data"
    },
    {
     "data": {
      "application/vnd.jupyter.widget-view+json": {
       "model_id": "4a0a235d4e454fdf9c3e8b436430156b",
       "version_major": 2,
       "version_minor": 0
      },
      "text/plain": [
       "aia_lev1_304a_2011_01_01t03_27_08_13z_image_lev1.fits:   0%|          | 0.00/9.82M [00:00<?, ?B/s]"
      ]
     },
     "metadata": {},
     "output_type": "display_data"
    },
    {
     "data": {
      "application/vnd.jupyter.widget-view+json": {
       "model_id": "cca7fd7f0e5240838b6021ee9a71e3d3",
       "version_major": 2,
       "version_minor": 0
      },
      "text/plain": [
       "aia_lev1_304a_2011_01_01t03_27_20_12z_image_lev1.fits:   0%|          | 0.00/9.82M [00:00<?, ?B/s]"
      ]
     },
     "metadata": {},
     "output_type": "display_data"
    },
    {
     "data": {
      "application/vnd.jupyter.widget-view+json": {
       "model_id": "5bb885cdd44a4644902df0d4b1c7d733",
       "version_major": 2,
       "version_minor": 0
      },
      "text/plain": [
       "aia_lev1_304a_2011_01_01t03_27_32_12z_image_lev1.fits:   0%|          | 0.00/9.81M [00:00<?, ?B/s]"
      ]
     },
     "metadata": {},
     "output_type": "display_data"
    },
    {
     "data": {
      "application/vnd.jupyter.widget-view+json": {
       "model_id": "c889f6824ce74923a4a5b502c20902ba",
       "version_major": 2,
       "version_minor": 0
      },
      "text/plain": [
       "aia_lev1_304a_2011_01_01t03_27_56_13z_image_lev1.fits:   0%|          | 0.00/9.81M [00:00<?, ?B/s]"
      ]
     },
     "metadata": {},
     "output_type": "display_data"
    },
    {
     "name": "stdout",
     "output_type": "stream",
     "text": [
      "1/0 files failed to download. Please check `.errors` for details\n"
     ]
    },
    {
     "data": {
      "application/vnd.jupyter.widget-view+json": {
       "model_id": "e507ffac6e24416e809c34918051b5e1",
       "version_major": 2,
       "version_minor": 0
      },
      "text/plain": [
       "Files Downloaded:   0%|          | 0/10 [00:00<?, ?file/s]"
      ]
     },
     "metadata": {},
     "output_type": "display_data"
    },
    {
     "data": {
      "application/vnd.jupyter.widget-view+json": {
       "model_id": "4cf8c5c37da146e58fb6efffefc98e1c",
       "version_major": 2,
       "version_minor": 0
      },
      "text/plain": [
       "aia_lev1_304a_2011_01_01t03_28_32_12z_image_lev1.fits:   0%|          | 0.00/9.81M [00:00<?, ?B/s]"
      ]
     },
     "metadata": {},
     "output_type": "display_data"
    },
    {
     "data": {
      "application/vnd.jupyter.widget-view+json": {
       "model_id": "798033c2b7fb4d26afbee2dbbfa8ea5c",
       "version_major": 2,
       "version_minor": 0
      },
      "text/plain": [
       "aia_lev1_304a_2011_01_01t03_28_56_12z_image_lev1.fits:   0%|          | 0.00/9.82M [00:00<?, ?B/s]"
      ]
     },
     "metadata": {},
     "output_type": "display_data"
    },
    {
     "data": {
      "application/vnd.jupyter.widget-view+json": {
       "model_id": "043ae273b3b34c23a21db3942abb862b",
       "version_major": 2,
       "version_minor": 0
      },
      "text/plain": [
       "aia_lev1_304a_2011_01_01t03_28_20_12z_image_lev1.fits:   0%|          | 0.00/9.81M [00:00<?, ?B/s]"
      ]
     },
     "metadata": {},
     "output_type": "display_data"
    },
    {
     "data": {
      "application/vnd.jupyter.widget-view+json": {
       "model_id": "659eb8417eea48f39b0e0d772f79842e",
       "version_major": 2,
       "version_minor": 0
      },
      "text/plain": [
       "aia_lev1_304a_2011_01_01t03_28_08_12z_image_lev1.fits:   0%|          | 0.00/9.81M [00:00<?, ?B/s]"
      ]
     },
     "metadata": {},
     "output_type": "display_data"
    },
    {
     "data": {
      "application/vnd.jupyter.widget-view+json": {
       "model_id": "261bea9b8b794430bb400882af6722a9",
       "version_major": 2,
       "version_minor": 0
      },
      "text/plain": [
       "aia_lev1_304a_2011_01_01t03_29_08_13z_image_lev1.fits:   0%|          | 0.00/9.82M [00:00<?, ?B/s]"
      ]
     },
     "metadata": {},
     "output_type": "display_data"
    },
    {
     "data": {
      "application/vnd.jupyter.widget-view+json": {
       "model_id": "9e95f4984cab48909a813a355b6ff9c7",
       "version_major": 2,
       "version_minor": 0
      },
      "text/plain": [
       "aia_lev1_304a_2011_01_01t03_29_32_12z_image_lev1.fits:   0%|          | 0.00/9.82M [00:00<?, ?B/s]"
      ]
     },
     "metadata": {},
     "output_type": "display_data"
    },
    {
     "data": {
      "application/vnd.jupyter.widget-view+json": {
       "model_id": "b5372d1c440c43cebec4bbf5312cabb0",
       "version_major": 2,
       "version_minor": 0
      },
      "text/plain": [
       "aia_lev1_304a_2011_01_01t03_29_44_13z_image_lev1.fits:   0%|          | 0.00/9.82M [00:00<?, ?B/s]"
      ]
     },
     "metadata": {},
     "output_type": "display_data"
    },
    {
     "data": {
      "application/vnd.jupyter.widget-view+json": {
       "model_id": "2e61d9dff586478c8e8fb46c0bd713c1",
       "version_major": 2,
       "version_minor": 0
      },
      "text/plain": [
       "aia_lev1_304a_2011_01_01t03_29_56_13z_image_lev1.fits:   0%|          | 0.00/9.81M [00:00<?, ?B/s]"
      ]
     },
     "metadata": {},
     "output_type": "display_data"
    },
    {
     "name": "stdout",
     "output_type": "stream",
     "text": [
      "2/0 files failed to download. Please check `.errors` for details\n"
     ]
    },
    {
     "data": {
      "application/vnd.jupyter.widget-view+json": {
       "model_id": "83e6c8c599ca420caf2f5c649f7ea2c6",
       "version_major": 2,
       "version_minor": 0
      },
      "text/plain": [
       "Files Downloaded:   0%|          | 0/10 [00:00<?, ?file/s]"
      ]
     },
     "metadata": {},
     "output_type": "display_data"
    },
    {
     "data": {
      "application/vnd.jupyter.widget-view+json": {
       "model_id": "3c6a5eb0494249909dceb9d450787fca",
       "version_major": 2,
       "version_minor": 0
      },
      "text/plain": [
       "aia_lev1_304a_2011_01_01t03_30_08_13z_image_lev1.fits:   0%|          | 0.00/9.82M [00:00<?, ?B/s]"
      ]
     },
     "metadata": {},
     "output_type": "display_data"
    },
    {
     "data": {
      "application/vnd.jupyter.widget-view+json": {
       "model_id": "6dbc4f1a896e4e71ac7ece4aee2d6be5",
       "version_major": 2,
       "version_minor": 0
      },
      "text/plain": [
       "aia_lev1_304a_2011_01_01t03_30_32_12z_image_lev1.fits:   0%|          | 0.00/9.81M [00:00<?, ?B/s]"
      ]
     },
     "metadata": {},
     "output_type": "display_data"
    },
    {
     "data": {
      "application/vnd.jupyter.widget-view+json": {
       "model_id": "0210f28061ad495596de4a934529fe18",
       "version_major": 2,
       "version_minor": 0
      },
      "text/plain": [
       "aia_lev1_304a_2011_01_01t03_30_44_13z_image_lev1.fits:   0%|          | 0.00/9.82M [00:00<?, ?B/s]"
      ]
     },
     "metadata": {},
     "output_type": "display_data"
    },
    {
     "data": {
      "application/vnd.jupyter.widget-view+json": {
       "model_id": "291cf226dbad4de2b1823c6805666597",
       "version_major": 2,
       "version_minor": 0
      },
      "text/plain": [
       "aia_lev1_304a_2011_01_01t03_30_56_12z_image_lev1.fits:   0%|          | 0.00/9.81M [00:00<?, ?B/s]"
      ]
     },
     "metadata": {},
     "output_type": "display_data"
    },
    {
     "data": {
      "application/vnd.jupyter.widget-view+json": {
       "model_id": "d55c87b10b8d4cb39041071511c84450",
       "version_major": 2,
       "version_minor": 0
      },
      "text/plain": [
       "aia_lev1_304a_2011_01_01t03_30_20_12z_image_lev1.fits:   0%|          | 0.00/9.81M [00:00<?, ?B/s]"
      ]
     },
     "metadata": {},
     "output_type": "display_data"
    },
    {
     "data": {
      "application/vnd.jupyter.widget-view+json": {
       "model_id": "afa383780b7e4d1f9fc2d4b225ba10e7",
       "version_major": 2,
       "version_minor": 0
      },
      "text/plain": [
       "aia_lev1_304a_2011_01_01t03_31_08_13z_image_lev1.fits:   0%|          | 0.00/9.81M [00:00<?, ?B/s]"
      ]
     },
     "metadata": {},
     "output_type": "display_data"
    },
    {
     "data": {
      "application/vnd.jupyter.widget-view+json": {
       "model_id": "412fb05555ae4ee68b25c0261f922d47",
       "version_major": 2,
       "version_minor": 0
      },
      "text/plain": [
       "aia_lev1_304a_2011_01_01t03_31_20_12z_image_lev1.fits:   0%|          | 0.00/9.82M [00:00<?, ?B/s]"
      ]
     },
     "metadata": {},
     "output_type": "display_data"
    },
    {
     "data": {
      "application/vnd.jupyter.widget-view+json": {
       "model_id": "2b176a171c8947b2a31b1c493a971992",
       "version_major": 2,
       "version_minor": 0
      },
      "text/plain": [
       "aia_lev1_304a_2011_01_01t03_31_32_12z_image_lev1.fits:   0%|          | 0.00/9.82M [00:00<?, ?B/s]"
      ]
     },
     "metadata": {},
     "output_type": "display_data"
    },
    {
     "data": {
      "application/vnd.jupyter.widget-view+json": {
       "model_id": "12b44c4d02a741f492062c643c752636",
       "version_major": 2,
       "version_minor": 0
      },
      "text/plain": [
       "aia_lev1_304a_2011_01_01t03_31_44_13z_image_lev1.fits:   0%|          | 0.00/9.81M [00:00<?, ?B/s]"
      ]
     },
     "metadata": {},
     "output_type": "display_data"
    },
    {
     "name": "stdout",
     "output_type": "stream",
     "text": [
      "1/0 files failed to download. Please check `.errors` for details\n"
     ]
    },
    {
     "data": {
      "application/vnd.jupyter.widget-view+json": {
       "model_id": "c81b42e8a695462993b1a64e4c0e8839",
       "version_major": 2,
       "version_minor": 0
      },
      "text/plain": [
       "Files Downloaded:   0%|          | 0/10 [00:00<?, ?file/s]"
      ]
     },
     "metadata": {},
     "output_type": "display_data"
    },
    {
     "name": "stdout",
     "output_type": "stream",
     "text": [
      "10/0 files failed to download. Please check `.errors` for details\n",
      "Error occurred: Server returned HTTP status 502 (no content available)\n",
      "Error occurred: Server returned HTTP status 502 (no content available)\n",
      "Error occurred: Server returned HTTP status 502 (no content available)\n",
      "Error occurred: Server returned HTTP status 502 (no content available)\n",
      "Error occurred: Server returned HTTP status 502 (no content available)\n",
      "Error occurred: Server returned HTTP status 502 (no content available)\n",
      "Error occurred: Server returned HTTP status 502 (no content available)\n",
      "Error occurred: Server returned HTTP status 502 (no content available)\n",
      "Error occurred: Server returned HTTP status 502 (no content available)\n",
      "Error occurred: Server returned HTTP status 502 (no content available)\n",
      "Error occurred: Server returned HTTP status 502 (no content available)\n",
      "Error occurred: Server returned HTTP status 502 (no content available)\n",
      "Error occurred: Server returned HTTP status 502 (no content available)\n",
      "Error occurred: Server returned HTTP status 502 (no content available)\n",
      "Error occurred: Server returned HTTP status 502 (no content available)\n",
      "Error occurred: Server returned HTTP status 502 (no content available)\n",
      "Error occurred: Server returned HTTP status 502 (no content available)\n",
      "Error occurred: Server returned HTTP status 502 (no content available)\n",
      "Error occurred: Server returned HTTP status 502 (no content available)\n",
      "Error occurred: Server returned HTTP status 502 (no content available)\n",
      "Error occurred: Server returned HTTP status 502 (no content available)\n",
      "Error occurred: Server returned HTTP status 502 (no content available)\n",
      "Error occurred: Server returned HTTP status 502 (no content available)\n",
      "Error occurred: Server returned HTTP status 502 (no content available)\n",
      "Error occurred: Server returned HTTP status 502 (no content available)\n",
      "Error occurred: Server returned HTTP status 502 (no content available)\n",
      "Error occurred: Server returned HTTP status 502 (no content available)\n",
      "Error occurred: Server returned HTTP status 502 (no content available)\n",
      "Error occurred: Server returned HTTP status 502 (no content available)\n",
      "Error occurred: Server returned HTTP status 502 (no content available)\n",
      "Error occurred: Server returned HTTP status 502 (no content available)\n",
      "Error occurred: Server returned HTTP status 502 (no content available)\n",
      "Error occurred: Server returned HTTP status 502 (no content available)\n",
      "Error occurred: Server returned HTTP status 502 (no content available)\n",
      "Error occurred: Server returned HTTP status 502 (no content available)\n",
      "Error occurred: Server returned HTTP status 502 (no content available)\n",
      "Error occurred: Server returned HTTP status 502 (no content available)\n",
      "Error occurred: Server returned HTTP status 502 (no content available)\n",
      "Error occurred: Server returned HTTP status 502 (no content available)\n",
      "Error occurred: Server returned HTTP status 502 (no content available)\n",
      "Error occurred: Server returned HTTP status 502 (no content available)\n",
      "Error occurred: Server returned HTTP status 502 (no content available)\n",
      "Error occurred: Server returned HTTP status 502 (no content available)\n",
      "Error occurred: Server returned HTTP status 502 (no content available)\n",
      "Error occurred: Server returned HTTP status 502 (no content available)\n",
      "Error occurred: Server returned HTTP status 502 (no content available)\n",
      "Error occurred: Server returned HTTP status 502 (no content available)\n",
      "Error occurred: Server returned HTTP status 502 (no content available)\n",
      "Error occurred: Server returned HTTP status 502 (no content available)\n",
      "Error occurred: Server returned HTTP status 502 (no content available)\n",
      "Error occurred: Server returned HTTP status 502 (no content available)\n",
      "Error occurred: Server returned HTTP status 502 (no content available)\n",
      "Error occurred: Server returned HTTP status 502 (no content available)\n",
      "Error occurred: Server returned HTTP status 502 (no content available)\n",
      "Error occurred: Server returned HTTP status 502 (no content available)\n",
      "Error occurred: Server returned HTTP status 502 (no content available)\n",
      "Error occurred: Server returned HTTP status 502 (no content available)\n",
      "Error occurred: Server returned HTTP status 502 (no content available)\n",
      "Error occurred: Server returned HTTP status 502 (no content available)\n",
      "Error occurred: Server returned HTTP status 502 (no content available)\n",
      "Error occurred: Server returned HTTP status 502 (no content available)\n",
      "Error occurred: Server returned HTTP status 502 (no content available)\n",
      "Error occurred: Server returned HTTP status 502 (no content available)\n",
      "Error occurred: Server returned HTTP status 502 (no content available)\n",
      "Error occurred: Server returned HTTP status 502 (no content available)\n",
      "Error occurred: Server returned HTTP status 502 (no content available)\n",
      "Error occurred: Server returned HTTP status 502 (no content available)\n",
      "Error occurred: Server returned HTTP status 502 (no content available)\n",
      "Error occurred: Server returned HTTP status 502 (no content available)\n",
      "Error occurred: Server returned HTTP status 502 (no content available)\n",
      "Error occurred: Server returned HTTP status 502 (no content available)\n",
      "Error occurred: Server returned HTTP status 502 (no content available)\n",
      "Error occurred: Server returned HTTP status 502 (no content available)\n",
      "Error occurred: Server returned HTTP status 502 (no content available)\n",
      "Error occurred: Server returned HTTP status 502 (no content available)\n",
      "Error occurred: Server returned HTTP status 502 (no content available)\n",
      "Error occurred: Server returned HTTP status 502 (no content available)\n",
      "Error occurred: Server returned HTTP status 502 (no content available)\n",
      "Error occurred: Server returned HTTP status 502 (no content available)\n",
      "Error occurred: Server returned HTTP status 502 (no content available)\n",
      "Error occurred: Server returned HTTP status 502 (no content available)\n",
      "Error occurred: Server returned HTTP status 502 (no content available)\n",
      "Error occurred: Server returned HTTP status 502 (no content available)\n",
      "Error occurred: Server returned HTTP status 502 (no content available)\n",
      "Error occurred: Server returned HTTP status 502 (no content available)\n",
      "Error occurred: Server returned HTTP status 502 (no content available)\n",
      "Error occurred: Server returned HTTP status 502 (no content available)\n",
      "Error occurred: Server returned HTTP status 502 (no content available)\n",
      "Error occurred: Server returned HTTP status 502 (no content available)\n",
      "Error occurred: Server returned HTTP status 502 (no content available)\n",
      "Error occurred: Server returned HTTP status 502 (no content available)\n",
      "Error occurred: Server returned HTTP status 502 (no content available)\n",
      "Error occurred: Server returned HTTP status 502 (no content available)\n",
      "Error occurred: Server returned HTTP status 502 (no content available)\n",
      "Error occurred: Server returned HTTP status 502 (no content available)\n",
      "Error occurred: Server returned HTTP status 502 (no content available)\n",
      "Error occurred: Server returned HTTP status 502 (no content available)\n",
      "Error occurred: Server returned HTTP status 502 (no content available)\n",
      "Error occurred: Server returned HTTP status 502 (no content available)\n",
      "Error occurred: Server returned HTTP status 502 (no content available)\n",
      "Error occurred: Server returned HTTP status 502 (no content available)\n",
      "Error occurred: Server returned HTTP status 502 (no content available)\n",
      "Error occurred: Server returned HTTP status 502 (no content available)\n",
      "Error occurred: Server returned HTTP status 502 (no content available)\n",
      "Error occurred: Server returned HTTP status 502 (no content available)\n",
      "Error occurred: Server returned HTTP status 502 (no content available)\n",
      "Error occurred: Server returned HTTP status 502 (no content available)\n",
      "Error occurred: Server returned HTTP status 502 (no content available)\n",
      "Error occurred: Server returned HTTP status 502 (no content available)\n",
      "Error occurred: Server returned HTTP status 502 (no content available)\n",
      "Error occurred: Server returned HTTP status 502 (no content available)\n",
      "Error occurred: Server returned HTTP status 502 (no content available)\n",
      "Error occurred: Server returned HTTP status 502 (no content available)\n",
      "Error occurred: Server returned HTTP status 502 (no content available)\n",
      "Error occurred: Server returned HTTP status 502 (no content available)\n",
      "Error occurred: Server returned HTTP status 502 (no content available)\n",
      "Error occurred: Server returned HTTP status 502 (no content available)\n",
      "Error occurred: Server returned HTTP status 502 (no content available)\n",
      "Error occurred: Server returned HTTP status 502 (no content available)\n",
      "Error occurred: Server returned HTTP status 502 (no content available)\n",
      "Error occurred: Server returned HTTP status 502 (no content available)\n",
      "Error occurred: Server returned HTTP status 502 (no content available)\n",
      "Error occurred: Server returned HTTP status 502 (no content available)\n",
      "Error occurred: Server returned HTTP status 502 (no content available)\n",
      "Error occurred: Server returned HTTP status 502 (no content available)\n",
      "Error occurred: Server returned HTTP status 502 (no content available)\n",
      "Error occurred: Server returned HTTP status 502 (no content available)\n",
      "Error occurred: Server returned HTTP status 502 (no content available)\n",
      "Error occurred: Server returned HTTP status 502 (no content available)\n",
      "Error occurred: Server returned HTTP status 502 (no content available)\n",
      "Error occurred: Server returned HTTP status 502 (no content available)\n",
      "Error occurred: Server returned HTTP status 502 (no content available)\n",
      "Error occurred: Server returned HTTP status 502 (no content available)\n",
      "Error occurred: Server returned HTTP status 502 (no content available)\n",
      "Error occurred: Server returned HTTP status 502 (no content available)\n",
      "Error occurred: Server returned HTTP status 502 (no content available)\n",
      "Error occurred: Server returned HTTP status 502 (no content available)\n",
      "Error occurred: Server returned HTTP status 502 (no content available)\n",
      "Error occurred: Server returned HTTP status 502 (no content available)\n",
      "Error occurred: Server returned HTTP status 502 (no content available)\n",
      "Error occurred: Server returned HTTP status 502 (no content available)\n",
      "Error occurred: Server returned HTTP status 502 (no content available)\n",
      "Error occurred: Server returned HTTP status 502 (no content available)\n",
      "Error occurred: Server returned HTTP status 502 (no content available)\n",
      "Error occurred: Server returned HTTP status 502 (no content available)\n",
      "Error occurred: Server returned HTTP status 502 (no content available)\n",
      "Error occurred: Server returned HTTP status 502 (no content available)\n",
      "Error occurred: Server returned HTTP status 502 (no content available)\n",
      "Error occurred: Server returned HTTP status 502 (no content available)\n",
      "Error occurred: Server returned HTTP status 502 (no content available)\n",
      "Error occurred: Server returned HTTP status 502 (no content available)\n",
      "Error occurred: Server returned HTTP status 502 (no content available)\n",
      "Error occurred: Server returned HTTP status 502 (no content available)\n",
      "Error occurred: Server returned HTTP status 502 (no content available)\n",
      "Error occurred: Server returned HTTP status 502 (no content available)\n",
      "Error occurred: Server returned HTTP status 502 (no content available)\n",
      "Error occurred: Server returned HTTP status 502 (no content available)\n",
      "Error occurred: Server returned HTTP status 502 (no content available)\n",
      "Error occurred: Server returned HTTP status 502 (no content available)\n",
      "Error occurred: Server returned HTTP status 502 (no content available)\n",
      "Error occurred: Server returned HTTP status 502 (no content available)\n",
      "Error occurred: Server returned HTTP status 502 (no content available)\n",
      "Error occurred: Server returned HTTP status 502 (no content available)\n",
      "Error occurred: Server returned HTTP status 502 (no content available)\n",
      "Error occurred: Server returned HTTP status 502 (no content available)\n",
      "Error occurred: Server returned HTTP status 502 (no content available)\n",
      "Error occurred: Server returned HTTP status 502 (no content available)\n",
      "Error occurred: Server returned HTTP status 502 (no content available)\n",
      "Error occurred: Server returned HTTP status 502 (no content available)\n",
      "Error occurred: Server returned HTTP status 502 (no content available)\n",
      "Error occurred: Server returned HTTP status 502 (no content available)\n",
      "Error occurred: Server returned HTTP status 502 (no content available)\n",
      "Error occurred: Server returned HTTP status 502 (no content available)\n",
      "Error occurred: Server returned HTTP status 502 (no content available)\n",
      "Error occurred: Server returned HTTP status 502 (no content available)\n",
      "Error occurred: Server returned HTTP status 502 (no content available)\n",
      "Error occurred: Server returned HTTP status 502 (no content available)\n",
      "Error occurred: Server returned HTTP status 502 (no content available)\n",
      "Error occurred: Server returned HTTP status 502 (no content available)\n",
      "Error occurred: Server returned HTTP status 502 (no content available)\n",
      "Error occurred: Server returned HTTP status 502 (no content available)\n",
      "Error occurred: Server returned HTTP status 502 (no content available)\n",
      "Error occurred: Server returned HTTP status 502 (no content available)\n",
      "Error occurred: Server returned HTTP status 502 (no content available)\n",
      "Error occurred: Server returned HTTP status 502 (no content available)\n",
      "Error occurred: Server returned HTTP status 502 (no content available)\n",
      "Error occurred: Server returned HTTP status 502 (no content available)\n",
      "Error occurred: Server returned HTTP status 502 (no content available)\n",
      "Error occurred: Server returned HTTP status 502 (no content available)\n",
      "Error occurred: Server returned HTTP status 502 (no content available)\n",
      "Error occurred: Server returned HTTP status 502 (no content available)\n",
      "Error occurred: Server returned HTTP status 502 (no content available)\n",
      "Error occurred: Server returned HTTP status 502 (no content available)\n",
      "Error occurred: Server returned HTTP status 502 (no content available)\n",
      "Error occurred: Server returned HTTP status 502 (no content available)\n",
      "Error occurred: Server returned HTTP status 502 (no content available)\n",
      "Error occurred: Server returned HTTP status 502 (no content available)\n",
      "Error occurred: Server returned HTTP status 502 (no content available)\n",
      "Error occurred: Server returned HTTP status 502 (no content available)\n",
      "Error occurred: Server returned HTTP status 502 (no content available)\n",
      "Error occurred: Server returned HTTP status 502 (no content available)\n",
      "Error occurred: Server returned HTTP status 502 (no content available)\n",
      "Error occurred: Server returned HTTP status 502 (no content available)\n",
      "Error occurred: Server returned HTTP status 502 (no content available)\n",
      "Error occurred: Server returned HTTP status 502 (no content available)\n",
      "Error occurred: Server returned HTTP status 502 (no content available)\n",
      "Error occurred: Server returned HTTP status 502 (no content available)\n",
      "Error occurred: Server returned HTTP status 502 (no content available)\n",
      "Error occurred: Server returned HTTP status 502 (no content available)\n",
      "Error occurred: Server returned HTTP status 502 (no content available)\n",
      "Error occurred: Server returned HTTP status 502 (no content available)\n",
      "Error occurred: Server returned HTTP status 502 (no content available)\n",
      "Error occurred: Server returned HTTP status 502 (no content available)\n",
      "Error occurred: Server returned HTTP status 502 (no content available)\n",
      "Error occurred: Server returned HTTP status 502 (no content available)\n",
      "Error occurred: Server returned HTTP status 502 (no content available)\n",
      "Error occurred: Server returned HTTP status 502 (no content available)\n",
      "Error occurred: Server returned HTTP status 502 (no content available)\n",
      "Error occurred: Server returned HTTP status 502 (no content available)\n",
      "Error occurred: Server returned HTTP status 502 (no content available)\n",
      "Error occurred: Server returned HTTP status 502 (no content available)\n",
      "Error occurred: Server returned HTTP status 502 (no content available)\n",
      "Error occurred: Server returned HTTP status 502 (no content available)\n",
      "Error occurred: Server returned HTTP status 502 (no content available)\n",
      "Error occurred: Server returned HTTP status 502 (no content available)\n",
      "Error occurred: Server returned HTTP status 502 (no content available)\n",
      "Error occurred: Server returned HTTP status 502 (no content available)\n",
      "Error occurred: Server returned HTTP status 502 (no content available)\n",
      "Error occurred: Server returned HTTP status 502 (no content available)\n",
      "Error occurred: Server returned HTTP status 502 (no content available)\n",
      "Error occurred: Server returned HTTP status 502 (no content available)\n",
      "Error occurred: Server returned HTTP status 502 (no content available)\n",
      "Error occurred: Server returned HTTP status 502 (no content available)\n",
      "Error occurred: Server returned HTTP status 502 (no content available)\n",
      "Error occurred: Server returned HTTP status 502 (no content available)\n",
      "Error occurred: Server returned HTTP status 502 (no content available)\n",
      "Error occurred: Server returned HTTP status 502 (no content available)\n",
      "Error occurred: Server returned HTTP status 502 (no content available)\n",
      "Error occurred: Server returned HTTP status 502 (no content available)\n",
      "Error occurred: Server returned HTTP status 502 (no content available)\n",
      "Error occurred: Server returned HTTP status 502 (no content available)\n",
      "Error occurred: Server returned HTTP status 502 (no content available)\n",
      "Error occurred: Server returned HTTP status 502 (no content available)\n",
      "Error occurred: Server returned HTTP status 502 (no content available)\n",
      "Error occurred: Server returned HTTP status 502 (no content available)\n",
      "Error occurred: Server returned HTTP status 502 (no content available)\n",
      "Error occurred: Server returned HTTP status 502 (no content available)\n",
      "Error occurred: Server returned HTTP status 502 (no content available)\n",
      "Error occurred: Server returned HTTP status 502 (no content available)\n",
      "Error occurred: Server returned HTTP status 502 (no content available)\n",
      "Error occurred: Server returned HTTP status 502 (no content available)\n",
      "Error occurred: Server returned HTTP status 502 (no content available)\n",
      "Error occurred: Server returned HTTP status 502 (no content available)\n",
      "Error occurred: Server returned HTTP status 502 (no content available)\n",
      "Error occurred: Server returned HTTP status 502 (no content available)\n",
      "Error occurred: Server returned HTTP status 502 (no content available)\n",
      "Error occurred: Server returned HTTP status 502 (no content available)\n",
      "Error occurred: Server returned HTTP status 502 (no content available)\n",
      "Error occurred: Server returned HTTP status 502 (no content available)\n",
      "Error occurred: Server returned HTTP status 502 (no content available)\n",
      "Error occurred: Server returned HTTP status 502 (no content available)\n",
      "Error occurred: Server returned HTTP status 502 (no content available)\n",
      "Error occurred: Server returned HTTP status 502 (no content available)\n",
      "Error occurred: Server returned HTTP status 502 (no content available)\n",
      "Error occurred: Server returned HTTP status 502 (no content available)\n",
      "Error occurred: Server returned HTTP status 502 (no content available)\n",
      "Error occurred: Server returned HTTP status 502 (no content available)\n",
      "Error occurred: Server returned HTTP status 502 (no content available)\n",
      "Error occurred: Server returned HTTP status 502 (no content available)\n",
      "Error occurred: Server returned HTTP status 502 (no content available)\n",
      "Error occurred: Server returned HTTP status 502 (no content available)\n",
      "Error occurred: Server returned HTTP status 502 (no content available)\n",
      "Error occurred: Server returned HTTP status 502 (no content available)\n",
      "Error occurred: Server returned HTTP status 502 (no content available)\n",
      "Error occurred: Server returned HTTP status 502 (no content available)\n",
      "Error occurred: Server returned HTTP status 502 (no content available)\n",
      "Error occurred: Server returned HTTP status 502 (no content available)\n",
      "Error occurred: Server returned HTTP status 502 (no content available)\n",
      "Error occurred: Server returned HTTP status 502 (no content available)\n",
      "Error occurred: Server returned HTTP status 502 (no content available)\n",
      "Error occurred: Server returned HTTP status 502 (no content available)\n",
      "Error occurred: Server returned HTTP status 502 (no content available)\n",
      "Error occurred: Server returned HTTP status 502 (no content available)\n",
      "Error occurred: Server returned HTTP status 502 (no content available)\n",
      "Error occurred: Server returned HTTP status 502 (no content available)\n",
      "Error occurred: Server returned HTTP status 502 (no content available)\n",
      "Error occurred: Server returned HTTP status 502 (no content available)\n",
      "Error occurred: Server returned HTTP status 502 (no content available)\n",
      "Error occurred: Server returned HTTP status 502 (no content available)\n",
      "Error occurred: Server returned HTTP status 502 (no content available)\n",
      "Error occurred: Server returned HTTP status 502 (no content available)\n",
      "Error occurred: Server returned HTTP status 502 (no content available)\n",
      "Error occurred: Server returned HTTP status 502 (no content available)\n",
      "Error occurred: Server returned HTTP status 502 (no content available)\n",
      "Error occurred: Server returned HTTP status 502 (no content available)\n",
      "Error occurred: Server returned HTTP status 502 (no content available)\n",
      "Error occurred: Server returned HTTP status 502 (no content available)\n",
      "Error occurred: Server returned HTTP status 502 (no content available)\n",
      "Error occurred: Server returned HTTP status 502 (no content available)\n",
      "Error occurred: Server returned HTTP status 502 (no content available)\n",
      "Error occurred: Server returned HTTP status 502 (no content available)\n",
      "Error occurred: Server returned HTTP status 502 (no content available)\n",
      "Error occurred: Server returned HTTP status 502 (no content available)\n",
      "Error occurred: Server returned HTTP status 502 (no content available)\n",
      "Error occurred: Server returned HTTP status 502 (no content available)\n",
      "Error occurred: Server returned HTTP status 502 (no content available)\n",
      "Error occurred: Server returned HTTP status 502 (no content available)\n",
      "Error occurred: Server returned HTTP status 502 (no content available)\n",
      "Error occurred: Server returned HTTP status 502 (no content available)\n",
      "Error occurred: Server returned HTTP status 502 (no content available)\n",
      "Error occurred: Server returned HTTP status 502 (no content available)\n",
      "Error occurred: Server returned HTTP status 502 (no content available)\n",
      "Error occurred: Server returned HTTP status 502 (no content available)\n",
      "Error occurred: Server returned HTTP status 502 (no content available)\n",
      "Error occurred: Server returned HTTP status 502 (no content available)\n",
      "Error occurred: Server returned HTTP status 502 (no content available)\n",
      "Error occurred: Server returned HTTP status 502 (no content available)\n",
      "Error occurred: Server returned HTTP status 502 (no content available)\n",
      "Error occurred: Server returned HTTP status 502 (no content available)\n",
      "Error occurred: Server returned HTTP status 502 (no content available)\n",
      "Error occurred: Server returned HTTP status 502 (no content available)\n",
      "Error occurred: Server returned HTTP status 502 (no content available)\n",
      "Error occurred: Server returned HTTP status 502 (no content available)\n",
      "Error occurred: Server returned HTTP status 502 (no content available)\n",
      "Error occurred: Server returned HTTP status 502 (no content available)\n",
      "Error occurred: Server returned HTTP status 502 (no content available)\n",
      "Error occurred: Server returned HTTP status 502 (no content available)\n",
      "Error occurred: Server returned HTTP status 502 (no content available)\n",
      "Error occurred: Server returned HTTP status 502 (no content available)\n",
      "Error occurred: Server returned HTTP status 502 (no content available)\n",
      "Error occurred: Server returned HTTP status 502 (no content available)\n",
      "Error occurred: Server returned HTTP status 502 (no content available)\n",
      "Error occurred: Server returned HTTP status 502 (no content available)\n",
      "Error occurred: Server returned HTTP status 502 (no content available)\n",
      "Error occurred: Server returned HTTP status 502 (no content available)\n",
      "Error occurred: Server returned HTTP status 502 (no content available)\n",
      "Error occurred: Server returned HTTP status 502 (no content available)\n",
      "Error occurred: Server returned HTTP status 502 (no content available)\n",
      "Error occurred: Server returned HTTP status 502 (no content available)\n",
      "Error occurred: Server returned HTTP status 502 (no content available)\n",
      "Error occurred: Server returned HTTP status 502 (no content available)\n",
      "Error occurred: Server returned HTTP status 502 (no content available)\n",
      "Error occurred: Server returned HTTP status 502 (no content available)\n",
      "Error occurred: Server returned HTTP status 502 (no content available)\n",
      "Error occurred: Server returned HTTP status 502 (no content available)\n",
      "Error occurred: Server returned HTTP status 502 (no content available)\n",
      "Error occurred: Server returned HTTP status 502 (no content available)\n",
      "Error occurred: Server returned HTTP status 502 (no content available)\n",
      "Error occurred: Server returned HTTP status 502 (no content available)\n",
      "Error occurred: Server returned HTTP status 502 (no content available)\n",
      "Error occurred: Server returned HTTP status 502 (no content available)\n",
      "Error occurred: Server returned HTTP status 502 (no content available)\n",
      "Error occurred: Server returned HTTP status 502 (no content available)\n",
      "Error occurred: Server returned HTTP status 502 (no content available)\n",
      "Error occurred: Server returned HTTP status 502 (no content available)\n",
      "Error occurred: Server returned HTTP status 502 (no content available)\n",
      "Error occurred: Server returned HTTP status 502 (no content available)\n",
      "Error occurred: Server returned HTTP status 502 (no content available)\n",
      "Error occurred: Server returned HTTP status 502 (no content available)\n",
      "Error occurred: Server returned HTTP status 502 (no content available)\n",
      "Error occurred: Server returned HTTP status 502 (no content available)\n",
      "Error occurred: Server returned HTTP status 502 (no content available)\n",
      "Error occurred: Server returned HTTP status 502 (no content available)\n",
      "Error occurred: Server returned HTTP status 502 (no content available)\n",
      "Error occurred: Server returned HTTP status 502 (no content available)\n",
      "Error occurred: Server returned HTTP status 502 (no content available)\n",
      "Error occurred: Server returned HTTP status 502 (no content available)\n",
      "Error occurred: Server returned HTTP status 502 (no content available)\n",
      "Error occurred: Server returned HTTP status 502 (no content available)\n",
      "Error occurred: Server returned HTTP status 502 (no content available)\n",
      "Error occurred: Server returned HTTP status 502 (no content available)\n",
      "Error occurred: Server returned HTTP status 502 (no content available)\n",
      "Error occurred: Server returned HTTP status 502 (no content available)\n",
      "Error occurred: Server returned HTTP status 502 (no content available)\n",
      "Error occurred: Server returned HTTP status 502 (no content available)\n",
      "Error occurred: Server returned HTTP status 502 (no content available)\n",
      "Error occurred: Server returned HTTP status 502 (no content available)\n",
      "Error occurred: Server returned HTTP status 502 (no content available)\n",
      "Error occurred: Server returned HTTP status 502 (no content available)\n",
      "Error occurred: Server returned HTTP status 502 (no content available)\n",
      "Error occurred: Server returned HTTP status 502 (no content available)\n",
      "Error occurred: Server returned HTTP status 502 (no content available)\n",
      "Error occurred: Server returned HTTP status 502 (no content available)\n",
      "Error occurred: Server returned HTTP status 502 (no content available)\n",
      "Error occurred: Server returned HTTP status 502 (no content available)\n",
      "Error occurred: Server returned HTTP status 502 (no content available)\n",
      "Error occurred: Server returned HTTP status 502 (no content available)\n",
      "Error occurred: Server returned HTTP status 502 (no content available)\n",
      "Error occurred: Server returned HTTP status 502 (no content available)\n",
      "Error occurred: Server returned HTTP status 502 (no content available)\n",
      "Error occurred: Server returned HTTP status 502 (no content available)\n",
      "Error occurred: Server returned HTTP status 502 (no content available)\n",
      "Error occurred: Server returned HTTP status 502 (no content available)\n",
      "Error occurred: Server returned HTTP status 502 (no content available)\n",
      "Error occurred: Server returned HTTP status 502 (no content available)\n",
      "Error occurred: Server returned HTTP status 502 (no content available)\n",
      "Error occurred: Server returned HTTP status 502 (no content available)\n",
      "Error occurred: Server returned HTTP status 502 (no content available)\n",
      "Error occurred: Server returned HTTP status 502 (no content available)\n",
      "Error occurred: Server returned HTTP status 502 (no content available)\n",
      "Error occurred: Server returned HTTP status 502 (no content available)\n",
      "Error occurred: Server returned HTTP status 502 (no content available)\n",
      "Error occurred: Server returned HTTP status 502 (no content available)\n",
      "Error occurred: Server returned HTTP status 502 (no content available)\n",
      "Error occurred: Server returned HTTP status 502 (no content available)\n",
      "Error occurred: Server returned HTTP status 502 (no content available)\n",
      "Error occurred: Server returned HTTP status 502 (no content available)\n",
      "Error occurred: Server returned HTTP status 502 (no content available)\n",
      "Error occurred: Server returned HTTP status 502 (no content available)\n",
      "Error occurred: Server returned HTTP status 502 (no content available)\n",
      "Error occurred: Server returned HTTP status 502 (no content available)\n",
      "Error occurred: Server returned HTTP status 502 (no content available)\n",
      "Error occurred: Server returned HTTP status 502 (no content available)\n",
      "Error occurred: Server returned HTTP status 502 (no content available)\n",
      "Error occurred: Server returned HTTP status 502 (no content available)\n",
      "Error occurred: Server returned HTTP status 502 (no content available)\n",
      "Error occurred: Server returned HTTP status 502 (no content available)\n",
      "Error occurred: Server returned HTTP status 502 (no content available)\n",
      "Error occurred: Server returned HTTP status 502 (no content available)\n",
      "Error occurred: Server returned HTTP status 502 (no content available)\n",
      "Error occurred: Server returned HTTP status 502 (no content available)\n",
      "Error occurred: Server returned HTTP status 502 (no content available)\n",
      "Error occurred: Server returned HTTP status 502 (no content available)\n",
      "Error occurred: Server returned HTTP status 502 (no content available)\n",
      "Error occurred: Server returned HTTP status 502 (no content available)\n",
      "Error occurred: Server returned HTTP status 502 (no content available)\n",
      "Error occurred: Server returned HTTP status 502 (no content available)\n",
      "Error occurred: Server returned HTTP status 502 (no content available)\n",
      "Error occurred: Server returned HTTP status 502 (no content available)\n",
      "Error occurred: Server returned HTTP status 502 (no content available)\n",
      "Error occurred: Server returned HTTP status 502 (no content available)\n",
      "Error occurred: Server returned HTTP status 502 (no content available)\n",
      "Error occurred: Server returned HTTP status 502 (no content available)\n",
      "Error occurred: Server returned HTTP status 502 (no content available)\n",
      "Error occurred: Server returned HTTP status 502 (no content available)\n",
      "Error occurred: Server returned HTTP status 502 (no content available)\n",
      "Error occurred: Server returned HTTP status 502 (no content available)\n",
      "Error occurred: Server returned HTTP status 502 (no content available)\n",
      "Error occurred: Server returned HTTP status 502 (no content available)\n",
      "Error occurred: Server returned HTTP status 502 (no content available)\n",
      "Error occurred: Server returned HTTP status 502 (no content available)\n",
      "Error occurred: Server returned HTTP status 502 (no content available)\n",
      "Error occurred: Server returned HTTP status 502 (no content available)\n",
      "Error occurred: Server returned HTTP status 502 (no content available)\n",
      "Error occurred: Server returned HTTP status 502 (no content available)\n",
      "Error occurred: Server returned HTTP status 502 (no content available)\n",
      "Error occurred: Server returned HTTP status 502 (no content available)\n",
      "Error occurred: Server returned HTTP status 502 (no content available)\n",
      "Error occurred: Server returned HTTP status 502 (no content available)\n",
      "Error occurred: Server returned HTTP status 502 (no content available)\n",
      "Error occurred: Server returned HTTP status 502 (no content available)\n",
      "Error occurred: Server returned HTTP status 502 (no content available)\n",
      "Error occurred: Server returned HTTP status 502 (no content available)\n",
      "Error occurred: Server returned HTTP status 502 (no content available)\n",
      "Error occurred: Server returned HTTP status 502 (no content available)\n",
      "Error occurred: Server returned HTTP status 502 (no content available)\n",
      "Error occurred: Server returned HTTP status 502 (no content available)\n",
      "Error occurred: Server returned HTTP status 502 (no content available)\n",
      "Error occurred: Server returned HTTP status 502 (no content available)\n",
      "Error occurred: Server returned HTTP status 502 (no content available)\n",
      "Error occurred: Server returned HTTP status 502 (no content available)\n",
      "Error occurred: Server returned HTTP status 502 (no content available)\n",
      "Error occurred: Server returned HTTP status 502 (no content available)\n",
      "Error occurred: Server returned HTTP status 502 (no content available)\n",
      "Error occurred: Server returned HTTP status 502 (no content available)\n",
      "Error occurred: Server returned HTTP status 502 (no content available)\n",
      "Error occurred: Server returned HTTP status 502 (no content available)\n",
      "Error occurred: Server returned HTTP status 502 (no content available)\n",
      "Error occurred: Server returned HTTP status 502 (no content available)\n",
      "Error occurred: Server returned HTTP status 502 (no content available)\n",
      "Error occurred: Server returned HTTP status 502 (no content available)\n",
      "Error occurred: Server returned HTTP status 502 (no content available)\n",
      "Error occurred: Server returned HTTP status 502 (no content available)\n",
      "Error occurred: Server returned HTTP status 502 (no content available)\n",
      "Error occurred: Server returned HTTP status 502 (no content available)\n",
      "Error occurred: Server returned HTTP status 502 (no content available)\n",
      "Error occurred: Server returned HTTP status 502 (no content available)\n",
      "Error occurred: Server returned HTTP status 502 (no content available)\n",
      "Error occurred: Server returned HTTP status 502 (no content available)\n",
      "Error occurred: Server returned HTTP status 502 (no content available)\n",
      "Error occurred: Server returned HTTP status 502 (no content available)\n",
      "Error occurred: Server returned HTTP status 502 (no content available)\n",
      "Error occurred: Server returned HTTP status 502 (no content available)\n",
      "Error occurred: Server returned HTTP status 502 (no content available)\n",
      "Error occurred: Server returned HTTP status 502 (no content available)\n",
      "Error occurred: Server returned HTTP status 502 (no content available)\n",
      "Error occurred: Server returned HTTP status 502 (no content available)\n",
      "Error occurred: Server returned HTTP status 502 (no content available)\n",
      "Error occurred: Server returned HTTP status 502 (no content available)\n",
      "Error occurred: Server returned HTTP status 502 (no content available)\n",
      "Error occurred: Server returned HTTP status 502 (no content available)\n",
      "Error occurred: Server returned HTTP status 502 (no content available)\n",
      "Error occurred: Server returned HTTP status 502 (no content available)\n",
      "Error occurred: Server returned HTTP status 502 (no content available)\n",
      "Error occurred: Server returned HTTP status 502 (no content available)\n",
      "Error occurred: Server returned HTTP status 502 (no content available)\n",
      "Error occurred: Server returned HTTP status 502 (no content available)\n",
      "Error occurred: Server returned HTTP status 502 (no content available)\n",
      "Error occurred: Server returned HTTP status 502 (no content available)\n",
      "Error occurred: Server returned HTTP status 502 (no content available)\n",
      "Error occurred: Server returned HTTP status 502 (no content available)\n",
      "Error occurred: Server returned HTTP status 502 (no content available)\n",
      "Error occurred: Server returned HTTP status 502 (no content available)\n",
      "Error occurred: Server returned HTTP status 502 (no content available)\n",
      "Error occurred: Server returned HTTP status 502 (no content available)\n",
      "Error occurred: Server returned HTTP status 502 (no content available)\n",
      "Error occurred: Server returned HTTP status 502 (no content available)\n",
      "Error occurred: Server returned HTTP status 502 (no content available)\n",
      "Error occurred: Server returned HTTP status 502 (no content available)\n",
      "Error occurred: Server returned HTTP status 502 (no content available)\n",
      "Error occurred: Server returned HTTP status 502 (no content available)\n",
      "Error occurred: Server returned HTTP status 502 (no content available)\n",
      "Error occurred: Server returned HTTP status 502 (no content available)\n",
      "Error occurred: Server returned HTTP status 502 (no content available)\n",
      "Error occurred: Server returned HTTP status 502 (no content available)\n",
      "Error occurred: Server returned HTTP status 502 (no content available)\n",
      "Error occurred: Server returned HTTP status 502 (no content available)\n",
      "Error occurred: Server returned HTTP status 502 (no content available)\n",
      "Error occurred: Server returned HTTP status 502 (no content available)\n",
      "Error occurred: Server returned HTTP status 502 (no content available)\n",
      "Error occurred: Server returned HTTP status 502 (no content available)\n",
      "Error occurred: Server returned HTTP status 502 (no content available)\n",
      "Error occurred: Server returned HTTP status 502 (no content available)\n",
      "Error occurred: Server returned HTTP status 502 (no content available)\n",
      "Error occurred: Server returned HTTP status 502 (no content available)\n",
      "Error occurred: Server returned HTTP status 502 (no content available)\n",
      "Error occurred: Server returned HTTP status 502 (no content available)\n",
      "Error occurred: Server returned HTTP status 502 (no content available)\n",
      "Error occurred: Server returned HTTP status 502 (no content available)\n",
      "Error occurred: Server returned HTTP status 502 (no content available)\n",
      "Error occurred: Server returned HTTP status 502 (no content available)\n",
      "Error occurred: Server returned HTTP status 502 (no content available)\n",
      "Error occurred: Server returned HTTP status 502 (no content available)\n",
      "Error occurred: Server returned HTTP status 502 (no content available)\n",
      "Error occurred: Server returned HTTP status 502 (no content available)\n",
      "Error occurred: Server returned HTTP status 502 (no content available)\n",
      "Error occurred: Server returned HTTP status 502 (no content available)\n",
      "Error occurred: Server returned HTTP status 502 (no content available)\n",
      "Error occurred: Server returned HTTP status 502 (no content available)\n",
      "Error occurred: Server returned HTTP status 502 (no content available)\n",
      "Error occurred: Server returned HTTP status 502 (no content available)\n",
      "Error occurred: Server returned HTTP status 502 (no content available)\n",
      "Error occurred: Server returned HTTP status 502 (no content available)\n",
      "Error occurred: Server returned HTTP status 502 (no content available)\n",
      "Error occurred: Server returned HTTP status 502 (no content available)\n",
      "Error occurred: Server returned HTTP status 502 (no content available)\n",
      "Error occurred: Server returned HTTP status 502 (no content available)\n",
      "Error occurred: Server returned HTTP status 502 (no content available)\n",
      "Error occurred: Server returned HTTP status 502 (no content available)\n",
      "Error occurred: Server returned HTTP status 502 (no content available)\n",
      "Error occurred: Server returned HTTP status 502 (no content available)\n",
      "Error occurred: Server returned HTTP status 502 (no content available)\n",
      "Error occurred: Server returned HTTP status 502 (no content available)\n",
      "Error occurred: Server returned HTTP status 502 (no content available)\n",
      "Error occurred: Server returned HTTP status 502 (no content available)\n",
      "Error occurred: Server returned HTTP status 502 (no content available)\n",
      "Error occurred: Server returned HTTP status 502 (no content available)\n",
      "Error occurred: Server returned HTTP status 502 (no content available)\n",
      "Error occurred: Server returned HTTP status 502 (no content available)\n",
      "Error occurred: Server returned HTTP status 502 (no content available)\n",
      "Error occurred: Server returned HTTP status 502 (no content available)\n",
      "Error occurred: Server returned HTTP status 502 (no content available)\n",
      "Error occurred: Server returned HTTP status 502 (no content available)\n",
      "Error occurred: Server returned HTTP status 502 (no content available)\n",
      "Error occurred: Server returned HTTP status 502 (no content available)\n",
      "Error occurred: Server returned HTTP status 502 (no content available)\n",
      "Error occurred: Server returned HTTP status 502 (no content available)\n",
      "Error occurred: Server returned HTTP status 502 (no content available)\n",
      "Error occurred: Server returned HTTP status 502 (no content available)\n",
      "Error occurred: Server returned HTTP status 502 (no content available)\n",
      "Error occurred: Server returned HTTP status 502 (no content available)\n",
      "Error occurred: Server returned HTTP status 502 (no content available)\n",
      "Error occurred: Server returned HTTP status 502 (no content available)\n",
      "Error occurred: Server returned HTTP status 502 (no content available)\n",
      "Error occurred: Server returned HTTP status 502 (no content available)\n",
      "Error occurred: Server returned HTTP status 502 (no content available)\n",
      "Error occurred: Server returned HTTP status 502 (no content available)\n",
      "Error occurred: Server returned HTTP status 502 (no content available)\n",
      "Error occurred: Server returned HTTP status 502 (no content available)\n",
      "Error occurred: Server returned HTTP status 502 (no content available)\n",
      "Error occurred: Server returned HTTP status 502 (no content available)\n",
      "Error occurred: Server returned HTTP status 502 (no content available)\n",
      "Error occurred: Server returned HTTP status 502 (no content available)\n",
      "Error occurred: Server returned HTTP status 502 (no content available)\n",
      "Error occurred: Server returned HTTP status 502 (no content available)\n",
      "Error occurred: Server returned HTTP status 502 (no content available)\n",
      "Error occurred: Server returned HTTP status 502 (no content available)\n",
      "Error occurred: Server returned HTTP status 502 (no content available)\n",
      "Error occurred: Server returned HTTP status 502 (no content available)\n",
      "Error occurred: Server returned HTTP status 502 (no content available)\n",
      "Error occurred: Server returned HTTP status 502 (no content available)\n",
      "Error occurred: Server returned HTTP status 502 (no content available)\n",
      "Error occurred: Server returned HTTP status 502 (no content available)\n",
      "Error occurred: Server returned HTTP status 502 (no content available)\n",
      "Error occurred: Server returned HTTP status 502 (no content available)\n",
      "Error occurred: Server returned HTTP status 502 (no content available)\n",
      "Error occurred: Server returned HTTP status 502 (no content available)\n",
      "Error occurred: Server returned HTTP status 502 (no content available)\n",
      "Error occurred: Server returned HTTP status 502 (no content available)\n",
      "Error occurred: Server returned HTTP status 502 (no content available)\n",
      "Error occurred: Server returned HTTP status 502 (no content available)\n",
      "Error occurred: Server returned HTTP status 502 (no content available)\n",
      "Error occurred: Server returned HTTP status 502 (no content available)\n",
      "Error occurred: Server returned HTTP status 502 (no content available)\n",
      "Error occurred: Server returned HTTP status 502 (no content available)\n",
      "Error occurred: Server returned HTTP status 502 (no content available)\n",
      "Error occurred: Server returned HTTP status 502 (no content available)\n",
      "Error occurred: Server returned HTTP status 502 (no content available)\n",
      "Error occurred: Server returned HTTP status 502 (no content available)\n",
      "Error occurred: Server returned HTTP status 502 (no content available)\n",
      "Error occurred: Server returned HTTP status 502 (no content available)\n",
      "Error occurred: Server returned HTTP status 502 (no content available)\n",
      "Error occurred: Server returned HTTP status 502 (no content available)\n"
     ]
    },
    {
     "data": {
      "application/vnd.jupyter.widget-view+json": {
       "model_id": "7e0b2c3b0e62489593a99360542049ba",
       "version_major": 2,
       "version_minor": 0
      },
      "text/plain": [
       "Files Downloaded: 0file [00:00, ?file/s]"
      ]
     },
     "metadata": {},
     "output_type": "display_data"
    }
   ],
   "source": [
    "num = 10\n",
    "for i in np.arange(int(len(temp) / num) + 1):\n",
    "    try:\n",
    "        files = Fido.fetch(temp[num * i:num * (i + 1)], path='data/AIA')\n",
    "    except Exception as e:\n",
    "        print(\"Error occurred:\", str(e))\n",
    "        continue"
   ]
  },
  {
   "cell_type": "code",
   "execution_count": null,
   "id": "ffded5e4-88a9-47d0-86d8-3a990b86696b",
   "metadata": {},
   "outputs": [],
   "source": []
  }
 ],
 "metadata": {
  "kernelspec": {
   "display_name": "Python 3 (ipykernel)",
   "language": "python",
   "name": "python3"
  },
  "language_info": {
   "codemirror_mode": {
    "name": "ipython",
    "version": 3
   },
   "file_extension": ".py",
   "mimetype": "text/x-python",
   "name": "python",
   "nbconvert_exporter": "python",
   "pygments_lexer": "ipython3",
   "version": "3.9.16"
  }
 },
 "nbformat": 4,
 "nbformat_minor": 5
}
