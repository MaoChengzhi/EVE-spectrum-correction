{
 "cells": [
  {
   "cell_type": "code",
   "execution_count": 1,
   "id": "8fef4ec6-be8a-4043-8f3a-97edff6a5c2e",
   "metadata": {},
   "outputs": [],
   "source": [
    "from sunpy.net import Fido, attrs as a\n",
    "import astropy.units as u\n",
    "import numpy as np\n",
    "import requests\n",
    "import os\n",
    "import glob\n",
    "import concurrent.futures"
   ]
  },
  {
   "cell_type": "markdown",
   "id": "421ce60e-0404-4663-b2de-9b7066868624",
   "metadata": {
    "tags": []
   },
   "source": [
    "## one day \n",
    "2011-01-01"
   ]
  },
  {
   "cell_type": "code",
   "execution_count": 9,
   "id": "9148f457-18ad-45dd-850e-9392e72b4965",
   "metadata": {},
   "outputs": [
    {
     "data": {
      "text/plain": [
       "<sunpy.net.jsoc.attrs.Series: aia_lev1_euv_12s object at 0x000002E2FC075340>"
      ]
     },
     "execution_count": 9,
     "metadata": {},
     "output_type": "execute_result"
    }
   ],
   "source": [
    "a.jsoc.Series('aia_lev1_euv_12s')"
   ]
  },
  {
   "cell_type": "code",
   "execution_count": null,
   "id": "ece1df1b-1ca0-4fd1-9810-da272cb89198",
   "metadata": {},
   "outputs": [],
   "source": [
    "res = Fido.search(\n",
    "                    a.Time(\"2011-01-01T00:00:00\", \"2011-01-02T00:00:00\"),\n",
    "                              a.jsoc.Series('aia.lev1_euv_12s'),\n",
    "                              a.Wavelength(304*u.AA))  ,\n",
    "                            a.jsoc.Notify('maochengzhi1@gmail.com'),\n",
    "    )"
   ]
  },
  {
   "cell_type": "code",
   "execution_count": 16,
   "id": "479f9529-b792-4715-b3bb-a28be8d709dd",
   "metadata": {
    "collapsed": true,
    "jupyter": {
     "outputs_hidden": true
    },
    "tags": []
   },
   "outputs": [
    {
     "data": {
      "text/html": [
       "Results from 1 Provider:</br></br>7201 Results from the JSOCClient:</br><div><i>JSOCResponse length=7201</i>\n",
       "<table id=\"table3173914503488\" class=\"table-striped table-bordered table-condensed\">\n",
       "<thead><tr><th>T_REC</th><th>TELESCOP</th><th>INSTRUME</th><th>WAVELNTH</th><th>CAR_ROT</th></tr></thead>\n",
       "<thead><tr><th>str20</th><th>str7</th><th>str5</th><th>int64</th><th>int64</th></tr></thead>\n",
       "<tr><td>2011-01-01T00:00:02Z</td><td>SDO/AIA</td><td>AIA_4</td><td>304</td><td>2105</td></tr>\n",
       "<tr><td>2011-01-01T00:00:14Z</td><td>SDO/AIA</td><td>AIA_4</td><td>304</td><td>2105</td></tr>\n",
       "<tr><td>2011-01-01T00:00:26Z</td><td>SDO/AIA</td><td>AIA_4</td><td>304</td><td>2105</td></tr>\n",
       "<tr><td>2011-01-01T00:00:38Z</td><td>SDO/AIA</td><td>AIA_4</td><td>304</td><td>2105</td></tr>\n",
       "<tr><td>2011-01-01T00:00:50Z</td><td>SDO/AIA</td><td>AIA_4</td><td>304</td><td>2105</td></tr>\n",
       "<tr><td>2011-01-01T00:01:02Z</td><td>SDO/AIA</td><td>AIA_4</td><td>304</td><td>2105</td></tr>\n",
       "<tr><td>2011-01-01T00:01:14Z</td><td>SDO/AIA</td><td>AIA_4</td><td>304</td><td>2105</td></tr>\n",
       "<tr><td>2011-01-01T00:01:26Z</td><td>SDO/AIA</td><td>AIA_4</td><td>304</td><td>2105</td></tr>\n",
       "<tr><td>2011-01-01T00:01:38Z</td><td>SDO/AIA</td><td>AIA_4</td><td>304</td><td>2105</td></tr>\n",
       "<tr><td>2011-01-01T00:01:50Z</td><td>SDO/AIA</td><td>AIA_4</td><td>304</td><td>2105</td></tr>\n",
       "<tr><td>...</td><td>...</td><td>...</td><td>...</td><td>...</td></tr>\n",
       "<tr><td>2011-01-01T23:58:14Z</td><td>SDO/AIA</td><td>AIA_4</td><td>304</td><td>2105</td></tr>\n",
       "<tr><td>2011-01-01T23:58:26Z</td><td>SDO/AIA</td><td>AIA_4</td><td>304</td><td>2105</td></tr>\n",
       "<tr><td>2011-01-01T23:58:38Z</td><td>SDO/AIA</td><td>AIA_4</td><td>304</td><td>2105</td></tr>\n",
       "<tr><td>2011-01-01T23:58:50Z</td><td>SDO/AIA</td><td>AIA_4</td><td>304</td><td>2105</td></tr>\n",
       "<tr><td>2011-01-01T23:59:02Z</td><td>SDO/AIA</td><td>AIA_4</td><td>304</td><td>2105</td></tr>\n",
       "<tr><td>2011-01-01T23:59:14Z</td><td>SDO/AIA</td><td>AIA_4</td><td>304</td><td>2105</td></tr>\n",
       "<tr><td>2011-01-01T23:59:26Z</td><td>SDO/AIA</td><td>AIA_4</td><td>304</td><td>2105</td></tr>\n",
       "<tr><td>2011-01-01T23:59:38Z</td><td>SDO/AIA</td><td>AIA_4</td><td>304</td><td>2105</td></tr>\n",
       "<tr><td>2011-01-01T23:59:50Z</td><td>SDO/AIA</td><td>AIA_4</td><td>304</td><td>2105</td></tr>\n",
       "<tr><td>2011-01-02T00:00:02Z</td><td>SDO/AIA</td><td>AIA_4</td><td>304</td><td>2105</td></tr>\n",
       "</table></div></br>"
      ],
      "text/plain": [
       "<sunpy.net.fido_factory.UnifiedResponse object at 0x000002E2FE77DD30>\n",
       "Results from 1 Provider:\n",
       "\n",
       "7201 Results from the JSOCClient:\n",
       "Source: http://jsoc.stanford.edu\n",
       "\n",
       "       T_REC         TELESCOP INSTRUME WAVELNTH CAR_ROT\n",
       "-------------------- -------- -------- -------- -------\n",
       "2011-01-01T00:00:02Z  SDO/AIA    AIA_4      304    2105\n",
       "2011-01-01T00:00:14Z  SDO/AIA    AIA_4      304    2105\n",
       "2011-01-01T00:00:26Z  SDO/AIA    AIA_4      304    2105\n",
       "2011-01-01T00:00:38Z  SDO/AIA    AIA_4      304    2105\n",
       "2011-01-01T00:00:50Z  SDO/AIA    AIA_4      304    2105\n",
       "2011-01-01T00:01:02Z  SDO/AIA    AIA_4      304    2105\n",
       "2011-01-01T00:01:14Z  SDO/AIA    AIA_4      304    2105\n",
       "2011-01-01T00:01:26Z  SDO/AIA    AIA_4      304    2105\n",
       "2011-01-01T00:01:38Z  SDO/AIA    AIA_4      304    2105\n",
       "2011-01-01T00:01:50Z  SDO/AIA    AIA_4      304    2105\n",
       "                 ...      ...      ...      ...     ...\n",
       "2011-01-01T23:58:02Z  SDO/AIA    AIA_4      304    2105\n",
       "2011-01-01T23:58:14Z  SDO/AIA    AIA_4      304    2105\n",
       "2011-01-01T23:58:26Z  SDO/AIA    AIA_4      304    2105\n",
       "2011-01-01T23:58:38Z  SDO/AIA    AIA_4      304    2105\n",
       "2011-01-01T23:58:50Z  SDO/AIA    AIA_4      304    2105\n",
       "2011-01-01T23:59:02Z  SDO/AIA    AIA_4      304    2105\n",
       "2011-01-01T23:59:14Z  SDO/AIA    AIA_4      304    2105\n",
       "2011-01-01T23:59:26Z  SDO/AIA    AIA_4      304    2105\n",
       "2011-01-01T23:59:38Z  SDO/AIA    AIA_4      304    2105\n",
       "2011-01-01T23:59:50Z  SDO/AIA    AIA_4      304    2105\n",
       "2011-01-02T00:00:02Z  SDO/AIA    AIA_4      304    2105\n",
       "Length = 7201 rows\n"
      ]
     },
     "execution_count": 16,
     "metadata": {},
     "output_type": "execute_result"
    }
   ],
   "source": [
    "res"
   ]
  },
  {
   "cell_type": "code",
   "execution_count": 21,
   "id": "d825fcc8-9025-4d1d-89d0-40a42cf2d95d",
   "metadata": {
    "collapsed": true,
    "jupyter": {
     "outputs_hidden": true
    },
    "tags": []
   },
   "outputs": [
    {
     "ename": "ValueError",
     "evalue": "A registered email is required to get data from JSOC. Please supply an email with attrs.jsoc.Notify to Fido.search. Then pass those new results back into Fido.fetch",
     "output_type": "error",
     "traceback": [
      "\u001b[1;31m---------------------------------------------------------------------------\u001b[0m",
      "\u001b[1;31mValueError\u001b[0m                                Traceback (most recent call last)",
      "Cell \u001b[1;32mIn[21], line 1\u001b[0m\n\u001b[1;32m----> 1\u001b[0m \u001b[43mFido\u001b[49m\u001b[38;5;241;43m.\u001b[39;49m\u001b[43mfetch\u001b[49m\u001b[43m(\u001b[49m\u001b[43mres\u001b[49m\u001b[43m,\u001b[49m\u001b[43m \u001b[49m\u001b[43ma\u001b[49m\u001b[38;5;241;43m.\u001b[39;49m\u001b[43mjsoc\u001b[49m\u001b[38;5;241;43m.\u001b[39;49m\u001b[43mNotify\u001b[49m\u001b[43m(\u001b[49m\u001b[38;5;124;43m'\u001b[39;49m\u001b[38;5;124;43mmaochengzhi1@gmail.com\u001b[39;49m\u001b[38;5;124;43m'\u001b[39;49m\u001b[43m)\u001b[49m\u001b[43m,\u001b[49m\u001b[43mpath\u001b[49m\u001b[38;5;241;43m=\u001b[39;49m\u001b[38;5;124;43m'\u001b[39;49m\u001b[38;5;124;43mdata/AIA\u001b[39;49m\u001b[38;5;124;43m'\u001b[39;49m\u001b[43m,\u001b[49m\n\u001b[0;32m      2\u001b[0m \u001b[43m            \u001b[49m\u001b[43m)\u001b[49m \n",
      "File \u001b[1;32m~\\anaconda3\\envs\\sdo2022\\lib\\site-packages\\sunpy\\net\\fido_factory.py:432\u001b[0m, in \u001b[0;36mUnifiedDownloaderFactory.fetch\u001b[1;34m(self, path, max_conn, progress, overwrite, downloader, *query_results, **kwargs)\u001b[0m\n\u001b[0;32m    429\u001b[0m     \u001b[38;5;28;01mraise\u001b[39;00m \u001b[38;5;167;01mValueError\u001b[39;00m(\u001b[38;5;124mf\u001b[39m\u001b[38;5;124m\"\u001b[39m\u001b[38;5;124mQuery result has an unrecognized type: \u001b[39m\u001b[38;5;132;01m{\u001b[39;00m\u001b[38;5;28mtype\u001b[39m(query_result)\u001b[38;5;132;01m}\u001b[39;00m\u001b[38;5;124m \u001b[39m\u001b[38;5;124m\"\u001b[39m\n\u001b[0;32m    430\u001b[0m                      \u001b[38;5;124m\"\u001b[39m\u001b[38;5;124mAllowed types are QueryResponseRow, QueryResponseTable or UnifiedResponse.\u001b[39m\u001b[38;5;124m\"\u001b[39m)\n\u001b[0;32m    431\u001b[0m \u001b[38;5;28;01mfor\u001b[39;00m block \u001b[38;5;129;01min\u001b[39;00m responses:\n\u001b[1;32m--> 432\u001b[0m     result \u001b[38;5;241m=\u001b[39m block\u001b[38;5;241m.\u001b[39mclient\u001b[38;5;241m.\u001b[39mfetch(block, path\u001b[38;5;241m=\u001b[39mpath,\n\u001b[0;32m    433\u001b[0m                                 downloader\u001b[38;5;241m=\u001b[39mdownloader,\n\u001b[0;32m    434\u001b[0m                                 wait\u001b[38;5;241m=\u001b[39m\u001b[38;5;28;01mFalse\u001b[39;00m, \u001b[38;5;241m*\u001b[39m\u001b[38;5;241m*\u001b[39mkwargs)\n\u001b[0;32m    435\u001b[0m     \u001b[38;5;28;01mif\u001b[39;00m result \u001b[38;5;129;01mnot\u001b[39;00m \u001b[38;5;129;01min\u001b[39;00m (\u001b[38;5;28mNotImplemented\u001b[39m, \u001b[38;5;28;01mNone\u001b[39;00m):\n\u001b[0;32m    436\u001b[0m         reslist\u001b[38;5;241m.\u001b[39mappend(result)\n",
      "File \u001b[1;32m~\\anaconda3\\envs\\sdo2022\\lib\\site-packages\\sunpy\\net\\base_client.py:324\u001b[0m, in \u001b[0;36mconvert_row_to_table.<locals>.wrapper\u001b[1;34m(self, query_results, **kwargs)\u001b[0m\n\u001b[0;32m    322\u001b[0m \u001b[38;5;28;01mif\u001b[39;00m \u001b[38;5;28misinstance\u001b[39m(query_results, QueryResponseRow):\n\u001b[0;32m    323\u001b[0m     query_results \u001b[38;5;241m=\u001b[39m query_results\u001b[38;5;241m.\u001b[39mas_table()\n\u001b[1;32m--> 324\u001b[0m \u001b[38;5;28;01mreturn\u001b[39;00m func(\u001b[38;5;28mself\u001b[39m, query_results, \u001b[38;5;241m*\u001b[39m\u001b[38;5;241m*\u001b[39mkwargs)\n",
      "File \u001b[1;32m~\\anaconda3\\envs\\sdo2022\\lib\\site-packages\\sunpy\\net\\jsoc\\jsoc.py:417\u001b[0m, in \u001b[0;36mJSOCClient.fetch\u001b[1;34m(self, jsoc_response, path, progress, overwrite, downloader, wait, sleep, max_conn, **kwargs)\u001b[0m\n\u001b[0;32m    415\u001b[0m \u001b[38;5;28;01mfor\u001b[39;00m resp \u001b[38;5;129;01min\u001b[39;00m jsoc_response\u001b[38;5;241m.\u001b[39mquery_args:\n\u001b[0;32m    416\u001b[0m     \u001b[38;5;28;01mif\u001b[39;00m \u001b[38;5;124m'\u001b[39m\u001b[38;5;124mnotify\u001b[39m\u001b[38;5;124m'\u001b[39m \u001b[38;5;129;01mnot\u001b[39;00m \u001b[38;5;129;01min\u001b[39;00m resp:\n\u001b[1;32m--> 417\u001b[0m         \u001b[38;5;28;01mraise\u001b[39;00m \u001b[38;5;167;01mValueError\u001b[39;00m(\u001b[38;5;124m'\u001b[39m\u001b[38;5;124mA registered email is required to get data from JSOC. \u001b[39m\u001b[38;5;124m'\u001b[39m\n\u001b[0;32m    418\u001b[0m                          \u001b[38;5;124m'\u001b[39m\u001b[38;5;124mPlease supply an email with attrs.jsoc.Notify to Fido.search. \u001b[39m\u001b[38;5;124m'\u001b[39m\n\u001b[0;32m    419\u001b[0m                          \u001b[38;5;124m'\u001b[39m\u001b[38;5;124mThen pass those new results back into Fido.fetch\u001b[39m\u001b[38;5;124m'\u001b[39m)\n\u001b[0;32m    421\u001b[0m \u001b[38;5;28;01mif\u001b[39;00m \u001b[38;5;28mlen\u001b[39m(jsoc_response) \u001b[38;5;241m!=\u001b[39m jsoc_response\u001b[38;5;241m.\u001b[39m_original_num_rows:\n\u001b[0;32m    422\u001b[0m     warn_user(\u001b[38;5;124m\"\u001b[39m\u001b[38;5;124mDownloading of sliced JSOC results is not supported. \u001b[39m\u001b[38;5;124m\"\u001b[39m\n\u001b[0;32m    423\u001b[0m               \u001b[38;5;124m\"\u001b[39m\u001b[38;5;124mAll the files present in the original response will \u001b[39m\u001b[38;5;124m\"\u001b[39m\n\u001b[0;32m    424\u001b[0m               \u001b[38;5;124m\"\u001b[39m\u001b[38;5;124mbe downloaded when passed to fetch().\u001b[39m\u001b[38;5;124m\"\u001b[39m)\n",
      "\u001b[1;31mValueError\u001b[0m: A registered email is required to get data from JSOC. Please supply an email with attrs.jsoc.Notify to Fido.search. Then pass those new results back into Fido.fetch"
     ]
    }
   ],
   "source": [
    "Fido.fetch(res, path='data/AIA',\n",
    "            ) "
   ]
  },
  {
   "cell_type": "code",
   "execution_count": 18,
   "id": "577f6248-85c1-4ee2-98a3-e53964bb474b",
   "metadata": {
    "collapsed": true,
    "jupyter": {
     "outputs_hidden": true
    },
    "tags": []
   },
   "outputs": [
    {
     "data": {
      "text/plain": [
       "\u001b[1;31mSignature:\u001b[0m\n",
       "\u001b[0mFido\u001b[0m\u001b[1;33m.\u001b[0m\u001b[0mfetch\u001b[0m\u001b[1;33m(\u001b[0m\u001b[1;33m\n",
       "\u001b[0m    \u001b[1;33m*\u001b[0m\u001b[0mquery_results\u001b[0m\u001b[1;33m,\u001b[0m\u001b[1;33m\n",
       "\u001b[0m    \u001b[0mpath\u001b[0m\u001b[1;33m=\u001b[0m\u001b[1;32mNone\u001b[0m\u001b[1;33m,\u001b[0m\u001b[1;33m\n",
       "\u001b[0m    \u001b[0mmax_conn\u001b[0m\u001b[1;33m=\u001b[0m\u001b[1;36m5\u001b[0m\u001b[1;33m,\u001b[0m\u001b[1;33m\n",
       "\u001b[0m    \u001b[0mprogress\u001b[0m\u001b[1;33m=\u001b[0m\u001b[1;32mTrue\u001b[0m\u001b[1;33m,\u001b[0m\u001b[1;33m\n",
       "\u001b[0m    \u001b[0moverwrite\u001b[0m\u001b[1;33m=\u001b[0m\u001b[1;32mFalse\u001b[0m\u001b[1;33m,\u001b[0m\u001b[1;33m\n",
       "\u001b[0m    \u001b[0mdownloader\u001b[0m\u001b[1;33m=\u001b[0m\u001b[1;32mNone\u001b[0m\u001b[1;33m,\u001b[0m\u001b[1;33m\n",
       "\u001b[0m    \u001b[1;33m**\u001b[0m\u001b[0mkwargs\u001b[0m\u001b[1;33m,\u001b[0m\u001b[1;33m\n",
       "\u001b[0m\u001b[1;33m)\u001b[0m\u001b[1;33m\u001b[0m\u001b[1;33m\u001b[0m\u001b[0m\n",
       "\u001b[1;31mDocstring:\u001b[0m\n",
       "Download the records represented by `~sunpy.net.base_client.QueryResponseTable` or\n",
       "`~sunpy.net.fido_factory.UnifiedResponse` objects.\n",
       "\n",
       "Parameters\n",
       "----------\n",
       "*query_results : `sunpy.net.fido_factory.UnifiedResponse` or `~sunpy.net.base_client.QueryResponseTable`\n",
       "    Container returned by query method, or multiple.\n",
       "path : `str`\n",
       "    The directory to retrieve the files into. Can refer to any fields\n",
       "    in `~sunpy.net.base_client.BaseQueryResponse.response_block_properties` via string formatting,\n",
       "    moreover the file-name of the file downloaded can be referred to as file,\n",
       "    e.g. \"{source}/{instrument}/{time.start}/{file}\".\n",
       "max_conn : `int`, optional\n",
       "    The number of parallel download slots.\n",
       "progress : `bool`, optional\n",
       "    If `True` show a progress bar showing how many of the total files\n",
       "    have been downloaded. If `False`, no progress bars will be shown at all.\n",
       "overwrite : `bool` or `str`, optional\n",
       "    Determine how to handle downloading if a file already exists with the\n",
       "    same name. If `False` the file download will be skipped and the path\n",
       "    returned to the existing file, if `True` the file will be downloaded\n",
       "    and the existing file will be overwritten, if ``'unique'`` the filename\n",
       "    will be modified to be unique.\n",
       "downloader : `parfive.Downloader`, optional\n",
       "    The download manager to use. If specified the ``max_conn``,\n",
       "    ``progress`` and ``overwrite`` arguments are ignored.\n",
       "\n",
       "Returns\n",
       "-------\n",
       "`parfive.Results`\n",
       "\n",
       "Examples\n",
       "--------\n",
       ">>> from sunpy.net.attrs import Time, Instrument\n",
       ">>> unifresp = Fido.search(Time('2012/3/4','2012/3/5'), Instrument('EIT'))  # doctest: +REMOTE_DATA\n",
       ">>> filepaths = Fido.fetch(unifresp)  # doctest: +SKIP\n",
       "\n",
       "If any downloads fail, they can be retried by passing the `parfive.Results` object back into ``fetch``.\n",
       "\n",
       ">>> filepaths = Fido.fetch(filepaths)  # doctest: +SKIP\n",
       "\u001b[1;31mFile:\u001b[0m      c:\\users\\14902\\anaconda3\\envs\\sdo2022\\lib\\site-packages\\sunpy\\net\\fido_factory.py\n",
       "\u001b[1;31mType:\u001b[0m      method"
      ]
     },
     "metadata": {},
     "output_type": "display_data"
    }
   ],
   "source": [
    "Fido.fetch?"
   ]
  },
  {
   "cell_type": "code",
   "execution_count": 17,
   "id": "72f0c586-90c4-4488-bd6a-172a96ff151c",
   "metadata": {
    "collapsed": true,
    "jupyter": {
     "outputs_hidden": true
    },
    "tags": []
   },
   "outputs": [
    {
     "ename": "ValueError",
     "evalue": "A registered email is required to get data from JSOC. Please supply an email with attrs.jsoc.Notify to Fido.search. Then pass those new results back into Fido.fetch",
     "output_type": "error",
     "traceback": [
      "\u001b[1;31m---------------------------------------------------------------------------\u001b[0m",
      "\u001b[1;31mValueError\u001b[0m                                Traceback (most recent call last)",
      "Cell \u001b[1;32mIn[17], line 1\u001b[0m\n\u001b[1;32m----> 1\u001b[0m files \u001b[38;5;241m=\u001b[39m \u001b[43mFido\u001b[49m\u001b[38;5;241;43m.\u001b[39;49m\u001b[43mfetch\u001b[49m\u001b[43m(\u001b[49m\u001b[43mres\u001b[49m\u001b[43m,\u001b[49m\u001b[43m \u001b[49m\u001b[43mpath\u001b[49m\u001b[38;5;241;43m=\u001b[39;49m\u001b[38;5;124;43m'\u001b[39;49m\u001b[38;5;124;43mdata/AIA\u001b[39;49m\u001b[38;5;124;43m'\u001b[39;49m\u001b[43m)\u001b[49m\n",
      "File \u001b[1;32m~\\anaconda3\\envs\\sdo2022\\lib\\site-packages\\sunpy\\net\\fido_factory.py:432\u001b[0m, in \u001b[0;36mUnifiedDownloaderFactory.fetch\u001b[1;34m(self, path, max_conn, progress, overwrite, downloader, *query_results, **kwargs)\u001b[0m\n\u001b[0;32m    429\u001b[0m     \u001b[38;5;28;01mraise\u001b[39;00m \u001b[38;5;167;01mValueError\u001b[39;00m(\u001b[38;5;124mf\u001b[39m\u001b[38;5;124m\"\u001b[39m\u001b[38;5;124mQuery result has an unrecognized type: \u001b[39m\u001b[38;5;132;01m{\u001b[39;00m\u001b[38;5;28mtype\u001b[39m(query_result)\u001b[38;5;132;01m}\u001b[39;00m\u001b[38;5;124m \u001b[39m\u001b[38;5;124m\"\u001b[39m\n\u001b[0;32m    430\u001b[0m                      \u001b[38;5;124m\"\u001b[39m\u001b[38;5;124mAllowed types are QueryResponseRow, QueryResponseTable or UnifiedResponse.\u001b[39m\u001b[38;5;124m\"\u001b[39m)\n\u001b[0;32m    431\u001b[0m \u001b[38;5;28;01mfor\u001b[39;00m block \u001b[38;5;129;01min\u001b[39;00m responses:\n\u001b[1;32m--> 432\u001b[0m     result \u001b[38;5;241m=\u001b[39m block\u001b[38;5;241m.\u001b[39mclient\u001b[38;5;241m.\u001b[39mfetch(block, path\u001b[38;5;241m=\u001b[39mpath,\n\u001b[0;32m    433\u001b[0m                                 downloader\u001b[38;5;241m=\u001b[39mdownloader,\n\u001b[0;32m    434\u001b[0m                                 wait\u001b[38;5;241m=\u001b[39m\u001b[38;5;28;01mFalse\u001b[39;00m, \u001b[38;5;241m*\u001b[39m\u001b[38;5;241m*\u001b[39mkwargs)\n\u001b[0;32m    435\u001b[0m     \u001b[38;5;28;01mif\u001b[39;00m result \u001b[38;5;129;01mnot\u001b[39;00m \u001b[38;5;129;01min\u001b[39;00m (\u001b[38;5;28mNotImplemented\u001b[39m, \u001b[38;5;28;01mNone\u001b[39;00m):\n\u001b[0;32m    436\u001b[0m         reslist\u001b[38;5;241m.\u001b[39mappend(result)\n",
      "File \u001b[1;32m~\\anaconda3\\envs\\sdo2022\\lib\\site-packages\\sunpy\\net\\base_client.py:324\u001b[0m, in \u001b[0;36mconvert_row_to_table.<locals>.wrapper\u001b[1;34m(self, query_results, **kwargs)\u001b[0m\n\u001b[0;32m    322\u001b[0m \u001b[38;5;28;01mif\u001b[39;00m \u001b[38;5;28misinstance\u001b[39m(query_results, QueryResponseRow):\n\u001b[0;32m    323\u001b[0m     query_results \u001b[38;5;241m=\u001b[39m query_results\u001b[38;5;241m.\u001b[39mas_table()\n\u001b[1;32m--> 324\u001b[0m \u001b[38;5;28;01mreturn\u001b[39;00m func(\u001b[38;5;28mself\u001b[39m, query_results, \u001b[38;5;241m*\u001b[39m\u001b[38;5;241m*\u001b[39mkwargs)\n",
      "File \u001b[1;32m~\\anaconda3\\envs\\sdo2022\\lib\\site-packages\\sunpy\\net\\jsoc\\jsoc.py:417\u001b[0m, in \u001b[0;36mJSOCClient.fetch\u001b[1;34m(self, jsoc_response, path, progress, overwrite, downloader, wait, sleep, max_conn, **kwargs)\u001b[0m\n\u001b[0;32m    415\u001b[0m \u001b[38;5;28;01mfor\u001b[39;00m resp \u001b[38;5;129;01min\u001b[39;00m jsoc_response\u001b[38;5;241m.\u001b[39mquery_args:\n\u001b[0;32m    416\u001b[0m     \u001b[38;5;28;01mif\u001b[39;00m \u001b[38;5;124m'\u001b[39m\u001b[38;5;124mnotify\u001b[39m\u001b[38;5;124m'\u001b[39m \u001b[38;5;129;01mnot\u001b[39;00m \u001b[38;5;129;01min\u001b[39;00m resp:\n\u001b[1;32m--> 417\u001b[0m         \u001b[38;5;28;01mraise\u001b[39;00m \u001b[38;5;167;01mValueError\u001b[39;00m(\u001b[38;5;124m'\u001b[39m\u001b[38;5;124mA registered email is required to get data from JSOC. \u001b[39m\u001b[38;5;124m'\u001b[39m\n\u001b[0;32m    418\u001b[0m                          \u001b[38;5;124m'\u001b[39m\u001b[38;5;124mPlease supply an email with attrs.jsoc.Notify to Fido.search. \u001b[39m\u001b[38;5;124m'\u001b[39m\n\u001b[0;32m    419\u001b[0m                          \u001b[38;5;124m'\u001b[39m\u001b[38;5;124mThen pass those new results back into Fido.fetch\u001b[39m\u001b[38;5;124m'\u001b[39m)\n\u001b[0;32m    421\u001b[0m \u001b[38;5;28;01mif\u001b[39;00m \u001b[38;5;28mlen\u001b[39m(jsoc_response) \u001b[38;5;241m!=\u001b[39m jsoc_response\u001b[38;5;241m.\u001b[39m_original_num_rows:\n\u001b[0;32m    422\u001b[0m     warn_user(\u001b[38;5;124m\"\u001b[39m\u001b[38;5;124mDownloading of sliced JSOC results is not supported. \u001b[39m\u001b[38;5;124m\"\u001b[39m\n\u001b[0;32m    423\u001b[0m               \u001b[38;5;124m\"\u001b[39m\u001b[38;5;124mAll the files present in the original response will \u001b[39m\u001b[38;5;124m\"\u001b[39m\n\u001b[0;32m    424\u001b[0m               \u001b[38;5;124m\"\u001b[39m\u001b[38;5;124mbe downloaded when passed to fetch().\u001b[39m\u001b[38;5;124m\"\u001b[39m)\n",
      "\u001b[1;31mValueError\u001b[0m: A registered email is required to get data from JSOC. Please supply an email with attrs.jsoc.Notify to Fido.search. Then pass those new results back into Fido.fetch"
     ]
    }
   ],
   "source": [
    "files = Fido.fetch(res, path='data/AIA')"
   ]
  },
  {
   "cell_type": "code",
   "execution_count": 13,
   "id": "9245d4f4-6d44-42af-8d6a-ec78db266c21",
   "metadata": {
    "collapsed": true,
    "jupyter": {
     "outputs_hidden": true
    },
    "tags": []
   },
   "outputs": [
    {
     "data": {
      "text/html": [
       "Results from 1 Provider:</br></br>7200 Results from the VSOClient:</br><div><i>VSOQueryResponseTable length=7200</i>\n",
       "<table id=\"table1874745877120\" class=\"table-striped table-bordered table-condensed\">\n",
       "<thead><tr><th>Start Time</th><th>End Time</th><th>Source</th><th>Instrument</th><th>Wavelength</th><th>Provider</th><th>Physobs</th><th>Wavetype</th><th>Extent Width</th><th>Extent Length</th><th>Extent Type</th><th>Size</th></tr></thead>\n",
       "<thead><tr><th></th><th></th><th></th><th></th><th>Angstrom</th><th></th><th></th><th></th><th></th><th></th><th></th><th>Mibyte</th></tr></thead>\n",
       "<thead><tr><th>Time</th><th>Time</th><th>str3</th><th>str3</th><th>float64[2]</th><th>str4</th><th>str9</th><th>str6</th><th>str4</th><th>str4</th><th>str8</th><th>float64</th></tr></thead>\n",
       "<tr><td>2011-01-01 00:00:08.000</td><td>2011-01-01 00:00:09.000</td><td>SDO</td><td>AIA</td><td>304.0 .. 304.0</td><td>JSOC</td><td>intensity</td><td>NARROW</td><td>4096</td><td>4096</td><td>FULLDISK</td><td>64.64844</td></tr>\n",
       "<tr><td>2011-01-01 00:00:20.000</td><td>2011-01-01 00:00:21.000</td><td>SDO</td><td>AIA</td><td>304.0 .. 304.0</td><td>JSOC</td><td>intensity</td><td>NARROW</td><td>4096</td><td>4096</td><td>FULLDISK</td><td>64.64844</td></tr>\n",
       "<tr><td>2011-01-01 00:00:32.000</td><td>2011-01-01 00:00:33.000</td><td>SDO</td><td>AIA</td><td>304.0 .. 304.0</td><td>JSOC</td><td>intensity</td><td>NARROW</td><td>4096</td><td>4096</td><td>FULLDISK</td><td>64.64844</td></tr>\n",
       "<tr><td>2011-01-01 00:00:44.000</td><td>2011-01-01 00:00:45.000</td><td>SDO</td><td>AIA</td><td>304.0 .. 304.0</td><td>JSOC</td><td>intensity</td><td>NARROW</td><td>4096</td><td>4096</td><td>FULLDISK</td><td>64.64844</td></tr>\n",
       "<tr><td>2011-01-01 00:00:56.000</td><td>2011-01-01 00:00:57.000</td><td>SDO</td><td>AIA</td><td>304.0 .. 304.0</td><td>JSOC</td><td>intensity</td><td>NARROW</td><td>4096</td><td>4096</td><td>FULLDISK</td><td>64.64844</td></tr>\n",
       "<tr><td>2011-01-01 00:01:08.000</td><td>2011-01-01 00:01:09.000</td><td>SDO</td><td>AIA</td><td>304.0 .. 304.0</td><td>JSOC</td><td>intensity</td><td>NARROW</td><td>4096</td><td>4096</td><td>FULLDISK</td><td>64.64844</td></tr>\n",
       "<tr><td>2011-01-01 00:01:20.000</td><td>2011-01-01 00:01:21.000</td><td>SDO</td><td>AIA</td><td>304.0 .. 304.0</td><td>JSOC</td><td>intensity</td><td>NARROW</td><td>4096</td><td>4096</td><td>FULLDISK</td><td>64.64844</td></tr>\n",
       "<tr><td>2011-01-01 00:01:32.000</td><td>2011-01-01 00:01:33.000</td><td>SDO</td><td>AIA</td><td>304.0 .. 304.0</td><td>JSOC</td><td>intensity</td><td>NARROW</td><td>4096</td><td>4096</td><td>FULLDISK</td><td>64.64844</td></tr>\n",
       "<tr><td>2011-01-01 00:01:44.000</td><td>2011-01-01 00:01:45.000</td><td>SDO</td><td>AIA</td><td>304.0 .. 304.0</td><td>JSOC</td><td>intensity</td><td>NARROW</td><td>4096</td><td>4096</td><td>FULLDISK</td><td>64.64844</td></tr>\n",
       "<tr><td>...</td><td>...</td><td>...</td><td>...</td><td>...</td><td>...</td><td>...</td><td>...</td><td>...</td><td>...</td><td>...</td><td>...</td></tr>\n",
       "<tr><td>2011-01-01 23:58:08.000</td><td>2011-01-01 23:58:09.000</td><td>SDO</td><td>AIA</td><td>304.0 .. 304.0</td><td>JSOC</td><td>intensity</td><td>NARROW</td><td>4096</td><td>4096</td><td>FULLDISK</td><td>64.64844</td></tr>\n",
       "<tr><td>2011-01-01 23:58:20.000</td><td>2011-01-01 23:58:21.000</td><td>SDO</td><td>AIA</td><td>304.0 .. 304.0</td><td>JSOC</td><td>intensity</td><td>NARROW</td><td>4096</td><td>4096</td><td>FULLDISK</td><td>64.64844</td></tr>\n",
       "<tr><td>2011-01-01 23:58:32.000</td><td>2011-01-01 23:58:33.000</td><td>SDO</td><td>AIA</td><td>304.0 .. 304.0</td><td>JSOC</td><td>intensity</td><td>NARROW</td><td>4096</td><td>4096</td><td>FULLDISK</td><td>64.64844</td></tr>\n",
       "<tr><td>2011-01-01 23:58:44.000</td><td>2011-01-01 23:58:45.000</td><td>SDO</td><td>AIA</td><td>304.0 .. 304.0</td><td>JSOC</td><td>intensity</td><td>NARROW</td><td>4096</td><td>4096</td><td>FULLDISK</td><td>64.64844</td></tr>\n",
       "<tr><td>2011-01-01 23:58:56.000</td><td>2011-01-01 23:58:57.000</td><td>SDO</td><td>AIA</td><td>304.0 .. 304.0</td><td>JSOC</td><td>intensity</td><td>NARROW</td><td>4096</td><td>4096</td><td>FULLDISK</td><td>64.64844</td></tr>\n",
       "<tr><td>2011-01-01 23:59:08.000</td><td>2011-01-01 23:59:09.000</td><td>SDO</td><td>AIA</td><td>304.0 .. 304.0</td><td>JSOC</td><td>intensity</td><td>NARROW</td><td>4096</td><td>4096</td><td>FULLDISK</td><td>64.64844</td></tr>\n",
       "<tr><td>2011-01-01 23:59:20.000</td><td>2011-01-01 23:59:21.000</td><td>SDO</td><td>AIA</td><td>304.0 .. 304.0</td><td>JSOC</td><td>intensity</td><td>NARROW</td><td>4096</td><td>4096</td><td>FULLDISK</td><td>64.64844</td></tr>\n",
       "<tr><td>2011-01-01 23:59:32.000</td><td>2011-01-01 23:59:33.000</td><td>SDO</td><td>AIA</td><td>304.0 .. 304.0</td><td>JSOC</td><td>intensity</td><td>NARROW</td><td>4096</td><td>4096</td><td>FULLDISK</td><td>64.64844</td></tr>\n",
       "<tr><td>2011-01-01 23:59:44.000</td><td>2011-01-01 23:59:45.000</td><td>SDO</td><td>AIA</td><td>304.0 .. 304.0</td><td>JSOC</td><td>intensity</td><td>NARROW</td><td>4096</td><td>4096</td><td>FULLDISK</td><td>64.64844</td></tr>\n",
       "<tr><td>2011-01-01 23:59:56.000</td><td>2011-01-01 23:59:57.000</td><td>SDO</td><td>AIA</td><td>304.0 .. 304.0</td><td>JSOC</td><td>intensity</td><td>NARROW</td><td>4096</td><td>4096</td><td>FULLDISK</td><td>64.64844</td></tr>\n",
       "</table></div></br>"
      ],
      "text/plain": [
       "<sunpy.net.fido_factory.UnifiedResponse object at 0x000001B47AAF6100>\n",
       "Results from 1 Provider:\n",
       "\n",
       "7200 Results from the VSOClient:\n",
       "Source: http://vso.stanford.edu/cgi-bin/search\n",
       "Total estimated size: 488.079 Gbyte\n",
       "\n",
       "       Start Time               End Time        Source ... Extent Type   Size  \n",
       "                                                       ...              Mibyte \n",
       "----------------------- ----------------------- ------ ... ----------- --------\n",
       "2011-01-01 00:00:08.000 2011-01-01 00:00:09.000    SDO ...    FULLDISK 64.64844\n",
       "2011-01-01 00:00:20.000 2011-01-01 00:00:21.000    SDO ...    FULLDISK 64.64844\n",
       "2011-01-01 00:00:32.000 2011-01-01 00:00:33.000    SDO ...    FULLDISK 64.64844\n",
       "2011-01-01 00:00:44.000 2011-01-01 00:00:45.000    SDO ...    FULLDISK 64.64844\n",
       "2011-01-01 00:00:56.000 2011-01-01 00:00:57.000    SDO ...    FULLDISK 64.64844\n",
       "2011-01-01 00:01:08.000 2011-01-01 00:01:09.000    SDO ...    FULLDISK 64.64844\n",
       "2011-01-01 00:01:20.000 2011-01-01 00:01:21.000    SDO ...    FULLDISK 64.64844\n",
       "2011-01-01 00:01:32.000 2011-01-01 00:01:33.000    SDO ...    FULLDISK 64.64844\n",
       "2011-01-01 00:01:44.000 2011-01-01 00:01:45.000    SDO ...    FULLDISK 64.64844\n",
       "2011-01-01 00:01:56.000 2011-01-01 00:01:57.000    SDO ...    FULLDISK 64.64844\n",
       "                    ...                     ...    ... ...         ...      ...\n",
       "2011-01-01 23:58:08.000 2011-01-01 23:58:09.000    SDO ...    FULLDISK 64.64844\n",
       "2011-01-01 23:58:20.000 2011-01-01 23:58:21.000    SDO ...    FULLDISK 64.64844\n",
       "2011-01-01 23:58:32.000 2011-01-01 23:58:33.000    SDO ...    FULLDISK 64.64844\n",
       "2011-01-01 23:58:44.000 2011-01-01 23:58:45.000    SDO ...    FULLDISK 64.64844\n",
       "2011-01-01 23:58:56.000 2011-01-01 23:58:57.000    SDO ...    FULLDISK 64.64844\n",
       "2011-01-01 23:59:08.000 2011-01-01 23:59:09.000    SDO ...    FULLDISK 64.64844\n",
       "2011-01-01 23:59:20.000 2011-01-01 23:59:21.000    SDO ...    FULLDISK 64.64844\n",
       "2011-01-01 23:59:32.000 2011-01-01 23:59:33.000    SDO ...    FULLDISK 64.64844\n",
       "2011-01-01 23:59:44.000 2011-01-01 23:59:45.000    SDO ...    FULLDISK 64.64844\n",
       "2011-01-01 23:59:56.000 2011-01-01 23:59:57.000    SDO ...    FULLDISK 64.64844\n",
       "Length = 7200 rows\n"
      ]
     },
     "execution_count": 13,
     "metadata": {},
     "output_type": "execute_result"
    }
   ],
   "source": [
    "obs_start = \"2011-01-01T00:00:00\"\n",
    "obs_end = \"2011-01-02T00:00:00\"\n",
    "obs_time = a.Time(obs_start, obs_end)\n",
    "\n",
    "quest = Fido.search(\n",
    "                        obs_time,\n",
    "                       a.Instrument.aia,\n",
    "                       a.Wavelength(304*u.angstrom),\n",
    "                       a.Sample(1*u.s),\n",
    "                       ) \n",
    "quest"
   ]
  },
  {
   "cell_type": "code",
   "execution_count": 14,
   "id": "a0c14bc2-a270-4286-8414-0555d1cbea78",
   "metadata": {},
   "outputs": [],
   "source": [
    "temp,=quest"
   ]
  },
  {
   "cell_type": "code",
   "execution_count": null,
   "id": "a1d00348-2811-43c5-852d-e6bbffe90e54",
   "metadata": {
    "tags": []
   },
   "outputs": [
    {
     "data": {
      "application/vnd.jupyter.widget-view+json": {
       "model_id": "d3ad4384230f4449a938472aa6b924a2",
       "version_major": 2,
       "version_minor": 0
      },
      "text/plain": [
       "Files Downloaded:   0%|          | 0/10 [00:00<?, ?file/s]"
      ]
     },
     "metadata": {},
     "output_type": "display_data"
    },
    {
     "name": "stdout",
     "output_type": "stream",
     "text": [
      "10/0 files failed to download. Please check `.errors` for details\n"
     ]
    },
    {
     "data": {
      "application/vnd.jupyter.widget-view+json": {
       "model_id": "5068d1477f5748b79f75452f5cdbccb1",
       "version_major": 2,
       "version_minor": 0
      },
      "text/plain": [
       "Files Downloaded:   0%|          | 0/10 [00:00<?, ?file/s]"
      ]
     },
     "metadata": {},
     "output_type": "display_data"
    },
    {
     "name": "stdout",
     "output_type": "stream",
     "text": [
      "10/0 files failed to download. Please check `.errors` for details\n"
     ]
    },
    {
     "data": {
      "application/vnd.jupyter.widget-view+json": {
       "model_id": "694f58169f124d2a8af46e6018cb5d27",
       "version_major": 2,
       "version_minor": 0
      },
      "text/plain": [
       "Files Downloaded:   0%|          | 0/10 [00:00<?, ?file/s]"
      ]
     },
     "metadata": {},
     "output_type": "display_data"
    },
    {
     "name": "stdout",
     "output_type": "stream",
     "text": [
      "10/0 files failed to download. Please check `.errors` for details\n"
     ]
    },
    {
     "data": {
      "application/vnd.jupyter.widget-view+json": {
       "model_id": "3d85a07c5d114746a80239b9d262e8ca",
       "version_major": 2,
       "version_minor": 0
      },
      "text/plain": [
       "Files Downloaded:   0%|          | 0/10 [00:00<?, ?file/s]"
      ]
     },
     "metadata": {},
     "output_type": "display_data"
    },
    {
     "name": "stdout",
     "output_type": "stream",
     "text": [
      "10/0 files failed to download. Please check `.errors` for details\n"
     ]
    },
    {
     "data": {
      "application/vnd.jupyter.widget-view+json": {
       "model_id": "775f7f36b96d4c44b9012562a4458760",
       "version_major": 2,
       "version_minor": 0
      },
      "text/plain": [
       "Files Downloaded:   0%|          | 0/10 [00:00<?, ?file/s]"
      ]
     },
     "metadata": {},
     "output_type": "display_data"
    },
    {
     "name": "stdout",
     "output_type": "stream",
     "text": [
      "10/0 files failed to download. Please check `.errors` for details\n"
     ]
    },
    {
     "data": {
      "application/vnd.jupyter.widget-view+json": {
       "model_id": "9ab2b1f1bf924826b86fde4bfbf9a568",
       "version_major": 2,
       "version_minor": 0
      },
      "text/plain": [
       "Files Downloaded:   0%|          | 0/10 [00:00<?, ?file/s]"
      ]
     },
     "metadata": {},
     "output_type": "display_data"
    },
    {
     "name": "stdout",
     "output_type": "stream",
     "text": [
      "10/0 files failed to download. Please check `.errors` for details\n"
     ]
    },
    {
     "data": {
      "application/vnd.jupyter.widget-view+json": {
       "model_id": "fa092c937d674e8485b57730f4f55bd3",
       "version_major": 2,
       "version_minor": 0
      },
      "text/plain": [
       "Files Downloaded:   0%|          | 0/10 [00:00<?, ?file/s]"
      ]
     },
     "metadata": {},
     "output_type": "display_data"
    },
    {
     "name": "stdout",
     "output_type": "stream",
     "text": [
      "5/0 files failed to download. Please check `.errors` for details\n"
     ]
    },
    {
     "data": {
      "application/vnd.jupyter.widget-view+json": {
       "model_id": "5ea4fa545ca84be19f5bc300f988b561",
       "version_major": 2,
       "version_minor": 0
      },
      "text/plain": [
       "Files Downloaded:   0%|          | 0/10 [00:00<?, ?file/s]"
      ]
     },
     "metadata": {},
     "output_type": "display_data"
    },
    {
     "data": {
      "application/vnd.jupyter.widget-view+json": {
       "model_id": "ad135329dff1477fb6fbcb96e8c5e354",
       "version_major": 2,
       "version_minor": 0
      },
      "text/plain": [
       "Files Downloaded:   0%|          | 0/10 [00:00<?, ?file/s]"
      ]
     },
     "metadata": {},
     "output_type": "display_data"
    },
    {
     "name": "stdout",
     "output_type": "stream",
     "text": [
      "3/0 files failed to download. Please check `.errors` for details\n"
     ]
    },
    {
     "data": {
      "application/vnd.jupyter.widget-view+json": {
       "model_id": "d33be76a975149a3b882635738a4e73c",
       "version_major": 2,
       "version_minor": 0
      },
      "text/plain": [
       "Files Downloaded:   0%|          | 0/10 [00:00<?, ?file/s]"
      ]
     },
     "metadata": {},
     "output_type": "display_data"
    },
    {
     "data": {
      "application/vnd.jupyter.widget-view+json": {
       "model_id": "1fdb07c730294b6886236ae1ed5f7573",
       "version_major": 2,
       "version_minor": 0
      },
      "text/plain": [
       "Files Downloaded:   0%|          | 0/10 [00:00<?, ?file/s]"
      ]
     },
     "metadata": {},
     "output_type": "display_data"
    },
    {
     "data": {
      "application/vnd.jupyter.widget-view+json": {
       "model_id": "f14cb2a23d6b463da5d95ccd78fc8055",
       "version_major": 2,
       "version_minor": 0
      },
      "text/plain": [
       "Files Downloaded:   0%|          | 0/10 [00:00<?, ?file/s]"
      ]
     },
     "metadata": {},
     "output_type": "display_data"
    },
    {
     "data": {
      "application/vnd.jupyter.widget-view+json": {
       "model_id": "89c0b25339434e4aa7d4112b53f2419d",
       "version_major": 2,
       "version_minor": 0
      },
      "text/plain": [
       "Files Downloaded:   0%|          | 0/10 [00:00<?, ?file/s]"
      ]
     },
     "metadata": {},
     "output_type": "display_data"
    },
    {
     "data": {
      "application/vnd.jupyter.widget-view+json": {
       "model_id": "aa866d79b258497cbbb108e2786f9e1e",
       "version_major": 2,
       "version_minor": 0
      },
      "text/plain": [
       "Files Downloaded:   0%|          | 0/10 [00:00<?, ?file/s]"
      ]
     },
     "metadata": {},
     "output_type": "display_data"
    },
    {
     "data": {
      "application/vnd.jupyter.widget-view+json": {
       "model_id": "",
       "version_major": 2,
       "version_minor": 0
      },
      "text/plain": [
       "aia_lev1_304a_2011_01_01t00_27_56_13z_image_lev1.fits:   0%|          | 0.00/9.82M [00:00<?, ?B/s]"
      ]
     },
     "metadata": {},
     "output_type": "display_data"
    },
    {
     "data": {
      "application/vnd.jupyter.widget-view+json": {
       "model_id": "54f3a65ce02d4c159ae52d2e0e6ba59e",
       "version_major": 2,
       "version_minor": 0
      },
      "text/plain": [
       "Files Downloaded:   0%|          | 0/10 [00:00<?, ?file/s]"
      ]
     },
     "metadata": {},
     "output_type": "display_data"
    },
    {
     "data": {
      "application/vnd.jupyter.widget-view+json": {
       "model_id": "4ddbebe14b10416d85c003ca607eec5a",
       "version_major": 2,
       "version_minor": 0
      },
      "text/plain": [
       "Files Downloaded:   0%|          | 0/10 [00:00<?, ?file/s]"
      ]
     },
     "metadata": {},
     "output_type": "display_data"
    },
    {
     "data": {
      "application/vnd.jupyter.widget-view+json": {
       "model_id": "45cd46341cf54d75bd8a74f9a045be42",
       "version_major": 2,
       "version_minor": 0
      },
      "text/plain": [
       "Files Downloaded:   0%|          | 0/10 [00:00<?, ?file/s]"
      ]
     },
     "metadata": {},
     "output_type": "display_data"
    },
    {
     "data": {
      "application/vnd.jupyter.widget-view+json": {
       "model_id": "449f3bb8e6b34b4da30656b2db5fa553",
       "version_major": 2,
       "version_minor": 0
      },
      "text/plain": [
       "Files Downloaded:   0%|          | 0/10 [00:00<?, ?file/s]"
      ]
     },
     "metadata": {},
     "output_type": "display_data"
    },
    {
     "data": {
      "application/vnd.jupyter.widget-view+json": {
       "model_id": "a99b31f03eee489b9a48b58d2755a6f9",
       "version_major": 2,
       "version_minor": 0
      },
      "text/plain": [
       "Files Downloaded:   0%|          | 0/10 [00:00<?, ?file/s]"
      ]
     },
     "metadata": {},
     "output_type": "display_data"
    },
    {
     "data": {
      "application/vnd.jupyter.widget-view+json": {
       "model_id": "",
       "version_major": 2,
       "version_minor": 0
      },
      "text/plain": [
       "aia_lev1_304a_2011_01_01t00_36_20_13z_image_lev1.fits:   0%|          | 0.00/9.82M [00:00<?, ?B/s]"
      ]
     },
     "metadata": {},
     "output_type": "display_data"
    },
    {
     "data": {
      "application/vnd.jupyter.widget-view+json": {
       "model_id": "5ed94c712cee471e9366679c3048a873",
       "version_major": 2,
       "version_minor": 0
      },
      "text/plain": [
       "Files Downloaded:   0%|          | 0/10 [00:00<?, ?file/s]"
      ]
     },
     "metadata": {},
     "output_type": "display_data"
    },
    {
     "data": {
      "application/vnd.jupyter.widget-view+json": {
       "model_id": "fa894e58ca2a4cd69b7c97a83107514d",
       "version_major": 2,
       "version_minor": 0
      },
      "text/plain": [
       "Files Downloaded:   0%|          | 0/10 [00:00<?, ?file/s]"
      ]
     },
     "metadata": {},
     "output_type": "display_data"
    },
    {
     "name": "stdout",
     "output_type": "stream",
     "text": [
      "4/0 files failed to download. Please check `.errors` for details\n"
     ]
    },
    {
     "data": {
      "application/vnd.jupyter.widget-view+json": {
       "model_id": "bf8203af1b054e108cdc7d46bc3506d4",
       "version_major": 2,
       "version_minor": 0
      },
      "text/plain": [
       "Files Downloaded:   0%|          | 0/10 [00:00<?, ?file/s]"
      ]
     },
     "metadata": {},
     "output_type": "display_data"
    },
    {
     "data": {
      "application/vnd.jupyter.widget-view+json": {
       "model_id": "",
       "version_major": 2,
       "version_minor": 0
      },
      "text/plain": [
       "aia_lev1_304a_2011_01_01t00_42_32_12z_image_lev1.fits:   0%|          | 0.00/9.83M [00:00<?, ?B/s]"
      ]
     },
     "metadata": {},
     "output_type": "display_data"
    },
    {
     "data": {
      "application/vnd.jupyter.widget-view+json": {
       "model_id": "",
       "version_major": 2,
       "version_minor": 0
      },
      "text/plain": [
       "aia_lev1_304a_2011_01_01t00_42_44_13z_image_lev1.fits:   0%|          | 0.00/9.83M [00:00<?, ?B/s]"
      ]
     },
     "metadata": {},
     "output_type": "display_data"
    },
    {
     "data": {
      "application/vnd.jupyter.widget-view+json": {
       "model_id": "",
       "version_major": 2,
       "version_minor": 0
      },
      "text/plain": [
       "aia_lev1_304a_2011_01_01t00_42_20_13z_image_lev1.fits:   0%|          | 0.00/9.82M [00:00<?, ?B/s]"
      ]
     },
     "metadata": {},
     "output_type": "display_data"
    },
    {
     "name": "stdout",
     "output_type": "stream",
     "text": [
      "1/0 files failed to download. Please check `.errors` for details\n"
     ]
    },
    {
     "data": {
      "application/vnd.jupyter.widget-view+json": {
       "model_id": "dcb6c7b0c52749db93f4849b6348ecd8",
       "version_major": 2,
       "version_minor": 0
      },
      "text/plain": [
       "Files Downloaded:   0%|          | 0/10 [00:00<?, ?file/s]"
      ]
     },
     "metadata": {},
     "output_type": "display_data"
    },
    {
     "data": {
      "application/vnd.jupyter.widget-view+json": {
       "model_id": "9536da9255b844399dd4f1d472a173c0",
       "version_major": 2,
       "version_minor": 0
      },
      "text/plain": [
       "Files Downloaded:   0%|          | 0/10 [00:00<?, ?file/s]"
      ]
     },
     "metadata": {},
     "output_type": "display_data"
    },
    {
     "data": {
      "application/vnd.jupyter.widget-view+json": {
       "model_id": "2aca125736a44c5a9ec1bd76eb39a350",
       "version_major": 2,
       "version_minor": 0
      },
      "text/plain": [
       "Files Downloaded:   0%|          | 0/10 [00:00<?, ?file/s]"
      ]
     },
     "metadata": {},
     "output_type": "display_data"
    },
    {
     "data": {
      "application/vnd.jupyter.widget-view+json": {
       "model_id": "994da90892e040d3b760d7f11e8bd910",
       "version_major": 2,
       "version_minor": 0
      },
      "text/plain": [
       "Files Downloaded:   0%|          | 0/10 [00:00<?, ?file/s]"
      ]
     },
     "metadata": {},
     "output_type": "display_data"
    },
    {
     "data": {
      "application/vnd.jupyter.widget-view+json": {
       "model_id": "22815cf0e1b2435688d9d76c2192cc75",
       "version_major": 2,
       "version_minor": 0
      },
      "text/plain": [
       "aia_lev1_304a_2011_01_01t00_50_56_13z_image_lev1.fits:   0%|          | 0.00/9.83M [00:00<?, ?B/s]"
      ]
     },
     "metadata": {},
     "output_type": "display_data"
    },
    {
     "data": {
      "application/vnd.jupyter.widget-view+json": {
       "model_id": "",
       "version_major": 2,
       "version_minor": 0
      },
      "text/plain": [
       "aia_lev1_304a_2011_01_01t00_50_44_12z_image_lev1.fits:   0%|          | 0.00/9.83M [00:00<?, ?B/s]"
      ]
     },
     "metadata": {},
     "output_type": "display_data"
    },
    {
     "data": {
      "application/vnd.jupyter.widget-view+json": {
       "model_id": "d028c15d6f9b41ecb9a5f08c18c61584",
       "version_major": 2,
       "version_minor": 0
      },
      "text/plain": [
       "aia_lev1_304a_2011_01_01t00_50_20_12z_image_lev1.fits:   0%|          | 0.00/9.83M [00:00<?, ?B/s]"
      ]
     },
     "metadata": {},
     "output_type": "display_data"
    }
   ],
   "source": [
    "num = 10\n",
    "for i in np.arange(int(len(temp) / num) + 1):\n",
    "    try:\n",
    "        files = Fido.fetch(temp[num * i:num * (i + 1)], path='data/AIA')\n",
    "    except Exception as e:\n",
    "        print(\"Error occurred:\", str(e))\n",
    "        continue"
   ]
  },
  {
   "cell_type": "markdown",
   "id": "15a9b501-4fe2-419f-a3fb-620559eab4c1",
   "metadata": {},
   "source": [
    "## download through urls generated by IDL"
   ]
  },
  {
   "cell_type": "code",
   "execution_count": 2,
   "id": "dbb4ab08-8850-4d5b-ab2f-d1ac1ad36e93",
   "metadata": {},
   "outputs": [],
   "source": [
    "url_files =sorted(glob.glob('data/url*.txt'))"
   ]
  },
  {
   "cell_type": "code",
   "execution_count": 3,
   "id": "3deb3722-0941-42a7-947d-bcc9514e2a73",
   "metadata": {},
   "outputs": [
    {
     "data": {
      "text/plain": [
       "['data\\\\url_aia_day.txt']"
      ]
     },
     "execution_count": 3,
     "metadata": {},
     "output_type": "execute_result"
    }
   ],
   "source": [
    "url_files"
   ]
  },
  {
   "cell_type": "code",
   "execution_count": 4,
   "id": "920f69b8-9e51-4fab-930d-0d486dbf3fbc",
   "metadata": {},
   "outputs": [],
   "source": [
    "urls=[]\n",
    "for url_file in url_files:\n",
    "    with open(url_file, 'r') as f:\n",
    "        urls.extend(line.strip() for line in f.readlines())"
   ]
  },
  {
   "cell_type": "code",
   "execution_count": 5,
   "id": "9ff53292-b391-4022-b7d9-727eb4c4b821",
   "metadata": {},
   "outputs": [
    {
     "data": {
      "text/plain": [
       "'https://sdo7.nascom.nasa.gov/cgi-bin/drms_export.cgi?series=aia__lev1;record=304_1072915244-1072915796'"
      ]
     },
     "execution_count": 5,
     "metadata": {},
     "output_type": "execute_result"
    }
   ],
   "source": [
    "urls[0]"
   ]
  },
  {
   "cell_type": "code",
   "execution_count": 11,
   "id": "fd07c7cd-7640-4462-a84d-d10c7978f92f",
   "metadata": {},
   "outputs": [
    {
     "data": {
      "text/plain": [
       "'data/EVE/drms_export.cgi?series=aia__lev1;record=304_1072915244-1072915796'"
      ]
     },
     "execution_count": 11,
     "metadata": {},
     "output_type": "execute_result"
    }
   ],
   "source": [
    "filename = 'data/EVE/' + urls[0].split('/')[-1]\n",
    "filename"
   ]
  },
  {
   "cell_type": "code",
   "execution_count": null,
   "id": "0ffa05e9-19b0-4f69-bab6-16ed60b50f67",
   "metadata": {},
   "outputs": [],
   "source": [
    "for url in modified_urls:\n",
    "    filename = 'data/EVE/' + url.split('/')[-1]  # Extract the filename from the URL\n",
    "    if not os.path.exists(filename):\n",
    "        try:\n",
    "            response = requests.get(url)\n",
    "            response.raise_for_status()  # Check if the request was successful\n",
    "            with open(filename, 'wb') as f:\n",
    "                f.write(response.content)\n",
    "\n",
    "        except requests.exceptions.RequestException as e:\n",
    "            print(f\"Failed to download: {url}\")\n",
    "            print(f\"Error message: {str(e)}\")"
   ]
  }
 ],
 "metadata": {
  "kernelspec": {
   "display_name": "Python 3 (ipykernel)",
   "language": "python",
   "name": "python3"
  },
  "language_info": {
   "codemirror_mode": {
    "name": "ipython",
    "version": 3
   },
   "file_extension": ".py",
   "mimetype": "text/x-python",
   "name": "python",
   "nbconvert_exporter": "python",
   "pygments_lexer": "ipython3",
   "version": "3.9.16"
  }
 },
 "nbformat": 4,
 "nbformat_minor": 5
}
