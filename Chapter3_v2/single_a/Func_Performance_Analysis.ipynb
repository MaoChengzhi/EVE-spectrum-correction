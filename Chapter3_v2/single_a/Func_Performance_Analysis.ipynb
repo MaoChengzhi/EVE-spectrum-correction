{
 "cells": [
  {
   "cell_type": "code",
   "execution_count": 2,
   "metadata": {},
   "outputs": [],
   "source": [
    "import numpy as np\n",
    "import cupy as cp\n",
    "import sunpy.map,sunpy\n",
    "import time\n",
    "import matplotlib.pyplot as plt\n",
    "from astropy.stats import gaussian_fwhm_to_sigma\n",
    "\n",
    "from data_utils.calculating_DN import calculate_DN_alpha, calculate_DN_beta\n",
    "from data_utils.calculating_DN import angle_point_num_alpha, angle_point_num_beta, wavelength_point_num\n",
    "from data_utils.calculating_DN import calculating_DN_4096\n",
    "\n",
    "from data_utils.data.aia_const import wavelength_list_aia_relative_Single_A"
   ]
  },
  {
   "cell_type": "code",
   "execution_count": 3,
   "metadata": {},
   "outputs": [],
   "source": [
    "aia_file = 'data_utils\\\\data\\\\AIA\\\\aia_lev1_304a_2011_01_27t22_58_56_12z_image_lev1_adjusted.fits'\n",
    "smap = sunpy.map.Map(aia_file)\n",
    "image=smap.data"
   ]
  },
  {
   "cell_type": "code",
   "execution_count": 4,
   "metadata": {},
   "outputs": [
    {
     "name": "stdout",
     "output_type": "stream",
     "text": [
      "308 ms ± 29.9 ms per loop (mean ± std. dev. of 5 runs, 5 loops each)\n"
     ]
    }
   ],
   "source": [
    "%%timeit -r 5 -n 5\n",
    "# np-> cp transform every time\n",
    "irradiance=calculating_DN_4096(image,wavelength_list_aia_relative_Single_A,0,0,dtype=cp.float32)"
   ]
  },
  {
   "cell_type": "code",
   "execution_count": 5,
   "metadata": {
    "collapsed": true,
    "jupyter": {
     "outputs_hidden": true
    },
    "tags": []
   },
   "outputs": [
    {
     "data": {
      "text/plain": [
       "[<matplotlib.lines.Line2D at 0x20051cff0d0>]"
      ]
     },
     "execution_count": 5,
     "metadata": {},
     "output_type": "execute_result"
    },
    {
     "data": {
      "image/png": "[encoded data removed]",
      "text/plain": [
       "<Figure size 640x480 with 1 Axes>"
      ]
     },
     "metadata": {},
     "output_type": "display_data"
    }
   ],
   "source": [
    "irradiance=calculating_DN_4096(image,wavelength_list_aia_relative_Single_A,0,0,dtype=cp.float32)\n",
    "plt.plot(wavelength_list_aia_relative_Single_A,irradiance)"
   ]
  },
  {
   "cell_type": "code",
   "execution_count": 21,
   "metadata": {},
   "outputs": [
    {
     "name": "stdout",
     "output_type": "stream",
     "text": [
      "304 ms ± 21.8 ms per loop (mean ± std. dev. of 5 runs, 5 loops each)\n"
     ]
    }
   ],
   "source": [
    "%%timeit -r 5 -n 5    image_cp=cp.asarray(image)\n",
    "# np-> cp transform ahead of time\n",
    "irradiance=calculating_DN_4096(image_cp,wavelength_list_aia_relative_Single_A,0,0,dtype=cp.float32)"
   ]
  },
  {
   "cell_type": "markdown",
   "metadata": {
    "tags": []
   },
   "source": [
    "## Detail time consumption\n",
    "I copy the whole calculating_DN function line by line into each cell.\n",
    "Note:\n",
    "1. %% timeit      has a independent Variable scope\n",
    "       实参可以是cell 之外的定义的。。。但是其他时候这个变量不能做其他事情，比如在赋值等式中\n",
    "       \n",
    "2.  If I copy the func into cell and execute it,    it takes  60ms\n",
    "    But if call the same func from a py file,       it takes 380ms"
   ]
  },
  {
   "cell_type": "code",
   "execution_count": null,
   "metadata": {},
   "outputs": [],
   "source": [
    "import numpy as np\n",
    "import cupy as cp\n",
    "import sunpy.map,sunpy\n",
    "import time\n",
    "import matplotlib.pyplot as plt\n",
    "from astropy.stats import gaussian_fwhm_to_sigma\n",
    "\n",
    "# from data_utils.calculating_DN import calculate_DN_alpha, calculate_DN_beta\n",
    "# from data_utils.calculating_DN import angle_point_num_alpha, angle_point_num_beta, wavelength_point_num\n",
    "# from data_utils.calculating_DN import calculating_DN_4096\n",
    "# from data_utils.calculating_DN_np import calculating_DN_4096_np\n",
    "\n",
    "from data_utils.data.aia_const import wavelength_list_aia_relative_Single_A"
   ]
  },
  {
   "cell_type": "code",
   "execution_count": 3,
   "metadata": {},
   "outputs": [],
   "source": [
    "# read pixel to world matrix: Tx and Ty\n",
    "coeff = np.load('data_utils//pixel_to_world//coeff_4096.npz')\n",
    "Tx_4096=cp.array(coeff['Tx'])\n",
    "Ty_4096=cp.array(coeff['Ty'])"
   ]
  },
  {
   "cell_type": "code",
   "execution_count": 4,
   "metadata": {},
   "outputs": [],
   "source": [
    "aia_file = 'data_utils\\\\data\\\\AIA\\\\aia_lev1_304a_2011_01_27t22_58_56_12z_image_lev1_adjusted.fits'\n",
    "smap = sunpy.map.Map(aia_file)\n",
    "image=smap.data"
   ]
  },
  {
   "cell_type": "code",
   "execution_count": 5,
   "metadata": {},
   "outputs": [],
   "source": [
    "def wavelength_shift(Tx, Ty, A=886.81, B=0.91002):\n",
    "    return A * Tx**2 + B * Ty\n",
    "\n",
    "\n",
    "def my_Gaussian1D(wavelength_list, amplitude, mean, stddev):\n",
    "    # Check if the input arrays have the same shape\n",
    "    # assert amplitude.shape == mean.shape == stddev.shape == (4096, 4096), \"Input arrays must have shape (2048, 2048)\"\n",
    "\n",
    "    # Expand the dimensions of wavelength_list to match the shape of amplitude, mean, and stddev\n",
    "    expanded_wavelengths = cp.expand_dims(wavelength_list, axis=(1, 2))\n",
    "\n",
    "    # Calculate the Gaussian curve for all wavelengths simultaneously using Cupy element-wise operations\n",
    "    results = amplitude * cp.exp(-((expanded_wavelengths - mean) ** 2) / (2 * stddev ** 2))\n",
    "\n",
    "    return results\n",
    "\n",
    "\n",
    "\n",
    "def calculating_DN_4096(image,wavelength_list, offaxis_angle_x, offaxis_angle_y,dtype=cp.float32):\n",
    "    [image_shape_x, image_shape_y]=image.shape\n",
    "    # ensure that the image is 4096*4096, if not raise error\n",
    "    if image_shape_x != 4096 or image_shape_y != 4096:\n",
    "        raise ValueError(\"The shape of image is not 4096*4096\")\n",
    "    # turn array into cupy array\n",
    "    wavelength_list=cp.asarray(wavelength_list)\n",
    "\n",
    "    if isinstance(image, np.ndarray):\n",
    "        image=cp.asarray(image,dtype=dtype)   \n",
    "    \n",
    "\n",
    "    # This assupmtion is actually nonsense, and will be solved in Chpater 4\n",
    "    stddev = cp.full((image_shape_x, image_shape_y),0.1 *gaussian_fwhm_to_sigma ) # unit: nm\n",
    "\n",
    "    # Create NumPy arrays for pixel indices and image data\n",
    "    Tx = Tx_4096+offaxis_angle_x  # P42 步骤三 四 将卫星整体偏转\n",
    "    Ty = Ty_4096+offaxis_angle_y  # P42 步骤三 四 将卫星整体偏转\n",
    "\n",
    "    \n",
    "    # Compute amplitude, mean, and stddev for all pixels in parallel\n",
    "    amplitude = image / (cp.sqrt(2 * cp.pi) * stddev)\n",
    "    mean = wavelength_shift(Tx, Ty)\n",
    "    coeff = cp.array([amplitude, mean, stddev])\n",
    "    # Compute total_irradiance using vectorized NumPy operations\n",
    "    total_irradiance = cp.sum(my_Gaussian1D(\n",
    "        wavelength_list, *coeff), axis=(1, 2))  # P42 步骤二\n",
    "\n",
    "    return total_irradiance.get()  # turn cupy array into numpy array"
   ]
  },
  {
   "cell_type": "markdown",
   "metadata": {},
   "source": [
    "### silly timeit"
   ]
  },
  {
   "cell_type": "code",
   "execution_count": 7,
   "metadata": {},
   "outputs": [
    {
     "name": "stdout",
     "output_type": "stream",
     "text": [
      "55.3 ns ± 9.29 ns per loop (mean ± std. dev. of 50 runs, 1,000 loops each)\n"
     ]
    }
   ],
   "source": [
    "%%timeit -r 50 -n 1000\n",
    "# aia_file = 'data_utils\\\\data\\\\AIA\\\\aia_lev1_304a_2011_01_27t22_58_56_12z_image_lev1_adjusted.fits'\n",
    "# smap = sunpy.map.Map(aia_file)\n",
    "image=smap.data"
   ]
  },
  {
   "cell_type": "code",
   "execution_count": 27,
   "metadata": {},
   "outputs": [
    {
     "name": "stdout",
     "output_type": "stream",
     "text": [
      "216 ns ± 13.9 ns per loop (mean ± std. dev. of 50 runs, 100 loops each)\n"
     ]
    }
   ],
   "source": [
    "%%timeit -r 50 -n 100\n",
    "wavelength_list=wavelength_list_aia_relative_Single_A\n",
    "offaxis_angle_x=0\n",
    "offaxis_angle_y=0\n",
    "dtype=cp.float32\n",
    "image=smap.data\n",
    "\n"
   ]
  },
  {
   "cell_type": "code",
   "execution_count": 9,
   "metadata": {},
   "outputs": [
    {
     "name": "stdout",
     "output_type": "stream",
     "text": [
      "The slowest run took 4.44 times longer than the fastest. This could mean that an intermediate result is being cached.\n",
      "19.7 µs ± 7.58 µs per loop (mean ± std. dev. of 50 runs, 500 loops each)\n"
     ]
    }
   ],
   "source": [
    "%%timeit -r 50 -n 500\n",
    "wavelength_list=wavelength_list_aia_relative_Single_A\n",
    "offaxis_angle_x=0\n",
    "offaxis_angle_y=0\n",
    "dtype=cp.float32\n",
    "image=smap.data\n",
    "\n",
    "\n",
    "[image_shape_x, image_shape_y]=image.shape\n",
    "# ensure that the image is 4096*4096, if not raise error\n",
    "if image_shape_x != 4096 or image_shape_y != 4096:\n",
    "    raise ValueError(\"The shape of image is not 4096*4096\")\n",
    "    \n",
    "# turn array into cupy array\n",
    "wavelength_list=cp.asarray(wavelength_list)"
   ]
  },
  {
   "cell_type": "code",
   "execution_count": 28,
   "metadata": {},
   "outputs": [
    {
     "name": "stdout",
     "output_type": "stream",
     "text": [
      "46.9 ms ± 3.37 ms per loop (mean ± std. dev. of 5 runs, 10 loops each)\n"
     ]
    }
   ],
   "source": [
    "%%timeit -r 5 -n 10\n",
    "wavelength_list=wavelength_list_aia_relative_Single_A\n",
    "offaxis_angle_x=0\n",
    "offaxis_angle_y=0\n",
    "dtype=cp.float32\n",
    "image=smap.data\n",
    "\n",
    "[image_shape_x, image_shape_y]=image.shape\n",
    "\n",
    "# 50 ms\n",
    "if isinstance(image, np.ndarray):\n",
    "    image=cp.asarray(image,dtype=dtype) \n",
    "    \n",
    "stddev = cp.full((image_shape_x, image_shape_y),0.1 *gaussian_fwhm_to_sigma ) # unit: nm"
   ]
  },
  {
   "cell_type": "code",
   "execution_count": 12,
   "metadata": {},
   "outputs": [
    {
     "name": "stdout",
     "output_type": "stream",
     "text": [
      "86.9 µs ± 23.4 µs per loop (mean ± std. dev. of 5 runs, 10 loops each)\n"
     ]
    }
   ],
   "source": [
    "%%timeit -r 5 -n 10\n",
    "wavelength_list=wavelength_list_aia_relative_Single_A\n",
    "offaxis_angle_x=0\n",
    "offaxis_angle_y=0\n",
    "dtype=cp.float32\n",
    "image=smap.data\n",
    "\n",
    "\n",
    "# Create NumPy arrays for pixel indices and image data\n",
    "Tx = Tx_4096+offaxis_angle_x  # P42 步骤三 四 将卫星整体偏转\n",
    "Ty = Ty_4096+offaxis_angle_y  # P42 步骤三 四 将卫星整体偏转"
   ]
  },
  {
   "cell_type": "code",
   "execution_count": 31,
   "metadata": {},
   "outputs": [
    {
     "name": "stdout",
     "output_type": "stream",
     "text": [
      "57.5 ms ± 4.79 ms per loop (mean ± std. dev. of 5 runs, 10 loops each)\n"
     ]
    }
   ],
   "source": [
    "%%timeit -r 5 -n 10\n",
    "\n",
    "wavelength_list=wavelength_list_aia_relative_Single_A\n",
    "offaxis_angle_x=0\n",
    "offaxis_angle_y=0\n",
    "dtype=cp.float32\n",
    "image=smap.data\n",
    "Tx = Tx_4096+offaxis_angle_x  # P42 步骤三 四 将卫星整体偏转\n",
    "Ty = Ty_4096+offaxis_angle_y  # P42 步骤三 四 将卫星整体偏转\n",
    "[image_shape_x, image_shape_y]=image.shape\n",
    "\n",
    "if isinstance(image, np.ndarray):\n",
    "    image=cp.asarray(image,dtype=dtype) \n",
    "\n",
    "    \n",
    "\n",
    "mean = wavelength_shift(Tx, Ty)\n",
    "stddev = cp.full((image_shape_x, image_shape_y),0.1 *gaussian_fwhm_to_sigma ) # unit: nm\n",
    "amplitude = image / (cp.sqrt(2 * cp.pi) * stddev)\n",
    "coeff = cp.array([amplitude, mean, stddev])"
   ]
  },
  {
   "cell_type": "code",
   "execution_count": 34,
   "metadata": {},
   "outputs": [],
   "source": [
    "def my_Gaussian1D(wavelength_list, amplitude, mean, stddev):\n",
    "    # Check if the input arrays have the same shape\n",
    "    # assert amplitude.shape == mean.shape == stddev.shape == (4096, 4096), \"Input arrays must have shape (2048, 2048)\"\n",
    "\n",
    "    # Expand the dimensions of wavelength_list to match the shape of amplitude, mean, and stddev\n",
    "    expanded_wavelengths = cp.expand_dims(wavelength_list, axis=(1, 2))\n",
    "\n",
    "    # Calculate the Gaussian curve for all wavelengths simultaneously using Cupy element-wise operations\n",
    "    results = amplitude * cp.exp(-((expanded_wavelengths - mean) ** 2) / (2 * stddev ** 2))\n",
    "\n",
    "    return results"
   ]
  },
  {
   "cell_type": "code",
   "execution_count": 37,
   "metadata": {},
   "outputs": [
    {
     "data": {
      "text/plain": [
       "NpzFile 'data_utils//pixel_to_world//coeff_4096.npz' with keys: Tx, Ty"
      ]
     },
     "execution_count": 37,
     "metadata": {},
     "output_type": "execute_result"
    }
   ],
   "source": [
    "coeff"
   ]
  },
  {
   "cell_type": "code",
   "execution_count": 56,
   "metadata": {},
   "outputs": [
    {
     "name": "stdout",
     "output_type": "stream",
     "text": [
      "62 ms ± 76.2 µs per loop (mean ± std. dev. of 2 runs, 2 loops each)\n"
     ]
    }
   ],
   "source": [
    "%%timeit -r 2 -n 2\n",
    "\n",
    "wavelength_list=wavelength_list_aia_relative_Single_A\n",
    "offaxis_angle_x=0\n",
    "offaxis_angle_y=0\n",
    "dtype=cp.float32\n",
    "image=smap.data\n",
    "Tx = Tx_4096+offaxis_angle_x  # P42 步骤三 四 将卫星整体偏转\n",
    "Ty = Ty_4096+offaxis_angle_y  # P42 步骤三 四 将卫星整体偏转\n",
    "[image_shape_x, image_shape_y]=image.shape\n",
    "wavelength_list=cp.asarray(wavelength_list)\n",
    "\n",
    "if isinstance(image, np.ndarray):\n",
    "    image=cp.asarray(image,dtype=dtype) \n",
    "\n",
    "    \n",
    "\n",
    "mean = wavelength_shift(Tx, Ty)\n",
    "stddev = cp.full((image_shape_x, image_shape_y),0.1 *gaussian_fwhm_to_sigma ) # unit: nm\n",
    "amplitude = image / (cp.sqrt(2 * cp.pi) * stddev)\n",
    "coeff = cp.array([amplitude, mean, stddev])\n",
    "\n",
    "\n",
    "my_Gaussian1D(wavelength_list, *coeff)\n",
    "\n",
    "total_irradiance = cp.sum(my_Gaussian1D(\n",
    "        wavelength_list, *coeff), axis=(1, 2))"
   ]
  },
  {
   "cell_type": "code",
   "execution_count": 285,
   "metadata": {},
   "outputs": [
    {
     "data": {
      "text/plain": [
       "array([-0.1083, -0.0883, -0.0683, -0.0483, -0.0283, -0.0083,  0.0117,\n",
       "        0.0317,  0.0517,  0.0717,  0.0917,  0.1117])"
      ]
     },
     "execution_count": 285,
     "metadata": {},
     "output_type": "execute_result"
    }
   ],
   "source": [
    "wavelength_list"
   ]
  },
  {
   "cell_type": "code",
   "execution_count": 317,
   "metadata": {},
   "outputs": [
    {
     "name": "stdout",
     "output_type": "stream",
     "text": [
      "262 ms ± 836 µs per loop (mean ± std. dev. of 5 runs, 10 loops each)\n"
     ]
    }
   ],
   "source": [
    "%%timeit -r 5 -n 10\n",
    "wavelength_list=wavelength_list_aia_relative_Single_A\n",
    "offaxis_angle_x=0\n",
    "offaxis_angle_y=0\n",
    "dtype=cp.float32\n",
    "image=smap.data\n",
    "wavelength_list=cp.asarray(wavelength_list)\n",
    "\n",
    "\n",
    "total_irradiance = cp.sum(my_Gaussian1D(\n",
    "    wavelength_list, *coeff), axis=(1, 2))  # P42 步骤二"
   ]
  },
  {
   "cell_type": "code",
   "execution_count": 309,
   "metadata": {
    "collapsed": true,
    "jupyter": {
     "outputs_hidden": true,
     "source_hidden": true
    },
    "tags": []
   },
   "outputs": [
    {
     "data": {
      "text/plain": [
       "array([[[0.00000000e+00, 0.00000000e+00, 0.00000000e+00, ...,\n",
       "         0.00000000e+00, 0.00000000e+00, 0.00000000e+00],\n",
       "        [0.00000000e+00, 0.00000000e+00, 0.00000000e+00, ...,\n",
       "         0.00000000e+00, 0.00000000e+00, 0.00000000e+00],\n",
       "        [0.00000000e+00, 0.00000000e+00, 0.00000000e+00, ...,\n",
       "         0.00000000e+00, 0.00000000e+00, 0.00000000e+00],\n",
       "        ...,\n",
       "        [1.01732719e-03, 7.50028929e-03, 1.04603205e-02, ...,\n",
       "         7.91425051e-03, 5.61388775e-03, 5.60807243e-03],\n",
       "        [0.00000000e+00, 6.69347309e-04, 0.00000000e+00, ...,\n",
       "         7.06155302e-03, 1.03252979e-02, 9.03539900e-04],\n",
       "        [0.00000000e+00, 0.00000000e+00, 0.00000000e+00, ...,\n",
       "         6.27571778e-03, 0.00000000e+00, 0.00000000e+00]],\n",
       "\n",
       "       [[0.00000000e+00, 0.00000000e+00, 0.00000000e+00, ...,\n",
       "         0.00000000e+00, 0.00000000e+00, 0.00000000e+00],\n",
       "        [0.00000000e+00, 0.00000000e+00, 0.00000000e+00, ...,\n",
       "         0.00000000e+00, 0.00000000e+00, 0.00000000e+00],\n",
       "        [0.00000000e+00, 0.00000000e+00, 0.00000000e+00, ...,\n",
       "         0.00000000e+00, 0.00000000e+00, 0.00000000e+00],\n",
       "        ...,\n",
       "        [4.55525677e-03, 3.35723904e-02, 4.68059815e-02, ...,\n",
       "         3.54132807e-02, 2.51285818e-02, 2.51111052e-02],\n",
       "        [0.00000000e+00, 2.99618428e-03, 0.00000000e+00, ...,\n",
       "         3.15987092e-02, 4.62188987e-02, 4.04587348e-03],\n",
       "        [0.00000000e+00, 0.00000000e+00, 0.00000000e+00, ...,\n",
       "         2.80831146e-02, 0.00000000e+00, 0.00000000e+00]],\n",
       "\n",
       "       [[0.00000000e+00, 0.00000000e+00, 0.00000000e+00, ...,\n",
       "         0.00000000e+00, 0.00000000e+00, 0.00000000e+00],\n",
       "        [0.00000000e+00, 0.00000000e+00, 0.00000000e+00, ...,\n",
       "         0.00000000e+00, 0.00000000e+00, 0.00000000e+00],\n",
       "        [0.00000000e+00, 0.00000000e+00, 0.00000000e+00, ...,\n",
       "         0.00000000e+00, 0.00000000e+00, 0.00000000e+00],\n",
       "        ...,\n",
       "        [1.63393762e-02, 1.20380714e-01, 1.67775338e-01, ...,\n",
       "         1.26938374e-01, 9.01037021e-02, 9.00717169e-02],\n",
       "        [0.00000000e+00, 1.07437507e-02, 0.00000000e+00, ...,\n",
       "         1.13268425e-01, 1.65732239e-01, 1.45126814e-02],\n",
       "        [0.00000000e+00, 0.00000000e+00, 0.00000000e+00, ...,\n",
       "         1.00669414e-01, 0.00000000e+00, 0.00000000e+00]],\n",
       "\n",
       "       ...,\n",
       "\n",
       "       [[0.00000000e+00, 0.00000000e+00, 0.00000000e+00, ...,\n",
       "         0.00000000e+00, 0.00000000e+00, 0.00000000e+00],\n",
       "        [0.00000000e+00, 0.00000000e+00, 0.00000000e+00, ...,\n",
       "         0.00000000e+00, 0.00000000e+00, 0.00000000e+00],\n",
       "        [0.00000000e+00, 0.00000000e+00, 0.00000000e+00, ...,\n",
       "         0.00000000e+00, 0.00000000e+00, 0.00000000e+00],\n",
       "        ...,\n",
       "        [2.50648422e-01, 1.84225910e+00, 2.56145492e+00, ...,\n",
       "         1.93799013e+00, 1.37891173e+00, 1.38171343e+00],\n",
       "        [0.00000000e+00, 1.64451925e-01, 0.00000000e+00, ...,\n",
       "         1.72964404e+00, 2.53682246e+00, 2.22672428e-01],\n",
       "        [0.00000000e+00, 0.00000000e+00, 0.00000000e+00, ...,\n",
       "         1.53756916e+00, 0.00000000e+00, 0.00000000e+00]],\n",
       "\n",
       "       [[0.00000000e+00, 0.00000000e+00, 0.00000000e+00, ...,\n",
       "         0.00000000e+00, 0.00000000e+00, 0.00000000e+00],\n",
       "        [0.00000000e+00, 0.00000000e+00, 0.00000000e+00, ...,\n",
       "         0.00000000e+00, 0.00000000e+00, 0.00000000e+00],\n",
       "        [0.00000000e+00, 0.00000000e+00, 0.00000000e+00, ...,\n",
       "         0.00000000e+00, 0.00000000e+00, 0.00000000e+00],\n",
       "        ...,\n",
       "        [1.52458202e-01, 1.12018196e+00, 1.55695727e+00, ...,\n",
       "         1.17798983e+00, 8.38444525e-01, 8.40434372e-01],\n",
       "        [0.00000000e+00, 9.99975991e-02, 0.00000000e+00, ...,\n",
       "         1.05137941e+00, 1.54255512e+00, 1.35445637e-01],\n",
       "        [0.00000000e+00, 0.00000000e+00, 0.00000000e+00, ...,\n",
       "         9.34652429e-01, 0.00000000e+00, 0.00000000e+00]],\n",
       "\n",
       "       [[0.00000000e+00, 0.00000000e+00, 0.00000000e+00, ...,\n",
       "         0.00000000e+00, 0.00000000e+00, 0.00000000e+00],\n",
       "        [0.00000000e+00, 0.00000000e+00, 0.00000000e+00, ...,\n",
       "         0.00000000e+00, 0.00000000e+00, 0.00000000e+00],\n",
       "        [0.00000000e+00, 0.00000000e+00, 0.00000000e+00, ...,\n",
       "         0.00000000e+00, 0.00000000e+00, 0.00000000e+00],\n",
       "        ...,\n",
       "        [7.42860072e-02, 5.45628236e-01, 7.58118459e-01, ...,\n",
       "         5.73590466e-01, 4.08397055e-01, 4.09505777e-01],\n",
       "        [0.00000000e+00, 4.87091539e-02, 0.00000000e+00, ...,\n",
       "         5.11955953e-01, 7.51383594e-01, 6.59984894e-02],\n",
       "        [0.00000000e+00, 0.00000000e+00, 0.00000000e+00, ...,\n",
       "         4.55130583e-01, 0.00000000e+00, 0.00000000e+00]]])"
      ]
     },
     "execution_count": 309,
     "metadata": {},
     "output_type": "execute_result"
    }
   ],
   "source": [
    "coeff = cp.array([amplitude, mean, stddev])\n",
    "\n",
    "my_Gaussian1D(wavelength_list, *coeff)"
   ]
  },
  {
   "cell_type": "markdown",
   "metadata": {},
   "source": [
    "## Time consumption: numpy -> cupy  "
   ]
  },
  {
   "cell_type": "code",
   "execution_count": 10,
   "metadata": {},
   "outputs": [
    {
     "name": "stdout",
     "output_type": "stream",
     "text": [
      "The slowest run took 202.66 times longer than the fastest. This could mean that an intermediate result is being cached.\n",
      "1.85 ms ± 1.35 ms per loop (mean ± std. dev. of 30 runs, 50 loops each)\n"
     ]
    }
   ],
   "source": [
    "%%timeit -r 30 -n 50     image_cp=cp.asarray(image)\n",
    "image_cp=cp.exp(-image_cp)\n"
   ]
  },
  {
   "cell_type": "code",
   "execution_count": 11,
   "metadata": {},
   "outputs": [
    {
     "name": "stdout",
     "output_type": "stream",
     "text": [
      "37 ms ± 1.36 ms per loop (mean ± std. dev. of 10 runs, 10 loops each)\n"
     ]
    }
   ],
   "source": [
    "%%timeit -r 10 -n 10 \n",
    "image_cp=np.asarray(image,\n",
    "    dtype=np.float64\n",
    "    )\n"
   ]
  },
  {
   "cell_type": "code",
   "execution_count": 18,
   "metadata": {},
   "outputs": [
    {
     "name": "stdout",
     "output_type": "stream",
     "text": [
      "45.8 ms ± 872 µs per loop (mean ± std. dev. of 10 runs, 10 loops each)\n"
     ]
    }
   ],
   "source": [
    "%%timeit -r 10 -n 10 \n",
    "image_cp=cp.asarray(image,\n",
    "# dtype='>f4'#cp.float64\n",
    "dtype=cp.float64\n",
    ")"
   ]
  },
  {
   "cell_type": "code",
   "execution_count": 13,
   "metadata": {},
   "outputs": [
    {
     "name": "stdout",
     "output_type": "stream",
     "text": [
      "45.3 ms ± 5.26 ms per loop (mean ± std. dev. of 10 runs, 10 loops each)\n"
     ]
    }
   ],
   "source": [
    "%%timeit -r 10 -n 10 \n",
    "image_cp=cp.asarray(image,dtype=cp.float32)"
   ]
  },
  {
   "cell_type": "code",
   "execution_count": 14,
   "metadata": {},
   "outputs": [
    {
     "name": "stdout",
     "output_type": "stream",
     "text": [
      "47.7 ms ± 2.52 ms per loop (mean ± std. dev. of 10 runs, 10 loops each)\n"
     ]
    }
   ],
   "source": [
    "%%timeit -r 10 -n 10 \n",
    "image_cp=cp.asarray(image)"
   ]
  },
  {
   "cell_type": "code",
   "execution_count": 27,
   "metadata": {},
   "outputs": [
    {
     "name": "stdout",
     "output_type": "stream",
     "text": [
      "259 ms ± 2.88 ms per loop (mean ± std. dev. of 10 runs, 2 loops each)\n"
     ]
    }
   ],
   "source": [
    "%%timeit -r 10 -n 2 \n",
    "f()"
   ]
  },
  {
   "cell_type": "code",
   "execution_count": 26,
   "metadata": {},
   "outputs": [
    {
     "name": "stdout",
     "output_type": "stream",
     "text": [
      "264 ms ± 6.02 ms per loop (mean ± std. dev. of 10 runs, 2 loops each)\n"
     ]
    }
   ],
   "source": [
    "%%timeit -r 10 -n 2 \n",
    "image**3+9"
   ]
  },
  {
   "cell_type": "code",
   "execution_count": 21,
   "metadata": {},
   "outputs": [],
   "source": [
    "def f():\n",
    "    return image**3+9"
   ]
  },
  {
   "cell_type": "code",
   "execution_count": null,
   "metadata": {},
   "outputs": [],
   "source": []
  }
 ],
 "metadata": {
  "kernelspec": {
   "display_name": "Python 3 (ipykernel)",
   "language": "python",
   "name": "python3"
  },
  "language_info": {
   "codemirror_mode": {
    "name": "ipython",
    "version": 3
   },
   "file_extension": ".py",
   "mimetype": "text/x-python",
   "name": "python",
   "nbconvert_exporter": "python",
   "pygments_lexer": "ipython3",
   "version": "3.9.16"
  }
 },
 "nbformat": 4,
 "nbformat_minor": 4
}
