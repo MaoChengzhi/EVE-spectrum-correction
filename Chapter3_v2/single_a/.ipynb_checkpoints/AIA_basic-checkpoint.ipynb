{
 "cells": [
  {
   "cell_type": "code",
   "execution_count": 1,
   "metadata": {},
   "outputs": [],
   "source": [
    "import numpy as np\n",
    "import cupy as cp\n",
    "import sunpy.map,sunpy\n",
    "import time\n",
    "import matplotlib.pyplot as plt\n",
    "from astropy.stats import gaussian_fwhm_to_sigma\n",
    "\n",
    "from data_utils.calculating_DN import calculate_DN_alpha, calculate_DN_beta\n",
    "from data_utils.calculating_DN import angle_point_num_alpha, angle_point_num_beta, wavelength_point_num\n",
    "from data_utils.calculating_DN import calculating_DN_4096\n",
    "from data_utils.calculating_DN_np import calculating_DN_4096_np\n",
    "\n",
    "from data_utils.data.aia_const import wavelength_list_aia_relative_Single_A"
   ]
  },
  {
   "cell_type": "code",
   "execution_count": 2,
   "metadata": {},
   "outputs": [],
   "source": [
    "aia_file = 'data_utils\\\\data\\\\AIA\\\\aia_lev1_304a_2011_01_27t22_58_56_12z_image_lev1_adjusted.fits'\n",
    "smap = sunpy.map.Map(aia_file)\n",
    "image=smap.data"
   ]
  },
  {
   "cell_type": "code",
   "execution_count": 19,
   "metadata": {},
   "outputs": [
    {
     "name": "stdout",
     "output_type": "stream",
     "text": [
      "356 ms ± 16.8 ms per loop (mean ± std. dev. of 5 runs, 5 loops each)\n"
     ]
    }
   ],
   "source": [
    "%%timeit -r 5 -n 5\n",
    "# np-> cp transform every time\n",
    "irradiance=calculating_DN_4096(image,wavelength_list_aia_relative_Single_A,0,0,dtype=cp.float32)"
   ]
  },
  {
   "cell_type": "code",
   "execution_count": 20,
   "metadata": {
    "collapsed": true,
    "jupyter": {
     "outputs_hidden": true
    },
    "tags": []
   },
   "outputs": [
    {
     "data": {
      "text/plain": [
       "[<matplotlib.lines.Line2D at 0x215a883a940>]"
      ]
     },
     "execution_count": 20,
     "metadata": {},
     "output_type": "execute_result"
    },
    {
     "data": {
      "image/png": "[encoded data removed]",
      "text/plain": [
       "<Figure size 640x480 with 1 Axes>"
      ]
     },
     "metadata": {},
     "output_type": "display_data"
    }
   ],
   "source": [
    "irradiance=calculating_DN_4096(image,wavelength_list_aia_relative_Single_A,0,0,dtype=cp.float32)\n",
    "plt.plot(wavelength_list_aia_relative_Single_A,irradiance)"
   ]
  },
  {
   "cell_type": "code",
   "execution_count": 21,
   "metadata": {},
   "outputs": [
    {
     "name": "stdout",
     "output_type": "stream",
     "text": [
      "304 ms ± 21.8 ms per loop (mean ± std. dev. of 5 runs, 5 loops each)\n"
     ]
    }
   ],
   "source": [
    "%%timeit -r 5 -n 5    image_cp=cp.asarray(image)\n",
    "# np-> cp transform ahead of time\n",
    "irradiance=calculating_DN_4096(image_cp,wavelength_list_aia_relative_Single_A,0,0,dtype=cp.float32)"
   ]
  },
  {
   "cell_type": "markdown",
   "metadata": {
    "tags": []
   },
   "source": [
    "## Detail time consumption\n",
    "I copy the whole calculating_DN function line by line into each cell.\n",
    "Note:\n",
    "1. %% timeit      has a independent Variable scope\n",
    "       实参可以是cell 之外的定义的。。。但是其他时候这个变量不能做其他事情，比如在赋值等式中\n",
    "       \n",
    "2.  If I copy the func into cell and execute it,    it takes  60ms\n",
    "    But if call the same func from a py file,       it takes 380ms"
   ]
  },
  {
   "cell_type": "code",
   "execution_count": null,
   "metadata": {},
   "outputs": [],
   "source": [
    "import numpy as np\n",
    "import cupy as cp\n",
    "import sunpy.map,sunpy\n",
    "import time\n",
    "import matplotlib.pyplot as plt\n",
    "from astropy.stats import gaussian_fwhm_to_sigma\n",
    "\n",
    "# from data_utils.calculating_DN import calculate_DN_alpha, calculate_DN_beta\n",
    "# from data_utils.calculating_DN import angle_point_num_alpha, angle_point_num_beta, wavelength_point_num\n",
    "# from data_utils.calculating_DN import calculating_DN_4096\n",
    "# from data_utils.calculating_DN_np import calculating_DN_4096_np\n",
    "\n",
    "from data_utils.data.aia_const import wavelength_list_aia_relative_Single_A"
   ]
  },
  {
   "cell_type": "code",
   "execution_count": 3,
   "metadata": {},
   "outputs": [],
   "source": [
    "# read pixel to world matrix: Tx and Ty\n",
    "coeff = np.load('data_utils//pixel_to_world//coeff_4096.npz')\n",
    "Tx_4096=cp.array(coeff['Tx'])\n",
    "Ty_4096=cp.array(coeff['Ty'])"
   ]
  },
  {
   "cell_type": "code",
   "execution_count": 4,
   "metadata": {},
   "outputs": [],
   "source": [
    "aia_file = 'data_utils\\\\data\\\\AIA\\\\aia_lev1_304a_2011_01_27t22_58_56_12z_image_lev1_adjusted.fits'\n",
    "smap = sunpy.map.Map(aia_file)\n",
    "image=smap.data"
   ]
  },
  {
   "cell_type": "code",
   "execution_count": 5,
   "metadata": {},
   "outputs": [],
   "source": [
    "def wavelength_shift(Tx, Ty, A=886.81, B=0.91002):\n",
    "    return A * Tx**2 + B * Ty\n",
    "\n",
    "\n",
    "def my_Gaussian1D(wavelength_list, amplitude, mean, stddev):\n",
    "    # Check if the input arrays have the same shape\n",
    "    # assert amplitude.shape == mean.shape == stddev.shape == (4096, 4096), \"Input arrays must have shape (2048, 2048)\"\n",
    "\n",
    "    # Expand the dimensions of wavelength_list to match the shape of amplitude, mean, and stddev\n",
    "    expanded_wavelengths = cp.expand_dims(wavelength_list, axis=(1, 2))\n",
    "\n",
    "    # Calculate the Gaussian curve for all wavelengths simultaneously using Cupy element-wise operations\n",
    "    results = amplitude * cp.exp(-((expanded_wavelengths - mean) ** 2) / (2 * stddev ** 2))\n",
    "\n",
    "    return results\n",
    "\n",
    "\n",
    "\n",
    "def calculating_DN_4096(image,wavelength_list, offaxis_angle_x, offaxis_angle_y,dtype=cp.float32):\n",
    "    [image_shape_x, image_shape_y]=image.shape\n",
    "    # ensure that the image is 4096*4096, if not raise error\n",
    "    if image_shape_x != 4096 or image_shape_y != 4096:\n",
    "        raise ValueError(\"The shape of image is not 4096*4096\")\n",
    "    # turn array into cupy array\n",
    "    wavelength_list=cp.asarray(wavelength_list)\n",
    "\n",
    "    if isinstance(image, np.ndarray):\n",
    "        image=cp.asarray(image,dtype=dtype)   \n",
    "    \n",
    "\n",
    "    # This assupmtion is actually nonsense, and will be solved in Chpater 4\n",
    "    stddev = cp.full((image_shape_x, image_shape_y),0.1 *gaussian_fwhm_to_sigma ) # unit: nm\n",
    "\n",
    "    # Create NumPy arrays for pixel indices and image data\n",
    "    Tx = Tx_4096+offaxis_angle_x  # P42 步骤三 四 将卫星整体偏转\n",
    "    Ty = Ty_4096+offaxis_angle_y  # P42 步骤三 四 将卫星整体偏转\n",
    "\n",
    "    \n",
    "    # Compute amplitude, mean, and stddev for all pixels in parallel\n",
    "    amplitude = image / (cp.sqrt(2 * cp.pi) * stddev)\n",
    "    mean = wavelength_shift(Tx, Ty)\n",
    "    coeff = cp.array([amplitude, mean, stddev])\n",
    "    # Compute total_irradiance using vectorized NumPy operations\n",
    "    total_irradiance = cp.sum(my_Gaussian1D(\n",
    "        wavelength_list, *coeff), axis=(1, 2))  # P42 步骤二\n",
    "\n",
    "    return total_irradiance.get()  # turn cupy array into numpy array"
   ]
  },
  {
   "cell_type": "markdown",
   "metadata": {},
   "source": [
    "### silly timeit"
   ]
  },
  {
   "cell_type": "code",
   "execution_count": 7,
   "metadata": {},
   "outputs": [
    {
     "name": "stdout",
     "output_type": "stream",
     "text": [
      "55.3 ns ± 9.29 ns per loop (mean ± std. dev. of 50 runs, 1,000 loops each)\n"
     ]
    }
   ],
   "source": [
    "%%timeit -r 50 -n 1000\n",
    "# aia_file = 'data_utils\\\\data\\\\AIA\\\\aia_lev1_304a_2011_01_27t22_58_56_12z_image_lev1_adjusted.fits'\n",
    "# smap = sunpy.map.Map(aia_file)\n",
    "image=smap.data"
   ]
  },
  {
   "cell_type": "code",
   "execution_count": 27,
   "metadata": {},
   "outputs": [
    {
     "name": "stdout",
     "output_type": "stream",
     "text": [
      "216 ns ± 13.9 ns per loop (mean ± std. dev. of 50 runs, 100 loops each)\n"
     ]
    }
   ],
   "source": [
    "%%timeit -r 50 -n 100\n",
    "wavelength_list=wavelength_list_aia_relative_Single_A\n",
    "offaxis_angle_x=0\n",
    "offaxis_angle_y=0\n",
    "dtype=cp.float32\n",
    "image=smap.data\n",
    "\n"
   ]
  },
  {
   "cell_type": "code",
   "execution_count": 9,
   "metadata": {},
   "outputs": [
    {
     "name": "stdout",
     "output_type": "stream",
     "text": [
      "The slowest run took 4.44 times longer than the fastest. This could mean that an intermediate result is being cached.\n",
      "19.7 µs ± 7.58 µs per loop (mean ± std. dev. of 50 runs, 500 loops each)\n"
     ]
    }
   ],
   "source": [
    "%%timeit -r 50 -n 500\n",
    "wavelength_list=wavelength_list_aia_relative_Single_A\n",
    "offaxis_angle_x=0\n",
    "offaxis_angle_y=0\n",
    "dtype=cp.float32\n",
    "image=smap.data\n",
    "\n",
    "\n",
    "[image_shape_x, image_shape_y]=image.shape\n",
    "# ensure that the image is 4096*4096, if not raise error\n",
    "if image_shape_x != 4096 or image_shape_y != 4096:\n",
    "    raise ValueError(\"The shape of image is not 4096*4096\")\n",
    "    \n",
    "# turn array into cupy array\n",
    "wavelength_list=cp.asarray(wavelength_list)"
   ]
  },
  {
   "cell_type": "code",
   "execution_count": 28,
   "metadata": {},
   "outputs": [
    {
     "name": "stdout",
     "output_type": "stream",
     "text": [
      "46.9 ms ± 3.37 ms per loop (mean ± std. dev. of 5 runs, 10 loops each)\n"
     ]
    }
   ],
   "source": [
    "%%timeit -r 5 -n 10\n",
    "wavelength_list=wavelength_list_aia_relative_Single_A\n",
    "offaxis_angle_x=0\n",
    "offaxis_angle_y=0\n",
    "dtype=cp.float32\n",
    "image=smap.data\n",
    "\n",
    "[image_shape_x, image_shape_y]=image.shape\n",
    "\n",
    "# 50 ms\n",
    "if isinstance(image, np.ndarray):\n",
    "    image=cp.asarray(image,dtype=dtype) \n",
    "    \n",
    "stddev = cp.full((image_shape_x, image_shape_y),0.1 *gaussian_fwhm_to_sigma ) # unit: nm"
   ]
  },
  {
   "cell_type": "code",
   "execution_count": 12,
   "metadata": {},
   "outputs": [
    {
     "name": "stdout",
     "output_type": "stream",
     "text": [
      "86.9 µs ± 23.4 µs per loop (mean ± std. dev. of 5 runs, 10 loops each)\n"
     ]
    }
   ],
   "source": [
    "%%timeit -r 5 -n 10\n",
    "wavelength_list=wavelength_list_aia_relative_Single_A\n",
    "offaxis_angle_x=0\n",
    "offaxis_angle_y=0\n",
    "dtype=cp.float32\n",
    "image=smap.data\n",
    "\n",
    "\n",
    "# Create NumPy arrays for pixel indices and image data\n",
    "Tx = Tx_4096+offaxis_angle_x  # P42 步骤三 四 将卫星整体偏转\n",
    "Ty = Ty_4096+offaxis_angle_y  # P42 步骤三 四 将卫星整体偏转"
   ]
  },
  {
   "cell_type": "code",
   "execution_count": 31,
   "metadata": {},
   "outputs": [
    {
     "name": "stdout",
     "output_type": "stream",
     "text": [
      "57.5 ms ± 4.79 ms per loop (mean ± std. dev. of 5 runs, 10 loops each)\n"
     ]
    }
   ],
   "source": [
    "%%timeit -r 5 -n 10\n",
    "\n",
    "wavelength_list=wavelength_list_aia_relative_Single_A\n",
    "offaxis_angle_x=0\n",
    "offaxis_angle_y=0\n",
    "dtype=cp.float32\n",
    "image=smap.data\n",
    "Tx = Tx_4096+offaxis_angle_x  # P42 步骤三 四 将卫星整体偏转\n",
    "Ty = Ty_4096+offaxis_angle_y  # P42 步骤三 四 将卫星整体偏转\n",
    "[image_shape_x, image_shape_y]=image.shape\n",
    "\n",
    "if isinstance(image, np.ndarray):\n",
    "    image=cp.asarray(image,dtype=dtype) \n",
    "\n",
    "    \n",
    "\n",
    "mean = wavelength_shift(Tx, Ty)\n",
    "stddev = cp.full((image_shape_x, image_shape_y),0.1 *gaussian_fwhm_to_sigma ) # unit: nm\n",
    "amplitude = image / (cp.sqrt(2 * cp.pi) * stddev)\n",
    "coeff = cp.array([amplitude, mean, stddev])"
   ]
  },
  {
   "cell_type": "code",
   "execution_count": 34,
   "metadata": {},
   "outputs": [],
   "source": [
    "def my_Gaussian1D(wavelength_list, amplitude, mean, stddev):\n",
    "    # Check if the input arrays have the same shape\n",
    "    # assert amplitude.shape == mean.shape == stddev.shape == (4096, 4096), \"Input arrays must have shape (2048, 2048)\"\n",
    "\n",
    "    # Expand the dimensions of wavelength_list to match the shape of amplitude, mean, and stddev\n",
    "    expanded_wavelengths = cp.expand_dims(wavelength_list, axis=(1, 2))\n",
    "\n",
    "    # Calculate the Gaussian curve for all wavelengths simultaneously using Cupy element-wise operations\n",
    "    results = amplitude * cp.exp(-((expanded_wavelengths - mean) ** 2) / (2 * stddev ** 2))\n",
    "\n",
    "    return results"
   ]
  },
  {
   "cell_type": "code",
   "execution_count": 37,
   "metadata": {},
   "outputs": [
    {
     "data": {
      "text/plain": [
       "NpzFile 'data_utils//pixel_to_world//coeff_4096.npz' with keys: Tx, Ty"
      ]
     },
     "execution_count": 37,
     "metadata": {},
     "output_type": "execute_result"
    }
   ],
   "source": [
    "coeff"
   ]
  },
  {
   "cell_type": "code",
   "execution_count": 56,
   "metadata": {},
   "outputs": [
    {
     "name": "stdout",
     "output_type": "stream",
     "text": [
      "62 ms ± 76.2 µs per loop (mean ± std. dev. of 2 runs, 2 loops each)\n"
     ]
    }
   ],
   "source": [
    "%%timeit -r 2 -n 2\n",
    "\n",
    "wavelength_list=wavelength_list_aia_relative_Single_A\n",
    "offaxis_angle_x=0\n",
    "offaxis_angle_y=0\n",
    "dtype=cp.float32\n",
    "image=smap.data\n",
    "Tx = Tx_4096+offaxis_angle_x  # P42 步骤三 四 将卫星整体偏转\n",
    "Ty = Ty_4096+offaxis_angle_y  # P42 步骤三 四 将卫星整体偏转\n",
    "[image_shape_x, image_shape_y]=image.shape\n",
    "wavelength_list=cp.asarray(wavelength_list)\n",
    "\n",
    "if isinstance(image, np.ndarray):\n",
    "    image=cp.asarray(image,dtype=dtype) \n",
    "\n",
    "    \n",
    "\n",
    "mean = wavelength_shift(Tx, Ty)\n",
    "stddev = cp.full((image_shape_x, image_shape_y),0.1 *gaussian_fwhm_to_sigma ) # unit: nm\n",
    "amplitude = image / (cp.sqrt(2 * cp.pi) * stddev)\n",
    "coeff = cp.array([amplitude, mean, stddev])\n",
    "\n",
    "\n",
    "my_Gaussian1D(wavelength_list, *coeff)\n",
    "\n",
    "total_irradiance = cp.sum(my_Gaussian1D(\n",
    "        wavelength_list, *coeff), axis=(1, 2))"
   ]
  },
  {
   "cell_type": "code",
   "execution_count": 285,
   "metadata": {},
   "outputs": [
    {
     "data": {
      "text/plain": [
       "array([-0.1083, -0.0883, -0.0683, -0.0483, -0.0283, -0.0083,  0.0117,\n",
       "        0.0317,  0.0517,  0.0717,  0.0917,  0.1117])"
      ]
     },
     "execution_count": 285,
     "metadata": {},
     "output_type": "execute_result"
    }
   ],
   "source": [
    "wavelength_list"
   ]
  },
  {
   "cell_type": "code",
   "execution_count": 317,
   "metadata": {},
   "outputs": [
    {
     "name": "stdout",
     "output_type": "stream",
     "text": [
      "262 ms ± 836 µs per loop (mean ± std. dev. of 5 runs, 10 loops each)\n"
     ]
    }
   ],
   "source": [
    "%%timeit -r 5 -n 10\n",
    "wavelength_list=wavelength_list_aia_relative_Single_A\n",
    "offaxis_angle_x=0\n",
    "offaxis_angle_y=0\n",
    "dtype=cp.float32\n",
    "image=smap.data\n",
    "wavelength_list=cp.asarray(wavelength_list)\n",
    "\n",
    "\n",
    "total_irradiance = cp.sum(my_Gaussian1D(\n",
    "    wavelength_list, *coeff), axis=(1, 2))  # P42 步骤二"
   ]
  },
  {
   "cell_type": "code",
   "execution_count": 309,
   "metadata": {
    "collapsed": true,
    "jupyter": {
     "outputs_hidden": true,
     "source_hidden": true
    },
    "tags": []
   },
   "outputs": [
    {
     "data": {
      "text/plain": [
       "array([[[0.00000000e+00, 0.00000000e+00, 0.00000000e+00, ...,\n",
       "         0.00000000e+00, 0.00000000e+00, 0.00000000e+00],\n",
       "        [0.00000000e+00, 0.00000000e+00, 0.00000000e+00, ...,\n",
       "         0.00000000e+00, 0.00000000e+00, 0.00000000e+00],\n",
       "        [0.00000000e+00, 0.00000000e+00, 0.00000000e+00, ...,\n",
       "         0.00000000e+00, 0.00000000e+00, 0.00000000e+00],\n",
       "        ...,\n",
       "        [1.01732719e-03, 7.50028929e-03, 1.04603205e-02, ...,\n",
       "         7.91425051e-03, 5.61388775e-03, 5.60807243e-03],\n",
       "        [0.00000000e+00, 6.69347309e-04, 0.00000000e+00, ...,\n",
       "         7.06155302e-03, 1.03252979e-02, 9.03539900e-04],\n",
       "        [0.00000000e+00, 0.00000000e+00, 0.00000000e+00, ...,\n",
       "         6.27571778e-03, 0.00000000e+00, 0.00000000e+00]],\n",
       "\n",
       "       [[0.00000000e+00, 0.00000000e+00, 0.00000000e+00, ...,\n",
       "         0.00000000e+00, 0.00000000e+00, 0.00000000e+00],\n",
       "        [0.00000000e+00, 0.00000000e+00, 0.00000000e+00, ...,\n",
       "         0.00000000e+00, 0.00000000e+00, 0.00000000e+00],\n",
       "        [0.00000000e+00, 0.00000000e+00, 0.00000000e+00, ...,\n",
       "         0.00000000e+00, 0.00000000e+00, 0.00000000e+00],\n",
       "        ...,\n",
       "        [4.55525677e-03, 3.35723904e-02, 4.68059815e-02, ...,\n",
       "         3.54132807e-02, 2.51285818e-02, 2.51111052e-02],\n",
       "        [0.00000000e+00, 2.99618428e-03, 0.00000000e+00, ...,\n",
       "         3.15987092e-02, 4.62188987e-02, 4.04587348e-03],\n",
       "        [0.00000000e+00, 0.00000000e+00, 0.00000000e+00, ...,\n",
       "         2.80831146e-02, 0.00000000e+00, 0.00000000e+00]],\n",
       "\n",
       "       [[0.00000000e+00, 0.00000000e+00, 0.00000000e+00, ...,\n",
       "         0.00000000e+00, 0.00000000e+00, 0.00000000e+00],\n",
       "        [0.00000000e+00, 0.00000000e+00, 0.00000000e+00, ...,\n",
       "         0.00000000e+00, 0.00000000e+00, 0.00000000e+00],\n",
       "        [0.00000000e+00, 0.00000000e+00, 0.00000000e+00, ...,\n",
       "         0.00000000e+00, 0.00000000e+00, 0.00000000e+00],\n",
       "        ...,\n",
       "        [1.63393762e-02, 1.20380714e-01, 1.67775338e-01, ...,\n",
       "         1.26938374e-01, 9.01037021e-02, 9.00717169e-02],\n",
       "        [0.00000000e+00, 1.07437507e-02, 0.00000000e+00, ...,\n",
       "         1.13268425e-01, 1.65732239e-01, 1.45126814e-02],\n",
       "        [0.00000000e+00, 0.00000000e+00, 0.00000000e+00, ...,\n",
       "         1.00669414e-01, 0.00000000e+00, 0.00000000e+00]],\n",
       "\n",
       "       ...,\n",
       "\n",
       "       [[0.00000000e+00, 0.00000000e+00, 0.00000000e+00, ...,\n",
       "         0.00000000e+00, 0.00000000e+00, 0.00000000e+00],\n",
       "        [0.00000000e+00, 0.00000000e+00, 0.00000000e+00, ...,\n",
       "         0.00000000e+00, 0.00000000e+00, 0.00000000e+00],\n",
       "        [0.00000000e+00, 0.00000000e+00, 0.00000000e+00, ...,\n",
       "         0.00000000e+00, 0.00000000e+00, 0.00000000e+00],\n",
       "        ...,\n",
       "        [2.50648422e-01, 1.84225910e+00, 2.56145492e+00, ...,\n",
       "         1.93799013e+00, 1.37891173e+00, 1.38171343e+00],\n",
       "        [0.00000000e+00, 1.64451925e-01, 0.00000000e+00, ...,\n",
       "         1.72964404e+00, 2.53682246e+00, 2.22672428e-01],\n",
       "        [0.00000000e+00, 0.00000000e+00, 0.00000000e+00, ...,\n",
       "         1.53756916e+00, 0.00000000e+00, 0.00000000e+00]],\n",
       "\n",
       "       [[0.00000000e+00, 0.00000000e+00, 0.00000000e+00, ...,\n",
       "         0.00000000e+00, 0.00000000e+00, 0.00000000e+00],\n",
       "        [0.00000000e+00, 0.00000000e+00, 0.00000000e+00, ...,\n",
       "         0.00000000e+00, 0.00000000e+00, 0.00000000e+00],\n",
       "        [0.00000000e+00, 0.00000000e+00, 0.00000000e+00, ...,\n",
       "         0.00000000e+00, 0.00000000e+00, 0.00000000e+00],\n",
       "        ...,\n",
       "        [1.52458202e-01, 1.12018196e+00, 1.55695727e+00, ...,\n",
       "         1.17798983e+00, 8.38444525e-01, 8.40434372e-01],\n",
       "        [0.00000000e+00, 9.99975991e-02, 0.00000000e+00, ...,\n",
       "         1.05137941e+00, 1.54255512e+00, 1.35445637e-01],\n",
       "        [0.00000000e+00, 0.00000000e+00, 0.00000000e+00, ...,\n",
       "         9.34652429e-01, 0.00000000e+00, 0.00000000e+00]],\n",
       "\n",
       "       [[0.00000000e+00, 0.00000000e+00, 0.00000000e+00, ...,\n",
       "         0.00000000e+00, 0.00000000e+00, 0.00000000e+00],\n",
       "        [0.00000000e+00, 0.00000000e+00, 0.00000000e+00, ...,\n",
       "         0.00000000e+00, 0.00000000e+00, 0.00000000e+00],\n",
       "        [0.00000000e+00, 0.00000000e+00, 0.00000000e+00, ...,\n",
       "         0.00000000e+00, 0.00000000e+00, 0.00000000e+00],\n",
       "        ...,\n",
       "        [7.42860072e-02, 5.45628236e-01, 7.58118459e-01, ...,\n",
       "         5.73590466e-01, 4.08397055e-01, 4.09505777e-01],\n",
       "        [0.00000000e+00, 4.87091539e-02, 0.00000000e+00, ...,\n",
       "         5.11955953e-01, 7.51383594e-01, 6.59984894e-02],\n",
       "        [0.00000000e+00, 0.00000000e+00, 0.00000000e+00, ...,\n",
       "         4.55130583e-01, 0.00000000e+00, 0.00000000e+00]]])"
      ]
     },
     "execution_count": 309,
     "metadata": {},
     "output_type": "execute_result"
    }
   ],
   "source": [
    "coeff = cp.array([amplitude, mean, stddev])\n",
    "\n",
    "my_Gaussian1D(wavelength_list, *coeff)"
   ]
  },
  {
   "cell_type": "markdown",
   "metadata": {},
   "source": [
    "## Time consumption: numpy -> cupy  "
   ]
  },
  {
   "cell_type": "code",
   "execution_count": 31,
   "metadata": {},
   "outputs": [
    {
     "name": "stderr",
     "output_type": "stream",
     "text": [
      "'data_utils' 不是内部或外部命令，也不是可运行的程序\n",
      "或批处理文件。\n"
     ]
    }
   ],
   "source": [
    "!data_utils//calculating_DN"
   ]
  },
  {
   "cell_type": "code",
   "execution_count": 22,
   "metadata": {},
   "outputs": [
    {
     "name": "stdout",
     "output_type": "stream",
     "text": [
      "0.005147457122802734\n"
     ]
    }
   ],
   "source": [
    "start=time.time()\n",
    "for i in range(100):\n",
    "    image_cp=cp.exp(-image_cp)\n",
    "end=time.time()\n",
    "print(end-start)"
   ]
  },
  {
   "cell_type": "code",
   "execution_count": 23,
   "metadata": {},
   "outputs": [
    {
     "name": "stdout",
     "output_type": "stream",
     "text": [
      "5.5046913623809814\n"
     ]
    }
   ],
   "source": [
    "\n",
    "image_cp=np.asarray(image,dtype=np.float64)\n"
   ]
  },
  {
   "cell_type": "code",
   "execution_count": 14,
   "metadata": {},
   "outputs": [
    {
     "name": "stdout",
     "output_type": "stream",
     "text": [
      "6.17390513420105\n"
     ]
    }
   ],
   "source": [
    "start=time.time()\n",
    "for i in range(100):\n",
    "    image_cp=cp.asarray(image,dtype=cp.float64)\n",
    "end=time.time()\n",
    "print(end-start)"
   ]
  },
  {
   "cell_type": "code",
   "execution_count": 15,
   "metadata": {},
   "outputs": [
    {
     "name": "stdout",
     "output_type": "stream",
     "text": [
      "5.14206600189209\n"
     ]
    }
   ],
   "source": [
    "start=time.time()\n",
    "for i in range(100):\n",
    "    image_cp=cp.asarray(image,dtype=cp.float32)\n",
    "end=time.time()\n",
    "print(end-start)"
   ]
  },
  {
   "cell_type": "code",
   "execution_count": 16,
   "metadata": {},
   "outputs": [
    {
     "name": "stdout",
     "output_type": "stream",
     "text": [
      "5.927626371383667\n"
     ]
    },
    {
     "data": {
      "text/plain": [
       "dtype('<f8')"
      ]
     },
     "execution_count": 16,
     "metadata": {},
     "output_type": "execute_result"
    }
   ],
   "source": [
    "start=time.time()\n",
    "for i in range(100):\n",
    "    image_cp=cp.asarray(image)\n",
    "end=time.time()\n",
    "print(end-start)\n",
    "image_cp.dtype"
   ]
  },
  {
   "cell_type": "code",
   "execution_count": 17,
   "metadata": {},
   "outputs": [
    {
     "name": "stdout",
     "output_type": "stream",
     "text": [
      "6.2019524574279785\n"
     ]
    },
    {
     "data": {
      "text/plain": [
       "dtype('<f8')"
      ]
     },
     "execution_count": 17,
     "metadata": {},
     "output_type": "execute_result"
    }
   ],
   "source": [
    "start=time.time()\n",
    "for i in range(100):\n",
    "    if isinstance(image, np.ndarray):\n",
    "        image_cp=cp.array(image)\n",
    "end=time.time()\n",
    "print(end-start)\n",
    "image_cp.dtype"
   ]
  },
  {
   "cell_type": "code",
   "execution_count": null,
   "metadata": {},
   "outputs": [],
   "source": [
    "def to_cupy_array(arr):\n",
    "    if isinstance(arr, np.ndarray):\n",
    "        # Convert NumPy array to CuPy array\n",
    "        return cp.asarray(arr)\n",
    "    elif isinstance(arr, cp.ndarray):\n",
    "        # If it's already a CuPy array, just pass it through\n",
    "        return arr\n",
    "    else:\n",
    "        raise ValueError(\"Unsupported array type. Expected NumPy or CuPy array.\")"
   ]
  },
  {
   "cell_type": "code",
   "execution_count": 17,
   "metadata": {},
   "outputs": [
    {
     "name": "stdout",
     "output_type": "stream",
     "text": [
      "\u001b[1;31mSignature:\u001b[0m \u001b[0mcp\u001b[0m\u001b[1;33m.\u001b[0m\u001b[0masarray\u001b[0m\u001b[1;33m(\u001b[0m\u001b[0ma\u001b[0m\u001b[1;33m,\u001b[0m \u001b[0mdtype\u001b[0m\u001b[1;33m=\u001b[0m\u001b[1;32mNone\u001b[0m\u001b[1;33m,\u001b[0m \u001b[0morder\u001b[0m\u001b[1;33m=\u001b[0m\u001b[1;32mNone\u001b[0m\u001b[1;33m)\u001b[0m\u001b[1;33m\u001b[0m\u001b[1;33m\u001b[0m\u001b[0m\n",
      "\u001b[1;31mDocstring:\u001b[0m\n",
      "Converts an object to array.\n",
      "\n",
      "This is equivalent to ``array(a, dtype, copy=False)``.\n",
      "This function currently does not support the ``order`` option.\n",
      "\n",
      "Args:\n",
      "    a: The source object.\n",
      "    dtype: Data type specifier. It is inferred from the input by default.\n",
      "    order ({'C', 'F'}):\n",
      "        Whether to use row-major (C-style) or column-major (Fortran-style)\n",
      "        memory representation. Defaults to ``'C'``. ``order`` is ignored\n",
      "        for objects that are not :class:`cupy.ndarray`, but have the\n",
      "        ``__cuda_array_interface__`` attribute.\n",
      "\n",
      "Returns:\n",
      "    cupy.ndarray: An array on the current device. If ``a`` is already on\n",
      "    the device, no copy is performed.\n",
      "\n",
      ".. note::\n",
      "   If ``a`` is an `numpy.ndarray` instance that contains big-endian data,\n",
      "   this function automatically swaps its byte order to little-endian,\n",
      "   which is the NVIDIA and AMD GPU architecture's native use.\n",
      "\n",
      ".. seealso:: :func:`numpy.asarray`\n",
      "\u001b[1;31mFile:\u001b[0m      c:\\users\\14902\\anaconda3\\envs\\sdo2022\\lib\\site-packages\\cupy\\_creation\\from_data.py\n",
      "\u001b[1;31mType:\u001b[0m      function"
     ]
    }
   ],
   "source": [
    "cp.asarray?"
   ]
  },
  {
   "cell_type": "code",
   "execution_count": 7,
   "metadata": {},
   "outputs": [],
   "source": [
    "# First 4x4 CuPy array\n",
    "array1 = cp.array([[1, 2, 3, 4],\n",
    "                   [5, 6, 7, 8],\n",
    "                   [9, 10, 11, 12],\n",
    "                   [13, 14, 15, 16]])\n",
    "\n",
    "# Second 4x4 CuPy array\n",
    "array2 = cp.array([[17, 18, 19, 20],\n",
    "                   [21, 22, 23, 24],\n",
    "                   [25, 26, 27, 28],\n",
    "                   [29, 30, 31, 32]])"
   ]
  },
  {
   "cell_type": "code",
   "execution_count": 9,
   "metadata": {},
   "outputs": [
    {
     "data": {
      "text/plain": [
       "array([[0.01872411, 0.03536777, 0.05025946, 0.06366198],\n",
       "       [0.07578807, 0.08681179, 0.09687692, 0.1061033 ],\n",
       "       [0.11459156, 0.12242688, 0.12968181, 0.13641852],\n",
       "       [0.14269064, 0.14854461, 0.15402091, 0.15915494]])"
      ]
     },
     "execution_count": 9,
     "metadata": {},
     "output_type": "execute_result"
    }
   ],
   "source": [
    "array1/(array2*cp.pi)"
   ]
  },
  {
   "cell_type": "code",
   "execution_count": 14,
   "metadata": {},
   "outputs": [
    {
     "data": {
      "text/plain": [
       "array([[ 1,  2,  3,  4],\n",
       "       [ 5,  6,  7,  8],\n",
       "       [ 9, 10, 11, 12],\n",
       "       [13, 14, 15, 16]])"
      ]
     },
     "execution_count": 14,
     "metadata": {},
     "output_type": "execute_result"
    }
   ],
   "source": [
    "cp.asarray(array1)"
   ]
  },
  {
   "cell_type": "code",
   "execution_count": 12,
   "metadata": {},
   "outputs": [],
   "source": [
    "a=np. array([[ 1,  2,  3,  4],\n",
    "       [ 5,  6,  7,  8],\n",
    "       [ 9, 10, 11, 12],\n",
    "       [13, 14, 15, 16]])"
   ]
  },
  {
   "cell_type": "code",
   "execution_count": 13,
   "metadata": {},
   "outputs": [],
   "source": [
    "b=cp.array(a)"
   ]
  },
  {
   "cell_type": "code",
   "execution_count": 12,
   "metadata": {},
   "outputs": [
    {
     "data": {
      "text/plain": [
       "array([[0.        , 0.        , 0.        , ..., 0.        , 0.        ,\n",
       "        0.        ],\n",
       "       [0.        , 0.        , 0.        , ..., 0.        , 0.        ,\n",
       "        0.        ],\n",
       "       [0.        , 0.        , 0.        , ..., 0.        , 0.        ,\n",
       "        0.        ],\n",
       "       ...,\n",
       "       [0.03734715, 0.2746635 , 0.38211566, ..., 0.28910772, 0.20558277,\n",
       "        0.20587825],\n",
       "       [0.        , 0.02451698, 0.        , ..., 0.2580136 , 0.378197  ,\n",
       "        0.03317697],\n",
       "       [0.        , 0.        , 0.        , ..., 0.22934976, 0.        ,\n",
       "        0.        ]], dtype='>f8')"
      ]
     },
     "execution_count": 12,
     "metadata": {},
     "output_type": "execute_result"
    }
   ],
   "source": [
    "\n",
    "image"
   ]
  },
  {
   "cell_type": "code",
   "execution_count": 16,
   "metadata": {},
   "outputs": [
    {
     "ename": "ModuleNotFoundError",
     "evalue": "No module named 'cudf'",
     "output_type": "error",
     "traceback": [
      "\u001b[1;31m---------------------------------------------------------------------------\u001b[0m",
      "\u001b[1;31mModuleNotFoundError\u001b[0m                       Traceback (most recent call last)",
      "Cell \u001b[1;32mIn[16], line 1\u001b[0m\n\u001b[1;32m----> 1\u001b[0m \u001b[39mimport\u001b[39;00m \u001b[39mcudf\u001b[39;00m\n\u001b[0;32m      2\u001b[0m \u001b[39mimport\u001b[39;00m \u001b[39mcupy\u001b[39;00m \u001b[39mas\u001b[39;00m \u001b[39mcp\u001b[39;00m\n\u001b[0;32m      3\u001b[0m \u001b[39mimport\u001b[39;00m \u001b[39mnumpy\u001b[39;00m \u001b[39mas\u001b[39;00m \u001b[39mnp\u001b[39;00m\n",
      "\u001b[1;31mModuleNotFoundError\u001b[0m: No module named 'cudf'"
     ]
    }
   ],
   "source": [
    "import cudf\n",
    "import cupy as cp\n",
    "import numpy as np\n",
    "\n",
    "# Sample data\n",
    "time_values = ['2023-07-21 10:00:00', '2023-07-21 11:00:00']\n",
    "data_values = [cp.arange(12).reshape(3, 4).get(), (cp.ones((3, 4)) * 5).get()]\n",
    "\n",
    "# Convert CuPy arrays to NumPy arrays\n",
    "data_values_np = [np.array(arr) for arr in data_values]\n",
    "\n",
    "# Create the cudf.DataFrame\n",
    "df = cudf.DataFrame({'Time': time_values\n",
    "                    #  , 'ParameterA': data_values_np\n",
    "                     })\n",
    "\n",
    "# Save DataFrame to CSV file\n",
    "df.to_csv('data.csv', index=False)\n"
   ]
  },
  {
   "cell_type": "code",
   "execution_count": 13,
   "metadata": {},
   "outputs": [
    {
     "data": {
      "text/plain": [
       "array([[ 0,  1,  2,  3],\n",
       "       [ 4,  5,  6,  7],\n",
       "       [ 8,  9, 10, 11]])"
      ]
     },
     "execution_count": 13,
     "metadata": {},
     "output_type": "execute_result"
    }
   ],
   "source": [
    "cp.arange(12).reshape(3, 4)"
   ]
  },
  {
   "cell_type": "code",
   "execution_count": 27,
   "metadata": {},
   "outputs": [
    {
     "data": {
      "text/html": [
       "<div>\n",
       "<style scoped>\n",
       "    .dataframe tbody tr th:only-of-type {\n",
       "        vertical-align: middle;\n",
       "    }\n",
       "\n",
       "    .dataframe tbody tr th {\n",
       "        vertical-align: top;\n",
       "    }\n",
       "\n",
       "    .dataframe thead th {\n",
       "        text-align: right;\n",
       "    }\n",
       "</style>\n",
       "<table border=\"1\" class=\"dataframe\">\n",
       "  <thead>\n",
       "    <tr style=\"text-align: right;\">\n",
       "      <th></th>\n",
       "      <th>Time</th>\n",
       "      <th>ParameterA</th>\n",
       "    </tr>\n",
       "  </thead>\n",
       "  <tbody>\n",
       "    <tr>\n",
       "      <th>0</th>\n",
       "      <td>0002-03-04 00:09:00</td>\n",
       "      <td>[[0, 1, 2, 3], [4, 5, 6, 7], [8, 9, 10, 11]]</td>\n",
       "    </tr>\n",
       "    <tr>\n",
       "      <th>1</th>\n",
       "      <td>2023-07-21 11:00:00</td>\n",
       "      <td>[[5.0, 5.0, 5.0, 5.0], [5.0, 5.0, 5.0, 5.0], [...</td>\n",
       "    </tr>\n",
       "  </tbody>\n",
       "</table>\n",
       "</div>"
      ],
      "text/plain": [
       "                  Time                                         ParameterA\n",
       "0  0002-03-04 00:09:00       [[0, 1, 2, 3], [4, 5, 6, 7], [8, 9, 10, 11]]\n",
       "1  2023-07-21 11:00:00  [[5.0, 5.0, 5.0, 5.0], [5.0, 5.0, 5.0, 5.0], [..."
      ]
     },
     "execution_count": 27,
     "metadata": {},
     "output_type": "execute_result"
    }
   ],
   "source": [
    "import pandas as pd\n",
    "import cupy as cp\n",
    "import datetime\n",
    "\n",
    "# Sample data\n",
    "time_values = [datetime.datetime(2,3,4,0,9), pd.to_datetime('2023-07-21 11:00:00')]\n",
    "data_values = [cp.arange(12).reshape(3, 4).get(), (cp.ones((3, 4)) * 5).get()]\n",
    "\n",
    "# Create the pandas DataFrame\n",
    "df = pd.DataFrame({'Time': time_values, 'ParameterA': data_values})\n",
    "\n",
    "# Save DataFrame to CSV file\n",
    "df.to_csv('data.csv', index=False)\n",
    "df\n"
   ]
  },
  {
   "cell_type": "code",
   "execution_count": 32,
   "metadata": {},
   "outputs": [
    {
     "data": {
      "text/plain": [
       "Timestamp('2023-07-21 11:00:00')"
      ]
     },
     "execution_count": 32,
     "metadata": {},
     "output_type": "execute_result"
    }
   ],
   "source": [
    "df['Time'][1]"
   ]
  },
  {
   "cell_type": "code",
   "execution_count": 25,
   "metadata": {},
   "outputs": [
    {
     "data": {
      "text/html": [
       "<div>\n",
       "<style scoped>\n",
       "    .dataframe tbody tr th:only-of-type {\n",
       "        vertical-align: middle;\n",
       "    }\n",
       "\n",
       "    .dataframe tbody tr th {\n",
       "        vertical-align: top;\n",
       "    }\n",
       "\n",
       "    .dataframe thead th {\n",
       "        text-align: right;\n",
       "    }\n",
       "</style>\n",
       "<table border=\"1\" class=\"dataframe\">\n",
       "  <thead>\n",
       "    <tr style=\"text-align: right;\">\n",
       "      <th></th>\n",
       "      <th>Time</th>\n",
       "      <th>ParameterA</th>\n",
       "    </tr>\n",
       "  </thead>\n",
       "  <tbody>\n",
       "    <tr>\n",
       "      <th>0</th>\n",
       "      <td>2023-07-21 10:00:00</td>\n",
       "      <td>[[ 0  1  2  3]\\n [ 4  5  6  7]\\n [ 8  9 10 11]]</td>\n",
       "    </tr>\n",
       "    <tr>\n",
       "      <th>1</th>\n",
       "      <td>2023-07-21 11:00:00</td>\n",
       "      <td>[[5. 5. 5. 5.]\\n [5. 5. 5. 5.]\\n [5. 5. 5. 5.]]</td>\n",
       "    </tr>\n",
       "  </tbody>\n",
       "</table>\n",
       "</div>"
      ],
      "text/plain": [
       "                  Time                                       ParameterA\n",
       "0  2023-07-21 10:00:00  [[ 0  1  2  3]\\n [ 4  5  6  7]\\n [ 8  9 10 11]]\n",
       "1  2023-07-21 11:00:00  [[5. 5. 5. 5.]\\n [5. 5. 5. 5.]\\n [5. 5. 5. 5.]]"
      ]
     },
     "execution_count": 25,
     "metadata": {},
     "output_type": "execute_result"
    }
   ],
   "source": [
    "a=pd.read_csv('data.csv')\n",
    "a"
   ]
  },
  {
   "cell_type": "code",
   "execution_count": 26,
   "metadata": {},
   "outputs": [
    {
     "data": {
      "text/plain": [
       "'2023-07-21 10:00:00'"
      ]
     },
     "execution_count": 26,
     "metadata": {},
     "output_type": "execute_result"
    }
   ],
   "source": [
    "a['Time'][0]"
   ]
  },
  {
   "cell_type": "code",
   "execution_count": 23,
   "metadata": {},
   "outputs": [
    {
     "data": {
      "text/plain": [
       "Timestamp('2023-07-21 10:00:00')"
      ]
     },
     "execution_count": 23,
     "metadata": {},
     "output_type": "execute_result"
    }
   ],
   "source": [
    "pd.to_datetime(a['Time'][0])"
   ]
  },
  {
   "cell_type": "code",
   "execution_count": 37,
   "metadata": {},
   "outputs": [
    {
     "data": {
      "text/plain": [
       "Timestamp('2000-03-04 00:00:00')"
      ]
     },
     "execution_count": 37,
     "metadata": {},
     "output_type": "execute_result"
    }
   ],
   "source": [
    "pd.to_datetime(datetime.datetime(2000,3,4,0,0))"
   ]
  },
  {
   "cell_type": "code",
   "execution_count": 18,
   "metadata": {},
   "outputs": [],
   "source": [
    "import cupy as cp\n",
    "import numpy as np\n",
    "# Create some CuPy arrays\n",
    "array1 = cp.array([1, 2, 3])\n",
    "array2 = cp.array([4, 5, 6])\n",
    "array3 = cp.array([7, 8, 9])\n",
    "\n",
    "# Save the CuPy arrays to an uncompressed .npz file\n",
    "file_path = 'data.npz'\n",
    "cp.savez(file_path, my_key1=array1, arr_2=array2, my_third_key=array3)\n"
   ]
  },
  {
   "cell_type": "code",
   "execution_count": 19,
   "metadata": {},
   "outputs": [],
   "source": [
    "data=np.load('data.npz')"
   ]
  },
  {
   "cell_type": "code",
   "execution_count": 3,
   "metadata": {},
   "outputs": [
    {
     "data": {
      "text/plain": [
       "<cupy._io.npz.NpzFile at 0x1e43eed39a0>"
      ]
     },
     "execution_count": 3,
     "metadata": {},
     "output_type": "execute_result"
    }
   ],
   "source": []
  },
  {
   "cell_type": "code",
   "execution_count": 20,
   "metadata": {},
   "outputs": [
    {
     "data": {
      "text/plain": [
       "['my_key1', 'arr_2', 'my_third_key']"
      ]
     },
     "execution_count": 20,
     "metadata": {},
     "output_type": "execute_result"
    }
   ],
   "source": [
    "data.files"
   ]
  },
  {
   "cell_type": "code",
   "execution_count": 21,
   "metadata": {},
   "outputs": [],
   "source": [
    "data=cp.load('data.npz')"
   ]
  },
  {
   "cell_type": "code",
   "execution_count": 22,
   "metadata": {},
   "outputs": [
    {
     "data": {
      "text/plain": [
       "array([4, 5, 6])"
      ]
     },
     "execution_count": 22,
     "metadata": {},
     "output_type": "execute_result"
    }
   ],
   "source": [
    "data['arr_2']"
   ]
  },
  {
   "cell_type": "code",
   "execution_count": 23,
   "metadata": {},
   "outputs": [
    {
     "data": {
      "text/plain": [
       "cupy.ndarray"
      ]
     },
     "execution_count": 23,
     "metadata": {},
     "output_type": "execute_result"
    }
   ],
   "source": [
    "type(data['arr_2'])"
   ]
  },
  {
   "cell_type": "code",
   "execution_count": 4,
   "metadata": {},
   "outputs": [
    {
     "data": {
      "text/plain": [
       "array([[0.        , 0.        , 0.        , ..., 0.        , 0.        ,\n",
       "        0.        ],\n",
       "       [0.        , 0.        , 0.        , ..., 0.        , 0.        ,\n",
       "        0.        ],\n",
       "       [0.        , 0.        , 0.        , ..., 0.        , 0.        ,\n",
       "        0.        ],\n",
       "       ...,\n",
       "       [0.03734715, 0.2746635 , 0.38211566, ..., 0.28910772, 0.20558277,\n",
       "        0.20587825],\n",
       "       [0.        , 0.02451698, 0.        , ..., 0.2580136 , 0.378197  ,\n",
       "        0.03317697],\n",
       "       [0.        , 0.        , 0.        , ..., 0.22934976, 0.        ,\n",
       "        0.        ]], dtype='>f8')"
      ]
     },
     "execution_count": 4,
     "metadata": {},
     "output_type": "execute_result"
    }
   ],
   "source": [
    "image"
   ]
  },
  {
   "cell_type": "code",
   "execution_count": 5,
   "metadata": {},
   "outputs": [
    {
     "data": {
      "text/plain": [
       "numpy.ndarray"
      ]
     },
     "execution_count": 5,
     "metadata": {},
     "output_type": "execute_result"
    }
   ],
   "source": [
    "type(image)"
   ]
  },
  {
   "cell_type": "code",
   "execution_count": 6,
   "metadata": {},
   "outputs": [],
   "source": [
    "array=cp.asarray(image,dtype=cp.float32)"
   ]
  },
  {
   "cell_type": "code",
   "execution_count": 25,
   "metadata": {},
   "outputs": [
    {
     "data": {
      "text/plain": [
       "64.0"
      ]
     },
     "execution_count": 25,
     "metadata": {},
     "output_type": "execute_result"
    }
   ],
   "source": [
    "array.nbytes/(1024**2)"
   ]
  },
  {
   "cell_type": "code",
   "execution_count": 22,
   "metadata": {},
   "outputs": [],
   "source": [
    "data=[array]*200"
   ]
  },
  {
   "cell_type": "code",
   "execution_count": 26,
   "metadata": {},
   "outputs": [
    {
     "ename": "OutOfMemoryError",
     "evalue": "Out of memory allocating 13,421,772,800 bytes (allocated so far: 335,549,440 bytes).",
     "output_type": "error",
     "traceback": [
      "\u001b[1;31m---------------------------------------------------------------------------\u001b[0m",
      "\u001b[1;31mOutOfMemoryError\u001b[0m                          Traceback (most recent call last)",
      "Cell \u001b[1;32mIn[26], line 1\u001b[0m\n\u001b[1;32m----> 1\u001b[0m data\u001b[39m=\u001b[39mcp\u001b[39m.\u001b[39;49marray(data)\n",
      "File \u001b[1;32mc:\\Users\\14902\\anaconda3\\envs\\sdo2022\\lib\\site-packages\\cupy\\_creation\\from_data.py:46\u001b[0m, in \u001b[0;36marray\u001b[1;34m(obj, dtype, copy, order, subok, ndmin)\u001b[0m\n\u001b[0;32m      7\u001b[0m \u001b[39mdef\u001b[39;00m \u001b[39marray\u001b[39m(obj, dtype\u001b[39m=\u001b[39m\u001b[39mNone\u001b[39;00m, copy\u001b[39m=\u001b[39m\u001b[39mTrue\u001b[39;00m, order\u001b[39m=\u001b[39m\u001b[39m'\u001b[39m\u001b[39mK\u001b[39m\u001b[39m'\u001b[39m, subok\u001b[39m=\u001b[39m\u001b[39mFalse\u001b[39;00m, ndmin\u001b[39m=\u001b[39m\u001b[39m0\u001b[39m):\n\u001b[0;32m      8\u001b[0m \u001b[39m    \u001b[39m\u001b[39m\"\"\"Creates an array on the current device.\u001b[39;00m\n\u001b[0;32m      9\u001b[0m \n\u001b[0;32m     10\u001b[0m \u001b[39m    This function currently does not support the ``subok`` option.\u001b[39;00m\n\u001b[1;32m   (...)\u001b[0m\n\u001b[0;32m     44\u001b[0m \n\u001b[0;32m     45\u001b[0m \u001b[39m    \"\"\"\u001b[39;00m\n\u001b[1;32m---> 46\u001b[0m     \u001b[39mreturn\u001b[39;00m _core\u001b[39m.\u001b[39;49marray(obj, dtype, copy, order, subok, ndmin)\n",
      "File \u001b[1;32mcupy\\_core\\core.pyx:2382\u001b[0m, in \u001b[0;36mcupy._core.core.array\u001b[1;34m()\u001b[0m\n",
      "File \u001b[1;32mcupy\\_core\\core.pyx:2403\u001b[0m, in \u001b[0;36mcupy._core.core.array\u001b[1;34m()\u001b[0m\n",
      "File \u001b[1;32mcupy\\_core\\core.pyx:2464\u001b[0m, in \u001b[0;36mcupy._core.core._array_from_nested_sequence\u001b[1;34m()\u001b[0m\n",
      "File \u001b[1;32mcupy\\_core\\core.pyx:2519\u001b[0m, in \u001b[0;36mcupy._core.core._array_from_nested_cupy_sequence\u001b[1;34m()\u001b[0m\n",
      "File \u001b[1;32mcupy\\_core\\_routines_manipulation.pyx:660\u001b[0m, in \u001b[0;36mcupy._core._routines_manipulation.concatenate_method\u001b[1;34m()\u001b[0m\n",
      "File \u001b[1;32mcupy\\_core\\core.pyx:136\u001b[0m, in \u001b[0;36mcupy._core.core.ndarray.__new__\u001b[1;34m()\u001b[0m\n",
      "File \u001b[1;32mcupy\\_core\\core.pyx:224\u001b[0m, in \u001b[0;36mcupy._core.core._ndarray_base._init\u001b[1;34m()\u001b[0m\n",
      "File \u001b[1;32mcupy\\cuda\\memory.pyx:742\u001b[0m, in \u001b[0;36mcupy.cuda.memory.alloc\u001b[1;34m()\u001b[0m\n",
      "File \u001b[1;32mcupy\\cuda\\memory.pyx:1419\u001b[0m, in \u001b[0;36mcupy.cuda.memory.MemoryPool.malloc\u001b[1;34m()\u001b[0m\n",
      "File \u001b[1;32mcupy\\cuda\\memory.pyx:1440\u001b[0m, in \u001b[0;36mcupy.cuda.memory.MemoryPool.malloc\u001b[1;34m()\u001b[0m\n",
      "File \u001b[1;32mcupy\\cuda\\memory.pyx:1120\u001b[0m, in \u001b[0;36mcupy.cuda.memory.SingleDeviceMemoryPool.malloc\u001b[1;34m()\u001b[0m\n",
      "File \u001b[1;32mcupy\\cuda\\memory.pyx:1141\u001b[0m, in \u001b[0;36mcupy.cuda.memory.SingleDeviceMemoryPool._malloc\u001b[1;34m()\u001b[0m\n",
      "File \u001b[1;32mcupy\\cuda\\memory.pyx:1379\u001b[0m, in \u001b[0;36mcupy.cuda.memory.SingleDeviceMemoryPool._try_malloc\u001b[1;34m()\u001b[0m\n",
      "\u001b[1;31mOutOfMemoryError\u001b[0m: Out of memory allocating 13,421,772,800 bytes (allocated so far: 335,549,440 bytes)."
     ]
    }
   ],
   "source": [
    "data=cp.array(data)"
   ]
  },
  {
   "cell_type": "code",
   "execution_count": 17,
   "metadata": {},
   "outputs": [
    {
     "data": {
      "text/plain": [
       "18.75"
      ]
     },
     "execution_count": 17,
     "metadata": {},
     "output_type": "execute_result"
    }
   ],
   "source": [
    "20132659200/(1024**3)"
   ]
  },
  {
   "cell_type": "code",
   "execution_count": 20,
   "metadata": {},
   "outputs": [],
   "source": [
    "data=0"
   ]
  },
  {
   "cell_type": "code",
   "execution_count": 21,
   "metadata": {},
   "outputs": [],
   "source": [
    "del data"
   ]
  },
  {
   "cell_type": "code",
   "execution_count": 24,
   "metadata": {},
   "outputs": [
    {
     "data": {
      "text/plain": [
       "dtype('>f8')"
      ]
     },
     "execution_count": 24,
     "metadata": {},
     "output_type": "execute_result"
    }
   ],
   "source": [
    "image.dtype"
   ]
  },
  {
   "cell_type": "code",
   "execution_count": 29,
   "metadata": {},
   "outputs": [
    {
     "ename": "ModuleNotFoundError",
     "evalue": "No module named 'cuDF'",
     "output_type": "error",
     "traceback": [
      "\u001b[1;31m---------------------------------------------------------------------------\u001b[0m",
      "\u001b[1;31mModuleNotFoundError\u001b[0m                       Traceback (most recent call last)",
      "Cell \u001b[1;32mIn[29], line 1\u001b[0m\n\u001b[1;32m----> 1\u001b[0m \u001b[39mimport\u001b[39;00m \u001b[39mcuDF\u001b[39;00m\n",
      "\u001b[1;31mModuleNotFoundError\u001b[0m: No module named 'cuDF'"
     ]
    }
   ],
   "source": [
    "import cuDF"
   ]
  },
  {
   "cell_type": "code",
   "execution_count": 31,
   "metadata": {},
   "outputs": [
    {
     "ename": "TypeError",
     "evalue": "Implicit conversion to a NumPy array is not allowed. Please use `.get()` to construct a NumPy array explicitly.",
     "output_type": "error",
     "traceback": [
      "\u001b[1;31m---------------------------------------------------------------------------\u001b[0m",
      "\u001b[1;31mTypeError\u001b[0m                                 Traceback (most recent call last)",
      "Cell \u001b[1;32mIn[31], line 18\u001b[0m\n\u001b[0;32m     10\u001b[0m \u001b[39m# Create a pandas DataFrame with CuPy arrays\u001b[39;00m\n\u001b[0;32m     11\u001b[0m data \u001b[39m=\u001b[39m {\n\u001b[0;32m     12\u001b[0m     \u001b[39m'\u001b[39m\u001b[39mName\u001b[39m\u001b[39m'\u001b[39m: [\u001b[39m'\u001b[39m\u001b[39mAlice\u001b[39m\u001b[39m'\u001b[39m, \u001b[39m'\u001b[39m\u001b[39mBob\u001b[39m\u001b[39m'\u001b[39m, \u001b[39m'\u001b[39m\u001b[39mCharlie\u001b[39m\u001b[39m'\u001b[39m, \u001b[39m'\u001b[39m\u001b[39mDavid\u001b[39m\u001b[39m'\u001b[39m],\n\u001b[0;32m     13\u001b[0m     \u001b[39m'\u001b[39m\u001b[39mAge\u001b[39m\u001b[39m'\u001b[39m: [\u001b[39m25\u001b[39m, \u001b[39m30\u001b[39m, \u001b[39m22\u001b[39m, \u001b[39m28\u001b[39m],\n\u001b[0;32m     14\u001b[0m     \u001b[39m'\u001b[39m\u001b[39mSalary\u001b[39m\u001b[39m'\u001b[39m: [\u001b[39m50000\u001b[39m, \u001b[39m60000\u001b[39m, \u001b[39m45000\u001b[39m, \u001b[39m55000\u001b[39m],\n\u001b[0;32m     15\u001b[0m     \u001b[39m'\u001b[39m\u001b[39mNewColumn\u001b[39m\u001b[39m'\u001b[39m: [array_row_1, array_row_2, array_row_3, array_row_4]\n\u001b[0;32m     16\u001b[0m }\n\u001b[1;32m---> 18\u001b[0m df \u001b[39m=\u001b[39m pd\u001b[39m.\u001b[39;49mDataFrame(data)\n\u001b[0;32m     20\u001b[0m \u001b[39mprint\u001b[39m(df)\n",
      "File \u001b[1;32mc:\\Users\\14902\\anaconda3\\envs\\sdo2022\\lib\\site-packages\\pandas\\core\\frame.py:709\u001b[0m, in \u001b[0;36mDataFrame.__init__\u001b[1;34m(self, data, index, columns, dtype, copy)\u001b[0m\n\u001b[0;32m    703\u001b[0m     mgr \u001b[39m=\u001b[39m \u001b[39mself\u001b[39m\u001b[39m.\u001b[39m_init_mgr(\n\u001b[0;32m    704\u001b[0m         data, axes\u001b[39m=\u001b[39m{\u001b[39m\"\u001b[39m\u001b[39mindex\u001b[39m\u001b[39m\"\u001b[39m: index, \u001b[39m\"\u001b[39m\u001b[39mcolumns\u001b[39m\u001b[39m\"\u001b[39m: columns}, dtype\u001b[39m=\u001b[39mdtype, copy\u001b[39m=\u001b[39mcopy\n\u001b[0;32m    705\u001b[0m     )\n\u001b[0;32m    707\u001b[0m \u001b[39melif\u001b[39;00m \u001b[39misinstance\u001b[39m(data, \u001b[39mdict\u001b[39m):\n\u001b[0;32m    708\u001b[0m     \u001b[39m# GH#38939 de facto copy defaults to False only in non-dict cases\u001b[39;00m\n\u001b[1;32m--> 709\u001b[0m     mgr \u001b[39m=\u001b[39m dict_to_mgr(data, index, columns, dtype\u001b[39m=\u001b[39;49mdtype, copy\u001b[39m=\u001b[39;49mcopy, typ\u001b[39m=\u001b[39;49mmanager)\n\u001b[0;32m    710\u001b[0m \u001b[39melif\u001b[39;00m \u001b[39misinstance\u001b[39m(data, ma\u001b[39m.\u001b[39mMaskedArray):\n\u001b[0;32m    711\u001b[0m     \u001b[39mfrom\u001b[39;00m \u001b[39mnumpy\u001b[39;00m\u001b[39m.\u001b[39;00m\u001b[39mma\u001b[39;00m \u001b[39mimport\u001b[39;00m mrecords\n",
      "File \u001b[1;32mc:\\Users\\14902\\anaconda3\\envs\\sdo2022\\lib\\site-packages\\pandas\\core\\internals\\construction.py:481\u001b[0m, in \u001b[0;36mdict_to_mgr\u001b[1;34m(data, index, columns, dtype, typ, copy)\u001b[0m\n\u001b[0;32m    477\u001b[0m     \u001b[39melse\u001b[39;00m:\n\u001b[0;32m    478\u001b[0m         \u001b[39m# dtype check to exclude e.g. range objects, scalars\u001b[39;00m\n\u001b[0;32m    479\u001b[0m         arrays \u001b[39m=\u001b[39m [x\u001b[39m.\u001b[39mcopy() \u001b[39mif\u001b[39;00m \u001b[39mhasattr\u001b[39m(x, \u001b[39m\"\u001b[39m\u001b[39mdtype\u001b[39m\u001b[39m\"\u001b[39m) \u001b[39melse\u001b[39;00m x \u001b[39mfor\u001b[39;00m x \u001b[39min\u001b[39;00m arrays]\n\u001b[1;32m--> 481\u001b[0m \u001b[39mreturn\u001b[39;00m arrays_to_mgr(arrays, columns, index, dtype\u001b[39m=\u001b[39;49mdtype, typ\u001b[39m=\u001b[39;49mtyp, consolidate\u001b[39m=\u001b[39;49mcopy)\n",
      "File \u001b[1;32mc:\\Users\\14902\\anaconda3\\envs\\sdo2022\\lib\\site-packages\\pandas\\core\\internals\\construction.py:120\u001b[0m, in \u001b[0;36marrays_to_mgr\u001b[1;34m(arrays, columns, index, dtype, verify_integrity, typ, consolidate)\u001b[0m\n\u001b[0;32m    117\u001b[0m         index \u001b[39m=\u001b[39m ensure_index(index)\n\u001b[0;32m    119\u001b[0m     \u001b[39m# don't force copy because getting jammed in an ndarray anyway\u001b[39;00m\n\u001b[1;32m--> 120\u001b[0m     arrays, refs \u001b[39m=\u001b[39m _homogenize(arrays, index, dtype)\n\u001b[0;32m    121\u001b[0m     \u001b[39m# _homogenize ensures\u001b[39;00m\n\u001b[0;32m    122\u001b[0m     \u001b[39m#  - all(len(x) == len(index) for x in arrays)\u001b[39;00m\n\u001b[0;32m    123\u001b[0m     \u001b[39m#  - all(x.ndim == 1 for x in arrays)\u001b[39;00m\n\u001b[1;32m   (...)\u001b[0m\n\u001b[0;32m    126\u001b[0m \n\u001b[0;32m    127\u001b[0m \u001b[39melse\u001b[39;00m:\n\u001b[0;32m    128\u001b[0m     index \u001b[39m=\u001b[39m ensure_index(index)\n",
      "File \u001b[1;32mc:\\Users\\14902\\anaconda3\\envs\\sdo2022\\lib\\site-packages\\pandas\\core\\internals\\construction.py:607\u001b[0m, in \u001b[0;36m_homogenize\u001b[1;34m(data, index, dtype)\u001b[0m\n\u001b[0;32m    604\u001b[0m         val \u001b[39m=\u001b[39m \u001b[39mdict\u001b[39m(val)\n\u001b[0;32m    605\u001b[0m     val \u001b[39m=\u001b[39m lib\u001b[39m.\u001b[39mfast_multiget(val, oindex\u001b[39m.\u001b[39m_values, default\u001b[39m=\u001b[39mnp\u001b[39m.\u001b[39mnan)\n\u001b[1;32m--> 607\u001b[0m val \u001b[39m=\u001b[39m sanitize_array(val, index, dtype\u001b[39m=\u001b[39;49mdtype, copy\u001b[39m=\u001b[39;49m\u001b[39mFalse\u001b[39;49;00m)\n\u001b[0;32m    608\u001b[0m com\u001b[39m.\u001b[39mrequire_length_match(val, index)\n\u001b[0;32m    609\u001b[0m refs\u001b[39m.\u001b[39mappend(\u001b[39mNone\u001b[39;00m)\n",
      "File \u001b[1;32mc:\\Users\\14902\\anaconda3\\envs\\sdo2022\\lib\\site-packages\\pandas\\core\\construction.py:602\u001b[0m, in \u001b[0;36msanitize_array\u001b[1;34m(data, index, dtype, copy, allow_2d)\u001b[0m\n\u001b[0;32m    599\u001b[0m     subarr \u001b[39m=\u001b[39m _try_cast(data, dtype, copy)\n\u001b[0;32m    601\u001b[0m \u001b[39melse\u001b[39;00m:\n\u001b[1;32m--> 602\u001b[0m     subarr \u001b[39m=\u001b[39m maybe_convert_platform(data)\n\u001b[0;32m    603\u001b[0m     \u001b[39mif\u001b[39;00m subarr\u001b[39m.\u001b[39mdtype \u001b[39m==\u001b[39m \u001b[39mobject\u001b[39m:\n\u001b[0;32m    604\u001b[0m         subarr \u001b[39m=\u001b[39m cast(np\u001b[39m.\u001b[39mndarray, subarr)\n",
      "File \u001b[1;32mc:\\Users\\14902\\anaconda3\\envs\\sdo2022\\lib\\site-packages\\pandas\\core\\dtypes\\cast.py:130\u001b[0m, in \u001b[0;36mmaybe_convert_platform\u001b[1;34m(values)\u001b[0m\n\u001b[0;32m    127\u001b[0m arr: ArrayLike\n\u001b[0;32m    129\u001b[0m \u001b[39mif\u001b[39;00m \u001b[39misinstance\u001b[39m(values, (\u001b[39mlist\u001b[39m, \u001b[39mtuple\u001b[39m, \u001b[39mrange\u001b[39m)):\n\u001b[1;32m--> 130\u001b[0m     arr \u001b[39m=\u001b[39m construct_1d_object_array_from_listlike(values)\n\u001b[0;32m    131\u001b[0m \u001b[39melse\u001b[39;00m:\n\u001b[0;32m    132\u001b[0m     \u001b[39m# The caller is responsible for ensuring that we have np.ndarray\u001b[39;00m\n\u001b[0;32m    133\u001b[0m     \u001b[39m#  or ExtensionArray here.\u001b[39;00m\n\u001b[0;32m    134\u001b[0m     arr \u001b[39m=\u001b[39m values\n",
      "File \u001b[1;32mc:\\Users\\14902\\anaconda3\\envs\\sdo2022\\lib\\site-packages\\pandas\\core\\dtypes\\cast.py:1594\u001b[0m, in \u001b[0;36mconstruct_1d_object_array_from_listlike\u001b[1;34m(values)\u001b[0m\n\u001b[0;32m   1591\u001b[0m \u001b[39m# numpy will try to interpret nested lists as further dimensions, hence\u001b[39;00m\n\u001b[0;32m   1592\u001b[0m \u001b[39m# making a 1D array that contains list-likes is a bit tricky:\u001b[39;00m\n\u001b[0;32m   1593\u001b[0m result \u001b[39m=\u001b[39m np\u001b[39m.\u001b[39mempty(\u001b[39mlen\u001b[39m(values), dtype\u001b[39m=\u001b[39m\u001b[39m\"\u001b[39m\u001b[39mobject\u001b[39m\u001b[39m\"\u001b[39m)\n\u001b[1;32m-> 1594\u001b[0m result[:] \u001b[39m=\u001b[39m values\n\u001b[0;32m   1595\u001b[0m \u001b[39mreturn\u001b[39;00m result\n",
      "File \u001b[1;32mcupy\\_core\\core.pyx:1480\u001b[0m, in \u001b[0;36mcupy._core.core._ndarray_base.__array__\u001b[1;34m()\u001b[0m\n",
      "\u001b[1;31mTypeError\u001b[0m: Implicit conversion to a NumPy array is not allowed. Please use `.get()` to construct a NumPy array explicitly."
     ]
    }
   ],
   "source": []
  },
  {
   "cell_type": "code",
   "execution_count": 1,
   "metadata": {},
   "outputs": [],
   "source": [
    "import pandas as pd\n",
    "import numpy as np\n",
    "\n",
    "n=1400\n",
    "\n",
    "# Generate simple data for the 'time' column\n",
    "start_time = pd.Timestamp('2023-07-21 00:00:00')\n",
    "time_values = [start_time + pd.Timedelta(minutes=i*10) for i in range(n)]\n",
    "\n",
    "a=np.random.rand(2048, 2048)\n",
    "# Generate simple data for the 'array' column\n",
    "data_values = [np.random.rand(2048, 2048).astype(np.float32) for i in range(n)]\n",
    "\n",
    "# Create the pandas DataFrame\n",
    "df = pd.DataFrame({'time': time_values, 'array': data_values})"
   ]
  },
  {
   "cell_type": "code",
   "execution_count": 2,
   "metadata": {},
   "outputs": [
    {
     "data": {
      "text/plain": [
       "numpy.ndarray"
      ]
     },
     "execution_count": 2,
     "metadata": {},
     "output_type": "execute_result"
    }
   ],
   "source": [
    "b=df.iloc[0]['array']\n",
    "type(b)"
   ]
  },
  {
   "cell_type": "code",
   "execution_count": 3,
   "metadata": {},
   "outputs": [
    {
     "data": {
      "text/plain": [
       "21.875"
      ]
     },
     "execution_count": 3,
     "metadata": {},
     "output_type": "execute_result"
    }
   ],
   "source": [
    "b.nbytes*n/(1024**3)"
   ]
  },
  {
   "cell_type": "code",
   "execution_count": 4,
   "metadata": {},
   "outputs": [],
   "source": [
    "with open('data_frame.pkl', 'wb') as file:\n",
    "    df.to_pickle(file)"
   ]
  },
  {
   "cell_type": "code",
   "execution_count": 28,
   "metadata": {},
   "outputs": [
    {
     "name": "stderr",
     "output_type": "stream",
     "text": [
      "C:\\Users\\14902\\AppData\\Local\\Temp\\ipykernel_19248\\2207216780.py:2: RuntimeWarning: overflow encountered in cast\n",
      "  a[0]=65564\n"
     ]
    }
   ],
   "source": [
    "a=np.array([2,3,4.],dtype=np.float16)\n",
    "a[0]=65564"
   ]
  },
  {
   "cell_type": "code",
   "execution_count": 30,
   "metadata": {},
   "outputs": [
    {
     "data": {
      "text/plain": [
       "inf"
      ]
     },
     "execution_count": 30,
     "metadata": {},
     "output_type": "execute_result"
    }
   ],
   "source": [
    "np.sum(a)"
   ]
  },
  {
   "cell_type": "code",
   "execution_count": 31,
   "metadata": {},
   "outputs": [
    {
     "data": {
      "text/plain": [
       "array([inf,  3.,  4.], dtype=float16)"
      ]
     },
     "execution_count": 31,
     "metadata": {},
     "output_type": "execute_result"
    }
   ],
   "source": [
    "a"
   ]
  },
  {
   "cell_type": "code",
   "execution_count": 27,
   "metadata": {},
   "outputs": [
    {
     "data": {
      "text/plain": [
       "{'divide': 'warn', 'over': 'raise', 'under': 'ignore', 'invalid': 'warn'}"
      ]
     },
     "execution_count": 27,
     "metadata": {},
     "output_type": "execute_result"
    }
   ],
   "source": [
    "np.seterr(all='warn')"
   ]
  },
  {
   "cell_type": "code",
   "execution_count": 17,
   "metadata": {},
   "outputs": [
    {
     "name": "stdout",
     "output_type": "stream",
     "text": [
      "Overflow occurred!\n"
     ]
    }
   ],
   "source": [
    "# Set the 'raise' option for overflow to 'raise' to raise an exception\n",
    "np.seterr(over='raise')\n",
    "\n",
    "# Create an array with dtype float16\n",
    "a = np.array([2, 3, 4.], dtype=np.float16)\n",
    "\n",
    "try:\n",
    "    # Attempt to set a value that causes an overflow\n",
    "    a[0] = 65564\n",
    "except FloatingPointError:\n",
    "    raise FloatingPointError\n",
    "    print(\"Overflow occurred!\")"
   ]
  },
  {
   "cell_type": "code",
   "execution_count": 18,
   "metadata": {},
   "outputs": [
    {
     "data": {
      "text/plain": [
       "finfo(resolution=0.001, min=-6.55040e+04, max=6.55040e+04, dtype=float16)"
      ]
     },
     "execution_count": 18,
     "metadata": {},
     "output_type": "execute_result"
    }
   ],
   "source": [
    "np.finfo(np.float16)"
   ]
  },
  {
   "cell_type": "code",
   "execution_count": 24,
   "metadata": {},
   "outputs": [
    {
     "data": {
      "text/plain": [
       "455615809.76493084"
      ]
     },
     "execution_count": 24,
     "metadata": {},
     "output_type": "execute_result"
    }
   ],
   "source": [
    "np.sum(image)"
   ]
  },
  {
   "cell_type": "code",
   "execution_count": null,
   "metadata": {},
   "outputs": [],
   "source": []
  }
 ],
 "metadata": {
  "kernelspec": {
   "display_name": "Python 3 (ipykernel)",
   "language": "python",
   "name": "python3"
  },
  "language_info": {
   "codemirror_mode": {
    "name": "ipython",
    "version": 3
   },
   "file_extension": ".py",
   "mimetype": "text/x-python",
   "name": "python",
   "nbconvert_exporter": "python",
   "pygments_lexer": "ipython3",
   "version": "3.9.16"
  }
 },
 "nbformat": 4,
 "nbformat_minor": 4
}
