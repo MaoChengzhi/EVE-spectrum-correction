{
 "cells": [
  {
   "cell_type": "code",
   "execution_count": 1,
   "metadata": {},
   "outputs": [
    {
     "data": {
      "text/html": [
       "<pre style=\"white-space:pre;overflow-x:auto;line-height:normal;font-family:Menlo,'DejaVu Sans Mono',consolas,'Courier New',monospace\">Manim Community <span style=\"color: #008000; text-decoration-color: #008000\">v0.18.0</span>\n",
       "\n",
       "</pre>\n"
      ],
      "text/plain": [
       "Manim Community \u001b[32mv0.\u001b[0m\u001b[32m18.0\u001b[0m\n",
       "\n"
      ]
     },
     "metadata": {},
     "output_type": "display_data"
    }
   ],
   "source": [
    "from manim import *"
   ]
  },
  {
   "cell_type": "code",
   "execution_count": 119,
   "metadata": {},
   "outputs": [
    {
     "name": "stderr",
     "output_type": "stream",
     "text": [
      "                                                                                                                          \r"
     ]
    },
    {
     "data": {
      "text/html": [
       "<video src=\"media\\jupyter\\CruciformScan_L@2023-11-27@21-59-15.mp4\" controls autoplay loop style=\"max-width: 60%;\"  >\n",
       "      Your browser does not support the <code>video</code> element.\n",
       "    </video>"
      ],
      "text/plain": [
       "<IPython.core.display.Video object>"
      ]
     },
     "metadata": {},
     "output_type": "display_data"
    }
   ],
   "source": [
    "# L stand for large step\n",
    "class CruciformScan_L(Scene):\n",
    "    def construct(self):\n",
    "        \n",
    "\n",
    "        run_time=0.3\n",
    "        # create a circle in the center of the screen\n",
    "        radius=0.8\n",
    "        circle = Circle(radius=radius)  \n",
    "        circle.set_fill(RED, opacity=0.5)  # set the color and transparency\n",
    "        # add text Sun to the center of this circle \n",
    "        text = Text(\"Sun\").scale(0.7).next_to(circle, UP, buff=0.25)\n",
    "        self.play(GrowFromCenter(circle),Write(text))\n",
    "\n",
    "        # create a square with length 3 , at the left of the screen\n",
    "        side_length=2\n",
    "        buff_x=2\n",
    "        square= Square(side_length=side_length)\n",
    "        square.set_fill(BLUE, opacity=0.5)\n",
    "        square.next_to(circle, LEFT, buff=buff_x)\n",
    "        # add text: AIA FOV to the left of the screen\n",
    "        text2 = Text(\"AIA FOV\").scale(0.7).next_to(square, DOWN, buff=0.3)\n",
    "        # a caption showing: \"Cruciform Scan in the Alpha (Yaw) Maneuvers\" in the upper center of the screen\n",
    "\n",
    "        title_x=Text(\"Cruciform Scan during the Alpha (Yaw) Maneuver\").scale(0.7).to_edge(UP)\n",
    "\n",
    "        self.play(Write(title_x),Create(square),Write(text2))\n",
    "\n",
    "        \n",
    "\n",
    "        # move the square and text together to the right to the symmetric position with uniform speed, simultaneously ,slowly. \n",
    "        x_move=2*radius+side_length+2*buff_x\n",
    "        # self.play(square.animate.shift(RIGHT*x_move), text2.animate.shift(RIGHT*x_move), run_time=run_time, rate_func=linear)\n",
    "\n",
    "        # When moving, it pauses 0.05 second in the middle, then move again\n",
    "        n=10\n",
    "        for i in range(n):\n",
    "            self.play(square.animate.shift(RIGHT*x_move/n), text2.animate.shift(RIGHT*x_move/n), run_time=run_time)\n",
    "            self.wait(run_time)\n",
    "\n",
    "        # wait for 1.5 second\n",
    "        self.wait(1.5)\n",
    "        \n",
    "        \n",
    "        # now the square move from bottom to top\n",
    "        # remove the square and text2 also caption\n",
    "        self.play(FadeOut(title_x),FadeOut(square), FadeOut(text2),FadeOut(text))\n",
    "        #reset text\n",
    "        text = Text(\"Sun\").scale(0.7).next_to(circle, RIGHT, buff=0.25)\n",
    "        # the square move from bottom to top\n",
    "        buff_y=0.8\n",
    "        square.next_to(circle, DOWN , buff=0.5)\n",
    "        \n",
    "        # set text2 to the left of the square\n",
    "        text2 = Text(\"AIA FOV\").scale(0.7).next_to(square, LEFT, buff=0.3)\n",
    "        # show a caption: \"Cruciform Scan in the Beta (Pitch) Maneuvers\"\n",
    "\n",
    "        title_y=Text(\"Cruciform Scan during the Beta (Pitch) Maneuver\").scale(0.7).to_edge(UP)\n",
    "\n",
    "        self.play(Write(text),Write(title_y),Create(square),Write(text2))\n",
    "\n",
    "\n",
    "\n",
    "\n",
    "        y_move=2*radius+side_length+2*buff_y\n",
    "        m=int(n*y_move/x_move)\n",
    "        for i in range(m):\n",
    "            self.play(square.animate.shift(UP*y_move/m), text2.animate.shift(UP*y_move/m), run_time=run_time, rate_func=linear)\n",
    "            self.wait(run_time)\n",
    "        # wait for 1.5 second\n",
    "        self.wait(1.5)\n",
    "\n",
    "\n",
    "%manim -qm -v WARNING CruciformScan_L"
   ]
  },
  {
   "cell_type": "code",
   "execution_count": 2,
   "metadata": {},
   "outputs": [
    {
     "name": "stderr",
     "output_type": "stream",
     "text": [
      "                                                                                                                                    \r"
     ]
    },
    {
     "data": {
      "text/html": [
       "<video src=\"media\\jupyter\\CruciformScan_S@2023-11-27@22-32-10.mp4\" controls autoplay loop style=\"max-width: 60%;\"  >\n",
       "      Your browser does not support the <code>video</code> element.\n",
       "    </video>"
      ],
      "text/plain": [
       "<IPython.core.display.Video object>"
      ]
     },
     "metadata": {},
     "output_type": "display_data"
    }
   ],
   "source": [
    "# S stand for small step\n",
    "class CruciformScan_S(Scene):\n",
    "    def construct(self):\n",
    "        \n",
    "\n",
    "        run_time=0.3\n",
    "        # create a circle in the center of the screen\n",
    "        radius=1\n",
    "        circle = Circle(radius=radius)  \n",
    "        circle.set_fill(RED, opacity=0.5)  # set the color and transparency\n",
    "        # add text Sun to the center of this circle \n",
    "        text = Text(\"Sun\").scale(0.7).next_to(circle, UP, buff=0.15)\n",
    "        self.play(GrowFromCenter(circle),Write(text))\n",
    "\n",
    "        # create a square with length 3 , at the left of the screen\n",
    "        side_length=4.1\n",
    "        buff_x=-2.2*radius\n",
    "        square= Square(side_length=side_length)\n",
    "        square.set_fill(BLUE, opacity=0.5)\n",
    "        square.next_to(circle, LEFT, buff=buff_x)\n",
    "        # add text: AIA FOV to the left of the screen\n",
    "        text2 = Text(\"AIA FOV\").scale(0.7).next_to(square, DOWN, buff=0.2)\n",
    "        # a caption showing: \"Cruciform Scan in the Alpha (Yaw) Maneuvers\" in the upper center of the screen\n",
    "\n",
    "        title_x=Text(\"Cruciform Scan during the Alpha (Yaw) Maneuver\").scale(0.7).to_edge(UP)\n",
    "\n",
    "        self.play(Write(title_x),Create(square),Write(text2))\n",
    "\n",
    "        \n",
    "\n",
    "        # move the square and text together to the right to the symmetric position with uniform speed, simultaneously ,slowly. \n",
    "        x_move=2*radius+side_length+2*buff_x\n",
    "        # self.play(square.animate.shift(RIGHT*x_move), text2.animate.shift(RIGHT*x_move), run_time=run_time, rate_func=linear)\n",
    "\n",
    "        # When moving, it pauses 0.05 second in the middle, then move again\n",
    "        n=6\n",
    "        for i in range(n):\n",
    "            self.play(square.animate.shift(RIGHT*x_move/n), text2.animate.shift(RIGHT*x_move/n), run_time=run_time)\n",
    "            self.wait(run_time)\n",
    "\n",
    "        # wait for 1 second\n",
    "        self.wait(1)\n",
    "        \n",
    "        \n",
    "        # now the square move from bottom to top\n",
    "        # remove the square and text2 also caption\n",
    "        self.play(FadeOut(title_x),FadeOut(square), FadeOut(text2),FadeOut(text))\n",
    "        #reset text\n",
    "        text = Text(\"Sun\").scale(0.7).next_to(circle, RIGHT, buff=0.15)\n",
    "        # the square move from bottom to top\n",
    "        buff_y=-2.2*radius\n",
    "        square.next_to(circle, DOWN , buff=buff_y)\n",
    "        \n",
    "        # set text2 to the left of the square\n",
    "        text2 = Text(\"AIA FOV\").scale(0.7).next_to(square, LEFT, buff=0.13)\n",
    "        # show a caption: \"Cruciform Scan in the Beta (Pitch) Maneuvers\"\n",
    "\n",
    "        title_y=Text(\"Cruciform Scan during the Beta (Pitch) Maneuver\").scale(0.7).to_edge(UP)\n",
    "\n",
    "        self.play(Write(text),Write(title_y),Create(square),Write(text2))\n",
    "\n",
    "\n",
    "\n",
    "\n",
    "        y_move=2*radius+side_length+2*buff_y\n",
    "        m=int(n*y_move/x_move)\n",
    "        for i in range(m):\n",
    "            self.play(square.animate.shift(UP*y_move/m), text2.animate.shift(UP*y_move/m), run_time=run_time, rate_func=linear)\n",
    "            self.wait(run_time)\n",
    "        # wait for 1 second\n",
    "        self.wait(1)\n",
    "\n",
    "\n",
    "%manim -qm -v WARNING CruciformScan_S"
   ]
  },
  {
   "cell_type": "code",
   "execution_count": null,
   "metadata": {},
   "outputs": [],
   "source": []
  }
 ],
 "metadata": {
  "kernelspec": {
   "display_name": "my-manim-environment",
   "language": "python",
   "name": "python3"
  },
  "language_info": {
   "codemirror_mode": {
    "name": "ipython",
    "version": 3
   },
   "file_extension": ".py",
   "mimetype": "text/x-python",
   "name": "python",
   "nbconvert_exporter": "python",
   "pygments_lexer": "ipython3",
   "version": "3.11.6"
  }
 },
 "nbformat": 4,
 "nbformat_minor": 2
}
