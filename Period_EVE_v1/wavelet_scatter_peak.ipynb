{
 "cells": [
  {
   "cell_type": "code",
   "execution_count": 1,
   "metadata": {},
   "outputs": [],
   "source": [
    "import numpy as np\n",
    "import cupy as cp\n",
    "import cupyx.scipy.signal as signal\n",
    "import scipy\n",
    "import pandas as pd\n",
    "\n",
    "# import griddata\n",
    "from scipy.interpolate import griddata\n",
    "import matplotlib.pyplot as plt\n",
    "import plotly.express as px\n",
    "import plotly.graph_objs as go\n",
    "from plotly.subplots import make_subplots\n",
    "import matplotlib.cm as cm\n",
    "\n",
    "from astropy.modeling import models, fitting\n",
    "import astropy.units as u\n",
    "from astropy import constants as const\n",
    "from astropy.stats import gaussian_sigma_to_fwhm,gaussian_fwhm_to_sigma\n",
    "\n",
    "import datetime\n",
    "import pickle\n",
    "import importlib\n",
    "import json\n",
    "import time\n",
    "import glob\n",
    "\n",
    "import do_wavelet\n",
    "# import the module to reimport the module\n",
    "import importlib\n",
    "from interpolate_to_uniform_grid import interpolate_to_uniform_grid\n",
    "\n",
    "# the wavelet code always give a warning about matplotlib tight_layout\n",
    "\n",
    "\n",
    "\n",
    "\n",
    "with open('data/selected_band.pkl','rb') as f:\n",
    "    selected_band = pickle.load(f)\n",
    "selected_band=selected_band[selected_band['Identified']==True]\n",
    "selected_band = selected_band[selected_band['Channel']=='MEGS-A']\n",
    "selected_band\n",
    "\n",
    "wavelength_full = np.load('data/wavelength_full.npz')['wavelength_full']\n"
   ]
  },
  {
   "cell_type": "code",
   "execution_count": 2,
   "metadata": {},
   "outputs": [],
   "source": [
    "with open('data/wavelet_df/wavelet_amplitude_df.pkl','rb') as f:\n",
    "    wavelet_amplitude_df = pickle.load(f)\n",
    "\n",
    "with open('data/wavelet_df/wavelet_mean_df.pkl','rb') as f:\n",
    "    wavelet_mean_df = pickle.load(f)\n",
    "\n",
    "with open('data/wavelet_df/wavelet_stddev_df.pkl','rb') as f:\n",
    "    wavelet_stddev_df = pickle.load(f)"
   ]
  },
  {
   "cell_type": "markdown",
   "metadata": {},
   "source": [
    "## by_wavelength"
   ]
  },
  {
   "cell_type": "code",
   "execution_count": 3,
   "metadata": {},
   "outputs": [
    {
     "data": {
      "application/vnd.plotly.v1+json": {
       "config": {
        "plotlyServerURL": "https://plot.ly"
       },
       "data": [
        {
         "marker": {
          "color": [
           6.2,
           6.2,
           6.2,
           5.5,
           5.5,
           5.5,
           6.3,
           6.3,
           6.3,
           7.15,
           7.15,
           7.15,
           6.2,
           6.2,
           6.2,
           6.2,
           6.2,
           6.05,
           6.05,
           6.05,
           6.05,
           6.05,
           6.05,
           6.05,
           6.05,
           6.05,
           6.05,
           6.15,
           6.15,
           6.15,
           6.15,
           6.15,
           6.15,
           6.05,
           6.05,
           6.05,
           6.05,
           6.05,
           6.2,
           6.2,
           6.2,
           6.15,
           6.15,
           6.15,
           6.2,
           6.2,
           6.2,
           6.35,
           6.35,
           6.35,
           5.9,
           5.9,
           5.9,
           5.9,
           6.28,
           6.28,
           6.28,
           5.2,
           5.2,
           5.2,
           6.35,
           6.35,
           6.35,
           6.4,
           6.4,
           6.4,
           6.4,
           6.1,
           6.1,
           6.1,
           6.1,
           4.9,
           4.9,
           4.9,
           4.9,
           4.9,
           6.8,
           6.8,
           6.8,
           6.8,
           6.2,
           6.2,
           6.2,
           6,
           6,
           6,
           6
          ],
          "colorbar": {
           "title": {
            "text": "log(T) of the spectrum"
           }
          },
          "colorscale": [
           [
            0,
            "rgb(3, 35, 51)"
           ],
           [
            0.09090909090909091,
            "rgb(13, 48, 100)"
           ],
           [
            0.18181818181818182,
            "rgb(53, 50, 155)"
           ],
           [
            0.2727272727272727,
            "rgb(93, 62, 153)"
           ],
           [
            0.36363636363636365,
            "rgb(126, 77, 143)"
           ],
           [
            0.45454545454545453,
            "rgb(158, 89, 135)"
           ],
           [
            0.5454545454545454,
            "rgb(193, 100, 121)"
           ],
           [
            0.6363636363636364,
            "rgb(225, 113, 97)"
           ],
           [
            0.7272727272727273,
            "rgb(246, 139, 69)"
           ],
           [
            0.8181818181818182,
            "rgb(251, 173, 60)"
           ],
           [
            0.9090909090909091,
            "rgb(246, 211, 70)"
           ],
           [
            1,
            "rgb(231, 250, 90)"
           ]
          ],
          "showscale": true
         },
         "mode": "markers",
         "showlegend": false,
         "text": [
          "Ni XI 148",
          "Ni XI 148",
          "Ni XI 148",
          "O VI 150",
          "O VI 150",
          "O VI 150",
          "Ni XII 152",
          "Ni XII 152",
          "Ni XII 152",
          "Fe XXIII 154",
          "Fe XXIII 154",
          "Fe XXIII 154",
          "Fe IX 171",
          "Fe IX 171",
          "Fe IX 171",
          "Fe IX 171",
          "Fe IX 171",
          "Fe IX 174",
          "Fe IX 174",
          "Fe IX 174",
          "Fe IX 174",
          "Fe IX 174",
          "Fe X 177",
          "Fe X 177",
          "Fe X 177",
          "Fe X 177",
          "Fe X 177",
          "Fe XI 180",
          "Fe XI 180",
          "Fe XI 180",
          "Fe XI 182",
          "Fe XI 182",
          "Fe XI 182",
          "Fe X 185",
          "Fe X 185",
          "Fe X 185",
          "Fe X 185",
          "Fe X 185",
          "Fe XII 187",
          "Fe XII 187",
          "Fe XII 187",
          "Fe XI 188",
          "Fe XI 188",
          "Fe XI 188",
          "Fe XII 195",
          "Fe XII 195",
          "Fe XII 195",
          "Fe XIV 211",
          "Fe XIV 211",
          "Fe XIV 211",
          "Fe IX 217",
          "Fe IX 217",
          "Fe IX 217",
          "Fe IX 217",
          "Fe XIV 265",
          "Fe XIV 265",
          "Fe XIV 265",
          "O IV 272",
          "O IV 272",
          "O IV 272",
          "Fe XIV 274",
          "Fe XIV 274",
          "Fe XIV 274",
          "Fe XV 284",
          "Fe XV 284",
          "Fe XV 284",
          "Fe XV 284",
          "Si IX 296",
          "Si IX 296",
          "Si IX 296",
          "Si IX 296",
          "He II 304",
          "He II 304",
          "He II 304",
          "He II 304",
          "He II 304",
          "Fe XVI 335",
          "Fe XVI 335",
          "Fe XVI 335",
          "Fe XVI 335",
          "Si X 356",
          "Si X 356",
          "Si X 356",
          "Mg IX 368",
          "Mg IX 368",
          "Mg IX 368",
          "Mg IX 368"
         ],
         "type": "scatter",
         "x": [
          null,
          239.23269615331523,
          834.9916623932752,
          26.701602015238816,
          259.2727393339304,
          853.3345791336595,
          27.117571524498473,
          255.21324632341287,
          841.8270685481534,
          27.110493792061085,
          255.86209714354735,
          840.534088844745,
          26.70760787502137,
          73.73206066062396,
          236.8227683704233,
          429.1650394482895,
          880.2999589011434,
          26.543304166810913,
          75.38422483832991,
          235.1043381305329,
          null,
          846.9276425494023,
          26.395656081628637,
          70.73180900950723,
          237.56925239967345,
          null,
          839.7080021908797,
          26.869025381664276,
          228.11010446186592,
          853.7747869565912,
          26.723429032597693,
          240.73008762828442,
          831.1129369416838,
          26.75189637953738,
          67.46226334135979,
          243.22656699314814,
          null,
          839.2184458109015,
          26.888038224314712,
          248.8341482966214,
          838.4136972944857,
          26.81402784919985,
          229.76605329043414,
          851.3416731059998,
          27.08098206616507,
          229.68473980869518,
          861.9347880993612,
          27.048151537678223,
          274.91812296030935,
          850.9799718221553,
          26.959298605922676,
          66.27274696953252,
          245.9912242120309,
          843.9168424820533,
          27.031798368605976,
          260.59774614911083,
          845.5421223369519,
          26.977966176050305,
          229.64981061919963,
          851.5521393531819,
          27.082412943231496,
          273.4989322120722,
          851.263195293362,
          27.006442642589466,
          119.65588435936064,
          259.94777611238834,
          916.8429724633778,
          26.29717732187493,
          228.06119303451953,
          null,
          874.207333346567,
          26.81214690845398,
          null,
          242.87699583645156,
          473.1730861075193,
          937.0012374239421,
          27.871586795219258,
          54.835641815721274,
          273.76084638907315,
          826.4765895739381,
          27.092233278352577,
          275.01110901435106,
          825.5919725178991,
          31.71905828983125,
          54.54658245502712,
          262.2548006786459,
          819.751208902667
         ],
         "y": [
          148.377,
          148.377,
          148.377,
          150.089,
          150.089,
          150.089,
          152.151,
          152.151,
          152.151,
          154.303,
          154.303,
          154.303,
          171.073,
          171.073,
          171.073,
          171.073,
          171.073,
          174.531,
          174.531,
          174.531,
          174.531,
          174.531,
          177.24,
          177.24,
          177.24,
          177.24,
          177.24,
          180.401,
          180.401,
          180.401,
          182.167,
          182.167,
          182.167,
          184.537,
          184.537,
          184.537,
          184.537,
          184.537,
          186.887,
          186.887,
          186.887,
          188.299,
          188.299,
          188.299,
          195.119,
          195.119,
          195.119,
          211.317,
          211.317,
          211.317,
          217.101,
          217.101,
          217.101,
          217.101,
          264.788,
          264.788,
          264.788,
          272.127,
          272.127,
          272.127,
          274.203,
          274.203,
          274.203,
          284.163,
          284.163,
          284.163,
          284.163,
          296.117,
          296.117,
          296.117,
          296.117,
          303.78,
          303.78,
          303.78,
          303.78,
          303.78,
          335.409,
          335.409,
          335.409,
          335.409,
          356.037,
          356.037,
          356.037,
          368.071,
          368.071,
          368.071,
          368.071
         ]
        }
       ],
       "layout": {
        "template": {
         "data": {
          "bar": [
           {
            "error_x": {
             "color": "#2a3f5f"
            },
            "error_y": {
             "color": "#2a3f5f"
            },
            "marker": {
             "line": {
              "color": "#E5ECF6",
              "width": 0.5
             },
             "pattern": {
              "fillmode": "overlay",
              "size": 10,
              "solidity": 0.2
             }
            },
            "type": "bar"
           }
          ],
          "barpolar": [
           {
            "marker": {
             "line": {
              "color": "#E5ECF6",
              "width": 0.5
             },
             "pattern": {
              "fillmode": "overlay",
              "size": 10,
              "solidity": 0.2
             }
            },
            "type": "barpolar"
           }
          ],
          "carpet": [
           {
            "aaxis": {
             "endlinecolor": "#2a3f5f",
             "gridcolor": "white",
             "linecolor": "white",
             "minorgridcolor": "white",
             "startlinecolor": "#2a3f5f"
            },
            "baxis": {
             "endlinecolor": "#2a3f5f",
             "gridcolor": "white",
             "linecolor": "white",
             "minorgridcolor": "white",
             "startlinecolor": "#2a3f5f"
            },
            "type": "carpet"
           }
          ],
          "choropleth": [
           {
            "colorbar": {
             "outlinewidth": 0,
             "ticks": ""
            },
            "type": "choropleth"
           }
          ],
          "contour": [
           {
            "colorbar": {
             "outlinewidth": 0,
             "ticks": ""
            },
            "colorscale": [
             [
              0,
              "#0d0887"
             ],
             [
              0.1111111111111111,
              "#46039f"
             ],
             [
              0.2222222222222222,
              "#7201a8"
             ],
             [
              0.3333333333333333,
              "#9c179e"
             ],
             [
              0.4444444444444444,
              "#bd3786"
             ],
             [
              0.5555555555555556,
              "#d8576b"
             ],
             [
              0.6666666666666666,
              "#ed7953"
             ],
             [
              0.7777777777777778,
              "#fb9f3a"
             ],
             [
              0.8888888888888888,
              "#fdca26"
             ],
             [
              1,
              "#f0f921"
             ]
            ],
            "type": "contour"
           }
          ],
          "contourcarpet": [
           {
            "colorbar": {
             "outlinewidth": 0,
             "ticks": ""
            },
            "type": "contourcarpet"
           }
          ],
          "heatmap": [
           {
            "colorbar": {
             "outlinewidth": 0,
             "ticks": ""
            },
            "colorscale": [
             [
              0,
              "#0d0887"
             ],
             [
              0.1111111111111111,
              "#46039f"
             ],
             [
              0.2222222222222222,
              "#7201a8"
             ],
             [
              0.3333333333333333,
              "#9c179e"
             ],
             [
              0.4444444444444444,
              "#bd3786"
             ],
             [
              0.5555555555555556,
              "#d8576b"
             ],
             [
              0.6666666666666666,
              "#ed7953"
             ],
             [
              0.7777777777777778,
              "#fb9f3a"
             ],
             [
              0.8888888888888888,
              "#fdca26"
             ],
             [
              1,
              "#f0f921"
             ]
            ],
            "type": "heatmap"
           }
          ],
          "heatmapgl": [
           {
            "colorbar": {
             "outlinewidth": 0,
             "ticks": ""
            },
            "colorscale": [
             [
              0,
              "#0d0887"
             ],
             [
              0.1111111111111111,
              "#46039f"
             ],
             [
              0.2222222222222222,
              "#7201a8"
             ],
             [
              0.3333333333333333,
              "#9c179e"
             ],
             [
              0.4444444444444444,
              "#bd3786"
             ],
             [
              0.5555555555555556,
              "#d8576b"
             ],
             [
              0.6666666666666666,
              "#ed7953"
             ],
             [
              0.7777777777777778,
              "#fb9f3a"
             ],
             [
              0.8888888888888888,
              "#fdca26"
             ],
             [
              1,
              "#f0f921"
             ]
            ],
            "type": "heatmapgl"
           }
          ],
          "histogram": [
           {
            "marker": {
             "pattern": {
              "fillmode": "overlay",
              "size": 10,
              "solidity": 0.2
             }
            },
            "type": "histogram"
           }
          ],
          "histogram2d": [
           {
            "colorbar": {
             "outlinewidth": 0,
             "ticks": ""
            },
            "colorscale": [
             [
              0,
              "#0d0887"
             ],
             [
              0.1111111111111111,
              "#46039f"
             ],
             [
              0.2222222222222222,
              "#7201a8"
             ],
             [
              0.3333333333333333,
              "#9c179e"
             ],
             [
              0.4444444444444444,
              "#bd3786"
             ],
             [
              0.5555555555555556,
              "#d8576b"
             ],
             [
              0.6666666666666666,
              "#ed7953"
             ],
             [
              0.7777777777777778,
              "#fb9f3a"
             ],
             [
              0.8888888888888888,
              "#fdca26"
             ],
             [
              1,
              "#f0f921"
             ]
            ],
            "type": "histogram2d"
           }
          ],
          "histogram2dcontour": [
           {
            "colorbar": {
             "outlinewidth": 0,
             "ticks": ""
            },
            "colorscale": [
             [
              0,
              "#0d0887"
             ],
             [
              0.1111111111111111,
              "#46039f"
             ],
             [
              0.2222222222222222,
              "#7201a8"
             ],
             [
              0.3333333333333333,
              "#9c179e"
             ],
             [
              0.4444444444444444,
              "#bd3786"
             ],
             [
              0.5555555555555556,
              "#d8576b"
             ],
             [
              0.6666666666666666,
              "#ed7953"
             ],
             [
              0.7777777777777778,
              "#fb9f3a"
             ],
             [
              0.8888888888888888,
              "#fdca26"
             ],
             [
              1,
              "#f0f921"
             ]
            ],
            "type": "histogram2dcontour"
           }
          ],
          "mesh3d": [
           {
            "colorbar": {
             "outlinewidth": 0,
             "ticks": ""
            },
            "type": "mesh3d"
           }
          ],
          "parcoords": [
           {
            "line": {
             "colorbar": {
              "outlinewidth": 0,
              "ticks": ""
             }
            },
            "type": "parcoords"
           }
          ],
          "pie": [
           {
            "automargin": true,
            "type": "pie"
           }
          ],
          "scatter": [
           {
            "fillpattern": {
             "fillmode": "overlay",
             "size": 10,
             "solidity": 0.2
            },
            "type": "scatter"
           }
          ],
          "scatter3d": [
           {
            "line": {
             "colorbar": {
              "outlinewidth": 0,
              "ticks": ""
             }
            },
            "marker": {
             "colorbar": {
              "outlinewidth": 0,
              "ticks": ""
             }
            },
            "type": "scatter3d"
           }
          ],
          "scattercarpet": [
           {
            "marker": {
             "colorbar": {
              "outlinewidth": 0,
              "ticks": ""
             }
            },
            "type": "scattercarpet"
           }
          ],
          "scattergeo": [
           {
            "marker": {
             "colorbar": {
              "outlinewidth": 0,
              "ticks": ""
             }
            },
            "type": "scattergeo"
           }
          ],
          "scattergl": [
           {
            "marker": {
             "colorbar": {
              "outlinewidth": 0,
              "ticks": ""
             }
            },
            "type": "scattergl"
           }
          ],
          "scattermapbox": [
           {
            "marker": {
             "colorbar": {
              "outlinewidth": 0,
              "ticks": ""
             }
            },
            "type": "scattermapbox"
           }
          ],
          "scatterpolar": [
           {
            "marker": {
             "colorbar": {
              "outlinewidth": 0,
              "ticks": ""
             }
            },
            "type": "scatterpolar"
           }
          ],
          "scatterpolargl": [
           {
            "marker": {
             "colorbar": {
              "outlinewidth": 0,
              "ticks": ""
             }
            },
            "type": "scatterpolargl"
           }
          ],
          "scatterternary": [
           {
            "marker": {
             "colorbar": {
              "outlinewidth": 0,
              "ticks": ""
             }
            },
            "type": "scatterternary"
           }
          ],
          "surface": [
           {
            "colorbar": {
             "outlinewidth": 0,
             "ticks": ""
            },
            "colorscale": [
             [
              0,
              "#0d0887"
             ],
             [
              0.1111111111111111,
              "#46039f"
             ],
             [
              0.2222222222222222,
              "#7201a8"
             ],
             [
              0.3333333333333333,
              "#9c179e"
             ],
             [
              0.4444444444444444,
              "#bd3786"
             ],
             [
              0.5555555555555556,
              "#d8576b"
             ],
             [
              0.6666666666666666,
              "#ed7953"
             ],
             [
              0.7777777777777778,
              "#fb9f3a"
             ],
             [
              0.8888888888888888,
              "#fdca26"
             ],
             [
              1,
              "#f0f921"
             ]
            ],
            "type": "surface"
           }
          ],
          "table": [
           {
            "cells": {
             "fill": {
              "color": "#EBF0F8"
             },
             "line": {
              "color": "white"
             }
            },
            "header": {
             "fill": {
              "color": "#C8D4E3"
             },
             "line": {
              "color": "white"
             }
            },
            "type": "table"
           }
          ]
         },
         "layout": {
          "annotationdefaults": {
           "arrowcolor": "#2a3f5f",
           "arrowhead": 0,
           "arrowwidth": 1
          },
          "autotypenumbers": "strict",
          "coloraxis": {
           "colorbar": {
            "outlinewidth": 0,
            "ticks": ""
           }
          },
          "colorscale": {
           "diverging": [
            [
             0,
             "#8e0152"
            ],
            [
             0.1,
             "#c51b7d"
            ],
            [
             0.2,
             "#de77ae"
            ],
            [
             0.3,
             "#f1b6da"
            ],
            [
             0.4,
             "#fde0ef"
            ],
            [
             0.5,
             "#f7f7f7"
            ],
            [
             0.6,
             "#e6f5d0"
            ],
            [
             0.7,
             "#b8e186"
            ],
            [
             0.8,
             "#7fbc41"
            ],
            [
             0.9,
             "#4d9221"
            ],
            [
             1,
             "#276419"
            ]
           ],
           "sequential": [
            [
             0,
             "#0d0887"
            ],
            [
             0.1111111111111111,
             "#46039f"
            ],
            [
             0.2222222222222222,
             "#7201a8"
            ],
            [
             0.3333333333333333,
             "#9c179e"
            ],
            [
             0.4444444444444444,
             "#bd3786"
            ],
            [
             0.5555555555555556,
             "#d8576b"
            ],
            [
             0.6666666666666666,
             "#ed7953"
            ],
            [
             0.7777777777777778,
             "#fb9f3a"
            ],
            [
             0.8888888888888888,
             "#fdca26"
            ],
            [
             1,
             "#f0f921"
            ]
           ],
           "sequentialminus": [
            [
             0,
             "#0d0887"
            ],
            [
             0.1111111111111111,
             "#46039f"
            ],
            [
             0.2222222222222222,
             "#7201a8"
            ],
            [
             0.3333333333333333,
             "#9c179e"
            ],
            [
             0.4444444444444444,
             "#bd3786"
            ],
            [
             0.5555555555555556,
             "#d8576b"
            ],
            [
             0.6666666666666666,
             "#ed7953"
            ],
            [
             0.7777777777777778,
             "#fb9f3a"
            ],
            [
             0.8888888888888888,
             "#fdca26"
            ],
            [
             1,
             "#f0f921"
            ]
           ]
          },
          "colorway": [
           "#636efa",
           "#EF553B",
           "#00cc96",
           "#ab63fa",
           "#FFA15A",
           "#19d3f3",
           "#FF6692",
           "#B6E880",
           "#FF97FF",
           "#FECB52"
          ],
          "font": {
           "color": "#2a3f5f"
          },
          "geo": {
           "bgcolor": "white",
           "lakecolor": "white",
           "landcolor": "#E5ECF6",
           "showlakes": true,
           "showland": true,
           "subunitcolor": "white"
          },
          "hoverlabel": {
           "align": "left"
          },
          "hovermode": "closest",
          "mapbox": {
           "style": "light"
          },
          "paper_bgcolor": "white",
          "plot_bgcolor": "#E5ECF6",
          "polar": {
           "angularaxis": {
            "gridcolor": "white",
            "linecolor": "white",
            "ticks": ""
           },
           "bgcolor": "#E5ECF6",
           "radialaxis": {
            "gridcolor": "white",
            "linecolor": "white",
            "ticks": ""
           }
          },
          "scene": {
           "xaxis": {
            "backgroundcolor": "#E5ECF6",
            "gridcolor": "white",
            "gridwidth": 2,
            "linecolor": "white",
            "showbackground": true,
            "ticks": "",
            "zerolinecolor": "white"
           },
           "yaxis": {
            "backgroundcolor": "#E5ECF6",
            "gridcolor": "white",
            "gridwidth": 2,
            "linecolor": "white",
            "showbackground": true,
            "ticks": "",
            "zerolinecolor": "white"
           },
           "zaxis": {
            "backgroundcolor": "#E5ECF6",
            "gridcolor": "white",
            "gridwidth": 2,
            "linecolor": "white",
            "showbackground": true,
            "ticks": "",
            "zerolinecolor": "white"
           }
          },
          "shapedefaults": {
           "line": {
            "color": "#2a3f5f"
           }
          },
          "ternary": {
           "aaxis": {
            "gridcolor": "white",
            "linecolor": "white",
            "ticks": ""
           },
           "baxis": {
            "gridcolor": "white",
            "linecolor": "white",
            "ticks": ""
           },
           "bgcolor": "#E5ECF6",
           "caxis": {
            "gridcolor": "white",
            "linecolor": "white",
            "ticks": ""
           }
          },
          "title": {
           "x": 0.05
          },
          "xaxis": {
           "automargin": true,
           "gridcolor": "white",
           "linecolor": "white",
           "ticks": "",
           "title": {
            "standoff": 15
           },
           "zerolinecolor": "white",
           "zerolinewidth": 2
          },
          "yaxis": {
           "automargin": true,
           "gridcolor": "white",
           "linecolor": "white",
           "ticks": "",
           "title": {
            "standoff": 15
           },
           "zerolinecolor": "white",
           "zerolinewidth": 2
          }
         }
        },
        "title": {
         "text": "Amplitude Wavelet Peaks",
         "x": 0.5
        },
        "xaxis": {
         "range": [
          0,
          300
         ],
         "title": {
          "text": "Amplitude Periods (d)"
         }
        },
        "yaxis": {
         "title": {
          "text": "Wavelength (Angstrom)"
         }
        }
       }
      }
     },
     "metadata": {},
     "output_type": "display_data"
    }
   ],
   "source": [
    "# https://plotly.com/python/colorscales/\n",
    "\n",
    "\n",
    "\n",
    "# Define a color scale: suggested: Viridis, inferno, magma, plasma, cividis,spectral\n",
    "color_scale = 'thermal'\n",
    "\n",
    "df=wavelet_amplitude_df.copy()\n",
    "\n",
    "\n",
    "# Create figure\n",
    "fig = go.Figure()\n",
    "\n",
    "# Add scatter plot\n",
    "fig.add_trace(\n",
    "    go.Scatter(\n",
    "        x=df['amplitude periods'],\n",
    "        y=df['wavelength'],\n",
    "        mode='markers',\n",
    "        marker=dict(\n",
    "            color=df['temperature'],  # Use normalized 'size' for color\n",
    "            colorscale=color_scale,  # Define color scale\n",
    "            colorbar=dict(title=r'log(T) of the spectrum'),  # Show color scale bar\n",
    "            showscale=True,# show the color bar (color scale)\n",
    "        ),\n",
    "        showlegend=False, # otherwise a legend will appear on the right,\n",
    "        text=df['line name'],  # Hover text shows 'size'\n",
    "                )\n",
    "            )\n",
    "\n",
    "# Update layout with title\n",
    "fig.update_layout(title_text=\"Amplitude Wavelet Peaks\",title_x=0.5)\n",
    "fig.update_xaxes(title_text=\"Amplitude Periods (d)\",range=[0,300])\n",
    "fig.update_yaxes(title_text=\"Wavelength (Angstrom)\")\n",
    "\n",
    "\n",
    "# Show figure\n",
    "fig.show()\n",
    "fig.write_html('output\\wavelet_explore\\peak_scatter\\\\by_wavelength\\\\amplitude.html')\n"
   ]
  },
  {
   "cell_type": "code",
   "execution_count": 4,
   "metadata": {},
   "outputs": [
    {
     "data": {
      "application/vnd.plotly.v1+json": {
       "config": {
        "plotlyServerURL": "https://plot.ly"
       },
       "data": [
        {
         "marker": {
          "color": [
           6.2,
           6.2,
           6.2,
           6.2,
           6.2,
           6.2,
           6.2,
           6.2,
           5.5,
           5.5,
           5.5,
           5.5,
           5.5,
           5.5,
           5.5,
           6.3,
           6.3,
           6.3,
           6.3,
           6.3,
           7.15,
           7.15,
           7.15,
           7.15,
           7.15,
           6.2,
           6.2,
           6.2,
           6.2,
           6.2,
           6.2,
           6.05,
           6.05,
           6.05,
           6.05,
           6.05,
           6.05,
           6.05,
           6.05,
           6.05,
           6.05,
           6.05,
           6.05,
           6.05,
           6.15,
           6.15,
           6.15,
           6.15,
           6.15,
           6.15,
           6.15,
           6.15,
           6.15,
           6.15,
           6.15,
           6.05,
           6.05,
           6.05,
           6.05,
           6.05,
           6.05,
           6.2,
           6.2,
           6.2,
           6.2,
           6.2,
           6.15,
           6.15,
           6.15,
           6.15,
           6.15,
           6.15,
           6.2,
           6.2,
           6.2,
           6.2,
           6.35,
           6.35,
           6.35,
           5.9,
           5.9,
           5.9,
           5.9,
           5.9,
           6.28,
           6.28,
           6.28,
           6.28,
           6.28,
           5.2,
           5.2,
           5.2,
           5.2,
           6.35,
           6.35,
           6.35,
           6.35,
           6.4,
           6.4,
           6.4,
           6.4,
           6.1,
           6.1,
           6.1,
           6.1,
           6.1,
           6.1,
           4.9,
           4.9,
           4.9,
           4.9,
           6.8,
           6.8,
           6.8,
           6.8,
           6.8,
           6.8,
           6.2,
           6.2,
           6.2,
           6.2,
           6.2,
           6,
           6,
           6,
           6
          ],
          "colorbar": {
           "title": {
            "text": "log(T) of the spectrum"
           }
          },
          "colorscale": [
           [
            0,
            "rgb(3, 35, 51)"
           ],
           [
            0.09090909090909091,
            "rgb(13, 48, 100)"
           ],
           [
            0.18181818181818182,
            "rgb(53, 50, 155)"
           ],
           [
            0.2727272727272727,
            "rgb(93, 62, 153)"
           ],
           [
            0.36363636363636365,
            "rgb(126, 77, 143)"
           ],
           [
            0.45454545454545453,
            "rgb(158, 89, 135)"
           ],
           [
            0.5454545454545454,
            "rgb(193, 100, 121)"
           ],
           [
            0.6363636363636364,
            "rgb(225, 113, 97)"
           ],
           [
            0.7272727272727273,
            "rgb(246, 139, 69)"
           ],
           [
            0.8181818181818182,
            "rgb(251, 173, 60)"
           ],
           [
            0.9090909090909091,
            "rgb(246, 211, 70)"
           ],
           [
            1,
            "rgb(231, 250, 90)"
           ]
          ],
          "showscale": true
         },
         "mode": "markers",
         "showlegend": false,
         "text": [
          "Ni XI 148",
          "Ni XI 148",
          "Ni XI 148",
          "Ni XI 148",
          "Ni XI 148",
          "Ni XI 148",
          "Ni XI 148",
          "Ni XI 148",
          "O VI 150",
          "O VI 150",
          "O VI 150",
          "O VI 150",
          "O VI 150",
          "O VI 150",
          "O VI 150",
          "Ni XII 152",
          "Ni XII 152",
          "Ni XII 152",
          "Ni XII 152",
          "Ni XII 152",
          "Fe XXIII 154",
          "Fe XXIII 154",
          "Fe XXIII 154",
          "Fe XXIII 154",
          "Fe XXIII 154",
          "Fe IX 171",
          "Fe IX 171",
          "Fe IX 171",
          "Fe IX 171",
          "Fe IX 171",
          "Fe IX 171",
          "Fe IX 174",
          "Fe IX 174",
          "Fe IX 174",
          "Fe IX 174",
          "Fe IX 174",
          "Fe IX 174",
          "Fe IX 174",
          "Fe X 177",
          "Fe X 177",
          "Fe X 177",
          "Fe X 177",
          "Fe X 177",
          "Fe X 177",
          "Fe XI 180",
          "Fe XI 180",
          "Fe XI 180",
          "Fe XI 180",
          "Fe XI 180",
          "Fe XI 180",
          "Fe XI 182",
          "Fe XI 182",
          "Fe XI 182",
          "Fe XI 182",
          "Fe XI 182",
          "Fe X 185",
          "Fe X 185",
          "Fe X 185",
          "Fe X 185",
          "Fe X 185",
          "Fe X 185",
          "Fe XII 187",
          "Fe XII 187",
          "Fe XII 187",
          "Fe XII 187",
          "Fe XII 187",
          "Fe XI 188",
          "Fe XI 188",
          "Fe XI 188",
          "Fe XI 188",
          "Fe XI 188",
          "Fe XI 188",
          "Fe XII 195",
          "Fe XII 195",
          "Fe XII 195",
          "Fe XII 195",
          "Fe XIV 211",
          "Fe XIV 211",
          "Fe XIV 211",
          "Fe IX 217",
          "Fe IX 217",
          "Fe IX 217",
          "Fe IX 217",
          "Fe IX 217",
          "Fe XIV 265",
          "Fe XIV 265",
          "Fe XIV 265",
          "Fe XIV 265",
          "Fe XIV 265",
          "O IV 272",
          "O IV 272",
          "O IV 272",
          "O IV 272",
          "Fe XIV 274",
          "Fe XIV 274",
          "Fe XIV 274",
          "Fe XIV 274",
          "Fe XV 284",
          "Fe XV 284",
          "Fe XV 284",
          "Fe XV 284",
          "Si IX 296",
          "Si IX 296",
          "Si IX 296",
          "Si IX 296",
          "Si IX 296",
          "Si IX 296",
          "He II 304",
          "He II 304",
          "He II 304",
          "He II 304",
          "Fe XVI 335",
          "Fe XVI 335",
          "Fe XVI 335",
          "Fe XVI 335",
          "Fe XVI 335",
          "Fe XVI 335",
          "Si X 356",
          "Si X 356",
          "Si X 356",
          "Si X 356",
          "Si X 356",
          "Mg IX 368",
          "Mg IX 368",
          "Mg IX 368",
          "Mg IX 368"
         ],
         "type": "scatter",
         "x": [
          14.11642653698231,
          27.616775785822178,
          51.37067725831221,
          2.666087295498508,
          202.43957014884754,
          359.35167687984557,
          548.7110327724835,
          1145.0490934079462,
          13.481030488216206,
          30.499353485649124,
          53.08002386760945,
          97.63195575820893,
          258.31334353801896,
          null,
          1030.6623430965326,
          13.942558059668865,
          27.37371178753602,
          225.83225492952394,
          502.94159699667574,
          825.7601589916202,
          13.964131113675196,
          27.74466947337789,
          405.26346636834427,
          651.2811221382773,
          1326.752397181353,
          13.532917814204527,
          29.054406650080086,
          51.687563462081116,
          92.06838143076324,
          240.58469605061714,
          871.3442338879848,
          14.232250755617223,
          29.89979403239308,
          52.15449481826716,
          109.93808439690223,
          204.20419151322844,
          372.47471340626873,
          1123.9267940557174,
          13.860171587758497,
          30.0497424005258,
          null,
          177.19705261125833,
          451.318396090769,
          711.9479903577794,
          14.192207525078077,
          23.295190875039943,
          null,
          183.90017357003282,
          397.7817805653522,
          null,
          14.076988312823698,
          26.32349189434033,
          173.81628300135066,
          403.07656830178104,
          null,
          null,
          30.552775730836245,
          56.0383601749756,
          115.6648116725808,
          276.4231031158464,
          931.912965329196,
          14.089102509638668,
          26.89621482754817,
          205.1144052982211,
          392.3342410467547,
          1081.407983229229,
          14.136066477663432,
          25.171100517234912,
          180.17668812121732,
          393.7625092907371,
          null,
          1338.426649419487,
          14.012008226285486,
          27.691596324145557,
          180.2740456119993,
          411.0959869059459,
          13.966782657345522,
          27.277446473207732,
          425.7221635736495,
          13.620671438845598,
          31.11612470333821,
          163.66780612532799,
          389.5648788443427,
          657.5770646536689,
          null,
          120.15644313299671,
          215.8125756335946,
          398.3216620742246,
          911.2027161214633,
          13.604733826194078,
          30.063908612510005,
          179.69272911752185,
          465.18193089110537,
          13.788162217467681,
          27.28814196322041,
          null,
          1354.0534830600996,
          13.699544359494753,
          27.03428593096209,
          null,
          2.666087295498508,
          13.385692231454458,
          null,
          47.66696452941511,
          93.31316214228396,
          196.62153545292654,
          401.347375128692,
          28.637380976460992,
          222.95210774693032,
          394.76269034689375,
          815.9847516729328,
          28.08141222837578,
          8.801797915749102,
          null,
          208.7936211582328,
          622.2307672772085,
          852.1784984650368,
          29.893390424878767,
          55.45933334943911,
          132.5144006975838,
          396.8157816404881,
          1108.3719189283381,
          36.450691471674986,
          115.24126944663345,
          400.31474500674227,
          882.6829931674819
         ],
         "y": [
          148.377,
          148.377,
          148.377,
          148.377,
          148.377,
          148.377,
          148.377,
          148.377,
          150.089,
          150.089,
          150.089,
          150.089,
          150.089,
          150.089,
          150.089,
          152.151,
          152.151,
          152.151,
          152.151,
          152.151,
          154.303,
          154.303,
          154.303,
          154.303,
          154.303,
          171.073,
          171.073,
          171.073,
          171.073,
          171.073,
          171.073,
          174.531,
          174.531,
          174.531,
          174.531,
          174.531,
          174.531,
          174.531,
          177.24,
          177.24,
          177.24,
          177.24,
          177.24,
          177.24,
          180.401,
          180.401,
          180.401,
          180.401,
          180.401,
          180.401,
          182.167,
          182.167,
          182.167,
          182.167,
          182.167,
          184.537,
          184.537,
          184.537,
          184.537,
          184.537,
          184.537,
          186.887,
          186.887,
          186.887,
          186.887,
          186.887,
          188.299,
          188.299,
          188.299,
          188.299,
          188.299,
          188.299,
          195.119,
          195.119,
          195.119,
          195.119,
          211.317,
          211.317,
          211.317,
          217.101,
          217.101,
          217.101,
          217.101,
          217.101,
          264.788,
          264.788,
          264.788,
          264.788,
          264.788,
          272.127,
          272.127,
          272.127,
          272.127,
          274.203,
          274.203,
          274.203,
          274.203,
          284.163,
          284.163,
          284.163,
          284.163,
          296.117,
          296.117,
          296.117,
          296.117,
          296.117,
          296.117,
          303.78,
          303.78,
          303.78,
          303.78,
          335.409,
          335.409,
          335.409,
          335.409,
          335.409,
          335.409,
          356.037,
          356.037,
          356.037,
          356.037,
          356.037,
          368.071,
          368.071,
          368.071,
          368.071
         ]
        }
       ],
       "layout": {
        "template": {
         "data": {
          "bar": [
           {
            "error_x": {
             "color": "#2a3f5f"
            },
            "error_y": {
             "color": "#2a3f5f"
            },
            "marker": {
             "line": {
              "color": "#E5ECF6",
              "width": 0.5
             },
             "pattern": {
              "fillmode": "overlay",
              "size": 10,
              "solidity": 0.2
             }
            },
            "type": "bar"
           }
          ],
          "barpolar": [
           {
            "marker": {
             "line": {
              "color": "#E5ECF6",
              "width": 0.5
             },
             "pattern": {
              "fillmode": "overlay",
              "size": 10,
              "solidity": 0.2
             }
            },
            "type": "barpolar"
           }
          ],
          "carpet": [
           {
            "aaxis": {
             "endlinecolor": "#2a3f5f",
             "gridcolor": "white",
             "linecolor": "white",
             "minorgridcolor": "white",
             "startlinecolor": "#2a3f5f"
            },
            "baxis": {
             "endlinecolor": "#2a3f5f",
             "gridcolor": "white",
             "linecolor": "white",
             "minorgridcolor": "white",
             "startlinecolor": "#2a3f5f"
            },
            "type": "carpet"
           }
          ],
          "choropleth": [
           {
            "colorbar": {
             "outlinewidth": 0,
             "ticks": ""
            },
            "type": "choropleth"
           }
          ],
          "contour": [
           {
            "colorbar": {
             "outlinewidth": 0,
             "ticks": ""
            },
            "colorscale": [
             [
              0,
              "#0d0887"
             ],
             [
              0.1111111111111111,
              "#46039f"
             ],
             [
              0.2222222222222222,
              "#7201a8"
             ],
             [
              0.3333333333333333,
              "#9c179e"
             ],
             [
              0.4444444444444444,
              "#bd3786"
             ],
             [
              0.5555555555555556,
              "#d8576b"
             ],
             [
              0.6666666666666666,
              "#ed7953"
             ],
             [
              0.7777777777777778,
              "#fb9f3a"
             ],
             [
              0.8888888888888888,
              "#fdca26"
             ],
             [
              1,
              "#f0f921"
             ]
            ],
            "type": "contour"
           }
          ],
          "contourcarpet": [
           {
            "colorbar": {
             "outlinewidth": 0,
             "ticks": ""
            },
            "type": "contourcarpet"
           }
          ],
          "heatmap": [
           {
            "colorbar": {
             "outlinewidth": 0,
             "ticks": ""
            },
            "colorscale": [
             [
              0,
              "#0d0887"
             ],
             [
              0.1111111111111111,
              "#46039f"
             ],
             [
              0.2222222222222222,
              "#7201a8"
             ],
             [
              0.3333333333333333,
              "#9c179e"
             ],
             [
              0.4444444444444444,
              "#bd3786"
             ],
             [
              0.5555555555555556,
              "#d8576b"
             ],
             [
              0.6666666666666666,
              "#ed7953"
             ],
             [
              0.7777777777777778,
              "#fb9f3a"
             ],
             [
              0.8888888888888888,
              "#fdca26"
             ],
             [
              1,
              "#f0f921"
             ]
            ],
            "type": "heatmap"
           }
          ],
          "heatmapgl": [
           {
            "colorbar": {
             "outlinewidth": 0,
             "ticks": ""
            },
            "colorscale": [
             [
              0,
              "#0d0887"
             ],
             [
              0.1111111111111111,
              "#46039f"
             ],
             [
              0.2222222222222222,
              "#7201a8"
             ],
             [
              0.3333333333333333,
              "#9c179e"
             ],
             [
              0.4444444444444444,
              "#bd3786"
             ],
             [
              0.5555555555555556,
              "#d8576b"
             ],
             [
              0.6666666666666666,
              "#ed7953"
             ],
             [
              0.7777777777777778,
              "#fb9f3a"
             ],
             [
              0.8888888888888888,
              "#fdca26"
             ],
             [
              1,
              "#f0f921"
             ]
            ],
            "type": "heatmapgl"
           }
          ],
          "histogram": [
           {
            "marker": {
             "pattern": {
              "fillmode": "overlay",
              "size": 10,
              "solidity": 0.2
             }
            },
            "type": "histogram"
           }
          ],
          "histogram2d": [
           {
            "colorbar": {
             "outlinewidth": 0,
             "ticks": ""
            },
            "colorscale": [
             [
              0,
              "#0d0887"
             ],
             [
              0.1111111111111111,
              "#46039f"
             ],
             [
              0.2222222222222222,
              "#7201a8"
             ],
             [
              0.3333333333333333,
              "#9c179e"
             ],
             [
              0.4444444444444444,
              "#bd3786"
             ],
             [
              0.5555555555555556,
              "#d8576b"
             ],
             [
              0.6666666666666666,
              "#ed7953"
             ],
             [
              0.7777777777777778,
              "#fb9f3a"
             ],
             [
              0.8888888888888888,
              "#fdca26"
             ],
             [
              1,
              "#f0f921"
             ]
            ],
            "type": "histogram2d"
           }
          ],
          "histogram2dcontour": [
           {
            "colorbar": {
             "outlinewidth": 0,
             "ticks": ""
            },
            "colorscale": [
             [
              0,
              "#0d0887"
             ],
             [
              0.1111111111111111,
              "#46039f"
             ],
             [
              0.2222222222222222,
              "#7201a8"
             ],
             [
              0.3333333333333333,
              "#9c179e"
             ],
             [
              0.4444444444444444,
              "#bd3786"
             ],
             [
              0.5555555555555556,
              "#d8576b"
             ],
             [
              0.6666666666666666,
              "#ed7953"
             ],
             [
              0.7777777777777778,
              "#fb9f3a"
             ],
             [
              0.8888888888888888,
              "#fdca26"
             ],
             [
              1,
              "#f0f921"
             ]
            ],
            "type": "histogram2dcontour"
           }
          ],
          "mesh3d": [
           {
            "colorbar": {
             "outlinewidth": 0,
             "ticks": ""
            },
            "type": "mesh3d"
           }
          ],
          "parcoords": [
           {
            "line": {
             "colorbar": {
              "outlinewidth": 0,
              "ticks": ""
             }
            },
            "type": "parcoords"
           }
          ],
          "pie": [
           {
            "automargin": true,
            "type": "pie"
           }
          ],
          "scatter": [
           {
            "fillpattern": {
             "fillmode": "overlay",
             "size": 10,
             "solidity": 0.2
            },
            "type": "scatter"
           }
          ],
          "scatter3d": [
           {
            "line": {
             "colorbar": {
              "outlinewidth": 0,
              "ticks": ""
             }
            },
            "marker": {
             "colorbar": {
              "outlinewidth": 0,
              "ticks": ""
             }
            },
            "type": "scatter3d"
           }
          ],
          "scattercarpet": [
           {
            "marker": {
             "colorbar": {
              "outlinewidth": 0,
              "ticks": ""
             }
            },
            "type": "scattercarpet"
           }
          ],
          "scattergeo": [
           {
            "marker": {
             "colorbar": {
              "outlinewidth": 0,
              "ticks": ""
             }
            },
            "type": "scattergeo"
           }
          ],
          "scattergl": [
           {
            "marker": {
             "colorbar": {
              "outlinewidth": 0,
              "ticks": ""
             }
            },
            "type": "scattergl"
           }
          ],
          "scattermapbox": [
           {
            "marker": {
             "colorbar": {
              "outlinewidth": 0,
              "ticks": ""
             }
            },
            "type": "scattermapbox"
           }
          ],
          "scatterpolar": [
           {
            "marker": {
             "colorbar": {
              "outlinewidth": 0,
              "ticks": ""
             }
            },
            "type": "scatterpolar"
           }
          ],
          "scatterpolargl": [
           {
            "marker": {
             "colorbar": {
              "outlinewidth": 0,
              "ticks": ""
             }
            },
            "type": "scatterpolargl"
           }
          ],
          "scatterternary": [
           {
            "marker": {
             "colorbar": {
              "outlinewidth": 0,
              "ticks": ""
             }
            },
            "type": "scatterternary"
           }
          ],
          "surface": [
           {
            "colorbar": {
             "outlinewidth": 0,
             "ticks": ""
            },
            "colorscale": [
             [
              0,
              "#0d0887"
             ],
             [
              0.1111111111111111,
              "#46039f"
             ],
             [
              0.2222222222222222,
              "#7201a8"
             ],
             [
              0.3333333333333333,
              "#9c179e"
             ],
             [
              0.4444444444444444,
              "#bd3786"
             ],
             [
              0.5555555555555556,
              "#d8576b"
             ],
             [
              0.6666666666666666,
              "#ed7953"
             ],
             [
              0.7777777777777778,
              "#fb9f3a"
             ],
             [
              0.8888888888888888,
              "#fdca26"
             ],
             [
              1,
              "#f0f921"
             ]
            ],
            "type": "surface"
           }
          ],
          "table": [
           {
            "cells": {
             "fill": {
              "color": "#EBF0F8"
             },
             "line": {
              "color": "white"
             }
            },
            "header": {
             "fill": {
              "color": "#C8D4E3"
             },
             "line": {
              "color": "white"
             }
            },
            "type": "table"
           }
          ]
         },
         "layout": {
          "annotationdefaults": {
           "arrowcolor": "#2a3f5f",
           "arrowhead": 0,
           "arrowwidth": 1
          },
          "autotypenumbers": "strict",
          "coloraxis": {
           "colorbar": {
            "outlinewidth": 0,
            "ticks": ""
           }
          },
          "colorscale": {
           "diverging": [
            [
             0,
             "#8e0152"
            ],
            [
             0.1,
             "#c51b7d"
            ],
            [
             0.2,
             "#de77ae"
            ],
            [
             0.3,
             "#f1b6da"
            ],
            [
             0.4,
             "#fde0ef"
            ],
            [
             0.5,
             "#f7f7f7"
            ],
            [
             0.6,
             "#e6f5d0"
            ],
            [
             0.7,
             "#b8e186"
            ],
            [
             0.8,
             "#7fbc41"
            ],
            [
             0.9,
             "#4d9221"
            ],
            [
             1,
             "#276419"
            ]
           ],
           "sequential": [
            [
             0,
             "#0d0887"
            ],
            [
             0.1111111111111111,
             "#46039f"
            ],
            [
             0.2222222222222222,
             "#7201a8"
            ],
            [
             0.3333333333333333,
             "#9c179e"
            ],
            [
             0.4444444444444444,
             "#bd3786"
            ],
            [
             0.5555555555555556,
             "#d8576b"
            ],
            [
             0.6666666666666666,
             "#ed7953"
            ],
            [
             0.7777777777777778,
             "#fb9f3a"
            ],
            [
             0.8888888888888888,
             "#fdca26"
            ],
            [
             1,
             "#f0f921"
            ]
           ],
           "sequentialminus": [
            [
             0,
             "#0d0887"
            ],
            [
             0.1111111111111111,
             "#46039f"
            ],
            [
             0.2222222222222222,
             "#7201a8"
            ],
            [
             0.3333333333333333,
             "#9c179e"
            ],
            [
             0.4444444444444444,
             "#bd3786"
            ],
            [
             0.5555555555555556,
             "#d8576b"
            ],
            [
             0.6666666666666666,
             "#ed7953"
            ],
            [
             0.7777777777777778,
             "#fb9f3a"
            ],
            [
             0.8888888888888888,
             "#fdca26"
            ],
            [
             1,
             "#f0f921"
            ]
           ]
          },
          "colorway": [
           "#636efa",
           "#EF553B",
           "#00cc96",
           "#ab63fa",
           "#FFA15A",
           "#19d3f3",
           "#FF6692",
           "#B6E880",
           "#FF97FF",
           "#FECB52"
          ],
          "font": {
           "color": "#2a3f5f"
          },
          "geo": {
           "bgcolor": "white",
           "lakecolor": "white",
           "landcolor": "#E5ECF6",
           "showlakes": true,
           "showland": true,
           "subunitcolor": "white"
          },
          "hoverlabel": {
           "align": "left"
          },
          "hovermode": "closest",
          "mapbox": {
           "style": "light"
          },
          "paper_bgcolor": "white",
          "plot_bgcolor": "#E5ECF6",
          "polar": {
           "angularaxis": {
            "gridcolor": "white",
            "linecolor": "white",
            "ticks": ""
           },
           "bgcolor": "#E5ECF6",
           "radialaxis": {
            "gridcolor": "white",
            "linecolor": "white",
            "ticks": ""
           }
          },
          "scene": {
           "xaxis": {
            "backgroundcolor": "#E5ECF6",
            "gridcolor": "white",
            "gridwidth": 2,
            "linecolor": "white",
            "showbackground": true,
            "ticks": "",
            "zerolinecolor": "white"
           },
           "yaxis": {
            "backgroundcolor": "#E5ECF6",
            "gridcolor": "white",
            "gridwidth": 2,
            "linecolor": "white",
            "showbackground": true,
            "ticks": "",
            "zerolinecolor": "white"
           },
           "zaxis": {
            "backgroundcolor": "#E5ECF6",
            "gridcolor": "white",
            "gridwidth": 2,
            "linecolor": "white",
            "showbackground": true,
            "ticks": "",
            "zerolinecolor": "white"
           }
          },
          "shapedefaults": {
           "line": {
            "color": "#2a3f5f"
           }
          },
          "ternary": {
           "aaxis": {
            "gridcolor": "white",
            "linecolor": "white",
            "ticks": ""
           },
           "baxis": {
            "gridcolor": "white",
            "linecolor": "white",
            "ticks": ""
           },
           "bgcolor": "#E5ECF6",
           "caxis": {
            "gridcolor": "white",
            "linecolor": "white",
            "ticks": ""
           }
          },
          "title": {
           "x": 0.05
          },
          "xaxis": {
           "automargin": true,
           "gridcolor": "white",
           "linecolor": "white",
           "ticks": "",
           "title": {
            "standoff": 15
           },
           "zerolinecolor": "white",
           "zerolinewidth": 2
          },
          "yaxis": {
           "automargin": true,
           "gridcolor": "white",
           "linecolor": "white",
           "ticks": "",
           "title": {
            "standoff": 15
           },
           "zerolinecolor": "white",
           "zerolinewidth": 2
          }
         }
        },
        "title": {
         "text": "Mean Wavelet Peaks",
         "x": 0.5
        },
        "xaxis": {
         "range": [
          0,
          300
         ],
         "title": {
          "text": "Mean Periods (d)"
         }
        },
        "yaxis": {
         "title": {
          "text": "Wavelength (Angstrom)"
         }
        }
       }
      }
     },
     "metadata": {},
     "output_type": "display_data"
    }
   ],
   "source": [
    "\n",
    "# Define a color scale: suggested: Viridis, inferno, magma, plasma, cividis,spectral\n",
    "color_scale = 'thermal'\n",
    "\n",
    "df=wavelet_mean_df.copy()\n",
    "\n",
    "\n",
    "# Create figure\n",
    "fig = go.Figure()\n",
    "\n",
    "# Add scatter plot\n",
    "fig.add_trace(\n",
    "    go.Scatter(\n",
    "        x=df['mean periods'],\n",
    "        y=df['wavelength'],\n",
    "        mode='markers',\n",
    "        marker=dict(\n",
    "            color=df['temperature'],  # Use normalized 'size' for color\n",
    "            colorscale=color_scale,  # Define color scale\n",
    "            colorbar=dict(title=r'log(T) of the spectrum'),  # Show color scale bar\n",
    "            showscale=True,# show the color bar (color scale)\n",
    "        ),\n",
    "        showlegend=False, # otherwise a legend will appear on the right,\n",
    "        text=df['line name'],  # Hover text shows 'size'\n",
    "                )\n",
    "            )\n",
    "\n",
    "# Update layout with title\n",
    "fig.update_layout(title_text=\"Mean Wavelet Peaks\",title_x=0.5)\n",
    "fig.update_xaxes(title_text=\"Mean Periods (d)\",range=[0,300])\n",
    "fig.update_yaxes(title_text=\"Wavelength (Angstrom)\")\n",
    "\n",
    "\n",
    "# Show figure\n",
    "fig.show()\n",
    "fig.write_html('output\\wavelet_explore\\peak_scatter\\\\by_wavelength\\\\mean.html')\n"
   ]
  },
  {
   "cell_type": "code",
   "execution_count": 5,
   "metadata": {},
   "outputs": [
    {
     "data": {
      "application/vnd.plotly.v1+json": {
       "config": {
        "plotlyServerURL": "https://plot.ly"
       },
       "data": [
        {
         "marker": {
          "color": [
           6.2,
           6.2,
           6.2,
           6.2,
           6.2,
           5.5,
           5.5,
           5.5,
           5.5,
           6.3,
           6.3,
           7.15,
           6.2,
           6.2,
           6.2,
           6.2,
           6.05,
           6.05,
           6.05,
           6.05,
           6.05,
           6.05,
           6.05,
           6.05,
           6.05,
           6.05,
           6.15,
           6.15,
           6.15,
           6.15,
           6.15,
           6.15,
           6.15,
           6.15,
           6.15,
           6.15,
           6.05,
           6.05,
           6.05,
           6.05,
           6.05,
           6.2,
           6.2,
           6.2,
           6.15,
           6.15,
           6.15,
           6.15,
           6.2,
           6.2,
           6.2,
           6.2,
           6.2,
           6.35,
           6.35,
           6.35,
           6.35,
           6.35,
           6.35,
           6.35,
           5.9,
           5.9,
           5.9,
           6.28,
           6.28,
           6.28,
           5.2,
           5.2,
           5.2,
           5.2,
           6.35,
           6.35,
           6.35,
           6.35,
           6.35,
           6.35,
           6.4,
           6.4,
           6.4,
           6.4,
           6.4,
           6.1,
           6.1,
           6.1,
           6.1,
           6.1,
           4.9,
           4.9,
           6.8,
           6.8,
           6.8,
           6.8,
           6.8,
           6.8,
           6.2,
           6.2,
           6.2,
           6.2,
           6.2,
           6.2,
           6.2,
           6,
           6,
           6,
           6,
           6
          ],
          "colorbar": {
           "title": {
            "text": "log(T) of the spectrum"
           }
          },
          "colorscale": [
           [
            0,
            "rgb(3, 35, 51)"
           ],
           [
            0.09090909090909091,
            "rgb(13, 48, 100)"
           ],
           [
            0.18181818181818182,
            "rgb(53, 50, 155)"
           ],
           [
            0.2727272727272727,
            "rgb(93, 62, 153)"
           ],
           [
            0.36363636363636365,
            "rgb(126, 77, 143)"
           ],
           [
            0.45454545454545453,
            "rgb(158, 89, 135)"
           ],
           [
            0.5454545454545454,
            "rgb(193, 100, 121)"
           ],
           [
            0.6363636363636364,
            "rgb(225, 113, 97)"
           ],
           [
            0.7272727272727273,
            "rgb(246, 139, 69)"
           ],
           [
            0.8181818181818182,
            "rgb(251, 173, 60)"
           ],
           [
            0.9090909090909091,
            "rgb(246, 211, 70)"
           ],
           [
            1,
            "rgb(231, 250, 90)"
           ]
          ],
          "showscale": true
         },
         "mode": "markers",
         "showlegend": false,
         "text": [
          "Ni XI 148",
          "Ni XI 148",
          "Ni XI 148",
          "Ni XI 148",
          "Ni XI 148",
          "O VI 150",
          "O VI 150",
          "O VI 150",
          "O VI 150",
          "Ni XII 152",
          "Ni XII 152",
          "Fe XXIII 154",
          "Fe IX 171",
          "Fe IX 171",
          "Fe IX 171",
          "Fe IX 171",
          "Fe IX 174",
          "Fe IX 174",
          "Fe IX 174",
          "Fe IX 174",
          "Fe IX 174",
          "Fe IX 174",
          "Fe X 177",
          "Fe X 177",
          "Fe X 177",
          "Fe X 177",
          "Fe XI 180",
          "Fe XI 180",
          "Fe XI 180",
          "Fe XI 180",
          "Fe XI 182",
          "Fe XI 182",
          "Fe XI 182",
          "Fe XI 182",
          "Fe XI 182",
          "Fe XI 182",
          "Fe X 185",
          "Fe X 185",
          "Fe X 185",
          "Fe X 185",
          "Fe X 185",
          "Fe XII 187",
          "Fe XII 187",
          "Fe XII 187",
          "Fe XI 188",
          "Fe XI 188",
          "Fe XI 188",
          "Fe XI 188",
          "Fe XII 195",
          "Fe XII 195",
          "Fe XII 195",
          "Fe XII 195",
          "Fe XII 195",
          "Fe XIV 211",
          "Fe XIV 211",
          "Fe XIV 211",
          "Fe XIV 211",
          "Fe XIV 211",
          "Fe XIV 211",
          "Fe XIV 211",
          "Fe IX 217",
          "Fe IX 217",
          "Fe IX 217",
          "Fe XIV 265",
          "Fe XIV 265",
          "Fe XIV 265",
          "O IV 272",
          "O IV 272",
          "O IV 272",
          "O IV 272",
          "Fe XIV 274",
          "Fe XIV 274",
          "Fe XIV 274",
          "Fe XIV 274",
          "Fe XIV 274",
          "Fe XIV 274",
          "Fe XV 284",
          "Fe XV 284",
          "Fe XV 284",
          "Fe XV 284",
          "Fe XV 284",
          "Si IX 296",
          "Si IX 296",
          "Si IX 296",
          "Si IX 296",
          "Si IX 296",
          "He II 304",
          "He II 304",
          "Fe XVI 335",
          "Fe XVI 335",
          "Fe XVI 335",
          "Fe XVI 335",
          "Fe XVI 335",
          "Fe XVI 335",
          "Si X 356",
          "Si X 356",
          "Si X 356",
          "Si X 356",
          "Si X 356",
          "Si X 356",
          "Si X 356",
          "Mg IX 368",
          "Mg IX 368",
          "Mg IX 368",
          "Mg IX 368",
          "Mg IX 368"
         ],
         "type": "scatter",
         "x": [
          13.026210611381849,
          28.5429121955423,
          53.19424399529154,
          1590.832974819458,
          862.2720898469842,
          26.806840490411698,
          134.2682339833241,
          249.2515076781942,
          824.8483661284422,
          null,
          231.9194905042568,
          238.73143424250176,
          2.0660872954985074,
          26.431649936195047,
          390.38563878043834,
          828.7960039576686,
          26.030575839981346,
          2.2660872954985076,
          null,
          228.62594189449504,
          382.32342395726334,
          817.4049681449519,
          26.611852491649536,
          263.1162901271579,
          null,
          826.0051400125021,
          27.277732787736475,
          229.8125995608472,
          391.82861432175827,
          804.5573806674317,
          9.7073437369755,
          null,
          29.18938135918841,
          54.09886104398493,
          377.79969633120913,
          810.2590724580815,
          27.313476802253685,
          56.69619977678526,
          null,
          272.1318961104573,
          858.7136332890868,
          27.321093740010365,
          null,
          230.50685148794352,
          26.858679318518515,
          227.51138536892992,
          393.2321141276934,
          797.6209748463251,
          9.972530500212027,
          13.806108091071987,
          27.903575715926312,
          393.5405800904095,
          1335.1681171859195,
          9.583380232092965,
          null,
          27.430567475330456,
          2.666087295498508,
          216.23419422341206,
          437.1525200306969,
          1080.5536921578541,
          27.18833690019572,
          261.8570394375622,
          908.7044413319439,
          27.19560682895702,
          238.8660597273811,
          913.7830712671278,
          39.704553007591095,
          49.95105995475541,
          233.58984614273632,
          693.6861827613143,
          8.95927168149073,
          27.721947615917706,
          null,
          180.7918762792452,
          787.6593482743984,
          1239.104760946111,
          8.757616337484693,
          27.275366314449446,
          215.79520251089033,
          431.01485192590155,
          681.0692745286926,
          29.269640065237443,
          33.80339889763344,
          200.3915554675425,
          563.3072572500806,
          1246.9276842925017,
          276.9678610656661,
          784.0655565846239,
          14.968787745521563,
          31.30158564404409,
          52.276974736792525,
          138.76594325381194,
          210.45335106532633,
          354.29518985619467,
          28.629609476383205,
          69.70983424398435,
          132.68217042336175,
          232.0700918312697,
          null,
          471.01286632322586,
          811.8729470060072,
          14.765770974648328,
          33.688260631161945,
          64.16237476629064,
          387.59611542852406,
          925.6724710080689
         ],
         "y": [
          148.377,
          148.377,
          148.377,
          148.377,
          148.377,
          150.089,
          150.089,
          150.089,
          150.089,
          152.151,
          152.151,
          154.303,
          171.073,
          171.073,
          171.073,
          171.073,
          174.531,
          174.531,
          174.531,
          174.531,
          174.531,
          174.531,
          177.24,
          177.24,
          177.24,
          177.24,
          180.401,
          180.401,
          180.401,
          180.401,
          182.167,
          182.167,
          182.167,
          182.167,
          182.167,
          182.167,
          184.537,
          184.537,
          184.537,
          184.537,
          184.537,
          186.887,
          186.887,
          186.887,
          188.299,
          188.299,
          188.299,
          188.299,
          195.119,
          195.119,
          195.119,
          195.119,
          195.119,
          211.317,
          211.317,
          211.317,
          211.317,
          211.317,
          211.317,
          211.317,
          217.101,
          217.101,
          217.101,
          264.788,
          264.788,
          264.788,
          272.127,
          272.127,
          272.127,
          272.127,
          274.203,
          274.203,
          274.203,
          274.203,
          274.203,
          274.203,
          284.163,
          284.163,
          284.163,
          284.163,
          284.163,
          296.117,
          296.117,
          296.117,
          296.117,
          296.117,
          303.78,
          303.78,
          335.409,
          335.409,
          335.409,
          335.409,
          335.409,
          335.409,
          356.037,
          356.037,
          356.037,
          356.037,
          356.037,
          356.037,
          356.037,
          368.071,
          368.071,
          368.071,
          368.071,
          368.071
         ]
        }
       ],
       "layout": {
        "template": {
         "data": {
          "bar": [
           {
            "error_x": {
             "color": "#2a3f5f"
            },
            "error_y": {
             "color": "#2a3f5f"
            },
            "marker": {
             "line": {
              "color": "#E5ECF6",
              "width": 0.5
             },
             "pattern": {
              "fillmode": "overlay",
              "size": 10,
              "solidity": 0.2
             }
            },
            "type": "bar"
           }
          ],
          "barpolar": [
           {
            "marker": {
             "line": {
              "color": "#E5ECF6",
              "width": 0.5
             },
             "pattern": {
              "fillmode": "overlay",
              "size": 10,
              "solidity": 0.2
             }
            },
            "type": "barpolar"
           }
          ],
          "carpet": [
           {
            "aaxis": {
             "endlinecolor": "#2a3f5f",
             "gridcolor": "white",
             "linecolor": "white",
             "minorgridcolor": "white",
             "startlinecolor": "#2a3f5f"
            },
            "baxis": {
             "endlinecolor": "#2a3f5f",
             "gridcolor": "white",
             "linecolor": "white",
             "minorgridcolor": "white",
             "startlinecolor": "#2a3f5f"
            },
            "type": "carpet"
           }
          ],
          "choropleth": [
           {
            "colorbar": {
             "outlinewidth": 0,
             "ticks": ""
            },
            "type": "choropleth"
           }
          ],
          "contour": [
           {
            "colorbar": {
             "outlinewidth": 0,
             "ticks": ""
            },
            "colorscale": [
             [
              0,
              "#0d0887"
             ],
             [
              0.1111111111111111,
              "#46039f"
             ],
             [
              0.2222222222222222,
              "#7201a8"
             ],
             [
              0.3333333333333333,
              "#9c179e"
             ],
             [
              0.4444444444444444,
              "#bd3786"
             ],
             [
              0.5555555555555556,
              "#d8576b"
             ],
             [
              0.6666666666666666,
              "#ed7953"
             ],
             [
              0.7777777777777778,
              "#fb9f3a"
             ],
             [
              0.8888888888888888,
              "#fdca26"
             ],
             [
              1,
              "#f0f921"
             ]
            ],
            "type": "contour"
           }
          ],
          "contourcarpet": [
           {
            "colorbar": {
             "outlinewidth": 0,
             "ticks": ""
            },
            "type": "contourcarpet"
           }
          ],
          "heatmap": [
           {
            "colorbar": {
             "outlinewidth": 0,
             "ticks": ""
            },
            "colorscale": [
             [
              0,
              "#0d0887"
             ],
             [
              0.1111111111111111,
              "#46039f"
             ],
             [
              0.2222222222222222,
              "#7201a8"
             ],
             [
              0.3333333333333333,
              "#9c179e"
             ],
             [
              0.4444444444444444,
              "#bd3786"
             ],
             [
              0.5555555555555556,
              "#d8576b"
             ],
             [
              0.6666666666666666,
              "#ed7953"
             ],
             [
              0.7777777777777778,
              "#fb9f3a"
             ],
             [
              0.8888888888888888,
              "#fdca26"
             ],
             [
              1,
              "#f0f921"
             ]
            ],
            "type": "heatmap"
           }
          ],
          "heatmapgl": [
           {
            "colorbar": {
             "outlinewidth": 0,
             "ticks": ""
            },
            "colorscale": [
             [
              0,
              "#0d0887"
             ],
             [
              0.1111111111111111,
              "#46039f"
             ],
             [
              0.2222222222222222,
              "#7201a8"
             ],
             [
              0.3333333333333333,
              "#9c179e"
             ],
             [
              0.4444444444444444,
              "#bd3786"
             ],
             [
              0.5555555555555556,
              "#d8576b"
             ],
             [
              0.6666666666666666,
              "#ed7953"
             ],
             [
              0.7777777777777778,
              "#fb9f3a"
             ],
             [
              0.8888888888888888,
              "#fdca26"
             ],
             [
              1,
              "#f0f921"
             ]
            ],
            "type": "heatmapgl"
           }
          ],
          "histogram": [
           {
            "marker": {
             "pattern": {
              "fillmode": "overlay",
              "size": 10,
              "solidity": 0.2
             }
            },
            "type": "histogram"
           }
          ],
          "histogram2d": [
           {
            "colorbar": {
             "outlinewidth": 0,
             "ticks": ""
            },
            "colorscale": [
             [
              0,
              "#0d0887"
             ],
             [
              0.1111111111111111,
              "#46039f"
             ],
             [
              0.2222222222222222,
              "#7201a8"
             ],
             [
              0.3333333333333333,
              "#9c179e"
             ],
             [
              0.4444444444444444,
              "#bd3786"
             ],
             [
              0.5555555555555556,
              "#d8576b"
             ],
             [
              0.6666666666666666,
              "#ed7953"
             ],
             [
              0.7777777777777778,
              "#fb9f3a"
             ],
             [
              0.8888888888888888,
              "#fdca26"
             ],
             [
              1,
              "#f0f921"
             ]
            ],
            "type": "histogram2d"
           }
          ],
          "histogram2dcontour": [
           {
            "colorbar": {
             "outlinewidth": 0,
             "ticks": ""
            },
            "colorscale": [
             [
              0,
              "#0d0887"
             ],
             [
              0.1111111111111111,
              "#46039f"
             ],
             [
              0.2222222222222222,
              "#7201a8"
             ],
             [
              0.3333333333333333,
              "#9c179e"
             ],
             [
              0.4444444444444444,
              "#bd3786"
             ],
             [
              0.5555555555555556,
              "#d8576b"
             ],
             [
              0.6666666666666666,
              "#ed7953"
             ],
             [
              0.7777777777777778,
              "#fb9f3a"
             ],
             [
              0.8888888888888888,
              "#fdca26"
             ],
             [
              1,
              "#f0f921"
             ]
            ],
            "type": "histogram2dcontour"
           }
          ],
          "mesh3d": [
           {
            "colorbar": {
             "outlinewidth": 0,
             "ticks": ""
            },
            "type": "mesh3d"
           }
          ],
          "parcoords": [
           {
            "line": {
             "colorbar": {
              "outlinewidth": 0,
              "ticks": ""
             }
            },
            "type": "parcoords"
           }
          ],
          "pie": [
           {
            "automargin": true,
            "type": "pie"
           }
          ],
          "scatter": [
           {
            "fillpattern": {
             "fillmode": "overlay",
             "size": 10,
             "solidity": 0.2
            },
            "type": "scatter"
           }
          ],
          "scatter3d": [
           {
            "line": {
             "colorbar": {
              "outlinewidth": 0,
              "ticks": ""
             }
            },
            "marker": {
             "colorbar": {
              "outlinewidth": 0,
              "ticks": ""
             }
            },
            "type": "scatter3d"
           }
          ],
          "scattercarpet": [
           {
            "marker": {
             "colorbar": {
              "outlinewidth": 0,
              "ticks": ""
             }
            },
            "type": "scattercarpet"
           }
          ],
          "scattergeo": [
           {
            "marker": {
             "colorbar": {
              "outlinewidth": 0,
              "ticks": ""
             }
            },
            "type": "scattergeo"
           }
          ],
          "scattergl": [
           {
            "marker": {
             "colorbar": {
              "outlinewidth": 0,
              "ticks": ""
             }
            },
            "type": "scattergl"
           }
          ],
          "scattermapbox": [
           {
            "marker": {
             "colorbar": {
              "outlinewidth": 0,
              "ticks": ""
             }
            },
            "type": "scattermapbox"
           }
          ],
          "scatterpolar": [
           {
            "marker": {
             "colorbar": {
              "outlinewidth": 0,
              "ticks": ""
             }
            },
            "type": "scatterpolar"
           }
          ],
          "scatterpolargl": [
           {
            "marker": {
             "colorbar": {
              "outlinewidth": 0,
              "ticks": ""
             }
            },
            "type": "scatterpolargl"
           }
          ],
          "scatterternary": [
           {
            "marker": {
             "colorbar": {
              "outlinewidth": 0,
              "ticks": ""
             }
            },
            "type": "scatterternary"
           }
          ],
          "surface": [
           {
            "colorbar": {
             "outlinewidth": 0,
             "ticks": ""
            },
            "colorscale": [
             [
              0,
              "#0d0887"
             ],
             [
              0.1111111111111111,
              "#46039f"
             ],
             [
              0.2222222222222222,
              "#7201a8"
             ],
             [
              0.3333333333333333,
              "#9c179e"
             ],
             [
              0.4444444444444444,
              "#bd3786"
             ],
             [
              0.5555555555555556,
              "#d8576b"
             ],
             [
              0.6666666666666666,
              "#ed7953"
             ],
             [
              0.7777777777777778,
              "#fb9f3a"
             ],
             [
              0.8888888888888888,
              "#fdca26"
             ],
             [
              1,
              "#f0f921"
             ]
            ],
            "type": "surface"
           }
          ],
          "table": [
           {
            "cells": {
             "fill": {
              "color": "#EBF0F8"
             },
             "line": {
              "color": "white"
             }
            },
            "header": {
             "fill": {
              "color": "#C8D4E3"
             },
             "line": {
              "color": "white"
             }
            },
            "type": "table"
           }
          ]
         },
         "layout": {
          "annotationdefaults": {
           "arrowcolor": "#2a3f5f",
           "arrowhead": 0,
           "arrowwidth": 1
          },
          "autotypenumbers": "strict",
          "coloraxis": {
           "colorbar": {
            "outlinewidth": 0,
            "ticks": ""
           }
          },
          "colorscale": {
           "diverging": [
            [
             0,
             "#8e0152"
            ],
            [
             0.1,
             "#c51b7d"
            ],
            [
             0.2,
             "#de77ae"
            ],
            [
             0.3,
             "#f1b6da"
            ],
            [
             0.4,
             "#fde0ef"
            ],
            [
             0.5,
             "#f7f7f7"
            ],
            [
             0.6,
             "#e6f5d0"
            ],
            [
             0.7,
             "#b8e186"
            ],
            [
             0.8,
             "#7fbc41"
            ],
            [
             0.9,
             "#4d9221"
            ],
            [
             1,
             "#276419"
            ]
           ],
           "sequential": [
            [
             0,
             "#0d0887"
            ],
            [
             0.1111111111111111,
             "#46039f"
            ],
            [
             0.2222222222222222,
             "#7201a8"
            ],
            [
             0.3333333333333333,
             "#9c179e"
            ],
            [
             0.4444444444444444,
             "#bd3786"
            ],
            [
             0.5555555555555556,
             "#d8576b"
            ],
            [
             0.6666666666666666,
             "#ed7953"
            ],
            [
             0.7777777777777778,
             "#fb9f3a"
            ],
            [
             0.8888888888888888,
             "#fdca26"
            ],
            [
             1,
             "#f0f921"
            ]
           ],
           "sequentialminus": [
            [
             0,
             "#0d0887"
            ],
            [
             0.1111111111111111,
             "#46039f"
            ],
            [
             0.2222222222222222,
             "#7201a8"
            ],
            [
             0.3333333333333333,
             "#9c179e"
            ],
            [
             0.4444444444444444,
             "#bd3786"
            ],
            [
             0.5555555555555556,
             "#d8576b"
            ],
            [
             0.6666666666666666,
             "#ed7953"
            ],
            [
             0.7777777777777778,
             "#fb9f3a"
            ],
            [
             0.8888888888888888,
             "#fdca26"
            ],
            [
             1,
             "#f0f921"
            ]
           ]
          },
          "colorway": [
           "#636efa",
           "#EF553B",
           "#00cc96",
           "#ab63fa",
           "#FFA15A",
           "#19d3f3",
           "#FF6692",
           "#B6E880",
           "#FF97FF",
           "#FECB52"
          ],
          "font": {
           "color": "#2a3f5f"
          },
          "geo": {
           "bgcolor": "white",
           "lakecolor": "white",
           "landcolor": "#E5ECF6",
           "showlakes": true,
           "showland": true,
           "subunitcolor": "white"
          },
          "hoverlabel": {
           "align": "left"
          },
          "hovermode": "closest",
          "mapbox": {
           "style": "light"
          },
          "paper_bgcolor": "white",
          "plot_bgcolor": "#E5ECF6",
          "polar": {
           "angularaxis": {
            "gridcolor": "white",
            "linecolor": "white",
            "ticks": ""
           },
           "bgcolor": "#E5ECF6",
           "radialaxis": {
            "gridcolor": "white",
            "linecolor": "white",
            "ticks": ""
           }
          },
          "scene": {
           "xaxis": {
            "backgroundcolor": "#E5ECF6",
            "gridcolor": "white",
            "gridwidth": 2,
            "linecolor": "white",
            "showbackground": true,
            "ticks": "",
            "zerolinecolor": "white"
           },
           "yaxis": {
            "backgroundcolor": "#E5ECF6",
            "gridcolor": "white",
            "gridwidth": 2,
            "linecolor": "white",
            "showbackground": true,
            "ticks": "",
            "zerolinecolor": "white"
           },
           "zaxis": {
            "backgroundcolor": "#E5ECF6",
            "gridcolor": "white",
            "gridwidth": 2,
            "linecolor": "white",
            "showbackground": true,
            "ticks": "",
            "zerolinecolor": "white"
           }
          },
          "shapedefaults": {
           "line": {
            "color": "#2a3f5f"
           }
          },
          "ternary": {
           "aaxis": {
            "gridcolor": "white",
            "linecolor": "white",
            "ticks": ""
           },
           "baxis": {
            "gridcolor": "white",
            "linecolor": "white",
            "ticks": ""
           },
           "bgcolor": "#E5ECF6",
           "caxis": {
            "gridcolor": "white",
            "linecolor": "white",
            "ticks": ""
           }
          },
          "title": {
           "x": 0.05
          },
          "xaxis": {
           "automargin": true,
           "gridcolor": "white",
           "linecolor": "white",
           "ticks": "",
           "title": {
            "standoff": 15
           },
           "zerolinecolor": "white",
           "zerolinewidth": 2
          },
          "yaxis": {
           "automargin": true,
           "gridcolor": "white",
           "linecolor": "white",
           "ticks": "",
           "title": {
            "standoff": 15
           },
           "zerolinecolor": "white",
           "zerolinewidth": 2
          }
         }
        },
        "title": {
         "text": "Stddev Wavelet Peaks",
         "x": 0.5
        },
        "xaxis": {
         "range": [
          0,
          300
         ],
         "title": {
          "text": "Stddev Periods (d)"
         }
        },
        "yaxis": {
         "title": {
          "text": "Wavelength (Angstrom)"
         }
        }
       }
      }
     },
     "metadata": {},
     "output_type": "display_data"
    }
   ],
   "source": [
    "\n",
    "# Define a color scale: suggested: Viridis, inferno, magma, plasma, cividis,spectral\n",
    "color_scale = 'thermal'\n",
    "\n",
    "df=wavelet_stddev_df.copy()\n",
    "\n",
    "\n",
    "# Create figure\n",
    "fig = go.Figure()\n",
    "\n",
    "# Add scatter plot\n",
    "fig.add_trace(\n",
    "    go.Scatter(\n",
    "        x=df['stddev periods'],\n",
    "        y=df['wavelength'],\n",
    "        mode='markers',\n",
    "        marker=dict(\n",
    "            color=df['temperature'],  # Use normalized 'size' for color\n",
    "            colorscale=color_scale,  # Define color scale\n",
    "            colorbar=dict(title=r'log(T) of the spectrum'),  # Show color scale bar\n",
    "            showscale=True,# show the color bar (color scale)\n",
    "        ),\n",
    "        showlegend=False, # otherwise a legend will appear on the right,\n",
    "        text=df['line name'],  # Hover text shows 'size'\n",
    "                )\n",
    "            )\n",
    "\n",
    "# Update layout with title\n",
    "fig.update_layout(title_text=\"Stddev Wavelet Peaks\",title_x=0.5)\n",
    "fig.update_xaxes(title_text=\"Stddev Periods (d)\",range=[0,300])\n",
    "fig.update_yaxes(title_text=\"Wavelength (Angstrom)\")\n",
    "\n",
    "\n",
    "# Show figure\n",
    "fig.show()\n",
    "fig.write_html('output\\wavelet_explore\\peak_scatter\\\\by_wavelength\\\\stddev.html')\n"
   ]
  },
  {
   "cell_type": "markdown",
   "metadata": {},
   "source": [
    "## by_temperature"
   ]
  },
  {
   "cell_type": "code",
   "execution_count": 6,
   "metadata": {},
   "outputs": [
    {
     "data": {
      "application/vnd.plotly.v1+json": {
       "config": {
        "plotlyServerURL": "https://plot.ly"
       },
       "data": [
        {
         "marker": {
          "color": [
           6.2,
           6.2,
           6.2,
           5.5,
           5.5,
           5.5,
           6.3,
           6.3,
           6.3,
           7.15,
           7.15,
           7.15,
           6.2,
           6.2,
           6.2,
           6.2,
           6.2,
           6.05,
           6.05,
           6.05,
           6.05,
           6.05,
           6.05,
           6.05,
           6.05,
           6.05,
           6.05,
           6.15,
           6.15,
           6.15,
           6.15,
           6.15,
           6.15,
           6.05,
           6.05,
           6.05,
           6.05,
           6.05,
           6.2,
           6.2,
           6.2,
           6.15,
           6.15,
           6.15,
           6.2,
           6.2,
           6.2,
           6.35,
           6.35,
           6.35,
           5.9,
           5.9,
           5.9,
           5.9,
           6.28,
           6.28,
           6.28,
           5.2,
           5.2,
           5.2,
           6.35,
           6.35,
           6.35,
           6.4,
           6.4,
           6.4,
           6.4,
           6.1,
           6.1,
           6.1,
           6.1,
           4.9,
           4.9,
           4.9,
           4.9,
           4.9,
           6.8,
           6.8,
           6.8,
           6.8,
           6.2,
           6.2,
           6.2,
           6,
           6,
           6,
           6
          ],
          "colorbar": {
           "title": {
            "text": "log(T) of the spectrum"
           }
          },
          "colorscale": [
           [
            0,
            "rgb(3, 35, 51)"
           ],
           [
            0.09090909090909091,
            "rgb(13, 48, 100)"
           ],
           [
            0.18181818181818182,
            "rgb(53, 50, 155)"
           ],
           [
            0.2727272727272727,
            "rgb(93, 62, 153)"
           ],
           [
            0.36363636363636365,
            "rgb(126, 77, 143)"
           ],
           [
            0.45454545454545453,
            "rgb(158, 89, 135)"
           ],
           [
            0.5454545454545454,
            "rgb(193, 100, 121)"
           ],
           [
            0.6363636363636364,
            "rgb(225, 113, 97)"
           ],
           [
            0.7272727272727273,
            "rgb(246, 139, 69)"
           ],
           [
            0.8181818181818182,
            "rgb(251, 173, 60)"
           ],
           [
            0.9090909090909091,
            "rgb(246, 211, 70)"
           ],
           [
            1,
            "rgb(231, 250, 90)"
           ]
          ],
          "showscale": true
         },
         "mode": "markers",
         "showlegend": false,
         "text": [
          "Ni XI 148",
          "Ni XI 148",
          "Ni XI 148",
          "O VI 150",
          "O VI 150",
          "O VI 150",
          "Ni XII 152",
          "Ni XII 152",
          "Ni XII 152",
          "Fe XXIII 154",
          "Fe XXIII 154",
          "Fe XXIII 154",
          "Fe IX 171",
          "Fe IX 171",
          "Fe IX 171",
          "Fe IX 171",
          "Fe IX 171",
          "Fe IX 174",
          "Fe IX 174",
          "Fe IX 174",
          "Fe IX 174",
          "Fe IX 174",
          "Fe X 177",
          "Fe X 177",
          "Fe X 177",
          "Fe X 177",
          "Fe X 177",
          "Fe XI 180",
          "Fe XI 180",
          "Fe XI 180",
          "Fe XI 182",
          "Fe XI 182",
          "Fe XI 182",
          "Fe X 185",
          "Fe X 185",
          "Fe X 185",
          "Fe X 185",
          "Fe X 185",
          "Fe XII 187",
          "Fe XII 187",
          "Fe XII 187",
          "Fe XI 188",
          "Fe XI 188",
          "Fe XI 188",
          "Fe XII 195",
          "Fe XII 195",
          "Fe XII 195",
          "Fe XIV 211",
          "Fe XIV 211",
          "Fe XIV 211",
          "Fe IX 217",
          "Fe IX 217",
          "Fe IX 217",
          "Fe IX 217",
          "Fe XIV 265",
          "Fe XIV 265",
          "Fe XIV 265",
          "O IV 272",
          "O IV 272",
          "O IV 272",
          "Fe XIV 274",
          "Fe XIV 274",
          "Fe XIV 274",
          "Fe XV 284",
          "Fe XV 284",
          "Fe XV 284",
          "Fe XV 284",
          "Si IX 296",
          "Si IX 296",
          "Si IX 296",
          "Si IX 296",
          "He II 304",
          "He II 304",
          "He II 304",
          "He II 304",
          "He II 304",
          "Fe XVI 335",
          "Fe XVI 335",
          "Fe XVI 335",
          "Fe XVI 335",
          "Si X 356",
          "Si X 356",
          "Si X 356",
          "Mg IX 368",
          "Mg IX 368",
          "Mg IX 368",
          "Mg IX 368"
         ],
         "type": "scatter",
         "x": [
          null,
          239.23269615331523,
          834.9916623932752,
          26.701602015238816,
          259.2727393339304,
          853.3345791336595,
          27.117571524498473,
          255.21324632341287,
          841.8270685481534,
          27.110493792061085,
          255.86209714354735,
          840.534088844745,
          26.70760787502137,
          73.73206066062396,
          236.8227683704233,
          429.1650394482895,
          880.2999589011434,
          26.543304166810913,
          75.38422483832991,
          235.1043381305329,
          null,
          846.9276425494023,
          26.395656081628637,
          70.73180900950723,
          237.56925239967345,
          null,
          839.7080021908797,
          26.869025381664276,
          228.11010446186592,
          853.7747869565912,
          26.723429032597693,
          240.73008762828442,
          831.1129369416838,
          26.75189637953738,
          67.46226334135979,
          243.22656699314814,
          null,
          839.2184458109015,
          26.888038224314712,
          248.8341482966214,
          838.4136972944857,
          26.81402784919985,
          229.76605329043414,
          851.3416731059998,
          27.08098206616507,
          229.68473980869518,
          861.9347880993612,
          27.048151537678223,
          274.91812296030935,
          850.9799718221553,
          26.959298605922676,
          66.27274696953252,
          245.9912242120309,
          843.9168424820533,
          27.031798368605976,
          260.59774614911083,
          845.5421223369519,
          26.977966176050305,
          229.64981061919963,
          851.5521393531819,
          27.082412943231496,
          273.4989322120722,
          851.263195293362,
          27.006442642589466,
          119.65588435936064,
          259.94777611238834,
          916.8429724633778,
          26.29717732187493,
          228.06119303451953,
          null,
          874.207333346567,
          26.81214690845398,
          null,
          242.87699583645156,
          473.1730861075193,
          937.0012374239421,
          27.871586795219258,
          54.835641815721274,
          273.76084638907315,
          826.4765895739381,
          27.092233278352577,
          275.01110901435106,
          825.5919725178991,
          31.71905828983125,
          54.54658245502712,
          262.2548006786459,
          819.751208902667
         ],
         "y": [
          6.2,
          6.2,
          6.2,
          5.5,
          5.5,
          5.5,
          6.3,
          6.3,
          6.3,
          7.15,
          7.15,
          7.15,
          6.2,
          6.2,
          6.2,
          6.2,
          6.2,
          6.05,
          6.05,
          6.05,
          6.05,
          6.05,
          6.05,
          6.05,
          6.05,
          6.05,
          6.05,
          6.15,
          6.15,
          6.15,
          6.15,
          6.15,
          6.15,
          6.05,
          6.05,
          6.05,
          6.05,
          6.05,
          6.2,
          6.2,
          6.2,
          6.15,
          6.15,
          6.15,
          6.2,
          6.2,
          6.2,
          6.35,
          6.35,
          6.35,
          5.9,
          5.9,
          5.9,
          5.9,
          6.28,
          6.28,
          6.28,
          5.2,
          5.2,
          5.2,
          6.35,
          6.35,
          6.35,
          6.4,
          6.4,
          6.4,
          6.4,
          6.1,
          6.1,
          6.1,
          6.1,
          4.9,
          4.9,
          4.9,
          4.9,
          4.9,
          6.8,
          6.8,
          6.8,
          6.8,
          6.2,
          6.2,
          6.2,
          6,
          6,
          6,
          6
         ]
        }
       ],
       "layout": {
        "template": {
         "data": {
          "bar": [
           {
            "error_x": {
             "color": "#2a3f5f"
            },
            "error_y": {
             "color": "#2a3f5f"
            },
            "marker": {
             "line": {
              "color": "#E5ECF6",
              "width": 0.5
             },
             "pattern": {
              "fillmode": "overlay",
              "size": 10,
              "solidity": 0.2
             }
            },
            "type": "bar"
           }
          ],
          "barpolar": [
           {
            "marker": {
             "line": {
              "color": "#E5ECF6",
              "width": 0.5
             },
             "pattern": {
              "fillmode": "overlay",
              "size": 10,
              "solidity": 0.2
             }
            },
            "type": "barpolar"
           }
          ],
          "carpet": [
           {
            "aaxis": {
             "endlinecolor": "#2a3f5f",
             "gridcolor": "white",
             "linecolor": "white",
             "minorgridcolor": "white",
             "startlinecolor": "#2a3f5f"
            },
            "baxis": {
             "endlinecolor": "#2a3f5f",
             "gridcolor": "white",
             "linecolor": "white",
             "minorgridcolor": "white",
             "startlinecolor": "#2a3f5f"
            },
            "type": "carpet"
           }
          ],
          "choropleth": [
           {
            "colorbar": {
             "outlinewidth": 0,
             "ticks": ""
            },
            "type": "choropleth"
           }
          ],
          "contour": [
           {
            "colorbar": {
             "outlinewidth": 0,
             "ticks": ""
            },
            "colorscale": [
             [
              0,
              "#0d0887"
             ],
             [
              0.1111111111111111,
              "#46039f"
             ],
             [
              0.2222222222222222,
              "#7201a8"
             ],
             [
              0.3333333333333333,
              "#9c179e"
             ],
             [
              0.4444444444444444,
              "#bd3786"
             ],
             [
              0.5555555555555556,
              "#d8576b"
             ],
             [
              0.6666666666666666,
              "#ed7953"
             ],
             [
              0.7777777777777778,
              "#fb9f3a"
             ],
             [
              0.8888888888888888,
              "#fdca26"
             ],
             [
              1,
              "#f0f921"
             ]
            ],
            "type": "contour"
           }
          ],
          "contourcarpet": [
           {
            "colorbar": {
             "outlinewidth": 0,
             "ticks": ""
            },
            "type": "contourcarpet"
           }
          ],
          "heatmap": [
           {
            "colorbar": {
             "outlinewidth": 0,
             "ticks": ""
            },
            "colorscale": [
             [
              0,
              "#0d0887"
             ],
             [
              0.1111111111111111,
              "#46039f"
             ],
             [
              0.2222222222222222,
              "#7201a8"
             ],
             [
              0.3333333333333333,
              "#9c179e"
             ],
             [
              0.4444444444444444,
              "#bd3786"
             ],
             [
              0.5555555555555556,
              "#d8576b"
             ],
             [
              0.6666666666666666,
              "#ed7953"
             ],
             [
              0.7777777777777778,
              "#fb9f3a"
             ],
             [
              0.8888888888888888,
              "#fdca26"
             ],
             [
              1,
              "#f0f921"
             ]
            ],
            "type": "heatmap"
           }
          ],
          "heatmapgl": [
           {
            "colorbar": {
             "outlinewidth": 0,
             "ticks": ""
            },
            "colorscale": [
             [
              0,
              "#0d0887"
             ],
             [
              0.1111111111111111,
              "#46039f"
             ],
             [
              0.2222222222222222,
              "#7201a8"
             ],
             [
              0.3333333333333333,
              "#9c179e"
             ],
             [
              0.4444444444444444,
              "#bd3786"
             ],
             [
              0.5555555555555556,
              "#d8576b"
             ],
             [
              0.6666666666666666,
              "#ed7953"
             ],
             [
              0.7777777777777778,
              "#fb9f3a"
             ],
             [
              0.8888888888888888,
              "#fdca26"
             ],
             [
              1,
              "#f0f921"
             ]
            ],
            "type": "heatmapgl"
           }
          ],
          "histogram": [
           {
            "marker": {
             "pattern": {
              "fillmode": "overlay",
              "size": 10,
              "solidity": 0.2
             }
            },
            "type": "histogram"
           }
          ],
          "histogram2d": [
           {
            "colorbar": {
             "outlinewidth": 0,
             "ticks": ""
            },
            "colorscale": [
             [
              0,
              "#0d0887"
             ],
             [
              0.1111111111111111,
              "#46039f"
             ],
             [
              0.2222222222222222,
              "#7201a8"
             ],
             [
              0.3333333333333333,
              "#9c179e"
             ],
             [
              0.4444444444444444,
              "#bd3786"
             ],
             [
              0.5555555555555556,
              "#d8576b"
             ],
             [
              0.6666666666666666,
              "#ed7953"
             ],
             [
              0.7777777777777778,
              "#fb9f3a"
             ],
             [
              0.8888888888888888,
              "#fdca26"
             ],
             [
              1,
              "#f0f921"
             ]
            ],
            "type": "histogram2d"
           }
          ],
          "histogram2dcontour": [
           {
            "colorbar": {
             "outlinewidth": 0,
             "ticks": ""
            },
            "colorscale": [
             [
              0,
              "#0d0887"
             ],
             [
              0.1111111111111111,
              "#46039f"
             ],
             [
              0.2222222222222222,
              "#7201a8"
             ],
             [
              0.3333333333333333,
              "#9c179e"
             ],
             [
              0.4444444444444444,
              "#bd3786"
             ],
             [
              0.5555555555555556,
              "#d8576b"
             ],
             [
              0.6666666666666666,
              "#ed7953"
             ],
             [
              0.7777777777777778,
              "#fb9f3a"
             ],
             [
              0.8888888888888888,
              "#fdca26"
             ],
             [
              1,
              "#f0f921"
             ]
            ],
            "type": "histogram2dcontour"
           }
          ],
          "mesh3d": [
           {
            "colorbar": {
             "outlinewidth": 0,
             "ticks": ""
            },
            "type": "mesh3d"
           }
          ],
          "parcoords": [
           {
            "line": {
             "colorbar": {
              "outlinewidth": 0,
              "ticks": ""
             }
            },
            "type": "parcoords"
           }
          ],
          "pie": [
           {
            "automargin": true,
            "type": "pie"
           }
          ],
          "scatter": [
           {
            "fillpattern": {
             "fillmode": "overlay",
             "size": 10,
             "solidity": 0.2
            },
            "type": "scatter"
           }
          ],
          "scatter3d": [
           {
            "line": {
             "colorbar": {
              "outlinewidth": 0,
              "ticks": ""
             }
            },
            "marker": {
             "colorbar": {
              "outlinewidth": 0,
              "ticks": ""
             }
            },
            "type": "scatter3d"
           }
          ],
          "scattercarpet": [
           {
            "marker": {
             "colorbar": {
              "outlinewidth": 0,
              "ticks": ""
             }
            },
            "type": "scattercarpet"
           }
          ],
          "scattergeo": [
           {
            "marker": {
             "colorbar": {
              "outlinewidth": 0,
              "ticks": ""
             }
            },
            "type": "scattergeo"
           }
          ],
          "scattergl": [
           {
            "marker": {
             "colorbar": {
              "outlinewidth": 0,
              "ticks": ""
             }
            },
            "type": "scattergl"
           }
          ],
          "scattermapbox": [
           {
            "marker": {
             "colorbar": {
              "outlinewidth": 0,
              "ticks": ""
             }
            },
            "type": "scattermapbox"
           }
          ],
          "scatterpolar": [
           {
            "marker": {
             "colorbar": {
              "outlinewidth": 0,
              "ticks": ""
             }
            },
            "type": "scatterpolar"
           }
          ],
          "scatterpolargl": [
           {
            "marker": {
             "colorbar": {
              "outlinewidth": 0,
              "ticks": ""
             }
            },
            "type": "scatterpolargl"
           }
          ],
          "scatterternary": [
           {
            "marker": {
             "colorbar": {
              "outlinewidth": 0,
              "ticks": ""
             }
            },
            "type": "scatterternary"
           }
          ],
          "surface": [
           {
            "colorbar": {
             "outlinewidth": 0,
             "ticks": ""
            },
            "colorscale": [
             [
              0,
              "#0d0887"
             ],
             [
              0.1111111111111111,
              "#46039f"
             ],
             [
              0.2222222222222222,
              "#7201a8"
             ],
             [
              0.3333333333333333,
              "#9c179e"
             ],
             [
              0.4444444444444444,
              "#bd3786"
             ],
             [
              0.5555555555555556,
              "#d8576b"
             ],
             [
              0.6666666666666666,
              "#ed7953"
             ],
             [
              0.7777777777777778,
              "#fb9f3a"
             ],
             [
              0.8888888888888888,
              "#fdca26"
             ],
             [
              1,
              "#f0f921"
             ]
            ],
            "type": "surface"
           }
          ],
          "table": [
           {
            "cells": {
             "fill": {
              "color": "#EBF0F8"
             },
             "line": {
              "color": "white"
             }
            },
            "header": {
             "fill": {
              "color": "#C8D4E3"
             },
             "line": {
              "color": "white"
             }
            },
            "type": "table"
           }
          ]
         },
         "layout": {
          "annotationdefaults": {
           "arrowcolor": "#2a3f5f",
           "arrowhead": 0,
           "arrowwidth": 1
          },
          "autotypenumbers": "strict",
          "coloraxis": {
           "colorbar": {
            "outlinewidth": 0,
            "ticks": ""
           }
          },
          "colorscale": {
           "diverging": [
            [
             0,
             "#8e0152"
            ],
            [
             0.1,
             "#c51b7d"
            ],
            [
             0.2,
             "#de77ae"
            ],
            [
             0.3,
             "#f1b6da"
            ],
            [
             0.4,
             "#fde0ef"
            ],
            [
             0.5,
             "#f7f7f7"
            ],
            [
             0.6,
             "#e6f5d0"
            ],
            [
             0.7,
             "#b8e186"
            ],
            [
             0.8,
             "#7fbc41"
            ],
            [
             0.9,
             "#4d9221"
            ],
            [
             1,
             "#276419"
            ]
           ],
           "sequential": [
            [
             0,
             "#0d0887"
            ],
            [
             0.1111111111111111,
             "#46039f"
            ],
            [
             0.2222222222222222,
             "#7201a8"
            ],
            [
             0.3333333333333333,
             "#9c179e"
            ],
            [
             0.4444444444444444,
             "#bd3786"
            ],
            [
             0.5555555555555556,
             "#d8576b"
            ],
            [
             0.6666666666666666,
             "#ed7953"
            ],
            [
             0.7777777777777778,
             "#fb9f3a"
            ],
            [
             0.8888888888888888,
             "#fdca26"
            ],
            [
             1,
             "#f0f921"
            ]
           ],
           "sequentialminus": [
            [
             0,
             "#0d0887"
            ],
            [
             0.1111111111111111,
             "#46039f"
            ],
            [
             0.2222222222222222,
             "#7201a8"
            ],
            [
             0.3333333333333333,
             "#9c179e"
            ],
            [
             0.4444444444444444,
             "#bd3786"
            ],
            [
             0.5555555555555556,
             "#d8576b"
            ],
            [
             0.6666666666666666,
             "#ed7953"
            ],
            [
             0.7777777777777778,
             "#fb9f3a"
            ],
            [
             0.8888888888888888,
             "#fdca26"
            ],
            [
             1,
             "#f0f921"
            ]
           ]
          },
          "colorway": [
           "#636efa",
           "#EF553B",
           "#00cc96",
           "#ab63fa",
           "#FFA15A",
           "#19d3f3",
           "#FF6692",
           "#B6E880",
           "#FF97FF",
           "#FECB52"
          ],
          "font": {
           "color": "#2a3f5f"
          },
          "geo": {
           "bgcolor": "white",
           "lakecolor": "white",
           "landcolor": "#E5ECF6",
           "showlakes": true,
           "showland": true,
           "subunitcolor": "white"
          },
          "hoverlabel": {
           "align": "left"
          },
          "hovermode": "closest",
          "mapbox": {
           "style": "light"
          },
          "paper_bgcolor": "white",
          "plot_bgcolor": "#E5ECF6",
          "polar": {
           "angularaxis": {
            "gridcolor": "white",
            "linecolor": "white",
            "ticks": ""
           },
           "bgcolor": "#E5ECF6",
           "radialaxis": {
            "gridcolor": "white",
            "linecolor": "white",
            "ticks": ""
           }
          },
          "scene": {
           "xaxis": {
            "backgroundcolor": "#E5ECF6",
            "gridcolor": "white",
            "gridwidth": 2,
            "linecolor": "white",
            "showbackground": true,
            "ticks": "",
            "zerolinecolor": "white"
           },
           "yaxis": {
            "backgroundcolor": "#E5ECF6",
            "gridcolor": "white",
            "gridwidth": 2,
            "linecolor": "white",
            "showbackground": true,
            "ticks": "",
            "zerolinecolor": "white"
           },
           "zaxis": {
            "backgroundcolor": "#E5ECF6",
            "gridcolor": "white",
            "gridwidth": 2,
            "linecolor": "white",
            "showbackground": true,
            "ticks": "",
            "zerolinecolor": "white"
           }
          },
          "shapedefaults": {
           "line": {
            "color": "#2a3f5f"
           }
          },
          "ternary": {
           "aaxis": {
            "gridcolor": "white",
            "linecolor": "white",
            "ticks": ""
           },
           "baxis": {
            "gridcolor": "white",
            "linecolor": "white",
            "ticks": ""
           },
           "bgcolor": "#E5ECF6",
           "caxis": {
            "gridcolor": "white",
            "linecolor": "white",
            "ticks": ""
           }
          },
          "title": {
           "x": 0.05
          },
          "xaxis": {
           "automargin": true,
           "gridcolor": "white",
           "linecolor": "white",
           "ticks": "",
           "title": {
            "standoff": 15
           },
           "zerolinecolor": "white",
           "zerolinewidth": 2
          },
          "yaxis": {
           "automargin": true,
           "gridcolor": "white",
           "linecolor": "white",
           "ticks": "",
           "title": {
            "standoff": 15
           },
           "zerolinecolor": "white",
           "zerolinewidth": 2
          }
         }
        },
        "title": {
         "text": "Amplitude Wavelet Peaks",
         "x": 0.5
        },
        "xaxis": {
         "range": [
          0,
          300
         ],
         "title": {
          "text": "Amplitude Periods (d)"
         }
        },
        "yaxis": {
         "title": {
          "text": "log(T)"
         }
        }
       }
      }
     },
     "metadata": {},
     "output_type": "display_data"
    }
   ],
   "source": [
    "# https://plotly.com/python/colorscales/\n",
    "\n",
    "\n",
    "\n",
    "# Define a color scale: suggested: Viridis, inferno, magma, plasma, cividis,spectral\n",
    "color_scale = 'thermal'\n",
    "\n",
    "df=wavelet_amplitude_df.copy()\n",
    "\n",
    "\n",
    "# Create figure\n",
    "fig = go.Figure()\n",
    "\n",
    "# Add scatter plot\n",
    "fig.add_trace(\n",
    "    go.Scatter(\n",
    "        x=df['amplitude periods'],\n",
    "        y=df['temperature'],\n",
    "        mode='markers',\n",
    "        marker=dict(\n",
    "            color=df['temperature'],  # Use normalized 'size' for color\n",
    "            colorscale=color_scale,  # Define color scale\n",
    "            colorbar=dict(title=r'log(T) of the spectrum'),  # Show color scale bar\n",
    "            showscale=True,# show the color bar (color scale)\n",
    "        ),\n",
    "        showlegend=False, # otherwise a legend will appear on the right,\n",
    "        text=df['line name'],  # Hover text shows 'size'\n",
    "                )\n",
    "            )\n",
    "\n",
    "# Update layout with title\n",
    "fig.update_layout(title_text=\"Amplitude Wavelet Peaks\",title_x=0.5)\n",
    "fig.update_xaxes(title_text=\"Amplitude Periods (d)\",range=[0,300])\n",
    "fig.update_yaxes(title_text=\"log(T)\")\n",
    "\n",
    "\n",
    "# Show figure\n",
    "fig.show()\n",
    "fig.write_html('output\\wavelet_explore\\peak_scatter\\\\by_temperature\\\\amplitude.html')\n"
   ]
  },
  {
   "cell_type": "code",
   "execution_count": 7,
   "metadata": {},
   "outputs": [
    {
     "data": {
      "application/vnd.plotly.v1+json": {
       "config": {
        "plotlyServerURL": "https://plot.ly"
       },
       "data": [
        {
         "marker": {
          "color": [
           6.2,
           6.2,
           6.2,
           6.2,
           6.2,
           6.2,
           6.2,
           6.2,
           5.5,
           5.5,
           5.5,
           5.5,
           5.5,
           5.5,
           5.5,
           6.3,
           6.3,
           6.3,
           6.3,
           6.3,
           7.15,
           7.15,
           7.15,
           7.15,
           7.15,
           6.2,
           6.2,
           6.2,
           6.2,
           6.2,
           6.2,
           6.05,
           6.05,
           6.05,
           6.05,
           6.05,
           6.05,
           6.05,
           6.05,
           6.05,
           6.05,
           6.05,
           6.05,
           6.05,
           6.15,
           6.15,
           6.15,
           6.15,
           6.15,
           6.15,
           6.15,
           6.15,
           6.15,
           6.15,
           6.15,
           6.05,
           6.05,
           6.05,
           6.05,
           6.05,
           6.05,
           6.2,
           6.2,
           6.2,
           6.2,
           6.2,
           6.15,
           6.15,
           6.15,
           6.15,
           6.15,
           6.15,
           6.2,
           6.2,
           6.2,
           6.2,
           6.35,
           6.35,
           6.35,
           5.9,
           5.9,
           5.9,
           5.9,
           5.9,
           6.28,
           6.28,
           6.28,
           6.28,
           6.28,
           5.2,
           5.2,
           5.2,
           5.2,
           6.35,
           6.35,
           6.35,
           6.35,
           6.4,
           6.4,
           6.4,
           6.4,
           6.1,
           6.1,
           6.1,
           6.1,
           6.1,
           6.1,
           4.9,
           4.9,
           4.9,
           4.9,
           6.8,
           6.8,
           6.8,
           6.8,
           6.8,
           6.8,
           6.2,
           6.2,
           6.2,
           6.2,
           6.2,
           6,
           6,
           6,
           6
          ],
          "colorbar": {
           "title": {
            "text": "log(T) of the spectrum"
           }
          },
          "colorscale": [
           [
            0,
            "rgb(3, 35, 51)"
           ],
           [
            0.09090909090909091,
            "rgb(13, 48, 100)"
           ],
           [
            0.18181818181818182,
            "rgb(53, 50, 155)"
           ],
           [
            0.2727272727272727,
            "rgb(93, 62, 153)"
           ],
           [
            0.36363636363636365,
            "rgb(126, 77, 143)"
           ],
           [
            0.45454545454545453,
            "rgb(158, 89, 135)"
           ],
           [
            0.5454545454545454,
            "rgb(193, 100, 121)"
           ],
           [
            0.6363636363636364,
            "rgb(225, 113, 97)"
           ],
           [
            0.7272727272727273,
            "rgb(246, 139, 69)"
           ],
           [
            0.8181818181818182,
            "rgb(251, 173, 60)"
           ],
           [
            0.9090909090909091,
            "rgb(246, 211, 70)"
           ],
           [
            1,
            "rgb(231, 250, 90)"
           ]
          ],
          "showscale": true
         },
         "mode": "markers",
         "showlegend": false,
         "text": [
          "Ni XI 148",
          "Ni XI 148",
          "Ni XI 148",
          "Ni XI 148",
          "Ni XI 148",
          "Ni XI 148",
          "Ni XI 148",
          "Ni XI 148",
          "O VI 150",
          "O VI 150",
          "O VI 150",
          "O VI 150",
          "O VI 150",
          "O VI 150",
          "O VI 150",
          "Ni XII 152",
          "Ni XII 152",
          "Ni XII 152",
          "Ni XII 152",
          "Ni XII 152",
          "Fe XXIII 154",
          "Fe XXIII 154",
          "Fe XXIII 154",
          "Fe XXIII 154",
          "Fe XXIII 154",
          "Fe IX 171",
          "Fe IX 171",
          "Fe IX 171",
          "Fe IX 171",
          "Fe IX 171",
          "Fe IX 171",
          "Fe IX 174",
          "Fe IX 174",
          "Fe IX 174",
          "Fe IX 174",
          "Fe IX 174",
          "Fe IX 174",
          "Fe IX 174",
          "Fe X 177",
          "Fe X 177",
          "Fe X 177",
          "Fe X 177",
          "Fe X 177",
          "Fe X 177",
          "Fe XI 180",
          "Fe XI 180",
          "Fe XI 180",
          "Fe XI 180",
          "Fe XI 180",
          "Fe XI 180",
          "Fe XI 182",
          "Fe XI 182",
          "Fe XI 182",
          "Fe XI 182",
          "Fe XI 182",
          "Fe X 185",
          "Fe X 185",
          "Fe X 185",
          "Fe X 185",
          "Fe X 185",
          "Fe X 185",
          "Fe XII 187",
          "Fe XII 187",
          "Fe XII 187",
          "Fe XII 187",
          "Fe XII 187",
          "Fe XI 188",
          "Fe XI 188",
          "Fe XI 188",
          "Fe XI 188",
          "Fe XI 188",
          "Fe XI 188",
          "Fe XII 195",
          "Fe XII 195",
          "Fe XII 195",
          "Fe XII 195",
          "Fe XIV 211",
          "Fe XIV 211",
          "Fe XIV 211",
          "Fe IX 217",
          "Fe IX 217",
          "Fe IX 217",
          "Fe IX 217",
          "Fe IX 217",
          "Fe XIV 265",
          "Fe XIV 265",
          "Fe XIV 265",
          "Fe XIV 265",
          "Fe XIV 265",
          "O IV 272",
          "O IV 272",
          "O IV 272",
          "O IV 272",
          "Fe XIV 274",
          "Fe XIV 274",
          "Fe XIV 274",
          "Fe XIV 274",
          "Fe XV 284",
          "Fe XV 284",
          "Fe XV 284",
          "Fe XV 284",
          "Si IX 296",
          "Si IX 296",
          "Si IX 296",
          "Si IX 296",
          "Si IX 296",
          "Si IX 296",
          "He II 304",
          "He II 304",
          "He II 304",
          "He II 304",
          "Fe XVI 335",
          "Fe XVI 335",
          "Fe XVI 335",
          "Fe XVI 335",
          "Fe XVI 335",
          "Fe XVI 335",
          "Si X 356",
          "Si X 356",
          "Si X 356",
          "Si X 356",
          "Si X 356",
          "Mg IX 368",
          "Mg IX 368",
          "Mg IX 368",
          "Mg IX 368"
         ],
         "type": "scatter",
         "x": [
          14.11642653698231,
          27.616775785822178,
          51.37067725831221,
          2.666087295498508,
          202.43957014884754,
          359.35167687984557,
          548.7110327724835,
          1145.0490934079462,
          13.481030488216206,
          30.499353485649124,
          53.08002386760945,
          97.63195575820893,
          258.31334353801896,
          null,
          1030.6623430965326,
          13.942558059668865,
          27.37371178753602,
          225.83225492952394,
          502.94159699667574,
          825.7601589916202,
          13.964131113675196,
          27.74466947337789,
          405.26346636834427,
          651.2811221382773,
          1326.752397181353,
          13.532917814204527,
          29.054406650080086,
          51.687563462081116,
          92.06838143076324,
          240.58469605061714,
          871.3442338879848,
          14.232250755617223,
          29.89979403239308,
          52.15449481826716,
          109.93808439690223,
          204.20419151322844,
          372.47471340626873,
          1123.9267940557174,
          13.860171587758497,
          30.0497424005258,
          null,
          177.19705261125833,
          451.318396090769,
          711.9479903577794,
          14.192207525078077,
          23.295190875039943,
          null,
          183.90017357003282,
          397.7817805653522,
          null,
          14.076988312823698,
          26.32349189434033,
          173.81628300135066,
          403.07656830178104,
          null,
          null,
          30.552775730836245,
          56.0383601749756,
          115.6648116725808,
          276.4231031158464,
          931.912965329196,
          14.089102509638668,
          26.89621482754817,
          205.1144052982211,
          392.3342410467547,
          1081.407983229229,
          14.136066477663432,
          25.171100517234912,
          180.17668812121732,
          393.7625092907371,
          null,
          1338.426649419487,
          14.012008226285486,
          27.691596324145557,
          180.2740456119993,
          411.0959869059459,
          13.966782657345522,
          27.277446473207732,
          425.7221635736495,
          13.620671438845598,
          31.11612470333821,
          163.66780612532799,
          389.5648788443427,
          657.5770646536689,
          null,
          120.15644313299671,
          215.8125756335946,
          398.3216620742246,
          911.2027161214633,
          13.604733826194078,
          30.063908612510005,
          179.69272911752185,
          465.18193089110537,
          13.788162217467681,
          27.28814196322041,
          null,
          1354.0534830600996,
          13.699544359494753,
          27.03428593096209,
          null,
          2.666087295498508,
          13.385692231454458,
          null,
          47.66696452941511,
          93.31316214228396,
          196.62153545292654,
          401.347375128692,
          28.637380976460992,
          222.95210774693032,
          394.76269034689375,
          815.9847516729328,
          28.08141222837578,
          8.801797915749102,
          null,
          208.7936211582328,
          622.2307672772085,
          852.1784984650368,
          29.893390424878767,
          55.45933334943911,
          132.5144006975838,
          396.8157816404881,
          1108.3719189283381,
          36.450691471674986,
          115.24126944663345,
          400.31474500674227,
          882.6829931674819
         ],
         "y": [
          6.2,
          6.2,
          6.2,
          6.2,
          6.2,
          6.2,
          6.2,
          6.2,
          5.5,
          5.5,
          5.5,
          5.5,
          5.5,
          5.5,
          5.5,
          6.3,
          6.3,
          6.3,
          6.3,
          6.3,
          7.15,
          7.15,
          7.15,
          7.15,
          7.15,
          6.2,
          6.2,
          6.2,
          6.2,
          6.2,
          6.2,
          6.05,
          6.05,
          6.05,
          6.05,
          6.05,
          6.05,
          6.05,
          6.05,
          6.05,
          6.05,
          6.05,
          6.05,
          6.05,
          6.15,
          6.15,
          6.15,
          6.15,
          6.15,
          6.15,
          6.15,
          6.15,
          6.15,
          6.15,
          6.15,
          6.05,
          6.05,
          6.05,
          6.05,
          6.05,
          6.05,
          6.2,
          6.2,
          6.2,
          6.2,
          6.2,
          6.15,
          6.15,
          6.15,
          6.15,
          6.15,
          6.15,
          6.2,
          6.2,
          6.2,
          6.2,
          6.35,
          6.35,
          6.35,
          5.9,
          5.9,
          5.9,
          5.9,
          5.9,
          6.28,
          6.28,
          6.28,
          6.28,
          6.28,
          5.2,
          5.2,
          5.2,
          5.2,
          6.35,
          6.35,
          6.35,
          6.35,
          6.4,
          6.4,
          6.4,
          6.4,
          6.1,
          6.1,
          6.1,
          6.1,
          6.1,
          6.1,
          4.9,
          4.9,
          4.9,
          4.9,
          6.8,
          6.8,
          6.8,
          6.8,
          6.8,
          6.8,
          6.2,
          6.2,
          6.2,
          6.2,
          6.2,
          6,
          6,
          6,
          6
         ]
        }
       ],
       "layout": {
        "template": {
         "data": {
          "bar": [
           {
            "error_x": {
             "color": "#2a3f5f"
            },
            "error_y": {
             "color": "#2a3f5f"
            },
            "marker": {
             "line": {
              "color": "#E5ECF6",
              "width": 0.5
             },
             "pattern": {
              "fillmode": "overlay",
              "size": 10,
              "solidity": 0.2
             }
            },
            "type": "bar"
           }
          ],
          "barpolar": [
           {
            "marker": {
             "line": {
              "color": "#E5ECF6",
              "width": 0.5
             },
             "pattern": {
              "fillmode": "overlay",
              "size": 10,
              "solidity": 0.2
             }
            },
            "type": "barpolar"
           }
          ],
          "carpet": [
           {
            "aaxis": {
             "endlinecolor": "#2a3f5f",
             "gridcolor": "white",
             "linecolor": "white",
             "minorgridcolor": "white",
             "startlinecolor": "#2a3f5f"
            },
            "baxis": {
             "endlinecolor": "#2a3f5f",
             "gridcolor": "white",
             "linecolor": "white",
             "minorgridcolor": "white",
             "startlinecolor": "#2a3f5f"
            },
            "type": "carpet"
           }
          ],
          "choropleth": [
           {
            "colorbar": {
             "outlinewidth": 0,
             "ticks": ""
            },
            "type": "choropleth"
           }
          ],
          "contour": [
           {
            "colorbar": {
             "outlinewidth": 0,
             "ticks": ""
            },
            "colorscale": [
             [
              0,
              "#0d0887"
             ],
             [
              0.1111111111111111,
              "#46039f"
             ],
             [
              0.2222222222222222,
              "#7201a8"
             ],
             [
              0.3333333333333333,
              "#9c179e"
             ],
             [
              0.4444444444444444,
              "#bd3786"
             ],
             [
              0.5555555555555556,
              "#d8576b"
             ],
             [
              0.6666666666666666,
              "#ed7953"
             ],
             [
              0.7777777777777778,
              "#fb9f3a"
             ],
             [
              0.8888888888888888,
              "#fdca26"
             ],
             [
              1,
              "#f0f921"
             ]
            ],
            "type": "contour"
           }
          ],
          "contourcarpet": [
           {
            "colorbar": {
             "outlinewidth": 0,
             "ticks": ""
            },
            "type": "contourcarpet"
           }
          ],
          "heatmap": [
           {
            "colorbar": {
             "outlinewidth": 0,
             "ticks": ""
            },
            "colorscale": [
             [
              0,
              "#0d0887"
             ],
             [
              0.1111111111111111,
              "#46039f"
             ],
             [
              0.2222222222222222,
              "#7201a8"
             ],
             [
              0.3333333333333333,
              "#9c179e"
             ],
             [
              0.4444444444444444,
              "#bd3786"
             ],
             [
              0.5555555555555556,
              "#d8576b"
             ],
             [
              0.6666666666666666,
              "#ed7953"
             ],
             [
              0.7777777777777778,
              "#fb9f3a"
             ],
             [
              0.8888888888888888,
              "#fdca26"
             ],
             [
              1,
              "#f0f921"
             ]
            ],
            "type": "heatmap"
           }
          ],
          "heatmapgl": [
           {
            "colorbar": {
             "outlinewidth": 0,
             "ticks": ""
            },
            "colorscale": [
             [
              0,
              "#0d0887"
             ],
             [
              0.1111111111111111,
              "#46039f"
             ],
             [
              0.2222222222222222,
              "#7201a8"
             ],
             [
              0.3333333333333333,
              "#9c179e"
             ],
             [
              0.4444444444444444,
              "#bd3786"
             ],
             [
              0.5555555555555556,
              "#d8576b"
             ],
             [
              0.6666666666666666,
              "#ed7953"
             ],
             [
              0.7777777777777778,
              "#fb9f3a"
             ],
             [
              0.8888888888888888,
              "#fdca26"
             ],
             [
              1,
              "#f0f921"
             ]
            ],
            "type": "heatmapgl"
           }
          ],
          "histogram": [
           {
            "marker": {
             "pattern": {
              "fillmode": "overlay",
              "size": 10,
              "solidity": 0.2
             }
            },
            "type": "histogram"
           }
          ],
          "histogram2d": [
           {
            "colorbar": {
             "outlinewidth": 0,
             "ticks": ""
            },
            "colorscale": [
             [
              0,
              "#0d0887"
             ],
             [
              0.1111111111111111,
              "#46039f"
             ],
             [
              0.2222222222222222,
              "#7201a8"
             ],
             [
              0.3333333333333333,
              "#9c179e"
             ],
             [
              0.4444444444444444,
              "#bd3786"
             ],
             [
              0.5555555555555556,
              "#d8576b"
             ],
             [
              0.6666666666666666,
              "#ed7953"
             ],
             [
              0.7777777777777778,
              "#fb9f3a"
             ],
             [
              0.8888888888888888,
              "#fdca26"
             ],
             [
              1,
              "#f0f921"
             ]
            ],
            "type": "histogram2d"
           }
          ],
          "histogram2dcontour": [
           {
            "colorbar": {
             "outlinewidth": 0,
             "ticks": ""
            },
            "colorscale": [
             [
              0,
              "#0d0887"
             ],
             [
              0.1111111111111111,
              "#46039f"
             ],
             [
              0.2222222222222222,
              "#7201a8"
             ],
             [
              0.3333333333333333,
              "#9c179e"
             ],
             [
              0.4444444444444444,
              "#bd3786"
             ],
             [
              0.5555555555555556,
              "#d8576b"
             ],
             [
              0.6666666666666666,
              "#ed7953"
             ],
             [
              0.7777777777777778,
              "#fb9f3a"
             ],
             [
              0.8888888888888888,
              "#fdca26"
             ],
             [
              1,
              "#f0f921"
             ]
            ],
            "type": "histogram2dcontour"
           }
          ],
          "mesh3d": [
           {
            "colorbar": {
             "outlinewidth": 0,
             "ticks": ""
            },
            "type": "mesh3d"
           }
          ],
          "parcoords": [
           {
            "line": {
             "colorbar": {
              "outlinewidth": 0,
              "ticks": ""
             }
            },
            "type": "parcoords"
           }
          ],
          "pie": [
           {
            "automargin": true,
            "type": "pie"
           }
          ],
          "scatter": [
           {
            "fillpattern": {
             "fillmode": "overlay",
             "size": 10,
             "solidity": 0.2
            },
            "type": "scatter"
           }
          ],
          "scatter3d": [
           {
            "line": {
             "colorbar": {
              "outlinewidth": 0,
              "ticks": ""
             }
            },
            "marker": {
             "colorbar": {
              "outlinewidth": 0,
              "ticks": ""
             }
            },
            "type": "scatter3d"
           }
          ],
          "scattercarpet": [
           {
            "marker": {
             "colorbar": {
              "outlinewidth": 0,
              "ticks": ""
             }
            },
            "type": "scattercarpet"
           }
          ],
          "scattergeo": [
           {
            "marker": {
             "colorbar": {
              "outlinewidth": 0,
              "ticks": ""
             }
            },
            "type": "scattergeo"
           }
          ],
          "scattergl": [
           {
            "marker": {
             "colorbar": {
              "outlinewidth": 0,
              "ticks": ""
             }
            },
            "type": "scattergl"
           }
          ],
          "scattermapbox": [
           {
            "marker": {
             "colorbar": {
              "outlinewidth": 0,
              "ticks": ""
             }
            },
            "type": "scattermapbox"
           }
          ],
          "scatterpolar": [
           {
            "marker": {
             "colorbar": {
              "outlinewidth": 0,
              "ticks": ""
             }
            },
            "type": "scatterpolar"
           }
          ],
          "scatterpolargl": [
           {
            "marker": {
             "colorbar": {
              "outlinewidth": 0,
              "ticks": ""
             }
            },
            "type": "scatterpolargl"
           }
          ],
          "scatterternary": [
           {
            "marker": {
             "colorbar": {
              "outlinewidth": 0,
              "ticks": ""
             }
            },
            "type": "scatterternary"
           }
          ],
          "surface": [
           {
            "colorbar": {
             "outlinewidth": 0,
             "ticks": ""
            },
            "colorscale": [
             [
              0,
              "#0d0887"
             ],
             [
              0.1111111111111111,
              "#46039f"
             ],
             [
              0.2222222222222222,
              "#7201a8"
             ],
             [
              0.3333333333333333,
              "#9c179e"
             ],
             [
              0.4444444444444444,
              "#bd3786"
             ],
             [
              0.5555555555555556,
              "#d8576b"
             ],
             [
              0.6666666666666666,
              "#ed7953"
             ],
             [
              0.7777777777777778,
              "#fb9f3a"
             ],
             [
              0.8888888888888888,
              "#fdca26"
             ],
             [
              1,
              "#f0f921"
             ]
            ],
            "type": "surface"
           }
          ],
          "table": [
           {
            "cells": {
             "fill": {
              "color": "#EBF0F8"
             },
             "line": {
              "color": "white"
             }
            },
            "header": {
             "fill": {
              "color": "#C8D4E3"
             },
             "line": {
              "color": "white"
             }
            },
            "type": "table"
           }
          ]
         },
         "layout": {
          "annotationdefaults": {
           "arrowcolor": "#2a3f5f",
           "arrowhead": 0,
           "arrowwidth": 1
          },
          "autotypenumbers": "strict",
          "coloraxis": {
           "colorbar": {
            "outlinewidth": 0,
            "ticks": ""
           }
          },
          "colorscale": {
           "diverging": [
            [
             0,
             "#8e0152"
            ],
            [
             0.1,
             "#c51b7d"
            ],
            [
             0.2,
             "#de77ae"
            ],
            [
             0.3,
             "#f1b6da"
            ],
            [
             0.4,
             "#fde0ef"
            ],
            [
             0.5,
             "#f7f7f7"
            ],
            [
             0.6,
             "#e6f5d0"
            ],
            [
             0.7,
             "#b8e186"
            ],
            [
             0.8,
             "#7fbc41"
            ],
            [
             0.9,
             "#4d9221"
            ],
            [
             1,
             "#276419"
            ]
           ],
           "sequential": [
            [
             0,
             "#0d0887"
            ],
            [
             0.1111111111111111,
             "#46039f"
            ],
            [
             0.2222222222222222,
             "#7201a8"
            ],
            [
             0.3333333333333333,
             "#9c179e"
            ],
            [
             0.4444444444444444,
             "#bd3786"
            ],
            [
             0.5555555555555556,
             "#d8576b"
            ],
            [
             0.6666666666666666,
             "#ed7953"
            ],
            [
             0.7777777777777778,
             "#fb9f3a"
            ],
            [
             0.8888888888888888,
             "#fdca26"
            ],
            [
             1,
             "#f0f921"
            ]
           ],
           "sequentialminus": [
            [
             0,
             "#0d0887"
            ],
            [
             0.1111111111111111,
             "#46039f"
            ],
            [
             0.2222222222222222,
             "#7201a8"
            ],
            [
             0.3333333333333333,
             "#9c179e"
            ],
            [
             0.4444444444444444,
             "#bd3786"
            ],
            [
             0.5555555555555556,
             "#d8576b"
            ],
            [
             0.6666666666666666,
             "#ed7953"
            ],
            [
             0.7777777777777778,
             "#fb9f3a"
            ],
            [
             0.8888888888888888,
             "#fdca26"
            ],
            [
             1,
             "#f0f921"
            ]
           ]
          },
          "colorway": [
           "#636efa",
           "#EF553B",
           "#00cc96",
           "#ab63fa",
           "#FFA15A",
           "#19d3f3",
           "#FF6692",
           "#B6E880",
           "#FF97FF",
           "#FECB52"
          ],
          "font": {
           "color": "#2a3f5f"
          },
          "geo": {
           "bgcolor": "white",
           "lakecolor": "white",
           "landcolor": "#E5ECF6",
           "showlakes": true,
           "showland": true,
           "subunitcolor": "white"
          },
          "hoverlabel": {
           "align": "left"
          },
          "hovermode": "closest",
          "mapbox": {
           "style": "light"
          },
          "paper_bgcolor": "white",
          "plot_bgcolor": "#E5ECF6",
          "polar": {
           "angularaxis": {
            "gridcolor": "white",
            "linecolor": "white",
            "ticks": ""
           },
           "bgcolor": "#E5ECF6",
           "radialaxis": {
            "gridcolor": "white",
            "linecolor": "white",
            "ticks": ""
           }
          },
          "scene": {
           "xaxis": {
            "backgroundcolor": "#E5ECF6",
            "gridcolor": "white",
            "gridwidth": 2,
            "linecolor": "white",
            "showbackground": true,
            "ticks": "",
            "zerolinecolor": "white"
           },
           "yaxis": {
            "backgroundcolor": "#E5ECF6",
            "gridcolor": "white",
            "gridwidth": 2,
            "linecolor": "white",
            "showbackground": true,
            "ticks": "",
            "zerolinecolor": "white"
           },
           "zaxis": {
            "backgroundcolor": "#E5ECF6",
            "gridcolor": "white",
            "gridwidth": 2,
            "linecolor": "white",
            "showbackground": true,
            "ticks": "",
            "zerolinecolor": "white"
           }
          },
          "shapedefaults": {
           "line": {
            "color": "#2a3f5f"
           }
          },
          "ternary": {
           "aaxis": {
            "gridcolor": "white",
            "linecolor": "white",
            "ticks": ""
           },
           "baxis": {
            "gridcolor": "white",
            "linecolor": "white",
            "ticks": ""
           },
           "bgcolor": "#E5ECF6",
           "caxis": {
            "gridcolor": "white",
            "linecolor": "white",
            "ticks": ""
           }
          },
          "title": {
           "x": 0.05
          },
          "xaxis": {
           "automargin": true,
           "gridcolor": "white",
           "linecolor": "white",
           "ticks": "",
           "title": {
            "standoff": 15
           },
           "zerolinecolor": "white",
           "zerolinewidth": 2
          },
          "yaxis": {
           "automargin": true,
           "gridcolor": "white",
           "linecolor": "white",
           "ticks": "",
           "title": {
            "standoff": 15
           },
           "zerolinecolor": "white",
           "zerolinewidth": 2
          }
         }
        },
        "title": {
         "text": "Mean Wavelet Peaks",
         "x": 0.5
        },
        "xaxis": {
         "range": [
          0,
          300
         ],
         "title": {
          "text": "Mean Periods (d)"
         }
        },
        "yaxis": {
         "title": {
          "text": "log(T)"
         }
        }
       }
      }
     },
     "metadata": {},
     "output_type": "display_data"
    }
   ],
   "source": [
    "# https://plotly.com/python/colorscales/\n",
    "\n",
    "\n",
    "\n",
    "# Define a color scale: suggested: Viridis, inferno, magma, plasma, cividis,spectral\n",
    "color_scale = 'thermal'\n",
    "\n",
    "df=wavelet_mean_df.copy()\n",
    "\n",
    "\n",
    "# Create figure\n",
    "fig = go.Figure()\n",
    "\n",
    "# Add scatter plot\n",
    "fig.add_trace(\n",
    "    go.Scatter(\n",
    "        x=df['mean periods'],\n",
    "        y=df['temperature'],\n",
    "        mode='markers',\n",
    "        marker=dict(\n",
    "            color=df['temperature'],  # Use normalized 'size' for color\n",
    "            colorscale=color_scale,  # Define color scale\n",
    "            colorbar=dict(title=r'log(T) of the spectrum'),  # Show color scale bar\n",
    "            showscale=True,# show the color bar (color scale)\n",
    "        ),\n",
    "        showlegend=False, # otherwise a legend will appear on the right,\n",
    "        text=df['line name'],  # Hover text shows 'size'\n",
    "                )\n",
    "            )\n",
    "\n",
    "# Update layout with title\n",
    "fig.update_layout(title_text=\"Mean Wavelet Peaks\",title_x=0.5)\n",
    "fig.update_xaxes(title_text=\"Mean Periods (d)\",range=[0,300])\n",
    "fig.update_yaxes(title_text=\"log(T)\")\n",
    "\n",
    "\n",
    "# Show figure\n",
    "fig.show()\n",
    "fig.write_html('output\\wavelet_explore\\peak_scatter\\\\by_temperature\\\\mean.html')\n"
   ]
  },
  {
   "cell_type": "code",
   "execution_count": 8,
   "metadata": {},
   "outputs": [
    {
     "data": {
      "application/vnd.plotly.v1+json": {
       "config": {
        "plotlyServerURL": "https://plot.ly"
       },
       "data": [
        {
         "marker": {
          "color": [
           6.2,
           6.2,
           6.2,
           6.2,
           6.2,
           5.5,
           5.5,
           5.5,
           5.5,
           6.3,
           6.3,
           7.15,
           6.2,
           6.2,
           6.2,
           6.2,
           6.05,
           6.05,
           6.05,
           6.05,
           6.05,
           6.05,
           6.05,
           6.05,
           6.05,
           6.05,
           6.15,
           6.15,
           6.15,
           6.15,
           6.15,
           6.15,
           6.15,
           6.15,
           6.15,
           6.15,
           6.05,
           6.05,
           6.05,
           6.05,
           6.05,
           6.2,
           6.2,
           6.2,
           6.15,
           6.15,
           6.15,
           6.15,
           6.2,
           6.2,
           6.2,
           6.2,
           6.2,
           6.35,
           6.35,
           6.35,
           6.35,
           6.35,
           6.35,
           6.35,
           5.9,
           5.9,
           5.9,
           6.28,
           6.28,
           6.28,
           5.2,
           5.2,
           5.2,
           5.2,
           6.35,
           6.35,
           6.35,
           6.35,
           6.35,
           6.35,
           6.4,
           6.4,
           6.4,
           6.4,
           6.4,
           6.1,
           6.1,
           6.1,
           6.1,
           6.1,
           4.9,
           4.9,
           6.8,
           6.8,
           6.8,
           6.8,
           6.8,
           6.8,
           6.2,
           6.2,
           6.2,
           6.2,
           6.2,
           6.2,
           6.2,
           6,
           6,
           6,
           6,
           6
          ],
          "colorbar": {
           "title": {
            "text": "log(T) of the spectrum"
           }
          },
          "colorscale": [
           [
            0,
            "rgb(3, 35, 51)"
           ],
           [
            0.09090909090909091,
            "rgb(13, 48, 100)"
           ],
           [
            0.18181818181818182,
            "rgb(53, 50, 155)"
           ],
           [
            0.2727272727272727,
            "rgb(93, 62, 153)"
           ],
           [
            0.36363636363636365,
            "rgb(126, 77, 143)"
           ],
           [
            0.45454545454545453,
            "rgb(158, 89, 135)"
           ],
           [
            0.5454545454545454,
            "rgb(193, 100, 121)"
           ],
           [
            0.6363636363636364,
            "rgb(225, 113, 97)"
           ],
           [
            0.7272727272727273,
            "rgb(246, 139, 69)"
           ],
           [
            0.8181818181818182,
            "rgb(251, 173, 60)"
           ],
           [
            0.9090909090909091,
            "rgb(246, 211, 70)"
           ],
           [
            1,
            "rgb(231, 250, 90)"
           ]
          ],
          "showscale": true
         },
         "mode": "markers",
         "showlegend": false,
         "text": [
          "Ni XI 148",
          "Ni XI 148",
          "Ni XI 148",
          "Ni XI 148",
          "Ni XI 148",
          "O VI 150",
          "O VI 150",
          "O VI 150",
          "O VI 150",
          "Ni XII 152",
          "Ni XII 152",
          "Fe XXIII 154",
          "Fe IX 171",
          "Fe IX 171",
          "Fe IX 171",
          "Fe IX 171",
          "Fe IX 174",
          "Fe IX 174",
          "Fe IX 174",
          "Fe IX 174",
          "Fe IX 174",
          "Fe IX 174",
          "Fe X 177",
          "Fe X 177",
          "Fe X 177",
          "Fe X 177",
          "Fe XI 180",
          "Fe XI 180",
          "Fe XI 180",
          "Fe XI 180",
          "Fe XI 182",
          "Fe XI 182",
          "Fe XI 182",
          "Fe XI 182",
          "Fe XI 182",
          "Fe XI 182",
          "Fe X 185",
          "Fe X 185",
          "Fe X 185",
          "Fe X 185",
          "Fe X 185",
          "Fe XII 187",
          "Fe XII 187",
          "Fe XII 187",
          "Fe XI 188",
          "Fe XI 188",
          "Fe XI 188",
          "Fe XI 188",
          "Fe XII 195",
          "Fe XII 195",
          "Fe XII 195",
          "Fe XII 195",
          "Fe XII 195",
          "Fe XIV 211",
          "Fe XIV 211",
          "Fe XIV 211",
          "Fe XIV 211",
          "Fe XIV 211",
          "Fe XIV 211",
          "Fe XIV 211",
          "Fe IX 217",
          "Fe IX 217",
          "Fe IX 217",
          "Fe XIV 265",
          "Fe XIV 265",
          "Fe XIV 265",
          "O IV 272",
          "O IV 272",
          "O IV 272",
          "O IV 272",
          "Fe XIV 274",
          "Fe XIV 274",
          "Fe XIV 274",
          "Fe XIV 274",
          "Fe XIV 274",
          "Fe XIV 274",
          "Fe XV 284",
          "Fe XV 284",
          "Fe XV 284",
          "Fe XV 284",
          "Fe XV 284",
          "Si IX 296",
          "Si IX 296",
          "Si IX 296",
          "Si IX 296",
          "Si IX 296",
          "He II 304",
          "He II 304",
          "Fe XVI 335",
          "Fe XVI 335",
          "Fe XVI 335",
          "Fe XVI 335",
          "Fe XVI 335",
          "Fe XVI 335",
          "Si X 356",
          "Si X 356",
          "Si X 356",
          "Si X 356",
          "Si X 356",
          "Si X 356",
          "Si X 356",
          "Mg IX 368",
          "Mg IX 368",
          "Mg IX 368",
          "Mg IX 368",
          "Mg IX 368"
         ],
         "type": "scatter",
         "x": [
          13.026210611381849,
          28.5429121955423,
          53.19424399529154,
          1590.832974819458,
          862.2720898469842,
          26.806840490411698,
          134.2682339833241,
          249.2515076781942,
          824.8483661284422,
          null,
          231.9194905042568,
          238.73143424250176,
          2.0660872954985074,
          26.431649936195047,
          390.38563878043834,
          828.7960039576686,
          26.030575839981346,
          2.2660872954985076,
          null,
          228.62594189449504,
          382.32342395726334,
          817.4049681449519,
          26.611852491649536,
          263.1162901271579,
          null,
          826.0051400125021,
          27.277732787736475,
          229.8125995608472,
          391.82861432175827,
          804.5573806674317,
          9.7073437369755,
          null,
          29.18938135918841,
          54.09886104398493,
          377.79969633120913,
          810.2590724580815,
          27.313476802253685,
          56.69619977678526,
          null,
          272.1318961104573,
          858.7136332890868,
          27.321093740010365,
          null,
          230.50685148794352,
          26.858679318518515,
          227.51138536892992,
          393.2321141276934,
          797.6209748463251,
          9.972530500212027,
          13.806108091071987,
          27.903575715926312,
          393.5405800904095,
          1335.1681171859195,
          9.583380232092965,
          null,
          27.430567475330456,
          2.666087295498508,
          216.23419422341206,
          437.1525200306969,
          1080.5536921578541,
          27.18833690019572,
          261.8570394375622,
          908.7044413319439,
          27.19560682895702,
          238.8660597273811,
          913.7830712671278,
          39.704553007591095,
          49.95105995475541,
          233.58984614273632,
          693.6861827613143,
          8.95927168149073,
          27.721947615917706,
          null,
          180.7918762792452,
          787.6593482743984,
          1239.104760946111,
          8.757616337484693,
          27.275366314449446,
          215.79520251089033,
          431.01485192590155,
          681.0692745286926,
          29.269640065237443,
          33.80339889763344,
          200.3915554675425,
          563.3072572500806,
          1246.9276842925017,
          276.9678610656661,
          784.0655565846239,
          14.968787745521563,
          31.30158564404409,
          52.276974736792525,
          138.76594325381194,
          210.45335106532633,
          354.29518985619467,
          28.629609476383205,
          69.70983424398435,
          132.68217042336175,
          232.0700918312697,
          null,
          471.01286632322586,
          811.8729470060072,
          14.765770974648328,
          33.688260631161945,
          64.16237476629064,
          387.59611542852406,
          925.6724710080689
         ],
         "y": [
          6.2,
          6.2,
          6.2,
          6.2,
          6.2,
          5.5,
          5.5,
          5.5,
          5.5,
          6.3,
          6.3,
          7.15,
          6.2,
          6.2,
          6.2,
          6.2,
          6.05,
          6.05,
          6.05,
          6.05,
          6.05,
          6.05,
          6.05,
          6.05,
          6.05,
          6.05,
          6.15,
          6.15,
          6.15,
          6.15,
          6.15,
          6.15,
          6.15,
          6.15,
          6.15,
          6.15,
          6.05,
          6.05,
          6.05,
          6.05,
          6.05,
          6.2,
          6.2,
          6.2,
          6.15,
          6.15,
          6.15,
          6.15,
          6.2,
          6.2,
          6.2,
          6.2,
          6.2,
          6.35,
          6.35,
          6.35,
          6.35,
          6.35,
          6.35,
          6.35,
          5.9,
          5.9,
          5.9,
          6.28,
          6.28,
          6.28,
          5.2,
          5.2,
          5.2,
          5.2,
          6.35,
          6.35,
          6.35,
          6.35,
          6.35,
          6.35,
          6.4,
          6.4,
          6.4,
          6.4,
          6.4,
          6.1,
          6.1,
          6.1,
          6.1,
          6.1,
          4.9,
          4.9,
          6.8,
          6.8,
          6.8,
          6.8,
          6.8,
          6.8,
          6.2,
          6.2,
          6.2,
          6.2,
          6.2,
          6.2,
          6.2,
          6,
          6,
          6,
          6,
          6
         ]
        }
       ],
       "layout": {
        "template": {
         "data": {
          "bar": [
           {
            "error_x": {
             "color": "#2a3f5f"
            },
            "error_y": {
             "color": "#2a3f5f"
            },
            "marker": {
             "line": {
              "color": "#E5ECF6",
              "width": 0.5
             },
             "pattern": {
              "fillmode": "overlay",
              "size": 10,
              "solidity": 0.2
             }
            },
            "type": "bar"
           }
          ],
          "barpolar": [
           {
            "marker": {
             "line": {
              "color": "#E5ECF6",
              "width": 0.5
             },
             "pattern": {
              "fillmode": "overlay",
              "size": 10,
              "solidity": 0.2
             }
            },
            "type": "barpolar"
           }
          ],
          "carpet": [
           {
            "aaxis": {
             "endlinecolor": "#2a3f5f",
             "gridcolor": "white",
             "linecolor": "white",
             "minorgridcolor": "white",
             "startlinecolor": "#2a3f5f"
            },
            "baxis": {
             "endlinecolor": "#2a3f5f",
             "gridcolor": "white",
             "linecolor": "white",
             "minorgridcolor": "white",
             "startlinecolor": "#2a3f5f"
            },
            "type": "carpet"
           }
          ],
          "choropleth": [
           {
            "colorbar": {
             "outlinewidth": 0,
             "ticks": ""
            },
            "type": "choropleth"
           }
          ],
          "contour": [
           {
            "colorbar": {
             "outlinewidth": 0,
             "ticks": ""
            },
            "colorscale": [
             [
              0,
              "#0d0887"
             ],
             [
              0.1111111111111111,
              "#46039f"
             ],
             [
              0.2222222222222222,
              "#7201a8"
             ],
             [
              0.3333333333333333,
              "#9c179e"
             ],
             [
              0.4444444444444444,
              "#bd3786"
             ],
             [
              0.5555555555555556,
              "#d8576b"
             ],
             [
              0.6666666666666666,
              "#ed7953"
             ],
             [
              0.7777777777777778,
              "#fb9f3a"
             ],
             [
              0.8888888888888888,
              "#fdca26"
             ],
             [
              1,
              "#f0f921"
             ]
            ],
            "type": "contour"
           }
          ],
          "contourcarpet": [
           {
            "colorbar": {
             "outlinewidth": 0,
             "ticks": ""
            },
            "type": "contourcarpet"
           }
          ],
          "heatmap": [
           {
            "colorbar": {
             "outlinewidth": 0,
             "ticks": ""
            },
            "colorscale": [
             [
              0,
              "#0d0887"
             ],
             [
              0.1111111111111111,
              "#46039f"
             ],
             [
              0.2222222222222222,
              "#7201a8"
             ],
             [
              0.3333333333333333,
              "#9c179e"
             ],
             [
              0.4444444444444444,
              "#bd3786"
             ],
             [
              0.5555555555555556,
              "#d8576b"
             ],
             [
              0.6666666666666666,
              "#ed7953"
             ],
             [
              0.7777777777777778,
              "#fb9f3a"
             ],
             [
              0.8888888888888888,
              "#fdca26"
             ],
             [
              1,
              "#f0f921"
             ]
            ],
            "type": "heatmap"
           }
          ],
          "heatmapgl": [
           {
            "colorbar": {
             "outlinewidth": 0,
             "ticks": ""
            },
            "colorscale": [
             [
              0,
              "#0d0887"
             ],
             [
              0.1111111111111111,
              "#46039f"
             ],
             [
              0.2222222222222222,
              "#7201a8"
             ],
             [
              0.3333333333333333,
              "#9c179e"
             ],
             [
              0.4444444444444444,
              "#bd3786"
             ],
             [
              0.5555555555555556,
              "#d8576b"
             ],
             [
              0.6666666666666666,
              "#ed7953"
             ],
             [
              0.7777777777777778,
              "#fb9f3a"
             ],
             [
              0.8888888888888888,
              "#fdca26"
             ],
             [
              1,
              "#f0f921"
             ]
            ],
            "type": "heatmapgl"
           }
          ],
          "histogram": [
           {
            "marker": {
             "pattern": {
              "fillmode": "overlay",
              "size": 10,
              "solidity": 0.2
             }
            },
            "type": "histogram"
           }
          ],
          "histogram2d": [
           {
            "colorbar": {
             "outlinewidth": 0,
             "ticks": ""
            },
            "colorscale": [
             [
              0,
              "#0d0887"
             ],
             [
              0.1111111111111111,
              "#46039f"
             ],
             [
              0.2222222222222222,
              "#7201a8"
             ],
             [
              0.3333333333333333,
              "#9c179e"
             ],
             [
              0.4444444444444444,
              "#bd3786"
             ],
             [
              0.5555555555555556,
              "#d8576b"
             ],
             [
              0.6666666666666666,
              "#ed7953"
             ],
             [
              0.7777777777777778,
              "#fb9f3a"
             ],
             [
              0.8888888888888888,
              "#fdca26"
             ],
             [
              1,
              "#f0f921"
             ]
            ],
            "type": "histogram2d"
           }
          ],
          "histogram2dcontour": [
           {
            "colorbar": {
             "outlinewidth": 0,
             "ticks": ""
            },
            "colorscale": [
             [
              0,
              "#0d0887"
             ],
             [
              0.1111111111111111,
              "#46039f"
             ],
             [
              0.2222222222222222,
              "#7201a8"
             ],
             [
              0.3333333333333333,
              "#9c179e"
             ],
             [
              0.4444444444444444,
              "#bd3786"
             ],
             [
              0.5555555555555556,
              "#d8576b"
             ],
             [
              0.6666666666666666,
              "#ed7953"
             ],
             [
              0.7777777777777778,
              "#fb9f3a"
             ],
             [
              0.8888888888888888,
              "#fdca26"
             ],
             [
              1,
              "#f0f921"
             ]
            ],
            "type": "histogram2dcontour"
           }
          ],
          "mesh3d": [
           {
            "colorbar": {
             "outlinewidth": 0,
             "ticks": ""
            },
            "type": "mesh3d"
           }
          ],
          "parcoords": [
           {
            "line": {
             "colorbar": {
              "outlinewidth": 0,
              "ticks": ""
             }
            },
            "type": "parcoords"
           }
          ],
          "pie": [
           {
            "automargin": true,
            "type": "pie"
           }
          ],
          "scatter": [
           {
            "fillpattern": {
             "fillmode": "overlay",
             "size": 10,
             "solidity": 0.2
            },
            "type": "scatter"
           }
          ],
          "scatter3d": [
           {
            "line": {
             "colorbar": {
              "outlinewidth": 0,
              "ticks": ""
             }
            },
            "marker": {
             "colorbar": {
              "outlinewidth": 0,
              "ticks": ""
             }
            },
            "type": "scatter3d"
           }
          ],
          "scattercarpet": [
           {
            "marker": {
             "colorbar": {
              "outlinewidth": 0,
              "ticks": ""
             }
            },
            "type": "scattercarpet"
           }
          ],
          "scattergeo": [
           {
            "marker": {
             "colorbar": {
              "outlinewidth": 0,
              "ticks": ""
             }
            },
            "type": "scattergeo"
           }
          ],
          "scattergl": [
           {
            "marker": {
             "colorbar": {
              "outlinewidth": 0,
              "ticks": ""
             }
            },
            "type": "scattergl"
           }
          ],
          "scattermapbox": [
           {
            "marker": {
             "colorbar": {
              "outlinewidth": 0,
              "ticks": ""
             }
            },
            "type": "scattermapbox"
           }
          ],
          "scatterpolar": [
           {
            "marker": {
             "colorbar": {
              "outlinewidth": 0,
              "ticks": ""
             }
            },
            "type": "scatterpolar"
           }
          ],
          "scatterpolargl": [
           {
            "marker": {
             "colorbar": {
              "outlinewidth": 0,
              "ticks": ""
             }
            },
            "type": "scatterpolargl"
           }
          ],
          "scatterternary": [
           {
            "marker": {
             "colorbar": {
              "outlinewidth": 0,
              "ticks": ""
             }
            },
            "type": "scatterternary"
           }
          ],
          "surface": [
           {
            "colorbar": {
             "outlinewidth": 0,
             "ticks": ""
            },
            "colorscale": [
             [
              0,
              "#0d0887"
             ],
             [
              0.1111111111111111,
              "#46039f"
             ],
             [
              0.2222222222222222,
              "#7201a8"
             ],
             [
              0.3333333333333333,
              "#9c179e"
             ],
             [
              0.4444444444444444,
              "#bd3786"
             ],
             [
              0.5555555555555556,
              "#d8576b"
             ],
             [
              0.6666666666666666,
              "#ed7953"
             ],
             [
              0.7777777777777778,
              "#fb9f3a"
             ],
             [
              0.8888888888888888,
              "#fdca26"
             ],
             [
              1,
              "#f0f921"
             ]
            ],
            "type": "surface"
           }
          ],
          "table": [
           {
            "cells": {
             "fill": {
              "color": "#EBF0F8"
             },
             "line": {
              "color": "white"
             }
            },
            "header": {
             "fill": {
              "color": "#C8D4E3"
             },
             "line": {
              "color": "white"
             }
            },
            "type": "table"
           }
          ]
         },
         "layout": {
          "annotationdefaults": {
           "arrowcolor": "#2a3f5f",
           "arrowhead": 0,
           "arrowwidth": 1
          },
          "autotypenumbers": "strict",
          "coloraxis": {
           "colorbar": {
            "outlinewidth": 0,
            "ticks": ""
           }
          },
          "colorscale": {
           "diverging": [
            [
             0,
             "#8e0152"
            ],
            [
             0.1,
             "#c51b7d"
            ],
            [
             0.2,
             "#de77ae"
            ],
            [
             0.3,
             "#f1b6da"
            ],
            [
             0.4,
             "#fde0ef"
            ],
            [
             0.5,
             "#f7f7f7"
            ],
            [
             0.6,
             "#e6f5d0"
            ],
            [
             0.7,
             "#b8e186"
            ],
            [
             0.8,
             "#7fbc41"
            ],
            [
             0.9,
             "#4d9221"
            ],
            [
             1,
             "#276419"
            ]
           ],
           "sequential": [
            [
             0,
             "#0d0887"
            ],
            [
             0.1111111111111111,
             "#46039f"
            ],
            [
             0.2222222222222222,
             "#7201a8"
            ],
            [
             0.3333333333333333,
             "#9c179e"
            ],
            [
             0.4444444444444444,
             "#bd3786"
            ],
            [
             0.5555555555555556,
             "#d8576b"
            ],
            [
             0.6666666666666666,
             "#ed7953"
            ],
            [
             0.7777777777777778,
             "#fb9f3a"
            ],
            [
             0.8888888888888888,
             "#fdca26"
            ],
            [
             1,
             "#f0f921"
            ]
           ],
           "sequentialminus": [
            [
             0,
             "#0d0887"
            ],
            [
             0.1111111111111111,
             "#46039f"
            ],
            [
             0.2222222222222222,
             "#7201a8"
            ],
            [
             0.3333333333333333,
             "#9c179e"
            ],
            [
             0.4444444444444444,
             "#bd3786"
            ],
            [
             0.5555555555555556,
             "#d8576b"
            ],
            [
             0.6666666666666666,
             "#ed7953"
            ],
            [
             0.7777777777777778,
             "#fb9f3a"
            ],
            [
             0.8888888888888888,
             "#fdca26"
            ],
            [
             1,
             "#f0f921"
            ]
           ]
          },
          "colorway": [
           "#636efa",
           "#EF553B",
           "#00cc96",
           "#ab63fa",
           "#FFA15A",
           "#19d3f3",
           "#FF6692",
           "#B6E880",
           "#FF97FF",
           "#FECB52"
          ],
          "font": {
           "color": "#2a3f5f"
          },
          "geo": {
           "bgcolor": "white",
           "lakecolor": "white",
           "landcolor": "#E5ECF6",
           "showlakes": true,
           "showland": true,
           "subunitcolor": "white"
          },
          "hoverlabel": {
           "align": "left"
          },
          "hovermode": "closest",
          "mapbox": {
           "style": "light"
          },
          "paper_bgcolor": "white",
          "plot_bgcolor": "#E5ECF6",
          "polar": {
           "angularaxis": {
            "gridcolor": "white",
            "linecolor": "white",
            "ticks": ""
           },
           "bgcolor": "#E5ECF6",
           "radialaxis": {
            "gridcolor": "white",
            "linecolor": "white",
            "ticks": ""
           }
          },
          "scene": {
           "xaxis": {
            "backgroundcolor": "#E5ECF6",
            "gridcolor": "white",
            "gridwidth": 2,
            "linecolor": "white",
            "showbackground": true,
            "ticks": "",
            "zerolinecolor": "white"
           },
           "yaxis": {
            "backgroundcolor": "#E5ECF6",
            "gridcolor": "white",
            "gridwidth": 2,
            "linecolor": "white",
            "showbackground": true,
            "ticks": "",
            "zerolinecolor": "white"
           },
           "zaxis": {
            "backgroundcolor": "#E5ECF6",
            "gridcolor": "white",
            "gridwidth": 2,
            "linecolor": "white",
            "showbackground": true,
            "ticks": "",
            "zerolinecolor": "white"
           }
          },
          "shapedefaults": {
           "line": {
            "color": "#2a3f5f"
           }
          },
          "ternary": {
           "aaxis": {
            "gridcolor": "white",
            "linecolor": "white",
            "ticks": ""
           },
           "baxis": {
            "gridcolor": "white",
            "linecolor": "white",
            "ticks": ""
           },
           "bgcolor": "#E5ECF6",
           "caxis": {
            "gridcolor": "white",
            "linecolor": "white",
            "ticks": ""
           }
          },
          "title": {
           "x": 0.05
          },
          "xaxis": {
           "automargin": true,
           "gridcolor": "white",
           "linecolor": "white",
           "ticks": "",
           "title": {
            "standoff": 15
           },
           "zerolinecolor": "white",
           "zerolinewidth": 2
          },
          "yaxis": {
           "automargin": true,
           "gridcolor": "white",
           "linecolor": "white",
           "ticks": "",
           "title": {
            "standoff": 15
           },
           "zerolinecolor": "white",
           "zerolinewidth": 2
          }
         }
        },
        "title": {
         "text": "Stddev Wavelet Peaks",
         "x": 0.5
        },
        "xaxis": {
         "range": [
          0,
          300
         ],
         "title": {
          "text": "Stddev Periods (d)"
         }
        },
        "yaxis": {
         "title": {
          "text": "log(T)"
         }
        }
       }
      }
     },
     "metadata": {},
     "output_type": "display_data"
    }
   ],
   "source": [
    "# https://plotly.com/python/colorscales/\n",
    "\n",
    "\n",
    "\n",
    "# Define a color scale: suggested: Viridis, inferno, magma, plasma, cividis,spectral\n",
    "color_scale = 'thermal'\n",
    "\n",
    "df=wavelet_stddev_df.copy()\n",
    "\n",
    "\n",
    "# Create figure\n",
    "fig = go.Figure()\n",
    "\n",
    "# Add scatter plot\n",
    "fig.add_trace(\n",
    "    go.Scatter(\n",
    "        x=df['stddev periods'],\n",
    "        y=df['temperature'],\n",
    "        mode='markers',\n",
    "        marker=dict(\n",
    "            color=df['temperature'],  # Use normalized 'size' for color\n",
    "            colorscale=color_scale,  # Define color scale\n",
    "            colorbar=dict(title=r'log(T) of the spectrum'),  # Show color scale bar\n",
    "            showscale=True,# show the color bar (color scale)\n",
    "        ),\n",
    "        showlegend=False, # otherwise a legend will appear on the right,\n",
    "        text=df['line name'],  # Hover text shows 'size'\n",
    "                )\n",
    "            )\n",
    "\n",
    "# Update layout with title\n",
    "fig.update_layout(title_text=\"Stddev Wavelet Peaks\",title_x=0.5)\n",
    "fig.update_xaxes(title_text=\"Stddev Periods (d)\",range=[0,300])\n",
    "fig.update_yaxes(title_text=\"log(T)\")\n",
    "\n",
    "\n",
    "# Show figure\n",
    "fig.show()\n",
    "fig.write_html('output\\wavelet_explore\\peak_scatter\\\\by_temperature\\\\stddev.html')\n"
   ]
  },
  {
   "cell_type": "markdown",
   "metadata": {},
   "source": [
    "## combined"
   ]
  },
  {
   "cell_type": "code",
   "execution_count": 9,
   "metadata": {},
   "outputs": [],
   "source": [
    "with open('data/wavelet_df/wavelet_amplitude_df.pkl','rb') as f:\n",
    "    wavelet_amplitude_df = pickle.load(f)\n",
    "\n",
    "with open('data/wavelet_df/wavelet_mean_df.pkl','rb') as f:\n",
    "    wavelet_mean_df = pickle.load(f)\n",
    "\n",
    "with open('data/wavelet_df/wavelet_stddev_df.pkl','rb') as f:\n",
    "    wavelet_stddev_df = pickle.load(f)"
   ]
  },
  {
   "cell_type": "code",
   "execution_count": 10,
   "metadata": {},
   "outputs": [
    {
     "data": {
      "application/vnd.plotly.v1+json": {
       "config": {
        "plotlyServerURL": "https://plot.ly"
       },
       "data": [
        {
         "marker": {
          "color": [
           6.2,
           6.2,
           6.2,
           5.5,
           5.5,
           5.5,
           6.3,
           6.3,
           6.3,
           7.15,
           7.15,
           7.15,
           6.2,
           6.2,
           6.2,
           6.2,
           6.2,
           6.05,
           6.05,
           6.05,
           6.05,
           6.05,
           6.05,
           6.05,
           6.05,
           6.05,
           6.05,
           6.15,
           6.15,
           6.15,
           6.15,
           6.15,
           6.15,
           6.05,
           6.05,
           6.05,
           6.05,
           6.05,
           6.2,
           6.2,
           6.2,
           6.15,
           6.15,
           6.15,
           6.2,
           6.2,
           6.2,
           6.35,
           6.35,
           6.35,
           5.9,
           5.9,
           5.9,
           5.9,
           6.28,
           6.28,
           6.28,
           5.2,
           5.2,
           5.2,
           6.35,
           6.35,
           6.35,
           6.4,
           6.4,
           6.4,
           6.4,
           6.1,
           6.1,
           6.1,
           6.1,
           4.9,
           4.9,
           4.9,
           4.9,
           4.9,
           6.8,
           6.8,
           6.8,
           6.8,
           6.2,
           6.2,
           6.2,
           6,
           6,
           6,
           6
          ],
          "colorbar": {
           "title": {
            "text": "log(T)"
           }
          },
          "colorscale": [
           [
            0,
            "rgb(3, 35, 51)"
           ],
           [
            0.09090909090909091,
            "rgb(13, 48, 100)"
           ],
           [
            0.18181818181818182,
            "rgb(53, 50, 155)"
           ],
           [
            0.2727272727272727,
            "rgb(93, 62, 153)"
           ],
           [
            0.36363636363636365,
            "rgb(126, 77, 143)"
           ],
           [
            0.45454545454545453,
            "rgb(158, 89, 135)"
           ],
           [
            0.5454545454545454,
            "rgb(193, 100, 121)"
           ],
           [
            0.6363636363636364,
            "rgb(225, 113, 97)"
           ],
           [
            0.7272727272727273,
            "rgb(246, 139, 69)"
           ],
           [
            0.8181818181818182,
            "rgb(251, 173, 60)"
           ],
           [
            0.9090909090909091,
            "rgb(246, 211, 70)"
           ],
           [
            1,
            "rgb(231, 250, 90)"
           ]
          ],
          "showscale": true
         },
         "mode": "markers",
         "name": "Amplitude",
         "showlegend": false,
         "text": [
          "Ni XI 148",
          "Ni XI 148",
          "Ni XI 148",
          "O VI 150",
          "O VI 150",
          "O VI 150",
          "Ni XII 152",
          "Ni XII 152",
          "Ni XII 152",
          "Fe XXIII 154",
          "Fe XXIII 154",
          "Fe XXIII 154",
          "Fe IX 171",
          "Fe IX 171",
          "Fe IX 171",
          "Fe IX 171",
          "Fe IX 171",
          "Fe IX 174",
          "Fe IX 174",
          "Fe IX 174",
          "Fe IX 174",
          "Fe IX 174",
          "Fe X 177",
          "Fe X 177",
          "Fe X 177",
          "Fe X 177",
          "Fe X 177",
          "Fe XI 180",
          "Fe XI 180",
          "Fe XI 180",
          "Fe XI 182",
          "Fe XI 182",
          "Fe XI 182",
          "Fe X 185",
          "Fe X 185",
          "Fe X 185",
          "Fe X 185",
          "Fe X 185",
          "Fe XII 187",
          "Fe XII 187",
          "Fe XII 187",
          "Fe XI 188",
          "Fe XI 188",
          "Fe XI 188",
          "Fe XII 195",
          "Fe XII 195",
          "Fe XII 195",
          "Fe XIV 211",
          "Fe XIV 211",
          "Fe XIV 211",
          "Fe IX 217",
          "Fe IX 217",
          "Fe IX 217",
          "Fe IX 217",
          "Fe XIV 265",
          "Fe XIV 265",
          "Fe XIV 265",
          "O IV 272",
          "O IV 272",
          "O IV 272",
          "Fe XIV 274",
          "Fe XIV 274",
          "Fe XIV 274",
          "Fe XV 284",
          "Fe XV 284",
          "Fe XV 284",
          "Fe XV 284",
          "Si IX 296",
          "Si IX 296",
          "Si IX 296",
          "Si IX 296",
          "He II 304",
          "He II 304",
          "He II 304",
          "He II 304",
          "He II 304",
          "Fe XVI 335",
          "Fe XVI 335",
          "Fe XVI 335",
          "Fe XVI 335",
          "Si X 356",
          "Si X 356",
          "Si X 356",
          "Mg IX 368",
          "Mg IX 368",
          "Mg IX 368",
          "Mg IX 368"
         ],
         "type": "scatter",
         "x": [
          null,
          239.23269615331523,
          834.9916623932752,
          26.701602015238816,
          259.2727393339304,
          853.3345791336595,
          27.117571524498473,
          255.21324632341287,
          841.8270685481534,
          27.110493792061085,
          255.86209714354735,
          840.534088844745,
          26.70760787502137,
          73.73206066062396,
          236.8227683704233,
          429.1650394482895,
          880.2999589011434,
          26.543304166810913,
          75.38422483832991,
          235.1043381305329,
          null,
          846.9276425494023,
          26.395656081628637,
          70.73180900950723,
          237.56925239967345,
          null,
          839.7080021908797,
          26.869025381664276,
          228.11010446186592,
          853.7747869565912,
          26.723429032597693,
          240.73008762828442,
          831.1129369416838,
          26.75189637953738,
          67.46226334135979,
          243.22656699314814,
          null,
          839.2184458109015,
          26.888038224314712,
          248.8341482966214,
          838.4136972944857,
          26.81402784919985,
          229.76605329043414,
          851.3416731059998,
          27.08098206616507,
          229.68473980869518,
          861.9347880993612,
          27.048151537678223,
          274.91812296030935,
          850.9799718221553,
          26.959298605922676,
          66.27274696953252,
          245.9912242120309,
          843.9168424820533,
          27.031798368605976,
          260.59774614911083,
          845.5421223369519,
          26.977966176050305,
          229.64981061919963,
          851.5521393531819,
          27.082412943231496,
          273.4989322120722,
          851.263195293362,
          27.006442642589466,
          119.65588435936064,
          259.94777611238834,
          916.8429724633778,
          26.29717732187493,
          228.06119303451953,
          null,
          874.207333346567,
          26.81214690845398,
          null,
          242.87699583645156,
          473.1730861075193,
          937.0012374239421,
          27.871586795219258,
          54.835641815721274,
          273.76084638907315,
          826.4765895739381,
          27.092233278352577,
          275.01110901435106,
          825.5919725178991,
          31.71905828983125,
          54.54658245502712,
          262.2548006786459,
          819.751208902667
         ],
         "xaxis": "x",
         "y": [
          148.377,
          148.377,
          148.377,
          150.089,
          150.089,
          150.089,
          152.151,
          152.151,
          152.151,
          154.303,
          154.303,
          154.303,
          171.073,
          171.073,
          171.073,
          171.073,
          171.073,
          174.531,
          174.531,
          174.531,
          174.531,
          174.531,
          177.24,
          177.24,
          177.24,
          177.24,
          177.24,
          180.401,
          180.401,
          180.401,
          182.167,
          182.167,
          182.167,
          184.537,
          184.537,
          184.537,
          184.537,
          184.537,
          186.887,
          186.887,
          186.887,
          188.299,
          188.299,
          188.299,
          195.119,
          195.119,
          195.119,
          211.317,
          211.317,
          211.317,
          217.101,
          217.101,
          217.101,
          217.101,
          264.788,
          264.788,
          264.788,
          272.127,
          272.127,
          272.127,
          274.203,
          274.203,
          274.203,
          284.163,
          284.163,
          284.163,
          284.163,
          296.117,
          296.117,
          296.117,
          296.117,
          303.78,
          303.78,
          303.78,
          303.78,
          303.78,
          335.409,
          335.409,
          335.409,
          335.409,
          356.037,
          356.037,
          356.037,
          368.071,
          368.071,
          368.071,
          368.071
         ],
         "yaxis": "y"
        },
        {
         "marker": {
          "color": [
           6.2,
           6.2,
           6.2,
           5.5,
           5.5,
           5.5,
           6.3,
           6.3,
           6.3,
           7.15,
           7.15,
           7.15,
           6.2,
           6.2,
           6.2,
           6.2,
           6.2,
           6.05,
           6.05,
           6.05,
           6.05,
           6.05,
           6.05,
           6.05,
           6.05,
           6.05,
           6.05,
           6.15,
           6.15,
           6.15,
           6.15,
           6.15,
           6.15,
           6.05,
           6.05,
           6.05,
           6.05,
           6.05,
           6.2,
           6.2,
           6.2,
           6.15,
           6.15,
           6.15,
           6.2,
           6.2,
           6.2,
           6.35,
           6.35,
           6.35,
           5.9,
           5.9,
           5.9,
           5.9,
           6.28,
           6.28,
           6.28,
           5.2,
           5.2,
           5.2,
           6.35,
           6.35,
           6.35,
           6.4,
           6.4,
           6.4,
           6.4,
           6.1,
           6.1,
           6.1,
           6.1,
           4.9,
           4.9,
           4.9,
           4.9,
           4.9,
           6.8,
           6.8,
           6.8,
           6.8,
           6.2,
           6.2,
           6.2,
           6,
           6,
           6,
           6
          ],
          "showscale": false
         },
         "mode": "markers",
         "name": "Amplitude",
         "showlegend": false,
         "text": [
          "Ni XI 148",
          "Ni XI 148",
          "Ni XI 148",
          "O VI 150",
          "O VI 150",
          "O VI 150",
          "Ni XII 152",
          "Ni XII 152",
          "Ni XII 152",
          "Fe XXIII 154",
          "Fe XXIII 154",
          "Fe XXIII 154",
          "Fe IX 171",
          "Fe IX 171",
          "Fe IX 171",
          "Fe IX 171",
          "Fe IX 171",
          "Fe IX 174",
          "Fe IX 174",
          "Fe IX 174",
          "Fe IX 174",
          "Fe IX 174",
          "Fe X 177",
          "Fe X 177",
          "Fe X 177",
          "Fe X 177",
          "Fe X 177",
          "Fe XI 180",
          "Fe XI 180",
          "Fe XI 180",
          "Fe XI 182",
          "Fe XI 182",
          "Fe XI 182",
          "Fe X 185",
          "Fe X 185",
          "Fe X 185",
          "Fe X 185",
          "Fe X 185",
          "Fe XII 187",
          "Fe XII 187",
          "Fe XII 187",
          "Fe XI 188",
          "Fe XI 188",
          "Fe XI 188",
          "Fe XII 195",
          "Fe XII 195",
          "Fe XII 195",
          "Fe XIV 211",
          "Fe XIV 211",
          "Fe XIV 211",
          "Fe IX 217",
          "Fe IX 217",
          "Fe IX 217",
          "Fe IX 217",
          "Fe XIV 265",
          "Fe XIV 265",
          "Fe XIV 265",
          "O IV 272",
          "O IV 272",
          "O IV 272",
          "Fe XIV 274",
          "Fe XIV 274",
          "Fe XIV 274",
          "Fe XV 284",
          "Fe XV 284",
          "Fe XV 284",
          "Fe XV 284",
          "Si IX 296",
          "Si IX 296",
          "Si IX 296",
          "Si IX 296",
          "He II 304",
          "He II 304",
          "He II 304",
          "He II 304",
          "He II 304",
          "Fe XVI 335",
          "Fe XVI 335",
          "Fe XVI 335",
          "Fe XVI 335",
          "Si X 356",
          "Si X 356",
          "Si X 356",
          "Mg IX 368",
          "Mg IX 368",
          "Mg IX 368",
          "Mg IX 368"
         ],
         "type": "scatter",
         "x": [
          null,
          239.23269615331523,
          834.9916623932752,
          26.701602015238816,
          259.2727393339304,
          853.3345791336595,
          27.117571524498473,
          255.21324632341287,
          841.8270685481534,
          27.110493792061085,
          255.86209714354735,
          840.534088844745,
          26.70760787502137,
          73.73206066062396,
          236.8227683704233,
          429.1650394482895,
          880.2999589011434,
          26.543304166810913,
          75.38422483832991,
          235.1043381305329,
          null,
          846.9276425494023,
          26.395656081628637,
          70.73180900950723,
          237.56925239967345,
          null,
          839.7080021908797,
          26.869025381664276,
          228.11010446186592,
          853.7747869565912,
          26.723429032597693,
          240.73008762828442,
          831.1129369416838,
          26.75189637953738,
          67.46226334135979,
          243.22656699314814,
          null,
          839.2184458109015,
          26.888038224314712,
          248.8341482966214,
          838.4136972944857,
          26.81402784919985,
          229.76605329043414,
          851.3416731059998,
          27.08098206616507,
          229.68473980869518,
          861.9347880993612,
          27.048151537678223,
          274.91812296030935,
          850.9799718221553,
          26.959298605922676,
          66.27274696953252,
          245.9912242120309,
          843.9168424820533,
          27.031798368605976,
          260.59774614911083,
          845.5421223369519,
          26.977966176050305,
          229.64981061919963,
          851.5521393531819,
          27.082412943231496,
          273.4989322120722,
          851.263195293362,
          27.006442642589466,
          119.65588435936064,
          259.94777611238834,
          916.8429724633778,
          26.29717732187493,
          228.06119303451953,
          null,
          874.207333346567,
          26.81214690845398,
          null,
          242.87699583645156,
          473.1730861075193,
          937.0012374239421,
          27.871586795219258,
          54.835641815721274,
          273.76084638907315,
          826.4765895739381,
          27.092233278352577,
          275.01110901435106,
          825.5919725178991,
          31.71905828983125,
          54.54658245502712,
          262.2548006786459,
          819.751208902667
         ],
         "xaxis": "x2",
         "y": [
          6.2,
          6.2,
          6.2,
          5.5,
          5.5,
          5.5,
          6.3,
          6.3,
          6.3,
          7.15,
          7.15,
          7.15,
          6.2,
          6.2,
          6.2,
          6.2,
          6.2,
          6.05,
          6.05,
          6.05,
          6.05,
          6.05,
          6.05,
          6.05,
          6.05,
          6.05,
          6.05,
          6.15,
          6.15,
          6.15,
          6.15,
          6.15,
          6.15,
          6.05,
          6.05,
          6.05,
          6.05,
          6.05,
          6.2,
          6.2,
          6.2,
          6.15,
          6.15,
          6.15,
          6.2,
          6.2,
          6.2,
          6.35,
          6.35,
          6.35,
          5.9,
          5.9,
          5.9,
          5.9,
          6.28,
          6.28,
          6.28,
          5.2,
          5.2,
          5.2,
          6.35,
          6.35,
          6.35,
          6.4,
          6.4,
          6.4,
          6.4,
          6.1,
          6.1,
          6.1,
          6.1,
          4.9,
          4.9,
          4.9,
          4.9,
          4.9,
          6.8,
          6.8,
          6.8,
          6.8,
          6.2,
          6.2,
          6.2,
          6,
          6,
          6,
          6
         ],
         "yaxis": "y2"
        },
        {
         "marker": {
          "color": [
           6.2,
           6.2,
           6.2,
           6.2,
           6.2,
           6.2,
           6.2,
           6.2,
           5.5,
           5.5,
           5.5,
           5.5,
           5.5,
           5.5,
           5.5,
           6.3,
           6.3,
           6.3,
           6.3,
           6.3,
           7.15,
           7.15,
           7.15,
           7.15,
           7.15,
           6.2,
           6.2,
           6.2,
           6.2,
           6.2,
           6.2,
           6.05,
           6.05,
           6.05,
           6.05,
           6.05,
           6.05,
           6.05,
           6.05,
           6.05,
           6.05,
           6.05,
           6.05,
           6.05,
           6.15,
           6.15,
           6.15,
           6.15,
           6.15,
           6.15,
           6.15,
           6.15,
           6.15,
           6.15,
           6.15,
           6.05,
           6.05,
           6.05,
           6.05,
           6.05,
           6.05,
           6.2,
           6.2,
           6.2,
           6.2,
           6.2,
           6.15,
           6.15,
           6.15,
           6.15,
           6.15,
           6.15,
           6.2,
           6.2,
           6.2,
           6.2,
           6.35,
           6.35,
           6.35,
           5.9,
           5.9,
           5.9,
           5.9,
           5.9,
           6.28,
           6.28,
           6.28,
           6.28,
           6.28,
           5.2,
           5.2,
           5.2,
           5.2,
           6.35,
           6.35,
           6.35,
           6.35,
           6.4,
           6.4,
           6.4,
           6.4,
           6.1,
           6.1,
           6.1,
           6.1,
           6.1,
           6.1,
           4.9,
           4.9,
           4.9,
           4.9,
           6.8,
           6.8,
           6.8,
           6.8,
           6.8,
           6.8,
           6.2,
           6.2,
           6.2,
           6.2,
           6.2,
           6,
           6,
           6,
           6
          ],
          "colorbar": {
           "title": {
            "text": "log(T)"
           }
          },
          "colorscale": [
           [
            0,
            "rgb(3, 35, 51)"
           ],
           [
            0.09090909090909091,
            "rgb(13, 48, 100)"
           ],
           [
            0.18181818181818182,
            "rgb(53, 50, 155)"
           ],
           [
            0.2727272727272727,
            "rgb(93, 62, 153)"
           ],
           [
            0.36363636363636365,
            "rgb(126, 77, 143)"
           ],
           [
            0.45454545454545453,
            "rgb(158, 89, 135)"
           ],
           [
            0.5454545454545454,
            "rgb(193, 100, 121)"
           ],
           [
            0.6363636363636364,
            "rgb(225, 113, 97)"
           ],
           [
            0.7272727272727273,
            "rgb(246, 139, 69)"
           ],
           [
            0.8181818181818182,
            "rgb(251, 173, 60)"
           ],
           [
            0.9090909090909091,
            "rgb(246, 211, 70)"
           ],
           [
            1,
            "rgb(231, 250, 90)"
           ]
          ],
          "showscale": true
         },
         "mode": "markers",
         "name": "Mean",
         "showlegend": false,
         "text": [
          "Ni XI 148",
          "Ni XI 148",
          "Ni XI 148",
          "Ni XI 148",
          "Ni XI 148",
          "Ni XI 148",
          "Ni XI 148",
          "Ni XI 148",
          "O VI 150",
          "O VI 150",
          "O VI 150",
          "O VI 150",
          "O VI 150",
          "O VI 150",
          "O VI 150",
          "Ni XII 152",
          "Ni XII 152",
          "Ni XII 152",
          "Ni XII 152",
          "Ni XII 152",
          "Fe XXIII 154",
          "Fe XXIII 154",
          "Fe XXIII 154",
          "Fe XXIII 154",
          "Fe XXIII 154",
          "Fe IX 171",
          "Fe IX 171",
          "Fe IX 171",
          "Fe IX 171",
          "Fe IX 171",
          "Fe IX 171",
          "Fe IX 174",
          "Fe IX 174",
          "Fe IX 174",
          "Fe IX 174",
          "Fe IX 174",
          "Fe IX 174",
          "Fe IX 174",
          "Fe X 177",
          "Fe X 177",
          "Fe X 177",
          "Fe X 177",
          "Fe X 177",
          "Fe X 177",
          "Fe XI 180",
          "Fe XI 180",
          "Fe XI 180",
          "Fe XI 180",
          "Fe XI 180",
          "Fe XI 180",
          "Fe XI 182",
          "Fe XI 182",
          "Fe XI 182",
          "Fe XI 182",
          "Fe XI 182",
          "Fe X 185",
          "Fe X 185",
          "Fe X 185",
          "Fe X 185",
          "Fe X 185",
          "Fe X 185",
          "Fe XII 187",
          "Fe XII 187",
          "Fe XII 187",
          "Fe XII 187",
          "Fe XII 187",
          "Fe XI 188",
          "Fe XI 188",
          "Fe XI 188",
          "Fe XI 188",
          "Fe XI 188",
          "Fe XI 188",
          "Fe XII 195",
          "Fe XII 195",
          "Fe XII 195",
          "Fe XII 195",
          "Fe XIV 211",
          "Fe XIV 211",
          "Fe XIV 211",
          "Fe IX 217",
          "Fe IX 217",
          "Fe IX 217",
          "Fe IX 217",
          "Fe IX 217",
          "Fe XIV 265",
          "Fe XIV 265",
          "Fe XIV 265",
          "Fe XIV 265",
          "Fe XIV 265",
          "O IV 272",
          "O IV 272",
          "O IV 272",
          "O IV 272",
          "Fe XIV 274",
          "Fe XIV 274",
          "Fe XIV 274",
          "Fe XIV 274",
          "Fe XV 284",
          "Fe XV 284",
          "Fe XV 284",
          "Fe XV 284",
          "Si IX 296",
          "Si IX 296",
          "Si IX 296",
          "Si IX 296",
          "Si IX 296",
          "Si IX 296",
          "He II 304",
          "He II 304",
          "He II 304",
          "He II 304",
          "Fe XVI 335",
          "Fe XVI 335",
          "Fe XVI 335",
          "Fe XVI 335",
          "Fe XVI 335",
          "Fe XVI 335",
          "Si X 356",
          "Si X 356",
          "Si X 356",
          "Si X 356",
          "Si X 356",
          "Mg IX 368",
          "Mg IX 368",
          "Mg IX 368",
          "Mg IX 368"
         ],
         "type": "scatter",
         "x": [
          14.11642653698231,
          27.616775785822178,
          51.37067725831221,
          2.666087295498508,
          202.43957014884754,
          359.35167687984557,
          548.7110327724835,
          1145.0490934079462,
          13.481030488216206,
          30.499353485649124,
          53.08002386760945,
          97.63195575820893,
          258.31334353801896,
          null,
          1030.6623430965326,
          13.942558059668865,
          27.37371178753602,
          225.83225492952394,
          502.94159699667574,
          825.7601589916202,
          13.964131113675196,
          27.74466947337789,
          405.26346636834427,
          651.2811221382773,
          1326.752397181353,
          13.532917814204527,
          29.054406650080086,
          51.687563462081116,
          92.06838143076324,
          240.58469605061714,
          871.3442338879848,
          14.232250755617223,
          29.89979403239308,
          52.15449481826716,
          109.93808439690223,
          204.20419151322844,
          372.47471340626873,
          1123.9267940557174,
          13.860171587758497,
          30.0497424005258,
          null,
          177.19705261125833,
          451.318396090769,
          711.9479903577794,
          14.192207525078077,
          23.295190875039943,
          null,
          183.90017357003282,
          397.7817805653522,
          null,
          14.076988312823698,
          26.32349189434033,
          173.81628300135066,
          403.07656830178104,
          null,
          null,
          30.552775730836245,
          56.0383601749756,
          115.6648116725808,
          276.4231031158464,
          931.912965329196,
          14.089102509638668,
          26.89621482754817,
          205.1144052982211,
          392.3342410467547,
          1081.407983229229,
          14.136066477663432,
          25.171100517234912,
          180.17668812121732,
          393.7625092907371,
          null,
          1338.426649419487,
          14.012008226285486,
          27.691596324145557,
          180.2740456119993,
          411.0959869059459,
          13.966782657345522,
          27.277446473207732,
          425.7221635736495,
          13.620671438845598,
          31.11612470333821,
          163.66780612532799,
          389.5648788443427,
          657.5770646536689,
          null,
          120.15644313299671,
          215.8125756335946,
          398.3216620742246,
          911.2027161214633,
          13.604733826194078,
          30.063908612510005,
          179.69272911752185,
          465.18193089110537,
          13.788162217467681,
          27.28814196322041,
          null,
          1354.0534830600996,
          13.699544359494753,
          27.03428593096209,
          null,
          2.666087295498508,
          13.385692231454458,
          null,
          47.66696452941511,
          93.31316214228396,
          196.62153545292654,
          401.347375128692,
          28.637380976460992,
          222.95210774693032,
          394.76269034689375,
          815.9847516729328,
          28.08141222837578,
          8.801797915749102,
          null,
          208.7936211582328,
          622.2307672772085,
          852.1784984650368,
          29.893390424878767,
          55.45933334943911,
          132.5144006975838,
          396.8157816404881,
          1108.3719189283381,
          36.450691471674986,
          115.24126944663345,
          400.31474500674227,
          882.6829931674819
         ],
         "xaxis": "x3",
         "y": [
          148.377,
          148.377,
          148.377,
          148.377,
          148.377,
          148.377,
          148.377,
          148.377,
          150.089,
          150.089,
          150.089,
          150.089,
          150.089,
          150.089,
          150.089,
          152.151,
          152.151,
          152.151,
          152.151,
          152.151,
          154.303,
          154.303,
          154.303,
          154.303,
          154.303,
          171.073,
          171.073,
          171.073,
          171.073,
          171.073,
          171.073,
          174.531,
          174.531,
          174.531,
          174.531,
          174.531,
          174.531,
          174.531,
          177.24,
          177.24,
          177.24,
          177.24,
          177.24,
          177.24,
          180.401,
          180.401,
          180.401,
          180.401,
          180.401,
          180.401,
          182.167,
          182.167,
          182.167,
          182.167,
          182.167,
          184.537,
          184.537,
          184.537,
          184.537,
          184.537,
          184.537,
          186.887,
          186.887,
          186.887,
          186.887,
          186.887,
          188.299,
          188.299,
          188.299,
          188.299,
          188.299,
          188.299,
          195.119,
          195.119,
          195.119,
          195.119,
          211.317,
          211.317,
          211.317,
          217.101,
          217.101,
          217.101,
          217.101,
          217.101,
          264.788,
          264.788,
          264.788,
          264.788,
          264.788,
          272.127,
          272.127,
          272.127,
          272.127,
          274.203,
          274.203,
          274.203,
          274.203,
          284.163,
          284.163,
          284.163,
          284.163,
          296.117,
          296.117,
          296.117,
          296.117,
          296.117,
          296.117,
          303.78,
          303.78,
          303.78,
          303.78,
          335.409,
          335.409,
          335.409,
          335.409,
          335.409,
          335.409,
          356.037,
          356.037,
          356.037,
          356.037,
          356.037,
          368.071,
          368.071,
          368.071,
          368.071
         ],
         "yaxis": "y3"
        },
        {
         "marker": {
          "color": [
           6.2,
           6.2,
           6.2,
           6.2,
           6.2,
           6.2,
           6.2,
           6.2,
           5.5,
           5.5,
           5.5,
           5.5,
           5.5,
           5.5,
           5.5,
           6.3,
           6.3,
           6.3,
           6.3,
           6.3,
           7.15,
           7.15,
           7.15,
           7.15,
           7.15,
           6.2,
           6.2,
           6.2,
           6.2,
           6.2,
           6.2,
           6.05,
           6.05,
           6.05,
           6.05,
           6.05,
           6.05,
           6.05,
           6.05,
           6.05,
           6.05,
           6.05,
           6.05,
           6.05,
           6.15,
           6.15,
           6.15,
           6.15,
           6.15,
           6.15,
           6.15,
           6.15,
           6.15,
           6.15,
           6.15,
           6.05,
           6.05,
           6.05,
           6.05,
           6.05,
           6.05,
           6.2,
           6.2,
           6.2,
           6.2,
           6.2,
           6.15,
           6.15,
           6.15,
           6.15,
           6.15,
           6.15,
           6.2,
           6.2,
           6.2,
           6.2,
           6.35,
           6.35,
           6.35,
           5.9,
           5.9,
           5.9,
           5.9,
           5.9,
           6.28,
           6.28,
           6.28,
           6.28,
           6.28,
           5.2,
           5.2,
           5.2,
           5.2,
           6.35,
           6.35,
           6.35,
           6.35,
           6.4,
           6.4,
           6.4,
           6.4,
           6.1,
           6.1,
           6.1,
           6.1,
           6.1,
           6.1,
           4.9,
           4.9,
           4.9,
           4.9,
           6.8,
           6.8,
           6.8,
           6.8,
           6.8,
           6.8,
           6.2,
           6.2,
           6.2,
           6.2,
           6.2,
           6,
           6,
           6,
           6
          ],
          "showscale": false
         },
         "mode": "markers",
         "name": "Mean",
         "showlegend": false,
         "text": [
          "Ni XI 148",
          "Ni XI 148",
          "Ni XI 148",
          "Ni XI 148",
          "Ni XI 148",
          "Ni XI 148",
          "Ni XI 148",
          "Ni XI 148",
          "O VI 150",
          "O VI 150",
          "O VI 150",
          "O VI 150",
          "O VI 150",
          "O VI 150",
          "O VI 150",
          "Ni XII 152",
          "Ni XII 152",
          "Ni XII 152",
          "Ni XII 152",
          "Ni XII 152",
          "Fe XXIII 154",
          "Fe XXIII 154",
          "Fe XXIII 154",
          "Fe XXIII 154",
          "Fe XXIII 154",
          "Fe IX 171",
          "Fe IX 171",
          "Fe IX 171",
          "Fe IX 171",
          "Fe IX 171",
          "Fe IX 171",
          "Fe IX 174",
          "Fe IX 174",
          "Fe IX 174",
          "Fe IX 174",
          "Fe IX 174",
          "Fe IX 174",
          "Fe IX 174",
          "Fe X 177",
          "Fe X 177",
          "Fe X 177",
          "Fe X 177",
          "Fe X 177",
          "Fe X 177",
          "Fe XI 180",
          "Fe XI 180",
          "Fe XI 180",
          "Fe XI 180",
          "Fe XI 180",
          "Fe XI 180",
          "Fe XI 182",
          "Fe XI 182",
          "Fe XI 182",
          "Fe XI 182",
          "Fe XI 182",
          "Fe X 185",
          "Fe X 185",
          "Fe X 185",
          "Fe X 185",
          "Fe X 185",
          "Fe X 185",
          "Fe XII 187",
          "Fe XII 187",
          "Fe XII 187",
          "Fe XII 187",
          "Fe XII 187",
          "Fe XI 188",
          "Fe XI 188",
          "Fe XI 188",
          "Fe XI 188",
          "Fe XI 188",
          "Fe XI 188",
          "Fe XII 195",
          "Fe XII 195",
          "Fe XII 195",
          "Fe XII 195",
          "Fe XIV 211",
          "Fe XIV 211",
          "Fe XIV 211",
          "Fe IX 217",
          "Fe IX 217",
          "Fe IX 217",
          "Fe IX 217",
          "Fe IX 217",
          "Fe XIV 265",
          "Fe XIV 265",
          "Fe XIV 265",
          "Fe XIV 265",
          "Fe XIV 265",
          "O IV 272",
          "O IV 272",
          "O IV 272",
          "O IV 272",
          "Fe XIV 274",
          "Fe XIV 274",
          "Fe XIV 274",
          "Fe XIV 274",
          "Fe XV 284",
          "Fe XV 284",
          "Fe XV 284",
          "Fe XV 284",
          "Si IX 296",
          "Si IX 296",
          "Si IX 296",
          "Si IX 296",
          "Si IX 296",
          "Si IX 296",
          "He II 304",
          "He II 304",
          "He II 304",
          "He II 304",
          "Fe XVI 335",
          "Fe XVI 335",
          "Fe XVI 335",
          "Fe XVI 335",
          "Fe XVI 335",
          "Fe XVI 335",
          "Si X 356",
          "Si X 356",
          "Si X 356",
          "Si X 356",
          "Si X 356",
          "Mg IX 368",
          "Mg IX 368",
          "Mg IX 368",
          "Mg IX 368"
         ],
         "type": "scatter",
         "x": [
          14.11642653698231,
          27.616775785822178,
          51.37067725831221,
          2.666087295498508,
          202.43957014884754,
          359.35167687984557,
          548.7110327724835,
          1145.0490934079462,
          13.481030488216206,
          30.499353485649124,
          53.08002386760945,
          97.63195575820893,
          258.31334353801896,
          null,
          1030.6623430965326,
          13.942558059668865,
          27.37371178753602,
          225.83225492952394,
          502.94159699667574,
          825.7601589916202,
          13.964131113675196,
          27.74466947337789,
          405.26346636834427,
          651.2811221382773,
          1326.752397181353,
          13.532917814204527,
          29.054406650080086,
          51.687563462081116,
          92.06838143076324,
          240.58469605061714,
          871.3442338879848,
          14.232250755617223,
          29.89979403239308,
          52.15449481826716,
          109.93808439690223,
          204.20419151322844,
          372.47471340626873,
          1123.9267940557174,
          13.860171587758497,
          30.0497424005258,
          null,
          177.19705261125833,
          451.318396090769,
          711.9479903577794,
          14.192207525078077,
          23.295190875039943,
          null,
          183.90017357003282,
          397.7817805653522,
          null,
          14.076988312823698,
          26.32349189434033,
          173.81628300135066,
          403.07656830178104,
          null,
          null,
          30.552775730836245,
          56.0383601749756,
          115.6648116725808,
          276.4231031158464,
          931.912965329196,
          14.089102509638668,
          26.89621482754817,
          205.1144052982211,
          392.3342410467547,
          1081.407983229229,
          14.136066477663432,
          25.171100517234912,
          180.17668812121732,
          393.7625092907371,
          null,
          1338.426649419487,
          14.012008226285486,
          27.691596324145557,
          180.2740456119993,
          411.0959869059459,
          13.966782657345522,
          27.277446473207732,
          425.7221635736495,
          13.620671438845598,
          31.11612470333821,
          163.66780612532799,
          389.5648788443427,
          657.5770646536689,
          null,
          120.15644313299671,
          215.8125756335946,
          398.3216620742246,
          911.2027161214633,
          13.604733826194078,
          30.063908612510005,
          179.69272911752185,
          465.18193089110537,
          13.788162217467681,
          27.28814196322041,
          null,
          1354.0534830600996,
          13.699544359494753,
          27.03428593096209,
          null,
          2.666087295498508,
          13.385692231454458,
          null,
          47.66696452941511,
          93.31316214228396,
          196.62153545292654,
          401.347375128692,
          28.637380976460992,
          222.95210774693032,
          394.76269034689375,
          815.9847516729328,
          28.08141222837578,
          8.801797915749102,
          null,
          208.7936211582328,
          622.2307672772085,
          852.1784984650368,
          29.893390424878767,
          55.45933334943911,
          132.5144006975838,
          396.8157816404881,
          1108.3719189283381,
          36.450691471674986,
          115.24126944663345,
          400.31474500674227,
          882.6829931674819
         ],
         "xaxis": "x4",
         "y": [
          6.2,
          6.2,
          6.2,
          6.2,
          6.2,
          6.2,
          6.2,
          6.2,
          5.5,
          5.5,
          5.5,
          5.5,
          5.5,
          5.5,
          5.5,
          6.3,
          6.3,
          6.3,
          6.3,
          6.3,
          7.15,
          7.15,
          7.15,
          7.15,
          7.15,
          6.2,
          6.2,
          6.2,
          6.2,
          6.2,
          6.2,
          6.05,
          6.05,
          6.05,
          6.05,
          6.05,
          6.05,
          6.05,
          6.05,
          6.05,
          6.05,
          6.05,
          6.05,
          6.05,
          6.15,
          6.15,
          6.15,
          6.15,
          6.15,
          6.15,
          6.15,
          6.15,
          6.15,
          6.15,
          6.15,
          6.05,
          6.05,
          6.05,
          6.05,
          6.05,
          6.05,
          6.2,
          6.2,
          6.2,
          6.2,
          6.2,
          6.15,
          6.15,
          6.15,
          6.15,
          6.15,
          6.15,
          6.2,
          6.2,
          6.2,
          6.2,
          6.35,
          6.35,
          6.35,
          5.9,
          5.9,
          5.9,
          5.9,
          5.9,
          6.28,
          6.28,
          6.28,
          6.28,
          6.28,
          5.2,
          5.2,
          5.2,
          5.2,
          6.35,
          6.35,
          6.35,
          6.35,
          6.4,
          6.4,
          6.4,
          6.4,
          6.1,
          6.1,
          6.1,
          6.1,
          6.1,
          6.1,
          4.9,
          4.9,
          4.9,
          4.9,
          6.8,
          6.8,
          6.8,
          6.8,
          6.8,
          6.8,
          6.2,
          6.2,
          6.2,
          6.2,
          6.2,
          6,
          6,
          6,
          6
         ],
         "yaxis": "y4"
        },
        {
         "marker": {
          "color": [
           6.2,
           6.2,
           6.2,
           6.2,
           6.2,
           5.5,
           5.5,
           5.5,
           5.5,
           6.3,
           6.3,
           7.15,
           6.2,
           6.2,
           6.2,
           6.2,
           6.05,
           6.05,
           6.05,
           6.05,
           6.05,
           6.05,
           6.05,
           6.05,
           6.05,
           6.05,
           6.15,
           6.15,
           6.15,
           6.15,
           6.15,
           6.15,
           6.15,
           6.15,
           6.15,
           6.15,
           6.05,
           6.05,
           6.05,
           6.05,
           6.05,
           6.2,
           6.2,
           6.2,
           6.15,
           6.15,
           6.15,
           6.15,
           6.2,
           6.2,
           6.2,
           6.2,
           6.2,
           6.35,
           6.35,
           6.35,
           6.35,
           6.35,
           6.35,
           6.35,
           5.9,
           5.9,
           5.9,
           6.28,
           6.28,
           6.28,
           5.2,
           5.2,
           5.2,
           5.2,
           6.35,
           6.35,
           6.35,
           6.35,
           6.35,
           6.35,
           6.4,
           6.4,
           6.4,
           6.4,
           6.4,
           6.1,
           6.1,
           6.1,
           6.1,
           6.1,
           4.9,
           4.9,
           6.8,
           6.8,
           6.8,
           6.8,
           6.8,
           6.8,
           6.2,
           6.2,
           6.2,
           6.2,
           6.2,
           6.2,
           6.2,
           6,
           6,
           6,
           6,
           6
          ],
          "colorbar": {
           "title": {
            "text": "log(T)"
           }
          },
          "colorscale": [
           [
            0,
            "rgb(3, 35, 51)"
           ],
           [
            0.09090909090909091,
            "rgb(13, 48, 100)"
           ],
           [
            0.18181818181818182,
            "rgb(53, 50, 155)"
           ],
           [
            0.2727272727272727,
            "rgb(93, 62, 153)"
           ],
           [
            0.36363636363636365,
            "rgb(126, 77, 143)"
           ],
           [
            0.45454545454545453,
            "rgb(158, 89, 135)"
           ],
           [
            0.5454545454545454,
            "rgb(193, 100, 121)"
           ],
           [
            0.6363636363636364,
            "rgb(225, 113, 97)"
           ],
           [
            0.7272727272727273,
            "rgb(246, 139, 69)"
           ],
           [
            0.8181818181818182,
            "rgb(251, 173, 60)"
           ],
           [
            0.9090909090909091,
            "rgb(246, 211, 70)"
           ],
           [
            1,
            "rgb(231, 250, 90)"
           ]
          ],
          "showscale": true
         },
         "mode": "markers",
         "name": "Stddev",
         "showlegend": false,
         "text": [
          "Ni XI 148",
          "Ni XI 148",
          "Ni XI 148",
          "Ni XI 148",
          "Ni XI 148",
          "O VI 150",
          "O VI 150",
          "O VI 150",
          "O VI 150",
          "Ni XII 152",
          "Ni XII 152",
          "Fe XXIII 154",
          "Fe IX 171",
          "Fe IX 171",
          "Fe IX 171",
          "Fe IX 171",
          "Fe IX 174",
          "Fe IX 174",
          "Fe IX 174",
          "Fe IX 174",
          "Fe IX 174",
          "Fe IX 174",
          "Fe X 177",
          "Fe X 177",
          "Fe X 177",
          "Fe X 177",
          "Fe XI 180",
          "Fe XI 180",
          "Fe XI 180",
          "Fe XI 180",
          "Fe XI 182",
          "Fe XI 182",
          "Fe XI 182",
          "Fe XI 182",
          "Fe XI 182",
          "Fe XI 182",
          "Fe X 185",
          "Fe X 185",
          "Fe X 185",
          "Fe X 185",
          "Fe X 185",
          "Fe XII 187",
          "Fe XII 187",
          "Fe XII 187",
          "Fe XI 188",
          "Fe XI 188",
          "Fe XI 188",
          "Fe XI 188",
          "Fe XII 195",
          "Fe XII 195",
          "Fe XII 195",
          "Fe XII 195",
          "Fe XII 195",
          "Fe XIV 211",
          "Fe XIV 211",
          "Fe XIV 211",
          "Fe XIV 211",
          "Fe XIV 211",
          "Fe XIV 211",
          "Fe XIV 211",
          "Fe IX 217",
          "Fe IX 217",
          "Fe IX 217",
          "Fe XIV 265",
          "Fe XIV 265",
          "Fe XIV 265",
          "O IV 272",
          "O IV 272",
          "O IV 272",
          "O IV 272",
          "Fe XIV 274",
          "Fe XIV 274",
          "Fe XIV 274",
          "Fe XIV 274",
          "Fe XIV 274",
          "Fe XIV 274",
          "Fe XV 284",
          "Fe XV 284",
          "Fe XV 284",
          "Fe XV 284",
          "Fe XV 284",
          "Si IX 296",
          "Si IX 296",
          "Si IX 296",
          "Si IX 296",
          "Si IX 296",
          "He II 304",
          "He II 304",
          "Fe XVI 335",
          "Fe XVI 335",
          "Fe XVI 335",
          "Fe XVI 335",
          "Fe XVI 335",
          "Fe XVI 335",
          "Si X 356",
          "Si X 356",
          "Si X 356",
          "Si X 356",
          "Si X 356",
          "Si X 356",
          "Si X 356",
          "Mg IX 368",
          "Mg IX 368",
          "Mg IX 368",
          "Mg IX 368",
          "Mg IX 368"
         ],
         "type": "scatter",
         "x": [
          13.026210611381849,
          28.5429121955423,
          53.19424399529154,
          1590.832974819458,
          862.2720898469842,
          26.806840490411698,
          134.2682339833241,
          249.2515076781942,
          824.8483661284422,
          null,
          231.9194905042568,
          238.73143424250176,
          2.0660872954985074,
          26.431649936195047,
          390.38563878043834,
          828.7960039576686,
          26.030575839981346,
          2.2660872954985076,
          null,
          228.62594189449504,
          382.32342395726334,
          817.4049681449519,
          26.611852491649536,
          263.1162901271579,
          null,
          826.0051400125021,
          27.277732787736475,
          229.8125995608472,
          391.82861432175827,
          804.5573806674317,
          9.7073437369755,
          null,
          29.18938135918841,
          54.09886104398493,
          377.79969633120913,
          810.2590724580815,
          27.313476802253685,
          56.69619977678526,
          null,
          272.1318961104573,
          858.7136332890868,
          27.321093740010365,
          null,
          230.50685148794352,
          26.858679318518515,
          227.51138536892992,
          393.2321141276934,
          797.6209748463251,
          9.972530500212027,
          13.806108091071987,
          27.903575715926312,
          393.5405800904095,
          1335.1681171859195,
          9.583380232092965,
          null,
          27.430567475330456,
          2.666087295498508,
          216.23419422341206,
          437.1525200306969,
          1080.5536921578541,
          27.18833690019572,
          261.8570394375622,
          908.7044413319439,
          27.19560682895702,
          238.8660597273811,
          913.7830712671278,
          39.704553007591095,
          49.95105995475541,
          233.58984614273632,
          693.6861827613143,
          8.95927168149073,
          27.721947615917706,
          null,
          180.7918762792452,
          787.6593482743984,
          1239.104760946111,
          8.757616337484693,
          27.275366314449446,
          215.79520251089033,
          431.01485192590155,
          681.0692745286926,
          29.269640065237443,
          33.80339889763344,
          200.3915554675425,
          563.3072572500806,
          1246.9276842925017,
          276.9678610656661,
          784.0655565846239,
          14.968787745521563,
          31.30158564404409,
          52.276974736792525,
          138.76594325381194,
          210.45335106532633,
          354.29518985619467,
          28.629609476383205,
          69.70983424398435,
          132.68217042336175,
          232.0700918312697,
          null,
          471.01286632322586,
          811.8729470060072,
          14.765770974648328,
          33.688260631161945,
          64.16237476629064,
          387.59611542852406,
          925.6724710080689
         ],
         "xaxis": "x5",
         "y": [
          148.377,
          148.377,
          148.377,
          148.377,
          148.377,
          150.089,
          150.089,
          150.089,
          150.089,
          152.151,
          152.151,
          154.303,
          171.073,
          171.073,
          171.073,
          171.073,
          174.531,
          174.531,
          174.531,
          174.531,
          174.531,
          174.531,
          177.24,
          177.24,
          177.24,
          177.24,
          180.401,
          180.401,
          180.401,
          180.401,
          182.167,
          182.167,
          182.167,
          182.167,
          182.167,
          182.167,
          184.537,
          184.537,
          184.537,
          184.537,
          184.537,
          186.887,
          186.887,
          186.887,
          188.299,
          188.299,
          188.299,
          188.299,
          195.119,
          195.119,
          195.119,
          195.119,
          195.119,
          211.317,
          211.317,
          211.317,
          211.317,
          211.317,
          211.317,
          211.317,
          217.101,
          217.101,
          217.101,
          264.788,
          264.788,
          264.788,
          272.127,
          272.127,
          272.127,
          272.127,
          274.203,
          274.203,
          274.203,
          274.203,
          274.203,
          274.203,
          284.163,
          284.163,
          284.163,
          284.163,
          284.163,
          296.117,
          296.117,
          296.117,
          296.117,
          296.117,
          303.78,
          303.78,
          335.409,
          335.409,
          335.409,
          335.409,
          335.409,
          335.409,
          356.037,
          356.037,
          356.037,
          356.037,
          356.037,
          356.037,
          356.037,
          368.071,
          368.071,
          368.071,
          368.071,
          368.071
         ],
         "yaxis": "y5"
        },
        {
         "marker": {
          "color": [
           6.2,
           6.2,
           6.2,
           6.2,
           6.2,
           5.5,
           5.5,
           5.5,
           5.5,
           6.3,
           6.3,
           7.15,
           6.2,
           6.2,
           6.2,
           6.2,
           6.05,
           6.05,
           6.05,
           6.05,
           6.05,
           6.05,
           6.05,
           6.05,
           6.05,
           6.05,
           6.15,
           6.15,
           6.15,
           6.15,
           6.15,
           6.15,
           6.15,
           6.15,
           6.15,
           6.15,
           6.05,
           6.05,
           6.05,
           6.05,
           6.05,
           6.2,
           6.2,
           6.2,
           6.15,
           6.15,
           6.15,
           6.15,
           6.2,
           6.2,
           6.2,
           6.2,
           6.2,
           6.35,
           6.35,
           6.35,
           6.35,
           6.35,
           6.35,
           6.35,
           5.9,
           5.9,
           5.9,
           6.28,
           6.28,
           6.28,
           5.2,
           5.2,
           5.2,
           5.2,
           6.35,
           6.35,
           6.35,
           6.35,
           6.35,
           6.35,
           6.4,
           6.4,
           6.4,
           6.4,
           6.4,
           6.1,
           6.1,
           6.1,
           6.1,
           6.1,
           4.9,
           4.9,
           6.8,
           6.8,
           6.8,
           6.8,
           6.8,
           6.8,
           6.2,
           6.2,
           6.2,
           6.2,
           6.2,
           6.2,
           6.2,
           6,
           6,
           6,
           6,
           6
          ],
          "colorbar": {
           "title": {
            "text": "log(T)"
           }
          },
          "colorscale": [
           [
            0,
            "rgb(3, 35, 51)"
           ],
           [
            0.09090909090909091,
            "rgb(13, 48, 100)"
           ],
           [
            0.18181818181818182,
            "rgb(53, 50, 155)"
           ],
           [
            0.2727272727272727,
            "rgb(93, 62, 153)"
           ],
           [
            0.36363636363636365,
            "rgb(126, 77, 143)"
           ],
           [
            0.45454545454545453,
            "rgb(158, 89, 135)"
           ],
           [
            0.5454545454545454,
            "rgb(193, 100, 121)"
           ],
           [
            0.6363636363636364,
            "rgb(225, 113, 97)"
           ],
           [
            0.7272727272727273,
            "rgb(246, 139, 69)"
           ],
           [
            0.8181818181818182,
            "rgb(251, 173, 60)"
           ],
           [
            0.9090909090909091,
            "rgb(246, 211, 70)"
           ],
           [
            1,
            "rgb(231, 250, 90)"
           ]
          ],
          "showscale": true
         },
         "mode": "markers",
         "name": "Stddev",
         "showlegend": false,
         "text": [
          "Ni XI 148",
          "Ni XI 148",
          "Ni XI 148",
          "Ni XI 148",
          "Ni XI 148",
          "O VI 150",
          "O VI 150",
          "O VI 150",
          "O VI 150",
          "Ni XII 152",
          "Ni XII 152",
          "Fe XXIII 154",
          "Fe IX 171",
          "Fe IX 171",
          "Fe IX 171",
          "Fe IX 171",
          "Fe IX 174",
          "Fe IX 174",
          "Fe IX 174",
          "Fe IX 174",
          "Fe IX 174",
          "Fe IX 174",
          "Fe X 177",
          "Fe X 177",
          "Fe X 177",
          "Fe X 177",
          "Fe XI 180",
          "Fe XI 180",
          "Fe XI 180",
          "Fe XI 180",
          "Fe XI 182",
          "Fe XI 182",
          "Fe XI 182",
          "Fe XI 182",
          "Fe XI 182",
          "Fe XI 182",
          "Fe X 185",
          "Fe X 185",
          "Fe X 185",
          "Fe X 185",
          "Fe X 185",
          "Fe XII 187",
          "Fe XII 187",
          "Fe XII 187",
          "Fe XI 188",
          "Fe XI 188",
          "Fe XI 188",
          "Fe XI 188",
          "Fe XII 195",
          "Fe XII 195",
          "Fe XII 195",
          "Fe XII 195",
          "Fe XII 195",
          "Fe XIV 211",
          "Fe XIV 211",
          "Fe XIV 211",
          "Fe XIV 211",
          "Fe XIV 211",
          "Fe XIV 211",
          "Fe XIV 211",
          "Fe IX 217",
          "Fe IX 217",
          "Fe IX 217",
          "Fe XIV 265",
          "Fe XIV 265",
          "Fe XIV 265",
          "O IV 272",
          "O IV 272",
          "O IV 272",
          "O IV 272",
          "Fe XIV 274",
          "Fe XIV 274",
          "Fe XIV 274",
          "Fe XIV 274",
          "Fe XIV 274",
          "Fe XIV 274",
          "Fe XV 284",
          "Fe XV 284",
          "Fe XV 284",
          "Fe XV 284",
          "Fe XV 284",
          "Si IX 296",
          "Si IX 296",
          "Si IX 296",
          "Si IX 296",
          "Si IX 296",
          "He II 304",
          "He II 304",
          "Fe XVI 335",
          "Fe XVI 335",
          "Fe XVI 335",
          "Fe XVI 335",
          "Fe XVI 335",
          "Fe XVI 335",
          "Si X 356",
          "Si X 356",
          "Si X 356",
          "Si X 356",
          "Si X 356",
          "Si X 356",
          "Si X 356",
          "Mg IX 368",
          "Mg IX 368",
          "Mg IX 368",
          "Mg IX 368",
          "Mg IX 368"
         ],
         "type": "scatter",
         "x": [
          13.026210611381849,
          28.5429121955423,
          53.19424399529154,
          1590.832974819458,
          862.2720898469842,
          26.806840490411698,
          134.2682339833241,
          249.2515076781942,
          824.8483661284422,
          null,
          231.9194905042568,
          238.73143424250176,
          2.0660872954985074,
          26.431649936195047,
          390.38563878043834,
          828.7960039576686,
          26.030575839981346,
          2.2660872954985076,
          null,
          228.62594189449504,
          382.32342395726334,
          817.4049681449519,
          26.611852491649536,
          263.1162901271579,
          null,
          826.0051400125021,
          27.277732787736475,
          229.8125995608472,
          391.82861432175827,
          804.5573806674317,
          9.7073437369755,
          null,
          29.18938135918841,
          54.09886104398493,
          377.79969633120913,
          810.2590724580815,
          27.313476802253685,
          56.69619977678526,
          null,
          272.1318961104573,
          858.7136332890868,
          27.321093740010365,
          null,
          230.50685148794352,
          26.858679318518515,
          227.51138536892992,
          393.2321141276934,
          797.6209748463251,
          9.972530500212027,
          13.806108091071987,
          27.903575715926312,
          393.5405800904095,
          1335.1681171859195,
          9.583380232092965,
          null,
          27.430567475330456,
          2.666087295498508,
          216.23419422341206,
          437.1525200306969,
          1080.5536921578541,
          27.18833690019572,
          261.8570394375622,
          908.7044413319439,
          27.19560682895702,
          238.8660597273811,
          913.7830712671278,
          39.704553007591095,
          49.95105995475541,
          233.58984614273632,
          693.6861827613143,
          8.95927168149073,
          27.721947615917706,
          null,
          180.7918762792452,
          787.6593482743984,
          1239.104760946111,
          8.757616337484693,
          27.275366314449446,
          215.79520251089033,
          431.01485192590155,
          681.0692745286926,
          29.269640065237443,
          33.80339889763344,
          200.3915554675425,
          563.3072572500806,
          1246.9276842925017,
          276.9678610656661,
          784.0655565846239,
          14.968787745521563,
          31.30158564404409,
          52.276974736792525,
          138.76594325381194,
          210.45335106532633,
          354.29518985619467,
          28.629609476383205,
          69.70983424398435,
          132.68217042336175,
          232.0700918312697,
          null,
          471.01286632322586,
          811.8729470060072,
          14.765770974648328,
          33.688260631161945,
          64.16237476629064,
          387.59611542852406,
          925.6724710080689
         ],
         "xaxis": "x6",
         "y": [
          6.2,
          6.2,
          6.2,
          6.2,
          6.2,
          5.5,
          5.5,
          5.5,
          5.5,
          6.3,
          6.3,
          7.15,
          6.2,
          6.2,
          6.2,
          6.2,
          6.05,
          6.05,
          6.05,
          6.05,
          6.05,
          6.05,
          6.05,
          6.05,
          6.05,
          6.05,
          6.15,
          6.15,
          6.15,
          6.15,
          6.15,
          6.15,
          6.15,
          6.15,
          6.15,
          6.15,
          6.05,
          6.05,
          6.05,
          6.05,
          6.05,
          6.2,
          6.2,
          6.2,
          6.15,
          6.15,
          6.15,
          6.15,
          6.2,
          6.2,
          6.2,
          6.2,
          6.2,
          6.35,
          6.35,
          6.35,
          6.35,
          6.35,
          6.35,
          6.35,
          5.9,
          5.9,
          5.9,
          6.28,
          6.28,
          6.28,
          5.2,
          5.2,
          5.2,
          5.2,
          6.35,
          6.35,
          6.35,
          6.35,
          6.35,
          6.35,
          6.4,
          6.4,
          6.4,
          6.4,
          6.4,
          6.1,
          6.1,
          6.1,
          6.1,
          6.1,
          4.9,
          4.9,
          6.8,
          6.8,
          6.8,
          6.8,
          6.8,
          6.8,
          6.2,
          6.2,
          6.2,
          6.2,
          6.2,
          6.2,
          6.2,
          6,
          6,
          6,
          6,
          6
         ],
         "yaxis": "y6"
        }
       ],
       "layout": {
        "autosize": false,
        "height": 900,
        "template": {
         "data": {
          "bar": [
           {
            "error_x": {
             "color": "#2a3f5f"
            },
            "error_y": {
             "color": "#2a3f5f"
            },
            "marker": {
             "line": {
              "color": "#E5ECF6",
              "width": 0.5
             },
             "pattern": {
              "fillmode": "overlay",
              "size": 10,
              "solidity": 0.2
             }
            },
            "type": "bar"
           }
          ],
          "barpolar": [
           {
            "marker": {
             "line": {
              "color": "#E5ECF6",
              "width": 0.5
             },
             "pattern": {
              "fillmode": "overlay",
              "size": 10,
              "solidity": 0.2
             }
            },
            "type": "barpolar"
           }
          ],
          "carpet": [
           {
            "aaxis": {
             "endlinecolor": "#2a3f5f",
             "gridcolor": "white",
             "linecolor": "white",
             "minorgridcolor": "white",
             "startlinecolor": "#2a3f5f"
            },
            "baxis": {
             "endlinecolor": "#2a3f5f",
             "gridcolor": "white",
             "linecolor": "white",
             "minorgridcolor": "white",
             "startlinecolor": "#2a3f5f"
            },
            "type": "carpet"
           }
          ],
          "choropleth": [
           {
            "colorbar": {
             "outlinewidth": 0,
             "ticks": ""
            },
            "type": "choropleth"
           }
          ],
          "contour": [
           {
            "colorbar": {
             "outlinewidth": 0,
             "ticks": ""
            },
            "colorscale": [
             [
              0,
              "#0d0887"
             ],
             [
              0.1111111111111111,
              "#46039f"
             ],
             [
              0.2222222222222222,
              "#7201a8"
             ],
             [
              0.3333333333333333,
              "#9c179e"
             ],
             [
              0.4444444444444444,
              "#bd3786"
             ],
             [
              0.5555555555555556,
              "#d8576b"
             ],
             [
              0.6666666666666666,
              "#ed7953"
             ],
             [
              0.7777777777777778,
              "#fb9f3a"
             ],
             [
              0.8888888888888888,
              "#fdca26"
             ],
             [
              1,
              "#f0f921"
             ]
            ],
            "type": "contour"
           }
          ],
          "contourcarpet": [
           {
            "colorbar": {
             "outlinewidth": 0,
             "ticks": ""
            },
            "type": "contourcarpet"
           }
          ],
          "heatmap": [
           {
            "colorbar": {
             "outlinewidth": 0,
             "ticks": ""
            },
            "colorscale": [
             [
              0,
              "#0d0887"
             ],
             [
              0.1111111111111111,
              "#46039f"
             ],
             [
              0.2222222222222222,
              "#7201a8"
             ],
             [
              0.3333333333333333,
              "#9c179e"
             ],
             [
              0.4444444444444444,
              "#bd3786"
             ],
             [
              0.5555555555555556,
              "#d8576b"
             ],
             [
              0.6666666666666666,
              "#ed7953"
             ],
             [
              0.7777777777777778,
              "#fb9f3a"
             ],
             [
              0.8888888888888888,
              "#fdca26"
             ],
             [
              1,
              "#f0f921"
             ]
            ],
            "type": "heatmap"
           }
          ],
          "heatmapgl": [
           {
            "colorbar": {
             "outlinewidth": 0,
             "ticks": ""
            },
            "colorscale": [
             [
              0,
              "#0d0887"
             ],
             [
              0.1111111111111111,
              "#46039f"
             ],
             [
              0.2222222222222222,
              "#7201a8"
             ],
             [
              0.3333333333333333,
              "#9c179e"
             ],
             [
              0.4444444444444444,
              "#bd3786"
             ],
             [
              0.5555555555555556,
              "#d8576b"
             ],
             [
              0.6666666666666666,
              "#ed7953"
             ],
             [
              0.7777777777777778,
              "#fb9f3a"
             ],
             [
              0.8888888888888888,
              "#fdca26"
             ],
             [
              1,
              "#f0f921"
             ]
            ],
            "type": "heatmapgl"
           }
          ],
          "histogram": [
           {
            "marker": {
             "pattern": {
              "fillmode": "overlay",
              "size": 10,
              "solidity": 0.2
             }
            },
            "type": "histogram"
           }
          ],
          "histogram2d": [
           {
            "colorbar": {
             "outlinewidth": 0,
             "ticks": ""
            },
            "colorscale": [
             [
              0,
              "#0d0887"
             ],
             [
              0.1111111111111111,
              "#46039f"
             ],
             [
              0.2222222222222222,
              "#7201a8"
             ],
             [
              0.3333333333333333,
              "#9c179e"
             ],
             [
              0.4444444444444444,
              "#bd3786"
             ],
             [
              0.5555555555555556,
              "#d8576b"
             ],
             [
              0.6666666666666666,
              "#ed7953"
             ],
             [
              0.7777777777777778,
              "#fb9f3a"
             ],
             [
              0.8888888888888888,
              "#fdca26"
             ],
             [
              1,
              "#f0f921"
             ]
            ],
            "type": "histogram2d"
           }
          ],
          "histogram2dcontour": [
           {
            "colorbar": {
             "outlinewidth": 0,
             "ticks": ""
            },
            "colorscale": [
             [
              0,
              "#0d0887"
             ],
             [
              0.1111111111111111,
              "#46039f"
             ],
             [
              0.2222222222222222,
              "#7201a8"
             ],
             [
              0.3333333333333333,
              "#9c179e"
             ],
             [
              0.4444444444444444,
              "#bd3786"
             ],
             [
              0.5555555555555556,
              "#d8576b"
             ],
             [
              0.6666666666666666,
              "#ed7953"
             ],
             [
              0.7777777777777778,
              "#fb9f3a"
             ],
             [
              0.8888888888888888,
              "#fdca26"
             ],
             [
              1,
              "#f0f921"
             ]
            ],
            "type": "histogram2dcontour"
           }
          ],
          "mesh3d": [
           {
            "colorbar": {
             "outlinewidth": 0,
             "ticks": ""
            },
            "type": "mesh3d"
           }
          ],
          "parcoords": [
           {
            "line": {
             "colorbar": {
              "outlinewidth": 0,
              "ticks": ""
             }
            },
            "type": "parcoords"
           }
          ],
          "pie": [
           {
            "automargin": true,
            "type": "pie"
           }
          ],
          "scatter": [
           {
            "fillpattern": {
             "fillmode": "overlay",
             "size": 10,
             "solidity": 0.2
            },
            "type": "scatter"
           }
          ],
          "scatter3d": [
           {
            "line": {
             "colorbar": {
              "outlinewidth": 0,
              "ticks": ""
             }
            },
            "marker": {
             "colorbar": {
              "outlinewidth": 0,
              "ticks": ""
             }
            },
            "type": "scatter3d"
           }
          ],
          "scattercarpet": [
           {
            "marker": {
             "colorbar": {
              "outlinewidth": 0,
              "ticks": ""
             }
            },
            "type": "scattercarpet"
           }
          ],
          "scattergeo": [
           {
            "marker": {
             "colorbar": {
              "outlinewidth": 0,
              "ticks": ""
             }
            },
            "type": "scattergeo"
           }
          ],
          "scattergl": [
           {
            "marker": {
             "colorbar": {
              "outlinewidth": 0,
              "ticks": ""
             }
            },
            "type": "scattergl"
           }
          ],
          "scattermapbox": [
           {
            "marker": {
             "colorbar": {
              "outlinewidth": 0,
              "ticks": ""
             }
            },
            "type": "scattermapbox"
           }
          ],
          "scatterpolar": [
           {
            "marker": {
             "colorbar": {
              "outlinewidth": 0,
              "ticks": ""
             }
            },
            "type": "scatterpolar"
           }
          ],
          "scatterpolargl": [
           {
            "marker": {
             "colorbar": {
              "outlinewidth": 0,
              "ticks": ""
             }
            },
            "type": "scatterpolargl"
           }
          ],
          "scatterternary": [
           {
            "marker": {
             "colorbar": {
              "outlinewidth": 0,
              "ticks": ""
             }
            },
            "type": "scatterternary"
           }
          ],
          "surface": [
           {
            "colorbar": {
             "outlinewidth": 0,
             "ticks": ""
            },
            "colorscale": [
             [
              0,
              "#0d0887"
             ],
             [
              0.1111111111111111,
              "#46039f"
             ],
             [
              0.2222222222222222,
              "#7201a8"
             ],
             [
              0.3333333333333333,
              "#9c179e"
             ],
             [
              0.4444444444444444,
              "#bd3786"
             ],
             [
              0.5555555555555556,
              "#d8576b"
             ],
             [
              0.6666666666666666,
              "#ed7953"
             ],
             [
              0.7777777777777778,
              "#fb9f3a"
             ],
             [
              0.8888888888888888,
              "#fdca26"
             ],
             [
              1,
              "#f0f921"
             ]
            ],
            "type": "surface"
           }
          ],
          "table": [
           {
            "cells": {
             "fill": {
              "color": "#EBF0F8"
             },
             "line": {
              "color": "white"
             }
            },
            "header": {
             "fill": {
              "color": "#C8D4E3"
             },
             "line": {
              "color": "white"
             }
            },
            "type": "table"
           }
          ]
         },
         "layout": {
          "annotationdefaults": {
           "arrowcolor": "#2a3f5f",
           "arrowhead": 0,
           "arrowwidth": 1
          },
          "autotypenumbers": "strict",
          "coloraxis": {
           "colorbar": {
            "outlinewidth": 0,
            "ticks": ""
           }
          },
          "colorscale": {
           "diverging": [
            [
             0,
             "#8e0152"
            ],
            [
             0.1,
             "#c51b7d"
            ],
            [
             0.2,
             "#de77ae"
            ],
            [
             0.3,
             "#f1b6da"
            ],
            [
             0.4,
             "#fde0ef"
            ],
            [
             0.5,
             "#f7f7f7"
            ],
            [
             0.6,
             "#e6f5d0"
            ],
            [
             0.7,
             "#b8e186"
            ],
            [
             0.8,
             "#7fbc41"
            ],
            [
             0.9,
             "#4d9221"
            ],
            [
             1,
             "#276419"
            ]
           ],
           "sequential": [
            [
             0,
             "#0d0887"
            ],
            [
             0.1111111111111111,
             "#46039f"
            ],
            [
             0.2222222222222222,
             "#7201a8"
            ],
            [
             0.3333333333333333,
             "#9c179e"
            ],
            [
             0.4444444444444444,
             "#bd3786"
            ],
            [
             0.5555555555555556,
             "#d8576b"
            ],
            [
             0.6666666666666666,
             "#ed7953"
            ],
            [
             0.7777777777777778,
             "#fb9f3a"
            ],
            [
             0.8888888888888888,
             "#fdca26"
            ],
            [
             1,
             "#f0f921"
            ]
           ],
           "sequentialminus": [
            [
             0,
             "#0d0887"
            ],
            [
             0.1111111111111111,
             "#46039f"
            ],
            [
             0.2222222222222222,
             "#7201a8"
            ],
            [
             0.3333333333333333,
             "#9c179e"
            ],
            [
             0.4444444444444444,
             "#bd3786"
            ],
            [
             0.5555555555555556,
             "#d8576b"
            ],
            [
             0.6666666666666666,
             "#ed7953"
            ],
            [
             0.7777777777777778,
             "#fb9f3a"
            ],
            [
             0.8888888888888888,
             "#fdca26"
            ],
            [
             1,
             "#f0f921"
            ]
           ]
          },
          "colorway": [
           "#636efa",
           "#EF553B",
           "#00cc96",
           "#ab63fa",
           "#FFA15A",
           "#19d3f3",
           "#FF6692",
           "#B6E880",
           "#FF97FF",
           "#FECB52"
          ],
          "font": {
           "color": "#2a3f5f"
          },
          "geo": {
           "bgcolor": "white",
           "lakecolor": "white",
           "landcolor": "#E5ECF6",
           "showlakes": true,
           "showland": true,
           "subunitcolor": "white"
          },
          "hoverlabel": {
           "align": "left"
          },
          "hovermode": "closest",
          "mapbox": {
           "style": "light"
          },
          "paper_bgcolor": "white",
          "plot_bgcolor": "#E5ECF6",
          "polar": {
           "angularaxis": {
            "gridcolor": "white",
            "linecolor": "white",
            "ticks": ""
           },
           "bgcolor": "#E5ECF6",
           "radialaxis": {
            "gridcolor": "white",
            "linecolor": "white",
            "ticks": ""
           }
          },
          "scene": {
           "xaxis": {
            "backgroundcolor": "#E5ECF6",
            "gridcolor": "white",
            "gridwidth": 2,
            "linecolor": "white",
            "showbackground": true,
            "ticks": "",
            "zerolinecolor": "white"
           },
           "yaxis": {
            "backgroundcolor": "#E5ECF6",
            "gridcolor": "white",
            "gridwidth": 2,
            "linecolor": "white",
            "showbackground": true,
            "ticks": "",
            "zerolinecolor": "white"
           },
           "zaxis": {
            "backgroundcolor": "#E5ECF6",
            "gridcolor": "white",
            "gridwidth": 2,
            "linecolor": "white",
            "showbackground": true,
            "ticks": "",
            "zerolinecolor": "white"
           }
          },
          "shapedefaults": {
           "line": {
            "color": "#2a3f5f"
           }
          },
          "ternary": {
           "aaxis": {
            "gridcolor": "white",
            "linecolor": "white",
            "ticks": ""
           },
           "baxis": {
            "gridcolor": "white",
            "linecolor": "white",
            "ticks": ""
           },
           "bgcolor": "#E5ECF6",
           "caxis": {
            "gridcolor": "white",
            "linecolor": "white",
            "ticks": ""
           }
          },
          "title": {
           "x": 0.05
          },
          "xaxis": {
           "automargin": true,
           "gridcolor": "white",
           "linecolor": "white",
           "ticks": "",
           "title": {
            "standoff": 15
           },
           "zerolinecolor": "white",
           "zerolinewidth": 2
          },
          "yaxis": {
           "automargin": true,
           "gridcolor": "white",
           "linecolor": "white",
           "ticks": "",
           "title": {
            "standoff": 15
           },
           "zerolinecolor": "white",
           "zerolinewidth": 2
          }
         }
        },
        "title": {
         "text": "Wavelet Peak",
         "x": 0.5
        },
        "width": 900,
        "xaxis": {
         "anchor": "y",
         "domain": [
          0,
          0.45
         ],
         "matches": "x",
         "range": [
          0,
          300
         ],
         "title": {
          "text": "Amplitude Periods (d)"
         }
        },
        "xaxis2": {
         "anchor": "y2",
         "domain": [
          0.55,
          1
         ],
         "matches": "x",
         "range": [
          0,
          300
         ],
         "title": {
          "text": "Amplitude Periods (d)"
         }
        },
        "xaxis3": {
         "anchor": "y3",
         "domain": [
          0,
          0.45
         ],
         "matches": "x",
         "range": [
          0,
          300
         ],
         "title": {
          "text": "mean Periods (d)"
         }
        },
        "xaxis4": {
         "anchor": "y4",
         "domain": [
          0.55,
          1
         ],
         "matches": "x",
         "range": [
          0,
          300
         ],
         "title": {
          "text": "mean Periods (d)"
         }
        },
        "xaxis5": {
         "anchor": "y5",
         "domain": [
          0,
          0.45
         ],
         "matches": "x",
         "range": [
          0,
          300
         ],
         "title": {
          "text": "stddev Periods (d)"
         }
        },
        "xaxis6": {
         "anchor": "y6",
         "domain": [
          0.55,
          1
         ],
         "matches": "x",
         "range": [
          0,
          300
         ],
         "title": {
          "text": "stddev Periods (d)"
         }
        },
        "yaxis": {
         "anchor": "x",
         "domain": [
          0.7333333333333333,
          1
         ],
         "title": {
          "text": "Wavelength (Angstrom)"
         }
        },
        "yaxis2": {
         "anchor": "x2",
         "domain": [
          0.7333333333333333,
          1
         ],
         "title": {
          "text": "log(T)"
         }
        },
        "yaxis3": {
         "anchor": "x3",
         "domain": [
          0.36666666666666664,
          0.6333333333333333
         ],
         "title": {
          "text": "Wavelength (Angstrom)"
         }
        },
        "yaxis4": {
         "anchor": "x4",
         "domain": [
          0.36666666666666664,
          0.6333333333333333
         ],
         "title": {
          "text": "log(T)"
         }
        },
        "yaxis5": {
         "anchor": "x5",
         "domain": [
          0,
          0.26666666666666666
         ],
         "title": {
          "text": "Wavelength (Angstrom)"
         }
        },
        "yaxis6": {
         "anchor": "x6",
         "domain": [
          0,
          0.26666666666666666
         ],
         "title": {
          "text": "log(T)"
         }
        }
       }
      }
     },
     "metadata": {},
     "output_type": "display_data"
    }
   ],
   "source": [
    "# set the whole figure to be large\n",
    "fig = make_subplots(rows=3, cols=2)\n",
    "color_scale = 'thermal'\n",
    "\n",
    "\n",
    "\n",
    "\n",
    "# Add scatter plot   Row 1\n",
    "fig.add_trace(\n",
    "    go.Scatter(\n",
    "        x=wavelet_amplitude_df['amplitude periods'],\n",
    "        y=wavelet_amplitude_df['wavelength'],\n",
    "        mode='markers',\n",
    "        marker=dict(\n",
    "            color=wavelet_amplitude_df['temperature'],  # Use normalized 'size' for color\n",
    "            colorscale=color_scale,  # Define color scale\n",
    "            colorbar=dict(title=r'log(T)'),  # Show color scale bar\n",
    "            showscale=True,# show the color bar (color scale)\n",
    "        ),\n",
    "        showlegend=False, # otherwise a legend will appear on the right,\n",
    "        text=wavelet_amplitude_df['line name'],  \n",
    "        name='Amplitude',\n",
    "                ),\n",
    "    row=1,\n",
    "    col=1,\n",
    "    )\n",
    "fig.update_xaxes(title_text=\"Amplitude Periods (d)\", row=1, col=1)\n",
    "fig.update_yaxes(title_text=\"Wavelength (Angstrom)\", row=1, col=1)\n",
    "\n",
    "\n",
    "fig.add_trace(\n",
    "    go.Scatter(\n",
    "        x=wavelet_amplitude_df['amplitude periods'],\n",
    "        y=wavelet_amplitude_df['temperature'],\n",
    "        mode='markers',\n",
    "        marker=dict(\n",
    "            color=wavelet_amplitude_df['temperature'],  # Use normalized 'size' for color\n",
    "            # colorscale=color_scale,  # Define color scale\n",
    "            # colorbar=dict(title='Temperature'),  # Show color scale bar\n",
    "            showscale=False,\n",
    "            \n",
    "            ),\n",
    "        showlegend=False,\n",
    "        name='Amplitude',\n",
    "        text=wavelet_amplitude_df['line name'], \n",
    "        # f['temperature'],  # Hover text shows 'size'\n",
    "    ),\n",
    "    row=1, \n",
    "    col=2,\n",
    "    )\n",
    "fig.update_xaxes(title_text=\"Amplitude Periods (d)\", row=1, col=2)\n",
    "fig.update_yaxes(title_text=\"log(T)\", row=1, col=2)\n",
    "fig.update_layout(\n",
    "    autosize=False,\n",
    "    width=1200,\n",
    "    height=1000,\n",
    ")\n",
    "\n",
    "\n",
    "# Add scatter plot    Row   2\n",
    "fig.add_trace(\n",
    "    go.Scatter(\n",
    "        x=wavelet_mean_df['mean periods'],\n",
    "        y=wavelet_mean_df['wavelength'],\n",
    "        mode='markers',\n",
    "        marker=dict(\n",
    "            color=wavelet_mean_df['temperature'],  # Use normalized 'size' for color\n",
    "            colorscale=color_scale,  # Define color scale\n",
    "            colorbar=dict(title=r'log(T)'),  # Show color scale bar\n",
    "            showscale=True,# show the color bar (color scale)\n",
    "        ),\n",
    "        showlegend=False, # otherwise a legend will appear on the right,\n",
    "        text=wavelet_mean_df['line name'],  # Hover text shows 'size'\n",
    "        name='Mean',\n",
    "                ),\n",
    "    row=2,\n",
    "    col=1,\n",
    "    )\n",
    "fig.update_xaxes(title_text=\"mean Periods (d)\", row=2, col=1)\n",
    "fig.update_yaxes(title_text=\"Wavelength (Angstrom)\", row=2, col=1)\n",
    "\n",
    "fig.add_trace(\n",
    "    go.Scatter(\n",
    "        x=wavelet_mean_df['mean periods'],\n",
    "        y=wavelet_mean_df['temperature'],\n",
    "        mode='markers',\n",
    "        marker=dict(\n",
    "            color=wavelet_mean_df['temperature'],  # Use normalized 'size' for color\n",
    "            # colorscale=color_scale,  # Define color scale\n",
    "            # colorbar=dict(title='Temperature'),  # Show color scale bar\n",
    "            showscale=False,\n",
    "            \n",
    "            ),\n",
    "        showlegend=False,\n",
    "        text=wavelet_mean_df['line name'], \n",
    "        name='Mean',\n",
    "    ),\n",
    "    row=2, \n",
    "    col=2,\n",
    "    )\n",
    "fig.update_xaxes(title_text=\"mean Periods (d)\", row=2, col=2)\n",
    "fig.update_yaxes(title_text=\"log(T)\", row=2, col=2)\n",
    "\n",
    "\n",
    "\n",
    "# Add scatter plot  Row 3\n",
    "fig.add_trace(\n",
    "    go.Scatter(\n",
    "        x=wavelet_stddev_df['stddev periods'],\n",
    "        y=wavelet_stddev_df['wavelength'],\n",
    "        mode='markers',\n",
    "        marker=dict(\n",
    "            color=wavelet_stddev_df['temperature'],  # Use normalized 'size' for color\n",
    "            colorscale=color_scale,  # Define color scale\n",
    "            colorbar=dict(title=r'log(T)'),  # Show color scale bar\n",
    "            showscale=True,# show the color bar (color scale)\n",
    "        ),\n",
    "        showlegend=False, # otherwise a legend will appear on the right,\n",
    "        text=wavelet_stddev_df['line name'],  # Hover text shows 'size'\n",
    "        name='Stddev',\n",
    "                ),\n",
    "    row=3, \n",
    "    col=1,\n",
    "    )\n",
    "fig.update_xaxes(title_text=\"stddev Periods (d)\", row=3, col=1)\n",
    "fig.update_yaxes(title_text=\"Wavelength (Angstrom)\", row=3, col=1)\n",
    "\n",
    "fig.add_trace(\n",
    "    go.Scatter(\n",
    "        x=wavelet_stddev_df['stddev periods'],\n",
    "        y=wavelet_stddev_df['temperature'],\n",
    "        mode='markers',\n",
    "        marker=dict(\n",
    "            color=wavelet_stddev_df['temperature'],  # Use normalized 'size' for color\n",
    "            colorscale=color_scale,  # Define color scale\n",
    "            colorbar=dict(title=r'log(T)'),  # Show color scale bar\n",
    "            showscale=True,# show the color bar (color scale)\n",
    "        ),\n",
    "        showlegend=False, # otherwise a legend will appear on the right,\n",
    "        text=wavelet_stddev_df['line name'],  # Hover text shows 'size'\n",
    "        name='Stddev',\n",
    "                ),\n",
    "    row=3, \n",
    "    col=2\n",
    "    )\n",
    "fig.update_xaxes(title_text=\"stddev Periods (d)\", row=3, col=2)\n",
    "fig.update_yaxes(title_text=\"log(T)\", row=3, col=2)\n",
    "\n",
    "fig.update_layout(\n",
    "    title_text=\"Wavelet Peak\",\n",
    "    title_x=0.5,\n",
    "    # autosize=False,\n",
    "    width=900,\n",
    "    height=900,\n",
    ")\n",
    "\n",
    "\n",
    "\n",
    "# Update to match x-axes and optionally y-axes if needed\n",
    "for row in range(1, 4):  # Rows 1 through 3\n",
    "    for col in range(1, 3):  # Columns 1 and 2\n",
    "        fig.update_xaxes(matches='x', row=row, col=col)  # Match all x-axes to the first one\n",
    "\n",
    "\n",
    "\n",
    "\n",
    "# set x axis lim\n",
    "for row in [1,2,3]:\n",
    "    for col in [1,2]:\n",
    "        fig.update_xaxes(range=[0, 300], row=row, col=col)\n",
    "\n",
    "\n",
    "fig.write_html('output\\wavelet_explore\\peak_scatter\\combine\\combined_wavelet.html')\n",
    "fig.show()"
   ]
  },
  {
   "cell_type": "code",
   "execution_count": 11,
   "metadata": {},
   "outputs": [
    {
     "data": {
      "application/vnd.plotly.v1+json": {
       "config": {
        "plotlyServerURL": "https://plot.ly"
       },
       "data": [
        {
         "marker": {
          "color": [
           6.2,
           6.2,
           6.2,
           5.5,
           5.5,
           5.5,
           6.3,
           6.3,
           6.3,
           7.15,
           7.15,
           7.15,
           6.2,
           6.2,
           6.2,
           6.2,
           6.2,
           6.05,
           6.05,
           6.05,
           6.05,
           6.05,
           6.05,
           6.05,
           6.05,
           6.05,
           6.05,
           6.15,
           6.15,
           6.15,
           6.15,
           6.15,
           6.15,
           6.05,
           6.05,
           6.05,
           6.05,
           6.05,
           6.2,
           6.2,
           6.2,
           6.15,
           6.15,
           6.15,
           6.2,
           6.2,
           6.2,
           6.35,
           6.35,
           6.35,
           5.9,
           5.9,
           5.9,
           5.9,
           6.28,
           6.28,
           6.28,
           5.2,
           5.2,
           5.2,
           6.35,
           6.35,
           6.35,
           6.4,
           6.4,
           6.4,
           6.4,
           6.1,
           6.1,
           6.1,
           6.1,
           4.9,
           4.9,
           4.9,
           4.9,
           4.9,
           6.8,
           6.8,
           6.8,
           6.8,
           6.2,
           6.2,
           6.2,
           6,
           6,
           6,
           6
          ],
          "colorbar": {
           "title": {
            "text": "log(T)"
           }
          },
          "colorscale": [
           [
            0,
            "rgb(3, 35, 51)"
           ],
           [
            0.09090909090909091,
            "rgb(13, 48, 100)"
           ],
           [
            0.18181818181818182,
            "rgb(53, 50, 155)"
           ],
           [
            0.2727272727272727,
            "rgb(93, 62, 153)"
           ],
           [
            0.36363636363636365,
            "rgb(126, 77, 143)"
           ],
           [
            0.45454545454545453,
            "rgb(158, 89, 135)"
           ],
           [
            0.5454545454545454,
            "rgb(193, 100, 121)"
           ],
           [
            0.6363636363636364,
            "rgb(225, 113, 97)"
           ],
           [
            0.7272727272727273,
            "rgb(246, 139, 69)"
           ],
           [
            0.8181818181818182,
            "rgb(251, 173, 60)"
           ],
           [
            0.9090909090909091,
            "rgb(246, 211, 70)"
           ],
           [
            1,
            "rgb(231, 250, 90)"
           ]
          ],
          "showscale": true
         },
         "mode": "markers",
         "name": "Amplitude",
         "showlegend": false,
         "text": [
          "Ni XI 148",
          "Ni XI 148",
          "Ni XI 148",
          "O VI 150",
          "O VI 150",
          "O VI 150",
          "Ni XII 152",
          "Ni XII 152",
          "Ni XII 152",
          "Fe XXIII 154",
          "Fe XXIII 154",
          "Fe XXIII 154",
          "Fe IX 171",
          "Fe IX 171",
          "Fe IX 171",
          "Fe IX 171",
          "Fe IX 171",
          "Fe IX 174",
          "Fe IX 174",
          "Fe IX 174",
          "Fe IX 174",
          "Fe IX 174",
          "Fe X 177",
          "Fe X 177",
          "Fe X 177",
          "Fe X 177",
          "Fe X 177",
          "Fe XI 180",
          "Fe XI 180",
          "Fe XI 180",
          "Fe XI 182",
          "Fe XI 182",
          "Fe XI 182",
          "Fe X 185",
          "Fe X 185",
          "Fe X 185",
          "Fe X 185",
          "Fe X 185",
          "Fe XII 187",
          "Fe XII 187",
          "Fe XII 187",
          "Fe XI 188",
          "Fe XI 188",
          "Fe XI 188",
          "Fe XII 195",
          "Fe XII 195",
          "Fe XII 195",
          "Fe XIV 211",
          "Fe XIV 211",
          "Fe XIV 211",
          "Fe IX 217",
          "Fe IX 217",
          "Fe IX 217",
          "Fe IX 217",
          "Fe XIV 265",
          "Fe XIV 265",
          "Fe XIV 265",
          "O IV 272",
          "O IV 272",
          "O IV 272",
          "Fe XIV 274",
          "Fe XIV 274",
          "Fe XIV 274",
          "Fe XV 284",
          "Fe XV 284",
          "Fe XV 284",
          "Fe XV 284",
          "Si IX 296",
          "Si IX 296",
          "Si IX 296",
          "Si IX 296",
          "He II 304",
          "He II 304",
          "He II 304",
          "He II 304",
          "He II 304",
          "Fe XVI 335",
          "Fe XVI 335",
          "Fe XVI 335",
          "Fe XVI 335",
          "Si X 356",
          "Si X 356",
          "Si X 356",
          "Mg IX 368",
          "Mg IX 368",
          "Mg IX 368",
          "Mg IX 368"
         ],
         "type": "scatter",
         "x": [
          null,
          239.23269615331523,
          834.9916623932752,
          26.701602015238816,
          259.2727393339304,
          853.3345791336595,
          27.117571524498473,
          255.21324632341287,
          841.8270685481534,
          27.110493792061085,
          255.86209714354735,
          840.534088844745,
          26.70760787502137,
          73.73206066062396,
          236.8227683704233,
          429.1650394482895,
          880.2999589011434,
          26.543304166810913,
          75.38422483832991,
          235.1043381305329,
          null,
          846.9276425494023,
          26.395656081628637,
          70.73180900950723,
          237.56925239967345,
          null,
          839.7080021908797,
          26.869025381664276,
          228.11010446186592,
          853.7747869565912,
          26.723429032597693,
          240.73008762828442,
          831.1129369416838,
          26.75189637953738,
          67.46226334135979,
          243.22656699314814,
          null,
          839.2184458109015,
          26.888038224314712,
          248.8341482966214,
          838.4136972944857,
          26.81402784919985,
          229.76605329043414,
          851.3416731059998,
          27.08098206616507,
          229.68473980869518,
          861.9347880993612,
          27.048151537678223,
          274.91812296030935,
          850.9799718221553,
          26.959298605922676,
          66.27274696953252,
          245.9912242120309,
          843.9168424820533,
          27.031798368605976,
          260.59774614911083,
          845.5421223369519,
          26.977966176050305,
          229.64981061919963,
          851.5521393531819,
          27.082412943231496,
          273.4989322120722,
          851.263195293362,
          27.006442642589466,
          119.65588435936064,
          259.94777611238834,
          916.8429724633778,
          26.29717732187493,
          228.06119303451953,
          null,
          874.207333346567,
          26.81214690845398,
          null,
          242.87699583645156,
          473.1730861075193,
          937.0012374239421,
          27.871586795219258,
          54.835641815721274,
          273.76084638907315,
          826.4765895739381,
          27.092233278352577,
          275.01110901435106,
          825.5919725178991,
          31.71905828983125,
          54.54658245502712,
          262.2548006786459,
          819.751208902667
         ],
         "xaxis": "x",
         "y": [
          148.377,
          148.377,
          148.377,
          150.089,
          150.089,
          150.089,
          152.151,
          152.151,
          152.151,
          154.303,
          154.303,
          154.303,
          171.073,
          171.073,
          171.073,
          171.073,
          171.073,
          174.531,
          174.531,
          174.531,
          174.531,
          174.531,
          177.24,
          177.24,
          177.24,
          177.24,
          177.24,
          180.401,
          180.401,
          180.401,
          182.167,
          182.167,
          182.167,
          184.537,
          184.537,
          184.537,
          184.537,
          184.537,
          186.887,
          186.887,
          186.887,
          188.299,
          188.299,
          188.299,
          195.119,
          195.119,
          195.119,
          211.317,
          211.317,
          211.317,
          217.101,
          217.101,
          217.101,
          217.101,
          264.788,
          264.788,
          264.788,
          272.127,
          272.127,
          272.127,
          274.203,
          274.203,
          274.203,
          284.163,
          284.163,
          284.163,
          284.163,
          296.117,
          296.117,
          296.117,
          296.117,
          303.78,
          303.78,
          303.78,
          303.78,
          303.78,
          335.409,
          335.409,
          335.409,
          335.409,
          356.037,
          356.037,
          356.037,
          368.071,
          368.071,
          368.071,
          368.071
         ],
         "yaxis": "y"
        },
        {
         "marker": {
          "color": [
           6.2,
           6.2,
           6.2,
           6.2,
           6.2,
           6.2,
           6.2,
           6.2,
           5.5,
           5.5,
           5.5,
           5.5,
           5.5,
           5.5,
           5.5,
           6.3,
           6.3,
           6.3,
           6.3,
           6.3,
           7.15,
           7.15,
           7.15,
           7.15,
           7.15,
           6.2,
           6.2,
           6.2,
           6.2,
           6.2,
           6.2,
           6.05,
           6.05,
           6.05,
           6.05,
           6.05,
           6.05,
           6.05,
           6.05,
           6.05,
           6.05,
           6.05,
           6.05,
           6.05,
           6.15,
           6.15,
           6.15,
           6.15,
           6.15,
           6.15,
           6.15,
           6.15,
           6.15,
           6.15,
           6.15,
           6.05,
           6.05,
           6.05,
           6.05,
           6.05,
           6.05,
           6.2,
           6.2,
           6.2,
           6.2,
           6.2,
           6.15,
           6.15,
           6.15,
           6.15,
           6.15,
           6.15,
           6.2,
           6.2,
           6.2,
           6.2,
           6.35,
           6.35,
           6.35,
           5.9,
           5.9,
           5.9,
           5.9,
           5.9,
           6.28,
           6.28,
           6.28,
           6.28,
           6.28,
           5.2,
           5.2,
           5.2,
           5.2,
           6.35,
           6.35,
           6.35,
           6.35,
           6.4,
           6.4,
           6.4,
           6.4,
           6.1,
           6.1,
           6.1,
           6.1,
           6.1,
           6.1,
           4.9,
           4.9,
           4.9,
           4.9,
           6.8,
           6.8,
           6.8,
           6.8,
           6.8,
           6.8,
           6.2,
           6.2,
           6.2,
           6.2,
           6.2,
           6,
           6,
           6,
           6
          ],
          "colorbar": {
           "title": {
            "text": "log(T)"
           }
          },
          "colorscale": [
           [
            0,
            "rgb(3, 35, 51)"
           ],
           [
            0.09090909090909091,
            "rgb(13, 48, 100)"
           ],
           [
            0.18181818181818182,
            "rgb(53, 50, 155)"
           ],
           [
            0.2727272727272727,
            "rgb(93, 62, 153)"
           ],
           [
            0.36363636363636365,
            "rgb(126, 77, 143)"
           ],
           [
            0.45454545454545453,
            "rgb(158, 89, 135)"
           ],
           [
            0.5454545454545454,
            "rgb(193, 100, 121)"
           ],
           [
            0.6363636363636364,
            "rgb(225, 113, 97)"
           ],
           [
            0.7272727272727273,
            "rgb(246, 139, 69)"
           ],
           [
            0.8181818181818182,
            "rgb(251, 173, 60)"
           ],
           [
            0.9090909090909091,
            "rgb(246, 211, 70)"
           ],
           [
            1,
            "rgb(231, 250, 90)"
           ]
          ],
          "showscale": true
         },
         "mode": "markers",
         "name": "Mean",
         "showlegend": false,
         "text": [
          "Ni XI 148",
          "Ni XI 148",
          "Ni XI 148",
          "Ni XI 148",
          "Ni XI 148",
          "Ni XI 148",
          "Ni XI 148",
          "Ni XI 148",
          "O VI 150",
          "O VI 150",
          "O VI 150",
          "O VI 150",
          "O VI 150",
          "O VI 150",
          "O VI 150",
          "Ni XII 152",
          "Ni XII 152",
          "Ni XII 152",
          "Ni XII 152",
          "Ni XII 152",
          "Fe XXIII 154",
          "Fe XXIII 154",
          "Fe XXIII 154",
          "Fe XXIII 154",
          "Fe XXIII 154",
          "Fe IX 171",
          "Fe IX 171",
          "Fe IX 171",
          "Fe IX 171",
          "Fe IX 171",
          "Fe IX 171",
          "Fe IX 174",
          "Fe IX 174",
          "Fe IX 174",
          "Fe IX 174",
          "Fe IX 174",
          "Fe IX 174",
          "Fe IX 174",
          "Fe X 177",
          "Fe X 177",
          "Fe X 177",
          "Fe X 177",
          "Fe X 177",
          "Fe X 177",
          "Fe XI 180",
          "Fe XI 180",
          "Fe XI 180",
          "Fe XI 180",
          "Fe XI 180",
          "Fe XI 180",
          "Fe XI 182",
          "Fe XI 182",
          "Fe XI 182",
          "Fe XI 182",
          "Fe XI 182",
          "Fe X 185",
          "Fe X 185",
          "Fe X 185",
          "Fe X 185",
          "Fe X 185",
          "Fe X 185",
          "Fe XII 187",
          "Fe XII 187",
          "Fe XII 187",
          "Fe XII 187",
          "Fe XII 187",
          "Fe XI 188",
          "Fe XI 188",
          "Fe XI 188",
          "Fe XI 188",
          "Fe XI 188",
          "Fe XI 188",
          "Fe XII 195",
          "Fe XII 195",
          "Fe XII 195",
          "Fe XII 195",
          "Fe XIV 211",
          "Fe XIV 211",
          "Fe XIV 211",
          "Fe IX 217",
          "Fe IX 217",
          "Fe IX 217",
          "Fe IX 217",
          "Fe IX 217",
          "Fe XIV 265",
          "Fe XIV 265",
          "Fe XIV 265",
          "Fe XIV 265",
          "Fe XIV 265",
          "O IV 272",
          "O IV 272",
          "O IV 272",
          "O IV 272",
          "Fe XIV 274",
          "Fe XIV 274",
          "Fe XIV 274",
          "Fe XIV 274",
          "Fe XV 284",
          "Fe XV 284",
          "Fe XV 284",
          "Fe XV 284",
          "Si IX 296",
          "Si IX 296",
          "Si IX 296",
          "Si IX 296",
          "Si IX 296",
          "Si IX 296",
          "He II 304",
          "He II 304",
          "He II 304",
          "He II 304",
          "Fe XVI 335",
          "Fe XVI 335",
          "Fe XVI 335",
          "Fe XVI 335",
          "Fe XVI 335",
          "Fe XVI 335",
          "Si X 356",
          "Si X 356",
          "Si X 356",
          "Si X 356",
          "Si X 356",
          "Mg IX 368",
          "Mg IX 368",
          "Mg IX 368",
          "Mg IX 368"
         ],
         "type": "scatter",
         "x": [
          14.11642653698231,
          27.616775785822178,
          51.37067725831221,
          2.666087295498508,
          202.43957014884754,
          359.35167687984557,
          548.7110327724835,
          1145.0490934079462,
          13.481030488216206,
          30.499353485649124,
          53.08002386760945,
          97.63195575820893,
          258.31334353801896,
          null,
          1030.6623430965326,
          13.942558059668865,
          27.37371178753602,
          225.83225492952394,
          502.94159699667574,
          825.7601589916202,
          13.964131113675196,
          27.74466947337789,
          405.26346636834427,
          651.2811221382773,
          1326.752397181353,
          13.532917814204527,
          29.054406650080086,
          51.687563462081116,
          92.06838143076324,
          240.58469605061714,
          871.3442338879848,
          14.232250755617223,
          29.89979403239308,
          52.15449481826716,
          109.93808439690223,
          204.20419151322844,
          372.47471340626873,
          1123.9267940557174,
          13.860171587758497,
          30.0497424005258,
          null,
          177.19705261125833,
          451.318396090769,
          711.9479903577794,
          14.192207525078077,
          23.295190875039943,
          null,
          183.90017357003282,
          397.7817805653522,
          null,
          14.076988312823698,
          26.32349189434033,
          173.81628300135066,
          403.07656830178104,
          null,
          null,
          30.552775730836245,
          56.0383601749756,
          115.6648116725808,
          276.4231031158464,
          931.912965329196,
          14.089102509638668,
          26.89621482754817,
          205.1144052982211,
          392.3342410467547,
          1081.407983229229,
          14.136066477663432,
          25.171100517234912,
          180.17668812121732,
          393.7625092907371,
          null,
          1338.426649419487,
          14.012008226285486,
          27.691596324145557,
          180.2740456119993,
          411.0959869059459,
          13.966782657345522,
          27.277446473207732,
          425.7221635736495,
          13.620671438845598,
          31.11612470333821,
          163.66780612532799,
          389.5648788443427,
          657.5770646536689,
          null,
          120.15644313299671,
          215.8125756335946,
          398.3216620742246,
          911.2027161214633,
          13.604733826194078,
          30.063908612510005,
          179.69272911752185,
          465.18193089110537,
          13.788162217467681,
          27.28814196322041,
          null,
          1354.0534830600996,
          13.699544359494753,
          27.03428593096209,
          null,
          2.666087295498508,
          13.385692231454458,
          null,
          47.66696452941511,
          93.31316214228396,
          196.62153545292654,
          401.347375128692,
          28.637380976460992,
          222.95210774693032,
          394.76269034689375,
          815.9847516729328,
          28.08141222837578,
          8.801797915749102,
          null,
          208.7936211582328,
          622.2307672772085,
          852.1784984650368,
          29.893390424878767,
          55.45933334943911,
          132.5144006975838,
          396.8157816404881,
          1108.3719189283381,
          36.450691471674986,
          115.24126944663345,
          400.31474500674227,
          882.6829931674819
         ],
         "xaxis": "x2",
         "y": [
          148.377,
          148.377,
          148.377,
          148.377,
          148.377,
          148.377,
          148.377,
          148.377,
          150.089,
          150.089,
          150.089,
          150.089,
          150.089,
          150.089,
          150.089,
          152.151,
          152.151,
          152.151,
          152.151,
          152.151,
          154.303,
          154.303,
          154.303,
          154.303,
          154.303,
          171.073,
          171.073,
          171.073,
          171.073,
          171.073,
          171.073,
          174.531,
          174.531,
          174.531,
          174.531,
          174.531,
          174.531,
          174.531,
          177.24,
          177.24,
          177.24,
          177.24,
          177.24,
          177.24,
          180.401,
          180.401,
          180.401,
          180.401,
          180.401,
          180.401,
          182.167,
          182.167,
          182.167,
          182.167,
          182.167,
          184.537,
          184.537,
          184.537,
          184.537,
          184.537,
          184.537,
          186.887,
          186.887,
          186.887,
          186.887,
          186.887,
          188.299,
          188.299,
          188.299,
          188.299,
          188.299,
          188.299,
          195.119,
          195.119,
          195.119,
          195.119,
          211.317,
          211.317,
          211.317,
          217.101,
          217.101,
          217.101,
          217.101,
          217.101,
          264.788,
          264.788,
          264.788,
          264.788,
          264.788,
          272.127,
          272.127,
          272.127,
          272.127,
          274.203,
          274.203,
          274.203,
          274.203,
          284.163,
          284.163,
          284.163,
          284.163,
          296.117,
          296.117,
          296.117,
          296.117,
          296.117,
          296.117,
          303.78,
          303.78,
          303.78,
          303.78,
          335.409,
          335.409,
          335.409,
          335.409,
          335.409,
          335.409,
          356.037,
          356.037,
          356.037,
          356.037,
          356.037,
          368.071,
          368.071,
          368.071,
          368.071
         ],
         "yaxis": "y2"
        },
        {
         "marker": {
          "color": [
           6.2,
           6.2,
           6.2,
           6.2,
           6.2,
           5.5,
           5.5,
           5.5,
           5.5,
           6.3,
           6.3,
           7.15,
           6.2,
           6.2,
           6.2,
           6.2,
           6.05,
           6.05,
           6.05,
           6.05,
           6.05,
           6.05,
           6.05,
           6.05,
           6.05,
           6.05,
           6.15,
           6.15,
           6.15,
           6.15,
           6.15,
           6.15,
           6.15,
           6.15,
           6.15,
           6.15,
           6.05,
           6.05,
           6.05,
           6.05,
           6.05,
           6.2,
           6.2,
           6.2,
           6.15,
           6.15,
           6.15,
           6.15,
           6.2,
           6.2,
           6.2,
           6.2,
           6.2,
           6.35,
           6.35,
           6.35,
           6.35,
           6.35,
           6.35,
           6.35,
           5.9,
           5.9,
           5.9,
           6.28,
           6.28,
           6.28,
           5.2,
           5.2,
           5.2,
           5.2,
           6.35,
           6.35,
           6.35,
           6.35,
           6.35,
           6.35,
           6.4,
           6.4,
           6.4,
           6.4,
           6.4,
           6.1,
           6.1,
           6.1,
           6.1,
           6.1,
           4.9,
           4.9,
           6.8,
           6.8,
           6.8,
           6.8,
           6.8,
           6.8,
           6.2,
           6.2,
           6.2,
           6.2,
           6.2,
           6.2,
           6.2,
           6,
           6,
           6,
           6,
           6
          ],
          "colorbar": {
           "title": {
            "text": "log(T)"
           }
          },
          "colorscale": [
           [
            0,
            "rgb(3, 35, 51)"
           ],
           [
            0.09090909090909091,
            "rgb(13, 48, 100)"
           ],
           [
            0.18181818181818182,
            "rgb(53, 50, 155)"
           ],
           [
            0.2727272727272727,
            "rgb(93, 62, 153)"
           ],
           [
            0.36363636363636365,
            "rgb(126, 77, 143)"
           ],
           [
            0.45454545454545453,
            "rgb(158, 89, 135)"
           ],
           [
            0.5454545454545454,
            "rgb(193, 100, 121)"
           ],
           [
            0.6363636363636364,
            "rgb(225, 113, 97)"
           ],
           [
            0.7272727272727273,
            "rgb(246, 139, 69)"
           ],
           [
            0.8181818181818182,
            "rgb(251, 173, 60)"
           ],
           [
            0.9090909090909091,
            "rgb(246, 211, 70)"
           ],
           [
            1,
            "rgb(231, 250, 90)"
           ]
          ],
          "showscale": true
         },
         "mode": "markers",
         "name": "Stddev",
         "showlegend": false,
         "text": [
          "Ni XI 148",
          "Ni XI 148",
          "Ni XI 148",
          "Ni XI 148",
          "Ni XI 148",
          "O VI 150",
          "O VI 150",
          "O VI 150",
          "O VI 150",
          "Ni XII 152",
          "Ni XII 152",
          "Fe XXIII 154",
          "Fe IX 171",
          "Fe IX 171",
          "Fe IX 171",
          "Fe IX 171",
          "Fe IX 174",
          "Fe IX 174",
          "Fe IX 174",
          "Fe IX 174",
          "Fe IX 174",
          "Fe IX 174",
          "Fe X 177",
          "Fe X 177",
          "Fe X 177",
          "Fe X 177",
          "Fe XI 180",
          "Fe XI 180",
          "Fe XI 180",
          "Fe XI 180",
          "Fe XI 182",
          "Fe XI 182",
          "Fe XI 182",
          "Fe XI 182",
          "Fe XI 182",
          "Fe XI 182",
          "Fe X 185",
          "Fe X 185",
          "Fe X 185",
          "Fe X 185",
          "Fe X 185",
          "Fe XII 187",
          "Fe XII 187",
          "Fe XII 187",
          "Fe XI 188",
          "Fe XI 188",
          "Fe XI 188",
          "Fe XI 188",
          "Fe XII 195",
          "Fe XII 195",
          "Fe XII 195",
          "Fe XII 195",
          "Fe XII 195",
          "Fe XIV 211",
          "Fe XIV 211",
          "Fe XIV 211",
          "Fe XIV 211",
          "Fe XIV 211",
          "Fe XIV 211",
          "Fe XIV 211",
          "Fe IX 217",
          "Fe IX 217",
          "Fe IX 217",
          "Fe XIV 265",
          "Fe XIV 265",
          "Fe XIV 265",
          "O IV 272",
          "O IV 272",
          "O IV 272",
          "O IV 272",
          "Fe XIV 274",
          "Fe XIV 274",
          "Fe XIV 274",
          "Fe XIV 274",
          "Fe XIV 274",
          "Fe XIV 274",
          "Fe XV 284",
          "Fe XV 284",
          "Fe XV 284",
          "Fe XV 284",
          "Fe XV 284",
          "Si IX 296",
          "Si IX 296",
          "Si IX 296",
          "Si IX 296",
          "Si IX 296",
          "He II 304",
          "He II 304",
          "Fe XVI 335",
          "Fe XVI 335",
          "Fe XVI 335",
          "Fe XVI 335",
          "Fe XVI 335",
          "Fe XVI 335",
          "Si X 356",
          "Si X 356",
          "Si X 356",
          "Si X 356",
          "Si X 356",
          "Si X 356",
          "Si X 356",
          "Mg IX 368",
          "Mg IX 368",
          "Mg IX 368",
          "Mg IX 368",
          "Mg IX 368"
         ],
         "type": "scatter",
         "x": [
          13.026210611381849,
          28.5429121955423,
          53.19424399529154,
          1590.832974819458,
          862.2720898469842,
          26.806840490411698,
          134.2682339833241,
          249.2515076781942,
          824.8483661284422,
          null,
          231.9194905042568,
          238.73143424250176,
          2.0660872954985074,
          26.431649936195047,
          390.38563878043834,
          828.7960039576686,
          26.030575839981346,
          2.2660872954985076,
          null,
          228.62594189449504,
          382.32342395726334,
          817.4049681449519,
          26.611852491649536,
          263.1162901271579,
          null,
          826.0051400125021,
          27.277732787736475,
          229.8125995608472,
          391.82861432175827,
          804.5573806674317,
          9.7073437369755,
          null,
          29.18938135918841,
          54.09886104398493,
          377.79969633120913,
          810.2590724580815,
          27.313476802253685,
          56.69619977678526,
          null,
          272.1318961104573,
          858.7136332890868,
          27.321093740010365,
          null,
          230.50685148794352,
          26.858679318518515,
          227.51138536892992,
          393.2321141276934,
          797.6209748463251,
          9.972530500212027,
          13.806108091071987,
          27.903575715926312,
          393.5405800904095,
          1335.1681171859195,
          9.583380232092965,
          null,
          27.430567475330456,
          2.666087295498508,
          216.23419422341206,
          437.1525200306969,
          1080.5536921578541,
          27.18833690019572,
          261.8570394375622,
          908.7044413319439,
          27.19560682895702,
          238.8660597273811,
          913.7830712671278,
          39.704553007591095,
          49.95105995475541,
          233.58984614273632,
          693.6861827613143,
          8.95927168149073,
          27.721947615917706,
          null,
          180.7918762792452,
          787.6593482743984,
          1239.104760946111,
          8.757616337484693,
          27.275366314449446,
          215.79520251089033,
          431.01485192590155,
          681.0692745286926,
          29.269640065237443,
          33.80339889763344,
          200.3915554675425,
          563.3072572500806,
          1246.9276842925017,
          276.9678610656661,
          784.0655565846239,
          14.968787745521563,
          31.30158564404409,
          52.276974736792525,
          138.76594325381194,
          210.45335106532633,
          354.29518985619467,
          28.629609476383205,
          69.70983424398435,
          132.68217042336175,
          232.0700918312697,
          null,
          471.01286632322586,
          811.8729470060072,
          14.765770974648328,
          33.688260631161945,
          64.16237476629064,
          387.59611542852406,
          925.6724710080689
         ],
         "xaxis": "x3",
         "y": [
          148.377,
          148.377,
          148.377,
          148.377,
          148.377,
          150.089,
          150.089,
          150.089,
          150.089,
          152.151,
          152.151,
          154.303,
          171.073,
          171.073,
          171.073,
          171.073,
          174.531,
          174.531,
          174.531,
          174.531,
          174.531,
          174.531,
          177.24,
          177.24,
          177.24,
          177.24,
          180.401,
          180.401,
          180.401,
          180.401,
          182.167,
          182.167,
          182.167,
          182.167,
          182.167,
          182.167,
          184.537,
          184.537,
          184.537,
          184.537,
          184.537,
          186.887,
          186.887,
          186.887,
          188.299,
          188.299,
          188.299,
          188.299,
          195.119,
          195.119,
          195.119,
          195.119,
          195.119,
          211.317,
          211.317,
          211.317,
          211.317,
          211.317,
          211.317,
          211.317,
          217.101,
          217.101,
          217.101,
          264.788,
          264.788,
          264.788,
          272.127,
          272.127,
          272.127,
          272.127,
          274.203,
          274.203,
          274.203,
          274.203,
          274.203,
          274.203,
          284.163,
          284.163,
          284.163,
          284.163,
          284.163,
          296.117,
          296.117,
          296.117,
          296.117,
          296.117,
          303.78,
          303.78,
          335.409,
          335.409,
          335.409,
          335.409,
          335.409,
          335.409,
          356.037,
          356.037,
          356.037,
          356.037,
          356.037,
          356.037,
          356.037,
          368.071,
          368.071,
          368.071,
          368.071,
          368.071
         ],
         "yaxis": "y3"
        }
       ],
       "layout": {
        "autosize": false,
        "height": 1000,
        "template": {
         "data": {
          "bar": [
           {
            "error_x": {
             "color": "#2a3f5f"
            },
            "error_y": {
             "color": "#2a3f5f"
            },
            "marker": {
             "line": {
              "color": "#E5ECF6",
              "width": 0.5
             },
             "pattern": {
              "fillmode": "overlay",
              "size": 10,
              "solidity": 0.2
             }
            },
            "type": "bar"
           }
          ],
          "barpolar": [
           {
            "marker": {
             "line": {
              "color": "#E5ECF6",
              "width": 0.5
             },
             "pattern": {
              "fillmode": "overlay",
              "size": 10,
              "solidity": 0.2
             }
            },
            "type": "barpolar"
           }
          ],
          "carpet": [
           {
            "aaxis": {
             "endlinecolor": "#2a3f5f",
             "gridcolor": "white",
             "linecolor": "white",
             "minorgridcolor": "white",
             "startlinecolor": "#2a3f5f"
            },
            "baxis": {
             "endlinecolor": "#2a3f5f",
             "gridcolor": "white",
             "linecolor": "white",
             "minorgridcolor": "white",
             "startlinecolor": "#2a3f5f"
            },
            "type": "carpet"
           }
          ],
          "choropleth": [
           {
            "colorbar": {
             "outlinewidth": 0,
             "ticks": ""
            },
            "type": "choropleth"
           }
          ],
          "contour": [
           {
            "colorbar": {
             "outlinewidth": 0,
             "ticks": ""
            },
            "colorscale": [
             [
              0,
              "#0d0887"
             ],
             [
              0.1111111111111111,
              "#46039f"
             ],
             [
              0.2222222222222222,
              "#7201a8"
             ],
             [
              0.3333333333333333,
              "#9c179e"
             ],
             [
              0.4444444444444444,
              "#bd3786"
             ],
             [
              0.5555555555555556,
              "#d8576b"
             ],
             [
              0.6666666666666666,
              "#ed7953"
             ],
             [
              0.7777777777777778,
              "#fb9f3a"
             ],
             [
              0.8888888888888888,
              "#fdca26"
             ],
             [
              1,
              "#f0f921"
             ]
            ],
            "type": "contour"
           }
          ],
          "contourcarpet": [
           {
            "colorbar": {
             "outlinewidth": 0,
             "ticks": ""
            },
            "type": "contourcarpet"
           }
          ],
          "heatmap": [
           {
            "colorbar": {
             "outlinewidth": 0,
             "ticks": ""
            },
            "colorscale": [
             [
              0,
              "#0d0887"
             ],
             [
              0.1111111111111111,
              "#46039f"
             ],
             [
              0.2222222222222222,
              "#7201a8"
             ],
             [
              0.3333333333333333,
              "#9c179e"
             ],
             [
              0.4444444444444444,
              "#bd3786"
             ],
             [
              0.5555555555555556,
              "#d8576b"
             ],
             [
              0.6666666666666666,
              "#ed7953"
             ],
             [
              0.7777777777777778,
              "#fb9f3a"
             ],
             [
              0.8888888888888888,
              "#fdca26"
             ],
             [
              1,
              "#f0f921"
             ]
            ],
            "type": "heatmap"
           }
          ],
          "heatmapgl": [
           {
            "colorbar": {
             "outlinewidth": 0,
             "ticks": ""
            },
            "colorscale": [
             [
              0,
              "#0d0887"
             ],
             [
              0.1111111111111111,
              "#46039f"
             ],
             [
              0.2222222222222222,
              "#7201a8"
             ],
             [
              0.3333333333333333,
              "#9c179e"
             ],
             [
              0.4444444444444444,
              "#bd3786"
             ],
             [
              0.5555555555555556,
              "#d8576b"
             ],
             [
              0.6666666666666666,
              "#ed7953"
             ],
             [
              0.7777777777777778,
              "#fb9f3a"
             ],
             [
              0.8888888888888888,
              "#fdca26"
             ],
             [
              1,
              "#f0f921"
             ]
            ],
            "type": "heatmapgl"
           }
          ],
          "histogram": [
           {
            "marker": {
             "pattern": {
              "fillmode": "overlay",
              "size": 10,
              "solidity": 0.2
             }
            },
            "type": "histogram"
           }
          ],
          "histogram2d": [
           {
            "colorbar": {
             "outlinewidth": 0,
             "ticks": ""
            },
            "colorscale": [
             [
              0,
              "#0d0887"
             ],
             [
              0.1111111111111111,
              "#46039f"
             ],
             [
              0.2222222222222222,
              "#7201a8"
             ],
             [
              0.3333333333333333,
              "#9c179e"
             ],
             [
              0.4444444444444444,
              "#bd3786"
             ],
             [
              0.5555555555555556,
              "#d8576b"
             ],
             [
              0.6666666666666666,
              "#ed7953"
             ],
             [
              0.7777777777777778,
              "#fb9f3a"
             ],
             [
              0.8888888888888888,
              "#fdca26"
             ],
             [
              1,
              "#f0f921"
             ]
            ],
            "type": "histogram2d"
           }
          ],
          "histogram2dcontour": [
           {
            "colorbar": {
             "outlinewidth": 0,
             "ticks": ""
            },
            "colorscale": [
             [
              0,
              "#0d0887"
             ],
             [
              0.1111111111111111,
              "#46039f"
             ],
             [
              0.2222222222222222,
              "#7201a8"
             ],
             [
              0.3333333333333333,
              "#9c179e"
             ],
             [
              0.4444444444444444,
              "#bd3786"
             ],
             [
              0.5555555555555556,
              "#d8576b"
             ],
             [
              0.6666666666666666,
              "#ed7953"
             ],
             [
              0.7777777777777778,
              "#fb9f3a"
             ],
             [
              0.8888888888888888,
              "#fdca26"
             ],
             [
              1,
              "#f0f921"
             ]
            ],
            "type": "histogram2dcontour"
           }
          ],
          "mesh3d": [
           {
            "colorbar": {
             "outlinewidth": 0,
             "ticks": ""
            },
            "type": "mesh3d"
           }
          ],
          "parcoords": [
           {
            "line": {
             "colorbar": {
              "outlinewidth": 0,
              "ticks": ""
             }
            },
            "type": "parcoords"
           }
          ],
          "pie": [
           {
            "automargin": true,
            "type": "pie"
           }
          ],
          "scatter": [
           {
            "fillpattern": {
             "fillmode": "overlay",
             "size": 10,
             "solidity": 0.2
            },
            "type": "scatter"
           }
          ],
          "scatter3d": [
           {
            "line": {
             "colorbar": {
              "outlinewidth": 0,
              "ticks": ""
             }
            },
            "marker": {
             "colorbar": {
              "outlinewidth": 0,
              "ticks": ""
             }
            },
            "type": "scatter3d"
           }
          ],
          "scattercarpet": [
           {
            "marker": {
             "colorbar": {
              "outlinewidth": 0,
              "ticks": ""
             }
            },
            "type": "scattercarpet"
           }
          ],
          "scattergeo": [
           {
            "marker": {
             "colorbar": {
              "outlinewidth": 0,
              "ticks": ""
             }
            },
            "type": "scattergeo"
           }
          ],
          "scattergl": [
           {
            "marker": {
             "colorbar": {
              "outlinewidth": 0,
              "ticks": ""
             }
            },
            "type": "scattergl"
           }
          ],
          "scattermapbox": [
           {
            "marker": {
             "colorbar": {
              "outlinewidth": 0,
              "ticks": ""
             }
            },
            "type": "scattermapbox"
           }
          ],
          "scatterpolar": [
           {
            "marker": {
             "colorbar": {
              "outlinewidth": 0,
              "ticks": ""
             }
            },
            "type": "scatterpolar"
           }
          ],
          "scatterpolargl": [
           {
            "marker": {
             "colorbar": {
              "outlinewidth": 0,
              "ticks": ""
             }
            },
            "type": "scatterpolargl"
           }
          ],
          "scatterternary": [
           {
            "marker": {
             "colorbar": {
              "outlinewidth": 0,
              "ticks": ""
             }
            },
            "type": "scatterternary"
           }
          ],
          "surface": [
           {
            "colorbar": {
             "outlinewidth": 0,
             "ticks": ""
            },
            "colorscale": [
             [
              0,
              "#0d0887"
             ],
             [
              0.1111111111111111,
              "#46039f"
             ],
             [
              0.2222222222222222,
              "#7201a8"
             ],
             [
              0.3333333333333333,
              "#9c179e"
             ],
             [
              0.4444444444444444,
              "#bd3786"
             ],
             [
              0.5555555555555556,
              "#d8576b"
             ],
             [
              0.6666666666666666,
              "#ed7953"
             ],
             [
              0.7777777777777778,
              "#fb9f3a"
             ],
             [
              0.8888888888888888,
              "#fdca26"
             ],
             [
              1,
              "#f0f921"
             ]
            ],
            "type": "surface"
           }
          ],
          "table": [
           {
            "cells": {
             "fill": {
              "color": "#EBF0F8"
             },
             "line": {
              "color": "white"
             }
            },
            "header": {
             "fill": {
              "color": "#C8D4E3"
             },
             "line": {
              "color": "white"
             }
            },
            "type": "table"
           }
          ]
         },
         "layout": {
          "annotationdefaults": {
           "arrowcolor": "#2a3f5f",
           "arrowhead": 0,
           "arrowwidth": 1
          },
          "autotypenumbers": "strict",
          "coloraxis": {
           "colorbar": {
            "outlinewidth": 0,
            "ticks": ""
           }
          },
          "colorscale": {
           "diverging": [
            [
             0,
             "#8e0152"
            ],
            [
             0.1,
             "#c51b7d"
            ],
            [
             0.2,
             "#de77ae"
            ],
            [
             0.3,
             "#f1b6da"
            ],
            [
             0.4,
             "#fde0ef"
            ],
            [
             0.5,
             "#f7f7f7"
            ],
            [
             0.6,
             "#e6f5d0"
            ],
            [
             0.7,
             "#b8e186"
            ],
            [
             0.8,
             "#7fbc41"
            ],
            [
             0.9,
             "#4d9221"
            ],
            [
             1,
             "#276419"
            ]
           ],
           "sequential": [
            [
             0,
             "#0d0887"
            ],
            [
             0.1111111111111111,
             "#46039f"
            ],
            [
             0.2222222222222222,
             "#7201a8"
            ],
            [
             0.3333333333333333,
             "#9c179e"
            ],
            [
             0.4444444444444444,
             "#bd3786"
            ],
            [
             0.5555555555555556,
             "#d8576b"
            ],
            [
             0.6666666666666666,
             "#ed7953"
            ],
            [
             0.7777777777777778,
             "#fb9f3a"
            ],
            [
             0.8888888888888888,
             "#fdca26"
            ],
            [
             1,
             "#f0f921"
            ]
           ],
           "sequentialminus": [
            [
             0,
             "#0d0887"
            ],
            [
             0.1111111111111111,
             "#46039f"
            ],
            [
             0.2222222222222222,
             "#7201a8"
            ],
            [
             0.3333333333333333,
             "#9c179e"
            ],
            [
             0.4444444444444444,
             "#bd3786"
            ],
            [
             0.5555555555555556,
             "#d8576b"
            ],
            [
             0.6666666666666666,
             "#ed7953"
            ],
            [
             0.7777777777777778,
             "#fb9f3a"
            ],
            [
             0.8888888888888888,
             "#fdca26"
            ],
            [
             1,
             "#f0f921"
            ]
           ]
          },
          "colorway": [
           "#636efa",
           "#EF553B",
           "#00cc96",
           "#ab63fa",
           "#FFA15A",
           "#19d3f3",
           "#FF6692",
           "#B6E880",
           "#FF97FF",
           "#FECB52"
          ],
          "font": {
           "color": "#2a3f5f"
          },
          "geo": {
           "bgcolor": "white",
           "lakecolor": "white",
           "landcolor": "#E5ECF6",
           "showlakes": true,
           "showland": true,
           "subunitcolor": "white"
          },
          "hoverlabel": {
           "align": "left"
          },
          "hovermode": "closest",
          "mapbox": {
           "style": "light"
          },
          "paper_bgcolor": "white",
          "plot_bgcolor": "#E5ECF6",
          "polar": {
           "angularaxis": {
            "gridcolor": "white",
            "linecolor": "white",
            "ticks": ""
           },
           "bgcolor": "#E5ECF6",
           "radialaxis": {
            "gridcolor": "white",
            "linecolor": "white",
            "ticks": ""
           }
          },
          "scene": {
           "xaxis": {
            "backgroundcolor": "#E5ECF6",
            "gridcolor": "white",
            "gridwidth": 2,
            "linecolor": "white",
            "showbackground": true,
            "ticks": "",
            "zerolinecolor": "white"
           },
           "yaxis": {
            "backgroundcolor": "#E5ECF6",
            "gridcolor": "white",
            "gridwidth": 2,
            "linecolor": "white",
            "showbackground": true,
            "ticks": "",
            "zerolinecolor": "white"
           },
           "zaxis": {
            "backgroundcolor": "#E5ECF6",
            "gridcolor": "white",
            "gridwidth": 2,
            "linecolor": "white",
            "showbackground": true,
            "ticks": "",
            "zerolinecolor": "white"
           }
          },
          "shapedefaults": {
           "line": {
            "color": "#2a3f5f"
           }
          },
          "ternary": {
           "aaxis": {
            "gridcolor": "white",
            "linecolor": "white",
            "ticks": ""
           },
           "baxis": {
            "gridcolor": "white",
            "linecolor": "white",
            "ticks": ""
           },
           "bgcolor": "#E5ECF6",
           "caxis": {
            "gridcolor": "white",
            "linecolor": "white",
            "ticks": ""
           }
          },
          "title": {
           "x": 0.05
          },
          "xaxis": {
           "automargin": true,
           "gridcolor": "white",
           "linecolor": "white",
           "ticks": "",
           "title": {
            "standoff": 15
           },
           "zerolinecolor": "white",
           "zerolinewidth": 2
          },
          "yaxis": {
           "automargin": true,
           "gridcolor": "white",
           "linecolor": "white",
           "ticks": "",
           "title": {
            "standoff": 15
           },
           "zerolinecolor": "white",
           "zerolinewidth": 2
          }
         }
        },
        "title": {
         "text": "Wavelet Peak",
         "x": 0.5
        },
        "width": 800,
        "xaxis": {
         "anchor": "y",
         "domain": [
          0,
          1
         ],
         "matches": "x",
         "range": [
          0,
          300
         ],
         "title": {
          "text": "Amplitude Periods (d)"
         }
        },
        "xaxis2": {
         "anchor": "y2",
         "domain": [
          0,
          1
         ],
         "matches": "x",
         "range": [
          0,
          300
         ],
         "title": {
          "text": "mean Periods (d)"
         }
        },
        "xaxis3": {
         "anchor": "y3",
         "domain": [
          0,
          1
         ],
         "matches": "x",
         "range": [
          0,
          300
         ],
         "title": {
          "text": "stddev Periods (d)"
         }
        },
        "yaxis": {
         "anchor": "x",
         "domain": [
          0.7333333333333333,
          1
         ],
         "matches": "y",
         "range": [
          130,
          380
         ],
         "title": {
          "text": "Wavelength (Angstrom)"
         }
        },
        "yaxis2": {
         "anchor": "x2",
         "domain": [
          0.36666666666666664,
          0.6333333333333333
         ],
         "matches": "y",
         "range": [
          130,
          380
         ],
         "title": {
          "text": "Wavelength (Angstrom)"
         }
        },
        "yaxis3": {
         "anchor": "x3",
         "domain": [
          0,
          0.26666666666666666
         ],
         "matches": "y",
         "range": [
          130,
          380
         ],
         "title": {
          "text": "Wavelength (Angstrom)"
         }
        }
       }
      }
     },
     "metadata": {},
     "output_type": "display_data"
    }
   ],
   "source": [
    "# set the whole figure to be large\n",
    "fig = make_subplots(rows=3, cols=1)\n",
    "color_scale = 'thermal'\n",
    "\n",
    "\n",
    "\n",
    "\n",
    "# Add scatter plot   Row 1\n",
    "fig.add_trace(\n",
    "    go.Scatter(\n",
    "        x=wavelet_amplitude_df['amplitude periods'],\n",
    "        y=wavelet_amplitude_df['wavelength'],\n",
    "        mode='markers',\n",
    "        marker=dict(\n",
    "            color=wavelet_amplitude_df['temperature'],  # Use normalized 'size' for color\n",
    "            colorscale=color_scale,  # Define color scale\n",
    "            colorbar=dict(title=r'log(T)'),  # Show color scale bar\n",
    "            showscale=True,# show the color bar (color scale)\n",
    "        ),\n",
    "        showlegend=False, # otherwise a legend will appear on the right,\n",
    "        text=wavelet_amplitude_df['line name'],  \n",
    "        name='Amplitude',\n",
    "                ),\n",
    "    row=1,\n",
    "    col=1,\n",
    "    )\n",
    "fig.update_xaxes(title_text=\"Amplitude Periods (d)\", row=1, col=1)\n",
    "fig.update_yaxes(title_text=\"Wavelength (Angstrom)\", row=1, col=1)\n",
    "\n",
    "\n",
    "\n",
    "\n",
    "# Add scatter plot    Row   2\n",
    "fig.add_trace(\n",
    "    go.Scatter(\n",
    "        x=wavelet_mean_df['mean periods'],\n",
    "        y=wavelet_mean_df['wavelength'],\n",
    "        mode='markers',\n",
    "        marker=dict(\n",
    "            color=wavelet_mean_df['temperature'],  # Use normalized 'size' for color\n",
    "            colorscale=color_scale,  # Define color scale\n",
    "            colorbar=dict(title=r'log(T)'),  # Show color scale bar\n",
    "            showscale=True,# show the color bar (color scale)\n",
    "        ),\n",
    "        showlegend=False, # otherwise a legend will appear on the right,\n",
    "        text=wavelet_mean_df['line name'],  # Hover text shows 'size'\n",
    "        name='Mean',\n",
    "                ),\n",
    "    row=2,\n",
    "    col=1,\n",
    "    )\n",
    "fig.update_xaxes(title_text=\"mean Periods (d)\", row=2, col=1)\n",
    "fig.update_yaxes(title_text=\"Wavelength (Angstrom)\", row=2, col=1)\n",
    "\n",
    "# Add scatter plot  Row 3\n",
    "fig.add_trace(\n",
    "    go.Scatter(\n",
    "        x=wavelet_stddev_df['stddev periods'],\n",
    "        y=wavelet_stddev_df['wavelength'],\n",
    "        mode='markers',\n",
    "        marker=dict(\n",
    "            color=wavelet_stddev_df['temperature'],  # Use normalized 'size' for color\n",
    "            colorscale=color_scale,  # Define color scale\n",
    "            colorbar=dict(title=r'log(T)'),  # Show color scale bar\n",
    "            showscale=True,# show the color bar (color scale)\n",
    "        ),\n",
    "        showlegend=False, # otherwise a legend will appear on the right,\n",
    "        text=wavelet_stddev_df['line name'],  # Hover text shows 'size'\n",
    "        name='Stddev',\n",
    "                ),\n",
    "    row=3, \n",
    "    col=1,\n",
    "    )\n",
    "fig.update_xaxes(title_text=\"stddev Periods (d)\", row=3, col=1)\n",
    "fig.update_yaxes(title_text=\"Wavelength (Angstrom)\", row=3, col=1)\n",
    "\n",
    "\n",
    "\n",
    "\n",
    "\n",
    "col=1\n",
    "# Update to match x-axes and optionally y-axes if needed\n",
    "for row in range(1, 4):  # Rows 1 through 3\n",
    "    fig.update_xaxes(matches='x', row=row, col=col)  # Match all x-axes to the first one\n",
    "    fig.update_yaxes(matches='y', row=row, col=col)\n",
    "        \n",
    "\n",
    "for row in [1,2,3]:\n",
    "    for col in [1,2]:\n",
    "        fig.update_xaxes(range=[0, 300], row=row, col=col)\n",
    "        fig.update_yaxes(range=[130, 380], row=row, col=col)\n",
    "\n",
    "fig.update_layout(\n",
    "    autosize=False,\n",
    "    width=800,\n",
    "    height=1000,\n",
    "    title_text=\"Wavelet Peak\",\n",
    "    title_x=0.5,\n",
    ")\n",
    "\n",
    "fig.write_html('output\\wavelet_explore\\peak_scatter\\combine\\wavelength.html')\n",
    "fig.show()"
   ]
  },
  {
   "cell_type": "code",
   "execution_count": 12,
   "metadata": {},
   "outputs": [
    {
     "data": {
      "application/vnd.plotly.v1+json": {
       "config": {
        "plotlyServerURL": "https://plot.ly"
       },
       "data": [
        {
         "marker": {
          "color": [
           6.2,
           6.2,
           6.2,
           5.5,
           5.5,
           5.5,
           6.3,
           6.3,
           6.3,
           7.15,
           7.15,
           7.15,
           6.2,
           6.2,
           6.2,
           6.2,
           6.2,
           6.05,
           6.05,
           6.05,
           6.05,
           6.05,
           6.05,
           6.05,
           6.05,
           6.05,
           6.05,
           6.15,
           6.15,
           6.15,
           6.15,
           6.15,
           6.15,
           6.05,
           6.05,
           6.05,
           6.05,
           6.05,
           6.2,
           6.2,
           6.2,
           6.15,
           6.15,
           6.15,
           6.2,
           6.2,
           6.2,
           6.35,
           6.35,
           6.35,
           5.9,
           5.9,
           5.9,
           5.9,
           6.28,
           6.28,
           6.28,
           5.2,
           5.2,
           5.2,
           6.35,
           6.35,
           6.35,
           6.4,
           6.4,
           6.4,
           6.4,
           6.1,
           6.1,
           6.1,
           6.1,
           4.9,
           4.9,
           4.9,
           4.9,
           4.9,
           6.8,
           6.8,
           6.8,
           6.8,
           6.2,
           6.2,
           6.2,
           6,
           6,
           6,
           6
          ],
          "colorbar": {
           "title": {
            "text": "log(T)"
           }
          },
          "colorscale": [
           [
            0,
            "rgb(3, 35, 51)"
           ],
           [
            0.09090909090909091,
            "rgb(13, 48, 100)"
           ],
           [
            0.18181818181818182,
            "rgb(53, 50, 155)"
           ],
           [
            0.2727272727272727,
            "rgb(93, 62, 153)"
           ],
           [
            0.36363636363636365,
            "rgb(126, 77, 143)"
           ],
           [
            0.45454545454545453,
            "rgb(158, 89, 135)"
           ],
           [
            0.5454545454545454,
            "rgb(193, 100, 121)"
           ],
           [
            0.6363636363636364,
            "rgb(225, 113, 97)"
           ],
           [
            0.7272727272727273,
            "rgb(246, 139, 69)"
           ],
           [
            0.8181818181818182,
            "rgb(251, 173, 60)"
           ],
           [
            0.9090909090909091,
            "rgb(246, 211, 70)"
           ],
           [
            1,
            "rgb(231, 250, 90)"
           ]
          ],
          "showscale": true
         },
         "mode": "markers",
         "name": "Amplitude",
         "showlegend": false,
         "text": [
          "Ni XI 148",
          "Ni XI 148",
          "Ni XI 148",
          "O VI 150",
          "O VI 150",
          "O VI 150",
          "Ni XII 152",
          "Ni XII 152",
          "Ni XII 152",
          "Fe XXIII 154",
          "Fe XXIII 154",
          "Fe XXIII 154",
          "Fe IX 171",
          "Fe IX 171",
          "Fe IX 171",
          "Fe IX 171",
          "Fe IX 171",
          "Fe IX 174",
          "Fe IX 174",
          "Fe IX 174",
          "Fe IX 174",
          "Fe IX 174",
          "Fe X 177",
          "Fe X 177",
          "Fe X 177",
          "Fe X 177",
          "Fe X 177",
          "Fe XI 180",
          "Fe XI 180",
          "Fe XI 180",
          "Fe XI 182",
          "Fe XI 182",
          "Fe XI 182",
          "Fe X 185",
          "Fe X 185",
          "Fe X 185",
          "Fe X 185",
          "Fe X 185",
          "Fe XII 187",
          "Fe XII 187",
          "Fe XII 187",
          "Fe XI 188",
          "Fe XI 188",
          "Fe XI 188",
          "Fe XII 195",
          "Fe XII 195",
          "Fe XII 195",
          "Fe XIV 211",
          "Fe XIV 211",
          "Fe XIV 211",
          "Fe IX 217",
          "Fe IX 217",
          "Fe IX 217",
          "Fe IX 217",
          "Fe XIV 265",
          "Fe XIV 265",
          "Fe XIV 265",
          "O IV 272",
          "O IV 272",
          "O IV 272",
          "Fe XIV 274",
          "Fe XIV 274",
          "Fe XIV 274",
          "Fe XV 284",
          "Fe XV 284",
          "Fe XV 284",
          "Fe XV 284",
          "Si IX 296",
          "Si IX 296",
          "Si IX 296",
          "Si IX 296",
          "He II 304",
          "He II 304",
          "He II 304",
          "He II 304",
          "He II 304",
          "Fe XVI 335",
          "Fe XVI 335",
          "Fe XVI 335",
          "Fe XVI 335",
          "Si X 356",
          "Si X 356",
          "Si X 356",
          "Mg IX 368",
          "Mg IX 368",
          "Mg IX 368",
          "Mg IX 368"
         ],
         "type": "scatter",
         "x": [
          null,
          239.23269615331523,
          834.9916623932752,
          26.701602015238816,
          259.2727393339304,
          853.3345791336595,
          27.117571524498473,
          255.21324632341287,
          841.8270685481534,
          27.110493792061085,
          255.86209714354735,
          840.534088844745,
          26.70760787502137,
          73.73206066062396,
          236.8227683704233,
          429.1650394482895,
          880.2999589011434,
          26.543304166810913,
          75.38422483832991,
          235.1043381305329,
          null,
          846.9276425494023,
          26.395656081628637,
          70.73180900950723,
          237.56925239967345,
          null,
          839.7080021908797,
          26.869025381664276,
          228.11010446186592,
          853.7747869565912,
          26.723429032597693,
          240.73008762828442,
          831.1129369416838,
          26.75189637953738,
          67.46226334135979,
          243.22656699314814,
          null,
          839.2184458109015,
          26.888038224314712,
          248.8341482966214,
          838.4136972944857,
          26.81402784919985,
          229.76605329043414,
          851.3416731059998,
          27.08098206616507,
          229.68473980869518,
          861.9347880993612,
          27.048151537678223,
          274.91812296030935,
          850.9799718221553,
          26.959298605922676,
          66.27274696953252,
          245.9912242120309,
          843.9168424820533,
          27.031798368605976,
          260.59774614911083,
          845.5421223369519,
          26.977966176050305,
          229.64981061919963,
          851.5521393531819,
          27.082412943231496,
          273.4989322120722,
          851.263195293362,
          27.006442642589466,
          119.65588435936064,
          259.94777611238834,
          916.8429724633778,
          26.29717732187493,
          228.06119303451953,
          null,
          874.207333346567,
          26.81214690845398,
          null,
          242.87699583645156,
          473.1730861075193,
          937.0012374239421,
          27.871586795219258,
          54.835641815721274,
          273.76084638907315,
          826.4765895739381,
          27.092233278352577,
          275.01110901435106,
          825.5919725178991,
          31.71905828983125,
          54.54658245502712,
          262.2548006786459,
          819.751208902667
         ],
         "xaxis": "x",
         "y": [
          6.2,
          6.2,
          6.2,
          5.5,
          5.5,
          5.5,
          6.3,
          6.3,
          6.3,
          7.15,
          7.15,
          7.15,
          6.2,
          6.2,
          6.2,
          6.2,
          6.2,
          6.05,
          6.05,
          6.05,
          6.05,
          6.05,
          6.05,
          6.05,
          6.05,
          6.05,
          6.05,
          6.15,
          6.15,
          6.15,
          6.15,
          6.15,
          6.15,
          6.05,
          6.05,
          6.05,
          6.05,
          6.05,
          6.2,
          6.2,
          6.2,
          6.15,
          6.15,
          6.15,
          6.2,
          6.2,
          6.2,
          6.35,
          6.35,
          6.35,
          5.9,
          5.9,
          5.9,
          5.9,
          6.28,
          6.28,
          6.28,
          5.2,
          5.2,
          5.2,
          6.35,
          6.35,
          6.35,
          6.4,
          6.4,
          6.4,
          6.4,
          6.1,
          6.1,
          6.1,
          6.1,
          4.9,
          4.9,
          4.9,
          4.9,
          4.9,
          6.8,
          6.8,
          6.8,
          6.8,
          6.2,
          6.2,
          6.2,
          6,
          6,
          6,
          6
         ],
         "yaxis": "y"
        },
        {
         "marker": {
          "color": [
           6.2,
           6.2,
           6.2,
           6.2,
           6.2,
           6.2,
           6.2,
           6.2,
           5.5,
           5.5,
           5.5,
           5.5,
           5.5,
           5.5,
           5.5,
           6.3,
           6.3,
           6.3,
           6.3,
           6.3,
           7.15,
           7.15,
           7.15,
           7.15,
           7.15,
           6.2,
           6.2,
           6.2,
           6.2,
           6.2,
           6.2,
           6.05,
           6.05,
           6.05,
           6.05,
           6.05,
           6.05,
           6.05,
           6.05,
           6.05,
           6.05,
           6.05,
           6.05,
           6.05,
           6.15,
           6.15,
           6.15,
           6.15,
           6.15,
           6.15,
           6.15,
           6.15,
           6.15,
           6.15,
           6.15,
           6.05,
           6.05,
           6.05,
           6.05,
           6.05,
           6.05,
           6.2,
           6.2,
           6.2,
           6.2,
           6.2,
           6.15,
           6.15,
           6.15,
           6.15,
           6.15,
           6.15,
           6.2,
           6.2,
           6.2,
           6.2,
           6.35,
           6.35,
           6.35,
           5.9,
           5.9,
           5.9,
           5.9,
           5.9,
           6.28,
           6.28,
           6.28,
           6.28,
           6.28,
           5.2,
           5.2,
           5.2,
           5.2,
           6.35,
           6.35,
           6.35,
           6.35,
           6.4,
           6.4,
           6.4,
           6.4,
           6.1,
           6.1,
           6.1,
           6.1,
           6.1,
           6.1,
           4.9,
           4.9,
           4.9,
           4.9,
           6.8,
           6.8,
           6.8,
           6.8,
           6.8,
           6.8,
           6.2,
           6.2,
           6.2,
           6.2,
           6.2,
           6,
           6,
           6,
           6
          ],
          "colorbar": {
           "title": {
            "text": "log(T)"
           }
          },
          "colorscale": [
           [
            0,
            "rgb(3, 35, 51)"
           ],
           [
            0.09090909090909091,
            "rgb(13, 48, 100)"
           ],
           [
            0.18181818181818182,
            "rgb(53, 50, 155)"
           ],
           [
            0.2727272727272727,
            "rgb(93, 62, 153)"
           ],
           [
            0.36363636363636365,
            "rgb(126, 77, 143)"
           ],
           [
            0.45454545454545453,
            "rgb(158, 89, 135)"
           ],
           [
            0.5454545454545454,
            "rgb(193, 100, 121)"
           ],
           [
            0.6363636363636364,
            "rgb(225, 113, 97)"
           ],
           [
            0.7272727272727273,
            "rgb(246, 139, 69)"
           ],
           [
            0.8181818181818182,
            "rgb(251, 173, 60)"
           ],
           [
            0.9090909090909091,
            "rgb(246, 211, 70)"
           ],
           [
            1,
            "rgb(231, 250, 90)"
           ]
          ],
          "showscale": true
         },
         "mode": "markers",
         "name": "Mean",
         "showlegend": false,
         "text": [
          "Ni XI 148",
          "Ni XI 148",
          "Ni XI 148",
          "Ni XI 148",
          "Ni XI 148",
          "Ni XI 148",
          "Ni XI 148",
          "Ni XI 148",
          "O VI 150",
          "O VI 150",
          "O VI 150",
          "O VI 150",
          "O VI 150",
          "O VI 150",
          "O VI 150",
          "Ni XII 152",
          "Ni XII 152",
          "Ni XII 152",
          "Ni XII 152",
          "Ni XII 152",
          "Fe XXIII 154",
          "Fe XXIII 154",
          "Fe XXIII 154",
          "Fe XXIII 154",
          "Fe XXIII 154",
          "Fe IX 171",
          "Fe IX 171",
          "Fe IX 171",
          "Fe IX 171",
          "Fe IX 171",
          "Fe IX 171",
          "Fe IX 174",
          "Fe IX 174",
          "Fe IX 174",
          "Fe IX 174",
          "Fe IX 174",
          "Fe IX 174",
          "Fe IX 174",
          "Fe X 177",
          "Fe X 177",
          "Fe X 177",
          "Fe X 177",
          "Fe X 177",
          "Fe X 177",
          "Fe XI 180",
          "Fe XI 180",
          "Fe XI 180",
          "Fe XI 180",
          "Fe XI 180",
          "Fe XI 180",
          "Fe XI 182",
          "Fe XI 182",
          "Fe XI 182",
          "Fe XI 182",
          "Fe XI 182",
          "Fe X 185",
          "Fe X 185",
          "Fe X 185",
          "Fe X 185",
          "Fe X 185",
          "Fe X 185",
          "Fe XII 187",
          "Fe XII 187",
          "Fe XII 187",
          "Fe XII 187",
          "Fe XII 187",
          "Fe XI 188",
          "Fe XI 188",
          "Fe XI 188",
          "Fe XI 188",
          "Fe XI 188",
          "Fe XI 188",
          "Fe XII 195",
          "Fe XII 195",
          "Fe XII 195",
          "Fe XII 195",
          "Fe XIV 211",
          "Fe XIV 211",
          "Fe XIV 211",
          "Fe IX 217",
          "Fe IX 217",
          "Fe IX 217",
          "Fe IX 217",
          "Fe IX 217",
          "Fe XIV 265",
          "Fe XIV 265",
          "Fe XIV 265",
          "Fe XIV 265",
          "Fe XIV 265",
          "O IV 272",
          "O IV 272",
          "O IV 272",
          "O IV 272",
          "Fe XIV 274",
          "Fe XIV 274",
          "Fe XIV 274",
          "Fe XIV 274",
          "Fe XV 284",
          "Fe XV 284",
          "Fe XV 284",
          "Fe XV 284",
          "Si IX 296",
          "Si IX 296",
          "Si IX 296",
          "Si IX 296",
          "Si IX 296",
          "Si IX 296",
          "He II 304",
          "He II 304",
          "He II 304",
          "He II 304",
          "Fe XVI 335",
          "Fe XVI 335",
          "Fe XVI 335",
          "Fe XVI 335",
          "Fe XVI 335",
          "Fe XVI 335",
          "Si X 356",
          "Si X 356",
          "Si X 356",
          "Si X 356",
          "Si X 356",
          "Mg IX 368",
          "Mg IX 368",
          "Mg IX 368",
          "Mg IX 368"
         ],
         "type": "scatter",
         "x": [
          14.11642653698231,
          27.616775785822178,
          51.37067725831221,
          2.666087295498508,
          202.43957014884754,
          359.35167687984557,
          548.7110327724835,
          1145.0490934079462,
          13.481030488216206,
          30.499353485649124,
          53.08002386760945,
          97.63195575820893,
          258.31334353801896,
          null,
          1030.6623430965326,
          13.942558059668865,
          27.37371178753602,
          225.83225492952394,
          502.94159699667574,
          825.7601589916202,
          13.964131113675196,
          27.74466947337789,
          405.26346636834427,
          651.2811221382773,
          1326.752397181353,
          13.532917814204527,
          29.054406650080086,
          51.687563462081116,
          92.06838143076324,
          240.58469605061714,
          871.3442338879848,
          14.232250755617223,
          29.89979403239308,
          52.15449481826716,
          109.93808439690223,
          204.20419151322844,
          372.47471340626873,
          1123.9267940557174,
          13.860171587758497,
          30.0497424005258,
          null,
          177.19705261125833,
          451.318396090769,
          711.9479903577794,
          14.192207525078077,
          23.295190875039943,
          null,
          183.90017357003282,
          397.7817805653522,
          null,
          14.076988312823698,
          26.32349189434033,
          173.81628300135066,
          403.07656830178104,
          null,
          null,
          30.552775730836245,
          56.0383601749756,
          115.6648116725808,
          276.4231031158464,
          931.912965329196,
          14.089102509638668,
          26.89621482754817,
          205.1144052982211,
          392.3342410467547,
          1081.407983229229,
          14.136066477663432,
          25.171100517234912,
          180.17668812121732,
          393.7625092907371,
          null,
          1338.426649419487,
          14.012008226285486,
          27.691596324145557,
          180.2740456119993,
          411.0959869059459,
          13.966782657345522,
          27.277446473207732,
          425.7221635736495,
          13.620671438845598,
          31.11612470333821,
          163.66780612532799,
          389.5648788443427,
          657.5770646536689,
          null,
          120.15644313299671,
          215.8125756335946,
          398.3216620742246,
          911.2027161214633,
          13.604733826194078,
          30.063908612510005,
          179.69272911752185,
          465.18193089110537,
          13.788162217467681,
          27.28814196322041,
          null,
          1354.0534830600996,
          13.699544359494753,
          27.03428593096209,
          null,
          2.666087295498508,
          13.385692231454458,
          null,
          47.66696452941511,
          93.31316214228396,
          196.62153545292654,
          401.347375128692,
          28.637380976460992,
          222.95210774693032,
          394.76269034689375,
          815.9847516729328,
          28.08141222837578,
          8.801797915749102,
          null,
          208.7936211582328,
          622.2307672772085,
          852.1784984650368,
          29.893390424878767,
          55.45933334943911,
          132.5144006975838,
          396.8157816404881,
          1108.3719189283381,
          36.450691471674986,
          115.24126944663345,
          400.31474500674227,
          882.6829931674819
         ],
         "xaxis": "x2",
         "y": [
          6.2,
          6.2,
          6.2,
          6.2,
          6.2,
          6.2,
          6.2,
          6.2,
          5.5,
          5.5,
          5.5,
          5.5,
          5.5,
          5.5,
          5.5,
          6.3,
          6.3,
          6.3,
          6.3,
          6.3,
          7.15,
          7.15,
          7.15,
          7.15,
          7.15,
          6.2,
          6.2,
          6.2,
          6.2,
          6.2,
          6.2,
          6.05,
          6.05,
          6.05,
          6.05,
          6.05,
          6.05,
          6.05,
          6.05,
          6.05,
          6.05,
          6.05,
          6.05,
          6.05,
          6.15,
          6.15,
          6.15,
          6.15,
          6.15,
          6.15,
          6.15,
          6.15,
          6.15,
          6.15,
          6.15,
          6.05,
          6.05,
          6.05,
          6.05,
          6.05,
          6.05,
          6.2,
          6.2,
          6.2,
          6.2,
          6.2,
          6.15,
          6.15,
          6.15,
          6.15,
          6.15,
          6.15,
          6.2,
          6.2,
          6.2,
          6.2,
          6.35,
          6.35,
          6.35,
          5.9,
          5.9,
          5.9,
          5.9,
          5.9,
          6.28,
          6.28,
          6.28,
          6.28,
          6.28,
          5.2,
          5.2,
          5.2,
          5.2,
          6.35,
          6.35,
          6.35,
          6.35,
          6.4,
          6.4,
          6.4,
          6.4,
          6.1,
          6.1,
          6.1,
          6.1,
          6.1,
          6.1,
          4.9,
          4.9,
          4.9,
          4.9,
          6.8,
          6.8,
          6.8,
          6.8,
          6.8,
          6.8,
          6.2,
          6.2,
          6.2,
          6.2,
          6.2,
          6,
          6,
          6,
          6
         ],
         "yaxis": "y2"
        },
        {
         "marker": {
          "color": [
           6.2,
           6.2,
           6.2,
           6.2,
           6.2,
           5.5,
           5.5,
           5.5,
           5.5,
           6.3,
           6.3,
           7.15,
           6.2,
           6.2,
           6.2,
           6.2,
           6.05,
           6.05,
           6.05,
           6.05,
           6.05,
           6.05,
           6.05,
           6.05,
           6.05,
           6.05,
           6.15,
           6.15,
           6.15,
           6.15,
           6.15,
           6.15,
           6.15,
           6.15,
           6.15,
           6.15,
           6.05,
           6.05,
           6.05,
           6.05,
           6.05,
           6.2,
           6.2,
           6.2,
           6.15,
           6.15,
           6.15,
           6.15,
           6.2,
           6.2,
           6.2,
           6.2,
           6.2,
           6.35,
           6.35,
           6.35,
           6.35,
           6.35,
           6.35,
           6.35,
           5.9,
           5.9,
           5.9,
           6.28,
           6.28,
           6.28,
           5.2,
           5.2,
           5.2,
           5.2,
           6.35,
           6.35,
           6.35,
           6.35,
           6.35,
           6.35,
           6.4,
           6.4,
           6.4,
           6.4,
           6.4,
           6.1,
           6.1,
           6.1,
           6.1,
           6.1,
           4.9,
           4.9,
           6.8,
           6.8,
           6.8,
           6.8,
           6.8,
           6.8,
           6.2,
           6.2,
           6.2,
           6.2,
           6.2,
           6.2,
           6.2,
           6,
           6,
           6,
           6,
           6
          ],
          "colorbar": {
           "title": {
            "text": "log(T)"
           }
          },
          "colorscale": [
           [
            0,
            "rgb(3, 35, 51)"
           ],
           [
            0.09090909090909091,
            "rgb(13, 48, 100)"
           ],
           [
            0.18181818181818182,
            "rgb(53, 50, 155)"
           ],
           [
            0.2727272727272727,
            "rgb(93, 62, 153)"
           ],
           [
            0.36363636363636365,
            "rgb(126, 77, 143)"
           ],
           [
            0.45454545454545453,
            "rgb(158, 89, 135)"
           ],
           [
            0.5454545454545454,
            "rgb(193, 100, 121)"
           ],
           [
            0.6363636363636364,
            "rgb(225, 113, 97)"
           ],
           [
            0.7272727272727273,
            "rgb(246, 139, 69)"
           ],
           [
            0.8181818181818182,
            "rgb(251, 173, 60)"
           ],
           [
            0.9090909090909091,
            "rgb(246, 211, 70)"
           ],
           [
            1,
            "rgb(231, 250, 90)"
           ]
          ],
          "showscale": true
         },
         "mode": "markers",
         "name": "Stddev",
         "showlegend": false,
         "text": [
          "Ni XI 148",
          "Ni XI 148",
          "Ni XI 148",
          "Ni XI 148",
          "Ni XI 148",
          "O VI 150",
          "O VI 150",
          "O VI 150",
          "O VI 150",
          "Ni XII 152",
          "Ni XII 152",
          "Fe XXIII 154",
          "Fe IX 171",
          "Fe IX 171",
          "Fe IX 171",
          "Fe IX 171",
          "Fe IX 174",
          "Fe IX 174",
          "Fe IX 174",
          "Fe IX 174",
          "Fe IX 174",
          "Fe IX 174",
          "Fe X 177",
          "Fe X 177",
          "Fe X 177",
          "Fe X 177",
          "Fe XI 180",
          "Fe XI 180",
          "Fe XI 180",
          "Fe XI 180",
          "Fe XI 182",
          "Fe XI 182",
          "Fe XI 182",
          "Fe XI 182",
          "Fe XI 182",
          "Fe XI 182",
          "Fe X 185",
          "Fe X 185",
          "Fe X 185",
          "Fe X 185",
          "Fe X 185",
          "Fe XII 187",
          "Fe XII 187",
          "Fe XII 187",
          "Fe XI 188",
          "Fe XI 188",
          "Fe XI 188",
          "Fe XI 188",
          "Fe XII 195",
          "Fe XII 195",
          "Fe XII 195",
          "Fe XII 195",
          "Fe XII 195",
          "Fe XIV 211",
          "Fe XIV 211",
          "Fe XIV 211",
          "Fe XIV 211",
          "Fe XIV 211",
          "Fe XIV 211",
          "Fe XIV 211",
          "Fe IX 217",
          "Fe IX 217",
          "Fe IX 217",
          "Fe XIV 265",
          "Fe XIV 265",
          "Fe XIV 265",
          "O IV 272",
          "O IV 272",
          "O IV 272",
          "O IV 272",
          "Fe XIV 274",
          "Fe XIV 274",
          "Fe XIV 274",
          "Fe XIV 274",
          "Fe XIV 274",
          "Fe XIV 274",
          "Fe XV 284",
          "Fe XV 284",
          "Fe XV 284",
          "Fe XV 284",
          "Fe XV 284",
          "Si IX 296",
          "Si IX 296",
          "Si IX 296",
          "Si IX 296",
          "Si IX 296",
          "He II 304",
          "He II 304",
          "Fe XVI 335",
          "Fe XVI 335",
          "Fe XVI 335",
          "Fe XVI 335",
          "Fe XVI 335",
          "Fe XVI 335",
          "Si X 356",
          "Si X 356",
          "Si X 356",
          "Si X 356",
          "Si X 356",
          "Si X 356",
          "Si X 356",
          "Mg IX 368",
          "Mg IX 368",
          "Mg IX 368",
          "Mg IX 368",
          "Mg IX 368"
         ],
         "type": "scatter",
         "x": [
          13.026210611381849,
          28.5429121955423,
          53.19424399529154,
          1590.832974819458,
          862.2720898469842,
          26.806840490411698,
          134.2682339833241,
          249.2515076781942,
          824.8483661284422,
          null,
          231.9194905042568,
          238.73143424250176,
          2.0660872954985074,
          26.431649936195047,
          390.38563878043834,
          828.7960039576686,
          26.030575839981346,
          2.2660872954985076,
          null,
          228.62594189449504,
          382.32342395726334,
          817.4049681449519,
          26.611852491649536,
          263.1162901271579,
          null,
          826.0051400125021,
          27.277732787736475,
          229.8125995608472,
          391.82861432175827,
          804.5573806674317,
          9.7073437369755,
          null,
          29.18938135918841,
          54.09886104398493,
          377.79969633120913,
          810.2590724580815,
          27.313476802253685,
          56.69619977678526,
          null,
          272.1318961104573,
          858.7136332890868,
          27.321093740010365,
          null,
          230.50685148794352,
          26.858679318518515,
          227.51138536892992,
          393.2321141276934,
          797.6209748463251,
          9.972530500212027,
          13.806108091071987,
          27.903575715926312,
          393.5405800904095,
          1335.1681171859195,
          9.583380232092965,
          null,
          27.430567475330456,
          2.666087295498508,
          216.23419422341206,
          437.1525200306969,
          1080.5536921578541,
          27.18833690019572,
          261.8570394375622,
          908.7044413319439,
          27.19560682895702,
          238.8660597273811,
          913.7830712671278,
          39.704553007591095,
          49.95105995475541,
          233.58984614273632,
          693.6861827613143,
          8.95927168149073,
          27.721947615917706,
          null,
          180.7918762792452,
          787.6593482743984,
          1239.104760946111,
          8.757616337484693,
          27.275366314449446,
          215.79520251089033,
          431.01485192590155,
          681.0692745286926,
          29.269640065237443,
          33.80339889763344,
          200.3915554675425,
          563.3072572500806,
          1246.9276842925017,
          276.9678610656661,
          784.0655565846239,
          14.968787745521563,
          31.30158564404409,
          52.276974736792525,
          138.76594325381194,
          210.45335106532633,
          354.29518985619467,
          28.629609476383205,
          69.70983424398435,
          132.68217042336175,
          232.0700918312697,
          null,
          471.01286632322586,
          811.8729470060072,
          14.765770974648328,
          33.688260631161945,
          64.16237476629064,
          387.59611542852406,
          925.6724710080689
         ],
         "xaxis": "x3",
         "y": [
          6.2,
          6.2,
          6.2,
          6.2,
          6.2,
          5.5,
          5.5,
          5.5,
          5.5,
          6.3,
          6.3,
          7.15,
          6.2,
          6.2,
          6.2,
          6.2,
          6.05,
          6.05,
          6.05,
          6.05,
          6.05,
          6.05,
          6.05,
          6.05,
          6.05,
          6.05,
          6.15,
          6.15,
          6.15,
          6.15,
          6.15,
          6.15,
          6.15,
          6.15,
          6.15,
          6.15,
          6.05,
          6.05,
          6.05,
          6.05,
          6.05,
          6.2,
          6.2,
          6.2,
          6.15,
          6.15,
          6.15,
          6.15,
          6.2,
          6.2,
          6.2,
          6.2,
          6.2,
          6.35,
          6.35,
          6.35,
          6.35,
          6.35,
          6.35,
          6.35,
          5.9,
          5.9,
          5.9,
          6.28,
          6.28,
          6.28,
          5.2,
          5.2,
          5.2,
          5.2,
          6.35,
          6.35,
          6.35,
          6.35,
          6.35,
          6.35,
          6.4,
          6.4,
          6.4,
          6.4,
          6.4,
          6.1,
          6.1,
          6.1,
          6.1,
          6.1,
          4.9,
          4.9,
          6.8,
          6.8,
          6.8,
          6.8,
          6.8,
          6.8,
          6.2,
          6.2,
          6.2,
          6.2,
          6.2,
          6.2,
          6.2,
          6,
          6,
          6,
          6,
          6
         ],
         "yaxis": "y3"
        }
       ],
       "layout": {
        "autosize": false,
        "height": 1000,
        "template": {
         "data": {
          "bar": [
           {
            "error_x": {
             "color": "#2a3f5f"
            },
            "error_y": {
             "color": "#2a3f5f"
            },
            "marker": {
             "line": {
              "color": "#E5ECF6",
              "width": 0.5
             },
             "pattern": {
              "fillmode": "overlay",
              "size": 10,
              "solidity": 0.2
             }
            },
            "type": "bar"
           }
          ],
          "barpolar": [
           {
            "marker": {
             "line": {
              "color": "#E5ECF6",
              "width": 0.5
             },
             "pattern": {
              "fillmode": "overlay",
              "size": 10,
              "solidity": 0.2
             }
            },
            "type": "barpolar"
           }
          ],
          "carpet": [
           {
            "aaxis": {
             "endlinecolor": "#2a3f5f",
             "gridcolor": "white",
             "linecolor": "white",
             "minorgridcolor": "white",
             "startlinecolor": "#2a3f5f"
            },
            "baxis": {
             "endlinecolor": "#2a3f5f",
             "gridcolor": "white",
             "linecolor": "white",
             "minorgridcolor": "white",
             "startlinecolor": "#2a3f5f"
            },
            "type": "carpet"
           }
          ],
          "choropleth": [
           {
            "colorbar": {
             "outlinewidth": 0,
             "ticks": ""
            },
            "type": "choropleth"
           }
          ],
          "contour": [
           {
            "colorbar": {
             "outlinewidth": 0,
             "ticks": ""
            },
            "colorscale": [
             [
              0,
              "#0d0887"
             ],
             [
              0.1111111111111111,
              "#46039f"
             ],
             [
              0.2222222222222222,
              "#7201a8"
             ],
             [
              0.3333333333333333,
              "#9c179e"
             ],
             [
              0.4444444444444444,
              "#bd3786"
             ],
             [
              0.5555555555555556,
              "#d8576b"
             ],
             [
              0.6666666666666666,
              "#ed7953"
             ],
             [
              0.7777777777777778,
              "#fb9f3a"
             ],
             [
              0.8888888888888888,
              "#fdca26"
             ],
             [
              1,
              "#f0f921"
             ]
            ],
            "type": "contour"
           }
          ],
          "contourcarpet": [
           {
            "colorbar": {
             "outlinewidth": 0,
             "ticks": ""
            },
            "type": "contourcarpet"
           }
          ],
          "heatmap": [
           {
            "colorbar": {
             "outlinewidth": 0,
             "ticks": ""
            },
            "colorscale": [
             [
              0,
              "#0d0887"
             ],
             [
              0.1111111111111111,
              "#46039f"
             ],
             [
              0.2222222222222222,
              "#7201a8"
             ],
             [
              0.3333333333333333,
              "#9c179e"
             ],
             [
              0.4444444444444444,
              "#bd3786"
             ],
             [
              0.5555555555555556,
              "#d8576b"
             ],
             [
              0.6666666666666666,
              "#ed7953"
             ],
             [
              0.7777777777777778,
              "#fb9f3a"
             ],
             [
              0.8888888888888888,
              "#fdca26"
             ],
             [
              1,
              "#f0f921"
             ]
            ],
            "type": "heatmap"
           }
          ],
          "heatmapgl": [
           {
            "colorbar": {
             "outlinewidth": 0,
             "ticks": ""
            },
            "colorscale": [
             [
              0,
              "#0d0887"
             ],
             [
              0.1111111111111111,
              "#46039f"
             ],
             [
              0.2222222222222222,
              "#7201a8"
             ],
             [
              0.3333333333333333,
              "#9c179e"
             ],
             [
              0.4444444444444444,
              "#bd3786"
             ],
             [
              0.5555555555555556,
              "#d8576b"
             ],
             [
              0.6666666666666666,
              "#ed7953"
             ],
             [
              0.7777777777777778,
              "#fb9f3a"
             ],
             [
              0.8888888888888888,
              "#fdca26"
             ],
             [
              1,
              "#f0f921"
             ]
            ],
            "type": "heatmapgl"
           }
          ],
          "histogram": [
           {
            "marker": {
             "pattern": {
              "fillmode": "overlay",
              "size": 10,
              "solidity": 0.2
             }
            },
            "type": "histogram"
           }
          ],
          "histogram2d": [
           {
            "colorbar": {
             "outlinewidth": 0,
             "ticks": ""
            },
            "colorscale": [
             [
              0,
              "#0d0887"
             ],
             [
              0.1111111111111111,
              "#46039f"
             ],
             [
              0.2222222222222222,
              "#7201a8"
             ],
             [
              0.3333333333333333,
              "#9c179e"
             ],
             [
              0.4444444444444444,
              "#bd3786"
             ],
             [
              0.5555555555555556,
              "#d8576b"
             ],
             [
              0.6666666666666666,
              "#ed7953"
             ],
             [
              0.7777777777777778,
              "#fb9f3a"
             ],
             [
              0.8888888888888888,
              "#fdca26"
             ],
             [
              1,
              "#f0f921"
             ]
            ],
            "type": "histogram2d"
           }
          ],
          "histogram2dcontour": [
           {
            "colorbar": {
             "outlinewidth": 0,
             "ticks": ""
            },
            "colorscale": [
             [
              0,
              "#0d0887"
             ],
             [
              0.1111111111111111,
              "#46039f"
             ],
             [
              0.2222222222222222,
              "#7201a8"
             ],
             [
              0.3333333333333333,
              "#9c179e"
             ],
             [
              0.4444444444444444,
              "#bd3786"
             ],
             [
              0.5555555555555556,
              "#d8576b"
             ],
             [
              0.6666666666666666,
              "#ed7953"
             ],
             [
              0.7777777777777778,
              "#fb9f3a"
             ],
             [
              0.8888888888888888,
              "#fdca26"
             ],
             [
              1,
              "#f0f921"
             ]
            ],
            "type": "histogram2dcontour"
           }
          ],
          "mesh3d": [
           {
            "colorbar": {
             "outlinewidth": 0,
             "ticks": ""
            },
            "type": "mesh3d"
           }
          ],
          "parcoords": [
           {
            "line": {
             "colorbar": {
              "outlinewidth": 0,
              "ticks": ""
             }
            },
            "type": "parcoords"
           }
          ],
          "pie": [
           {
            "automargin": true,
            "type": "pie"
           }
          ],
          "scatter": [
           {
            "fillpattern": {
             "fillmode": "overlay",
             "size": 10,
             "solidity": 0.2
            },
            "type": "scatter"
           }
          ],
          "scatter3d": [
           {
            "line": {
             "colorbar": {
              "outlinewidth": 0,
              "ticks": ""
             }
            },
            "marker": {
             "colorbar": {
              "outlinewidth": 0,
              "ticks": ""
             }
            },
            "type": "scatter3d"
           }
          ],
          "scattercarpet": [
           {
            "marker": {
             "colorbar": {
              "outlinewidth": 0,
              "ticks": ""
             }
            },
            "type": "scattercarpet"
           }
          ],
          "scattergeo": [
           {
            "marker": {
             "colorbar": {
              "outlinewidth": 0,
              "ticks": ""
             }
            },
            "type": "scattergeo"
           }
          ],
          "scattergl": [
           {
            "marker": {
             "colorbar": {
              "outlinewidth": 0,
              "ticks": ""
             }
            },
            "type": "scattergl"
           }
          ],
          "scattermapbox": [
           {
            "marker": {
             "colorbar": {
              "outlinewidth": 0,
              "ticks": ""
             }
            },
            "type": "scattermapbox"
           }
          ],
          "scatterpolar": [
           {
            "marker": {
             "colorbar": {
              "outlinewidth": 0,
              "ticks": ""
             }
            },
            "type": "scatterpolar"
           }
          ],
          "scatterpolargl": [
           {
            "marker": {
             "colorbar": {
              "outlinewidth": 0,
              "ticks": ""
             }
            },
            "type": "scatterpolargl"
           }
          ],
          "scatterternary": [
           {
            "marker": {
             "colorbar": {
              "outlinewidth": 0,
              "ticks": ""
             }
            },
            "type": "scatterternary"
           }
          ],
          "surface": [
           {
            "colorbar": {
             "outlinewidth": 0,
             "ticks": ""
            },
            "colorscale": [
             [
              0,
              "#0d0887"
             ],
             [
              0.1111111111111111,
              "#46039f"
             ],
             [
              0.2222222222222222,
              "#7201a8"
             ],
             [
              0.3333333333333333,
              "#9c179e"
             ],
             [
              0.4444444444444444,
              "#bd3786"
             ],
             [
              0.5555555555555556,
              "#d8576b"
             ],
             [
              0.6666666666666666,
              "#ed7953"
             ],
             [
              0.7777777777777778,
              "#fb9f3a"
             ],
             [
              0.8888888888888888,
              "#fdca26"
             ],
             [
              1,
              "#f0f921"
             ]
            ],
            "type": "surface"
           }
          ],
          "table": [
           {
            "cells": {
             "fill": {
              "color": "#EBF0F8"
             },
             "line": {
              "color": "white"
             }
            },
            "header": {
             "fill": {
              "color": "#C8D4E3"
             },
             "line": {
              "color": "white"
             }
            },
            "type": "table"
           }
          ]
         },
         "layout": {
          "annotationdefaults": {
           "arrowcolor": "#2a3f5f",
           "arrowhead": 0,
           "arrowwidth": 1
          },
          "autotypenumbers": "strict",
          "coloraxis": {
           "colorbar": {
            "outlinewidth": 0,
            "ticks": ""
           }
          },
          "colorscale": {
           "diverging": [
            [
             0,
             "#8e0152"
            ],
            [
             0.1,
             "#c51b7d"
            ],
            [
             0.2,
             "#de77ae"
            ],
            [
             0.3,
             "#f1b6da"
            ],
            [
             0.4,
             "#fde0ef"
            ],
            [
             0.5,
             "#f7f7f7"
            ],
            [
             0.6,
             "#e6f5d0"
            ],
            [
             0.7,
             "#b8e186"
            ],
            [
             0.8,
             "#7fbc41"
            ],
            [
             0.9,
             "#4d9221"
            ],
            [
             1,
             "#276419"
            ]
           ],
           "sequential": [
            [
             0,
             "#0d0887"
            ],
            [
             0.1111111111111111,
             "#46039f"
            ],
            [
             0.2222222222222222,
             "#7201a8"
            ],
            [
             0.3333333333333333,
             "#9c179e"
            ],
            [
             0.4444444444444444,
             "#bd3786"
            ],
            [
             0.5555555555555556,
             "#d8576b"
            ],
            [
             0.6666666666666666,
             "#ed7953"
            ],
            [
             0.7777777777777778,
             "#fb9f3a"
            ],
            [
             0.8888888888888888,
             "#fdca26"
            ],
            [
             1,
             "#f0f921"
            ]
           ],
           "sequentialminus": [
            [
             0,
             "#0d0887"
            ],
            [
             0.1111111111111111,
             "#46039f"
            ],
            [
             0.2222222222222222,
             "#7201a8"
            ],
            [
             0.3333333333333333,
             "#9c179e"
            ],
            [
             0.4444444444444444,
             "#bd3786"
            ],
            [
             0.5555555555555556,
             "#d8576b"
            ],
            [
             0.6666666666666666,
             "#ed7953"
            ],
            [
             0.7777777777777778,
             "#fb9f3a"
            ],
            [
             0.8888888888888888,
             "#fdca26"
            ],
            [
             1,
             "#f0f921"
            ]
           ]
          },
          "colorway": [
           "#636efa",
           "#EF553B",
           "#00cc96",
           "#ab63fa",
           "#FFA15A",
           "#19d3f3",
           "#FF6692",
           "#B6E880",
           "#FF97FF",
           "#FECB52"
          ],
          "font": {
           "color": "#2a3f5f"
          },
          "geo": {
           "bgcolor": "white",
           "lakecolor": "white",
           "landcolor": "#E5ECF6",
           "showlakes": true,
           "showland": true,
           "subunitcolor": "white"
          },
          "hoverlabel": {
           "align": "left"
          },
          "hovermode": "closest",
          "mapbox": {
           "style": "light"
          },
          "paper_bgcolor": "white",
          "plot_bgcolor": "#E5ECF6",
          "polar": {
           "angularaxis": {
            "gridcolor": "white",
            "linecolor": "white",
            "ticks": ""
           },
           "bgcolor": "#E5ECF6",
           "radialaxis": {
            "gridcolor": "white",
            "linecolor": "white",
            "ticks": ""
           }
          },
          "scene": {
           "xaxis": {
            "backgroundcolor": "#E5ECF6",
            "gridcolor": "white",
            "gridwidth": 2,
            "linecolor": "white",
            "showbackground": true,
            "ticks": "",
            "zerolinecolor": "white"
           },
           "yaxis": {
            "backgroundcolor": "#E5ECF6",
            "gridcolor": "white",
            "gridwidth": 2,
            "linecolor": "white",
            "showbackground": true,
            "ticks": "",
            "zerolinecolor": "white"
           },
           "zaxis": {
            "backgroundcolor": "#E5ECF6",
            "gridcolor": "white",
            "gridwidth": 2,
            "linecolor": "white",
            "showbackground": true,
            "ticks": "",
            "zerolinecolor": "white"
           }
          },
          "shapedefaults": {
           "line": {
            "color": "#2a3f5f"
           }
          },
          "ternary": {
           "aaxis": {
            "gridcolor": "white",
            "linecolor": "white",
            "ticks": ""
           },
           "baxis": {
            "gridcolor": "white",
            "linecolor": "white",
            "ticks": ""
           },
           "bgcolor": "#E5ECF6",
           "caxis": {
            "gridcolor": "white",
            "linecolor": "white",
            "ticks": ""
           }
          },
          "title": {
           "x": 0.05
          },
          "xaxis": {
           "automargin": true,
           "gridcolor": "white",
           "linecolor": "white",
           "ticks": "",
           "title": {
            "standoff": 15
           },
           "zerolinecolor": "white",
           "zerolinewidth": 2
          },
          "yaxis": {
           "automargin": true,
           "gridcolor": "white",
           "linecolor": "white",
           "ticks": "",
           "title": {
            "standoff": 15
           },
           "zerolinecolor": "white",
           "zerolinewidth": 2
          }
         }
        },
        "title": {
         "text": "Wavelet Peak",
         "x": 0.5
        },
        "width": 800,
        "xaxis": {
         "anchor": "y",
         "domain": [
          0,
          1
         ],
         "matches": "x",
         "range": [
          0,
          300
         ],
         "title": {
          "text": "Amplitude Periods (d)"
         }
        },
        "xaxis2": {
         "anchor": "y2",
         "domain": [
          0,
          1
         ],
         "matches": "x",
         "range": [
          0,
          300
         ],
         "title": {
          "text": "mean Periods (d)"
         }
        },
        "xaxis3": {
         "anchor": "y3",
         "domain": [
          0,
          1
         ],
         "matches": "x",
         "range": [
          0,
          300
         ],
         "title": {
          "text": "stddev Periods (d)"
         }
        },
        "yaxis": {
         "anchor": "x",
         "domain": [
          0.7333333333333333,
          1
         ],
         "matches": "y",
         "range": [
          4.6,
          7.3
         ],
         "title": {
          "text": "log(T)"
         }
        },
        "yaxis2": {
         "anchor": "x2",
         "domain": [
          0.36666666666666664,
          0.6333333333333333
         ],
         "matches": "y",
         "range": [
          4.6,
          7.3
         ],
         "title": {
          "text": "log(T)"
         }
        },
        "yaxis3": {
         "anchor": "x3",
         "domain": [
          0,
          0.26666666666666666
         ],
         "matches": "y",
         "range": [
          4.6,
          7.3
         ],
         "title": {
          "text": "log(T)"
         }
        }
       }
      }
     },
     "metadata": {},
     "output_type": "display_data"
    }
   ],
   "source": [
    "# set the whole figure to be large\n",
    "fig = make_subplots(rows=3, cols=1)\n",
    "color_scale = 'thermal'\n",
    "\n",
    "\n",
    "\n",
    "\n",
    "# Add scatter plot   Row 1\n",
    "fig.add_trace(\n",
    "    go.Scatter(\n",
    "        x=wavelet_amplitude_df['amplitude periods'],\n",
    "        y=wavelet_amplitude_df['temperature'],\n",
    "        mode='markers',\n",
    "        marker=dict(\n",
    "            color=wavelet_amplitude_df['temperature'],  # Use normalized 'size' for color\n",
    "            colorscale=color_scale,  # Define color scale\n",
    "            colorbar=dict(title=r'log(T)'),  # Show color scale bar\n",
    "            showscale=True,# show the color bar (color scale)\n",
    "        ),\n",
    "        showlegend=False, # otherwise a legend will appear on the right,\n",
    "        text=wavelet_amplitude_df['line name'],  \n",
    "        name='Amplitude',\n",
    "                ),\n",
    "    row=1,\n",
    "    col=1,\n",
    "    )\n",
    "fig.update_xaxes(title_text=\"Amplitude Periods (d)\", row=1, col=1)\n",
    "fig.update_yaxes(title_text=\"log(T)\", row=1, col=1)\n",
    "\n",
    "\n",
    "\n",
    "\n",
    "# Add scatter plot    Row   2\n",
    "fig.add_trace(\n",
    "    go.Scatter(\n",
    "        x=wavelet_mean_df['mean periods'],\n",
    "        y=wavelet_mean_df['temperature'],\n",
    "        mode='markers',\n",
    "        marker=dict(\n",
    "            color=wavelet_mean_df['temperature'],  # Use normalized 'size' for color\n",
    "            colorscale=color_scale,  # Define color scale\n",
    "            colorbar=dict(title=r'log(T)'),  # Show color scale bar\n",
    "            showscale=True,# show the color bar (color scale)\n",
    "        ),\n",
    "        showlegend=False, # otherwise a legend will appear on the right,\n",
    "        text=wavelet_mean_df['line name'],  # Hover text shows 'size'\n",
    "        name='Mean',\n",
    "                ),\n",
    "    row=2,\n",
    "    col=1,\n",
    "    )\n",
    "fig.update_xaxes(title_text=\"mean Periods (d)\", row=2, col=1)\n",
    "fig.update_yaxes(title_text=\"log(T)\", row=2, col=1)\n",
    "\n",
    "# Add scatter plot  Row 3\n",
    "fig.add_trace(\n",
    "    go.Scatter(\n",
    "        x=wavelet_stddev_df['stddev periods'],\n",
    "        y=wavelet_stddev_df['temperature'],\n",
    "        mode='markers',\n",
    "        marker=dict(\n",
    "            color=wavelet_stddev_df['temperature'],  # Use normalized 'size' for color\n",
    "            colorscale=color_scale,  # Define color scale\n",
    "            colorbar=dict(title=r'log(T)'),  # Show color scale bar\n",
    "            showscale=True,# show the color bar (color scale)\n",
    "        ),\n",
    "        showlegend=False, # otherwise a legend will appear on the right,\n",
    "        text=wavelet_stddev_df['line name'],  # Hover text shows 'size'\n",
    "        name='Stddev',\n",
    "                ),\n",
    "    row=3, \n",
    "    col=1,\n",
    "    )\n",
    "fig.update_xaxes(title_text=\"stddev Periods (d)\", row=3, col=1)\n",
    "fig.update_yaxes(title_text=\"log(T)\", row=3, col=1)\n",
    "\n",
    "\n",
    "\n",
    "\n",
    "\n",
    "col=1\n",
    "# Update to match x-axes and optionally y-axes if needed\n",
    "for row in range(1, 4):  # Rows 1 through 3\n",
    "    fig.update_xaxes(matches='x', row=row, col=col)  # Match all x-axes to the first one\n",
    "    fig.update_yaxes(matches='y', row=row, col=col)\n",
    "        \n",
    "\n",
    "for row in [1,2,3]:\n",
    "        fig.update_xaxes(range=[0, 300], row=row, col=col)\n",
    "        fig.update_yaxes(range=[4.6, 7.3], row=row, col=col)\n",
    "\n",
    "fig.update_layout(\n",
    "    autosize=False,\n",
    "    width=800,\n",
    "    height=1000,\n",
    "    title_text=\"Wavelet Peak\",\n",
    "    title_x=0.5,\n",
    ")\n",
    "\n",
    "fig.write_html('output\\wavelet_explore\\peak_scatter\\combine\\\\temperature.html')\n",
    "fig.show()"
   ]
  },
  {
   "cell_type": "code",
   "execution_count": null,
   "metadata": {},
   "outputs": [],
   "source": []
  }
 ],
 "metadata": {
  "kernelspec": {
   "display_name": "sdo2022",
   "language": "python",
   "name": "python3"
  },
  "language_info": {
   "codemirror_mode": {
    "name": "ipython",
    "version": 3
   },
   "file_extension": ".py",
   "mimetype": "text/x-python",
   "name": "python",
   "nbconvert_exporter": "python",
   "pygments_lexer": "ipython3",
   "version": "3.9.16"
  }
 },
 "nbformat": 4,
 "nbformat_minor": 2
}
