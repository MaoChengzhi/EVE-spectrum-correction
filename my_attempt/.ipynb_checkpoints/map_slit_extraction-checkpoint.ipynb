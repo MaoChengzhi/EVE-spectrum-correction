{
  "cells": [
    {
      "cell_type": "code",
      "execution_count": null,
      "metadata": {
        "collapsed": false
      },
      "outputs": [],
      "source": [
        "%matplotlib inline"
      ]
    },
    {
      "cell_type": "markdown",
      "metadata": {},
      "source": [
        "\n# Extracting intensity of a map along a line\n\nIn this example we will extract the intensity values of all the pixels\nthat intersect with a given set of coordinates.\n"
      ]
    },
    {
      "cell_type": "code",
      "execution_count": null,
      "metadata": {
        "collapsed": false
      },
      "outputs": [],
      "source": [
        "import matplotlib.pyplot as plt\n\nimport astropy.units as u\nfrom astropy.coordinates import SkyCoord\n\nimport sunpy.map\nfrom sunpy.data.sample import AIA_171_ROLL_IMAGE"
      ]
    },
    {
      "cell_type": "markdown",
      "metadata": {},
      "source": [
        "First we construct a map, using some sample data.\n\n"
      ]
    },
    {
      "cell_type": "code",
      "execution_count": null,
      "metadata": {
        "collapsed": false
      },
      "outputs": [],
      "source": [
        "aia_map = sunpy.map.Map(AIA_171_ROLL_IMAGE)"
      ]
    },
    {
      "cell_type": "markdown",
      "metadata": {},
      "source": [
        "Next we define a path in a `~astropy.coordinates.SkyCoord` object.\nIn this example we are just going to use a straight line defined by two points.\nHowever a path with any number of points and any shape can be used.\n\n"
      ]
    },
    {
      "cell_type": "code",
      "execution_count": null,
      "metadata": {
        "collapsed": false
      },
      "outputs": [],
      "source": [
        "line_coords = SkyCoord([-1024, -908], [20, 633], unit=(u.arcsec, u.arcsec),\n                       frame=aia_map.coordinate_frame)"
      ]
    },
    {
      "cell_type": "markdown",
      "metadata": {},
      "source": [
        "Next we call the `sunpy.map.extract_along_coord` function with the map and\nthe coordinates we want to extract.\nThis function returns two items, the first is a numpy array of all the\nintensities and the second is a `~astropy.coordinates.SkyCoord` object of the\nsame length, which describes the world coordinates of each pixel that has\nbeen extracted.\n\n"
      ]
    },
    {
      "cell_type": "code",
      "execution_count": null,
      "metadata": {
        "collapsed": false
      },
      "outputs": [],
      "source": [
        "intensity, intensity_coords = sunpy.map.extract_along_coord(aia_map, line_coords)"
      ]
    },
    {
      "cell_type": "markdown",
      "metadata": {},
      "source": [
        "Next we will calculate the angular separation between the first point and\nevery other coordinate we extracted. We are doing this to give us a\nmeaningful x-axis for our line plot below.\n\n"
      ]
    },
    {
      "cell_type": "code",
      "execution_count": null,
      "metadata": {
        "collapsed": false
      },
      "outputs": [],
      "source": [
        "angular_separation = intensity_coords.separation(intensity_coords[0]).to(u.arcsec)"
      ]
    },
    {
      "cell_type": "markdown",
      "metadata": {},
      "source": [
        "Finally let's plot the results.\n\n"
      ]
    },
    {
      "cell_type": "code",
      "execution_count": null,
      "metadata": {
        "collapsed": false
      },
      "outputs": [],
      "source": [
        "fig = plt.figure()\nax1 = fig.add_subplot(121, projection=aia_map)\naia_map.plot(axes=ax1)\nax1.plot_coord(intensity_coords)\nax1.plot_coord(line_coords[0], marker=\"o\", color=\"blue\", label=\"start\")\nax1.plot_coord(line_coords[1], marker=\"o\", color=\"green\", label=\"end\")\nax1.legend()\n\nax2 = fig.add_subplot(122)\nax2.plot(angular_separation, intensity)\nax2.set_xlabel(\"Angular distance along slit [arcsec]\")\nax2.set_ylabel(f\"Intensity [{aia_map.unit}]\")\n\nplt.show()"
      ]
    }
  ],
  "metadata": {
    "kernelspec": {
      "display_name": "Python 3",
      "language": "python",
      "name": "python3"
    },
    "language_info": {
      "codemirror_mode": {
        "name": "ipython",
        "version": 3
      },
      "file_extension": ".py",
      "mimetype": "text/x-python",
      "name": "python",
      "nbconvert_exporter": "python",
      "pygments_lexer": "ipython3",
      "version": "3.10.8"
    }
  },
  "nbformat": 4,
  "nbformat_minor": 0
}