{
 "cells": [
  {
   "cell_type": "code",
   "execution_count": 1,
   "id": "ba2424eb-73d9-4de5-bae6-02ac273ecfc5",
   "metadata": {},
   "outputs": [],
   "source": [
    "import copy\n",
    "import glob\n",
    "\n",
    "import matplotlib\n",
    "import matplotlib.pyplot as plt\n",
    "from mpl_toolkits.axes_grid1 import make_axes_locatable\n",
    "import numpy as np\n",
    "from IPython.display import HTML\n",
    "\n",
    "import astropy.table\n",
    "from astropy.coordinates import SkyCoord\n",
    "import astropy.units as u\n",
    "from astropy.visualization import AsymmetricPercentileInterval, ImageNormalize, LogStretch\n",
    "from astropy.io import fits\n",
    "from astropy.modeling.models import Gaussian1D\n",
    "from astropy.modeling import fitting\n",
    "\n",
    "import sunpy.map\n",
    "import sunpy.timeseries\n",
    "import sunpy.sun.constants\n",
    "from sunpy.coordinates import Helioprojective"
   ]
  },
  {
   "cell_type": "code",
   "execution_count": 2,
   "id": "8ff2feb1-5056-4c4f-8aca-3479d3a3fadd",
   "metadata": {},
   "outputs": [],
   "source": [
    "EVE_filename=\"data/EVE/esp_L1_2011001_007.fit\""
   ]
  },
  {
   "cell_type": "code",
   "execution_count": 16,
   "id": "a99b4837-bbfc-4af0-b192-8d79f8f25264",
   "metadata": {},
   "outputs": [],
   "source": [
    "hdulist=fits.open(EVE_filename)\n",
    "eve_data=hdulist[1].data"
   ]
  },
  {
   "cell_type": "code",
   "execution_count": 17,
   "id": "d28b2e87-729a-4246-ab82-582ffab7f193",
   "metadata": {},
   "outputs": [
    {
     "data": {
      "text/plain": [
       "astropy.io.fits.fitsrec.FITS_rec"
      ]
     },
     "execution_count": 17,
     "metadata": {},
     "output_type": "execute_result"
    }
   ],
   "source": [
    "type(eve_data)"
   ]
  },
  {
   "cell_type": "code",
   "execution_count": 32,
   "id": "95672b2c-28c3-45fc-8032-6f6e34b9c76d",
   "metadata": {},
   "outputs": [
    {
     "data": {
      "text/plain": [
       "\u001b[1;31mType:\u001b[0m        FITS_rec\n",
       "\u001b[1;31mString form:\u001b[0m [(0.00018583, 0.00018583, 0.00018583, 0.00018583, 0.00019313, 0.00065825, 0.00033594, 0.00072671, <...> 2011, 1, 8.63998525e+04, 804.2977 , 742.05566, 2537.7852, 1254.956 , 169.77454, 1.0392872, 0, 0)]\n",
       "\u001b[1;31mLength:\u001b[0m      345456\n",
       "\u001b[1;31mFile:\u001b[0m        c:\\users\\asus-pc\\anaconda3\\envs\\py_begin\\lib\\site-packages\\astropy\\io\\fits\\fitsrec.py\n",
       "\u001b[1;31mDocstring:\u001b[0m  \n",
       "FITS record array class.\n",
       "\n",
       "`FITS_rec` is the data part of a table HDU's data part.  This is a layer\n",
       "over the `~numpy.recarray`, so we can deal with scaled columns.\n",
       "\n",
       "It inherits all of the standard methods from `numpy.ndarray`.\n"
      ]
     },
     "metadata": {},
     "output_type": "display_data"
    }
   ],
   "source": [
    "eve_data?"
   ]
  },
  {
   "cell_type": "code",
   "execution_count": 40,
   "id": "401c9d1f-e1d6-4a8b-ba0c-fd7395594776",
   "metadata": {},
   "outputs": [
    {
     "data": {
      "text/plain": [
       "FITS_rec([(0.00018583, 0.00018583, 0.00018583, 0.00018583, 0.00019313, 0.00065825, 0.00033594, 0.00072671, 0.00014138, 49., 1.3163939e-06, 1.3163939e-06, 1.3163939e-06, 1.3163939e-06, 2.6327878e-06, 6.876643e-07, 1.1224572e-06, 1.3021942e-06, 1.4024267e-05, 5.421559e-01, 3., 21.25, 2011, 1, 3.58349457e+01, 743.9947 , 747.4449 , 2537.7852, 1236.2008, 169.77454, 1.0392872, 0, 0),\n",
       "          (0.00018583, 0.00018583, 0.00018583, 0.00018583, 0.00019313, 0.00065989, 0.00034127, 0.00072653, 0.00014209, 48., 1.3163939e-06, 1.3163939e-06, 1.3163939e-06, 1.3163939e-06, 2.6327878e-06, 6.876643e-07, 1.1224572e-06, 1.3021942e-06, 1.4024267e-05, 5.421559e-01, 3., 21.25, 2011, 1, 3.60849457e+01, 743.9983 , 752.83405, 2537.7852, 1236.2008, 169.77454, 1.0392872, 0, 0),\n",
       "          (0.00018282, 0.00018282, 0.00018282, 0.00018282, 0.00019   , 0.00066111, 0.00033639, 0.00072653, 0.0001126 , 48., 1.3163939e-06, 1.3163939e-06, 1.3163939e-06, 1.3163939e-06, 2.6327878e-06, 6.876643e-07, 1.1224572e-06, 1.3021942e-06, 1.4024267e-05, 5.421559e-01, 3., 21.25, 2011, 1, 3.63349457e+01, 731.9321 , 742.05566, 2542.4536, 1236.2008, 169.77454, 1.0392872, 0, 0),\n",
       "          ...,\n",
       "          (0.00019989, 0.00019989, 0.00019989, 0.00019989, 0.00020774, 0.00065867, 0.00033638, 0.00073754, 0.00014209, 49., 9.9999999e-09, 9.9999999e-09, 9.9999999e-09, 9.9999999e-09, 9.9999999e-09, 1.000000e-08, 9.9999999e-09, 9.9999999e-09, 9.9999999e-09, 1.000000e-08, 3., 21.25, 2011, 1, 8.63993525e+04, 800.27966, 742.05566, 2533.1162, 1254.956 , 169.77454, 1.0392872, 0, 0),\n",
       "          (0.00019888, 0.00019888, 0.00019888, 0.00019888, 0.0002067 , 0.00065988, 0.00033883, 0.00073754, 0.00020105, 48., 9.9999999e-09, 9.9999999e-09, 9.9999999e-09, 9.9999999e-09, 9.9999999e-09, 1.000000e-08, 9.9999999e-09, 9.9999999e-09, 9.9999999e-09, 1.000000e-08, 3., 21.25, 2011, 1, 8.63996025e+04, 796.26385, 747.4449 , 2537.7852, 1254.956 , 169.77454, 1.0392872, 0, 0),\n",
       "          (0.00020089, 0.00020089, 0.00020089, 0.00020089, 0.00020878, 0.00065988, 0.00033638, 0.00073754, 0.00014209, 48., 9.9999999e-09, 9.9999999e-09, 9.9999999e-09, 9.9999999e-09, 9.9999999e-09, 1.000000e-08, 9.9999999e-09, 9.9999999e-09, 9.9999999e-09, 1.000000e-08, 3., 21.25, 2011, 1, 8.63998525e+04, 804.2977 , 742.05566, 2537.7852, 1254.956 , 169.77454, 1.0392872, 0, 0)],\n",
       "         dtype=(numpy.record, [('Q_0', '>f4'), ('Q_1', '>f4'), ('Q_2', '>f4'), ('Q_3', '>f4'), ('QD', '>f4'), ('CH_18', '>f4'), ('CH_26', '>f4'), ('CH_30', '>f4'), ('CH_36', '>f4'), ('CH_D', '>f4'), ('Q_0_PREC', '>f4'), ('Q_1_PREC', '>f4'), ('Q_2_PREC', '>f4'), ('Q_3_PREC', '>f4'), ('QD_PREC', '>f4'), ('CH_18_PREC', '>f4'), ('CH_26_PREC', '>f4'), ('CH_30_PREC', '>f4'), ('CH_36_PREC', '>f4'), ('CH_D_PREC', '>f4'), ('FILTER', '>f4'), ('CH_TEMP', '>f4'), ('YEAR', '>i2'), ('DOY', '>i2'), ('SOD', '>f8'), ('EFF_QD', '>f4'), ('EFF_CH_26', '>f4'), ('EFF_CH_18', '>f4'), ('EFF_CH_30', '>f4'), ('EFF_COUNTS', '>f4'), ('QD_F3_DEGRAD', '>f4'), ('L1C_FLAGS', 'u1'), ('L1NC_FLAGS', 'u1')]))"
      ]
     },
     "execution_count": 40,
     "metadata": {},
     "output_type": "execute_result"
    }
   ],
   "source": [
    "eve_data"
   ]
  },
  {
   "cell_type": "code",
   "execution_count": 53,
   "id": "801091c3-c79a-4664-a595-b637a59f46e9",
   "metadata": {},
   "outputs": [
    {
     "data": {
      "text/plain": [
       "numpy.dtype[void]"
      ]
     },
     "execution_count": 53,
     "metadata": {},
     "output_type": "execute_result"
    }
   ],
   "source": [
    "type(eve_data.dtype)"
   ]
  },
  {
   "cell_type": "code",
   "execution_count": 54,
   "id": "0a156ccc-942c-4e21-a1bf-40a8e1964d17",
   "metadata": {
    "collapsed": true,
    "jupyter": {
     "outputs_hidden": true
    },
    "tags": []
   },
   "outputs": [
    {
     "ename": "AttributeError",
     "evalue": "'str' object has no attribute 'type'",
     "output_type": "error",
     "traceback": [
      "\u001b[1;31m---------------------------------------------------------------------------\u001b[0m",
      "\u001b[1;31mAttributeError\u001b[0m                            Traceback (most recent call last)",
      "\u001b[1;32m~\\AppData\\Local\\Temp\\ipykernel_6304\\1875277459.py\u001b[0m in \u001b[0;36m<module>\u001b[1;34m\u001b[0m\n\u001b[1;32m----> 1\u001b[1;33m \u001b[0meve_data\u001b[0m\u001b[1;33m.\u001b[0m\u001b[0mdtype\u001b[0m\u001b[1;33m=\u001b[0m\u001b[1;34m\"\"\u001b[0m\u001b[1;33m\u001b[0m\u001b[1;33m\u001b[0m\u001b[0m\n\u001b[0m",
      "\u001b[1;32m~\\anaconda3\\envs\\Py_Begin\\lib\\site-packages\\numpy\\core\\records.py\u001b[0m in \u001b[0;36m__setattr__\u001b[1;34m(self, attr, val)\u001b[0m\n\u001b[0;32m    478\u001b[0m         \u001b[1;31m# Automatically convert (void) structured types to records\u001b[0m\u001b[1;33m\u001b[0m\u001b[1;33m\u001b[0m\u001b[0m\n\u001b[0;32m    479\u001b[0m         \u001b[1;31m# (but not non-void structures, subarrays, or non-structured voids)\u001b[0m\u001b[1;33m\u001b[0m\u001b[1;33m\u001b[0m\u001b[0m\n\u001b[1;32m--> 480\u001b[1;33m         \u001b[1;32mif\u001b[0m \u001b[0mattr\u001b[0m \u001b[1;33m==\u001b[0m \u001b[1;34m'dtype'\u001b[0m \u001b[1;32mand\u001b[0m \u001b[0missubclass\u001b[0m\u001b[1;33m(\u001b[0m\u001b[0mval\u001b[0m\u001b[1;33m.\u001b[0m\u001b[0mtype\u001b[0m\u001b[1;33m,\u001b[0m \u001b[0mnt\u001b[0m\u001b[1;33m.\u001b[0m\u001b[0mvoid\u001b[0m\u001b[1;33m)\u001b[0m \u001b[1;32mand\u001b[0m \u001b[0mval\u001b[0m\u001b[1;33m.\u001b[0m\u001b[0mnames\u001b[0m \u001b[1;32mis\u001b[0m \u001b[1;32mnot\u001b[0m \u001b[1;32mNone\u001b[0m\u001b[1;33m:\u001b[0m\u001b[1;33m\u001b[0m\u001b[1;33m\u001b[0m\u001b[0m\n\u001b[0m\u001b[0;32m    481\u001b[0m             \u001b[0mval\u001b[0m \u001b[1;33m=\u001b[0m \u001b[0msb\u001b[0m\u001b[1;33m.\u001b[0m\u001b[0mdtype\u001b[0m\u001b[1;33m(\u001b[0m\u001b[1;33m(\u001b[0m\u001b[0mrecord\u001b[0m\u001b[1;33m,\u001b[0m \u001b[0mval\u001b[0m\u001b[1;33m)\u001b[0m\u001b[1;33m)\u001b[0m\u001b[1;33m\u001b[0m\u001b[1;33m\u001b[0m\u001b[0m\n\u001b[0;32m    482\u001b[0m \u001b[1;33m\u001b[0m\u001b[0m\n",
      "\u001b[1;31mAttributeError\u001b[0m: 'str' object has no attribute 'type'"
     ]
    }
   ],
   "source": [
    "eve_data.dtype="
   ]
  },
  {
   "cell_type": "code",
   "execution_count": 22,
   "id": "ceea9c5d-1b6d-4022-adda-a655c36c2949",
   "metadata": {
    "collapsed": true,
    "jupyter": {
     "outputs_hidden": true
    },
    "tags": []
   },
   "outputs": [
    {
     "data": {
      "text/plain": [
       "FITS_rec([(0.00018583, 0.00018583, 0.00018583, 0.00018583, 0.00019313, 0.00065825, 0.00033594, 0.00072671, 0.00014138, 49., 1.3163939e-06, 1.3163939e-06, 1.3163939e-06, 1.3163939e-06, 2.6327878e-06, 6.876643e-07, 1.1224572e-06, 1.3021942e-06, 1.4024267e-05, 5.421559e-01, 3., 21.25, 2011, 1, 3.58349457e+01, 743.9947 , 747.4449 , 2537.7852, 1236.2008, 169.77454, 1.0392872, 0, 0),\n",
       "          (0.00018583, 0.00018583, 0.00018583, 0.00018583, 0.00019313, 0.00065989, 0.00034127, 0.00072653, 0.00014209, 48., 1.3163939e-06, 1.3163939e-06, 1.3163939e-06, 1.3163939e-06, 2.6327878e-06, 6.876643e-07, 1.1224572e-06, 1.3021942e-06, 1.4024267e-05, 5.421559e-01, 3., 21.25, 2011, 1, 3.60849457e+01, 743.9983 , 752.83405, 2537.7852, 1236.2008, 169.77454, 1.0392872, 0, 0),\n",
       "          (0.00018282, 0.00018282, 0.00018282, 0.00018282, 0.00019   , 0.00066111, 0.00033639, 0.00072653, 0.0001126 , 48., 1.3163939e-06, 1.3163939e-06, 1.3163939e-06, 1.3163939e-06, 2.6327878e-06, 6.876643e-07, 1.1224572e-06, 1.3021942e-06, 1.4024267e-05, 5.421559e-01, 3., 21.25, 2011, 1, 3.63349457e+01, 731.9321 , 742.05566, 2542.4536, 1236.2008, 169.77454, 1.0392872, 0, 0),\n",
       "          ...,\n",
       "          (0.00019989, 0.00019989, 0.00019989, 0.00019989, 0.00020774, 0.00065867, 0.00033638, 0.00073754, 0.00014209, 49., 9.9999999e-09, 9.9999999e-09, 9.9999999e-09, 9.9999999e-09, 9.9999999e-09, 1.000000e-08, 9.9999999e-09, 9.9999999e-09, 9.9999999e-09, 1.000000e-08, 3., 21.25, 2011, 1, 8.63993525e+04, 800.27966, 742.05566, 2533.1162, 1254.956 , 169.77454, 1.0392872, 0, 0),\n",
       "          (0.00019888, 0.00019888, 0.00019888, 0.00019888, 0.0002067 , 0.00065988, 0.00033883, 0.00073754, 0.00020105, 48., 9.9999999e-09, 9.9999999e-09, 9.9999999e-09, 9.9999999e-09, 9.9999999e-09, 1.000000e-08, 9.9999999e-09, 9.9999999e-09, 9.9999999e-09, 1.000000e-08, 3., 21.25, 2011, 1, 8.63996025e+04, 796.26385, 747.4449 , 2537.7852, 1254.956 , 169.77454, 1.0392872, 0, 0),\n",
       "          (0.00020089, 0.00020089, 0.00020089, 0.00020089, 0.00020878, 0.00065988, 0.00033638, 0.00073754, 0.00014209, 48., 9.9999999e-09, 9.9999999e-09, 9.9999999e-09, 9.9999999e-09, 9.9999999e-09, 1.000000e-08, 9.9999999e-09, 9.9999999e-09, 9.9999999e-09, 1.000000e-08, 3., 21.25, 2011, 1, 8.63998525e+04, 804.2977 , 742.05566, 2537.7852, 1254.956 , 169.77454, 1.0392872, 0, 0)],\n",
       "         dtype=(numpy.record, [('Q_0', '>f4'), ('Q_1', '>f4'), ('Q_2', '>f4'), ('Q_3', '>f4'), ('QD', '>f4'), ('CH_18', '>f4'), ('CH_26', '>f4'), ('CH_30', '>f4'), ('CH_36', '>f4'), ('CH_D', '>f4'), ('Q_0_PREC', '>f4'), ('Q_1_PREC', '>f4'), ('Q_2_PREC', '>f4'), ('Q_3_PREC', '>f4'), ('QD_PREC', '>f4'), ('CH_18_PREC', '>f4'), ('CH_26_PREC', '>f4'), ('CH_30_PREC', '>f4'), ('CH_36_PREC', '>f4'), ('CH_D_PREC', '>f4'), ('FILTER', '>f4'), ('CH_TEMP', '>f4'), ('YEAR', '>i2'), ('DOY', '>i2'), ('SOD', '>f8'), ('EFF_QD', '>f4'), ('EFF_CH_26', '>f4'), ('EFF_CH_18', '>f4'), ('EFF_CH_30', '>f4'), ('EFF_COUNTS', '>f4'), ('QD_F3_DEGRAD', '>f4'), ('L1C_FLAGS', 'u1'), ('L1NC_FLAGS', 'u1')]))"
      ]
     },
     "execution_count": 22,
     "metadata": {},
     "output_type": "execute_result"
    }
   ],
   "source": [
    "eve_data"
   ]
  },
  {
   "cell_type": "code",
   "execution_count": 26,
   "id": "21576887-68ab-4b1e-a4c8-31a2b09aaee0",
   "metadata": {},
   "outputs": [],
   "source": [
    "flat=eve_data.flatten()"
   ]
  },
  {
   "cell_type": "code",
   "execution_count": 43,
   "id": "ea0b16aa-507d-4c63-8bcd-70e88e25c1d1",
   "metadata": {
    "collapsed": true,
    "jupyter": {
     "outputs_hidden": true
    },
    "tags": []
   },
   "outputs": [
    {
     "data": {
      "text/plain": [
       "('Q_0',\n",
       " 'Q_1',\n",
       " 'Q_2',\n",
       " 'Q_3',\n",
       " 'QD',\n",
       " 'CH_18',\n",
       " 'CH_26',\n",
       " 'CH_30',\n",
       " 'CH_36',\n",
       " 'CH_D',\n",
       " 'Q_0_PREC',\n",
       " 'Q_1_PREC',\n",
       " 'Q_2_PREC',\n",
       " 'Q_3_PREC',\n",
       " 'QD_PREC',\n",
       " 'CH_18_PREC',\n",
       " 'CH_26_PREC',\n",
       " 'CH_30_PREC',\n",
       " 'CH_36_PREC',\n",
       " 'CH_D_PREC',\n",
       " 'FILTER',\n",
       " 'CH_TEMP',\n",
       " 'YEAR',\n",
       " 'DOY',\n",
       " 'SOD',\n",
       " 'EFF_QD',\n",
       " 'EFF_CH_26',\n",
       " 'EFF_CH_18',\n",
       " 'EFF_CH_30',\n",
       " 'EFF_COUNTS',\n",
       " 'QD_F3_DEGRAD',\n",
       " 'L1C_FLAGS',\n",
       " 'L1NC_FLAGS')"
      ]
     },
     "execution_count": 43,
     "metadata": {},
     "output_type": "execute_result"
    }
   ],
   "source": [
    "flat.dtype.names."
   ]
  },
  {
   "cell_type": "code",
   "execution_count": 18,
   "id": "af9181e3-2a44-4c82-9793-1af359b674c0",
   "metadata": {},
   "outputs": [
    {
     "data": {
      "text/plain": [
       "(0.00018583248, 0.00018583248, 0.00018583248, 0.00018583248, 0.00019313332, 0.00065824523, 0.00033593876, 0.000726705, 0.0001413767, 49.0, 1.3163939e-06, 1.3163939e-06, 1.3163939e-06, 1.3163939e-06, 2.6327878e-06, 6.876643e-07, 1.1224572e-06, 1.3021942e-06, 1.4024267e-05, 0.5421559, 3.0, 21.25, 2011, 1, 35.83494567871094, 743.9947, 747.4449, 2537.7852, 1236.2008, 169.77454, 1.0392872, 0, 0)"
      ]
     },
     "execution_count": 18,
     "metadata": {},
     "output_type": "execute_result"
    }
   ],
   "source": [
    "eve_data[0]"
   ]
  },
  {
   "cell_type": "code",
   "execution_count": 47,
   "id": "809515ec-60e9-42f9-89b5-6b4648107dd0",
   "metadata": {},
   "outputs": [
    {
     "data": {
      "image/png": "[encoded data removed]",
      "text/plain": [
       "<Figure size 640x480 with 1 Axes>"
      ]
     },
     "metadata": {},
     "output_type": "display_data"
    }
   ],
   "source": [
    "for i in range(10):\n",
    "    plt.plot(eve_data[i])"
   ]
  },
  {
   "cell_type": "code",
   "execution_count": 25,
   "id": "714d315c-6a32-4383-b31f-c13bf66e2753",
   "metadata": {},
   "outputs": [
    {
     "data": {
      "text/plain": [
       "\u001b[1;31mInit signature:\u001b[0m \u001b[0mnp\u001b[0m\u001b[1;33m.\u001b[0m\u001b[0mrecord\u001b[0m\u001b[1;33m(\u001b[0m\u001b[0mself\u001b[0m\u001b[1;33m,\u001b[0m \u001b[1;33m/\u001b[0m\u001b[1;33m,\u001b[0m \u001b[1;33m*\u001b[0m\u001b[0margs\u001b[0m\u001b[1;33m,\u001b[0m \u001b[1;33m**\u001b[0m\u001b[0mkwargs\u001b[0m\u001b[1;33m)\u001b[0m\u001b[1;33m\u001b[0m\u001b[1;33m\u001b[0m\u001b[0m\n",
       "\u001b[1;31mDocstring:\u001b[0m     \n",
       "A data-type scalar that allows field access as attribute lookup.\n",
       "    \n",
       "\u001b[1;31mFile:\u001b[0m           c:\\users\\asus-pc\\anaconda3\\envs\\py_begin\\lib\\site-packages\\numpy\\__init__.py\n",
       "\u001b[1;31mType:\u001b[0m           type\n",
       "\u001b[1;31mSubclasses:\u001b[0m     \n"
      ]
     },
     "metadata": {},
     "output_type": "display_data"
    }
   ],
   "source": [
    "np.record?"
   ]
  },
  {
   "cell_type": "code",
   "execution_count": null,
   "id": "9aa9dab7-10ef-4f7b-a5e5-318bc2f82939",
   "metadata": {},
   "outputs": [],
   "source": []
  }
 ],
 "metadata": {
  "kernelspec": {
   "display_name": "py_begin_env",
   "language": "python",
   "name": "py_begin"
  },
  "language_info": {
   "codemirror_mode": {
    "name": "ipython",
    "version": 3
   },
   "file_extension": ".py",
   "mimetype": "text/x-python",
   "name": "python",
   "nbconvert_exporter": "python",
   "pygments_lexer": "ipython3",
   "version": "3.9.13"
  }
 },
 "nbformat": 4,
 "nbformat_minor": 5
}
