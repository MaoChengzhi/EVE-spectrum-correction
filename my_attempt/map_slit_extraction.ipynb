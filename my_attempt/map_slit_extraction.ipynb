{
 "cells": [
  {
   "cell_type": "code",
   "execution_count": 1,
   "metadata": {
    "collapsed": false,
    "jupyter": {
     "outputs_hidden": false
    }
   },
   "outputs": [],
   "source": [
    "%matplotlib inline"
   ]
  },
  {
   "cell_type": "markdown",
   "metadata": {},
   "source": [
    "\n",
    "# Extracting intensity of a map along a line\n",
    "\n",
    "In this example we will extract the intensity values of all the pixels\n",
    "that intersect with a given set of coordinates.\n"
   ]
  },
  {
   "cell_type": "code",
   "execution_count": 2,
   "metadata": {
    "collapsed": false,
    "jupyter": {
     "outputs_hidden": false
    }
   },
   "outputs": [],
   "source": [
    "import matplotlib.pyplot as plt\n",
    "\n",
    "import astropy.units as u\n",
    "from astropy.coordinates import SkyCoord\n",
    "\n",
    "import sunpy.map\n",
    "from sunpy.data.sample import AIA_171_ROLL_IMAGE"
   ]
  },
  {
   "cell_type": "markdown",
   "metadata": {},
   "source": [
    "First we construct a map, using some sample data.\n",
    "\n"
   ]
  },
  {
   "cell_type": "code",
   "execution_count": 3,
   "metadata": {
    "collapsed": false,
    "jupyter": {
     "outputs_hidden": false
    }
   },
   "outputs": [],
   "source": [
    "aia_map = sunpy.map.Map(AIA_171_ROLL_IMAGE)"
   ]
  },
  {
   "cell_type": "markdown",
   "metadata": {},
   "source": [
    "Next we define a path in a `~astropy.coordinates.SkyCoord` object.\n",
    "In this example we are just going to use a straight line defined by two points.\n",
    "However a path with any number of points and any shape can be used.\n",
    "\n"
   ]
  },
  {
   "cell_type": "code",
   "execution_count": 5,
   "metadata": {
    "collapsed": false,
    "jupyter": {
     "outputs_hidden": false
    }
   },
   "outputs": [],
   "source": [
    "line_coords = SkyCoord([-1024, -908], [20, 633], unit=(u.arcsec, u.arcsec),\n",
    "                       frame=aia_map.coordinate_frame)"
   ]
  },
  {
   "cell_type": "code",
   "execution_count": 7,
   "metadata": {
    "collapsed": true,
    "jupyter": {
     "outputs_hidden": true
    },
    "tags": []
   },
   "outputs": [
    {
     "data": {
      "text/plain": [
       "\u001b[1;31mInit signature:\u001b[0m \u001b[0mSkyCoord\u001b[0m\u001b[1;33m(\u001b[0m\u001b[1;33m*\u001b[0m\u001b[0margs\u001b[0m\u001b[1;33m,\u001b[0m \u001b[0mcopy\u001b[0m\u001b[1;33m=\u001b[0m\u001b[1;32mTrue\u001b[0m\u001b[1;33m,\u001b[0m \u001b[1;33m**\u001b[0m\u001b[0mkwargs\u001b[0m\u001b[1;33m)\u001b[0m\u001b[1;33m\u001b[0m\u001b[1;33m\u001b[0m\u001b[0m\n",
       "\u001b[1;31mDocstring:\u001b[0m     \n",
       "High-level object providing a flexible interface for celestial coordinate\n",
       "representation, manipulation, and transformation between systems.\n",
       "\n",
       "The `SkyCoord` class accepts a wide variety of inputs for initialization. At\n",
       "a minimum these must provide one or more celestial coordinate values with\n",
       "unambiguous units.  Inputs may be scalars or lists/tuples/arrays, yielding\n",
       "scalar or array coordinates (can be checked via ``SkyCoord.isscalar``).\n",
       "Typically one also specifies the coordinate frame, though this is not\n",
       "required. The general pattern for spherical representations is::\n",
       "\n",
       "  SkyCoord(COORD, [FRAME], keyword_args ...)\n",
       "  SkyCoord(LON, LAT, [FRAME], keyword_args ...)\n",
       "  SkyCoord(LON, LAT, [DISTANCE], frame=FRAME, unit=UNIT, keyword_args ...)\n",
       "  SkyCoord([FRAME], <lon_attr>=LON, <lat_attr>=LAT, keyword_args ...)\n",
       "\n",
       "It is also possible to input coordinate values in other representations\n",
       "such as cartesian or cylindrical.  In this case one includes the keyword\n",
       "argument ``representation_type='cartesian'`` (for example) along with data\n",
       "in ``x``, ``y``, and ``z``.\n",
       "\n",
       "See also: https://docs.astropy.org/en/stable/coordinates/\n",
       "\n",
       "Examples\n",
       "--------\n",
       "The examples below illustrate common ways of initializing a `SkyCoord`\n",
       "object.  For a complete description of the allowed syntax see the\n",
       "full coordinates documentation.  First some imports::\n",
       "\n",
       "  >>> from astropy.coordinates import SkyCoord  # High-level coordinates\n",
       "  >>> from astropy.coordinates import ICRS, Galactic, FK4, FK5  # Low-level frames\n",
       "  >>> from astropy.coordinates import Angle, Latitude, Longitude  # Angles\n",
       "  >>> import astropy.units as u\n",
       "\n",
       "The coordinate values and frame specification can now be provided using\n",
       "positional and keyword arguments::\n",
       "\n",
       "  >>> c = SkyCoord(10, 20, unit=\"deg\")  # defaults to ICRS frame\n",
       "  >>> c = SkyCoord([1, 2, 3], [-30, 45, 8], frame=\"icrs\", unit=\"deg\")  # 3 coords\n",
       "\n",
       "  >>> coords = [\"1:12:43.2 +31:12:43\", \"1 12 43.2 +31 12 43\"]\n",
       "  >>> c = SkyCoord(coords, frame=FK4, unit=(u.hourangle, u.deg), obstime=\"J1992.21\")\n",
       "\n",
       "  >>> c = SkyCoord(\"1h12m43.2s +1d12m43s\", frame=Galactic)  # Units from string\n",
       "  >>> c = SkyCoord(frame=\"galactic\", l=\"1h12m43.2s\", b=\"+1d12m43s\")\n",
       "\n",
       "  >>> ra = Longitude([1, 2, 3], unit=u.deg)  # Could also use Angle\n",
       "  >>> dec = np.array([4.5, 5.2, 6.3]) * u.deg  # Astropy Quantity\n",
       "  >>> c = SkyCoord(ra, dec, frame='icrs')\n",
       "  >>> c = SkyCoord(frame=ICRS, ra=ra, dec=dec, obstime='2001-01-02T12:34:56')\n",
       "\n",
       "  >>> c = FK4(1 * u.deg, 2 * u.deg)  # Uses defaults for obstime, equinox\n",
       "  >>> c = SkyCoord(c, obstime='J2010.11', equinox='B1965')  # Override defaults\n",
       "\n",
       "  >>> c = SkyCoord(w=0, u=1, v=2, unit='kpc', frame='galactic',\n",
       "  ...              representation_type='cartesian')\n",
       "\n",
       "  >>> c = SkyCoord([ICRS(ra=1*u.deg, dec=2*u.deg), ICRS(ra=3*u.deg, dec=4*u.deg)])\n",
       "\n",
       "Velocity components (proper motions or radial velocities) can also be\n",
       "provided in a similar manner::\n",
       "\n",
       "  >>> c = SkyCoord(ra=1*u.deg, dec=2*u.deg, radial_velocity=10*u.km/u.s)\n",
       "\n",
       "  >>> c = SkyCoord(ra=1*u.deg, dec=2*u.deg, pm_ra_cosdec=2*u.mas/u.yr, pm_dec=1*u.mas/u.yr)\n",
       "\n",
       "As shown, the frame can be a `~astropy.coordinates.BaseCoordinateFrame`\n",
       "class or the corresponding string alias.  The frame classes that are built in\n",
       "to astropy are `ICRS`, `FK5`, `FK4`, `FK4NoETerms`, and `Galactic`.\n",
       "The string aliases are simply lower-case versions of the class name, and\n",
       "allow for creating a `SkyCoord` object and transforming frames without\n",
       "explicitly importing the frame classes.\n",
       "\n",
       "Parameters\n",
       "----------\n",
       "frame : `~astropy.coordinates.BaseCoordinateFrame` class or string, optional\n",
       "    Type of coordinate frame this `SkyCoord` should represent. Defaults to\n",
       "    to ICRS if not given or given as None.\n",
       "unit : `~astropy.units.Unit`, string, or tuple of :class:`~astropy.units.Unit` or str, optional\n",
       "    Units for supplied coordinate values.\n",
       "    If only one unit is supplied then it applies to all values.\n",
       "    Note that passing only one unit might lead to unit conversion errors\n",
       "    if the coordinate values are expected to have mixed physical meanings\n",
       "    (e.g., angles and distances).\n",
       "obstime : time-like, optional\n",
       "    Time(s) of observation.\n",
       "equinox : time-like, optional\n",
       "    Coordinate frame equinox time.\n",
       "representation_type : str or Representation class\n",
       "    Specifies the representation, e.g. 'spherical', 'cartesian', or\n",
       "    'cylindrical'.  This affects the positional args and other keyword args\n",
       "    which must correspond to the given representation.\n",
       "copy : bool, optional\n",
       "    If `True` (default), a copy of any coordinate data is made.  This\n",
       "    argument can only be passed in as a keyword argument.\n",
       "**keyword_args\n",
       "    Other keyword arguments as applicable for user-defined coordinate frames.\n",
       "    Common options include:\n",
       "\n",
       "    ra, dec : angle-like, optional\n",
       "        RA and Dec for frames where ``ra`` and ``dec`` are keys in the\n",
       "        frame's ``representation_component_names``, including `ICRS`,\n",
       "        `FK5`, `FK4`, and `FK4NoETerms`.\n",
       "    pm_ra_cosdec, pm_dec  : `~astropy.units.Quantity` ['angular speed'], optional\n",
       "        Proper motion components, in angle per time units.\n",
       "    l, b : angle-like, optional\n",
       "        Galactic ``l`` and ``b`` for for frames where ``l`` and ``b`` are\n",
       "        keys in the frame's ``representation_component_names``, including\n",
       "        the `Galactic` frame.\n",
       "    pm_l_cosb, pm_b : `~astropy.units.Quantity` ['angular speed'], optional\n",
       "        Proper motion components in the `Galactic` frame, in angle per time\n",
       "        units.\n",
       "    x, y, z : float or `~astropy.units.Quantity` ['length'], optional\n",
       "        Cartesian coordinates values\n",
       "    u, v, w : float or `~astropy.units.Quantity` ['length'], optional\n",
       "        Cartesian coordinates values for the Galactic frame.\n",
       "    radial_velocity : `~astropy.units.Quantity` ['speed'], optional\n",
       "        The component of the velocity along the line-of-sight (i.e., the\n",
       "        radial direction), in velocity units.\n",
       "\u001b[1;31mFile:\u001b[0m           c:\\users\\asus-pc\\anaconda3\\envs\\py_begin\\lib\\site-packages\\astropy\\coordinates\\sky_coordinate.py\n",
       "\u001b[1;31mType:\u001b[0m           ABCMeta\n",
       "\u001b[1;31mSubclasses:\u001b[0m     \n"
      ]
     },
     "metadata": {},
     "output_type": "display_data"
    }
   ],
   "source": [
    "SkyCoord?"
   ]
  },
  {
   "cell_type": "markdown",
   "metadata": {},
   "source": [
    "Next we call the `sunpy.map.extract_along_coord` function with the map and\n",
    "the coordinates we want to extract.\n",
    "This function returns two items, the first is a numpy array of all the\n",
    "intensities and the second is a `~astropy.coordinates.SkyCoord` object of the\n",
    "same length, which describes the world coordinates of each pixel that has\n",
    "been extracted.\n",
    "\n"
   ]
  },
  {
   "cell_type": "code",
   "execution_count": null,
   "metadata": {
    "collapsed": false,
    "jupyter": {
     "outputs_hidden": false
    }
   },
   "outputs": [],
   "source": [
    "intensity, intensity_coords = sunpy.map.extract_along_coord(aia_map, line_coords)"
   ]
  },
  {
   "cell_type": "markdown",
   "metadata": {},
   "source": [
    "Next we will calculate the angular separation between the first point and\n",
    "every other coordinate we extracted. We are doing this to give us a\n",
    "meaningful x-axis for our line plot below.\n",
    "\n"
   ]
  },
  {
   "cell_type": "code",
   "execution_count": null,
   "metadata": {
    "collapsed": false,
    "jupyter": {
     "outputs_hidden": false
    }
   },
   "outputs": [],
   "source": [
    "angular_separation = intensity_coords.separation(intensity_coords[0]).to(u.arcsec)"
   ]
  },
  {
   "cell_type": "markdown",
   "metadata": {},
   "source": [
    "Finally let's plot the results.\n",
    "\n"
   ]
  },
  {
   "cell_type": "code",
   "execution_count": null,
   "metadata": {
    "collapsed": false,
    "jupyter": {
     "outputs_hidden": false
    }
   },
   "outputs": [],
   "source": [
    "fig = plt.figure()\n",
    "ax1 = fig.add_subplot(121, projection=aia_map)\n",
    "aia_map.plot(axes=ax1)\n",
    "ax1.plot_coord(intensity_coords)\n",
    "ax1.plot_coord(line_coords[0], marker=\"o\", color=\"blue\", label=\"start\")\n",
    "ax1.plot_coord(line_coords[1], marker=\"o\", color=\"green\", label=\"end\")\n",
    "ax1.legend()\n",
    "\n",
    "ax2 = fig.add_subplot(122)\n",
    "ax2.plot(angular_separation, intensity)\n",
    "ax2.set_xlabel(\"Angular distance along slit [arcsec]\")\n",
    "ax2.set_ylabel(f\"Intensity [{aia_map.unit}]\")\n",
    "\n",
    "plt.show()"
   ]
  }
 ],
 "metadata": {
  "kernelspec": {
   "display_name": "Python 3 (ipykernel)",
   "language": "python",
   "name": "python3"
  },
  "language_info": {
   "codemirror_mode": {
    "name": "ipython",
    "version": 3
   },
   "file_extension": ".py",
   "mimetype": "text/x-python",
   "name": "python",
   "nbconvert_exporter": "python",
   "pygments_lexer": "ipython3",
   "version": "3.9.13"
  }
 },
 "nbformat": 4,
 "nbformat_minor": 4
}
