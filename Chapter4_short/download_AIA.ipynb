{
 "cells": [
  {
   "cell_type": "code",
   "execution_count": 1,
   "id": "7a6bf004",
   "metadata": {},
   "outputs": [],
   "source": [
    "from sunpy.net import Fido, attrs as a\n",
    "import astropy.units as u"
   ]
  },
  {
   "cell_type": "markdown",
   "id": "4ea90506",
   "metadata": {},
   "source": [
    "## download AIA "
   ]
  },
  {
   "cell_type": "code",
   "execution_count": 2,
   "id": "5668797a",
   "metadata": {},
   "outputs": [
    {
     "data": {
      "text/html": [
       "Results from 1 Provider:</br></br>300 Results from the VSOClient:</br><div><i>VSOQueryResponseTable length=300</i>\n",
       "<table id=\"table3145803897248\" class=\"table-striped table-bordered table-condensed\">\n",
       "<thead><tr><th>Start Time</th><th>End Time</th><th>Source</th><th>Instrument</th><th>Wavelength</th><th>Provider</th><th>Physobs</th><th>Wavetype</th><th>Extent Width</th><th>Extent Length</th><th>Extent Type</th><th>Size</th></tr></thead>\n",
       "<thead><tr><th></th><th></th><th></th><th></th><th>Angstrom</th><th></th><th></th><th></th><th></th><th></th><th></th><th>Mibyte</th></tr></thead>\n",
       "<thead><tr><th>Time</th><th>Time</th><th>str3</th><th>str3</th><th>float64[2]</th><th>str4</th><th>str9</th><th>str6</th><th>str4</th><th>str4</th><th>str8</th><th>float64</th></tr></thead>\n",
       "<tr><td>2011-01-01 00:00:08.000</td><td>2011-01-01 00:00:09.000</td><td>SDO</td><td>AIA</td><td>304.0 .. 304.0</td><td>JSOC</td><td>intensity</td><td>NARROW</td><td>4096</td><td>4096</td><td>FULLDISK</td><td>64.64844</td></tr>\n",
       "<tr><td>2011-01-01 00:00:20.000</td><td>2011-01-01 00:00:21.000</td><td>SDO</td><td>AIA</td><td>304.0 .. 304.0</td><td>JSOC</td><td>intensity</td><td>NARROW</td><td>4096</td><td>4096</td><td>FULLDISK</td><td>64.64844</td></tr>\n",
       "<tr><td>2011-01-01 00:00:32.000</td><td>2011-01-01 00:00:33.000</td><td>SDO</td><td>AIA</td><td>304.0 .. 304.0</td><td>JSOC</td><td>intensity</td><td>NARROW</td><td>4096</td><td>4096</td><td>FULLDISK</td><td>64.64844</td></tr>\n",
       "<tr><td>2011-01-01 00:00:44.000</td><td>2011-01-01 00:00:45.000</td><td>SDO</td><td>AIA</td><td>304.0 .. 304.0</td><td>JSOC</td><td>intensity</td><td>NARROW</td><td>4096</td><td>4096</td><td>FULLDISK</td><td>64.64844</td></tr>\n",
       "<tr><td>2011-01-01 00:00:56.000</td><td>2011-01-01 00:00:57.000</td><td>SDO</td><td>AIA</td><td>304.0 .. 304.0</td><td>JSOC</td><td>intensity</td><td>NARROW</td><td>4096</td><td>4096</td><td>FULLDISK</td><td>64.64844</td></tr>\n",
       "<tr><td>2011-01-01 00:01:08.000</td><td>2011-01-01 00:01:09.000</td><td>SDO</td><td>AIA</td><td>304.0 .. 304.0</td><td>JSOC</td><td>intensity</td><td>NARROW</td><td>4096</td><td>4096</td><td>FULLDISK</td><td>64.64844</td></tr>\n",
       "<tr><td>2011-01-01 00:01:20.000</td><td>2011-01-01 00:01:21.000</td><td>SDO</td><td>AIA</td><td>304.0 .. 304.0</td><td>JSOC</td><td>intensity</td><td>NARROW</td><td>4096</td><td>4096</td><td>FULLDISK</td><td>64.64844</td></tr>\n",
       "<tr><td>2011-01-01 00:01:32.000</td><td>2011-01-01 00:01:33.000</td><td>SDO</td><td>AIA</td><td>304.0 .. 304.0</td><td>JSOC</td><td>intensity</td><td>NARROW</td><td>4096</td><td>4096</td><td>FULLDISK</td><td>64.64844</td></tr>\n",
       "<tr><td>2011-01-01 00:01:44.000</td><td>2011-01-01 00:01:45.000</td><td>SDO</td><td>AIA</td><td>304.0 .. 304.0</td><td>JSOC</td><td>intensity</td><td>NARROW</td><td>4096</td><td>4096</td><td>FULLDISK</td><td>64.64844</td></tr>\n",
       "<tr><td>...</td><td>...</td><td>...</td><td>...</td><td>...</td><td>...</td><td>...</td><td>...</td><td>...</td><td>...</td><td>...</td><td>...</td></tr>\n",
       "<tr><td>2011-01-01 00:58:08.000</td><td>2011-01-01 00:58:09.000</td><td>SDO</td><td>AIA</td><td>304.0 .. 304.0</td><td>JSOC</td><td>intensity</td><td>NARROW</td><td>4096</td><td>4096</td><td>FULLDISK</td><td>64.64844</td></tr>\n",
       "<tr><td>2011-01-01 00:58:20.000</td><td>2011-01-01 00:58:21.000</td><td>SDO</td><td>AIA</td><td>304.0 .. 304.0</td><td>JSOC</td><td>intensity</td><td>NARROW</td><td>4096</td><td>4096</td><td>FULLDISK</td><td>64.64844</td></tr>\n",
       "<tr><td>2011-01-01 00:58:32.000</td><td>2011-01-01 00:58:33.000</td><td>SDO</td><td>AIA</td><td>304.0 .. 304.0</td><td>JSOC</td><td>intensity</td><td>NARROW</td><td>4096</td><td>4096</td><td>FULLDISK</td><td>64.64844</td></tr>\n",
       "<tr><td>2011-01-01 00:58:44.000</td><td>2011-01-01 00:58:45.000</td><td>SDO</td><td>AIA</td><td>304.0 .. 304.0</td><td>JSOC</td><td>intensity</td><td>NARROW</td><td>4096</td><td>4096</td><td>FULLDISK</td><td>64.64844</td></tr>\n",
       "<tr><td>2011-01-01 00:58:56.000</td><td>2011-01-01 00:58:57.000</td><td>SDO</td><td>AIA</td><td>304.0 .. 304.0</td><td>JSOC</td><td>intensity</td><td>NARROW</td><td>4096</td><td>4096</td><td>FULLDISK</td><td>64.64844</td></tr>\n",
       "<tr><td>2011-01-01 00:59:08.000</td><td>2011-01-01 00:59:09.000</td><td>SDO</td><td>AIA</td><td>304.0 .. 304.0</td><td>JSOC</td><td>intensity</td><td>NARROW</td><td>4096</td><td>4096</td><td>FULLDISK</td><td>64.64844</td></tr>\n",
       "<tr><td>2011-01-01 00:59:20.000</td><td>2011-01-01 00:59:21.000</td><td>SDO</td><td>AIA</td><td>304.0 .. 304.0</td><td>JSOC</td><td>intensity</td><td>NARROW</td><td>4096</td><td>4096</td><td>FULLDISK</td><td>64.64844</td></tr>\n",
       "<tr><td>2011-01-01 00:59:32.000</td><td>2011-01-01 00:59:33.000</td><td>SDO</td><td>AIA</td><td>304.0 .. 304.0</td><td>JSOC</td><td>intensity</td><td>NARROW</td><td>4096</td><td>4096</td><td>FULLDISK</td><td>64.64844</td></tr>\n",
       "<tr><td>2011-01-01 00:59:44.000</td><td>2011-01-01 00:59:45.000</td><td>SDO</td><td>AIA</td><td>304.0 .. 304.0</td><td>JSOC</td><td>intensity</td><td>NARROW</td><td>4096</td><td>4096</td><td>FULLDISK</td><td>64.64844</td></tr>\n",
       "<tr><td>2011-01-01 00:59:56.000</td><td>2011-01-01 00:59:57.000</td><td>SDO</td><td>AIA</td><td>304.0 .. 304.0</td><td>JSOC</td><td>intensity</td><td>NARROW</td><td>4096</td><td>4096</td><td>FULLDISK</td><td>64.64844</td></tr>\n",
       "</table></div></br>"
      ],
      "text/plain": [
       "<sunpy.net.fido_factory.UnifiedResponse object at 0x000002DC704A5580>\n",
       "Results from 1 Provider:\n",
       "\n",
       "300 Results from the VSOClient:\n",
       "Source: http://vso.stanford.edu/cgi-bin/search\n",
       "Total estimated size: 20.337 Gbyte\n",
       "\n",
       "       Start Time               End Time        Source ... Extent Type   Size  \n",
       "                                                       ...              Mibyte \n",
       "----------------------- ----------------------- ------ ... ----------- --------\n",
       "2011-01-01 00:00:08.000 2011-01-01 00:00:09.000    SDO ...    FULLDISK 64.64844\n",
       "2011-01-01 00:00:20.000 2011-01-01 00:00:21.000    SDO ...    FULLDISK 64.64844\n",
       "2011-01-01 00:00:32.000 2011-01-01 00:00:33.000    SDO ...    FULLDISK 64.64844\n",
       "2011-01-01 00:00:44.000 2011-01-01 00:00:45.000    SDO ...    FULLDISK 64.64844\n",
       "2011-01-01 00:00:56.000 2011-01-01 00:00:57.000    SDO ...    FULLDISK 64.64844\n",
       "2011-01-01 00:01:08.000 2011-01-01 00:01:09.000    SDO ...    FULLDISK 64.64844\n",
       "2011-01-01 00:01:20.000 2011-01-01 00:01:21.000    SDO ...    FULLDISK 64.64844\n",
       "2011-01-01 00:01:32.000 2011-01-01 00:01:33.000    SDO ...    FULLDISK 64.64844\n",
       "2011-01-01 00:01:44.000 2011-01-01 00:01:45.000    SDO ...    FULLDISK 64.64844\n",
       "2011-01-01 00:01:56.000 2011-01-01 00:01:57.000    SDO ...    FULLDISK 64.64844\n",
       "                    ...                     ...    ... ...         ...      ...\n",
       "2011-01-01 00:58:08.000 2011-01-01 00:58:09.000    SDO ...    FULLDISK 64.64844\n",
       "2011-01-01 00:58:20.000 2011-01-01 00:58:21.000    SDO ...    FULLDISK 64.64844\n",
       "2011-01-01 00:58:32.000 2011-01-01 00:58:33.000    SDO ...    FULLDISK 64.64844\n",
       "2011-01-01 00:58:44.000 2011-01-01 00:58:45.000    SDO ...    FULLDISK 64.64844\n",
       "2011-01-01 00:58:56.000 2011-01-01 00:58:57.000    SDO ...    FULLDISK 64.64844\n",
       "2011-01-01 00:59:08.000 2011-01-01 00:59:09.000    SDO ...    FULLDISK 64.64844\n",
       "2011-01-01 00:59:20.000 2011-01-01 00:59:21.000    SDO ...    FULLDISK 64.64844\n",
       "2011-01-01 00:59:32.000 2011-01-01 00:59:33.000    SDO ...    FULLDISK 64.64844\n",
       "2011-01-01 00:59:44.000 2011-01-01 00:59:45.000    SDO ...    FULLDISK 64.64844\n",
       "2011-01-01 00:59:56.000 2011-01-01 00:59:57.000    SDO ...    FULLDISK 64.64844\n",
       "Length = 300 rows\n"
      ]
     },
     "execution_count": 2,
     "metadata": {},
     "output_type": "execute_result"
    }
   ],
   "source": [
    "obs_start =\"2011-01-01T00:00:00\"\n",
    "obs_end =  \"2011-01-01T01:00:00\"\n",
    "obs_time = a.Time(obs_start, obs_end)\n",
    "\n",
    "unifresp = Fido.search(obs_time,a.Instrument.aia,a.Wavelength(304*u.angstrom)\n",
    "                    #    ,a.Sample(24*60*u.min)\n",
    "                        )  \n",
    "unifresp"
   ]
  },
  {
   "cell_type": "code",
   "execution_count": 3,
   "id": "4cb01c8e",
   "metadata": {},
   "outputs": [
    {
     "data": {
      "application/vnd.jupyter.widget-view+json": {
       "model_id": "238503bf4f6a4c338ff641bc5acfd492",
       "version_major": 2,
       "version_minor": 0
      },
      "text/plain": [
       "Files Downloaded:   0%|          | 0/300 [00:00<?, ?file/s]"
      ]
     },
     "metadata": {},
     "output_type": "display_data"
    },
    {
     "data": {
      "application/vnd.jupyter.widget-view+json": {
       "model_id": "5986192743d14b3e863585c746d59d2f",
       "version_major": 2,
       "version_minor": 0
      },
      "text/plain": [
       "aia_lev1_304a_2011_01_01t00_01_08_12z_image_lev1.fits:   0%|          | 0.00/9.83M [00:00<?, ?B/s]"
      ]
     },
     "metadata": {},
     "output_type": "display_data"
    },
    {
     "data": {
      "application/vnd.jupyter.widget-view+json": {
       "model_id": "e79f2a1fe19f4e5eb8018b59773427af",
       "version_major": 2,
       "version_minor": 0
      },
      "text/plain": [
       "aia_lev1_304a_2011_01_01t00_01_56_12z_image_lev1.fits:   0%|          | 0.00/9.83M [00:00<?, ?B/s]"
      ]
     },
     "metadata": {},
     "output_type": "display_data"
    },
    {
     "data": {
      "application/vnd.jupyter.widget-view+json": {
       "model_id": "d682cee0d561421f9f8bbbf1c122be4e",
       "version_major": 2,
       "version_minor": 0
      },
      "text/plain": [
       "aia_lev1_304a_2011_01_01t00_01_44_12z_image_lev1.fits:   0%|          | 0.00/9.83M [00:00<?, ?B/s]"
      ]
     },
     "metadata": {},
     "output_type": "display_data"
    },
    {
     "data": {
      "application/vnd.jupyter.widget-view+json": {
       "model_id": "d961a43d75f44e27b99e7022348e84b9",
       "version_major": 2,
       "version_minor": 0
      },
      "text/plain": [
       "aia_lev1_304a_2011_01_01t00_01_32_12z_image_lev1.fits:   0%|          | 0.00/9.83M [00:00<?, ?B/s]"
      ]
     },
     "metadata": {},
     "output_type": "display_data"
    },
    {
     "data": {
      "application/vnd.jupyter.widget-view+json": {
       "model_id": "eb46f500e2d0450cb159229d150e0098",
       "version_major": 2,
       "version_minor": 0
      },
      "text/plain": [
       "aia_lev1_304a_2011_01_01t00_01_20_12z_image_lev1.fits:   0%|          | 0.00/9.83M [00:00<?, ?B/s]"
      ]
     },
     "metadata": {},
     "output_type": "display_data"
    },
    {
     "data": {
      "application/vnd.jupyter.widget-view+json": {
       "model_id": "e045ddacd6ec4c8c866ce50f485290ab",
       "version_major": 2,
       "version_minor": 0
      },
      "text/plain": [
       "aia_lev1_304a_2011_01_01t00_02_08_12z_image_lev1.fits:   0%|          | 0.00/9.83M [00:00<?, ?B/s]"
      ]
     },
     "metadata": {},
     "output_type": "display_data"
    },
    {
     "data": {
      "application/vnd.jupyter.widget-view+json": {
       "model_id": "81a5cfa80f824b4a9f012642f8dfaabb",
       "version_major": 2,
       "version_minor": 0
      },
      "text/plain": [
       "aia_lev1_304a_2011_01_01t00_02_20_13z_image_lev1.fits:   0%|          | 0.00/9.83M [00:00<?, ?B/s]"
      ]
     },
     "metadata": {},
     "output_type": "display_data"
    },
    {
     "data": {
      "application/vnd.jupyter.widget-view+json": {
       "model_id": "3484b74a66604642aad070e5d14553a8",
       "version_major": 2,
       "version_minor": 0
      },
      "text/plain": [
       "aia_lev1_304a_2011_01_01t00_02_56_12z_image_lev1.fits:   0%|          | 0.00/9.83M [00:00<?, ?B/s]"
      ]
     },
     "metadata": {},
     "output_type": "display_data"
    },
    {
     "data": {
      "application/vnd.jupyter.widget-view+json": {
       "model_id": "35c70b9e092e4b0fa400b580c916fcd0",
       "version_major": 2,
       "version_minor": 0
      },
      "text/plain": [
       "aia_lev1_304a_2011_01_01t00_02_44_13z_image_lev1.fits:   0%|          | 0.00/9.82M [00:00<?, ?B/s]"
      ]
     },
     "metadata": {},
     "output_type": "display_data"
    },
    {
     "data": {
      "application/vnd.jupyter.widget-view+json": {
       "model_id": "c91c0c6df0d04ab09f12caf98afe7988",
       "version_major": 2,
       "version_minor": 0
      },
      "text/plain": [
       "aia_lev1_304a_2011_01_01t00_03_08_12z_image_lev1.fits:   0%|          | 0.00/9.83M [00:00<?, ?B/s]"
      ]
     },
     "metadata": {},
     "output_type": "display_data"
    },
    {
     "data": {
      "application/vnd.jupyter.widget-view+json": {
       "model_id": "f997facab75e48cabaaaac3a47c60d48",
       "version_major": 2,
       "version_minor": 0
      },
      "text/plain": [
       "aia_lev1_304a_2011_01_01t00_03_20_14z_image_lev1.fits:   0%|          | 0.00/9.83M [00:00<?, ?B/s]"
      ]
     },
     "metadata": {},
     "output_type": "display_data"
    },
    {
     "data": {
      "application/vnd.jupyter.widget-view+json": {
       "model_id": "4b0261b10ff141c58d886982c87ead26",
       "version_major": 2,
       "version_minor": 0
      },
      "text/plain": [
       "aia_lev1_304a_2011_01_01t00_03_32_12z_image_lev1.fits:   0%|          | 0.00/9.83M [00:00<?, ?B/s]"
      ]
     },
     "metadata": {},
     "output_type": "display_data"
    },
    {
     "data": {
      "application/vnd.jupyter.widget-view+json": {
       "model_id": "f40c380f97d249db89c88a386d5dc4a9",
       "version_major": 2,
       "version_minor": 0
      },
      "text/plain": [
       "aia_lev1_304a_2011_01_01t00_03_44_13z_image_lev1.fits:   0%|          | 0.00/9.83M [00:00<?, ?B/s]"
      ]
     },
     "metadata": {},
     "output_type": "display_data"
    },
    {
     "data": {
      "application/vnd.jupyter.widget-view+json": {
       "model_id": "5ff555e0722a4c63a0062ebad145e03e",
       "version_major": 2,
       "version_minor": 0
      },
      "text/plain": [
       "aia_lev1_304a_2011_01_01t00_03_56_13z_image_lev1.fits:   0%|          | 0.00/9.83M [00:00<?, ?B/s]"
      ]
     },
     "metadata": {},
     "output_type": "display_data"
    },
    {
     "data": {
      "application/vnd.jupyter.widget-view+json": {
       "model_id": "3bc4681e0bd44883875c1b01458738b1",
       "version_major": 2,
       "version_minor": 0
      },
      "text/plain": [
       "aia_lev1_304a_2011_01_01t00_04_08_13z_image_lev1.fits:   0%|          | 0.00/9.83M [00:00<?, ?B/s]"
      ]
     },
     "metadata": {},
     "output_type": "display_data"
    },
    {
     "data": {
      "application/vnd.jupyter.widget-view+json": {
       "model_id": "a3cba056e82441e5abffae6352af3709",
       "version_major": 2,
       "version_minor": 0
      },
      "text/plain": [
       "aia_lev1_304a_2011_01_01t00_04_20_12z_image_lev1.fits:   0%|          | 0.00/9.83M [00:00<?, ?B/s]"
      ]
     },
     "metadata": {},
     "output_type": "display_data"
    },
    {
     "data": {
      "application/vnd.jupyter.widget-view+json": {
       "model_id": "17676b23cd714e4c915eca87b752c2ad",
       "version_major": 2,
       "version_minor": 0
      },
      "text/plain": [
       "aia_lev1_304a_2011_01_01t00_04_32_12z_image_lev1.fits:   0%|          | 0.00/9.83M [00:00<?, ?B/s]"
      ]
     },
     "metadata": {},
     "output_type": "display_data"
    },
    {
     "data": {
      "application/vnd.jupyter.widget-view+json": {
       "model_id": "6d015be8081f42c7b7b9f3f477cdde9d",
       "version_major": 2,
       "version_minor": 0
      },
      "text/plain": [
       "aia_lev1_304a_2011_01_01t00_04_44_12z_image_lev1.fits:   0%|          | 0.00/9.83M [00:00<?, ?B/s]"
      ]
     },
     "metadata": {},
     "output_type": "display_data"
    },
    {
     "data": {
      "application/vnd.jupyter.widget-view+json": {
       "model_id": "b3ec67a93c264f20ae0e7ec5a614b475",
       "version_major": 2,
       "version_minor": 0
      },
      "text/plain": [
       "aia_lev1_304a_2011_01_01t00_04_56_12z_image_lev1.fits:   0%|          | 0.00/9.83M [00:00<?, ?B/s]"
      ]
     },
     "metadata": {},
     "output_type": "display_data"
    },
    {
     "data": {
      "application/vnd.jupyter.widget-view+json": {
       "model_id": "01b17a507b8346d3a803073401affe3a",
       "version_major": 2,
       "version_minor": 0
      },
      "text/plain": [
       "aia_lev1_304a_2011_01_01t00_05_08_12z_image_lev1.fits:   0%|          | 0.00/9.83M [00:00<?, ?B/s]"
      ]
     },
     "metadata": {},
     "output_type": "display_data"
    },
    {
     "data": {
      "application/vnd.jupyter.widget-view+json": {
       "model_id": "dfd53350db6a4e1da10613da398b655f",
       "version_major": 2,
       "version_minor": 0
      },
      "text/plain": [
       "aia_lev1_304a_2011_01_01t00_05_20_12z_image_lev1.fits:   0%|          | 0.00/9.83M [00:00<?, ?B/s]"
      ]
     },
     "metadata": {},
     "output_type": "display_data"
    },
    {
     "data": {
      "application/vnd.jupyter.widget-view+json": {
       "model_id": "ca34c45f69b2418cb7351aafb68e7a3e",
       "version_major": 2,
       "version_minor": 0
      },
      "text/plain": [
       "aia_lev1_304a_2011_01_01t00_05_56_13z_image_lev1.fits:   0%|          | 0.00/9.83M [00:00<?, ?B/s]"
      ]
     },
     "metadata": {},
     "output_type": "display_data"
    },
    {
     "data": {
      "application/vnd.jupyter.widget-view+json": {
       "model_id": "082922901c294b7c989f2d9eadf9bebe",
       "version_major": 2,
       "version_minor": 0
      },
      "text/plain": [
       "aia_lev1_304a_2011_01_01t00_06_08_12z_image_lev1.fits:   0%|          | 0.00/9.83M [00:00<?, ?B/s]"
      ]
     },
     "metadata": {},
     "output_type": "display_data"
    },
    {
     "data": {
      "application/vnd.jupyter.widget-view+json": {
       "model_id": "f5932bb6b26b470a8d0157177fd75367",
       "version_major": 2,
       "version_minor": 0
      },
      "text/plain": [
       "aia_lev1_304a_2011_01_01t00_06_20_13z_image_lev1.fits:   0%|          | 0.00/9.83M [00:00<?, ?B/s]"
      ]
     },
     "metadata": {},
     "output_type": "display_data"
    },
    {
     "data": {
      "application/vnd.jupyter.widget-view+json": {
       "model_id": "3abcc9adccb94ef7ab8d30952e9c8cca",
       "version_major": 2,
       "version_minor": 0
      },
      "text/plain": [
       "aia_lev1_304a_2011_01_01t00_06_44_13z_image_lev1.fits:   0%|          | 0.00/9.83M [00:00<?, ?B/s]"
      ]
     },
     "metadata": {},
     "output_type": "display_data"
    },
    {
     "data": {
      "application/vnd.jupyter.widget-view+json": {
       "model_id": "1ed2f0bb4d0c49a28cde38931b60f7ff",
       "version_major": 2,
       "version_minor": 0
      },
      "text/plain": [
       "aia_lev1_304a_2011_01_01t00_06_56_12z_image_lev1.fits:   0%|          | 0.00/9.83M [00:00<?, ?B/s]"
      ]
     },
     "metadata": {},
     "output_type": "display_data"
    },
    {
     "data": {
      "application/vnd.jupyter.widget-view+json": {
       "model_id": "e4d747d807d14272ba2738d2de103b63",
       "version_major": 2,
       "version_minor": 0
      },
      "text/plain": [
       "aia_lev1_304a_2011_01_01t00_07_08_13z_image_lev1.fits:   0%|          | 0.00/9.83M [00:00<?, ?B/s]"
      ]
     },
     "metadata": {},
     "output_type": "display_data"
    },
    {
     "data": {
      "application/vnd.jupyter.widget-view+json": {
       "model_id": "540bd7d872e347289c9a438e455f5ff2",
       "version_major": 2,
       "version_minor": 0
      },
      "text/plain": [
       "aia_lev1_304a_2011_01_01t00_07_32_13z_image_lev1.fits:   0%|          | 0.00/9.83M [00:00<?, ?B/s]"
      ]
     },
     "metadata": {},
     "output_type": "display_data"
    },
    {
     "data": {
      "application/vnd.jupyter.widget-view+json": {
       "model_id": "395ff444685c470caa02bda1d1574998",
       "version_major": 2,
       "version_minor": 0
      },
      "text/plain": [
       "aia_lev1_304a_2011_01_01t00_07_44_13z_image_lev1.fits:   0%|          | 0.00/9.83M [00:00<?, ?B/s]"
      ]
     },
     "metadata": {},
     "output_type": "display_data"
    },
    {
     "data": {
      "application/vnd.jupyter.widget-view+json": {
       "model_id": "04909760f7824351885de02649e8d85b",
       "version_major": 2,
       "version_minor": 0
      },
      "text/plain": [
       "aia_lev1_304a_2011_01_01t00_07_56_13z_image_lev1.fits:   0%|          | 0.00/9.83M [00:00<?, ?B/s]"
      ]
     },
     "metadata": {},
     "output_type": "display_data"
    },
    {
     "data": {
      "application/vnd.jupyter.widget-view+json": {
       "model_id": "bab58f8611534967a9e97fb9919042fa",
       "version_major": 2,
       "version_minor": 0
      },
      "text/plain": [
       "aia_lev1_304a_2011_01_01t00_08_08_12z_image_lev1.fits:   0%|          | 0.00/9.83M [00:00<?, ?B/s]"
      ]
     },
     "metadata": {},
     "output_type": "display_data"
    },
    {
     "data": {
      "application/vnd.jupyter.widget-view+json": {
       "model_id": "f0e5cd9fb7104eb380925416cd8529a3",
       "version_major": 2,
       "version_minor": 0
      },
      "text/plain": [
       "aia_lev1_304a_2011_01_01t00_08_20_13z_image_lev1.fits:   0%|          | 0.00/9.83M [00:00<?, ?B/s]"
      ]
     },
     "metadata": {},
     "output_type": "display_data"
    },
    {
     "data": {
      "application/vnd.jupyter.widget-view+json": {
       "model_id": "518628d4aaa04b1fb4bed1a217386672",
       "version_major": 2,
       "version_minor": 0
      },
      "text/plain": [
       "aia_lev1_304a_2011_01_01t00_08_32_12z_image_lev1.fits:   0%|          | 0.00/9.83M [00:00<?, ?B/s]"
      ]
     },
     "metadata": {},
     "output_type": "display_data"
    },
    {
     "data": {
      "application/vnd.jupyter.widget-view+json": {
       "model_id": "212fc6e3473740fc9d15a4ee564f30a4",
       "version_major": 2,
       "version_minor": 0
      },
      "text/plain": [
       "aia_lev1_304a_2011_01_01t00_08_44_12z_image_lev1.fits:   0%|          | 0.00/9.83M [00:00<?, ?B/s]"
      ]
     },
     "metadata": {},
     "output_type": "display_data"
    },
    {
     "data": {
      "application/vnd.jupyter.widget-view+json": {
       "model_id": "6d189177df064c5692fa09a83d60bc78",
       "version_major": 2,
       "version_minor": 0
      },
      "text/plain": [
       "aia_lev1_304a_2011_01_01t00_08_56_14z_image_lev1.fits:   0%|          | 0.00/9.83M [00:00<?, ?B/s]"
      ]
     },
     "metadata": {},
     "output_type": "display_data"
    },
    {
     "data": {
      "application/vnd.jupyter.widget-view+json": {
       "model_id": "4d41a73d0cce4cf28cefcc641d8e62ff",
       "version_major": 2,
       "version_minor": 0
      },
      "text/plain": [
       "aia_lev1_304a_2011_01_01t00_09_20_14z_image_lev1.fits:   0%|          | 0.00/9.83M [00:00<?, ?B/s]"
      ]
     },
     "metadata": {},
     "output_type": "display_data"
    },
    {
     "data": {
      "application/vnd.jupyter.widget-view+json": {
       "model_id": "f4c38e5a3df34544a969a3c2b297e23a",
       "version_major": 2,
       "version_minor": 0
      },
      "text/plain": [
       "aia_lev1_304a_2011_01_01t00_09_08_13z_image_lev1.fits:   0%|          | 0.00/9.83M [00:00<?, ?B/s]"
      ]
     },
     "metadata": {},
     "output_type": "display_data"
    },
    {
     "data": {
      "application/vnd.jupyter.widget-view+json": {
       "model_id": "bb6e0e885bfd47a8919afc3ed9bdd8f8",
       "version_major": 2,
       "version_minor": 0
      },
      "text/plain": [
       "aia_lev1_304a_2011_01_01t00_09_32_13z_image_lev1.fits:   0%|          | 0.00/9.83M [00:00<?, ?B/s]"
      ]
     },
     "metadata": {},
     "output_type": "display_data"
    },
    {
     "data": {
      "application/vnd.jupyter.widget-view+json": {
       "model_id": "744e2379b31e4e399bf170370bf7e2c9",
       "version_major": 2,
       "version_minor": 0
      },
      "text/plain": [
       "aia_lev1_304a_2011_01_01t00_09_44_12z_image_lev1.fits:   0%|          | 0.00/9.83M [00:00<?, ?B/s]"
      ]
     },
     "metadata": {},
     "output_type": "display_data"
    },
    {
     "data": {
      "application/vnd.jupyter.widget-view+json": {
       "model_id": "e95c566109874db68a49a837db030772",
       "version_major": 2,
       "version_minor": 0
      },
      "text/plain": [
       "aia_lev1_304a_2011_01_01t00_09_56_12z_image_lev1.fits:   0%|          | 0.00/9.83M [00:00<?, ?B/s]"
      ]
     },
     "metadata": {},
     "output_type": "display_data"
    },
    {
     "data": {
      "application/vnd.jupyter.widget-view+json": {
       "model_id": "a9674fb71ced46dfa27bc95d9b58d0f7",
       "version_major": 2,
       "version_minor": 0
      },
      "text/plain": [
       "aia_lev1_304a_2011_01_01t00_10_08_12z_image_lev1.fits:   0%|          | 0.00/9.83M [00:00<?, ?B/s]"
      ]
     },
     "metadata": {},
     "output_type": "display_data"
    },
    {
     "data": {
      "application/vnd.jupyter.widget-view+json": {
       "model_id": "c3ae2ad7aab240368496bb8596659faa",
       "version_major": 2,
       "version_minor": 0
      },
      "text/plain": [
       "aia_lev1_304a_2011_01_01t00_10_20_12z_image_lev1.fits:   0%|          | 0.00/9.83M [00:00<?, ?B/s]"
      ]
     },
     "metadata": {},
     "output_type": "display_data"
    },
    {
     "data": {
      "application/vnd.jupyter.widget-view+json": {
       "model_id": "b7f2843bd52a4b7eb30623a8864fd8d4",
       "version_major": 2,
       "version_minor": 0
      },
      "text/plain": [
       "aia_lev1_304a_2011_01_01t00_10_44_12z_image_lev1.fits:   0%|          | 0.00/9.83M [00:00<?, ?B/s]"
      ]
     },
     "metadata": {},
     "output_type": "display_data"
    },
    {
     "data": {
      "application/vnd.jupyter.widget-view+json": {
       "model_id": "9c0c09e08fac46e6b097346d98d12400",
       "version_major": 2,
       "version_minor": 0
      },
      "text/plain": [
       "aia_lev1_304a_2011_01_01t00_10_56_12z_image_lev1.fits:   0%|          | 0.00/9.83M [00:00<?, ?B/s]"
      ]
     },
     "metadata": {},
     "output_type": "display_data"
    },
    {
     "data": {
      "application/vnd.jupyter.widget-view+json": {
       "model_id": "f4546eae582a4b8caf45c813192afbf1",
       "version_major": 2,
       "version_minor": 0
      },
      "text/plain": [
       "aia_lev1_304a_2011_01_01t00_11_08_13z_image_lev1.fits:   0%|          | 0.00/9.83M [00:00<?, ?B/s]"
      ]
     },
     "metadata": {},
     "output_type": "display_data"
    },
    {
     "data": {
      "application/vnd.jupyter.widget-view+json": {
       "model_id": "852051f8b8bf42de9058370a15a04468",
       "version_major": 2,
       "version_minor": 0
      },
      "text/plain": [
       "aia_lev1_304a_2011_01_01t00_11_20_14z_image_lev1.fits:   0%|          | 0.00/9.83M [00:00<?, ?B/s]"
      ]
     },
     "metadata": {},
     "output_type": "display_data"
    }
   ],
   "source": [
    "files = Fido.fetch(unifresp, path='.//data//AIA'\n",
    "                #    , max_conn=64\n",
    "                   )"
   ]
  },
  {
   "cell_type": "code",
   "execution_count": null,
   "id": "68256084",
   "metadata": {},
   "outputs": [],
   "source": []
  }
 ],
 "metadata": {
  "kernelspec": {
   "display_name": "Python 3 (ipykernel)",
   "language": "python",
   "name": "python3"
  },
  "language_info": {
   "codemirror_mode": {
    "name": "ipython",
    "version": 3
   },
   "file_extension": ".py",
   "mimetype": "text/x-python",
   "name": "python",
   "nbconvert_exporter": "python",
   "pygments_lexer": "ipython3",
   "version": "3.9.16"
  }
 },
 "nbformat": 4,
 "nbformat_minor": 5
}
