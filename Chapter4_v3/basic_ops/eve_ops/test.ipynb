{
 "cells": [
  {
   "cell_type": "code",
   "execution_count": 1,
   "metadata": {},
   "outputs": [],
   "source": [
    "import numpy as np\n",
    "import cupy as cp\n",
    "import cupyx.scipy.signal as signal\n",
    "import scipy\n",
    "import pandas as pd\n",
    "\n",
    "import matplotlib.pyplot as plt\n",
    "import plotly.express as px\n",
    "import plotly.graph_objs as go\n",
    "from plotly.subplots import make_subplots\n",
    "\n",
    "from astropy.modeling import models, fitting\n",
    "import astropy.units as u\n",
    "from astropy import constants as const\n",
    "from astropy.stats import gaussian_sigma_to_fwhm,gaussian_fwhm_to_sigma\n",
    "\n",
    "import datetime\n",
    "import pickle\n",
    "import importlib\n",
    "import json\n",
    "import time\n",
    "import glob\n",
    "\n",
    "from time_converter import time_converter\n",
    "from data.eve_const import wavelength_full,line_name,line_window,initial_guess\n",
    "from gaussian_fit_eve import gaussian_fit_eve\n"
   ]
  },
  {
   "cell_type": "code",
   "execution_count": 2,
   "metadata": {},
   "outputs": [],
   "source": [
    "band_index=0\n",
    "with open('./data/fit_10s/fit_10s_'+line_name[band_index]+'.pkl', 'rb') as file:\n",
    "        fit_df=pickle.load(file)\n",
    "\n",
    "    \n",
    "para_err=fit_df.apply(lambda x: np.sqrt(np.diag(x['pcov'])),axis=1)\n",
    "para=fit_df[['amplitude','mean','stddev']].apply(lambda row: np.array(row), axis=1)\n",
    "\n",
    "# create a df with para,para_err,time\n",
    "para_df=pd.DataFrame({'para':para,'para_err':para_err,'time':fit_df['time']})\n",
    "para_df=para_df.set_index('time')"
   ]
  },
  {
   "cell_type": "code",
   "execution_count": 18,
   "metadata": {},
   "outputs": [
    {
     "data": {
      "text/plain": [
       "12678120"
      ]
     },
     "execution_count": 18,
     "metadata": {},
     "output_type": "execute_result"
    }
   ],
   "source": [
    "para_df.__len__()"
   ]
  },
  {
   "cell_type": "code",
   "execution_count": 34,
   "metadata": {},
   "outputs": [],
   "source": [
    "para_df=c"
   ]
  },
  {
   "cell_type": "code",
   "execution_count": 30,
   "metadata": {},
   "outputs": [],
   "source": [
    "para_df=para_df[:2678120]"
   ]
  },
  {
   "cell_type": "code",
   "execution_count": 35,
   "metadata": {},
   "outputs": [],
   "source": [
    "# plot the fitting error of the 3 parameters\n",
    "fig,axs=plt.subplots(3,1,figsize=(10,8),sharex=True,)\n",
    "# axs[0].scatter(para_df['time'],np.stack(para_df['para'].values)[:, 0],marker='x',label='amplitude')\n",
    "axs[0].scatter(para_df.index,np.stack(para_df['para_err'].values)[:, 0],s=0.3,marker='x',label='amplitude_err')\n",
    "axs[0].set_ylabel('amplitude fit error')\n",
    "\n",
    "upper_percentile=np.nanpercentile(np.stack(para_df['para_err'].values)[:, 0],99.9)\n",
    "axs[0].set_ylim(0,4*upper_percentile)\n",
    "\n",
    "# axs[1].scatter(para_df['time'],np.stack(para_df['para'].values)[:, 1],marker='x',label='mean')\n",
    "axs[1].scatter(para_df.index,np.stack(para_df['para_err'].values)[:, 1],s=0.3,marker='x',label='mean_err')\n",
    "axs[1].set_ylabel('mean fit error')\n",
    "\n",
    "upper_percentile=np.nanpercentile(np.stack(para_df['para_err'].values)[:, 1],99)\n",
    "axs[1].set_ylim(0,3*upper_percentile)\n",
    "\n",
    "\n",
    "# axs[2].scatter(para_df['time'],np.stack(para_df['para'].values)[:, 2],marker='x',label='stddev')\n",
    "axs[2].scatter(para_df.index,np.stack(para_df['para_err'].values)[:, 2],s=0.3,marker='x',label='stddev_err')\n",
    "axs[2].set_ylabel('stddev fit error')\n",
    "\n",
    "upper_percentile=np.nanpercentile(np.stack(para_df['para_err'].values)[:, 2],99)\n",
    "axs[2].set_ylim(0,3*upper_percentile)\n",
    "\n",
    "axs[2].set_xlabel('Date')\n",
    "axs[0].set_title('EVE '+line_name[band_index]+': Gaussian Fit Error')\n",
    "axs[0].set_xlim(para_df.index[0],para_df.index[-1])\n",
    "plt.tight_layout()\n",
    "plt.savefig('output/cadence_10s/fitting_error/fit_err_'+line_name[band_index]+'.png')\n",
    "# close the figure\n",
    "plt.close(fig)"
   ]
  },
  {
   "cell_type": "code",
   "execution_count": 8,
   "metadata": {},
   "outputs": [
    {
     "data": {
      "text/plain": [
       "(array([ 0.,  0.,  0.,  0.,  0.,  0.,  0.,  0.,  0.,  0.,  0.,  0.,  0.,\n",
       "         0.,  0., 82.,  0.,  0.,  0.,  0.,  0.,  0.,  0.,  0.,  0.,  0.,\n",
       "         0.,  0.,  0.,  0.,  0.,  0.,  0.,  0.,  0.,  0.,  0.,  0.,  0.,\n",
       "         0.,  0.,  0.,  0.,  0.,  0.,  0.,  0.,  0.,  0.,  0.,  0.,  0.,\n",
       "         0.,  0.,  0.,  0.,  0.,  0.,  0.,  0.,  0.,  0.,  0.,  0.,  0.,\n",
       "         0.,  0.,  0.,  0.,  0.,  0.,  0.,  0.,  0.,  0.,  0.,  0.,  0.,\n",
       "         0.,  0.,  0.,  0.,  0.,  0.,  0.,  0.,  0.,  0.,  0.,  0.,  0.,\n",
       "         0.,  0.,  0.,  0.,  0.,  0.,  0.,  0.,  0.]),\n",
       " array([0.0e+00, 1.0e-12, 2.0e-12, 3.0e-12, 4.0e-12, 5.0e-12, 6.0e-12,\n",
       "        7.0e-12, 8.0e-12, 9.0e-12, 1.0e-11, 1.1e-11, 1.2e-11, 1.3e-11,\n",
       "        1.4e-11, 1.5e-11, 1.6e-11, 1.7e-11, 1.8e-11, 1.9e-11, 2.0e-11,\n",
       "        2.1e-11, 2.2e-11, 2.3e-11, 2.4e-11, 2.5e-11, 2.6e-11, 2.7e-11,\n",
       "        2.8e-11, 2.9e-11, 3.0e-11, 3.1e-11, 3.2e-11, 3.3e-11, 3.4e-11,\n",
       "        3.5e-11, 3.6e-11, 3.7e-11, 3.8e-11, 3.9e-11, 4.0e-11, 4.1e-11,\n",
       "        4.2e-11, 4.3e-11, 4.4e-11, 4.5e-11, 4.6e-11, 4.7e-11, 4.8e-11,\n",
       "        4.9e-11, 5.0e-11, 5.1e-11, 5.2e-11, 5.3e-11, 5.4e-11, 5.5e-11,\n",
       "        5.6e-11, 5.7e-11, 5.8e-11, 5.9e-11, 6.0e-11, 6.1e-11, 6.2e-11,\n",
       "        6.3e-11, 6.4e-11, 6.5e-11, 6.6e-11, 6.7e-11, 6.8e-11, 6.9e-11,\n",
       "        7.0e-11, 7.1e-11, 7.2e-11, 7.3e-11, 7.4e-11, 7.5e-11, 7.6e-11,\n",
       "        7.7e-11, 7.8e-11, 7.9e-11, 8.0e-11, 8.1e-11, 8.2e-11, 8.3e-11,\n",
       "        8.4e-11, 8.5e-11, 8.6e-11, 8.7e-11, 8.8e-11, 8.9e-11, 9.0e-11,\n",
       "        9.1e-11, 9.2e-11, 9.3e-11, 9.4e-11, 9.5e-11, 9.6e-11, 9.7e-11,\n",
       "        9.8e-11, 9.9e-11, 1.0e-10]),\n",
       " <BarContainer object of 100 artists>)"
      ]
     },
     "execution_count": 8,
     "metadata": {},
     "output_type": "execute_result"
    },
    {
     "data": {
      "image/png": "[encoded data removed]",
      "text/plain": [
       "<Figure size 640x480 with 1 Axes>"
      ]
     },
     "metadata": {},
     "output_type": "display_data"
    }
   ],
   "source": [
    "# plot a histogram of np.stack(para_df['para_err'].values)[:, 2]\n",
    "a=np.stack(para_df['para_err'].values)[:, 2]\n",
    "a=a[np.isfinite(a)]\n",
    "fig,ax=plt.subplots()\n",
    "ax.hist(a,bins=100,range=(0,1e-10))"
   ]
  },
  {
   "cell_type": "code",
   "execution_count": 13,
   "metadata": {},
   "outputs": [
    {
     "data": {
      "text/plain": [
       "(array([9.100000e+01, 4.600000e+01, 3.400000e+01, 4.200000e+01,\n",
       "        3.300000e+01, 2.700000e+01, 2.500000e+01, 3.300000e+01,\n",
       "        2.500000e+01, 2.400000e+01, 2.100000e+01, 2.100000e+01,\n",
       "        2.400000e+01, 2.500000e+01, 2.300000e+01, 2.600000e+01,\n",
       "        2.500000e+01, 2.300000e+01, 2.900000e+01, 2.900000e+01,\n",
       "        2.000000e+01, 2.700000e+01, 2.500000e+01, 3.400000e+01,\n",
       "        3.900000e+01, 2.200000e+01, 5.300000e+01, 7.600000e+01,\n",
       "        2.340000e+02, 1.610000e+03, 9.767000e+03, 4.263800e+04,\n",
       "        1.307150e+05, 2.851130e+05, 4.516140e+05, 5.370320e+05,\n",
       "        5.038020e+05, 4.193170e+05, 3.732420e+05, 4.021010e+05,\n",
       "        4.923690e+05, 6.120170e+05, 7.410390e+05, 8.702490e+05,\n",
       "        9.697130e+05, 1.004425e+06, 9.675370e+05, 8.820160e+05,\n",
       "        7.665280e+05, 6.341390e+05, 4.889690e+05, 3.404160e+05,\n",
       "        2.133480e+05, 1.179810e+05, 5.747400e+04, 2.479100e+04,\n",
       "        9.285000e+03, 3.348000e+03, 1.227000e+03, 6.310000e+02,\n",
       "        4.210000e+02, 3.240000e+02, 2.450000e+02, 2.530000e+02,\n",
       "        2.370000e+02, 2.120000e+02, 1.890000e+02, 1.760000e+02,\n",
       "        1.900000e+02, 1.900000e+02, 1.610000e+02, 1.510000e+02,\n",
       "        1.270000e+02, 1.360000e+02, 1.490000e+02, 1.300000e+02,\n",
       "        1.340000e+02, 1.290000e+02, 1.200000e+02, 1.250000e+02,\n",
       "        9.700000e+01, 1.270000e+02, 1.010000e+02, 1.110000e+02,\n",
       "        1.230000e+02, 1.080000e+02, 9.000000e+01, 9.700000e+01,\n",
       "        1.020000e+02, 1.000000e+02, 8.700000e+01, 9.200000e+01,\n",
       "        1.050000e+02, 8.900000e+01, 8.500000e+01, 1.040000e+02,\n",
       "        6.900000e+01, 7.800000e+01, 6.600000e+01, 9.200000e+01]),\n",
       " array([0.00e+00, 2.00e-05, 4.00e-05, 6.00e-05, 8.00e-05, 1.00e-04,\n",
       "        1.20e-04, 1.40e-04, 1.60e-04, 1.80e-04, 2.00e-04, 2.20e-04,\n",
       "        2.40e-04, 2.60e-04, 2.80e-04, 3.00e-04, 3.20e-04, 3.40e-04,\n",
       "        3.60e-04, 3.80e-04, 4.00e-04, 4.20e-04, 4.40e-04, 4.60e-04,\n",
       "        4.80e-04, 5.00e-04, 5.20e-04, 5.40e-04, 5.60e-04, 5.80e-04,\n",
       "        6.00e-04, 6.20e-04, 6.40e-04, 6.60e-04, 6.80e-04, 7.00e-04,\n",
       "        7.20e-04, 7.40e-04, 7.60e-04, 7.80e-04, 8.00e-04, 8.20e-04,\n",
       "        8.40e-04, 8.60e-04, 8.80e-04, 9.00e-04, 9.20e-04, 9.40e-04,\n",
       "        9.60e-04, 9.80e-04, 1.00e-03, 1.02e-03, 1.04e-03, 1.06e-03,\n",
       "        1.08e-03, 1.10e-03, 1.12e-03, 1.14e-03, 1.16e-03, 1.18e-03,\n",
       "        1.20e-03, 1.22e-03, 1.24e-03, 1.26e-03, 1.28e-03, 1.30e-03,\n",
       "        1.32e-03, 1.34e-03, 1.36e-03, 1.38e-03, 1.40e-03, 1.42e-03,\n",
       "        1.44e-03, 1.46e-03, 1.48e-03, 1.50e-03, 1.52e-03, 1.54e-03,\n",
       "        1.56e-03, 1.58e-03, 1.60e-03, 1.62e-03, 1.64e-03, 1.66e-03,\n",
       "        1.68e-03, 1.70e-03, 1.72e-03, 1.74e-03, 1.76e-03, 1.78e-03,\n",
       "        1.80e-03, 1.82e-03, 1.84e-03, 1.86e-03, 1.88e-03, 1.90e-03,\n",
       "        1.92e-03, 1.94e-03, 1.96e-03, 1.98e-03, 2.00e-03]),\n",
       " <BarContainer object of 100 artists>)"
      ]
     },
     "execution_count": 13,
     "metadata": {},
     "output_type": "execute_result"
    },
    {
     "data": {
      "image/png": "[encoded data removed]",
      "text/plain": [
       "<Figure size 640x480 with 1 Axes>"
      ]
     },
     "metadata": {},
     "output_type": "display_data"
    }
   ],
   "source": [
    "a=np.stack(para_df['para_err'].values)[:, 1]\n",
    "a=a[np.isfinite(a)]\n",
    "fig,ax=plt.subplots()\n",
    "ax.hist(a,bins=100,range=(0,2e-3))"
   ]
  },
  {
   "cell_type": "code",
   "execution_count": 10,
   "metadata": {},
   "outputs": [
    {
     "data": {
      "text/plain": [
       "array([0.00075072, 0.00073955, 0.00073565, ..., 0.00091243, 0.00095476,\n",
       "       0.00090223])"
      ]
     },
     "execution_count": 10,
     "metadata": {},
     "output_type": "execute_result"
    }
   ],
   "source": [
    "a"
   ]
  },
  {
   "cell_type": "code",
   "execution_count": 15,
   "metadata": {},
   "outputs": [
    {
     "data": {
      "text/plain": [
       "12396828"
      ]
     },
     "execution_count": 15,
     "metadata": {},
     "output_type": "execute_result"
    }
   ],
   "source": [
    "a.size"
   ]
  },
  {
   "cell_type": "code",
   "execution_count": 16,
   "metadata": {},
   "outputs": [
    {
     "data": {
      "text/plain": [
       "7.09331057561999"
      ]
     },
     "execution_count": 16,
     "metadata": {},
     "output_type": "execute_result"
    }
   ],
   "source": [
    "np.log10(a.size)"
   ]
  },
  {
   "cell_type": "code",
   "execution_count": null,
   "metadata": {},
   "outputs": [],
   "source": []
  }
 ],
 "metadata": {
  "kernelspec": {
   "display_name": "sdo2022",
   "language": "python",
   "name": "python3"
  },
  "language_info": {
   "codemirror_mode": {
    "name": "ipython",
    "version": 3
   },
   "file_extension": ".py",
   "mimetype": "text/x-python",
   "name": "python",
   "nbconvert_exporter": "python",
   "pygments_lexer": "ipython3",
   "version": "3.9.16"
  }
 },
 "nbformat": 4,
 "nbformat_minor": 2
}
