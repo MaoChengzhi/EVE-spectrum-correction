{
 "cells": [
  {
   "cell_type": "code",
   "execution_count": 1,
   "id": "8fef4ec6-be8a-4043-8f3a-97edff6a5c2e",
   "metadata": {},
   "outputs": [],
   "source": [
    "from sunpy.net import Fido, attrs as a\n",
    "import astropy.units as u"
   ]
  },
  {
   "cell_type": "markdown",
   "id": "421ce60e-0404-4663-b2de-9b7066868624",
   "metadata": {
    "tags": []
   },
   "source": [
    "## download AIA "
   ]
  },
  {
   "cell_type": "code",
   "execution_count": 2,
   "id": "185f3711-6543-432c-89e3-0072439a66b6",
   "metadata": {
    "collapsed": true,
    "jupyter": {
     "outputs_hidden": true
    },
    "tags": []
   },
   "outputs": [
    {
     "data": {
      "text/html": [
       "Results from 1 Provider:</br></br>1460 Results from the VSOClient:</br><div><i>VSOQueryResponseTable length=1460</i>\n",
       "<table id=\"table2272177997424\" class=\"table-striped table-bordered table-condensed\">\n",
       "<thead><tr><th>Start Time</th><th>End Time</th><th>Source</th><th>Instrument</th><th>Wavelength</th><th>Provider</th><th>Physobs</th><th>Wavetype</th><th>Extent Width</th><th>Extent Length</th><th>Extent Type</th><th>Size</th></tr></thead>\n",
       "<thead><tr><th></th><th></th><th></th><th></th><th>Angstrom</th><th></th><th></th><th></th><th></th><th></th><th></th><th>Mibyte</th></tr></thead>\n",
       "<thead><tr><th>Time</th><th>Time</th><th>str3</th><th>str3</th><th>float64[2]</th><th>str4</th><th>str9</th><th>str6</th><th>str4</th><th>str4</th><th>str8</th><th>float64</th></tr></thead>\n",
       "<tr><td>2010-06-01 00:00:08.000</td><td>2010-06-01 00:00:09.000</td><td>SDO</td><td>AIA</td><td>304.0 .. 304.0</td><td>JSOC</td><td>intensity</td><td>NARROW</td><td>4096</td><td>4096</td><td>FULLDISK</td><td>64.64844</td></tr>\n",
       "<tr><td>2010-06-02 00:05:38.000</td><td>2010-06-02 00:05:39.000</td><td>SDO</td><td>AIA</td><td>304.0 .. 304.0</td><td>JSOC</td><td>intensity</td><td>NARROW</td><td>4096</td><td>4096</td><td>FULLDISK</td><td>64.64844</td></tr>\n",
       "<tr><td>2010-06-03 00:00:02.000</td><td>2010-06-03 00:00:03.000</td><td>SDO</td><td>AIA</td><td>304.0 .. 304.0</td><td>JSOC</td><td>intensity</td><td>NARROW</td><td>4096</td><td>4096</td><td>FULLDISK</td><td>64.64844</td></tr>\n",
       "<tr><td>2010-06-04 00:00:02.000</td><td>2010-06-04 00:00:03.000</td><td>SDO</td><td>AIA</td><td>304.0 .. 304.0</td><td>JSOC</td><td>intensity</td><td>NARROW</td><td>4096</td><td>4096</td><td>FULLDISK</td><td>64.64844</td></tr>\n",
       "<tr><td>2010-06-05 00:00:05.000</td><td>2010-06-05 00:00:06.000</td><td>SDO</td><td>AIA</td><td>304.0 .. 304.0</td><td>JSOC</td><td>intensity</td><td>NARROW</td><td>4096</td><td>4096</td><td>FULLDISK</td><td>64.64844</td></tr>\n",
       "<tr><td>2010-06-06 00:00:05.000</td><td>2010-06-06 00:00:06.000</td><td>SDO</td><td>AIA</td><td>304.0 .. 304.0</td><td>JSOC</td><td>intensity</td><td>NARROW</td><td>4096</td><td>4096</td><td>FULLDISK</td><td>64.64844</td></tr>\n",
       "<tr><td>2010-06-07 00:00:05.000</td><td>2010-06-07 00:00:06.000</td><td>SDO</td><td>AIA</td><td>304.0 .. 304.0</td><td>JSOC</td><td>intensity</td><td>NARROW</td><td>4096</td><td>4096</td><td>FULLDISK</td><td>64.64844</td></tr>\n",
       "<tr><td>2010-06-08 00:00:05.000</td><td>2010-06-08 00:00:06.000</td><td>SDO</td><td>AIA</td><td>304.0 .. 304.0</td><td>JSOC</td><td>intensity</td><td>NARROW</td><td>4096</td><td>4096</td><td>FULLDISK</td><td>64.64844</td></tr>\n",
       "<tr><td>2010-06-09 00:00:05.000</td><td>2010-06-09 00:00:06.000</td><td>SDO</td><td>AIA</td><td>304.0 .. 304.0</td><td>JSOC</td><td>intensity</td><td>NARROW</td><td>4096</td><td>4096</td><td>FULLDISK</td><td>64.64844</td></tr>\n",
       "<tr><td>...</td><td>...</td><td>...</td><td>...</td><td>...</td><td>...</td><td>...</td><td>...</td><td>...</td><td>...</td><td>...</td><td>...</td></tr>\n",
       "<tr><td>2014-05-22 00:00:07.000</td><td>2014-05-22 00:00:08.000</td><td>SDO</td><td>AIA</td><td>304.0 .. 304.0</td><td>JSOC</td><td>intensity</td><td>NARROW</td><td>4096</td><td>4096</td><td>FULLDISK</td><td>64.64844</td></tr>\n",
       "<tr><td>2014-05-23 00:00:07.000</td><td>2014-05-23 00:00:08.000</td><td>SDO</td><td>AIA</td><td>304.0 .. 304.0</td><td>JSOC</td><td>intensity</td><td>NARROW</td><td>4096</td><td>4096</td><td>FULLDISK</td><td>64.64844</td></tr>\n",
       "<tr><td>2014-05-24 00:00:07.000</td><td>2014-05-24 00:00:08.000</td><td>SDO</td><td>AIA</td><td>304.0 .. 304.0</td><td>JSOC</td><td>intensity</td><td>NARROW</td><td>4096</td><td>4096</td><td>FULLDISK</td><td>64.64844</td></tr>\n",
       "<tr><td>2014-05-25 00:00:07.000</td><td>2014-05-25 00:00:08.000</td><td>SDO</td><td>AIA</td><td>304.0 .. 304.0</td><td>JSOC</td><td>intensity</td><td>NARROW</td><td>4096</td><td>4096</td><td>FULLDISK</td><td>64.64844</td></tr>\n",
       "<tr><td>2014-05-26 00:00:07.000</td><td>2014-05-26 00:00:08.000</td><td>SDO</td><td>AIA</td><td>304.0 .. 304.0</td><td>JSOC</td><td>intensity</td><td>NARROW</td><td>4096</td><td>4096</td><td>FULLDISK</td><td>64.64844</td></tr>\n",
       "<tr><td>2014-05-27 00:00:07.000</td><td>2014-05-27 00:00:08.000</td><td>SDO</td><td>AIA</td><td>304.0 .. 304.0</td><td>JSOC</td><td>intensity</td><td>NARROW</td><td>4096</td><td>4096</td><td>FULLDISK</td><td>64.64844</td></tr>\n",
       "<tr><td>2014-05-28 00:00:07.000</td><td>2014-05-28 00:00:08.000</td><td>SDO</td><td>AIA</td><td>304.0 .. 304.0</td><td>JSOC</td><td>intensity</td><td>NARROW</td><td>4096</td><td>4096</td><td>FULLDISK</td><td>64.64844</td></tr>\n",
       "<tr><td>2014-05-29 00:00:07.000</td><td>2014-05-29 00:00:08.000</td><td>SDO</td><td>AIA</td><td>304.0 .. 304.0</td><td>JSOC</td><td>intensity</td><td>NARROW</td><td>4096</td><td>4096</td><td>FULLDISK</td><td>64.64844</td></tr>\n",
       "<tr><td>2014-05-30 00:00:07.000</td><td>2014-05-30 00:00:08.000</td><td>SDO</td><td>AIA</td><td>304.0 .. 304.0</td><td>JSOC</td><td>intensity</td><td>NARROW</td><td>4096</td><td>4096</td><td>FULLDISK</td><td>64.64844</td></tr>\n",
       "<tr><td>2014-05-31 00:00:07.000</td><td>2014-05-31 00:00:08.000</td><td>SDO</td><td>AIA</td><td>304.0 .. 304.0</td><td>JSOC</td><td>intensity</td><td>NARROW</td><td>4096</td><td>4096</td><td>FULLDISK</td><td>64.64844</td></tr>\n",
       "</table></div></br>"
      ],
      "text/plain": [
       "<sunpy.net.fido_factory.UnifiedResponse object at 0x0000021100D145B0>\n",
       "Results from 1 Provider:\n",
       "\n",
       "1460 Results from the VSOClient:\n",
       "Source: http://vso.stanford.edu/cgi-bin/search\n",
       "Total estimated size: 98.972 Gbyte\n",
       "\n",
       "       Start Time               End Time        Source ... Extent Type   Size  \n",
       "                                                       ...              Mibyte \n",
       "----------------------- ----------------------- ------ ... ----------- --------\n",
       "2010-06-01 00:00:08.000 2010-06-01 00:00:09.000    SDO ...    FULLDISK 64.64844\n",
       "2010-06-02 00:05:38.000 2010-06-02 00:05:39.000    SDO ...    FULLDISK 64.64844\n",
       "2010-06-03 00:00:02.000 2010-06-03 00:00:03.000    SDO ...    FULLDISK 64.64844\n",
       "2010-06-04 00:00:02.000 2010-06-04 00:00:03.000    SDO ...    FULLDISK 64.64844\n",
       "2010-06-05 00:00:05.000 2010-06-05 00:00:06.000    SDO ...    FULLDISK 64.64844\n",
       "2010-06-06 00:00:05.000 2010-06-06 00:00:06.000    SDO ...    FULLDISK 64.64844\n",
       "2010-06-07 00:00:05.000 2010-06-07 00:00:06.000    SDO ...    FULLDISK 64.64844\n",
       "2010-06-08 00:00:05.000 2010-06-08 00:00:06.000    SDO ...    FULLDISK 64.64844\n",
       "2010-06-09 00:00:05.000 2010-06-09 00:00:06.000    SDO ...    FULLDISK 64.64844\n",
       "2010-06-10 00:00:05.000 2010-06-10 00:00:06.000    SDO ...    FULLDISK 64.64844\n",
       "                    ...                     ...    ... ...         ...      ...\n",
       "2014-05-22 00:00:07.000 2014-05-22 00:00:08.000    SDO ...    FULLDISK 64.64844\n",
       "2014-05-23 00:00:07.000 2014-05-23 00:00:08.000    SDO ...    FULLDISK 64.64844\n",
       "2014-05-24 00:00:07.000 2014-05-24 00:00:08.000    SDO ...    FULLDISK 64.64844\n",
       "2014-05-25 00:00:07.000 2014-05-25 00:00:08.000    SDO ...    FULLDISK 64.64844\n",
       "2014-05-26 00:00:07.000 2014-05-26 00:00:08.000    SDO ...    FULLDISK 64.64844\n",
       "2014-05-27 00:00:07.000 2014-05-27 00:00:08.000    SDO ...    FULLDISK 64.64844\n",
       "2014-05-28 00:00:07.000 2014-05-28 00:00:08.000    SDO ...    FULLDISK 64.64844\n",
       "2014-05-29 00:00:07.000 2014-05-29 00:00:08.000    SDO ...    FULLDISK 64.64844\n",
       "2014-05-30 00:00:07.000 2014-05-30 00:00:08.000    SDO ...    FULLDISK 64.64844\n",
       "2014-05-31 00:00:07.000 2014-05-31 00:00:08.000    SDO ...    FULLDISK 64.64844\n",
       "Length = 1460 rows\n"
      ]
     },
     "execution_count": 2,
     "metadata": {},
     "output_type": "execute_result"
    }
   ],
   "source": [
    "obs_start =\"2010-06-01T00:00:00\"\n",
    "obs_end =  \"2014-06-01T00:00:00\"\n",
    "obs_time = a.Time(obs_start, obs_end)\n",
    "\n",
    "unifresp = Fido.search(obs_time,a.Instrument.aia,a.Wavelength(304*u.angstrom),a.Sample(24*60*u.min)\n",
    "                        )  \n",
    "unifresp"
   ]
  },
  {
   "cell_type": "code",
   "execution_count": 4,
   "id": "a1d00348-2811-43c5-852d-e6bbffe90e54",
   "metadata": {
    "tags": []
   },
   "outputs": [
    {
     "data": {
      "application/vnd.jupyter.widget-view+json": {
       "model_id": "82a2075b1d87463f91b599582eaddc31",
       "version_major": 2,
       "version_minor": 0
      },
      "text/plain": [
       "Files Downloaded:   0%|          | 0/1460 [00:00<?, ?file/s]"
      ]
     },
     "metadata": {},
     "output_type": "display_data"
    },
    {
     "data": {
      "application/vnd.jupyter.widget-view+json": {
       "model_id": "",
       "version_major": 2,
       "version_minor": 0
      },
      "text/plain": [
       "aia_lev1_304a_2014_03_25t00_00_07_14z_image_lev1.fits:   0%|          | 0.00/8.84M [00:00<?, ?B/s]"
      ]
     },
     "metadata": {},
     "output_type": "display_data"
    },
    {
     "data": {
      "application/vnd.jupyter.widget-view+json": {
       "model_id": "",
       "version_major": 2,
       "version_minor": 0
      },
      "text/plain": [
       "aia_lev1_304a_2014_03_24t00_00_07_12z_image_lev1.fits:   0%|          | 0.00/8.85M [00:00<?, ?B/s]"
      ]
     },
     "metadata": {},
     "output_type": "display_data"
    },
    {
     "data": {
      "application/vnd.jupyter.widget-view+json": {
       "model_id": "",
       "version_major": 2,
       "version_minor": 0
      },
      "text/plain": [
       "aia_lev1_304a_2014_03_28t00_00_07_14z_image_lev1.fits:   0%|          | 0.00/8.82M [00:00<?, ?B/s]"
      ]
     },
     "metadata": {},
     "output_type": "display_data"
    },
    {
     "data": {
      "application/vnd.jupyter.widget-view+json": {
       "model_id": "",
       "version_major": 2,
       "version_minor": 0
      },
      "text/plain": [
       "aia_lev1_304a_2014_03_29t00_00_07_13z_image_lev1.fits:   0%|          | 0.00/8.83M [00:00<?, ?B/s]"
      ]
     },
     "metadata": {},
     "output_type": "display_data"
    },
    {
     "data": {
      "application/vnd.jupyter.widget-view+json": {
       "model_id": "",
       "version_major": 2,
       "version_minor": 0
      },
      "text/plain": [
       "aia_lev1_304a_2014_03_30t00_00_07_12z_image_lev1.fits:   0%|          | 0.00/8.81M [00:00<?, ?B/s]"
      ]
     },
     "metadata": {},
     "output_type": "display_data"
    },
    {
     "data": {
      "application/vnd.jupyter.widget-view+json": {
       "model_id": "",
       "version_major": 2,
       "version_minor": 0
      },
      "text/plain": [
       "aia_lev1_304a_2014_05_21t00_00_07_12z_image_lev1.fits:   0%|          | 0.00/8.57M [00:00<?, ?B/s]"
      ]
     },
     "metadata": {},
     "output_type": "display_data"
    }
   ],
   "source": [
    "files = Fido.fetch(unifresp, path='data/AIA', max_conn=64)"
   ]
  }
 ],
 "metadata": {
  "kernelspec": {
   "display_name": "Python 3 (ipykernel)",
   "language": "python",
   "name": "python3"
  },
  "language_info": {
   "codemirror_mode": {
    "name": "ipython",
    "version": 3
   },
   "file_extension": ".py",
   "mimetype": "text/x-python",
   "name": "python",
   "nbconvert_exporter": "python",
   "pygments_lexer": "ipython3",
   "version": "3.9.16"
  }
 },
 "nbformat": 4,
 "nbformat_minor": 5
}
