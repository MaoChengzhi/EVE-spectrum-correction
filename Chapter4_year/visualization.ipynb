{
 "cells": [
  {
   "cell_type": "markdown",
   "id": "2171eafa-3026-4699-bed6-a49cafe7c6ac",
   "metadata": {},
   "source": [
    "# ABCDE"
   ]
  },
  {
   "cell_type": "markdown",
   "id": "0e5486d1-1839-4083-be82-f7b5726bef4f",
   "metadata": {},
   "source": [
    "初值\n",
    "x0 = np.array([  1.47934512e+03 , 1.91194587e-02 , 4.41389562e+02 , 7.18964274e-01, -1.56462104e-02])\n"
   ]
  }
 ],
 "metadata": {
  "kernelspec": {
   "display_name": "Python 3 (ipykernel)",
   "language": "python",
   "name": "python3"
  },
  "language_info": {
   "codemirror_mode": {
    "name": "ipython",
    "version": 3
   },
   "file_extension": ".py",
   "mimetype": "text/x-python",
   "name": "python",
   "nbconvert_exporter": "python",
   "pygments_lexer": "ipython3",
   "version": "3.9.16"
  }
 },
 "nbformat": 4,
 "nbformat_minor": 5
}
